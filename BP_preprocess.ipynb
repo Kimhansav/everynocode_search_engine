{
  "cells": [
    {
      "cell_type": "markdown",
      "metadata": {
        "id": "view-in-github",
        "colab_type": "text"
      },
      "source": [
        "<a href=\"https://colab.research.google.com/github/Kimhansav/everynocode_search_engine/blob/main/BP_preprocess.ipynb\" target=\"_parent\"><img src=\"https://colab.research.google.com/assets/colab-badge.svg\" alt=\"Open In Colab\"/></a>"
      ]
    },
    {
      "cell_type": "code",
      "execution_count": null,
      "metadata": {
        "id": "CDyGi8SZgC7Y"
      },
      "outputs": [],
      "source": [
        "#모두의노코드 게시글, 한국 버블 사용자 커뮤니티 오픈톡방 내용 전처리 코드(로컬)"
      ]
    },
    {
      "cell_type": "code",
      "execution_count": 1,
      "metadata": {
        "colab": {
          "base_uri": "https://localhost:8080/"
        },
        "id": "xYQtFriCRJK1",
        "outputId": "1fa68895-95c1-42db-c5b1-a6416b8387cf"
      },
      "outputs": [
        {
          "output_type": "stream",
          "name": "stdout",
          "text": [
            "Collecting soynlp\n",
            "  Downloading soynlp-0.0.493-py3-none-any.whl (416 kB)\n",
            "\u001b[?25l     \u001b[90m━━━━━━━━━━━━━━━━━━━━━━━━━━━━━━━━━━━━━━━━\u001b[0m \u001b[32m0.0/416.8 kB\u001b[0m \u001b[31m?\u001b[0m eta \u001b[36m-:--:--\u001b[0m\r\u001b[2K     \u001b[91m━━━━━\u001b[0m\u001b[91m╸\u001b[0m\u001b[90m━━━━━━━━━━━━━━━━━━━━━━━━━━━━━━━━━━\u001b[0m \u001b[32m61.4/416.8 kB\u001b[0m \u001b[31m1.6 MB/s\u001b[0m eta \u001b[36m0:00:01\u001b[0m\r\u001b[2K     \u001b[91m━━━━━━━━━━━━━━━━━━━━━━━━━━━━━━━━━━━━━━━\u001b[0m\u001b[90m╺\u001b[0m \u001b[32m409.6/416.8 kB\u001b[0m \u001b[31m5.9 MB/s\u001b[0m eta \u001b[36m0:00:01\u001b[0m\r\u001b[2K     \u001b[90m━━━━━━━━━━━━━━━━━━━━━━━━━━━━━━━━━━━━━━━━\u001b[0m \u001b[32m416.8/416.8 kB\u001b[0m \u001b[31m4.9 MB/s\u001b[0m eta \u001b[36m0:00:00\u001b[0m\n",
            "\u001b[?25hRequirement already satisfied: numpy>=1.12.1 in /usr/local/lib/python3.10/dist-packages (from soynlp) (1.25.2)\n",
            "Requirement already satisfied: psutil>=5.0.1 in /usr/local/lib/python3.10/dist-packages (from soynlp) (5.9.5)\n",
            "Requirement already satisfied: scipy>=1.1.0 in /usr/local/lib/python3.10/dist-packages (from soynlp) (1.11.4)\n",
            "Requirement already satisfied: scikit-learn>=0.20.0 in /usr/local/lib/python3.10/dist-packages (from soynlp) (1.2.2)\n",
            "Requirement already satisfied: joblib>=1.1.1 in /usr/local/lib/python3.10/dist-packages (from scikit-learn>=0.20.0->soynlp) (1.4.0)\n",
            "Requirement already satisfied: threadpoolctl>=2.0.0 in /usr/local/lib/python3.10/dist-packages (from scikit-learn>=0.20.0->soynlp) (3.4.0)\n",
            "Installing collected packages: soynlp\n",
            "Successfully installed soynlp-0.0.493\n"
          ]
        }
      ],
      "source": [
        "!pip install soynlp\n",
        "import pandas as pd\n",
        "import numpy as np\n",
        "import re\n",
        "import os\n",
        "import tensorflow as tf\n",
        "import urllib.request\n",
        "from tqdm import tqdm\n",
        "from transformers import shape_list, BertTokenizer, TFBertModel\n",
        "from tensorflow.keras.callbacks import EarlyStopping\n",
        "from tensorflow.keras.preprocessing.sequence import pad_sequences\n"
      ]
    },
    {
      "cell_type": "markdown",
      "metadata": {
        "id": "t7Kt3UmkFB7V"
      },
      "source": [
        "## 카카오톡 대화내용 전처리"
      ]
    },
    {
      "cell_type": "code",
      "execution_count": 2,
      "metadata": {
        "colab": {
          "base_uri": "https://localhost:8080/"
        },
        "id": "3HpCDFSRgVjT",
        "outputId": "e3c23d46-b2a4-4479-da50-17c7ba8aff0a"
      },
      "outputs": [
        {
          "output_type": "stream",
          "name": "stdout",
          "text": [
            "Mounted at /content/drive\n"
          ]
        }
      ],
      "source": [
        "#카카오톡 텍스트 로드 후 정규표현식으로 메시지 구분\n",
        "#C:\\Users\\벅성현\\Desktop\n",
        "from google.colab import drive\n",
        "drive.mount('/content/drive')\n",
        "file_path = '/content/drive/My Drive/KakaoTalkChats-1.txt'\n",
        "with open(file_path, 'r', encoding = 'utf-8') as f:\n",
        "  file_content = f.read()\n",
        "  # \"https\"를 포함하는 모든 링크 삭제(https 발견 시 그 다음에 나타나는 공백 바로 전까지의 문자열을 링크로 간주)\n",
        "  file_content = re.sub(r'https?:\\/\\/\\S+', '', file_content)"
      ]
    },
    {
      "cell_type": "code",
      "execution_count": null,
      "metadata": {
        "id": "WTDY9jsMdChX"
      },
      "outputs": [],
      "source": [
        "date_pattern = re.compile(r'\\d{4}년 \\d{1,2}월 \\d{1,2}일')\n",
        "\n",
        "def split_messages_by_date(text):\n",
        "    # 날짜 위치를 찾아 리스트로 저장\n",
        "    dates = [match.start() for match in date_pattern.finditer(text)]\n",
        "    messages = []\n",
        "    send_dates = []\n",
        "\n",
        "    # 각 날짜 위치를 기준으로 메시지 분리\n",
        "    for i in range(len(dates)):\n",
        "        start = dates[i]\n",
        "        # 마지막 날짜라면, 텍스트의 끝까지를 메시지로 추출\n",
        "        end = dates[i + 1] if i + 1 < len(dates) else len(text)\n",
        "        message = text[start:end].strip()\n",
        "        idx_dot = message.find(':') #시간 사이에 있는 : 위치 찾아내기\n",
        "        idx_comma, idx_dot = message.find(','), message.find(':', idx_dot + 1)\n",
        "        if (idx_dot == -1): #누군가 메시지를 보낸 줄이 아닌 경우를 모두 포함, 이때는 메시지를 추가하지 않고 넘어간다.\n",
        "          continue\n",
        "        else:\n",
        "          #메시지 보낸 사람, 메시지 내용, 보낸 날짜로 message 구성\n",
        "          message = [message[idx_comma + 1 : idx_dot - 1], message[idx_dot + 1 :], message[0 : idx_comma]]\n",
        "        messages.append(message)\n",
        "\n",
        "    return messages\n",
        "\n",
        "messages = split_messages_by_date(file_content)\n",
        "print(messages[:5])"
      ]
    },
    {
      "cell_type": "code",
      "execution_count": 3,
      "metadata": {
        "id": "SUcTkr5uB3uW"
      },
      "outputs": [],
      "source": [
        "#메시지에 유니코드에 해당하는 이모티콘이 포함되어 있으면 삭제하는 함수\n",
        "def remove_emojis(text):\n",
        "    # 이모티콘에 해당하는 유니코드 패턴\n",
        "    emoji_pattern = re.compile(\"[\"\n",
        "                               \"\\U0001F600-\\U0001F64F\"  # emoticons\n",
        "                               \"]+\", flags=re.UNICODE)\n",
        "    return emoji_pattern.sub(r'', text)"
      ]
    },
    {
      "cell_type": "code",
      "execution_count": 7,
      "metadata": {
        "id": "aIvf4c8lB5-x"
      },
      "outputs": [],
      "source": [
        "# '@이름' 제거 함수\n",
        "def remove_names(text):\n",
        "  for name in names:\n",
        "    text = re.sub(r'@' + re.escape(name[1:]), '', text) #df['name'] 열을 보면 각 행의 맨 처음에 공백이 하나 있음\n",
        "  return text"
      ]
    },
    {
      "cell_type": "code",
      "execution_count": null,
      "metadata": {
        "id": "1hfuqL0RgeEj"
      },
      "outputs": [],
      "source": [
        "#첫 번째 요소는 사람 이름, 두 번째 요소는 텍스트 내용을 가지고 있는 리스트를 묶은 리스트를 pandas로 읽기\n",
        "df = pd.DataFrame(messages, columns = ['name', 'text', 'date'])\n",
        "\n",
        "#메시지에 .png, jpg, 삭제된 메시지입니다, 사진 읽지 않음, 동영상 읽지 않음 포함하면 삭제\n",
        "del_ids = df[df['text'].str.contains('\\.png|\\.jpg|삭제된 메시지입니다|사진 읽지 않음|동영상 읽지 않음')].index #df[df['text'].str.contains('<사진 읽지 않음>') | df['text'].str.contains('.png') | df['text'].str.contains('삭제된 메시지입니다') | df['text'].str.contains('<동영상 읽지 않음>')].index\n",
        "df = df.drop(del_ids)\n",
        "\n",
        "#메시지에 '사진'이나 '사진 2장'이나 '동영상'만 포함하는 행을 찾아 삭제\n",
        "df = df[~df['text'].str.match(r'^(사진|사진 \\d+장|동영상)$')]\n",
        "\n",
        "#메시지에 유니코드에 해당하는 이모티콘이 포함되어 있으면 삭제\n",
        "df['text'] = df['text'].apply(remove_emojis)\n",
        "\n",
        "#메시지에 '@이름' 형식으로 태그한 내용이 있으면 삭제\n",
        "names = set(df['name'].to_list())\n",
        "\n",
        "# 데이터프레임 열에 함수 적용\n",
        "df['text'] = df['text'].apply(remove_names)\n",
        "\n",
        "#메시지 첫 글자가 [면 해당 메시지 삭제, 홍보글의 형식임.\n",
        "df = df[~df['text'].str.startswith(' [')]\n",
        "\n",
        "#똑같은 사람이 연속적으로 메시지를 보냈다면 메시지들을 하나의 행으로 통합해서 문맥정보 담기\n",
        "# 'name' 열이 이전 행과 다른지 여부를 나타내는 불리언 시리즈 생성\n",
        "name_changed = df['name'] != df['name'].shift(1)\n",
        "\n",
        "# 'name_changed'의 누적합을 통해 'group' 열 생성\n",
        "df['group'] = name_changed.cumsum()\n",
        "\n",
        "# 'group'과 'name' 열을 기준으로 그룹화하고, 'text' 열의 값 합치기\n",
        "df = df.groupby(['group', 'name'])['text'].agg('\\n'.join).reset_index()\n",
        "df = df.drop(['group'], axis = 1)\n",
        "\n",
        "#줄바꿈 문자(\\n) 제거하기\n",
        "pattern = r'\\n'\n",
        "df = df.replace(pattern, '', regex = True)\n",
        "\n",
        "#결측치 제거. 확인해보니 한 행에 링크만 존재했던 경우 링크를 삭제하니 결측치(빈 문자열)가 되었다.\n",
        "#빈 문자열을 nan으로 변환하고 제거\n",
        "df = df.replace('', np.nan).dropna()"
      ]
    },
    {
      "cell_type": "code",
      "execution_count": null,
      "metadata": {
        "id": "gQLZx3wy5kih"
      },
      "outputs": [],
      "source": [
        "text = df['text'].to_list()\n",
        "\n",
        "#결측치 검증\n",
        "print(type(text[:5]))\n",
        "print(all(isinstance(item, str) for item in text))\n",
        "for i, item in enumerate(text):\n",
        "  if not isinstance(item, str):\n",
        "    print(f\"Index {i}: {item} (Type: {type(item)})\")"
      ]
    },
    {
      "cell_type": "code",
      "execution_count": null,
      "metadata": {
        "id": "qewZHoAAJBPy"
      },
      "outputs": [],
      "source": [
        "for i, item in enumerate(df):\n",
        "  if not isinstance(item, str):\n",
        "    print(f\"Index {i}: {item} (Type: {type(item)})\")"
      ]
    },
    {
      "cell_type": "code",
      "execution_count": null,
      "metadata": {
        "id": "WdLa6lGseHiW"
      },
      "outputs": [],
      "source": [
        "df['text']"
      ]
    },
    {
      "cell_type": "code",
      "execution_count": null,
      "metadata": {
        "id": "Ovikq81gj5G-"
      },
      "outputs": [],
      "source": [
        "print(len(df))"
      ]
    },
    {
      "cell_type": "code",
      "execution_count": 8,
      "metadata": {
        "colab": {
          "base_uri": "https://localhost:8080/",
          "height": 176
        },
        "id": "9dXCgTw9DHO5",
        "outputId": "8c1b2298-0e2c-4e8c-89e4-2ad811c3ca33"
      },
      "outputs": [
        {
          "output_type": "error",
          "ename": "NameError",
          "evalue": "name 'df' is not defined",
          "traceback": [
            "\u001b[0;31m---------------------------------------------------------------------------\u001b[0m",
            "\u001b[0;31mNameError\u001b[0m                                 Traceback (most recent call last)",
            "\u001b[0;32m<ipython-input-8-80406d925204>\u001b[0m in \u001b[0;36m<cell line: 6>\u001b[0;34m()\u001b[0m\n\u001b[1;32m      4\u001b[0m \u001b[0;34m\u001b[0m\u001b[0m\n\u001b[1;32m      5\u001b[0m \u001b[0;31m# 문자열 열에 함수 적용\u001b[0m\u001b[0;34m\u001b[0m\u001b[0;34m\u001b[0m\u001b[0m\n\u001b[0;32m----> 6\u001b[0;31m \u001b[0mdf\u001b[0m\u001b[0;34m[\u001b[0m\u001b[0;34m'text'\u001b[0m\u001b[0;34m]\u001b[0m \u001b[0;34m=\u001b[0m \u001b[0mdf\u001b[0m\u001b[0;34m[\u001b[0m\u001b[0;34m'text'\u001b[0m\u001b[0;34m]\u001b[0m\u001b[0;34m.\u001b[0m\u001b[0mapply\u001b[0m\u001b[0;34m(\u001b[0m\u001b[0mremove_control_characters\u001b[0m\u001b[0;34m)\u001b[0m\u001b[0;34m\u001b[0m\u001b[0;34m\u001b[0m\u001b[0m\n\u001b[0m",
            "\u001b[0;31mNameError\u001b[0m: name 'df' is not defined"
          ]
        }
      ],
      "source": [
        "# 제어 문자 제거 함수\n",
        "def remove_control_characters(s):\n",
        "    return ''.join(char for char in s if ord(char) >= 32 or char in '\\t\\n\\r')\n",
        "\n",
        "# 문자열 열에 함수 적용\n",
        "df['text'] = df['text'].apply(remove_control_characters)"
      ]
    },
    {
      "cell_type": "code",
      "execution_count": null,
      "metadata": {
        "id": "gkVcUEfVokUd"
      },
      "outputs": [],
      "source": [
        "#.csv 파일로 google drive에 저장\n",
        "talk_save_path = '/content/drive/My Drive/talk_preprocess_result_short.xlsx'\n",
        "\n",
        "df.to_excel(talk_save_path)"
      ]
    },
    {
      "cell_type": "markdown",
      "metadata": {
        "id": "3MCUav4vE67B"
      },
      "source": [
        "## 모두의노코드 커뮤니티 게시글 전처리"
      ]
    },
    {
      "cell_type": "code",
      "execution_count": 6,
      "metadata": {
        "colab": {
          "base_uri": "https://localhost:8080/"
        },
        "id": "TTQzqI0PvaOw",
        "outputId": "7b926fc6-a815-4ee6-ecd9-c40e9748585e"
      },
      "outputs": [
        {
          "output_type": "stream",
          "name": "stdout",
          "text": [
            "                                                    내용  \\\n",
            "0    안녕하세요! 우선 모두의노코드 사이트 런칭을 축하드립니다.\\n\\n이렇게 첫번째 질문...   \n",
            "1    저도 궁금해져서 열심히 찾아봤는데 콜아웃 같은 블록을 넣는 명령어나 함수는 찾지 못...   \n",
            "2    안녕하세요.\\n모두의 노코드 런칭을 축하드립니다. 앞으로 좋은 활동 기대합니다. \\...   \n",
            "3    [color=rgb(6, 40, 61)]헤더그룹 안에 로고와 CTA를 넣으시고 ma...   \n",
            "4    안녕하세요.\\n제주도에서 노션으로 동네 친구 매칭 서비스를 만들고 있습니다.\\n어제...   \n",
            "..                                                 ...   \n",
            "573  정보 구조나 와이어 프레임을 그릴 때 보통 피그마를 쓰시는 분이 많은데 한글로 된 ...   \n",
            "574  [img width=100%]//3146248aee8f8e5c27832897c3a0...   \n",
            "575  안녕하세요!\\n \\n현재 사업을 진행하면서 앱 서비스를 메인 비즈니스로 잡고 진행하...   \n",
            "576  안녕하세요! 버블로 외주개발하고 있는 리트머스팀입니다.\\n\\nyongjun@cigr...   \n",
            "577  안녕하세요~\\n\\n아래 링크로 톡 남겨놓으시면 견적 도와드리겠습니다!\\n\\nhttp...   \n",
            "\n",
            "                                                    답변  \\\n",
            "0    저도 궁금해져서 열심히 찾아봤는데 콜아웃 같은 블록을 넣는 명령어나 함수는 찾지 못...   \n",
            "1                                                  NaN   \n",
            "2    [color=rgb(6, 40, 61)]헤더그룹 안에 로고와 CTA를 넣으시고 ma...   \n",
            "3                                                  NaN   \n",
            "4    충분히 버블로 개발가능할 것 같아요! 이미 비슷한 수준의 어플을 개발한 사례가 많아...   \n",
            "..                                                 ...   \n",
            "573                                                NaN   \n",
            "574                                                NaN   \n",
            "575  안녕하세요! 버블로 외주개발하고 있는 리트머스팀입니다.\\n\\nyongjun@cigr...   \n",
            "576                                                NaN   \n",
            "577                                                NaN   \n",
            "\n",
            "                                                    댓글  \\\n",
            "0                                   첨부 파일이 표시되지 않네여 ㅠㅜ   \n",
            "1    감사합니다 희철님! \\n어제 웨비나 때 유의사항으로 말씀해주신 완변주의 성향이 있었...   \n",
            "2    헤더그룹 안에 로고와 CTA를 넣으시고 max width를 지정하시면 될 것 같아요...   \n",
            "3                                                  NaN   \n",
            "4    버블은 다 되요. 개인별 능력이 좌우합니다. 치킨은 살 안찌듯. , 1:1 매칭하는...   \n",
            "..                                                 ...   \n",
            "573                                                NaN   \n",
            "574  해당 텍스크 요소를 감싸고 있는 그룹이 allign parent로 되어 있는것 같아...   \n",
            "575  안녕하세요, 노코드 버블을 사용하여 개발하고있는 If dev 입니다.\\n\\n아래 링...   \n",
            "576                                                NaN   \n",
            "577                                                NaN   \n",
            "\n",
            "                            관련 링크                 작성일  작성자  \\\n",
            "0                             NaN 2023-01-11 18:46:00  김정민   \n",
            "1                             NaN 2023-01-12 00:35:00  하희철   \n",
            "2                             NaN 2023-01-12 17:06:00  김태연   \n",
            "3                             NaN 2023-01-12 18:31:00  정민교   \n",
            "4    https://waveon.io/apps/13633 2023-01-12 19:01:00  김정민   \n",
            "..                            ...                 ...  ...   \n",
            "573                           NaN 2024-04-11 16:36:00  이진호   \n",
            "574                           NaN 2024-04-11 23:59:00  이진호   \n",
            "575                           NaN 2024-04-17 14:44:00  공다올   \n",
            "576                           NaN 2024-04-17 14:53:00  정용준   \n",
            "577                           NaN 2024-04-17 15:28:00  이창호   \n",
            "\n",
            "                                                 제목 첨부 파일  \\\n",
            "0    노션 데이터베이스 속성 값을 이용하여 새로운 페이지 글 작성 시 노션 기능 넣는 법   NaN   \n",
            "1                                               NaN   NaN   \n",
            "2                     페이지 구성시 사이드여백 세팅하는 법이 궁금합니다.    NaN   \n",
            "3                                               NaN   NaN   \n",
            "4                              버블로 소개팅 앱 만들 수 있을까요?   NaN   \n",
            "..                                              ...   ...   \n",
            "573                         디자인 할 때 어떤 틀을 쓰시나요?????   NaN   \n",
            "574                       이거 번역 글자가 겹치는데 어떻게 하나요???   NaN   \n",
            "575                            노코드 앱 개발 견적을 알고 싶어요!   NaN   \n",
            "576                                             NaN   NaN   \n",
            "577                                             NaN   NaN   \n",
            "\n",
            "                                                Slug  \\\n",
            "0    노션-데이터베이스-속성-값을-이용하여-새로운-노션-페이지-글-작성-시-명령어-넣는-법   \n",
            "1                                                NaN   \n",
            "2                       페이지-구성시-사이드여백-세팅하는-법이-궁금합니다-   \n",
            "3                                                NaN   \n",
            "4                                버블로-소개팅-앱-만들-수-있을까요   \n",
            "..                                               ...   \n",
            "573                               디자인-할-때-어떤-틀을-쓰시나요   \n",
            "574                           이거-번역-글자가-겹치는데-어떻게-하나요   \n",
            "575                              노코드-앱-개발-견적을-알고-싶어요   \n",
            "576                                              NaN   \n",
            "577                                              NaN   \n",
            "\n",
            "                                                게시글 링크  \n",
            "0    https://everynocode.org/노션-데이터베이스-속성-값을-이용하여-새...  \n",
            "1                             https://everynocode.org/  \n",
            "2    https://everynocode.org/페이지-구성시-사이드여백-세팅하는-법이-...  \n",
            "3                             https://everynocode.org/  \n",
            "4          https://everynocode.org/버블로-소개팅-앱-만들-수-있을까요  \n",
            "..                                                 ...  \n",
            "573         https://everynocode.org/디자인-할-때-어떤-틀을-쓰시나요  \n",
            "574     https://everynocode.org/이거-번역-글자가-겹치는데-어떻게-하나요  \n",
            "575        https://everynocode.org/노코드-앱-개발-견적을-알고-싶어요  \n",
            "576                           https://everynocode.org/  \n",
            "577                           https://everynocode.org/  \n",
            "\n",
            "[578 rows x 10 columns]\n",
            "     Unnamed: 0                                                 내용   답변  \\\n",
            "0             0  드디어 시작이네요. 노코드 빌딩 문화가 잘 정착할 수 있도록 커뮤니티 여러분 잘 부...  NaN   \n",
            "1             1  베타 테스팅 버전까지 며칠이 채 안걸렸었죠..?\\n\\n첫 버전 봤을때의 반응\\n[i...  NaN   \n",
            "2             2  오류가 엄청 많을 겁니다. ??\\n\\n오류 제보는 하단 푸터의 '요청/제안'에서 글...  NaN   \n",
            "3             3  오늘 모두의 노코드 웨비나가 있는 날입니다?\\n모더레이터 분들 모두 열심히 준비했으...  NaN   \n",
            "4             4  [img width=100%]https://eventusstorage.blob.co...  NaN   \n",
            "..          ...                                                ...  ...   \n",
            "767         767  안녕하세요! 버블로 외주개발하고 있는 리트머스팀입니다.\\n\\nyongjun@cigr...  NaN   \n",
            "768         768  안녕하세요~\\n\\n아래 링크로 톡 남겨놓으시면 견적 도와드리겠습니다!\\n\\nhttp...  NaN   \n",
            "769         769  스티비는 국내 뉴스레터 서비스로, 카페24, 고도몰, 식스샵 등 다양한 서비스와 연...  NaN   \n",
            "770         770  버블로 랜딩페이지를 제작 중인데 버튼 형태로 한국어가 영어/일어로 전체 웹사이트가 ...  NaN   \n",
            "771         771  안녕하세요. 독학으로 페이지를 만들고 있는데요. \\n거의 다 만들었는데, 한가지 수...  NaN   \n",
            "\n",
            "                                                    댓글  \\\n",
            "0    노코드 문화 활성화 파이팅~!! , 응원합니다. 으쌰으쌰! 와방 좋네요! , 잘 부...   \n",
            "1    제가 약간 더 고생했을 뿐 \"모두\" 함께 으쌰으쌰해서 만든거죠! , mmmmm , ...   \n",
            "2                                                  NaN   \n",
            "3    벌써 수요일이라니... 믿기지가 않는군용 ㅠ , 안녕하세요 웨비나 신청을 했다가 듣...   \n",
            "4                                                  NaN   \n",
            "..                                                 ...   \n",
            "767                                                NaN   \n",
            "768                                                NaN   \n",
            "769                                                NaN   \n",
            "770                                                NaN   \n",
            "771                                                NaN   \n",
            "\n",
            "                                              링크               작성일        작성자  \\\n",
            "0                                            NaN  2023-01-10 21:55        하희철   \n",
            "1                                            NaN  2023-01-10 23:45      해치하이커   \n",
            "2                                            NaN  2023-01-10 23:54        하희철   \n",
            "3               https://event-us.kr/m/52353/3045  2023-01-11 14:17        이소정   \n",
            "4    https://event-us.kr/everynocode/event/52353  2023-01-11 15:27        이현범   \n",
            "..                                           ...               ...        ...   \n",
            "767                                          NaN  2024-04-17 14:53        정용준   \n",
            "768                                          NaN  2024-04-17 15:28        이창호   \n",
            "769                                          NaN   2024-04-18 1:56  bubblebox   \n",
            "770                                          NaN  2024-04-18 11:27        정태환   \n",
            "771                                          NaN  2024-04-18 12:16        이지훈   \n",
            "\n",
            "                                       제목 질문답변 첨부 파일 커뮤니티 타입 콘텐츠 타입  \\\n",
            "0                              모두의노코드 시작!  NaN   NaN   자유 주제   커뮤니티   \n",
            "1        모두의 노코드 사이트는 희철님이 버블로 제작하셨습니다 !!  NaN   NaN   자유 주제   커뮤니티   \n",
            "2               앞으로 일주일 정도는 가오픈이다 생각해주세요!  NaN   NaN   자유 주제   커뮤니티   \n",
            "3                       모두의 노코드 웨비나 준비완료!  NaN   NaN   자유 주제   커뮤니티   \n",
            "4          모두의노코드 웨비나 - '노코드 빌딩 무브먼트' 공유회  NaN   NaN     NaN    스퀘어   \n",
            "..                                    ...  ...   ...     ...    ...   \n",
            "767                                   NaN   답변   NaN   질문 답변   커뮤니티   \n",
            "768                                   NaN   답변   NaN   질문 답변   커뮤니티   \n",
            "769      [버블박스] 스티비 무료 플러그인이 이번 주에 출시됩니다!  NaN   NaN   빌더 로그   커뮤니티   \n",
            "770                 버블 랜딩페이지 제작 시 언어변환 기능   질문   NaN   질문 답변   커뮤니티   \n",
            "771  소셜 로그인 후 이전 페이지로 이동하게끔 하려면 어떻게해야될까요?   질문   NaN   질문 답변   커뮤니티   \n",
            "\n",
            "               태그                                 Slug  \n",
            "0             NaN                            모두의노코드-시작  \n",
            "1              버블       모두의-노코드-사이트는-희철님이-버블로-제작하셨습니다-  \n",
            "2             NaN             앞으로-일주일-정도는-가오픈이다-생각해주세요  \n",
            "3             NaN                     모두의-노코드-웨비나-준비완료  \n",
            "4    모두의노코드 , 웨비나         모두의노코드-웨비나---노코드-빌딩-무브먼트-공유회  \n",
            "..            ...                                  ...  \n",
            "767           NaN                                  NaN  \n",
            "768           NaN                                  NaN  \n",
            "769           NaN        버블박스-스티비-무료-플러그인이-이번-주에-출시됩니다  \n",
            "770           NaN                버블-랜딩페이지-제작-시-언어변환-기능  \n",
            "771           NaN  소셜-로그인-후-이전-페이지로-이동하게끔-하려면-어떻게해야될까요  \n",
            "\n",
            "[772 rows x 14 columns]\n",
            "      Unnamed: 0                                                 내용  \\\n",
            "0              0                제가 약간 더 고생했을 뿐 \"모두\" 함께 으쌰으쌰해서 만든거죠!   \n",
            "1              1                                  노코드 문화 활성화 파이팅~!!   \n",
            "2              2                                          겸손하십니다 ??   \n",
            "3              3                           벌써 수요일이라니... 믿기지가 않는군용 ㅠ   \n",
            "4              4                               응원합니다. 으쌰으쌰! 와방 좋네요!   \n",
            "...          ...                                                ...   \n",
            "1208        1208                                             감사합니다!   \n",
            "1209        1209           감사합니다, 희철님 :)\\n저도 응원하겠습니다!\\n좋은 하루 보내세요~~   \n",
            "1210        1210         저랑 이름이 비슷하신ㅎㅎㅎ 대표님 강연에서 이력보고 찾아왔습니다! 멋져요~~   \n",
            "1211        1211                                 노코드 세계 오신 걸 환영합니다!   \n",
            "1212        1212  안녕하세요, 노코드 버블을 사용하여 개발하고있는 If dev 입니다.\\n\\n아래 링...   \n",
            "\n",
            "                          대댓글  \\\n",
            "0     겸손하십니다 ?? , 대댓글 잘 만드셨네용   \n",
            "1                         NaN   \n",
            "2                         NaN   \n",
            "3                         NaN   \n",
            "4                         NaN   \n",
            "...                       ...   \n",
            "1208                      NaN   \n",
            "1209                      NaN   \n",
            "1210                      NaN   \n",
            "1211                      NaN   \n",
            "1212                      NaN   \n",
            "\n",
            "                                                     댓글  아카데미  오픈소스  \\\n",
            "0                                                   NaN   NaN   NaN   \n",
            "1                                                   NaN   NaN   NaN   \n",
            "2                   제가 약간 더 고생했을 뿐 \"모두\" 함께 으쌰으쌰해서 만든거죠!   NaN   NaN   \n",
            "3                                                   NaN   NaN   NaN   \n",
            "4                                                   NaN   NaN   NaN   \n",
            "...                                                 ...   ...   ...   \n",
            "1208                오 정말 필요한 분들 많을것 같아요! 버블박스 화이팅입니다 :)   NaN   NaN   \n",
            "1209  경험 공유해주셔서 감사해요! 서비스의 아이디어도 너무 좋고 글 내용도 많은 분들한테...   NaN   NaN   \n",
            "1210                  엌ㅋㅋㅋㅋㅋㅋ 반갑습니다 역시 글 제목에 훅이 있군요 ㅋㅋㅋ   NaN   NaN   \n",
            "1211                                                NaN   NaN   NaN   \n",
            "1212                                                NaN   NaN   NaN   \n",
            "\n",
            "                   작성일        작성자  \\\n",
            "0     2023-01-10 23:50        하희철   \n",
            "1     2023-01-11 13:41        이소정   \n",
            "2     2023-01-11 14:11        이소정   \n",
            "3     2023-01-11 14:20        하희철   \n",
            "4     2023-01-11 15:12        이현범   \n",
            "...                ...        ...   \n",
            "1208  2024-04-16 21:32  bubblebox   \n",
            "1209  2024-04-17 14:31        송재욱   \n",
            "1210  2024-04-17 14:50        하희정   \n",
            "1211  2024-04-17 15:26        이창호   \n",
            "1212  2024-04-17 15:31        김도헌   \n",
            "\n",
            "                                                    콘텐츠    타입  \n",
            "0     베타 테스팅 버전까지 며칠이 채 안걸렸었죠..?\\n\\n첫 버전 봤을때의 반응\\n[i...  커뮤니티  \n",
            "1     드디어 시작이네요. 노코드 빌딩 문화가 잘 정착할 수 있도록 커뮤니티 여러분 잘 부...  커뮤니티  \n",
            "2     베타 테스팅 버전까지 며칠이 채 안걸렸었죠..?\\n\\n첫 버전 봤을때의 반응\\n[i...  커뮤니티  \n",
            "3     오늘 모두의 노코드 웨비나가 있는 날입니다?\\n모더레이터 분들 모두 열심히 준비했으...  커뮤니티  \n",
            "4     드디어 시작이네요. 노코드 빌딩 문화가 잘 정착할 수 있도록 커뮤니티 여러분 잘 부...  커뮤니티  \n",
            "...                                                 ...   ...  \n",
            "1208  안녕하세요 국내 서비스 중심으로 버블 플러그인을 심심풀이 개발하고 있는 버블박스입니...  커뮤니티  \n",
            "1209  안녕하세요, 1인 창업을 하고 있는 송재욱입니다 ??\\n이번년도 초에 디지털마케팅 ...  커뮤니티  \n",
            "1210  광고회사 한 직군 한 우물만 10년이나 파다보니\\n앞으로의 커리어를 어떻게 해야할지...  커뮤니티  \n",
            "1211  광고회사 한 직군 한 우물만 10년이나 파다보니\\n앞으로의 커리어를 어떻게 해야할지...  커뮤니티  \n",
            "1212  안녕하세요!\\n \\n현재 사업을 진행하면서 앱 서비스를 메인 비즈니스로 잡고 진행하...  커뮤니티  \n",
            "\n",
            "[1213 rows x 10 columns]\n"
          ]
        }
      ],
      "source": [
        "#커뮤니티 글 로드\n",
        "qna_path = '/content/drive/My Drive/community_qna.xlsx'\n",
        "all_contents_path = '/content/drive/My Drive/community_all_contents.csv'\n",
        "all_comments_path = '/content/drive/My Drive/community_all_comments.csv'\n",
        "\n",
        "df_qna = pd.read_excel(qna_path)\n",
        "\n",
        "#_x1008_같은 기호를 자동으로 삭제하기 위해 cp949 인코딩으로 읽은 뒤 utf-8 인코딩으로 재처리\n",
        "df_all_contents_cp949 = pd.read_csv(all_contents_path, encoding = 'cp949')\n",
        "df_all_contents_cp949.to_csv('/content/drive/My Drive/community_all_contents_utf8.csv', encoding = 'utf-8')\n",
        "df_all_contents = pd.read_csv('/content/drive/My Drive/community_all_contents_utf8.csv', encoding = 'utf-8')\n",
        "\n",
        "df_all_comments_cp949 = pd.read_csv(all_comments_path, encoding = 'cp949')\n",
        "df_all_comments_cp949.to_csv('/content/drive/My Drive/community_all_comments_utf8.csv', encoding = 'utf-8')\n",
        "df_all_comments = pd.read_csv('/content/drive/My Drive/community_all_comments_utf8.csv', encoding = 'utf-8')\n",
        "\n",
        "print(df_qna)\n",
        "print(df_all_contents)\n",
        "print(df_all_comments)"
      ]
    },
    {
      "cell_type": "code",
      "execution_count": 7,
      "metadata": {
        "colab": {
          "base_uri": "https://localhost:8080/"
        },
        "id": "xL1RCCi3_zPK",
        "outputId": "21ec66f1-6500-4fd4-90d2-31202d741a71"
      },
      "outputs": [
        {
          "output_type": "stream",
          "name": "stdout",
          "text": [
            "Found bracketed text: {'버블로 인스타그램 만들기', 'url=https://bubble.io/plugin/slack-message-%EC%8A%AC%EB%9E%99-%EB%A9%94%EC%8B%9C%EC%A7%80-%EC%A0%84%EC%86%A1-1709652657935x861026370720628700', 'color=rgb(51, 52, 63)', 'url=https://play.google.com/store/apps/details?id=com.EasterEgg.app', 'url=https://open.kakao.com/o/sbPOMi3f', 'url=https://class101.net/ko/products/64f9c72d6d23eb000e224f63', 'url=mailto:brandcanvas.official@gmail.com', 'li indent=2 align=left', 'data1, data2, data3, data4, data5', '싫어', '개발', 'ol data=3', '/youtube', '상위폴더', 'url=https://theflywheel.substack.com/', 'url=https://flowermessage.bubbleapps.io/version-test', '/h4', 'highlight=rgb(247, 226, 210)', '/h3', 'color=var(--tw-prose-links)', '솔루션&가설', 'url=https://www.youtube.com/watch?v=FQuimpL4xnY', 'code', 'url=https://www.cycle.app/', '[/b', '착각일 듯 싶기는 합니다', 'KOSSA 소개', 'url=https://premoney.substack.com/', '지원하고 싶어요? 어디로 가야하나요?', 'url=https://www.litmers.com/', 'color=rgb(56, 124, 187)', 'url=https://navermaps.github.io/maps.js.ncp/docs/tutorial-2-Getting-Started.html', 'url=https://www.aamond.com', 'color=rgb(255, 153, 0)', 'highlight=rgb(255, 255, 0)', 'highlight=rgb(246, 246, 248)', 'color=var(--text-link)', 'url=https://apps.apple.com/kr/app/%EC%82%AC%EC%9D%B4%EC%BD%94%EB%93%9C/id6474376456', 'url=https://interviz.vercel.app/', 'url=https://blog.naver.com/synctree/223143163356', 'url=https://www.youtube.com/c/BuildingWithBubble', 'url=http://bit.ly/456EIpY', '시작하기', '공고올리기', '모노데이 5회차 모집 오픈', 'color=rgb(17, 85, 204)', '개발 장소', '글작성 페이지', 'url=https://make.com', 'ol data=5', 'color=rgb(12, 12, 12)', '데이터베이스', '문제점', '\"no\"', 'url=https://gongmozza.bubbleapps.io/version-test', 'url=https://www.synctree101.com/synctree-introduce', 'highlight=rgba(0, 0, 0, 0.05)', 'url=https://deserted-hisser-76a.notion.site/To-Gregory-From-fans-in-Korea-065d2e7bc66847438efef95407e319c6', 'url=https://www.instagram.com/dwnc_official/', '무료', 'url=https://forms.gle/xtqxeuV2xq8kCK1V9', 'url=https://everynocode.org/', 'url=https://brunch.co.kr/@catchup/16', '외주 개발건', 'url=https://maily.so/unsexybusinesskr', '위', 'url=https://www.behance.net/gallery/186562949/-X-Litmers', 'url=https://abit.ly/webtitan_imweb', 'h4', 'url=https://www.behance.net/gallery/183559125/SaveTax-X-Litmers', '도움 0', '소셜 로그인 기능 활용', 'url=https://buildcamp.io/course/beginnerscamp-a-comprehensive-introduction-to-bubble', 'highlight=rgba(2, 2, 2, 0.06)', 'li indent=1 align=left', '도와주셔서 감사합니다', '신청 및 모든 정보 확인', '/li', '모집 기간 3일 남음!', 'url=https://www.softr.io/', 'font=\"Noto Sans\"', 'Add a Shared Header', 'url=https://open.kakao.com/o/gG3iydke', 'li indent=0 align=left', 'color=rgb(34, 34, 34)', 'url=https://chrome.google.com/webstore/detail/lighthouse/blipmdconlkpinefehnmjammfjpmpbjk?hl=ko', 'url=https://www.waveon.io/apps/19805', 'url=https://everynocode.org/profile/%EC%A0%95%EC%9A%A9%EC%A4%8050', '컨트롤+F', 'size=4', 'h2', '데이터타입', 'font=\"Roboto\"', '일정 관련', 'url=https://blog.naver.com/synctree/223304697132', 'url=https://bubble.io/', 'color=rgb(0, 0, 0)', 'highlight=inherit', 'color=rgb(224, 108, 117)', 'url=https://brunch.co.kr/@contenjoo/109', 'url=https://forum.bubble.io/t/urgent-google-ads-marking-bubble-site-as-malware-and-malicious/280122/3', 'url=https://stackoverflow.com/questions/6108819/javascript-timestamp-to-relative-time', 'url=https://www.bubblebox.kr/plugin/slack_message', 'url=https://www.algolia.com/', '좋아', 'url=https://youtu.be/l2ABJqEkJHM', '/center', '필드', 'url=http://bubble.io/', '설문 분량 및 예상 소요 시간', '/url', '화면 내 작업 메뉴창', 'url=https://brunch.co.kr/@junhocho/60', 'url=https://www.youtube.com/c/BubbleIO', 'indent data=1', 'url=https://waveon.io/apps/19805', '\"yes\"', 'ml', 'color=rgb(6, 40, 61)', 'quote', 'url=https://www.udemy.com/course/bubble-no-code-web-development/?couponCode=ST12MT030524', 'url=https://www.litmers.com/blog/how-to-learn-bubble-io-and-learning-courses-recommendation', '3', '404, NOT_FOUND, Type not found mytable[/color', '/font', 'highlight=rgb(248, 248, 248)', '드래그', 'url=https://www.behance.net/gallery/183558853/-X-Litmers', 'url=https://www.youtube.com/c/EchoLakeTechnologies', 'url=https://forms.gle/nWLEfDstgB9AjvVV6', '/s', 'url=https://ittrue.tistory.com/35', \" input's value : append : @yourdomain.com\", 'color=rgb(32, 33, 36)', 'url=https://youtu.be/CSMx0cTa6Ls', 'url=https://www.brandcanvas.ai', 'color=rgba(1, 1, 1, 0.8)', 'url=https://mozaiq.co.kr/', 'color=var(--primary-medium)', 'IA', 'indent data=3', 'url=https://blog.naver.com/no-code/223139991898', 'color=rgb(220, 161, 13)', '/video', 'ol data=1', 'url=https://www.bubblebox.kr/', 'url=https://conversion-skill.tistory.com/entry/72-Option-SET-%EC%A4%91%EA%B8%89-%EB%B2%84%EB%B8%94%EC%97%90%EC%84%9C-%EC%98%B5%EC%85%98-%EC%84%B8%ED%8A%B8-%EA%B5%AC%EC%84%B1-%EC%82%AC%EC%9A%A9%ED%95%98%EA%B8%B0-%EC%84%9C%EB%A1%9C-%EB%8B%A4%EB%A5%B8-%EC%98%B5%EC%85%98-%EC%97%B0%EA%B2%B0-%EC%98%B5%EC%85%98%EC%82%AC%EC%9A%A9-%EC%98%88%EC%8B%9C', 'url=https://blog.naver.com/synctree/223120757993', '대기', 'color=rgb(0, 198, 190)', '/size', '해결', 'color=rgb(0, 112, 209)', 'landing_page', 'url=https://webflow.com/', '답변', '/ol', 'highlight=rgb(235, 214, 255)', 'url=https://pf.kakao.com/_MZPjG', 'url=https://lilacberets.career.greetinghr.com/o/82591', 'url=https://bubblelabs.tistory.com/', 'youtube', 'url=https://club.disquiet.io/building-in-public-playbook-by-disquiet', 'color=rgb(51, 51, 51)', 'url=https://mysymbol.bubbleapps.io/', 'url=https://www.behance.net/gallery/177754417/MZQ-X-Litmers', 'url=https://blocsapp.com/', 'url=https://www.ftc.go.kr/www/cop/bbs/selectBoardList.do?key=201&bbsId=BBSMSTR_000000002320&bbsTyCode=BBST01', 'url=https://youtu.be/PAGh6Xb3LTs', '싱커톤 시즌 3 특전', 'settings', 'url=https://www.bubblebox.kr/plugin/google_sheet', 'url=https://williamjung.substack.com/p/swapstack-pricing-7000', 'center', 'color=rgb(153, 153, 153)', 'url=https://www.behance.net/gallery/186481923/Litmers-X-Homping', 'N분의 일', 'url=https://bubble.io/agency/litmers', 'highlight=rgb(246, 248, 250)', '\"yes\", \"yes\", \"no\", \"no\", \"yes\"', '\"돋보기\" 검색버튼', 'highlight=var(--ricos-custom-h2-background-color,unset)', '커리큘럼', 'url=https://play.google.com/store/apps/details?id=com.demolitionstandards.demolitionstandards&hl=ko', 'query', 'color=rgb(96, 140, 186)', 'url=https://play.google.com/store/apps/details?id=com.bnXMgUqTsfbE.natively&pcampaignid=web_share', '타입', 'url=https://tket.app/shows_list', 'url=https://bubblebox-64217.bubbleapps.io/version-test/plugin_slackmessage/#s0', 'color=inherit', 'url=https://brunch.co.kr/@famelee/141', 'highlight=var(--ricos-custom-p-background-color,unset)', '수정', 'url=https://chrome.google.com/webstore/detail/stylus/clngdbkpkpeebahjckkjfobafhncgmne?hl=en', 'color=rgb(97, 174, 238)', '개발 주제', 'UI 디자인', 'url=https://event-us.kr/m/62088/5424', 'url=https://growingpeople.site/?utm_source=everynocode&utm_medium=community&utm_campign=1st_class_recruit&utm_content=hooking', '기획', '이름', '모노데이 3회차 모집 오픈', 'url=https://medium.com/sessions-us/new-international-partnership-between-learn-today-and-sessions-221b6990e521', '메시지, 내 프로필', 'url=https://www.udemy.com/course/the-bubble-beginners-bootcamp-course/?couponCode=ST12MT030524', 'url=https://blog.naver.com/synctree/223118386264', 'color=rgb(161, 0, 0)', 'ul', 'color=var(--tertiary)', 'url=https://open.kakao.com/me/hyeongjunpark', '텍스트1 - 이미지1 - 텍스트2', 'url=https://tally.so/r/wQ549g', 'url=https://zapier.com/', '구현 방법', 'url=https://everynocode.org/content/%EB%B2%84%EB%B8%94-%EA%B3%B5%EB%B6%80%ED%95%98%EB%8B%A4%EA%B0%80-%EB%84%88%EB%AC%B4-%EB%A7%89%ED%98%80%EC%84%9C-%EA%B0%90%ED%9E%88-%EC%A7%88%EB%AC%B8%EC%98%AC%EB%A0%A4%EB%B4%85%EB%8B%88%EB%8B%A4-%E3%85%A0-%E3%85%A0--', '조아', 'url=https://www.litmers.com/post/%EB%B2%84%EB%B8%94-bubble-io-%EB%A1%9C-%EC%8A%AC%EB%9E%99-%EC%95%8C%EB%A6%BC-%EB%B3%B4%EB%82%B4%EA%B8%B0', 'url=https://www.youtube.com/channel/UCmHROldEv6YsdJCvRHldC7g', 'url=https://everynocode.org/content/%EB%85%B8%EC%BD%94%EB%93%9C-%EB%B9%8C%EB%94%A9-%EC%9E%85%EB%AC%B8%EC%9E%90-%ED%81%B4%EB%9E%98%EC%8A%A4-%EB%AA%A8%EB%85%B8%EB%8D%B0%EC%9D%B4-6%ED%9A%8C-%EB%AA%A8%EC%A7%91', '/quote', 'url=https://discord.gg/4M98AEUJRx', '동일 페이지로 이동시에는, 버블 특성상 페이지 전체를 refresh 하지 않아서 display data 액션을 넣고 go to page를 넣더라도 페이지의 데이터들이 날라가지 않습니다.', 'url=https://www.linkedin.com/in/labnol/', 'url=https://www.behance.net/gallery/186146595/Litmer-X-Kiaf', 'url=https://open.kakao.com/o/gIdqGl6d', 'url=https://every-time-i-pass-this-place.tistory.com/entry/javascript-%EC%9B%B9%EC%82%AC%EC%9D%B4%ED%8A%B8-%EB%B0%A9%EB%AC%B8%EC%9E%90%EC%88%98-%EC%BD%94%EB%93%9C', 'url=https://www.litmers.com', 'url=https://bit.ly/3Q6Jayc', 'url=https://youtu.be/_8hHVXbKvDY%EF%BF%BC%F0%9F%91%89%EC%8B%B1%EC%BB%A4%ED%86%A4', 'url=https://progressier.com/', '앞으로의 계획', 'b', '끝 맺음', 'url=https://www.glideapps.com/', 'url=https://www.udemy.com/course/the-bubble-beginners-bootcamp-course/', 'indent data=2', '도움되었어요', \"모두의노코드 오프닝 웨비나 - '노코드 빌딩 무브먼트 공유회'\", 'color=rgb(0, 71, 178)', 'url=https://www.mycompiler.io/view/K7NfQ66euWu', 'color=rgb(209, 154, 102)', 'url=https://ihaveacat.bubbleapps.io/', 'url=https://flutterflow.io/', 'url=https://tencombo.notion.site/PayAction-API-7bfdf1bf62d44fdbb3d3509311f90a3a', 'url=https://www.behance.net/gallery/177753021/ZEUMXLitmers', ' ', 'Follow kakao channel', 'url=https://bubble.io/blog/build-netflix-without-code/', '와이어프레임', 'url=https://code.org/oceans', 'url=https://www.airdev.co/post/how-customizable-is-bubble-web-app', 'url=https://bubble.io/plugin/simple-looper-workflow-repeater-1618892957212x885363265747026000', 'url=https://event-us.kr/m/74641/11984', 'Add font', '[ current page 페이지 방문자수 번째 방문자님 환영합니다 ', 'li indent=5 align=left', 'color=rgb(153, 51, 255)', '폴더', 'color=rgb(171, 178, 191)', '무료 - 노코드 혁명: 아임웹 랜딩페이지 제작 특강 안내', '실제로 화면에 표시되는 시간 데이터', 'url=https://icon-sets.iconify.design/', 'url=https://www.epochconverter.com/ ', '페르소나', 'color=rgb(102, 185, 102)', '텍스트1 -이미지1', 'size=1', 'url=https://gptdanawa.com/', 'url=https://www.youtube.com/channel/UCTL_mXO3qsgFc_3s2T5wlWg', 'url=https://thecube.cubeapps.co/pwa/1', '게시판 리스트(필터)', 's', 'url=https://nlife-sojung.tistory.com/', 'bubble.io', 'url=https://apps.apple.com/kr/app/%EC%B2%A0%EA%B1%B0%EC%9D%98-%EA%B8%B0%EC%A4%80/id6446393754', '본 프로덕트는 리트머스에서 외주개발로 제작했습니다', '모노데이 4회차 모집 오픈', 'url=https://teta.so/', '0', '마요', 'size=6', '/h2', 'url=https://bubble.io/plugin/google-sheet-%EA%B5%AC%EA%B8%80-%EC%8B%9C%ED%8A%B8-%EC%97%B0%EB%8F%99-1709979990422x791523423324995600', 'color=rgb(0, 102, 204)', 'url=https://abit.ly/webtitan_class', '/ul', '문제 정의', 'user analytics', '설문 취지', 'url=https://www.waveon.io/apps/20214', 'url=https://www.youtube.com/watch?v=QQbr5pSbvg4&list=PLVPTV6t3B7t1qvMYfsqD1k0xzMrNTfoBH', 'highlight=rgb(230, 230, 77)', 'img width=100%', 'url=https://ko-kr.facebook.com/business/help/777099232674791?id=1205376682832142', 'url=https://value-o-ticket.bubbleapps.io', 'url=https://famelee.oopy.io/project/bubble_docs/home', 'Preview', '질문', 'url=https://nomh.tistory.com/6', '/img', 'data에 31이 포함된 경우', 'url=https://www.behance.net/gallery/176891703/NHR-X-Litmers', '/b', 'url=https://abit.ly/webtitan_figma', 'url=https://event-us.kr/m/64212/6863', 'url=https://notionbox.kr/', 'url=http://zapier.com', '[color=var(--tertiary)', 'url=https://www.notion.so/DWNC-c660ea0a001c4a3fa1a982205d413bd4?pvs=4', 'highlight=rgb(230, 230, 230)', 'url=https://www.jotform.com/products/store-builder', 'url=https://blog.naver.com/no-code', 'url=https://tagmanager.google.com/', 'url=https://event-us.kr/litmers/event/71237', 'url=https://api.ncloud-docs.com/docs/common-ncpapi#%EC%9D%B8%EC%A6%9D%ED%82%A4%EC%83%9D%EC%84%B1%ED%95%98%EA%B8%B0', 'url=https://forum.bubble.io/', '주요 페이지', '/code', '1기에서는 어떤 결과를 얻었나요', 'url=https://support.google.com/tagmanager/answer/7182738?hl=ko', 'li indent=3 align=left', \"모노데이 - '노코드 빌딩 입문자 클래스'\", 'color=rgb(230, 0, 0)', '/u', 'url=https://bubble.io/template/infinite-list---input-1518065040884x274756206893203460', '에어테이블 같은 외부 DB를 사용', 'color=rgb(15, 15, 15)', 'img', 'url=https://bubble.io/agencies', 'url=https://soulcanvas.art', '구체적으로 어떤 기능을 구현할지', 'url=https://bridgelink.cloud/', 'url=https://www.youtube.com/c/Buildcamp', '/h1', '참여 방법', 'url=https://www.behance.net/gallery/183559017/-X-Litmers', '/indent', 'url=https://www.framer.com/', 'url=https://www.behance.net/gallery/183558219/-X-Litmers', 'color=rgb(64, 64, 64)', '버블로 인스타그램', 'highlight=var(--primary-low)', 'pg 서비스 연결', 'color=rgb(152, 195, 121)', 'url=https://tally.so/r/w4xO0b', 'url=https://zrr.kr/mN9wN', '페이지소스 보기', 'url=https://manual.bubble.io/help-guides/data/the-database/using-algolia', 'url=https://signup.buildbox.com/', '처리완료', 'url=https://www.folk.app', 'url=https://www.behance.net/gallery/184575803/Litmers-X-Flexwork', 'url=https://prompti.kr', 'url=https://www.behance.net/gallery/183561235/-X-Litmers', 'color=rgb(0, 133, 255)', 'url=https://forms.gle/UjVLmi8SDKJZNuMS7', 'url=https://workflowy.com/s/f11b8bc355e0/7rkl4P3BeiDf7vXg', '문제', 'ol data=4', 'url=https://nlife-sojung.tistory.com/29', 'url=https://ip.pe.kr/', 'color=rgb(12, 147, 228)', 'url=https://www.growingpeople.site/?utm_source=everynocode&utm_medium=community&utm_campaign=1st_class_recruit&utm_content=hooking3', 'url=https://bit.ly/44TJHJZ', 'url=https://williamjung.substack.com/p/revetize-saas-cto', 'h1', '노코드 무료 교육 소개', '원하는 상황', 'color=var(--print_on_web_bg_color, var(--color-primary))', 'url=https://popsy.co/', '선호', 'highlight=rgb(250, 204, 204)', 'url=https://www.locofy.ai/', 'url=https://tket.app', '네이버/카카오 로그인', 'highlight=rgb(253, 253, 253)', '도움', '텍스트2 -이미지2', 'color=rgb(0, 120, 203)', 'url=https://apps.apple.com/kr/app/easteregg/id6445839384', 'url=https://bubblebox-64217.bubbleapps.io/version-test/plugin_googlesheet/#s0', 'i', 'color=rgb(187, 187, 187)', 'url=https://inf.run/mQ9m', '티켓의가치 mvp 보기', '/ml', 'highlight=transparent', 'url=mailto:airbuildkr@gmail.com', '운영 방식', '/color', 'url=https://www.behance.net/gallery/183560917/SCHOOLDM-X-Litmers', 'url=https://www.behance.net/gallery/176893141/-X-Litmers', 'url=https://event-us.kr/litmers/event/76795', '디자인', 'url=https://www.notion.so/cd4d25d2e26343978de8c8eba1022a3c?pvs=21', 'url=https://www.behance.net/gallery/183559239/-X-Litmers', 'url=https://everynocode.org/content/%ED%95%98%EC%9D%B4%EB%A7%88%EC%BC%80%ED%84%B0-%EA%B8%B0%EC%97%85%EA%B3%BC-%EB%A7%88%EC%BC%80%ED%84%B0%EB%A5%BC-%EC%97%B0%EA%B2%B0%ED%95%B4%EC%A3%BC%EB%8A%94-%EC%A4%91%EA%B0%9C%ED%94%8C%EB%9E%AB%ED%8F%BC', 'url=https://open.kakao.com/o/s3y8yZBf', 'url=https://firework-ham.tistory.com/26', '1', 'url=https://www.litmers.com/post/%EB%B2%84%EB%B8%94%EC%97%90-%ED%8E%98%EC%9D%B4%EC%8A%A4%EB%B6%81-%EB%A9%94%ED%83%80-%ED%94%BD%EC%85%80-%EA%B5%AC%EA%B8%80%ED%83%9C%EA%B7%B8%EB%A7%A4%EB%8B%88%EC%A0%80-gtm-%EC%84%A4%EC%B9%98%ED%95%98%EA%B8%B0', '2', 'url=https://nlife-sojung.tistory.com/24', '에어테이블 사용', 'url=https://growingpeople.site/?utm_source=everynocode&utm_medium=community&utm_campign=1st_class_recruit&utm_content=advertise', '버블 무작정 따라하기', 'highlight=rgb(0, 153, 153)', '90', 'highlight=rgb(51, 51, 204)', 'url=https://www.google.com/url?sa=t&rct=j&q=&esrc=s&source=web&cd=&ved=2ahUKEwjDtPP-_s38AhUPyGEKHayWBkEQFnoECAoQAQ&url=https%3A%2F%2Fconsole.developers.google.com%2F%3Fhl%3Dko&usg=AOvVaw2Uwl9sc3Ks4ijCFoYAguQx', 'url=https://abit.ly/dijobfe-bubble', 'color=rgb(255, 255, 255)', 'color=var(--tw-prose-bold)', \"'1', '2', '3', '4', '4'\", 'url=https://misos-todo.bubbleapps.io/', 'url=https://bubble.io/plugin/browser-cookies-1668029257058x913446968585093100', 'index', '도움 1', 'color=rgb(0, 151, 167)', 'url=https://everynocode.org/content/%ED%95%98%EB%A3%A8-%EB%A7%8C%EC%97%90-%EC%84%9C%EB%B9%84%EC%8A%A4-%EB%A7%8C%EB%93%A4-%EC%88%98-%EC%9E%88%EB%8D%98%EB%8D%B0%EC%9A%94', 'url=https://event-us.kr/litmers/event', 'color=var(--ricos-custom-link-color,var(--ricos-action-color,#0261ff))', 'url=https://app.wallaform.com', 'color=rgb(29, 28, 29)', '^1', 'url=https://synctreestudio.com/#/account/signin', 'Chat kakao channel', '싱커톤 일정', 'url=https://www.synctree101.com/syncathon/main', 'webhook url', 'url=https://analytics.google.com/', 'url=https://everynocode.org/content/%EC%96%B4%EC%8B%9C%EC%8A%A4%ED%8A%B8---%EC%B6%95%EA%B5%AC%ED%92%8B%EC%82%B4-%EB%8F%99%ED%98%B8%ED%9A%8C%EB%A5%BC-%EC%9C%84%ED%95%9C-%EB%AA%A8%EC%9E%84-%EA%B4%80%EB%A6%AC-%EC%84%9C%EB%B9%84%EC%8A%A4', 'url=https://www.gaylealdenrobbins.com/the-zeitheist-blog/dieter-rams-1', 'highlight=rgb(187, 187, 187)', 'ul data=1', '설문 보상', '모노데이 6회차 모집 오픈', 'url=https://bubblebox.bubbleapps.io/product/1712493691555x560125361384467460', 'font=\"Monospace\"', '\"yes\", \"no\"', 'color=var(--main-color-1)', \"{\\n????????label: '1',\\n????????data: chartData,\\n????????backgroundColor: 'rgba(255, 99, 132, 0.2)',\\n????????borderColor: 'rgba(255, 99, 132, 1)',\\n????????borderWidth: 1\\n??????}\", 'url=https://www.behance.net/gallery/183558693/-X-Litmers', 'Design 화면', 'url=https://www.privacy.go.kr/front/per/inf/perInfStep01.do', 'url=https://www.mk.co.kr/economy/view/2018/718895', 'url=https://assist-team.kr', 'ol data=2', 'url=https://siter.io/', 'url=https://forms.gle/X6RbWN5qfFn8Lmg49', 'highlight=rgba(0, 0, 0, 0)', 'url=https://doctorson0309.tistory.com/188', 'url=https://bubble.io/plugin/calendar-grid-pro-1554923664903x211854095567290370', 'Add Header', 'url=https://syncathon-2.vercel.app', '1이 리피팅그룹의 6, 7 번째 칸에 위치한 경우', '/i', 'url=https://abit.ly/webtitan_open', 'url=https://forum.bubble.io/t/how-to-get-bubble-to-allow-duplicate-values-in-a-list/159048', 'url=https://www.synctree101.com/', 'highlight=rgb(255, 255, 204)', 'url=https://cigro.slack.com/apps/A0F7XDUAZ--?tab=settings&next_id=0', 'url=https://growingpeople.site/?utm_source=everynocode&utm_medium=community&utm_campign=1st_class_recruit&utm_content=hooking2', 'li indent=4 align=left', 'url=https://digitalinspiration.com/', 'color=rgb(136, 136, 136)', 'h3', 'url=https://www.synctree101.com/pricing', 'url=https://01022694274a.bubbleapps.io/sell/product_83LVzgVpT#error=login_required&state=a276be4b-3659-4da0-8a4e-57f427ccdbd5', '워크튠', 'url=https://disquiet.io/@tomilee', 'url=https://www.growingpeople.site/?utm_source=everynocode&utm_medium=partnership&utm_campign=2nd_class_recruit', 'highlight=var(--ricos-custom-h3-background-color,unset)', 'color=rgb(0, 117, 200)', 'url=https://event-us.kr/71238', '사요', 'highlight=rgb(204, 224, 245)', 'url=https://dansim-reservation.com/', 'url=https://www.vworld.kr/dtna/dtna_apiSvcFc_s001.do?apiNum=88', 'url=https://www.bubblebox.kr/plugin/aws_sqs', '서버에 저장되어 있는 시간 데이터', 'color=rgb(23, 23, 23)', 'url=https://www.swapstack.co/', 'url=https://bubble.io/plugin/iconify-1604083196447x185573648335896580', 'url=https://youtu.be/yN3vLdOIfXw?si=HDm44Ym8c8QvUoLR', 'url=https://event-us.kr/m/68990/8370', 'color=rgba(var(--sk_highlight,18,100,163),1)', 'u', 'url=https://forms.gle/MoRKgnNCTTpDpy9F9', 'url=https://edu.todomall.kr/?utm_source=everynocode&utm_medium=referral', 'url=https://blog.naver.com/synctree/223251415924', 'url=https://abit.ly/webtitan_ebook', '\"키워드로 검색\" 서치박스', '버블강좌', 'url=https://adsld.link/aitalkeo', 'url=https://focusmytest.waveon.io/', '텍스트3 -이미지3', 'video', '로그인, 회원가입', 'url=https://www.behance.net/gallery/186564697/-X-Litmers', 'url=https://www.youtube.com/c/AntiCodeBerlin', 'ol', 'url=https://rulemakers.com/', '/highlight'}\n"
          ]
        }
      ],
      "source": [
        "#[img = ...]와 같은 태그 종류 구하기\n",
        "\n",
        "# 괄호 안의 문자열을 찾아 집합에 추가하는 함수\n",
        "def find_brackets(text):\n",
        "    pattern = r'\\[([^\\]]+)\\]'\n",
        "    matches = re.findall(pattern, text)\n",
        "    pattern_set = set(matches)\n",
        "    return pattern_set\n",
        "# 데이터프레임에 대해 함수 적용\n",
        "string = ', '.join(df_qna['내용'].dropna(axis = 0).to_list())\n",
        "pattern_set = find_brackets(string)\n",
        "string = ', '.join(df_all_contents['내용'].dropna(axis = 0).to_list())\n",
        "pattern_set = pattern_set.union(find_brackets(string))\n",
        "string = ', '.join(df_all_comments['내용'].dropna(axis = 0).to_list())\n",
        "pattern_set = pattern_set.union(find_brackets(string))\n",
        "\n",
        "# 결과 출력\n",
        "print(\"Found bracketed text:\", pattern_set)"
      ]
    },
    {
      "cell_type": "code",
      "execution_count": 15,
      "metadata": {
        "id": "andtQJm-BE_W"
      },
      "outputs": [],
      "source": [
        "#데이터프레임 모든 셀에서 [ul], [ol] 등과 같은 태그 삭제, 이때 pattern_set에서 참조해서 직접 삭제([] 안에 유의미한 정보가 들어가있기도 하기 때문)\n",
        "# + url 형식, 이미지 형식, 줄바꿈 텍스트 삭제\n",
        "# + 이모티콘 인식 못해서 ??로 출력된 것들 다 삭제\n",
        "#삭제할 패턴 : [url=https ...],[size=정수],[/size],[ol data=정수],[/ol],[index],[/h3],[b],[/url],[color=rgb(정수, 정수, 정수)],[/b],[/img],[highlight=rgb(정수, 정수, 정수)],[ol],[color=var(--tertiary)],[indent data=정수],[/indent],[/i],[/h4],[/ul],[li indent=정수 align=left 또는 right 또는 등등?],[/color],[h4],[/code],[h3],[/highlight],[ul],[ul data=정수],[highlight=rgba(정수, 정수, 정수, 정수)],[u],[/color],[center],[i],[color=inherit],[/li],[/ml],[code],[/youtube],[youtube],[img width=정수%],[/u],[color=var(--primary-medium)],[ml],[/center],[highlight=var(--primary-low)]\n",
        "\n",
        "pattern = r'\\n|\\?\\?|\\S+\\.jpeg|\\S+\\.png|https:\\/\\/[^\\s]+|\\[url=https[^\\]]*\\]|\\[\\/url\\]|\\[size=\\d+\\]|\\[\\/size\\]|\\[b\\]|\\[\\/b\\]|\\[color=rgb\\(\\d+,\\s*\\d+,\\s*\\d+\\)\\]|\\[\\/color\\]|\\[color=[^\\]]*\\]|\\[highlight=rgb\\(\\d+,\\s*\\d+,\\s*\\d+\\)\\]|\\[\\/highlight\\]|\\[highlight=rgba\\(\\d+,\\s*\\d+,\\s*\\d+,\\s*\\d+\\)\\]|\\[ol data=\\d+\\]|\\[\\/ol\\]|\\[index\\]|\\[\\/index\\]|\\[h3\\]|\\[\\/h3\\]|\\[h4\\]|\\[\\/h4\\]|\\[ul\\]|\\[ul data=\\d+\\]|\\[\\/ul\\]|\\[li[^\\]]*\\]|\\[\\/li\\]|\\[indent data=\\d+\\]|\\[\\/indent\\]|\\[ml\\]|\\[\\/ml\\]|\\[youtube\\]|\\[\\/youtube\\]|\\[u\\]|\\[\\/u\\]|\\[center\\]|\\[\\/center\\]|\\[i\\]|\\[\\/i\\]|\\[highlight=[^\\]]*\\]|\\[ol\\]|\\[font=\".*?\"\\]|\\[/font\\]|\\[/?h[12]\\]|\\[highlight=.*?\\]|\\[/?quote\\]|\\[/?s\\]|\\[img width=\\d+%\\].*?\\[/img\\]|\\[code\\].*?\\[/code\\]|\\[img\\]'\n",
        "\n",
        "df_qna = df_qna.replace(pattern, '', regex = True)\n",
        "df_all_contents = df_all_contents.replace(pattern, '', regex = True)\n",
        "df_all_comments = df_all_comments.replace(pattern, '', regex = True)\n",
        "\n",
        "# print(df_qna['내용'])"
      ]
    },
    {
      "cell_type": "code",
      "execution_count": 16,
      "metadata": {
        "colab": {
          "base_uri": "https://localhost:8080/"
        },
        "id": "tv2SmfW0Zq3O",
        "outputId": "de9d0b06-9c86-49d7-802c-0d242cdf0e1e"
      },
      "outputs": [
        {
          "output_type": "stream",
          "name": "stdout",
          "text": [
            "Unnamed: 0                                         2\n",
            "내용                                           겸손하십니다 \n",
            "대댓글                                                 \n",
            "댓글               제가 약간 더 고생했을 뿐 \"모두\" 함께 으쌰으쌰해서 만든거죠!\n",
            "아카데미                                                \n",
            "오픈소스                                                \n",
            "작성일                                 2023-01-11 14:11\n",
            "작성자                                              이소정\n",
            "콘텐츠           베타 테스팅 버전까지 며칠이 채 안걸렸었죠..?첫 버전 봤을때의 반응\n",
            "타입                                              커뮤니티\n",
            "Name: 2, dtype: object\n"
          ]
        }
      ],
      "source": [
        "print(df_all_comments.iloc[2])"
      ]
    },
    {
      "cell_type": "code",
      "execution_count": null,
      "metadata": {
        "id": "V7iBr5_MGFpE"
      },
      "outputs": [],
      "source": [
        "#결측치 제거\n",
        "# df_qna = df_qna.dropna(axis = 0)\n",
        "# df_all_contents = df_all_contents.dropna(axis = 0)\n",
        "# df_all_comments = df_all_comments.dropna(axis = 0)"
      ]
    },
    {
      "cell_type": "code",
      "execution_count": 17,
      "metadata": {
        "id": "nd9Y_iz0VuvP"
      },
      "outputs": [],
      "source": [
        "# NaN 값을 공백('')으로 변환\n",
        "df_qna.fillna('', inplace=True)\n",
        "df_all_contents.fillna('', inplace=True)\n",
        "df_all_comments.fillna('', inplace=True)"
      ]
    },
    {
      "cell_type": "code",
      "execution_count": 18,
      "metadata": {
        "id": "oVeBVTHmLmKn"
      },
      "outputs": [],
      "source": [
        "#유니코드에 해당하는 이모티콘 제거\n",
        "df_qna['내용'] = df_qna['내용'].apply(remove_emojis)\n",
        "df_qna['답변'] = df_qna['답변'].apply(remove_emojis)\n",
        "df_qna['댓글'] = df_qna['댓글'].apply(remove_emojis)"
      ]
    },
    {
      "cell_type": "code",
      "execution_count": 19,
      "metadata": {
        "id": "cP5yhCskMPn9"
      },
      "outputs": [],
      "source": [
        "df_all_contents['내용'] = df_all_contents['내용'].apply(remove_emojis)\n",
        "df_all_contents['답변'] = df_all_contents['답변'].apply(remove_emojis)\n",
        "df_all_contents['댓글'] = df_all_contents['댓글'].apply(remove_emojis)"
      ]
    },
    {
      "cell_type": "code",
      "execution_count": 20,
      "metadata": {
        "id": "t2YOcgg5MXUM"
      },
      "outputs": [],
      "source": [
        "df_all_comments['내용'] = df_all_comments['내용'].apply(remove_emojis)\n",
        "df_all_comments['대댓글'] = df_all_comments['대댓글'].apply(remove_emojis)\n",
        "df_all_comments['댓글'] = df_all_comments['댓글'].apply(remove_emojis)"
      ]
    },
    {
      "cell_type": "code",
      "execution_count": 21,
      "metadata": {
        "id": "Jjm78XDqg67h"
      },
      "outputs": [],
      "source": [
        "# print(df_qna.iloc[4]['내용'])"
      ]
    },
    {
      "cell_type": "code",
      "execution_count": 22,
      "metadata": {
        "id": "v6AbeZl-i0b_"
      },
      "outputs": [],
      "source": [
        "#전처리된 세 파일을 저장\n",
        "df_qna.to_excel('/content/drive/My Drive/community_qna_preprocessed.xlsx')\n",
        "df_all_contents.to_csv('/content/drive/My Drive/community_all_contents_preprocessed.csv')\n",
        "df_all_comments.to_csv('/content/drive/My Drive/community_all_comments_preprocessed.csv')"
      ]
    },
    {
      "cell_type": "code",
      "execution_count": null,
      "metadata": {
        "id": "UZPXYq-XDgqF"
      },
      "outputs": [],
      "source": []
    }
  ],
  "metadata": {
    "colab": {
      "provenance": [],
      "authorship_tag": "ABX9TyMyHw+lCRc1uA2Z78KnI4Zd",
      "include_colab_link": true
    },
    "kernelspec": {
      "display_name": "Python 3",
      "name": "python3"
    },
    "language_info": {
      "name": "python"
    }
  },
  "nbformat": 4,
  "nbformat_minor": 0
}