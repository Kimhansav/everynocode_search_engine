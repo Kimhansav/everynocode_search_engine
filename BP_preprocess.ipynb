{
  "nbformat": 4,
  "nbformat_minor": 0,
  "metadata": {
    "colab": {
      "provenance": [],
      "authorship_tag": "ABX9TyOikiEFIbiZ4Qme3mQmZAxp",
      "include_colab_link": true
    },
    "kernelspec": {
      "name": "python3",
      "display_name": "Python 3"
    },
    "language_info": {
      "name": "python"
    }
  },
  "cells": [
    {
      "cell_type": "markdown",
      "metadata": {
        "id": "view-in-github",
        "colab_type": "text"
      },
      "source": [
        "<a href=\"https://colab.research.google.com/github/Kimhansav/everynocode_search_engine/blob/main/BP_preprocess.ipynb\" target=\"_parent\"><img src=\"https://colab.research.google.com/assets/colab-badge.svg\" alt=\"Open In Colab\"/></a>"
      ]
    },
    {
      "cell_type": "code",
      "execution_count": 1,
      "metadata": {
        "id": "CDyGi8SZgC7Y"
      },
      "outputs": [],
      "source": [
        "#모두의노코드 게시글, 한국 버블 사용자 커뮤니티 오픈톡방 내용 전처리 코드(로컬)"
      ]
    },
    {
      "cell_type": "code",
      "source": [
        "import pandas as pd\n",
        "import numpy as np\n",
        "import re\n",
        "import os\n",
        "import tensorflow as tf\n",
        "import urllib.request\n",
        "from tqdm import tqdm\n",
        "from transformers import shape_list, BertTokenizer, TFBertModel\n",
        "from tensorflow.keras.callbacks import EarlyStopping\n",
        "from tensorflow.keras.preprocessing.sequence import pad_sequences\n"
      ],
      "metadata": {
        "id": "xYQtFriCRJK1"
      },
      "execution_count": 2,
      "outputs": []
    },
    {
      "cell_type": "markdown",
      "source": [
        "## 카카오톡 대화내용 전처리"
      ],
      "metadata": {
        "id": "t7Kt3UmkFB7V"
      }
    },
    {
      "cell_type": "code",
      "source": [
        "#카카오톡 텍스트 로드 후 정규표현식으로 메시지 구분\n",
        "#C:\\Users\\벅성현\\Desktop\n",
        "from google.colab import drive\n",
        "drive.mount('/content/drive')\n",
        "file_path = '/content/drive/My Drive/KakaoTalkChats-1.txt'\n",
        "with open(file_path, 'r', encoding = 'utf-8') as f:\n",
        "  file_content = f.read()\n",
        "  # \"https\"를 포함하는 모든 링크 삭제(https 발견 시 그 다음에 나타나는 공백 바로 전까지의 문자열을 링크로 간주)\n",
        "  file_content = re.sub(r'https?:\\/\\/\\S+', '', file_content)"
      ],
      "metadata": {
        "colab": {
          "base_uri": "https://localhost:8080/"
        },
        "id": "3HpCDFSRgVjT",
        "outputId": "2eb00055-5a34-4198-c6ff-04e7c775013d"
      },
      "execution_count": 3,
      "outputs": [
        {
          "output_type": "stream",
          "name": "stdout",
          "text": [
            "Mounted at /content/drive\n"
          ]
        }
      ]
    },
    {
      "cell_type": "code",
      "source": [
        "date_pattern = re.compile(r'\\d{4}년 \\d{1,2}월 \\d{1,2}일')\n",
        "\n",
        "def split_messages_by_date(text):\n",
        "    # 날짜 위치를 찾아 리스트로 저장\n",
        "    dates = [match.start() for match in date_pattern.finditer(text)]\n",
        "    messages = []\n",
        "    send_dates = []\n",
        "\n",
        "    # 각 날짜 위치를 기준으로 메시지 분리\n",
        "    for i in range(len(dates)):\n",
        "        start = dates[i]\n",
        "        # 마지막 날짜라면, 텍스트의 끝까지를 메시지로 추출\n",
        "        end = dates[i + 1] if i + 1 < len(dates) else len(text)\n",
        "        message = text[start:end].strip()\n",
        "        idx_dot = message.find(':') #시간 사이에 있는 : 위치 찾아내기\n",
        "        idx_comma, idx_dot = message.find(','), message.find(':', idx_dot + 1)\n",
        "        if (idx_dot == -1): #누군가 메시지를 보낸 줄이 아닌 경우를 모두 포함, 이때는 메시지를 추가하지 않고 넘어간다.\n",
        "          continue\n",
        "        else:\n",
        "          #메시지 보낸 사람, 메시지 내용, 보낸 날짜로 message 구성\n",
        "          message = [message[idx_comma + 1 : idx_dot - 1], message[idx_dot + 1 :], message[0 : idx_comma]]\n",
        "        messages.append(message)\n",
        "\n",
        "    return messages\n",
        "\n",
        "messages = split_messages_by_date(file_content)\n",
        "print(messages[:5])"
      ],
      "metadata": {
        "colab": {
          "base_uri": "https://localhost:8080/"
        },
        "id": "WTDY9jsMdChX",
        "outputId": "762526ca-99fb-4432-c3ab-6abe1a77568b"
      },
      "execution_count": 4,
      "outputs": [
        {
          "output_type": "stream",
          "name": "stdout",
          "text": [
            "[[' 조용찬 / 백엔드 개발자', ' <사진 읽지 않음>', '2023년 6월 15일 오후 2:14'], [' 조용찬 / 백엔드 개발자', ' deltaPercent의 절대값이 큰 값부터 데이터를 정렬하고 싶은데.\\ndeltaPercent가 양수, 음수 모두 존재할 때 절대값으로 바꾸는 방법 아시는 분 있으실까요?', '2023년 6월 15일 오후 2:15'], [' 조용찬 / 백엔드 개발자', ' 예를 들어 deltaPercent 값이 -1, -3, 2, 5 이렇게 존재할 때, 이를 모두 절대값으로 바꾼 후 5, 3, 2, 1 순서로 정렬하려고 합니다!', '2023년 6월 15일 오후 2:19'], [' 배문형 / 프리랜스', ' 익스프레션 내에서 조건식을 사용할 수가 없어서 condition을 사용하는 수밖에 없겠는데요.. 쩝', '2023년 6월 15일 오후 2:26'], [' 배문형 / 프리랜스', ' condition으로 0보다 작으면 -1 곱하면 되겠습니다', '2023년 6월 15일 오후 2:27']]\n"
          ]
        }
      ]
    },
    {
      "cell_type": "code",
      "source": [
        "#첫 번째 요소는 사람 이름, 두 번째 요소는 텍스트 내용을 가지고 있는 리스트를 묶은 리스트를 pandas로 읽기\n",
        "df = pd.DataFrame(messages, columns = ['name', 'text', 'date'])\n",
        "\n",
        "#메시지에 .png, jpg, 삭제된 메시지입니다, 사진 읽지 않음, 동영상 읽지 않음 포함하면 삭제\n",
        "del_ids = df[df['text'].str.contains('\\.png|\\.jpg|삭제된 메시지입니다|사진 읽지 않음|동영상 읽지 않음')].index #df[df['text'].str.contains('<사진 읽지 않음>') | df['text'].str.contains('.png') | df['text'].str.contains('삭제된 메시지입니다') | df['text'].str.contains('<동영상 읽지 않음>')].index\n",
        "df = df.drop(del_ids)\n",
        "\n",
        "#메시지에 '사진'이나 '사진 2장'이나 '동영상'만 포함하는 행을 찾아 삭제\n",
        "df = df[~df['text'].str.match(r'^(사진|사진 \\d+장|동영상)$')]\n",
        "\n",
        "#메시지에 유니코드에 해당하는 이모티콘이 포함되어 있으면 삭제\n",
        "def remove_emojis(text):\n",
        "    # 이모티콘에 해당하는 유니코드 패턴\n",
        "    emoji_pattern = re.compile(\"[\"\n",
        "                               \"\\U0001F600-\\U0001F64F\"  # emoticons\n",
        "                               \"]+\", flags=re.UNICODE)\n",
        "    return emoji_pattern.sub(r'', text)\n",
        "\n",
        "df['text'] = df['text'].apply(remove_emojis)\n",
        "\n",
        "#메시지에 '@이름' 형식으로 태그한 내용이 있으면 삭제\n",
        "names = set(df['name'].to_list())\n",
        "\n",
        "# '@이름' 제거 함수\n",
        "def remove_names(text):\n",
        "  for name in names:\n",
        "    text = re.sub(r'@' + re.escape(name[1:]), '', text) #df['name'] 열을 보면 각 행의 맨 처음에 공백이 하나 있음\n",
        "  return text\n",
        "\n",
        "# 데이터프레임 열에 함수 적용\n",
        "df['text'] = df['text'].apply(remove_names)\n",
        "\n",
        "#메시지 첫 글자가 [면 해당 메시지 삭제, 홍보글의 형식임.\n",
        "df = df[~df['text'].str.startswith(' [')]\n",
        "\n",
        "#똑같은 사람이 연속적으로 메시지를 보냈다면 메시지들을 하나의 행으로 통합해서 문맥정보 담기\n",
        "# 'name' 열이 이전 행과 다른지 여부를 나타내는 불리언 시리즈 생성\n",
        "name_changed = df['name'] != df['name'].shift(1)\n",
        "\n",
        "# 'name_changed'의 누적합을 통해 'group' 열 생성\n",
        "df['group'] = name_changed.cumsum()\n",
        "\n",
        "# 'group'과 'name' 열을 기준으로 그룹화하고, 'text' 열의 값 합치기\n",
        "df = df.groupby(['group', 'name'])['text'].agg('\\n'.join).reset_index()\n",
        "df = df.drop(['group'], axis = 1)\n",
        "\n",
        "#줄바꿈 문자(\\n) 제거하기\n",
        "pattern = r'\\n'\n",
        "df = df.replace(pattern, '', regex = True)\n",
        "\n",
        "#결측치 제거. 확인해보니 한 행에 링크만 존재했던 경우 링크를 삭제하니 결측치(빈 문자열)가 되었다.\n",
        "#빈 문자열을 nan으로 변환하고 제거\n",
        "df = df.replace('', np.nan).dropna()"
      ],
      "metadata": {
        "id": "1hfuqL0RgeEj",
        "colab": {
          "base_uri": "https://localhost:8080/"
        },
        "outputId": "31dc6201-bae8-4ea7-9097-ae00b9592f4e"
      },
      "execution_count": 21,
      "outputs": [
        {
          "output_type": "stream",
          "name": "stderr",
          "text": [
            "<ipython-input-21-28e7520859bd>:41: SettingWithCopyWarning: \n",
            "A value is trying to be set on a copy of a slice from a DataFrame.\n",
            "Try using .loc[row_indexer,col_indexer] = value instead\n",
            "\n",
            "See the caveats in the documentation: https://pandas.pydata.org/pandas-docs/stable/user_guide/indexing.html#returning-a-view-versus-a-copy\n",
            "  df['group'] = name_changed.cumsum()\n"
          ]
        }
      ]
    },
    {
      "cell_type": "code",
      "source": [
        "text = df['text'].to_list()\n",
        "\n",
        "#결측치 검증\n",
        "print(type(text[:5]))\n",
        "print(all(isinstance(item, str) for item in text))\n",
        "for i, item in enumerate(text):\n",
        "  if not isinstance(item, str):\n",
        "    print(f\"Index {i}: {item} (Type: {type(item)})\")"
      ],
      "metadata": {
        "colab": {
          "base_uri": "https://localhost:8080/"
        },
        "id": "gQLZx3wy5kih",
        "outputId": "01898359-497e-4d72-9fe3-8a854b164ff1"
      },
      "execution_count": 22,
      "outputs": [
        {
          "output_type": "stream",
          "name": "stdout",
          "text": [
            "<class 'list'>\n",
            "True\n"
          ]
        }
      ]
    },
    {
      "cell_type": "code",
      "source": [
        "for i, item in enumerate(df):\n",
        "  if not isinstance(item, str):\n",
        "    print(f\"Index {i}: {item} (Type: {type(item)})\")"
      ],
      "metadata": {
        "id": "qewZHoAAJBPy"
      },
      "execution_count": 23,
      "outputs": []
    },
    {
      "cell_type": "code",
      "source": [
        "df['text']"
      ],
      "metadata": {
        "colab": {
          "base_uri": "https://localhost:8080/"
        },
        "id": "WdLa6lGseHiW",
        "outputId": "4d3df510-bddf-4e88-a04a-a91b071e2929"
      },
      "execution_count": 24,
      "outputs": [
        {
          "output_type": "execute_result",
          "data": {
            "text/plain": [
              "0        deltaPercent의 절대값이 큰 값부터 데이터를 정렬하고 싶은데.deltaP...\n",
              "1        익스프레션 내에서 조건식을 사용할 수가 없어서 condition을 사용하는 수밖에...\n",
              "2        유저의 input url에 따른 rss 피드 긁어오기를 하고 싶은데 헷갈리는 부분...\n",
              "3        혹시 버블 워크로드 최적화하는 \n",
              "팁이 있을까요? 아직 레거시 요금제 쓰고 있긴 한...\n",
              "4                        으헉 .. 백엔드만 사용하셔도 그렇게 많이 나오는군요 ..\n",
              "                              ...                        \n",
              "7879     겪은 적은 없는데 hard limit이 저 값으로 있어서 그런 것 같습니다. 처리...\n",
              "7880     db의 필드를 list로 했을 경우 그 리스트 안에 들어갈 수 있는 최대 수가 1...\n",
              "7881     설명만주셨는데 왜 그랬는지 바로 이해되네요명쾌한 설명 감사합니다 앞으로도 디비 설...\n",
              "7882                             DB설계 시 이 글이 도움이 많이 될겁니다.\n",
              "7883                          저도 바로 이해가네요. 재은님 설명감사합니다 :)\n",
              "Name: text, Length: 7859, dtype: object"
            ]
          },
          "metadata": {},
          "execution_count": 24
        }
      ]
    },
    {
      "cell_type": "code",
      "source": [
        "print(len(df))"
      ],
      "metadata": {
        "colab": {
          "base_uri": "https://localhost:8080/"
        },
        "id": "Ovikq81gj5G-",
        "outputId": "5d37b88d-1204-4f70-bd4b-685d969705ca"
      },
      "execution_count": 25,
      "outputs": [
        {
          "output_type": "stream",
          "name": "stdout",
          "text": [
            "7859\n"
          ]
        }
      ]
    },
    {
      "cell_type": "code",
      "source": [
        "# 제어 문자 제거 함수\n",
        "def remove_control_characters(s):\n",
        "    return ''.join(char for char in s if ord(char) >= 32 or char in '\\t\\n\\r')\n",
        "\n",
        "# 문자열 열에 함수 적용\n",
        "df['text'] = df['text'].apply(remove_control_characters)"
      ],
      "metadata": {
        "id": "9dXCgTw9DHO5"
      },
      "execution_count": 26,
      "outputs": []
    },
    {
      "cell_type": "code",
      "source": [
        "#.csv 파일로 google drive에 저장\n",
        "talk_save_path = '/content/drive/My Drive/talk_preprocess_result_short.xlsx'\n",
        "\n",
        "df.to_excel(talk_save_path)"
      ],
      "metadata": {
        "id": "gkVcUEfVokUd"
      },
      "execution_count": 27,
      "outputs": []
    },
    {
      "cell_type": "markdown",
      "source": [
        "## 모두의노코드 커뮤니티 게시글 전처리"
      ],
      "metadata": {
        "id": "3MCUav4vE67B"
      }
    },
    {
      "cell_type": "code",
      "source": [
        "#커뮤니티 글 로드\n",
        "qna_path = '/content/drive/My Drive/community_qna.xlsx'\n",
        "all_contents_path = '/content/drive/My Drive/community_all_contents.csv'\n",
        "all_comments_path = '/content/drive/My Drive/community_all_comments.csv'\n",
        "\n",
        "df_qna = pd.read_excel(qna_path)\n",
        "\n",
        "#_x1008_같은 기호를 자동으로 삭제하기 위해 cp949 인코딩으로 읽은 뒤 utf-8 인코딩으로 재처리\n",
        "df_all_contents_cp949 = pd.read_csv(all_contents_path, encoding = 'cp949')\n",
        "df_all_contents_cp949.to_csv('/content/drive/My Drive/community_all_contents_utf8.csv', encoding = 'utf-8')\n",
        "df_all_contents = pd.read_csv('/content/drive/My Drive/community_all_contents_utf8.csv', encoding = 'utf-8')\n",
        "\n",
        "df_all_comments_cp949 = pd.read_csv(all_comments_path, encoding = 'cp949')\n",
        "df_all_comments_cp949.to_csv('/content/drive/My Drive/community_all_comments_utf8.csv', encoding = 'utf-8')\n",
        "df_all_comments = pd.read_csv('/content/drive/My Drive/community_all_comments_utf8.csv', encoding = 'utf-8')\n",
        "\n",
        "print(df_qna)\n",
        "print(df_all_contents)\n",
        "print(df_all_comments)"
      ],
      "metadata": {
        "id": "TTQzqI0PvaOw",
        "colab": {
          "base_uri": "https://localhost:8080/"
        },
        "outputId": "b5c5ede3-c759-4210-b66b-dc53c5048674"
      },
      "execution_count": 31,
      "outputs": [
        {
          "output_type": "stream",
          "name": "stdout",
          "text": [
            "                                                    내용  \\\n",
            "0    안녕하세요! 우선 모두의노코드 사이트 런칭을 축하드립니다.\\n\\n이렇게 첫번째 질문...   \n",
            "1    저도 궁금해져서 열심히 찾아봤는데 콜아웃 같은 블록을 넣는 명령어나 함수는 찾지 못...   \n",
            "2    안녕하세요.\\n모두의 노코드 런칭을 축하드립니다. 앞으로 좋은 활동 기대합니다. \\...   \n",
            "3    [color=rgb(6, 40, 61)]헤더그룹 안에 로고와 CTA를 넣으시고 ma...   \n",
            "4    안녕하세요.\\n제주도에서 노션으로 동네 친구 매칭 서비스를 만들고 있습니다.\\n어제...   \n",
            "..                                                 ...   \n",
            "573  정보 구조나 와이어 프레임을 그릴 때 보통 피그마를 쓰시는 분이 많은데 한글로 된 ...   \n",
            "574  [img width=100%]//3146248aee8f8e5c27832897c3a0...   \n",
            "575  안녕하세요!\\n \\n현재 사업을 진행하면서 앱 서비스를 메인 비즈니스로 잡고 진행하...   \n",
            "576  안녕하세요! 버블로 외주개발하고 있는 리트머스팀입니다.\\n\\nyongjun@cigr...   \n",
            "577  안녕하세요~\\n\\n아래 링크로 톡 남겨놓으시면 견적 도와드리겠습니다!\\n\\nhttp...   \n",
            "\n",
            "                                                    답변  \\\n",
            "0    저도 궁금해져서 열심히 찾아봤는데 콜아웃 같은 블록을 넣는 명령어나 함수는 찾지 못...   \n",
            "1                                                  NaN   \n",
            "2    [color=rgb(6, 40, 61)]헤더그룹 안에 로고와 CTA를 넣으시고 ma...   \n",
            "3                                                  NaN   \n",
            "4    충분히 버블로 개발가능할 것 같아요! 이미 비슷한 수준의 어플을 개발한 사례가 많아...   \n",
            "..                                                 ...   \n",
            "573                                                NaN   \n",
            "574                                                NaN   \n",
            "575  안녕하세요! 버블로 외주개발하고 있는 리트머스팀입니다.\\n\\nyongjun@cigr...   \n",
            "576                                                NaN   \n",
            "577                                                NaN   \n",
            "\n",
            "                                                    댓글  \\\n",
            "0                                   첨부 파일이 표시되지 않네여 ㅠㅜ   \n",
            "1    감사합니다 희철님! \\n어제 웨비나 때 유의사항으로 말씀해주신 완변주의 성향이 있었...   \n",
            "2    헤더그룹 안에 로고와 CTA를 넣으시고 max width를 지정하시면 될 것 같아요...   \n",
            "3                                                  NaN   \n",
            "4    버블은 다 되요. 개인별 능력이 좌우합니다. 치킨은 살 안찌듯. , 1:1 매칭하는...   \n",
            "..                                                 ...   \n",
            "573                                                NaN   \n",
            "574  해당 텍스크 요소를 감싸고 있는 그룹이 allign parent로 되어 있는것 같아...   \n",
            "575  안녕하세요, 노코드 버블을 사용하여 개발하고있는 If dev 입니다.\\n\\n아래 링...   \n",
            "576                                                NaN   \n",
            "577                                                NaN   \n",
            "\n",
            "                            관련 링크                 작성일  작성자  \\\n",
            "0                             NaN 2023-01-11 18:46:00  김정민   \n",
            "1                             NaN 2023-01-12 00:35:00  하희철   \n",
            "2                             NaN 2023-01-12 17:06:00  김태연   \n",
            "3                             NaN 2023-01-12 18:31:00  정민교   \n",
            "4    https://waveon.io/apps/13633 2023-01-12 19:01:00  김정민   \n",
            "..                            ...                 ...  ...   \n",
            "573                           NaN 2024-04-11 16:36:00  이진호   \n",
            "574                           NaN 2024-04-11 23:59:00  이진호   \n",
            "575                           NaN 2024-04-17 14:44:00  공다올   \n",
            "576                           NaN 2024-04-17 14:53:00  정용준   \n",
            "577                           NaN 2024-04-17 15:28:00  이창호   \n",
            "\n",
            "                                                 제목 첨부 파일  \\\n",
            "0    노션 데이터베이스 속성 값을 이용하여 새로운 페이지 글 작성 시 노션 기능 넣는 법   NaN   \n",
            "1                                               NaN   NaN   \n",
            "2                     페이지 구성시 사이드여백 세팅하는 법이 궁금합니다.    NaN   \n",
            "3                                               NaN   NaN   \n",
            "4                              버블로 소개팅 앱 만들 수 있을까요?   NaN   \n",
            "..                                              ...   ...   \n",
            "573                         디자인 할 때 어떤 틀을 쓰시나요?????   NaN   \n",
            "574                       이거 번역 글자가 겹치는데 어떻게 하나요???   NaN   \n",
            "575                            노코드 앱 개발 견적을 알고 싶어요!   NaN   \n",
            "576                                             NaN   NaN   \n",
            "577                                             NaN   NaN   \n",
            "\n",
            "                                                Slug  \\\n",
            "0    노션-데이터베이스-속성-값을-이용하여-새로운-노션-페이지-글-작성-시-명령어-넣는-법   \n",
            "1                                                NaN   \n",
            "2                       페이지-구성시-사이드여백-세팅하는-법이-궁금합니다-   \n",
            "3                                                NaN   \n",
            "4                                버블로-소개팅-앱-만들-수-있을까요   \n",
            "..                                               ...   \n",
            "573                               디자인-할-때-어떤-틀을-쓰시나요   \n",
            "574                           이거-번역-글자가-겹치는데-어떻게-하나요   \n",
            "575                              노코드-앱-개발-견적을-알고-싶어요   \n",
            "576                                              NaN   \n",
            "577                                              NaN   \n",
            "\n",
            "                                                게시글 링크  \n",
            "0    https://everynocode.org/노션-데이터베이스-속성-값을-이용하여-새...  \n",
            "1                             https://everynocode.org/  \n",
            "2    https://everynocode.org/페이지-구성시-사이드여백-세팅하는-법이-...  \n",
            "3                             https://everynocode.org/  \n",
            "4          https://everynocode.org/버블로-소개팅-앱-만들-수-있을까요  \n",
            "..                                                 ...  \n",
            "573         https://everynocode.org/디자인-할-때-어떤-틀을-쓰시나요  \n",
            "574     https://everynocode.org/이거-번역-글자가-겹치는데-어떻게-하나요  \n",
            "575        https://everynocode.org/노코드-앱-개발-견적을-알고-싶어요  \n",
            "576                           https://everynocode.org/  \n",
            "577                           https://everynocode.org/  \n",
            "\n",
            "[578 rows x 10 columns]\n",
            "     Unnamed: 0                                                 내용   답변  \\\n",
            "0             0  드디어 시작이네요. 노코드 빌딩 문화가 잘 정착할 수 있도록 커뮤니티 여러분 잘 부...  NaN   \n",
            "1             1  베타 테스팅 버전까지 며칠이 채 안걸렸었죠..?\\n\\n첫 버전 봤을때의 반응\\n[i...  NaN   \n",
            "2             2  오류가 엄청 많을 겁니다. ??\\n\\n오류 제보는 하단 푸터의 '요청/제안'에서 글...  NaN   \n",
            "3             3  오늘 모두의 노코드 웨비나가 있는 날입니다?\\n모더레이터 분들 모두 열심히 준비했으...  NaN   \n",
            "4             4  [img width=100%]https://eventusstorage.blob.co...  NaN   \n",
            "..          ...                                                ...  ...   \n",
            "767         767  안녕하세요! 버블로 외주개발하고 있는 리트머스팀입니다.\\n\\nyongjun@cigr...  NaN   \n",
            "768         768  안녕하세요~\\n\\n아래 링크로 톡 남겨놓으시면 견적 도와드리겠습니다!\\n\\nhttp...  NaN   \n",
            "769         769  스티비는 국내 뉴스레터 서비스로, 카페24, 고도몰, 식스샵 등 다양한 서비스와 연...  NaN   \n",
            "770         770  버블로 랜딩페이지를 제작 중인데 버튼 형태로 한국어가 영어/일어로 전체 웹사이트가 ...  NaN   \n",
            "771         771  안녕하세요. 독학으로 페이지를 만들고 있는데요. \\n거의 다 만들었는데, 한가지 수...  NaN   \n",
            "\n",
            "                                                    댓글  \\\n",
            "0    노코드 문화 활성화 파이팅~!! , 응원합니다. 으쌰으쌰! 와방 좋네요! , 잘 부...   \n",
            "1    제가 약간 더 고생했을 뿐 \"모두\" 함께 으쌰으쌰해서 만든거죠! , mmmmm , ...   \n",
            "2                                                  NaN   \n",
            "3    벌써 수요일이라니... 믿기지가 않는군용 ㅠ , 안녕하세요 웨비나 신청을 했다가 듣...   \n",
            "4                                                  NaN   \n",
            "..                                                 ...   \n",
            "767                                                NaN   \n",
            "768                                                NaN   \n",
            "769                                                NaN   \n",
            "770                                                NaN   \n",
            "771                                                NaN   \n",
            "\n",
            "                                              링크               작성일        작성자  \\\n",
            "0                                            NaN  2023-01-10 21:55        하희철   \n",
            "1                                            NaN  2023-01-10 23:45      해치하이커   \n",
            "2                                            NaN  2023-01-10 23:54        하희철   \n",
            "3               https://event-us.kr/m/52353/3045  2023-01-11 14:17        이소정   \n",
            "4    https://event-us.kr/everynocode/event/52353  2023-01-11 15:27        이현범   \n",
            "..                                           ...               ...        ...   \n",
            "767                                          NaN  2024-04-17 14:53        정용준   \n",
            "768                                          NaN  2024-04-17 15:28        이창호   \n",
            "769                                          NaN   2024-04-18 1:56  bubblebox   \n",
            "770                                          NaN  2024-04-18 11:27        정태환   \n",
            "771                                          NaN  2024-04-18 12:16        이지훈   \n",
            "\n",
            "                                       제목 질문답변 첨부 파일 커뮤니티 타입 콘텐츠 타입  \\\n",
            "0                              모두의노코드 시작!  NaN   NaN   자유 주제   커뮤니티   \n",
            "1        모두의 노코드 사이트는 희철님이 버블로 제작하셨습니다 !!  NaN   NaN   자유 주제   커뮤니티   \n",
            "2               앞으로 일주일 정도는 가오픈이다 생각해주세요!  NaN   NaN   자유 주제   커뮤니티   \n",
            "3                       모두의 노코드 웨비나 준비완료!  NaN   NaN   자유 주제   커뮤니티   \n",
            "4          모두의노코드 웨비나 - '노코드 빌딩 무브먼트' 공유회  NaN   NaN     NaN    스퀘어   \n",
            "..                                    ...  ...   ...     ...    ...   \n",
            "767                                   NaN   답변   NaN   질문 답변   커뮤니티   \n",
            "768                                   NaN   답변   NaN   질문 답변   커뮤니티   \n",
            "769      [버블박스] 스티비 무료 플러그인이 이번 주에 출시됩니다!  NaN   NaN   빌더 로그   커뮤니티   \n",
            "770                 버블 랜딩페이지 제작 시 언어변환 기능   질문   NaN   질문 답변   커뮤니티   \n",
            "771  소셜 로그인 후 이전 페이지로 이동하게끔 하려면 어떻게해야될까요?   질문   NaN   질문 답변   커뮤니티   \n",
            "\n",
            "               태그                                 Slug  \n",
            "0             NaN                            모두의노코드-시작  \n",
            "1              버블       모두의-노코드-사이트는-희철님이-버블로-제작하셨습니다-  \n",
            "2             NaN             앞으로-일주일-정도는-가오픈이다-생각해주세요  \n",
            "3             NaN                     모두의-노코드-웨비나-준비완료  \n",
            "4    모두의노코드 , 웨비나         모두의노코드-웨비나---노코드-빌딩-무브먼트-공유회  \n",
            "..            ...                                  ...  \n",
            "767           NaN                                  NaN  \n",
            "768           NaN                                  NaN  \n",
            "769           NaN        버블박스-스티비-무료-플러그인이-이번-주에-출시됩니다  \n",
            "770           NaN                버블-랜딩페이지-제작-시-언어변환-기능  \n",
            "771           NaN  소셜-로그인-후-이전-페이지로-이동하게끔-하려면-어떻게해야될까요  \n",
            "\n",
            "[772 rows x 14 columns]\n",
            "      Unnamed: 0                                                 내용  \\\n",
            "0              0                제가 약간 더 고생했을 뿐 \"모두\" 함께 으쌰으쌰해서 만든거죠!   \n",
            "1              1                                  노코드 문화 활성화 파이팅~!!   \n",
            "2              2                                          겸손하십니다 ??   \n",
            "3              3                           벌써 수요일이라니... 믿기지가 않는군용 ㅠ   \n",
            "4              4                               응원합니다. 으쌰으쌰! 와방 좋네요!   \n",
            "...          ...                                                ...   \n",
            "1208        1208                                             감사합니다!   \n",
            "1209        1209           감사합니다, 희철님 :)\\n저도 응원하겠습니다!\\n좋은 하루 보내세요~~   \n",
            "1210        1210         저랑 이름이 비슷하신ㅎㅎㅎ 대표님 강연에서 이력보고 찾아왔습니다! 멋져요~~   \n",
            "1211        1211                                 노코드 세계 오신 걸 환영합니다!   \n",
            "1212        1212  안녕하세요, 노코드 버블을 사용하여 개발하고있는 If dev 입니다.\\n\\n아래 링...   \n",
            "\n",
            "                          대댓글  \\\n",
            "0     겸손하십니다 ?? , 대댓글 잘 만드셨네용   \n",
            "1                         NaN   \n",
            "2                         NaN   \n",
            "3                         NaN   \n",
            "4                         NaN   \n",
            "...                       ...   \n",
            "1208                      NaN   \n",
            "1209                      NaN   \n",
            "1210                      NaN   \n",
            "1211                      NaN   \n",
            "1212                      NaN   \n",
            "\n",
            "                                                     댓글  아카데미  오픈소스  \\\n",
            "0                                                   NaN   NaN   NaN   \n",
            "1                                                   NaN   NaN   NaN   \n",
            "2                   제가 약간 더 고생했을 뿐 \"모두\" 함께 으쌰으쌰해서 만든거죠!   NaN   NaN   \n",
            "3                                                   NaN   NaN   NaN   \n",
            "4                                                   NaN   NaN   NaN   \n",
            "...                                                 ...   ...   ...   \n",
            "1208                오 정말 필요한 분들 많을것 같아요! 버블박스 화이팅입니다 :)   NaN   NaN   \n",
            "1209  경험 공유해주셔서 감사해요! 서비스의 아이디어도 너무 좋고 글 내용도 많은 분들한테...   NaN   NaN   \n",
            "1210                  엌ㅋㅋㅋㅋㅋㅋ 반갑습니다 역시 글 제목에 훅이 있군요 ㅋㅋㅋ   NaN   NaN   \n",
            "1211                                                NaN   NaN   NaN   \n",
            "1212                                                NaN   NaN   NaN   \n",
            "\n",
            "                   작성일        작성자  \\\n",
            "0     2023-01-10 23:50        하희철   \n",
            "1     2023-01-11 13:41        이소정   \n",
            "2     2023-01-11 14:11        이소정   \n",
            "3     2023-01-11 14:20        하희철   \n",
            "4     2023-01-11 15:12        이현범   \n",
            "...                ...        ...   \n",
            "1208  2024-04-16 21:32  bubblebox   \n",
            "1209  2024-04-17 14:31        송재욱   \n",
            "1210  2024-04-17 14:50        하희정   \n",
            "1211  2024-04-17 15:26        이창호   \n",
            "1212  2024-04-17 15:31        김도헌   \n",
            "\n",
            "                                                    콘텐츠    타입  \n",
            "0     베타 테스팅 버전까지 며칠이 채 안걸렸었죠..?\\n\\n첫 버전 봤을때의 반응\\n[i...  커뮤니티  \n",
            "1     드디어 시작이네요. 노코드 빌딩 문화가 잘 정착할 수 있도록 커뮤니티 여러분 잘 부...  커뮤니티  \n",
            "2     베타 테스팅 버전까지 며칠이 채 안걸렸었죠..?\\n\\n첫 버전 봤을때의 반응\\n[i...  커뮤니티  \n",
            "3     오늘 모두의 노코드 웨비나가 있는 날입니다?\\n모더레이터 분들 모두 열심히 준비했으...  커뮤니티  \n",
            "4     드디어 시작이네요. 노코드 빌딩 문화가 잘 정착할 수 있도록 커뮤니티 여러분 잘 부...  커뮤니티  \n",
            "...                                                 ...   ...  \n",
            "1208  안녕하세요 국내 서비스 중심으로 버블 플러그인을 심심풀이 개발하고 있는 버블박스입니...  커뮤니티  \n",
            "1209  안녕하세요, 1인 창업을 하고 있는 송재욱입니다 ??\\n이번년도 초에 디지털마케팅 ...  커뮤니티  \n",
            "1210  광고회사 한 직군 한 우물만 10년이나 파다보니\\n앞으로의 커리어를 어떻게 해야할지...  커뮤니티  \n",
            "1211  광고회사 한 직군 한 우물만 10년이나 파다보니\\n앞으로의 커리어를 어떻게 해야할지...  커뮤니티  \n",
            "1212  안녕하세요!\\n \\n현재 사업을 진행하면서 앱 서비스를 메인 비즈니스로 잡고 진행하...  커뮤니티  \n",
            "\n",
            "[1213 rows x 10 columns]\n"
          ]
        }
      ]
    },
    {
      "cell_type": "code",
      "source": [
        "#[img = ...]와 같은 태그 종류 구하기\n",
        "\n",
        "# 괄호 안의 문자열을 찾아 집합에 추가하는 함수\n",
        "def find_brackets(text):\n",
        "    pattern = r'\\[([^\\]]+)\\]'\n",
        "    matches = re.findall(pattern, text)\n",
        "    pattern_set = set(matches)\n",
        "    return pattern_set\n",
        "# 전체 데이터프레임에 대해 함수 적용\n",
        "string = ', '.join(df_qna['내용'].dropna(axis = 0).to_list())\n",
        "pattern_set = find_brackets(string)\n",
        "\n",
        "# 결과 출력\n",
        "print(\"Found bracketed text:\", pattern_set)"
      ],
      "metadata": {
        "colab": {
          "base_uri": "https://localhost:8080/"
        },
        "id": "xL1RCCi3_zPK",
        "outputId": "61eaec0d-7826-4bb0-a3b4-6df91c59cfaf"
      },
      "execution_count": 32,
      "outputs": [
        {
          "output_type": "stream",
          "name": "stdout",
          "text": [
            "Found bracketed text: {'/center', '폴더', '마요', '/code', '/ml', 'index', 'data1, data2, data3, data4, data5', 'indent data=2', 'url=https://www.youtube.com/c/Buildcamp', '타입', 'landing_page', 'url=https://manual.bubble.io/help-guides/data/the-database/using-algolia', 'h4', '/size', '/color', 'ml', '/u', 'Add font', '0', 'youtube', 'url=https://everynocode.org/profile/%EC%A0%95%EC%9A%A9%EC%A4%8050', 'url=https://www.privacy.go.kr/front/per/inf/perInfStep01.do', 'color=rgb(161, 0, 0)', 'url=https://thecube.cubeapps.co/pwa/1', 'url=https://01022694274a.bubbleapps.io/sell/product_83LVzgVpT#error=login_required&state=a276be4b-3659-4da0-8a4e-57f427ccdbd5', 'ul', '처리완료', 'url=https://nlife-sojung.tistory.com/24', 'color=rgb(15, 15, 15)', 'url=https://www.youtube.com/c/BubbleIO', 'highlight=rgb(246, 248, 250)', '문제', '필드', 'url=https://www.airdev.co/post/how-customizable-is-bubble-web-app', '화면 내 작업 메뉴창', 'color=var(--primary-medium)', 'url=https://www.epochconverter.com/ ', 'url=https://www.youtube.com/channel/UCmHROldEv6YsdJCvRHldC7g', '드래그', 'color=rgb(0, 102, 204)', 'url=https://everynocode.org/content/%EB%B2%84%EB%B8%94-%EA%B3%B5%EB%B6%80%ED%95%98%EB%8B%A4%EA%B0%80-%EB%84%88%EB%AC%B4-%EB%A7%89%ED%98%80%EC%84%9C-%EA%B0%90%ED%9E%88-%EC%A7%88%EB%AC%B8%EC%98%AC%EB%A0%A4%EB%B4%85%EB%8B%88%EB%8B%A4-%E3%85%A0-%E3%85%A0--', 'color=var(--tertiary)', '/url', 'url=https://www.youtube.com/c/AntiCodeBerlin', '네이버/카카오 로그인', 'color=rgb(153, 51, 255)', '/img', 'size=4', '/i', '/b', 'url=https://bubble.io/plugin/simple-looper-workflow-repeater-1618892957212x885363265747026000', 'url=https://rulemakers.com/', 'Design 화면', '질문', 'url=https://nlife-sojung.tistory.com/29', 'ol data=2', 'ol data=3', 'li indent=3 align=left', 'code', 'url=https://blog.naver.com/no-code', 'url=https://bubblelabs.tistory.com/', 'url=https://www.youtube.com/channel/UCTL_mXO3qsgFc_3s2T5wlWg', '해결', '서버에 저장되어 있는 시간 데이터', 'ul data=1', 'highlight=var(--primary-low)', 'color=inherit', '구체적으로 어떤 기능을 구현할지', 'url=https://conversion-skill.tistory.com/entry/72-Option-SET-%EC%A4%91%EA%B8%89-%EB%B2%84%EB%B8%94%EC%97%90%EC%84%9C-%EC%98%B5%EC%85%98-%EC%84%B8%ED%8A%B8-%EA%B5%AC%EC%84%B1-%EC%82%AC%EC%9A%A9%ED%95%98%EA%B8%B0-%EC%84%9C%EB%A1%9C-%EB%8B%A4%EB%A5%B8-%EC%98%B5%EC%85%98-%EC%97%B0%EA%B2%B0-%EC%98%B5%EC%85%98%EC%82%AC%EC%9A%A9-%EC%98%88%EC%8B%9C', 'url=https://youtu.be/yN3vLdOIfXw?si=HDm44Ym8c8QvUoLR', '싫어', '답변', 'color=rgb(29, 28, 29)', '/highlight', 'url=https://bubble.io/plugin/browser-cookies-1668029257058x913446968585093100', '소셜 로그인 기능 활용', 'url=https://bubble.io/blog/build-netflix-without-code/', '/indent', 'url=https://bubble.io/template/infinite-list---input-1518065040884x274756206893203460', '구현 방법', '선호', 'url=https://www.ftc.go.kr/www/cop/bbs/selectBoardList.do?key=201&bbsId=BBSMSTR_000000002320&bbsTyCode=BBST01', 'color=rgb(230, 0, 0)', '실제로 화면에 표시되는 시간 데이터', 'url=https://progressier.com/', 'li indent=1 align=left', '에어테이블 사용', 'url=https://www.youtube.com/c/EchoLakeTechnologies', 'highlight=rgb(187, 187, 187)', 'url=https://www.algolia.com/', '/li', '원하는 상황', '데이터베이스', 'url=https://www.vworld.kr/dtna/dtna_apiSvcFc_s001.do?apiNum=88', '\"돋보기\" 검색버튼', '글작성 페이지', 'color=rgb(6, 40, 61)', 'img width=100%', '\"키워드로 검색\" 서치박스', 'url=https://chrome.google.com/webstore/detail/lighthouse/blipmdconlkpinefehnmjammfjpmpbjk?hl=ko', 'highlight=rgb(235, 214, 255)', 'url=https://www.synctree101.com/synctree-introduce', '사요', '/h4', 'highlight=rgba(0, 0, 0, 0)', 'highlight=rgb(255, 255, 0)', '/h3', 'Preview', 'url=https://navermaps.github.io/maps.js.ncp/docs/tutorial-2-Getting-Started.html', 'pg 서비스 연결', 'url=https://www.mycompiler.io/view/K7NfQ66euWu', 'url=https://www.youtube.com/c/BuildingWithBubble', '조아', 'url=https://api.ncloud-docs.com/docs/common-ncpapi#%EC%9D%B8%EC%A6%9D%ED%82%A4%EC%83%9D%EC%84%B1%ED%95%98%EA%B8%B0', 'color=rgb(51, 51, 51)', 'url=https://synctreestudio.com/#/account/signin', '도움 0', ' ', '위', '에어테이블 같은 외부 DB를 사용', 'highlight=rgb(255, 255, 204)', 'color=rgb(255, 153, 0)', 'i', 'url=https://every-time-i-pass-this-place.tistory.com/entry/javascript-%EC%9B%B9%EC%82%AC%EC%9D%B4%ED%8A%B8-%EB%B0%A9%EB%AC%B8%EC%9E%90%EC%88%98-%EC%BD%94%EB%93%9C', 'indent data=1', 'u', '1이 리피팅그룹의 6, 7 번째 칸에 위치한 경우', 'url=https://bubble.io/plugin/iconify-1604083196447x185573648335896580', 'url=https://forum.bubble.io/t/urgent-google-ads-marking-bubble-site-as-malware-and-malicious/280122/3', 'indent data=3', '상위폴더', '도움되었어요', 'li indent=2 align=left', '게시판 리스트(필터)', '404, NOT_FOUND, Type not found mytable[/color', 'url=https://icon-sets.iconify.design/', '문제점', '도움 1', 'size=1', 'url=https://doctorson0309.tistory.com/188', 'color=rgb(34, 34, 34)', 'highlight=rgb(250, 204, 204)', 'ol data=1', '도움', \"'1', '2', '3', '4', '4'\", 'h3', 'b', '데이터타입', 'ol', 'center', 'color=rgb(12, 12, 12)', 'url=https://nlife-sojung.tistory.com/', 'li indent=0 align=left', '/youtube', '/ol', '대기', \"{\\n????????label: '1',\\n????????data: chartData,\\n????????backgroundColor: 'rgba(255, 99, 132, 0.2)',\\n????????borderColor: 'rgba(255, 99, 132, 1)',\\n????????borderWidth: 1\\n??????}\", 'data에 31이 포함된 경우', '/ul', '컨트롤+F', '페이지소스 보기'}\n"
          ]
        }
      ]
    },
    {
      "cell_type": "code",
      "source": [
        "#데이터프레임 모든 셀에서 [ul], [ol] 등과 같은 태그 삭제, 이때 pattern_set에서 참조해서 직접 삭제([] 안에 유의미한 정보가 들어가있기도 하기 때문)\n",
        "# + url 형식, 이미지 형식, 줄바꿈 텍스트 삭제\n",
        "# + 이모티콘 인식 못해서 ??로 출력된 것들 다 삭제\n",
        "#삭제할 패턴 : [url=https ...],[size=정수],[/size],[ol data=정수],[/ol],[index],[/h3],[b],[/url],[color=rgb(정수, 정수, 정수)],[/b],[/img],[highlight=rgb(정수, 정수, 정수)],[ol],[color=var(--tertiary)],[indent data=정수],[/indent],[/i],[/h4],[/ul],[li indent=정수 align=left 또는 right 또는 등등?],[/color],[h4],[/code],[h3],[/highlight],[ul],[ul data=정수],[highlight=rgba(정수, 정수, 정수, 정수)],[u],[/color],[center],[i],[color=inherit],[/li],[/ml],[code],[/youtube],[youtube],[img width=정수%],[/u],[color=var(--primary-medium)],[ml],[/center],[highlight=var(--primary-low)]\n",
        "\n",
        "pattern = r'\\n|\\?\\?|\\S+\\.jpeg|\\S+\\.png|https:\\/\\/[^\\s]+|\\[url=https[^\\]]*\\]|\\[\\/url\\]|\\[size=\\d+\\]|\\[\\/size\\]|\\[b\\]|\\[\\/b\\]|\\[color=rgb\\(\\d+,\\s*\\d+,\\s*\\d+\\)\\]|\\[\\/color\\]|\\[color=[^\\]]*\\]|\\[highlight=rgb\\(\\d+,\\s*\\d+,\\s*\\d+\\)\\]|\\[\\/highlight\\]|\\[highlight=rgba\\(\\d+,\\s*\\d+,\\s*\\d+,\\s*\\d+\\)\\]|\\[ol data=\\d+\\]|\\[\\/ol\\]|\\[index\\]|\\[\\/index\\]|\\[h3\\]|\\[\\/h3\\]|\\[h4\\]|\\[\\/h4\\]|\\[ul\\]|\\[ul data=\\d+\\]|\\[\\/ul\\]|\\[li[^\\]]*\\]|\\[\\/li\\]|\\[indent data=\\d+\\]|\\[\\/indent\\]|\\[ml\\]|\\[\\/ml\\]|\\[code\\]|\\[\\/code\\]|\\[youtube\\]|\\[\\/youtube\\]|\\[img[^\\]]*\\]|\\[u\\]|\\[\\/u\\]|\\[center\\]|\\[\\/center\\]|\\[i\\]|\\[\\/i\\]|\\[highlight=[^\\]]*\\]|\\[ol\\]|\\[\\/img]'\n",
        "\n",
        "df_qna = df_qna.replace(pattern, '', regex = True)\n",
        "df_all_contents = df_all_contents.replace(pattern, '', regex = True)\n",
        "df_all_contents = df_all_contents.replace(pattern, '', regex = True)\n",
        "\n",
        "# print(df_qna['내용'])"
      ],
      "metadata": {
        "id": "andtQJm-BE_W"
      },
      "execution_count": 33,
      "outputs": []
    },
    {
      "cell_type": "code",
      "source": [
        "#결측치 제거\n",
        "df_qna = df_qna.dropna(axis = 0)\n",
        "df_all_contents = df_all_contents.dropna(axis = 0)\n",
        "df_all_comments = df_all_comments.dropna(axis = 0)"
      ],
      "metadata": {
        "id": "V7iBr5_MGFpE"
      },
      "execution_count": 34,
      "outputs": []
    },
    {
      "cell_type": "code",
      "source": [
        "#유니코드에 해당하는 이모티콘 제거\n",
        "df_qna['내용'] = df_qna['내용'].apply(remove_emojis)\n",
        "df_qna['답변'] = df_qna['답변'].apply(remove_emojis)\n",
        "df_qna['댓글'] = df_qna['댓글'].apply(remove_emojis)"
      ],
      "metadata": {
        "id": "oVeBVTHmLmKn"
      },
      "execution_count": 35,
      "outputs": []
    },
    {
      "cell_type": "code",
      "source": [
        "df_all_contents['내용'] = df_all_contents['내용'].apply(remove_emojis)\n",
        "df_all_contents['답변'] = df_all_contents['답변'].apply(remove_emojis)\n",
        "df_all_contents['댓글'] = df_all_contents['댓글'].apply(remove_emojis)"
      ],
      "metadata": {
        "id": "cP5yhCskMPn9"
      },
      "execution_count": 36,
      "outputs": []
    },
    {
      "cell_type": "code",
      "source": [
        "df_all_comments['내용'] = df_all_comments['내용'].apply(remove_emojis)\n",
        "df_all_comments['대댓글'] = df_all_comments['대댓글'].apply(remove_emojis)\n",
        "df_all_comments['댓글'] = df_all_comments['댓글'].apply(remove_emojis)"
      ],
      "metadata": {
        "id": "t2YOcgg5MXUM"
      },
      "execution_count": 37,
      "outputs": []
    },
    {
      "cell_type": "code",
      "source": [
        "# print(df_qna.iloc[4]['내용'])"
      ],
      "metadata": {
        "id": "Jjm78XDqg67h"
      },
      "execution_count": 38,
      "outputs": []
    },
    {
      "cell_type": "code",
      "source": [
        "#전처리된 세 파일을 .csv로 저장\n",
        "df_qna.to_excel('/content/drive/My Drive/community_qna_preprocessed.xlsx')\n",
        "df_all_contents.to_excel('/content/drive/My Drive/community_all_contents_preprocessed.xlsx')\n",
        "df_all_comments.to_excel('/content/drive/My Drive/community_all_comments_preprocessed.xlsx')"
      ],
      "metadata": {
        "id": "v6AbeZl-i0b_"
      },
      "execution_count": 39,
      "outputs": []
    },
    {
      "cell_type": "code",
      "source": [],
      "metadata": {
        "id": "UZPXYq-XDgqF"
      },
      "execution_count": 20,
      "outputs": []
    }
  ]
}