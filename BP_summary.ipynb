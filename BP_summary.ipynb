{
  "nbformat": 4,
  "nbformat_minor": 0,
  "metadata": {
    "colab": {
      "provenance": [],
      "gpuType": "T4",
      "authorship_tag": "ABX9TyN+8+zaowk7u/99cI8+VEZQ",
      "include_colab_link": true
    },
    "kernelspec": {
      "name": "python3",
      "display_name": "Python 3"
    },
    "language_info": {
      "name": "python"
    },
    "accelerator": "GPU",
    "widgets": {
      "application/vnd.jupyter.widget-state+json": {
        "6580b4bc9e0344ed9181835c11309595": {
          "model_module": "@jupyter-widgets/controls",
          "model_name": "HBoxModel",
          "model_module_version": "1.5.0",
          "state": {
            "_dom_classes": [],
            "_model_module": "@jupyter-widgets/controls",
            "_model_module_version": "1.5.0",
            "_model_name": "HBoxModel",
            "_view_count": null,
            "_view_module": "@jupyter-widgets/controls",
            "_view_module_version": "1.5.0",
            "_view_name": "HBoxView",
            "box_style": "",
            "children": [
              "IPY_MODEL_9dcc3f72fa2d42f2ac0562237a4bc4b3",
              "IPY_MODEL_a62170895263411c95b45047a26bd699",
              "IPY_MODEL_ab069d812f2b4099a749c4d4a6dcb687"
            ],
            "layout": "IPY_MODEL_7af8ab3524f14f03b7af21b4c2d018f2"
          }
        },
        "9dcc3f72fa2d42f2ac0562237a4bc4b3": {
          "model_module": "@jupyter-widgets/controls",
          "model_name": "HTMLModel",
          "model_module_version": "1.5.0",
          "state": {
            "_dom_classes": [],
            "_model_module": "@jupyter-widgets/controls",
            "_model_module_version": "1.5.0",
            "_model_name": "HTMLModel",
            "_view_count": null,
            "_view_module": "@jupyter-widgets/controls",
            "_view_module_version": "1.5.0",
            "_view_name": "HTMLView",
            "description": "",
            "description_tooltip": null,
            "layout": "IPY_MODEL_41ed2327a980475ca3eb26aab98c3053",
            "placeholder": "​",
            "style": "IPY_MODEL_42f413a6819e47d2a188aee52a0ee69c",
            "value": "Generating train split: "
          }
        },
        "a62170895263411c95b45047a26bd699": {
          "model_module": "@jupyter-widgets/controls",
          "model_name": "FloatProgressModel",
          "model_module_version": "1.5.0",
          "state": {
            "_dom_classes": [],
            "_model_module": "@jupyter-widgets/controls",
            "_model_module_version": "1.5.0",
            "_model_name": "FloatProgressModel",
            "_view_count": null,
            "_view_module": "@jupyter-widgets/controls",
            "_view_module_version": "1.5.0",
            "_view_name": "ProgressView",
            "bar_style": "success",
            "description": "",
            "description_tooltip": null,
            "layout": "IPY_MODEL_152d00b97a38457aac6d83110b945347",
            "max": 1,
            "min": 0,
            "orientation": "horizontal",
            "style": "IPY_MODEL_9a42ba0bd4704f7397c176ff3befd78a",
            "value": 1
          }
        },
        "ab069d812f2b4099a749c4d4a6dcb687": {
          "model_module": "@jupyter-widgets/controls",
          "model_name": "HTMLModel",
          "model_module_version": "1.5.0",
          "state": {
            "_dom_classes": [],
            "_model_module": "@jupyter-widgets/controls",
            "_model_module_version": "1.5.0",
            "_model_name": "HTMLModel",
            "_view_count": null,
            "_view_module": "@jupyter-widgets/controls",
            "_view_module_version": "1.5.0",
            "_view_name": "HTMLView",
            "description": "",
            "description_tooltip": null,
            "layout": "IPY_MODEL_834b75b38cf049c09489a9ae06715b8f",
            "placeholder": "​",
            "style": "IPY_MODEL_309205af669d44d8b0b5658d982a9012",
            "value": " 1697/0 [00:00&lt;00:00, 6048.02 examples/s]"
          }
        },
        "7af8ab3524f14f03b7af21b4c2d018f2": {
          "model_module": "@jupyter-widgets/base",
          "model_name": "LayoutModel",
          "model_module_version": "1.2.0",
          "state": {
            "_model_module": "@jupyter-widgets/base",
            "_model_module_version": "1.2.0",
            "_model_name": "LayoutModel",
            "_view_count": null,
            "_view_module": "@jupyter-widgets/base",
            "_view_module_version": "1.2.0",
            "_view_name": "LayoutView",
            "align_content": null,
            "align_items": null,
            "align_self": null,
            "border": null,
            "bottom": null,
            "display": null,
            "flex": null,
            "flex_flow": null,
            "grid_area": null,
            "grid_auto_columns": null,
            "grid_auto_flow": null,
            "grid_auto_rows": null,
            "grid_column": null,
            "grid_gap": null,
            "grid_row": null,
            "grid_template_areas": null,
            "grid_template_columns": null,
            "grid_template_rows": null,
            "height": null,
            "justify_content": null,
            "justify_items": null,
            "left": null,
            "margin": null,
            "max_height": null,
            "max_width": null,
            "min_height": null,
            "min_width": null,
            "object_fit": null,
            "object_position": null,
            "order": null,
            "overflow": null,
            "overflow_x": null,
            "overflow_y": null,
            "padding": null,
            "right": null,
            "top": null,
            "visibility": null,
            "width": null
          }
        },
        "41ed2327a980475ca3eb26aab98c3053": {
          "model_module": "@jupyter-widgets/base",
          "model_name": "LayoutModel",
          "model_module_version": "1.2.0",
          "state": {
            "_model_module": "@jupyter-widgets/base",
            "_model_module_version": "1.2.0",
            "_model_name": "LayoutModel",
            "_view_count": null,
            "_view_module": "@jupyter-widgets/base",
            "_view_module_version": "1.2.0",
            "_view_name": "LayoutView",
            "align_content": null,
            "align_items": null,
            "align_self": null,
            "border": null,
            "bottom": null,
            "display": null,
            "flex": null,
            "flex_flow": null,
            "grid_area": null,
            "grid_auto_columns": null,
            "grid_auto_flow": null,
            "grid_auto_rows": null,
            "grid_column": null,
            "grid_gap": null,
            "grid_row": null,
            "grid_template_areas": null,
            "grid_template_columns": null,
            "grid_template_rows": null,
            "height": null,
            "justify_content": null,
            "justify_items": null,
            "left": null,
            "margin": null,
            "max_height": null,
            "max_width": null,
            "min_height": null,
            "min_width": null,
            "object_fit": null,
            "object_position": null,
            "order": null,
            "overflow": null,
            "overflow_x": null,
            "overflow_y": null,
            "padding": null,
            "right": null,
            "top": null,
            "visibility": null,
            "width": null
          }
        },
        "42f413a6819e47d2a188aee52a0ee69c": {
          "model_module": "@jupyter-widgets/controls",
          "model_name": "DescriptionStyleModel",
          "model_module_version": "1.5.0",
          "state": {
            "_model_module": "@jupyter-widgets/controls",
            "_model_module_version": "1.5.0",
            "_model_name": "DescriptionStyleModel",
            "_view_count": null,
            "_view_module": "@jupyter-widgets/base",
            "_view_module_version": "1.2.0",
            "_view_name": "StyleView",
            "description_width": ""
          }
        },
        "152d00b97a38457aac6d83110b945347": {
          "model_module": "@jupyter-widgets/base",
          "model_name": "LayoutModel",
          "model_module_version": "1.2.0",
          "state": {
            "_model_module": "@jupyter-widgets/base",
            "_model_module_version": "1.2.0",
            "_model_name": "LayoutModel",
            "_view_count": null,
            "_view_module": "@jupyter-widgets/base",
            "_view_module_version": "1.2.0",
            "_view_name": "LayoutView",
            "align_content": null,
            "align_items": null,
            "align_self": null,
            "border": null,
            "bottom": null,
            "display": null,
            "flex": null,
            "flex_flow": null,
            "grid_area": null,
            "grid_auto_columns": null,
            "grid_auto_flow": null,
            "grid_auto_rows": null,
            "grid_column": null,
            "grid_gap": null,
            "grid_row": null,
            "grid_template_areas": null,
            "grid_template_columns": null,
            "grid_template_rows": null,
            "height": null,
            "justify_content": null,
            "justify_items": null,
            "left": null,
            "margin": null,
            "max_height": null,
            "max_width": null,
            "min_height": null,
            "min_width": null,
            "object_fit": null,
            "object_position": null,
            "order": null,
            "overflow": null,
            "overflow_x": null,
            "overflow_y": null,
            "padding": null,
            "right": null,
            "top": null,
            "visibility": null,
            "width": "20px"
          }
        },
        "9a42ba0bd4704f7397c176ff3befd78a": {
          "model_module": "@jupyter-widgets/controls",
          "model_name": "ProgressStyleModel",
          "model_module_version": "1.5.0",
          "state": {
            "_model_module": "@jupyter-widgets/controls",
            "_model_module_version": "1.5.0",
            "_model_name": "ProgressStyleModel",
            "_view_count": null,
            "_view_module": "@jupyter-widgets/base",
            "_view_module_version": "1.2.0",
            "_view_name": "StyleView",
            "bar_color": null,
            "description_width": ""
          }
        },
        "834b75b38cf049c09489a9ae06715b8f": {
          "model_module": "@jupyter-widgets/base",
          "model_name": "LayoutModel",
          "model_module_version": "1.2.0",
          "state": {
            "_model_module": "@jupyter-widgets/base",
            "_model_module_version": "1.2.0",
            "_model_name": "LayoutModel",
            "_view_count": null,
            "_view_module": "@jupyter-widgets/base",
            "_view_module_version": "1.2.0",
            "_view_name": "LayoutView",
            "align_content": null,
            "align_items": null,
            "align_self": null,
            "border": null,
            "bottom": null,
            "display": null,
            "flex": null,
            "flex_flow": null,
            "grid_area": null,
            "grid_auto_columns": null,
            "grid_auto_flow": null,
            "grid_auto_rows": null,
            "grid_column": null,
            "grid_gap": null,
            "grid_row": null,
            "grid_template_areas": null,
            "grid_template_columns": null,
            "grid_template_rows": null,
            "height": null,
            "justify_content": null,
            "justify_items": null,
            "left": null,
            "margin": null,
            "max_height": null,
            "max_width": null,
            "min_height": null,
            "min_width": null,
            "object_fit": null,
            "object_position": null,
            "order": null,
            "overflow": null,
            "overflow_x": null,
            "overflow_y": null,
            "padding": null,
            "right": null,
            "top": null,
            "visibility": null,
            "width": null
          }
        },
        "309205af669d44d8b0b5658d982a9012": {
          "model_module": "@jupyter-widgets/controls",
          "model_name": "DescriptionStyleModel",
          "model_module_version": "1.5.0",
          "state": {
            "_model_module": "@jupyter-widgets/controls",
            "_model_module_version": "1.5.0",
            "_model_name": "DescriptionStyleModel",
            "_view_count": null,
            "_view_module": "@jupyter-widgets/base",
            "_view_module_version": "1.2.0",
            "_view_name": "StyleView",
            "description_width": ""
          }
        },
        "b3939250ab014d12b50eaba3c27d2487": {
          "model_module": "@jupyter-widgets/controls",
          "model_name": "HBoxModel",
          "model_module_version": "1.5.0",
          "state": {
            "_dom_classes": [],
            "_model_module": "@jupyter-widgets/controls",
            "_model_module_version": "1.5.0",
            "_model_name": "HBoxModel",
            "_view_count": null,
            "_view_module": "@jupyter-widgets/controls",
            "_view_module_version": "1.5.0",
            "_view_name": "HBoxView",
            "box_style": "",
            "children": [
              "IPY_MODEL_e7cf4f2c5a6e4f52aaea061ee60efc6c",
              "IPY_MODEL_0dc69f862e954eaf835ae07d98867a7b",
              "IPY_MODEL_8c70803038ea4d87b3c6e9899d1164e0"
            ],
            "layout": "IPY_MODEL_a990a3952a6d46a9acd5552111f12bf9"
          }
        },
        "e7cf4f2c5a6e4f52aaea061ee60efc6c": {
          "model_module": "@jupyter-widgets/controls",
          "model_name": "HTMLModel",
          "model_module_version": "1.5.0",
          "state": {
            "_dom_classes": [],
            "_model_module": "@jupyter-widgets/controls",
            "_model_module_version": "1.5.0",
            "_model_name": "HTMLModel",
            "_view_count": null,
            "_view_module": "@jupyter-widgets/controls",
            "_view_module_version": "1.5.0",
            "_view_name": "HTMLView",
            "description": "",
            "description_tooltip": null,
            "layout": "IPY_MODEL_95be86e1e2e3438a822402d85eb3b79a",
            "placeholder": "​",
            "style": "IPY_MODEL_b750d944fc6348f888a4f9583b179ec0",
            "value": "Map (num_proc=4): 100%"
          }
        },
        "0dc69f862e954eaf835ae07d98867a7b": {
          "model_module": "@jupyter-widgets/controls",
          "model_name": "FloatProgressModel",
          "model_module_version": "1.5.0",
          "state": {
            "_dom_classes": [],
            "_model_module": "@jupyter-widgets/controls",
            "_model_module_version": "1.5.0",
            "_model_name": "FloatProgressModel",
            "_view_count": null,
            "_view_module": "@jupyter-widgets/controls",
            "_view_module_version": "1.5.0",
            "_view_name": "ProgressView",
            "bar_style": "success",
            "description": "",
            "description_tooltip": null,
            "layout": "IPY_MODEL_c88cd518c6534e898f33906d0f09a5ca",
            "max": 1696,
            "min": 0,
            "orientation": "horizontal",
            "style": "IPY_MODEL_429fb1e0a9bb47a59c4b72024c286378",
            "value": 1696
          }
        },
        "8c70803038ea4d87b3c6e9899d1164e0": {
          "model_module": "@jupyter-widgets/controls",
          "model_name": "HTMLModel",
          "model_module_version": "1.5.0",
          "state": {
            "_dom_classes": [],
            "_model_module": "@jupyter-widgets/controls",
            "_model_module_version": "1.5.0",
            "_model_name": "HTMLModel",
            "_view_count": null,
            "_view_module": "@jupyter-widgets/controls",
            "_view_module_version": "1.5.0",
            "_view_name": "HTMLView",
            "description": "",
            "description_tooltip": null,
            "layout": "IPY_MODEL_7bd6d3ff36c04791a6448bf543d757a8",
            "placeholder": "​",
            "style": "IPY_MODEL_23da0cd1b24742cfa7638f4a7356cf2a",
            "value": " 1696/1696 [00:03&lt;00:00, 747.80 examples/s]"
          }
        },
        "a990a3952a6d46a9acd5552111f12bf9": {
          "model_module": "@jupyter-widgets/base",
          "model_name": "LayoutModel",
          "model_module_version": "1.2.0",
          "state": {
            "_model_module": "@jupyter-widgets/base",
            "_model_module_version": "1.2.0",
            "_model_name": "LayoutModel",
            "_view_count": null,
            "_view_module": "@jupyter-widgets/base",
            "_view_module_version": "1.2.0",
            "_view_name": "LayoutView",
            "align_content": null,
            "align_items": null,
            "align_self": null,
            "border": null,
            "bottom": null,
            "display": null,
            "flex": null,
            "flex_flow": null,
            "grid_area": null,
            "grid_auto_columns": null,
            "grid_auto_flow": null,
            "grid_auto_rows": null,
            "grid_column": null,
            "grid_gap": null,
            "grid_row": null,
            "grid_template_areas": null,
            "grid_template_columns": null,
            "grid_template_rows": null,
            "height": null,
            "justify_content": null,
            "justify_items": null,
            "left": null,
            "margin": null,
            "max_height": null,
            "max_width": null,
            "min_height": null,
            "min_width": null,
            "object_fit": null,
            "object_position": null,
            "order": null,
            "overflow": null,
            "overflow_x": null,
            "overflow_y": null,
            "padding": null,
            "right": null,
            "top": null,
            "visibility": null,
            "width": null
          }
        },
        "95be86e1e2e3438a822402d85eb3b79a": {
          "model_module": "@jupyter-widgets/base",
          "model_name": "LayoutModel",
          "model_module_version": "1.2.0",
          "state": {
            "_model_module": "@jupyter-widgets/base",
            "_model_module_version": "1.2.0",
            "_model_name": "LayoutModel",
            "_view_count": null,
            "_view_module": "@jupyter-widgets/base",
            "_view_module_version": "1.2.0",
            "_view_name": "LayoutView",
            "align_content": null,
            "align_items": null,
            "align_self": null,
            "border": null,
            "bottom": null,
            "display": null,
            "flex": null,
            "flex_flow": null,
            "grid_area": null,
            "grid_auto_columns": null,
            "grid_auto_flow": null,
            "grid_auto_rows": null,
            "grid_column": null,
            "grid_gap": null,
            "grid_row": null,
            "grid_template_areas": null,
            "grid_template_columns": null,
            "grid_template_rows": null,
            "height": null,
            "justify_content": null,
            "justify_items": null,
            "left": null,
            "margin": null,
            "max_height": null,
            "max_width": null,
            "min_height": null,
            "min_width": null,
            "object_fit": null,
            "object_position": null,
            "order": null,
            "overflow": null,
            "overflow_x": null,
            "overflow_y": null,
            "padding": null,
            "right": null,
            "top": null,
            "visibility": null,
            "width": null
          }
        },
        "b750d944fc6348f888a4f9583b179ec0": {
          "model_module": "@jupyter-widgets/controls",
          "model_name": "DescriptionStyleModel",
          "model_module_version": "1.5.0",
          "state": {
            "_model_module": "@jupyter-widgets/controls",
            "_model_module_version": "1.5.0",
            "_model_name": "DescriptionStyleModel",
            "_view_count": null,
            "_view_module": "@jupyter-widgets/base",
            "_view_module_version": "1.2.0",
            "_view_name": "StyleView",
            "description_width": ""
          }
        },
        "c88cd518c6534e898f33906d0f09a5ca": {
          "model_module": "@jupyter-widgets/base",
          "model_name": "LayoutModel",
          "model_module_version": "1.2.0",
          "state": {
            "_model_module": "@jupyter-widgets/base",
            "_model_module_version": "1.2.0",
            "_model_name": "LayoutModel",
            "_view_count": null,
            "_view_module": "@jupyter-widgets/base",
            "_view_module_version": "1.2.0",
            "_view_name": "LayoutView",
            "align_content": null,
            "align_items": null,
            "align_self": null,
            "border": null,
            "bottom": null,
            "display": null,
            "flex": null,
            "flex_flow": null,
            "grid_area": null,
            "grid_auto_columns": null,
            "grid_auto_flow": null,
            "grid_auto_rows": null,
            "grid_column": null,
            "grid_gap": null,
            "grid_row": null,
            "grid_template_areas": null,
            "grid_template_columns": null,
            "grid_template_rows": null,
            "height": null,
            "justify_content": null,
            "justify_items": null,
            "left": null,
            "margin": null,
            "max_height": null,
            "max_width": null,
            "min_height": null,
            "min_width": null,
            "object_fit": null,
            "object_position": null,
            "order": null,
            "overflow": null,
            "overflow_x": null,
            "overflow_y": null,
            "padding": null,
            "right": null,
            "top": null,
            "visibility": null,
            "width": null
          }
        },
        "429fb1e0a9bb47a59c4b72024c286378": {
          "model_module": "@jupyter-widgets/controls",
          "model_name": "ProgressStyleModel",
          "model_module_version": "1.5.0",
          "state": {
            "_model_module": "@jupyter-widgets/controls",
            "_model_module_version": "1.5.0",
            "_model_name": "ProgressStyleModel",
            "_view_count": null,
            "_view_module": "@jupyter-widgets/base",
            "_view_module_version": "1.2.0",
            "_view_name": "StyleView",
            "bar_color": null,
            "description_width": ""
          }
        },
        "7bd6d3ff36c04791a6448bf543d757a8": {
          "model_module": "@jupyter-widgets/base",
          "model_name": "LayoutModel",
          "model_module_version": "1.2.0",
          "state": {
            "_model_module": "@jupyter-widgets/base",
            "_model_module_version": "1.2.0",
            "_model_name": "LayoutModel",
            "_view_count": null,
            "_view_module": "@jupyter-widgets/base",
            "_view_module_version": "1.2.0",
            "_view_name": "LayoutView",
            "align_content": null,
            "align_items": null,
            "align_self": null,
            "border": null,
            "bottom": null,
            "display": null,
            "flex": null,
            "flex_flow": null,
            "grid_area": null,
            "grid_auto_columns": null,
            "grid_auto_flow": null,
            "grid_auto_rows": null,
            "grid_column": null,
            "grid_gap": null,
            "grid_row": null,
            "grid_template_areas": null,
            "grid_template_columns": null,
            "grid_template_rows": null,
            "height": null,
            "justify_content": null,
            "justify_items": null,
            "left": null,
            "margin": null,
            "max_height": null,
            "max_width": null,
            "min_height": null,
            "min_width": null,
            "object_fit": null,
            "object_position": null,
            "order": null,
            "overflow": null,
            "overflow_x": null,
            "overflow_y": null,
            "padding": null,
            "right": null,
            "top": null,
            "visibility": null,
            "width": null
          }
        },
        "23da0cd1b24742cfa7638f4a7356cf2a": {
          "model_module": "@jupyter-widgets/controls",
          "model_name": "DescriptionStyleModel",
          "model_module_version": "1.5.0",
          "state": {
            "_model_module": "@jupyter-widgets/controls",
            "_model_module_version": "1.5.0",
            "_model_name": "DescriptionStyleModel",
            "_view_count": null,
            "_view_module": "@jupyter-widgets/base",
            "_view_module_version": "1.2.0",
            "_view_name": "StyleView",
            "description_width": ""
          }
        }
      }
    }
  },
  "cells": [
    {
      "cell_type": "markdown",
      "metadata": {
        "id": "view-in-github",
        "colab_type": "text"
      },
      "source": [
        "<a href=\"https://colab.research.google.com/github/Kimhansav/everynocode_search_engine/blob/main/BP_summary.ipynb\" target=\"_parent\"><img src=\"https://colab.research.google.com/assets/colab-badge.svg\" alt=\"Open In Colab\"/></a>"
      ]
    },
    {
      "cell_type": "code",
      "execution_count": null,
      "metadata": {
        "id": "Qd9WDagAzTLb"
      },
      "outputs": [],
      "source": [
        "#한국 버블 커뮤니티 오픈톡방 대화의 질-답, 모두의노코드 질-답+댓 각각을 요약해 저장하는 코드(로컬)"
      ]
    },
    {
      "cell_type": "code",
      "source": [
        "import pandas as pd\n",
        "import numpy as np\n",
        "import re\n",
        "import os\n",
        "from tqdm import tqdm\n",
        "from transformers import shape_list, BertTokenizer, TFBertModel\n",
        "from tensorflow.keras.callbacks import EarlyStopping\n",
        "from tensorflow.keras.preprocessing.sequence import pad_sequences\n",
        "import tensorflow as tf\n",
        "import urllib.request\n",
        "!pip install datasets"
      ],
      "metadata": {
        "id": "kO_ySXL035iu"
      },
      "execution_count": null,
      "outputs": []
    },
    {
      "cell_type": "code",
      "source": [
        "from transformers import PreTrainedTokenizerFast, BartForConditionalGeneration\n",
        "\n",
        "# Load Model and Tokenizer\n",
        "tokenizer = PreTrainedTokenizerFast.from_pretrained(\"EbanLee/kobart-summary-v3\")\n",
        "model = BartForConditionalGeneration.from_pretrained(\"EbanLee/kobart-summary-v3\")"
      ],
      "metadata": {
        "id": "t24EmvPlzXtm"
      },
      "execution_count": null,
      "outputs": []
    },
    {
      "cell_type": "code",
      "source": [
        "from datasets import Dataset, load_dataset\n",
        "import torch\n",
        "from google.colab import drive\n",
        "from sklearn.model_selection import StratifiedKFold, train_test_split\n",
        "from torch.utils.data import DataLoader\n",
        "drive.mount('/content/drive')"
      ],
      "metadata": {
        "id": "g5n6uhtYCApo",
        "colab": {
          "base_uri": "https://localhost:8080/"
        },
        "outputId": "a3027fdd-1ab0-4a61-9097-311ddc54e0ab"
      },
      "execution_count": null,
      "outputs": [
        {
          "output_type": "stream",
          "name": "stdout",
          "text": [
            "Mounted at /content/drive\n"
          ]
        }
      ]
    },
    {
      "cell_type": "code",
      "source": [
        "#카카오톡 질답세션 불러오고 Dataset으로 받기\n",
        "file_path = '/content/drive/My Drive/judge_answer_result_pongjin_roberta_with_kornli_range10_qstandard0.63_astandard0.6.csv'\n",
        "\n",
        "df1 = pd.read_csv(file_path, names = [\"question\", \"answer\"], header = None)\n",
        "\n",
        "dataset = load_dataset(\"csv\", data_files=file_path, column_names=[\"question\", \"answer\"])"
      ],
      "metadata": {
        "id": "b7TPg98Mzsnj",
        "colab": {
          "base_uri": "https://localhost:8080/",
          "height": 49,
          "referenced_widgets": [
            "6580b4bc9e0344ed9181835c11309595",
            "9dcc3f72fa2d42f2ac0562237a4bc4b3",
            "a62170895263411c95b45047a26bd699",
            "ab069d812f2b4099a749c4d4a6dcb687",
            "7af8ab3524f14f03b7af21b4c2d018f2",
            "41ed2327a980475ca3eb26aab98c3053",
            "42f413a6819e47d2a188aee52a0ee69c",
            "152d00b97a38457aac6d83110b945347",
            "9a42ba0bd4704f7397c176ff3befd78a",
            "834b75b38cf049c09489a9ae06715b8f",
            "309205af669d44d8b0b5658d982a9012"
          ]
        },
        "outputId": "47e1821b-1937-4def-ed0b-6b89e9cc2f7e"
      },
      "execution_count": null,
      "outputs": [
        {
          "output_type": "display_data",
          "data": {
            "text/plain": [
              "Generating train split: 0 examples [00:00, ? examples/s]"
            ],
            "application/vnd.jupyter.widget-view+json": {
              "version_major": 2,
              "version_minor": 0,
              "model_id": "6580b4bc9e0344ed9181835c11309595"
            }
          },
          "metadata": {}
        }
      ]
    },
    {
      "cell_type": "code",
      "source": [
        "#모두의노코드 질-답+댓 세션 불러오고 Dataset으로 받기\n",
        "file_path = '/content/drive/My Drive/community_preprocess_result.csv'\n",
        "\n",
        "df2 = pd.read_csv(file_path, names = [\"question\", \"answer\"], header = None)\n",
        "\n",
        "dataset = load_dataset(\"csv\", data_files = file_path, column_names = [\"question\", \"answer\"])"
      ],
      "metadata": {
        "id": "MjJ-Fli4TuPV"
      },
      "execution_count": null,
      "outputs": []
    },
    {
      "cell_type": "code",
      "source": [
        "# #두 데이터프레임 합치고 Dataset으로 변환하기\n",
        "# df1.append(df2)\n",
        "dataset = Dataset.from_pandas(df1)"
      ],
      "metadata": {
        "id": "7F4viGJpWI1z"
      },
      "execution_count": null,
      "outputs": []
    },
    {
      "cell_type": "code",
      "source": [
        "# Ensure the classifier is using GPU\n",
        "device = torch.device(\"cuda\" if torch.cuda.is_available() else \"cpu\")\n",
        "\n",
        "model.to(device)"
      ],
      "metadata": {
        "id": "fqUXPMWS90va"
      },
      "execution_count": null,
      "outputs": []
    },
    {
      "cell_type": "code",
      "source": [
        "# 데이터셋 전처리 (예제)\n",
        "texts = [\"This is a long text that needs to be summarized.\", \"Here's another text for summarization.\"]\n",
        "tokenized_inputs = tokenizer(texts, padding=\"longest\", truncation=True, return_tensors=\"pt\", max_length=1024)\n",
        "\n",
        "print(tokenized_inputs)"
      ],
      "metadata": {
        "id": "SJSfxOhu_0zZ"
      },
      "execution_count": null,
      "outputs": []
    },
    {
      "cell_type": "code",
      "source": [
        "# 데이터셋 질문 전처리 함수, Dataset 열을 인자로 받는다.\n",
        "def preprocess_question(examples):\n",
        "    return tokenizer(examples['question'], return_tensors = \"pt\", truncation=True, padding=\"max_length\", max_length=1026)\n"
      ],
      "metadata": {
        "id": "IycD9SF-BPwx"
      },
      "execution_count": null,
      "outputs": []
    },
    {
      "cell_type": "code",
      "source": [
        "#데이터를 gpu로 이동시킬 때 DataLoader에서 사용되는 collate_fn 함수\n",
        "def collate_fn(batch):\n",
        "    input_ids = torch.stack([torch.tensor(item['input_ids'], dtype = torch.long) for item in batch])\n",
        "    attention_mask = torch.stack([torch.tensor(item['attention_mask'], dtype = torch.long) for item in batch])\n",
        "    return {\"input_ids\": input_ids, \"attention_mask\": attention_mask}"
      ],
      "metadata": {
        "id": "acmLJierP5nH"
      },
      "execution_count": null,
      "outputs": []
    },
    {
      "cell_type": "code",
      "source": [
        "#모델로 question summary 리스트 생성\n",
        "question_summary = []\n",
        "\n",
        "# Encoding question\n",
        "question_text_dict = {\"question\" : dataset[\"question\"][1:]} #dataset[\"question\"]의 첫 요소인 'question'삭제\n",
        "question_text = Dataset.from_dict(question_text_dict)\n",
        "tokenized_question_inputs = question_text.map(preprocess_question, num_proc = 4, batched = True, batch_size = 128)\n",
        "\n",
        "#데이터를 gpu로 이동시킬 때 DataLoader에서 사용되는 collate_fn 함수\n",
        "def collate_fn(batch):\n",
        "    input_ids = torch.stack([torch.tensor(item['input_ids'], dtype = torch.long) for item in batch])\n",
        "    attention_mask = torch.stack([torch.tensor(item['attention_mask'], dtype = torch.long) for item in batch])\n",
        "    return {\"input_ids\": input_ids, \"attention_mask\": attention_mask}\n",
        "\n",
        "loader = DataLoader(tokenized_question_inputs, batch_size=16, collate_fn=collate_fn)\n",
        "\n",
        "# Question summary ids 생성,배치 단위\n",
        "for batch in loader:\n",
        "  #배치 단위로 loader에서 gpu로 데이터 전송\n",
        "  input_ids = batch['input_ids'].to(device)\n",
        "  attention_mask = batch['attention_mask'].to(device)\n",
        "\n",
        "  question_summary_ids = model.generate(\n",
        "    input_ids = input_ids,\n",
        "    attention_mask = attention_mask,\n",
        "    bos_token_id = model.config.bos_token_id,\n",
        "    eos_token_id = model.config.eos_token_id,\n",
        "    length_penalty = 1.0,\n",
        "    max_length = 40,\n",
        "    min_length = 5,\n",
        "    num_beams = 6,\n",
        "    repetition_penalty = 1.5,\n",
        "    no_repeat_ngram_size = 3,\n",
        "  )\n",
        "  #생성한 Question summary ids를 다시 tokenizer가 있는 cpu로 이동\n",
        "  question_summary_ids = question_summary_ids.cpu()\n",
        "\n",
        "  #배치마다 answer_summary_ids를 생성하기 때문에 cpu로 옮겨진 answer_summary_ids 배치 1개를 answer_summary 리스트에 옮기기\n",
        "  question_summary.append(question_summary_ids)\n",
        "\n",
        "# Decoding question summary (list)\n",
        "qsum = []\n",
        "\n",
        "#배치 단위로 decode 처리\n",
        "for question_summary_result in question_summary:\n",
        "  qsum_batch = [tokenizer.decode(question_summary_result[i], skip_special_tokens = True) for i in tqdm(range(len(question_summary_result)), desc = \"Decoding question summary\")]\n",
        "  qsum.append(qsum_batch)\n",
        "\n",
        "#배치 풀기\n",
        "qsum = sum(qsum, [])\n",
        "\n",
        "print(qsum[:5])\n"
      ],
      "metadata": {
        "id": "mKyT5fM-7bLJ"
      },
      "execution_count": null,
      "outputs": []
    },
    {
      "cell_type": "code",
      "source": [
        "# 데이터셋 답변 전처리 함수, Dataset 열을 인자로 받는다. 질문 전처리 함수와 공통적으로 사용하지 않은 이유는 examples['answer']형태로 입력하지 않으면 오류가 발생한다.\n",
        "def preprocess_answer(examples):\n",
        "    return tokenizer(examples['answer'], return_tensors = \"pt\", truncation=True, padding=\"max_length\", max_length=1026)\n"
      ],
      "metadata": {
        "id": "AwYKHZIEIZD5"
      },
      "execution_count": null,
      "outputs": []
    },
    {
      "cell_type": "code",
      "source": [
        "#모델로 answer summary 리스트 생성\n",
        "answer_summary = []\n",
        "\n",
        "# Encoding answer\n",
        "answer_text_dict = {\"answer\" : dataset[\"answer\"][1:]} #dataset[\"answer\"]의 첫 요소인 'answer'삭제\n",
        "answer_text = Dataset.from_dict(answer_text_dict)\n",
        "tokenized_answer_inputs = answer_text.map(preprocess_answer, num_proc = 4, batched = True, batch_size = 128)\n",
        "\n",
        "loader = DataLoader(tokenized_answer_inputs, batch_size=16, collate_fn=collate_fn)\n",
        "\n",
        "# Answer summary ids 생성,배치 단위, question때와 다른 하이퍼파라미터 필요(요약길이)\n",
        "for batch in loader:\n",
        "  #배치 단위로 loader에서 gpu로 데이터 전송\n",
        "  input_ids = batch['input_ids'].to(device)\n",
        "  attention_mask = batch['attention_mask'].to(device)\n",
        "\n",
        "  answer_summary_ids = model.generate(\n",
        "    input_ids = input_ids,\n",
        "    attention_mask = attention_mask,\n",
        "    bos_token_id = model.config.bos_token_id,\n",
        "    eos_token_id = model.config.eos_token_id,\n",
        "    length_penalty = 1.0,\n",
        "    max_length = 70,\n",
        "    min_length = 5,\n",
        "    num_beams = 6,\n",
        "    repetition_penalty = 1.5,\n",
        "    no_repeat_ngram_size = 3,\n",
        "  )\n",
        "\n",
        "  #생성한 Answer summary ids를 다시 tokenizer가 있는 cpu로 이동\n",
        "  answer_summary_ids = answer_summary_ids.cpu()\n",
        "\n",
        "  #배치마다 answer_summary_ids를 생성하기 때문에 cpu로 옮겨진 answer_summary_ids 배치 1개를 answer_summary 리스트에 옮기기\n",
        "  answer_summary.append(answer_summary_ids)\n",
        "\n",
        "# Decoding question summary (list)\n",
        "asum = []\n",
        "\n",
        "#배치 단위로 decode 처리\n",
        "for answer_summary_result in answer_summary:\n",
        "  asum_batch = [tokenizer.decode(answer_summary_result[i], skip_special_tokens = True) for i in tqdm(range(len(answer_summary_result)), desc = \"Decoding answer summary\")]\n",
        "  asum.append(asum_batch)\n",
        "\n",
        "#배치 풀기\n",
        "asum = sum(asum, [])\n",
        "\n",
        "print(asum[:5])\n"
      ],
      "metadata": {
        "id": "u7vxvQA6AMxU",
        "colab": {
          "base_uri": "https://localhost:8080/",
          "height": 49,
          "referenced_widgets": [
            "b3939250ab014d12b50eaba3c27d2487",
            "e7cf4f2c5a6e4f52aaea061ee60efc6c",
            "0dc69f862e954eaf835ae07d98867a7b",
            "8c70803038ea4d87b3c6e9899d1164e0",
            "a990a3952a6d46a9acd5552111f12bf9",
            "95be86e1e2e3438a822402d85eb3b79a",
            "b750d944fc6348f888a4f9583b179ec0",
            "c88cd518c6534e898f33906d0f09a5ca",
            "429fb1e0a9bb47a59c4b72024c286378",
            "7bd6d3ff36c04791a6448bf543d757a8",
            "23da0cd1b24742cfa7638f4a7356cf2a"
          ]
        },
        "outputId": "3c357bbc-a3aa-4027-bf55-160f66fda044"
      },
      "execution_count": null,
      "outputs": [
        {
          "data": {
            "application/vnd.jupyter.widget-view+json": {
              "model_id": "b3939250ab014d12b50eaba3c27d2487",
              "version_major": 2,
              "version_minor": 0
            },
            "text/plain": [
              "Map (num_proc=4):   0%|          | 0/1696 [00:00<?, ? examples/s]"
            ]
          },
          "metadata": {},
          "output_type": "display_data"
        }
      ]
    },
    {
      "cell_type": "code",
      "source": [
        "df = pd.DataFrame(asum,  columns = ['answer_summary'])\n",
        "print(df)"
      ],
      "metadata": {
        "id": "pvnwD-St3uD2"
      },
      "execution_count": null,
      "outputs": []
    },
    {
      "cell_type": "code",
      "source": [
        "#데이터셋에 새로운 열 추가\n",
        "print(len(dataset))\n",
        "\n",
        "dataset_dict = {'question' : dataset['question'][1:], 'answer' : dataset['answer'][1:], 'question_summary' : qsum, 'answer_summary' : asum}\n",
        "dataset = Dataset.from_dict(dataset_dict)\n",
        "\n",
        "print(dataset)\n",
        "# dataset.add_column(\"qsum\", qsum)\n",
        "# dataset.add_column(\"asum\", asum)"
      ],
      "metadata": {
        "id": "3BMP_TQd8phI"
      },
      "execution_count": null,
      "outputs": []
    },
    {
      "cell_type": "code",
      "source": [
        "#.csv 파일로 google drive에 저장\n",
        "save_path = '/content/drive/My Drive/summary_result.csv'\n",
        "\n",
        "dataset.to_csv(save_path)"
      ],
      "metadata": {
        "id": "gHgNIAr2BvcL"
      },
      "execution_count": null,
      "outputs": []
    }
  ]
}