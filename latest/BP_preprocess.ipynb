{
  "cells": [
    {
      "cell_type": "markdown",
      "metadata": {
        "id": "view-in-github",
        "colab_type": "text"
      },
      "source": [
        "<a href=\"https://colab.research.google.com/github/Kimhansav/everynocode_search_engine/blob/main/BP_preprocess.ipynb\" target=\"_parent\"><img src=\"https://colab.research.google.com/assets/colab-badge.svg\" alt=\"Open In Colab\"/></a>"
      ]
    },
    {
      "cell_type": "code",
      "execution_count": null,
      "metadata": {
        "id": "CDyGi8SZgC7Y"
      },
      "outputs": [],
      "source": [
        " #모두의노코드 게시글, 한국 버블 사용자 커뮤니티 오픈톡방 내용 전처리 코드(로컬)"
      ]
    },
    {
      "cell_type": "code",
      "execution_count": 1,
      "metadata": {
        "colab": {
          "base_uri": "https://localhost:8080/"
        },
        "id": "xYQtFriCRJK1",
        "outputId": "0f2a6bbe-f46e-4372-cbd7-366ab3d97305"
      },
      "outputs": [
        {
          "output_type": "stream",
          "name": "stdout",
          "text": [
            "Collecting soynlp\n",
            "  Downloading soynlp-0.0.493-py3-none-any.whl (416 kB)\n",
            "\u001b[2K     \u001b[90m━━━━━━━━━━━━━━━━━━━━━━━━━━━━━━━━━━━━━━━━\u001b[0m \u001b[32m416.8/416.8 kB\u001b[0m \u001b[31m2.2 MB/s\u001b[0m eta \u001b[36m0:00:00\u001b[0m\n",
            "\u001b[?25hRequirement already satisfied: numpy>=1.12.1 in /usr/local/lib/python3.10/dist-packages (from soynlp) (1.25.2)\n",
            "Requirement already satisfied: psutil>=5.0.1 in /usr/local/lib/python3.10/dist-packages (from soynlp) (5.9.5)\n",
            "Requirement already satisfied: scipy>=1.1.0 in /usr/local/lib/python3.10/dist-packages (from soynlp) (1.11.4)\n",
            "Requirement already satisfied: scikit-learn>=0.20.0 in /usr/local/lib/python3.10/dist-packages (from soynlp) (1.2.2)\n",
            "Requirement already satisfied: joblib>=1.1.1 in /usr/local/lib/python3.10/dist-packages (from scikit-learn>=0.20.0->soynlp) (1.4.2)\n",
            "Requirement already satisfied: threadpoolctl>=2.0.0 in /usr/local/lib/python3.10/dist-packages (from scikit-learn>=0.20.0->soynlp) (3.5.0)\n",
            "Installing collected packages: soynlp\n",
            "Successfully installed soynlp-0.0.493\n"
          ]
        }
      ],
      "source": [
        "!pip install soynlp\n",
        "import pandas as pd\n",
        "import numpy as np\n",
        "import re\n",
        "import os\n",
        "import tensorflow as tf\n",
        "import urllib.request\n",
        "from tqdm import tqdm\n",
        "from transformers import shape_list, BertTokenizer, TFBertModel\n",
        "from tensorflow.keras.callbacks import EarlyStopping\n",
        "from tensorflow.keras.preprocessing.sequence import pad_sequences\n"
      ]
    },
    {
      "cell_type": "markdown",
      "metadata": {
        "id": "t7Kt3UmkFB7V"
      },
      "source": [
        "## 카카오톡 대화내용 전처리"
      ]
    },
    {
      "cell_type": "code",
      "execution_count": 2,
      "metadata": {
        "colab": {
          "base_uri": "https://localhost:8080/"
        },
        "id": "3HpCDFSRgVjT",
        "outputId": "f31028e2-81c7-4b0c-e28c-34400dc65057"
      },
      "outputs": [
        {
          "output_type": "stream",
          "name": "stdout",
          "text": [
            "Mounted at /content/drive\n"
          ]
        }
      ],
      "source": [
        "#카카오톡 텍스트 로드 후 정규표현식으로 메시지 구분\n",
        "#C:\\Users\\벅성현\\Desktop\n",
        "from google.colab import drive\n",
        "drive.mount('/content/drive')\n",
        "file_path = '/content/drive/My Drive/KakaoTalkChats-1.txt'\n",
        "with open(file_path, 'r', encoding = 'utf-8') as f:\n",
        "  file_content = f.read()\n",
        "  # \"https\"를 포함하는 모든 링크 삭제(https 발견 시 그 다음에 나타나는 공백 바로 전까지의 문자열을 링크로 간주)\n",
        "  file_content = re.sub(r'https?:\\/\\/\\S+', '', file_content) #urlexist 파일을 제작할 때는 주석으로 바꾸기"
      ]
    },
    {
      "cell_type": "code",
      "execution_count": null,
      "metadata": {
        "id": "WTDY9jsMdChX"
      },
      "outputs": [],
      "source": [
        "date_pattern = re.compile(r'\\d{4}년 \\d{1,2}월 \\d{1,2}일 ') #-일시 : 2023년 12월 2일(토) 오후 2시~7시 +a 가 날짜로 분류되지 않도록 함.\n",
        "\n",
        "def split_messages_by_date(text):\n",
        "    # 날짜 위치를 찾아 리스트로 저장\n",
        "    dates = [match.start() for match in date_pattern.finditer(text)]\n",
        "    messages = []\n",
        "    send_dates = []\n",
        "\n",
        "    # 각 날짜 위치를 기준으로 메시지 분리\n",
        "    for i in range(len(dates)):\n",
        "        start = dates[i]\n",
        "        # 마지막 날짜라면, 텍스트의 끝까지를 메시지로 추출\n",
        "        end = dates[i + 1] if i + 1 < len(dates) else len(text)\n",
        "        message = text[start:end].strip()\n",
        "        idx_dot = message.find(':') #시간 사이에 있는 : 위치 찾아내기\n",
        "        idx_comma, idx_dot = message.find(','), message.find(':', idx_dot + 1)\n",
        "        if (idx_dot == -1): #누군가 메시지를 보낸 줄이 아닌 경우를 모두 포함, 이때는 메시지를 추가하지 않고 넘어간다.\n",
        "          continue\n",
        "        else:\n",
        "          #메시지 보낸 사람, 메시지 내용, 보낸 날짜로 message 구성\n",
        "          message = [message[idx_comma + 1 : idx_dot - 1], message[idx_dot + 1 :], message[0 : idx_comma]]\n",
        "        messages.append(message)\n",
        "\n",
        "    return messages\n",
        "\n",
        "messages = split_messages_by_date(file_content)\n",
        "print(messages[:5])"
      ]
    },
    {
      "cell_type": "code",
      "execution_count": 3,
      "metadata": {
        "id": "SUcTkr5uB3uW"
      },
      "outputs": [],
      "source": [
        "#메시지에 유니코드에 해당하는 이모티콘이 포함되어 있으면 삭제하는 함수\n",
        "def remove_emojis(text):\n",
        "    # 이모티콘에 해당하는 유니코드 패턴\n",
        "    emoji_pattern = re.compile(\"[\"\n",
        "                               \"\\U0001F600-\\U0001F64F\"  # emoticons\n",
        "                               \"]+\", flags=re.UNICODE)\n",
        "    return emoji_pattern.sub(r'', text)"
      ]
    },
    {
      "cell_type": "code",
      "execution_count": null,
      "metadata": {
        "id": "aIvf4c8lB5-x"
      },
      "outputs": [],
      "source": [
        "# '@이름' 제거 함수\n",
        "def remove_names(text):\n",
        "  for name in names:\n",
        "    text = re.sub(r'@' + re.escape(name[1:]), '', text) #df['name'] 열을 보면 각 행의 맨 처음에 공백이 하나 있음\n",
        "  return text"
      ]
    },
    {
      "cell_type": "code",
      "execution_count": null,
      "metadata": {
        "id": "1hfuqL0RgeEj",
        "colab": {
          "base_uri": "https://localhost:8080/"
        },
        "outputId": "3d651b80-bb2d-4cf8-ddd9-65dc8efbd20c"
      },
      "outputs": [
        {
          "output_type": "stream",
          "name": "stderr",
          "text": [
            "<ipython-input-14-cc784ac7aa25>:35: SettingWithCopyWarning: \n",
            "A value is trying to be set on a copy of a slice from a DataFrame.\n",
            "Try using .loc[row_indexer,col_indexer] = value instead\n",
            "\n",
            "See the caveats in the documentation: https://pandas.pydata.org/pandas-docs/stable/user_guide/indexing.html#returning-a-view-versus-a-copy\n",
            "  df['group'] = name_changed.cumsum()\n"
          ]
        }
      ],
      "source": [
        "#첫 번째 요소는 사람 이름, 두 번째 요소는 텍스트 내용을 가지고 있는 리스트를 묶은 리스트를 pandas로 읽기\n",
        "df = pd.DataFrame(messages, columns = ['name', 'text', 'date'])\n",
        "\n",
        "#날짜 비교를 위해 날짜 형식 변경\n",
        "#'date' 열을 datetime 객체로 변환\n",
        "df['date'] = pd.to_datetime(df['date'], format='%Y년 %m월 %d일', exact = False)\n",
        "\n",
        "#datetime 객체를 'YYYY-MM-DD' 형식의 문자열로 변환\n",
        "df['date'] = df['date'].dt.strftime('%Y-%m-%d')\n",
        "\n",
        "#메시지에 .png, jpg, 삭제된 메시지입니다, 사진 읽지 않음, 동영상 읽지 않음 포함하면 삭제\n",
        "del_ids = df[df['text'].str.contains('\\.png|\\.jpg|삭제된 메시지입니다|사진 읽지 않음|동영상 읽지 않음')].index #df[df['text'].str.contains('<사진 읽지 않음>') | df['text'].str.contains('.png') | df['text'].str.contains('삭제된 메시지입니다') | df['text'].str.contains('<동영상 읽지 않음>')].index\n",
        "df = df.drop(del_ids)\n",
        "\n",
        "#메시지에 '사진'이나 '사진 2장'이나 '동영상'만 포함하는 행을 찾아 삭제\n",
        "df = df[~df['text'].str.match(r'^(사진|사진 \\d+장|동영상)$')]\n",
        "\n",
        "#메시지에 유니코드에 해당하는 이모티콘이 포함되어 있으면 삭제\n",
        "df['text'] = df['text'].apply(remove_emojis)\n",
        "\n",
        "#메시지에 '@이름' 형식으로 태그한 내용이 있으면 삭제\n",
        "names = set(df['name'].to_list())\n",
        "\n",
        "# 데이터프레임 열에 함수 적용\n",
        "df['text'] = df['text'].apply(remove_names)\n",
        "\n",
        "#메시지 첫 글자가 [면 해당 메시지 삭제, 홍보글의 형식임.\n",
        "df = df[~df['text'].str.startswith(' [')]\n",
        "\n",
        "#똑같은 사람이 연속적으로 메시지를 보냈다면 메시지들을 하나의 행으로 통합해서 문맥정보 담기\n",
        "# 'name' 열이 이전 행과 다른지 여부를 나타내는 불리언 시리즈 생성\n",
        "name_changed = df['name'] != df['name'].shift(1)\n",
        "\n",
        "# 'name_changed'의 누적합을 통해 'group' 열 생성\n",
        "df['group'] = name_changed.cumsum()\n",
        "\n",
        "# 'group'과 'name' 열을 기준으로 그룹화하고, 'text' 열의 값 합치기, 'date' 값은 그룹 내 마지막 메시지의 날짜로 설정\n",
        "df = df.groupby(['group', 'name']).agg({'text': '\\n'.join, 'date': 'max'}).reset_index()\n",
        "#df = df.groupby(['group', 'name'])['text'].agg('\\n'.join).reset_index()\n",
        "df = df.drop(['group'], axis = 1)\n",
        "\n",
        "#줄바꿈 문자(\\n) 제거하기\n",
        "pattern = r'\\n'\n",
        "df = df.replace(pattern, ' ', regex = True)\n",
        "\n",
        "#결측치 제거. 확인해보니 한 행에 링크만 존재했던 경우 링크를 삭제하니 결측치(빈 문자열)가 되었다.\n",
        "#빈 문자열을 nan으로 변환하고 제거\n",
        "df = df.replace('', np.nan).dropna()"
      ]
    },
    {
      "cell_type": "code",
      "execution_count": null,
      "metadata": {
        "id": "gQLZx3wy5kih",
        "colab": {
          "base_uri": "https://localhost:8080/"
        },
        "outputId": "26996310-0625-4b3c-b5d5-e06348d308db"
      },
      "outputs": [
        {
          "output_type": "stream",
          "name": "stdout",
          "text": [
            "<class 'list'>\n",
            "True\n"
          ]
        }
      ],
      "source": [
        "text = df['text'].to_list()\n",
        "\n",
        "#결측치 검증\n",
        "print(type(text[:5]))\n",
        "print(all(isinstance(item, str) for item in text))\n",
        "for i, item in enumerate(text):\n",
        "  if not isinstance(item, str):\n",
        "    print(f\"Index {i}: {item} (Type: {type(item)})\")"
      ]
    },
    {
      "cell_type": "code",
      "execution_count": null,
      "metadata": {
        "id": "qewZHoAAJBPy"
      },
      "outputs": [],
      "source": [
        "# for i, item in enumerate(df):\n",
        "#   if not isinstance(item, str):\n",
        "#     print(f\"Index {i}: {item} (Type: {type(item)})\")"
      ]
    },
    {
      "cell_type": "code",
      "execution_count": null,
      "metadata": {
        "id": "WdLa6lGseHiW"
      },
      "outputs": [],
      "source": [
        "df"
      ]
    },
    {
      "cell_type": "code",
      "execution_count": null,
      "metadata": {
        "id": "Ovikq81gj5G-",
        "colab": {
          "base_uri": "https://localhost:8080/"
        },
        "outputId": "2618ef04-7bbb-4a77-d37a-e72ff63169b3"
      },
      "outputs": [
        {
          "output_type": "stream",
          "name": "stdout",
          "text": [
            "7859\n"
          ]
        }
      ],
      "source": [
        "print(len(df))"
      ]
    },
    {
      "cell_type": "code",
      "execution_count": null,
      "metadata": {
        "id": "9dXCgTw9DHO5"
      },
      "outputs": [],
      "source": [
        "# # 제어 문자 제거 함수\n",
        "# def remove_control_characters(s):\n",
        "#     return ''.join(char for char in s if ord(char) >= 32 or char in '\\t\\n\\r')\n",
        "\n",
        "# # 문자열 열에 함수 적용\n",
        "# df['text'] = df['text'].apply(remove_control_characters)"
      ]
    },
    {
      "cell_type": "code",
      "source": [
        "df"
      ],
      "metadata": {
        "id": "92a3JP6KeQ2Q"
      },
      "execution_count": null,
      "outputs": []
    },
    {
      "cell_type": "code",
      "execution_count": null,
      "metadata": {
        "id": "gkVcUEfVokUd"
      },
      "outputs": [],
      "source": [
        "#.xlsx 파일로 google drive에 저장\n",
        "talk_save_path = '/content/drive/My Drive/talk_preprocess_result_short.xlsx'\n",
        "\n",
        "df.to_excel(talk_save_path)"
      ]
    },
    {
      "cell_type": "markdown",
      "metadata": {
        "id": "3MCUav4vE67B"
      },
      "source": [
        "## 모두의노코드 커뮤니티 게시글 전처리"
      ]
    },
    {
      "cell_type": "code",
      "execution_count": null,
      "metadata": {
        "id": "TTQzqI0PvaOw"
      },
      "outputs": [],
      "source": [
        "#커뮤니티 글 로드\n",
        "qna_path = '/content/drive/My Drive/community_qna.xlsx'\n",
        "all_contents_path = '/content/drive/My Drive/community_all_contents.csv'\n",
        "all_comments_path = '/content/drive/My Drive/community_all_comments.csv'\n",
        "\n",
        "df_qna = pd.read_excel(qna_path)\n",
        "\n",
        "#qna 파일의 링크 형식 수정\n",
        "df_qna['게시글 링크'] = 'https://everynocode.org/content/' + df_qna['Slug'].astype(str)\n",
        "\n",
        "#_x1008_같은 기호를 자동으로 삭제하기 위해 cp949 인코딩으로 읽은 뒤 utf-8 인코딩으로 재처리\n",
        "df_all_contents_cp949 = pd.read_csv(all_contents_path, encoding = 'cp949')\n",
        "df_all_contents_cp949.to_csv('/content/drive/My Drive/community_all_contents_utf8.csv', encoding = 'utf-8')\n",
        "df_all_contents = pd.read_csv('/content/drive/My Drive/community_all_contents_utf8.csv', encoding = 'utf-8')\n",
        "\n",
        "df_all_comments_cp949 = pd.read_csv(all_comments_path, encoding = 'cp949')\n",
        "df_all_comments_cp949.to_csv('/content/drive/My Drive/community_all_comments_utf8.csv', encoding = 'utf-8')\n",
        "df_all_comments = pd.read_csv('/content/drive/My Drive/community_all_comments_utf8.csv', encoding = 'utf-8')\n",
        "\n",
        "print(df_qna)\n",
        "print(df_all_contents)\n",
        "print(df_all_comments)"
      ]
    },
    {
      "cell_type": "code",
      "execution_count": null,
      "metadata": {
        "id": "xL1RCCi3_zPK"
      },
      "outputs": [],
      "source": [
        "#[img = ...]와 같은 태그 종류 구하기\n",
        "\n",
        "# 괄호 안의 문자열을 찾아 집합에 추가하는 함수\n",
        "def find_brackets(text):\n",
        "    pattern = r'\\[([^\\]]+)\\]'\n",
        "    matches = re.findall(pattern, text)\n",
        "    pattern_set = set(matches)\n",
        "    return pattern_set\n",
        "# 데이터프레임에 대해 함수 적용\n",
        "string = ', '.join(df_qna['내용'].dropna(axis = 0).to_list())\n",
        "pattern_set = find_brackets(string)\n",
        "string = ', '.join(df_all_contents['내용'].dropna(axis = 0).to_list())\n",
        "pattern_set = pattern_set.union(find_brackets(string))\n",
        "string = ', '.join(df_all_comments['내용'].dropna(axis = 0).to_list())\n",
        "pattern_set = pattern_set.union(find_brackets(string))\n",
        "\n",
        "# 결과 출력\n",
        "print(\"Found bracketed text:\", pattern_set)"
      ]
    },
    {
      "cell_type": "code",
      "execution_count": null,
      "metadata": {
        "id": "andtQJm-BE_W"
      },
      "outputs": [],
      "source": [
        "#데이터프레임 모든 셀에서 [ul], [ol] 등과 같은 태그 삭제, 이때 pattern_set에서 참조해서 직접 삭제([] 안에 유의미한 정보가 들어가있기도 하기 때문)\n",
        "# + url 형식, 이미지 형식, 줄바꿈 텍스트 삭제\n",
        "# + 이모티콘 인식 못해서 ??로 출력된 것들 다 삭제\n",
        "#삭제할 패턴 : [url=https ...],[size=정수],[/size],[ol data=정수],[/ol],[index],[/h3],[b],[/url],[color=rgb(정수, 정수, 정수)],[/b],[/img],[highlight=rgb(정수, 정수, 정수)],[ol],[color=var(--tertiary)],[indent data=정수],[/indent],[/i],[/h4],[/ul],[li indent=정수 align=left 또는 right 또는 등등?],[/color],[h4],[/code],[h3],[/highlight],[ul],[ul data=정수],[highlight=rgba(정수, 정수, 정수, 정수)],[u],[/color],[center],[i],[color=inherit],[/li],[/ml],[code],[/youtube],[youtube],[img width=정수%],[/u],[color=var(--primary-medium)],[ml],[/center],[highlight=var(--primary-low)]\n",
        "\n",
        "# #url을 제거하지 않고 나머지 패턴을 제거하는 표현식\n",
        "# pattern_keepurl = r'\\?\\?|\\S+\\.jpeg|\\S+\\.png|\\[url=https[^\\]]*\\]|\\[\\/url\\]|\\[size=\\d+\\]|\\[\\/size\\]|\\[b\\]|\\[\\/b\\]|\\[color=rgb\\(\\d+,\\s*\\d+,\\s*\\d+\\)\\]|\\[\\/color\\]|\\[color=[^\\]]*\\]|\\[highlight=rgb\\(\\d+,\\s*\\d+,\\s*\\d+\\)\\]|\\[\\/highlight\\]|\\[highlight=rgba\\(\\d+,\\s*\\d+,\\s*\\d+,\\s*\\d+\\)\\]|\\[ol data=\\d+\\]|\\[\\/ol\\]|\\[index\\]|\\[\\/index\\]|\\[h3\\]|\\[\\/h3\\]|\\[h4\\]|\\[\\/h4\\]|\\[ul\\]|\\[ul data=\\d+\\]|\\[\\/ul\\]|\\[li[^\\]]*\\]|\\[\\/li\\]|\\[indent data=\\d+\\]|\\[\\/indent\\]|\\[ml\\]|\\[\\/ml\\]|\\[youtube\\]|\\[\\/youtube\\]|\\[u\\]|\\[\\/u\\]|\\[center\\]|\\[\\/center\\]|\\[i\\]|\\[\\/i\\]|\\[highlight=[^\\]]*\\]|\\[ol\\]|\\[font=\".*?\"\\]|\\[/font\\]|\\[/?h[12]\\]|\\[highlight=.*?\\]|\\[/?quote\\]|\\[/?s\\]|\\[img width=\\d+%\\].*?\\[/img\\]|\\[code\\].*?\\[/code\\]|\\[img\\]'\n",
        "\n",
        "# text_data = df_qna[['내용', '답변', '댓글']].replace(pattern_keepurl, '', regex=True)\n",
        "# df_qna[['내용', '답변', '댓글']] = text_data\n",
        "\n",
        "# text_data = df_all_contents[['내용', '답변', '댓글']].replace(pattern_keepurl, '', regex=True)\n",
        "# df_all_contents[['내용', '답변', '댓글']] = text_data\n",
        "\n",
        "# text_data = df_all_comments[['내용', '대댓글', '댓글']].replace(pattern_keepurl, '', regex=True)\n",
        "# df_all_comments[['내용', '대댓글', '댓글']] = text_data\n",
        "\n",
        "# #줄바꿈 문자 대신 공백 넣기\n",
        "# pattern_changeline = r'\\n'\n",
        "\n",
        "# text_data = df_qna[['내용', '답변', '댓글']].replace(pattern_changeline, ' ', regex=True)\n",
        "# df_qna[['내용', '답변', '댓글']] = text_data\n",
        "\n",
        "# text_data = df_all_contents[['내용', '답변', '댓글']].replace(pattern_changeline, ' ', regex=True)\n",
        "# df_all_contents[['내용', '답변', '댓글']] = text_data\n",
        "\n",
        "# text_data = df_all_comments[['내용', '대댓글', '댓글']].replace(pattern_changeline, ' ', regex=True)\n",
        "# df_all_comments[['내용', '대댓글', '댓글']] = text_data\n",
        "\n",
        "# #df_qna의 내용, 답변을 새로운 열로 저장\n",
        "# df_qna['question_withurl'] = df_qna['내용'].copy()\n",
        "# df_qna['answer_withurl'] = df_qna['답변'].copy()\n",
        "\n",
        "# #url을 제거하는 표현식\n",
        "# pattern_removeurl = r'https:\\/\\/[^\\s]+'\n",
        "\n",
        "# text_data = df_qna[['내용', '답변', '댓글']].replace(pattern_removeurl, '', regex=True)\n",
        "# df_qna[['내용', '답변', '댓글']] = text_data\n",
        "\n",
        "# text_data = df_all_contents[['내용', '답변', '댓글']].replace(pattern_removeurl, '', regex=True)\n",
        "# df_all_contents[['내용', '답변', '댓글']] = text_data\n",
        "\n",
        "# text_data = df_all_comments[['내용', '대댓글', '댓글']].replace(pattern_removeurl, '', regex=True)\n",
        "# df_all_comments[['내용', '대댓글', '댓글']] = text_data"
      ]
    },
    {
      "cell_type": "code",
      "source": [
        "#데이터프레임 모든 셀에서 [ul], [ol] 등과 같은 태그 삭제, 이때 pattern_set에서 참조해서 직접 삭제([] 안에 유의미한 정보가 들어가있기도 하기 때문)\n",
        "# + url 형식, 이미지 형식, 줄바꿈 텍스트 삭제\n",
        "# + 이모티콘 인식 못해서 ??로 출력된 것들 다 삭제\n",
        "#삭제할 패턴 : [url=https ...],[size=정수],[/size],[ol data=정수],[/ol],[index],[/h3],[b],[/url],[color=rgb(정수, 정수, 정수)],[/b],[/img],[highlight=rgb(정수, 정수, 정수)],[ol],[color=var(--tertiary)],[indent data=정수],[/indent],[/i],[/h4],[/ul],[li indent=정수 align=left 또는 right 또는 등등?],[/color],[h4],[/code],[h3],[/highlight],[ul],[ul data=정수],[highlight=rgba(정수, 정수, 정수, 정수)],[u],[/color],[center],[i],[color=inherit],[/li],[/ml],[code],[/youtube],[youtube],[img width=정수%],[/u],[color=var(--primary-medium)],[ml],[/center],[highlight=var(--primary-low)]\n",
        "\n",
        "def clean_data(df, columns, pattern, replacement=''):\n",
        "    for column in columns:\n",
        "        df[column] = df[column].replace(pattern, replacement, regex=True)\n",
        "    return df\n",
        "\n",
        "# 패턴 정의\n",
        "pattern_keepurl = r'\\?\\?|\\S+\\.jpeg|\\S+\\.png|\\[url=https[^\\]]*\\]|\\[\\/url\\]|\\[size=\\d+\\]|\\[\\/size\\]|\\[b\\]|\\[\\/b\\]|\\[color=rgb\\(\\d+,\\s*\\d+,\\s*\\d+\\)\\]|\\[\\/color\\]|\\[color=[^\\]]*\\]|\\[highlight=rgb\\(\\d+,\\s*\\d+,\\s*\\d+\\)\\]|\\[\\/highlight\\]|\\[highlight=rgba\\(\\d+,\\s*\\d+,\\s*\\d+,\\s*\\d+\\)\\]|\\[ol data=\\d+\\]|\\[\\/ol\\]|\\[index\\]|\\[\\/index\\]|\\[h3\\]|\\[\\/h3\\]|\\[h4\\]|\\[\\/h4\\]|\\[ul\\]|\\[ul data=\\d+\\]|\\[\\/ul\\]|\\[li[^\\]]*\\]|\\[\\/li\\]|\\[indent data=\\d+\\]|\\[\\/indent\\]|\\[ml\\]|\\[\\/ml\\]|\\[youtube\\]|\\[\\/youtube\\]|\\[u\\]|\\[\\/u\\]|\\[center\\]|\\[\\/center\\]|\\[i\\]|\\[\\/i\\]|\\[highlight=[^\\]]*\\]|\\[ol\\]|\\[font=\".*?\"\\]|\\[/font\\]|\\[/?h[12]\\]|\\[highlight=.*?\\]|\\[/?quote\\]|\\[/?s\\]|\\[img width=\\d+%\\].*?\\[/img\\]|\\[code\\].*?\\[/code\\]|\\[img\\]'\n",
        "pattern_changeline = r'\\n'\n",
        "pattern_removeurl = r'https:\\/\\/[^\\s]+'\n",
        "\n",
        "# DataFrame 리스트\n",
        "dataframes = {\n",
        "    'df_qna': ['내용', '답변', '댓글'],\n",
        "    'df_all_contents': ['내용', '답변', '댓글'],\n",
        "    'df_all_comments': ['내용', '대댓글', '댓글']\n",
        "}\n",
        "\n",
        "# DataFrame 각각에 대해 정리 작업 수행\n",
        "for df_name, columns in dataframes.items():\n",
        "    df = globals()[df_name]  # 전역 변수에서 DataFrame 이름으로 찾아냄\n",
        "    clean_data(df, columns, pattern_keepurl)\n",
        "    clean_data(df, columns, pattern_changeline, ' ')\n",
        "    clean_data(df, columns, pattern_removeurl)\n",
        "\n",
        "# 'question_withurl', 'answer_withurl' 열 저장 (df_qna 전용)\n",
        "df_qna['question_withurl'] = df_qna['내용'].copy()\n",
        "df_qna['answer_withurl'] = df_qna['답변'].copy()"
      ],
      "metadata": {
        "id": "_mX0UJntGqgq"
      },
      "execution_count": 5,
      "outputs": []
    },
    {
      "cell_type": "code",
      "source": [
        "print(df_qna)\n",
        "print(df_all_comments)\n",
        "print(df_all_contents)"
      ],
      "metadata": {
        "id": "Cs9Q4qaMHHES"
      },
      "execution_count": null,
      "outputs": []
    },
    {
      "cell_type": "code",
      "source": [
        "#df_qna의 작성날짜를 카카오톡 데이터의 작성날짜 형식과 똑같도록 변경\n",
        "df_qna['작성일'] = df_qna['작성일'].dt.strftime('%Y-%m-%d')"
      ],
      "metadata": {
        "id": "3A8KPxNvKAzY"
      },
      "execution_count": null,
      "outputs": []
    },
    {
      "cell_type": "code",
      "execution_count": null,
      "metadata": {
        "id": "tv2SmfW0Zq3O"
      },
      "outputs": [],
      "source": [
        "print(df_qna)"
      ]
    },
    {
      "cell_type": "code",
      "execution_count": null,
      "metadata": {
        "id": "nd9Y_iz0VuvP"
      },
      "outputs": [],
      "source": [
        "# NaN 값을 공백('')으로 변환\n",
        "df_qna.fillna('', inplace=True)\n",
        "df_all_contents.fillna('', inplace=True)\n",
        "df_all_comments.fillna('', inplace=True)"
      ]
    },
    {
      "cell_type": "code",
      "execution_count": null,
      "metadata": {
        "id": "oVeBVTHmLmKn"
      },
      "outputs": [],
      "source": [
        "#유니코드에 해당하는 이모티콘 제거\n",
        "df_qna['내용'] = df_qna['내용'].apply(remove_emojis)\n",
        "df_qna['답변'] = df_qna['답변'].apply(remove_emojis)\n",
        "df_qna['댓글'] = df_qna['댓글'].apply(remove_emojis)\n",
        "df_qna['question_withurl'] = df_qna['question_withurl'].apply(remove_emojis)\n",
        "df_qna['answer_withurl'] = df_qna['answer_withurl'].apply(remove_emojis)\n",
        "\n",
        "df_all_contents['내용'] = df_all_contents['내용'].apply(remove_emojis)\n",
        "df_all_contents['답변'] = df_all_contents['답변'].apply(remove_emojis)\n",
        "df_all_contents['댓글'] = df_all_contents['댓글'].apply(remove_emojis)\n",
        "\n",
        "df_all_comments['내용'] = df_all_comments['내용'].apply(remove_emojis)\n",
        "df_all_comments['대댓글'] = df_all_comments['대댓글'].apply(remove_emojis)\n",
        "df_all_comments['댓글'] = df_all_comments['댓글'].apply(remove_emojis)"
      ]
    },
    {
      "cell_type": "code",
      "execution_count": null,
      "metadata": {
        "id": "v6AbeZl-i0b_"
      },
      "outputs": [],
      "source": [
        "#전처리된 세 파일을 저장\n",
        "df_qna.to_excel('/content/drive/My Drive/community_qna_preprocessed.xlsx')\n",
        "df_all_contents.to_csv('/content/drive/My Drive/community_all_contents_preprocessed.csv')\n",
        "df_all_comments.to_csv('/content/drive/My Drive/community_all_comments_preprocessed.csv')"
      ]
    },
    {
      "cell_type": "code",
      "execution_count": null,
      "metadata": {
        "id": "UZPXYq-XDgqF"
      },
      "outputs": [],
      "source": []
    }
  ],
  "metadata": {
    "colab": {
      "provenance": [],
      "include_colab_link": true
    },
    "kernelspec": {
      "display_name": "Python 3",
      "name": "python3"
    },
    "language_info": {
      "name": "python"
    }
  },
  "nbformat": 4,
  "nbformat_minor": 0
}
