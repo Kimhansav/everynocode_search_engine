{
  "nbformat": 4,
  "nbformat_minor": 0,
  "metadata": {
    "colab": {
      "provenance": [],
      "include_colab_link": true
    },
    "kernelspec": {
      "name": "python3",
      "display_name": "Python 3"
    },
    "language_info": {
      "name": "python"
    },
    "widgets": {
      "application/vnd.jupyter.widget-state+json": {
        "1a12098b41364e379c1e5b3d3b52dc9c": {
          "model_module": "@jupyter-widgets/controls",
          "model_name": "HBoxModel",
          "model_module_version": "1.5.0",
          "state": {
            "_dom_classes": [],
            "_model_module": "@jupyter-widgets/controls",
            "_model_module_version": "1.5.0",
            "_model_name": "HBoxModel",
            "_view_count": null,
            "_view_module": "@jupyter-widgets/controls",
            "_view_module_version": "1.5.0",
            "_view_name": "HBoxView",
            "box_style": "",
            "children": [
              "IPY_MODEL_d2695e86af05495bb8287ccd43c93468",
              "IPY_MODEL_ff9d804fd76a49e19a54741b8e5813b6",
              "IPY_MODEL_5d217d6560444f9e82dbf5d62b3f73f2"
            ],
            "layout": "IPY_MODEL_ff4a7244d0474265a99950f6e0940d42"
          }
        },
        "d2695e86af05495bb8287ccd43c93468": {
          "model_module": "@jupyter-widgets/controls",
          "model_name": "HTMLModel",
          "model_module_version": "1.5.0",
          "state": {
            "_dom_classes": [],
            "_model_module": "@jupyter-widgets/controls",
            "_model_module_version": "1.5.0",
            "_model_name": "HTMLModel",
            "_view_count": null,
            "_view_module": "@jupyter-widgets/controls",
            "_view_module_version": "1.5.0",
            "_view_name": "HTMLView",
            "description": "",
            "description_tooltip": null,
            "layout": "IPY_MODEL_7b4c13a8944944dbb0cb93328b21722b",
            "placeholder": "​",
            "style": "IPY_MODEL_92e405d6631e43259cd71874e85817fc",
            "value": "tokenizer_config.json: 100%"
          }
        },
        "ff9d804fd76a49e19a54741b8e5813b6": {
          "model_module": "@jupyter-widgets/controls",
          "model_name": "FloatProgressModel",
          "model_module_version": "1.5.0",
          "state": {
            "_dom_classes": [],
            "_model_module": "@jupyter-widgets/controls",
            "_model_module_version": "1.5.0",
            "_model_name": "FloatProgressModel",
            "_view_count": null,
            "_view_module": "@jupyter-widgets/controls",
            "_view_module_version": "1.5.0",
            "_view_name": "ProgressView",
            "bar_style": "success",
            "description": "",
            "description_tooltip": null,
            "layout": "IPY_MODEL_c30cac50857442d48ebc8f02cf2d4776",
            "max": 49,
            "min": 0,
            "orientation": "horizontal",
            "style": "IPY_MODEL_2eff9cc141974c3e99a8992a78f8e129",
            "value": 49
          }
        },
        "5d217d6560444f9e82dbf5d62b3f73f2": {
          "model_module": "@jupyter-widgets/controls",
          "model_name": "HTMLModel",
          "model_module_version": "1.5.0",
          "state": {
            "_dom_classes": [],
            "_model_module": "@jupyter-widgets/controls",
            "_model_module_version": "1.5.0",
            "_model_name": "HTMLModel",
            "_view_count": null,
            "_view_module": "@jupyter-widgets/controls",
            "_view_module_version": "1.5.0",
            "_view_name": "HTMLView",
            "description": "",
            "description_tooltip": null,
            "layout": "IPY_MODEL_8690257c08674c26982f1d8b76857f47",
            "placeholder": "​",
            "style": "IPY_MODEL_d463385e4b64482da59454fe9da749f4",
            "value": " 49.0/49.0 [00:00&lt;00:00, 2.90kB/s]"
          }
        },
        "ff4a7244d0474265a99950f6e0940d42": {
          "model_module": "@jupyter-widgets/base",
          "model_name": "LayoutModel",
          "model_module_version": "1.2.0",
          "state": {
            "_model_module": "@jupyter-widgets/base",
            "_model_module_version": "1.2.0",
            "_model_name": "LayoutModel",
            "_view_count": null,
            "_view_module": "@jupyter-widgets/base",
            "_view_module_version": "1.2.0",
            "_view_name": "LayoutView",
            "align_content": null,
            "align_items": null,
            "align_self": null,
            "border": null,
            "bottom": null,
            "display": null,
            "flex": null,
            "flex_flow": null,
            "grid_area": null,
            "grid_auto_columns": null,
            "grid_auto_flow": null,
            "grid_auto_rows": null,
            "grid_column": null,
            "grid_gap": null,
            "grid_row": null,
            "grid_template_areas": null,
            "grid_template_columns": null,
            "grid_template_rows": null,
            "height": null,
            "justify_content": null,
            "justify_items": null,
            "left": null,
            "margin": null,
            "max_height": null,
            "max_width": null,
            "min_height": null,
            "min_width": null,
            "object_fit": null,
            "object_position": null,
            "order": null,
            "overflow": null,
            "overflow_x": null,
            "overflow_y": null,
            "padding": null,
            "right": null,
            "top": null,
            "visibility": null,
            "width": null
          }
        },
        "7b4c13a8944944dbb0cb93328b21722b": {
          "model_module": "@jupyter-widgets/base",
          "model_name": "LayoutModel",
          "model_module_version": "1.2.0",
          "state": {
            "_model_module": "@jupyter-widgets/base",
            "_model_module_version": "1.2.0",
            "_model_name": "LayoutModel",
            "_view_count": null,
            "_view_module": "@jupyter-widgets/base",
            "_view_module_version": "1.2.0",
            "_view_name": "LayoutView",
            "align_content": null,
            "align_items": null,
            "align_self": null,
            "border": null,
            "bottom": null,
            "display": null,
            "flex": null,
            "flex_flow": null,
            "grid_area": null,
            "grid_auto_columns": null,
            "grid_auto_flow": null,
            "grid_auto_rows": null,
            "grid_column": null,
            "grid_gap": null,
            "grid_row": null,
            "grid_template_areas": null,
            "grid_template_columns": null,
            "grid_template_rows": null,
            "height": null,
            "justify_content": null,
            "justify_items": null,
            "left": null,
            "margin": null,
            "max_height": null,
            "max_width": null,
            "min_height": null,
            "min_width": null,
            "object_fit": null,
            "object_position": null,
            "order": null,
            "overflow": null,
            "overflow_x": null,
            "overflow_y": null,
            "padding": null,
            "right": null,
            "top": null,
            "visibility": null,
            "width": null
          }
        },
        "92e405d6631e43259cd71874e85817fc": {
          "model_module": "@jupyter-widgets/controls",
          "model_name": "DescriptionStyleModel",
          "model_module_version": "1.5.0",
          "state": {
            "_model_module": "@jupyter-widgets/controls",
            "_model_module_version": "1.5.0",
            "_model_name": "DescriptionStyleModel",
            "_view_count": null,
            "_view_module": "@jupyter-widgets/base",
            "_view_module_version": "1.2.0",
            "_view_name": "StyleView",
            "description_width": ""
          }
        },
        "c30cac50857442d48ebc8f02cf2d4776": {
          "model_module": "@jupyter-widgets/base",
          "model_name": "LayoutModel",
          "model_module_version": "1.2.0",
          "state": {
            "_model_module": "@jupyter-widgets/base",
            "_model_module_version": "1.2.0",
            "_model_name": "LayoutModel",
            "_view_count": null,
            "_view_module": "@jupyter-widgets/base",
            "_view_module_version": "1.2.0",
            "_view_name": "LayoutView",
            "align_content": null,
            "align_items": null,
            "align_self": null,
            "border": null,
            "bottom": null,
            "display": null,
            "flex": null,
            "flex_flow": null,
            "grid_area": null,
            "grid_auto_columns": null,
            "grid_auto_flow": null,
            "grid_auto_rows": null,
            "grid_column": null,
            "grid_gap": null,
            "grid_row": null,
            "grid_template_areas": null,
            "grid_template_columns": null,
            "grid_template_rows": null,
            "height": null,
            "justify_content": null,
            "justify_items": null,
            "left": null,
            "margin": null,
            "max_height": null,
            "max_width": null,
            "min_height": null,
            "min_width": null,
            "object_fit": null,
            "object_position": null,
            "order": null,
            "overflow": null,
            "overflow_x": null,
            "overflow_y": null,
            "padding": null,
            "right": null,
            "top": null,
            "visibility": null,
            "width": null
          }
        },
        "2eff9cc141974c3e99a8992a78f8e129": {
          "model_module": "@jupyter-widgets/controls",
          "model_name": "ProgressStyleModel",
          "model_module_version": "1.5.0",
          "state": {
            "_model_module": "@jupyter-widgets/controls",
            "_model_module_version": "1.5.0",
            "_model_name": "ProgressStyleModel",
            "_view_count": null,
            "_view_module": "@jupyter-widgets/base",
            "_view_module_version": "1.2.0",
            "_view_name": "StyleView",
            "bar_color": null,
            "description_width": ""
          }
        },
        "8690257c08674c26982f1d8b76857f47": {
          "model_module": "@jupyter-widgets/base",
          "model_name": "LayoutModel",
          "model_module_version": "1.2.0",
          "state": {
            "_model_module": "@jupyter-widgets/base",
            "_model_module_version": "1.2.0",
            "_model_name": "LayoutModel",
            "_view_count": null,
            "_view_module": "@jupyter-widgets/base",
            "_view_module_version": "1.2.0",
            "_view_name": "LayoutView",
            "align_content": null,
            "align_items": null,
            "align_self": null,
            "border": null,
            "bottom": null,
            "display": null,
            "flex": null,
            "flex_flow": null,
            "grid_area": null,
            "grid_auto_columns": null,
            "grid_auto_flow": null,
            "grid_auto_rows": null,
            "grid_column": null,
            "grid_gap": null,
            "grid_row": null,
            "grid_template_areas": null,
            "grid_template_columns": null,
            "grid_template_rows": null,
            "height": null,
            "justify_content": null,
            "justify_items": null,
            "left": null,
            "margin": null,
            "max_height": null,
            "max_width": null,
            "min_height": null,
            "min_width": null,
            "object_fit": null,
            "object_position": null,
            "order": null,
            "overflow": null,
            "overflow_x": null,
            "overflow_y": null,
            "padding": null,
            "right": null,
            "top": null,
            "visibility": null,
            "width": null
          }
        },
        "d463385e4b64482da59454fe9da749f4": {
          "model_module": "@jupyter-widgets/controls",
          "model_name": "DescriptionStyleModel",
          "model_module_version": "1.5.0",
          "state": {
            "_model_module": "@jupyter-widgets/controls",
            "_model_module_version": "1.5.0",
            "_model_name": "DescriptionStyleModel",
            "_view_count": null,
            "_view_module": "@jupyter-widgets/base",
            "_view_module_version": "1.2.0",
            "_view_name": "StyleView",
            "description_width": ""
          }
        },
        "6b4bb076d8374c419c1dbb40e58f4f37": {
          "model_module": "@jupyter-widgets/controls",
          "model_name": "HBoxModel",
          "model_module_version": "1.5.0",
          "state": {
            "_dom_classes": [],
            "_model_module": "@jupyter-widgets/controls",
            "_model_module_version": "1.5.0",
            "_model_name": "HBoxModel",
            "_view_count": null,
            "_view_module": "@jupyter-widgets/controls",
            "_view_module_version": "1.5.0",
            "_view_name": "HBoxView",
            "box_style": "",
            "children": [
              "IPY_MODEL_aa45a00935e54bb499c2577484b5e1dc",
              "IPY_MODEL_69628645a8f840a98fb0ca9a24f61ad7",
              "IPY_MODEL_1f692b171af0456191771faafcd0a9bf"
            ],
            "layout": "IPY_MODEL_167a712919b74abfa330c215f3b9fbbf"
          }
        },
        "aa45a00935e54bb499c2577484b5e1dc": {
          "model_module": "@jupyter-widgets/controls",
          "model_name": "HTMLModel",
          "model_module_version": "1.5.0",
          "state": {
            "_dom_classes": [],
            "_model_module": "@jupyter-widgets/controls",
            "_model_module_version": "1.5.0",
            "_model_name": "HTMLModel",
            "_view_count": null,
            "_view_module": "@jupyter-widgets/controls",
            "_view_module_version": "1.5.0",
            "_view_name": "HTMLView",
            "description": "",
            "description_tooltip": null,
            "layout": "IPY_MODEL_9817bef26aaf404089d941800a666670",
            "placeholder": "​",
            "style": "IPY_MODEL_48dae4b343e24e20962353319ec6063b",
            "value": "config.json: 100%"
          }
        },
        "69628645a8f840a98fb0ca9a24f61ad7": {
          "model_module": "@jupyter-widgets/controls",
          "model_name": "FloatProgressModel",
          "model_module_version": "1.5.0",
          "state": {
            "_dom_classes": [],
            "_model_module": "@jupyter-widgets/controls",
            "_model_module_version": "1.5.0",
            "_model_name": "FloatProgressModel",
            "_view_count": null,
            "_view_module": "@jupyter-widgets/controls",
            "_view_module_version": "1.5.0",
            "_view_name": "ProgressView",
            "bar_style": "success",
            "description": "",
            "description_tooltip": null,
            "layout": "IPY_MODEL_3151f55da54f42d4aec7ce5782882531",
            "max": 619,
            "min": 0,
            "orientation": "horizontal",
            "style": "IPY_MODEL_9ff2d52d1aa2435bb44bd69b0d0999f0",
            "value": 619
          }
        },
        "1f692b171af0456191771faafcd0a9bf": {
          "model_module": "@jupyter-widgets/controls",
          "model_name": "HTMLModel",
          "model_module_version": "1.5.0",
          "state": {
            "_dom_classes": [],
            "_model_module": "@jupyter-widgets/controls",
            "_model_module_version": "1.5.0",
            "_model_name": "HTMLModel",
            "_view_count": null,
            "_view_module": "@jupyter-widgets/controls",
            "_view_module_version": "1.5.0",
            "_view_name": "HTMLView",
            "description": "",
            "description_tooltip": null,
            "layout": "IPY_MODEL_eb0fe85c0e3b4f428a7ef0a72d349d96",
            "placeholder": "​",
            "style": "IPY_MODEL_f5aa601140eb4d4faa3a68ad24816012",
            "value": " 619/619 [00:00&lt;00:00, 38.0kB/s]"
          }
        },
        "167a712919b74abfa330c215f3b9fbbf": {
          "model_module": "@jupyter-widgets/base",
          "model_name": "LayoutModel",
          "model_module_version": "1.2.0",
          "state": {
            "_model_module": "@jupyter-widgets/base",
            "_model_module_version": "1.2.0",
            "_model_name": "LayoutModel",
            "_view_count": null,
            "_view_module": "@jupyter-widgets/base",
            "_view_module_version": "1.2.0",
            "_view_name": "LayoutView",
            "align_content": null,
            "align_items": null,
            "align_self": null,
            "border": null,
            "bottom": null,
            "display": null,
            "flex": null,
            "flex_flow": null,
            "grid_area": null,
            "grid_auto_columns": null,
            "grid_auto_flow": null,
            "grid_auto_rows": null,
            "grid_column": null,
            "grid_gap": null,
            "grid_row": null,
            "grid_template_areas": null,
            "grid_template_columns": null,
            "grid_template_rows": null,
            "height": null,
            "justify_content": null,
            "justify_items": null,
            "left": null,
            "margin": null,
            "max_height": null,
            "max_width": null,
            "min_height": null,
            "min_width": null,
            "object_fit": null,
            "object_position": null,
            "order": null,
            "overflow": null,
            "overflow_x": null,
            "overflow_y": null,
            "padding": null,
            "right": null,
            "top": null,
            "visibility": null,
            "width": null
          }
        },
        "9817bef26aaf404089d941800a666670": {
          "model_module": "@jupyter-widgets/base",
          "model_name": "LayoutModel",
          "model_module_version": "1.2.0",
          "state": {
            "_model_module": "@jupyter-widgets/base",
            "_model_module_version": "1.2.0",
            "_model_name": "LayoutModel",
            "_view_count": null,
            "_view_module": "@jupyter-widgets/base",
            "_view_module_version": "1.2.0",
            "_view_name": "LayoutView",
            "align_content": null,
            "align_items": null,
            "align_self": null,
            "border": null,
            "bottom": null,
            "display": null,
            "flex": null,
            "flex_flow": null,
            "grid_area": null,
            "grid_auto_columns": null,
            "grid_auto_flow": null,
            "grid_auto_rows": null,
            "grid_column": null,
            "grid_gap": null,
            "grid_row": null,
            "grid_template_areas": null,
            "grid_template_columns": null,
            "grid_template_rows": null,
            "height": null,
            "justify_content": null,
            "justify_items": null,
            "left": null,
            "margin": null,
            "max_height": null,
            "max_width": null,
            "min_height": null,
            "min_width": null,
            "object_fit": null,
            "object_position": null,
            "order": null,
            "overflow": null,
            "overflow_x": null,
            "overflow_y": null,
            "padding": null,
            "right": null,
            "top": null,
            "visibility": null,
            "width": null
          }
        },
        "48dae4b343e24e20962353319ec6063b": {
          "model_module": "@jupyter-widgets/controls",
          "model_name": "DescriptionStyleModel",
          "model_module_version": "1.5.0",
          "state": {
            "_model_module": "@jupyter-widgets/controls",
            "_model_module_version": "1.5.0",
            "_model_name": "DescriptionStyleModel",
            "_view_count": null,
            "_view_module": "@jupyter-widgets/base",
            "_view_module_version": "1.2.0",
            "_view_name": "StyleView",
            "description_width": ""
          }
        },
        "3151f55da54f42d4aec7ce5782882531": {
          "model_module": "@jupyter-widgets/base",
          "model_name": "LayoutModel",
          "model_module_version": "1.2.0",
          "state": {
            "_model_module": "@jupyter-widgets/base",
            "_model_module_version": "1.2.0",
            "_model_name": "LayoutModel",
            "_view_count": null,
            "_view_module": "@jupyter-widgets/base",
            "_view_module_version": "1.2.0",
            "_view_name": "LayoutView",
            "align_content": null,
            "align_items": null,
            "align_self": null,
            "border": null,
            "bottom": null,
            "display": null,
            "flex": null,
            "flex_flow": null,
            "grid_area": null,
            "grid_auto_columns": null,
            "grid_auto_flow": null,
            "grid_auto_rows": null,
            "grid_column": null,
            "grid_gap": null,
            "grid_row": null,
            "grid_template_areas": null,
            "grid_template_columns": null,
            "grid_template_rows": null,
            "height": null,
            "justify_content": null,
            "justify_items": null,
            "left": null,
            "margin": null,
            "max_height": null,
            "max_width": null,
            "min_height": null,
            "min_width": null,
            "object_fit": null,
            "object_position": null,
            "order": null,
            "overflow": null,
            "overflow_x": null,
            "overflow_y": null,
            "padding": null,
            "right": null,
            "top": null,
            "visibility": null,
            "width": null
          }
        },
        "9ff2d52d1aa2435bb44bd69b0d0999f0": {
          "model_module": "@jupyter-widgets/controls",
          "model_name": "ProgressStyleModel",
          "model_module_version": "1.5.0",
          "state": {
            "_model_module": "@jupyter-widgets/controls",
            "_model_module_version": "1.5.0",
            "_model_name": "ProgressStyleModel",
            "_view_count": null,
            "_view_module": "@jupyter-widgets/base",
            "_view_module_version": "1.2.0",
            "_view_name": "StyleView",
            "bar_color": null,
            "description_width": ""
          }
        },
        "eb0fe85c0e3b4f428a7ef0a72d349d96": {
          "model_module": "@jupyter-widgets/base",
          "model_name": "LayoutModel",
          "model_module_version": "1.2.0",
          "state": {
            "_model_module": "@jupyter-widgets/base",
            "_model_module_version": "1.2.0",
            "_model_name": "LayoutModel",
            "_view_count": null,
            "_view_module": "@jupyter-widgets/base",
            "_view_module_version": "1.2.0",
            "_view_name": "LayoutView",
            "align_content": null,
            "align_items": null,
            "align_self": null,
            "border": null,
            "bottom": null,
            "display": null,
            "flex": null,
            "flex_flow": null,
            "grid_area": null,
            "grid_auto_columns": null,
            "grid_auto_flow": null,
            "grid_auto_rows": null,
            "grid_column": null,
            "grid_gap": null,
            "grid_row": null,
            "grid_template_areas": null,
            "grid_template_columns": null,
            "grid_template_rows": null,
            "height": null,
            "justify_content": null,
            "justify_items": null,
            "left": null,
            "margin": null,
            "max_height": null,
            "max_width": null,
            "min_height": null,
            "min_width": null,
            "object_fit": null,
            "object_position": null,
            "order": null,
            "overflow": null,
            "overflow_x": null,
            "overflow_y": null,
            "padding": null,
            "right": null,
            "top": null,
            "visibility": null,
            "width": null
          }
        },
        "f5aa601140eb4d4faa3a68ad24816012": {
          "model_module": "@jupyter-widgets/controls",
          "model_name": "DescriptionStyleModel",
          "model_module_version": "1.5.0",
          "state": {
            "_model_module": "@jupyter-widgets/controls",
            "_model_module_version": "1.5.0",
            "_model_name": "DescriptionStyleModel",
            "_view_count": null,
            "_view_module": "@jupyter-widgets/base",
            "_view_module_version": "1.2.0",
            "_view_name": "StyleView",
            "description_width": ""
          }
        },
        "14917fa75c42428986c7869cb47ba426": {
          "model_module": "@jupyter-widgets/controls",
          "model_name": "HBoxModel",
          "model_module_version": "1.5.0",
          "state": {
            "_dom_classes": [],
            "_model_module": "@jupyter-widgets/controls",
            "_model_module_version": "1.5.0",
            "_model_name": "HBoxModel",
            "_view_count": null,
            "_view_module": "@jupyter-widgets/controls",
            "_view_module_version": "1.5.0",
            "_view_name": "HBoxView",
            "box_style": "",
            "children": [
              "IPY_MODEL_af731dea0a7243ccb330d0019c7b21c0",
              "IPY_MODEL_2cf18186a619444e84d018bffa538712",
              "IPY_MODEL_a363788abd5e4c7d9e0f36af6cb9206f"
            ],
            "layout": "IPY_MODEL_33c3b8af9dab4591864164dce1cd953f"
          }
        },
        "af731dea0a7243ccb330d0019c7b21c0": {
          "model_module": "@jupyter-widgets/controls",
          "model_name": "HTMLModel",
          "model_module_version": "1.5.0",
          "state": {
            "_dom_classes": [],
            "_model_module": "@jupyter-widgets/controls",
            "_model_module_version": "1.5.0",
            "_model_name": "HTMLModel",
            "_view_count": null,
            "_view_module": "@jupyter-widgets/controls",
            "_view_module_version": "1.5.0",
            "_view_name": "HTMLView",
            "description": "",
            "description_tooltip": null,
            "layout": "IPY_MODEL_300c6b96142c44f5a43e3321a156b9c6",
            "placeholder": "​",
            "style": "IPY_MODEL_2f290c99da104444b14b214fa588bfe0",
            "value": "vocab.txt: 100%"
          }
        },
        "2cf18186a619444e84d018bffa538712": {
          "model_module": "@jupyter-widgets/controls",
          "model_name": "FloatProgressModel",
          "model_module_version": "1.5.0",
          "state": {
            "_dom_classes": [],
            "_model_module": "@jupyter-widgets/controls",
            "_model_module_version": "1.5.0",
            "_model_name": "FloatProgressModel",
            "_view_count": null,
            "_view_module": "@jupyter-widgets/controls",
            "_view_module_version": "1.5.0",
            "_view_name": "ProgressView",
            "bar_style": "success",
            "description": "",
            "description_tooltip": null,
            "layout": "IPY_MODEL_451cb578b1e74ed881795b3b9ecda5f6",
            "max": 249928,
            "min": 0,
            "orientation": "horizontal",
            "style": "IPY_MODEL_d9d3ac6c761d49aabd87501a516e8de3",
            "value": 249928
          }
        },
        "a363788abd5e4c7d9e0f36af6cb9206f": {
          "model_module": "@jupyter-widgets/controls",
          "model_name": "HTMLModel",
          "model_module_version": "1.5.0",
          "state": {
            "_dom_classes": [],
            "_model_module": "@jupyter-widgets/controls",
            "_model_module_version": "1.5.0",
            "_model_name": "HTMLModel",
            "_view_count": null,
            "_view_module": "@jupyter-widgets/controls",
            "_view_module_version": "1.5.0",
            "_view_name": "HTMLView",
            "description": "",
            "description_tooltip": null,
            "layout": "IPY_MODEL_7e0ee0c653d9468792ebc826deb5c217",
            "placeholder": "​",
            "style": "IPY_MODEL_834a444cc9e64d00a22e5528ab9ed5b1",
            "value": " 250k/250k [00:00&lt;00:00, 422kB/s]"
          }
        },
        "33c3b8af9dab4591864164dce1cd953f": {
          "model_module": "@jupyter-widgets/base",
          "model_name": "LayoutModel",
          "model_module_version": "1.2.0",
          "state": {
            "_model_module": "@jupyter-widgets/base",
            "_model_module_version": "1.2.0",
            "_model_name": "LayoutModel",
            "_view_count": null,
            "_view_module": "@jupyter-widgets/base",
            "_view_module_version": "1.2.0",
            "_view_name": "LayoutView",
            "align_content": null,
            "align_items": null,
            "align_self": null,
            "border": null,
            "bottom": null,
            "display": null,
            "flex": null,
            "flex_flow": null,
            "grid_area": null,
            "grid_auto_columns": null,
            "grid_auto_flow": null,
            "grid_auto_rows": null,
            "grid_column": null,
            "grid_gap": null,
            "grid_row": null,
            "grid_template_areas": null,
            "grid_template_columns": null,
            "grid_template_rows": null,
            "height": null,
            "justify_content": null,
            "justify_items": null,
            "left": null,
            "margin": null,
            "max_height": null,
            "max_width": null,
            "min_height": null,
            "min_width": null,
            "object_fit": null,
            "object_position": null,
            "order": null,
            "overflow": null,
            "overflow_x": null,
            "overflow_y": null,
            "padding": null,
            "right": null,
            "top": null,
            "visibility": null,
            "width": null
          }
        },
        "300c6b96142c44f5a43e3321a156b9c6": {
          "model_module": "@jupyter-widgets/base",
          "model_name": "LayoutModel",
          "model_module_version": "1.2.0",
          "state": {
            "_model_module": "@jupyter-widgets/base",
            "_model_module_version": "1.2.0",
            "_model_name": "LayoutModel",
            "_view_count": null,
            "_view_module": "@jupyter-widgets/base",
            "_view_module_version": "1.2.0",
            "_view_name": "LayoutView",
            "align_content": null,
            "align_items": null,
            "align_self": null,
            "border": null,
            "bottom": null,
            "display": null,
            "flex": null,
            "flex_flow": null,
            "grid_area": null,
            "grid_auto_columns": null,
            "grid_auto_flow": null,
            "grid_auto_rows": null,
            "grid_column": null,
            "grid_gap": null,
            "grid_row": null,
            "grid_template_areas": null,
            "grid_template_columns": null,
            "grid_template_rows": null,
            "height": null,
            "justify_content": null,
            "justify_items": null,
            "left": null,
            "margin": null,
            "max_height": null,
            "max_width": null,
            "min_height": null,
            "min_width": null,
            "object_fit": null,
            "object_position": null,
            "order": null,
            "overflow": null,
            "overflow_x": null,
            "overflow_y": null,
            "padding": null,
            "right": null,
            "top": null,
            "visibility": null,
            "width": null
          }
        },
        "2f290c99da104444b14b214fa588bfe0": {
          "model_module": "@jupyter-widgets/controls",
          "model_name": "DescriptionStyleModel",
          "model_module_version": "1.5.0",
          "state": {
            "_model_module": "@jupyter-widgets/controls",
            "_model_module_version": "1.5.0",
            "_model_name": "DescriptionStyleModel",
            "_view_count": null,
            "_view_module": "@jupyter-widgets/base",
            "_view_module_version": "1.2.0",
            "_view_name": "StyleView",
            "description_width": ""
          }
        },
        "451cb578b1e74ed881795b3b9ecda5f6": {
          "model_module": "@jupyter-widgets/base",
          "model_name": "LayoutModel",
          "model_module_version": "1.2.0",
          "state": {
            "_model_module": "@jupyter-widgets/base",
            "_model_module_version": "1.2.0",
            "_model_name": "LayoutModel",
            "_view_count": null,
            "_view_module": "@jupyter-widgets/base",
            "_view_module_version": "1.2.0",
            "_view_name": "LayoutView",
            "align_content": null,
            "align_items": null,
            "align_self": null,
            "border": null,
            "bottom": null,
            "display": null,
            "flex": null,
            "flex_flow": null,
            "grid_area": null,
            "grid_auto_columns": null,
            "grid_auto_flow": null,
            "grid_auto_rows": null,
            "grid_column": null,
            "grid_gap": null,
            "grid_row": null,
            "grid_template_areas": null,
            "grid_template_columns": null,
            "grid_template_rows": null,
            "height": null,
            "justify_content": null,
            "justify_items": null,
            "left": null,
            "margin": null,
            "max_height": null,
            "max_width": null,
            "min_height": null,
            "min_width": null,
            "object_fit": null,
            "object_position": null,
            "order": null,
            "overflow": null,
            "overflow_x": null,
            "overflow_y": null,
            "padding": null,
            "right": null,
            "top": null,
            "visibility": null,
            "width": null
          }
        },
        "d9d3ac6c761d49aabd87501a516e8de3": {
          "model_module": "@jupyter-widgets/controls",
          "model_name": "ProgressStyleModel",
          "model_module_version": "1.5.0",
          "state": {
            "_model_module": "@jupyter-widgets/controls",
            "_model_module_version": "1.5.0",
            "_model_name": "ProgressStyleModel",
            "_view_count": null,
            "_view_module": "@jupyter-widgets/base",
            "_view_module_version": "1.2.0",
            "_view_name": "StyleView",
            "bar_color": null,
            "description_width": ""
          }
        },
        "7e0ee0c653d9468792ebc826deb5c217": {
          "model_module": "@jupyter-widgets/base",
          "model_name": "LayoutModel",
          "model_module_version": "1.2.0",
          "state": {
            "_model_module": "@jupyter-widgets/base",
            "_model_module_version": "1.2.0",
            "_model_name": "LayoutModel",
            "_view_count": null,
            "_view_module": "@jupyter-widgets/base",
            "_view_module_version": "1.2.0",
            "_view_name": "LayoutView",
            "align_content": null,
            "align_items": null,
            "align_self": null,
            "border": null,
            "bottom": null,
            "display": null,
            "flex": null,
            "flex_flow": null,
            "grid_area": null,
            "grid_auto_columns": null,
            "grid_auto_flow": null,
            "grid_auto_rows": null,
            "grid_column": null,
            "grid_gap": null,
            "grid_row": null,
            "grid_template_areas": null,
            "grid_template_columns": null,
            "grid_template_rows": null,
            "height": null,
            "justify_content": null,
            "justify_items": null,
            "left": null,
            "margin": null,
            "max_height": null,
            "max_width": null,
            "min_height": null,
            "min_width": null,
            "object_fit": null,
            "object_position": null,
            "order": null,
            "overflow": null,
            "overflow_x": null,
            "overflow_y": null,
            "padding": null,
            "right": null,
            "top": null,
            "visibility": null,
            "width": null
          }
        },
        "834a444cc9e64d00a22e5528ab9ed5b1": {
          "model_module": "@jupyter-widgets/controls",
          "model_name": "DescriptionStyleModel",
          "model_module_version": "1.5.0",
          "state": {
            "_model_module": "@jupyter-widgets/controls",
            "_model_module_version": "1.5.0",
            "_model_name": "DescriptionStyleModel",
            "_view_count": null,
            "_view_module": "@jupyter-widgets/base",
            "_view_module_version": "1.2.0",
            "_view_name": "StyleView",
            "description_width": ""
          }
        },
        "93d7954b71f846f08e37ef101d1c1e71": {
          "model_module": "@jupyter-widgets/controls",
          "model_name": "HBoxModel",
          "model_module_version": "1.5.0",
          "state": {
            "_dom_classes": [],
            "_model_module": "@jupyter-widgets/controls",
            "_model_module_version": "1.5.0",
            "_model_name": "HBoxModel",
            "_view_count": null,
            "_view_module": "@jupyter-widgets/controls",
            "_view_module_version": "1.5.0",
            "_view_name": "HBoxView",
            "box_style": "",
            "children": [
              "IPY_MODEL_6dcc8990f75e4447883c9ed36c721ac1",
              "IPY_MODEL_54d51391d59742168145389e320da5cc",
              "IPY_MODEL_18469d1cdd7342079faf73565616fb0b"
            ],
            "layout": "IPY_MODEL_2fc668e162c24ca5b065c535894aabdb"
          }
        },
        "6dcc8990f75e4447883c9ed36c721ac1": {
          "model_module": "@jupyter-widgets/controls",
          "model_name": "HTMLModel",
          "model_module_version": "1.5.0",
          "state": {
            "_dom_classes": [],
            "_model_module": "@jupyter-widgets/controls",
            "_model_module_version": "1.5.0",
            "_model_name": "HTMLModel",
            "_view_count": null,
            "_view_module": "@jupyter-widgets/controls",
            "_view_module_version": "1.5.0",
            "_view_name": "HTMLView",
            "description": "",
            "description_tooltip": null,
            "layout": "IPY_MODEL_904dd4415265422b9fcee08da702b3d4",
            "placeholder": "​",
            "style": "IPY_MODEL_3113a49fadd74303b4e7a5507e836884",
            "value": "model.safetensors: 100%"
          }
        },
        "54d51391d59742168145389e320da5cc": {
          "model_module": "@jupyter-widgets/controls",
          "model_name": "FloatProgressModel",
          "model_module_version": "1.5.0",
          "state": {
            "_dom_classes": [],
            "_model_module": "@jupyter-widgets/controls",
            "_model_module_version": "1.5.0",
            "_model_name": "FloatProgressModel",
            "_view_count": null,
            "_view_module": "@jupyter-widgets/controls",
            "_view_module_version": "1.5.0",
            "_view_name": "ProgressView",
            "bar_style": "success",
            "description": "",
            "description_tooltip": null,
            "layout": "IPY_MODEL_cb230279047549e9a84867ec85249104",
            "max": 438192852,
            "min": 0,
            "orientation": "horizontal",
            "style": "IPY_MODEL_4146d6d9c3da4e9ab653947ecee5092a",
            "value": 438192852
          }
        },
        "18469d1cdd7342079faf73565616fb0b": {
          "model_module": "@jupyter-widgets/controls",
          "model_name": "HTMLModel",
          "model_module_version": "1.5.0",
          "state": {
            "_dom_classes": [],
            "_model_module": "@jupyter-widgets/controls",
            "_model_module_version": "1.5.0",
            "_model_name": "HTMLModel",
            "_view_count": null,
            "_view_module": "@jupyter-widgets/controls",
            "_view_module_version": "1.5.0",
            "_view_name": "HTMLView",
            "description": "",
            "description_tooltip": null,
            "layout": "IPY_MODEL_6cd6bdd4bcd849ea8fcb11ae5d337428",
            "placeholder": "​",
            "style": "IPY_MODEL_8aa4c10c3c6f44c1900e4ae5ee62bf2e",
            "value": " 438M/438M [00:25&lt;00:00, 19.0MB/s]"
          }
        },
        "2fc668e162c24ca5b065c535894aabdb": {
          "model_module": "@jupyter-widgets/base",
          "model_name": "LayoutModel",
          "model_module_version": "1.2.0",
          "state": {
            "_model_module": "@jupyter-widgets/base",
            "_model_module_version": "1.2.0",
            "_model_name": "LayoutModel",
            "_view_count": null,
            "_view_module": "@jupyter-widgets/base",
            "_view_module_version": "1.2.0",
            "_view_name": "LayoutView",
            "align_content": null,
            "align_items": null,
            "align_self": null,
            "border": null,
            "bottom": null,
            "display": null,
            "flex": null,
            "flex_flow": null,
            "grid_area": null,
            "grid_auto_columns": null,
            "grid_auto_flow": null,
            "grid_auto_rows": null,
            "grid_column": null,
            "grid_gap": null,
            "grid_row": null,
            "grid_template_areas": null,
            "grid_template_columns": null,
            "grid_template_rows": null,
            "height": null,
            "justify_content": null,
            "justify_items": null,
            "left": null,
            "margin": null,
            "max_height": null,
            "max_width": null,
            "min_height": null,
            "min_width": null,
            "object_fit": null,
            "object_position": null,
            "order": null,
            "overflow": null,
            "overflow_x": null,
            "overflow_y": null,
            "padding": null,
            "right": null,
            "top": null,
            "visibility": null,
            "width": null
          }
        },
        "904dd4415265422b9fcee08da702b3d4": {
          "model_module": "@jupyter-widgets/base",
          "model_name": "LayoutModel",
          "model_module_version": "1.2.0",
          "state": {
            "_model_module": "@jupyter-widgets/base",
            "_model_module_version": "1.2.0",
            "_model_name": "LayoutModel",
            "_view_count": null,
            "_view_module": "@jupyter-widgets/base",
            "_view_module_version": "1.2.0",
            "_view_name": "LayoutView",
            "align_content": null,
            "align_items": null,
            "align_self": null,
            "border": null,
            "bottom": null,
            "display": null,
            "flex": null,
            "flex_flow": null,
            "grid_area": null,
            "grid_auto_columns": null,
            "grid_auto_flow": null,
            "grid_auto_rows": null,
            "grid_column": null,
            "grid_gap": null,
            "grid_row": null,
            "grid_template_areas": null,
            "grid_template_columns": null,
            "grid_template_rows": null,
            "height": null,
            "justify_content": null,
            "justify_items": null,
            "left": null,
            "margin": null,
            "max_height": null,
            "max_width": null,
            "min_height": null,
            "min_width": null,
            "object_fit": null,
            "object_position": null,
            "order": null,
            "overflow": null,
            "overflow_x": null,
            "overflow_y": null,
            "padding": null,
            "right": null,
            "top": null,
            "visibility": null,
            "width": null
          }
        },
        "3113a49fadd74303b4e7a5507e836884": {
          "model_module": "@jupyter-widgets/controls",
          "model_name": "DescriptionStyleModel",
          "model_module_version": "1.5.0",
          "state": {
            "_model_module": "@jupyter-widgets/controls",
            "_model_module_version": "1.5.0",
            "_model_name": "DescriptionStyleModel",
            "_view_count": null,
            "_view_module": "@jupyter-widgets/base",
            "_view_module_version": "1.2.0",
            "_view_name": "StyleView",
            "description_width": ""
          }
        },
        "cb230279047549e9a84867ec85249104": {
          "model_module": "@jupyter-widgets/base",
          "model_name": "LayoutModel",
          "model_module_version": "1.2.0",
          "state": {
            "_model_module": "@jupyter-widgets/base",
            "_model_module_version": "1.2.0",
            "_model_name": "LayoutModel",
            "_view_count": null,
            "_view_module": "@jupyter-widgets/base",
            "_view_module_version": "1.2.0",
            "_view_name": "LayoutView",
            "align_content": null,
            "align_items": null,
            "align_self": null,
            "border": null,
            "bottom": null,
            "display": null,
            "flex": null,
            "flex_flow": null,
            "grid_area": null,
            "grid_auto_columns": null,
            "grid_auto_flow": null,
            "grid_auto_rows": null,
            "grid_column": null,
            "grid_gap": null,
            "grid_row": null,
            "grid_template_areas": null,
            "grid_template_columns": null,
            "grid_template_rows": null,
            "height": null,
            "justify_content": null,
            "justify_items": null,
            "left": null,
            "margin": null,
            "max_height": null,
            "max_width": null,
            "min_height": null,
            "min_width": null,
            "object_fit": null,
            "object_position": null,
            "order": null,
            "overflow": null,
            "overflow_x": null,
            "overflow_y": null,
            "padding": null,
            "right": null,
            "top": null,
            "visibility": null,
            "width": null
          }
        },
        "4146d6d9c3da4e9ab653947ecee5092a": {
          "model_module": "@jupyter-widgets/controls",
          "model_name": "ProgressStyleModel",
          "model_module_version": "1.5.0",
          "state": {
            "_model_module": "@jupyter-widgets/controls",
            "_model_module_version": "1.5.0",
            "_model_name": "ProgressStyleModel",
            "_view_count": null,
            "_view_module": "@jupyter-widgets/base",
            "_view_module_version": "1.2.0",
            "_view_name": "StyleView",
            "bar_color": null,
            "description_width": ""
          }
        },
        "6cd6bdd4bcd849ea8fcb11ae5d337428": {
          "model_module": "@jupyter-widgets/base",
          "model_name": "LayoutModel",
          "model_module_version": "1.2.0",
          "state": {
            "_model_module": "@jupyter-widgets/base",
            "_model_module_version": "1.2.0",
            "_model_name": "LayoutModel",
            "_view_count": null,
            "_view_module": "@jupyter-widgets/base",
            "_view_module_version": "1.2.0",
            "_view_name": "LayoutView",
            "align_content": null,
            "align_items": null,
            "align_self": null,
            "border": null,
            "bottom": null,
            "display": null,
            "flex": null,
            "flex_flow": null,
            "grid_area": null,
            "grid_auto_columns": null,
            "grid_auto_flow": null,
            "grid_auto_rows": null,
            "grid_column": null,
            "grid_gap": null,
            "grid_row": null,
            "grid_template_areas": null,
            "grid_template_columns": null,
            "grid_template_rows": null,
            "height": null,
            "justify_content": null,
            "justify_items": null,
            "left": null,
            "margin": null,
            "max_height": null,
            "max_width": null,
            "min_height": null,
            "min_width": null,
            "object_fit": null,
            "object_position": null,
            "order": null,
            "overflow": null,
            "overflow_x": null,
            "overflow_y": null,
            "padding": null,
            "right": null,
            "top": null,
            "visibility": null,
            "width": null
          }
        },
        "8aa4c10c3c6f44c1900e4ae5ee62bf2e": {
          "model_module": "@jupyter-widgets/controls",
          "model_name": "DescriptionStyleModel",
          "model_module_version": "1.5.0",
          "state": {
            "_model_module": "@jupyter-widgets/controls",
            "_model_module_version": "1.5.0",
            "_model_name": "DescriptionStyleModel",
            "_view_count": null,
            "_view_module": "@jupyter-widgets/base",
            "_view_module_version": "1.2.0",
            "_view_name": "StyleView",
            "description_width": ""
          }
        },
        "2957b445405f475baafef050eb16bf1d": {
          "model_module": "@jupyter-widgets/controls",
          "model_name": "HBoxModel",
          "model_module_version": "1.5.0",
          "state": {
            "_dom_classes": [],
            "_model_module": "@jupyter-widgets/controls",
            "_model_module_version": "1.5.0",
            "_model_name": "HBoxModel",
            "_view_count": null,
            "_view_module": "@jupyter-widgets/controls",
            "_view_module_version": "1.5.0",
            "_view_name": "HBoxView",
            "box_style": "",
            "children": [
              "IPY_MODEL_749bc9755cd0471a951d7de56d8be486",
              "IPY_MODEL_b38028d0d0e346f0852dd37cd8fc93b0",
              "IPY_MODEL_2ee4d9e8e32c4402a32a8297e42c3c23"
            ],
            "layout": "IPY_MODEL_d0ed7564dd9543d18c11b1c3d843b9be"
          }
        },
        "749bc9755cd0471a951d7de56d8be486": {
          "model_module": "@jupyter-widgets/controls",
          "model_name": "HTMLModel",
          "model_module_version": "1.5.0",
          "state": {
            "_dom_classes": [],
            "_model_module": "@jupyter-widgets/controls",
            "_model_module_version": "1.5.0",
            "_model_name": "HTMLModel",
            "_view_count": null,
            "_view_module": "@jupyter-widgets/controls",
            "_view_module_version": "1.5.0",
            "_view_name": "HTMLView",
            "description": "",
            "description_tooltip": null,
            "layout": "IPY_MODEL_30260cb917f94f029a9cd26ef6b3820e",
            "placeholder": "​",
            "style": "IPY_MODEL_82dd7ead672241a19111c4c55261bf40",
            "value": "config.json: 100%"
          }
        },
        "b38028d0d0e346f0852dd37cd8fc93b0": {
          "model_module": "@jupyter-widgets/controls",
          "model_name": "FloatProgressModel",
          "model_module_version": "1.5.0",
          "state": {
            "_dom_classes": [],
            "_model_module": "@jupyter-widgets/controls",
            "_model_module_version": "1.5.0",
            "_model_name": "FloatProgressModel",
            "_view_count": null,
            "_view_module": "@jupyter-widgets/controls",
            "_view_module_version": "1.5.0",
            "_view_name": "ProgressView",
            "bar_style": "success",
            "description": "",
            "description_tooltip": null,
            "layout": "IPY_MODEL_965d2ddc320e47a6b86f40bd68f93d69",
            "max": 675,
            "min": 0,
            "orientation": "horizontal",
            "style": "IPY_MODEL_6450bdb549d74745a5574bd6b6826ec6",
            "value": 675
          }
        },
        "2ee4d9e8e32c4402a32a8297e42c3c23": {
          "model_module": "@jupyter-widgets/controls",
          "model_name": "HTMLModel",
          "model_module_version": "1.5.0",
          "state": {
            "_dom_classes": [],
            "_model_module": "@jupyter-widgets/controls",
            "_model_module_version": "1.5.0",
            "_model_name": "HTMLModel",
            "_view_count": null,
            "_view_module": "@jupyter-widgets/controls",
            "_view_module_version": "1.5.0",
            "_view_name": "HTMLView",
            "description": "",
            "description_tooltip": null,
            "layout": "IPY_MODEL_a430b35a89c44291b4d4e7ad9361300c",
            "placeholder": "​",
            "style": "IPY_MODEL_19a46e085b794eb39bdb0d05d02f48e3",
            "value": " 675/675 [00:00&lt;00:00, 27.9kB/s]"
          }
        },
        "d0ed7564dd9543d18c11b1c3d843b9be": {
          "model_module": "@jupyter-widgets/base",
          "model_name": "LayoutModel",
          "model_module_version": "1.2.0",
          "state": {
            "_model_module": "@jupyter-widgets/base",
            "_model_module_version": "1.2.0",
            "_model_name": "LayoutModel",
            "_view_count": null,
            "_view_module": "@jupyter-widgets/base",
            "_view_module_version": "1.2.0",
            "_view_name": "LayoutView",
            "align_content": null,
            "align_items": null,
            "align_self": null,
            "border": null,
            "bottom": null,
            "display": null,
            "flex": null,
            "flex_flow": null,
            "grid_area": null,
            "grid_auto_columns": null,
            "grid_auto_flow": null,
            "grid_auto_rows": null,
            "grid_column": null,
            "grid_gap": null,
            "grid_row": null,
            "grid_template_areas": null,
            "grid_template_columns": null,
            "grid_template_rows": null,
            "height": null,
            "justify_content": null,
            "justify_items": null,
            "left": null,
            "margin": null,
            "max_height": null,
            "max_width": null,
            "min_height": null,
            "min_width": null,
            "object_fit": null,
            "object_position": null,
            "order": null,
            "overflow": null,
            "overflow_x": null,
            "overflow_y": null,
            "padding": null,
            "right": null,
            "top": null,
            "visibility": null,
            "width": null
          }
        },
        "30260cb917f94f029a9cd26ef6b3820e": {
          "model_module": "@jupyter-widgets/base",
          "model_name": "LayoutModel",
          "model_module_version": "1.2.0",
          "state": {
            "_model_module": "@jupyter-widgets/base",
            "_model_module_version": "1.2.0",
            "_model_name": "LayoutModel",
            "_view_count": null,
            "_view_module": "@jupyter-widgets/base",
            "_view_module_version": "1.2.0",
            "_view_name": "LayoutView",
            "align_content": null,
            "align_items": null,
            "align_self": null,
            "border": null,
            "bottom": null,
            "display": null,
            "flex": null,
            "flex_flow": null,
            "grid_area": null,
            "grid_auto_columns": null,
            "grid_auto_flow": null,
            "grid_auto_rows": null,
            "grid_column": null,
            "grid_gap": null,
            "grid_row": null,
            "grid_template_areas": null,
            "grid_template_columns": null,
            "grid_template_rows": null,
            "height": null,
            "justify_content": null,
            "justify_items": null,
            "left": null,
            "margin": null,
            "max_height": null,
            "max_width": null,
            "min_height": null,
            "min_width": null,
            "object_fit": null,
            "object_position": null,
            "order": null,
            "overflow": null,
            "overflow_x": null,
            "overflow_y": null,
            "padding": null,
            "right": null,
            "top": null,
            "visibility": null,
            "width": null
          }
        },
        "82dd7ead672241a19111c4c55261bf40": {
          "model_module": "@jupyter-widgets/controls",
          "model_name": "DescriptionStyleModel",
          "model_module_version": "1.5.0",
          "state": {
            "_model_module": "@jupyter-widgets/controls",
            "_model_module_version": "1.5.0",
            "_model_name": "DescriptionStyleModel",
            "_view_count": null,
            "_view_module": "@jupyter-widgets/base",
            "_view_module_version": "1.2.0",
            "_view_name": "StyleView",
            "description_width": ""
          }
        },
        "965d2ddc320e47a6b86f40bd68f93d69": {
          "model_module": "@jupyter-widgets/base",
          "model_name": "LayoutModel",
          "model_module_version": "1.2.0",
          "state": {
            "_model_module": "@jupyter-widgets/base",
            "_model_module_version": "1.2.0",
            "_model_name": "LayoutModel",
            "_view_count": null,
            "_view_module": "@jupyter-widgets/base",
            "_view_module_version": "1.2.0",
            "_view_name": "LayoutView",
            "align_content": null,
            "align_items": null,
            "align_self": null,
            "border": null,
            "bottom": null,
            "display": null,
            "flex": null,
            "flex_flow": null,
            "grid_area": null,
            "grid_auto_columns": null,
            "grid_auto_flow": null,
            "grid_auto_rows": null,
            "grid_column": null,
            "grid_gap": null,
            "grid_row": null,
            "grid_template_areas": null,
            "grid_template_columns": null,
            "grid_template_rows": null,
            "height": null,
            "justify_content": null,
            "justify_items": null,
            "left": null,
            "margin": null,
            "max_height": null,
            "max_width": null,
            "min_height": null,
            "min_width": null,
            "object_fit": null,
            "object_position": null,
            "order": null,
            "overflow": null,
            "overflow_x": null,
            "overflow_y": null,
            "padding": null,
            "right": null,
            "top": null,
            "visibility": null,
            "width": null
          }
        },
        "6450bdb549d74745a5574bd6b6826ec6": {
          "model_module": "@jupyter-widgets/controls",
          "model_name": "ProgressStyleModel",
          "model_module_version": "1.5.0",
          "state": {
            "_model_module": "@jupyter-widgets/controls",
            "_model_module_version": "1.5.0",
            "_model_name": "ProgressStyleModel",
            "_view_count": null,
            "_view_module": "@jupyter-widgets/base",
            "_view_module_version": "1.2.0",
            "_view_name": "StyleView",
            "bar_color": null,
            "description_width": ""
          }
        },
        "a430b35a89c44291b4d4e7ad9361300c": {
          "model_module": "@jupyter-widgets/base",
          "model_name": "LayoutModel",
          "model_module_version": "1.2.0",
          "state": {
            "_model_module": "@jupyter-widgets/base",
            "_model_module_version": "1.2.0",
            "_model_name": "LayoutModel",
            "_view_count": null,
            "_view_module": "@jupyter-widgets/base",
            "_view_module_version": "1.2.0",
            "_view_name": "LayoutView",
            "align_content": null,
            "align_items": null,
            "align_self": null,
            "border": null,
            "bottom": null,
            "display": null,
            "flex": null,
            "flex_flow": null,
            "grid_area": null,
            "grid_auto_columns": null,
            "grid_auto_flow": null,
            "grid_auto_rows": null,
            "grid_column": null,
            "grid_gap": null,
            "grid_row": null,
            "grid_template_areas": null,
            "grid_template_columns": null,
            "grid_template_rows": null,
            "height": null,
            "justify_content": null,
            "justify_items": null,
            "left": null,
            "margin": null,
            "max_height": null,
            "max_width": null,
            "min_height": null,
            "min_width": null,
            "object_fit": null,
            "object_position": null,
            "order": null,
            "overflow": null,
            "overflow_x": null,
            "overflow_y": null,
            "padding": null,
            "right": null,
            "top": null,
            "visibility": null,
            "width": null
          }
        },
        "19a46e085b794eb39bdb0d05d02f48e3": {
          "model_module": "@jupyter-widgets/controls",
          "model_name": "DescriptionStyleModel",
          "model_module_version": "1.5.0",
          "state": {
            "_model_module": "@jupyter-widgets/controls",
            "_model_module_version": "1.5.0",
            "_model_name": "DescriptionStyleModel",
            "_view_count": null,
            "_view_module": "@jupyter-widgets/base",
            "_view_module_version": "1.2.0",
            "_view_name": "StyleView",
            "description_width": ""
          }
        },
        "581645ca6acd408daa749342e5d900ee": {
          "model_module": "@jupyter-widgets/controls",
          "model_name": "HBoxModel",
          "model_module_version": "1.5.0",
          "state": {
            "_dom_classes": [],
            "_model_module": "@jupyter-widgets/controls",
            "_model_module_version": "1.5.0",
            "_model_name": "HBoxModel",
            "_view_count": null,
            "_view_module": "@jupyter-widgets/controls",
            "_view_module_version": "1.5.0",
            "_view_name": "HBoxView",
            "box_style": "",
            "children": [
              "IPY_MODEL_8b4a33615d274751b0431d2c679c8dc2",
              "IPY_MODEL_c9f9e9cb7e6340a8a561d97596469381",
              "IPY_MODEL_c252a59150bd435dadfa4c586d0e7dab"
            ],
            "layout": "IPY_MODEL_f8917623b16641329ba90b9a650c90d6"
          }
        },
        "8b4a33615d274751b0431d2c679c8dc2": {
          "model_module": "@jupyter-widgets/controls",
          "model_name": "HTMLModel",
          "model_module_version": "1.5.0",
          "state": {
            "_dom_classes": [],
            "_model_module": "@jupyter-widgets/controls",
            "_model_module_version": "1.5.0",
            "_model_name": "HTMLModel",
            "_view_count": null,
            "_view_module": "@jupyter-widgets/controls",
            "_view_module_version": "1.5.0",
            "_view_name": "HTMLView",
            "description": "",
            "description_tooltip": null,
            "layout": "IPY_MODEL_1f0b61250a41441cb918dd0ebb8bd40d",
            "placeholder": "​",
            "style": "IPY_MODEL_17171fb8ed414d9693cc6fd9e466a202",
            "value": "model.safetensors: 100%"
          }
        },
        "c9f9e9cb7e6340a8a561d97596469381": {
          "model_module": "@jupyter-widgets/controls",
          "model_name": "FloatProgressModel",
          "model_module_version": "1.5.0",
          "state": {
            "_dom_classes": [],
            "_model_module": "@jupyter-widgets/controls",
            "_model_module_version": "1.5.0",
            "_model_name": "FloatProgressModel",
            "_view_count": null,
            "_view_module": "@jupyter-widgets/controls",
            "_view_module_version": "1.5.0",
            "_view_name": "ProgressView",
            "bar_style": "success",
            "description": "",
            "description_tooltip": null,
            "layout": "IPY_MODEL_f2d5a95189044a2da8ec1c94a7d6d97d",
            "max": 442495932,
            "min": 0,
            "orientation": "horizontal",
            "style": "IPY_MODEL_1da7bb0901584130b435d4ea20a6bb38",
            "value": 442495932
          }
        },
        "c252a59150bd435dadfa4c586d0e7dab": {
          "model_module": "@jupyter-widgets/controls",
          "model_name": "HTMLModel",
          "model_module_version": "1.5.0",
          "state": {
            "_dom_classes": [],
            "_model_module": "@jupyter-widgets/controls",
            "_model_module_version": "1.5.0",
            "_model_name": "HTMLModel",
            "_view_count": null,
            "_view_module": "@jupyter-widgets/controls",
            "_view_module_version": "1.5.0",
            "_view_name": "HTMLView",
            "description": "",
            "description_tooltip": null,
            "layout": "IPY_MODEL_c02376fbd0014d1fa19409617fc360b2",
            "placeholder": "​",
            "style": "IPY_MODEL_13577b32c0a0462e98cb63ed6dc642b3",
            "value": " 442M/442M [00:02&lt;00:00, 171MB/s]"
          }
        },
        "f8917623b16641329ba90b9a650c90d6": {
          "model_module": "@jupyter-widgets/base",
          "model_name": "LayoutModel",
          "model_module_version": "1.2.0",
          "state": {
            "_model_module": "@jupyter-widgets/base",
            "_model_module_version": "1.2.0",
            "_model_name": "LayoutModel",
            "_view_count": null,
            "_view_module": "@jupyter-widgets/base",
            "_view_module_version": "1.2.0",
            "_view_name": "LayoutView",
            "align_content": null,
            "align_items": null,
            "align_self": null,
            "border": null,
            "bottom": null,
            "display": null,
            "flex": null,
            "flex_flow": null,
            "grid_area": null,
            "grid_auto_columns": null,
            "grid_auto_flow": null,
            "grid_auto_rows": null,
            "grid_column": null,
            "grid_gap": null,
            "grid_row": null,
            "grid_template_areas": null,
            "grid_template_columns": null,
            "grid_template_rows": null,
            "height": null,
            "justify_content": null,
            "justify_items": null,
            "left": null,
            "margin": null,
            "max_height": null,
            "max_width": null,
            "min_height": null,
            "min_width": null,
            "object_fit": null,
            "object_position": null,
            "order": null,
            "overflow": null,
            "overflow_x": null,
            "overflow_y": null,
            "padding": null,
            "right": null,
            "top": null,
            "visibility": null,
            "width": null
          }
        },
        "1f0b61250a41441cb918dd0ebb8bd40d": {
          "model_module": "@jupyter-widgets/base",
          "model_name": "LayoutModel",
          "model_module_version": "1.2.0",
          "state": {
            "_model_module": "@jupyter-widgets/base",
            "_model_module_version": "1.2.0",
            "_model_name": "LayoutModel",
            "_view_count": null,
            "_view_module": "@jupyter-widgets/base",
            "_view_module_version": "1.2.0",
            "_view_name": "LayoutView",
            "align_content": null,
            "align_items": null,
            "align_self": null,
            "border": null,
            "bottom": null,
            "display": null,
            "flex": null,
            "flex_flow": null,
            "grid_area": null,
            "grid_auto_columns": null,
            "grid_auto_flow": null,
            "grid_auto_rows": null,
            "grid_column": null,
            "grid_gap": null,
            "grid_row": null,
            "grid_template_areas": null,
            "grid_template_columns": null,
            "grid_template_rows": null,
            "height": null,
            "justify_content": null,
            "justify_items": null,
            "left": null,
            "margin": null,
            "max_height": null,
            "max_width": null,
            "min_height": null,
            "min_width": null,
            "object_fit": null,
            "object_position": null,
            "order": null,
            "overflow": null,
            "overflow_x": null,
            "overflow_y": null,
            "padding": null,
            "right": null,
            "top": null,
            "visibility": null,
            "width": null
          }
        },
        "17171fb8ed414d9693cc6fd9e466a202": {
          "model_module": "@jupyter-widgets/controls",
          "model_name": "DescriptionStyleModel",
          "model_module_version": "1.5.0",
          "state": {
            "_model_module": "@jupyter-widgets/controls",
            "_model_module_version": "1.5.0",
            "_model_name": "DescriptionStyleModel",
            "_view_count": null,
            "_view_module": "@jupyter-widgets/base",
            "_view_module_version": "1.2.0",
            "_view_name": "StyleView",
            "description_width": ""
          }
        },
        "f2d5a95189044a2da8ec1c94a7d6d97d": {
          "model_module": "@jupyter-widgets/base",
          "model_name": "LayoutModel",
          "model_module_version": "1.2.0",
          "state": {
            "_model_module": "@jupyter-widgets/base",
            "_model_module_version": "1.2.0",
            "_model_name": "LayoutModel",
            "_view_count": null,
            "_view_module": "@jupyter-widgets/base",
            "_view_module_version": "1.2.0",
            "_view_name": "LayoutView",
            "align_content": null,
            "align_items": null,
            "align_self": null,
            "border": null,
            "bottom": null,
            "display": null,
            "flex": null,
            "flex_flow": null,
            "grid_area": null,
            "grid_auto_columns": null,
            "grid_auto_flow": null,
            "grid_auto_rows": null,
            "grid_column": null,
            "grid_gap": null,
            "grid_row": null,
            "grid_template_areas": null,
            "grid_template_columns": null,
            "grid_template_rows": null,
            "height": null,
            "justify_content": null,
            "justify_items": null,
            "left": null,
            "margin": null,
            "max_height": null,
            "max_width": null,
            "min_height": null,
            "min_width": null,
            "object_fit": null,
            "object_position": null,
            "order": null,
            "overflow": null,
            "overflow_x": null,
            "overflow_y": null,
            "padding": null,
            "right": null,
            "top": null,
            "visibility": null,
            "width": null
          }
        },
        "1da7bb0901584130b435d4ea20a6bb38": {
          "model_module": "@jupyter-widgets/controls",
          "model_name": "ProgressStyleModel",
          "model_module_version": "1.5.0",
          "state": {
            "_model_module": "@jupyter-widgets/controls",
            "_model_module_version": "1.5.0",
            "_model_name": "ProgressStyleModel",
            "_view_count": null,
            "_view_module": "@jupyter-widgets/base",
            "_view_module_version": "1.2.0",
            "_view_name": "StyleView",
            "bar_color": null,
            "description_width": ""
          }
        },
        "c02376fbd0014d1fa19409617fc360b2": {
          "model_module": "@jupyter-widgets/base",
          "model_name": "LayoutModel",
          "model_module_version": "1.2.0",
          "state": {
            "_model_module": "@jupyter-widgets/base",
            "_model_module_version": "1.2.0",
            "_model_name": "LayoutModel",
            "_view_count": null,
            "_view_module": "@jupyter-widgets/base",
            "_view_module_version": "1.2.0",
            "_view_name": "LayoutView",
            "align_content": null,
            "align_items": null,
            "align_self": null,
            "border": null,
            "bottom": null,
            "display": null,
            "flex": null,
            "flex_flow": null,
            "grid_area": null,
            "grid_auto_columns": null,
            "grid_auto_flow": null,
            "grid_auto_rows": null,
            "grid_column": null,
            "grid_gap": null,
            "grid_row": null,
            "grid_template_areas": null,
            "grid_template_columns": null,
            "grid_template_rows": null,
            "height": null,
            "justify_content": null,
            "justify_items": null,
            "left": null,
            "margin": null,
            "max_height": null,
            "max_width": null,
            "min_height": null,
            "min_width": null,
            "object_fit": null,
            "object_position": null,
            "order": null,
            "overflow": null,
            "overflow_x": null,
            "overflow_y": null,
            "padding": null,
            "right": null,
            "top": null,
            "visibility": null,
            "width": null
          }
        },
        "13577b32c0a0462e98cb63ed6dc642b3": {
          "model_module": "@jupyter-widgets/controls",
          "model_name": "DescriptionStyleModel",
          "model_module_version": "1.5.0",
          "state": {
            "_model_module": "@jupyter-widgets/controls",
            "_model_module_version": "1.5.0",
            "_model_name": "DescriptionStyleModel",
            "_view_count": null,
            "_view_module": "@jupyter-widgets/base",
            "_view_module_version": "1.2.0",
            "_view_name": "StyleView",
            "description_width": ""
          }
        },
        "10992ec23dc84a6fbb5debe43019df25": {
          "model_module": "@jupyter-widgets/controls",
          "model_name": "HBoxModel",
          "model_module_version": "1.5.0",
          "state": {
            "_dom_classes": [],
            "_model_module": "@jupyter-widgets/controls",
            "_model_module_version": "1.5.0",
            "_model_name": "HBoxModel",
            "_view_count": null,
            "_view_module": "@jupyter-widgets/controls",
            "_view_module_version": "1.5.0",
            "_view_name": "HBoxView",
            "box_style": "",
            "children": [
              "IPY_MODEL_051cbff08a0942f884826351b93c31be",
              "IPY_MODEL_bdbcaaf659f744598a3e3e1a0bc4942f",
              "IPY_MODEL_1c85333b1dac4b8abefe71d3e5ebace8"
            ],
            "layout": "IPY_MODEL_b2d10242b6ba47dcb791a52526302e66"
          }
        },
        "051cbff08a0942f884826351b93c31be": {
          "model_module": "@jupyter-widgets/controls",
          "model_name": "HTMLModel",
          "model_module_version": "1.5.0",
          "state": {
            "_dom_classes": [],
            "_model_module": "@jupyter-widgets/controls",
            "_model_module_version": "1.5.0",
            "_model_name": "HTMLModel",
            "_view_count": null,
            "_view_module": "@jupyter-widgets/controls",
            "_view_module_version": "1.5.0",
            "_view_name": "HTMLView",
            "description": "",
            "description_tooltip": null,
            "layout": "IPY_MODEL_913698ff32b94f4294b2fb663c4ef900",
            "placeholder": "​",
            "style": "IPY_MODEL_99021712b61e4db58d3665fd6f7895dc",
            "value": "config.json: 100%"
          }
        },
        "bdbcaaf659f744598a3e3e1a0bc4942f": {
          "model_module": "@jupyter-widgets/controls",
          "model_name": "FloatProgressModel",
          "model_module_version": "1.5.0",
          "state": {
            "_dom_classes": [],
            "_model_module": "@jupyter-widgets/controls",
            "_model_module_version": "1.5.0",
            "_model_name": "FloatProgressModel",
            "_view_count": null,
            "_view_module": "@jupyter-widgets/controls",
            "_view_module_version": "1.5.0",
            "_view_name": "ProgressView",
            "bar_style": "success",
            "description": "",
            "description_tooltip": null,
            "layout": "IPY_MODEL_583779535b0544128badc3a475bd57b4",
            "max": 675,
            "min": 0,
            "orientation": "horizontal",
            "style": "IPY_MODEL_53491343e5a5447bb6ec8538805ef226",
            "value": 675
          }
        },
        "1c85333b1dac4b8abefe71d3e5ebace8": {
          "model_module": "@jupyter-widgets/controls",
          "model_name": "HTMLModel",
          "model_module_version": "1.5.0",
          "state": {
            "_dom_classes": [],
            "_model_module": "@jupyter-widgets/controls",
            "_model_module_version": "1.5.0",
            "_model_name": "HTMLModel",
            "_view_count": null,
            "_view_module": "@jupyter-widgets/controls",
            "_view_module_version": "1.5.0",
            "_view_name": "HTMLView",
            "description": "",
            "description_tooltip": null,
            "layout": "IPY_MODEL_e42673f1db2f44749caaf39e7c5966ec",
            "placeholder": "​",
            "style": "IPY_MODEL_9352ece95c67488db191db8d24fe3515",
            "value": " 675/675 [00:00&lt;00:00, 25.0kB/s]"
          }
        },
        "b2d10242b6ba47dcb791a52526302e66": {
          "model_module": "@jupyter-widgets/base",
          "model_name": "LayoutModel",
          "model_module_version": "1.2.0",
          "state": {
            "_model_module": "@jupyter-widgets/base",
            "_model_module_version": "1.2.0",
            "_model_name": "LayoutModel",
            "_view_count": null,
            "_view_module": "@jupyter-widgets/base",
            "_view_module_version": "1.2.0",
            "_view_name": "LayoutView",
            "align_content": null,
            "align_items": null,
            "align_self": null,
            "border": null,
            "bottom": null,
            "display": null,
            "flex": null,
            "flex_flow": null,
            "grid_area": null,
            "grid_auto_columns": null,
            "grid_auto_flow": null,
            "grid_auto_rows": null,
            "grid_column": null,
            "grid_gap": null,
            "grid_row": null,
            "grid_template_areas": null,
            "grid_template_columns": null,
            "grid_template_rows": null,
            "height": null,
            "justify_content": null,
            "justify_items": null,
            "left": null,
            "margin": null,
            "max_height": null,
            "max_width": null,
            "min_height": null,
            "min_width": null,
            "object_fit": null,
            "object_position": null,
            "order": null,
            "overflow": null,
            "overflow_x": null,
            "overflow_y": null,
            "padding": null,
            "right": null,
            "top": null,
            "visibility": null,
            "width": null
          }
        },
        "913698ff32b94f4294b2fb663c4ef900": {
          "model_module": "@jupyter-widgets/base",
          "model_name": "LayoutModel",
          "model_module_version": "1.2.0",
          "state": {
            "_model_module": "@jupyter-widgets/base",
            "_model_module_version": "1.2.0",
            "_model_name": "LayoutModel",
            "_view_count": null,
            "_view_module": "@jupyter-widgets/base",
            "_view_module_version": "1.2.0",
            "_view_name": "LayoutView",
            "align_content": null,
            "align_items": null,
            "align_self": null,
            "border": null,
            "bottom": null,
            "display": null,
            "flex": null,
            "flex_flow": null,
            "grid_area": null,
            "grid_auto_columns": null,
            "grid_auto_flow": null,
            "grid_auto_rows": null,
            "grid_column": null,
            "grid_gap": null,
            "grid_row": null,
            "grid_template_areas": null,
            "grid_template_columns": null,
            "grid_template_rows": null,
            "height": null,
            "justify_content": null,
            "justify_items": null,
            "left": null,
            "margin": null,
            "max_height": null,
            "max_width": null,
            "min_height": null,
            "min_width": null,
            "object_fit": null,
            "object_position": null,
            "order": null,
            "overflow": null,
            "overflow_x": null,
            "overflow_y": null,
            "padding": null,
            "right": null,
            "top": null,
            "visibility": null,
            "width": null
          }
        },
        "99021712b61e4db58d3665fd6f7895dc": {
          "model_module": "@jupyter-widgets/controls",
          "model_name": "DescriptionStyleModel",
          "model_module_version": "1.5.0",
          "state": {
            "_model_module": "@jupyter-widgets/controls",
            "_model_module_version": "1.5.0",
            "_model_name": "DescriptionStyleModel",
            "_view_count": null,
            "_view_module": "@jupyter-widgets/base",
            "_view_module_version": "1.2.0",
            "_view_name": "StyleView",
            "description_width": ""
          }
        },
        "583779535b0544128badc3a475bd57b4": {
          "model_module": "@jupyter-widgets/base",
          "model_name": "LayoutModel",
          "model_module_version": "1.2.0",
          "state": {
            "_model_module": "@jupyter-widgets/base",
            "_model_module_version": "1.2.0",
            "_model_name": "LayoutModel",
            "_view_count": null,
            "_view_module": "@jupyter-widgets/base",
            "_view_module_version": "1.2.0",
            "_view_name": "LayoutView",
            "align_content": null,
            "align_items": null,
            "align_self": null,
            "border": null,
            "bottom": null,
            "display": null,
            "flex": null,
            "flex_flow": null,
            "grid_area": null,
            "grid_auto_columns": null,
            "grid_auto_flow": null,
            "grid_auto_rows": null,
            "grid_column": null,
            "grid_gap": null,
            "grid_row": null,
            "grid_template_areas": null,
            "grid_template_columns": null,
            "grid_template_rows": null,
            "height": null,
            "justify_content": null,
            "justify_items": null,
            "left": null,
            "margin": null,
            "max_height": null,
            "max_width": null,
            "min_height": null,
            "min_width": null,
            "object_fit": null,
            "object_position": null,
            "order": null,
            "overflow": null,
            "overflow_x": null,
            "overflow_y": null,
            "padding": null,
            "right": null,
            "top": null,
            "visibility": null,
            "width": null
          }
        },
        "53491343e5a5447bb6ec8538805ef226": {
          "model_module": "@jupyter-widgets/controls",
          "model_name": "ProgressStyleModel",
          "model_module_version": "1.5.0",
          "state": {
            "_model_module": "@jupyter-widgets/controls",
            "_model_module_version": "1.5.0",
            "_model_name": "ProgressStyleModel",
            "_view_count": null,
            "_view_module": "@jupyter-widgets/base",
            "_view_module_version": "1.2.0",
            "_view_name": "StyleView",
            "bar_color": null,
            "description_width": ""
          }
        },
        "e42673f1db2f44749caaf39e7c5966ec": {
          "model_module": "@jupyter-widgets/base",
          "model_name": "LayoutModel",
          "model_module_version": "1.2.0",
          "state": {
            "_model_module": "@jupyter-widgets/base",
            "_model_module_version": "1.2.0",
            "_model_name": "LayoutModel",
            "_view_count": null,
            "_view_module": "@jupyter-widgets/base",
            "_view_module_version": "1.2.0",
            "_view_name": "LayoutView",
            "align_content": null,
            "align_items": null,
            "align_self": null,
            "border": null,
            "bottom": null,
            "display": null,
            "flex": null,
            "flex_flow": null,
            "grid_area": null,
            "grid_auto_columns": null,
            "grid_auto_flow": null,
            "grid_auto_rows": null,
            "grid_column": null,
            "grid_gap": null,
            "grid_row": null,
            "grid_template_areas": null,
            "grid_template_columns": null,
            "grid_template_rows": null,
            "height": null,
            "justify_content": null,
            "justify_items": null,
            "left": null,
            "margin": null,
            "max_height": null,
            "max_width": null,
            "min_height": null,
            "min_width": null,
            "object_fit": null,
            "object_position": null,
            "order": null,
            "overflow": null,
            "overflow_x": null,
            "overflow_y": null,
            "padding": null,
            "right": null,
            "top": null,
            "visibility": null,
            "width": null
          }
        },
        "9352ece95c67488db191db8d24fe3515": {
          "model_module": "@jupyter-widgets/controls",
          "model_name": "DescriptionStyleModel",
          "model_module_version": "1.5.0",
          "state": {
            "_model_module": "@jupyter-widgets/controls",
            "_model_module_version": "1.5.0",
            "_model_name": "DescriptionStyleModel",
            "_view_count": null,
            "_view_module": "@jupyter-widgets/base",
            "_view_module_version": "1.2.0",
            "_view_name": "StyleView",
            "description_width": ""
          }
        },
        "5f1e9b98b17f47339274fa3d6bad90d5": {
          "model_module": "@jupyter-widgets/controls",
          "model_name": "HBoxModel",
          "model_module_version": "1.5.0",
          "state": {
            "_dom_classes": [],
            "_model_module": "@jupyter-widgets/controls",
            "_model_module_version": "1.5.0",
            "_model_name": "HBoxModel",
            "_view_count": null,
            "_view_module": "@jupyter-widgets/controls",
            "_view_module_version": "1.5.0",
            "_view_name": "HBoxView",
            "box_style": "",
            "children": [
              "IPY_MODEL_9c3c25bb70f84fba9d8b5d6e1c11479a",
              "IPY_MODEL_fc51cafa917446df8e246944f6333b33",
              "IPY_MODEL_87bcd7d8837d4780bc7c8e78e1bc61b0"
            ],
            "layout": "IPY_MODEL_f333f963a68c4d28b6a58f55a822cfeb"
          }
        },
        "9c3c25bb70f84fba9d8b5d6e1c11479a": {
          "model_module": "@jupyter-widgets/controls",
          "model_name": "HTMLModel",
          "model_module_version": "1.5.0",
          "state": {
            "_dom_classes": [],
            "_model_module": "@jupyter-widgets/controls",
            "_model_module_version": "1.5.0",
            "_model_name": "HTMLModel",
            "_view_count": null,
            "_view_module": "@jupyter-widgets/controls",
            "_view_module_version": "1.5.0",
            "_view_name": "HTMLView",
            "description": "",
            "description_tooltip": null,
            "layout": "IPY_MODEL_c1ebf59e7c91432daca99c01c63fc6a5",
            "placeholder": "​",
            "style": "IPY_MODEL_f39f654149b14de3a9828b6b96e89d7f",
            "value": "model.safetensors: 100%"
          }
        },
        "fc51cafa917446df8e246944f6333b33": {
          "model_module": "@jupyter-widgets/controls",
          "model_name": "FloatProgressModel",
          "model_module_version": "1.5.0",
          "state": {
            "_dom_classes": [],
            "_model_module": "@jupyter-widgets/controls",
            "_model_module_version": "1.5.0",
            "_model_name": "FloatProgressModel",
            "_view_count": null,
            "_view_module": "@jupyter-widgets/controls",
            "_view_module_version": "1.5.0",
            "_view_name": "ProgressView",
            "bar_style": "success",
            "description": "",
            "description_tooltip": null,
            "layout": "IPY_MODEL_6b76803c378c421b866871408d084b46",
            "max": 442495932,
            "min": 0,
            "orientation": "horizontal",
            "style": "IPY_MODEL_8f51333c7ab54d2bad57be947ec06d06",
            "value": 442495932
          }
        },
        "87bcd7d8837d4780bc7c8e78e1bc61b0": {
          "model_module": "@jupyter-widgets/controls",
          "model_name": "HTMLModel",
          "model_module_version": "1.5.0",
          "state": {
            "_dom_classes": [],
            "_model_module": "@jupyter-widgets/controls",
            "_model_module_version": "1.5.0",
            "_model_name": "HTMLModel",
            "_view_count": null,
            "_view_module": "@jupyter-widgets/controls",
            "_view_module_version": "1.5.0",
            "_view_name": "HTMLView",
            "description": "",
            "description_tooltip": null,
            "layout": "IPY_MODEL_15d9fd657eb04642a3f7a8304f6f1600",
            "placeholder": "​",
            "style": "IPY_MODEL_8e3d79bf4f0c4717b3e3a6c4e8fa266b",
            "value": " 442M/442M [00:06&lt;00:00, 73.3MB/s]"
          }
        },
        "f333f963a68c4d28b6a58f55a822cfeb": {
          "model_module": "@jupyter-widgets/base",
          "model_name": "LayoutModel",
          "model_module_version": "1.2.0",
          "state": {
            "_model_module": "@jupyter-widgets/base",
            "_model_module_version": "1.2.0",
            "_model_name": "LayoutModel",
            "_view_count": null,
            "_view_module": "@jupyter-widgets/base",
            "_view_module_version": "1.2.0",
            "_view_name": "LayoutView",
            "align_content": null,
            "align_items": null,
            "align_self": null,
            "border": null,
            "bottom": null,
            "display": null,
            "flex": null,
            "flex_flow": null,
            "grid_area": null,
            "grid_auto_columns": null,
            "grid_auto_flow": null,
            "grid_auto_rows": null,
            "grid_column": null,
            "grid_gap": null,
            "grid_row": null,
            "grid_template_areas": null,
            "grid_template_columns": null,
            "grid_template_rows": null,
            "height": null,
            "justify_content": null,
            "justify_items": null,
            "left": null,
            "margin": null,
            "max_height": null,
            "max_width": null,
            "min_height": null,
            "min_width": null,
            "object_fit": null,
            "object_position": null,
            "order": null,
            "overflow": null,
            "overflow_x": null,
            "overflow_y": null,
            "padding": null,
            "right": null,
            "top": null,
            "visibility": null,
            "width": null
          }
        },
        "c1ebf59e7c91432daca99c01c63fc6a5": {
          "model_module": "@jupyter-widgets/base",
          "model_name": "LayoutModel",
          "model_module_version": "1.2.0",
          "state": {
            "_model_module": "@jupyter-widgets/base",
            "_model_module_version": "1.2.0",
            "_model_name": "LayoutModel",
            "_view_count": null,
            "_view_module": "@jupyter-widgets/base",
            "_view_module_version": "1.2.0",
            "_view_name": "LayoutView",
            "align_content": null,
            "align_items": null,
            "align_self": null,
            "border": null,
            "bottom": null,
            "display": null,
            "flex": null,
            "flex_flow": null,
            "grid_area": null,
            "grid_auto_columns": null,
            "grid_auto_flow": null,
            "grid_auto_rows": null,
            "grid_column": null,
            "grid_gap": null,
            "grid_row": null,
            "grid_template_areas": null,
            "grid_template_columns": null,
            "grid_template_rows": null,
            "height": null,
            "justify_content": null,
            "justify_items": null,
            "left": null,
            "margin": null,
            "max_height": null,
            "max_width": null,
            "min_height": null,
            "min_width": null,
            "object_fit": null,
            "object_position": null,
            "order": null,
            "overflow": null,
            "overflow_x": null,
            "overflow_y": null,
            "padding": null,
            "right": null,
            "top": null,
            "visibility": null,
            "width": null
          }
        },
        "f39f654149b14de3a9828b6b96e89d7f": {
          "model_module": "@jupyter-widgets/controls",
          "model_name": "DescriptionStyleModel",
          "model_module_version": "1.5.0",
          "state": {
            "_model_module": "@jupyter-widgets/controls",
            "_model_module_version": "1.5.0",
            "_model_name": "DescriptionStyleModel",
            "_view_count": null,
            "_view_module": "@jupyter-widgets/base",
            "_view_module_version": "1.2.0",
            "_view_name": "StyleView",
            "description_width": ""
          }
        },
        "6b76803c378c421b866871408d084b46": {
          "model_module": "@jupyter-widgets/base",
          "model_name": "LayoutModel",
          "model_module_version": "1.2.0",
          "state": {
            "_model_module": "@jupyter-widgets/base",
            "_model_module_version": "1.2.0",
            "_model_name": "LayoutModel",
            "_view_count": null,
            "_view_module": "@jupyter-widgets/base",
            "_view_module_version": "1.2.0",
            "_view_name": "LayoutView",
            "align_content": null,
            "align_items": null,
            "align_self": null,
            "border": null,
            "bottom": null,
            "display": null,
            "flex": null,
            "flex_flow": null,
            "grid_area": null,
            "grid_auto_columns": null,
            "grid_auto_flow": null,
            "grid_auto_rows": null,
            "grid_column": null,
            "grid_gap": null,
            "grid_row": null,
            "grid_template_areas": null,
            "grid_template_columns": null,
            "grid_template_rows": null,
            "height": null,
            "justify_content": null,
            "justify_items": null,
            "left": null,
            "margin": null,
            "max_height": null,
            "max_width": null,
            "min_height": null,
            "min_width": null,
            "object_fit": null,
            "object_position": null,
            "order": null,
            "overflow": null,
            "overflow_x": null,
            "overflow_y": null,
            "padding": null,
            "right": null,
            "top": null,
            "visibility": null,
            "width": null
          }
        },
        "8f51333c7ab54d2bad57be947ec06d06": {
          "model_module": "@jupyter-widgets/controls",
          "model_name": "ProgressStyleModel",
          "model_module_version": "1.5.0",
          "state": {
            "_model_module": "@jupyter-widgets/controls",
            "_model_module_version": "1.5.0",
            "_model_name": "ProgressStyleModel",
            "_view_count": null,
            "_view_module": "@jupyter-widgets/base",
            "_view_module_version": "1.2.0",
            "_view_name": "StyleView",
            "bar_color": null,
            "description_width": ""
          }
        },
        "15d9fd657eb04642a3f7a8304f6f1600": {
          "model_module": "@jupyter-widgets/base",
          "model_name": "LayoutModel",
          "model_module_version": "1.2.0",
          "state": {
            "_model_module": "@jupyter-widgets/base",
            "_model_module_version": "1.2.0",
            "_model_name": "LayoutModel",
            "_view_count": null,
            "_view_module": "@jupyter-widgets/base",
            "_view_module_version": "1.2.0",
            "_view_name": "LayoutView",
            "align_content": null,
            "align_items": null,
            "align_self": null,
            "border": null,
            "bottom": null,
            "display": null,
            "flex": null,
            "flex_flow": null,
            "grid_area": null,
            "grid_auto_columns": null,
            "grid_auto_flow": null,
            "grid_auto_rows": null,
            "grid_column": null,
            "grid_gap": null,
            "grid_row": null,
            "grid_template_areas": null,
            "grid_template_columns": null,
            "grid_template_rows": null,
            "height": null,
            "justify_content": null,
            "justify_items": null,
            "left": null,
            "margin": null,
            "max_height": null,
            "max_width": null,
            "min_height": null,
            "min_width": null,
            "object_fit": null,
            "object_position": null,
            "order": null,
            "overflow": null,
            "overflow_x": null,
            "overflow_y": null,
            "padding": null,
            "right": null,
            "top": null,
            "visibility": null,
            "width": null
          }
        },
        "8e3d79bf4f0c4717b3e3a6c4e8fa266b": {
          "model_module": "@jupyter-widgets/controls",
          "model_name": "DescriptionStyleModel",
          "model_module_version": "1.5.0",
          "state": {
            "_model_module": "@jupyter-widgets/controls",
            "_model_module_version": "1.5.0",
            "_model_name": "DescriptionStyleModel",
            "_view_count": null,
            "_view_module": "@jupyter-widgets/base",
            "_view_module_version": "1.2.0",
            "_view_name": "StyleView",
            "description_width": ""
          }
        },
        "b10a895c52ba4f61aaa2117f6bd28ea1": {
          "model_module": "@jupyter-widgets/controls",
          "model_name": "HBoxModel",
          "model_module_version": "1.5.0",
          "state": {
            "_dom_classes": [],
            "_model_module": "@jupyter-widgets/controls",
            "_model_module_version": "1.5.0",
            "_model_name": "HBoxModel",
            "_view_count": null,
            "_view_module": "@jupyter-widgets/controls",
            "_view_module_version": "1.5.0",
            "_view_name": "HBoxView",
            "box_style": "",
            "children": [
              "IPY_MODEL_c3158faecb844b3db61d877705a57176",
              "IPY_MODEL_956bac1ad8554a94a71ed097ccd7ddaf",
              "IPY_MODEL_d715a4a882b445aeace8d9bdd50b94eb"
            ],
            "layout": "IPY_MODEL_a3bedabaeab94e4fb930fe2f7f1e42ae"
          }
        },
        "c3158faecb844b3db61d877705a57176": {
          "model_module": "@jupyter-widgets/controls",
          "model_name": "HTMLModel",
          "model_module_version": "1.5.0",
          "state": {
            "_dom_classes": [],
            "_model_module": "@jupyter-widgets/controls",
            "_model_module_version": "1.5.0",
            "_model_name": "HTMLModel",
            "_view_count": null,
            "_view_module": "@jupyter-widgets/controls",
            "_view_module_version": "1.5.0",
            "_view_name": "HTMLView",
            "description": "",
            "description_tooltip": null,
            "layout": "IPY_MODEL_e5ed58123eeb47c2b01e9e7504f3808f",
            "placeholder": "​",
            "style": "IPY_MODEL_d825471b14594fdaa2c29cf46e6c66f0",
            "value": "tokenizer_config.json: 100%"
          }
        },
        "956bac1ad8554a94a71ed097ccd7ddaf": {
          "model_module": "@jupyter-widgets/controls",
          "model_name": "FloatProgressModel",
          "model_module_version": "1.5.0",
          "state": {
            "_dom_classes": [],
            "_model_module": "@jupyter-widgets/controls",
            "_model_module_version": "1.5.0",
            "_model_name": "FloatProgressModel",
            "_view_count": null,
            "_view_module": "@jupyter-widgets/controls",
            "_view_module_version": "1.5.0",
            "_view_name": "ProgressView",
            "bar_style": "success",
            "description": "",
            "description_tooltip": null,
            "layout": "IPY_MODEL_c93693dc07a046808ac1b25fafab9c76",
            "max": 552,
            "min": 0,
            "orientation": "horizontal",
            "style": "IPY_MODEL_352ff28537214235aef75e445827939f",
            "value": 552
          }
        },
        "d715a4a882b445aeace8d9bdd50b94eb": {
          "model_module": "@jupyter-widgets/controls",
          "model_name": "HTMLModel",
          "model_module_version": "1.5.0",
          "state": {
            "_dom_classes": [],
            "_model_module": "@jupyter-widgets/controls",
            "_model_module_version": "1.5.0",
            "_model_name": "HTMLModel",
            "_view_count": null,
            "_view_module": "@jupyter-widgets/controls",
            "_view_module_version": "1.5.0",
            "_view_name": "HTMLView",
            "description": "",
            "description_tooltip": null,
            "layout": "IPY_MODEL_e15c9f8d058e40728cb0af187efe8bf7",
            "placeholder": "​",
            "style": "IPY_MODEL_af7f8d3314134312a1d345d55d41a888",
            "value": " 552/552 [00:00&lt;00:00, 15.5kB/s]"
          }
        },
        "a3bedabaeab94e4fb930fe2f7f1e42ae": {
          "model_module": "@jupyter-widgets/base",
          "model_name": "LayoutModel",
          "model_module_version": "1.2.0",
          "state": {
            "_model_module": "@jupyter-widgets/base",
            "_model_module_version": "1.2.0",
            "_model_name": "LayoutModel",
            "_view_count": null,
            "_view_module": "@jupyter-widgets/base",
            "_view_module_version": "1.2.0",
            "_view_name": "LayoutView",
            "align_content": null,
            "align_items": null,
            "align_self": null,
            "border": null,
            "bottom": null,
            "display": null,
            "flex": null,
            "flex_flow": null,
            "grid_area": null,
            "grid_auto_columns": null,
            "grid_auto_flow": null,
            "grid_auto_rows": null,
            "grid_column": null,
            "grid_gap": null,
            "grid_row": null,
            "grid_template_areas": null,
            "grid_template_columns": null,
            "grid_template_rows": null,
            "height": null,
            "justify_content": null,
            "justify_items": null,
            "left": null,
            "margin": null,
            "max_height": null,
            "max_width": null,
            "min_height": null,
            "min_width": null,
            "object_fit": null,
            "object_position": null,
            "order": null,
            "overflow": null,
            "overflow_x": null,
            "overflow_y": null,
            "padding": null,
            "right": null,
            "top": null,
            "visibility": null,
            "width": null
          }
        },
        "e5ed58123eeb47c2b01e9e7504f3808f": {
          "model_module": "@jupyter-widgets/base",
          "model_name": "LayoutModel",
          "model_module_version": "1.2.0",
          "state": {
            "_model_module": "@jupyter-widgets/base",
            "_model_module_version": "1.2.0",
            "_model_name": "LayoutModel",
            "_view_count": null,
            "_view_module": "@jupyter-widgets/base",
            "_view_module_version": "1.2.0",
            "_view_name": "LayoutView",
            "align_content": null,
            "align_items": null,
            "align_self": null,
            "border": null,
            "bottom": null,
            "display": null,
            "flex": null,
            "flex_flow": null,
            "grid_area": null,
            "grid_auto_columns": null,
            "grid_auto_flow": null,
            "grid_auto_rows": null,
            "grid_column": null,
            "grid_gap": null,
            "grid_row": null,
            "grid_template_areas": null,
            "grid_template_columns": null,
            "grid_template_rows": null,
            "height": null,
            "justify_content": null,
            "justify_items": null,
            "left": null,
            "margin": null,
            "max_height": null,
            "max_width": null,
            "min_height": null,
            "min_width": null,
            "object_fit": null,
            "object_position": null,
            "order": null,
            "overflow": null,
            "overflow_x": null,
            "overflow_y": null,
            "padding": null,
            "right": null,
            "top": null,
            "visibility": null,
            "width": null
          }
        },
        "d825471b14594fdaa2c29cf46e6c66f0": {
          "model_module": "@jupyter-widgets/controls",
          "model_name": "DescriptionStyleModel",
          "model_module_version": "1.5.0",
          "state": {
            "_model_module": "@jupyter-widgets/controls",
            "_model_module_version": "1.5.0",
            "_model_name": "DescriptionStyleModel",
            "_view_count": null,
            "_view_module": "@jupyter-widgets/base",
            "_view_module_version": "1.2.0",
            "_view_name": "StyleView",
            "description_width": ""
          }
        },
        "c93693dc07a046808ac1b25fafab9c76": {
          "model_module": "@jupyter-widgets/base",
          "model_name": "LayoutModel",
          "model_module_version": "1.2.0",
          "state": {
            "_model_module": "@jupyter-widgets/base",
            "_model_module_version": "1.2.0",
            "_model_name": "LayoutModel",
            "_view_count": null,
            "_view_module": "@jupyter-widgets/base",
            "_view_module_version": "1.2.0",
            "_view_name": "LayoutView",
            "align_content": null,
            "align_items": null,
            "align_self": null,
            "border": null,
            "bottom": null,
            "display": null,
            "flex": null,
            "flex_flow": null,
            "grid_area": null,
            "grid_auto_columns": null,
            "grid_auto_flow": null,
            "grid_auto_rows": null,
            "grid_column": null,
            "grid_gap": null,
            "grid_row": null,
            "grid_template_areas": null,
            "grid_template_columns": null,
            "grid_template_rows": null,
            "height": null,
            "justify_content": null,
            "justify_items": null,
            "left": null,
            "margin": null,
            "max_height": null,
            "max_width": null,
            "min_height": null,
            "min_width": null,
            "object_fit": null,
            "object_position": null,
            "order": null,
            "overflow": null,
            "overflow_x": null,
            "overflow_y": null,
            "padding": null,
            "right": null,
            "top": null,
            "visibility": null,
            "width": null
          }
        },
        "352ff28537214235aef75e445827939f": {
          "model_module": "@jupyter-widgets/controls",
          "model_name": "ProgressStyleModel",
          "model_module_version": "1.5.0",
          "state": {
            "_model_module": "@jupyter-widgets/controls",
            "_model_module_version": "1.5.0",
            "_model_name": "ProgressStyleModel",
            "_view_count": null,
            "_view_module": "@jupyter-widgets/base",
            "_view_module_version": "1.2.0",
            "_view_name": "StyleView",
            "bar_color": null,
            "description_width": ""
          }
        },
        "e15c9f8d058e40728cb0af187efe8bf7": {
          "model_module": "@jupyter-widgets/base",
          "model_name": "LayoutModel",
          "model_module_version": "1.2.0",
          "state": {
            "_model_module": "@jupyter-widgets/base",
            "_model_module_version": "1.2.0",
            "_model_name": "LayoutModel",
            "_view_count": null,
            "_view_module": "@jupyter-widgets/base",
            "_view_module_version": "1.2.0",
            "_view_name": "LayoutView",
            "align_content": null,
            "align_items": null,
            "align_self": null,
            "border": null,
            "bottom": null,
            "display": null,
            "flex": null,
            "flex_flow": null,
            "grid_area": null,
            "grid_auto_columns": null,
            "grid_auto_flow": null,
            "grid_auto_rows": null,
            "grid_column": null,
            "grid_gap": null,
            "grid_row": null,
            "grid_template_areas": null,
            "grid_template_columns": null,
            "grid_template_rows": null,
            "height": null,
            "justify_content": null,
            "justify_items": null,
            "left": null,
            "margin": null,
            "max_height": null,
            "max_width": null,
            "min_height": null,
            "min_width": null,
            "object_fit": null,
            "object_position": null,
            "order": null,
            "overflow": null,
            "overflow_x": null,
            "overflow_y": null,
            "padding": null,
            "right": null,
            "top": null,
            "visibility": null,
            "width": null
          }
        },
        "af7f8d3314134312a1d345d55d41a888": {
          "model_module": "@jupyter-widgets/controls",
          "model_name": "DescriptionStyleModel",
          "model_module_version": "1.5.0",
          "state": {
            "_model_module": "@jupyter-widgets/controls",
            "_model_module_version": "1.5.0",
            "_model_name": "DescriptionStyleModel",
            "_view_count": null,
            "_view_module": "@jupyter-widgets/base",
            "_view_module_version": "1.2.0",
            "_view_name": "StyleView",
            "description_width": ""
          }
        },
        "1b0a3c34ce3a4452a3d7614196290472": {
          "model_module": "@jupyter-widgets/controls",
          "model_name": "HBoxModel",
          "model_module_version": "1.5.0",
          "state": {
            "_dom_classes": [],
            "_model_module": "@jupyter-widgets/controls",
            "_model_module_version": "1.5.0",
            "_model_name": "HBoxModel",
            "_view_count": null,
            "_view_module": "@jupyter-widgets/controls",
            "_view_module_version": "1.5.0",
            "_view_name": "HBoxView",
            "box_style": "",
            "children": [
              "IPY_MODEL_3ac4c13b879f491da6180ba9f30da56e",
              "IPY_MODEL_6fbc524ad8484950bb1cbaf54fed08d3",
              "IPY_MODEL_bceb2ba6cfc44fd1943075537801ec1f"
            ],
            "layout": "IPY_MODEL_d97aee031f6547f1bff5e03c9e3f8155"
          }
        },
        "3ac4c13b879f491da6180ba9f30da56e": {
          "model_module": "@jupyter-widgets/controls",
          "model_name": "HTMLModel",
          "model_module_version": "1.5.0",
          "state": {
            "_dom_classes": [],
            "_model_module": "@jupyter-widgets/controls",
            "_model_module_version": "1.5.0",
            "_model_name": "HTMLModel",
            "_view_count": null,
            "_view_module": "@jupyter-widgets/controls",
            "_view_module_version": "1.5.0",
            "_view_name": "HTMLView",
            "description": "",
            "description_tooltip": null,
            "layout": "IPY_MODEL_6ebf999173cd4a89bd041fbb163f5030",
            "placeholder": "​",
            "style": "IPY_MODEL_fffd43b8b2c74b05947244c4accfd801",
            "value": "vocab.txt: 100%"
          }
        },
        "6fbc524ad8484950bb1cbaf54fed08d3": {
          "model_module": "@jupyter-widgets/controls",
          "model_name": "FloatProgressModel",
          "model_module_version": "1.5.0",
          "state": {
            "_dom_classes": [],
            "_model_module": "@jupyter-widgets/controls",
            "_model_module_version": "1.5.0",
            "_model_name": "FloatProgressModel",
            "_view_count": null,
            "_view_module": "@jupyter-widgets/controls",
            "_view_module_version": "1.5.0",
            "_view_name": "ProgressView",
            "bar_style": "success",
            "description": "",
            "description_tooltip": null,
            "layout": "IPY_MODEL_5bfdc414fb4649f1a5c4b72aa96e945e",
            "max": 248477,
            "min": 0,
            "orientation": "horizontal",
            "style": "IPY_MODEL_399af771f22d47fb8ac418fb03e87650",
            "value": 248477
          }
        },
        "bceb2ba6cfc44fd1943075537801ec1f": {
          "model_module": "@jupyter-widgets/controls",
          "model_name": "HTMLModel",
          "model_module_version": "1.5.0",
          "state": {
            "_dom_classes": [],
            "_model_module": "@jupyter-widgets/controls",
            "_model_module_version": "1.5.0",
            "_model_name": "HTMLModel",
            "_view_count": null,
            "_view_module": "@jupyter-widgets/controls",
            "_view_module_version": "1.5.0",
            "_view_name": "HTMLView",
            "description": "",
            "description_tooltip": null,
            "layout": "IPY_MODEL_f0972154c41c476d9960091d1dc4a33c",
            "placeholder": "​",
            "style": "IPY_MODEL_cd992b00e9b841cdbc5787168f7c10d2",
            "value": " 248k/248k [00:00&lt;00:00, 4.03MB/s]"
          }
        },
        "d97aee031f6547f1bff5e03c9e3f8155": {
          "model_module": "@jupyter-widgets/base",
          "model_name": "LayoutModel",
          "model_module_version": "1.2.0",
          "state": {
            "_model_module": "@jupyter-widgets/base",
            "_model_module_version": "1.2.0",
            "_model_name": "LayoutModel",
            "_view_count": null,
            "_view_module": "@jupyter-widgets/base",
            "_view_module_version": "1.2.0",
            "_view_name": "LayoutView",
            "align_content": null,
            "align_items": null,
            "align_self": null,
            "border": null,
            "bottom": null,
            "display": null,
            "flex": null,
            "flex_flow": null,
            "grid_area": null,
            "grid_auto_columns": null,
            "grid_auto_flow": null,
            "grid_auto_rows": null,
            "grid_column": null,
            "grid_gap": null,
            "grid_row": null,
            "grid_template_areas": null,
            "grid_template_columns": null,
            "grid_template_rows": null,
            "height": null,
            "justify_content": null,
            "justify_items": null,
            "left": null,
            "margin": null,
            "max_height": null,
            "max_width": null,
            "min_height": null,
            "min_width": null,
            "object_fit": null,
            "object_position": null,
            "order": null,
            "overflow": null,
            "overflow_x": null,
            "overflow_y": null,
            "padding": null,
            "right": null,
            "top": null,
            "visibility": null,
            "width": null
          }
        },
        "6ebf999173cd4a89bd041fbb163f5030": {
          "model_module": "@jupyter-widgets/base",
          "model_name": "LayoutModel",
          "model_module_version": "1.2.0",
          "state": {
            "_model_module": "@jupyter-widgets/base",
            "_model_module_version": "1.2.0",
            "_model_name": "LayoutModel",
            "_view_count": null,
            "_view_module": "@jupyter-widgets/base",
            "_view_module_version": "1.2.0",
            "_view_name": "LayoutView",
            "align_content": null,
            "align_items": null,
            "align_self": null,
            "border": null,
            "bottom": null,
            "display": null,
            "flex": null,
            "flex_flow": null,
            "grid_area": null,
            "grid_auto_columns": null,
            "grid_auto_flow": null,
            "grid_auto_rows": null,
            "grid_column": null,
            "grid_gap": null,
            "grid_row": null,
            "grid_template_areas": null,
            "grid_template_columns": null,
            "grid_template_rows": null,
            "height": null,
            "justify_content": null,
            "justify_items": null,
            "left": null,
            "margin": null,
            "max_height": null,
            "max_width": null,
            "min_height": null,
            "min_width": null,
            "object_fit": null,
            "object_position": null,
            "order": null,
            "overflow": null,
            "overflow_x": null,
            "overflow_y": null,
            "padding": null,
            "right": null,
            "top": null,
            "visibility": null,
            "width": null
          }
        },
        "fffd43b8b2c74b05947244c4accfd801": {
          "model_module": "@jupyter-widgets/controls",
          "model_name": "DescriptionStyleModel",
          "model_module_version": "1.5.0",
          "state": {
            "_model_module": "@jupyter-widgets/controls",
            "_model_module_version": "1.5.0",
            "_model_name": "DescriptionStyleModel",
            "_view_count": null,
            "_view_module": "@jupyter-widgets/base",
            "_view_module_version": "1.2.0",
            "_view_name": "StyleView",
            "description_width": ""
          }
        },
        "5bfdc414fb4649f1a5c4b72aa96e945e": {
          "model_module": "@jupyter-widgets/base",
          "model_name": "LayoutModel",
          "model_module_version": "1.2.0",
          "state": {
            "_model_module": "@jupyter-widgets/base",
            "_model_module_version": "1.2.0",
            "_model_name": "LayoutModel",
            "_view_count": null,
            "_view_module": "@jupyter-widgets/base",
            "_view_module_version": "1.2.0",
            "_view_name": "LayoutView",
            "align_content": null,
            "align_items": null,
            "align_self": null,
            "border": null,
            "bottom": null,
            "display": null,
            "flex": null,
            "flex_flow": null,
            "grid_area": null,
            "grid_auto_columns": null,
            "grid_auto_flow": null,
            "grid_auto_rows": null,
            "grid_column": null,
            "grid_gap": null,
            "grid_row": null,
            "grid_template_areas": null,
            "grid_template_columns": null,
            "grid_template_rows": null,
            "height": null,
            "justify_content": null,
            "justify_items": null,
            "left": null,
            "margin": null,
            "max_height": null,
            "max_width": null,
            "min_height": null,
            "min_width": null,
            "object_fit": null,
            "object_position": null,
            "order": null,
            "overflow": null,
            "overflow_x": null,
            "overflow_y": null,
            "padding": null,
            "right": null,
            "top": null,
            "visibility": null,
            "width": null
          }
        },
        "399af771f22d47fb8ac418fb03e87650": {
          "model_module": "@jupyter-widgets/controls",
          "model_name": "ProgressStyleModel",
          "model_module_version": "1.5.0",
          "state": {
            "_model_module": "@jupyter-widgets/controls",
            "_model_module_version": "1.5.0",
            "_model_name": "ProgressStyleModel",
            "_view_count": null,
            "_view_module": "@jupyter-widgets/base",
            "_view_module_version": "1.2.0",
            "_view_name": "StyleView",
            "bar_color": null,
            "description_width": ""
          }
        },
        "f0972154c41c476d9960091d1dc4a33c": {
          "model_module": "@jupyter-widgets/base",
          "model_name": "LayoutModel",
          "model_module_version": "1.2.0",
          "state": {
            "_model_module": "@jupyter-widgets/base",
            "_model_module_version": "1.2.0",
            "_model_name": "LayoutModel",
            "_view_count": null,
            "_view_module": "@jupyter-widgets/base",
            "_view_module_version": "1.2.0",
            "_view_name": "LayoutView",
            "align_content": null,
            "align_items": null,
            "align_self": null,
            "border": null,
            "bottom": null,
            "display": null,
            "flex": null,
            "flex_flow": null,
            "grid_area": null,
            "grid_auto_columns": null,
            "grid_auto_flow": null,
            "grid_auto_rows": null,
            "grid_column": null,
            "grid_gap": null,
            "grid_row": null,
            "grid_template_areas": null,
            "grid_template_columns": null,
            "grid_template_rows": null,
            "height": null,
            "justify_content": null,
            "justify_items": null,
            "left": null,
            "margin": null,
            "max_height": null,
            "max_width": null,
            "min_height": null,
            "min_width": null,
            "object_fit": null,
            "object_position": null,
            "order": null,
            "overflow": null,
            "overflow_x": null,
            "overflow_y": null,
            "padding": null,
            "right": null,
            "top": null,
            "visibility": null,
            "width": null
          }
        },
        "cd992b00e9b841cdbc5787168f7c10d2": {
          "model_module": "@jupyter-widgets/controls",
          "model_name": "DescriptionStyleModel",
          "model_module_version": "1.5.0",
          "state": {
            "_model_module": "@jupyter-widgets/controls",
            "_model_module_version": "1.5.0",
            "_model_name": "DescriptionStyleModel",
            "_view_count": null,
            "_view_module": "@jupyter-widgets/base",
            "_view_module_version": "1.2.0",
            "_view_name": "StyleView",
            "description_width": ""
          }
        },
        "9c0cf4e2ebad470ca8b505bd34df70d2": {
          "model_module": "@jupyter-widgets/controls",
          "model_name": "HBoxModel",
          "model_module_version": "1.5.0",
          "state": {
            "_dom_classes": [],
            "_model_module": "@jupyter-widgets/controls",
            "_model_module_version": "1.5.0",
            "_model_name": "HBoxModel",
            "_view_count": null,
            "_view_module": "@jupyter-widgets/controls",
            "_view_module_version": "1.5.0",
            "_view_name": "HBoxView",
            "box_style": "",
            "children": [
              "IPY_MODEL_bcbe658d2e9943bd813be39b48a74887",
              "IPY_MODEL_0f6e40448899435bafccbb2e93896627",
              "IPY_MODEL_147e15f9bc0f4808ab59b9521927b422"
            ],
            "layout": "IPY_MODEL_5e989119786a4818a28fa929534e4468"
          }
        },
        "bcbe658d2e9943bd813be39b48a74887": {
          "model_module": "@jupyter-widgets/controls",
          "model_name": "HTMLModel",
          "model_module_version": "1.5.0",
          "state": {
            "_dom_classes": [],
            "_model_module": "@jupyter-widgets/controls",
            "_model_module_version": "1.5.0",
            "_model_name": "HTMLModel",
            "_view_count": null,
            "_view_module": "@jupyter-widgets/controls",
            "_view_module_version": "1.5.0",
            "_view_name": "HTMLView",
            "description": "",
            "description_tooltip": null,
            "layout": "IPY_MODEL_48fe6a06f59849beb8708330be7dd81f",
            "placeholder": "​",
            "style": "IPY_MODEL_4dff8d0930b14b5baf101d7646a69783",
            "value": "tokenizer.json: 100%"
          }
        },
        "0f6e40448899435bafccbb2e93896627": {
          "model_module": "@jupyter-widgets/controls",
          "model_name": "FloatProgressModel",
          "model_module_version": "1.5.0",
          "state": {
            "_dom_classes": [],
            "_model_module": "@jupyter-widgets/controls",
            "_model_module_version": "1.5.0",
            "_model_name": "FloatProgressModel",
            "_view_count": null,
            "_view_module": "@jupyter-widgets/controls",
            "_view_module_version": "1.5.0",
            "_view_name": "ProgressView",
            "bar_style": "success",
            "description": "",
            "description_tooltip": null,
            "layout": "IPY_MODEL_b0c189f4f8da4b179b1efc376cfcc076",
            "max": 751999,
            "min": 0,
            "orientation": "horizontal",
            "style": "IPY_MODEL_2ca195baddff4485b9752b7816a83552",
            "value": 751999
          }
        },
        "147e15f9bc0f4808ab59b9521927b422": {
          "model_module": "@jupyter-widgets/controls",
          "model_name": "HTMLModel",
          "model_module_version": "1.5.0",
          "state": {
            "_dom_classes": [],
            "_model_module": "@jupyter-widgets/controls",
            "_model_module_version": "1.5.0",
            "_model_name": "HTMLModel",
            "_view_count": null,
            "_view_module": "@jupyter-widgets/controls",
            "_view_module_version": "1.5.0",
            "_view_name": "HTMLView",
            "description": "",
            "description_tooltip": null,
            "layout": "IPY_MODEL_8cd322cfadf14eb6a4144ce14755d981",
            "placeholder": "​",
            "style": "IPY_MODEL_d13028b87e8543ff924eb2f7e0cec79b",
            "value": " 752k/752k [00:00&lt;00:00, 10.2MB/s]"
          }
        },
        "5e989119786a4818a28fa929534e4468": {
          "model_module": "@jupyter-widgets/base",
          "model_name": "LayoutModel",
          "model_module_version": "1.2.0",
          "state": {
            "_model_module": "@jupyter-widgets/base",
            "_model_module_version": "1.2.0",
            "_model_name": "LayoutModel",
            "_view_count": null,
            "_view_module": "@jupyter-widgets/base",
            "_view_module_version": "1.2.0",
            "_view_name": "LayoutView",
            "align_content": null,
            "align_items": null,
            "align_self": null,
            "border": null,
            "bottom": null,
            "display": null,
            "flex": null,
            "flex_flow": null,
            "grid_area": null,
            "grid_auto_columns": null,
            "grid_auto_flow": null,
            "grid_auto_rows": null,
            "grid_column": null,
            "grid_gap": null,
            "grid_row": null,
            "grid_template_areas": null,
            "grid_template_columns": null,
            "grid_template_rows": null,
            "height": null,
            "justify_content": null,
            "justify_items": null,
            "left": null,
            "margin": null,
            "max_height": null,
            "max_width": null,
            "min_height": null,
            "min_width": null,
            "object_fit": null,
            "object_position": null,
            "order": null,
            "overflow": null,
            "overflow_x": null,
            "overflow_y": null,
            "padding": null,
            "right": null,
            "top": null,
            "visibility": null,
            "width": null
          }
        },
        "48fe6a06f59849beb8708330be7dd81f": {
          "model_module": "@jupyter-widgets/base",
          "model_name": "LayoutModel",
          "model_module_version": "1.2.0",
          "state": {
            "_model_module": "@jupyter-widgets/base",
            "_model_module_version": "1.2.0",
            "_model_name": "LayoutModel",
            "_view_count": null,
            "_view_module": "@jupyter-widgets/base",
            "_view_module_version": "1.2.0",
            "_view_name": "LayoutView",
            "align_content": null,
            "align_items": null,
            "align_self": null,
            "border": null,
            "bottom": null,
            "display": null,
            "flex": null,
            "flex_flow": null,
            "grid_area": null,
            "grid_auto_columns": null,
            "grid_auto_flow": null,
            "grid_auto_rows": null,
            "grid_column": null,
            "grid_gap": null,
            "grid_row": null,
            "grid_template_areas": null,
            "grid_template_columns": null,
            "grid_template_rows": null,
            "height": null,
            "justify_content": null,
            "justify_items": null,
            "left": null,
            "margin": null,
            "max_height": null,
            "max_width": null,
            "min_height": null,
            "min_width": null,
            "object_fit": null,
            "object_position": null,
            "order": null,
            "overflow": null,
            "overflow_x": null,
            "overflow_y": null,
            "padding": null,
            "right": null,
            "top": null,
            "visibility": null,
            "width": null
          }
        },
        "4dff8d0930b14b5baf101d7646a69783": {
          "model_module": "@jupyter-widgets/controls",
          "model_name": "DescriptionStyleModel",
          "model_module_version": "1.5.0",
          "state": {
            "_model_module": "@jupyter-widgets/controls",
            "_model_module_version": "1.5.0",
            "_model_name": "DescriptionStyleModel",
            "_view_count": null,
            "_view_module": "@jupyter-widgets/base",
            "_view_module_version": "1.2.0",
            "_view_name": "StyleView",
            "description_width": ""
          }
        },
        "b0c189f4f8da4b179b1efc376cfcc076": {
          "model_module": "@jupyter-widgets/base",
          "model_name": "LayoutModel",
          "model_module_version": "1.2.0",
          "state": {
            "_model_module": "@jupyter-widgets/base",
            "_model_module_version": "1.2.0",
            "_model_name": "LayoutModel",
            "_view_count": null,
            "_view_module": "@jupyter-widgets/base",
            "_view_module_version": "1.2.0",
            "_view_name": "LayoutView",
            "align_content": null,
            "align_items": null,
            "align_self": null,
            "border": null,
            "bottom": null,
            "display": null,
            "flex": null,
            "flex_flow": null,
            "grid_area": null,
            "grid_auto_columns": null,
            "grid_auto_flow": null,
            "grid_auto_rows": null,
            "grid_column": null,
            "grid_gap": null,
            "grid_row": null,
            "grid_template_areas": null,
            "grid_template_columns": null,
            "grid_template_rows": null,
            "height": null,
            "justify_content": null,
            "justify_items": null,
            "left": null,
            "margin": null,
            "max_height": null,
            "max_width": null,
            "min_height": null,
            "min_width": null,
            "object_fit": null,
            "object_position": null,
            "order": null,
            "overflow": null,
            "overflow_x": null,
            "overflow_y": null,
            "padding": null,
            "right": null,
            "top": null,
            "visibility": null,
            "width": null
          }
        },
        "2ca195baddff4485b9752b7816a83552": {
          "model_module": "@jupyter-widgets/controls",
          "model_name": "ProgressStyleModel",
          "model_module_version": "1.5.0",
          "state": {
            "_model_module": "@jupyter-widgets/controls",
            "_model_module_version": "1.5.0",
            "_model_name": "ProgressStyleModel",
            "_view_count": null,
            "_view_module": "@jupyter-widgets/base",
            "_view_module_version": "1.2.0",
            "_view_name": "StyleView",
            "bar_color": null,
            "description_width": ""
          }
        },
        "8cd322cfadf14eb6a4144ce14755d981": {
          "model_module": "@jupyter-widgets/base",
          "model_name": "LayoutModel",
          "model_module_version": "1.2.0",
          "state": {
            "_model_module": "@jupyter-widgets/base",
            "_model_module_version": "1.2.0",
            "_model_name": "LayoutModel",
            "_view_count": null,
            "_view_module": "@jupyter-widgets/base",
            "_view_module_version": "1.2.0",
            "_view_name": "LayoutView",
            "align_content": null,
            "align_items": null,
            "align_self": null,
            "border": null,
            "bottom": null,
            "display": null,
            "flex": null,
            "flex_flow": null,
            "grid_area": null,
            "grid_auto_columns": null,
            "grid_auto_flow": null,
            "grid_auto_rows": null,
            "grid_column": null,
            "grid_gap": null,
            "grid_row": null,
            "grid_template_areas": null,
            "grid_template_columns": null,
            "grid_template_rows": null,
            "height": null,
            "justify_content": null,
            "justify_items": null,
            "left": null,
            "margin": null,
            "max_height": null,
            "max_width": null,
            "min_height": null,
            "min_width": null,
            "object_fit": null,
            "object_position": null,
            "order": null,
            "overflow": null,
            "overflow_x": null,
            "overflow_y": null,
            "padding": null,
            "right": null,
            "top": null,
            "visibility": null,
            "width": null
          }
        },
        "d13028b87e8543ff924eb2f7e0cec79b": {
          "model_module": "@jupyter-widgets/controls",
          "model_name": "DescriptionStyleModel",
          "model_module_version": "1.5.0",
          "state": {
            "_model_module": "@jupyter-widgets/controls",
            "_model_module_version": "1.5.0",
            "_model_name": "DescriptionStyleModel",
            "_view_count": null,
            "_view_module": "@jupyter-widgets/base",
            "_view_module_version": "1.2.0",
            "_view_name": "StyleView",
            "description_width": ""
          }
        },
        "da26bb502ad24394bbb85b95f96da4d8": {
          "model_module": "@jupyter-widgets/controls",
          "model_name": "HBoxModel",
          "model_module_version": "1.5.0",
          "state": {
            "_dom_classes": [],
            "_model_module": "@jupyter-widgets/controls",
            "_model_module_version": "1.5.0",
            "_model_name": "HBoxModel",
            "_view_count": null,
            "_view_module": "@jupyter-widgets/controls",
            "_view_module_version": "1.5.0",
            "_view_name": "HBoxView",
            "box_style": "",
            "children": [
              "IPY_MODEL_8e4a6414c7344febaf404419ffb83bb3",
              "IPY_MODEL_ec94f12a8c654528b98c929460a1f0c2",
              "IPY_MODEL_1e97010d13e641e1b1dda30527d04f27"
            ],
            "layout": "IPY_MODEL_d0f845de078b4f6fb1986e1955bf3075"
          }
        },
        "8e4a6414c7344febaf404419ffb83bb3": {
          "model_module": "@jupyter-widgets/controls",
          "model_name": "HTMLModel",
          "model_module_version": "1.5.0",
          "state": {
            "_dom_classes": [],
            "_model_module": "@jupyter-widgets/controls",
            "_model_module_version": "1.5.0",
            "_model_name": "HTMLModel",
            "_view_count": null,
            "_view_module": "@jupyter-widgets/controls",
            "_view_module_version": "1.5.0",
            "_view_name": "HTMLView",
            "description": "",
            "description_tooltip": null,
            "layout": "IPY_MODEL_56560a99d5764896845db3118e034c9f",
            "placeholder": "​",
            "style": "IPY_MODEL_7103f0b45b464df1ac160d6b872feec8",
            "value": "special_tokens_map.json: 100%"
          }
        },
        "ec94f12a8c654528b98c929460a1f0c2": {
          "model_module": "@jupyter-widgets/controls",
          "model_name": "FloatProgressModel",
          "model_module_version": "1.5.0",
          "state": {
            "_dom_classes": [],
            "_model_module": "@jupyter-widgets/controls",
            "_model_module_version": "1.5.0",
            "_model_name": "FloatProgressModel",
            "_view_count": null,
            "_view_module": "@jupyter-widgets/controls",
            "_view_module_version": "1.5.0",
            "_view_name": "ProgressView",
            "bar_style": "success",
            "description": "",
            "description_tooltip": null,
            "layout": "IPY_MODEL_acb54f8a9e2e497f9b2447f02de1b264",
            "max": 112,
            "min": 0,
            "orientation": "horizontal",
            "style": "IPY_MODEL_5869628253d641d0acfafbbaa01de9da",
            "value": 112
          }
        },
        "1e97010d13e641e1b1dda30527d04f27": {
          "model_module": "@jupyter-widgets/controls",
          "model_name": "HTMLModel",
          "model_module_version": "1.5.0",
          "state": {
            "_dom_classes": [],
            "_model_module": "@jupyter-widgets/controls",
            "_model_module_version": "1.5.0",
            "_model_name": "HTMLModel",
            "_view_count": null,
            "_view_module": "@jupyter-widgets/controls",
            "_view_module_version": "1.5.0",
            "_view_name": "HTMLView",
            "description": "",
            "description_tooltip": null,
            "layout": "IPY_MODEL_f7abf3dc75074b68967b243c3ec00499",
            "placeholder": "​",
            "style": "IPY_MODEL_828d86cb33cf4715a7e02aceed6bdfda",
            "value": " 112/112 [00:00&lt;00:00, 1.27kB/s]"
          }
        },
        "d0f845de078b4f6fb1986e1955bf3075": {
          "model_module": "@jupyter-widgets/base",
          "model_name": "LayoutModel",
          "model_module_version": "1.2.0",
          "state": {
            "_model_module": "@jupyter-widgets/base",
            "_model_module_version": "1.2.0",
            "_model_name": "LayoutModel",
            "_view_count": null,
            "_view_module": "@jupyter-widgets/base",
            "_view_module_version": "1.2.0",
            "_view_name": "LayoutView",
            "align_content": null,
            "align_items": null,
            "align_self": null,
            "border": null,
            "bottom": null,
            "display": null,
            "flex": null,
            "flex_flow": null,
            "grid_area": null,
            "grid_auto_columns": null,
            "grid_auto_flow": null,
            "grid_auto_rows": null,
            "grid_column": null,
            "grid_gap": null,
            "grid_row": null,
            "grid_template_areas": null,
            "grid_template_columns": null,
            "grid_template_rows": null,
            "height": null,
            "justify_content": null,
            "justify_items": null,
            "left": null,
            "margin": null,
            "max_height": null,
            "max_width": null,
            "min_height": null,
            "min_width": null,
            "object_fit": null,
            "object_position": null,
            "order": null,
            "overflow": null,
            "overflow_x": null,
            "overflow_y": null,
            "padding": null,
            "right": null,
            "top": null,
            "visibility": null,
            "width": null
          }
        },
        "56560a99d5764896845db3118e034c9f": {
          "model_module": "@jupyter-widgets/base",
          "model_name": "LayoutModel",
          "model_module_version": "1.2.0",
          "state": {
            "_model_module": "@jupyter-widgets/base",
            "_model_module_version": "1.2.0",
            "_model_name": "LayoutModel",
            "_view_count": null,
            "_view_module": "@jupyter-widgets/base",
            "_view_module_version": "1.2.0",
            "_view_name": "LayoutView",
            "align_content": null,
            "align_items": null,
            "align_self": null,
            "border": null,
            "bottom": null,
            "display": null,
            "flex": null,
            "flex_flow": null,
            "grid_area": null,
            "grid_auto_columns": null,
            "grid_auto_flow": null,
            "grid_auto_rows": null,
            "grid_column": null,
            "grid_gap": null,
            "grid_row": null,
            "grid_template_areas": null,
            "grid_template_columns": null,
            "grid_template_rows": null,
            "height": null,
            "justify_content": null,
            "justify_items": null,
            "left": null,
            "margin": null,
            "max_height": null,
            "max_width": null,
            "min_height": null,
            "min_width": null,
            "object_fit": null,
            "object_position": null,
            "order": null,
            "overflow": null,
            "overflow_x": null,
            "overflow_y": null,
            "padding": null,
            "right": null,
            "top": null,
            "visibility": null,
            "width": null
          }
        },
        "7103f0b45b464df1ac160d6b872feec8": {
          "model_module": "@jupyter-widgets/controls",
          "model_name": "DescriptionStyleModel",
          "model_module_version": "1.5.0",
          "state": {
            "_model_module": "@jupyter-widgets/controls",
            "_model_module_version": "1.5.0",
            "_model_name": "DescriptionStyleModel",
            "_view_count": null,
            "_view_module": "@jupyter-widgets/base",
            "_view_module_version": "1.2.0",
            "_view_name": "StyleView",
            "description_width": ""
          }
        },
        "acb54f8a9e2e497f9b2447f02de1b264": {
          "model_module": "@jupyter-widgets/base",
          "model_name": "LayoutModel",
          "model_module_version": "1.2.0",
          "state": {
            "_model_module": "@jupyter-widgets/base",
            "_model_module_version": "1.2.0",
            "_model_name": "LayoutModel",
            "_view_count": null,
            "_view_module": "@jupyter-widgets/base",
            "_view_module_version": "1.2.0",
            "_view_name": "LayoutView",
            "align_content": null,
            "align_items": null,
            "align_self": null,
            "border": null,
            "bottom": null,
            "display": null,
            "flex": null,
            "flex_flow": null,
            "grid_area": null,
            "grid_auto_columns": null,
            "grid_auto_flow": null,
            "grid_auto_rows": null,
            "grid_column": null,
            "grid_gap": null,
            "grid_row": null,
            "grid_template_areas": null,
            "grid_template_columns": null,
            "grid_template_rows": null,
            "height": null,
            "justify_content": null,
            "justify_items": null,
            "left": null,
            "margin": null,
            "max_height": null,
            "max_width": null,
            "min_height": null,
            "min_width": null,
            "object_fit": null,
            "object_position": null,
            "order": null,
            "overflow": null,
            "overflow_x": null,
            "overflow_y": null,
            "padding": null,
            "right": null,
            "top": null,
            "visibility": null,
            "width": null
          }
        },
        "5869628253d641d0acfafbbaa01de9da": {
          "model_module": "@jupyter-widgets/controls",
          "model_name": "ProgressStyleModel",
          "model_module_version": "1.5.0",
          "state": {
            "_model_module": "@jupyter-widgets/controls",
            "_model_module_version": "1.5.0",
            "_model_name": "ProgressStyleModel",
            "_view_count": null,
            "_view_module": "@jupyter-widgets/base",
            "_view_module_version": "1.2.0",
            "_view_name": "StyleView",
            "bar_color": null,
            "description_width": ""
          }
        },
        "f7abf3dc75074b68967b243c3ec00499": {
          "model_module": "@jupyter-widgets/base",
          "model_name": "LayoutModel",
          "model_module_version": "1.2.0",
          "state": {
            "_model_module": "@jupyter-widgets/base",
            "_model_module_version": "1.2.0",
            "_model_name": "LayoutModel",
            "_view_count": null,
            "_view_module": "@jupyter-widgets/base",
            "_view_module_version": "1.2.0",
            "_view_name": "LayoutView",
            "align_content": null,
            "align_items": null,
            "align_self": null,
            "border": null,
            "bottom": null,
            "display": null,
            "flex": null,
            "flex_flow": null,
            "grid_area": null,
            "grid_auto_columns": null,
            "grid_auto_flow": null,
            "grid_auto_rows": null,
            "grid_column": null,
            "grid_gap": null,
            "grid_row": null,
            "grid_template_areas": null,
            "grid_template_columns": null,
            "grid_template_rows": null,
            "height": null,
            "justify_content": null,
            "justify_items": null,
            "left": null,
            "margin": null,
            "max_height": null,
            "max_width": null,
            "min_height": null,
            "min_width": null,
            "object_fit": null,
            "object_position": null,
            "order": null,
            "overflow": null,
            "overflow_x": null,
            "overflow_y": null,
            "padding": null,
            "right": null,
            "top": null,
            "visibility": null,
            "width": null
          }
        },
        "828d86cb33cf4715a7e02aceed6bdfda": {
          "model_module": "@jupyter-widgets/controls",
          "model_name": "DescriptionStyleModel",
          "model_module_version": "1.5.0",
          "state": {
            "_model_module": "@jupyter-widgets/controls",
            "_model_module_version": "1.5.0",
            "_model_name": "DescriptionStyleModel",
            "_view_count": null,
            "_view_module": "@jupyter-widgets/base",
            "_view_module_version": "1.2.0",
            "_view_name": "StyleView",
            "description_width": ""
          }
        }
      }
    }
  },
  "cells": [
    {
      "cell_type": "markdown",
      "metadata": {
        "id": "view-in-github",
        "colab_type": "text"
      },
      "source": [
        "<a href=\"https://colab.research.google.com/github/Kimhansav/everynocode_search_engine/blob/main/BP_train_models.ipynb\" target=\"_parent\"><img src=\"https://colab.research.google.com/assets/colab-badge.svg\" alt=\"Open In Colab\"/></a>"
      ]
    },
    {
      "cell_type": "code",
      "execution_count": null,
      "metadata": {
        "id": "KaZirxJtjsIg"
      },
      "outputs": [],
      "source": [
        "#제작한 세 종류의 데이터셋으로 모델을 훈련하는 코드. 훈련 결과물은 Pretrained_Model, Pretrained_Model_sentence_embed, Finetuned_Model_judge_question, Finetuned_Model_judge_answer 4종류"
      ]
    },
    {
      "cell_type": "code",
      "source": [
        "!pip install soynlp\n",
        "!pip install datasets\n",
        "!pip install accelerate -U\n",
        "!pip install kss\n",
        "import accelerate\n",
        "import random\n",
        "import pandas as pd\n",
        "import numpy as np\n",
        "import re\n",
        "import os\n",
        "import torch\n",
        "import tensorflow as tf\n",
        "import urllib.request\n",
        "import torch.nn as nn\n",
        "from kss import Kss\n",
        "from transformers.modeling_outputs import SequenceClassifierOutput\n",
        "from datasets import Dataset, load_dataset, ClassLabel\n",
        "from soynlp.word import WordExtractor\n",
        "from soynlp.tokenizer import LTokenizer, MaxScoreTokenizer\n",
        "from tqdm import tqdm\n",
        "from torch.nn.functional import cross_entropy\n",
        "from tensorflow.keras.callbacks import EarlyStopping\n",
        "from tensorflow.keras.preprocessing.sequence import pad_sequences\n",
        "from transformers import AutoModel, AutoTokenizer, shape_list, TFBertModel, RobertaTokenizerFast, RobertaForSequenceClassification, TextClassificationPipeline, pipeline, BertTokenizer, BertForNextSentencePrediction,  TrainingArguments, BertForMaskedLM, Trainer, TrainerCallback, BertConfig, BertForSequenceClassification\n",
        "from sklearn.model_selection import StratifiedKFold, train_test_split\n",
        "from google.colab import drive\n",
        "drive.mount('/content/drive')"
      ],
      "metadata": {
        "colab": {
          "base_uri": "https://localhost:8080/"
        },
        "id": "bHmvWlF-j5cc",
        "outputId": "ac199e97-8337-4a40-9d04-300b4a277aa6"
      },
      "execution_count": null,
      "outputs": [
        {
          "output_type": "stream",
          "name": "stdout",
          "text": [
            "Collecting soynlp\n",
            "  Downloading soynlp-0.0.493-py3-none-any.whl (416 kB)\n",
            "\u001b[2K     \u001b[90m━━━━━━━━━━━━━━━━━━━━━━━━━━━━━━━━━━━━━━━━\u001b[0m \u001b[32m416.8/416.8 kB\u001b[0m \u001b[31m3.5 MB/s\u001b[0m eta \u001b[36m0:00:00\u001b[0m\n",
            "\u001b[?25hRequirement already satisfied: numpy>=1.12.1 in /usr/local/lib/python3.10/dist-packages (from soynlp) (1.25.2)\n",
            "Requirement already satisfied: psutil>=5.0.1 in /usr/local/lib/python3.10/dist-packages (from soynlp) (5.9.5)\n",
            "Requirement already satisfied: scipy>=1.1.0 in /usr/local/lib/python3.10/dist-packages (from soynlp) (1.11.4)\n",
            "Requirement already satisfied: scikit-learn>=0.20.0 in /usr/local/lib/python3.10/dist-packages (from soynlp) (1.2.2)\n",
            "Requirement already satisfied: joblib>=1.1.1 in /usr/local/lib/python3.10/dist-packages (from scikit-learn>=0.20.0->soynlp) (1.4.0)\n",
            "Requirement already satisfied: threadpoolctl>=2.0.0 in /usr/local/lib/python3.10/dist-packages (from scikit-learn>=0.20.0->soynlp) (3.5.0)\n",
            "Installing collected packages: soynlp\n",
            "Successfully installed soynlp-0.0.493\n",
            "Collecting datasets\n",
            "  Downloading datasets-2.19.0-py3-none-any.whl (542 kB)\n",
            "\u001b[2K     \u001b[90m━━━━━━━━━━━━━━━━━━━━━━━━━━━━━━━━━━━━━━━━\u001b[0m \u001b[32m542.0/542.0 kB\u001b[0m \u001b[31m4.4 MB/s\u001b[0m eta \u001b[36m0:00:00\u001b[0m\n",
            "\u001b[?25hRequirement already satisfied: filelock in /usr/local/lib/python3.10/dist-packages (from datasets) (3.14.0)\n",
            "Requirement already satisfied: numpy>=1.17 in /usr/local/lib/python3.10/dist-packages (from datasets) (1.25.2)\n",
            "Requirement already satisfied: pyarrow>=12.0.0 in /usr/local/lib/python3.10/dist-packages (from datasets) (14.0.2)\n",
            "Requirement already satisfied: pyarrow-hotfix in /usr/local/lib/python3.10/dist-packages (from datasets) (0.6)\n",
            "Collecting dill<0.3.9,>=0.3.0 (from datasets)\n",
            "  Downloading dill-0.3.8-py3-none-any.whl (116 kB)\n",
            "\u001b[2K     \u001b[90m━━━━━━━━━━━━━━━━━━━━━━━━━━━━━━━━━━━━━━━━\u001b[0m \u001b[32m116.3/116.3 kB\u001b[0m \u001b[31m5.0 MB/s\u001b[0m eta \u001b[36m0:00:00\u001b[0m\n",
            "\u001b[?25hRequirement already satisfied: pandas in /usr/local/lib/python3.10/dist-packages (from datasets) (2.0.3)\n",
            "Requirement already satisfied: requests>=2.19.0 in /usr/local/lib/python3.10/dist-packages (from datasets) (2.31.0)\n",
            "Requirement already satisfied: tqdm>=4.62.1 in /usr/local/lib/python3.10/dist-packages (from datasets) (4.66.2)\n",
            "Collecting xxhash (from datasets)\n",
            "  Downloading xxhash-3.4.1-cp310-cp310-manylinux_2_17_x86_64.manylinux2014_x86_64.whl (194 kB)\n",
            "\u001b[2K     \u001b[90m━━━━━━━━━━━━━━━━━━━━━━━━━━━━━━━━━━━━━━━━\u001b[0m \u001b[32m194.1/194.1 kB\u001b[0m \u001b[31m3.3 MB/s\u001b[0m eta \u001b[36m0:00:00\u001b[0m\n",
            "\u001b[?25hCollecting multiprocess (from datasets)\n",
            "  Downloading multiprocess-0.70.16-py310-none-any.whl (134 kB)\n",
            "\u001b[2K     \u001b[90m━━━━━━━━━━━━━━━━━━━━━━━━━━━━━━━━━━━━━━━━\u001b[0m \u001b[32m134.8/134.8 kB\u001b[0m \u001b[31m6.5 MB/s\u001b[0m eta \u001b[36m0:00:00\u001b[0m\n",
            "\u001b[?25hRequirement already satisfied: fsspec[http]<=2024.3.1,>=2023.1.0 in /usr/local/lib/python3.10/dist-packages (from datasets) (2023.6.0)\n",
            "Requirement already satisfied: aiohttp in /usr/local/lib/python3.10/dist-packages (from datasets) (3.9.5)\n",
            "Collecting huggingface-hub>=0.21.2 (from datasets)\n",
            "  Downloading huggingface_hub-0.23.0-py3-none-any.whl (401 kB)\n",
            "\u001b[2K     \u001b[90m━━━━━━━━━━━━━━━━━━━━━━━━━━━━━━━━━━━━━━━━\u001b[0m \u001b[32m401.2/401.2 kB\u001b[0m \u001b[31m7.4 MB/s\u001b[0m eta \u001b[36m0:00:00\u001b[0m\n",
            "\u001b[?25hRequirement already satisfied: packaging in /usr/local/lib/python3.10/dist-packages (from datasets) (24.0)\n",
            "Requirement already satisfied: pyyaml>=5.1 in /usr/local/lib/python3.10/dist-packages (from datasets) (6.0.1)\n",
            "Requirement already satisfied: aiosignal>=1.1.2 in /usr/local/lib/python3.10/dist-packages (from aiohttp->datasets) (1.3.1)\n",
            "Requirement already satisfied: attrs>=17.3.0 in /usr/local/lib/python3.10/dist-packages (from aiohttp->datasets) (23.2.0)\n",
            "Requirement already satisfied: frozenlist>=1.1.1 in /usr/local/lib/python3.10/dist-packages (from aiohttp->datasets) (1.4.1)\n",
            "Requirement already satisfied: multidict<7.0,>=4.5 in /usr/local/lib/python3.10/dist-packages (from aiohttp->datasets) (6.0.5)\n",
            "Requirement already satisfied: yarl<2.0,>=1.0 in /usr/local/lib/python3.10/dist-packages (from aiohttp->datasets) (1.9.4)\n",
            "Requirement already satisfied: async-timeout<5.0,>=4.0 in /usr/local/lib/python3.10/dist-packages (from aiohttp->datasets) (4.0.3)\n",
            "Requirement already satisfied: typing-extensions>=3.7.4.3 in /usr/local/lib/python3.10/dist-packages (from huggingface-hub>=0.21.2->datasets) (4.11.0)\n",
            "Requirement already satisfied: charset-normalizer<4,>=2 in /usr/local/lib/python3.10/dist-packages (from requests>=2.19.0->datasets) (3.3.2)\n",
            "Requirement already satisfied: idna<4,>=2.5 in /usr/local/lib/python3.10/dist-packages (from requests>=2.19.0->datasets) (3.7)\n",
            "Requirement already satisfied: urllib3<3,>=1.21.1 in /usr/local/lib/python3.10/dist-packages (from requests>=2.19.0->datasets) (2.0.7)\n",
            "Requirement already satisfied: certifi>=2017.4.17 in /usr/local/lib/python3.10/dist-packages (from requests>=2.19.0->datasets) (2024.2.2)\n",
            "Requirement already satisfied: python-dateutil>=2.8.2 in /usr/local/lib/python3.10/dist-packages (from pandas->datasets) (2.8.2)\n",
            "Requirement already satisfied: pytz>=2020.1 in /usr/local/lib/python3.10/dist-packages (from pandas->datasets) (2023.4)\n",
            "Requirement already satisfied: tzdata>=2022.1 in /usr/local/lib/python3.10/dist-packages (from pandas->datasets) (2024.1)\n",
            "Requirement already satisfied: six>=1.5 in /usr/local/lib/python3.10/dist-packages (from python-dateutil>=2.8.2->pandas->datasets) (1.16.0)\n",
            "Installing collected packages: xxhash, dill, multiprocess, huggingface-hub, datasets\n",
            "  Attempting uninstall: huggingface-hub\n",
            "    Found existing installation: huggingface-hub 0.20.3\n",
            "    Uninstalling huggingface-hub-0.20.3:\n",
            "      Successfully uninstalled huggingface-hub-0.20.3\n",
            "Successfully installed datasets-2.19.0 dill-0.3.8 huggingface-hub-0.23.0 multiprocess-0.70.16 xxhash-3.4.1\n",
            "Collecting accelerate\n",
            "  Downloading accelerate-0.30.0-py3-none-any.whl (302 kB)\n",
            "\u001b[2K     \u001b[90m━━━━━━━━━━━━━━━━━━━━━━━━━━━━━━━━━━━━━━━━\u001b[0m \u001b[32m302.4/302.4 kB\u001b[0m \u001b[31m5.3 MB/s\u001b[0m eta \u001b[36m0:00:00\u001b[0m\n",
            "\u001b[?25hRequirement already satisfied: numpy>=1.17 in /usr/local/lib/python3.10/dist-packages (from accelerate) (1.25.2)\n",
            "Requirement already satisfied: packaging>=20.0 in /usr/local/lib/python3.10/dist-packages (from accelerate) (24.0)\n",
            "Requirement already satisfied: psutil in /usr/local/lib/python3.10/dist-packages (from accelerate) (5.9.5)\n",
            "Requirement already satisfied: pyyaml in /usr/local/lib/python3.10/dist-packages (from accelerate) (6.0.1)\n",
            "Requirement already satisfied: torch>=1.10.0 in /usr/local/lib/python3.10/dist-packages (from accelerate) (2.2.1+cu121)\n",
            "Requirement already satisfied: huggingface-hub in /usr/local/lib/python3.10/dist-packages (from accelerate) (0.23.0)\n",
            "Requirement already satisfied: safetensors>=0.3.1 in /usr/local/lib/python3.10/dist-packages (from accelerate) (0.4.3)\n",
            "Requirement already satisfied: filelock in /usr/local/lib/python3.10/dist-packages (from torch>=1.10.0->accelerate) (3.14.0)\n",
            "Requirement already satisfied: typing-extensions>=4.8.0 in /usr/local/lib/python3.10/dist-packages (from torch>=1.10.0->accelerate) (4.11.0)\n",
            "Requirement already satisfied: sympy in /usr/local/lib/python3.10/dist-packages (from torch>=1.10.0->accelerate) (1.12)\n",
            "Requirement already satisfied: networkx in /usr/local/lib/python3.10/dist-packages (from torch>=1.10.0->accelerate) (3.3)\n",
            "Requirement already satisfied: jinja2 in /usr/local/lib/python3.10/dist-packages (from torch>=1.10.0->accelerate) (3.1.3)\n",
            "Requirement already satisfied: fsspec in /usr/local/lib/python3.10/dist-packages (from torch>=1.10.0->accelerate) (2023.6.0)\n",
            "Collecting nvidia-cuda-nvrtc-cu12==12.1.105 (from torch>=1.10.0->accelerate)\n",
            "  Using cached nvidia_cuda_nvrtc_cu12-12.1.105-py3-none-manylinux1_x86_64.whl (23.7 MB)\n",
            "Collecting nvidia-cuda-runtime-cu12==12.1.105 (from torch>=1.10.0->accelerate)\n",
            "  Using cached nvidia_cuda_runtime_cu12-12.1.105-py3-none-manylinux1_x86_64.whl (823 kB)\n",
            "Collecting nvidia-cuda-cupti-cu12==12.1.105 (from torch>=1.10.0->accelerate)\n",
            "  Using cached nvidia_cuda_cupti_cu12-12.1.105-py3-none-manylinux1_x86_64.whl (14.1 MB)\n",
            "Collecting nvidia-cudnn-cu12==8.9.2.26 (from torch>=1.10.0->accelerate)\n",
            "  Using cached nvidia_cudnn_cu12-8.9.2.26-py3-none-manylinux1_x86_64.whl (731.7 MB)\n",
            "Collecting nvidia-cublas-cu12==12.1.3.1 (from torch>=1.10.0->accelerate)\n",
            "  Using cached nvidia_cublas_cu12-12.1.3.1-py3-none-manylinux1_x86_64.whl (410.6 MB)\n",
            "Collecting nvidia-cufft-cu12==11.0.2.54 (from torch>=1.10.0->accelerate)\n",
            "  Using cached nvidia_cufft_cu12-11.0.2.54-py3-none-manylinux1_x86_64.whl (121.6 MB)\n",
            "Collecting nvidia-curand-cu12==10.3.2.106 (from torch>=1.10.0->accelerate)\n",
            "  Using cached nvidia_curand_cu12-10.3.2.106-py3-none-manylinux1_x86_64.whl (56.5 MB)\n",
            "Collecting nvidia-cusolver-cu12==11.4.5.107 (from torch>=1.10.0->accelerate)\n",
            "  Using cached nvidia_cusolver_cu12-11.4.5.107-py3-none-manylinux1_x86_64.whl (124.2 MB)\n",
            "Collecting nvidia-cusparse-cu12==12.1.0.106 (from torch>=1.10.0->accelerate)\n",
            "  Using cached nvidia_cusparse_cu12-12.1.0.106-py3-none-manylinux1_x86_64.whl (196.0 MB)\n",
            "Collecting nvidia-nccl-cu12==2.19.3 (from torch>=1.10.0->accelerate)\n",
            "  Using cached nvidia_nccl_cu12-2.19.3-py3-none-manylinux1_x86_64.whl (166.0 MB)\n",
            "Collecting nvidia-nvtx-cu12==12.1.105 (from torch>=1.10.0->accelerate)\n",
            "  Using cached nvidia_nvtx_cu12-12.1.105-py3-none-manylinux1_x86_64.whl (99 kB)\n",
            "Requirement already satisfied: triton==2.2.0 in /usr/local/lib/python3.10/dist-packages (from torch>=1.10.0->accelerate) (2.2.0)\n",
            "Collecting nvidia-nvjitlink-cu12 (from nvidia-cusolver-cu12==11.4.5.107->torch>=1.10.0->accelerate)\n",
            "  Using cached nvidia_nvjitlink_cu12-12.4.127-py3-none-manylinux2014_x86_64.whl (21.1 MB)\n",
            "Requirement already satisfied: requests in /usr/local/lib/python3.10/dist-packages (from huggingface-hub->accelerate) (2.31.0)\n",
            "Requirement already satisfied: tqdm>=4.42.1 in /usr/local/lib/python3.10/dist-packages (from huggingface-hub->accelerate) (4.66.2)\n",
            "Requirement already satisfied: MarkupSafe>=2.0 in /usr/local/lib/python3.10/dist-packages (from jinja2->torch>=1.10.0->accelerate) (2.1.5)\n",
            "Requirement already satisfied: charset-normalizer<4,>=2 in /usr/local/lib/python3.10/dist-packages (from requests->huggingface-hub->accelerate) (3.3.2)\n",
            "Requirement already satisfied: idna<4,>=2.5 in /usr/local/lib/python3.10/dist-packages (from requests->huggingface-hub->accelerate) (3.7)\n",
            "Requirement already satisfied: urllib3<3,>=1.21.1 in /usr/local/lib/python3.10/dist-packages (from requests->huggingface-hub->accelerate) (2.0.7)\n",
            "Requirement already satisfied: certifi>=2017.4.17 in /usr/local/lib/python3.10/dist-packages (from requests->huggingface-hub->accelerate) (2024.2.2)\n",
            "Requirement already satisfied: mpmath>=0.19 in /usr/local/lib/python3.10/dist-packages (from sympy->torch>=1.10.0->accelerate) (1.3.0)\n",
            "Installing collected packages: nvidia-nvtx-cu12, nvidia-nvjitlink-cu12, nvidia-nccl-cu12, nvidia-curand-cu12, nvidia-cufft-cu12, nvidia-cuda-runtime-cu12, nvidia-cuda-nvrtc-cu12, nvidia-cuda-cupti-cu12, nvidia-cublas-cu12, nvidia-cusparse-cu12, nvidia-cudnn-cu12, nvidia-cusolver-cu12, accelerate\n",
            "Successfully installed accelerate-0.30.0 nvidia-cublas-cu12-12.1.3.1 nvidia-cuda-cupti-cu12-12.1.105 nvidia-cuda-nvrtc-cu12-12.1.105 nvidia-cuda-runtime-cu12-12.1.105 nvidia-cudnn-cu12-8.9.2.26 nvidia-cufft-cu12-11.0.2.54 nvidia-curand-cu12-10.3.2.106 nvidia-cusolver-cu12-11.4.5.107 nvidia-cusparse-cu12-12.1.0.106 nvidia-nccl-cu12-2.19.3 nvidia-nvjitlink-cu12-12.4.127 nvidia-nvtx-cu12-12.1.105\n",
            "Collecting kss\n",
            "  Downloading kss-6.0.4.tar.gz (1.1 MB)\n",
            "\u001b[2K     \u001b[90m━━━━━━━━━━━━━━━━━━━━━━━━━━━━━━━━━━━━━━━━\u001b[0m \u001b[32m1.1/1.1 MB\u001b[0m \u001b[31m12.6 MB/s\u001b[0m eta \u001b[36m0:00:00\u001b[0m\n",
            "\u001b[?25h  Preparing metadata (setup.py) ... \u001b[?25l\u001b[?25hdone\n",
            "Collecting emoji==1.2.0 (from kss)\n",
            "  Downloading emoji-1.2.0-py3-none-any.whl (131 kB)\n",
            "\u001b[2K     \u001b[90m━━━━━━━━━━━━━━━━━━━━━━━━━━━━━━━━━━━━━━━━\u001b[0m \u001b[32m131.3/131.3 kB\u001b[0m \u001b[31m16.3 MB/s\u001b[0m eta \u001b[36m0:00:00\u001b[0m\n",
            "\u001b[?25hCollecting pecab (from kss)\n",
            "  Downloading pecab-1.0.8.tar.gz (26.4 MB)\n",
            "\u001b[2K     \u001b[90m━━━━━━━━━━━━━━━━━━━━━━━━━━━━━━━━━━━━━━━━\u001b[0m \u001b[32m26.4/26.4 MB\u001b[0m \u001b[31m21.2 MB/s\u001b[0m eta \u001b[36m0:00:00\u001b[0m\n",
            "\u001b[?25h  Preparing metadata (setup.py) ... \u001b[?25l\u001b[?25hdone\n",
            "Requirement already satisfied: networkx in /usr/local/lib/python3.10/dist-packages (from kss) (3.3)\n",
            "Collecting jamo (from kss)\n",
            "  Downloading jamo-0.4.1-py3-none-any.whl (9.5 kB)\n",
            "Collecting hangul-jamo (from kss)\n",
            "  Downloading hangul_jamo-1.0.1-py3-none-any.whl (4.4 kB)\n",
            "Collecting tossi (from kss)\n",
            "  Downloading tossi-0.3.1.tar.gz (11 kB)\n",
            "  Preparing metadata (setup.py) ... \u001b[?25l\u001b[?25hdone\n",
            "Collecting distance (from kss)\n",
            "  Downloading Distance-0.1.3.tar.gz (180 kB)\n",
            "\u001b[2K     \u001b[90m━━━━━━━━━━━━━━━━━━━━━━━━━━━━━━━━━━━━━━━━\u001b[0m \u001b[32m180.3/180.3 kB\u001b[0m \u001b[31m16.2 MB/s\u001b[0m eta \u001b[36m0:00:00\u001b[0m\n",
            "\u001b[?25h  Preparing metadata (setup.py) ... \u001b[?25l\u001b[?25hdone\n",
            "Collecting pyyaml==6.0 (from kss)\n",
            "  Downloading PyYAML-6.0-cp310-cp310-manylinux_2_5_x86_64.manylinux1_x86_64.manylinux_2_12_x86_64.manylinux2010_x86_64.whl (682 kB)\n",
            "\u001b[2K     \u001b[90m━━━━━━━━━━━━━━━━━━━━━━━━━━━━━━━━━━━━━━━━\u001b[0m \u001b[32m682.2/682.2 kB\u001b[0m \u001b[31m38.9 MB/s\u001b[0m eta \u001b[36m0:00:00\u001b[0m\n",
            "\u001b[?25hCollecting unidecode (from kss)\n",
            "  Downloading Unidecode-1.3.8-py3-none-any.whl (235 kB)\n",
            "\u001b[2K     \u001b[90m━━━━━━━━━━━━━━━━━━━━━━━━━━━━━━━━━━━━━━━━\u001b[0m \u001b[32m235.5/235.5 kB\u001b[0m \u001b[31m24.7 MB/s\u001b[0m eta \u001b[36m0:00:00\u001b[0m\n",
            "\u001b[?25hCollecting cmudict (from kss)\n",
            "  Downloading cmudict-1.0.23-py3-none-any.whl (939 kB)\n",
            "\u001b[2K     \u001b[90m━━━━━━━━━━━━━━━━━━━━━━━━━━━━━━━━━━━━━━━━\u001b[0m \u001b[32m939.4/939.4 kB\u001b[0m \u001b[31m61.2 MB/s\u001b[0m eta \u001b[36m0:00:00\u001b[0m\n",
            "\u001b[?25hCollecting koparadigm (from kss)\n",
            "  Downloading koparadigm-0.10.0-py3-none-any.whl (1.6 MB)\n",
            "\u001b[2K     \u001b[90m━━━━━━━━━━━━━━━━━━━━━━━━━━━━━━━━━━━━━━━━\u001b[0m \u001b[32m1.6/1.6 MB\u001b[0m \u001b[31m75.7 MB/s\u001b[0m eta \u001b[36m0:00:00\u001b[0m\n",
            "\u001b[?25hCollecting kollocate (from kss)\n",
            "  Downloading kollocate-0.0.2-py3-none-any.whl (72.2 MB)\n",
            "\u001b[2K     \u001b[90m━━━━━━━━━━━━━━━━━━━━━━━━━━━━━━━━━━━━━━━━\u001b[0m \u001b[32m72.2/72.2 MB\u001b[0m \u001b[31m6.9 MB/s\u001b[0m eta \u001b[36m0:00:00\u001b[0m\n",
            "\u001b[?25hCollecting bs4 (from kss)\n",
            "  Downloading bs4-0.0.2-py2.py3-none-any.whl (1.2 kB)\n",
            "Requirement already satisfied: numpy in /usr/local/lib/python3.10/dist-packages (from kss) (1.25.2)\n",
            "Requirement already satisfied: pytest in /usr/local/lib/python3.10/dist-packages (from kss) (7.4.4)\n",
            "Requirement already satisfied: scipy in /usr/local/lib/python3.10/dist-packages (from kss) (1.11.4)\n",
            "Requirement already satisfied: beautifulsoup4 in /usr/local/lib/python3.10/dist-packages (from bs4->kss) (4.12.3)\n",
            "Requirement already satisfied: importlib-metadata>=5 in /usr/local/lib/python3.10/dist-packages (from cmudict->kss) (7.1.0)\n",
            "Requirement already satisfied: importlib-resources>=5 in /usr/local/lib/python3.10/dist-packages (from cmudict->kss) (6.4.0)\n",
            "Collecting whoosh (from kollocate->kss)\n",
            "  Downloading Whoosh-2.7.4-py2.py3-none-any.whl (468 kB)\n",
            "\u001b[2K     \u001b[90m━━━━━━━━━━━━━━━━━━━━━━━━━━━━━━━━━━━━━━━━\u001b[0m \u001b[32m468.8/468.8 kB\u001b[0m \u001b[31m36.6 MB/s\u001b[0m eta \u001b[36m0:00:00\u001b[0m\n",
            "\u001b[?25hCollecting xlrd==1.2.0 (from koparadigm->kss)\n",
            "  Downloading xlrd-1.2.0-py2.py3-none-any.whl (103 kB)\n",
            "\u001b[2K     \u001b[90m━━━━━━━━━━━━━━━━━━━━━━━━━━━━━━━━━━━━━━━━\u001b[0m \u001b[32m103.3/103.3 kB\u001b[0m \u001b[31m13.1 MB/s\u001b[0m eta \u001b[36m0:00:00\u001b[0m\n",
            "\u001b[?25hRequirement already satisfied: pyarrow in /usr/local/lib/python3.10/dist-packages (from pecab->kss) (14.0.2)\n",
            "Requirement already satisfied: regex in /usr/local/lib/python3.10/dist-packages (from pecab->kss) (2023.12.25)\n",
            "Requirement already satisfied: iniconfig in /usr/local/lib/python3.10/dist-packages (from pytest->kss) (2.0.0)\n",
            "Requirement already satisfied: packaging in /usr/local/lib/python3.10/dist-packages (from pytest->kss) (24.0)\n",
            "Requirement already satisfied: pluggy<2.0,>=0.12 in /usr/local/lib/python3.10/dist-packages (from pytest->kss) (1.5.0)\n",
            "Requirement already satisfied: exceptiongroup>=1.0.0rc8 in /usr/local/lib/python3.10/dist-packages (from pytest->kss) (1.2.1)\n",
            "Requirement already satisfied: tomli>=1.0.0 in /usr/local/lib/python3.10/dist-packages (from pytest->kss) (2.0.1)\n",
            "Requirement already satisfied: bidict in /usr/local/lib/python3.10/dist-packages (from tossi->kss) (0.23.1)\n",
            "Requirement already satisfied: six in /usr/local/lib/python3.10/dist-packages (from tossi->kss) (1.16.0)\n",
            "Requirement already satisfied: zipp>=0.5 in /usr/local/lib/python3.10/dist-packages (from importlib-metadata>=5->cmudict->kss) (3.18.1)\n",
            "Requirement already satisfied: soupsieve>1.2 in /usr/local/lib/python3.10/dist-packages (from beautifulsoup4->bs4->kss) (2.5)\n",
            "Building wheels for collected packages: kss, distance, pecab, tossi\n",
            "  Building wheel for kss (setup.py) ... \u001b[?25l\u001b[?25hdone\n",
            "  Created wheel for kss: filename=kss-6.0.4-cp310-cp310-linux_x86_64.whl size=1446489 sha256=3d09c2a98aea3dc66c166e06ee4e322e90af078f60850a4d13bf2728d6054035\n",
            "  Stored in directory: /root/.cache/pip/wheels/dd/70/d5/c9308346829b1eb9e7267d74696919d2453aee6ce350f98b3b\n",
            "  Building wheel for distance (setup.py) ... \u001b[?25l\u001b[?25hdone\n",
            "  Created wheel for distance: filename=Distance-0.1.3-py3-none-any.whl size=16258 sha256=34bc746815e79738beb962f42826747db76048ae9f45aaa4c2161bbc1634e772\n",
            "  Stored in directory: /root/.cache/pip/wheels/e8/bb/de/f71bf63559ea9a921059a5405806f7ff6ed612a9231c4a9309\n",
            "  Building wheel for pecab (setup.py) ... \u001b[?25l\u001b[?25hdone\n",
            "  Created wheel for pecab: filename=pecab-1.0.8-py3-none-any.whl size=26646664 sha256=97896d78f5fde4f68e705086b0e4d813ffc18410737e68daefd9276294e36e06\n",
            "  Stored in directory: /root/.cache/pip/wheels/5c/6f/b4/ab61b8863d7d8b1409def8ae31adcaa089fa91b8d022ec309d\n",
            "  Building wheel for tossi (setup.py) ... \u001b[?25l\u001b[?25hdone\n",
            "  Created wheel for tossi: filename=tossi-0.3.1-py3-none-any.whl size=12130 sha256=d8f401484659b32808a0d7d93c51e79d2f8455eba3f942a84f2dc5c8c9d2d71c\n",
            "  Stored in directory: /root/.cache/pip/wheels/a7/18/60/1094a6fe93c8063efcd3e6700d09328216682e495a3c51af9f\n",
            "Successfully built kss distance pecab tossi\n",
            "Installing collected packages: whoosh, jamo, hangul-jamo, emoji, distance, xlrd, unidecode, tossi, pyyaml, kollocate, pecab, koparadigm, cmudict, bs4, kss\n",
            "  Attempting uninstall: xlrd\n",
            "    Found existing installation: xlrd 2.0.1\n",
            "    Uninstalling xlrd-2.0.1:\n",
            "      Successfully uninstalled xlrd-2.0.1\n",
            "  Attempting uninstall: pyyaml\n",
            "    Found existing installation: PyYAML 6.0.1\n",
            "    Uninstalling PyYAML-6.0.1:\n",
            "      Successfully uninstalled PyYAML-6.0.1\n",
            "Successfully installed bs4-0.0.2 cmudict-1.0.23 distance-0.1.3 emoji-1.2.0 hangul-jamo-1.0.1 jamo-0.4.1 kollocate-0.0.2 koparadigm-0.10.0 kss-6.0.4 pecab-1.0.8 pyyaml-6.0 tossi-0.3.1 unidecode-1.3.8 whoosh-2.7.4 xlrd-1.2.0\n",
            "Mounted at /content/drive\n"
          ]
        }
      ]
    },
    {
      "cell_type": "code",
      "source": [
        "#과적합 방지를 위한 EarlyStopping 클래스\n",
        "class EarlyStoppingCallback(TrainerCallback):\n",
        "    def __init__(self, patience=3):\n",
        "        self.patience = patience\n",
        "        self.counter = 0\n",
        "        self.best_score = None\n",
        "        self.early_stop = False\n",
        "\n",
        "    def on_evaluate(self, args, state, control, **kwargs):\n",
        "        # 현재 검증 손실 가져오기\n",
        "        current_loss = kwargs['metrics']['eval_loss']\n",
        "\n",
        "        # 최고 성능 갱신 또는 카운터 증가\n",
        "        if self.best_score is None:\n",
        "            self.best_score = current_loss\n",
        "        elif current_loss > self.best_score:\n",
        "            self.counter += 1\n",
        "            if self.counter >= self.patience:\n",
        "                self.early_stop = True\n",
        "                control.should_training_stop = True\n",
        "        else:\n",
        "            self.best_score = current_loss\n",
        "            self.counter = 0"
      ],
      "metadata": {
        "id": "xAfsY0WkKMyH"
      },
      "execution_count": null,
      "outputs": []
    },
    {
      "cell_type": "markdown",
      "source": [
        "#MLM으로 비지도 학습(KcBERT, KoSimCSE_BERT)"
      ],
      "metadata": {
        "id": "N4nWPLygkSBb"
      }
    },
    {
      "cell_type": "code",
      "source": [
        "#훈련 데이터 불러오기\n",
        "pretrain_dataset_path = '/content/drive/My Drive/KcBERT_pretrain_dataset_short.csv'\n",
        "df_pretrain = pd.read_csv(pretrain_dataset_path, index_col = 0)\n",
        "print(df_pretrain)"
      ],
      "metadata": {
        "id": "Yw42MGfKe5A2",
        "colab": {
          "base_uri": "https://localhost:8080/"
        },
        "outputId": "5f0fcd52-6167-45d9-a7b7-7df10d679206"
      },
      "execution_count": null,
      "outputs": [
        {
          "output_type": "stream",
          "name": "stdout",
          "text": [
            "                                                    text\n",
            "0                                                   잼나네요\n",
            "1      근데 line space를 1.2 로주면 line height 이 1.2 가 그대로...\n",
            "2                                       앗 뭔가 했네요 ㅋㅋㅋㅋㅋㅋㅋ\n",
            "3                         긍정(신기하다, 대단하다) VS 부정(그런 거 되겠냐)\n",
            "4      font-family 이름이랑 업로드하실때 넣는 Font name이랑 매치해야되는 ...\n",
            "...                                                  ...\n",
            "29329                               간단한 백엔드 구성이 필요해보입니다.\n",
            "29330                             아니 이렇게 정성스럽게 정리해주시다니..\n",
            "29331                                             이상하게..\n",
            "29332                                        항상 응원하는 팬ㅎㅎ\n",
            "29333                                            역시 그렇군요\n",
            "\n",
            "[29334 rows x 1 columns]\n"
          ]
        }
      ]
    },
    {
      "cell_type": "code",
      "source": [
        "#soynlp tokenizer를 Pretrain 데이터로 학습\n",
        "pretrain_list = df_pretrain['text'].to_list()\n",
        "\n",
        "word_extractor = WordExtractor(min_frequency = 5)\n",
        "word_extractor.train(pretrain_list)\n",
        "word_score_table = word_extractor.extract()"
      ],
      "metadata": {
        "id": "Qs1LsIZcp-hj",
        "colab": {
          "base_uri": "https://localhost:8080/"
        },
        "outputId": "fb318226-5048-4345-c51c-225aa9753b73"
      },
      "execution_count": null,
      "outputs": [
        {
          "output_type": "stream",
          "name": "stdout",
          "text": [
            "\rtraining was done. used memory 1.435 Gb\n",
            "all cohesion probabilities was computed. # words = 26971\n",
            "all branching entropies was computed # words = 60671\n",
            "all accessor variety was computed # words = 60671\n"
          ]
        }
      ]
    },
    {
      "cell_type": "code",
      "source": [
        "print(word_score_table['picker'])"
      ],
      "metadata": {
        "id": "LnnplUtjbjk0",
        "colab": {
          "base_uri": "https://localhost:8080/"
        },
        "outputId": "53cdc3ad-0145-46d1-cc60-5e4354a4469c"
      },
      "execution_count": null,
      "outputs": [
        {
          "output_type": "stream",
          "name": "stdout",
          "text": [
            "Scores(cohesion_forward=0.4753297603722286, cohesion_backward=0.3333333333333333, left_branching_entropy=0, right_branching_entropy=1.4276786533747516, left_accessor_variety=0, right_accessor_variety=5, leftside_frequency=33, rightside_frequency=5)\n"
          ]
        }
      ]
    },
    {
      "cell_type": "code",
      "source": [
        "# 예제로 몇 가지 단어 점수 확인\n",
        "for word, score in word_score_table.items():\n",
        "    print(f\"{word}: {score.cohesion_forward:.2f}\")"
      ],
      "metadata": {
        "id": "YgSr7iXqePiV"
      },
      "execution_count": null,
      "outputs": []
    },
    {
      "cell_type": "code",
      "source": [
        "cohesion_score = {word:score.cohesion_forward for word, score in word_score_table.items()}"
      ],
      "metadata": {
        "id": "2VMmt8Y1Fai6"
      },
      "execution_count": null,
      "outputs": []
    },
    {
      "cell_type": "code",
      "source": [
        "Ltokenizer = LTokenizer(scores = cohesion_score)\n",
        "Maxtokenizer = MaxScoreTokenizer(scores = cohesion_score)"
      ],
      "metadata": {
        "id": "ZAJu2PSlEp5M"
      },
      "execution_count": null,
      "outputs": []
    },
    {
      "cell_type": "code",
      "source": [
        "sentence = '자바스크립트 개발 경험이 있으신 경우라면 DateTime Picker 엘레먼트에 ID를 부여해서 자바스크립트 코드로 date 함수와 DOM을 핸들링해서 직접 처리해서 쉽게 구현하실 수가 있을 듯 합니다.'\n",
        "\n",
        "print(Ltokenizer.tokenize(sentence))\n",
        "print(Maxtokenizer.tokenize(sentence))"
      ],
      "metadata": {
        "colab": {
          "base_uri": "https://localhost:8080/"
        },
        "id": "V6KFQ9tHFvvJ",
        "outputId": "d71dd695-787d-4dd5-ae71-ebba67e06813"
      },
      "execution_count": null,
      "outputs": [
        {
          "output_type": "stream",
          "name": "stdout",
          "text": [
            "['자바스크립트', '개발', '경험이', '있으신', '경우', '라면', 'Dat', 'eTime', 'Picker', '엘레먼트', '에', 'ID', '를', '부여해서', '자바스크립트', '코드', '로', 'dat', 'e', '함수', '와', 'DOM을', '핸들링', '해서', '직접', '처리', '해서', '쉽게', '구현', '하실', '수가', '있을', '듯', '합니다', '.']\n",
            "['자바스크립트', '개발', '경험이', '있으신', '경우', '라면', 'Dat', 'e', 'Time', 'Pic', 'ke', 'r', '엘레먼트', '에', 'ID', '를', '부여해서', '자바스크립트', '코드', '로', 'dat', 'e', '함수', '와', 'DOM을', '핸들링', '해서', '직접', '처리', '해서', '쉽게', '구현', '하실', '수가', '있을', '듯', '합니다', '.']\n"
          ]
        }
      ]
    },
    {
      "cell_type": "code",
      "source": [
        "sentence = ' 지원하는 기능이 많을수록 느립니다. BDK는 확실히 로딩속도가 느립니다.Natively는 기능이 적은 대신에 로딩속도는 조금 빠른 편이더군요. :)'\n",
        "\n",
        "print(Ltokenizer.tokenize(sentence))\n",
        "print(Maxtokenizer.tokenize(sentence))"
      ],
      "metadata": {
        "colab": {
          "base_uri": "https://localhost:8080/"
        },
        "id": "1szp_3AfJwHV",
        "outputId": "7addc63d-2181-422f-cf6a-eb78755e591b"
      },
      "execution_count": null,
      "outputs": [
        {
          "output_type": "stream",
          "name": "stdout",
          "text": [
            "['지원하는', '기능', '이', '많을수록', '느립니다.', 'BDK', '는', '확실히', '로딩속도가', '느립니다.', 'Natively는', '기능', '이', '적은', '대신에', '로딩속도', '는', '조금', '빠른', '편이', '더군요.', ':)']\n",
            "['지', '원하는', '기능', '이', '많을수록', '느립니다.', 'BDK', '는', '확실히', '로딩', '속도', '가', '느립니다.', 'Natively', '는', '기능', '이', '적은', '대신에', '로딩', '속도', '는', '조금', '빠른', '편이', '더군요.', ':)']\n"
          ]
        }
      ]
    },
    {
      "cell_type": "code",
      "source": [
        "# 높은 cohesion 점수를 가진 단어들을 선택하여 단어사전 구성\n",
        "threshold = 0.1  # 점수 기준 설정\n",
        "new_vocab = [word for word, score in word_score_table.items() if score.cohesion_forward > threshold]\n",
        "\n",
        "# 선택된 단어 출력\n",
        "print(new_vocab)"
      ],
      "metadata": {
        "id": "pzm-dfEzeUJk",
        "colab": {
          "base_uri": "https://localhost:8080/"
        },
        "outputId": "7d9930e0-d789-4235-8fb3-f449bd62ff54"
      },
      "execution_count": null,
      "outputs": [
        {
          "output_type": "stream",
          "name": "stdout",
          "text": [
            "['느낌', '계신', '치면', '모바', '탈퇴', '대해', '구글', 'is', '낫지', '숨겨', '맥북', '친구', '했는', '배워', '놓치', '네이', '저장', '화면', '큐레', 'Bu', '밖에', '멋집', '듣고', '툴을', '코드', '빨라', 'Sa', '티어', 'nu', '무엇', '항상', '던져', '다음', 'go', '쭉~', 'Li', '까먹', 'Vi', 'wi', 'Ty', '시간', '업로', '직접', '횟수', '툴이', '권한', '폼을', '컴퓨', '권장', '담아', '씨름', '중에', '아이', '컨디', '삼아', '플러', '쓸수', '줄여', '형식', '캐시', '싶습', 'yo', '추가', '저는', '북마', '위해', 'ja', 'OO', 'me', '여러', '복잡', '몰라', '현재', '즐거', '인풋', '30', '쉽지', 'El', '최소', 'Wo', '목록', '코딩', '깨닫', '캠페', '팀원', '규칙', '민호', '됐다', '클릭', '표시', '텍스', '쌓인', '40', '뒷풀', '돈을', 'ne', 'mi', '송금', '양해', '깊게', '휴지', '숨기', '증상', '광고', 'ho', 'fr', '빈값', '패스', '벌어', '겪고', '검색', '방법', '메일', '상세', '듯합', '끌고', '재은', '<-', '오픈', '깨지', '끝내', '국내', '급한', '답변', '역시', '되는', '챗G', '갠톡', '넵!', '갔다', '??', 'Ex', '실제', '—>', '즐겨', '대한', '※버', 'mo', 'La', '흠흠', '봤을', '데이', '배포', 'UR', '최근', '>=', '돌아', '낮더', '60', '버튼', '뜨는', '단위', '분들', '라고', '훨씬', '같은', '라는', '급하', '눌러', '파이', '하나', '싱크', '휴식', '효과', '호출', '/>', '올라', '쿼리', '원하', '엑셀', '구현', '앞으', '배치', '길어', '뭘로', '양식', '쌓이', '반응', '불가', '맛점', '글을', '언제', '약간', '파악', '띄울', '월별', '끝나', '길게', '짧게', '빠르', '쪽으', 'ur', '굉장', '제가', '드롭', '8월', '두개', '옆에', '더하', '쪽지', '갑니', '절약', '히든', '편리', '별로', '관련', '추천', 're', '빨리', '있습', '괄호', '앱으', '00', '핫픽', '틈틈', '돌려', '요소', '최대', 'on', '즉,', 'Cu', 'Lo', '민교', '기능', '거기', '축하', '뒤에', '입력', '폴더', '<<', '조건', '애초', '케이', '살짝', '익스', '떠올', '엔진', 'Ze', '출력', '설명', '더욱', '출시', '툴로', '늦어', '착각', '뿌리', '적어', '번역', '언급', '퇴사', '래핑', '손쉽', '실행', 'op', '해야', '탐색', '좌우', '취지', '비밀', '센터', '랩핑', '머리', '마케', '예를', '깨달', '현상', '환영', '살펴', '개발', 'te', '취미', '플로', '압축', '로그', 'gr', '호스', '볼수', '번거', '압니', '충분', '폭에', '7시', '못하', '향후', '짐작', '쓰는', '혁신', 'wo', '몇개', '식당', '->', '소개', '받는', '흠.', '같아', '주소', '싸인', '들어', '놀러', '될까', '진행', '형태', '에서', '좌측', '캡쳐', 'bo', '밀려', '찾아', '빈칸', '떠서', '계정', '+1', '종종', '뜨면', '환불', '밑에', '크게', '봅니', '같이', '음.', '높은', '사이', '삼성', '힌트', 'JS', '돈이', '만들', '붙여', '묶으', '또는', '간단', '키워', '늘어', '깔끔', '원래', '겹치', '지정', '쇼케', '반영', '하고', '로딩', '신청', '세부', '웨이', '써야', '탬플', '빡세', '행사', '민감', '섹션', '값을', 'co', '절차', '똑같', '썼었', '_x', '맨땅', '옵션', '덕분', '얘기', '편집', '뜨게', '풀리', '였습', '용도', '응답', 'wh', 'AP', '내용', '백엔', '으로', '줄이', '빼서', '돼요', '우리', '브랜', 'or', '넣어', '초기', '결국', '질문', '완성', '캐치', '쉽고', '힘들', 'st', 'MV', '파일', '늦게', '은행', '띄워', '뿌듯', '겪었', '됐을', '뒷단', '간편', '끌어', '갈아', '//', '껐다', 'xx', '제작', '금방', '넵넵', '칼럼', '달아', '재미', '급여', '엄청', '벗어', '폴리', '깜짝', '생각', '며칠', '키트', 'Fl', '금융', '돼있', '상태', '부탁', '이미', '죄송', 'em', '프론', '즉시', '남깁', '해보', '곳이', '망설', '날짜', '메인', '0p', '서비', '밸류', '가능', '접근', '동일', '쉬운', '챙겨', '좀더', '누구', '와디', 'fi', '옆의', '차트', '습득', '톡방', '잠시', '낭비', '꺽쇠', '어떤', '먹을', 'UT', '여기', '폭이', '향상', '웬만', '회사', 'Op', '존재', '영상', '외주', '큽니', 'On', '받으', '쌓아', '도와', '삶의', '칼퇴', '컬러', '계속', '라이', '사용', 'NH', '닭가', '낮아', 'Te', '챗지', '득표', '능력', '비용', '철거', '목적', '함수', 'ap', '않을', '반복', 'Ba', '거라', '표현', '랜딩', '발생', '될거', '그래', '푸쉬', '법인', '설정', '짚어', '동작', '셋팅', '왜이', '넘어', '흐름', '놓은', '일반', '집계', '닉네', '뿌려', 'db', '자세', '퍼스', '허가', '켜고', 'He', '탭의', '2.', '50', '비슷', '홍보', '쓰시', '존경', '영역', '고민', '편하', '받을', 'CS', '액세', '셀에', '1.', '수정', '종합', '읽고', 'ㅋㅋ', '중요', '매우', 'Da', '레이', '거에', '옮겨', '없어', '뜨고', '긁어', '삭제', '푸시', '잡아', 'us', '책임', '끝까', '늦은', '드리', '맛있', 'pr', '[h', '혹시', '러닝', '항목', 'GA', '왔는', '과일', '썼습', '탭에', '메시', '자체', '결과', '트래', '줄어', '골프', '딱딱', '슬랙', '?♀', 'in', '종류', '멘토', '임시', '튜토', '줘야', '천천', '작성', '산업', '포럼', '종료', '참여', '적용', '용준', '정도', '진짜', '카카', '오늘', '방식', '찌꺼', '9월', '역할', '작동', 'ㄷㄷ', '읽음', '불러', '**', 'Se', '솔라', '변경', '언어', '잘못', '난감', 'ht', '팀은', '송구', '뿐이', '둘러', '한글', '썼던', '옛날', '명확', '심사', '장소', '뜻이', '볼게', '될것', '해당', '패키', '물론', '맡겨', '무료', '얼마', ',,', '스타', '등을', '쪼개', '듯하', '피그', '받아', '확인', '뜻입', 'ty', '것은', '테스', '8시', '흥미', '책을', '말씀', '붙이', '까지', '곤란', 'Us', ')버', '80', '/*', '우선', '듭니', '몇가', 'so', '빌드', '쓸만', '의견', 'Ev', '했습', '꼼수', '템플', '품질', '채용', '화이', '담는', '론칭', '멤버', '웨비', 'ye', '멋있', '바꾸', '물어', '섬세', '혁명', 'Ja', 'x0', '거의', '높아', '번째', '밑으', '도메', 'by', '음…', 'Q&', '주시', 'Za', '갖고', '규모', '색깔', '의미', '왔을', '메뉴', '없는', '바로', '글자', '근무', '목표', '글이', '소스', '견적', '머신', '입문', '활성', '옮기', '4.', '뭔지', '접속', '삽질', '짧은', '때문', '법을', '몰랐', '되었', '저희', '딥러', '먹고', '맡기', '!i', '혼자', '골라', '팔로', '할지', '90', '알아', '인증', '막히', '응원', '허용', '제공', '런던', '괜찮', '올리', '힘드', '빌더', '린카', '리스', '삶에', '핸드', 'We', '승인', '속성', '열심', '뒷부', '박스', '강의', '회원', 'Pr', '앞에', '용어', '맛집', '압박', '컨테', '역량', '짜는', '활동', '극초', '긍정', '뒤로', '담고', 'Va', '봤는', '링크', '두고', '루트', '겪는', '3.', 'se', '외부', '단순', 'vi', '본격', '컬럼', '눈높', '{t', '손을', 'Fo', '완료', '돕는', '찬우', '겨우', '척도', '루틴', '궁금', '9/', '에러', '예정', '학습', '퀴즈', '프리', '눈에', 'zo', '터치', 'da', '치고', '싱커', '습관', '재밌', '유튜', '엘리', '값이', '관리', '보여', '낫다', '막혀', '순간', '댓글', 'Na', '겪으', '뭐라', '쇼핑', '우측', '빨간', '얻어', '둘다', '쉬워', '심리', '영어', '정보', '점이', 'de', '에이', 'li', '본인', '쿠키', '요청', '히로', '샘플', '막막', '안되', '쓰면', '!!', '절대', '챌린', '임의', '두번', '않습', '증가', '!=', '좋은', '놀랐', '자동', 'ㅎㅎ', '복붙', '썸네', '꾸준', 'ID', '업데', 'ㅜㅜ', '쉽게', 'GP', ':)', '휘발', '셋째', '신경', '}e', '하는', '생성', 'za', '높이', 'va', '약관', '꼬이', '퇴근', '안녕', 'to', '쌍방', '콘텐', '뎁스', '리피', 'No', '남겨', '당신', '누르', '씁니', '찍어', '퍼지', '좋겠', '갯수', '끄적', '잡고', '캘린', '스크', '훌륭', '녹화', '퀄리', '꿀팁', '^^', '마음', '처리', 'ㅇㅇ', '봤습', '집어', '당연', '밀리', '6개', '처음', 'hi', '알림', 'N잡', '싶어', '선택', '할까', '핵심', '정말', '중복', '엘레', '필터', '멋진', '낮은', 'up', '뭔가', '고수', '갈수', '배우', '어떻', '없이', '획득', 'xa', '케바', '명상', '피드', '한다', '테이', '채팅', '담당', '커뮤', '겹쳐', '퍼블', '봐야', 'Ke', '셀프', '픽셀', '계실', '해결', '듣기', '성분', '느려', '됐네', '치환', '카운', '은근', '맞게', '좋을', '지금', '변환', 'la', '깊이', '알려', '토큰', '커스', '솔직', '맥락', '20', '드립', '“B', '푸터', '됩니', '많이', '5.', '솔루', '건지', '번에', '콘솔', '전체', '실개', '혜택', '작업', '풀어', '측면', '잠재', '갖추', '판단', '뿐만', 'Fi', '뉴욕', '뽑아', '알고', '근데', 'he', '학생', '측정', '잠깐', '걱정', '잇는', '%로', '얻고', '운영', 'do', '첫행', '행동', '3개', '세팅', '꿈꾸', '넣으', '판매', '앗.', 'ka', '왈라', '버블', '겁니', '만드', '응용', '욕심', '뜨네', '10', '헤더', '친절', '셋의', '심플', '와.', '희망', ')-', '놓고', '미리', '액션', '루프', 'cu', '엔드', '낫습', '봐도', '따라', '폰트', '먼저', '색을', '지원', '경우', '먹히', '난이', '뚝딱', 'lo', '멈추', '합니', '고객', '텐데', '요금', '왜냐', '건가', '쉬울', '컴포', '돼서', '얻을', '꺼져', '갖춰', '엔지', '곳에', '도움', '페이', '협의', 'In', '업무', '#2', '많은', '관심', '섞어', '결제', '웹사', '숙소', '윈도', '띄어', '덮어', '꼼꼼', '매칭', '<s', '듯한', '브라', '맞는', '카톡', '집중', '준비', '쾌적', '흰색', '됐습', 'QR', '녹음', '믹스', '체크', 'of', '깃허', '동영', '후에', '잘하', '맵이', '필요', '귀찮', '문의', '안에', '평일', 'ev', '태그', '절반', 'UI', '상품', '후기', '프로', '담은', '얹어', '특히', '것을', '깜빡', 'no', '축구', 'Co', '칸에', '살아', 'DB', 'Re', '만든', '뛰어', '차이', 'el', '시작', '홈페', '연동', '걸로', '헷갈', '위치', '익숙', '네네', 'ro', '달리', '뉴스', '등의', '팝업', '경험', '휴대', '상황', '조금', '써보', '픽처', '폭을', '느리', '헐.', '부분', '달라', '})', '히스', '왼쪽', '돌리', '느껴', '측에', '별도', '읽어', '서버', '않아', '캔버', '블로', '희철', '때,', '행복', '갑자', '된다', '염두', '취소', '노코', '줍니', 'Fr', '굳이', '니즈', '통해', '평소', '여쭤', '잡히', '입니', '쓰고', '벌써', '겪어', '핸들', '팀에', '트리', '일단', '투자', '베타', 'Wh', 'Go', '꺼내', '랭킹', '협업', '랜덤', '맘에', '뜯어', '납니', '따로', 'pa', '한번', '앱에', '애플', '순서', '금액', 'Yo', 'Ed', '나오', '같습', '워크', '눌렀', '연결', '모두', '공유', '놀라', '아래', '줘서', '띄우', '계시', '볼때', '포함', 'Ye', '왠만', '늦었', '걸리', '음료', '뜹니', '뭐가', '쌓는', '파라', '열어', '앞서', 'Ka', '성장', '범위', '오류', '크기', '예약', '빌딩', '와우', '픽스', '암튼', '다른', '떨어', '뭘까', 'Ma', 'js', '런칭', '튕겨', '넓은', '올려', '컨텐', 'ke', '보이', '멀티', '창업', '유저', '다시', '첨부', '빼고', 'VO', '저도', '위에', '건데', '공부', '채널', '교육', '걸까', '펀딩', '뉴비', '님의', '>>', '퍼포', '박재', '~~', '빈공', '점점', '딱히', ';;', '움직', '독학', '믿고', '묶여', '독립', 'fo', 'th', '티저', '묶어', '슬라', '익히', '필드', '탄생', '에디', '병준', '성공', 'Ta', '증명', '양이', '못했', '챗봇', '본문', '점수', '모든', '봐주', '엔터', '빠른', '패킹', '청구', '룰에', 'Zo', '*/', '면에', 'ch', 'BD', '각각', '완전', '매번', '..', '마지', '팁이', '퍼센', 'Th', 'Pa', '길이', '환경', '압도', '왔다', '난수', '씨그', '외에', '크롬', '산출', '너무', '효율', '조언', '멋지', '넣고', '7월', 'IT', '문제', 'ex', '샌드', '것도', '후,', '초보', '머릿', '><', '<b', '온라', 'Wa', '참고', '쓴다', '당장', '되어', 'na', 'Xc', '떠오', '용량', '모르', '있는', '블록', '속도', '베스', '즐겁', '함께', '센서', '했을', '있을', '셀의', '보내', '넵.', '멋져', 'ㅠㅠ', '발송', 'ba', '당근', '활용', 'Gr', '월요', '세상', '앱을', '허들', '첫번', 'an', '또한', '최적', '패턴', '꿈을', '=>', '9시', '끊기', '객체', '디자', '아니', '왕초', '삽입', '복사', '센드', '걸어', '심지', '토스', '까다', '0)', '것이', '써서', '그룹', '게시', '단계', '등록', '숫자', '암호', '녀석', '{d', '[/', 'qu', '왠지', '타입', '베이', '특정', '임포', 'RG', '왔습', '애널', '스테', '새로', 'un', '건드', '딜레', 'ma', '과정', '와이', '논의', '쪽에', 'HT', '평가', '위한', '늘려', 'bu', '식으', '힘이', '감사', '번호', 'QA', '장점', '싶은', '고정', '경우의', '어차피', '단어의', '아니면', '배우시', '느려집', '못하시', '뜻입니', '감사하', '날카롭', '전달해', '생각합', '쉽습니', '되나요', 'Gat', '재설정', '알람이', 'eve', '포함시', '고객이', '나와야', '(제가', '살펴볼', '트래픽', '입문하', ':it', '팝업으', ':fi', '나오네', '배포할', '값들을', '응답을', '맞춰나', '풀어주', '참고하', '옵션으', 'Lan', '괜찮아', '적어줍', '싶습니', '스크린', '작업이', '표현식', '작동되', '같네요', '까지는', '파일을', 'mar', '준비했', '(1)', '요소가', '채널에', 'Sho', '놓치고', '번역기', '4자리', '축하드', '강의는', '소개드', 'mis', '위치를', 'Pre', 'you', '기억이', 'Red', '올라왔', '직장인', '속도가', '버튼이', '따라하', '타임라', '좋겠습', '힘들다', 'Air', 'eac', ':pl', '유지보', 'sec', '강의라', 'Zer', '커넥터', '샌드그', '들어왔', '발생한', '잘되어', '재방문', '재은님', '할텐데', '그룹에', 'Mat', '처음으', '게시물', '열어보', '변경되', '50만', '와우~', '신경을', 'ㅠㅠ?', '특수한', '헷갈리', '크롬에', '최저가', '언어는', '휴대폰', '눌러도', '세상을', '유저를', 'Tos', '없으니', '받아들', '세팅에', '동영상', '팝업창', '놓고,', '될거예', '기능은', '생각을', '직접적', '애플리', '용준님', '만드셔', '뜨는데', 'Gro', '당장에', '써보지', '측면에', '이해하', '600', '노베이', 'rul', '운영중', '좋을까', '형태가', '신경쓰', 'liv', '힘들었', '불러온', '나머지', 'lik', '최대한', '확실하', '스케일', '회사의', '조정해', '영역의', '프레임', 'lea', '첨부합', '건드려', 'iOS', '아니라', '좋네요', '챗GP', '계시면', '조언주', '수동으', '했어요', '문제점', '대단하', '블로그', '콘텐츠', '작업중', '특별한', '카드로', '항목들', '잘하시', '댓글이', '못하네', '항목으', '차단하', '연결해', '각각을', '일어나', '어려울', '못하고', '메시지', '포트폴', '광고로', '경우,', '체크가', '올리려', '확인했', '^^;', '지금까', '찾아내', '채팅방', 'goo', '계신다', '봐주셔', '요소들', '들어와', '높이면', 'loa', '설정이', '창업하', '화요일', 'Dyn', '창업자', '완료했', 'Pop', '못하겠', 'DB와', 'pre', 'els', '로우코', '금요일', 'REP', '무엇보', '웹빌더', '과정의', '드립니', '+1이', '네비게', '엔터치', '날아가', '라이브', '재린님', '웹타이', '학생들', '관련이', '포함하', 'rep', 'Bub', '앞두고', '목록이', 'Jav', '세팅하', '얘기하', '구축하', '고객들', '로딩하', 'ali', '질문은', '너무나', '분류하', 'cod', 'Hid', '어디에', '누르면', '배경색', '기존에', '필요해', 'Cre', '런칭하', '막아두', '추가합', 'las', '동남아', '옵션을', '도움드', '될겁니', '큐레이', '있으면', 'Mar', '스타트', '구성되', '돌아오', '고도화', '피그마', 'day', '설정되', '없습니', '플랜을', '팔로우', '업로더', '양질의', '희망을', '싶었는', '준비중', '작업해', '저희가', '멋지십', '봤습니', '단수형', '조금만', '실행력', '에이전', '동기부', 'INS', '체크한', '처리하', '종류는', '물어보', '되었는', '소스가', '공유드', '표현되', '논의가', '항목이', '받아올', '질의응', '작업할', '듯하고', '키값을', '복사해', 'Clo', '않았습', '싶다는', '나타나', '크기도', '요즘은', '글이네', '표현을', '있다면', '찾으면', '분들의', '아시는', '넣어야', '순서는', '만들어', 'ema', '생각입', '줄이기', '(2)', '통화기', '질문입', '사용한', '코린이', '출시한', '두어서', '달라질', '조회하', '의미입', '엘리멘', '영어를', '하지만', 'pay', '4가지', 'glo', '몰랐던', '자유도', '쓰는데', 'loc', 'ded', 'bet', '배치가', '등록되', '발급받', '간편결', 'cur', 'res', '해보고', '토스는', '옵션은', '3시간', '상태에', 'ran', '비지도', '무료로', '끌어와', '찾으셨', '적절할', '다이나', 'id가', '받는다', 'fou', '멤버들', '불가합', 'vie', '선택하', 'SNS', '-50', '왼쪽이', '움직여', '좋아요', '세상이', 'Gma', '보세요', '명확하', '토대로', '개발을', '너비를', '보여지', '삭제해', '예약하', 'ㅠ_ㅠ', '비개발', '디자이', '학습자', '저장하', '써야할', '검토해', '의미인', '버블은', '배치하', '늦었습', '사용해', '무언가', '전반적', '상품을', '[s]', '라이센', '언제나', '등록했', '방식을', '아임웹', '문의드', 'DNS', '컨텐츠', '선택한', '심리테', '생각하', '경우는', '부분도', '수행하', '붙잡고', 'Gre', '가운데', '번째는', '해봐야', '커리큘', '맞는데', '영상은', '읽었습', 'suc', '[도움', '상황을', 'IOS', '임의의', 'Aut', 'rel', '해보겠', '불러오', '며칠전', '번거롭', '출력해', 'PM이', '레거시', '채용하', '느낌은', '단순히', '버튼을', '핸들링', '동일한', '음료의', '싶으면', '개발중', '프론트', '일반적', '것입니', '도와주', '없어서', '답변드', '작성했', '첨부한', '작동하', '건강하', '좋을것', '걸려있', '삭제하', 'hid', '질문글', '떨어져', 'Whe', '영은님', '창의적', '뜯어보', '접근이', '별도의', '없을까', '로직을', '최종적', '타입을', '연동이', '만들려', '수정할', '안되더', '얘기는', '분들에', '뿌리는', '클라우', 'Nat', '모임을', '디폴트', 'UI/', '유저들', '배치해', '입력이', '개념이', '드릴게', 'mor', '언어로', 'tra', '써보신', '디스플', '목표로', '한다는', '않았던', '세이브', '조건을', '재밌게', '캘린더', 'imp', 'bas', '싶어요', '요청을', '뭘까요', 'Thi', '걸어서', '생성한', '뭔가요', '풀스택', '형태로', '컨테이', '충분한', '50%', '움직이', '돌아갈', '[사요', 'gpt', '남겨봅', '좌우로', 'Wai', '면에서', '혼자서', '중이라', '변경하', '애플로', '올려볼', '영상으', '대댓글', '동작이', '카테고', '때문이', '카메라', '실행되', '못했어', '활용했', '맞을까', '강의를', '속도나', '프롬프', '전문가', '연결된', '소스코', 'CSS', '돌리는', '나누는', '회사를', '드려도', '편합니', '없다면', '플레이', '못찾아', '최적의', '매칭되', '발송[', '받아야', '슬랙으', '변수로', '모더레', \"색깔'\", '헷갈렸', '+10', '페이지', '본격적', '돌리면', '주소창', '캠페인', 'Get', '읽어주', '혁신적', 'rea', '말이죠', 'com', '고정하', '듣기만', 'fre', '헤더와', '목적으', '올려야', '[h1', '정상적', 'Dis', '특강을', 'tes', 'Flo', '누르셔', '운영진', '두개의', '나와서', 'ins', '소프트', '자체는', 'fra', '기능이', '인풋에', '얼마전', '답변을', '제공되', '왼쪽에', '연결하', '작동시', '칼퇴교', '순서대', '브라우', '접속하', 'DB로', 'doc', '알리고', '언젠가', '성수기', '뒤에서', '배운다', '없네요', '길어지', 'box', '반응이', '플로팅', 'Tas', '와중에', '위치로', '화면의', '자료가', '드리고', '설정합', '없으면', '<st', '응답이', '툴이라', 'Fil', '찬우님', '박재은', '-_-', '필요합', '완료된', '생각에', '구현하', '돌아왔', 'GTM', '사용했', '템플릿', '숨기고', '조언을', '답변에', '점수를', '로그인', '발견하', '호출해', '클릭해', '바라겠', '물론,', '일종의', '(ex', '언제든', '어렵습', '호스팅', '브랜드', '스프레', '갑자기', '내에서', '아래와', '넘기는', '수준이', '설정하', '편집기', '간편하', '남깁니', '뭐라고', 'Ima', 'now', '취지에', 'UI가', '배웠습', '변경해', '했지만', '복잡한', '저장한', '종속되', '어려워', '의미합', 'uri', '웨이브', '순서를', '불편하', '몰랐네', '파악하', '떠오르', '드롭박', '넘버로', '화면이', '빠르게', 'cal', '말씀해', '해상도', '모르겠', '여쭈어', '쉽지않', '취급하', '그렇게', '폰트가', '소프터', '특히,', '<br', '액셀러', 'Pag', '맞추는', '특별히', '비용은', 'Ins', '문형님', '복사하', 'act', '적극적', '3개월', '줄이고', '등록할', '바꾸면', '가지고', '[h2', '로딩속', '누르시', '없다고', '표시할', '응원합', '필요가', '위해서', '회사들', '되는거', '해봤는', '막히면', '상당히', '외주로', '쓰다가', '해주는', '설명해', '토스페', 'ste', '글에서', '엄두가', '판매자', '권한이', '몇가지', '링크:', '코딩없', 'bdk', '비밀번', '손상된', '띄어쓰', '코드가', '\"un', '받아가', '지금은', 'jav', '200', '두가지', '몰랐습', ':)이', '생각도', '오랜만', '일단은', '높습니', 'Bac', '입력된', '시작해', '발생합', '친구들', '앱만들', '!!!', '00:', '공간에', '확장하', '트래킹', 'Mul', 'ini', '했을때', 'dev', 'raw', '수집하', '만드는', '클론코', '각각의', '비즈니', '판매기', 'ext', '구현을', '화이팅', 'ret', '자바스', '거기에', '03:', '등등)', '세팅은', '웹훅으', '심지어', '채용공', '300', '소정님', '화이트', '바탕으', '출력하', 'opt', '퍼스널', '태블릿', '여쭤봤', '특정페', 'ope', '포럼에', '많아서', 'slu', '디지털', '반응을', 'Not', '스토어', '들어간', '북마크', '찾아봤', '최선이', 'geo', '파악이', '매뉴얼', '케바케', '네이버', '붙이기', '배포한', '넘어갑', 'fit', '도움이', '디스콰', '건승을', '통해서', '강의가', '슬라이', '등에서', '첨부드', '불편한', '타이머', '설정했', '한다고', 'DB의', '(20', '제공해', 'GA4', '죄송해', '실시간', '한다.', 'Fra', '일주일', '010', 'Ope', '되겠네', '상황이', '배포가', '관련하', '구조로', '기능에', '상태로', '코딩을', 'pat', 'the', '응용하', '상대방', '토요일', '표현해', '할수있', '늘어날', '몇으로', '강의로', '적용될', '솔직히', '볼게요', '순차적', 'cli', '많네요', '오늘은', '방명록', '400', '감사해', 'exp', '타입에', '연결이', '디비가', '될거같', '문제들', '진행시', '창으로', '윈도우', '형식으', '태그를', '할지,', '수정해', '동시에', 'DB를', '필드에', '엔트리', 'api', '댓글,', '엘레멘', '남아있', '세미나', 'pwa', '카드를', 'And', '감사드', '느꼈습', '마스터', '같은데', '중심으', 'sig', '두개가', '좋을지', '회사에', 'BUB', 'Row', '브릿지', '프라이', '인스타', '결과는', '죄송하', 'CRM', '등으로', '올라와', '겪으셨', '메뉴에', 'pro', '강의들', '24시', '소문자', '권한에', '액세스', '재밌어', '리스트', '숨어있', '삽입하', 'url', '포함한', '클릭할', '댓글에', '되어있', '옵션의', '찾아본', '맞춰서', '막히는', '추가한', '편입니', '입니다', 'and', '채널과', 'id를', '불러올', '래핑하', '런칭을', '식입니', '매끄럽', '희철님', '웹에서', '외국인', 'dow', '경험하', '대표적', '관리를', 'mak', '유저의', '온라인', '저희는', '빌드하', 'gta', '표시될', '들어오', '거라서', '내부적', '당신이', '공유할', 'Upl', '넣었는', '나옵니', '웹브라', '중복된', '유저가', '영상에', '요소에', '것이다', '했다면', '압축율', '비용이', 'Lea', '받아보', '써야하', '그런데', '못하는', '3.3', '문의를', '이런식', '화면으', '결제를', '하시고', '홈화면', '정렬이', '느끼고', '부탁드', '못드리', 'BB코', '사진과', '추가하', '\"전체', '희망하', '스스로', '현재로', '출시가', '두번째', '되고요', '언어,', '프로덕', '드롭바', 'am으', '중이었', 'zap', '스트림', '결제시', '챗지피', '느리다', '선생님', '입력한', '행사를', '느낌이', '작성할', '비용을', '관리가', '높아지', '처리할', '활용할', '조정하', '듭니다', '엑셀에', '진심으', '남겨주', '나타납', 'ㅋㅋㅋ', '결제하', '잠시만', '목록을', '끌어오', 'ord', 'mvp', '사이드', '시작할', '목록형', '준호님', '받으실', '의견을', '느려지', '스테이', '서버를', 'Fit', '들어서', '30개', ')버전', '심플하', 'Tex', '웹서버', '깃허브', '링크입', '신청을', '연결할', '실력이', 'OOO', '첫번째', '것이고', '아닌가', '스타일', '성공적', '타입의', '사용할', '작성된', '베이스', '로직이', '가능합', '해당하', 'b3를', '포기할', '한데,', '전체를', '마무리', '박스에', '웹서비', '마음으', 'aut', '효율적', '성격이', 'Sec', '변화하', '진행중', '측에서', 'SDK', '찾아주', '제작한', '운영을', '사람이', 'Reu', '확장성', '애매하', 'rou', '습관은', '못합니', '표현이', '뒷풀이', '무엇이', 'new', '계실까', '적응하', '검색을', '하려고', '질문의', '단어를', '권장하', '업그레', '빌드캠', 'DB에', '이용하', '돌아가', '가능할', 'Res', '높이가', '작업한', '나오게', '만들면', '어드민', '옵션셋', 'Pla', '관리인', '질문과', '표시하', '외부에', '말씀주', '옵션이', 'bor', '초점을', '히든필', '링크가', '반복이', '넣어도', '제대로', '레퍼런', '어디서', '올립니', 'Exp', '방법을', 'wit', '해치하', '최근에', '꾸준히', '웹/앱', '한가지', '공부중', 'Del', '메이커', '인프런', '시작했', '...', '고민하', '새벽에', '못했습', '토스에', '앱에서', '부족한', 'Tim', '달력에', '썼습니', '싶은데', '바꾸고', '압도적', '오픈그', '답변감', '방식은', '초기화', 'Cho', '설치해', '우편번', '입력값', '떨어지', '정리해', '개발은', '연동했', '비슷하', '안됩니', '깨달은', '불편해', '패키징', '설정한', '실제로', '필터에', '메뉴얼', 'inv', '세로폭', 'rg#', '다음에', '경우도', '정도의', '해결되', '플러터', '띄우기', 'can', '프리뷰', 'Fig', '당근마', 'cel', '오픈하', '투자를', '점들이', '출력된', 'pos', '항목에', '클릭한', '?♀?', '효율을', '언어에', '라디오', '찾아보', '마우스', '하겠습', '써봐야', '화면은', '몇개의', '간격이', '매니저', '수강생', '우선은', '깔끔한', '진행됩', '앱개발', '처음인', '넣어주', '즐거운', '경우가', '막히네', '검색할', 'ele', '버블로', 'sea', '엄청난', '없다는', 'Hma', '되는건', '요청하', '활용해', '쉽지가', '미리보', '충분히', '뉴스레', '저장이', '누군가', '추가적', '부분들', '된다.', '알고있', '적절히', '보여주', '작업에', 'aws', 'Pro', '효율이', '패턴을', '열었을', '관리자', '간단한', '엘레먼', '원활하', '것인데', 'whe', '받아서', '변수를', '화살표', 'ㅎㅎ;', '대상으', '예외처', '불가하', '1,2', 'N잡러', '사람들', '예를들', 'rec', '하더라', '맞나요', '메인으', '느껴지', '재밌는', '될거에', '고민해', '강제로', '때문인', '익스프', 'UTM', '접근을', '싶다면', 'int', 'Env', '쓰려고', '있는데', '접속할', '않을까', '말씀처', '검색결', '생성하', 'fir', '3인-', '숫자로', '출력이', 'nex', '잠재고', 'emp', '초기에', '스마트', '!==', '결과값', '광고물', '실수로', '박스로', '안되면', '유저는', '파일이', '배우면', '활동을', '구현할', 'w=1', '서치포', '노하우', '그래도', '잘못하', '퍼블리', '드리면', '임포트', '숨겨진', '해보시', '결과를', '또한,', '팝업을', '외에도', '링크드', '했구요', '인풋박', '걱정하', '라운드', '거라면', '떠올랐', '보겠습', '인프라', 'Web', '배포했', 'csv', '내부에', '바꾸려', '상으로', '씁니다', '인증을', '곳에서', '도저히', 'per', '업로드', 'how', '세부적', '투자자', '거라고', 'BDK', '액션이', '맞추어', '알림을', '발송이', '진행했', '머신러', '자신이', '차근차', '찾아봐', '수월하', '대기업', '그렇군', '많은데', '간략하', '행사가', '더이상', '원인이', '생각했', '조건에', '질문드', '깔끔하', '규모의', '넘겨주', '했더니', '힘드네', '시작하', '체크하', 'fie', '과정이', '\"카드', '그리고', '성능이', '코드에', '소스에', '알려줄', '집어넣', '파악해', '범위에', '내용들', '영역을', '비슷한', '찾았습', '앱결제', '코드를', '체계적', '포트원', 'nor', '올라오', '줄어드', '적용해', '표시가', '변경을', 'tex', '성장하', 'UX상', 'iss', 'too', '트리거', '못하게', '초기값', 'Sto', '마음에', '겹치는', '학생입', '이야기', '읽어오', '애매한', '용량을', '해결이', 'Scr', '사이트', '이메일', 'IT업', '링크는', '한국어', '올리도', ':)혹', '관계형', '클래스', 'nul', '튜토리', '채널톡', '컨설팅', '용량이', '검색하', '간격으', '전까지', '달라지', '매물을', 'pic', '웨어러', 'sel', '연동을', '탭으로', '서버에', '반드시', '애초에', '콘솔에', '실현하', '캡쳐하', '동적으', '포지션', '현재시', '낮더라', 'plu', '봐야하', 'mai', 'mer', '따라해', '요기서', '누를때', '없는데', 'Cur', '빌딩과', '답답하', '바로가', '후에는', '굉장히', '배포를', '방식입', '파이썬', '클릭시', '적용을', '팀에서', '옵션들', '적합하', '안보여', '반영이', '+.+', '훌륭한', '장바구', '앱패키', '톡방에', '질문있', '구체적', '간격을', '요소의', '몰라도', '주시면', '애니메', '들어갑', 'Pic', '진행하', '커스텀', '당장은', '입력폼', '뒤져보', '자체에', '주소를', '예약일', '문의하', 'pag', '올리겠', '배워나', '비활성', '열리는', '상태입', '영역이', '빠르지', '큽니다', '390', '접근해', '\"ye', '확인한', '국내에', '말하는', '주기적', '실행할', '완성하', 'URL', '소개해', '제공하', '버블을', '삭제된', '인지하', '맞는지', '애드센', '한계가', '반복을', 'ima', '5개의', '부분만', 'Fir', '노출시', '재피어', 'inf', '한번에', '1시간', '불러왔', '클럽원', 'Fix', '출시해', '타입도', '컴퓨터', 'ㅋㅋ;', '2개의', 'gen', '하네요', 'FTP', '\"no', '플로우', '빠르고', '추가할', '성공했', '제공합', 'id로', '안녕하', '불가능', '방식으', '혹시나', 'CRU', '학습에', 'min', '스티비', '마케팅', '실행해', '느낌을', '문제가', '붙이는', '개인적', '올려주', '썼었습', '계산해', 'Hea', '성장을', '개발이', 'Goo', '월요일', '차원에', '알아야', 'Spa', '넘어갈', '편리하', '제작했', 'cre', '관심있', '넣습니', '레이어', '해결했', '위치에', '넣고,', '나오면', '메뉴바', '항목을', '느낌입', '신경써', '걸리고', '질문들', '접속해', 'gro', '적절한', '완성도', 'SQL', '히로인', '상세페', '팝업의', '테두리', '삭제한', 'Att', '찾아야', '암호화', '확인이', '소개합', '현상을', '후기를', '맞다면', 'B에게', 'GNB', '연결되', '않는다', 'URI', '안되고', '알겠습', 'Per', '보내는', '올라온', '!im', 'ver', '20일', '당신의', 'fon', '올리시', '작성하', '인터페', '향상시', '능력이', '안되는', '입력해', 'Rea', 'are', '뒤로가', '영광입', '돌려보', 'mem', '동일하', '본인이', '노가다', '퍼센테', '시간이', '목적에', '얻어가', 'Tab', '12월', ':)버', '발생해', '아닙니', 'UX가', '되겠습', '처음이', '생성합', '폴리미', '분들을', '체크해', '끝으로', '않습니', '추천드', '쪼개서', '-일시', '두었습', '종료일', '메세지', 'GET', 'Sch', '좋을거', '뒷부분', '겪어보', '익숙해', 'cou', '스케줄', 'HTM', 'Zoo', '변환되', '실행하', '장점은', 'Dro', '규칙이', '적용할', '흠..', '찾으시', '시도해', '토큰은', '합리적', '더블클', '리유저', '랜딩페', '반대로', '최상단', '심리검', '왕초보', '걸리긴', 'vis', '값들이', '백엔드', '다음과', '만드시', '받으시', '베타테', '※버블', '[/f', '너무너', '행복한', '좌측에', '관련한', '연결시', '요소로', '식당에', '반복작', '달아놓', '우측에', 'emb', 'nam', '놀랐습', '360', '접한지', '업무내', '준비하', '민호님', '접근하', '고정된', '리액트', 'css', '과정을', '넣는다', '장소명', '정보를', '참여해', '바꾸시', '다운로', '실개발', '타입이', '내림차', '소비되', '양식이', '오마이', '방법입', '많아지', '영어로', '쇼케이', '4개의', '발생하', '받아오', '히스토', '나누어', '오히려', '답변이', '구글에', '방법으', '작성한', '형준님', '컬럼을', '건데요', '올리게', '선배님', '들어갈', '영향을', '잘되네', '크기에', '앱패킹', '신청하', '겪었던', '넣으신', '번호를', '지정하', '것보다', '게다가', '표현할', '[버블', '형태의', '베스트', 'nhn', '복잡하', '첨부해', '명령어', '분들이', '조심스', 'Cha', '진행한', '숫자값', '머릿속', '고려해', 'fro', '잘하는', '설명하', '바꾸는', '시행착', '상황입', '교육프', '파라미', '가져올', '채팅을', '싱커톤', '답답한', '속성이', '아무리', '다행이', '헤더에', '니즈가', '분석하', '두시면', '202', '세상에', '참여할', '속도도', '중요한', '되더라', '지원하', '접속한', 'Sou', 'by에', '그룹의', 'Mak', '메뉴가', '특성상', 'Fie', '실행시', '요금제', '생성되', 'Cal', '죄송합', '시작한', '합쳐서', '옵션에', '미드저', '23:', '넘어가', '공유하', '알아서', '찾아볼', 'Lay', '견적을', '아이디', '서버가', '등록이', 'Edi', '포함되', 'dis', '분들은', '배포하', 'bod', '눌렀을', '헐..', '단계별', '그룹을', '내용에', '“B유', '매칭이', 'Fon', '놓으면', 'New', '들었는', '비디오', '웹으로', 'GPT', '이유가', '파일의', '몰랐는', '타입은', '스터디', '올리면', '거꾸로', '온보딩', '역할을', '태그들', '아래에', '눌러보', '준비가', '신중하', 'SEO', '전화번', '우리는', '회원들', '일치하', '어려운', '프레이', '있으신', '들어보', '담겨있', '링크만', '보여줄', '255', '추가되', '나오지', '배워보', '본인의', '질문으', '접근할', 'Ini', '거고요', '러닝커', '카피라', 'nee', '외주를', '궁금하', 'ID)', '프로퍼', '자동으', 'Uni', '광고를', '로딩이', '트리에', '하는게', '버블의', '않아도', '등..', '저렇게', 'uni', 'con', 'bui', '필드는', '난수를', '갑니다', '월별로', '닭가슴', 'loo', '즐겨찾', '줄어들', \"'모노\", '장점이', '필요한', '말씀대', 'yes', '머리를', 'Pos', '비회원', '출시되', '[fo', 'unt', '붙이면', '실마리', '근무표', '꼼꼼히', '색깔세', '화면전', '끝나지', '케이스', '변경시', '댓글의', '괜찮습', '누르고', '박스가', 'thi', '문제는', '등록해', 'wor', '되었다', '선택할', '관리대', '채팅기', 'sch', '과정은', '외부링', '불러와', 'lef', '목록에', '먹히는', '발전시', '입력하', '인코딩', '비교해', '열어서', '곳으로', '필요는', '부분을', '느낌으', '계획이', '지식이', '이렇게', '쓰는게', '바꿔서', '편리합', '완성된', 'Too', '자체적', '넣으면', '[/h', '사라지', '발송하', '지정한', '쓰시면', '참여자', '좋은데', 'Rev', 'app', 'bit', '싶네요', '고민중', '쓰시는', '만드신', '수정하', '담당자', 'Wid', '첨부가', '1:1', '의미하', '적당한', '파악할', '남겨놓', '프로토', '전환이', '전체적', '했고,', 'col', '했었는', '방법도', '원하는', '적용된', '통합하', '풀리지', '글라이', '형태를', '간단해', '부분은', '채널을', '맡기려', '늘어나', '액션은', 'But', '크기를', '기본적', 'ㅎㅎㅎ', '풀어내', '가이드', '클릭된', '약간의', '어려움', '궁금합', '원하시', '개발한', '질문이', '거죠?', 'Pri', '멋집니', '싶기도', '툴입니', '찾기가', '검색해', '않아요', 'xan', 'kak', '해야할', '입장에', '똑같이', '된다는', '누르게', '확인하', '글들이', '최적화', 'Tra', '들어,', '아닐까', '겁니다', 'ite', '바꿔야', '속도에', '계시는', '휴지통', '숫자를', '주셔서', '나오는', '등록된', 'har', '솔루션', '원시그', '잘만드', '질문하', '넘어서', '메모리', '래핑해', '안되어', '돼요.', 'ID로', '전송하', 'Con', '불편함', '도움주', '디스코', '단계가', 'ind', '활동하', '것들이', '넘어오', '정확하', '초보적', '문제일', '순으로', '종류에', 'ale', 'bot', '영역에', '바라며', 'Xco', '표시된', \"'음료\", '적어서', '숨기기', '몇시간', 'CSV', '덕분에', '섬세하', '함수를', 'Onl', '있어서', 'Pay', 'wai', '보내주', '발송되', '활용도', '못했고', '누구나', '2가지', '화면기', '반복하', '설명이', '빌더가', '인터뷰', '민교님', '불구하', '커리어', 'htt', '힘듭니', '의외로', '방문자', '자료를', '관심을', '돌아와', '붙여넣', '구현했', '가능해', '시스템', '거죠.', '의미가', 'ID를', '에디터', 'ref', 'fun', '괜찮을', '줍니다', '말씀이', '크기로', 'CTO', '씨그로', '나만의', '못하면', '팔로워', '대부분', '걱정이', '궁금했', 'row', 'x00', 'dro', 'lay', '언급해', '여쭙습', '오른쪽', '커뮤니', '띄워서', 'err', '남겨드', '차이점', '현상이', '처리는', '네트워', '쿠키를', '된다고', '과정으', '봐야겠', '있습니', '치환발', '활용한', 'Map', '규칙은', '8시간', '압니다', '급하게', '보내고', '모노데', '손쉽게', '듯합니', '엑셀로', '있으실', '지우시', '방문기', '창업에', '없어요', '쉬운거', 'Lis', '문장을', '도움되', 'Rec', '싱글페', '두시고', '중요하', '첨부했', 'foc', '필터를', '경험을', '분들도', '조만간', '번째,', '목적이', 'Fre', '시도하', '차트가', '요렇게', '있네요', '할게요', 'typ', '브런치', '우리나', '메일이', '가능하', '용도로', '어떻게', 'Sea', '웹앱을', '복사되', '반복적', '것이라', '핫픽스', '파란색', '되네요', '차라리', '비지니', '드래그', '성공하', '운영했', '크리에', '‘노코', 'Wor', '리프팅', '원하던', 'att', '꿀팁이', '거쳐야', 'Gen', '알려주', '더보기', '운영해', '여기에', '찾아가', '정리하', '규칙을', '올리신', '없는지', '팀원이', '개발자', '쓰시나', 'ㅠㅡㅠ', '메인페', '바꾸어', '바꿔주', '슬랙에', 'Log', '변환해', '새롭게', '동일인', '원인을', '때문입', '필요하', '금액이', '게시글', '빨라지', '상단에', '붙어서', '쓰셔야', '생겨서', '안드로', '체크를', '채팅이', 'DB구', '실패하', '변환하', '속도를', '학습곡', '칼퇴하', 'mes', '알았는', '여러번', '환경에', 'rss', '앞으로', 'tit', '선택했', '방법에', '써보고', 'MAU', '도메인', '{da', '열정이', '출신이', '독학으', '못찾겠', '되도록', '개발에', '된다면', '풀어낼', 'htm', '그래서', '취소하', '오..', 'gps', '응용해', '움직일', '글자를', '했네요', '많습니', '자동화', '글자체', '고려하', '최소한', '설계하', '데이터', '드디어', '오프라', '적합한', '메일로', '운영되', '단에서', '말씀을', '등록을', '빈공간', '입력했', '계신가', '리트머', '넣어줘', 'Ele', '물어봐', '맨땅에', '감사합', '3개의', '포함)', '답변해', '변화를', '처리했', '보입니', '등록하', '받으면', '계산하', '멘토링', '조건이', '클릭했', 'def', '임의로', '셋째주', '단위로', '2번째', 'end', '않으면', 'rig', '만들고', '되겠죠', '동호회', '센드그', '하나의', '디렉토', '명확한', '복수의', '안된다', '메일은', '참조하', 'rad', '빌드한', '서비스', '써야해', '마이너', '초보자', 'non', '간단하', '카페2', '부분입', '체크된', '접하시', '앗..', '순간이', '답변주', '봤어요', '맞습니', 'pri', 'rem', '엔지니', '막혀서', '앱으로', '나눠서', '보이지', '동일합', '되어서', '휘발되', 'for', '중에서', '문제없', '그대로', '못찾고', '귀찮아', \"'시간\", 'mon', '들어갔', '것들을', '현재는', '거예요', '피그데', '공부를', '적어주', '영상도', '그룹이', '소개하', '에러를', '주시고', 'ID가', '접속이', '워크로', '탭에서', '배워갑', '상태인', '출력되', '여러분', '크롬이', '경험이', '0px', '카카오', '천천히', 'DB는', '관심이', '참여하', '세션이', '퍼지서', '트렌드', 'UI를', '측정하', '특화된', '자유롭', 'Kak', '견적서', '자신의', '채널이', '뜨는거', '디버그', '단점이', '액션을', '고민을', '관리할', '똑같습', '환영입', '디비에', '건드릴', '복잡해', '시간을', '포인트', '무엇인', '계정으', '것처럼', 'bac', '들어온', '걸음마', '380', '권한을', '그러면', '되고,', '라이언', '단계라', '쌓이고', '목적을', '3개를', '할거에', '쪽으로', '작업은', 'AWS', '참고할', '뜹니다', '봐주세', '은근히', '않지만', '비교하', '쓴다면', '아이템', '새로운', '동작하', '등)을', '에너지', '만들었', '전달하', '자세한', '저장되', 'Liv', '인증이', '풀어보', '유사한', '뿌려주', '색깔이', 'xxx', '자세히', '능력을', '일일이', '빌링키', '안나오', '정도로', '영어가', '식당을', '진행을', 'ex)', '분리하', 'nat', '포기하', 'Yes', '201', '영어는', 'reu', '복잡도', '됐네요', '숨겨져', 'log', '생기는', '적어도', '제외하', '코드는', '받으세', 'spa', '생성형', '조절하', '어떤식', '???', 'tim', '키보드', '완성되', '중요할', 'bub', '측면이', '경우에', 'cha', '확인을', '조건문', 'Set', '디자인', '플랫폼', '싸인업', '공유해', 'Cus', '플러그', '않았지', '괜찮은', '명상을', '부분이', '변화가', '하는데', '컨디션', '광고가', '구매하', 'mod', '한계를', '비전공', '넣으시', 'our', '무리가', \"분류'\", '테스트', '성분이', '주형님', '보이는', '마찬가', '연결을', '기능으', 'ios', '같습니', '조건식', '예상하', 'PDF', '과일을', '업데이', '환경을', '동일해', '도와드', '좋겠네', 'Imp', '로그아', '생각해', '드라이', '20:', '나타내', '폴더를', '필요없', 'VOD', '회원가', '학습이', '체크할', '안되네', '최신순', 'man', '될것같', '때마다', '중요합', 'Rou', '넣어서', '추가로', '커스터', 'nav', '딥러닝', '프로그', '링크의', '완료하', '예쁘게', 'Cod', '지정할', '설치하', 'chi', 'For', '속하는', '버블에', '학습시', '힘들고', '회원정', '넣으실', '방법이', '형식이', '왜냐하', '어렵네', '달려있', 'lim', '도전하', '마켓플', '묶여있', '부족하', '드려요', '프로세', '것이죠', '고생하', '지정해', '대해서', '팀원을', '질문에', '띄우는', '여쭤봐', '드리겠', '작동합', '본인인', '지속적', '자체를', '강인님', '문서를', '목록의', '좋습니', '싶어서', '넣었습', '예시로', '변경이', '싶으신', '강의에', '목표를', '왔는데', '허용하', '붙여서', '판단이', '줄이는', '거에요', '세팅이', '고객을', '하시면', '완벽하', '날짜로', 'ser', '했으나', '선착순', '원데이', '따라했', '위치가', '뜨더라', '통하여', '파라메', '여백이', '조건은', '학습은', '375', '명확히', '몰라서', '보다는', '작동을', '나오고', '챌린지', '얼리버', '중인데', 'del', '되는지', '별개로', '가져와', '참고가', '엔드포', 'dyn', '캡쳐해', '더불어', '속성의', '여러개', '구현해', '감싸고', '인공지', '곳입니', '순서가', 'out', '[/q', '외주개', 'tru', '날짜가', '있나요', '소소한', 'req', '숨겨지', '확인해', '액션에', '발송을', '앱스토', '눌러서', '중복되', '건가요', '자피어', '::-', '맞춰져', '부여하', '내용과', '환영합', '대시보', '로딩되', 'Ctr', '인식하', '레코드', '변경할', '개발하', '궁금해', '변경될', '안되나', '설정을', '늦었네', '작업하', 'pla', '표시되', '포커스', '운영자', '대표님', '단순한', '줄여보', '얼마든', '상세한', '컴포넌', '숫자가', '검색창', \"'선택\", '앞에서', '존재하', '참고로', 'dep', '해야하', '강의와', '중복을', '달아주', '넣으려', '단위가', '단어가', '준비해', 'oth', 'GRO', '드리는', '신청해', '지정합', '키워드', '카톡을', '비어있', 'Boa', '위에서', '30일', '소스를', '강의입', '못하나', '태그매', 'Gri', '사용하', '것으로', '초창기', 'DB가', '단순하', '올렸습', '궁금한', '않네요', '예정이', '분들께', '필요했', '영상을', '카톡에', '메일을', '지정되', '알아두', 'val', '질문인', '읽어보', 'MBT', '스크립', '디바이', '닉네임', 'fle', '왠만한', '불필요', '500', '댓글은', 'fuz', '초반에', 'sho', '404', '예정인', '와이어', 'var', '링크도', '의문이', '고정되', '적용이', '이미지', '필요할', '방법은', '댓글로', 'Cli', '마지막', '단계로', '바뀌었', '무제한', '0):', '잘하셨', 'mob', '적용되', '폰트를', '모바일', '6개월', '값으로', '_x0', '글로벌', '전자책', '설정해', '와디즈', '유튜브', '퀄리티', '삭제가', '소통을', '것이기', \"'버블\", '있는지', 'ric', '검증하', '글씨를', '살펴봐', 'Man', '확인할', '고객에', 'Q&A', '창에서', '부여되', '무작정', '고수분', '두개를', '(버블', '친절한', '생성된', '되는데', '우클릭', 'no가', '복붙하', '스와이', '단계에', '해결해', '마감순', '구현이', \"단골'\", '디테일', '기다리', '이동하', 'by를', '홍보하', '생각보', 'Key', '시간에', '액션으', '필드로', '로딩시', '막막하', '됐습니', '~~~', '웹사이', '문제인', '난이도', '회사는', '뭔가를', 'Typ', '득표?', '않은데', 'use', '하려면', '창업가', '익스텐', '영향이', 'par', '보시면', '정확한', '워크튠', '있으니', '상관없', '규모가', '걸까요', '들었습', '안에서', 'Ind', '날짜별', '익숙하', '우리가', 'tri', '버블이', '같아요', '숨겨둔', '써드파', '노코드', '주제로', '외에는', '밖이라', 'pdf', '한글로', '파이어', '21:', '카운트', '줄여주', '편하게', '얼마나', '추천합', \"삭제'\", '목요일', '드롭다', '있도록', '회사가', 'db로', 'not', '충분하', 'B유저', '//:', '날짜를', '말씀드', 'www', '검색기', 'Ref', '반복되', '클릭되', '운영이', '줄바꿈', '세팅해', '파트너', '생각이', 'hea', '메인화', 'sto', '글쿤요', '다르게', '반영되', '활성화', '상황에', '---', 'USE', '2~3', 'Loa', '중입니', '눈높이', '갯수를', '없었습', 'but', '코드로', '사이즈', '되었습', '받았고', '푸쉬알', '관리하', '중앙에', '토큰을', '보이고', '인터넷', '점에서', '구성하', 'You', '문제로', '보면서', '올려두', '못했는', '띄우고', '워크플', '에어테', 'Inv', '집중해', '새차처', '못해봤', '썸네일', '변경한', '뜨면서', 'red', 'wid', '오늘도', '넣으라', '확실히', '깨지는', '수정을', '집중하', '간단히', '초보라', 'Col', '들으면', 'Str', '번역하', 'Ric', '팝업은', '예정입', '표현하', '텍스트', '올려봅', '그룹으', 'hom', 'ㅠㅠㅠ', '빨간색', '소셜로', '작성해', '동작을', '쇼핑몰', '노출되', '못했었', '거기서', '친절하', '오픈카', '겪으신', '순환참', '팝업에', '없지만', '체크박', '포럼을', '중복이', '걸릴까', '초심자', '스토리', '써보시', '팀원들', '참고해', '주세요', '에러가', '바랍니', '화면을', '괜찮으', '활용하', '살펴보', '프리랜', '됩니다', '수정했', 'lis', '유저에', '독학하', '커머스', '파일들', '언제부', '과정에', 'max', '배문형', '스크롤', '필드가', '나와있', '올라가', '걸어주', '될까요', 'NCP', '편하실', '시간대', '왔습니', '영상이', '파일로', '마진을', '포스팅', '따라서', '못해서', '여쭤봅', 'dat', '봅니다', '않고,', '않나요', '인풋을', '둘러보', 'add', '음..', '하나요', '적용하', '혜택을', '걸리는', '350', 'tag', '봤는데', 'lin', '계시다', '하는지', '잘못된', '종합해', '옮기는', 'Rep', '토글이', '한국에', '선택합', '삭제할', '홈페이', '잘못되', '추천해', '함께하', '원산지', '엘리먼', '답변은', '반영하', '생각한', '검증을', '선택,', '초록색', '없더라', '알게되', '납니다', '애널리', '진행되', '무조건', 'Sta', \"매물'\", 'Tip', '따라가', '달라서', '검색어', '저장된', '채팅으', '답변하', '상황인', 'unh', '프로필', 'MyS', '끝까지', '결과에', 'Sup', '캔버스', '까다롭', 'Bas', '운영하', '했는데', '느리게', '단축키', 'PC에', '포스트', '공부해', 'App', '위주로', 'no일', '0으로', '발견했', '드리자', '실질적', 'img', '내용을', '열심히', '판매하', '오토바', '내용이', '섞어서', '알려드', '받았어', '영상의', 'Saa', '차트를', 'onl', '손으로', '배워야', '붙이려', '입력되', '범위가', '의견이', '마음을', '성분명', '싱크트', '포함해', 'B라는', '표시해', '동엽님', '완전히', 'ent', '31일', '차지하', '플랜에', '높이기', '소중한', '오류가', '입력할', '조건으', '미디어', 'SPA', '선택지', 'Inp', '삭제했', '속도는', '실행이', '바뀌어', '멋져요', '당연한', '역량을', '난감하', '신청했', '완료되', '좋아하', '봐주시', '임시로', '뉴욕으', '올렸는', '한글이', '신청이', '요소를', 'db에', '필드값', '연동하', '뒷단에', '헷갈립', '도움을', '퍼포먼', 'occ', '30분', '던져주', '발생했', '어떨까', '해결하', '무엇을', '선택해', 'PWA', '여전히', '본질은', '필터링', '올려보', '않아서', '등록한', '붙여야', '모르는', '호출하', '와..', '참석하', '아니고', '타이틀', '연동할', '응원하', '웹플로', '소통하', '돌아다', \"'pa\", '작업을', '처음부', '핸드폰', '코딩에', 'reg', '느끼는', 'flo', '합니다', '하시는', '우선적', '인덱스', '다양한', '설정에', '학습하', '편안한', '컨트롤', '배우고', '처음에', 'lan', 'fix', '화면에', '관련된', '때문에', '선택이', '웹폰트', 'Rul', '업무를', '공부하', '연락드', '크롤링', '고민이', '비효율', '최소화', '요청드', '창업을', '개발할', '무엇일', 'wra', 'B2B', '도구를', '중이에', '갈아타', '테이블', '삽입해', 'SMS', '클라이', '올려서', '증가하', '요청해', '주제는', '얘기를', '업체들', '리피팅', '느려질', '각자의', 'bar', '연동해', '날짜에', '원료의', '스케쥴', '탬플릿', '궁굼해', '양해부', '여쭤보', '관련해', '버블과', '글이나', '전송할', '효과를', '반응하', '결제가', 'CTA', '오픈채', 'get', 'PC화', 'des', '여러가', '답변으', '것인지', '3가지', '판단해', 'CMS', 'ㅜㅜㅜ', '전환하', '배우기', 'msP', '안보이', '아무래', '잡아먹', '놓치는', '못하지', '클릭하', '드려보', '심사를', '추가해', '속성은', '있지만', '정확히', '지우고', 'inp', '동기화', '해서요', '불가한', '새로고', '주소에', '눌러야', '중간에', '소유권', '}el', '힘들어', '별도로', '설정할', '말씀하', 'Use', 'no로', '되세요', '들어있', '웹페이', '결과가', '태그가', '프로젝', '처리해', '3개로', '걸립니', '내용은', '오셔서', '정렬하', '장소들', '차이는', '반가워', '효과적', '진행해', '고수님', '결제위', '배우는', 'Zap', '기준으', '목록테', 'myt', '시점에', '설명을', '완벽한', 'run', '가능한', '연결했', '맞아요', '유저수', 'Non', '요구하', 'sen', '백그라', '번역해', '인증하', '문제였', '추천하', '매장의', '추후에', '뜨네요', '강의나', 'air', 'API', '숨김처', '100', '솔라피', 'tab', 'Eve', 'acc', '포함된', '항목의', '색깔을', 'Can', '공간이', '우리의', '처음엔', '구분하', '뽑아내', '상에서', '올리는', 'db를', '발생되', '설정은', '적용한', '했습니', '올인원', '띄워주', '병준님', 'NHN', '계속해', '검색이', '마시고', '부족해', '처리가', '계세요', '내려가', 'The', '누르는', '할까요', '처리를', '번거로', 'Run', '웬만한', \"'노코\", '발생할', 'Dat', '배워서', '웨비나', 'MVP', '아이콘', '핵심적', '올리고', '부분에', '개발해', '드렸습', 'upd', '부분인', '믹스패', '가능성', '회원이', '런던에', '높이를', '마케터', '장단점', '초점이', 'mul', '403', 'ㅠㅠ.', '작성자', 'hei', '계신분', 'edi', '최상위', '느립니', '남기는', '같아서', '이용해', '320', '광고비', '클릭을', '직관적', '까다로', '체크되', '많으셨', 'key', '드네요', '낫습니', '두고,', '드리기', '생깁니', '문제를', '매칭시', '정보들', 'upl', '고맙습', '받으셔', '겹쳐지', '조금이', '추가가', 'fil', '진행할', '알고리', '강의도', 'Val', '구현한', '결과물', 'Err', '선택시', '사용자', '이벤트', '예전에', '체험하', '막혀있', '[qu', '슬러그', '내용입', '형식을', '올려놓', 'Blo', '잘못이', '머리가', '학습할', '댓글을', '설정창', '질문해', '생성A', '메뉴를', '재미있', '어렵지', '정보가', '링크를', '리프레', '파일명', '식으로', '알림톡', '있어요', '강력한', '출시를', '패스워', '교육을', 'hou', '기능들', '생성해', '날라가', '디벨로', '레이아', '팝업이', '팁이나', '제작하', '워드프', '문서에', 'sta', '카운팅', '출시하', '로그를', '링크에', '선택된', '만들기', '방식이', '필드를', '코딩으', '수준의', 'sou', '다행입', 'set', '배포해', '2개로', '트라이', 'JSO', '성장할', '저장해', 'cus', '없고,', '연락주', '자체가', '있을까', '구조를', '알아보', '대문자', '반응형', '어느정', '박스를', '수수료', '충돌이', '타입으', '쓸만한', '네이티', '피드백', 'Mob', '해결할', '배워가', '없나요', '딜레이', 'hos', '존재합', 'scr', '헷갈려', '들어가', '여기서', '찾아서', '앱이라', '핵심기', '참가비', 'nod', '코딩이', '될텐데', '풀어서', '한다면', '헤더가', '전문발', '받았습', 'num', '똑같은', '브랜치', '언어를', '공유합', '입문자', '클릭이', '계정에', '싶으시', '표시를', 'pas', '맞네요', '다만,', '참고했', '크기가', '0)]', '뜨고,', '가져오', '세팅했', 'PG사', '안되서', '나중에', '애들이', 'pg사', '예시를', '심플한', 'Opt', '광고주', '느리네', '만듭니', '열정적', 'adm', '느린데', '분야에', '10개', '컨디셔', '내용으', '무관하', '할겁니', '진행합', '질문을', '독립적', '하나씩', 'b2,', '무시하', '점검해', '대단합', '추출하', '완성해', '저장할', '링크로', '판단하', '유투브', 'San', '표시됩', '소스로', '단톡방', 'sor', '이해가', '속성을', '게시판', 'Par', '밑으로', '별도)', '테스터', '차례다', 'ㅎㅎ.', '찌꺼기', '선택을', '조금씩', '빠릅니', '유지하', '계정을', 'seo', '써봤는', '헤더그', '엄청나', '묶어서', '차이가', '평가항', '쪽에서', '보이게', '주소가', '잘부탁', '형식의', '탄생했', '본문에', 'GA를', '뛰어나', '<sc', 'jso', 'web', 'N개의', '친구가', '궁금증', '마음이', '기반으', '인사이', 'RG의', 'Sof', '형태인', '기능을', '세팅을', '였습니', '복수형', '수정이', '반갑습', '모두의', '쓰세요', '빌더로', '위치한', '당연히', '만드는것', '기능이나', '\"und', '익숙하지', '하시려는', '진행해야', '결과물이', '클론코딩', '잠시만요', 'list', '데이터들', '질문있습', '출력되지', '보았습니', '아이디가', 'reus', '있어요.', 'src:', '느낌으로', 'key값', '어디서부', '주문받은', '유튜브에', '디자인으', 'cond', 'free', '해결방안', '매뉴얼에', '제공하지', '쓰시나요', '설치하시', '희철님이', 'SPA로', '되겠습니', '예외처리', '테스트모', '않았네요', '다른분들', '되는걸까', '키워드로', '완료하고', '컴포넌트', '수수료를', '이부분을', '채팅기능', '걸까요~', '하이브리', 'dyna', '분[/f', '소스코드', '해보셔야', 'widg', '하는지요', '공유해보', '합니다.', '넣어줍니', '대단하시', '배우면서', 'Attr', '트리에서', '해결되셨', 'Cale', '그러네요', '곳입니다', '그나저나', '버블(B', '(onl', '이벤트로', 'ingr', 'Time', '않나요?', '해주시면', 'csv로', '있는지를', '진심으로', '답변드릴', '만들어놓', '하는데.', '화면전환', 'REPE', '소비되는', '생기는데', '입력폼을', 'Init', '참고하여', 'inte', '줍니다.', '구현하신', '구현할수', '이어주는', '들으면서', '-500', '이용하면', '감사했습', '구매해서', '데이터타', '있었습니', '건가요?', '운영하는', '모두의노', '세로폭이', '처리하시', 'Logi', 'defa', '스터디를', '변경하는', '라이센스', 'appe', '해야할지', '요금제를', '처음이시', '포인트가', 'Zapi', '추천드립', '검색하고', '체크박스', \"'pag\", '노션박스', '방식이고', '싶었습니', '만드시는', '아니더라', '넣는다.', '클라우드', '말씀이실', '소셜로그', '사용하거', 'node', '아닌가요', '개발자들', '효율적인', '되세요!', '발생하면', '찾아보다', 'thre', '개발자가', '컨텐츠에', '입력하는', '못하겠네', '24시간', '것보다는', '이벤터스', '출력하는', '찾아봐야', '구합니다', '같긴한데', 'HTML', '브라우저', '배워보려', '아...', '구축하셔', '부분들에', '게시물을', '스케쥴러', 'Priv', '맞아요.', '알아보고', 'rese', 'sign', '많으셨습', '체크해주', '파란색으', '업로드한', '추가하기', '방법인지', '필요하고', '여러분들', '템플릿이', '지정하는', '만들어볼', 'API나', '연결하기', '목록에서', 'seco', '만들고싶', '시행착오', '1200', '“B유저', '푸쉬알림', 'impo', 'for을', '트리거는', '뜯어보시', '같네요!', 'http', '질문으로', '받아오면', '구현했었', '연동하여', '수정하고', '생성하면', '텍스트가', 'main', '새차처럼', '당근마켓', '뭘까요?', '하고요.', '넣어주고', '설정에서', '하세요.', \"app'\", '추출하는', 'home', '해결됐습', 'insp', '들어가게', '하시는지', '비교하는', '유저들이', '100개', '알겠습니', '말씀하셨', '참고하면', '전문가가', 'Acco', '서버에서', '가능하도', 'API는', '올렸는데', '생각인데', '내용입니', '않았지만', '아니어도', '적용하고', '데이터로', '만들어나', '참고해주', '3500', 'uplo', '2024', '표시되지', '처음부터', '100%', 'pc에서', '있겠죠.', '영광입니', '멋집니다', '비효율적', '해보겠습', '필터링해', 'yes로', '되었어요', '바라겠습', '호출하는', '해주세요', '회사에서', '불가능한', '이루어져', '신청하면', '웹타이탄', 'Sour', '보내려고', '네이버에', '무언가를', '템플릿으', '뜨는데요', 'shee', '만들고,', '하는것인', '공유하기', '지원하지', '제거하시', '스프레드', '활성화되', '해요..', '음...', '메일이나', '엘리멘트', '보여주고', '23:5', '설치해서', '지원되는', '진행하면', '^^;;', '구현해야', '<scr', '-_-;', '가능하게', '마무리하', '되겠군요', '관련하여', '대략적인', 'open', '이니셜라', 'URL로', '필요한거', '불러오면', '테이블에', '어려우신', '안된다면', '느꼈습니', '보여주기', 'Font', '느려집니', '수수료가', '돌아와서', '토스페이', '불러오기', '프로그래', 'play', 'file', '입력해주', '구현하실', '준비해서', '기반으로', '사이트를', '때문인지', '커넥터로', '내용대로', '버블에도', 'repe', 'Hide', '개발지식', 'Desc', 'Edit', '받으시고', '모더레이', '이렇게도', 'FTP로', '페이지별', '00:0', '없고..', '지정해야', '사용해도', '서비스,', '사이트들', '숨김처리', '[사요]', '보입니다', '사이드프', '하시고,', '웨비나가', '사용하게', '다음페이', '네이티블', '제로코드', '데이터와', '도전해보', '스크롤바', '있으실까', '업로드를', '채용공고', '만들었는', '활용하여', 'foun', '라이브를', '있습니다', '정규표현', '살펴봐야', '안되는데', '질문드리', 'am으로', '불러오도', '그룹에서', '아무래도', '표시하는', '답변감사', '하였습니', '캡쳐해서', 'Stri', '해볼게요', '개발까지', 'Ctrl', 'auto', '반응형으', '말씀이시', '생년월일', '과정으로', '차근차근', 'UI/U', '찾아보시', '좋네요!', '설정하니', '두었습니', '드래그하', '추가해주', '구축하였', '선택하면', '접속하면', '없는데,', '거기까지', '표시하고', '가이드에', '늦었습니', '방법으로', 'norm', '스케일업', \"'모노데\", '알려주셔', '텍스트에', '영상에서', '개발가능', '콘텐츠를', '많았어요', '잘부탁드', '예를들면', '플랜으로', '봐주세요', '비지도학', '액션으로', '실행하면', '좋아보이', '않습니다', '필요한데', '전반적으', '하나라도', '만들어지', '팝업이나', '고객센터', 'dele', '순차적으', '있을겁니', '저장되는', '복사하셔', '노코드(', '시작하려', 'Secr', 'auth', 'popu', '설정하였', '불가능해', '아니고.', '고려해볼', '설정해서', '만들었어', '필요하겠', '상태입니', '작업이라', '브랜치를', 'Mobi', '발생하여', '상세페이', '유료플랜', '해당되는', 'Kaka', '해결해보', '가져오는', '시작하기', 'for를', '단수형으', '마케터가', '관심있는', 'Andr', 'bubb', '만들다보', '봐주셔서', '팝업창이', '여러분!', '페이지에', 'your', '이용하고', '추가하고', '것이고요', '추천해주', '체크하시', '모바일로', '입금계좌', '최적화를', '화면에서', 'edit', '비슷하게', '디자인하', '기록하고', '만들어도', '툴입니다', '커스텀하', '나왔는데', 'uniq', '샌드그리', '연동해서', 'embe', 'time', '해결하려', '인덱스를', '유저분들', '들어가보', '오프라인', '말씀하시', '띄어쓰기', '디렉토리', 'Prev', '활용해보', '모노데이', ':plu', '아쉽네요', '없는건가', '전송하는', '어드민에', '차이점이', '노코드는', 'resp', \"'카카오\", '지정하기', '스타일이', 'GROU', 'emai', '제작해서', '상관없이', '수강생들', '구체적인', '고정되어', '것이다.', '원하시면', '추가하여', '배문형님', '컨텐츠들', '연동시켜', '안되더라', '여쭤봐도', '이곳에서', '될거에요', '한국어로', '아이디어', '이메일이', '활용하기', '만듭니다', '다른가요', '공유하겠', 'w=10', '불가합니', '모바일웹', '메인페이', '로딩하면', '불가능하', '싶은데어', 'styl', '생각으로', '넣으려고', '기능들을', '부탁드립', '그룹처럼', '되거든요', '있겠습니', 'attr', 'flow', '애플리케', 'noti', '아시는분', '문제없이', '디자인은', '공부해보', '커뮤니티', '들었습니', '일치하는', '떨어지는', '살펴보고', '메세지만', 'hard', '올려주실', '부여되는', '분리해서', 'Toss', 'Sync', '체크하면', '간편결제', '웨이브온', '기능인가', 'ㅋㅋ;;', '오픈했습', '해보니까', '직관적이', '만들고자', '가능한지', 'opti', '\"yes', '기대됩니', 'tabl', '작업하는', '생각했는', '만드시면', '기준으로', 'butt', '뭔가요?', '플로우에', '답변해드', '있다보니', '생겼는데', '만들었을', 'pars', '듯합니다', '두번째는', '일잘하는', '사용했고', '답변하기', '도메인이', '배치하시', '막막하네', '중요하지', '페이지내', 'Live', '용도로만', \"'Del\", '아니다보', '앱만들기', '일어나는', '가능하니', '페이지구', 'A,B,', 'root', '대부분이', '상태에서', '사용방법', '큐레이션', '이모티콘', '가능성이', '방문자수', '하시면서', '싶네요.', '클릭하여', '백엔드는', 'glob', 'cust', '확인해서', '사용중인', '경험하신', '‘노코드', 'Rule', 'this', '넘어가게', '유료강의', 'Grit', '보여요.', '프롬프트', '정리하는', '넣었는데', '간편하게', '키워드를', 'wrap', '확인해야', '좋은데요', '목록테이', '포함되는', 'retu', '바꾸시면', '부탁드릴', '텍스트와', '이미지와', '진행하지', '영상이나', '남겨주신', '개발중인', '리스폰시', '세팅하는', '만들어졌', '브랜치에', '사용하지', 'Wait', '핵심적인', '수정하면', 'MVP가', 'yout', '여기서는', '구분하는', '가르치는', '판매기업', '주세요!', '스크립트', '제작하시', '다행이네', '적다보니', '계신가요', '개발하려', '스토어에', '서비스와', '설정할수', '구성하려', 'occu', '들어가야', '복사해서', 'valu', '320p', 'head', '검색결과', '사용하고', '깔끔하게', 'Post', '사용하면', '넣어줘야', '운영진이', '레퍼런스', '클릭하게', '노코드의', '연락드리', '텍스트로', '안될까요', \"'게시글\", '좋겠습니', '입니다.', '소개합니', '드롭다운', '써봤는데', '로딩시간', '되니까요', '뜨네요.', '여기계신', '파라메터', '여쭤보신', 'DB설계', '1,2번', '스케줄링', '안되는것', 'Opti', '라이언님', '싶은데,', '한다면,', '마시고요', 'add하', '비어있으', '같아요!', '대해서는', '여러분의', 'form', '순환참조', '생성되는', '다이내믹', \"'mak\", '퍼포먼스', '로그인할', '다이나믹', '개발자분', '테이블은', '고민하다', 'heig', '이부분은', '개발하시', '웨비나를', '정부지원', '모르지만', '시간이었', '있어서,', 'PC에서', '버블로도', 'stor', '돌아왔습', '같네요.', 'cnam', '높습니다', '마케터를', '계신분들', '!!!!', '(ex.', \"'원산지\", '제공합니', '참고할만', 'does', '해결하신', 'only', '데이터를', '될거예요', '이동시키', 'infr', 'minu', 'hour', '플로팅그', '말입니다', '공유해주', '알았습니', '콘텐츠로', '겪어보신', '고객에게', '브랜드페', '그렇다면', '익숙해지', '안나네요', '프라이머', '구축하기', '지정하고', '오마이앱', 'Figm', '가능하긴', '알았네요', '공유하는', 'limi', 'requ', '해시태그', 'Floa', '카테고리', '해놓으셨', '파이썬으', 'titl', '있으니까', '데이터는', 'sour', '제공하면', '접근하시', 'path', '메뉴에서', '처리하는', '클릭으로', '처음에는', '(이미지', '있으며,', '설정창의', '해야한다', '구매하고', '확인하고', '버블박스', '알려드립', '가능할까', '바로바로', '시스템을', 'Tool', '안해봐서', '오른쪽으', '타이틀,', '클릭했을', '노코드와', '되더라고', '걸어주면', 'Fire', '해야합니', '표현식으', '경우에도', '아하..', '개발자에', '되어있습', '희철님께', '정렬하면', '부분까지', 'logi', '적었는데', '칼퇴교실', '찾아보겠', '감사드립', '생각합니', '준비하는', '만들기[', '연결해서', '확인하려', '써봐야겠', 'to식당', 'ㅠㅠㅠㅠ', '확인했습', '여러가지', '대단합니', 'Acti', '모두싸인', '기다려봐', '결과값이', '지저분해', 'when', '변경한다', '넘어가는', '상대방이', '혁신적인', '그림처럼', '멋지십니', '구축하고', '하는데,', '끌어오고', '이해하기', '들어오게', 'URL입', '설치하고', '있었군요', 'B유저의', '백그라운', '질문해주', '공부하시', '만드는데', '1,00', '버벅거리', '사람들을', 'colo', '페이지의', '안나오네', '테스트해', 'reco', '[마요]', '예정입니', 'Work', '로그아웃', '어제부터', '가운데로', '노션으로', '궁금하네', '엄청나게', 'daum', '알려주는', '디자인적', 'Even', 'side', '배포하는', '진행하고', '비교하면', '넣어주는', '플랫폼에', '노코드빌', '접근해야', '저장되어', '입문하려', '아시다시', '해야하나', 'line', '대부분의', '만드려고', '지정해서', '되는군요', 'true', '해결하였', '웹페이지', '모드에서', '웹사이트', '디바이스', '까다롭네', '프리뷰를', 'Gene', '저런식으', '힘듭니다', '내부적으', '디테일이', '싶네요!', '생각보다', '서비스들', '설정되어', '캘린더에', '적용해서', '계실까요', '모니터링', '백엔드도', '사용법을', '생각하는', '개발했습', '작업중인', 'ㅜㅜㅜㅜ', '구축하는', '있구요.', '인공지능', '게시글에', '회원들의', '표시해주', '말씀처럼', 'remo', '등등)가', '해봤는데', 'plug', '답변으로', '남겨주셔', 'Grou', '구현되었', '여쭤보시', 'mont', '되시나요', '구성하고', '원시그널', 'Layo', '클래스입', '버블로만', 'reli', 'Webf', '사람에게', '쉽습니다', '알아보시', '가져오면', '궁금하신', '이용해보', '처리해서', '만들어보', '메시지가', 'paus', '놀랐습니', '로그인해', '복잡하게', '해야할까', '설정하고', '효과적인', 'disp', '기대하겠', '개발에서', '하셨나요', '작동하지', '준비했습', '바로가기', '동일합니', 'full', '어플리케', '베타테스', '공부해야', '구현하지', '할까요.', '지원하는', '제작하려', '드래그해', '시작한다', '사용하는', '않았어요', '구현해서', '하는군요', 'Mana', '게시글을', '같습니다', 'Audi', '프로토타', '간단해보', '괜찮아요', '되시길.', '관리자가', '이렇게요', '질문답변', '경우에만', '하나하나', '단계에서', '정성스러', '비즈니스', 'Pare', '외부링크', '검색하면', '심리테스', '보여집니', '설정해두', '돌아가기', '액셀러레', '주소창에', '전체적으', '등록하는', '될까요?', 'supa', '네비게이', 'comp', 'slug', '그레고리', '관심있으', '올리시면', '좋았습니', 'push', '국내에서', 'imag', \"'Env\", '마지막에', '강의들이', '걸려있는', 'aler', '업무내역', '처음으로', '없어요.', '확인해봐', '연동하는', '개발자를', 'Drop', 'msPe', '가져오게', '찾으시는', '아이템을', '변경하면', '사용했어', '제출하기', '붙여넣기', 'layo', 'thin', '[/fo', '구분하여', 'trig', '환영합니', '확인해볼', '기능으로', '신중하게', '발전시키', '메인으로', '있거든요', '유저들은', '클릭해보', 'Tabl', '만드시고', '사용했는', '페이지를', '좋아요.', 'wait', 'Nati', '있는데요', '넣어주면', '사진에서', '디비에서', '있나요?', '확인하기', 'down', '안되는건', '정의하는', 'temp', '요소들을', '카운트가', '정리하자', '이메일과', '못하네요', 'drop', '적용해보', '시작했다', '생깁니다', '이동하고', 'orde', 'widt', 'flex', '구현하기', '거고요.', '걸리는데', '바꾸시는', '가로폭이', '발생한다', '프론트엔', '때문인데', '고생하셨', '필요하다', '하더군요', '웨어러블', '모바일용', '갑니다.', '요금제에', 'Expr', '사이트도', '리스트로', '파이썬을', '했으나,', '되어있지', '안되실까', '죄송해요', '넣어주세', '어렵지만', '읽어보시', 'Mult', '슬라이드', '지정되어', '생각하면', '운영하고', '업데이트', '답변해주', '보여주시', '가능한건', '애드센스', '프로세스', 'yes,', '단계별로', '까다로운', '개발버전', '리스트를', '재린님이', '그룹이나', '한페이지', '가정하고', '선생님들', 'Fixe', '정기결제', 'grou', '카피라이', 'stat', '상호작용', '스토리를', '설명드리', '10,0', '넣어주시', '그런건지', '사용해본', '처리해주', '한국에서', '사용하기', '구성했습', '몰랐습니', '돌아가는', '가져와야', '페이지가', 'radi', '아카이빙', '했는데.', '생성AI', '문서에서', '남깁니다', '대문자로', '프리뷰에', '사라집니', '준비중입', '예정이라', '정보들을', \"'선택한\", '디벨로퍼', '받아오고', '찾아주세', '때문에,', '아이디는', '알았는데', 'igno', '아래처럼', '업로드해', '올립니다', '못찾아서', 'visi', 'pick', 'row가', '도와드리', 'Colu', 'Imag', '연결하면', '데이터라', 'secr', '몰라서요', '싱크트리', 'Aler', 'step', '생각해봤', '사용자를', '어느정도', 'Tran', '부분인데', '방명록을', '불러올때', '나타납니', '막막하다', '썼습니다', 'loop', 'paym', '버블로는', '주소에서', '확인하시', '였습니다', 'more', 'Reus', '아니라서', '그라디언', '처리해야', '사라지고', '대한민국', '보내시면', '사이즈에', '바람직한', 'List', '반복적으', '뜯어보면', '데이터이', '설정하시', 'mult', '로그인되', '사용성을', '공유해봅', '보여주셔', '검색하시', '정확하게', '실개발로', '관심있습', '생성하는', '넣었습니', '왔습니다', '늦었네요', '관리하기', '싶으시다', '옵션에서', '처리하면', 'null', '많아져서', '진행해보', '생성해주', '아실까요', '이용하는', '계좌인증', '안보이네', 'last', '표현식을', '가능합니', '말씀주신', '아이템이', 'tool', \"매물's\", '상황입니', '알고리즘', '유저별로', '사용한다', '정상적인', '가능한데', 'bdk로', '없더라구', '아니고요', '합니다만', '선택하는', '둘러보기', '회원가입', '작동합니', 'forw', '안타깝게', '방식이죠', '찾아보고', '페이지마', 'scro', 'Greg', '있을거에', 'Auto', 'unti', '네이버나', '축하드립', '피그데미', '확실하게', 'from', '이런저런', '보았는데', '로우코드', '해보시는', '나오도록', 'Date', '백엔드에', '수행하는', '결제하는', '로그인에', 'Base', '100억', '평가항목', '첨부합니', '아니라고', '클라이언', '만드셨나', '전체적인', '가능하면', '체크하는', 'logg', '맞습니다', '진행하려', 'supp', '고수님들', '말합니다', '구체적으', '선택하세', '페이지와', 'alig', '읽어오는', 'plan', 'unha', '해결하고', 'rang', 'Pret', '연결하려', '아이콘이', '있어요~', '연동해보', '만들어주', '확대/축', '싶습니다', 'FTP는', '가져옵니', '워드프레', '친절하게', '필요했던', '고정으로', '좋아요!', '확인가능', '변경해서', '플러그인', 'PWA를', '장바구니', '변환하는', '딜레이가', '어렵다고', '관련해서', '글이네요', '존재합니', '드려봅니', '선택하고', '비개발자', 'fals', '검색해서', '페이지도', '나타나는', '타임라인', '애니메이', '예정이에', '계산하는', '맞춰나가', '되는데요', '아티클이', '넣으시면', 'None', '진행하며', '발생하고', 'dire', '계속해서', '어떨까요', '가능한걸', '효율적일', '활용하면', '여러분이', '제공해주', '드리겠습', 'Cond', '포럼에서', '마음입니', 'func', 'capa', '축하드려', '자피어로', '않았는데', '참고해보', '보여지게', '해결되었', 'code', '이쪽에서', 'Pers', '말씀해주', 'inf로', '입니다!', '프로필이', '생각했던', '채팅으로', '정리해주', '어렵네요', '이용하시', '생각했습', '들어가도', '나와요.', '조정하고', '거예요.', '같아요.', '받았습니', '기능입니', 'load', '받으시는', '만드시려', '사용자에', '않는다면', '카카오에', '검색하는', '사용량이', '유튜브로', '앱패키징', '지정해주', 'mana', '어떤건지', '모르겠습', '되셨다니', '같더군요', '있었으면', '활성화하', '저장해서', '도와주시', '추가했습', '기본적인', '적용하는', '학생입니', '간편하고', '참고하세', '사이트의', '추천드려', '게시판을', '감사하겠', '버블개발', '넣어야하', '사이즈를', '상위폴더', 'URL에', '솔루션이', '해놨습니', '실행되는', '작업하시', 'rege', '들어가기', '블로그를', '때문이죠', '히로인스', '백엔드가', '클릭해서', '되겠죠?', '제공되지', '참고하시', '디자인,', '아쉽게도', 'Repe', '요청하시', '연결하여', '달라지지', '해결하는', '해상도가', 'deve', '최적화가', '구성하는', '버튼으로', '보여주도', '신청했습', '리유저블', '포커스마', '텍스트만', 'Data', 'ㅋㅋㅋㅋ', '버블이랑', '되네요.', '도움유저', '보여준다', 'Resp', '비어있는', '테스트하', '개발자는', '되나요?', '저장하고', '안하셔도', 'Alig', 'app으', '그렇지만', 'Popu', '상황이라', 'expr', '해결책은', '데이터나', '가이드북', 'buil', '이렇습니', '합니다!', '3인-장', '리트머스', '정해져있', '해봐야겠', '파일매니', '작성하는', '데이터소', '줄어드는', 'date', '구현해보', '입력하고', '상태인데', 'base', '라이브에', '시크릿키', '따라서,', '디스플레', '있어서.', 'Prod', '실마리를', '업로더의', '접속해보', '모르겠지', '바랍니다', '최상단에', '감동입니', 'righ', '중입니다', 'that', '이것저것', '크롬에서', '캔버스에', '페이액션', '좋아해요', '못했는데', 'Play', '있으시면', 'size', '생성되어', '드렸습니', 'Impo', '만드셨네', '있을텐데', 'stri', '답변주셔', '얼리버드', '되는거죠', '읽어주셔', '1번에서', 'Inpu', '느리네요', '같은데.', 'firs', '디폴트값', '필요해서', '배워나가', '모바일앱', '스크롤을', '디버그모', 'yes/', '신청하기', '로딩페이', 'Text', 'soci', '하고..', '사이드잡', '고민해봐', '단톡방에', '자기소개', '시도해볼', '예정이고', '날카롭게', '경우에는', 'back', '가능한거', '아임웹에', '정상으로', '물어보고', '하지만.', '찾아보세', '될까요.', '회원정보', '활동하는', '(202', '거기에서', 'Chat', 'acti', '해보려고', '액션에서', '않더군요', '그러다보', '확인해주', 'airt', '20:0', '올려주신', '버블에선', '시작하는', '않으셔도', '!imp', '활용도가', '스크린샷', '데이터)', '결론부터', '필터링이', '이용해야', '답변주시', '입력한다', 'tel:', '사라지게', '필드에서', '제한식에', '남겨주시', '해결방법', 'para', '에어테이', 'Sett', '웹빌더의', '고려하고', '리스트는', '그룹안에', '퀄리티가', '옵션셋으', '디자인에', '불러오는', '마지막으', 'CSS를', '인가요?', '트래픽이', 'DB구성', '완성도를', '움직이는', '결제하기', '않았습니', '정용준님', 'ifra', '제공하는', '::-w', '아래쪽에', '실시간으', '다양합니', '빨간색으', 'foot', 'curr', '보여지고', '사용자가', 'flut', '진행하게', '아무거나', '이용하셔', '프로덕트', '혹시라도', '이해하면', '개발한다', '고민중인', '괜찮을까', '없을까요', \"시간대'\", 'Dyna', '운영중인', '컨디션을', '자유롭게', '소개해주', '분들이라', '변환해서', '현재시간', '나열하는', '해봤습니', '결제기능', '하려는데', 'app에', '코딩으로', '받으셔서', '방식으로', '간격으로', '업로드는', '포함하고', '그룹내의', '것이라고', \"'whe\", '사용하실', 'Cont', '기대하고', '선택하시', '같았습니', '변경하시', '않아요.', '될것같아', '메인화면', '계정으로', '생기네요', '저장하도', '확인해보', '됐습니다', 'rich', 'rati', '피그마에', '하는건가', 'left', '너무너무', 'subm', '유저들만', '문제인가', '보여지는', '발생하더', '여쭤봤어', '데이터베', '듭니다.', '\"카드사', '진행됩니', '진행합니', '테이블로', '<sty', '말씀드린', '작성했습', '지정하실', '설정하면', 'Uplo', '사이즈로', 'api를', '하네요.', 'each', '않은데요', '하루종일', '어시스트', '라이브러', '보내주는', '디테일한', '자바스크', 'A유저가', '복사하여', '되는데.', '뒷단에서', '자주가는', '전자책을', 'upda', '크리에이', 'Widt', '올리겠습', '데스크탑', '여쭤보고', '퍼지서치', 'prev', 'API헤', '봅니다.', 'API에', '백엔드를', 'url(', '[/h2', '인증이라', '오픈그래', '프로필에', '테스트를', '지워주는', '권장하는', '스마트폰', '나오고,', '보여드리', '기다려야', '계신다면', '연동하실', '들어가는', '디스코드', '문제였네', '있는데,', 'page', '학습곡선', '적어줍니', 'url은', '활용해서', '싸인업을', '나와있어', '하는거라', '최적화하', 'BB코드', '있는걸까', '상황인데', '합리적인', '배웠습니', '선배님들', '만으로는', '오퍼레이', '주도하는', '있으신가', '보겠습니', '사라져서', 'view', '배치하는', '매끄럽지', '건데요.', '했는데도', '다시한번', '<br>', '수준으로', '방식입니', '생긴다고', '입력해보', '이미지는', '미드저니', '사용할수', '히든필드', '있었어요', '여기에서', '아니지만', 'to유저', 'API연', 'DB구조', '넘어가고', '클릭해도', '불러오게', '웨비나에', '링크입니', 'with', '말씀하신', 'oper', '신청했는', '엔지니어', '한국인이', '생성해서', '드릴게요', '페이지,', 'call', '형식으로', '[버블로', '만들어가', '이벤트에', 'icon', '사람들에', '주세요.', '어떤걸까', '프리뷰가', '문제라면', '예를들어', '일반적인', '해외에서', '하희철님', '웹플로우', '스토리지', '입력하신', '없나요?', '200개', '알려주신', '요금제로', '않을까?', '독학하고', '않네요.', '가능하다', '있다면,', '정성스럽', '그룹으로', 'colu', '구현했습', '메시지를', '속하는지', '중복되는', '자동결제', '해결책이', '안되는거', '설정하여', 'next', '보여주지', '공유드려', '활용하시', '컨텐츠가', '스토리보', '옵션으로', 'scri', 'Rich', '여쭙습니', '들어가셔', '추가하거', '감사합니', '설정해야', '인터페이', '확인하세', '선택합니', '본격적으', '와...', '안되는군', 'capt', '프론트를', '알려주실', '자세하게', '노코드툴', '감사해요', '준비중인', '표현식에', '안보이는', 'Sans', 'mobi', '확인합니', '하다보니', '느리다고', 'SEO/', '무엇일까', '사용해보', '미리보기', 'trun', 'recu', '베이스에', '슬랙으로', '게시글이', '1~5번', '달아주셔', '설정하지', '알기로는', '문제인지', '해보세요', '기본적으', '설정했는', '질문인데', 'even', '가능하네', 'Thin', '커리큘럼', '솔라피와', '나타나고', 'Task', '보내세요', 'URL을', '하는건지', '생각해요', '항목으로', '검색어가', '누르면,', '엘레멘트', '하나요?', '이해했습', '보여지지', '에디터의', '있을까요', '소개드리', \"단골'손\", '생각하고', '생각입니', '도메인으', '생성됩니', '뉴욕으로', '작성하여', '마이페이', '개발자도', '알아보겠', '됩니다!', '해결했습', 'shar', '만드는게', '노하우를', '싶어요.', '직관적으', '응원하겠', '목적으로', '문의하시', '상세하게', '한정적이', '그렇네요', '아래에서', 'navi', '것인데요', '구현하고', 'cent', '3000', '(dat', '처음이라', '버블이나', '전문가분', '관리하면', '드리기가', '못합니다', 'elem', 'Hmac', '치환발송', '편합니다', '에이전시', '다행입니', '기업권한', '노코드로', '모르겠는', '지정하면', '사람들이', 'www.', '간단하게', '나옵니다', '(링크)', '채팅방에', '플레이스', '그러니까', '고맙습니', '중이지만', 'Driv', '노출되는', '머신러닝', '경우라면', '어딘가에', '중요하다', 'DB에서', '되고요.', '(Dat', '느립니다', '보여주면', '공부하는', '배포했습', '기기에서', 'tags', '입력하면', '추가되었', '주제는《', '수정하려', '스와이프', 'add해', '빌드캠프', '조그마한', '개념으로', '프레임워', '어디에서', '공유드립', '스케쥴링', '올렸습니', '지원하고', '기다리겠', '따라가는', '소프트웨', '생각됩니', '방식이라', '사용되는', '가입해서', '물어보는', '부탁드리', 'UTM이', '포함해서', '중에서도', '있겠지만', '요런식으', '안되시면', '홈페이지', 'Goog', '접속해야', '제약조건', '대박이네', '삭제하고', '사용하신', '못하지만', '오...', '아니고,', '헤더그룹', '있네요.', '분들에게', '측면에서', '개발하고', '실행시키', '유저들에', '설정으로', '노출시키', '이미지로', '운영하시', '같아요~', '봤습니다', '옵션셋은', '사이즈가', '해드리는', '[/qu', '디자인을', '등...', '있더라구', '그렇군요', '사용해야', '이번에는', '워크플로', '가비아에', '가능하실', '같더라구', '노베이스', '추가되는', '센드그리', '드롭박스', '했지만,', '얼마든지', '중복되어', '중심으로', '있네요!', '앱스토어', '몰랐는데', '일괄적으', '[fon', '프로필데', 'Crea', '생겼네요', '현재까지', '저장하시', '써드파티', '검색창을', '정렬하는', '안된다는', '그런데,', '그런데.', '시스템에', '페이지네', '공유드리', 'Scri', '발송되는', '로그인한', '어떻게든', 'char', '수집하는', '넣습니다', '게시판이', '잠재고객', 'Styl', 'webs', 'focu', '가능할지', 'This', '설정하셔', '관리인원', '할겁니다', '어찌어찌', '시작해야', '할거에요', '백엔드워', '가능하군', '체크하고', '있으시다', '그렇기에', 'inde', '제공되는', '보세요.', '웹서비스', '불가하다', '아닙니다', '브릿지링', 'like', '간략하게', '사이트가', '설정해놓', '생각에는', '관계형으', '게시글의', '차이점은', '유연하게', '등록하시', '버블에서', '필터링을', '로그인하', '바뀌어서', '프로젝트', \"'API\", '좋네요.', '늘어나면', 'Sche', '프리랜서', '세부적인', '연동하다', 'redi', '좋겠다는', 'plus', '나타내는', '가져오시', '진행한다', '구글에서', '저장하려', '리스트의', '제작했습', '수식으로', '하더라고', '이커머스', '배워갑니', '필요하신', 'erro', '피그마를', '시스템이', 'url에', '낫습니다', '실개발에', '가이드가', '아닐까요', 'html', '효과적이', '도와주는', '스크롤하', '컨디션으', '옵션셋의', '오랜만에', '구현하면', '되는건가', '불필요한', 'conv', '노코드에', '대표적인', '조언해주', 'apps', '시스템으', '거에요!', 'URL이', '주세요~', '있고요.', '정상작동', '되었네요', 'ㅠㅠ..', '커스터마', '빌드하는', '변환하시', '어떠세요', '눈높이에', '서치포#', '파이차트', '추가합니', '255,', '페이스북', '네트워크', '정리해봤', '했는데요', '없는데.', '편리합니', '사용하셔', '궁금해서', '설정하는', '해결되지', '방문기록', '자연스럽', '궁금해져', 'roun', '저장하면', '문의드립', '좋습니다', '고민중입', 'Show', '만드셔야', '맞나요?', '좋겠네요', 'link', '구조라면', '제공하기', '일치해야', '딜레이를', '해결책을', 'days', '설치하셔', 'Airt', '뜻입니다', '만들어져', '타입에서', '없죠..', '되겠죠.', '인플루언', '----', '아이콘에', 'inst', '보이도록', '헷갈려서', '헷갈립니', '연결해주', '넘어가도', '가격으로', '이미지를', '관리하는', 'sear', '아쉽습니', '불러와지', '메세지를', '}els', '못했어요', '적용되어', \"'음료의\", 'url의', '사람입니', '관리하고', '상황에서', 'host', '따라하는', '응원합니', '요청드립', '이메일에', '네이버맵', 'Math', '튜토리얼', '이해도가', 'appl', '질문글을', '엘리먼트', '검색해봤', '찾아보니', '몰랐네요', '화이팅하', 'Elem', '상세내용', 'AWS에', '확인하실', '무엇인가', '설정한다', '플러터플', '거에요.', '개인정보', '접속하는', '어려움이', '인사이트', '다음부터', '공통으로', '유지보수', 'Admi', 'api로', '장소들을', '검색해보', '워크로드', '[모노데', '플랫폼과', '최상단으', 'Fiel', 'sche', 'empt', 'ㅎㅎㅎㅎ', '웹훅으로', '가능하겠', 'posi', 'none', '교육프로', '트리거를', '업로드된', '어떤식으', '개발하는', '버블만큼', '합니다~', '페이지들', 'crea', 'Code', '네이티브', '문제일까', '저장해두', '....', '브랜치는', '문제입니', '수월하게', '파라미터', 'Mark', '많은데,', 'Lang', '동적으로', '많아지면', 'webp', '구축해야', '게시물이', '조건식이', 'team', '말씀주시', '보유하고', '프라이버', '이용해서', '브랜드를', '서비스로', 'sett', '독학으로', 'doma', '컨테이너', '어려워서', '완료했는', '없었어요', '구성하였', 'hidd', '궁금합니', 'Only', '받으세요', '인덱스에', '작성되어', '제공하긴', '같습니당', '노코드를', '버블DB', '지속적으', '눌렀을때', '히스토리', 'chat', '같은데…', '오래걸리', '외부에서', '하루에도', '모르겠으', 'java', '괜찮습니', '배우는게', \"'시간대\", '문자열을', '부족해서', '서비스를', 'fiel', '마케팅이', '서비스이', '알아보는', 'BDK에', '포함하는', '요청하기', '만져보고', '도움주셔', '하이웍스', '다른방법', '포트폴리', '가공해서', '올려봅니', '질문드립', 'nati', 'User', '정기구독', '여쭤봤습', '수요일에', '선택해서', '기획/디', '콘텐츠는', '부분부터', '오픈아워', '추천합니', '데이터가', 'star', '시도해봤', 'bord', '보이더라', '저장해야', 'Shor', '같아서요', 'prop', '납니다.', '로그인했', '보여주려', '구축해서', '디자인도', '사용합니', '판단하는', '도움으로', \"'Opt\", 'UTM을', '실개발을', '케이스가', '피드백을', '하는걸까', '페이지만', '생각하시', '업로드하', 'Cust', '생성하고', '출력되는', '1080', '말씀주세', '영상으로', '과정에서', '생성될때', '생성하시', 'Soft', '카운트를', '[h1]', '되어있어', 'GNB가', '하고싶은', '클릭하시', '조건식을', '글라이드', '구분해서', '진행중인', 'rule', '계산해서', '연결시켜', '트리거로', '배치하고', '구현가능', '찾았습니', '해보는데', \"'Pre\", '기능[/', '네이버지', '시간으로', '위젯에서', '궁금한점', 'Fram', '아시나요', '해서요.', '언제든지', '어려운데', '커스텀이', '썸네일을', '챗GPT', '어제까지', '맞아요!', 'spac', '제외하고', '리스트에', '로딩속도', '노출되게', '결제위젯', '수정하는', '들어가서', '나오는데', '화면기획', '사용중이', '연결하는', '모르겠어', '연결하고', '안보이고', '느려지는', '상품정보', 'coll', '네트워킹', '조회하고', 'url로', '솔루션에', '사업자번', '무엇인지', '첨부했습', '마이너스', '선택하여', '구글플레', '저장합니', '연동하셨', '클래스인', '반영되는', '로그인이', '이메일을', 'succ', '커뮤니케', 'IT업계', '들어가고', 'othe', '하거든요', 'sort', '테두리가', '서비스입', '없었습니', '초기에는', 'Sing', '싶었는데', '지정하시', '기능들이', '한데..', '가능해요', '중이에요', '준비하면', '지정합니', '고려하시', '이해하실', '받아오는', 'text', '새로고침', '개발해서', 'File', '보여줍니', '클릭하고', '전문발송', '활용하셔', '개발자인', '같은데,', '로그인/', '개발자로', '10개의', 'mvp를', '해보면서', '도와주세', '하겠습니', '저장하기', '조심스레', '이럴까요', '말씀드려', 'inse', '성장하는', '고도화된', '왕초보입', '보이지만', '사용하시', 'sing', '도와주신', '초보라서', '링크드인', '저장하지', '[/s]', '커스텀으', '(ela', '해상도별', '경험에서', '리스트가', '리프레시', '많네요.', '뜨더라구', '변경해주', '되었는데', 'floa', '강의입니', '싶다면,', '요금제가', 'Auth', '빌더로그', '사용자는', '나타나게', '들었는데', '운영하면', '표현하고', '테이블이', '되는거였', '로그인,', 'name', '작업해야', '가능할것', '서비스도', '그럼에도', '안되거나', 'Prof', '호출해서', '들어갑니', 'MVP를', '이해했는', '암호화한', '힘드네요', '입력합니', 'priv', '심리검사', 'fixe', '만들었습', 'URL인', 'moni', '(네이버', '수정하시', '나오는지', '플랜에서', '만들면서', '설정해주', '안그래도', '페이지는', '부여해서', '환경에서', 'pagi', '봤어요.', '믹스패널', '궁금한게', 'Sess', '사이트는', '변경되었', '완벽하게', '좋겠어요', '일시적인', '수정해야', '기업정보', '디스콰이', '아니라는', '정용준입', 'admi', 'woul', '찾아보면', '포함되어', '내용으로', '어려움을', '단순하게', '올라오는', '말한다.', 'MySQ', 'Load', '설정했습', '시도해보', '만들려면', '참여해보', 'CRUD', '프로모션', '예정이니', '말씀대로', 'serv', '사람들의', '클래스1', '가져오고', '삭제하면', '오픈카톡', '의미하는', '자신만의', '우리나라', 'Conn', '없습니다', '화면으로', ':)혹시', '지정해놓', '이미지들', '구현하셔', '앞으로도', '조합으로', '유저수가', '컨디션에', '다양하게', '됩니다~', '도메인을', 'dash', '추가적으', '대시보드', '해보시겠', '되더라구', '불러오고', '기능이고', 'clie', '나와있는', 'aren', '참여해주', 'PC화면', '요청하는', '요구사항', '어디까지', '사용자의', '물어보시', 'Stat', 'for로', '이메일로', '확장성을', '진행하는', '결과물을', 'show', '찾았네요', '이미지에', '넣으시고', '서비스가', 'row를', '아임웹으', '되었다.', '입장에서', '설정입니', '싱글페이', '만들었던', '지금까지', '그렇다고', '데이터의', '스크롤이', '이메일,', '구현하는', '마우스로', '적용하면', '가이드를', '있었는데', '이용하려', 'mode', '걸릴까요', '이야기를', '고민입니', '디테일하', '등록하면', '않아서.', '될거같은', '사용하여', '아이디를', 'Pick', '앞으로는', '부족하지', '지난번에', '안보여서', '검색창에', '있나요.', '노코드,', '여기서도', 'API를', '순서대로', '설정할때', '인스타그', '해놓으면', '활용하고', '들어와서', 'pare', '설정하신', 'Recu', '채널톡으', '하고있는', '해보신분', '설정하기', '같고요.', '유저정보', '본인인증', '누르시면', '와이어프', '데이터에', '불러와서', '하는데요', '나머지는', '같더라고', '작업하고', '보내주신', '로그인으', '실행시킬', '보여주신', '연동하려', '참고해서', '전까지는', '반갑습니', '죄송합니', 'Clou', '열정적인', '왜냐하면', '방향으로', '되네요!', '하지만,', '없네요.', '준비하고', '다음으로', '가능해서', '테이블의', 'item', 'JSON', 'Bloc', 'url을', 'Stor', 'MBTI', '서비스하', '다르겠지', '적용하시', 'post', '프로그레', '있어요!', 'data', 'issu', 'cons', 'user', '구현하시', '많더라고', '유저들의', '썼었습니', 'xano', '이해하고', 'N잡러되', '느낌이에', 'ID):', 'Tip버', '필요하긴', '정리되어', '동영상을', 'db에서', '깔끔하고', '1000', '정확히는', '정상적으', 'fuzz', 'Call', '계획입니', '표현식은', '겁니다.', '파이썬이', '문형님이', '알려드릴', '찾아봐도', '완료되었', '한꺼번에', '정리해서', 'paid', '코린이님', '싶었어요', '해야겠네', 'Boar', 'plea', '일반적으', '뿌려주고', '콘텐츠가', '진행중이', '줄바꿈이', '했습니다', '해결해야', '이상으로', '구체적이', 'URL과', '애널리틱', '알려주세', '생각해보', 'yes가', 'invi', 'Erro', '중요합니', '자피어에', '예시입니', '필요하면', '중요한데', '막히네요', 'font', '인터뷰를', '할게요.', 'url이', \"'버블'\", '이너스크', '발생하는', '만드셔서', '할까요?', '있어서요', '응용해서', '비교해서', '대해서도', '설정합니', '연동해야', '사람이라', '[h2]', '여기에도', '나오네요', '100만', '추가적인', 'chil', '받았는데', 'When', '변경하려', '됩니다.', '애플로그', '저장됩니', '말씀드리', '도움카운', '소개하고', '세부적으', '현재로서', '퍼블리싱', 'Coll', '감사드려', '설정하려', '요소들이', '이미지의', '오늘날짜', '추천드리', '스트레스', '시작하고', '많아서요', 'numb', '되셨으면', '[/h1', '많습니다', '만든건가', '(typ', '노코드라', '오토바인', 'gtag', '그러셨군', '안불러와', '참고하셔', '세팅에서', '결제시스', '대상으로', '공유하고', '기억합니', '백엔드로', '못했습니', '수정했습', '서비스는', '나올까요', '커스텀스', 'isol', '무한대로', '라이브로', '입력해서', 'incr', '해주셔야', '트리거하', '등록하도', '같았는데', '되겠네요', '서치박스', '레이아웃', '공유할게', '기초적인', '다릅니다', '똑같습니', \"'상품'\", '닭가슴살', 'fram', '말그대로', '필요합니', '네이버페', '느낌입니', '제작하는', 'prod', 'BUBB', '구현하였', '표현식이', '디자인이', '모바일에', '서비스에', '모르겠네', '이상하네', '지원사업', 'init', '제작하신', '카페24', '등록해야', '100명', 'Star', '추가됩니', '시작하면', '스타일을', '조회하는', '공유해드', '따라해보', '만들어두', '개인적으', 'depl', '시작했습', 'kaka', 'dog,', '클릭하면', 'test', '반복작업', '구축하시', '질문입니', '구조입니', '하시려면', '생각해서', '아이디만', '박재은님', '들어가있', '둘러보시', 'API이', '궁금해요', 'memb', '체계적인', '구매하는', '상태인지', '해결되는', '방법입니', '기대되는', '그러는지', '위해서는', '파라메타', '달아주시', '그런건가', '있지만,', '하고싶어', '컨텐츠를', '안되네요', '우선적으', '개발자와', 'send', '않을까요', '읽었습니', 'else', '빌링키를', '기다려보', '카카오로', '마케팅,', '편리하게', '그런가요', '했어요.', '체크하셔', '제작하고', '플레이어', '기다리고', '있긴한데', '여러개의', '안나와서', '업그레이', '시작해보', '지도학습', 'perc', 'SaaS', '구축하려', '어려우실', 'mini', '추가해야', '툴이라고', '복잡해지', \"'좋아'\", '시작해서', '경험으로', '달라지는', '하단으로', 'sens', '안나오는', '발송[/', '작업하다', '보내주시', '예정인데', 'pass', '확인하는', '로그인은', '불러와야', '내려가면', '보이네요', 'Answ', '시작했는', '차지하고', '같은데요', '플랫폼으', 'Page', '즐겨찾기', '공유합니', ':ite', '그로잉피', '아이템의', '모집합니', 'alar', '말이죠.', '표현되는', '피그마로', '구글로그', '입력하여', '안보이게', '게시글만', '+100', '보냈습니', '걸어주시', '않나요.', '선택해주', '창업하는', '링크에서', 'xxxx', '도메인과', 'vers', '[quo', '아니라면', '들어간다', '만들고나', 'Uniq', '해야하는', '스테이트', '내부에서', '잘하시는', 'Head', '사진처럼', '코딩없이', '퍼센테이', '업로더를', ':)버블', '알려주고', '불편하고', '(tex', 'Form', '중인데,', '저장되게', '자동화하', '되어있는', '누르셔서', '수동으로', 'cont', '키워드가', '요청합니', '업로드할', '플로그인', '되었으면', '알림톡을', '필요하시', '처리하고', '페르소나', '요구하는', 'case', '추가하는', '데이터(', '저희팀에', '불가능합', 'Xcod', '비밀번호', '싶으신건', '한데요.', '삭제하는', 'Java', '비지니스', '이후에는', '러닝커브', '관리대상', 'clic', '올려주시', '연결되어', '되는데,', '3.3%', '_x00', '날짜별로', '설문조사', '팝업으로', '인풋창에', '불구하고', '않는다는', '오픈채팅', '연결했습', '유저에게', '제공하고', '없는데요', '구현하려', 'Roun', '무엇보다', '올라가는', '도와주셔', '해야겠어', '하다보면', '여기저기', '합니다)', '프론트에', '{dat', '이미지가', '화이팅입', '플랫폼을', '시작한지', '편입니다', '개발하면', '일처리를', '네이버를', 'set으', '프레이머', 'clip', '이동하는', '플랫폼이', '연락주세', '이미지처', '때문입니', 'Sear', '조심스럽', '이벤트가', '포스팅을', '바꿔주는', '변경하여', '버전에서', '도와주실', '자동으로', '디자이너', '보여주실', '유용합니', 'api에', '궁굼해서', '표시됩니', '리프팅그', 'endp', 'Butt', '해당하는', '드라이브', '확인하면', '드리자면', '되었습니', '계시나요', '좋겠는데', '저장하는', '기존에는', 'entr', '해치하이', '마켓플레', '참여하고', '조언주신', '파이어베', '접근하는', 'work', '최종적으', '공부중인', '다르지만', '기원합니', '엘레먼트', '뉴스레터', '검토해보', '블로그에', '가져와서', '랜딩페이', '에디터에', '없으니까', '내용이라', '만들었고', '안녕하세', '500p', '토스에서', '재미있게', '될거같습', '따라하기', '구현합니', '그렇습니', '이름으로', '소개하는', '양해부탁', '이동하게', '체크해보', '개인화된', 'MVP에', '부분들이', '걸립니다', '고정되는', 'sele', '여쭈어봅', '진행했습', '옵션셋에', 'Back', '사용했습', '맞는지는', '가로스크', '사이즈는', '버전으로', 'Set으', '생성합니', '만들어줍', 'myta', '하나입니', '혼자서도', '복사하는', '결제일에', 'ㅎㅎ..', '통화기능', '해보시고', 'row로', '무브먼트', '궁금하내', '들어가지', '웹브라우', '자문자답', '나타나지', '많았습니', '구현하셨', 'Appl', '경우입니', '동일하게', '걸까요?', '인증하는', 'conn', '연결하시', '삭제하시', '구성해서', '기본으로', '있겠네요', '잘되네요', '아니면.', 'Open', 'Zero', '말씀이신', '트리거에', '타입으로', '해결하면', '생겼습니', '드립니다', '아침입니', 'Pict', '생각하기', '가능하기', '어떻게하', '버블강의', '커스텀을', '설치하면', 'chan', '방명록이', '익스프레', '공간에서', 'clou', '(도메인', 'Bubb', '구현한다', '가정하면', '알고있습', '이용하여', ':fil', '사이트에', '창의적인', '목적이시', 'API와', '보여줘야', '하시나요', '//:0', '발생합니', '반복되는', '그러는데', 'of..', '것이죠.', '안되나요', 'perf', '없는걸까', '동작하는', '있었네요', '출력해주', 'Type', '수준인지', 'filt', 'pg사를', '마찬가지', '게시판에', '넣으라고', 'regi', '\"no\"', 'copy', 'miss', '고수분들', '괜찮은데', '좋을까요', 'mess', '고려해보', 'set에', '해결하기', '만든다는', '대단하십', '참석하겠', '가능하고', 'merg', '뒤로가기', '살펴보시', '뜹니다.', '0)]f', 'inpu', '싶은데.', '개발하실', '지원해주', '것만으로', 'Disp', '난이도는', 'chec', '주기적으', '연동하시', 'choi', '캘린더를', '거라서요', '복잡하고', 'bott', '작동하는', '만들어야', '접속해서', '구현했는', 'body', '컨디셔널', '이동합니', '여기까지', '했었는데', 'resu', '환영입니', 'Dail', '에디터를', '하드웨어', '하셨는지', '두어서치', '설정하셨', '카카오가', '2023', '데이터만', '서비스인', '쇼케이스', '동기부여', '단축키가', 'Curr', '버벅이는', '표시되는', '개발하기', '리소스를', 'loca', '봐야겠네', '효과적으', '수준이라', 'dedi', '추가하면', '인풋박스', 'make', '정리했습', '난이도가', '안됩니다', '보여지기', 'live', '사용자들', '싶어서요', '텍스트를', '프리뷰로', '들어가면', '여쭤봅니', '어렵더라', '가능하며', '엔드포인', '질문하신', '될거같아', '안되어서', '가능하신', 'need', '작성자가', '의미입니', '만들어봐', '선택해야', '없겠지만', '조건식으', 'canc', '파악하는', '참조하도', '때문이다', '활용하는', 'MVP앱', '클릭되면', '카카오맵', 'tran', '입력해야', '등록하신', '넘어갑니', '없어서요', '사용하다', 'Free', '사용해서', '다음에,', '디자인과', 'soft', '전환하는', '카카오톡', '색깔세트', '누군가의', '없다보니', '고민하고', '거라면,', '적용해야', '알려드리', 'for에', '연동하면', '프라이빗', '필터링하', '질문드려', '도움드리', '이해하시', '있는데.', '괜찮으시', '에디터가', '될겁니다', '입력하시', '살펴보면', '성공적으', '보여주는', '해보도록', '서비스의', '제공하진', '작성하고', '모여있는', '가능한가', '기능명세', '값입니다', '관리하시', '부탁드려', '리디렉션', '바탕으로', '우편번호', '조건으로', 'API로', '여러모로', '남겨주세', '대표님들', '부분입니', 'acce', '변경하고', '플랫폼입', '기능인데', '비활성화', 'pc링크', '작성했던', '챗지피티', '기능들은', '넣어보시', 'over', '아무것도', '부트캠프', 'Valu', '그러면,', '버블이라', '검색기능', '있는지는', '1,2,', '템플릿을', '선택하셔', 'addr', '필요해보', '스크롤에', '화이팅!', '개인적인', '페이먼츠', '프로그램', '피드백이', '적용되는', '적극적으', '만들어서', '못하나요', '남겨봅니', '설명하는', '아니라,', '더블클릭', '넣어주셔', '그러시군', 'yes일', '정사각형', \"'노코드\", '방법밖에', '기획부터', '나타내고', '포인트는', 'Logs', 'Gmai', '스타트업', '개발하셔', 'Freq', '시작합니', '로그인을', '체크해서', '동영상의', '하더라도', '아이콘을', '팝업창을', 'phon', '오른쪽에', '존재하는', '검색어를', '안들어가', '가깝습니', 'json', '선택했을', '얻어가시', '됩니다)', 'docu', '완료했습', '구성되어', '진행하시', '공부하고', '어떤가요', '스크롤되', '리피팅그', '지정해줍', '서비스라', '누군가에', 'Resu', '추가해서', '자체로는', '고민이었', '비전공자', 'Deta', '핵심기능', '지우시려', '아신다면', 'Zoom', '조건식에', '추가하시', '추가한다', '패스워드', '프론트는', '헷갈리는', '해보시면', '조금이라', '보내드리', '중인데요', '특정페이', '다운로드', '사라지는', '실명인증', '찾아봤는', 'Supa', 'cell', 'Canc', '말씀드립', '태그매니', 'zapi', '연동하고', '도메인)', '마음으로', '잘못되었', '이런식으', '누구나-', '혹시..', '되세요~', '하시고요', '이상하게', '진행되는', '가능하지', '학습하고', '좋을텐데', '감사드리', '로그인시', '했는데,', '스케줄이', '페이지로', '깃허브에', '기획하고', '않더라고', '확장하는', '이벤트를', '확장성이', '지원합니', 'anot', '프로퍼티', '0px;', '재은님이', '외주개발', '시작하시', '래핑해서', 'debu', 'coun', '소모되는', '완료되면', '업로드가', '진행되었', '부분에서', '올리도록', 'refr', '삭제하려', '알아두셔', 'expo', 'exte', 'Dele', '찬우님이', \"'타입'\", '버튼이나', 'vari', '사용하려', '안오네요', 'desi', 'API가', '질의응답', '안될겁니', 'type', '답변드리', '개념인가', '문제점이', '도메인은', 'hide', 'marg', '만드나요', '해주시고', '보이는데', '되어서요', '하더라구', '테이블을', '기대되네', '내림차순', '작동되는', '설정한건', '21:0', '자유도가', '싶은데요', '세이브포', '들어있는', '템플릿에', '성공했습', '구매해야', '계시다면', '등록하고', '싶으시면', '노코드가', '옵션셋이', '말씀드릴', '추천하시', '원하시는', '설명해주', '솔루션을', '효율적이', '알림톡으', '않아서요', '효율적으', '2000', '초보적인', '번거로운', '빠릅니다', 'ever', '어렵습니', 'x000', '분들께서', '가능성을', '검증하는', '390p', '만들어진', '도와드릴', '가능할거', '만들려고', 'Make', '원페이지', '구현중인', '것이고,', '개발해야', '그러게요', '어마어마', '의미합니', '되는건지', '머릿속에', '디폴트로', '전화번호', '맞을까요', 'gene', '유튜브를', 'desc', '것입니다', '흠...', '지정하여', '알려주시', '신청해주', '구글애널', '메세지가', '올려주세', '아직까지', '안드로이', '해결하셨', \"'싱크트\", '연락주시', '옵션셋을', '좋아하는', '자체적으', '100%로', 'child', '320px', '체크박스의', '참석하겠습', '1,2,3', '들어갑니다', '웹사이트의', '생성됩니다', '될까요??', '슬라이드를', 'Round', 'side에', '싶은데..', '생각입니다', '아시다시피', '방식입니다', '구현하려면', '사용하려면', 'margi', 'to식당의', '같은데..', '플러그인(', '파일매니저', 'alarm', '쇼케이스에', '[/h1]', '마지막으로', '맞습니다.', '생성하시고', 'list를', '워드프레스', '않았습니다', '텍스트로만', '좋겠네요.', 'Attri', '클릭하고,', 'insta', '설정합니다', '없으니까요', ':plus', '바라겠습니', 'FileU', '플러그인이', 'Short', 'show/', '사용하려고', '안보이네요', 'searc', '사람이라면', '기능[/f', '고민중입니', '사용해보시', '관리하시는', '기능으로는', 'Cance', '개발하면서', '세이브포인', 'page에', '입력하시면', '조건식에서', '누구나-강', '걸어주시면', '기대하겠습', 'opera', '추천드리고', '까다롭네요', 'visib', 'scrip', '기다려봐야', '구현하는게', '서비스들을', '전체적으로', '찾아봐야겠', '말씀주시면', 'Calen', '참고하시라', '문의드립니', '어렵네요.', '러닝커브가', '프로필데이', '작업중인데', '검토해보시', '아니다보니', 'youtu', 'Secre', '활용하시면', '설정해야할', 'Reusa', '되었습니다', '프로그래밍', '디자인으로', '주제는《검', '(type', 'Daily', '방법으로는', '포커스마이', '말씀이신거', '프로토타이', 'value', 'user의', '되더라구요', 'toolb', 'downl', '도메인으로', 'Gener', '필요하다면', '되네요..', '않네요..', '활용하시는', '말씀드리면', '실시간으로', '안되네요.', ':item', 'Sans\"', '워크플로를', '특정페이지', '싶어서요.', '디벨로퍼스', '포트폴리오', 'user로', '만들었고,', '시작했습니', '없는건가요', 'regex', '진행합니다', 'consi', 'dropd', 'loade', '생각해요.', 'iconi', 'when에', '하는데요!', 'initi', '추가한다.', '페이지마다', '와이어프레', '되시나요?', '브라우저의', 'type에', '완료되었다', '구현했습니', 'call을', '디테일이지', 'ID):c', '개인적으로', 'Width', '것만으로도', '[h2][', '상태입니다', '해결하셨는', 'curre', 'Answe', '(text', '다행입니다', 'User의', '플러터플로', '들어가있는', '복사하셔서', '조금이라도', '말씀하신대', 'Conne', 'data4', '하고싶은데', '아이디어가', 'capti', '있긴한데,', '(only', '못하겠네요', '500px', 'inden', '못했는데,', '2024-', '생각합니다', '제작하려고', '가능한지는', '최종적으로', '있으실까요', '때문인데요', 'setti', '드롭다운에', '엘리먼트에', 'BB코드로', '포럼에서도', '(data', 'Loade', '해결방법이', '컨디셔널에', '하는데요,', '1,000', 'heade', '[/quo', 'Strin', '달아주시면', 'Tip버블', '서비스인데', '웹서비스를', '싱크트리는', '말씀이신가', 'msPer', '맞을까요~', 'user를', '정용준입니', '네이티브로', \"url('\", '디자이너가', '어마어마하', '작동하는지', '만들어보았', '플러그인에', 'date가', '모더레이터', '있는데,,', '예시입니다', '부탁드리고', '못하나요?', '체크박스를', '오픈그래프', '신청했습니', '소프트웨어', '만들어주셔', '않을까요?', '해야합니다', '했는데..', 'HmacS', 'A,B,C', '사라집니다', '웹플로우는', '만들어주면', '설정해주시', 'expor', '성공적으로', '플러그인입', '입력합니다', 'JSON을', '말씀드립니', 'Times', 'embed', '노코드라는', 'submi', '죄송합니다', 'www.t', '\"yes\"', '네이버페이', 'pagin', 'share', 'issue', '본격적으로', '아침입니다', '이용합니다', \"text'\", '모르겠습니', '파이어베이', 'creat', 'Andro', 'round', '해주세요.', '새로고침이', 'filte', '체크박스가', '의미합니다', '궁금해서요', '스테이트에', '워크로드를', 'Error', '스테이트를', '보았습니다', '저장하도록', '의미입니다', '해야하나요', '설치하시고', 'trunc', 'minim', 'Uniqu', '있더라구요', '등....', 'forma', '환영입니다', '읽었습니다', 'sheet', 'N잡러되기', '두어서치포', '같아서요.', '그렇군요!', '지우시려는', '대단하시네', '페이지내에', '요청합니다', 'Appli', '워크로드는', '여쭤봅니다', '구현하고자', 'gener', '계획입니다', 'Float', 'phone', 'paren', ':filt', '만들어보는', '알려주셔서', 'page를', '프로젝트에', '추천드립니', '생각됩니다', '있는데..', '궁금한점이', '감사합니당', '개발하려고', '희철님께서', '장바구니에', '부탁드립니', '확인하시면', 'addre', '말씀드리긴', 'signa', '엘리먼트를', '있어요.?', '00:00', '에디터에서', 'Produ', '오퍼레이터', '버블DB에', '였습니다.', '될까요..', 'type은', '관심있습니', 'cente', '아닐까요?', 'repea', '했습니다.', 'Accou', '다행이네요', '그러시군요', '환영합니다', '도움주셔서', '들어가고,', '아닙니다.', 'float', '검색해봤을', '해야하는데', 'sourc', '웹사이트에', '레이아웃은', '가능하다면', '싱글페이지', '그렇습니다', 'previ', 'bubbl', '테스트해본', 'State', '검색해보시', '도움유저에', '시도해보시', '비밀번호를', '설정했습니', '프로덕트는', 'Googl', '만들었는지', '이니셜라이', 'userI', 'Grego', '소개합니다', '비즈니스를', 'debug', 'payme', '하지만..', '분들이라면', '브라우저를', '자연스럽게', '있겠지만,', '감사했습니', '나옵니다.', '준비중입니', '없더라구요', 'true로', '하거든요.', '백엔드에서', '스타트업을', '설명해주셔', '축하드립니', '안됩니다.', '만들어지는', '누군가에게', '화이팅입니', '프로젝트들', 'Layou', '같습니다.', '예외처리를', '설정한다.', '되거든요.', '하는데요.', '있는건가요', '반응형으로', '사용하시면', '해봐야겠네', 'reset', 'manag', '직관적이고', '나오는데,', 'x0008', 'forwa', '토스페이먼', '어떨까요?', '서치포#1', 'delet', '나타납니다', 'deplo', 'Sourc', '웹사이트를', '선배님들의', '정규표현식', 'app으로', '느려집니다', 'Xcode', '구현했는데', '공유해주시', 'app에서', '이동시키는', '하네요..', '없는데..', '값입니다.', '넘어갑니다', 'false', 'prope', '백그라운드', '만드나요?', '보여주도록', 'frame', 'socia', 'Displ', '커스텀스테', '설정하셨나', '회원가입/', '수정했습니', '좋은데요?', '해봐야겠어', 'month', 'backg', '똑같습니다', '그런건가요', 'base6', '말씀해주시', '비효율적이', 'Searc', '}else', 'Users', '발생하더라', 'fuzzy', 'text가', '있을까요!', 'Type을', '설정하고,', 'flutt', '많으셨습니', '인스타그램', '어드민에서', '싶습니다!', 'Mobil', 'serve', '알려주세요', '중입니다.', '아임웹에서', '이런식으로', '모르겠으나', '페이지에서', '[h2]버', '모두의노코', '공유드려요', 'Dynam', 'impor', 'expre', '구축하려고', '없을까요?', '말씀주세요', '프론트에서', '에어테이블', 'ingre', '플러그인을', '프로그램이', '내림차순으', '사용해보신', '가능하고,', '스테이트값', '되는데..', '관심있으신', \"'시간대'\", '있는걸까요', '홈페이지에', 'plan으', '프로젝트는', '신청했는데', '궁금해져서', 'texts', '웨이브온이', '커뮤니티에', '부탁드릴게', '수정하시면', '되겠네요.', '프로젝트를', '워크플로가', 'mytab', 'Manag', '컨테이너의', '첨부했습니', '구현하시는', '다르겠지만', '업데이트되', '첨부합니다', '요런식으로', '않습니다.', '만들어보면', 'refre', '드렸습니다', '참여해주세', '검색결과가', '될거같습니', '보내세요!', '때문이죠.', 'defau', 'Airta', '사람입니다', '정리해봤습', 'plugi', 'user가', '이너스크롤', '올려주세요', '클라이언트', 'TossP', 'numbe', '나오네요.', '사용했어요', '고민하다가', 'width', 'endpo', '_x000', '하는데..', '다음부터는', 'Field', '궁금하네요', '마이페이지', 'wrapp', '최상단으로', 'start', '기능명세서', '예정입니다', 'invis', '많습니다.', '도와주셔서', '버블에서도', '{data', 'postm', 'Base6', '한정적이라', '필요하시면', '참여해보시', '어플리케이', '있는데요.', '처리하시면', '공유하겠습', '[모노데이', '모르겠는데', '가능한건가', '요금제에서', '커뮤니티와', '파라미터로', '참조하도록', 'found', '참고해보시', '엘레먼트에', '-_-;;', '사용하셔서', '있더라고요', '기업권한정', '되는걸까요', '저장합니다', '리유저블로', '웹페이지를', 'store', 'count', '올립니다!', '반복적으로', '드래그하면', '남겨주시면', '커뮤니티의', '말씀하시는', \"'싱크트리\", '추가됩니다', '참고하시면', '조건식으로', '고민해봐도', '때문이다.', '놀랐습니다', '실개발에서', '오토바인딩', 'versi', 'acces', '성공했습니', 'Workf', '서비스에서', '[font', 'table', '정리했습니', '플러그인,', '중요하다.', '체크박스에', '디바이스에', '만들어주는', '있으시다면', 'Delet', '있으니까요', '아닌가요?', 'GROUP', '비개발자가', '신청해주시', '없는걸까요', '노코드툴로', '보이는데,', '디스플레이', '있어서요.', 'integ', '뉴스레터로', '애플로그인', '않더군요.', \"user'\", '싶었습니다', '<styl', '링크입니다', '계실까요?', '자피어에서', 'sort를', '프로퍼티로', '부탁드리겠', '로딩페이지', '답변드리겠', '구조입니다', 'Condi', '이용하시면', '헷갈립니다', '만드셨나요', '넣습니다.', 'rule을', '구현하려는', '대시보드에', '프로그램을', 'data로', '엔지니어링', 'cname', '계실까요~', '답변주시면', '내용입니다', '학생입니다', '배워갑니다', '설정하시면', '설정해야하', '있을거에요', '했습니다!', '배워보려고', 'backe', 'Input', '새로고침해', '노코드툴이', 'attri', '디스콰이엇', '대단하십니', '마찬가지로', '올려주시면', '(2023', '공부중인데', '못합니다.', '스테이트의', '진행하면서', \"'page\", 'minus', '스테이트는', '오픈카톡으', '회원가입을', '있을거예요', 'Math.', \"User'\", '있는데요!', '못했습니다', '도와주시면', '찾아주세요', '업데이트를', '뜨네요..', 'event', '브릿지링크', '될거같은데', 'conta', '영광입니다', '템플릿으로', 'items', '배포했습니', 'posit', '생깁니다.', '문제였네요', 'compo', 'chart', 'Colla', 'Langu', \"'make\", '판매기업인', '툴입니다.', 'when,', '프로토타입', '고수님들께', '하더라고요', 'nativ', '생각하는데', '지속적으로', 'scrol', 'font-', 'messa', '튜토리얼을', '지정하시고', 'fixed', '가능하다는', '불가합니다', '브랜치에서', '아이디어는', '플러그인과', 'alert', 'Store', '구현하시려', '안나오네요', 'Datab', '공유해주셔', '사용했습니', '적극적으로', '편리합니다', '테스트해보', '“B유저의', 'optio', 'Trans', '했는데,,', '안되실까요', '같더군요.', 'exter', '축하드려요', '좋겠습니다', 'name에', 'domai', '들어가보니', '프레임워크', '플랫폼입니', '공부하시는', '이미지처럼', 'Previ', '하는지요?', 'Paren', '있었는데.', '모르겠지만', '중입니다!', '도와주세요', '확인해주세', '3인-장소', 'Sessi', '자체적으로', '없었습니다', '있으세요?', '::-we', '많습니다!', 'const', '등록하시면', '설정해두고', '보겠습니다', '해야하는지', '어떤식으로', '할까요..', '노코드에서', 'supab', '설명해주실', '업데이트된', 'text를', '말씀이실까', '개발자분들', '때문입니다', '해봤는데,', 'Respo', '네비게이션', '스프레드시', '어렵더라고', 'data에', '어떤가요?', '스토리보드', '(elap', '커뮤니티사', 'live에', 'Javas', '이해했는지', '측면에서도', 'first', '이전버전으', '찾아보겠습', '가비아에서', '감사드리겠', '워크플로우', 'Zeroq', '받으세요~', '해봤는데요', '하는건가요', 'Ctrl+', '계신가요?', '필터링하고', 'membe', 'Initi', '읽어주셔서', '많더라고요', 'Multi', 'ChatG', '대시보드를', 'choic', '설정하시고', '느낌이에요', '23:59', 'empty', '프로덕트를', 'statu', '효과적으로', '구현합니다', '디자인이나', '답변감사합', '사업자번호', 'Bubbl', 'Marke', '않습니다)', '고수님들의', 'perfo', '구현하시면', '지정하고,', '확인해보겠', '경우입니다', '체크해보세', '선택해주시', 'cance', 'three', '걸립니다.', '개발자분을', '커스텀으로', '화면에서는', '알려드릴게', 'cloud', '카피라이팅', '기원합니다', '서비스들이', 'date에', '나오는데요', '파란색으로', '추가적으로', 'stati', '해결했습니', '하더라구요', '싱크트리를', 'Frequ', '괜찮습니다', '남겨봅니다', '고수님들,', 'when으', \"item'\", 'missi', '구현하는것', '해야겠네요', '설명해주시', '추천드려요', '애플리케이', 'chatG', '애니메이션', 'Toolb', '인사이트를', '처리하시는', 'globa', '힘듭니다.', '데이터에서', '분들에게는', '쉽습니다.', '생각했는데', '말씀해주신', '보냈습니다', '데이터베이', '테스트모드', 'sched', '방식이라면', '다양합니다', '못하네요.', '다릅니다.', 'date로', '선택하셔서', 'Kakao', '개발자에게', '그로잉피플', '저장하려면', 'airta', '만드시고,', '업데이트하', 'reque', 'strin', '만들었어요', 'page로', 'softr', 'Statu', 'singl', '구합니다.', 'activ', 'pause', '만듭니다.', '프리뷰에서', '정부지원사', '사이트에서', 'monit', 'check', 'pagen', '프론트엔드', 'zapie', '액셀러레이', '좋을까요.', 'type으', '업그레이드', 'Style', '말씀드리자', '만들어두고', '채널톡으로', '있습니다.', '보내주시면', 'merge', 'Pictu', '추천합니다', '파이썬으로', '스크롤바가', '추천해주실', '불가능합니', 'slug를', '메인페이지', '페이지로드', '남겨주세요', '전문가분들', 'datab', '남깁니다.', '확대/축소', '바랍니다!', 'norma', '새로고침을', 'right', '도와드리겠', '알려주시면', '사용하시나', 'Optio', '계실까요.', '컨디션에서', '프로덕트가', '말입니다.', '리스트에서', 'user는', '플러그인만', '진행했습니', '싶으시다면', '아시나요?', '채용공고를', '-----', '없네요..', '않더라고요', '가져옵니다', '작동하는데', '페이지네이', '필터링해서', '표현식으로', 'condi', '있었군요.', '좋았습니다', 'inser', '노출시키는', '브라우저로', 'trigg', '될겁니다.', '가로스크롤', 'list가', 'stora', '!impo', '활성화하면', '이해하시면', '대단합니다', '않습니다!', 'title', 'datat', '워크플로에', '기능인가요', '선택하셔야', 'page으', '스테이트나', '로그인으로', '소스코드를', '스토리지에', '하나입니다', '그런데..', '디테일하게', '기능입니다', '들었습니다', '기대됩니다', 'MySQL', '서비스입니', 'List로', '백엔드워크', '사용했는데', 'layou', 'Cloud', '괜찮을까요', 'list에', 'item이', 'name을', '뒤로가기를', '플러그인의', 'test1', '무엇일까요', '간단해보이', '공유해봅니', 'Webfl', '넣어주시고', '알고있습니', '컴포넌트를', '보여주시면', '(Data', 'align', 'paid,', '이렇습니다', '찾아봤는데', 'set으로', 'Audio', '있습니다~', '진행하려고', '있었습니다', '사용한다면', '막히네요.', 'dashb', 'workf', '필요합니다', '구현하셔야', 'build', '홈페이지와', '고수분들이', '플랫폼에서', 'Image', '브랜드페이', '드립니다!', '소셜로그인', '참고하세요', '익스프레션', 'Date/', '가능합니다', 'times', '사용중인데', 'conve', '모르겠어요', 'Repea', '플러그인으', \"'모노데이\", '단톡방에서', 'elemn', '생각하시는', '예정이에요', '체크하시면', 'popup', '확인하세요', '다운로드가', '적용하시면', '커뮤니티도', '확인해보니', '공유합니다', \"list'\", '고맙습니다', '챗GPT에', '그러셨군요', '가깝습니다', '아니면..', '입문하려는', '커뮤니티가', '퍼센테이지', '감사드려요', '구성했습니', '개발자들이', 'Autho', '고생하셨습', '안되네요ㅠ', '걸릴까요?', '오픈채팅으', '[사요]에', '보내세요~', 'edito', '같더라고요', '보여드리면', 'Align', 'trans', '공유할게요', '사용하셔야', '알겠습니다', '반갑습니다', '양해부탁드', '이해했습니', 'data5', '안되는군요', 'doesn', 'mobil', '됐습니다.', 'Prete', '보이네요.', '사용하는지', '감사해요~', '지정해줍니', '시도해보겠', 'websi', '가능한가요', '필터링하는', '동일합니다', 'respo', '만들어보고', '가능하도록', 'incre', 'would', '생성합니다', '관리인원들', '버블(Bu', '보입니다.', '막막하다면', '해봐야겠습', '되어있는지', 'priva', '기대되네요', '인풋박스에', 'regio', 'Alert', '좋아해요”', '회원가입이', 'Creat', 'displ', '1~5번까', '사용하면서', '어디까지나', '싱크트리로', '말씀드린대', '개발했습니', '엘리먼트들', 'produ', 'Popup', '스테이트로', '감사해요!', '가능하다고', '없습니다.', 'other', '있으신가요', '구성되어있', '있었는데요', '구글로그인', '데이터소스', '하는걸까요', '봤습니다.', '체크해주시', '교육프로그', 'body에', '100만원', '스크롤하면', '단수형으로', '선택합니다', '화이팅하세', 'Gmail', '테이블에서', 'email', '다음페이지', '같아요..', '고수님들!', 'Conte', '시작합니다', '기다리겠습', '찾았습니다', '느낌입니다', 'signu', '저장됩니다', '프롬프트를', '컨디션으로', '있나요..', '있을까요.', '느립니다.', 'suppo', '네이티블리', '모르겠네요', '모르겠어서', '감사합니다', '애널리틱스', '이동합니다', '드래그해서', 'Detai', '확인해보세', '늘어나면서', '설정하는게', '있는데요,', 'datet', '감사하겠습', '같아서요!', 'Playe', '같은데요.', '따라하기]', 'butto', '클래스10', '네이버지도', '되었어요.', '[quot', '썼었습니다', '프로그레스', 'UI/UX', '설정해주세', 'Frame', '참고해주세', '원하시는대', '여쭈어봅니', 'until', '존재합니다', '리트머스의', '페이지에는', '[/h2]', 'Perso', '합니다..', 'clipb', '분[/fo', '정성스러운', 'pleas', 'range', '데이터들을', '지정해주세', '만들기[/', '유용합니다', 'param', '시작하시는', 'none;', '드리겠습니', '프레이머가', '하셨나요?', '고민입니다', '하더군요.', 'logge', '알았습니다', '프로그램에', 'widge', '만들었는데', 'html에', \"cell'\", '구현해야할', '브라우저에', '있겠습니다', '커뮤니티를', 'Impor', 'borde', '응원하겠습', 'Thing', '불러오도록', '공유드립니', '마찬가지입', '있을까요~', '상태에서,', '궁금하내요', '좋겠네요!', 'page가', '사용하거나', '사람들에게', '업로드하고', '변경하시면', 'selec', '고민이었는', 'unhan', '오픈채팅방', '구현하는데', '거라서요.', 'Type의', '됩니다..', 'test2', 'w=102', '노코드라고', '몰랐습니다', '진행하시면', '아이디어를', '다이나믹데', '부분입니다', '안되는건가', 'Curre', '로딩속도는', '등록하고,', '해보겠습니', 'push가', 'text로', '플레이스토', 'hidde', '넣어주세요', 'Recur', '서비스하는', 'file용', '정기결제를', '설정입니다', '궁금합니다', 'Colum', 'type의', '카카오톡으', 'yes/n', '작동합니다', '되겠습니다', '프롬프트값', '싶은데요,', '되는데요.', '태그매니저', '지원합니다', 'uploa', '살펴보시면', 'clien', '추가하거나', '가능하지만', '생겼습니다', '넣어줍니다', '관련해서는', '커스터마이', '프로젝트가', 'Edito', 'colla', '빠릅니다.', 'SEO/m', '않아서..', 'SyncT', '합니다.?', '들어가도록', '편합니다.', '되었는데요', '2023년', '선택하시고', '부족하지만', '설정해두었', 'Nativ', 'capac', '이상하네요', '해야할까요', '그렇군요.', '되더라고요', '홈페이지를', '사용하고,', '참고해보세', '입력해보니', 'date/', '안될겁니다', '확인했습니', '해치하이커', '지정합니다', 'Expre', 'occur', '저런식으로', \"page'\", '시작했는데', '플로팅그룹', 'input', 'User를', '알려주신다', '비개발자에', '편입니다.', '현재로서는', '외주개발을', '유튜브에서', '워크로드가', '무엇인가요', '될것같아요', 'Actio', 'conne', '구글애널리', '퍼포먼스를', '바로가기[', '내부적으로', '블로그에서', '결제시스템', '보여집니다', '작성했습니', '보여줍니다', 'list로', '발송[/f', '같더라구요', '커리큘럼을', '질문있습니', '같습니다~', 'foote', '상세페이지', 'Resul', '해결방법을', '여쭙습니다', '효율적으로', '앱스토어에', 'workl', '봐야겠네요', '우선적으로', 'ignor', '받았습니다', 'Zapie', 'Softr', '감사해요.', '선택하세요', '표시됩니다', '라이브에서', '감사드립니', '디스코드에', 'Setti', '회원정보를', '싶습니다.', 'recur', '감동입니다', '시작하면서', '맞을까요?', '옵션셋으로', '목록테이블', '했는데요.', 'chang', '진행됩니다', '\"unde', '파라미터가', 'anoth', '답변주셔서', '커뮤니케이', '생각해보니', '랜딩페이지', '되어있어서', '필요하다고', '구성하였습', 'node.', '2024년', '생성될때마', '확인해봐야', '좋습니다!', '말씀드릴게', '그라디언트', '어렵습니다', '프로그레시', '관계형으로', 'Picke', 'every', '질문드려봅', '질문입니다', '않았지만,', '있었는데,', '마켓플레이', \"단골'손님\", 'type이', '알림톡으로', 'error', '쓰시나요?', '390px', '커뮤니티로', 'secon', '좋습니다.', 'Start', '진행하시는', 'focus', 'parse', 'state', '정성스럽게', '프로그램은', \"'Opti\", '돌아왔습니', '참고할만한', '만들어놓은', 'redir', '드롭다운의', '도움카운트', '개발하시는', '설정했는데', '확인하시고', 'group', '많았습니다', 'list형', '데이터들이', '지정하시면', '공유해주실', '비밀번호가', '생각하시면', '사용하는데', '방문기록(', '맞습니다!', 'BUBBL', '같습니다!', '안될까요?', 'Grite', '넣었습니다', '아니더라도', '답변해주신', '들어가셔서', '설정하기[', 'conte', 'perce', '드려봅니다', '일반적으로', '로딩속도가', '두었습니다', '넣어주시면', 'multi', '제공해주는', '보여주려고', 'appli', 'Type에', 'users', 'Group', '플러그인들', 'remov', '기억합니다', '디벨로퍼에', '선택하시면', 'entry', '모바일에서', 'limit', '찾아보시면', 'type을', 'https', '연락주세요', '추가하고,', 'actio', 'updat', '어떠세요?', '일괄적으로', 'sendg', '[h2]2', '말씀이시죠', 'item을', 'botto', '추가하시고', '드롭다운이', 'navig', 'live로', '좋을까요?', '비지도학습', '생성하고,', '상황입니다', '레이아웃에', '해봤습니다', '고수님들이', '연동하려고', '오픈했습니', 'eleme', '아임웹으로', 'sorte', '확인합니다', '보이는데요', 'add하는', '늦었습니다', '해놓으셨는', '스타트업이', '구글플레이', '있을까요?', '리스폰시브', '플러그인도', '세부적으로', '업데이트해', '알고리즘을', '사용하시는', '추천하시는', 'reusa', '활용하셔야', '파라미터를', '입력하고,', 'passw', '공유해주세', '하였습니다', '엘리먼트로', '있습니다)', '있나요??', '10,00', 'Priva', 'Board', '하고...', '프리랜서로', '등록하도록', '연결했습니', '프로젝트로', '되나요??', '막막하네요', '사이드프로', 'Sched', 'order', '멋집니다!', '만들어보려', '것입니다.', '다른분들은', '나올까요?', '배웠습니다', '시작했다.', '뜨더라구요', '왕초보입니', '전반적으로', '오픈채팅에', '적어줍니다', '어떤걸까요', 'locat', 'style', '발생합니다', '엘레멘트를', '목적이시라', '확인해볼게', '만들고나서', '버블이라는', '디렉토리에', '안녕하세요', '생각했습니', 'picke', '그레고리에', '문제일까요', '정리하자면', '안되더라구', '되는건가요', '클래스입니', '스타트업,', '빨간색으로', '1000명', '구현가능한', 'docum', 'Set으로', '버블에서의', '직관적으로', 'when을', '레이아웃이', 'radio', 'data를', '추가했습니', '페이지별로', '사용합니다', '않은데요.', '엘리먼트가', '올렸습니다', '플러그인인', '오른쪽으로', '사용자에게', '선택하고,', 'Zoom-', '플랫폼으로', '구체적으로', 'Heade', 'userO', '부탁드려도', '사용자들이', '커뮤니티인', 'isola', '만들었습니', 'spaci', '있겠네요!', 'Firef', '이용하시는', '해놨습니다', '바랍니다.', '디스코드로', 'retur', '가능해요.', '올립니다.', 'recor', '시크릿키를', '질문드립니', 'Supab', 'hardw', '어디서부터', 'Data를', '안되나요?', '안드로이드', '하겠습니다', 'thing', 'List를', '필요하다.', 'index', 'REPEA', '가능하네요', '보여주고자', 'admin', '시행착오를', 'ㅋㅋㅋㅋㅋ', 'dedic', 'ifram', '완료했습니', '낫습니다.', '스타트업에', '드립니다.', '가능할까요', '프로세스를', '만드셨네요', '카카오맵을', '준비했습니', '스토리지를', '그런가요?', '엘리먼트의', 'click', '유저들에게', '올리겠습니', '디버그모드', '찾아보세요', '2023.', '참고해주시', 'playe', '인플루언서', 'color', '제공합니다', '있을겁니다', 'infra', '지정해주면', 'compr', '플러그인은', 'Uploa', '스크립트를', '추천해주시', '샌드그리드', \"'when\", '파라미터에', '사용했고,', 'Backe', 'secre', 'succe', '필요하시다', '프레이머를', '달아주셔서', '시스템으로', 'Dropd', '추가합니다', '리트머스에', '방법입니다', '엔드포인트', '멋지십니다', '미리보기를', 'API헤더', '프로덕트에', '안되더라고', 'Conta', '엘레먼트의', '심리테스트', '있습니다ㅠ', '수정하면서', '같았습니다', 'item으', '요청드립니', '버블에서는', '연결하시면', 'inter', 'cell’', '추가하시면', '있습니다!', 'Logic', 'loop를', 'to유저의', '알아보겠습', '기본적으로', '구현해보신', 'ratio', '클릭하시면', 'dynam', '감사드리고', '업데이트할', '카카오로그', '있어서..', '느꼈습니다', 'data2', '다른가요?', '답변해주셔', 'Event', 'API에서', 'image', '리피팅그룹', '싶은데요.', '중요합니다', '질문인데요', '라이브러리', '설명해주신', '강의입니다', 'plan을', 'direc', 'appea', '해결하였습', '데이터타입', '순차적으로', 'data3', 'Scrip', '드롭다운을', '검색기능을', '넣어주셔야', '있겠네요.', 'kakao', 'sorti', '봤습니다!', '아쉽습니다', '체크해주세', '업데이트가', 'Figma', 'colum', '[/fon', 'ㅠㅠㅠㅠㅠ', '업로드하는', '없습니다!', '레이아웃을', '연락주시면', 'Custo', 'varia', '출력해주는', 'uniqu', '클릭했을때', '알아두셔야', '해보세요~', '되는군요.', 'inspe', '디자이너분', '알려드립니', '기획/디자', '계신가요~', 'custo', 'funct', '통화기능을', 'javas', '화면에서도', '정상적으로', '가능한데,', 'Value', '0)]f7', '<scri', '대박이네요', '부탁드려요', '연결해주는', 'login', '아니라면,', 'Fixed', '만들어줍니', 'Table', \"'Dele\", '걸까요~?', '크리에이터', '완료했는데', 'Butto', '뜻입니다.', 'Eleme', '설정되어있', '여쭤봤습니', '제작했습니', '가능하군요', 'heigh', '되어있습니', '자바스크립', '하이브리드', '해보시겠어', 'resul', 'step1', '모집합니다', '않아서요.', '응원합니다', '센드그리드', '만든건가요', '인터페이스', '해결됐습니', 'servi', '있나요~?', '전화번호를', '구축하셔야', '프라이버시', '기업정보D', '관리대상회', '이미지에서', '해결되었습', '되어있는데', '제출하기를', '있네요..', '높습니다.', '하시나요?', '문제입니다', '피그마에서', '검색하시면', '않나요..', '구현하려고', '네이티브앱', '비어있으면', '주기적으로', 'field', '프로젝트입', 'ㅎㅎㅎㅎㅎ', '안타깝게도', '리프팅그룹', '싶어서요!', '확인해보시', 'devel', '올려봅니다', 'multil', 'SEO/me', '1,2,3,', '[h2]버블', '같아서요..', 'option', 'compre', '기획/디자인', 'Action', '기대하겠습니', '가능합니다!', '하였습니다.', 'forwar', '그렇군요..', '있을까요..', 'value값', 'Result', '공유해주셔서', '프론트엔드로', 'Gregor', 'conten', 'deploy', '워크플로우와', '여쭤봅니다.', 'yes/no', '여쭈어봅니다', '구글애널리틱', '올렸습니다.', 'Javasc', 'Applic', 'conver', '검색해보시면', 'Calend', 'recurr', 'value에', '남겨봅니다!', '사용했습니다', 'node.j', '챗GPT에게', '태그매니저를', '이너스크롤이', '만들었어요.', '알려주세요~', 'creati', '하더라고요.', 'Manage', 'Group의', '다행입니다!', '어렵더라고요', '말씀드릴게요', '추천드립니다', '리피팅그룹에', '불가합니다.', '익스프레션이', '있는건가요?', '확인해봐야겠', '데이터소스를', 'extern', 'create', 'zapier', '무엇인가요?', '엘리먼트에서', 'width에', 'Connec', '지정해주세요', 'clipbo', '설정해야할까', '보겠습니다!', '말씀이신가요', '(elaps', '궁금합니다.', 'Langua', '하이브리드앱', '필요합니다.', '도와주세요.', 'Input에', '사용해보시면', 'flutte', 'TossPa', 'Editor', 'Griter', 'data2,', 'www.te', '넣었습니다.', '될까요..?', '플러그인입니', '커뮤니티에도', '넘어갑니다.', '문제입니다.', '하겠습니다!', '말씀드리자면', 'Loaded', '해치하이커님', 'update', 'chatGP', 'Author', '고맙습니다.', '느낌입니다.', '등.....', '해결하였습니', 'field가', 'state가', 'delete', '괜찮을까요?', '있는데...', 'thing.', 'status', '추천합니다.', 'alignm', '워크플로우의', '생성될때마다', 'custom', '엘리먼트들을', '커스터마이즈', '사용해보신분', 'operat', 'Unique', '부분입니다.', 'redire', 'manage', 'Expres', '좋겠습니다.', 'center', '카카오톡으로', 'ingred', '맞을까요~?', 'event를', '스타트업이라', '괜찮습니다.', '도와드리겠습', '클래스입니다', 'Upload', 'group이', 'HmacSH', 'perfor', '스테이트값이', 'Preten', 'dropdo', '가능한가요?', '하겠습니다.', 'Previe', '플러터플로우', '다음페이지로', 'fixed-', '워크플로우로', '만드셨나요?', '프롬프트값(', \"user's\", '[/font', 'Bubble', 'value)', 'Secret', '다이나믹데이', 'Workfl', 'respon', 'Displa', '확인해보겠습', '있었는데..', 'state에', '부탁드릴게요', '확인해볼게요', '안녕하세요!', 'rounde', '포트폴리오를', 'index페', '남겨주세요!', '_x0008', '있을겁니다.', '워크플로에서', '추가됩니다.', '생각합니다.', 'logged', 'Date/T', '상황입니다.', '질문입니다.', 'align=', 'static', '되겠습니다.', 'State를', '마찬가지입니', '있었습니다.', 'bubble', '여쭤봅니다!', 'image로', '좋겠습니다!', '내용입니다.', '구성하였습니', '추천드려요!', '모르겠어요.', '와이어프레임', '하는데...', 'Recurr', '막막하다면?', 'Contai', '있을까요~?', '기능인가요?', 'Androi', '필요하시다면', '있나요..?', '고민입니다.', 'Create', '감사합니다!', 'cell’s', '토스페이먼츠', '10,000', 'Respon', 'group으', '편리합니다.', '확인해보시면', '오픈카톡으로', '커스터마이징', '있으신가요?', 'second', 'page으로', 'player', 'curren', 'choice', 'when으로', '고수님들께서', 'field로', '기업권한정보', 'value가', 'reusab', 'indent', '준비중입니다', '있을까요!?', '선택합니다.', 'checke', '공유해주시면', '궁금합니다!', 'iframe', 'signup', 'previe', '설정해주세요', '돌아왔습니다', '작성했습니다', '워크플로우가', '해봐야겠습니', '같은데...', '해봐야겠어요', '가능합니다.', '저장합니다.', '알고있습니다', '공유합니다!', 'KakaoA', '만들어주셔서', 'condit', '발생합니다.', '헷갈립니다.', '고생하셨습니', 'parame', 'Zoom-신', 'increa', 'select', '수정했습니다', '사용하시는분', 'missin', '리피팅그룹이', '계실까요..', 'x0008_', 'Dropdo', '감사드려요!', 'supaba', 'base64', 'Webflo', '요청드립니다', '버블(Bub', 'elemnt', '되더라구요.', '플러그인이라', '워크플로우를', '이전버전으로', 'dataty', 'empty인', '추천드려요.', 'insert', 'settin', '설정하셨나요', '해보겠습니다', 'initia', '부탁드려요.', 'Native', '있는걸까요?', '공유드립니다', '공유합니다.', 'succes', '이니셜라이징', 'positi', 'framew', 'global', 'capaci', '하더라고요!', '방식입니다.', 'Layout', '어드민에서는', 'Elemen', '받았습니다.', '지정해줍니다', 'dashbo', '분[/fon', '안녕하세요.', 'thing이', '해보시겠어요', '보여집니다.', '(2023.', '응원합니다!', 'downlo', '적어줍니다.', 'privat', '알려주신다면', 'Parent', '작동합니다.', '지정합니다.', '홈페이지에서', 'phone_', 'group을', 'sortin', '안되는건가요', 'addres', '감사합니다~', '페이지네이션', '클라이언트에', '되었습니다.', '싶었습니다.', 'schedu', 'attrib', '부탁드리겠습', 'Player', 'worklo', '커스텀스테이', '디버그모드로', '쇼케이스에도', 'refres', '이렇습니다.', '감사드립니다', '확인해보세요', '프로그레시어', 'iconif', 'groupi', 'Privac', '화이팅입니다', '[h2]2.', '체크해보세요', '부탁드려요!', '고민이었는데', 'margin', 'Answer', 'change', '않았습니다.', 'single', 'userID', '질문있습니다', 'width가', '애널리틱스에', '랜딩페이지로', '방문기록(U', '1~5번까지', '답변해주셔서', 'Transa', '많으셨습니다', '이런식으로요', '감사하겠습니', 'versio', '문제일까요?', 'radiob', '플러그인이나', '부탁드립니다', '센드그리드를', 'height', '사용합니다.', 'show/h', '액셀러레이터', '죄송합니다.', '워크플로우에', 'Sans\"]', '있으실까요?', 'trunca', 'dynami', '안되더라고요', '0)]f7_', 'editor', '추천해주시면', '교육프로그램', '참여해주세요', '확인했습니다', 'percen', '구현했습니다', 'input의', 'format', 'button', 'data3,', 'suppor', '리피팅그룹을', '웹사이트에서', 'layout', 'transp', 'messag', '말씀해주시면', '배포했습니다', '플러그인에서', '서비스입니다', '공유해주세요', '시도해보겠습', 'Column', '정리했습니다', 'Dynami', '플레이스토어', 'dateti', 'monito', 'secret', '프로토타입을', '방법입니다.', '다행입니다.', '파이어베이스', 'Import', 'pagena', '\"undef', '설명해주시면', 'Backen', 'transf', '표시됩니다.', '감사드리겠습', '양해부탁드립', 'Firefo', 'Custom', 'Conten', '준비했습니다', 'Curren', '카카오로그인', '구현하시려면', 'youtub', 'border', '<style', '알아보겠습니', 'String', '시작했습니다', \"'모노데이'\", '백엔드워크플', 'child(', '가능하다면,', 'parseI', 'Settin', '왕초보입니다', \"input'\", '생성합니다.', '알려드립니다', 'fixed로', '있더라구요.', '사용하시나요', 'backen', '개인적으로는', 'previo', '두었습니다.', '감사합니다ㅎ', '대단하십니다', 'native', '되었습니다!', '해야하나요?', 'font-s', '확인합니다.', 'privac', 'visibl', 'appear', '생각했습니다', '만들었는데요', '브라우저에서', 'Ctrl+C', 'group의', 'Group을', 'trigge', '클래스101', '구현해보신분', '가능합니다~', '정리해봤습니', 'width를', '예정입니다.', 'event에', '세이브포인트', '계실까요??', 'Group으', 'develo', '않네요...', 'things', '애플리케이션', 'sendgr', '생겼습니다.', 'widget', '판매기업인증', '질문인데요.', '선택하세요.', 'contai', '익스프레션을', 'interv', '주제는《검색', 'spacin', '참석하겠습니', '기능입니다.', 'clicke', '에어테이블,', '되는걸까요?', 'https:', 'Detail', '바라겠습니다', '커뮤니티에서', 'Databa', '플러그인이네', 'websit', '진행됩니다.', '리피팅그룹은', 'occurs', '참여해보시는', '모르겠습니다', '플러그인으로', 'LogicC', 'ID):co', 'starte', '개발했습니다', '불가능합니다', '완료했습니다', 'Google', '기다리겠습니', 'region', '관리인원들이', '소셜로그인을', \"'싱크트리'\", '않나요..?', '만들기[/h', '고민중입니다', '하더라구요.', 'dedica', 'Group이', '설정했습니다', 'field에', '신청했습니다', '참고해보시면', 'states', 'string', 'floati', 'index로', '오토바인딩으', '남겨봅니다.', 'scroll', 'thing을', '같습니다..', 'loaded', '있을까요?!', 'mytabl', 'backgr', '구성했습니다', '소개합니다.', '똑같습니다.', '궁금하네요.', 'Reusab', 'Condit', '있을까요??', '(typeo', '있습니다~!', \"index'\", 'Script', 'return', '있습니다..', 'genera', 'databa', '성공했습니다', '만들었는데,', 'Board의', '그레고리에게', 'paymen', '[/quot', '체크해주세요', '말씀하시는걸', '알려주세요.', 'input에', '만들어보려고', '될거같습니다', 'Freque', '해결되었습니', 'date/t', 'Repeat', '어렵습니다.', 'workfl', '되어있습니다', '안녕하세요,', '관심있습니다', 'anothe', 'cancel', 'alert가', '페이지에서는', 'picker', '느려집니다.', '프로토타이핑', '예정입니다!', '모더레이터가', '기업정보DB', 'REPEAT', '리피팅그룹으', '플러그인들이', 'javasc', 'value로', '프로필데이터', '생각입니다.', '이니셜라이즈', 'Produc', 'thing에', 'export', 'SyncTr', '이해했습니다', '2024-0', '모르겠네요ㅠ', 'BUBBLE', '하는걸까요?', '있겠습니다.', \"doesn'\", '[h2][/', 'Tip버블로', '------', '자바스크립트', '정용준입니다', '[quote', 'state으', 'intege', '첨부합니다.', 'docume', '말씀이실까요', '디자이너분이', 'field를', '넣어줍니다.', 'server', 'Initia', '추천해주실만', '네이티브앱으', '답변드리겠습', '모르겠네요.', '보겠습니다.', \"cell's\", '참고해보세요', 'collap', 'Person', '있습니다.?', '말씀하신대로', '공유해봅니다', 'record', 'access', 'source', 'state,', '설정해야하는', '관리대상회원', '감사합니다?', '모두의노코드', 'client', '목적이시라면', 'number', '워크플로우나', '애니메이션을', 'locati', '드리겠습니다', '안녕하세요~', 'invisi', '저장됩니다.', '감사했습니다', 'Button', '제작했습니다', 'msPerM', 'unique', 'wrappi', '했는데...', '넣어주세요.', '좋을까요..', 'Floati', '공유드려요!', 'header', '발송[/fo', '안되더라구요', '오픈했습니다', 'member', 'timest', 'domain', 'state를', 'type으로', 'Genera', '안되네요..', '::-web', 'Math.r', '때문입니다.', '설명해주셔서', '내림차순으로', 'bottom', '데이터베이스', '어플리케이션', '이동합니다.', '확인해주세요', '되는건가요?', '보여줍니다.', '해야합니다.', '찾아봐야겠네', '계신가요??', 'footer', \"item's\", '커뮤니케이션', '진행했습니다', '축하드립니다', 'script', 'upload', 'group에', '설정합니다.', '정리하자면,', '말씀드립니다', '네이티블리로', '없었습니다.', 'Mobile', 'repeat', 'userOr', 'plugin', '해결됐습니다', 'reques', \"'Optio\", 'elemen', 'toolbo', '워크플로우는', 'direct', '없더라구요.', '보았습니다.', 'Option', 'expres', 'filter', 'Privat', 'search', 'import', 'Supaba', '오픈채팅으로', '감사합니다^', 'shared', 'input이', '모르겠지만,', \"thing'\", 'file용량', 'Base64', 'Pictur', 'Airtab', '해결했습니다', 'defaul', '상태입니다.', 'Zeroqo', '만들었습니다', '마켓플레이스', 'Group에', '해치하이커에', '해봐야겠네요', '응원하겠습니', 'item으로', '참고해주세요', 'isolat', '그렇습니다.', 'Source', '들었습니다.', '공유하겠습니', 'font-f', '스프레드시트', '말씀하시는거', \"단골'손님'\", 'Status', '올리겠습니다', '몰랐습니다.', '상세페이지로', 'Zapier', 'state로', '다양합니다.', '찾았습니다.', '나타납니다.', '못했습니다.', 'event의', '문의드립니다', '없는건가요?', '알았습니다.', '설정해주시면', '강의입니다.', '드롭다운에서', '플로팅그룹으', '알려주세요!', 'ignore', 'thing으', 'index에', '구현하시려는', '리트머스에서', '커뮤니티사이', 'ShortU', '스타트업에서', 'produc', '디스콰이엇에', '플랫폼입니다', 'airtab', 'FileUp', 'ㅋㅋㅋㅋㅋㅋ', 'state는', '질문드립니다', '!impor', 'applic', 'connec', \"page's\", '원하시는대로', 'Cancel', 'value를', 'Ctrl+V', '진행합니다.', 'inspec', 'hidden', '경우입니다.', '질문드려봅니', '말씀드린대로', 'result', 'ChatGP', 'naviga', '답변감사합니', \"User's\", '추가했습니다', 'parent', '입력합니다.', 'Picker', 'functi', '좋았습니다.', 'normal', '리피팅그룹의', 'Schedu', '컨디셔널에서', 'proper', 'storag', '어렵네요..', '있습니다.)', '누구나-강연', '반갑습니다.', 'start/', \"group'\", '중요합니다.', 'infras', '랜딩페이지,', 'Sessio', 'servic', '데이터타입으', '알려드릴게요', 'endpoi', '2023.0', 'action', 'mobile', 'three.', 'unhand', 'Accoun', '있으실까요~', '정부지원사업', 'Delete', 'column', '대단하시네요', '말씀이시죠?', 'constr', '첨부했습니다', '네이티블리에', '참고하세요.', ':filte', '기능[/fo', '상황입니다!', 'displa', 'please', '해야할까요?', '계실까요~?', '있으니까요.', 'hardwa', \"'Delet\", 'Search', '회원가입/로', 'postma', '같더라구요.', '추가합니다.', 'Header', '사이드프로젝', 'w=1024', 'sorted', 'captio', '제공합니다.', '연결했습니다', 'submit', '하나입니다.', '<scrip', '가능한건가요', 'minimu', '들어갑니다.', 'plan으로', 'Attrib', '[font=', 'remove', 'active', '대시보드에서', '찾아보겠습니', 'variab', 'input을', 'social', '않습니다..', '프로젝트입니', '프로젝트에서', 'data4,', '감사합니다.', 'passwo', '만들어줍니다', 'signat', 'empty로', '존재합니다.', '생성됩니다.', 'side에서', '가능할까요?', 'Toolbo', '하는건가요?', '말씀하시는건', 'yes/no로', '(typeof', 'iconify', 'number로', '만들었습니다!', 'address', '::-webk', 'Supabas', 'picker에', '플러터플로우는', '진행했습니다.', 'Sans\"]?', '기업정보DB가', 'parseIn', '추천드립니다.', 'youtube', 'attribu', '지정해줍니다.', \"'Option\", 'backend', 'Calenda', 'content', 'website', '다이나믹데이터', 'Picture', '부탁드립니다~', 'creatio', 'ShortUR', '감사합니다..', '참고해보세요.', 'Floatin', '축하드립니다.', 'postmar', 'Airtabl', '배포했습니다.', '있을까요...', '설정해주세요.', 'choices', \"userID'\", 'w=1024&', 'transfe', 'Content', '개발했습니다.', 'Setting', 'ID):cou', 'state으로', '10,000개', '방문기록(UI', '화이팅입니다~', '작성했습니다.', 'invisib', '사이드프로젝트', 'datetim', '문의드립니다.', 'setting', '확인해보세요~', '모두의노코드는', '도와드리겠습니', '감사드립니다!', '말씀이신가요?', '데이터베이스가', 'numbers', '만들어줍니다.', 'isolate', 'Recurri', 'reusabl', '확인해보세요.', 'Zoom-신청', '구성했습니다.', 'framewo', '공유하겠습니다', 'Session', '설정해야할까요', 'Header에', '<script', 'positio', '시작했습니다.', '시도해보겠습니', 'Applica', 'uploade', 'Griters', '회원가입/로그', 'uniqueI', 'Databas', '부탁드리겠습니', 'LogicCa', '해봐야겠습니다', '구글애널리틱스', 'floatin', '사용했습니다.', \"group's\", '데이터타입으로', \"doesn't\", '토스페이먼츠로', '자바스크립트로', 'Created', '찾아보겠습니다', '자바스크립트를', '요청드립니다.', 'Contain', '커스텀스테이트', 'header에', '계실까요..?', 'source는', 'phone_n', '질문드려봅니다', 'Date/Ti', 'FileUpl', 'signatu', '모두의노코드를', 'backgro', 'HmacSHA', 'product', 'version', 'Frequen', '[font=\"', '궁금합니다..', 'appeara', '정용준입니다.', 'current', '해결하였습니다', 'dashboa', 'column이', '안되더라구요.', '감사합니다~!', '대단하십니다.', 'datatyp', 'Android', '누구나-강연자', 'constra', '토스페이먼츠가', '이해했습니다.', 'column으', 'widget-', '답변드리겠습니', '기능[/fon', 'action이', 'thing..', 'font-fa', '말씀하시는거죠', 'Webflow', 'Account', '부탁드립니다!', 'layout을', 'seconds', 'groupin', 'ChatGPT', 'Backend', 'changed', 'Bubble.', '부탁드릴게요!', 'caption', \"'Delete\", 'previou', 'Dynamic', 'dropdow', 'dynamic', 'missing', 'Javascr', 'Respons', 'endpoin', 'passwor', 'source를', 'Source에', '기대하겠습니다', '해결되었습니다', '데이터베이스로', 'inspect', 'paramet', 'Workflo', 'show/hi', 'picker의', 'Product', 'Sans\"]그', '여쭈어봅니다.', '오픈했습니다.', 'develop', 'capacit', 'source에', 'monitor', 'Zeroqod', 'Initial', 'sorting', '플랫폼입니다.', '데이터베이스에', 'private', 'rounded', \"loaded'\", 'https:/', 'SecretK', 'Uploade', '사용하시나요?', 'sendgri', 'convert', '질문드립니다.', 'Express', '0)]f7_e', '워크플로우에서', 'respons', 'another', 'payment', 'workflo', '공유드립니다!', 'SyncTre', 'Sans\"]브', '커뮤니티에서도', 'servers', 'functio', 'nativel', 'three.j', 'Transac', 'clicked', 'starter', 'start/s', '발송[/fon', 'collaps', '백엔드워크플로', 'Connect', 'perform', 'member를', 'Gregory', 'hardwar', 'checked', '네이티브앱으로', 'timesta', 'connect', \"input's\", 'percent', '되어있습니다.', '만들었습니다.', '모르겠습니다만', 'userOrd', 'storage', 'Preview', 'group으로', 'transpa', 'alignme', 'indent=', '모두의노코드에', '감사드립니다.', 'Group으로', 'operato', 'Nativel', '해보겠습니다!', 'Repeati', '말씀하시는걸까', '되었습니다.?', 'zapier로', 'height를', 'preview', 'node.js', '질문드립니다!', '프로젝트입니다', '(2023.0', 'truncat', 'Toolbox', 'documen', 'service', '구현했습니다.', '버블(Bubb', 'Bubble로', '어플리케이션을', 'manager', 'message', '해치하이커에서', 'format(', '감사드립니다~', 'date/ti', '질문있습니다.', '와이어프레임을', ':filter', 'Sans\"][', 'minimum', '화이팅입니다!', 'Element', 'increas', 'General', 'parent로', '도와주세요..', '모르겠네요..', 'interva', '분[/font', '클래스입니다.', 'express', '오토바인딩으로', '해보시겠어요?', 'recurri', '[quote]', '제작했습니다.', '양해부탁드립니', 'index페이', '안되는건가요?', 'infrast', 'bubble로', '첨부했습니다.', 'refresh', '모르겠습니다.', '서비스입니다.', 'thing으로', 'downloa', 'airtabl', 'Math.ro', 'locatio', 'visible', '플러그인이네요', 'success', '고생하셨습니다', 'radiobu', 'Bubble,', 'fixed-w', '있을까요..?', 'Schedul', 'Bubble을', 'Private', 'spacing', '플레이스토어에', '공유드립니다.', 'Attribu', 'multili', 'scrollb', 'plugins', '리피팅그룹으로', '확인해주세요!', 'Privacy', '감사합니다!!', '토스페이먼츠에', '\"undefi', '가능할까요??', '가능한가요??', '답변감사합니다', 'occurs를', '응원합니다!!', '1,2,3,4', 'element', 'workloa', 'Firefox', 'toolbox', 'compres', '있으실까요??', '준비했습니다.', '해결했습니다!', '죄송합니다..', '추천드립니다!', '감사합니다??', '축하드립니다!', '생각했습니다.', '플로팅그룹으로', '정리해봤습니다', '플러그인입니다', '해결했습니다.', '(elapse', '확인해보세요!', '기업권한정보D', 'repeati', 'variabl', 'supabas', '알려드릴게요.', 'support', 'Persona', '감사드려요!!', '[/font]', 'SEO/met', '마찬가지입니다', 'TossPay', '감사드리겠습니', 'Authori', 'KakaoAK', 'www.tes', 'trigger', 'align=l', '확인했습니다.', 'bubble_', 'Sans\"]이', 'margin을', '_x0008_', '감사합니다ㅎㅎ', '안녕하세요,버', '확인해보겠습니', 'clipboa', 'forward', 'group에서', 'height=', 'redirec', 'privacy', '!import', '모르겠네요ㅠㅠ', '페이지네이션을', 'Column으', '구성하였습니다', '2024-02', 'chatGPT', '말씀이실까요?', 'Display', 'Reusabl', 'centere', '응원하겠습니다', 'Bubble기', 'externa', '리피팅그룹에서', 'Sans\"]버', 'Languag', '설정했습니다.', 'display', 'Manager', '있으실까요~?', '플러터플로우가', '데이터베이스를', 'contain', 'Dropdow', 'applica', '드리겠습니다.', '참고해주세요.', '참석하겠습니다', 'navigat', 'ingredi', 'changes', 'javascr', 'search로', '클라이언트에서', '[/quote', '관리대상회원의', 'bubble.', '커뮤니티사이트', '알려드립니다.', 'databas', '파이어베이스에', '-------', 'initial', '해보겠습니다.', 'dedicat', 'request', '안녕하세요..', 'pagenat', 'Pretend', '<style>', 'Current', 'wrappin', 'conditi', 'integer', 'Conditi', 'bubble에', 'default', 'custome', 'ㅋㅋㅋㅋㅋㅋㅋ', 'flutter', '감사합니다^^', '부탁드립니다.', 'formatt', '알아보겠습니다', '[h2][/h', 'mytable', '감사하겠습니다', '같습니다...', 'REPEATI', '문의드립니다!', '설정하셨나요?', '모두의노코드의', 'schedul', 'unhandl', 'w=1024&h', 'ShortURL', 'natively', '커스텀스테이트에', '1,2,3,4,', 'Javascri', 'three.js', 'Sans\"]그래', 'TossPaym', 'Zeroqode', 'performa', '도와드리겠습니다', 'Calendar', 'compress', 'SyncTree', 'Sans\"][/', '워크플로우에서는', 'hardware', 'element를', 'endpoint', 'Settings', 'Uploader', '::-webki', 'floating', '[quote](', '플러그인입니다.', '해결하였습니다!', 'ChatGPT로', '[quote]데', \"userID'로\", 'settings', 'HmacSHA2', 'database', 'password', 'visible/', 'collapse', '확인해보겠습니다', 'Applicat', 'Personal', 'preview가', 'contents', '모두의노코드에도', '감사하겠습니다.', 'manager에', 'userOrde', 'ingredie', 'location', 'Column으로', '모두의노코드에서', 'expressi', 'dashboar', 'Natively', 'Dropdown', 'percenta', '커뮤니티사이트를', 'Date/Tim', 'reusable', '버블(Bubbl', 'Expressi', 'element로', 'Language', 'elements', 'Pretenda', 'SecretKe', 'document', 'dropdown', 'airtable', 'grouping', 'content를', 'invisibl', '감사드리겠습니다', 'Conditio', 'constrai', '기능[/font', '[/quote]', 'radiobut', 'ChatGPT와', '부탁드리겠습니다', '0)]f7_eb', 'unhandle', '발송[/font', 'variable', 'Bubble기본', 'Airtable', 'Math.rou', 'framewor', 'ID):coun', 'scrollba', 'customer', 'uniqueID', 'schedule', 'start/st', 'Sans\"]브랜', '백엔드워크플로우', 'element에', 'indent=0', 'bubble.i', 'iconify라', 'Transact', 'appearan', 'previous', '[/font][', 'truncate', 'SEO/meta', 'Attribut', 'contains', '감사합니다!!!', 'centered', 'multilin', 'refresh를', 'backgrou', '감사하겠습니다!', '2024-02-', 'Initiali', 'external', 'supabase', 'Bubble.i', '기업권한정보DB', 'bubble_f', 'wrapping', '마찬가지입니다.', 'Connecto', 'element는', '구성하였습니다.', '[quote][', '감사합니다...', '모르겠습니다..', '알아보겠습니다.', 'Floating', '커스텀스테이트를', 'increase', 'workflow', 'widget-s', 'connecto', 'paramete', 'bubble에서', 'FileUplo', '분[/font]', '말씀하시는거죠?', 'Recurrin', 'Schedule', 'javascri', '!importa', 'sendgrid', 'preview에', 'timestam', 'repeatin', 'applicat', '해결하였습니다.', '\"undefin', 'pagenati', '감사드립니다..', '안녕하세요,버블', 'https://', 'show/hid', 'Workflow', 'date/tim', 'Repeatin', 'capacity', 'containe', 'redirect', 'alignmen', 'content에', 'datatype', 'uploader', 'infrastr', '감사합니다..!', 'creation', 'Containe', 'datetime', 'phone_nu', 'preview를', '(elapsed', 'transpar', 'Frequenc', 'LogicCar', '양해부탁드립니다', 'initiali', 'Database', 'recurrin', '데이터베이스에서', 'element의', 'response', 'workload', 'transfer', 'parseInt', '감사하겠습니다~', '[font=\"N', 'clipboar', 'Authoriz', '감사합니다~!!', '회원가입/로그인', '있을까요...?', 'Supabase', 'column으로', '[h2][/h2', 'position', 'attribut', 'www.test', 'operator', '--------', 'ㅋㅋㅋㅋㅋㅋㅋㅋ', 'download', '말씀하시는걸까요', '토스페이먼츠에서', 'function', '프로젝트입니다.', 'align=le', 'Reusable', 'font-fam', '부탁드립니다..', '정리해봤습니다.', 'fixed-wi', 'conditio', '찾아보겠습니다!', '답변드리겠습니다', \"format('\", '축하드립니다!!', 'dedicate', '방문기록(UID', '시도해보겠습니다', 'formatte', 'index페이지', 'interval', 'thing...', 'REPEATIN', 'signatur', 'postmark', '감사드립니다!!', 'preview에서', 'Pretendar', 'radiobutt', \"format('w\", '부탁드리겠습니다!', '부탁드리겠습니다.', 'Repeating', 'unhandled', 'airtable을', '0)]f7_eb_', 'phone_num', 'ID):count', 'ingredien', 'Frequency', 'fixed-wid', 'Expressio', 'w=1024&h=', '분[/font][', 'dropdown에', 'ㅋㅋㅋㅋㅋㅋㅋㅋㅋ', 'Date/Time', 'backgroun', '!importan', 'appearanc', '[/font][f', 'connector', 'framework', '2024-02-0', 'multiline', 'workflow가', 'increased', 'timestamp', 'Sans\"]그래서', 'Container', '::-webkit', 'elements를', '감사합니다!!!!', 'font-fami', '감사드리겠습니다!', 'customers', 'Airtable에', 'Transacti', 'repeating', 'Scheduled', 'performan', 'clipboard', 'workflow로', 'document.', 'dashboard', 'recurring', '[font=\"No', 'expressio', '감사드리겠습니다.', 'parseInt(', 'workflows', 'container', 'widget-su', 'natively에', 'Bubble.io', 'dedicated', 'dropdown의', 'Languages', 'natively로', 'show/hide', 'https://d', '\"undefine', 'truncated', 'Workflow에', 'visible/i', 'initializ', '1,2,3,4,5', 'Applicati', 'https://w', 'SEO/metat', 'Settings의', 'signature', 'parameter', '감사하겠습니다!!', 'response를', 'Sans\"]브랜치', 'alignment', 'attribute', 'userOrder', 'javascrip', 'scrollbar', 'Javascrip', 'formatted', 'constrain', 'Initializ', \"workflow'\", '---------', 'workflow의', '[/quote][', 'natively를', 'date/time', '발송[/font]', 'https://b', '말씀하시는걸까요?', 'Connector', 'function(', 'Authoriza', 'HmacSHA25', 'align=lef', 'bubble.io', 'LogicCard', '감사드립니다!!!', 'workflow를', 'invisible', '[quote]데모', 'percentag', '모르겠습니다...', 'Sans\"][/f', 'Recurring', 'Attribute', 'applicati', 'Workflow를', '버블(Bubble', 'TossPayme', 'infrastru', 'condition', 'SecretKey', 'location.', 'FileUploa', 'Math.roun', '방문기록(UID=', 'pagenatio', 'Condition', 'bubble_fn', '기능[/font]', 'workflow는', 'REPEATING', 'transpare', '확인해보겠습니다.', 'workflow에', '[h2][/h2]', 'start/sto', '감사드리겠습니다..', 'date/time을', 'Sans\"][/fo', 'Math.round', 'date/time:', 'widget-suc', 'parseInt(b', 'performanc', 'Conditiona', 'parameter를', 'infrastruc', 'Transactio', 'align=left', 'parameters', '----------', '[h2][/h2][', 'https://bu', 'Pretendard', '분[/font][f', 'appearance', 'RepeatingG', '[/font][fo', 'percentage', 'ㅋㅋㅋㅋㅋㅋㅋㅋㅋㅋ', '0)]f7_eb_O', 'pagenation', 'expression', 'date/timep', 'Expression', '\"undefined', 'applicatio', 'location.h', 'recurring이', '[font=\"Not', 'https://ww', '[/quote][q', 'transparen', 'bubble_fn_', 'Date/TimeP', 'Javascript', 'phone_numb', 'HmacSHA256', 'connector로', 'invisible로', '!important', '방문기록(UID=C', 'condition에', 'Applicatio', 'workflow에서', 'initialize', 'conditiona', 'SEO/metata', '부탁드리겠습니다..', 'condition을', 'bubble_fn<', 'radiobutto', 'connector에', 'Initialize', '감사합니다!!!!!', \"format('wo\", 'font-famil', 'start/stop', '::-webkit-', 'ingredient', 'background', 'recurring을', 'TossPaymen', 'Connector로', 'visible/in', 'Authorizat', 'constraint', '기능[/font][', 'document.g', '버블(Bubble)', 'function(d', 'fixed-widt', 'FileUpload', 'Connector를', 'bubble.io에', 'parameter로', 'javascript']\n"
          ]
        }
      ]
    },
    {
      "cell_type": "code",
      "source": [
        "#MLM을 위한 데이터셋의 일부를 [MASK] 토큰으로 교체하는 함수\n",
        "def mask_input_ids(input_ids, tokenizer, mlm_probability=0.15):\n",
        "    labels = input_ids.clone()\n",
        "\n",
        "    #각 입력에서 특수 토큰은 마스킹하지 않도록 설정\n",
        "    special_tokens_mask = [\n",
        "      torch.tensor(tokenizer.get_special_tokens_mask(val, already_has_special_tokens=True), dtype = torch.bool)\n",
        "      for val in input_ids]\n",
        "    special_tokens_mask = torch.stack(special_tokens_mask)\n",
        "\n",
        "    #마스킹 확률을 적용해 마스크 생성\n",
        "    probability_matrix = torch.full(labels.shape, mlm_probability)\n",
        "    probability_matrix.masked_fill_(special_tokens_mask, value=0.0)\n",
        "    masked_indices = torch.bernoulli(probability_matrix).bool()\n",
        "\n",
        "    # PyTorch에서 사용하는 masked loss 계산을 위해 마스킹 되지 않은 부분은 -100으로 설정\n",
        "    labels[~masked_indices] = -100\n",
        "\n",
        "    # `[MASK]` 토큰으로 대체\n",
        "    input_ids[masked_indices] = tokenizer.convert_tokens_to_ids(tokenizer.mask_token)\n",
        "    return input_ids, labels"
      ],
      "metadata": {
        "id": "QqeXyRL9OPqZ"
      },
      "execution_count": null,
      "outputs": []
    },
    {
      "cell_type": "markdown",
      "source": [
        "#KcBERT 훈련"
      ],
      "metadata": {
        "id": "5JqU8fiKsQTC"
      }
    },
    {
      "cell_type": "code",
      "execution_count": null,
      "metadata": {
        "id": "LHdWohm7tup8",
        "colab": {
          "base_uri": "https://localhost:8080/",
          "height": 356,
          "referenced_widgets": [
            "1a12098b41364e379c1e5b3d3b52dc9c",
            "d2695e86af05495bb8287ccd43c93468",
            "ff9d804fd76a49e19a54741b8e5813b6",
            "5d217d6560444f9e82dbf5d62b3f73f2",
            "ff4a7244d0474265a99950f6e0940d42",
            "7b4c13a8944944dbb0cb93328b21722b",
            "92e405d6631e43259cd71874e85817fc",
            "c30cac50857442d48ebc8f02cf2d4776",
            "2eff9cc141974c3e99a8992a78f8e129",
            "8690257c08674c26982f1d8b76857f47",
            "d463385e4b64482da59454fe9da749f4",
            "6b4bb076d8374c419c1dbb40e58f4f37",
            "aa45a00935e54bb499c2577484b5e1dc",
            "69628645a8f840a98fb0ca9a24f61ad7",
            "1f692b171af0456191771faafcd0a9bf",
            "167a712919b74abfa330c215f3b9fbbf",
            "9817bef26aaf404089d941800a666670",
            "48dae4b343e24e20962353319ec6063b",
            "3151f55da54f42d4aec7ce5782882531",
            "9ff2d52d1aa2435bb44bd69b0d0999f0",
            "eb0fe85c0e3b4f428a7ef0a72d349d96",
            "f5aa601140eb4d4faa3a68ad24816012",
            "14917fa75c42428986c7869cb47ba426",
            "af731dea0a7243ccb330d0019c7b21c0",
            "2cf18186a619444e84d018bffa538712",
            "a363788abd5e4c7d9e0f36af6cb9206f",
            "33c3b8af9dab4591864164dce1cd953f",
            "300c6b96142c44f5a43e3321a156b9c6",
            "2f290c99da104444b14b214fa588bfe0",
            "451cb578b1e74ed881795b3b9ecda5f6",
            "d9d3ac6c761d49aabd87501a516e8de3",
            "7e0ee0c653d9468792ebc826deb5c217",
            "834a444cc9e64d00a22e5528ab9ed5b1",
            "93d7954b71f846f08e37ef101d1c1e71",
            "6dcc8990f75e4447883c9ed36c721ac1",
            "54d51391d59742168145389e320da5cc",
            "18469d1cdd7342079faf73565616fb0b",
            "2fc668e162c24ca5b065c535894aabdb",
            "904dd4415265422b9fcee08da702b3d4",
            "3113a49fadd74303b4e7a5507e836884",
            "cb230279047549e9a84867ec85249104",
            "4146d6d9c3da4e9ab653947ecee5092a",
            "6cd6bdd4bcd849ea8fcb11ae5d337428",
            "8aa4c10c3c6f44c1900e4ae5ee62bf2e"
          ]
        },
        "outputId": "4c3e971d-a66a-47ca-e4d9-c0979c74f287"
      },
      "outputs": [
        {
          "output_type": "stream",
          "name": "stderr",
          "text": [
            "/usr/local/lib/python3.10/dist-packages/huggingface_hub/file_download.py:1132: FutureWarning: `resume_download` is deprecated and will be removed in version 1.0.0. Downloads always resume when possible. If you want to force a new download, use `force_download=True`.\n",
            "  warnings.warn(\n",
            "/usr/local/lib/python3.10/dist-packages/huggingface_hub/utils/_token.py:89: UserWarning: \n",
            "The secret `HF_TOKEN` does not exist in your Colab secrets.\n",
            "To authenticate with the Hugging Face Hub, create a token in your settings tab (https://huggingface.co/settings/tokens), set it as secret in your Google Colab and restart your session.\n",
            "You will be able to reuse this secret in all of your notebooks.\n",
            "Please note that authentication is recommended but still optional to access public models or datasets.\n",
            "  warnings.warn(\n"
          ]
        },
        {
          "output_type": "display_data",
          "data": {
            "text/plain": [
              "tokenizer_config.json:   0%|          | 0.00/49.0 [00:00<?, ?B/s]"
            ],
            "application/vnd.jupyter.widget-view+json": {
              "version_major": 2,
              "version_minor": 0,
              "model_id": "1a12098b41364e379c1e5b3d3b52dc9c"
            }
          },
          "metadata": {}
        },
        {
          "output_type": "display_data",
          "data": {
            "text/plain": [
              "config.json:   0%|          | 0.00/619 [00:00<?, ?B/s]"
            ],
            "application/vnd.jupyter.widget-view+json": {
              "version_major": 2,
              "version_minor": 0,
              "model_id": "6b4bb076d8374c419c1dbb40e58f4f37"
            }
          },
          "metadata": {}
        },
        {
          "output_type": "display_data",
          "data": {
            "text/plain": [
              "vocab.txt:   0%|          | 0.00/250k [00:00<?, ?B/s]"
            ],
            "application/vnd.jupyter.widget-view+json": {
              "version_major": 2,
              "version_minor": 0,
              "model_id": "14917fa75c42428986c7869cb47ba426"
            }
          },
          "metadata": {}
        },
        {
          "output_type": "display_data",
          "data": {
            "text/plain": [
              "model.safetensors:   0%|          | 0.00/438M [00:00<?, ?B/s]"
            ],
            "application/vnd.jupyter.widget-view+json": {
              "version_major": 2,
              "version_minor": 0,
              "model_id": "93d7954b71f846f08e37ef101d1c1e71"
            }
          },
          "metadata": {}
        },
        {
          "output_type": "stream",
          "name": "stderr",
          "text": [
            "Some weights of the model checkpoint at beomi/kcbert-base were not used when initializing BertForMaskedLM: ['bert.pooler.dense.bias', 'bert.pooler.dense.weight', 'cls.seq_relationship.bias', 'cls.seq_relationship.weight']\n",
            "- This IS expected if you are initializing BertForMaskedLM from the checkpoint of a model trained on another task or with another architecture (e.g. initializing a BertForSequenceClassification model from a BertForPreTraining model).\n",
            "- This IS NOT expected if you are initializing BertForMaskedLM from the checkpoint of a model that you expect to be exactly identical (initializing a BertForSequenceClassification model from a BertForSequenceClassification model).\n"
          ]
        }
      ],
      "source": [
        "#Huggingface의 원본 모델 로드\n",
        "#BertForMaskedLM 구조에 맞게 모델 불러오기\n",
        "HUGGINGFACE_MODEL_PATH = 'beomi/kcbert-base'\n",
        "\n",
        "KcBERT_tokenizer = AutoTokenizer.from_pretrained(HUGGINGFACE_MODEL_PATH)\n",
        "KcBERT_model = BertForMaskedLM.from_pretrained(HUGGINGFACE_MODEL_PATH)"
      ]
    },
    {
      "cell_type": "code",
      "source": [
        "# Trainer가 알아서 gpu를 감지하고 모델과 데이터를 gpu로 옮겨줌\n",
        "#GPU 사용 코드\n",
        "device = torch.device(\"cuda\" if torch.cuda.is_available() else \"cpu\")\n",
        "\n",
        "#파이프라인을 사용하는 경우 GPU로 모델을 옮겨준 뒤 파이프라인에 모델을 넣어줘야 함\n",
        "KcBERT_model.to(device)"
      ],
      "metadata": {
        "id": "GiV7YeRg7oVq",
        "colab": {
          "base_uri": "https://localhost:8080/"
        },
        "outputId": "c5ba6e59-7888-4e44-8f47-b11e8c90a4cc"
      },
      "execution_count": null,
      "outputs": [
        {
          "output_type": "execute_result",
          "data": {
            "text/plain": [
              "BertForMaskedLM(\n",
              "  (bert): BertModel(\n",
              "    (embeddings): BertEmbeddings(\n",
              "      (word_embeddings): Embedding(30000, 768, padding_idx=0)\n",
              "      (position_embeddings): Embedding(300, 768)\n",
              "      (token_type_embeddings): Embedding(2, 768)\n",
              "      (LayerNorm): LayerNorm((768,), eps=1e-12, elementwise_affine=True)\n",
              "      (dropout): Dropout(p=0.1, inplace=False)\n",
              "    )\n",
              "    (encoder): BertEncoder(\n",
              "      (layer): ModuleList(\n",
              "        (0-11): 12 x BertLayer(\n",
              "          (attention): BertAttention(\n",
              "            (self): BertSelfAttention(\n",
              "              (query): Linear(in_features=768, out_features=768, bias=True)\n",
              "              (key): Linear(in_features=768, out_features=768, bias=True)\n",
              "              (value): Linear(in_features=768, out_features=768, bias=True)\n",
              "              (dropout): Dropout(p=0.1, inplace=False)\n",
              "            )\n",
              "            (output): BertSelfOutput(\n",
              "              (dense): Linear(in_features=768, out_features=768, bias=True)\n",
              "              (LayerNorm): LayerNorm((768,), eps=1e-12, elementwise_affine=True)\n",
              "              (dropout): Dropout(p=0.1, inplace=False)\n",
              "            )\n",
              "          )\n",
              "          (intermediate): BertIntermediate(\n",
              "            (dense): Linear(in_features=768, out_features=3072, bias=True)\n",
              "            (intermediate_act_fn): GELUActivation()\n",
              "          )\n",
              "          (output): BertOutput(\n",
              "            (dense): Linear(in_features=3072, out_features=768, bias=True)\n",
              "            (LayerNorm): LayerNorm((768,), eps=1e-12, elementwise_affine=True)\n",
              "            (dropout): Dropout(p=0.1, inplace=False)\n",
              "          )\n",
              "        )\n",
              "      )\n",
              "    )\n",
              "  )\n",
              "  (cls): BertOnlyMLMHead(\n",
              "    (predictions): BertLMPredictionHead(\n",
              "      (transform): BertPredictionHeadTransform(\n",
              "        (dense): Linear(in_features=768, out_features=768, bias=True)\n",
              "        (transform_act_fn): GELUActivation()\n",
              "        (LayerNorm): LayerNorm((768,), eps=1e-12, elementwise_affine=True)\n",
              "      )\n",
              "      (decoder): Linear(in_features=768, out_features=30000, bias=True)\n",
              "    )\n",
              "  )\n",
              ")"
            ]
          },
          "metadata": {},
          "execution_count": 3
        }
      ]
    },
    {
      "cell_type": "code",
      "source": [
        "# 새로운 단어 토크나이저에 추가\n",
        "num_added_toks = KcBERT_tokenizer.add_tokens(new_vocab)\n",
        "print(f\"Added {num_added_toks} tokens\")\n",
        "\n",
        "# 모델의 임베딩 크기 조정\n",
        "KcBERT_model.resize_token_embeddings(len(KcBERT_tokenizer))"
      ],
      "metadata": {
        "id": "0nQBWVrDeVoZ",
        "colab": {
          "base_uri": "https://localhost:8080/"
        },
        "outputId": "93db3b8e-5b21-4100-91f0-0dbfe05d077f"
      },
      "execution_count": null,
      "outputs": [
        {
          "output_type": "stream",
          "name": "stdout",
          "text": [
            "Added 16829 tokens\n"
          ]
        },
        {
          "output_type": "execute_result",
          "data": {
            "text/plain": [
              "Embedding(44857, 768)"
            ]
          },
          "metadata": {},
          "execution_count": 8
        }
      ]
    },
    {
      "cell_type": "code",
      "source": [
        "#MLM 데이터셋 준비\n",
        "corpus = pretrain_list\n",
        "tokenized_corpus = KcBERT_tokenizer(corpus, add_special_tokens = True, max_length = KcBERT_model.config.max_position_embeddings, truncation = True, padding = 'max_length', return_tensors = 'pt')"
      ],
      "metadata": {
        "id": "OqnrjM0tf9gi"
      },
      "execution_count": null,
      "outputs": []
    },
    {
      "cell_type": "code",
      "source": [
        "print(tokenized_corpus)"
      ],
      "metadata": {
        "colab": {
          "base_uri": "https://localhost:8080/"
        },
        "id": "F-Ao2Bz5NvKu",
        "outputId": "3ab77a2b-ecbc-4fff-86ab-34c7c5a4727d"
      },
      "execution_count": null,
      "outputs": [
        {
          "output_type": "stream",
          "name": "stdout",
          "text": [
            "{'input_ids': tensor([[    2, 10306,  9206,  ...,     0,     0,     0],\n",
            "        [    2, 18702,  1572,  ...,     0,     0,     0],\n",
            "        [    2, 39402,  8606,  ...,     0,     0,     0],\n",
            "        ...,\n",
            "        [    2, 39950,    17,  ...,     0,     0,     0],\n",
            "        [    2,  8108, 35185,  ...,     0,     0,     0],\n",
            "        [    2, 29952, 10220,  ...,     0,     0,     0]]), 'token_type_ids': tensor([[0, 0, 0,  ..., 0, 0, 0],\n",
            "        [0, 0, 0,  ..., 0, 0, 0],\n",
            "        [0, 0, 0,  ..., 0, 0, 0],\n",
            "        ...,\n",
            "        [0, 0, 0,  ..., 0, 0, 0],\n",
            "        [0, 0, 0,  ..., 0, 0, 0],\n",
            "        [0, 0, 0,  ..., 0, 0, 0]]), 'attention_mask': tensor([[1, 1, 1,  ..., 0, 0, 0],\n",
            "        [1, 1, 1,  ..., 0, 0, 0],\n",
            "        [1, 1, 1,  ..., 0, 0, 0],\n",
            "        ...,\n",
            "        [1, 1, 1,  ..., 0, 0, 0],\n",
            "        [1, 1, 1,  ..., 0, 0, 0],\n",
            "        [1, 1, 1,  ..., 0, 0, 0]])}\n"
          ]
        }
      ]
    },
    {
      "cell_type": "code",
      "source": [
        "#MLM을 위한 masked 데이터셋 생성(MLM에서는 stratify 적용하지 않음.)\n",
        "masked_inputs, labels = mask_input_ids(tokenized_corpus['input_ids'], KcBERT_tokenizer)\n",
        "pretrain_dict = {'input_ids' : masked_inputs, 'attention_mask' : tokenized_corpus['attention_mask'], 'labels' : labels}\n",
        "pretrain_dataset = Dataset.from_dict(pretrain_dict)\n",
        "pretrain_dataset = pretrain_dataset.train_test_split(test_size = 0.1)"
      ],
      "metadata": {
        "id": "RHXVcwJ2O3eH"
      },
      "execution_count": null,
      "outputs": []
    },
    {
      "cell_type": "code",
      "source": [
        "# 훈련 설정\n",
        "training_args = TrainingArguments(\n",
        "    output_dir = './results',\n",
        "    evaluation_strategy = 'steps',\n",
        "    eval_steps = 500,\n",
        "    save_strategy = \"steps\",\n",
        "    save_steps = 500,\n",
        "    num_train_epochs = 3,\n",
        "    save_total_limit = 3,\n",
        "    per_device_eval_batch_size = 8,\n",
        "    per_device_train_batch_size = 8,\n",
        "    warmup_steps = 300, #고려사항\n",
        "    weight_decay = 0.01, #고려사항\n",
        "    logging_dir = \"./logs\",\n",
        "    load_best_model_at_end = True\n",
        ")\n",
        "\n",
        "# 트레이너 생성\n",
        "trainer = Trainer(\n",
        "    model = KcBERT_model,\n",
        "    args = training_args,\n",
        "    train_dataset = pretrain_dataset['train'],\n",
        "    eval_dataset = pretrain_dataset['test'],\n",
        "    callbacks = [EarlyStoppingCallback(patience = 5)]\n",
        ")\n",
        "\n",
        "# 훈련 시작\n",
        "trainer.train()"
      ],
      "metadata": {
        "colab": {
          "base_uri": "https://localhost:8080/",
          "height": 201
        },
        "id": "1EWb_-k2yFmG",
        "outputId": "ec7cf8a1-89d8-4674-f5b1-0e82d2a3301b"
      },
      "execution_count": null,
      "outputs": [
        {
          "output_type": "display_data",
          "data": {
            "text/plain": [
              "<IPython.core.display.HTML object>"
            ],
            "text/html": [
              "\n",
              "    <div>\n",
              "      \n",
              "      <progress value='2118' max='16113' style='width:300px; height:20px; vertical-align: middle;'></progress>\n",
              "      [ 2118/16113 29:20 < 3:14:01, 1.20 it/s, Epoch 0.39/3]\n",
              "    </div>\n",
              "    <table border=\"1\" class=\"dataframe\">\n",
              "  <thead>\n",
              " <tr style=\"text-align: left;\">\n",
              "      <th>Step</th>\n",
              "      <th>Training Loss</th>\n",
              "      <th>Validation Loss</th>\n",
              "    </tr>\n",
              "  </thead>\n",
              "  <tbody>\n",
              "    <tr>\n",
              "      <td>500</td>\n",
              "      <td>7.463500</td>\n",
              "      <td>7.170615</td>\n",
              "    </tr>\n",
              "    <tr>\n",
              "      <td>1000</td>\n",
              "      <td>7.100200</td>\n",
              "      <td>6.953511</td>\n",
              "    </tr>\n",
              "    <tr>\n",
              "      <td>1500</td>\n",
              "      <td>6.873800</td>\n",
              "      <td>6.824831</td>\n",
              "    </tr>\n",
              "    <tr>\n",
              "      <td>2000</td>\n",
              "      <td>6.812900</td>\n",
              "      <td>6.713923</td>\n",
              "    </tr>\n",
              "  </tbody>\n",
              "</table><p>"
            ]
          },
          "metadata": {}
        }
      ]
    },
    {
      "cell_type": "code",
      "source": [
        " #google drive에 학습된 모델을 저장\n",
        "save_path = '/content/drive/My Drive/Pretrained_Model'\n",
        "\n",
        "KcBERT_model.save_pretrained(save_path)\n",
        "KcBERT_tokenizer.save_pretrained(save_path)"
      ],
      "metadata": {
        "id": "JrMF8WdbPBQQ"
      },
      "execution_count": null,
      "outputs": []
    },
    {
      "cell_type": "markdown",
      "source": [
        "#KoSimCSE_BERT 훈련"
      ],
      "metadata": {
        "id": "59CpPh6CsIx-"
      }
    },
    {
      "cell_type": "code",
      "source": [
        "#먼저 pooler 층을 변수로 저장해두기 위해 모델을 AutoModel로 로드\n",
        "HUGGINGFACE_MODEL_PATH = 'BM-K/KoSimCSE-bert-multitask'\n",
        "\n",
        "KoSim_model = AutoModel.from_pretrained(HUGGINGFACE_MODEL_PATH)\n",
        "\n",
        "#pooler 층의 파라미터만 변수로 저장\n",
        "pooler_layer = KoSim_model.pooler"
      ],
      "metadata": {
        "colab": {
          "base_uri": "https://localhost:8080/",
          "height": 240,
          "referenced_widgets": [
            "2957b445405f475baafef050eb16bf1d",
            "749bc9755cd0471a951d7de56d8be486",
            "b38028d0d0e346f0852dd37cd8fc93b0",
            "2ee4d9e8e32c4402a32a8297e42c3c23",
            "d0ed7564dd9543d18c11b1c3d843b9be",
            "30260cb917f94f029a9cd26ef6b3820e",
            "82dd7ead672241a19111c4c55261bf40",
            "965d2ddc320e47a6b86f40bd68f93d69",
            "6450bdb549d74745a5574bd6b6826ec6",
            "a430b35a89c44291b4d4e7ad9361300c",
            "19a46e085b794eb39bdb0d05d02f48e3",
            "581645ca6acd408daa749342e5d900ee",
            "8b4a33615d274751b0431d2c679c8dc2",
            "c9f9e9cb7e6340a8a561d97596469381",
            "c252a59150bd435dadfa4c586d0e7dab",
            "f8917623b16641329ba90b9a650c90d6",
            "1f0b61250a41441cb918dd0ebb8bd40d",
            "17171fb8ed414d9693cc6fd9e466a202",
            "f2d5a95189044a2da8ec1c94a7d6d97d",
            "1da7bb0901584130b435d4ea20a6bb38",
            "c02376fbd0014d1fa19409617fc360b2",
            "13577b32c0a0462e98cb63ed6dc642b3"
          ]
        },
        "id": "86_W4LPlrwsm",
        "outputId": "9de37bfa-6823-4f65-ec9f-23f6f8c7b477"
      },
      "execution_count": null,
      "outputs": [
        {
          "output_type": "stream",
          "name": "stderr",
          "text": [
            "/usr/local/lib/python3.10/dist-packages/huggingface_hub/file_download.py:1132: FutureWarning: `resume_download` is deprecated and will be removed in version 1.0.0. Downloads always resume when possible. If you want to force a new download, use `force_download=True`.\n",
            "  warnings.warn(\n",
            "/usr/local/lib/python3.10/dist-packages/huggingface_hub/utils/_token.py:89: UserWarning: \n",
            "The secret `HF_TOKEN` does not exist in your Colab secrets.\n",
            "To authenticate with the Hugging Face Hub, create a token in your settings tab (https://huggingface.co/settings/tokens), set it as secret in your Google Colab and restart your session.\n",
            "You will be able to reuse this secret in all of your notebooks.\n",
            "Please note that authentication is recommended but still optional to access public models or datasets.\n",
            "  warnings.warn(\n"
          ]
        },
        {
          "output_type": "display_data",
          "data": {
            "text/plain": [
              "config.json:   0%|          | 0.00/675 [00:00<?, ?B/s]"
            ],
            "application/vnd.jupyter.widget-view+json": {
              "version_major": 2,
              "version_minor": 0,
              "model_id": "2957b445405f475baafef050eb16bf1d"
            }
          },
          "metadata": {}
        },
        {
          "output_type": "display_data",
          "data": {
            "text/plain": [
              "model.safetensors:   0%|          | 0.00/442M [00:00<?, ?B/s]"
            ],
            "application/vnd.jupyter.widget-view+json": {
              "version_major": 2,
              "version_minor": 0,
              "model_id": "581645ca6acd408daa749342e5d900ee"
            }
          },
          "metadata": {}
        }
      ]
    },
    {
      "cell_type": "code",
      "source": [
        "#MLM으로 domain adaptation을 진행하기 위해 모델을 BertForMaskedLM으로 로드\n",
        "HUGGINGFACE_MODEL_PATH = 'BM-K/KoSimCSE-bert-multitask'\n",
        "\n",
        "KoSim_model = BertForMaskedLM.from_pretrained(HUGGINGFACE_MODEL_PATH)\n",
        "KoSim_tokenizer = AutoTokenizer.from_pretrained(HUGGINGFACE_MODEL_PATH)\n",
        "\n",
        "device = torch.device(\"cuda\" if torch.cuda.is_available() else \"cpu\")\n",
        "KoSim_model.to(device)"
      ],
      "metadata": {
        "colab": {
          "base_uri": "https://localhost:8080/",
          "height": 1000,
          "referenced_widgets": [
            "10992ec23dc84a6fbb5debe43019df25",
            "051cbff08a0942f884826351b93c31be",
            "bdbcaaf659f744598a3e3e1a0bc4942f",
            "1c85333b1dac4b8abefe71d3e5ebace8",
            "b2d10242b6ba47dcb791a52526302e66",
            "913698ff32b94f4294b2fb663c4ef900",
            "99021712b61e4db58d3665fd6f7895dc",
            "583779535b0544128badc3a475bd57b4",
            "53491343e5a5447bb6ec8538805ef226",
            "e42673f1db2f44749caaf39e7c5966ec",
            "9352ece95c67488db191db8d24fe3515",
            "5f1e9b98b17f47339274fa3d6bad90d5",
            "9c3c25bb70f84fba9d8b5d6e1c11479a",
            "fc51cafa917446df8e246944f6333b33",
            "87bcd7d8837d4780bc7c8e78e1bc61b0",
            "f333f963a68c4d28b6a58f55a822cfeb",
            "c1ebf59e7c91432daca99c01c63fc6a5",
            "f39f654149b14de3a9828b6b96e89d7f",
            "6b76803c378c421b866871408d084b46",
            "8f51333c7ab54d2bad57be947ec06d06",
            "15d9fd657eb04642a3f7a8304f6f1600",
            "8e3d79bf4f0c4717b3e3a6c4e8fa266b",
            "b10a895c52ba4f61aaa2117f6bd28ea1",
            "c3158faecb844b3db61d877705a57176",
            "956bac1ad8554a94a71ed097ccd7ddaf",
            "d715a4a882b445aeace8d9bdd50b94eb",
            "a3bedabaeab94e4fb930fe2f7f1e42ae",
            "e5ed58123eeb47c2b01e9e7504f3808f",
            "d825471b14594fdaa2c29cf46e6c66f0",
            "c93693dc07a046808ac1b25fafab9c76",
            "352ff28537214235aef75e445827939f",
            "e15c9f8d058e40728cb0af187efe8bf7",
            "af7f8d3314134312a1d345d55d41a888",
            "1b0a3c34ce3a4452a3d7614196290472",
            "3ac4c13b879f491da6180ba9f30da56e",
            "6fbc524ad8484950bb1cbaf54fed08d3",
            "bceb2ba6cfc44fd1943075537801ec1f",
            "d97aee031f6547f1bff5e03c9e3f8155",
            "6ebf999173cd4a89bd041fbb163f5030",
            "fffd43b8b2c74b05947244c4accfd801",
            "5bfdc414fb4649f1a5c4b72aa96e945e",
            "399af771f22d47fb8ac418fb03e87650",
            "f0972154c41c476d9960091d1dc4a33c",
            "cd992b00e9b841cdbc5787168f7c10d2",
            "9c0cf4e2ebad470ca8b505bd34df70d2",
            "bcbe658d2e9943bd813be39b48a74887",
            "0f6e40448899435bafccbb2e93896627",
            "147e15f9bc0f4808ab59b9521927b422",
            "5e989119786a4818a28fa929534e4468",
            "48fe6a06f59849beb8708330be7dd81f",
            "4dff8d0930b14b5baf101d7646a69783",
            "b0c189f4f8da4b179b1efc376cfcc076",
            "2ca195baddff4485b9752b7816a83552",
            "8cd322cfadf14eb6a4144ce14755d981",
            "d13028b87e8543ff924eb2f7e0cec79b",
            "da26bb502ad24394bbb85b95f96da4d8",
            "8e4a6414c7344febaf404419ffb83bb3",
            "ec94f12a8c654528b98c929460a1f0c2",
            "1e97010d13e641e1b1dda30527d04f27",
            "d0f845de078b4f6fb1986e1955bf3075",
            "56560a99d5764896845db3118e034c9f",
            "7103f0b45b464df1ac160d6b872feec8",
            "acb54f8a9e2e497f9b2447f02de1b264",
            "5869628253d641d0acfafbbaa01de9da",
            "f7abf3dc75074b68967b243c3ec00499",
            "828d86cb33cf4715a7e02aceed6bdfda"
          ]
        },
        "id": "bVcjHMd4mIa8",
        "outputId": "a41ac776-d0bf-4642-8774-80169ee52821"
      },
      "execution_count": null,
      "outputs": [
        {
          "output_type": "stream",
          "name": "stderr",
          "text": [
            "/usr/local/lib/python3.10/dist-packages/huggingface_hub/file_download.py:1132: FutureWarning: `resume_download` is deprecated and will be removed in version 1.0.0. Downloads always resume when possible. If you want to force a new download, use `force_download=True`.\n",
            "  warnings.warn(\n",
            "/usr/local/lib/python3.10/dist-packages/huggingface_hub/utils/_token.py:89: UserWarning: \n",
            "The secret `HF_TOKEN` does not exist in your Colab secrets.\n",
            "To authenticate with the Hugging Face Hub, create a token in your settings tab (https://huggingface.co/settings/tokens), set it as secret in your Google Colab and restart your session.\n",
            "You will be able to reuse this secret in all of your notebooks.\n",
            "Please note that authentication is recommended but still optional to access public models or datasets.\n",
            "  warnings.warn(\n"
          ]
        },
        {
          "output_type": "display_data",
          "data": {
            "text/plain": [
              "config.json:   0%|          | 0.00/675 [00:00<?, ?B/s]"
            ],
            "application/vnd.jupyter.widget-view+json": {
              "version_major": 2,
              "version_minor": 0,
              "model_id": "10992ec23dc84a6fbb5debe43019df25"
            }
          },
          "metadata": {}
        },
        {
          "output_type": "display_data",
          "data": {
            "text/plain": [
              "model.safetensors:   0%|          | 0.00/442M [00:00<?, ?B/s]"
            ],
            "application/vnd.jupyter.widget-view+json": {
              "version_major": 2,
              "version_minor": 0,
              "model_id": "5f1e9b98b17f47339274fa3d6bad90d5"
            }
          },
          "metadata": {}
        },
        {
          "output_type": "display_data",
          "data": {
            "text/plain": [
              "tokenizer_config.json:   0%|          | 0.00/552 [00:00<?, ?B/s]"
            ],
            "application/vnd.jupyter.widget-view+json": {
              "version_major": 2,
              "version_minor": 0,
              "model_id": "b10a895c52ba4f61aaa2117f6bd28ea1"
            }
          },
          "metadata": {}
        },
        {
          "output_type": "display_data",
          "data": {
            "text/plain": [
              "vocab.txt:   0%|          | 0.00/248k [00:00<?, ?B/s]"
            ],
            "application/vnd.jupyter.widget-view+json": {
              "version_major": 2,
              "version_minor": 0,
              "model_id": "1b0a3c34ce3a4452a3d7614196290472"
            }
          },
          "metadata": {}
        },
        {
          "output_type": "display_data",
          "data": {
            "text/plain": [
              "tokenizer.json:   0%|          | 0.00/752k [00:00<?, ?B/s]"
            ],
            "application/vnd.jupyter.widget-view+json": {
              "version_major": 2,
              "version_minor": 0,
              "model_id": "9c0cf4e2ebad470ca8b505bd34df70d2"
            }
          },
          "metadata": {}
        },
        {
          "output_type": "display_data",
          "data": {
            "text/plain": [
              "special_tokens_map.json:   0%|          | 0.00/112 [00:00<?, ?B/s]"
            ],
            "application/vnd.jupyter.widget-view+json": {
              "version_major": 2,
              "version_minor": 0,
              "model_id": "da26bb502ad24394bbb85b95f96da4d8"
            }
          },
          "metadata": {}
        },
        {
          "output_type": "execute_result",
          "data": {
            "text/plain": [
              "BertModel(\n",
              "  (embeddings): BertEmbeddings(\n",
              "    (word_embeddings): Embedding(32000, 768, padding_idx=0)\n",
              "    (position_embeddings): Embedding(512, 768)\n",
              "    (token_type_embeddings): Embedding(2, 768)\n",
              "    (LayerNorm): LayerNorm((768,), eps=1e-12, elementwise_affine=True)\n",
              "    (dropout): Dropout(p=0.1, inplace=False)\n",
              "  )\n",
              "  (encoder): BertEncoder(\n",
              "    (layer): ModuleList(\n",
              "      (0-11): 12 x BertLayer(\n",
              "        (attention): BertAttention(\n",
              "          (self): BertSelfAttention(\n",
              "            (query): Linear(in_features=768, out_features=768, bias=True)\n",
              "            (key): Linear(in_features=768, out_features=768, bias=True)\n",
              "            (value): Linear(in_features=768, out_features=768, bias=True)\n",
              "            (dropout): Dropout(p=0.1, inplace=False)\n",
              "          )\n",
              "          (output): BertSelfOutput(\n",
              "            (dense): Linear(in_features=768, out_features=768, bias=True)\n",
              "            (LayerNorm): LayerNorm((768,), eps=1e-12, elementwise_affine=True)\n",
              "            (dropout): Dropout(p=0.1, inplace=False)\n",
              "          )\n",
              "        )\n",
              "        (intermediate): BertIntermediate(\n",
              "          (dense): Linear(in_features=768, out_features=3072, bias=True)\n",
              "          (intermediate_act_fn): GELUActivation()\n",
              "        )\n",
              "        (output): BertOutput(\n",
              "          (dense): Linear(in_features=3072, out_features=768, bias=True)\n",
              "          (LayerNorm): LayerNorm((768,), eps=1e-12, elementwise_affine=True)\n",
              "          (dropout): Dropout(p=0.1, inplace=False)\n",
              "        )\n",
              "      )\n",
              "    )\n",
              "  )\n",
              "  (pooler): BertPooler(\n",
              "    (dense): Linear(in_features=768, out_features=768, bias=True)\n",
              "    (activation): Tanh()\n",
              "  )\n",
              ")"
            ]
          },
          "metadata": {},
          "execution_count": 4
        }
      ]
    },
    {
      "cell_type": "code",
      "source": [
        "print(KoSim_model.pooler.dense.weight)"
      ],
      "metadata": {
        "colab": {
          "base_uri": "https://localhost:8080/"
        },
        "id": "GHEDNTo9zVK7",
        "outputId": "7f41fcaa-50e1-48ae-ca2c-21cf0ba6ceed"
      },
      "execution_count": null,
      "outputs": [
        {
          "output_type": "stream",
          "name": "stdout",
          "text": [
            "Parameter containing:\n",
            "tensor([[ 3.1855e-02, -5.4072e-03, -4.4124e-02,  ...,  2.3173e-02,\n",
            "          2.5717e-02,  2.5337e-02],\n",
            "        [ 2.8142e-02, -8.6567e-03,  2.3887e-02,  ...,  1.1529e-02,\n",
            "         -1.3463e-02, -1.9435e-03],\n",
            "        [ 1.3164e-02,  5.6479e-03, -2.9252e-02,  ..., -2.5653e-02,\n",
            "          7.2856e-03, -2.1704e-02],\n",
            "        ...,\n",
            "        [ 2.3056e-03,  6.7739e-03,  1.0147e-03,  ..., -1.3549e-02,\n",
            "         -1.3426e-03,  3.1372e-02],\n",
            "        [ 7.8224e-03, -8.6145e-03,  3.3083e-02,  ...,  3.2418e-02,\n",
            "         -3.4644e-07, -2.8555e-02],\n",
            "        [-3.0232e-02,  1.0719e-02,  2.0621e-02,  ...,  4.9263e-02,\n",
            "         -5.2133e-02,  6.1498e-02]], requires_grad=True)\n"
          ]
        }
      ]
    },
    {
      "cell_type": "code",
      "source": [
        "# 새로운 단어 토크나이저에 추가\n",
        "num_added_toks = KoSim_tokenizer.add_tokens(new_vocab)\n",
        "print(f\"Added {num_added_toks} tokens\")\n",
        "\n",
        "# 모델의 임베딩 크기 조정\n",
        "KoSim_model.resize_token_embeddings(len(KoSim_tokenizer))"
      ],
      "metadata": {
        "colab": {
          "base_uri": "https://localhost:8080/"
        },
        "outputId": "5efcb835-1d42-49f7-e96b-fc5b05664ed2",
        "id": "90_6NQtUsHdk"
      },
      "execution_count": null,
      "outputs": [
        {
          "output_type": "stream",
          "name": "stdout",
          "text": [
            "Added 12604 tokens\n"
          ]
        },
        {
          "output_type": "execute_result",
          "data": {
            "text/plain": [
              "Embedding(43041, 768)"
            ]
          },
          "metadata": {},
          "execution_count": 9
        }
      ]
    },
    {
      "cell_type": "code",
      "source": [
        "#MLM 데이터셋 준비\n",
        "corpus = pretrain_list\n",
        "tokenized_corpus = KoSim_tokenizer(corpus, add_special_tokens = True, max_length = KoSim_model.config.max_position_embeddings, truncation = True, padding = 'max_length', return_tensors = 'pt')"
      ],
      "metadata": {
        "id": "XNdfB5zusHdk"
      },
      "execution_count": null,
      "outputs": []
    },
    {
      "cell_type": "code",
      "source": [
        "print(tokenized_corpus)"
      ],
      "metadata": {
        "colab": {
          "base_uri": "https://localhost:8080/"
        },
        "outputId": "3ab77a2b-ecbc-4fff-86ab-34c7c5a4727d",
        "id": "nSY1lyxosHdk"
      },
      "execution_count": null,
      "outputs": [
        {
          "output_type": "stream",
          "name": "stdout",
          "text": [
            "{'input_ids': tensor([[    2, 10306,  9206,  ...,     0,     0,     0],\n",
            "        [    2, 18702,  1572,  ...,     0,     0,     0],\n",
            "        [    2, 39402,  8606,  ...,     0,     0,     0],\n",
            "        ...,\n",
            "        [    2, 39950,    17,  ...,     0,     0,     0],\n",
            "        [    2,  8108, 35185,  ...,     0,     0,     0],\n",
            "        [    2, 29952, 10220,  ...,     0,     0,     0]]), 'token_type_ids': tensor([[0, 0, 0,  ..., 0, 0, 0],\n",
            "        [0, 0, 0,  ..., 0, 0, 0],\n",
            "        [0, 0, 0,  ..., 0, 0, 0],\n",
            "        ...,\n",
            "        [0, 0, 0,  ..., 0, 0, 0],\n",
            "        [0, 0, 0,  ..., 0, 0, 0],\n",
            "        [0, 0, 0,  ..., 0, 0, 0]]), 'attention_mask': tensor([[1, 1, 1,  ..., 0, 0, 0],\n",
            "        [1, 1, 1,  ..., 0, 0, 0],\n",
            "        [1, 1, 1,  ..., 0, 0, 0],\n",
            "        ...,\n",
            "        [1, 1, 1,  ..., 0, 0, 0],\n",
            "        [1, 1, 1,  ..., 0, 0, 0],\n",
            "        [1, 1, 1,  ..., 0, 0, 0]])}\n"
          ]
        }
      ]
    },
    {
      "cell_type": "code",
      "source": [
        "#MLM을 위한 masked 데이터셋 생성(MLM에서는 stratify 적용하지 않음.)\n",
        "masked_inputs, labels = mask_input_ids(tokenized_corpus['input_ids'], KoSim_tokenizer)\n",
        "pretrain_dict = {'input_ids' : masked_inputs, 'attention_mask' : tokenized_corpus['attention_mask'], 'labels' : labels}\n",
        "pretrain_dataset = Dataset.from_dict(pretrain_dict)\n",
        "pretrain_dataset = pretrain_dataset.train_test_split(test_size = 0.1)"
      ],
      "metadata": {
        "id": "0-XTPjkZsHdl"
      },
      "execution_count": null,
      "outputs": []
    },
    {
      "cell_type": "code",
      "source": [
        "# 훈련 설정\n",
        "training_args = TrainingArguments(\n",
        "    output_dir = './results',\n",
        "    evaluation_strategy = 'steps',\n",
        "    eval_steps = 500,\n",
        "    save_strategy = \"steps\",\n",
        "    save_steps = 500,\n",
        "    num_train_epochs = 3,\n",
        "    save_total_limit = 3,\n",
        "    per_device_eval_batch_size = 8,\n",
        "    per_device_train_batch_size = 8,\n",
        "    warmup_steps = 300, #고려사항\n",
        "    weight_decay = 0.01, #고려사항\n",
        "    logging_dir = \"./logs\",\n",
        "    load_best_model_at_end = True\n",
        ")\n",
        "\n",
        "# 트레이너 생성\n",
        "trainer = Trainer(\n",
        "    model = KoSim_model,\n",
        "    args = training_args,\n",
        "    train_dataset = pretrain_dataset['train'],\n",
        "    eval_dataset = pretrain_dataset['test'],\n",
        "    callbacks = [EarlyStoppingCallback(patience = 5)]\n",
        ")\n",
        "\n",
        "# 훈련 시작\n",
        "trainer.train()"
      ],
      "metadata": {
        "colab": {
          "base_uri": "https://localhost:8080/",
          "height": 882
        },
        "outputId": "ce2a7caf-650c-4dfd-adfc-8d112ca060ac",
        "id": "KB76O--4sHdl"
      },
      "execution_count": null,
      "outputs": [
        {
          "output_type": "display_data",
          "data": {
            "text/plain": [
              "<IPython.core.display.HTML object>"
            ],
            "text/html": [
              "\n",
              "    <div>\n",
              "      \n",
              "      <progress value='8177' max='9900' style='width:300px; height:20px; vertical-align: middle;'></progress>\n",
              "      [8177/9900 2:46:16 < 35:02, 0.82 it/s, Epoch 2.48/3]\n",
              "    </div>\n",
              "    <table border=\"1\" class=\"dataframe\">\n",
              "  <thead>\n",
              " <tr style=\"text-align: left;\">\n",
              "      <th>Step</th>\n",
              "      <th>Training Loss</th>\n",
              "      <th>Validation Loss</th>\n",
              "    </tr>\n",
              "  </thead>\n",
              "  <tbody>\n",
              "    <tr>\n",
              "      <td>500</td>\n",
              "      <td>8.810600</td>\n",
              "      <td>8.098687</td>\n",
              "    </tr>\n",
              "    <tr>\n",
              "      <td>1000</td>\n",
              "      <td>7.728400</td>\n",
              "      <td>7.515493</td>\n",
              "    </tr>\n",
              "    <tr>\n",
              "      <td>1500</td>\n",
              "      <td>7.425400</td>\n",
              "      <td>7.267002</td>\n",
              "    </tr>\n",
              "    <tr>\n",
              "      <td>2000</td>\n",
              "      <td>7.166300</td>\n",
              "      <td>7.091899</td>\n",
              "    </tr>\n",
              "    <tr>\n",
              "      <td>2500</td>\n",
              "      <td>6.963800</td>\n",
              "      <td>6.929874</td>\n",
              "    </tr>\n",
              "    <tr>\n",
              "      <td>3000</td>\n",
              "      <td>6.897800</td>\n",
              "      <td>6.813987</td>\n",
              "    </tr>\n",
              "    <tr>\n",
              "      <td>3500</td>\n",
              "      <td>6.437900</td>\n",
              "      <td>6.691690</td>\n",
              "    </tr>\n",
              "    <tr>\n",
              "      <td>4000</td>\n",
              "      <td>5.818000</td>\n",
              "      <td>6.640306</td>\n",
              "    </tr>\n",
              "    <tr>\n",
              "      <td>4500</td>\n",
              "      <td>5.842000</td>\n",
              "      <td>6.571889</td>\n",
              "    </tr>\n",
              "    <tr>\n",
              "      <td>5000</td>\n",
              "      <td>5.867900</td>\n",
              "      <td>6.499487</td>\n",
              "    </tr>\n",
              "    <tr>\n",
              "      <td>5500</td>\n",
              "      <td>5.780600</td>\n",
              "      <td>6.453501</td>\n",
              "    </tr>\n",
              "    <tr>\n",
              "      <td>6000</td>\n",
              "      <td>5.693800</td>\n",
              "      <td>6.404636</td>\n",
              "    </tr>\n",
              "    <tr>\n",
              "      <td>6500</td>\n",
              "      <td>5.675300</td>\n",
              "      <td>6.353399</td>\n",
              "    </tr>\n",
              "    <tr>\n",
              "      <td>7000</td>\n",
              "      <td>5.030600</td>\n",
              "      <td>6.343425</td>\n",
              "    </tr>\n",
              "    <tr>\n",
              "      <td>7500</td>\n",
              "      <td>4.819400</td>\n",
              "      <td>6.320203</td>\n",
              "    </tr>\n",
              "    <tr>\n",
              "      <td>8000</td>\n",
              "      <td>4.856900</td>\n",
              "      <td>6.308993</td>\n",
              "    </tr>\n",
              "  </tbody>\n",
              "</table><p>"
            ]
          },
          "metadata": {}
        },
        {
          "output_type": "error",
          "ename": "KeyboardInterrupt",
          "evalue": "",
          "traceback": [
            "\u001b[0;31m---------------------------------------------------------------------------\u001b[0m",
            "\u001b[0;31mKeyboardInterrupt\u001b[0m                         Traceback (most recent call last)",
            "\u001b[0;32m<ipython-input-12-9d6bcbd0a114>\u001b[0m in \u001b[0;36m<cell line: 28>\u001b[0;34m()\u001b[0m\n\u001b[1;32m     26\u001b[0m \u001b[0;34m\u001b[0m\u001b[0m\n\u001b[1;32m     27\u001b[0m \u001b[0;31m# 훈련 시작\u001b[0m\u001b[0;34m\u001b[0m\u001b[0;34m\u001b[0m\u001b[0m\n\u001b[0;32m---> 28\u001b[0;31m \u001b[0mtrainer\u001b[0m\u001b[0;34m.\u001b[0m\u001b[0mtrain\u001b[0m\u001b[0;34m(\u001b[0m\u001b[0;34m)\u001b[0m\u001b[0;34m\u001b[0m\u001b[0;34m\u001b[0m\u001b[0m\n\u001b[0m",
            "\u001b[0;32m/usr/local/lib/python3.10/dist-packages/transformers/trainer.py\u001b[0m in \u001b[0;36mtrain\u001b[0;34m(self, resume_from_checkpoint, trial, ignore_keys_for_eval, **kwargs)\u001b[0m\n\u001b[1;32m   1857\u001b[0m                 \u001b[0mhf_hub_utils\u001b[0m\u001b[0;34m.\u001b[0m\u001b[0menable_progress_bars\u001b[0m\u001b[0;34m(\u001b[0m\u001b[0;34m)\u001b[0m\u001b[0;34m\u001b[0m\u001b[0;34m\u001b[0m\u001b[0m\n\u001b[1;32m   1858\u001b[0m         \u001b[0;32melse\u001b[0m\u001b[0;34m:\u001b[0m\u001b[0;34m\u001b[0m\u001b[0;34m\u001b[0m\u001b[0m\n\u001b[0;32m-> 1859\u001b[0;31m             return inner_training_loop(\n\u001b[0m\u001b[1;32m   1860\u001b[0m                 \u001b[0margs\u001b[0m\u001b[0;34m=\u001b[0m\u001b[0margs\u001b[0m\u001b[0;34m,\u001b[0m\u001b[0;34m\u001b[0m\u001b[0;34m\u001b[0m\u001b[0m\n\u001b[1;32m   1861\u001b[0m                 \u001b[0mresume_from_checkpoint\u001b[0m\u001b[0;34m=\u001b[0m\u001b[0mresume_from_checkpoint\u001b[0m\u001b[0;34m,\u001b[0m\u001b[0;34m\u001b[0m\u001b[0;34m\u001b[0m\u001b[0m\n",
            "\u001b[0;32m/usr/local/lib/python3.10/dist-packages/transformers/trainer.py\u001b[0m in \u001b[0;36m_inner_training_loop\u001b[0;34m(self, batch_size, args, resume_from_checkpoint, trial, ignore_keys_for_eval)\u001b[0m\n\u001b[1;32m   2206\u001b[0m                     \u001b[0margs\u001b[0m\u001b[0;34m.\u001b[0m\u001b[0mlogging_nan_inf_filter\u001b[0m\u001b[0;34m\u001b[0m\u001b[0;34m\u001b[0m\u001b[0m\n\u001b[1;32m   2207\u001b[0m                     \u001b[0;32mand\u001b[0m \u001b[0;32mnot\u001b[0m \u001b[0mis_torch_xla_available\u001b[0m\u001b[0;34m(\u001b[0m\u001b[0;34m)\u001b[0m\u001b[0;34m\u001b[0m\u001b[0;34m\u001b[0m\u001b[0m\n\u001b[0;32m-> 2208\u001b[0;31m                     \u001b[0;32mand\u001b[0m \u001b[0;34m(\u001b[0m\u001b[0mtorch\u001b[0m\u001b[0;34m.\u001b[0m\u001b[0misnan\u001b[0m\u001b[0;34m(\u001b[0m\u001b[0mtr_loss_step\u001b[0m\u001b[0;34m)\u001b[0m \u001b[0;32mor\u001b[0m \u001b[0mtorch\u001b[0m\u001b[0;34m.\u001b[0m\u001b[0misinf\u001b[0m\u001b[0;34m(\u001b[0m\u001b[0mtr_loss_step\u001b[0m\u001b[0;34m)\u001b[0m\u001b[0;34m)\u001b[0m\u001b[0;34m\u001b[0m\u001b[0;34m\u001b[0m\u001b[0m\n\u001b[0m\u001b[1;32m   2209\u001b[0m                 ):\n\u001b[1;32m   2210\u001b[0m                     \u001b[0;31m# if loss is nan or inf simply add the average of previous logged losses\u001b[0m\u001b[0;34m\u001b[0m\u001b[0;34m\u001b[0m\u001b[0m\n",
            "\u001b[0;31mKeyboardInterrupt\u001b[0m: "
          ]
        }
      ]
    },
    {
      "cell_type": "code",
      "source": [
        "#학습이 끝난 후 MLM을 위한 cls층을 제거하고, 변수로 저장해둔 pooler 층을 다시 추가\n",
        "del KoSim_model.cls\n",
        "KoSim_model.bert.pooler = pooler_layer\n",
        "print(KoSim_model)"
      ],
      "metadata": {
        "colab": {
          "base_uri": "https://localhost:8080/"
        },
        "id": "xYm6FOj0m5VD",
        "outputId": "1f3336c1-d86c-4c5a-9e3b-893c4e738c3a"
      },
      "execution_count": null,
      "outputs": [
        {
          "output_type": "stream",
          "name": "stdout",
          "text": [
            "BertForMaskedLM(\n",
            "  (bert): BertModel(\n",
            "    (embeddings): BertEmbeddings(\n",
            "      (word_embeddings): Embedding(43041, 768)\n",
            "      (position_embeddings): Embedding(512, 768)\n",
            "      (token_type_embeddings): Embedding(2, 768)\n",
            "      (LayerNorm): LayerNorm((768,), eps=1e-12, elementwise_affine=True)\n",
            "      (dropout): Dropout(p=0.1, inplace=False)\n",
            "    )\n",
            "    (encoder): BertEncoder(\n",
            "      (layer): ModuleList(\n",
            "        (0-11): 12 x BertLayer(\n",
            "          (attention): BertAttention(\n",
            "            (self): BertSelfAttention(\n",
            "              (query): Linear(in_features=768, out_features=768, bias=True)\n",
            "              (key): Linear(in_features=768, out_features=768, bias=True)\n",
            "              (value): Linear(in_features=768, out_features=768, bias=True)\n",
            "              (dropout): Dropout(p=0.1, inplace=False)\n",
            "            )\n",
            "            (output): BertSelfOutput(\n",
            "              (dense): Linear(in_features=768, out_features=768, bias=True)\n",
            "              (LayerNorm): LayerNorm((768,), eps=1e-12, elementwise_affine=True)\n",
            "              (dropout): Dropout(p=0.1, inplace=False)\n",
            "            )\n",
            "          )\n",
            "          (intermediate): BertIntermediate(\n",
            "            (dense): Linear(in_features=768, out_features=3072, bias=True)\n",
            "            (intermediate_act_fn): GELUActivation()\n",
            "          )\n",
            "          (output): BertOutput(\n",
            "            (dense): Linear(in_features=3072, out_features=768, bias=True)\n",
            "            (LayerNorm): LayerNorm((768,), eps=1e-12, elementwise_affine=True)\n",
            "            (dropout): Dropout(p=0.1, inplace=False)\n",
            "          )\n",
            "        )\n",
            "      )\n",
            "    )\n",
            "  )\n",
            "  (pooler): BertPooler(\n",
            "    (dense): Linear(in_features=768, out_features=768, bias=True)\n",
            "    (activation): Tanh()\n",
            "  )\n",
            ")\n"
          ]
        }
      ]
    },
    {
      "cell_type": "code",
      "source": [
        "#google drive에 학습된 모델을 저장\n",
        "save_path = '/content/drive/My Drive/Pretrained_Model_sentence_embed'\n",
        "\n",
        "KoSim_model.save_pretrained(save_path)\n",
        "KoSim_tokenizer.save_pretrained(save_path)"
      ],
      "metadata": {
        "id": "rNkCY2OloalY",
        "colab": {
          "base_uri": "https://localhost:8080/"
        },
        "outputId": "9acf22a5-f290-4115-d822-a54ac5be3dfd"
      },
      "execution_count": null,
      "outputs": [
        {
          "output_type": "execute_result",
          "data": {
            "text/plain": [
              "('/content/drive/My Drive/Pretrained_Model_sentence_embed/tokenizer_config.json',\n",
              " '/content/drive/My Drive/Pretrained_Model_sentence_embed/special_tokens_map.json',\n",
              " '/content/drive/My Drive/Pretrained_Model_sentence_embed/vocab.txt',\n",
              " '/content/drive/My Drive/Pretrained_Model_sentence_embed/added_tokens.json',\n",
              " '/content/drive/My Drive/Pretrained_Model_sentence_embed/tokenizer.json')"
            ]
          },
          "metadata": {},
          "execution_count": 14
        }
      ]
    },
    {
      "cell_type": "markdown",
      "source": [
        "#질문 데이터셋으로 파인튜닝"
      ],
      "metadata": {
        "id": "nZhCZrgblExO"
      }
    },
    {
      "cell_type": "code",
      "source": [
        "#훈련 데이터 불러오기\n",
        "finetune_dataset_path = '/content/drive/My Drive/KcBERT_finetune_dataset_question.xlsx'\n",
        "df_finetune = pd.read_excel(finetune_dataset_path, index_col = 0)"
      ],
      "metadata": {
        "id": "QgfJI6U5RPRj"
      },
      "execution_count": null,
      "outputs": []
    },
    {
      "cell_type": "code",
      "source": [
        "#모델 불러오기\n",
        "pretrained_model_path = '/content/drive/My Drive/Pretrained_Model'\n",
        "\n",
        "pretrained_tokenizer = AutoTokenizer.from_pretrained(pretrained_model_path)\n",
        "pretrained_model = BertForSequenceClassification.from_pretrained(pretrained_model_path)"
      ],
      "metadata": {
        "id": "SIDCBpIKjyv-",
        "colab": {
          "base_uri": "https://localhost:8080/"
        },
        "outputId": "51d61c30-d1ee-486a-ad38-e770d2a98739"
      },
      "execution_count": null,
      "outputs": [
        {
          "output_type": "stream",
          "name": "stderr",
          "text": [
            "Special tokens have been added in the vocabulary, make sure the associated word embeddings are fine-tuned or trained.\n",
            "Some weights of BertForSequenceClassification were not initialized from the model checkpoint at /content/drive/My Drive/Pretrained_Model and are newly initialized: ['bert.pooler.dense.bias', 'bert.pooler.dense.weight', 'classifier.bias', 'classifier.weight']\n",
            "You should probably TRAIN this model on a down-stream task to be able to use it for predictions and inference.\n"
          ]
        }
      ]
    },
    {
      "cell_type": "code",
      "source": [
        "# Trainer가 알아서 gpu를 감지하고 모델과 데이터를 gpu로 옮겨줌\n",
        "#GPU 사용 코드\n",
        "device = torch.device(\"cuda\" if torch.cuda.is_available() else \"cpu\")\n",
        "\n",
        "#파이프라인을 사용하는 경우 GPU로 모델을 옮겨준 뒤 파이프라인에 모델을 넣어줘야 함\n",
        "pretrained_model.to(device)"
      ],
      "metadata": {
        "colab": {
          "base_uri": "https://localhost:8080/"
        },
        "id": "0vHC3IDd9K0_",
        "outputId": "827cc3e7-e35d-4ea4-ac54-612d6f795712"
      },
      "execution_count": null,
      "outputs": [
        {
          "output_type": "execute_result",
          "data": {
            "text/plain": [
              "BertForSequenceClassification(\n",
              "  (bert): BertModel(\n",
              "    (embeddings): BertEmbeddings(\n",
              "      (word_embeddings): Embedding(40596, 768, padding_idx=0)\n",
              "      (position_embeddings): Embedding(300, 768)\n",
              "      (token_type_embeddings): Embedding(2, 768)\n",
              "      (LayerNorm): LayerNorm((768,), eps=1e-12, elementwise_affine=True)\n",
              "      (dropout): Dropout(p=0.1, inplace=False)\n",
              "    )\n",
              "    (encoder): BertEncoder(\n",
              "      (layer): ModuleList(\n",
              "        (0-11): 12 x BertLayer(\n",
              "          (attention): BertAttention(\n",
              "            (self): BertSelfAttention(\n",
              "              (query): Linear(in_features=768, out_features=768, bias=True)\n",
              "              (key): Linear(in_features=768, out_features=768, bias=True)\n",
              "              (value): Linear(in_features=768, out_features=768, bias=True)\n",
              "              (dropout): Dropout(p=0.1, inplace=False)\n",
              "            )\n",
              "            (output): BertSelfOutput(\n",
              "              (dense): Linear(in_features=768, out_features=768, bias=True)\n",
              "              (LayerNorm): LayerNorm((768,), eps=1e-12, elementwise_affine=True)\n",
              "              (dropout): Dropout(p=0.1, inplace=False)\n",
              "            )\n",
              "          )\n",
              "          (intermediate): BertIntermediate(\n",
              "            (dense): Linear(in_features=768, out_features=3072, bias=True)\n",
              "            (intermediate_act_fn): GELUActivation()\n",
              "          )\n",
              "          (output): BertOutput(\n",
              "            (dense): Linear(in_features=3072, out_features=768, bias=True)\n",
              "            (LayerNorm): LayerNorm((768,), eps=1e-12, elementwise_affine=True)\n",
              "            (dropout): Dropout(p=0.1, inplace=False)\n",
              "          )\n",
              "        )\n",
              "      )\n",
              "    )\n",
              "    (pooler): BertPooler(\n",
              "      (dense): Linear(in_features=768, out_features=768, bias=True)\n",
              "      (activation): Tanh()\n",
              "    )\n",
              "  )\n",
              "  (dropout): Dropout(p=0.1, inplace=False)\n",
              "  (classifier): Linear(in_features=768, out_features=2, bias=True)\n",
              ")"
            ]
          },
          "metadata": {},
          "execution_count": 4
        }
      ]
    },
    {
      "cell_type": "code",
      "source": [
        "#훈련 데이터셋의 결측치 제거\n",
        "print(df_finetune[pd.isna(df_finetune['text']) == True])\n",
        "df_finetune = df_finetune[pd.isna(df_finetune['text']) == False]\n",
        "print(df_finetune)"
      ],
      "metadata": {
        "colab": {
          "base_uri": "https://localhost:8080/"
        },
        "id": "YMOmO6VYbQVy",
        "outputId": "57fa39c5-d421-421d-a783-6edba5fe0ce6"
      },
      "execution_count": null,
      "outputs": [
        {
          "output_type": "stream",
          "name": "stdout",
          "text": [
            "    text  label\n",
            "814  NaN      0\n",
            "815  NaN      0\n",
            "816  NaN      0\n",
            "817  NaN      0\n",
            "818  NaN      0\n",
            "..   ...    ...\n",
            "991  NaN      0\n",
            "992  NaN      0\n",
            "993  NaN      0\n",
            "994  NaN      0\n",
            "995  NaN      0\n",
            "\n",
            "[182 rows x 2 columns]\n",
            "                                                   text  label\n",
            "0     안녕하세요! 우선 모두의노코드 사이트 런칭을 축하드립니다.이렇게 첫번째 질문 글을 ...      1\n",
            "1     안녕하세요.모두의 노코드 런칭을 축하드립니다. 앞으로 좋은 활동 기대합니다. 현재 ...      1\n",
            "2     안녕하세요.제주도에서 노션으로 동네 친구 매칭 서비스를 만들고 있습니다.어제 웨비나...      1\n",
            "3                                  API키는 분리해서 쓰시면 좋겠습니다      1\n",
            "4                                                     .      1\n",
            "...                                                 ...    ...\n",
            "3584   안녕하세요. 왕초보자입니다. 리피팅 그룹을 따라 만들어보고 있는데 저는 스크롤에 ...      1\n",
            "3585                                 영상의 에디터가 옛날버전인것같네요      0\n",
            "3586   그래서 저는 이것저것에서 스크롤 기능을찾아보는데 없네요... 업데이트 되면서 리피...      1\n",
            "3587   지금은 1*4로. 리피팅 그룹이 고정된 상태시네요 가로 스크롤을 구현하려고 하시는...      0\n",
            "3588             그럼 row값을 1로 고정하시고 column은 Fixed를 푸셔야해요      0\n",
            "\n",
            "[3407 rows x 2 columns]\n"
          ]
        }
      ]
    },
    {
      "cell_type": "code",
      "source": [
        "#파인튜닝을 위한 데이터셋 준비, 훈련/검증 9:1 분리\n",
        "def tokenize_function(examples):\n",
        "    return pretrained_tokenizer(examples['text'], truncation = True, padding = \"max_length\", max_length = pretrained_model.config.max_position_embeddings)\n",
        "\n",
        "dataset = Dataset.from_pandas(df_finetune)\n",
        "finetune_dataset = dataset.map(tokenize_function, batched=True)\n",
        "finetune_dataset = finetune_dataset.class_encode_column('label')\n",
        "finetune_dataset = finetune_dataset.train_test_split(test_size = 0.1, stratify_by_column = 'label')"
      ],
      "metadata": {
        "id": "3E1Q-MvJKxCf",
        "colab": {
          "base_uri": "https://localhost:8080/",
          "height": 113,
          "referenced_widgets": [
            "13a9df41f19e47229a0e94f70d44b8d0",
            "ae7458c48f6c43b28d52a4480e92b1a7",
            "7e7f292bb3f144b49a036e0529a70117",
            "3009f5fe82f44546b075c1e409e71d15",
            "82a419a940624b9399330b422b9b1286",
            "a8354f8d48394baf945d65cf12274dfc",
            "b34072af0dd54a9982d54898e8aeab80",
            "45dcc64819a2403a9dc8b1bcdb86ccc2",
            "da8d5ab1a3b7464b81efaead7b0c1fab",
            "8f8a84926d974f3fbfe845bd612078a9",
            "0cef14b35932498d8c5af35364e802be",
            "4de285851f36485a86a11bd9417ab07f",
            "ac3682d8fed64bfbb53d7e4b6a3d4e22",
            "c586c88f7362437084b1431cc73a3705",
            "7b6be0886dd54cc2ba93535f124028fa",
            "64ca61d6e0af4745aeb029067c87c0fb",
            "f7ca8c13c42f455d9cbf8b7542b7a143",
            "3efec6cc2dfb4c20934cb7b44ecf7d8a",
            "ac7eebbd2cc6444f88d3476db4402f4c",
            "47eac1c944684d4fa7bcfc9eab4ec13e",
            "16a67f4b6dcf4f8f8e61e381c18ec7a2",
            "2eb5060c8911460084c310e904090233",
            "0338910f81764cf581302336e1eaa09a",
            "a9ebafc7d7ce4128a9148f799b765f50",
            "4031fb34fd714e218d54ad258b855ab3",
            "1e755af0c64d479f9c8691fd307bef43",
            "862e50f87eb5461fa6e73efdd90860ab",
            "8e76927c60954ec7ac6037b9ccf4194b",
            "6de6f3a7e96f491d90ac24953d8bea15",
            "8aa1e9838a5643d4aa2f82c36a47c31f",
            "272d1b96c0524fa69d0a62c53386bf86",
            "f540c7857fe2460aaddc29c661972e4b",
            "73da112c2c334e8bac8eb238b2e5ff30"
          ]
        },
        "outputId": "9d8d9f16-9d50-47b0-97d6-b35c96e77b7c"
      },
      "execution_count": null,
      "outputs": [
        {
          "output_type": "display_data",
          "data": {
            "text/plain": [
              "Map:   0%|          | 0/3407 [00:00<?, ? examples/s]"
            ],
            "application/vnd.jupyter.widget-view+json": {
              "version_major": 2,
              "version_minor": 0,
              "model_id": "13a9df41f19e47229a0e94f70d44b8d0"
            }
          },
          "metadata": {}
        },
        {
          "output_type": "display_data",
          "data": {
            "text/plain": [
              "Stringifying the column:   0%|          | 0/3407 [00:00<?, ? examples/s]"
            ],
            "application/vnd.jupyter.widget-view+json": {
              "version_major": 2,
              "version_minor": 0,
              "model_id": "4de285851f36485a86a11bd9417ab07f"
            }
          },
          "metadata": {}
        },
        {
          "output_type": "display_data",
          "data": {
            "text/plain": [
              "Casting to class labels:   0%|          | 0/3407 [00:00<?, ? examples/s]"
            ],
            "application/vnd.jupyter.widget-view+json": {
              "version_major": 2,
              "version_minor": 0,
              "model_id": "0338910f81764cf581302336e1eaa09a"
            }
          },
          "metadata": {}
        }
      ]
    },
    {
      "cell_type": "code",
      "source": [
        "#과적합 방지를 위한 EarlyStopping 클래스\n",
        "class EarlyStoppingCallback(TrainerCallback):\n",
        "    def __init__(self, patience=3):\n",
        "        self.patience = patience\n",
        "        self.counter = 0\n",
        "        self.best_score = None\n",
        "        self.early_stop = False\n",
        "\n",
        "    def on_evaluate(self, args, state, control, **kwargs):\n",
        "        # 현재 검증 손실 가져오기\n",
        "        current_loss = kwargs['metrics']['eval_loss']\n",
        "\n",
        "        # 최고 성능 갱신 또는 카운터 증가\n",
        "        if self.best_score is None:\n",
        "            self.best_score = current_loss\n",
        "        elif current_loss > self.best_score:\n",
        "            self.counter += 1\n",
        "            if self.counter >= self.patience:\n",
        "                self.early_stop = True\n",
        "                control.should_training_stop = True\n",
        "        else:\n",
        "            self.best_score = current_loss\n",
        "            self.counter = 0"
      ],
      "metadata": {
        "id": "6hLwTTqHLQhL"
      },
      "execution_count": null,
      "outputs": []
    },
    {
      "cell_type": "code",
      "source": [
        "#훈련 설정\n",
        "training_args = TrainingArguments(\n",
        "    output_dir = './results',\n",
        "    learning_rate = 5e-5,\n",
        "    evaluation_strategy = 'steps',\n",
        "    eval_steps = 100,\n",
        "    save_strategy = \"steps\",\n",
        "    save_steps = 100,\n",
        "    num_train_epochs = 3,\n",
        "    save_total_limit = 3,\n",
        "    per_device_eval_batch_size = 8,\n",
        "    per_device_train_batch_size = 8,\n",
        "    warmup_steps = 100, #고려사항\n",
        "    weight_decay = 0.01, #고려사항\n",
        "    logging_dir = \"./logs\",\n",
        "    load_best_model_at_end = True\n",
        ")\n",
        "\n",
        "# 트레이너 생성\n",
        "trainer = Trainer(\n",
        "    model = pretrained_model,\n",
        "    args = training_args,\n",
        "    train_dataset = finetune_dataset['train'],\n",
        "    eval_dataset = finetune_dataset['test'],\n",
        "    callbacks = [EarlyStoppingCallback(patience = 3)]\n",
        ")"
      ],
      "metadata": {
        "id": "EL2bobRZLb4g"
      },
      "execution_count": null,
      "outputs": []
    },
    {
      "cell_type": "code",
      "source": [
        "trainer.train()"
      ],
      "metadata": {
        "id": "QANtqsM57Tam",
        "colab": {
          "base_uri": "https://localhost:8080/",
          "height": 267
        },
        "outputId": "1a50fdcb-b742-43bd-c97c-40232ebc30a4"
      },
      "execution_count": null,
      "outputs": [
        {
          "output_type": "display_data",
          "data": {
            "text/plain": [
              "<IPython.core.display.HTML object>"
            ],
            "text/html": [
              "\n",
              "    <div>\n",
              "      \n",
              "      <progress value='500' max='1152' style='width:300px; height:20px; vertical-align: middle;'></progress>\n",
              "      [ 500/1152 05:21 < 07:01, 1.55 it/s, Epoch 1/3]\n",
              "    </div>\n",
              "    <table border=\"1\" class=\"dataframe\">\n",
              "  <thead>\n",
              " <tr style=\"text-align: left;\">\n",
              "      <th>Step</th>\n",
              "      <th>Training Loss</th>\n",
              "      <th>Validation Loss</th>\n",
              "    </tr>\n",
              "  </thead>\n",
              "  <tbody>\n",
              "    <tr>\n",
              "      <td>100</td>\n",
              "      <td>No log</td>\n",
              "      <td>0.717251</td>\n",
              "    </tr>\n",
              "    <tr>\n",
              "      <td>200</td>\n",
              "      <td>No log</td>\n",
              "      <td>0.391957</td>\n",
              "    </tr>\n",
              "    <tr>\n",
              "      <td>300</td>\n",
              "      <td>No log</td>\n",
              "      <td>0.401136</td>\n",
              "    </tr>\n",
              "    <tr>\n",
              "      <td>400</td>\n",
              "      <td>No log</td>\n",
              "      <td>0.424649</td>\n",
              "    </tr>\n",
              "    <tr>\n",
              "      <td>500</td>\n",
              "      <td>0.270300</td>\n",
              "      <td>0.440664</td>\n",
              "    </tr>\n",
              "  </tbody>\n",
              "</table><p>"
            ]
          },
          "metadata": {}
        },
        {
          "output_type": "execute_result",
          "data": {
            "text/plain": [
              "TrainOutput(global_step=500, training_loss=0.2702892150878906, metrics={'train_runtime': 322.4451, 'train_samples_per_second': 28.526, 'train_steps_per_second': 3.573, 'total_flos': 615741536196000.0, 'train_loss': 0.2702892150878906, 'epoch': 1.3020833333333333})"
            ]
          },
          "metadata": {},
          "execution_count": 19
        }
      ]
    },
    {
      "cell_type": "code",
      "source": [
        "#google drive에 학습된 모델을 저장\n",
        "save_path = '/content/drive/My Drive/Finetuned_Model_judge_question'\n",
        "\n",
        "pretrained_model.save_pretrained(save_path)\n",
        "pretrained_tokenizer.save_pretrained(save_path)"
      ],
      "metadata": {
        "id": "cWVCELgCLoU7",
        "colab": {
          "base_uri": "https://localhost:8080/"
        },
        "outputId": "127d05c4-33cc-4cbd-bea1-d4288b4ad646"
      },
      "execution_count": null,
      "outputs": [
        {
          "output_type": "execute_result",
          "data": {
            "text/plain": [
              "('/content/drive/My Drive/Finetuned_Model_judge_question/tokenizer_config.json',\n",
              " '/content/drive/My Drive/Finetuned_Model_judge_question/special_tokens_map.json',\n",
              " '/content/drive/My Drive/Finetuned_Model_judge_question/vocab.txt',\n",
              " '/content/drive/My Drive/Finetuned_Model_judge_question/added_tokens.json',\n",
              " '/content/drive/My Drive/Finetuned_Model_judge_question/tokenizer.json')"
            ]
          },
          "metadata": {},
          "execution_count": 12
        }
      ]
    },
    {
      "cell_type": "markdown",
      "source": [
        "#Labeled NSP 데이터셋으로 파인튜닝"
      ],
      "metadata": {
        "id": "dc2y1i8yNWNu"
      }
    },
    {
      "cell_type": "code",
      "source": [
        "#훈련 데이터 불러오기\n",
        "finetune_dataset_path = '/content/drive/My Drive/KcBERT_finetune_dataset_answer.xlsx'\n",
        "df_finetune = pd.read_excel(finetune_dataset_path, index_col = 0)"
      ],
      "metadata": {
        "id": "agxfClgCTpOC"
      },
      "execution_count": null,
      "outputs": []
    },
    {
      "cell_type": "code",
      "source": [
        "#MLM으로 훈련된 모델 로드\n",
        "#BertForNextSentencePrediction 구조에 맞게 모델 불러오기\n",
        "pretrained_model_load_path = '/content/drive/My Drive/Pretrained_Model'\n",
        "\n",
        "pretrained_tokenizer = AutoTokenizer.from_pretrained(pretrained_model_load_path)\n",
        "pretrained_model = BertForNextSentencePrediction.from_pretrained(pretrained_model_load_path)"
      ],
      "metadata": {
        "id": "XRbEdULoQSFf",
        "colab": {
          "base_uri": "https://localhost:8080/"
        },
        "outputId": "3dd69d33-f900-4d91-a20c-d53dc9119f26"
      },
      "execution_count": null,
      "outputs": [
        {
          "output_type": "stream",
          "name": "stderr",
          "text": [
            "Special tokens have been added in the vocabulary, make sure the associated word embeddings are fine-tuned or trained.\n",
            "Some weights of BertForNextSentencePrediction were not initialized from the model checkpoint at /content/drive/My Drive/Pretrained_Model and are newly initialized: ['bert.pooler.dense.bias', 'bert.pooler.dense.weight', 'cls.seq_relationship.bias', 'cls.seq_relationship.weight']\n",
            "You should probably TRAIN this model on a down-stream task to be able to use it for predictions and inference.\n"
          ]
        }
      ]
    },
    {
      "cell_type": "code",
      "source": [
        "device = torch.device(\"cuda\" if torch.cuda.is_available() else \"cpu\")\n",
        "pretrained_model.to(device)"
      ],
      "metadata": {
        "id": "abTuVOQ0OfQj",
        "colab": {
          "base_uri": "https://localhost:8080/"
        },
        "outputId": "32d7ba5d-8db1-41b9-8ec2-3cb133731b09"
      },
      "execution_count": null,
      "outputs": [
        {
          "output_type": "execute_result",
          "data": {
            "text/plain": [
              "BertForNextSentencePrediction(\n",
              "  (bert): BertModel(\n",
              "    (embeddings): BertEmbeddings(\n",
              "      (word_embeddings): Embedding(40596, 768, padding_idx=0)\n",
              "      (position_embeddings): Embedding(300, 768)\n",
              "      (token_type_embeddings): Embedding(2, 768)\n",
              "      (LayerNorm): LayerNorm((768,), eps=1e-12, elementwise_affine=True)\n",
              "      (dropout): Dropout(p=0.1, inplace=False)\n",
              "    )\n",
              "    (encoder): BertEncoder(\n",
              "      (layer): ModuleList(\n",
              "        (0-11): 12 x BertLayer(\n",
              "          (attention): BertAttention(\n",
              "            (self): BertSelfAttention(\n",
              "              (query): Linear(in_features=768, out_features=768, bias=True)\n",
              "              (key): Linear(in_features=768, out_features=768, bias=True)\n",
              "              (value): Linear(in_features=768, out_features=768, bias=True)\n",
              "              (dropout): Dropout(p=0.1, inplace=False)\n",
              "            )\n",
              "            (output): BertSelfOutput(\n",
              "              (dense): Linear(in_features=768, out_features=768, bias=True)\n",
              "              (LayerNorm): LayerNorm((768,), eps=1e-12, elementwise_affine=True)\n",
              "              (dropout): Dropout(p=0.1, inplace=False)\n",
              "            )\n",
              "          )\n",
              "          (intermediate): BertIntermediate(\n",
              "            (dense): Linear(in_features=768, out_features=3072, bias=True)\n",
              "            (intermediate_act_fn): GELUActivation()\n",
              "          )\n",
              "          (output): BertOutput(\n",
              "            (dense): Linear(in_features=3072, out_features=768, bias=True)\n",
              "            (LayerNorm): LayerNorm((768,), eps=1e-12, elementwise_affine=True)\n",
              "            (dropout): Dropout(p=0.1, inplace=False)\n",
              "          )\n",
              "        )\n",
              "      )\n",
              "    )\n",
              "    (pooler): BertPooler(\n",
              "      (dense): Linear(in_features=768, out_features=768, bias=True)\n",
              "      (activation): Tanh()\n",
              "    )\n",
              "  )\n",
              "  (cls): BertOnlyNSPHead(\n",
              "    (seq_relationship): Linear(in_features=768, out_features=2, bias=True)\n",
              "  )\n",
              ")"
            ]
          },
          "metadata": {},
          "execution_count": 6
        }
      ]
    },
    {
      "cell_type": "code",
      "source": [
        "print(df_finetune)\n",
        "dataset = Dataset.from_pandas(df_finetune)\n",
        "print(dataset)\n",
        "print(df_finetune[df_finetune['sent2'].isnull()])"
      ],
      "metadata": {
        "colab": {
          "base_uri": "https://localhost:8080/"
        },
        "id": "VLIeU848YMm9",
        "outputId": "6fdee17c-704f-4497-cf2f-093452ca827b"
      },
      "execution_count": null,
      "outputs": [
        {
          "output_type": "stream",
          "name": "stdout",
          "text": [
            "                                                  sent1  \\\n",
            "0     안녕하세요! 우선 모두의노코드 사이트 런칭을 축하드립니다.이렇게 첫번째 질문 글을 ...   \n",
            "1     안녕하세요.모두의 노코드 런칭을 축하드립니다. 앞으로 좋은 활동 기대합니다. 현재 ...   \n",
            "2     안녕하세요.모두의 노코드 런칭을 축하드립니다. 앞으로 좋은 활동 기대합니다. 현재 ...   \n",
            "3     안녕하세요.제주도에서 노션으로 동네 친구 매칭 서비스를 만들고 있습니다.어제 웨비나...   \n",
            "4     모두의노코드 만드신 분들께 질문 드리고 싶어요.제가 버블로 만든 서비스 관련해 모바...   \n",
            "...                                                 ...   \n",
            "5819   안녕하세요 버블 고수님들!버블 데이터 처리 관련 질문 있습니다!기존에 있는 데이터...   \n",
            "5820   안녕하세요 버블 고수님들!버블 데이터 처리 관련 질문 있습니다!기존에 있는 데이터...   \n",
            "5821   안녕하세요 버블 고수님들!버블 데이터 처리 관련 질문 있습니다!기존에 있는 데이터...   \n",
            "5822   안녕하세요 버블 고수님들!버블 데이터 처리 관련 질문 있습니다!기존에 있는 데이터...   \n",
            "5823   안녕하세요 버블 고수님들!버블 데이터 처리 관련 질문 있습니다!기존에 있는 데이터...   \n",
            "\n",
            "                                                  sent2  label  sent2_index  \n",
            "0     저도 궁금해져서 열심히 찾아봤는데 콜아웃 같은 블록을 넣는 명령어나 함수는 찾지 못...      1          0.0  \n",
            "1     헤더그룹 안에 로고와 CTA를 넣으시고 max width를 지정하시면 될 것 같아요...      1          1.0  \n",
            "2     모두의노코드를 여쭤보신 것인지 모르겠어서 이게 맞는지는 모르겠습니다.모두의노코드의 ...      1          1.0  \n",
            "3     충분히 버블로 개발가능할 것 같아요! 이미 비슷한 수준의 어플을 개발한 사례가 많아...      1          2.0  \n",
            "4     폴리미 가입해야지 가입해야지 하다가 바로 가입했습니다. 정신이 없었네요. 좋은 프로...      1          3.0  \n",
            "...                                                 ...    ...          ...  \n",
            "5819                                          웨이브온 좋아요~      0          NaN  \n",
            "5820            K는 1천 단위를 의미해요. 250K WU는 25만 워크로드입니다 ㅎㅎ      0          NaN  \n",
            "5821   Visibility를 껐다 켰을 때 해당 엘리먼트 내의 스크롤 위치가 보존된다면 ...      0          NaN  \n",
            "5822   개념 상의 차이로 생각해주시면 좋을 것 같습니다.인스타의 경우 닉네임 자체만으로 ...      0          NaN  \n",
            "5823                         버블 기본 DB가 제일 빠를 거예요 아마..ㅎㅎ      0          NaN  \n",
            "\n",
            "[5824 rows x 4 columns]\n",
            "Dataset({\n",
            "    features: ['sent1', 'sent2', 'label', 'sent2_index', '__index_level_0__'],\n",
            "    num_rows: 5824\n",
            "})\n",
            "Empty DataFrame\n",
            "Columns: [sent1, sent2, label, sent2_index]\n",
            "Index: []\n"
          ]
        }
      ]
    },
    {
      "cell_type": "code",
      "source": [
        "# NSP 데이터셋 준비(NSP 태스크에서는 stratify 적용)\n",
        "def tokenize_function(examples):\n",
        "    return pretrained_tokenizer(examples['sent1'], examples['sent2'], truncation = True, padding = \"max_length\", max_length = pretrained_model.config.max_position_embeddings)\n",
        "\n",
        "dataset = Dataset.from_pandas(df_finetune)\n",
        "finetune_dataset = dataset.map(tokenize_function, batched=True)\n",
        "finetune_dataset = finetune_dataset.class_encode_column('label')\n",
        "finetune_dataset = finetune_dataset.train_test_split(test_size = 0.1, stratify_by_column = 'label')"
      ],
      "metadata": {
        "id": "rDPTWa33gT2E",
        "colab": {
          "base_uri": "https://localhost:8080/",
          "height": 113,
          "referenced_widgets": [
            "ac29c825cb30449a815823b567426fa1",
            "700a32e5f8844d65b6d98065184a500a",
            "4469e15520124aefb093a1292f36a6f4",
            "b86cf22573b241e4acd811090d641c37",
            "aa2a0d7590d34ec8a20256713aada80f",
            "7238205718dc4a7e921c1e0314a77487",
            "47bc6849cca04b228fffc3c5bd348e99",
            "6316c83389304d4c88952415c940e5ff",
            "3e959079660f4a979304e33df2389b25",
            "775efb22d8c64400a7f79a0638c30dcf",
            "3bb721f58e624d12be6fda63965e3501",
            "5bee0b6e22b9419e8e8873a3309e0aad",
            "aadab199a4eb4e3bb9f4c0fe28f8c8ff",
            "e3d45ef8b7f941d993eeeb8c004e1238",
            "02c15e6f627641649634fa4513fe41d1",
            "9a0bbf39746540da8f3e6ed43508b366",
            "d964642e848d435cb9e41c552df019b0",
            "790a79dbc0394f52bd92b30b9308bcf4",
            "1525d29498914a1cbfcb729f9b1fc7b3",
            "85472a1232164f4eb96d22cbe6e7adb7",
            "256b327251db4af4bddcdc0df432c6fc",
            "7f29313d8d03441c8570992743a4f73d",
            "9e70956fb0c94039be752540f545a4ba",
            "ba360d4eb4aa4f9b9ef464218aba734d",
            "4c69772aa09d4c01969d7eb6a1ee2400",
            "f3b892588e3a4bc9905ba14fb6da6fef",
            "abf68f4cfe9f453fb3e3b6fa776228e9",
            "1f5b3c60c1a649efb36ef098caee6f20",
            "c616fcfcab7b4cb68d39b5efb980a91d",
            "a2b062b138254decace9885e693cf34e",
            "790dde6285c24c109d8fedb81a382f94",
            "0db5879238c645f891f936ea029504f2",
            "0f5a2d93063f4089ba7f2ab38a556867"
          ]
        },
        "outputId": "22660dc2-e4bc-4318-81ca-05afe8116577"
      },
      "execution_count": null,
      "outputs": [
        {
          "output_type": "display_data",
          "data": {
            "text/plain": [
              "Map:   0%|          | 0/5824 [00:00<?, ? examples/s]"
            ],
            "application/vnd.jupyter.widget-view+json": {
              "version_major": 2,
              "version_minor": 0,
              "model_id": "ac29c825cb30449a815823b567426fa1"
            }
          },
          "metadata": {}
        },
        {
          "output_type": "display_data",
          "data": {
            "text/plain": [
              "Stringifying the column:   0%|          | 0/5824 [00:00<?, ? examples/s]"
            ],
            "application/vnd.jupyter.widget-view+json": {
              "version_major": 2,
              "version_minor": 0,
              "model_id": "5bee0b6e22b9419e8e8873a3309e0aad"
            }
          },
          "metadata": {}
        },
        {
          "output_type": "display_data",
          "data": {
            "text/plain": [
              "Casting to class labels:   0%|          | 0/5824 [00:00<?, ? examples/s]"
            ],
            "application/vnd.jupyter.widget-view+json": {
              "version_major": 2,
              "version_minor": 0,
              "model_id": "9e70956fb0c94039be752540f545a4ba"
            }
          },
          "metadata": {}
        }
      ]
    },
    {
      "cell_type": "code",
      "source": [
        "#훈련 설정\n",
        "training_args = TrainingArguments(\n",
        "    output_dir = './results',\n",
        "    learning_rate = 2e-5, #pretrain에 비해 낮은 값\n",
        "    evaluation_strategy = 'steps',\n",
        "    eval_steps = 200,\n",
        "    save_strategy = \"steps\",\n",
        "    save_steps = 200,\n",
        "    num_train_epochs = 3,\n",
        "    save_total_limit = 3,\n",
        "    per_device_eval_batch_size = 8,\n",
        "    per_device_train_batch_size = 8,\n",
        "    warmup_steps = 200, #고려사항\n",
        "    weight_decay = 0.01, #고려사항\n",
        "    logging_dir = \"./logs\",\n",
        "    load_best_model_at_end = True\n",
        ")\n",
        "\n",
        "# 트레이너 생성\n",
        "trainer = Trainer(\n",
        "    model = pretrained_model,\n",
        "    args = training_args,\n",
        "    train_dataset = finetune_dataset['train'],\n",
        "    eval_dataset = finetune_dataset['test'],\n",
        "    callbacks = [EarlyStoppingCallback(patience = 3)]\n",
        ")"
      ],
      "metadata": {
        "id": "YiZbIl0uMIx-"
      },
      "execution_count": null,
      "outputs": []
    },
    {
      "cell_type": "code",
      "source": [
        "trainer.train()"
      ],
      "metadata": {
        "id": "7dJK5A4eMM-C",
        "colab": {
          "base_uri": "https://localhost:8080/",
          "height": 298
        },
        "outputId": "3ca7f360-f00e-4d9f-9674-91c96983e5f6"
      },
      "execution_count": null,
      "outputs": [
        {
          "output_type": "display_data",
          "data": {
            "text/plain": [
              "<IPython.core.display.HTML object>"
            ],
            "text/html": [
              "\n",
              "    <div>\n",
              "      \n",
              "      <progress value='1200' max='1968' style='width:300px; height:20px; vertical-align: middle;'></progress>\n",
              "      [1200/1968 11:48 < 07:34, 1.69 it/s, Epoch 1/3]\n",
              "    </div>\n",
              "    <table border=\"1\" class=\"dataframe\">\n",
              "  <thead>\n",
              " <tr style=\"text-align: left;\">\n",
              "      <th>Step</th>\n",
              "      <th>Training Loss</th>\n",
              "      <th>Validation Loss</th>\n",
              "    </tr>\n",
              "  </thead>\n",
              "  <tbody>\n",
              "    <tr>\n",
              "      <td>200</td>\n",
              "      <td>No log</td>\n",
              "      <td>0.489896</td>\n",
              "    </tr>\n",
              "    <tr>\n",
              "      <td>400</td>\n",
              "      <td>No log</td>\n",
              "      <td>0.593015</td>\n",
              "    </tr>\n",
              "    <tr>\n",
              "      <td>600</td>\n",
              "      <td>0.282600</td>\n",
              "      <td>0.410021</td>\n",
              "    </tr>\n",
              "    <tr>\n",
              "      <td>800</td>\n",
              "      <td>0.282600</td>\n",
              "      <td>0.418134</td>\n",
              "    </tr>\n",
              "    <tr>\n",
              "      <td>1000</td>\n",
              "      <td>0.285700</td>\n",
              "      <td>0.466792</td>\n",
              "    </tr>\n",
              "    <tr>\n",
              "      <td>1200</td>\n",
              "      <td>0.285700</td>\n",
              "      <td>0.502589</td>\n",
              "    </tr>\n",
              "  </tbody>\n",
              "</table><p>"
            ]
          },
          "metadata": {}
        },
        {
          "output_type": "execute_result",
          "data": {
            "text/plain": [
              "TrainOutput(global_step=1200, training_loss=0.2791646353403727, metrics={'train_runtime': 708.8664, 'train_samples_per_second': 22.18, 'train_steps_per_second': 2.776, 'total_flos': 1478920519962000.0, 'train_loss': 0.2791646353403727, 'epoch': 1.8292682926829267})"
            ]
          },
          "metadata": {},
          "execution_count": 12
        }
      ]
    },
    {
      "cell_type": "code",
      "source": [
        "#google drive에 학습된 모델을 저장\n",
        "save_path = '/content/drive/My Drive/Finetuned_Model_judge_answer'\n",
        "\n",
        "pretrained_model.save_pretrained(save_path)\n",
        "pretrained_tokenizer.save_pretrained(save_path)"
      ],
      "metadata": {
        "id": "sS61oda_MW4m",
        "colab": {
          "base_uri": "https://localhost:8080/"
        },
        "outputId": "978ecd80-92aa-42b8-8423-731d3d5a758c"
      },
      "execution_count": null,
      "outputs": [
        {
          "output_type": "execute_result",
          "data": {
            "text/plain": [
              "('/content/drive/My Drive/Finetuned_Model_judge_answer/tokenizer_config.json',\n",
              " '/content/drive/My Drive/Finetuned_Model_judge_answer/special_tokens_map.json',\n",
              " '/content/drive/My Drive/Finetuned_Model_judge_answer/vocab.txt',\n",
              " '/content/drive/My Drive/Finetuned_Model_judge_answer/added_tokens.json',\n",
              " '/content/drive/My Drive/Finetuned_Model_judge_answer/tokenizer.json')"
            ]
          },
          "metadata": {},
          "execution_count": 13
        }
      ]
    }
  ]
}