{
  "nbformat": 4,
  "nbformat_minor": 0,
  "metadata": {
    "colab": {
      "provenance": [],
      "authorship_tag": "ABX9TyPy7Ihcsq6Yt3yDZIqVULya",
      "include_colab_link": true
    },
    "kernelspec": {
      "name": "python3",
      "display_name": "Python 3"
    },
    "language_info": {
      "name": "python"
    }
  },
  "cells": [
    {
      "cell_type": "markdown",
      "metadata": {
        "id": "view-in-github",
        "colab_type": "text"
      },
      "source": [
        "<a href=\"https://colab.research.google.com/github/Kimhansav/everynocode_search_engine/blob/main/BP_spacing.ipynb\" target=\"_parent\"><img src=\"https://colab.research.google.com/assets/colab-badge.svg\" alt=\"Open In Colab\"/></a>"
      ]
    },
    {
      "cell_type": "code",
      "execution_count": null,
      "metadata": {
        "id": "Khb8VK6a9nMO"
      },
      "outputs": [],
      "source": [
        "#PyKoSpacing의 버전 관리가 어려워 따로 생성한 데이터셋 띄어쓰기 모듈(로컬)"
      ]
    },
    {
      "cell_type": "code",
      "source": [
        "!pip install git+https://github.com/haven-jeon/PyKoSpacing.git\n",
        "!pip install datasets\n",
        "import pandas as pd\n",
        "from pykospacing import Spacing\n",
        "from datasets import Dataset, load_dataset\n",
        "from google.colab import drive\n",
        "drive.mount('/content/drive')"
      ],
      "metadata": {
        "id": "HwuCNojn9xOK"
      },
      "execution_count": null,
      "outputs": []
    },
    {
      "cell_type": "code",
      "source": [
        "#전처리된 파일 호출\n",
        "talk_path = '/content/drive/My Drive/talk_preprocess_result_short.xlsx'\n",
        "community_qna_path = '/content/drive/My Drive/community_qna_preprocessed.xlsx'\n",
        "community_all_contents_path = '/content/drive/My Drive/community_all_contents_preprocessed.xlsx'\n",
        "community_all_comments_path = '/content/drive/My Drive/community_all_comments_preprocessed.xlsx'\n",
        "\n",
        "df_talk = pd.read_excel(talk_path)\n",
        "df_qna = pd.read_excel(community_qna_path)\n",
        "df_all_contents = pd.read_excel(community_all_contents_path)\n",
        "df_all_comments = pd.read_excel(community_all_comments_path)"
      ],
      "metadata": {
        "id": "aq9zA2-5_UXG"
      },
      "execution_count": 3,
      "outputs": []
    },
    {
      "cell_type": "code",
      "source": [
        "print(df_talk)\n",
        "print(df_talk['text'])\n",
        "talk = Dataset.from_pandas(df_talk)\n",
        "print(talk['text'])"
      ],
      "metadata": {
        "id": "zsN_bSiXtTig"
      },
      "execution_count": null,
      "outputs": []
    },
    {
      "cell_type": "code",
      "source": [
        "spacing = Spacing()\n",
        "\n",
        "# 카카오톡 데이터셋 전처리 함수, Dataset을 인자로 받는다.\n",
        "def talk_text_spacing(example):\n",
        "    example['text'] = spacing(example['text'], ignore = 'pre2') #github readme에서 ignore 참조, pre2가 제일 적합함.\n",
        "    return example\n",
        "\n",
        "# 커뮤니티 데이터셋(qna, all_contents) 전처리 함수, Dataset을 인자로 받는다.\n",
        "def community_qna_all_contents_text_spacing(example):\n",
        "    example['내용'] = spacing(example['내용'], ignore = 'pre2') if pd.isna(example['내용']) == False else None\n",
        "    example['답변'] = spacing(example['답변'], ignore = 'pre2') if pd.isna(example['답변']) == False else None\n",
        "    example['댓글'] = spacing(example['댓글'], ignore = 'pre2') if pd.isna(example['댓글']) == False else None\n",
        "    return example\n",
        "\n",
        "# 커뮤니티 데이터셋(all_comments) 전처리 함수, Dataset을 인자로 받는다.\n",
        "def community_all_comments_text_spacing(example):\n",
        "    example['내용'] = spacing(example['내용'], ignore = 'pre2') if pd.isna(example['내용']) == False else None\n",
        "    example['대댓글'] = spacing(example['대댓글'], ignore = 'pre2') if pd.isna(example['대댓글']) == False else None\n",
        "    example['댓글'] = spacing(example['댓글'], ignore = 'pre2') if pd.isna(example['댓글']) == False else None\n",
        "    return example"
      ],
      "metadata": {
        "id": "EGMiwouD-SwB"
      },
      "execution_count": 6,
      "outputs": []
    },
    {
      "cell_type": "code",
      "source": [
        "#파일 Dataset으로 변환 후 띄어쓰기 처리\n",
        "talk = Dataset.from_pandas(df_talk)\n",
        "spaced_talk = talk.map(talk_text_spacing, num_proc = 1)\n",
        "\n",
        "# qna = Dataset.from_pandas(df_qna)\n",
        "# spaced_qna = qna.map(community_qna_all_contents_text_spacing, num_proc = 1)\n",
        "\n",
        "# all_contents = Dataset.from_pandas(df_all_contents)\n",
        "# spaced_all_contents = all_contents.map(community_qna_all_contents_text_spacing, num_proc = 1)\n",
        "\n",
        "# all_comments = Dataset.from_pandas(df_all_comments)\n",
        "# spaced_all_comments = all_comments.map(community_all_comments_text_spacing, num_proc = 1)"
      ],
      "metadata": {
        "id": "kaO_RLYJCBdr"
      },
      "execution_count": null,
      "outputs": []
    },
    {
      "cell_type": "code",
      "source": [
        "qna = Dataset.from_pandas(df_qna)\n",
        "spaced_qna = qna.map(community_qna_all_contents_text_spacing, num_proc = 1)"
      ],
      "metadata": {
        "id": "yY-6FvMQ7QpG"
      },
      "execution_count": 8,
      "outputs": []
    },
    {
      "cell_type": "code",
      "source": [
        "all_contents = Dataset.from_pandas(df_all_contents)\n",
        "spaced_all_contents = all_contents.map(community_qna_all_contents_text_spacing, num_proc = 1)"
      ],
      "metadata": {
        "id": "yra-jFLv7S98"
      },
      "execution_count": 9,
      "outputs": []
    },
    {
      "cell_type": "code",
      "source": [
        "all_comments = Dataset.from_pandas(df_all_comments)\n",
        "spaced_all_comments = all_comments.map(community_all_comments_text_spacing, num_proc = 1)"
      ],
      "metadata": {
        "id": "C2zHdlrF7S_v"
      },
      "execution_count": 10,
      "outputs": []
    },
    {
      "cell_type": "code",
      "source": [
        "print(spaced_talk)\n",
        "print(spaced_qna)\n",
        "print(spaced_all_contents)\n",
        "print(spaced_all_comments)"
      ],
      "metadata": {
        "id": "Wz1k-l-ErpYF"
      },
      "execution_count": null,
      "outputs": []
    },
    {
      "cell_type": "code",
      "source": [
        "#Dataset을 pandas DataFrame으로 변환한 뒤 .csv 파일로 저장\n",
        "talk_save_path = '/content/drive/My Drive/talk_preprocess_result_short_spaced.xlsx'\n",
        "spaced_talk.to_pandas()\n",
        "spaced_talk.to_excel(talk_save_path)"
      ],
      "metadata": {
        "id": "Xsa0sET8BqcD"
      },
      "execution_count": null,
      "outputs": []
    },
    {
      "cell_type": "code",
      "source": [
        "qna_save_path = '/content/drive/My Drive/community_qna_preprocessed_spaced.xlsx'\n",
        "spaced_qna.to_pandas()\n",
        "spaced_qna.to_excel(qna_save_path)"
      ],
      "metadata": {
        "id": "OH_u8JqwAYMe"
      },
      "execution_count": null,
      "outputs": []
    },
    {
      "cell_type": "code",
      "source": [
        "all_contents_save_path = '/content/drive/My Drive/community_all_contents_preprocessed_spaced.xlsx'\n",
        "spaced_all_contents.to_pandas\n",
        "spaced_all_contents.to_excel(all_contents_save_path)"
      ],
      "metadata": {
        "id": "TE4lWmwAAYOh"
      },
      "execution_count": null,
      "outputs": []
    },
    {
      "cell_type": "code",
      "source": [
        "all_comments_save_path = '/content/drive/My Drive/community_all_comments_preprocessed_spaced.xlsx'\n",
        "spaced_all_comments.to_pandas()\n",
        "spaced_all_comments.to_excel(all_comments_save_path)"
      ],
      "metadata": {
        "id": "ZHpKiVbJIX5r"
      },
      "execution_count": null,
      "outputs": []
    },
    {
      "cell_type": "code",
      "source": [],
      "metadata": {
        "id": "0lVWN19OHB1X"
      },
      "execution_count": null,
      "outputs": []
    }
  ]
}