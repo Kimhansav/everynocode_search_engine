{
  "nbformat": 4,
  "nbformat_minor": 0,
  "metadata": {
    "colab": {
      "provenance": [],
      "authorship_tag": "ABX9TyPVHDU/vGqPAIXRRJUMNErP",
      "include_colab_link": true
    },
    "kernelspec": {
      "name": "python3",
      "display_name": "Python 3"
    },
    "language_info": {
      "name": "python"
    }
  },
  "cells": [
    {
      "cell_type": "markdown",
      "metadata": {
        "id": "view-in-github",
        "colab_type": "text"
      },
      "source": [
        "<a href=\"https://colab.research.google.com/github/Kimhansav/everynocode_search_engine/blob/main/BP_make_dataset.ipynb\" target=\"_parent\"><img src=\"https://colab.research.google.com/assets/colab-badge.svg\" alt=\"Open In Colab\"/></a>"
      ]
    },
    {
      "cell_type": "code",
      "source": [
        "#KcBERT 학습용 데이터셋을 제작하는 코드(로컬)\n",
        "#제작할 데이터셋은 pretraining용 데이터셋(soynlp 학습용 데이터), finetuning용 데이터셋(next sentence prediction)"
      ],
      "metadata": {
        "id": "dvmRQmeXNwrP"
      },
      "execution_count": null,
      "outputs": []
    },
    {
      "cell_type": "code",
      "execution_count": 87,
      "metadata": {
        "colab": {
          "base_uri": "https://localhost:8080/"
        },
        "id": "O8yZcJ5xNqY6",
        "outputId": "ec622f65-e4e8-41e8-a172-a7d662103849"
      },
      "outputs": [
        {
          "output_type": "stream",
          "name": "stdout",
          "text": [
            "Requirement already satisfied: datasets in /usr/local/lib/python3.10/dist-packages (2.19.0)\n",
            "Requirement already satisfied: filelock in /usr/local/lib/python3.10/dist-packages (from datasets) (3.13.4)\n",
            "Requirement already satisfied: numpy>=1.17 in /usr/local/lib/python3.10/dist-packages (from datasets) (1.25.2)\n",
            "Requirement already satisfied: pyarrow>=12.0.0 in /usr/local/lib/python3.10/dist-packages (from datasets) (14.0.2)\n",
            "Requirement already satisfied: pyarrow-hotfix in /usr/local/lib/python3.10/dist-packages (from datasets) (0.6)\n",
            "Requirement already satisfied: dill<0.3.9,>=0.3.0 in /usr/local/lib/python3.10/dist-packages (from datasets) (0.3.8)\n",
            "Requirement already satisfied: pandas in /usr/local/lib/python3.10/dist-packages (from datasets) (2.0.3)\n",
            "Requirement already satisfied: requests>=2.19.0 in /usr/local/lib/python3.10/dist-packages (from datasets) (2.31.0)\n",
            "Requirement already satisfied: tqdm>=4.62.1 in /usr/local/lib/python3.10/dist-packages (from datasets) (4.66.2)\n",
            "Requirement already satisfied: xxhash in /usr/local/lib/python3.10/dist-packages (from datasets) (3.4.1)\n",
            "Requirement already satisfied: multiprocess in /usr/local/lib/python3.10/dist-packages (from datasets) (0.70.16)\n",
            "Requirement already satisfied: fsspec[http]<=2024.3.1,>=2023.1.0 in /usr/local/lib/python3.10/dist-packages (from datasets) (2023.6.0)\n",
            "Requirement already satisfied: aiohttp in /usr/local/lib/python3.10/dist-packages (from datasets) (3.9.5)\n",
            "Requirement already satisfied: huggingface-hub>=0.21.2 in /usr/local/lib/python3.10/dist-packages (from datasets) (0.22.2)\n",
            "Requirement already satisfied: packaging in /usr/local/lib/python3.10/dist-packages (from datasets) (24.0)\n",
            "Requirement already satisfied: pyyaml>=5.1 in /usr/local/lib/python3.10/dist-packages (from datasets) (6.0.1)\n",
            "Requirement already satisfied: aiosignal>=1.1.2 in /usr/local/lib/python3.10/dist-packages (from aiohttp->datasets) (1.3.1)\n",
            "Requirement already satisfied: attrs>=17.3.0 in /usr/local/lib/python3.10/dist-packages (from aiohttp->datasets) (23.2.0)\n",
            "Requirement already satisfied: frozenlist>=1.1.1 in /usr/local/lib/python3.10/dist-packages (from aiohttp->datasets) (1.4.1)\n",
            "Requirement already satisfied: multidict<7.0,>=4.5 in /usr/local/lib/python3.10/dist-packages (from aiohttp->datasets) (6.0.5)\n",
            "Requirement already satisfied: yarl<2.0,>=1.0 in /usr/local/lib/python3.10/dist-packages (from aiohttp->datasets) (1.9.4)\n",
            "Requirement already satisfied: async-timeout<5.0,>=4.0 in /usr/local/lib/python3.10/dist-packages (from aiohttp->datasets) (4.0.3)\n",
            "Requirement already satisfied: typing-extensions>=3.7.4.3 in /usr/local/lib/python3.10/dist-packages (from huggingface-hub>=0.21.2->datasets) (4.11.0)\n",
            "Requirement already satisfied: charset-normalizer<4,>=2 in /usr/local/lib/python3.10/dist-packages (from requests>=2.19.0->datasets) (3.3.2)\n",
            "Requirement already satisfied: idna<4,>=2.5 in /usr/local/lib/python3.10/dist-packages (from requests>=2.19.0->datasets) (3.7)\n",
            "Requirement already satisfied: urllib3<3,>=1.21.1 in /usr/local/lib/python3.10/dist-packages (from requests>=2.19.0->datasets) (2.0.7)\n",
            "Requirement already satisfied: certifi>=2017.4.17 in /usr/local/lib/python3.10/dist-packages (from requests>=2.19.0->datasets) (2024.2.2)\n",
            "Requirement already satisfied: python-dateutil>=2.8.2 in /usr/local/lib/python3.10/dist-packages (from pandas->datasets) (2.8.2)\n",
            "Requirement already satisfied: pytz>=2020.1 in /usr/local/lib/python3.10/dist-packages (from pandas->datasets) (2023.4)\n",
            "Requirement already satisfied: tzdata>=2022.1 in /usr/local/lib/python3.10/dist-packages (from pandas->datasets) (2024.1)\n",
            "Requirement already satisfied: six>=1.5 in /usr/local/lib/python3.10/dist-packages (from python-dateutil>=2.8.2->pandas->datasets) (1.16.0)\n",
            "Drive already mounted at /content/drive; to attempt to forcibly remount, call drive.mount(\"/content/drive\", force_remount=True).\n"
          ]
        }
      ],
      "source": [
        "# !pip install kss\n",
        "!pip install datasets\n",
        "import pandas as pd\n",
        "import numpy as np\n",
        "import re\n",
        "import os\n",
        "import torch\n",
        "import tensorflow as tf\n",
        "import urllib.request\n",
        "# from kss import Kss\n",
        "from tqdm import tqdm\n",
        "from tensorflow.keras.callbacks import EarlyStopping\n",
        "from tensorflow.keras.preprocessing.sequence import pad_sequences\n",
        "from transformers import AutoTokenizer, shape_list, TFBertModel, RobertaTokenizerFast, RobertaForSequenceClassification, TextClassificationPipeline, pipeline, BertTokenizer, BertForNextSentencePrediction,  TrainingArguments\n",
        "from datasets import Dataset, load_dataset\n",
        "from sklearn.model_selection import StratifiedKFold, train_test_split\n",
        "from google.colab import drive\n",
        "drive.mount('/content/drive')"
      ]
    },
    {
      "cell_type": "code",
      "source": [
        "#전처리된 파일 로드(BP_spacing 건너뛰기)\n",
        "talk_save_path = '/content/drive/My Drive/talk_preprocess_result_short.xlsx'\n",
        "qna_path = '/content/drive/My Drive/community_qna_preprocessed.xlsx'\n",
        "all_contents_path = '/content/drive/My Drive/community_all_contents_preprocessed.csv'\n",
        "all_comments_path = '/content/drive/My Drive/community_all_comments_preprocessed.csv'\n",
        "\n",
        "df_talk = pd.read_excel(talk_save_path)\n",
        "df_qna = pd.read_excel(qna_path)\n",
        "df_all_contents = pd.read_csv(all_contents_path)\n",
        "df_all_comments = pd.read_csv(all_comments_path)"
      ],
      "metadata": {
        "id": "HPlZt8oJN3fN"
      },
      "execution_count": 88,
      "outputs": []
    },
    {
      "cell_type": "code",
      "source": [
        "#직접 제작한 카카오톡 질문답변 데이터셋 로드\n",
        "talk_finetune_path = '/content/drive/My Drive/talk_finetune_dataset.xlsx'\n",
        "\n",
        "df_talk_finetune = pd.read_excel(talk_finetune_path, index_col = 0)"
      ],
      "metadata": {
        "id": "o2OuDponqe2w"
      },
      "execution_count": 112,
      "outputs": []
    },
    {
      "cell_type": "markdown",
      "source": [
        "#Pretrain 데이터셋, 제공받은 모든 데이터 사용\n"
      ],
      "metadata": {
        "id": "s_4qB1f1cH1F"
      }
    },
    {
      "cell_type": "code",
      "source": [
        "#kss로 리스트 안에 있는 여러 문장으로 이루어진 글을 문장 단위로 분리하는 함수\n",
        "def seperate_to_sentences(corpus_list):\n",
        "  new_corpus_list = []\n",
        "  for corpus in corpus_list:\n",
        "    new_corpus_list.append(kss.split_sentences(corpus))\n",
        "  new_corpus_list = sum(lists for lists in new_corpus_list)\n",
        "  return new_corpus_list"
      ],
      "metadata": {
        "id": "FEXvQkoJep6B"
      },
      "execution_count": null,
      "outputs": []
    },
    {
      "cell_type": "code",
      "source": [
        "corpus_list = ['딥 러닝 자연어 처리가 재미있기는 합니다. 그런데 문제는 영어보다 한국어로 할 때 너무 어렵습니다. 이제 해보면 알걸요?', '딥 러닝 자연어 처리가 재미있기는 합니다. 그런데 문제는 영어보다 한국어로 할 때 너무 어렵습니다. 이제 해보면 알걸요?', '딥 러닝 자연어 처리가 재미있기는 합니다. 그런데 문제는 영어보다 한국어로 할 때 너무 어렵습니다. 이제 해보면 알걸요?']\n",
        "print(seperate_to_sentences(corpus_list))"
      ],
      "metadata": {
        "id": "G1T36OgJgRaF"
      },
      "execution_count": null,
      "outputs": []
    },
    {
      "cell_type": "code",
      "source": [
        "#kss로 리스트 안에 있는 여러 문장으로 이루어진 글을 문장 단위로 분리하는 함수\n",
        "def separate_to_sentences_and_deduplicate(DataFrame, columns):\n",
        "    sentences_list = []\n",
        "    for column in columns: #데이터프레임의 각 열에 대해서 처리\n",
        "        text_list = DataFrame[column].to_list()\n",
        "        sentences_list.append(sum(kss.split_sentences(text) for text in text_list))\n",
        "    return list(set(sum(lists for lists in sentences_list)))"
      ],
      "metadata": {
        "id": "Bi-xF2jmkJe3"
      },
      "execution_count": null,
      "outputs": []
    },
    {
      "cell_type": "code",
      "source": [
        "#데이터프레임의 열들을 리스트로 변환\n",
        "talk_list = separate_to_sentences_and_deduplicate(df_talk, ['text'])"
      ],
      "metadata": {
        "id": "UbFUcGHbScGp"
      },
      "execution_count": null,
      "outputs": []
    },
    {
      "cell_type": "code",
      "source": [
        "qna_list = separate_to_sentences_and_deduplicate(df_qna, ['내용', '답변', '댓글'])"
      ],
      "metadata": {
        "id": "uA1jor5mgkMp"
      },
      "execution_count": null,
      "outputs": []
    },
    {
      "cell_type": "code",
      "source": [
        "all_contents_list = separate_to_sentences_and_deduplicate(df_all_contents, ['내용', '답변', '댓글'])"
      ],
      "metadata": {
        "id": "Dauyn3R_mhlc"
      },
      "execution_count": null,
      "outputs": []
    },
    {
      "cell_type": "code",
      "source": [
        "all_comments_list = separate_to_sentences_and_deduplicate(df_all_comments, ['내용', '대댓글', '댓글'])"
      ],
      "metadata": {
        "id": "ny2BfSH2mnpB"
      },
      "execution_count": null,
      "outputs": []
    },
    {
      "cell_type": "code",
      "source": [
        "#하나의 리스트로 결합\n",
        "df_result = pd.DataFrame(sum(talk_list, qna_list, all_contents_list, all_comments_list), index = ['text']).T\n",
        "print(len(df_result))"
      ],
      "metadata": {
        "id": "jqlzQ3J7jqCP"
      },
      "execution_count": null,
      "outputs": []
    },
    {
      "cell_type": "code",
      "source": [
        "#.xlsx 파일로 저장\n",
        "pretrain_data_save_path = '/content/drive/My Drive/KcBERT_pretrain_dataset.xlsx'\n",
        "\n",
        "df_result.to_excel(pretrain_data_save_path)"
      ],
      "metadata": {
        "id": "kt4_LDAkb4fa"
      },
      "execution_count": null,
      "outputs": []
    },
    {
      "cell_type": "markdown",
      "source": [
        "#Finetune 데이터셋\n"
      ],
      "metadata": {
        "id": "Lxsu8xXKcMJ4"
      }
    },
    {
      "cell_type": "code",
      "source": [
        "#slug가 있다면 ['내용'] == 질문\n",
        "df_question_answer = df_qna[pd.isna(df_qna['Slug']) == False]\n",
        "df_question_answer = df_question_answer[pd.isna(df_question_answer['답변']) == False]\n",
        "\n",
        "print(df_question_answer)\n",
        "print(len(df_question_answer))\n",
        "\n",
        "print(df_question_answer.iloc[0])\n",
        "print(df_question_answer.iloc[1]['답변'])"
      ],
      "metadata": {
        "colab": {
          "base_uri": "https://localhost:8080/"
        },
        "id": "-cn_1Zvkltdm",
        "outputId": "88f5d3a9-dc74-4a98-bebc-61f158ece38a"
      },
      "execution_count": 113,
      "outputs": [
        {
          "output_type": "stream",
          "name": "stdout",
          "text": [
            "     index                                                 내용  \\\n",
            "0        0  안녕하세요! 우선 모두의노코드 사이트 런칭을 축하드립니다.이렇게 첫번째 질문 글을 ...   \n",
            "2        2  안녕하세요.모두의 노코드 런칭을 축하드립니다. 앞으로 좋은 활동 기대합니다. 현재 ...   \n",
            "4        4  안녕하세요.제주도에서 노션으로 동네 친구 매칭 서비스를 만들고 있습니다.어제 웨비나...   \n",
            "9        9  모두의노코드 만드신 분들께 질문 드리고 싶어요.제가 버블로 만든 서비스 관련해 모바...   \n",
            "11      11  한번에 여러개의 파일을 업로드하는 기능을 구현하기 위해서 버블 무료 플러그인 Dro...   \n",
            "..     ...                                                ...   \n",
            "542    542  스포츠 클럽을 만들고 클럽원들의 신청을 받아서 허가해주고, 클럽원들의 매치 기록을 ...   \n",
            "545    545  custom state 만들어서 하고 있는데 파란색이지만  오류가 나고 있어요당연히...   \n",
            "549    549  정렬 기능을 사용중인데아래의 그림과 같이 2가지의 문제가 해결되지 않고 있습니다 ....   \n",
            "558    558  버블에서 아래 UI처럼 +버튼을 누르면 하위에 계속해서 폴더가 추가되도록 프론트를 ...   \n",
            "575    575  안녕하세요! 현재 사업을 진행하면서 앱 서비스를 메인 비즈니스로 잡고 진행하려고 해...   \n",
            "\n",
            "                                                    답변  \\\n",
            "0    저도 궁금해져서 열심히 찾아봤는데 콜아웃 같은 블록을 넣는 명령어나 함수는 찾지 못...   \n",
            "2    헤더그룹 안에 로고와 CTA를 넣으시고 max width를 지정하시면 될 것 같아요...   \n",
            "4    충분히 버블로 개발가능할 것 같아요! 이미 비슷한 수준의 어플을 개발한 사례가 많아...   \n",
            "9    폴리미 가입해야지 가입해야지 하다가 바로 가입했습니다. 정신이 없었네요. 좋은 프로...   \n",
            "11   자체 기능 없습니다 ㅜ 하셨던대로 정규표현식이나 필터링, When MultiFile...   \n",
            "..                                                 ...   \n",
            "542  \"클럽\"이라는 데이터 타입에클럽이름 - text클럽이미지 - image클럽장소 - ...   \n",
            "545  박재은님의 답변주신 내용으로 채택합니다타입이 안 맞아서 생기는 오류입니다~ , 박재...   \n",
            "549  두어서치포 내에서만 했을 때 정렬이 안 되었는데두어서치포 밖에 sorted by 사...   \n",
            "558  간단하게 개념 위주로만 설명드리겠습니다. 우선 DB에 폴더(가칭) 테이블이 있겠죠....   \n",
            "575  안녕하세요! 버블로 외주개발하고 있는 리트머스팀입니다.yongjun@cigro.io...   \n",
            "\n",
            "                                                    댓글 관련 링크  \\\n",
            "0                                   첨부 파일이 표시되지 않네여 ㅠㅜ   NaN   \n",
            "2    헤더그룹 안에 로고와 CTA를 넣으시고 max width를 지정하시면 될 것 같아요...   NaN   \n",
            "4    버블은 다 되요. 개인별 능력이 좌우합니다. 치킨은 살 안찌듯. , 1:1 매칭하는...   NaN   \n",
            "9    폴리미 화이팅입니다! , (수정 : 아래 희철님 답변이 달려있는 줄 몰랐네요 ㅎㅎ ...   NaN   \n",
            "11   특정 플러그인은 사용해보지 않은 경우가 많을 것 같아서, 답변을 하기 위해서는 직접...   NaN   \n",
            "..                                                 ...   ...   \n",
            "542                                                NaN   NaN   \n",
            "545                               타입이 안 맞아서 생기는 오류입니다~   NaN   \n",
            "549  1. 빈공백은 html 요소를 추가하고 css 스타일 코드를 입력하면 변경이 가능하...   NaN   \n",
            "558                                                NaN   NaN   \n",
            "575  안녕하세요, 노코드 버블을 사용하여 개발하고있는 If dev 입니다.아래 링크로 카...   NaN   \n",
            "\n",
            "                    작성일  작성자                                              제목  \\\n",
            "0   2023-01-11 18:46:00  김정민  노션 데이터베이스 속성 값을 이용하여 새로운 페이지 글 작성 시 노션 기능 넣는 법   \n",
            "2   2023-01-12 17:06:00  김태연                   페이지 구성시 사이드여백 세팅하는 법이 궁금합니다.    \n",
            "4   2023-01-12 19:01:00  김정민                            버블로 소개팅 앱 만들 수 있을까요?   \n",
            "9   2023-01-13 12:20:00  이효석                 모두의노코드 모바일 최적화 꿀팁 공유해주실 수 있으세요?   \n",
            "11  2023-01-13 14:34:00  정찬우        Dropzone Multi-File Uploader 관련 질문 드립니다.   \n",
            "..                  ...  ...                                             ...   \n",
            "542 2024-03-11 02:08:00  김성식                                   데이터 베이스 구성 고민   \n",
            "545 2024-03-13 17:17:00  안상영                     \"bTauX\", \"bTavt\"  무슨 오류인가요?   \n",
            "549 2024-03-19 19:50:00  안상영                                 정렬이 잘 안 되는 건가요?   \n",
            "558 2024-03-24 01:09:00  정한결                                   폴더트리를 만들고 싶어요   \n",
            "575 2024-04-17 14:44:00  공다올                            노코드 앱 개발 견적을 알고 싶어요!   \n",
            "\n",
            "     첨부 파일                                             Slug  게시글 링크  \n",
            "0      NaN  노션-데이터베이스-속성-값을-이용하여-새로운-노션-페이지-글-작성-시-명령어-넣는-법     NaN  \n",
            "2      NaN                     페이지-구성시-사이드여백-세팅하는-법이-궁금합니다-     NaN  \n",
            "4      NaN                              버블로-소개팅-앱-만들-수-있을까요     NaN  \n",
            "9      NaN                   모두의노코드-모바일-최적화-꿀팁-공유해주실-수-있으세요     NaN  \n",
            "11     NaN          dropzone-multi-file-uploader-관련-질문-드립니다     NaN  \n",
            "..     ...                                              ...     ...  \n",
            "542    NaN                                    데이터-베이스-구성-고민     NaN  \n",
            "545    NaN                            btaux-btavt--무슨-오류인가요     NaN  \n",
            "549    NaN                                   정렬이-잘-안-되는-건가요     NaN  \n",
            "558    NaN                                    폴더트리를-만들고-싶어요     NaN  \n",
            "575    NaN                              노코드-앱-개발-견적을-알고-싶어요     NaN  \n",
            "\n",
            "[197 rows x 11 columns]\n",
            "197\n",
            "index                                                     0\n",
            "내용        안녕하세요! 우선 모두의노코드 사이트 런칭을 축하드립니다.이렇게 첫번째 질문 글을 ...\n",
            "답변        저도 궁금해져서 열심히 찾아봤는데 콜아웃 같은 블록을 넣는 명령어나 함수는 찾지 못...\n",
            "댓글                                       첨부 파일이 표시되지 않네여 ㅠㅜ\n",
            "관련 링크                                                   NaN\n",
            "작성일                                     2023-01-11 18:46:00\n",
            "작성자                                                     김정민\n",
            "제목           노션 데이터베이스 속성 값을 이용하여 새로운 페이지 글 작성 시 노션 기능 넣는 법\n",
            "첨부 파일                                                   NaN\n",
            "Slug        노션-데이터베이스-속성-값을-이용하여-새로운-노션-페이지-글-작성-시-명령어-넣는-법\n",
            "게시글 링크                                                  NaN\n",
            "Name: 0, dtype: object\n",
            "헤더그룹 안에 로고와 CTA를 넣으시고 max width를 지정하시면 될 것 같아요! 그리고 헤더그룹의 Horizontal Alignment를 centered로 두시면 그룹이 페이지 중앙에 위치하고 설정해두신 사이즈까지만 늘어나면서 여백이 생길 것 같아요!화면 해상도 관련해서는 아래에서 참고하시면 될 것 같습니다 , 모두의노코드를 여쭤보신 것인지 모르겠어서 이게 맞는지는 모르겠습니다.모두의노코드의 경우 페이지 width를 1080px로 하고 바디 그룹의 레이아웃을 row로 했고, 다시 그 안에 column 그룹을 2개 추가하여 레이아웃을 다음 이미지와 같이 짰습니다~\n"
          ]
        }
      ]
    },
    {
      "cell_type": "markdown",
      "source": [
        "질문 + 답변에다가 답변에 달린 댓글들까지 입력 데이터로 처리할 경우 퀄리티가 더 좋아질 수 있지만, max_length를 초과하지 않는 방향에 따라 답변 데이터만 이용, 나중에 개선방안 찾아보기"
      ],
      "metadata": {
        "id": "zwVSXoH7tcCC"
      }
    },
    {
      "cell_type": "markdown",
      "source": [
        "community_qna_preprocessed 데이터에서 이미지 파일을 base64 인코딩한 텍스트가 섞여 있는데, 데이터 파일 추출 과정에서 직접 제거하는 게 좋을 것 같음."
      ],
      "metadata": {
        "id": "b_y534xjvGFh"
      }
    },
    {
      "cell_type": "code",
      "source": [
        "#커뮤니티 파일을 가공해서 finetune 데이터셋을 제작\n",
        "finetune_dict = {}\n",
        "\n",
        "#slug가 있다면 ['내용'] == 질문\n",
        "df_question_answer = df_qna[pd.isna(df_qna['Slug']) == False]\n",
        "df_question_answer = df_question_answer[pd.isna(df_question_answer['답변']) == False]\n",
        "\n",
        "#['답변']의 텍스트를 ' , ' 로 구분 후 질문에 하나씩 쌓기\n",
        "sent1_list, sent2_list, label_list, index_list = [], [], [], []\n",
        "for i in range(len(df_question_answer)):\n",
        "  row = df_question_answer.iloc[i]\n",
        "  question_text = row['내용']\n",
        "  answer_text_list = row['답변'].split(' , ')\n",
        "  for j in range(len(answer_text_list)):\n",
        "    sent1_list.append(question_text + ''.join(answer_text_list[:j]))\n",
        "    sent2_list.append(answer_text_list[j])\n",
        "    label_list.append(1)\n",
        "    index_list.append(row['index'])\n",
        "\n",
        "finetune_dict = {'sent1' : sent1_list, 'sent2' : sent2_list, 'label' : label_list, 'sent2_index' : index_list}\n",
        "\n",
        "df_community_finetune = pd.DataFrame.from_dict(finetune_dict)\n",
        "print(df_community_finetune)"
      ],
      "metadata": {
        "id": "DJu7dDaXcWyv",
        "colab": {
          "base_uri": "https://localhost:8080/"
        },
        "outputId": "b6675290-d676-4715-b232-6534981485f7"
      },
      "execution_count": 114,
      "outputs": [
        {
          "output_type": "stream",
          "name": "stdout",
          "text": [
            "                                                 sent1  \\\n",
            "0    안녕하세요! 우선 모두의노코드 사이트 런칭을 축하드립니다.이렇게 첫번째 질문 글을 ...   \n",
            "1    안녕하세요.모두의 노코드 런칭을 축하드립니다. 앞으로 좋은 활동 기대합니다. 현재 ...   \n",
            "2    안녕하세요.모두의 노코드 런칭을 축하드립니다. 앞으로 좋은 활동 기대합니다. 현재 ...   \n",
            "3    안녕하세요.제주도에서 노션으로 동네 친구 매칭 서비스를 만들고 있습니다.어제 웨비나...   \n",
            "4    모두의노코드 만드신 분들께 질문 드리고 싶어요.제가 버블로 만든 서비스 관련해 모바...   \n",
            "..                                                 ...   \n",
            "227  custom state 만들어서 하고 있는데 파란색이지만  오류가 나고 있어요당연히...   \n",
            "228  정렬 기능을 사용중인데아래의 그림과 같이 2가지의 문제가 해결되지 않고 있습니다 ....   \n",
            "229  버블에서 아래 UI처럼 +버튼을 누르면 하위에 계속해서 폴더가 추가되도록 프론트를 ...   \n",
            "230  안녕하세요! 현재 사업을 진행하면서 앱 서비스를 메인 비즈니스로 잡고 진행하려고 해...   \n",
            "231  안녕하세요! 현재 사업을 진행하면서 앱 서비스를 메인 비즈니스로 잡고 진행하려고 해...   \n",
            "\n",
            "                                                 sent2  label  sent2_index  \n",
            "0    저도 궁금해져서 열심히 찾아봤는데 콜아웃 같은 블록을 넣는 명령어나 함수는 찾지 못...      1            0  \n",
            "1    헤더그룹 안에 로고와 CTA를 넣으시고 max width를 지정하시면 될 것 같아요...      1            2  \n",
            "2    모두의노코드를 여쭤보신 것인지 모르겠어서 이게 맞는지는 모르겠습니다.모두의노코드의 ...      1            2  \n",
            "3    충분히 버블로 개발가능할 것 같아요! 이미 비슷한 수준의 어플을 개발한 사례가 많아...      1            4  \n",
            "4    폴리미 가입해야지 가입해야지 하다가 바로 가입했습니다. 정신이 없었네요. 좋은 프로...      1            9  \n",
            "..                                                 ...    ...          ...  \n",
            "227   박재은님께서 알려주신 내용을 답변등록 및 채택합니다타입이 안 맞아서 생기는 오류입니다~      1          545  \n",
            "228  두어서치포 내에서만 했을 때 정렬이 안 되었는데두어서치포 밖에 sorted by 사...      1          549  \n",
            "229  간단하게 개념 위주로만 설명드리겠습니다. 우선 DB에 폴더(가칭) 테이블이 있겠죠....      1          558  \n",
            "230  안녕하세요! 버블로 외주개발하고 있는 리트머스팀입니다.yongjun@cigro.io...      1          575  \n",
            "231                 안녕하세요~아래 링크로 톡 남겨놓으시면 견적 도와드리겠습니다!      1          575  \n",
            "\n",
            "[232 rows x 4 columns]\n"
          ]
        }
      ]
    },
    {
      "cell_type": "code",
      "source": [
        "#파인튜닝 데이터셋에서 n배의 negative sample을 생성하는 코드\n",
        "def create_negative_sample(DataFrame, n):\n",
        "  DataFrame_copy = DataFrame.copy() #원본 데이터셋을 변화시키지 않기 위해 deep copy\n",
        "  length = len(DataFrame_copy)\n",
        "  for i in range(length):\n",
        "    row = DataFrame_copy.iloc[i]\n",
        "    negative_candidate_ids = list(set(DataFrame_copy['sent2_index'].tolist())) #.remove(row['sent2_index']) #해당 행의 sent2를 negative sample 후보군에서 제외\n",
        "    negative_candidate_ids.remove(row['sent2_index'])\n",
        "    negative_sample_ids = list(np.random.choice(negative_candidate_ids, n, replace = False))\n",
        "    for idx in negative_sample_ids:\n",
        "      new_row = pd.Series({'sent1' : row['sent1'], 'sent2' : np.random.choice(DataFrame_copy[DataFrame_copy['sent2_index'] == idx]['sent2'].tolist(), 1)[0], 'label' : 0, 'sent2_index' : idx}) #카톡 데이터는 idx 중복이 없기 때문에 랜덤추출로 1개를 뽑아도 달라지는 건 없고, 커뮤니티 데이터의 경우 idx 중복이 있기 때문에 해당 idx를 가진 sent2 중 하나를 뽑아야 함.\n",
        "      DataFrame_copy = pd.concat([DataFrame_copy, new_row.to_frame().T], ignore_index = True)\n",
        "  return DataFrame_copy"
      ],
      "metadata": {
        "id": "1zADZ7nnwtq2"
      },
      "execution_count": 115,
      "outputs": []
    },
    {
      "cell_type": "code",
      "source": [
        "#커뮤니티 파인튜닝 데이터셋에서 negative sample 생성\n",
        "df_community_finetune_negative_sampled = create_negative_sample(df_community_finetune, 7)\n",
        "df_community_finetune_negative_sampled = df_community_finetune_negative_sampled.drop('sent2_index', axis = 1)\n",
        "print(len(df_community_finetune_negative_sampled))\n",
        "print(df_community_finetune_negative_sampled)"
      ],
      "metadata": {
        "colab": {
          "base_uri": "https://localhost:8080/"
        },
        "id": "4lHYLPSnl7H1",
        "outputId": "ae60b065-cee2-4360-d841-97ad108cc12c"
      },
      "execution_count": 116,
      "outputs": [
        {
          "output_type": "stream",
          "name": "stdout",
          "text": [
            "1856\n",
            "                                                  sent1  \\\n",
            "0     안녕하세요! 우선 모두의노코드 사이트 런칭을 축하드립니다.이렇게 첫번째 질문 글을 ...   \n",
            "1     안녕하세요.모두의 노코드 런칭을 축하드립니다. 앞으로 좋은 활동 기대합니다. 현재 ...   \n",
            "2     안녕하세요.모두의 노코드 런칭을 축하드립니다. 앞으로 좋은 활동 기대합니다. 현재 ...   \n",
            "3     안녕하세요.제주도에서 노션으로 동네 친구 매칭 서비스를 만들고 있습니다.어제 웨비나...   \n",
            "4     모두의노코드 만드신 분들께 질문 드리고 싶어요.제가 버블로 만든 서비스 관련해 모바...   \n",
            "...                                                 ...   \n",
            "1851  안녕하세요! 현재 사업을 진행하면서 앱 서비스를 메인 비즈니스로 잡고 진행하려고 해...   \n",
            "1852  안녕하세요! 현재 사업을 진행하면서 앱 서비스를 메인 비즈니스로 잡고 진행하려고 해...   \n",
            "1853  안녕하세요! 현재 사업을 진행하면서 앱 서비스를 메인 비즈니스로 잡고 진행하려고 해...   \n",
            "1854  안녕하세요! 현재 사업을 진행하면서 앱 서비스를 메인 비즈니스로 잡고 진행하려고 해...   \n",
            "1855  안녕하세요! 현재 사업을 진행하면서 앱 서비스를 메인 비즈니스로 잡고 진행하려고 해...   \n",
            "\n",
            "                                                  sent2 label  \n",
            "0     저도 궁금해져서 열심히 찾아봤는데 콜아웃 같은 블록을 넣는 명령어나 함수는 찾지 못...     1  \n",
            "1     헤더그룹 안에 로고와 CTA를 넣으시고 max width를 지정하시면 될 것 같아요...     1  \n",
            "2     모두의노코드를 여쭤보신 것인지 모르겠어서 이게 맞는지는 모르겠습니다.모두의노코드의 ...     1  \n",
            "3     충분히 버블로 개발가능할 것 같아요! 이미 비슷한 수준의 어플을 개발한 사례가 많아...     1  \n",
            "4     폴리미 가입해야지 가입해야지 하다가 바로 가입했습니다. 정신이 없었네요. 좋은 프로...     1  \n",
            "...                                                 ...   ...  \n",
            "1851  도메인과 자동 메일, 업무용 메일 관련해서 어떻게 구분하느냐는 질문이신 것 같습니다...     0  \n",
            "1852          박재은님의 답변주신 내용으로 채택합니다타입이 안 맞아서 생기는 오류입니다~     0  \n",
            "1853  그림을 자세히 그려주셨지만 현재 어떤식으로 설정되어 있는지를 캡쳐해서 보여주시면 더...     0  \n",
            "1854  제 경험상, 그리고 많은 분들의 의견을 종합해봤을때 요금제를 올린다고 속도가 더 빨...     0  \n",
            "1855  _x0008_제가 사용했던 페이지네이션의 페이지 숫자 담는 리피팅그룹 세팅(아래 사...     0  \n",
            "\n",
            "[1856 rows x 3 columns]\n"
          ]
        }
      ]
    },
    {
      "cell_type": "code",
      "source": [
        "print(df_talk_finetune)"
      ],
      "metadata": {
        "colab": {
          "base_uri": "https://localhost:8080/"
        },
        "id": "kqWsvPrvLzQa",
        "outputId": "57cdab46-56b9-42ca-ee8f-97806a5eff47"
      },
      "execution_count": 117,
      "outputs": [
        {
          "output_type": "stream",
          "name": "stdout",
          "text": [
            "                                                 sent1  \\\n",
            "0     deltaPercent의 절대값이 큰 값부터 데이터를 정렬하고 싶은데.deltaP...   \n",
            "1     유저의 input url에 따른 rss 피드 긁어오기를 하고 싶은데 헷갈리는 부분...   \n",
            "2     혹시 버블 워크로드 최적화하는 팁이 있을까요? 아직 레거시 요금제 쓰고 있긴 한데...   \n",
            "3     혹시 버블 워크로드 최적화하는 팁이 있을까요? 아직 레거시 요금제 쓰고 있긴 한데...   \n",
            "4     혹시 어떤 product 이신가요? 와...이러면 버블 못 쓸 거 같은데요 ㅡㅡ;;;;   \n",
            "..                                                 ...   \n",
            "496  각 element에다가 condition을 따로 쓰면 workflow에 안들어가있기...   \n",
            "497  각 element에다가 condition을 따로 쓰면 workflow에 안들어가있기...   \n",
            "498   안녕하세요, 혹시 버블에서 three.js라는 라이브러리 연결을 도와주실 분 계실...   \n",
            "499   안녕하세요 버블 고수님들!버블 데이터 처리 관련 질문 있습니다!기존에 있는 데이터...   \n",
            "500   안녕하세요 버블 고수님들!버블 데이터 처리 관련 질문 있습니다!기존에 있는 데이터...   \n",
            "\n",
            "                                                 sent2  label  sent2_index  \n",
            "0     익스프레션 내에서 조건식을 사용할 수가 없어서 condition을 사용하는 수밖에...      1            1  \n",
            "1     이게 근데 한번 락인되니까 DB 이관한다는 선택지를 고르기가 참 어렵네요.. 또 ...      0           13  \n",
            "2     1. Do a search for 할 때 constraints 걸어서 검색량 줄이...      1           29  \n",
            "3                   Do a search for는 어지간하면 안 쓰는 방향으로..      1           31  \n",
            "4         저희는 히로인스라는 서비스를 운영하고 있는데요. 백엔드만 버블을 쓰고 있습니다.      1           11  \n",
            "..                                                 ...    ...          ...  \n",
            "496   정확히는 모르지만.. 저희가 어드민 페이지를 클라이언트에서 다 계산(이중으로 do...      1         1659  \n",
            "497   보통의 웹 개발이라면 클라이언트에서 처리하는 게 마땅한 부분도 어쩌면 서버에서 처...      1         1661  \n",
            "498   three.js 매뉴얼을 보니, CDN 방식으로 사용하려면 Import Map을 ...      1         1668  \n",
            "499   가급적 datetime 형식으로 보관하시는 게 좋을 것 같긴 한데 .. api w...      1         1689  \n",
            "500   이후에 해당 텍스트 데이터를 날짜처럼 연산해야 될 일이, 영영 없으리라곤 장담할 ...      1         1693  \n",
            "\n",
            "[500 rows x 4 columns]\n"
          ]
        }
      ]
    },
    {
      "cell_type": "code",
      "source": [
        "#카카오톡 파인튜닝 데이터셋에서 negative sample 생성\n",
        "df_talk_finetune_negative_sampled = create_negative_sample(df_talk_finetune, 7)\n",
        "df_talk_finetune_negative_sampled = df_talk_finetune_negative_sampled.drop('sent2_index', axis = 1)\n",
        "print(len(df_talk_finetune_negative_sampled))\n",
        "print(df_talk_finetune_negative_sampled)"
      ],
      "metadata": {
        "colab": {
          "base_uri": "https://localhost:8080/"
        },
        "id": "HgSubqZCmHbF",
        "outputId": "1cc4a08e-2e65-4946-aed8-1e2ab074b775"
      },
      "execution_count": 118,
      "outputs": [
        {
          "output_type": "stream",
          "name": "stdout",
          "text": [
            "4000\n",
            "                                                  sent1  \\\n",
            "0      deltaPercent의 절대값이 큰 값부터 데이터를 정렬하고 싶은데.deltaP...   \n",
            "1      유저의 input url에 따른 rss 피드 긁어오기를 하고 싶은데 헷갈리는 부분...   \n",
            "2      혹시 버블 워크로드 최적화하는 팁이 있을까요? 아직 레거시 요금제 쓰고 있긴 한데...   \n",
            "3      혹시 버블 워크로드 최적화하는 팁이 있을까요? 아직 레거시 요금제 쓰고 있긴 한데...   \n",
            "4      혹시 어떤 product 이신가요? 와...이러면 버블 못 쓸 거 같은데요 ㅡㅡ;;;;   \n",
            "...                                                 ...   \n",
            "3995   안녕하세요 버블 고수님들!버블 데이터 처리 관련 질문 있습니다!기존에 있는 데이터...   \n",
            "3996   안녕하세요 버블 고수님들!버블 데이터 처리 관련 질문 있습니다!기존에 있는 데이터...   \n",
            "3997   안녕하세요 버블 고수님들!버블 데이터 처리 관련 질문 있습니다!기존에 있는 데이터...   \n",
            "3998   안녕하세요 버블 고수님들!버블 데이터 처리 관련 질문 있습니다!기존에 있는 데이터...   \n",
            "3999   안녕하세요 버블 고수님들!버블 데이터 처리 관련 질문 있습니다!기존에 있는 데이터...   \n",
            "\n",
            "                                                  sent2 label  \n",
            "0      익스프레션 내에서 조건식을 사용할 수가 없어서 condition을 사용하는 수밖에...     1  \n",
            "1      이게 근데 한번 락인되니까 DB 이관한다는 선택지를 고르기가 참 어렵네요.. 또 ...     0  \n",
            "2      1. Do a search for 할 때 constraints 걸어서 검색량 줄이...     1  \n",
            "3                    Do a search for는 어지간하면 안 쓰는 방향으로..     1  \n",
            "4          저희는 히로인스라는 서비스를 운영하고 있는데요. 백엔드만 버블을 쓰고 있습니다.     1  \n",
            "...                                                 ...   ...  \n",
            "3995   아마 데이터를 넣을때 워크로드가 측정된것 같고 데이터를 두고 아무 워크플로우가 동...     0  \n",
            "3996   보통의 웹 개발이라면 클라이언트에서 처리하는 게 마땅한 부분도 어쩌면 서버에서 처...     0  \n",
            "3997                   오... 스프레드시트로 하면 사실상 무료 db인건가요..?     0  \n",
            "3998                           아직 이메일 로그인만 지원하고 있습니다 ㅋㅋ     0  \n",
            "3999   버블 내에서 백엔드 워크플로우로 루프 구현하면 될텐데요? 재피어보다 낫습니다 오히...     0  \n",
            "\n",
            "[4000 rows x 3 columns]\n"
          ]
        }
      ]
    },
    {
      "cell_type": "code",
      "source": [
        "#두 파인튜닝 데이터셋을 하나로 합치기\n",
        "df_KcBERT_finetune = pd.concat([df_community_finetune_negative_sampled, df_talk_finetune_negative_sampled], ignore_index = True)\n",
        "print(len(df_KcBERT_finetune))"
      ],
      "metadata": {
        "colab": {
          "base_uri": "https://localhost:8080/"
        },
        "id": "3srQkz3l8LxD",
        "outputId": "fee3b4fe-566f-406b-be2f-d503d9964946"
      },
      "execution_count": 119,
      "outputs": [
        {
          "output_type": "stream",
          "name": "stdout",
          "text": [
            "5856\n"
          ]
        }
      ]
    },
    {
      "cell_type": "code",
      "source": [
        "#.xlsx 파일로 저장\n",
        "finetune_data_save_path = '/content/drive/My Drive/KcBERT_finetune_dataset.xlsx'\n",
        "\n",
        "df_KcBERT_finetune.to_excel(finetune_data_save_path)"
      ],
      "metadata": {
        "id": "pjnhY-llcGyl"
      },
      "execution_count": 120,
      "outputs": []
    },
    {
      "cell_type": "code",
      "source": [],
      "metadata": {
        "id": "eOEw77VuS13C"
      },
      "execution_count": null,
      "outputs": []
    }
  ]
}