{
  "nbformat": 4,
  "nbformat_minor": 0,
  "metadata": {
    "colab": {
      "provenance": [],
      "authorship_tag": "ABX9TyNtsn9w19gP3ACtOHC2QsHf",
      "include_colab_link": true
    },
    "kernelspec": {
      "name": "python3",
      "display_name": "Python 3"
    },
    "language_info": {
      "name": "python"
    }
  },
  "cells": [
    {
      "cell_type": "markdown",
      "metadata": {
        "id": "view-in-github",
        "colab_type": "text"
      },
      "source": [
        "<a href=\"https://colab.research.google.com/github/Kimhansav/everynocode_search_engine/blob/main/BP_make_dataset.ipynb\" target=\"_parent\"><img src=\"https://colab.research.google.com/assets/colab-badge.svg\" alt=\"Open In Colab\"/></a>"
      ]
    },
    {
      "cell_type": "code",
      "source": [
        "#KcBERT 학습용 데이터셋을 제작하는 코드(로컬)\n",
        "#제작할 데이터셋은 pretraining용 데이터셋(soynlp 학습용 데이터), finetuning용 데이터셋(next sentence prediction)"
      ],
      "metadata": {
        "id": "dvmRQmeXNwrP"
      },
      "execution_count": 2,
      "outputs": []
    },
    {
      "cell_type": "code",
      "execution_count": 1,
      "metadata": {
        "colab": {
          "base_uri": "https://localhost:8080/"
        },
        "id": "O8yZcJ5xNqY6",
        "outputId": "b7a2b292-f69e-43d8-d641-6e46d5cefec7"
      },
      "outputs": [
        {
          "output_type": "stream",
          "name": "stdout",
          "text": [
            "Collecting kss\n",
            "  Downloading kss-6.0.4.tar.gz (1.1 MB)\n",
            "\u001b[2K     \u001b[90m━━━━━━━━━━━━━━━━━━━━━━━━━━━━━━━━━━━━━━━━\u001b[0m \u001b[32m1.1/1.1 MB\u001b[0m \u001b[31m4.5 MB/s\u001b[0m eta \u001b[36m0:00:00\u001b[0m\n",
            "\u001b[?25h  Preparing metadata (setup.py) ... \u001b[?25l\u001b[?25hdone\n",
            "Collecting emoji==1.2.0 (from kss)\n",
            "  Downloading emoji-1.2.0-py3-none-any.whl (131 kB)\n",
            "\u001b[2K     \u001b[90m━━━━━━━━━━━━━━━━━━━━━━━━━━━━━━━━━━━━━━━━\u001b[0m \u001b[32m131.3/131.3 kB\u001b[0m \u001b[31m7.1 MB/s\u001b[0m eta \u001b[36m0:00:00\u001b[0m\n",
            "\u001b[?25hCollecting pecab (from kss)\n",
            "  Downloading pecab-1.0.8.tar.gz (26.4 MB)\n",
            "\u001b[2K     \u001b[90m━━━━━━━━━━━━━━━━━━━━━━━━━━━━━━━━━━━━━━━━\u001b[0m \u001b[32m26.4/26.4 MB\u001b[0m \u001b[31m11.4 MB/s\u001b[0m eta \u001b[36m0:00:00\u001b[0m\n",
            "\u001b[?25h  Preparing metadata (setup.py) ... \u001b[?25l\u001b[?25hdone\n",
            "Requirement already satisfied: networkx in /usr/local/lib/python3.10/dist-packages (from kss) (3.3)\n",
            "Collecting jamo (from kss)\n",
            "  Downloading jamo-0.4.1-py3-none-any.whl (9.5 kB)\n",
            "Collecting hangul-jamo (from kss)\n",
            "  Downloading hangul_jamo-1.0.1-py3-none-any.whl (4.4 kB)\n",
            "Collecting tossi (from kss)\n",
            "  Downloading tossi-0.3.1.tar.gz (11 kB)\n",
            "  Preparing metadata (setup.py) ... \u001b[?25l\u001b[?25hdone\n",
            "Collecting distance (from kss)\n",
            "  Downloading Distance-0.1.3.tar.gz (180 kB)\n",
            "\u001b[2K     \u001b[90m━━━━━━━━━━━━━━━━━━━━━━━━━━━━━━━━━━━━━━━━\u001b[0m \u001b[32m180.3/180.3 kB\u001b[0m \u001b[31m7.8 MB/s\u001b[0m eta \u001b[36m0:00:00\u001b[0m\n",
            "\u001b[?25h  Preparing metadata (setup.py) ... \u001b[?25l\u001b[?25hdone\n",
            "Collecting pyyaml==6.0 (from kss)\n",
            "  Downloading PyYAML-6.0-cp310-cp310-manylinux_2_5_x86_64.manylinux1_x86_64.manylinux_2_12_x86_64.manylinux2010_x86_64.whl (682 kB)\n",
            "\u001b[2K     \u001b[90m━━━━━━━━━━━━━━━━━━━━━━━━━━━━━━━━━━━━━━━━\u001b[0m \u001b[32m682.2/682.2 kB\u001b[0m \u001b[31m19.8 MB/s\u001b[0m eta \u001b[36m0:00:00\u001b[0m\n",
            "\u001b[?25hCollecting unidecode (from kss)\n",
            "  Downloading Unidecode-1.3.8-py3-none-any.whl (235 kB)\n",
            "\u001b[2K     \u001b[90m━━━━━━━━━━━━━━━━━━━━━━━━━━━━━━━━━━━━━━━━\u001b[0m \u001b[32m235.5/235.5 kB\u001b[0m \u001b[31m12.2 MB/s\u001b[0m eta \u001b[36m0:00:00\u001b[0m\n",
            "\u001b[?25hCollecting cmudict (from kss)\n",
            "  Downloading cmudict-1.0.23-py3-none-any.whl (939 kB)\n",
            "\u001b[2K     \u001b[90m━━━━━━━━━━━━━━━━━━━━━━━━━━━━━━━━━━━━━━━━\u001b[0m \u001b[32m939.4/939.4 kB\u001b[0m \u001b[31m34.6 MB/s\u001b[0m eta \u001b[36m0:00:00\u001b[0m\n",
            "\u001b[?25hCollecting koparadigm (from kss)\n",
            "  Downloading koparadigm-0.10.0-py3-none-any.whl (1.6 MB)\n",
            "\u001b[2K     \u001b[90m━━━━━━━━━━━━━━━━━━━━━━━━━━━━━━━━━━━━━━━━\u001b[0m \u001b[32m1.6/1.6 MB\u001b[0m \u001b[31m28.0 MB/s\u001b[0m eta \u001b[36m0:00:00\u001b[0m\n",
            "\u001b[?25hCollecting kollocate (from kss)\n",
            "  Downloading kollocate-0.0.2-py3-none-any.whl (72.2 MB)\n",
            "\u001b[2K     \u001b[90m━━━━━━━━━━━━━━━━━━━━━━━━━━━━━━━━━━━━━━━━\u001b[0m \u001b[32m72.2/72.2 MB\u001b[0m \u001b[31m8.4 MB/s\u001b[0m eta \u001b[36m0:00:00\u001b[0m\n",
            "\u001b[?25hCollecting bs4 (from kss)\n",
            "  Downloading bs4-0.0.2-py2.py3-none-any.whl (1.2 kB)\n",
            "Requirement already satisfied: numpy in /usr/local/lib/python3.10/dist-packages (from kss) (1.25.2)\n",
            "Requirement already satisfied: pytest in /usr/local/lib/python3.10/dist-packages (from kss) (7.4.4)\n",
            "Requirement already satisfied: scipy in /usr/local/lib/python3.10/dist-packages (from kss) (1.11.4)\n",
            "Requirement already satisfied: beautifulsoup4 in /usr/local/lib/python3.10/dist-packages (from bs4->kss) (4.12.3)\n",
            "Requirement already satisfied: importlib-metadata>=5 in /usr/local/lib/python3.10/dist-packages (from cmudict->kss) (7.1.0)\n",
            "Requirement already satisfied: importlib-resources>=5 in /usr/local/lib/python3.10/dist-packages (from cmudict->kss) (6.4.0)\n",
            "Collecting whoosh (from kollocate->kss)\n",
            "  Downloading Whoosh-2.7.4-py2.py3-none-any.whl (468 kB)\n",
            "\u001b[2K     \u001b[90m━━━━━━━━━━━━━━━━━━━━━━━━━━━━━━━━━━━━━━━━\u001b[0m \u001b[32m468.8/468.8 kB\u001b[0m \u001b[31m30.9 MB/s\u001b[0m eta \u001b[36m0:00:00\u001b[0m\n",
            "\u001b[?25hCollecting xlrd==1.2.0 (from koparadigm->kss)\n",
            "  Downloading xlrd-1.2.0-py2.py3-none-any.whl (103 kB)\n",
            "\u001b[2K     \u001b[90m━━━━━━━━━━━━━━━━━━━━━━━━━━━━━━━━━━━━━━━━\u001b[0m \u001b[32m103.3/103.3 kB\u001b[0m \u001b[31m11.2 MB/s\u001b[0m eta \u001b[36m0:00:00\u001b[0m\n",
            "\u001b[?25hRequirement already satisfied: pyarrow in /usr/local/lib/python3.10/dist-packages (from pecab->kss) (14.0.2)\n",
            "Requirement already satisfied: regex in /usr/local/lib/python3.10/dist-packages (from pecab->kss) (2023.12.25)\n",
            "Requirement already satisfied: iniconfig in /usr/local/lib/python3.10/dist-packages (from pytest->kss) (2.0.0)\n",
            "Requirement already satisfied: packaging in /usr/local/lib/python3.10/dist-packages (from pytest->kss) (24.0)\n",
            "Requirement already satisfied: pluggy<2.0,>=0.12 in /usr/local/lib/python3.10/dist-packages (from pytest->kss) (1.5.0)\n",
            "Requirement already satisfied: exceptiongroup>=1.0.0rc8 in /usr/local/lib/python3.10/dist-packages (from pytest->kss) (1.2.1)\n",
            "Requirement already satisfied: tomli>=1.0.0 in /usr/local/lib/python3.10/dist-packages (from pytest->kss) (2.0.1)\n",
            "Requirement already satisfied: bidict in /usr/local/lib/python3.10/dist-packages (from tossi->kss) (0.23.1)\n",
            "Requirement already satisfied: six in /usr/local/lib/python3.10/dist-packages (from tossi->kss) (1.16.0)\n",
            "Requirement already satisfied: zipp>=0.5 in /usr/local/lib/python3.10/dist-packages (from importlib-metadata>=5->cmudict->kss) (3.18.1)\n",
            "Requirement already satisfied: soupsieve>1.2 in /usr/local/lib/python3.10/dist-packages (from beautifulsoup4->bs4->kss) (2.5)\n",
            "Building wheels for collected packages: kss, distance, pecab, tossi\n",
            "  Building wheel for kss (setup.py) ... \u001b[?25l\u001b[?25hdone\n",
            "  Created wheel for kss: filename=kss-6.0.4-cp310-cp310-linux_x86_64.whl size=1446486 sha256=77d0c8b8bb06a5932bf82cee988fe576a2bf4ebdc1e647ca9ce6a94e38f568e7\n",
            "  Stored in directory: /root/.cache/pip/wheels/dd/70/d5/c9308346829b1eb9e7267d74696919d2453aee6ce350f98b3b\n",
            "  Building wheel for distance (setup.py) ... \u001b[?25l\u001b[?25hdone\n",
            "  Created wheel for distance: filename=Distance-0.1.3-py3-none-any.whl size=16258 sha256=583cdbdb58ca95324e321f681bf6e84d6c5757e47b7a61ebb4cad72fff1dd533\n",
            "  Stored in directory: /root/.cache/pip/wheels/e8/bb/de/f71bf63559ea9a921059a5405806f7ff6ed612a9231c4a9309\n",
            "  Building wheel for pecab (setup.py) ... \u001b[?25l\u001b[?25hdone\n",
            "  Created wheel for pecab: filename=pecab-1.0.8-py3-none-any.whl size=26646664 sha256=969701f1ecb31257508a1f0453938938280a565054788adeef3705493981e221\n",
            "  Stored in directory: /root/.cache/pip/wheels/5c/6f/b4/ab61b8863d7d8b1409def8ae31adcaa089fa91b8d022ec309d\n",
            "  Building wheel for tossi (setup.py) ... \u001b[?25l\u001b[?25hdone\n",
            "  Created wheel for tossi: filename=tossi-0.3.1-py3-none-any.whl size=12130 sha256=307fabe1018c5dba5fbc5329ee96dd188f59f9d4370fa3c8dd6a038e063d53ea\n",
            "  Stored in directory: /root/.cache/pip/wheels/a7/18/60/1094a6fe93c8063efcd3e6700d09328216682e495a3c51af9f\n",
            "Successfully built kss distance pecab tossi\n",
            "Installing collected packages: whoosh, jamo, hangul-jamo, emoji, distance, xlrd, unidecode, tossi, pyyaml, kollocate, pecab, koparadigm, cmudict, bs4, kss\n",
            "  Attempting uninstall: xlrd\n",
            "    Found existing installation: xlrd 2.0.1\n",
            "    Uninstalling xlrd-2.0.1:\n",
            "      Successfully uninstalled xlrd-2.0.1\n",
            "  Attempting uninstall: pyyaml\n",
            "    Found existing installation: PyYAML 6.0.1\n",
            "    Uninstalling PyYAML-6.0.1:\n",
            "      Successfully uninstalled PyYAML-6.0.1\n",
            "Successfully installed bs4-0.0.2 cmudict-1.0.23 distance-0.1.3 emoji-1.2.0 hangul-jamo-1.0.1 jamo-0.4.1 kollocate-0.0.2 koparadigm-0.10.0 kss-6.0.4 pecab-1.0.8 pyyaml-6.0 tossi-0.3.1 unidecode-1.3.8 whoosh-2.7.4 xlrd-1.2.0\n",
            "Collecting datasets\n",
            "  Downloading datasets-2.19.0-py3-none-any.whl (542 kB)\n",
            "\u001b[2K     \u001b[90m━━━━━━━━━━━━━━━━━━━━━━━━━━━━━━━━━━━━━━━━\u001b[0m \u001b[32m542.0/542.0 kB\u001b[0m \u001b[31m4.1 MB/s\u001b[0m eta \u001b[36m0:00:00\u001b[0m\n",
            "\u001b[?25hRequirement already satisfied: filelock in /usr/local/lib/python3.10/dist-packages (from datasets) (3.13.4)\n",
            "Requirement already satisfied: numpy>=1.17 in /usr/local/lib/python3.10/dist-packages (from datasets) (1.25.2)\n",
            "Requirement already satisfied: pyarrow>=12.0.0 in /usr/local/lib/python3.10/dist-packages (from datasets) (14.0.2)\n",
            "Requirement already satisfied: pyarrow-hotfix in /usr/local/lib/python3.10/dist-packages (from datasets) (0.6)\n",
            "Collecting dill<0.3.9,>=0.3.0 (from datasets)\n",
            "  Downloading dill-0.3.8-py3-none-any.whl (116 kB)\n",
            "\u001b[2K     \u001b[90m━━━━━━━━━━━━━━━━━━━━━━━━━━━━━━━━━━━━━━━━\u001b[0m \u001b[32m116.3/116.3 kB\u001b[0m \u001b[31m16.0 MB/s\u001b[0m eta \u001b[36m0:00:00\u001b[0m\n",
            "\u001b[?25hRequirement already satisfied: pandas in /usr/local/lib/python3.10/dist-packages (from datasets) (2.0.3)\n",
            "Requirement already satisfied: requests>=2.19.0 in /usr/local/lib/python3.10/dist-packages (from datasets) (2.31.0)\n",
            "Requirement already satisfied: tqdm>=4.62.1 in /usr/local/lib/python3.10/dist-packages (from datasets) (4.66.2)\n",
            "Collecting xxhash (from datasets)\n",
            "  Downloading xxhash-3.4.1-cp310-cp310-manylinux_2_17_x86_64.manylinux2014_x86_64.whl (194 kB)\n",
            "\u001b[2K     \u001b[90m━━━━━━━━━━━━━━━━━━━━━━━━━━━━━━━━━━━━━━━━\u001b[0m \u001b[32m194.1/194.1 kB\u001b[0m \u001b[31m17.5 MB/s\u001b[0m eta \u001b[36m0:00:00\u001b[0m\n",
            "\u001b[?25hCollecting multiprocess (from datasets)\n",
            "  Downloading multiprocess-0.70.16-py310-none-any.whl (134 kB)\n",
            "\u001b[2K     \u001b[90m━━━━━━━━━━━━━━━━━━━━━━━━━━━━━━━━━━━━━━━━\u001b[0m \u001b[32m134.8/134.8 kB\u001b[0m \u001b[31m16.9 MB/s\u001b[0m eta \u001b[36m0:00:00\u001b[0m\n",
            "\u001b[?25hRequirement already satisfied: fsspec[http]<=2024.3.1,>=2023.1.0 in /usr/local/lib/python3.10/dist-packages (from datasets) (2023.6.0)\n",
            "Requirement already satisfied: aiohttp in /usr/local/lib/python3.10/dist-packages (from datasets) (3.9.5)\n",
            "Collecting huggingface-hub>=0.21.2 (from datasets)\n",
            "  Downloading huggingface_hub-0.22.2-py3-none-any.whl (388 kB)\n",
            "\u001b[2K     \u001b[90m━━━━━━━━━━━━━━━━━━━━━━━━━━━━━━━━━━━━━━━━\u001b[0m \u001b[32m388.9/388.9 kB\u001b[0m \u001b[31m26.5 MB/s\u001b[0m eta \u001b[36m0:00:00\u001b[0m\n",
            "\u001b[?25hRequirement already satisfied: packaging in /usr/local/lib/python3.10/dist-packages (from datasets) (24.0)\n",
            "Requirement already satisfied: pyyaml>=5.1 in /usr/local/lib/python3.10/dist-packages (from datasets) (6.0)\n",
            "Requirement already satisfied: aiosignal>=1.1.2 in /usr/local/lib/python3.10/dist-packages (from aiohttp->datasets) (1.3.1)\n",
            "Requirement already satisfied: attrs>=17.3.0 in /usr/local/lib/python3.10/dist-packages (from aiohttp->datasets) (23.2.0)\n",
            "Requirement already satisfied: frozenlist>=1.1.1 in /usr/local/lib/python3.10/dist-packages (from aiohttp->datasets) (1.4.1)\n",
            "Requirement already satisfied: multidict<7.0,>=4.5 in /usr/local/lib/python3.10/dist-packages (from aiohttp->datasets) (6.0.5)\n",
            "Requirement already satisfied: yarl<2.0,>=1.0 in /usr/local/lib/python3.10/dist-packages (from aiohttp->datasets) (1.9.4)\n",
            "Requirement already satisfied: async-timeout<5.0,>=4.0 in /usr/local/lib/python3.10/dist-packages (from aiohttp->datasets) (4.0.3)\n",
            "Requirement already satisfied: typing-extensions>=3.7.4.3 in /usr/local/lib/python3.10/dist-packages (from huggingface-hub>=0.21.2->datasets) (4.11.0)\n",
            "Requirement already satisfied: charset-normalizer<4,>=2 in /usr/local/lib/python3.10/dist-packages (from requests>=2.19.0->datasets) (3.3.2)\n",
            "Requirement already satisfied: idna<4,>=2.5 in /usr/local/lib/python3.10/dist-packages (from requests>=2.19.0->datasets) (3.7)\n",
            "Requirement already satisfied: urllib3<3,>=1.21.1 in /usr/local/lib/python3.10/dist-packages (from requests>=2.19.0->datasets) (2.0.7)\n",
            "Requirement already satisfied: certifi>=2017.4.17 in /usr/local/lib/python3.10/dist-packages (from requests>=2.19.0->datasets) (2024.2.2)\n",
            "Requirement already satisfied: python-dateutil>=2.8.2 in /usr/local/lib/python3.10/dist-packages (from pandas->datasets) (2.8.2)\n",
            "Requirement already satisfied: pytz>=2020.1 in /usr/local/lib/python3.10/dist-packages (from pandas->datasets) (2023.4)\n",
            "Requirement already satisfied: tzdata>=2022.1 in /usr/local/lib/python3.10/dist-packages (from pandas->datasets) (2024.1)\n",
            "Requirement already satisfied: six>=1.5 in /usr/local/lib/python3.10/dist-packages (from python-dateutil>=2.8.2->pandas->datasets) (1.16.0)\n",
            "Installing collected packages: xxhash, dill, multiprocess, huggingface-hub, datasets\n",
            "  Attempting uninstall: huggingface-hub\n",
            "    Found existing installation: huggingface-hub 0.20.3\n",
            "    Uninstalling huggingface-hub-0.20.3:\n",
            "      Successfully uninstalled huggingface-hub-0.20.3\n",
            "Successfully installed datasets-2.19.0 dill-0.3.8 huggingface-hub-0.22.2 multiprocess-0.70.16 xxhash-3.4.1\n",
            "Collecting soynlp\n",
            "  Downloading soynlp-0.0.493-py3-none-any.whl (416 kB)\n",
            "\u001b[2K     \u001b[90m━━━━━━━━━━━━━━━━━━━━━━━━━━━━━━━━━━━━━━━━\u001b[0m \u001b[32m416.8/416.8 kB\u001b[0m \u001b[31m3.1 MB/s\u001b[0m eta \u001b[36m0:00:00\u001b[0m\n",
            "\u001b[?25hRequirement already satisfied: numpy>=1.12.1 in /usr/local/lib/python3.10/dist-packages (from soynlp) (1.25.2)\n",
            "Requirement already satisfied: psutil>=5.0.1 in /usr/local/lib/python3.10/dist-packages (from soynlp) (5.9.5)\n",
            "Requirement already satisfied: scipy>=1.1.0 in /usr/local/lib/python3.10/dist-packages (from soynlp) (1.11.4)\n",
            "Requirement already satisfied: scikit-learn>=0.20.0 in /usr/local/lib/python3.10/dist-packages (from soynlp) (1.2.2)\n",
            "Requirement already satisfied: joblib>=1.1.1 in /usr/local/lib/python3.10/dist-packages (from scikit-learn>=0.20.0->soynlp) (1.4.0)\n",
            "Requirement already satisfied: threadpoolctl>=2.0.0 in /usr/local/lib/python3.10/dist-packages (from scikit-learn>=0.20.0->soynlp) (3.4.0)\n",
            "Installing collected packages: soynlp\n",
            "Successfully installed soynlp-0.0.493\n",
            "Mounted at /content/drive\n"
          ]
        }
      ],
      "source": [
        "!pip install kss\n",
        "!pip install datasets\n",
        "!pip install soynlp\n",
        "import pandas as pd\n",
        "import numpy as np\n",
        "import re\n",
        "import os\n",
        "import torch\n",
        "import tensorflow as tf\n",
        "import urllib.request\n",
        "from soynlp.normalizer import *\n",
        "from kss import Kss\n",
        "from tqdm import tqdm\n",
        "from tensorflow.keras.callbacks import EarlyStopping\n",
        "from tensorflow.keras.preprocessing.sequence import pad_sequences\n",
        "from transformers import AutoTokenizer, shape_list, TFBertModel, RobertaTokenizerFast, RobertaForSequenceClassification, TextClassificationPipeline, pipeline, BertTokenizer, BertForNextSentencePrediction,  TrainingArguments\n",
        "from datasets import Dataset, load_dataset\n",
        "from sklearn.model_selection import StratifiedKFold, train_test_split\n",
        "from google.colab import drive\n",
        "drive.mount('/content/drive')"
      ]
    },
    {
      "cell_type": "code",
      "source": [
        "#전처리된 파일 로드(BP_spacing 건너뛰기)\n",
        "talk_save_path = '/content/drive/My Drive/talk_preprocess_result_short.xlsx'\n",
        "qna_path = '/content/drive/My Drive/community_qna_preprocessed.xlsx'\n",
        "all_contents_path = '/content/drive/My Drive/community_all_contents_preprocessed.xlsx'\n",
        "all_comments_path = '/content/drive/My Drive/community_all_comments_preprocessed.xlsx'\n",
        "\n",
        "df_talk = pd.read_excel(talk_save_path)\n",
        "df_qna = pd.read_excel(qna_path)\n",
        "df_all_contents = pd.read_excel(all_contents_path)\n",
        "df_all_comments = pd.read_excel(all_comments_path)"
      ],
      "metadata": {
        "id": "HPlZt8oJN3fN"
      },
      "execution_count": 2,
      "outputs": []
    },
    {
      "cell_type": "code",
      "source": [
        "qna_path = '/content/drive/My Drive/community_qna_preprocessed.xlsx'\n",
        "df_qna = pd.read_excel(qna_path)"
      ],
      "metadata": {
        "id": "wWMi4ts7rDZD"
      },
      "execution_count": 3,
      "outputs": []
    },
    {
      "cell_type": "code",
      "source": [
        "#직접 제작한 카카오톡 질문답변 데이터셋 로드\n",
        "talk_finetune_path = '/content/drive/My Drive/talk_finetune_dataset.xlsx'\n",
        "\n",
        "df_talk_finetune = pd.read_excel(talk_finetune_path, index_col = 0)"
      ],
      "metadata": {
        "id": "o2OuDponqe2w"
      },
      "execution_count": 4,
      "outputs": []
    },
    {
      "cell_type": "markdown",
      "source": [
        "#Soyspacing 학습시킨 후에 띄어쓰기 교정"
      ],
      "metadata": {
        "id": "u3whgqGwAR1h"
      }
    },
    {
      "cell_type": "code",
      "source": [
        "#일단 보류"
      ],
      "metadata": {
        "id": "2g_LiWn7AQ6C"
      },
      "execution_count": 7,
      "outputs": []
    },
    {
      "cell_type": "markdown",
      "source": [
        "#Pretrain 데이터셋, 제공받은 모든 데이터 사용\n"
      ],
      "metadata": {
        "id": "s_4qB1f1cH1F"
      }
    },
    {
      "cell_type": "code",
      "source": [
        "split_sentences = Kss('split_sentences')"
      ],
      "metadata": {
        "id": "fhrgE6AOkwL1"
      },
      "execution_count": 7,
      "outputs": []
    },
    {
      "cell_type": "code",
      "source": [
        "#kss로 리스트 안에 있는 여러 문장으로 이루어진 글을 문장 단위로 분리하는 함수\n",
        "def separate_to_sentences_and_deduplicate(DataFrame, columns):\n",
        "    sentences_list = []\n",
        "    for column in columns: #데이터프레임의 각 열에 대해서 처리\n",
        "        text_list = DataFrame[column].to_list()\n",
        "        sentences_list.append(split_sentences(text_list))\n",
        "    return list(set(sum([lists for lists in sentences_list[0]], [])))"
      ],
      "metadata": {
        "id": "Bi-xF2jmkJe3"
      },
      "execution_count": 8,
      "outputs": []
    },
    {
      "cell_type": "code",
      "source": [
        "#데이터프레임의 열들을 리스트로 변환\n",
        "talk_list = separate_to_sentences_and_deduplicate(df_talk, ['text'])"
      ],
      "metadata": {
        "id": "UbFUcGHbScGp",
        "colab": {
          "base_uri": "https://localhost:8080/"
        },
        "outputId": "c95b52d0-1c5b-4590-edfd-8687398007c9"
      },
      "execution_count": 10,
      "outputs": [
        {
          "output_type": "stream",
          "name": "stderr",
          "text": [
            "WARNING:root:Oh! You have mecab in your environment. Kss will take this as a backend! :D\n",
            "\n",
            "/usr/lib/python3.10/multiprocessing/popen_fork.py:66: RuntimeWarning: os.fork() was called. os.fork() is incompatible with multithreaded code, and JAX is multithreaded, so this will likely lead to a deadlock.\n",
            "  self.pid = os.fork()\n"
          ]
        }
      ]
    },
    {
      "cell_type": "code",
      "source": [
        "#데이터프레임의 NaN 대신 '' 채워넣기\n",
        "df_qna.fillna('', inplace = True)\n",
        "df_all_contents.fillna('', inplace = True)\n",
        "df_all_comments.fillna('', inplace = True)"
      ],
      "metadata": {
        "id": "9qiuANBMmgMG"
      },
      "execution_count": 12,
      "outputs": []
    },
    {
      "cell_type": "code",
      "source": [
        "qna_list = separate_to_sentences_and_deduplicate(df_qna, ['내용', '답변', '댓글'])"
      ],
      "metadata": {
        "id": "uA1jor5mgkMp"
      },
      "execution_count": 11,
      "outputs": []
    },
    {
      "cell_type": "code",
      "source": [
        "all_contents_list = separate_to_sentences_and_deduplicate(df_all_contents, ['내용', '답변', '댓글'])"
      ],
      "metadata": {
        "id": "Dauyn3R_mhlc"
      },
      "execution_count": 12,
      "outputs": []
    },
    {
      "cell_type": "code",
      "source": [
        "all_comments_list = separate_to_sentences_and_deduplicate(df_all_comments, ['내용', '대댓글', '댓글'])\n",
        "print(all_comments_list)"
      ],
      "metadata": {
        "id": "ny2BfSH2mnpB",
        "colab": {
          "base_uri": "https://localhost:8080/"
        },
        "outputId": "779ad01a-27fd-43fa-9eb5-8c3075653e2c"
      },
      "execution_count": 13,
      "outputs": [
        {
          "output_type": "stream",
          "name": "stdout",
          "text": [
            "['감사드려요 !', '결제 페이지에서 똑같은 명령값으로 총액과 주문 리스트를 누적하는 값을 기재했는데 제 개인 앱에서는 연동이 되고 메인앱에서는 연동이 안되는 현상입니다!', '컨설팅 또 해줘', '찬찬히 씹고 뜯어 보겠습니다.', '희철님이 말씀하신대로 고도화 된 개인화 추천은 딥한 기술의 영역이기 때문에ㅠ 아직 버블 단독으로는 살짝 어려움이 있겠네요!^^', '화이팅!', '길게 적었다가 올리신 글을 다시 보고 혹시나 해서 여쭙는데요.', '근데 더 자세하고 정리가 잘된 글이네요', '저도 궁금하내요', 'DB부터 구조를 짜고있는데 이것저것 틀부터 잡아보면서 계속 질문글 올려볼게요!', '네 인프런에도 무료 강의가 있고 자체적으로 블로그에서도 무료 강의가 있습니다.', '너무 기대됩니다!', '유튜브 튜토리얼인데, 거의 생각하시는 기능이랑 비슷하네요.', '민교님! ㅎ', '찬우님, 최고예요!', '현재 내용 만으로는 파악이 어렵네요 ㅠ', '해보고 결과 남겨드리겠습니다!', '레고 하듯이 어떻게든 뚝딱뚝딱 하다보면 개발 단계에서는 어찌어찌 돌아가니까 말이죠.', '버블로 프로젝트를 실행하다니 대단하십니다.', '제가 직접 해야할까봐요 ㅎㅎㅎ', '그러나 버블 기본 타입의 값들은 중복으로 들어가지 않는 것 같습니다.', '이번주 너무 정신이 없어서 가시기 전에 연락드리려다가 결국 못하고 말았네요 ㅠㅠ', '충분한 확장 가능성이 있습니다~!', '저도 저 사이트 들어가서 봤는데 재은님과 거의 같은 생각입니다.', '제가 직접 부딪혀서 파악했으면 더 시간이 걸렸을 이런 귀중한 정보를 공유해주셔서 감사드립니다', '열심히 배워갈게요', '친절한 답변 너무 감사드립니다', '앗 피드백 감사합니다!', '큼지막하게 나눠보자면원페이지 앱으로 페이지 구조 변경 -> 페이지 이동 속도가 훨씬 빨라집니다.', '그런데 제가 옵션셋을 사용안한 이유는 회사마다 직접 설정할 수 있게 해줄려고 한거였거든요.', '리유저블 엘리먼트는 웹앱전반에서 반복적으로 사용해야 할 필요가 있는 엘리먼트를 만들 때 유용합니다.', \"비번찾기를 sms인증 등으로 풀어내야해서 일이 더 커지긴 한다만,원하신다면 [ input's value : append : @yourdomain.com] 구문으로 아이디만 인풋에서 받고 워크플로우 단에서 이메일인것 마냥 버블을 속여서 회원가입 시키고, 로긴에서도 마찬가지로 핸들링하면 된다는 것 덧붙일게요 !\", '자주 와주세요 ㅎㅎ', '프라이버시 룰을 잘 수정해보겠습니다 !', '카카오 로그인 api 설정을 몇번을 봐도 제대로 한 것 같은데 카카오로그인 버튼을 눌러 카카오 로그인 창이 뜨고 로그인까지 되는데 기존 페이지로 되돌아와서 최초의 승인 메시지가 뜨지를 않습니다 ㅠㅠ', '질문에서 어떤 취지로 한국어 플러그인을 언급하신건진 조금 불분명한데요.', '한번 Group를 사용해서 적용 해봐야겠어요', '해당 사이즈 맞춰 주시고 layout 탭에서 Fit height to content에 체크해보세요~', '1. 크루 개설 2. 크루 개설자가 크루원 초대3. 크루원이 참가해서 운동 기록 공유', '한달간 멋진 성과네요!', '이건 버블에서도 권장하고 있고요.', '헤더그룹 안에 로고와 CTA를 넣으시고 max width를 지정하시면 될 것 같아요!', '아, 숫자부분 말씀드린거였습니다.', '제가 컴맹이라서..', '리피팅 그룹은 첫번째 셀에 엘리먼트를 넣으면 나머지는 모두 따라서 움직입니다.', '글 보자마다 뉴스레터에 게재해야겠다고 마음먹고 재독하고 있는데 진짜 고찰하시는 능력이 다시 봐도 대단하신 것 같습니다,,', '우왕!!', 'button element의 상위 요소는 cell이 아니라 parent group이니깐요.', '즉, 유저가 링크를 클릭헤야지 이미지가 호출되서 다운로드가 진행됩니다.', '해당 검색 아이콘이 clickable 되지 않도록 체크가 되어 있었습니다', '추가로 Ungroup 단축키는 없는건가요', '대단하십니다 ㅎㅎ', '생각만해도 벌써부터 머리가 아파집니다 ㅋㅋㅋㅋ', '제가 해봐서( 아는데,, 가능합니다. ^^', '그럼 혹시 언제쯤 가능할까요?', '블로그 : 작업물 :', \"휴지통 클릭 시 > 워크플로에서 'display 어쩌구 popup' 액션 > 데이터소스에 current cell's 방명록팝업의 삭제 클릭 시 > 워크플로에서 delete a thing, 데이터소스에 this popup's 방명록하시면 커스텀스테이트를 활용하지 않고도 가능합니다!\", '대댓글 잘 만드셨네용', '좋은 말씀 감사합니다!', '관심 가져주셔서 감사합니다', '참여를 원하시면 이쪽에서 신청해주시면 됩니다.', '(기능이랑 플러그인들도 너무 다양해서 실제로 만들어보면서 배우는 것들이 많기 때문에)기본적인 개발지식 혹은 습득력에 따라 다르겠지만 제가 생각하는 어느 정도 학습 = 하루 4시간 * 주 5일 *30일 =  총 600 시간 정도 사용하면 어느정도 생각한 것들을 구현할 수 있다고 생각합니다. _', '두 가지 모두 겉으로는 동일한 SPA입니다.', '이 정도의 비교 분석을 하시기까지 얼마나 많은 삽질과 런닝커브가 있었을 지 눈에 보여 존경심이 드는 글이었어요', '좋은 플러그인 소개 감사합니다', '이 정도로 정성껏 답을 해줄 거라고는 기대하지 않았는데 기대 이상의 선물을 받은 느낌입니다.', '정말 감사합니다 ㅜㅜㅜㅜㅜㅜㅜ', '늘 눈만 뜨면 새로운 것이 나타나는 세상이니.', '제가 버블이 처음이라 잘 몰라서 질문 드립니다.', '해결되셨다니 다행이네요!', '서버 역시 사용량에 따라 싱크트리에서 제공하는 플랜을 선택하시면 되니까 문제 없어보입니다.', '타입이 안 맞아서 생기는 오류입니다~', '해당 서비스 프로세스는 다음과 같습니다.', '혹시 api 엔드포인트 제공 후 , 아이디 비밀번호는 어떻게 제공하는지 아실까요?', '나중에 후기 꼭 기대하겠습니다!', '아직 너무 많이 부족합니다ㅠ', '이상하네요.', '아...', '고민해주셔서 감사합니다.', '희철님~ 정말 그런 것 같아요.', '내용을 캡쳐해서 다시 올려주실 수 있나요?', '국민은행, 우아한형제들, 쏘카 등도 싱크트리를 써서 백엔드를 개발할 정도니 걱정 안 하셔도 될듯요ㅋ', 'make와 zapier의 차이점이 몰까용?', '그리고 Input field의 값이 change 되면 custom state로 그 값을 저장합니다.', '-There was an issue setting up your call.Raw response for the API Status code 401{\"error\":{\"errorCode\":\"200\",\"message\":\"Authentication Failed\",\"details\":\"Invalid authentication information.\"}}', '저는 코딩이 더 머리 아픈 것 같은데요 ㅋㅋㅋ', '고생 많으셨습니다', '회원 조회 api 요청 시 400이 뜨는거죠?', '앞으로는 꽃길만 걸으세요!!', '이런 방식으로 전, 몇 가지 창 사이즈를 지정해놓고 프리뷰할 때 보면서 반응형을 만들어요~', '(2) GET 으로 설정하신 부분에 아래 URL을 입력하면, (3) URL parameters 가 활성화 될텐데, key에 query, Value에 임의의 검색어를 입력하고,(버블 이라고 해도 좋고, 일단 Initialize를 하기 위한 아무 검색어나 입력하면 될 것 같아요.)', '-html 엘레멘트 안에 넣을 코드-------------<style type=\"text/css\">::-webkit-scrollbar {  width: 0px;  height: 0px;  dispay: none;}::-webkit-scrollbar-button {  width: 0px;  height: 0px;}  {  -ms-overflow-style: none;  /* IE and Edge */  scrollbar-width: none;  /* Firefox */}::-webkit-scrollbar-thumb {  background: transparent;  border: 0px none;  border-radius: 0px;}::-webkit-scrollbar-thumb:hover {  background: transparent;}::-webkit-scrollbar-thumb:active {  background: transparent;}::-webkit-scrollbar-track {  background: transparent;  border: 0px none;  border-radius: 0px;}::-webkit-scrollbar-track:hover {  background: transparent;}::-webkit-scrollbar-track:active {  background: transparent;}::-webkit-scrollbar-corner {  background: transparent;}</style>', '해당 현상은 구글 정책때문에 발생한 현상이랍니다.', '좋은 밤 보내시길 바라요!', '감사합니다.', '좋아해서 만들어놓고 마케팅, 영업을 정작 못하네요 ㅎㅎ', 'url parameter를 사용해서 한 번 해보시지요.', '오마이앱의 프리셋으로 제가 원하는 퍼포먼스를 100% 구현할 수 있는지 먼저 결제 후 이용해본 다음 파악해보고안되면 그 이후 버블로 시간이 더 걸리고 난이도가 있지만 도전을 해볼지 / 오마이앱 측에 접촉해서 빠르게 제휴 요청을 드릴지 선택해봐야겠네요 ㅎㅎ', '쇼핑몰빌더는 오랜 사용자 경험을 바탕으로 대시보드 내용이 꽤 잘 되어 있지만 버블은 그런게 없어요.', '좋은정보감사드립니다.', '도전의 힘을 주는 메세지네요~', '도전 좋습니다~!', '후발주자들의 퍼포먼스가 엄청 기대되는 것 같습니다.', '2의 경우 코드를 사용할 줄 모르면 버블 플러그인을 사용하시면 됩니더.', '2번은 무슨 말씀인지 잘 이해를 못하고 있습니다.', '한 번 시도해볼 수 있을 것 같아요!', 'State를 List로 만든다는 생각을 전혀 못했습니다!', '3. options에 display로 \"전혀 그렇지 않다\", point는 \"0\"을 추가합니다.', '저도 처음에 노코드를 알게 되고 희망을 가졌다가 배우는 과정에서 많이 좌절하고 힘들었던 기억이 납니다.', '주상님 :D', '버블에서 코딩 구문 직접 넣을 수 있는 기능이 어디에있나요?', 'RSS 플러그인을 쓰면 호출 시 결과 값이 어떻게 나오나요?', '문의해본 결과 cloudflare의 SSL 문제인 것 같습니다ㅠㅠ', '아이고 감사합니다.', \"32분경 '동적 페이지 전환' 부분입니다.\", '뭔가 다른 문제가 아닐까 싶습니다.', '83932347912 value 도움이 되시면 좋겠습니다.', '용준님 :)', '판매인증 size가  밀려날 정도의 크기는 아닌데 왜 틀어지는지는 잘 모르겠어요 ㅠㅠ', '저도 희철님처럼 정리해서 올리겠습니다!', '빌더로그를 개발일지..?', '빌더 로그의 취지에 맞다면 다행입니다^^', '항상 잘 보던 블로그였는데 소정님의 블로그셨군요.', '간단한 백엔드 구성이 필요해보입니다.', \"데이터 탭의 'file manager' 탭에서 파일을 수동으로 삭제할 수 있는 건 알고 계시죠?\", '제가 원하던 대로 해결 하였습니다!', '걱정되서 질문을 드립니다', '앞으로 업데이트될 기능들까지 너무 기대됩니다', '\\'Bug in custom code ReferenceError: daum is not defined\\'카카오 우편번호 서비스 상 스크립트에는\\'<script src=\"//t1.daumcdn.net/mapjsapi/bundle/postcode/prod/postcode.v2.js\"></script>\\'위 구문도 포함되어 있던데요.', '빠르게 이것저것 실험해보면서 MVP 테스트하고 프로덕 방향성 잡기에 버블이 정말 좋은 듯합니다!', '덕분에 최근에 여기를 좀 신경을 못 썼네요~', '도움 주셔서 감사합니다.', '모두의 노코드 사례에 제가 올린 포스트가 똭~! ㅎㅎ', '빌더 로그 게시판은 노코드 빌더가 인사이트나 경험, 회고를 공유하는 공간입니다.', '각 그룹간 데이터를 이동하는 방법은 page URL을 이용하는 방법, 커스텀 스테이트를 이용하는 방법 그리고 직접 DB에서 쓰고 다시 불러오는 방법 등이 있습니다.', '반갑습니다 ㅎㅎ', '답변이 많이 늦었네요 ㅜㅜ', 'ㅎㅎ 흥열님을 여기서도 뵙네요.', '저 역시 그레고리처럼 내 비즈니스를 하기 위해, 살아남기 위해 노코드를 팠고 거기에서 비슷한 경험을 했기 때문인 것 같아요.', '아 답변하기가 아니라 댓글로 달아주셨구만요~', '현재 토스페이먼츠에서는 아직 정기 결제용 버블 플러그인을 제공하고 있지는 않습니다.', '화면 해상도 관련해서는 아래에서 참고하시면 될 것 같습니다', '확인했습니다.', '전 재피어가 더 익숙해서 ㅎㅎ', '30일이 벌써부터 기다려집니다.^^', '뭔가 저도 창업한 입장에서 공감되는 부분도 많고요.', '애간장 태운다는 말 너무 공감됩니다 ㅋㅋㅋ', '페이지 넘버 간 gap이 설정되어있을 경우에 그렇습니다.', '말 그대로 웹 페이지를 보여주는 것이니까요.', '리스펙트 수준이네요.', '또 다른 예를 들면,교육프로그램 > 참여자그룹 > 참가자  의 구조라고 하면,Data Type (필드들)교육프로그램 (프로그램명)참여자그룹 (그룹명, 해당프로그램)참여자 (유저명, 해당그룹)이렇게 세팅하시면, Do a search for 참여자 를 통해 해당 그룹과 프로그램에 접근할 수 있습니다!', '아시다시피 세상의 어떤 선행에도 비난하고 시기하는 사람들이 있잖아요?', '재린님 안녕하세요.', \"2. 이미지 요소 (우측)를 하나 추가하고 동적 데이터에 Generated Images' 이미지를 넣으려고 찾아보니 Generated Image가 목록에 없네요.\", 'count 데이터 만들어서 구현했고 말씀해주신 내용 모두 이해했습니다', '두어서치포가 워크로드 많이 먹는다고해서 이래저래 다른 방법으로 해보려했는데결국 그냥 두어서치포 3번 겹쳐서 해결했습니다  ^^', '도움이 많이 되었습니다.', '너무 멋있습니다.', 'DB 구조나 익스프레션을 더 자세히 보면 좋겠지만 쓰신 내용으로 봐선...그 부분 점검해 보면 좋을 것 같아요~', '그럼 그 데이터가 넘어가는 페이지로 전달됩니다.', '다만, 워크로드는 좀 소진을 합니다.', '개발 환경에 있는 데이터는 분리되어 있어서요', '이 템플릿을 써보지 않아 명확히 말씀드릴순 없지만 설명하신 바에 따르자면 아마도 Board List를 클릭하면 Custom state로 메인섹션의 각 탭들을 show/hide하는 형식으로 되어 있는 듯 합니다.', '실제로 페이지별로 컨텐츠를 만든 다음 페이지 이동을 하게 되면 이동 시간이 생깁니다.', '오오 감사합니다.', '생성된 브랜드를 사용하고 싶다면 어떻게 해야하나요', '이 글보고 둘러보기로 로그인하려고 했는데 오류가 났다고 거부됐어요~', '희철님 민교님!', '좋은 팁감사합니다 .', 'Settings > seo/meta tag 탭에서 site name, title 브분 수절하시명 됩니다', '많은 도움 받았습니다!', '바로 확인해봐야겠어요.', '코드는 해 보신대로 최대한 자세하게 GPT에게 물어보면 만들어줄겁니다.', '솔라피가 편하긴 하죠 ㅎㅎ', '앗 민교님 답변 너무 감사합니다.', '해결방안이 있을까요?', '프리뷰네요.', '오픈챗에서도 항상 도움주셔서 감사했었는데 역시 커뮤니티에서도 활약해주시네요 ㅎㅎ', '빌더 로그는 재은님이 올려주신 이 글처럼 빌딩 과정에서 깨달은 내용을 공유하는 공간입니다.', '외주개발을 하셨던만큼 버블에 입문하시면 용준님 말씀대로 훨씬 유리한 위치에서 시작하실 수 있겠네요!!', '어떻게 연동 성공하셨는지 공유해주실 수 있을까요?!!', '고맙습니다', ':)2) 저는 min320-max420 쓰고있어요!', '고맙습니다~~', '노션 이력서 소개팅이라는 게 뭔지 굉장히 궁금하네요.', '뒤에 수많은 역경이 있었네요.', \"마찬가지로 local storage에 방문 이력을 만들어주고 '로컬 스토리지에 방문 이력 데이터가 없는 경우에만 카운트를 해라' 라고 조건식을 설정하시면 됩니다.\", '수정 완료했습니다.', '버블과 싱크트리 연결 방법은 어디서 볼 수 있나요?', '버블 커뮤니티에 아주 단비 같은 소식이에요.', '답변감사합니다~^^', '아니면 수강자분?', '유튜브 썸네일이 이런 프로토콜을 갖고 있었군요!', '이메일과 비밀번호는 로그인 워크플로우에 넣으면 됩니다.', 'ㅋ 역시 플러그인이 있군요.', '답답한 부분에서 도움이 많이 되었습니다.', '모두의 노코드는 어떤 요금제를 사용하고 있는지 궁금합니다!', '하지만 알고리즘을 잘 구성해서 콘탠츠의 태그, 가중치, 쌓인 데이터들의 분석을 산정해서 수식으로 넣어주면 버블도 충분히 구현가능하다고 봅니다~', '자세히는 모르겟습니다ㅠ', '(왜 그런건지는 저도 미스테리네요 ;;)', '참고해서 다시 시도해보겠습니다!', '다만 몇몇 무료템플릿들을 뜯어봤는데 별도의 세팅없이도 1200width로 자동세팅되고 있어서 혹시 제가 놓치고 있는 옵션이 있는지 궁금하긴 합니다.', '선 좋아요, 감사 댓글 후 정독하겠습니닷!', '영태님 그동안 엄청 고생하시더니 이렇게 근사한 프로덕트를 론칭하셨네요', '도움이 되셨다니 감사합니다.', \"저도 갑자기 생각난 표현이지만, '기술'이란게 우릴 도와주는 성격이 강하고 평생 함께 붙어있다는 의미에서 한 번 붙여봤습니다ㅎㅎ\", '챗지피티와 버블로 토이프로젝트 할수 없을까 아이디어가 안떠올라서 고민이었는데 이렇게 쓸수도 있군요', \"다른 분들이 워낙 답변을 잘해주셔서 정보 하나 알려드리자면, 지난 번 '버블에서 페이지 전환하기' 웨비나 때 관련 내용을 다뤘었습니다.\", '버블의 기본 필터 오퍼레이터는 속성을 대상으로 하며, 속성 안에 존재하는 값은 대상이 불가능합니다.', '덕분에 해결 되었습니다^^', '서비스가 닫겼군요 ㅠㅠ어떻게 개발하셨는지 배우고 싶네요', 'Setting > SEO/Metatags 에서 아래 내려보시면 스크립트 집어넣는 공간이 있습니다!', '정말로 몸둘바를 모르겠네요.', '네, 말씀대로 은행목록 플러그인은 결국 못찾아서 직접 입력폼 만들었습니다^^', '원래 이렇게 빠르지 않습니다 ㅋㅋ', ':)실시간은 가능하면 좋은데 안 된다면 몇 초마다 또는 몇 분마다 세도록 할 수 있다면 좋겠네요 ㅎㅎ', '메일 드리겠습니다!', '스크린샷 기준으로하면 처음 일월화수 4개가 비어있고 그 뒤로 29까지 숫자가 나오는, 총 33개 item으로 구성된 리스트인가요?', '오마이앱은 초창기여서 원하는 퍼포먼스가 나오지 않을 수 있어요.', '따로 답변 달아놨습니다~', '소중한 답변 감사합니다!', '방식 또한 다양하게 활용가능합니다.', '즐거운 연말 보내세요', '보통 BDK로 많이 하시는 것 같거든요.', '어떤 회사는 paid,free로 넣을수도 어떤 회사는 한글이나 다른 텍스트 값들을 넣을수도 있게 자유도를 줄려고 해서 리스트로 따로 만들어서 하려고 했었는데..', '실은 처음부터 JS로 직접 구현해볼 생각이었어서 거들떠도 안봤습니다.', '이미지는 링크로도 위에 수정해둬야겠네요.', '문자 메시지 API와 직접 연동하시고 싶은 분들께 많은 도움이 되겠습니다.', '대분류 같이 고정된 값을 사용하는 경우 option 기능을 사용하시는 게 훨씬 좋습니다.', '기운 내셔요', '응원합니다!', '네네!', '오류나 잘못된 내용 적극 환영입니다~', '말씀주신대로도 한번 검토해보고 대수선을 할지 고민해보아야겠네요.', '혹 제가 리피팅 그룹을 만든 방식에 문제가 있을까요', '어떤 계기로 버블을 배워보기로 하셨는지 궁금하고, 아울러 개발 백그라운드를 가진 분이 버블을 배워나가시면 어떤지 많이 궁금합니다.', '작가와 개발이라니!', '특히 #2, #5 항목들에 대해서는 많은 분들이 참고하시면 좋을 듯 합니다.#', '병준님확인해볼게요~', '그룹에서 모두 빼고 -> 그룹 지우고 -> 다시 넣고 있는데,다른 방법도 있나요!', '완전 개발 블로그 뺨치는 설명글이네요!!', '(: 김동과 영광이네요ㅎㅎ', ':)주변 노코드 빌더분들 말씀대로면 글라이드가 버블보다도 난이도는 쉽다고 하시네요~!', '버블 측에 문의 남겨보세요.', '1-1)일반적인 프론트엔드 개발에서 반응형 처리를 위해서 Media Query를 사용하는 것과 동일하게 Page Width별로 별도 처리해서 반응형 처리를 하는게 버블에서도 편한 듯 합니다.', '저희 커뮤니티 취지에 부합하는 상황이신것 같네요', '\"This page can\\'t load Google Maps correctly.\" 지도가 갑자기 이런 메세지도 떴습니다.', '그러니 Expression 엘리먼트를 보이되 어색하지 않게 잘 처리하는 것은 여러분의 몫 ...', '꼭 소개 부탁드립니다!', '질문하고 싶은 게 꽤 있을 것 같은데 정리하시기 편하게 축약하여 올려보겠습니다.', '그래도 이렇게 소진량까지 자세히 정리해주시다니 희철님 감사합니다', '이런 저, 정상인걸까요?', '굿굿!', \"1) 세부 메뉴바가 담겨 있는 플로팅 그룹의 layout 메뉴에 this element is visible on page load를 비활성화로 체크2) 세부 메뉴바가 담겨 있는 플로팅 그룹의 condition에서 'current scrolling position > 원하는 깊이' 로설정3) this element is visible을 체크\", 'ex) 한 상품 결제 당 결제 가격의 1% 수수료 부과하려 합니다', '저도 이 지피티가 어디까지 그들에게 영향을 줄지 궁금해지네요.', '굳이 고집하실 필요 없어요.', '설명 감사드립니다.', '본 사이트는 성장을 위해 현재 정지해 두었어요. ^^', '댓글 감사합니다.', '히든 필드의 경우 저도 좀더 알아보겠습니다.', '소정님 ㅎㅎ 버블 개발자 구하기가 하늘에 별따기네요.', '네 go to page하시고 index 페이지 즉, 현재 페이지를 선택하시면 됩니다.', '그럼 그날 뵙겠습니다!', '거기가 비어있으면 뉴욕으로 가버려요^^', '저도 노코드를 접한지 얼마 안되었지만 타이밍 좋게 성장하는 모습을 보니 가슴이 설레네요.', '모쪼록 성공하면 이곳에서도 공유하겠습니다.', 'fsdfafda', '그래도 중철님의 열정적인 프로그램 운영과 희철님의 PayitForward 덕분에 노코드를 알게되어 항상 감사한 마음 뿐입니다.', '개선해도록 하겠습니다', 'Do a search for 구문에서, 해당 데이터타입 넣어주시고,아래 constraint로 해당 학교, 해당 반 등을 넣어주시면 수월합니다.', '그리고 만약 결제 취소를 하게 된다면, 자동으로 중개수수료 또한 pg사를 통해 빠져나가는지 궁금합니다.', '그런데 써 놓고 보니 이렇게 답을 드리는 게 하나도 도움이 안될 듯 한데...ㅠ', '조금만 더 정보를 주시면 좋겠습니다.', '첫 번째 코드를 page is loaded - run javascript에 넣었더니 되었습니다!', '다행히 기존에 해놓은 게 있어서요 ㅎㅎ', '안녕하세요, 혹시 카카오톡 상에서 접속해주셨나요?', '경품은 저의 애정입니다.', '정말 답답했는데 답변 감사드립니다.', '네!', '정렬은 해당 타입의 필드로만 할 수 있고, 필드‘s OO 처럼 2뎁스 이상으로 내려간 값으로 정렬하는건 불가능해요 ㅜ', '앞으로는 처음에 질문 올릴 때부터 기획 의도를 조금 더 자세히 설명하도록 하겠습니다ㅜㅜ', '제 생각엔 유저가 올린 채용 페이지의 조회수나 좋아요, 지원 기능이 있다면 지원 수 등의 유저 액션으로 수집할 수 있는 데이터 위주로 보여주는 게 어떨까 싶네요.', '혹시 찬우님은 그래서 어떻게 해결하셨나요?', '글에서 많은 감정이 읽혀서 뭐라도 댓글을 달아야 할 것 같았습니다.', '저또한 커뮤니티에서 배워가는게 많아서 감사했습니다 ㅎㅎ', \"이름을 '탈퇴한 회원'으로 바꾸는 등 ..\", '상황에 따라 다르겠지만 저는 플러터 플로우나, 드래프트 빗, 앱가이버, 버블 같은 노,로우 코드 툴 들을 검토 했고제가 선택한 플러터 플로우의 경우 기본기능을 익혀서 mvp를 만들고 개발고도화를 할 경우 플러터 ,다트 코딩언어를 익혀서 세부적인 커스텀 기능을 구현 할 수 있기 때문에 앞서 mvp로 작업한 부분을 버리지 않고 연결해서 개발을 할 수있으며, 특히 유료기능이기는 하지만 버블이나 다른 노코드 서비스와 다르게 지금까지 개발한 내용에 대한 코드를 추출 할 수있기 때문에 차후 개발 고도화의 경우 개발자와의 협업이나 개발의 연장 확장 가능성 면에서 우수 하다고 판단해서 선택하게 되었습니다.', '그렇지만 먼저 날짜로 constraint를 걸면 100개 아닌 더 작은 숫자로 처음에 걸러지게 됩니다.', '감사합니다 ㅎㅎ', '글을 보니 형준님 기획을 잘 하시는 분이라고 느껴지네요', '문형님!', '이렇게라도 도움드릴 수 있어서 좋네요', '오 정말 필요한 분들 많을것 같아요!', '그리고 no 상태의 버튼 클릭 시 yes로, yes 상태에서 클릭 시 no로 전환되는 토글 방식의 워크플로우를 구성했습니다.', '그래서 저도 버블로 뭔가 한 번 직접 개발해 보고 싶었습니다.', '안녕하세요!', '정말 찾아보고 찾아봐도 모르는 것만 질문하도록 하겠습니다~', '라이브 데이터베이스에 복붙하니 바로 됐어요!', '오오..1번으로 했더니 보입니다 !!!', \"' 업무내역: plus item this input's value 가 되겠구요.매번 작성자가 Input을 채울때마다 그 값은 custom state에 저장이 될 것이고, 그 결과물들은 RG에 display가 될겁니다.작성자가 마지막으로 (몇번째에서건) 제출버튼을 클릭하면 한번 웍플로우를 진행시킵니다. Create a new 업무내역이고 저장할 value는 index's 업무내역's list of 업무내역이 되겠죠.\", '정말 감사합니다.', '쌤 클래스 101 수업으로 열심히 공부를 하는 중인데, 프로젝트가 되게 엄청나네요!!', '테이블 구성은 조언주신대로 바로 하나로 구성 수정했습니다.', '겸손하십니다', '-_-;기본 File Uploader를 사용해서 다양한 UI를 직접 구현하는게 더 편할 수도 있겠습니다~', '위의 이미지에서는 GTM의 설치 코드와 ga의 gtag가 함께 header에 삽입되어 있는데, 이 경우에 페이지뷰가 중복 집계되는 문제가 발생하지는 않는지 궁금합니다.', '재은님 꿀팁 감사합니다.', '당근마켓은 아니지만 피드, 댓글, 좋아요', '제가 웹플로우랑 버블을 본격적으로 사용을 안해봤지만, 그냥 그동안 들었던거로만 놓고 비교하자면 Zapier는 웹플로우처럼 직관적이고 처음 사용하는 사람들이 사용하기 쉽고 Make는 버블처럼 더 커스터마이징이 자유로운?', '토닥토닥.', 'This means you can set and change URL parameters as much as needed without the page having to be reloaded.', '저도 그렇고 많은 분들이 필터를 옵션으로 하고 있어요', '정확하고 친절한 답변 감사드립니다.', '하하 아이고..', '수정했고, 개인정보는 유출되거나 혼동되지 않았습니다.', '너무 잘됩니다.', '처리할 수 있는 방법은 매우 많습니다~', '이 부분 너무 좋네요!', '너무 양이 많아서 엄두가 안나 못하고 있었는데 명성님이 해주셨다니 다행이네요.', '이는 버블에서도 권장하는 방식입니다.', '답변 감사드려요!!', '화이팅 하십쇼 감사합니다!', '저희도 이렇게 처리했는데, 개발하시기 어려운 분들을 위해 혹시 버블만으로 가능한 방법이 있나 해서 여쭤봤습니다.', '한가지!', '사실 다른 방식으로 구현하긴 했지만, 정작 html에서 다이나믹 데이터를 통해 연동하는 것은 잘 안되는 상태입니다...', '전혀 다른 group인데다가,  심지어 같은 본문 영역이 아닌  head영역이 왜 밀려나는지도 모르겠구요 ㅠㅠ', '관심 가져주셔서 감사합니다!', '혹시 플러그인을 사용하고 싶으신 분들은 locale을 지원하는 플러그인 Relative Time (Locales) - Moment.js 이 있네요.', '안녕하세요', '고맙습니다. (_ _)', '일단 generator가 어떤 건지 모르겠습니다. ㅎㅎ', '용준님 덕분에 저도 좋은 플러그인 알게 됐어요!', '분명 다른 분들도 이 부분 궁금하실 거에요', '제가 원하던 그 기능을 구현해서 사용중이시군요.', '버블로 뭔가를 만들고 모두의노코드에 들어와보니....', '국내에서의 쇼핑몰 만큼은 아임웹이나 카페24, 고도몰 등 전용 쇼핑몰 빌더로 만드는 게 유리합니다.', '사용자가 생각 보다 적어서 현재 닫아두었습니다 ㅜ', '어제 웨비나 때 유의사항으로 말씀해주신 완변주의 성향이 있었던 것 같습니다 ㅎㅎ', \"이렇게 파라미터에 있는 커스텀스테이트를 리스트로 만들도록 했구요,2. 결과페이지에서 결과를 보여주는 리피팅그룹에서,- Type of content : Grouping- Data source : search for 과일:filtered:grouped by 원산지   > List filter;    Advanced: This 과일's 색깔 contains list RepeatingGroup 색깔세트's List of 색깔세트이 조건을 Do a search 에서 constraint로 안 걸고 filter로 쓴 이유는,constraint로 넣으니 자꾸 아래와 같은 오류가 뜨더군요ㅜ\", '개발 하시는 분들 참고하시면 좋을듯 합니다.', '리피팅 그룹은 데이터를 받아오는 경우가 아니면 화면에 노출이 되지 않더라고요..ㅠ', '저도 처음엔 이런 경우에 11개 로우를 만들어 놓고 몽땅 가려놓고 하나씩 show가 되는 방식으로 했던 기억이 납니다.', 'State에 대해 알게 되었네요.', '지금은 잘 되는 것 같은데 해결하신 걸까요?', '저 같은 겅우은 다릉 플러그인을 쓰는데 이렁 방식으러 이미지를 불라왔습니다.', '십분 공감합니다!', '디자인이 깔끔해서 좋네요.', '혹시 404는 어떤 경우에 발생하는지 알고 계신분이 계실까요?', '친절한 답변 감사합니다!', 'SaaS 요금제 설계할 때 Basic은 체험 / Personal은 기능은 써볼 수 있게 / 그 이상부터는 성능 기준(Feature의 종적확장)으로 하는데, 버블도 유사한것으로 보여져요.', '와우 용준님 정리 너무 잘하시네요!!', '와우 감사합니다', '영어가 약하지만, 그냥 듣다 보면 깨우침', '커뮤니티에서 많이 도움 드릴겁니다~', '이 새벽에도 답변남겨주시다니 감사합니다', '5. 일단 이렇게 하고는 있는데...', '말씀해주신 방법이 가장 최선이겠내요 !', '텍스트는 안보이는데 그룹 영역이 노출되서 그런 것 같습니다~!', '감사합니다~!!', '방금 따라하려고 해보았는데 저 body 부분의 field type은 무엇이 되는건가요?', '아니 이렇게 정성스럽게 정리해주시다니..', '10000원 결제(토스페이먼츠) -> 일부 수수료(pg사) + 중개 수수료(결제금액의 1%) + 나머지(입점 업체)pg사로 빠져나가는 수수료는 자동인걸로 알고 있습니다.', '각도를 더 미세하게 조절하거나 컬러를 더 미세하게 하시고 싶은 분은 CSS 코드 넣으시고, 편리하게 빨리 사용하실 분은 소정님 추천 플러그인 쓰면 딱일듯 합니다~', 'user데이터의 경우, privacy 잠금이 걸려있어서였습니다...', '이번 기회에 파이썬을 배워볼까 합니다!', '야미', '다혜님 최고!', '구글 소셜로 가입이 되어 있는데 , 구글 로그인으로 해야 된다는게 정확하게 어떤뜻일까요?', 'SaaS: 무료 버전도 가능합니다(:', \"부모 그룹, 그러니까 그룹 A나 B를 감싸고 있는 컨테이너나 페이지가 'Fixed'로 되어 있을 경우 나타나지 않습니다.\", '어찌됐든 잘 돌아가면 됩니다.', '정말 감사드려요!', '우와 초보자에게는 정말 필요한 소식 ㄱㅅㄱㅅ', '이렇게 커뮤니티를 위해 직접 해외 인사를 인터뷰하시고 또 인사이트를 공유해주시는 것 정말 쉽지 않은 일이잖아요.', 'Do a search for 원료constraint (배합성분 contains parent 성분)하시면 될 것 같습니다.', '수정이 안되서 일부 글씨가 작은점 양해부탁드립니다 ㅠ', '취지에 딱 맞습니다!', '앗;; 그렇네요', '좋은 소개 감사드려요.', '아마 편집모드 프리뷰 상의 기능 때문에 display data가 날아가는 것으로 추정됩니다.', '아 글쿤요', '혹시 프라이버시 룰 확인해보셨나요?', '혹시 엑셀에서 불러오셨을 때 한글이 깨지나요?', '제가 답이 너무 늦었네요 ㅠ', '아니요!', '와...', '파라미터로 세팅은 다뤄보지 않아서 어떻게 해야하나..', '한글 검색도 잘 되더라구요!', '1월 11일(목) 9시 18분 경 기준으로   사이트에 접속해서timestamp value를 1704932302와 같이 생성했었습니다!', '정말 고수의 힘이 느껴집니다.', '아하 type of choice를 text로 하는거였군요.', '똑같은 데이터 값과 워크플로우를 넣었는데 이런 오류가 있어서요 ㅠㅠ', '그렇게 따지면 저는 야매개발자도 안되겠습니다 ㅎㅎ', '이게 마무리되면 AWS 안 거치고 바로 버블 db로 가져올 수 있을 것으로 생각하고 있습니다.', '질문이 많아서 죄송합니다ㅠ', '와닿는 이야기네요', '이런 기능 필요했는데 너무 유용하군요!!', '(?)이 옵니다.', '저라면 아래와 같은 순서로 무엇 때문에 에러가 발생했는지 체크 해 볼 것 같아요.', '전혀 모르는 상태에서 시작하려니 막막했는데 도움이 되었어요!', 'static ip를 쓰려면 찬우님이 답변하신것처럼 dedicated 플랜을 이용해야하는 것 같습니다', '너무 좋은 인사이트네요', ':)감사합니다!!', '인너텟도 교보에서도 찾아볼 수가 없더라구요..', '잘하셨어요!', '앱 아이디어 넘 좋으신거 같아서 앱패키징해서 출시해도 좋을 것 같네요^^', \"Data to send에 Current cell's 어쩌구가 구체적으로 어떻게 쳐야 하는지 여쭤봐도 될까요!?\", '페이지가 리로딩 되거나 그러진 않는거죠?', '요즘 입문하시는 분들이 많으신 것 같은데 좋은 코스가 될 것 같네요!!', '백단 프로세스 설계시 고생 많으셨을거 같습니다.', '혹시 어떤 기기로 하셨나요?', '변화가 없는 건 아마 워크플로우가 잘못된 것 같아요.', '형준님이 겪었던 진행하다 엎고 다시하는 과정을 제가 지금 반복하고 있습니다ㅠㅋ', '많은 분들이 더 쉽게 버블을 배우실 수 있을 것 같습니다 ㅎㅎ', '재은님! ?♀?', 'Input field 위에 Repeating group을 만들어 놓습니다.', '정렬인지, 데이터 필터링인지.', '스크롤바가 생기면서 너비를 차지하는 문제 아닐까요?', '예전에 비슷한 영역의 서비스를 만든 적이 있는데 에디터에서 한 번 참고하면 도움이 되지 않을까 합니다.', ':) 감사합니다!!', 'SDK 형태로 저희 SaaS를 외부 서비스에서 심고 채널톡처럼 고객 대응을 진행할 수 있으며, 데이터는 저희 DB에 쌓는 형태로 진행하고 싶습니다.', '오 에디터까지 공유해주시다니 공유의 신 이십니다 ><', '아직 한참 부족해요..ㅜㅜ', 'Meaning the process would occur in a couple steps.', '추가로 여쭤보신 서로 참조를 위해서는 업무 테이블 안에 채용공고를 List of 채용공고s 로 하면 서로 참조로 설계하실 수 있습니다', '/  도움 되시기 바랍니다.^^.', '긴글까지 써주시려는 마음 정말 감사합니다.', '리피팅그룹에서 불러올 때 [사요]에 해당하는 것만을 가져오게끔 제약조건을 걸면 될 것 같은데,, 계속 빨간색으로만 되어서 넘어가지를 않아요.', '약간 이해가 안됐습니다.', '밑에 분 처럼 점점 코드를 쓰기는 하지만 가장 기본적인 건 버블로 빠르게 하고 노코드 한계있는 부분만 javascript 코드 등 짜면 되니깐 좋다고 생각합니다', '테이블마다 privacy rule을 설정할 수 있는데 이걸로 유저마다 불러톨 수 있는 데이터에 제한을 걸 수 있습니다.', '유익한 시간되셨길 바라겠습니다', '저도 이렇게 해봐야겠습니다.', '아예 버블에서 제공하는 기본 도메인으로는 등록이 안되나보네요.', '혹시 기존에 도메인 연결해둔 것들 삭제는 하셨나요?', '답변을 작성하고 등록하려고 보니, 이미 답변을 다셨네요.', '기보다는 단순 포트폴리오를 위한 작업이었는데 지금 이렇게 좀 더 제대로(?)된 프로젝트를 보게 되어 기쁘네요.', '예를 들어, 저는 최상단 헤더의 height가 60이라면 세부 메뉴바에 top margin을 60을 넣어 두었습니다.', '관련해서 주변 분들과 얘기나눈 적이 있는데, 인공지능이 개발을 대체하지도 않을 거라고 생각해요.', '바로 해결하셔서 다행입니다. ㅎㅎ', '또 정산 금액이 적을 경우 굳이 여기에 큰 개발 공수를 투입하는 것도 부담스럽고요.', '저도 이렇게 보는 편이에요 ㅎㅎ', '그래야 HTML에도 삽입이 되고, 각 요소를 선택했을 때 색상 채우기도 가능합니다.', 'Script in the body 항목에 기재하시면 됩니다.', '너무 어렵게 느껴져 도움을 요청합니다..!', '만들고 나서 운영과 마케팅, CS 등등 고객의 마음을 사로 잡는 일이 더 중요합니다.', '액션 이벤트의 결과 값에 있는 데이터를 활용했는데도 안 나어는걸까요?', '놀랍도록 간단하고 확실한_x0008_MVP', '혹시 카카오 싱크 연동 관련해서 추가적인 안내를 받을 수 있을까요?', '아쉽네요 ㅠ', '유저일까요?', '선 좋아요', '그리고 어디든지 힌트를 위해서라면 실천해버리시는 실행력까지...!', '도움이 되셨는지...', '거기까지는 생각을 못했네요ㅎㅎ', '그럼에도 어디까지 가능한가 해 보고 싶었습니다 ㅎ', '제가 찾아볼 수가 없네요 ㅠ', '역시 데이터베이스 접근 및 수정이 가장 소비량이 많군요!', '아무것도 모를 때는 유튜브 여러 강의보면서 따라했었고 저도 희철님처럼 한달 정도는 개념 이해하고 하는데 시간을 썼던 것 같아요.', '다시 한 번 감사드려요!', '시간이 지나고 점점 경험이 쌓이면서 근원적인 것들에 대한 배움을 갈구하게 되죠.', '아이디어 좋습니다!', '저는 버블에 카카오 알림톡을 연동해서, 자기 글에 댓글이 달리면 알림을 받게 해주고 싶어서 방법을 찾고 있는데요.', '유저로서 잘 사용하겠습니다!!!', 'There may be a few potential workarounds that you can explore:1. If the call is processing data and increased data volume generates a longer response time consider breaking the call up into several smaller calls to process with a shorter response time.', '잘 확인하고 수정해놓겠습니다.', '여러 개의 그룹을 생성하고 column과 row가 섞이니까 원하는 위치에 배치하기가 어려워져서 일단 fixed로 해보려고 했습니다ㅜㅜ+', '질문에서 알려주신 정보가 너무 없어서 조언 드리기가 어렵네요.', \"gtag('config', 'xxxxxx', { 'send_page_view': false });\", '1. My upload 페이지에서 (1) youtube url 을 등록   -> youtube url을 등록하는 Data Type을 만들어서 버블DB에 youtube url을 저장2. youtube 동영상 iframe embeded 소스를 적용  -> 버블에서 html element를 사용해서 youtube iframe embeded 소스를 적용어떤 부분들이 잘 안 되시는지 조금 더 상세한 내용들을 남겨주시면, 버블 고수님들께서 도움주실 수 있겠습니다~', '데이터가 전달 되는 순서는 리피팅 그룹 -> 셀 안에 있는 그룹 -> 그룹 안에 있는 텍스트로 유추됩니다.', '꼭 공유해주세요!', '에디터 새로고침 후에 플러그인 탭에서 최신버전으로 업그레이드 하시고, 별점5개에 리뷰도 써 주세요 ^', '?', '헐..', '안녕하세요, 클래스101 온라인 강의는 있습니다!', '솔루션으로는 gap 설정으로 세퍼레토로 하지 마시고, 숫자를 둘러싼 그룹에 마진을 줘서 해결하는 방식입니다.', '찬우님이 굉장히 자세히 답변해주셔서 저도 저 방법으로 보시는 것이 제일 정확하고요.', '자식 관계가 아무리 길어도 표현식의 한계가 있진 않습니다.', '말씀하신 플러그인으로 해 봤습니다.', '와우 감사합니다!!', '이건 그다지 좋은 UX는 아닌듯 해요.', '한번 따라하면서 확인해봐야겠네요ㅎㅎ', '연구해보아야겠습니다.', '이따 컴 켜면 바로 하볼게요!', '혹시 그러면 앱 내 결제를 가능하게끔 하는 방법이 있을까요', '혹시 html코드도 버블에 삽입이 가능할까요?', '희철님, 개인적으로 다양한 앱들을 개발하면서 느낀 건..만드는 걸 좋아하는 거랑 운영하는 거랑은 다른 영역인 것 같습니다.', '읽으면서 절로 고개가 끄덕거려 지네요', '아직 초반이지만 잘따라하면서 배우고있습니다', '1. 일단 국내 Youtube 및 동영상강의가 있는 것은 뒤져서 다 봅니다.', '소정님 이부분 저도 정확히 확인은 못해봤는데 버블 워크플로우상 signup/login with API 라고해서 최초 sign up시 권한정보를 저장하고 이 후 로그인 구분처리를 하는게 아닌가 싶습니다.', '해당 이슈 저도 겪어본 적이 있는데요 ㅎㅎ', '자주 사용하는 UI인데 좋은 정보 감사합니다!!', '비용은 딱히버블 구독비용외엔 들지않았고요!', '너무 느려서 암 걸릴뻔 했는데 좋은 방법 알려주셔서 감사합니다 ^^', '궁금한 점이, 네비게이션 메뉴의 경우 반응형으로 height이 달라지다보니, max height을 얼마로 정해야할 지 모르겠는데요.', '확인해보시겠어요?', '정말 많은 이들이 원하던걸 하시는군요~', '디자이너분이 쓰시는 툴로 연결하는 방법이 그것밖에 없는 것 같아서요 ㅠㅠ', '템플릿 주소는 관심 가져 주셔서 감사합니다', 'element를 서로 부모-자식 계층으로 놓이게 만들면 참조하도록 설정하는 부분이 머릿속에서 정리가 안되어 있나봅니다ㅠ', '1. 빈공백은 html 요소를 추가하고 css 스타일 코드를 입력하면 변경이 가능하지 않을까 합니다.', '답변 채택해주시려고 직접 답변 까지 달아주시다니~!', '한번 시도해봐야겠네요!', '발제 참여는 마감됐지만 아직 일반 참여는 가능하세요!', '아쉽지만 버블은 코드 export 지원을 안합니다.', '플러그인 탑재해서 해당 부분 해결했습니다.', '상세 해결 내용은 게시글에 추가해두었습니다!', '예제까지 ㅠㅠ  감사해요!', '너무 좋은 경험을 훔쳐볼 수 있어서 영광입니다', '와 친절한 답변 너무 감사합니다!', '여러 팁들 정말 꿀 정보네용,, 저도 많이 참고하며 개발하겠습니다 ㅎㅎ', \"저는 'make changes to count' 워크플로우만 만들었더니 data 자체가 생성되지 않아서 변화가 없는 것 같네요ㅠㅠ\", '그리고 이 데이터들이 날짜별로 만들어진 거라고 하겠습니다.', '좀 더 구체적으로 어떤 문제인지 알려주셔야 할 것 같아요.', '그런데 접속 할때 따로 아이디 패스워드가 필요하다고 하내요 ㅜㅜ', '1일 1질문이 아니라 10~100질문 하셔도 됩니다.', 'GTM 설치 코드만 활용해서 이벤트를 집계하려 했는데, 둘을 함께 사용하는 방법이 있을지 궁금합니다.', '플러그인 업뎃 했어요 !', '으쌰으쌰!', '핫픽스가 저한테는 조금 혁명이네요ㄷㄷ', '외모는 너무 왜곡되어 나와서 고개를 들고 다닐 수가 없네요,,', '또 좋은 주제로 글 써볼게요', 'Google Drive API 가 제공되기 때문에 API Connecotr를 사용해서 연동 하시거나, 버블 Google Drive 플러그인 중에서 필요한 기능이 제공되는 플러그인을 사용하시면 될 듯 합니다.', \"'HTML' element를 배치하시고 <script></script> 안에 작성하셔도 가능은 합니다!\", '스크롤 액션 이벤트를 사용하고 스크롤 목표 대상으로 전송 버튼을 사용하면 됩니다!', '필요했던 정보인데 감사드려요!!', 'Recursive Scheduled workflows can be a great tool for this.2. Some APIs with longer response times provide the option of receiving the result of the call as a webhook.', '(혹시 채택 버튼이 보이지 않으신다면 알려주세요!)', '위의 CSS 기반으로 짜여진 플러그인이라 사용법은 같은 내용이네요~', '사이트 방문자에게도 보여주게 하고 싶습니다!', '오류코드 401 -> 200 Authentication Failed 메세지만 계속 뜨고 있는데, 어떤 부분을 건드려야 하는지 도저히 감을 못 잡고 (이틀 간 잠을 못자고) 있습니다..ㅠ', '수진님의 방법이 가장 적절할 것 같습니다', '앗 쓰려고 했는데 내리셨나봐요.', '정성이 느껴져서 더욱 좋았습니다', '서버url이라는게 지난번에 질문 내용 답변 드린대로 api엔드포인트 제공하신건가요?', '제가 쓰는 플러그인입니다.', '버블박스 화이팅입니다', '그런데 Zapier가 더 사용은 쉬운것같은데, 유저들 평가는 Make는 조금 더 내가 원하는대로 만질수있다는것 같아요.', '두가지 방법 다 시도해봤는데, 저는 Global State는 어떻게 사용해야할지 어려워서, 말씀해주신 url parameter 활용해서 해결했습니다!', ':)노코드로 mvp를 만들 때 한 가지 솔루션에만 의존하지 않고 여러 노코드툴을 섞어서 핵심기능을 검증해냈다는 점도 인상깊고, 노코드가 주는 가치를 가장 잘 활용하여 스케일업 한 케이스가 아닌가 싶네요!', 'head 영역도 아니었고결국 본문 페이지 내 관련된 다른 엘리먼트 때문이었네요', '오호 서비스 전 과정을 체험해볼 수 있다니 너무 좋은 기회네요!', '혹시 vpn 같은 프로그램으로 컴퓨터의 현재 시간대가 해외로 맞춰져 있는 것은 아닐까요?', '재밌습니다.', '그리고 스터디는 조만간 재개될 예정입니다.', '같은 item(thing)이라면 중복이 되는 듯합니다.', '재은님, 자세한 설명 감사합니다!', '만약 이게 문제라면 이를 해결하려면 url parameter를 사용하면 해결 가능합니다.', '버블만으로도 모두 가능합니다.', '버블 반응형 엔진이 업데이트 되면서 flexbox 개념이 도입되면서 발생하는 이슈인데, 처음 버블을 시작하시는 경우에는 강의를 따라하신 대로 작업이 되지 않아서 많이 고생하셨을 듯 합니다.', '(놀면서 틈틈히한거지만) 다만 저희가 좋아하는 분야다보니 재밌게했었습니다. ㅎㅎ', '벌써 수요일이라니...', '그래서 search group element로 사용하려고 하는데, 해당 주소 검색 창 사이즈를 조절할 수 있나요?', '혹시 Do a search for...안의 하단에 ignore empty constrains를 체크해 보시겠어요?', '다시 한 번 감사드립니다!', '관심 가지고 있는 주제입니다.', '고독함..', '공유 감사합니다.', '디자인과 레이아웃 깔끔하고 좋은 것 같습니다 ㅎㅎ', \"'make change to ~'에서 미리 생성한 'count' 데이터를 선택하셔서 첫 번째 데이터를 지정해야 잡힙니다.\", '그런데 모두싸인에 문의해보니 직접 연동하는 것은 zapier만 가능하다는데, 모두싸인 API만 가지고도 버블 직접 연동이 가능할까요?', '해치하이커님한테 여쭤보시는 게 빠를 것 같아요.', '공고는 언제 하나요', \"약간 복잡하긴 한데 다른 내용이지만 'local storage'를 활용해 최초 1회 방문자에게만 팝업을 띄우는 기능을 블로그에 정리한 게 있네요.\", '노코드를 창시하진 않았지만 믿고 좋아하던 분야가 이렇게 성장하기 시작하니 팬덤같은 느낌의 뿌듯함(?)이 있네요.', '저는 애드센스 광고로 하려고 했는데 디스플레이 광고로도 가능하다는 것을 이제 알았네요.', ':) 살펴볼게요 ㅎㅎ', '이거만알면 바로 강의듣고 공부시작하려고했는데 바로답변주셨네요!!', '이외의 해결방법은 다운로드받은 파일의 인코딩조건을 바꿔서 다시 저장하는 과정을 거치는 수 밖에 없었습니다.', '넵 감사합니다!', '감동이네요.', '웰컴입니다.', 'bdk 열심히 더 파봐야겠네요!', '만약 parent group이 cell의 데이터를 물려 받았다면, parent group으로 데이터를 불러서 사용하시면 됩니다.', '며칠 전 개인적인 서비스를 오픈(카톡 버블사용자 커뮤니티에서 언급)했는데,, 쇼케이스에는 올릴 수 없는 사정이 있어,,', '버블이 조만간 따라할지도 모르겠는데요?', '다만,- 결제 payple pg를 고객 데이터와 연동 - 채널톡 고객 데이터를 crm데이터와 연동이 부분은 페이플가 채널톡이 고객 데이터를 외부에서 사용할 수 있게 api를 제공해주는지 확인해봐야 할 것 같긴해요!', '좋은 프로젝트 공유 감사합니다!', '항상 도움만 받는 것 같아서, 저도 도움을 드리고 싶었습니다.', '버블도 API connector를 통해 연동이 가능합니다.', '확인시 주소 보내 드리겠습니다.', '성심성의껏 답해준 그레고리에게 한국의 피드백도 전달해주고 싶네요 ㅎ', '하나 배워갑니다', '플러그인 중에 moment.js를 사용한 것이 있긴 하던데.', '정말 희철님 덕분에 노코드라는 것도 잘알게 되고 빌드캠프도 추천받아서 코스도 들으면서 열심히 하게 됐네요.', '재은님 말씀대로 하시면 됩니다.', '2번의 경우 Swipe Slide를 위해서는 Single Page App으로 구현하는 것이 필수인 것으로 이해했는데 맞을까요?', '중복이 된다는 건 실행 과정에서 2회 이상 동작한다는 건데...', '꼭 필요한 기능 중 하나였는데 정말 감사합니다!', '대표님 글보고 용기내어 봅니다', '희철님 덕분에 해결했습니다!', '분리되어 있는지 몰랐네요!', '신청했습니다.', '관련링크 클릭해보니!', '보시면 도움이 될 거 같아요', '아마 단수형, 복수형의 차이가 아닐까 싶은데요.', '말씀하신대로 처리하시면, input 엘리먼트에 포커스가 발생할 때 Input 엘리먼트들의 값이 초기화되는 문제가 확인됩니다.', '직접 개발자분께 문의해보니 굉장히 높은 수준의 개발 스킬을 요구하는 작업이더라구요ㅠ', '화이팅하세요~', '예약날짜 원하시는 달력 보실 수 있을거예요.', '버블로 입력폼을 직접 만드셔서, 계좌인증 API를 연동하셔야 됩니다.', '지금 넣으려고 하는 사이트의 경우 유저를 따로 로그인시키지 않는 경우가 많습니다!', '저도 똑같은 문제로 골치아파서...', '우선 dalle api 연동까지는 하셨나요?', '장기 연재 해주셔도 좋을 것 같은데요', '혹시 매일 출석하면 클래스101처럼 상품응모하는 기능도 추가한다면 어떨지 제안해보네요.', '3. 테스트과정에도 또 다른 메세지가 나타났는데요..', '감사해요 ㅎ!!', '원했던 기능이 드디어 생겼군요 ㅠㅠ', '무모하게 시작했지만, 충분히 가능하다고 봅니다.', 'mmmmm', '이게 제가 질문을 잘못한것같아요', '4주든 5주든 6주든 바뀔 경우 반응형으로 적용하는 방법입니당', '하하 이게 뭐라고...', '이런 사례들이 공유되고, 그리고 국내에서도 크고 작은 사례 하나 하나가 쌓여가면서 이제 ‘노코드로 개발할래요’ 라는 말이 들려오기 시작하네요.', '바로 업보트 했습니다!', '주상님 :)', '댓글 채택하려고 하는데 뭐 눌러야 하나요? ㅎㅎ', '답변 주셔서 감사합니다.', '워크플로우에서 어떤 조건이 성립할때까지 계속 반복되는 기능을 못찾겠어서요.', 'kakao developers에서 동의항목등 수정사항이 있으면 즉시 반영되는것이 아니라 수시간 걸리는 것이 문제였네요!', '도움주셔서 감사합니다!', '모달로 올라오는 건 어떻게 구현하신건가용~', '영광입니다 ㅜ', '좀 더 부딪혀보고 디테일한 문의가 필요하면 다시 여쭤보도록 하겠습니다!', '제가 참고한 레퍼런스는 다음 유튜브 영상이었습니다~', '하희철님.', '서로 페이지를 새로고침 하지 않고 채팅창을 띄워놓은 상태에서 채팅을 할때에는 안되는 걸까요~?', '역시 또 새로운 프로젝트를 시작하셨군요!', '허락해주시면 저도 좀 쓰고 다니고 싶습니다. ㅋㅋㅋ', '2. 현재는 Bubble 공식 계정의 Tutorial 을 영어로 듣고 있습니다.', '노코드로 개발하는 것에 대한 아이디어나 개요, 구성 등을 짜줄 수는 있겠지만 이를 완전히 대체하지는 못할 것 같아요.', '얼마전에 성공적인 Bm의 조건이었나요?', '그럼 질문하신 태연님이 답변도 채택하실 수 있어요!', ':)영문자료이지만 보시면 도움이 되실 듯 합니다.', '아마 위에 문제를 해결을 못해서 그런 것 같기두 하고 아시는 분 있으실가요?', '내용정리 완전 감사합니다 !!!!', '오픈하시면 꼭 쇼케이스에 홍보해주세요 ㅎ', '그러게요', '실개발과 버블/노코드는 비슷하지만 다른 점들이 꽤 있는 듯 합니다.', '그리고 delete 액션에서 해당 커스텀스테이트 값을 불러와서 삭제하시면 되구요!', 'HTML 나와있는 메뉴가 없어진거 같네요 ㅠㅠ', '다만 처음엔 잘 안되고 step by step 으로 했을 때만 작동하더라구요..', '많이 활성화될 수 있게 홍열님이 많이 활동해주세요!', '트렌드를 짚을 정도는 아니고요.', '정말 감사합니다 ! ㅠㅠ', '거의 똑같습니다.', '2 각 요소(엘리먼트)의 이름을 잘 지을 것#5 시간을 아끼려면, 간단하게라도 디자인 시스템을 만들 것', '요즘 외주개발 하시는 분들중에 노코드 버블로 외주개발을 하시는 분들이 점점 생겨나고 있습니다.', '관리자만 보는 걸까요?', '늘 해드리는 말씀이지만 버블은 버블만 마스터한다고 원하는 프로덕트를 만들 수 있는 툴은 아닙니다.', '본문을 수정했는데 헤드 영역이 문제인거 같아요', '맞다면 세팅 방법 좀 알려주실 수 있으실까요?ㅠㅠ', '오 소정님 방법대로 유저의 반응 데이터로 로직을 잘 설정하면 비슷하게 구현 가능할것 같습니다', '헉,, 해당 유저가 쓴 리뷰 모두가 사라져 버리네요.', '민교님 하신 방식도 너무 좋은데요?', '감사합니다~', '버블 관련 여러 유튜브나 매뉴얼을 찾아보고 있는데요.', '혹시 저만 모르나싶었네요~', '3. 해당 워크플로에서    1) 공고테이블에 1개의 row를 입력하고   2) 요청업무테이블에 첫번째의 row를 create a new thing으로 입력한 이후   3) 2번의 과정을 10번 더 세팅해야하나요?', '모두의 노코드 화이팅!!!', '따라서, 버블에서 수정하면 브라우저 새로고침하거나 서비스를 다시 로딩하면 되듯이 특별히 다시 배포할 필요가 없습니다.', '추가* 기존 gtag의 ID 구성을 아래와 같이 변경 할 수도 있다고 합니다.', ':) 매주...는 저희가 너무 힘들고 ㅠ 매월 진행하고 있습니다!', '저도 많은 분들 쫓아다니며 배우겠습니다', '좋은 정보 공유 감사합니다.', '우선 버튼이나 텍스트로 만들어보고 있긴한데 각파트를 누르면 필터적용을 위한 팝업을 노출시키려고 하고있습니다.', '희철님...', '앞으로 버블이나 노코드 하시면서 궁금하신 점이나 도움이 필요하면 언제든 커뮤니티 멤버들과 함께 해주세요.', '내공이 정말..엉청나시네요,.', '감사합니다 ㅠㅠ', '혹시 이 부분에 대한 조언을 얻을 수 있을까요~?', '해결하셨어요?', '버블 교육 시 수강생들에게 어떤 걸 중점으로 가르치는지?', '우선 혼자 독학하시는건 정말 힘들거에요', '덕분에 좋은 툴 많이 알게되었네요.', '와,, 재은님 저번에 잠깐 이야기 나눴을 때도 깊이가 남달라 보였는데 이런 날 것의 경험까지 나눠주시다니 너무 감사합니다', '버블 API Connector -> 외부 백엔드 API (실개발) -> 알리고 서비스 API', '해당 부분 파라미터 어떻게 입력하셨는지도 알려주실 수 있을까요?', 'UTF-8로 저장하는데도 깨지나요?', '하지만 여러군데 db에서 읽어오는 것보다 새로운 db여도 한 군데서 읽어오는 게 낫습니다.', '새벽에 글을 써놓고 다음날에 부끄러우면 어쩌지 했는데 마음이 따뜻진지네요', '입문자 대상이기 때문에 너무 큰 기대보다는 응원 부탁드릴게요 ㅋㅋ', '리스트로는 그럼 드롭다운을 하기 어려운가요?', '혹시 버블 오픈챗에 달린 찬우님 답변으로 해결이 되셨을까요?', '한 가지 질문을 드리려고 합니다.', '그리고 데이터의 privacy rule은 누구에게 데이터를 보여주거나 검색이 가능하도록 할 것인지를 설정하는 곳입니다.', '이 문제는 답변 받으신 것처럼 버블 측에서 타임아웃 시간을 설정할 수 있도록 해주는 방식으로 해결을 안해주더라고요.', '이해했습니다', '민교님의 글은 늘 정독하게 됩니다.', '그러면 제 생각엔 플러그인이 업데이트가 안된 것 같습니다.', '한 번 더 봐주시면 감사하겠습니다!', '이걸 A to Z까지 다 하셨다는게 너무 대단하세요', '혹시 튜토리얼이나 예시는 없을까요?', '저도 써보고 후기 공유드릴게요', '제노를 이용하는 것이 버블 DB를 리용하는 것보다 속도는 어떠한가요?', '1. Data 탭에서 option setting으로 이동한 후에 리커드 척도 옵션을 만듭니다.', '요즘엔 너무 고도화된 앱에 익숙해져서 \"MVP\"의 기준에 예쁜 디자인이라던가 완성도 있는 UI/UX를 기본으로 깔고 가는 경우가 많은데, mvp란 자고로 이렇게 시장검증에 완전히 포커스된 프로덕트가 아닌가 다시한번 생각이 들게 하는 프로젝트네요.', '결론부터 말씀드리자면 기존 레거시(자료나 유저 데이터 등)가 있는 게 아니라면 아직은 버블이 나을 겁니다.', '그리고 SPA로 앱을 만들 때 각 그룹을 잘 나누고 reusable element로 작업하는 게 좋습니다.', '특히 용준님처럼 경험에서 우러나오는 찐 인사이트가 중요하지 않을까요!', '감사합니다 ><', '안타깝게도 국내는 고사하고 해외에서도 아직 버블 관련 책은 없습니다.', '저도 개인적으로 처음 배우면서 프로젝트를 하나 만들면서 사실 제일 겁먹었던 것이 DB였습니다.', '사실 답을 드리고 싶었지만 저도 그냥 어린아이처럼 따라한 수준이라 원인을 모르겠지만 디버그 모드로 들어가서 스텝 바이 스텝으로 value 확인해보시면 분명이 어느 지점에서 값이 들어왔다가 안들어오신걸 보실 수 있으실 것 같아요!', '대단하시네요~', '잘 해결되셔서 다행입니다', '추가적으로 스토리지 서비스에서 CORS랑 접근 권한 설정을 별도 해주셔야 할거에요.', ':) 소정님이 훨씬 대단하십니다!', '잘 해결 되었습니다^^', '재은님 희철님 답변 넘나 감사합니다!', '아직 버블 서비스경험이 없어서 데이터베이스 설계할 때 Embed, Refer 중에서 어떤 방식을 사용할지 고민하게 됩니다.', '감사합니다. ~!', 'PC?', '희철님도메인 변경 후 ads심사 승인되었습니다.', '400 오류: invalid_request종합적으로 지금 상황은 구글로그인은 정상적으로 진행됨.다만, 기존에 로그인했던 계정을 버블DB에서 삭제후 재가입을 진행하면 오류가 생김.', '해결책을 찾으셨다니 다행입니다.', '그리고 관련된 문제는 저도 시간날때 같이 해볼게요', '많은도움되었습니다.', '늪에 빠지게 됩니다.', '검색하다 찾던게 나와서 너무 반가웠습니다.', \"OO학교 A반의 학생들을 불러올 경우, 리피팅그룹 데이터타입을 '학생'으로 두고,Do a search for '학생' constraint (반 = A반)이런 식으로요!\", '타이틀 너무 좋은데요?', '조금만 더 자세히 알려주시면 감사합니다 ㅠㅠ', '-_-;;;노코드로 전환하신 이유가 매우 공감이 됩니다~', '역시 그렇군요', '아무래도 아직까지는 오픈카톡방이 더 편하신 것 같아요 ㅠ', '플러그인을 만드는 방식을 조만간 블로그로 작성해서 공유할 예정입니다', '헉 지방입니다.', '항상 도움주셔서 감사합니다!', '버블로 뭔가를 만들어보니 대체 모두의노코드에는 얼마나 많은 노력이 들어간 것인가 아찔해지는데, 저렇게 배려없는 댓글을 쓰다니 참 그렇네요.', '프리뷰가 안 되니 수정을 못하고 있네요.', '해결됐다니 다행이네요', '따라하다 보니 두 가지 어려움이 있어 여쭤봅니다', '제 블로그 글을 옮겨온거라 가독성이 좋진 않은데 틈틈히 수정해서 더 깔끔하게 만들어보겠습니다.', \"보니 저와 다른 점은 set statement의 element에 'group response'를 넣으셨는데 저는 내가 지정한 아웃풋박스 이름을 넣은 점인 것 같습니다.\", '기획은 사실 금방했는데 초안 만드는 건 2~3주 정도 걸린 것 같고 QA까지 하면 넉넉하게 4주 걸린 것 같습니다.', '그래서 Basic / Personal Pricing의 경우 자원 캐파가 매우 작을 거에요.', \"1)progressier 계정에서 보내는 테스트 푸시와 2)버블 내 플러그인으로 기능 구현하여 보내는 푸시 모두'브라우저가 백그라운드 재생'이거나 '기기 화면이 잠금 상태'일 때 수신을 하지 못하고 있다가, 브라우저를 실행하면 밀려있던 푸시가 한번에 수신됩니다.\", '예전에 잘 정리된 한글 자료가 많이 없어서 유튜브를 참고했던 기억이 있는데, 한글로 정리해주시니 너무 좋네요!', '그럼 수정 버튼에 condition을 줘서 사라지게 하면 뒤 저장 버튼이 수정 버튼 자리로 갈겁니다.', \"2. Input 엘리먼트 initial content에 JavascriptBubble getAddress's value 를 넣었는데 에러코드로 Initial content should be geographic address but right now is a empty 라고 뜨네요 ㅠㅠ\", '그리고 아래 URL부분에 제가 위에 적어드린 코드를 복붙하시면 됩니다.', '한두개가 될수도 있고 백개가 넘을수도 있습니다.', '이번에 처음 버블로 작업을 하면서 효과적인 개발방식에 대한 고민이 계속 있습니다.', '현재 아직 레거시(예전 버전) 요금제 이용하고 있습니다.', '사이즈가 fixed 돼있어서 그랬던것 같아요.', 'JavaScript의 내장 API인 Intl의 RelativeTimeFormat도 추천합니다.', '같은 방식으로 다른 옵션들도 추가합니다.', 'custom state를 list 타입 text으로 생성하여 여러 개 되는 형태를 해놓고 is in 써서 여러가지 검색 조건으로 해결하였습니다.', '스터디라는 게 어떤 한 사람의 강의나 교육이 아니라 함께 연구하고 학습하면서 성장하는 방식이니까 굳이 리딩할 사람을 찾으시기 보다 직접 리딩을 하시는 것도 좋을 것 같습니다', '저 충성고객이었는대ㅠㅠ', '혹시 코드를 어디에 넣으셨는지 알 수 있을까요?', '좋은 말씀 주셔서 다시 한 번 감사드리고요.', '어렵네요 ㅜㅜ', '굉장히 다양한 기능을 위젯 형태로 제공하는 것 같습니다.', '코알못은 웁니다 ㅋㅋ 모두의노코드는 조건식으로 구현했습니다.', '용준이형과 함께 응원하겠습니다!', '정말 감사합니다~', '저도 파일들을 그나마 아이클라우드에 모아서 관리하는데 카톡이랑 메일에 흩어져있는 정보는 찾기 힘들 때가 있는데 빨리 성장하셔서 카카오톡도 가능하길 바래봅니다,,', '좋은 정보 공유 감사드려요!', '도움 되라고 만든 커뮤니티니깐요.', '아마 버블에서도 개발자가 여러 명이 한 프로젝트를 같이 할 경우를 대비해서 만든 것 같아요.', '팝업에서 값을 넣으면 각 파트별로 값을 노출시키구요…!', '한 명이서 다 하는 거면 사실 크게 좌우하진 않아 보이고요.', '이미지 크기가 크지 않도록 제한하고 압축하는 프로세스 -> 로드 개선복잡한 워크플로우를 백엔드 API로 돌리는 작업 -> 프론트엔드 체감 속도 개선_x0008_이 있습니다.', '답변 감사합니다!', '데이터를 저장하는 설정 내역과 표시하는 텍스트 요소가 어떤 식으로 지정되어 있는지 보여주시면 좋을 것 같습니다.', '뭘 골라야하나 고민중입니다..ㅎㅎ', '죄송합니다..', '다행히 이번에 그런 문제였던 거 같네요.', '잘부탁드립니다', '저도 해결되면 공유할게요^^', '자신이 아는 것에서 하는 것으로 그리고 그걸 확장해서 또 다른 가능성을 보는 노력.', '많은 도움이 되었습니다.', '항상 엘리먼트 수를 최소화할 수 있도록 살펴봐야 합니다.', '희철님 감사합니다!~', '뭐라도 당장 시작해야지 하는 결심이 드네요.', '쉽지 않은 문제라서 엄두가 나지 않았던 기억이 납니다.', '업보트까지 해주시고 감사해요.', '오오 바로 성공했다니 대단합니다!', '많은 도움 되었습니다.~~~~~', '근데 이야기를 들어보면 앞선 분들은 다들 영어로 공부하신 것 같습니다.', '나중에 수정할 때를 생각해서 조금더 고민해 보고 있습니다.', '결국 개척해야하는군요 ㅜㅜ', '모노데이 역사상 첫 공식 후기에요!', 'Toolbox를 사용해서 자바스크립트로 구현한다면, moment.js를 활용해보는 것도 좋을 듯 합니다.', '현재까지도 열심히 하고 있는 모습이 넘 대단하신거 같아요!', '폴리미 가입만 하고 글 써야지써야지 하고 있었는데 바로 피벗하셨네요.', '외주 전문 에이전시는 있지만 버블 유지보수만 전문적으로 해주는 곳은 아직은 찾기 어렵지 않을까 싶습니다.', '참고로 아래는 제가 쓴 CSS코드입니다.', '혹시 방법 아시면 답변 부탁드립니다!', 'A, B 그룹이 사실 2개가 아니고 상황에 따라서 바뀌는 거라 다른 방법을 찾고 있었는데, 답변해 주신 내용 보고 깨달은게 가능한 그룹의 개수는 정해져 있어서 모든 그룹에 대한 스테이트를 만드는 걸로 개발 중입니다.', '이런건 열심히 자랑하셔도 돼요!', \"이어지는 질문으로,, '좋아'나'싫어'를 취소한 경우 '.. remove current User' 로 해결했는데, 선택시 함께 작성한 '후기글'도 함께 삭제하려면 어떻게 해야 할까요?\", '경험에서 우러나오는 정말 좋은 글입니다', '유용한 기능 개발해주셔서 감사합니다!!', '모두의 노코드 사이트는 잘 동작하는 것 같은데, 어떻게 설정하신건지 궁금합니다!', '해결 되셨다니 다행입니다.', '이런거 볼 때마다 버블이 더 잘됐으면 좋겠네요 >_<', '앞으로도 꾸준히 공유해볼게요', '해치하이커님께서 말씀해주신 것 다 확인해봤는데 문제점을 전혀 모르겠습니다ㅎㅎ..', '시간이 좀 지나셨나요?', '희철님 덕분에 가능했습니다 !!!!!!!', 'zapier는 자동화를 쉽게 해 주는 툴이니 그렇고요.', '하지만, 쓰면 쓸수록 결국 버블입니다.', '오, 회원가입 단계에서 왜 이메일이 디폴트로 되어있는지 의문이었는데 중요한 이유가 있었군요!!', '이 외에도 사실 팁은 많을건데요, 참고하셔서 개발 시 검토해 보시면 좋겠습니다.', '매일 심리상태를 체크하고 조언도 해주는 앱,,느낌이 좋습니다.', '데이터 소스는 컨테이너나 페이지에서 데이터를 지정하기 위한 표현식이라서요.', '반영하였습니다.', '플러그인은 코딩으로 제작하신건가요', '약간 이해가 되지 않아서 그러는데 혹시 이미지 상으로 보이는 부분이 리피팅 그룹이 아니고 일반 요소인건가요?', \"댓글확인이 늦어서 아직까지 유효하신 지 모르겠지만 답변을 드리자면 '제3자 정보 제공동의 팝업'은 카카오톡 api 응답을 받고 카카오 로그인페이지에서 로그인이 완료 될때 동작합니다.\", '새해 복많이 받으세요~', '그래서 주형님이 답변하신 대로 따로 숫자 타입의 필드로 카운팅을 하고 그걸 토대로 소팅하시는 것이 최선의 방법이라고 생각해요.', \"비밀번호 재설정 메일에서 '애드샐러드'라고 워딩이 들어갔네요.\", '바로 적용했습니다.', '대단합니다.', '버블로 one page app으로 할 때는 slug는 사용 할 수 없는걸까요?', '그런 후 선택은 커스텀 스테이를 이용해 선택하고 4번을 누르면 그 다음 채틸 페이지에서 커스텀 스테이트 내용을 불러오면 될 것 같습니다.', '뉴스레터에 넣어주시다니!!', '나기문님 안녕하세요!', '노코드의 경우 보안이 취약하다는 얘기가 있어서 여쭤봅니다.', '와우 꼭 보겠습니다.', '작년 전반기까지만 해도 , ‘노코드라는 걸로 개발해요’ 라는 말이 뭔가 부족한 기술로 만든다는 것 마냥 부끄럽게 느껴지곤 했습니다!', '소정님 답변 감사드립니다!', '아직 부족한점이 많습니다ㅎ', '버블 강의 런칭 축하드립니다!!', '도움 주셔서 정말 감사합니다!', '설정 바꾼거 한개도 없는데..', '답변 감사드립니다!', '그러면 누군가 좋아를 누룰때마다 [좋아]라는 테이블에 유저들이 필드값으로 쌓여갈테구요.', '1. 이메일 인증 액션 이벤트를 자체적으로 제공합니다.', '1. bubble_fn<strong><i 항목에 setPostcode, setAddress를 각각 입력하라고 하셨는데, bubble_fn<strong><i 항목이 무엇인지 몰라서, 혹시 bubble_fn_suffix랑 같은 것일까요?', '유료입니다만, HTML5기반이라 동영상으로 할 수 있는 것은 모두 가능합니다.', '오픈챗에서 남겨주시는 내용들 보면서 많은 영감과 도움을 받았는데, 관심 가져주시니 영광입니다 ㅎㅎ', '방지하는걸 넣었습니다.', '저도 처음에 조금 헷갈렸던 이슈로 엄청 고생하셨네요.', '제가 플러그인을 그대로 가져다쓰다보니 정확한 구조 설명이 어려워서 이해하기 쉬우시도록 사진을 추가적으로 더 첨부했습니다.', '저도 좋은 사례들이 있는지 열심히 찾아봐야겠습니다!', '아무튼 답변 감사합니다. ^^', '무엇이 문제인지 정말 모르겟습니다..', '네네 맞습니다!', '영상 감사합니다.', '저도 Jasonelle Framework로 작업해본 적은 없어 답변을 못 드려 너무 아쉽네요ㅠ', '아하.', 'GA4 플러그인 쓰곤 했는데 이렇게 간단하게도 그냥 연동되는군요 !', '제가 이해하기로는 아마 최대 11개 까지의 input 필드가 준비되어야 하고, 작성자에 따라 11번까지 채울수도 있고 또는 중간에 마칠 수도 있다...', '이런 글을 볼 때마다 모두의노코드를 만들길 잘했다는 생각이 듭니다.', '이 부분은 버블 html 엘리멘트 문제일 수 있다고 합니다.', '1픽셀 단위까지는 다이나믹하게 지정하긴 어렵습니다', '복잡한 백엔드 기능을 구현한 사례로 아주 좋은 교재가 될 것 같아요.', '알려주셔서 감사해요!', ':) 스포일러 제거하시느라 고생 많으셨어요 ㅋㅋㅋ', '한참 dev버전 작업중인데 갑자기 live에 뭔가 치명적인 문제가 생겼을때..!', '다시 한번 상세한 조언과 팁에 깊은 감사의 말씀을 드립니다!!!', '좋은 스토리 공유 감사합니다.', '다행입니다', '그냥 크롬 새 탭에서 저 것을 주소창에 치면..', '로그인 딜레이 관련해서 문의드렸던 수강생입니다.', '보니까 data type이 text로 되어 있는데 json으로 바꿔서 해보시겠어요?', '2. Attribute로 기본 존재하는 display 외에 Point를 추가합니다', '리피팅 그룹 안의 요소가 아니라 리피팅 그룹 혹은 감싸고 있는 부모 그룹에 스테이트를 지정해주세요 ㅎㅎ', '지금 가장 막히는 부분은 그룹으로 만들어진 동일위치에 다른 속성의 Eelement를 배치하는 작업과정중에 겹쳐진 그룹속으로 element가 쏘옥 들어가버린다는 부분이에요 ㅠ ㅠ', '실제 핸드폰에서 확인할 때도 나타나는지 확인해보세요', '한국어 자료가 워낙 한정적이라서요.', '멋진 프로덕트 소개해주셔서 감사합니다', '화이팅', '워크튠 홍보 많이 해야겠어용 ㅎㅎㅎ', '그리고 노코드의 한계를 말씀하신 것도 공감이 됩니다.', '저는 경험상 중복값이 리스트로 만들어진적이 있어서워크플로우상 add와 set 등의 연산자의 문제 일수도 있을 것 같습니다\"!', '항상 좋은 답변 감사드려요!!', '아직 구체적인 계획은 없습니다.', '2. 정렬 기준을 별도 설정하지 않으면 각 행의 생성일시를 기준으로 자동 정렬이 됩니다.+', '4. 컬러피커는 플러그인도 많기도 하지만 이건 버블에서 custom state를 이용해 만들면 됩니다.', '혹시 Scroll to entry 이벤트를 말씀주시는 걸까요~?', '이쪽에 노출되려면 아마 버블 측에 문의하셔야 될겁니다.', '모든 페이지에서 해당 페이지에 대한 최상위 그룹을 하나 생성하고 그 그룹에 최대값을 입력해주는 형식으로 페이지 사이즈를 조절할 수 있겠군요.', '우선 쿠팡파트너스만 HTML로 달아봤습니다.', '네 엔드포인트 제공했습니다!', '나중에 완성되면 꼭 소개해주세요~', '헛 제가 도움 드리기 전에 직접 해결하셨는걸요 ㅎㅎ', '사용자 경험을 보면 초기 로딩 시간은 다들 잘 기다리더라구요~^^', '좋은 시간이었습니다.', '정말 너무 감사해요~~~', '응원합니다~', '(제가 못하는 걸 수도 있지만요)', '리피틴 그룹 설정을 잘 해도 그룹 설정을 제대로ㅜ안 하면 그럴 수 있습니다.', '흔들리지 마세요. ^^', '아하 그렇군요.', 'API로 전달드리면 인증이 걸려있는 경우 API키만 전달드리면 될텐데...', '코드를 직접 구현하고 싶다면 아래에서 js nodejs 글을 봐주세요', '그리고 제품 상세 페이지에서는 리피팅 그룹을 이용해 저장한 DB의 값을 불러옵니다.', '비슷합니다!', '1. 구글로 첫번째 로그인을 진행하면 문제없이 진행되다가, 테스트과정에서 회원 계정을 삭제하고 재진행하면 문제가 생깁니다.', 'Search Box를 쓸 경우 박스가 비어 있으면 리피팅 그룹 리스트가 표시 안됩니다.', '필드가 하나이면 그런식으로 처리하면 노가다 할 필요 없겠네요!', '보통 그런 경우가 많았어요 ㅎㅎ', '의견 감사드립니다.', '갑자기 맘 속에 리스펙이 넘쳐나서 디스콰이엇에 찾아가서 업보트눌렀어요 .. ㅋㅋㅋ', '아직 free플랜이라 안되지만 나중에 배포한 후에 확인해 보겠습니다!', '올려주신 에디터 그림만 봐선 정확한 이해가 어려워, 혹시 구현하고자 하는 최종 결과물을 간략하게 보여주시면 도움 드리기가 수월할 것 같아요~', '필요한 기능을 위해 힘써주셔서 감사합니다.', '그리고 버튼 A의 역할이 정확히 뭔지 모르겠습니다.', '세상에 민호님 직접 부딪혀 깨달은 인사이트 공유 너무 감사하네요', 'Daum 우편번호가 실행될 HTML 페이지 내에 <script src=\"//t1.daumcdn.net/mapjsapi/bundle/postcode/prod/postcode.v2.js\"></script> 이 포함되어 있어야 아래와 같은 코드가 실행이 가능합니다.new daum.Postcode({    oncomplete: function(data) {      // code....    }  }).open();HTML 페이지 내에 Daum 우편번호 javascript SDK를 포함시킬 수 있는 방법은 몇가지가 있습니다.1. 유료플랜을 사용하시는 경우에는 Settings >  SEO / metatags > Script/meta tags in header 또는', '모바일웹으로 들어가서 테스트결제하면 잘 되어요,,,', '개발 언어를 말씀하셔서 혹시 그런가 싶습니다.', '또한, 페이지 내에 여러 요소들을 넣다보면 에디터 속도가 느려지는데 이럴 때 각 엘리먼트를 리유저블로 바꾸어주면 에디터 로딩 부하를 줄여주는 효과도 있습니다.', '많은 툴 중에 버블을 선택한 이유는?유튜브를 보면 버블로 특정 기능을 개발한 게 많은데 이런 것들을 어떻게 연구하고 제작하는지?비개발자가 버블 실력을 빠르게 올리려면 어떤 것부터 시작하면 좋을까?', '답변달아주셔서 감사합니다', '궁금함이 마구 샘솟는 주제네요.', '플러그인도 한번 사용해봐야겠네요', '항상 도움 주셔서 감사합니다!', 'edu.dokdok.co 저희 서비스도 이렇게 운영중에 있습니다.', '모두의노코드가 점점 공유의 장이 되어 가는 것 같아 뿌듯한 1인 입니다,,', '(다른 비슷한 고민을 하는 누군가에게 도움이 되겠죠?!ㅎㅎ)', '아래 링크의 템플릿을 구매했습니다.', '라이브 데이터베이스에도 데이터를 넣어두셨나요?', '질문을 너무 늦게 확인했네요 ㅠ', '그런데 제가 이해한게 맞다면 결과값이 고정값으로 저장되어야 하는 방식일 것 같아요.', '저거 보셧을때는 문제가없나요?', '중간에 API헤더 구성 외에도 햇갈리는 지점이 몇개 더 있어서 이 부분까지 정리해서 조만간 후기로 올려보도록 하겠습니다.', '너무 디테일하게 도와주신 덕분에 완전 해결했습니다!!', '너무 귀염뽀짝합니다. ㅎㅎ', '8. 워크플로우 커스텀이벤트 활용하기다른 버튼이지만 같은 기능, 즉 워크플로우를 쓰는 버튼들은 각각 따로 만들지 말고 custome event를 만들어 모아주는 게 좋습니다.', '다음 시리즈 기대하겠습니다!', '알아보겠습니다 ㅎㅎ', '근데 어떤 상황인지는 모르겠으나 그냥 앞뒤배열 케이스를 두 개 만들어 놓고 조건에 따라 show and hide 처리하는 게 더 쉬워보이기도 합니다', 'CSS 하나도 모르는지라 이런 정보가 너무 든든합니다.', '그러면 민교님께는 채택 포인트가 전달되고, 정민님은 답변 채택율을 100%로 유지하실 수 있습니다!', '대표님 ㅎㅎ멀리서나마 계속 응원합니다.', '오래전에 모 통신사 소속으로 비슷한 프로젝트를 진행했던 기억이 있습니다.', '400이 뜨지 않는 걸로 봐서 아마 버블 에러일 것 같은데 그래도 모르니 혹시 api엔드포인트를 웹브라우저 주소창에 넣으면 결과가 나오나요?', '적용되기까지 몇시간 걸리기도 합니다', '정말 고생많으셨겠어요!', '가지치기를 해주면 나무 전체가 골고루 영양분을 흡수하고 햇빛을 받아 균형 잡힌 성장과 더 좋은 열매를 맺을 수 있겠죠.', '화요일 정기일정이 있어 어렵습니다.', '코드창만 봐도 눈이 어지럽습니다 @_@', '이제 막 오픈해서 드라이브할려는 서비스에 굳이 익명으로 굳이 이런 게시글을 남기시다니완벽추구를 지향하는 것 같아 보이는 작성자님께서 만든 산출물이 매우 궁금하네요.  ^^', '+ 로그인 되어있는 유저도, 되어있지 않은 유저도 셀 수 있는 방법이 따로 있을까요?', '버블 오토바인딩 궁금하신 분들은 모두 이 글을 봤으면,,', '토스 페이먼츠에서도 정기 결제 가능합니다!', '완성되시거든', '안녕하세요, 희철님!말씀주신대로 해보니 확인되었습니다', '이게 아무래도 제가 자투리 시간에 하다보니 각잡고 하는 것보단 오래 걸린 것 같아요.', '화이팅입니다!!!', '항상 감사합니다', '@박재은 답변 고맙습니다.', '예를들면 카카오톡이라던가 결제모듈연동등 버블내 플러그인에서 지원이 되지 않는 것을 만들때입니다.', '이름과 전화번호 모두 매칭되는 유저가 1명 이상 나오면 워크플로우 로그인을 하는 겁니다.', '저도 팀 매니지먼트 차원에서 생각만 해두고 있었는데 준호님 덕분에 지금 당장 버블 열어야겠습니다 ㅋㅋㅋㅋㅋ', '제가 만든 폴리미( 같은 경우에 게시물이나 유저프로필 조회수는 이런 식으로 구현해놓았거든요.', '상세한 설명 감사드립니다!!', '알려주신 방법으로 시도해보겠습니다', '현재 버블db로 처리하고 있는데 속도가 버거워지는게 느껴지네요 ㅠㅠ', '개발자가 아니라가 좀 어렵네요 ㅋㅋㅋ', '좋은 쪽으로 이슈가 났으면 좋겠는데 괜히 많은 분들 눈살 찌푸리게 만든 건 아닌가 괜스레 미안합니다.', '아무래도 서브도메인이라 그런 것 같습니다.', '와, 이런 꿀팁들은 경험으로 나오는거겠죠?', '믿기지가 않는군용 ㅠ', '2. 혹시 구글 로그인을 했던 정보가 어디엔가 남아있어서 버블 DB에서 삭제한다고 끝이 아니게 되는 상황이 발생할 수 있나요?', '좋은 사례 공유 감사합니다.', '다시 영상이 올라온다니 벌써 설렙니다!', '그래서 전반적인 IT지식과 개발 이해도를 높이기 위한 학습도 병행하는 것이 필요합니다.', '이거 정말 볼수록 전문가가 만든 프로젝트라는 생각이 듭니다. ㅋㅋ', '왈라 측에서 버블로 보내는 모든 response를 배열 형태로 보내주도록 커스텀 개발해주셨습니다!', '버블로 웹빌더를 만드시려는 거군요.', '하하 감사합니다.', '혹시 이 부분에서 팝업을 출력해서 동의를 구하도록 만들 수 있을까요?', '가능하면 크게 거르는 constraint를 먼저 써주라는 것입니다.', '벌써 많은 곳에서 노코드 빌딩으로 좋은 사례를 만들어 나가고 있어서 저도 놀랐습니다. ㅎㅎ', '그레고리에게 마지막 컨펌 메시지를 보냈는데 아직 답은 없지만 최대한 만나기 위해 노력해볼게요!', '유저가 엑셀을 업로드 하지 않고 유저가 가지고 있는 엑셀 데이터를 복사/붙여넣기 를 편하게 하기위해 plugin을 사용했습니다!', '비유 명심할게요.', '세금계산서도 발행해야 하니까요.', '물리적인 위치를 변경하기는 쉽지 않은 것 같네요..', '그때는 솔직히 어떤 의미를 둔다', '꾸준한 업로드 감사합니다', '지금은 버블 DB를 최대한 활용하는 쪽으로 이동하고 있습니다.', '토스 결제도 얼른 실현되면 정말 좋겠네요~', '노코드 세계 오신 걸 환영합니다!', '민교님, 인사이트 공유 감사해요', '헉 정말요?!', '이건 어떻게 해야할까요 ,,?', '감동했고 또 한편으로는 뿌듯합니다.', '게시글 링크를 접속해주세요', '노코드 개발자, 디자이너 함께 일하는 팀입니다.', '정렬인지, 데이터 필터링인지. └ A라는 버튼을 누르면 본문에 작성되어있는 동작들을 순서대로 workflow로 구현하고 싶습니다. (A열 중복값 찾아서 B합계→B 기준 정렬→분류기호 선택→선택된 분류기호로 A값 나열)', '버블도 난이도가 있는 편인데 버블로 앱을 만드는 건 정말 난이도가 높습니다.', '테이블 설계가 잘 감이 안 잡힌다면 해당 글을 참고해주세요', '와 희철님 이렇게나 정성스레 답변해주셔서 정말 감사드립니다.', ': 공공데이터를 이렇게 편리하게 정리해 놓은 곳도 있군요', '구글애즈 심사 생각하시는 것보다 많이 까다롭습니다 ㅠ', '일단 저는 해외에서도 사례를 본 게 없습니다.', '개발지식이 짧아서 ㅠ', '왜냐하면 그 area를 그룹이 차지하고 있기 때문에 에디터가 그 영역 내에 추가되는 element는 그 그룹의 child로 인식하는 것이거든요.', '과찬이십니다 ㅎㅎ', '노코드 빌딩 개념 이해와 버블 튜토리얼, CRUD 라이브 코딩으로 구성되어 있어요!', '오~~솔라피 반갑군요~~', '물론 양날의 검입니다.', '재욱님!', '항상 많이 배웁니다~', '저는 몰랐던 세상이네요.', '언능 보완해서 앱패키징 하려고해요 ㅎㅎ', '나름대로 시행착오를 겪으면서 얻은 개인적인 인사이트라 참고만 해주시고요.', '예를들어서 Created by a 가 올린 이미지 , 동영상 / Created by b 가 올린 이미지 동영상 등 구별 가능하게 불러올 수 있나 싶어서요 ㅜㅜ', '안녕하세요, 혹시 워크플로우로 timestamp 값을 넣어주는 방법 관련해서 조금 더 자세히 설명해주실 수 있을까요?', '액세스 토큰은 아임웹에서 확인가능한 것 아닌가요~?', '오 잘된다니 다행이네요 ㅎㅎ', '가입하고 둘러보았습니다.', '수도권이 아닌 지역의 명소들도 좀 더 활성화 될 수 있겠다 싶어요.', '혹시 버블에서 보안은 어떻게 신경쓰는게 좋을까요?', '다시한번 생각을 가다듬고 버블 로그인 해야겠어요', '정예님 이제 어엿한 버블러가 되셨군요!!', '대댓글 타입을 따로 만들면, 결국 대대댓글도 만들어야 되고 그래서,,ㅠㅠ깔끔하게 대댓글있는 댓글, 아닌 댓글로 정한 느낌이죵 ㅎㅎ', '하나를 수정하면 메뉴가 안 나오니도 하는 등다른 것이 문제가 되어서 다 뜯어서 수정해봐야 할 거 같아요 ^^', '정말 간단한 기능 위주로만 구현해도 된다면 오마이앱을 이용하셔도 좋습니다.', '그런데 또 오류가 발생해서..ㅠㅠ', '다시 한 번 마음 써주셔서 감사합니다', ':)많은 버블러가 생겼으면 좋겠습니다 ㅎㅎ', '리피팅그룹의 데이터소스는 무조건 복수형태여야 합니다.', 'get data from url로 하니 계속 데이터 타입이 안맞는다고 해서요, 혹시 조금만 더 구체적으로 알려주실 수 있을까요?', '버블은 SPA 기반으로 작동해서 페이지를 이탈하지 않는 이상, 해당 페이지를 계속 유지합니다.', '감사합니다!!!!', '*.*', '그러면서 자신만의 노하우가 쌓여갈겁니다.', '답변으로 따로 달았습니다~', '그럼 해당 셀의 최소 높이 설정하는게 나올거예요 ~', '노코드는 결국 메인이 아니라 내가 하고 싶은 걸 만들 수 있도록 돕는 수단이라서요.', '하지만 페이지 상에서는 custom state로 엘리먼트를 보여주는 형식이 아닌 url parameter로 보내준 뒤 conditional로 탭들을 show/hide 하고 있거든요.', 'eo강의에서도 굉장히 열심히 하셔서 인상 깊었던 준호님의 앞날 응원할게요!', '실개발에서도 규모가 있는 프로젝트는 디바이스별로 별도 페이지를 제작하는데 버블은 실개발 보다는 리소스가 적게 들어갈 듯 합니다.', '개인적으로 테스트하고 싶은 시장도 있구요.', '캡차 절차없이 다음으로 안 넘어 가도록 설정되어 목적을 달성한거 같긴해요 ^^', '텍스트를 넣으면 똑같은 텍스트가 만들어지고요, 이미지도 마찬가지입니다.', '스크롤바를 커스튬할 수 있는 플러그인을 만들었습니다!', 'Basic Authentication으로 접근하시나 봅니다.', '이럴 경우는 구글 로그인으로 해야해요.', '오 드디어 커뮤니티에서도 연재해주시는군요 ㅎㅎ', '안녕하세요, 희철님!상세하게 답변주셔서 감사합니다', '한가지 질문이 있는데, 현재 채널톡을 footer에 설치해놓고, footer를 불러와서 매 페이지마다 채널톡이 보이도록 했습니다.', '너무 공감하네요!', '두가지 안을 제시하는데, 1. Recursive Scheduled workflows 를 활용하여, 나누어 처리하라2. API를 2개로 나누어 응답시간이 오래걸리는 API는 웹훅으로 처리하라2번은 첫째 API서버로 1차 요청응답을 보내고 완료되면 웹훅으로 결과만 받아서 처리하라는 것 같은데..', '금액에서 내 수수료를 제외하고 서비스사에 정산해주셔야 합니다.', ':)새해 복 많이 받으세요~!!', \"상단 툴바에서 'Grid&Borders' 클릭 하시면 나오는 메뉴 중에 'Show element borders'를 켜시면 됩니다.\", '깔끔하게 정리해주셨네요 ㅎㅎ', '작성해주신 주요 기능들 대부분은 에어테이블, 자피어, 모두싸인, 소프터로 제작 가능할 것 같긴 하네요 ㅎ', '그래도 긍정적인 것은 툴은 점점 더 좋아질 것이고, 편해질 것이고,  노코드를 시도하는 사람들이 점점 더 많아지리라는 생각은 팩트입니다.  ^^', '이 멋진글을 이제서야 읽네요.', '감사합니다^^', 'editable table 플러그인 구매해서 사용하는데, 이 플러그인은 한글이 정상적으로 다운로드 되네요.', '좋은 경험 공유해주셔서 감사합니다', '자세히 검토 후 다시 질문올리겠습니다.', '방법과 발생되는 사이드 이펙트까지 같이 설명해주시는 친절함에 감동받고 갑니다,,', '페이지당 엘리먼트수를 줄이는게 중요하다고 하기도해서 신경쓰이는데, 그룹하나 추가하는게 크게 영향이 있진 않겠죠...? ㅎ', '이렇게 바로 실행하시는 모습이 너무 멋있습니다!', '이메일에 파일을 직접 전송할 필요 없이 링크로 공유하시는 게 안전합니다.', '응원하겠습니다!', 'row나 column으로 지정하시면 나타날 겁니다', '앗!', '가이드를 보니 서베이 폼을 이용할 필요 없이 바로 프로필 생성이 가능할 것 같네요!!!', '모두의노코드의 번창을 기원합니다!', '그런데 Group생성후 Collapse when hidden 옵션이 Layout탭에 나타나지가 않는데 요건 어떤 상황에서 나올까요?', '제 생각에는 오마이앱 측에 접촉하셔서 도움을 받는 게 어떨까 싶습니다.', 'Fixed를 쓰셔야 하는거라면 희철님 방법대로 해야 합니다.', 'index페이지 워크플로우에 Page is load된 후에 바로 landing_page로 이동시키는 액션이 있나요~!', '컨테이너 요소 내에 다른 요소가 안들어가나요?', 'spa로 하시면 mpa와 마찬가지로 모든 조건을 파라미터로 세팅 해놓지 않는 이상 특정 url로 보여주기 어렵습니다.', '어후, 네네, 널리 퍼트려주세요!', '이 영상 보시고 fuzzy search 플러그인 셋팅해보세요~', '네.', '같습니다 .', ':)네 맞습니다', '왜 그런건지 모르겠습니다.', '해당 액션 이벤트에서 expire이 있으니깐 그 시간 동안만 다운로드가 가능한 링크를 생성하는 방식일 거에요.', '아마 시간과 자금력이 충분했다면 실개발로 했을거예요.', '첫번째줄에 일월화수는 빈칸이고 목요일부터 1이 시작되어서요', '여러곳에 문의하니 타 앱을 호출하는것이 되지 않는다는 말이 있던데,,,', '이렇게 정리가 되네요.', '스크롤까진 생기나, 여전히 밑에 height이 남는 부분이 생겨서 고민이었는데 플로팅 그룹으로 해결하였습니다!', '자세한 예시와 함께한 개념 설명 감사드려요', '선생님,, 유데미에는 안 올려주시나요', '꿀팁이 많네요ㅎㅎ', '답변해 주셔서 감사해요^^', '결국은 복수의 테이블에 있는 정보를 취합해서 새로운 테이블을 하나 구성했구요.', '어떻게 만드셨는지 너무 궁금합니다', '어느 시간대로 세팅하셨을까요?', '오 이거 진짜 꿀팁이네요.', '정말 재밌게 잘 읽었습니다.', '우철님이 만드시고 리딩하시는 건 어떠세요?', '상세한 설명 너무 감사합니다!!', '명칭이 통일안되어 있어서 이렇게만 보면 파악하기가 좀 어렵습니다;;', '설정에서 api key 발급해서 전달해 드리면 되는걸까요?', 'Container layout이 Fixed이면 물리적 위치 이동은 어렵습니다.', '멋져요~~', '***모바일 width 414 이하 기종에서만 발생하네요', '맞습니다! ㅎㅎ', '고정된 static ip가 아닌 것 같아요.', '댓글로 질문 주시면, 제가 시간될때 아는 선에서 답변드릴께요.', '답변 감사합니다...', '예 그렇군요..', '이상으로 인터뷰를 마칩니다.', 'Delete list of things를 해야겠죠?', '준비해주셔서 감사합니다', '가장 좋은 방법은 나만의 프로덕트를 하나 론칭해보는 것이고요.', '너무 재밌는 프로젝트입니다.', \"그리고 아마 제가 정확하게 이해를 못한 것 같은데 'count'에 user별 unique id를 부여한다거나(로그인하지 않은 유저도 unique id가 따로 있다고 들었습니다)\", 'ㅎㅎ희철님 감사합니다!', '뭐가 문제일까요 ㅠㅠㅠ...', '가이드대로 따라 했는데..', ':)희철님이 답변하신대로 자바스크립트 풀스택 개발자분들이 버블을 가장 잘 활용할 수 있는 스펙이 아닐까 합니다.', '처음시작하는 서비스는 더더욱 그럴 수 있겠죠.', '2. 일정 위치부터 고정되는 법저는 아래처럼 조건문을 걸어서 특정 스크롤 깊이에서 플로팅 그룹이 나타나도록 했었습니다.', '해당 플러그인을 써보지는 않았지만 보통 플러그인에서 download Url의 경우, 이미지를 불러오는 게 아니라 이미지를 다운로드하는 목적으로 쓰입니다.', '아니 이거 완전 노코드 다마고치인데요?', ':)인프런에서 제공하는 무료강의입니다.', '너무 깔끔하고 유용한 서비스네요.', '영상은 이쪽이니 한 번 시간 되실 때 확인해보세요.', '저도 현재 외주 빌딩 진행 중인데, 일사천리로 초반에 컨펌나서 두렵습니다...', '너무 감사합니다.', '그리고 크몽에서 직접 외주도 진행하고 있습니다 ㅎㅎ', ': 감사합니다.', '한번에 해결하려하기보다는 내부에 있는 요소의 크기를 가늠하셔서 전부 더한 값에 -값을 주면서 프리뷰로 체크해보시면서 맞춰보시면 금방 하실 겁니다.', '이 부분 쉽게 해결될 수 있으면 너무 좋을 것 같습니다!', '갓버블이었네요ㅎㅎ', ':) 감사합니다', '저도 찬교님 말씀에 120% 동의합니다.', '혹시 어떻게 해결하신 건지 알려주실 수 있을까요?ㅠㅠ', '굉장히 복잡한 프로젝트를 노코드를 활용해 구현하시는 모습 늘 감명 깊게 접하고 있습니다.', '저는 아래 플러그인 사용합니당', '아무튼 정기구독이 구현이 가능하다는 점을 직접 눈으로 확인한 것만으로도 감사합니다.', '3주정도 걸렸고, 프로젝트 할 때마다 실력이 계속 느는거 같아요.', \"이미 알고 계실 수 있겠지만 '마이프차' 라는 프랜차이즈 전문 플랫폼 운영사 쪽과 제휴 가능성이 있지 않을까 싶은 생각이 들었습니다!\", '(json 구조가 워낙 예민하다보니) 웹훅을 플러그인으로 만드는 것도 고려해봐야겠네요.', '기대가 되네요', '답변 감사드립니다 !!', '차근차근 해보면서 막히면 또 질문드릴게요', '네 로그인 버튼을 눌렀을 때 워크플로우 only when 조건문 다는 건 맞아요.', '대단한 AWS에서 버블DB로도 가능하다니 신뢰도가 급증했네요.', '잘됩니다!', '플로팅그룹으로 해결하려니 자연스럽지 않아서 아쉬웠는데 좋네요', '아 그렇군요.', '즉, Do a search for...를 최소화해야 합니다.', '말씀하신 내용은 데이터베이스 설계에 관한 것 같은데 그렇게 이해하면 될까요?', '조금만 기다려주세요!', \"Data to send에 보내실 Current cell's 어쩌구 넣으시면 됩니다.\", '든든합니다. ㅎㅎㅎ', '넵 하나씩 보면서 해결해보겠습니다~!!', \"이쪽은 말 그대로 커뮤니티를 통해 만들어진 'Build in public' 플러그인일 거에요.\", 'PC, 모바일 두개 하실거면 반응형 디자인 초기부터 생각하셔야 합니다.', '버블쪽에서도 답글을 달았지만, 뚜렷한 해결방안은 없는것 같습니다.', '해당 텍스크 요소를 감싸고 있는 그룹이 allign parent로 되어 있는것 같아요', '잘 읽었습니다.', '네 정답은 아니지만 이렇게 하나씩 모험적으로 시도해보면서 경험이 쌓이는 게 중요합니다.', '너무 좋은데요', 'Pay-OS를 데이터타입으로 하고, 사용자로 하여금 input field를 통해 원하는 List를 만들어 Pay-OS에 등록하게 한 뒤 Choices source에서 Do a search for Pay-OS 하고 user constraint를 걸어주면 됩니다.', '페이지를 보여줄거냐 말거냐와 데이터를 검색하고 보여줄거냐 말거냐는 조금 다른 성격이라 답변을 따로 드려요.', '모양을 잡는게 어려울 것 같기도 하네요ㅜ', '불러오고 수정하고 다시 다른 곳으로 옮기고 하는 것은 커스텀 스테이트나 page URL 방법을 이용하시면 될 듯 합니다.', '구현한다고 하더라도 워크로드가 폭발하지 않을까요? ㅋㅋ', '루프가 개념이 어려워서 많이 힘들어하시는 부분인데 쉽게 따라하시다니 대단합니다~', '회원가입하고 보니까, 토스페이먼츠로 하셨네요.', 'Favicon 설정 탭 위치랑 달라요!', '덕분에 모두의 노코드 취지와 앞으로의 방향에 대해 알수 있어서 좋습니다.', '제가 출판사들과 오랫동안 일해본 결과, 아마 버블이 책으로 나오기는 매우 쉽지 않을 겁니다.', '너무 좋은 인사이트라 그쪽에 올리시면 더 많은 분들이 보실 수 있을 것 같습니다', '정말 감사합니다 : )', '카카오 알림톡, 친구톡도 가능해 보이는데 맞나요?', '오잉?', '해결했습니다 !', ':) 다만 API권한설정하기와 API 요청 설정하기에 각각 aythorize, kako라는 오타가 있어 수정하면 더 좋을것같습니다.', '여러 사이즈를 적용해보니 1080이 적당하게 느껴지네요.', '해외에는 노코드 빌더 스토리가 많이 알려져있어서 그런지 인플루언서도 굉장히 많은데 결국 시작은 경험공유였던 것 같습니다 ㅎㅎ', '정말 어려운 일이죠 ㅠ', 'Jasonelle Framework는 저도 생소하네요.', '네 HTML, CSS, Javascript 모두 넣으 수 있습니다.', '좋은 말씀 감사합니다 ㅠ', '혹시 페이지 내에 있어야한다는 부분을 조금 더 자세히 설명해주실 수 있으실까요?', '아!', '해결 방안이 있을까요', '솔라피 api를 이용하면 가능해보이는데, 나중에 정리해서 포스팅해보겠습니다~', '리뷰에 [사요],[마요]를 옵션으로 넣고 리뷰 작성시 옵션을 변경해주니,, 손쉽게 반영하였습니다.', '헛 슬랙이 너무 잘되어 있어서...', '버블로 구현한 것 외에도 프로덕트의 아이디어가 너무 매력적입니다.', '아니면 어떻게 위치를 바꿀 수 있을지 문의드립니다', ':) 저희도 너무 아쉽지만 3명이 동시에 시간을 내기가 너무 어렵고 또 저희 아니더라도 요즘 버블 강의를 하거나 기초를 알려주는 콘텐츠가 많이 늘어난 관계로 라이브보다는 영상 콘텐츠로 제공하자는 결정을 내리게 됐습니다.', '그런데 제가 원하는건 1픽셀 단위로 다이나믹하게 바뀌는걸 만들고 싶은데 그건 CSS로 구현하는게 맞겠죠?', '와방 좋네요!', '현재 API Connector 와 BackendWorkflow 부분을 읽고 구현을 한 상태인데  , 예외 처리에 대해서 좀 더 다양하게 생각해 봐야 할꺼', '마우스 클릭 말고 단축키로 설정 할 수 도 있나요?', '버블의 전략도 스케일업에 맞도록 변경해 나가는 것이라고 합니다.', '기능상의 문제가 아니라 사용자가 그 시간을 기다려야 하는거죠.', '너무 상세하게 정리해주셨네요!!', '용준님 감사합니다!', '리피팅 그룹 내의 요소에 스테이트를 지정하셔서 그렇습니다.', '한번 문의 드려 보세요 ㅎㅎ', 'loop의 업무량이 많지 않다면 그리 큰 문재는 없을거예요.', '2. 적용하려는 버블 Page의 Properties > Page HTML Header 에 적용3. 적용하려는 버블 Page에 Visual Element 중에서 </> HTML를 페이지에 가져다 두시고, SDK 링크를 적용4. Workflow > Run Javascript 에 적용편한 방식으로 적용하시면 됩니다.', '수요일 입문자 클래스는 어디에서 확인할 수 있는지 알려주시면 살펴보도록 하겠습니다.', '한동안 확인을 할 수 없는 상황이어서 이제야 댓글을 답니다.', '제가 위에 썼던 과정중에서, 결과 페이지에서 결과를 받을 때1. 결과페이지안에 리피팅 그룹을 하나 만들어- Type of content :색깔세트- Data source : search for 색깔세트    > constraint; slug is in get color from page url:split by(+)) (검색페이지에서 color 파라미터를 보낼 때 slug를 보내면서, format as text로 +를 구분자로 하도록 했습니다.)', '화사 업무중이라 이제 봣네요.', '많은 분들께 도움 될 것 같습니다!', '화이팅입니다~~', '무려 글로벌 프로젝트를 플러터플로우로 처리하시는 과정이 얼마나 힘들었을지 눈에 선하네요.', '축하합니다.', '시간이 늦어서 내일 문의 드리고 싶어요!', '아님 사이트 방문자한테 보여주는 걸까요?', '만약 괜찮으시다면, 아래 오픈채팅으로 대화를 걸어 주시면 조금 더 자세한 상황을 확인하고 도움을 드릴 수 있을 것 같아요', '오오 감사합니다', ':)설명해주신 대로라면, 대댓글의 데이터 타입은 따로 안 만드는 걸까요~?', '오오오 감사합니다!!!', '카카오톡 로그인 플러그인도 있다고 하니 같이 보시면 좋을듯 합니다.', '크롬 북마크바(일명 즐겨찾기 바)에 마우스를 가져다 놓고 우측 버튼 누르면 메뉴가 떠요.', '아임웹과 연계된 프로젝트 궁금합니다.', '카톡을 보니 해결하신 듯 하네요~^^', '그런 다음 유저 A로 걸면 결과는 같지만, 처음 데이터를 거를 때 큰 양이냐 작은 양이냐가 중요하다는 겁니다.', '아 그렇군요!', '이커머스가 뒤에 숨어있는 안보이는 기능들이 워낙 많아서 구현 하기가 쉽지 않은데요.', '덕분에 시작할수있게되었서요', '민교님 너무 감사합니다!', 'API로 검색해볼 생각은 안해봤는데, 이런 친절한 사이트를 발견했습니다', '와 희철님이 정리해주신 워크로드표를 엑셀로 세뮬레이션까지..!', '이런 식으로 뜨게 만들 생각입니다', '어떤 프로젝트 하시는지도 굉장히 궁금합니다.', '꺄ㅏㅏ 그 세션 발표자가 바로 접니다', '넵 알겠습니다.', '다만 저희가현재 웹앱을 래핑하는 과정이라 그 과정에서 비용이 들 수 있을것 같습니다.', '아 가격차이가 너무 커서 궁금해서 질문을 해봤습니다.^^;;', '언제나 환영입니다.', '크롤링...은 버블 자체 기능으로는 어렵습니다.', 'Second the API provider would call back to an API workflow on your end to update and store the data that would normally be a part of the response.', '다중 언어 기능을 보니 글로벌 시장까지 겨냥하셨군요', '(공용인스턴스에 할당,비슷한 예로 무료 호스팅 업체 무료 요금(500m 제한)과 비슷)대형 서비스에서도 정교하게 짜여진 예측범위를 넘어 뻗는 상황이 옵니다.', '제가 내일 일정이 있어 실시간으로 확인이 어려운 점 양해 부탁드립니다.', '지금 올린 이미지를 보고 유츄해보면, 직원과 근무일지와 관련된 데이터가 존재하는 듯 한데, 이 둘은 서로 다른 객체니깐 테이븡을 분리해서 관리하는 게 더 좋습니다', '엌ㅋㅋㅋㅋㅋㅋ 반갑습니다', '저는 상당히 긍정적으로 보는게, 사람이 많아지면 요런 서비스에선 축하드릴 일이고,유수의 SaaS처럼 버블도 Capa 넘는 순간 결제만 하면 바로 스케일업이 되니까!긍정적인 신호라고 보여집니다.', '숫자 옆에 빈공간 누르니까 되네요!', '제가 생각했을 땐 선생님께서 말씀해주신 대로 하려면 로그인 버튼에 only when 조건문을 달아야 할 것 같은데요.', '네이버 api 문서에서는 해당 오류에 대한 설명은 따로 없을까요?', '하지만 워크플로우가 많고 조금이라도 시간이 걸린다면 이는 유저경험 측면에서 좋지는 않다고 봅니다.', '논외지만,, 퀼리티가 높은 서비스가 될 것 같은 예감이 드네요,,', '아고 잘해결됐습니다', '@박재은 오 상세한 조언 감사드립니다.', '프라이버시 룰이 필요하긴해서 걸어놨었는데, 말씀하신대로 프라이버시 룰을 제거하니 보입니다!', '후 정독중입니다..', '현재 온라인 라이브코스 2기가 진행중이고, 3기는 11월 진행 계획입니다.', '질문반 푸념반이었는데..', '그래도 그런식으로 언어를 다뤄보는 과정이 있으셨으면 좀더 수월하게 배우실 수 있을 겁니다', '먼저 해당 데이터들을 리피팅그룹으로 넣으셔야겠죠워크플로우에서 해당 리피팅그룹의 이미지 클릭하면 상세페이지 넘어가는 작업을 하고요', '채널톡의 버튼 위치를 바꾸려고 margin이나 padding 값을 넣고해봤는데, 버튼이 움직여지질 않아서요~', '나중에 기회되면 이쪽에도 소개 부탁드릴게요!', '그러게요 외주에서 발생하는 안좋은 상황이 우루루 터졌었네요', 'Setting 페이지에서 SEO 탭에서 설정 가능합니다.', '버블로 서비스를 만들기 전부터 서비스를 해 오던 것이었어요.', '완성되면 꼭 다시 소개해주세요!', '매칭 알고리즘을 노코드로 구현할 수 있을까요?', '그래도 유저가 게시글을 삭제했을때, \"File manager\"에서 더미파일들( 용량 , 스토리지) 도 자동적으로 삭제되게 하고 싶어서요!', '웨비나 참석을 못했는데 이렇게 공유해 주셔서 감사해요.', '바로 보시려면 여기서 보시면 됩니다!', '감사합니다. ~!!', '2. Sms, 알림톡 전송 기능을 코드러 구현하고, random number generator더 코드로 구현해 랜덤 숫자를 전송해 번호 인증을 진행하면 됩니다.', '앞으로도 꾸준히 공유드리겠습니다', '실개발이 필요한 부분이라 사실 그외 부분은 굳이 버블이 필요한가 라는 생각도 들어요.', '거기다가 IT 서적 같은 경우는 준비하는 시간도 걸리는데, 책을 내 놓으면 오히려 새로운 version 이 나와서 책의 내용이 맞지 않는 경우가 다수 발생합니다.', '어느정도 학습 후 자신의 프로덕트를 만들면서 배워가야할거 같아요', '우수진 님, 안녕하세요', '조금 더 자세한 상황을 알면 도움을 드릴 수 있을거 같은데, 말씀 주신것 만으로는 러프하게 이정도만 말씀 드릴 수 있을거 같네요.', '헉 쌩 자바스크립트라 개발자분들이 오셔서 봐주셔야 할것 같네요 ㅠ', '좋은 인사이트 감사합니다.', '아이콘 말고 이미지 엘리먼트는 SVG포맷도 잘 받던데, 혹시 꼭 아이콘 엘리먼트를 쓰셔야 할이유가 있을까요?', '특히 it 쪽 기본 개념이 있는 분들이라면 적용해가면서 하실 수 있겠지만 완전 초보는 그마저도 쉽지 않네요 ㅜ', '한번 참고해 보시고, 더 자세하게 배우고 싶으시다면 정기 온라인 코스도 관심가져 주세요', '꼭 후기 기대하겠습니다', '아예 해당 도메인을 삭제하시거나 커스텀 도메인을 따로 붙여서 새로 해보시는 게 좋을 것 같아요.', '희철님.', '만약 db를 불어오면 db의 field가 순서대로 나타납니다.', '디자인을 하신다면 와이어프레임은 없어도 될 것 같지만, 대부분 저 순으로 한단계씩 밟아가는 것이 시행착오를 줄이고 빠르게 결과물을 낼 수 있는 방법이지 않나 싶습니다.', '23년 1월 1일과 24년 1월 1일의 질문이 동일하다면, 일자별 질문 테이블과 유저들이 응답한 테이블을 만들고 둘이 이어주는 게 무난할 듯 합니다.', '또 버블 못지 않은 멋진 툴도 나올 거라고 생각합니다!', '한번 해보겠습니다!', '링크 타고 들어가서 보니 20일 (목)이네요..', '세상엔 고수분들이 정말 많네요!', '잘 읽고 인사이트를 얻고 갑니다~', '드로잉 유료 플러그인이 있긴 한데 말씀하신 기능은 아닌 듯 보이네요.', '정말 감사합니다!!', ':)추가로 실시간인지도 궁금합니다 ㅎ', 'How to Adapt Your Bubble App to Mobile', '이때 비교할 값이 하나는 input 이름 값이고,다른 하나의 값을 어떻게 설정해야 할지 잘 모르겠습니다...', '만약 어제 날짜의 유저 A의 데이터를 가져온다고 하면 Do a search for의 constraint에 먼저 유저 A를 넣고, 그 다음에 날짜를 넣으면 처음에는 200개 중 100개의 데이터를 찾고 그 다음에 어제 날짜의 데이터를 가져오게 되겠죠.', 'slug가 어떤건지 이해가 될 것 같습니다', '여러가지 해결방법이 있겠지만, toolbox 플러그인의 javascript to Bubble 엘리먼트를 사용해서 해결이 가능합니다.', '버블은 각 도메인별로 구독을 따로 해야합니다.', '그런데 이렇게 하니 카카오 로그인 클릭하고 몇초간 logged out으로 판단되면서 [로그인, 회원가입]버튼이 노출되다가 [메시지, 내 프로필]이 등장하네요.', '크롬, 사파리 같은 브라우저 앱이나 웹에서 이용해주시면 됩니다!', '페이지 다시 해보시고 또 같은 현상이 발생하면 다시 말씀해주세요.', '그런데 제 추측이지만 아마 그냥 A요금제 종료하고 B에서 새로 결제하라고 할 거 같긴 합니다.', '정독 해 주셔서 감사합니다!!', '알려주신 방법대로 해보겠습니다', '머리가 맑아지는 느낌이에요', '아마 리유저블 요소를 활용하시기 때문에 그런 것 같은데, 리유저블에서도 url로 인식하도록 조건 설정해보시는 게 어떨까요?', '버블 플러그인 사이트라면  이쪽에서 아래에 있는 Community-Created plugin 말씀하시는 것 같은데요.', '버블린이 입장에서 너무 좋은 경험입니다.', '전부 반응형으로 바꿔서 해결했습니다!', '카카오싱크 연동해놓으면 다르게 설정해야하는 부분이 혹시 있을까요?', '늘 감사합니다!!', 'AI가 필요하면 엔진을 서비스하는 곳애서 API로 주고받아도 되고요.', '그러면 북마크에 저의 경우 mobile view가 보이게 되고, 프리뷰할 때 그 즐겨찾기를 누르면 지정한 사이즈로 새 창이 열려서 프리뷰를 할 수 있어요.', '말씀하신대로 우선 있는 인적자원을 활용하여 만들고 , 인력이 부쳐질때 개발자분을 알아보려고 합니다', '브라우저 쿠키를 지우시거나 시크릿 창 등 쿠키를 저장하지않는 환경에서 다시한번 진행해 보시길 추천드립니다.', '먼저 경험해보신 분들의 경험과 지식들이 많은 도움이 되고 있습니다.', '전체 서비스에서 페이지 제작이 50%정도 진행됐는데 나중에 바꿔야하나 지금 적용해야하나 고민이었는데 지금부터 미리 적용해서 해둬야겠네요!', '백번공감..합니다..', '문제는 사용자 경험입니다.', '두 편 연속으로 업로드 하셨군요~!!', '팀업 관련해서 핏이 맞는 사람을 찾는 게 얼마나 어려운 일인지 알기 때문에 이들의 사례가 굉장히 와닿습니다.', '버블로는 어드민을 만들고 크롤링은 코딩으로 구현해서 연결하거나 해야 합니다.', 'This means that the API service did not return a response within the timeout limit of 150 seconds.', '차라리 왜 뭐가 잘못된 건지 집어서 지적해줬다면 비판으로 받아들였을텐데 유감스러워요.', '그래도 대부분 max width는 1080~12XX대에서 많이 설정하는 것 같은데, 이 부분은 다른 전문가분들도 댓 달아주시면 좋겠네요 ㅎㅎ', '어떤 연유로 글라이드는 배제되었는지 궁금합니다!', '이러면 버블 활용도가 너무 떨어지는것 같아서요..', '답변 정말 감사합니다!!', '트렌드를 짚어주셔서 너무 좋아요!', '대단하시네요.', '위에 json 결과값 출력된 화면이 웹브라우저에서 결과 나온것이라 API는 정상작동하는것 같아요.', '안녕하세요, 자세한 글 잘 읽었습니다', '해결된 것 같습니다 !', '네 그러면 플러그인 업데이트가 반영되지 않았던 게 맞는 것 같습니다 ㅎㅎ', '오 좋은 정보 감사합니다!', '뒤로가기는 Block back button 플러그인써서 해결했습니다.', '구글시트 url 임포트 기능으로 와...', '실 서비스 개발하신 분의 찐 노하우를 공유해주시다니 운영진으로써 너무 감동입니다', '오 너무 좋은 인사이트입니다.', '다만, loop를 만들기 위해 client side에서 살행되는 것은 다시 고려를 해 보시는 것도 좋을 듯 헙니다.', '큰 힘이 되었다니 너무 좋네요!', '마지막 모노데이에 정말이지 선물 같네요', '버블로 따로 구현한 사례는 해외에도 많지 않을것 같습니다 ㅠ', '이부분은 뭔가 sevret key 관련 오류인것 같은데 해결이 안되네요', '소스코드를 안준다니.. 헉..', '그리고 질문은 무리해서 답을 받아오실 필요는 없습니다!', '저는 잘 나오는 것 같습니다 ㅠ', '과찬이십니다,,,', '이번 MVP에 바로 사용해 볼 것 같네요', '30일에 같이 확인해보아요', '교육프로그램 예시처럼 DB구조를 다시한번 생각해봐야겠네요', '여기서 막혀서 다른 영역 먼저 작업 하고 있었는데, 주말 동안에 시도 해 보고 후기 올리도록 하겠습니다 ㅎㅎ', '그런데 제가 구현해야하는건 필드가 아니라 별도의 테이블에 신규 row 생성이예요.', '시도해 보겠습니다!', '버블 플러그인은 js, nodejs로 작성할 수 있습니다.', '이럴 때 각 엘리먼트에 스타일링(폰트, 폰트크기 등)을 해 주면 코드로 따지면 일일히 각 div 또는 class id 등에 일일히 css 코드를 적어주는 게 되어 코드가 길게 늘어납니다.', ':) 다시 시도해보겠습니다!', '경험 공유해주셔서 감사해요!', '사실 보면서 한 게 아니다보니 세부 내용이 궁금하긴 합니다.', '유저가 있는 기업 리스트를 보여줘야해서 기업리스트가 있는 사람만 해당화면에서 조회 수정이 가능해야해서 조금 다르게 해야했지만매우 자세하게 설명해주시고권한을 넘어화면에 대한 표시까지 신경써주셔서 너무 감사합니다', '애드센스는 달 수 있을텐데 심사가 반려됐으려나요~?', '키제한 한 상태에서, 사이트 주소지를 바꿔서  문제가 발생되었습니다. ^^', '문형님 아주 훌륭하고 재밌는 프로덕트네요!', 'Do a search for User로 한다면 제가 새로 첨부한 이미지와 같이 제약을 걸어야 하는 것인지,제약을 건 후 \"Search for Users\" 다음의 More은 무엇으로 설정해야 하는지 알려주시면 정말 감사하겠습니다!', '구글애드센스는 아직 안해봤지만 된다고 들었습니다. ㅋㅋ', '아마 연말이라 당장하기에는 어렵겠지만 연말 행사도 준비하고 있어서 이런 기회를 활용하시면 좋을 것 같습니다.', '너무 감사합니다!', '따로 프리랜서를 고용하시거나 아르바이트로 찾으시는 게 현재로서는 대응 방안이 될 수 있을 것 같습니다.', '아침에 수정했는데 퇴근시간 다되서야 되는걸 보니 동의항목 수정 후 반영되는데 시간이 꽤 오래 걸리는 듯 합니당.', '그냥 실개발로 다 처리하는게 나을수도 있습니다.', '제 생각에는 초기에는 서비스사의 정산 금액만 데이터로 정리해놓고, 월 1회 또는 2회 정도 정산일을 정해서 세금계산서 발급과 함께 수기로 정산해주시는 걸 추천드립니다.', '조금이라도 시간이 걸린다면 backend workflow를 하시는 게 좋다는 생각입니다.', 'Api키를 분리해서 넣었는데 뭔가 오류가 난것 같네요', '웹뷰로 웹을 래핑해서 앱을 만드는 건, 사실 SPA든 아니든 상관은 없습니다.', '예를 들어 관리자가 2개의 클럽을 관리하는 경우,  하나의 페이지에 2개의 클럽에 승인을 요청한 유저가 섞여서 나옵니다.', '저도 마음수련(?) 관심이 많아 마인들링 유료 사용자 입니다', '말씀하신대로 여기저기 알리느라 동분서주하고 있어요~', '경험에서 우러나온 글이라 술술 읽히네요.', '수신자 메일 용량이 꽉차서 받지 못할 가능성도 있으니까요.', '전 mobile view라고 했어요.', '그리고 상세페이지에서 insert dynamic datㅁ에서 current page나 search for로 해서 받으시면됩니다.', '소중한 정보 공유 감사해요', '아래와 같이 에러가 발생합니다.', '첫 번째 버그에 당첨되셨네요.', '질문하신 내용을 보니 혹시 버블을 프론트로 하고 개발로 기능을 확장하여 붙이실 계획이신가요?', 'API는 당연히 분리해서 쓰고 있고요.', '유저가 엑셀을 업로드 한 다음에, 데이터로 저장한 뒤, 유저의 페이지에서 확인하는 걸로 상정해야 하는 걸까요? └', '한번 봐주시면 정말 감사하죠', '2. 강의 기대됩니다.', '하나씩 써봐야겠습니다.', '2. Authentication 변경 해 보기: 만약 쿼리 파라미터 추가해도 에러가 난다면, 인증을 하는 방법 자체를 다르게 해 볼 것 같아요.', '저는 희철님의 이런 노력이 고맙고 소중해서 중간에 포기하실까 걱정됩니다.', '문형님의 능력은 어디까지입니까~ 대단하십니다 ㅎㅎ', '놓고 있다가 다시 버블로 프로덕트 만들 기회가 생겼는데, 어렵네요 ㅠ', '답변 너무 감사합니다.', '커뮤니티 대표 핑거프린스가 될까봐 걱정입니다 ㅎㅎㅎ', '한편으로는 앞으로 배워나가야 되는 분야가 많아서 기대되네요!', '조만간 저희가 버블 기초 콘텐츠를 발행할 계획이에요.', '좋은 프로덕트 소개 감사합니다.', '최근 네이버 API 로 sens 알림톡 연결을 성공했는데 이 커뮤니티를 통해 많은 도움을 받았습니다.', '사실 많은 노코더들이 그렇겠지만 개발자 출신분들과는 달리 대부분이 코딩은 물론이고 네트웍이나 데이터베이스, 아키텍쳐 등 개발 근간에 해당하는 부분들에 대한 이해도나 지식이 깊지 않은 상태에서 개발에 뛰어들게 되기 때문에 본인도 모르게 많은 문제들이 나타나는 것이 현실입니다.', '고생도 많이 하시고 아주 비싼 과외비도 치르셨습니다 ㅠ', '싱크트리는 간단히 테스트해보니, 뭔가 블록쌓기 하는 느낌이라 재미 있었습니다.', '그러라고 만든 공간이니까요.', '로 은연 중에 생각하고 있었습니다 ㅋㅋ', '도움 주셔서 감사합니다', '날 잡고 좋은 커피한잔 하면서 다 읽어보고 싶습니다.', '뭔가 법적인 부분이 있지 않을까...', '규모가 조금 있는 프로젝트를 하거나 작업자가 여러명일 경우에 유용할것같네요.', \"'노코드는 반려 기술이다!'\", '플러그인 참고하시면 생각하시는 부분 구현 가능할 듯 합니다.', '에어비앤비나 우버등의 클론이 있으니 참고해 보시면 좋겠습니다.', '알려주신 방법으로 한 결과 , 다른 page로 데이터를 이동하였을때는 slug가 해결되었습니다 !', '새로고침도 natively에 browser element넣고 워크플로우에서 해결했습니다', 'fixed는 말 그대로 요소를 고정된 위치에 놓는 방식이라서요.', '(물론 의도는 아니셨겠지만, 보는 사람이 이렇게 읽힌다면 어쩔 수 없는거겠죠?)', '꿀팁 감사합니다', '댓글 주셔서 감사합니다!', ':) 자주 들러서 다른 회원들과 소통도 해주시길 부탁드리어요! ㅎㅎ', '고맙습니다.', '서비스 상황에 맞추어 선택적 parameter 세팅을 할까하구요.', '버블 초보라 아직 아는게 없어서 여쭤봅니다..', '그냥 좋아요만 찍고 갑니다.', 'body 타입은 text입니다.', '연결해서 하나만 더 여쭤볼께요', '위 url은 고정으로 가져가고,공유하시려 하는 url에서 v에 해당하는 값만 추출해서 붙이면 되지 않을까요?', '같은 관심사가 모여있는 커뮤니티가 있다는 것에 항상 마음이 든든합니다 ㅎㅎ', '버블에서 뭔가 작업을.. 할 수 있을까 싶어서 뒤져보긴 했는데 아직 솔루션은 찾지 못했고ㅜㅜ왈라 측에 해당 내용 정리해서 다시 문의드려놓은 상황입니다!', '아마 아래 박현준님 댓글처럼 동의항목 등을 수정해서 그랬던 것 같습니당.', '잘 부탁드려요!', '만약, Initialize는 성공했지만, 버튼을 눌렀을 때 문제가 생긴거라면 Workflow 상에 잘못된 부분이 있을 것 같아요.', '이런경우에는 보이는 조건부를 텍스트가 아니라 감싸고있는 그룹에 넣어보시겠어요?', ':) 답글 달아주셔서 감사합니다.', '게다가 모두싸인이 API를 제공하기 때문에 버블의 API를 연결하면 zapier같은 툴도 별도로 쓰지 않고도 충분히 구현 가능한 기능들로 보여집니다.', '저도 귀찮아서 자피어로 하다가 너무 비싸고 느려서 API로 할까 하고 있었는데 마침 딱이었네요!', '커뮤니티의 건강한 성장을 위한 좋은 징조로 받아 들이시고 너무 마음쓰지 않으셨으면 하는 바람입니다.', '그랬군요....!!', '안녕하세요.', ':)Gregory John 03:56 PMAwesome Junho - thanks for the collaboration opportunity!', 'rich text 같은 플러그인을 쓰시면 데이터를 저장할 때 bbcode로 변환한 text 형태로 저장이 됩니다.', '관련해서는 자세히 남겨주시면 답변 드릴 분들이 많을 것 같아요.', '만약 도저히 직접 못하겠다 싶으면 의뢰할 수도 있어요.', '제가 비지니스 계정이 없어 아직 못해봤는데요.', '혹시 카카오 싱크가 이 메시지를 보내는 방법에 해당하는 걸까요?', '클래스101로 용준이형 강의 배운지 10일차ㅎㅎㅎㅎ', 'Repeating gorup과 cell에 있는 group을 모두 확인해보세요.', '유익하고 즐거운 시간이였을것 같네요', '유료입니다.', '화이팅입니다.', '고객관리가 중요한것 같아요', '알려주셔서 감사합니다ㅠㅠ', '표현이 아주 찰떡이네요. ㅋㅋ', '좋은 글 감사해요!', 'option set으로 사전에 컬러들을 지정해 놓으면 되고요.', '이거 진짜 대박이네요...!', '워크플로우를 시간될때 최적화 시켜야겠네요..', 'bdk가 뭔가요?', '너무 감사합니다!!', '창의적인 해결법이네요ㅎㅎ', '2. 데이터 로딩은 한번만DB에서 불러오는 데이터를 한 곳에서 불렀으면 다른 곳은 그 불러온 데이터를 사용하도록 해 주어야 합니다.', '이소정님 길을 찾아나가시는 센스가 진짜 남다르시네요. ㅎㅎ', '그게 아까 답변드린내용입니다', '아무 생각없이 Preset page width 를 Mobile로 설정하고 min 320 ~ max 380 으로 작업하다보니 디바이스 별로 좀 이슈가 있어서 max 420으로 변경해서 작업하고 있습니다.', '다행이네요. ㅎㅎ', '슬랙의 API를 사용하는 버블 백엔드 앱으로만 구성한다면 Bolt 프레임웤은 사용하지 않아도 될 겁니다.', '때문에 하루는 꼬박 날렸던거 같아요 ㅋㅋ', '서비스의 아이디어도 너무 좋고 글 내용도 많은 분들한테 도움될것 같습니다', '개념적으로 이해가 갑니다!!!', '멋집니다.', '와… 세상에 저한테 지금 필요한 정보를 찾았네요', '오 ㅎㅎ 좋댓구독 완료했습니다 ㅎㅎ', '문형님 재능기부 너무 감사합니다', '자바스크립트를 붙여서 디버깅하는 꿀팁은 처음 본 것 같네요.', '저도 이게 궁금합니다.', '아 arrow를 끄면 버튼은 사라지는데 마우스로 드래그 했을 때 (모바일에서는 끌었을 때) 슬라이드가 넘어가더라구요!', '1. 입금은행과 예금주 인증 입력폼 플러그인2. 계좌인증 API 연동 플러그인2가지 플러그인을 찾으시는데, 현재 1, 2번 기능을 제공하는 플러그인은 없습니다.', '저희 의도는 아니었지만 한참 다시 개발 중에 말씀하신 참사가 나서 안타까왓습니다.', 'PC 환경인 Windows와 MacOS에서는 문제 없고, Android에서 나타나는 문제입니다!', '먼저, 답변 주셔서 감사합니다!', '가능합니다.', '이게 [로그인, 회원가입]은 current user is logged out일때 보여지고, [메시지, 내 프로필]은 current user is logged in일때 보여지게 해놓았습니다.', '오픈채팅방에서 알려주셔서 해결했습니다', '답변 감사합니다^^', '런던에서 원하시는 바 꼭 이루시길 바라고 건강하게 한국에 들어오시길 기원하겠습니다.', '말씀처럼 GTM 태그에서 ga4구성태그를 완료하셨다면 기존 gtag를 삭제하셔야 페이지뷰가 중복 집계되는 현상을 방지 할 수 있습니다.', '아래 대댓글 달았지만 리피팅그룹 안의 요소는 스테이트를 지정했을 경우 다른 요소에서 스테이트를 갖고 오는게 안됩니다.', '새벽에 깨서 한페이지 만들다가 짜증나서 지우고 자다 깨서 글 읽었습니다', '좋게 봐주셔서 감사해요.', '다음부터는 옮겨서 업로드할게요.', '배우시려는 목적이 명확히 있는건가요?', 'Add a New Constraints를 추가해서, 해결했습니다 !!!', '5. 플러그인은 Toolbox를 쓰면 Javascript에서 action이 발생할 때 버블로 가져와서 - Javascript to Bubble - 컨디션이나 워크플로우를 걸 수 있습니다. (색칠하기 등)', '질문왕 하셔도 됩니다.', '센서로 데이터축적을 한다니 편리하면서도 좋습니다.', '즉, 200개이죠.', '작성자님이 적으신대로 구현을 해서 유저 테이블에 카카오로 로그인한 유저 데이터가 저장이 됐습니다.', '정해진 책이나 커리큘럼이 있는 것이 아니고 클론코딩이나 작은 개인 프로젝트로 시작해서 부딪히면서 이렇게 해보고 저렇게 해보며 배우는게 커서 시간 단위로 말씀 드리기 애매하네요', '안녕하세요 ㅎㅎ', '(혹시 알고 계셨으려나요 ㅎㅎ)', '와우 이렇게 빨리요?', '공유해 주셔서 감사드려요!', '그런데 저도 처음에 값이 안나와서 디버그 모드로 들어가서 어디까지 나왔는데 어디에서 왜 안나왔지라고 보면서 했던 것 같아요..', '많은 분들께 도움될 것 같습니다.', '이제는 Group AA가 parent가 되고 Group A는 text와 마찬가지로 child가 되는건데 여기서 container layout을 row로 하시던 column으로 하시던 해 주셔야 group aa가 두 요소, 즉 group A와 text를 각각의 child로 인식하게 되지요.', '앗 제가 찾고 있던것 맞아요~', '피드백 감사드립니다!', \"JavascriptBubble getPostcode => bubble_fn<strong><i  setPostcodeJavascriptBubble getAddress => bubble_fn<strong><i  setAddress2. 다음으로 Workflow의 Run Javascript 내용을 아래와 같이 처리하시면 됩니다.new daum.Postcode({?   oncomplete: function(data) {      bubble_fn_setPostcode(data.zonecode)? ?   bubble_fn_setAddress(data.roadAddress)?   }  }).open();3. 자바스크립트로 처리한 값들을 버블의 input 엘리먼트에서 사용할 수 있게 지정합니다.Input 우편번호 엘리먼트의 initial content => JavascriptBubble getPostcode's value Input 주소 엘리먼트의 initial content => JavascriptBubble getAddres20705730\", '디버그 모드 스텝 바이 스텝으로 확인해 보니 그룹의 state는 output으로 설정이 되었지만 value가 비어있는 걸 알았어요 ㅎㅎ', '오 저는 이렇게 하기 힘들어서 플러그인으로 사용했는데 대단하시네용 ㅎㅎ', 'AWS와 연동해 이런 프로덕트도 만들 수 있다는 가능성을 보여주신 것 같아요.', '말씀해주신 것과 같이 1, 2번을 리피팅 그룹으로도 해보고 일반 그룹으로도 해봤는데...', '이렇게 경험을 공유해주셔서 너무 좋아요', \"팝업창의 데이터 타입을 '방명록'으로 두고, 데이터 소스는 비워주세요.\", '집단지성의 힘으로 풀어보아요!', '답변 너무 감사합니다', '이 과정을 전자동화 하는 것은 쉽지 않을 겁니다.', '저는 결국 우회하는 방법을 사용했어요.', '저도 가끔씩 기본적인 것에서 막히면 라이언님 글 보고 다시 나오곤 합니다ㅎ!', '1920으로 디자인 해 주시는 분들이 계시지만 ㅜㅜ 그대로 하면 노트북화면에서 가로 스크롤바가..', '다른분들 혹시 맵 서비스 연결해보신분들이 계시면 답변해주셨으면 좋겠어요!', '맞는지는 모르겠습니다.', ':)좋은 플러그인을 공유해주셔서 감사합니다!', '글보다 헷갈렸네요..', '하고 있지만 언젠가는 저에게도 필요한 정보네요!', '알려주신대로 하니 오류 없이 잘 작동하네요!!', \"방문했을 때 'n번째 방문자님 환영합니다~!'\", ':)남겨주신 글대로 적용해보았는데요.', '일단 데이터를 url로 보내고(text)싶으시면 영문으로 작업 하셔야 합니다! 페이지 소스가 정해지지 않는 이상 url로 보낼때는 text만 지원됩니다. (리스트를 보내시면 color=red,yellow,green 이런식으로 파라미터가 갈 것인데 이걸 다시 split 해서 따로 데이터 처리를 하고 다시 리스트로 만드셔야 할겁니다. ) 만약 저라면! 1) 검색결과를 다른 페이지로 보내기 보다 한 페이지에서 검색결과를 보여줄 수 있도록 디자인합니다 2)', '이부분은 앱에서 처리하시는 것이고 버블과는 무관하구요.', '요금제로 인해 도메인 연결이 안되는 것 같습니다!', '방법이 있을까요?!', ':D', '같이 화이팅해요~♡', '기대되는 아이디어네요', '그러다보니 IT 서적 출판을 꺼리는 경향이 있습니다.', '골프나 스포츠 레슨부터 일단 예약이 필요한 1인샵에는 활용할 수 있을것 같아요!ㅎㅎ', '저기서 말하는 퍼포먼스는 초기 로딩시 속도, 불러오는 데이터 등 여러가지를 판단하는 것으로 보이는데요.', '알려주셔서 감사합니다!', '지금쯤 가고 계실까요?', '국내 버블 생태계가 더욱 더 켜저서 다채로운 서비스들이 나오면 좋겠네요 ㅎㅎ', '앗 그렇군요.', '저도 그토록 원했던 것이었는데, 감사합니다!', '빠른 대응도 역시 노코드라서 가능한 것 같아요.', 'uri에 로그인 버튼이 있는 페이지의 url을 등록해야되네요', '무엇보다 설계(DB)가 중요하다는 것을 절감하고 있는 와중입니다.', '이 원인만 알아내면 해결될 것 같긴 합니다.', '도움이 되기를 바랍니다.', '그렇죠?ㅎ', '제가 custom format을 잘 못 설정했었던 것 같습니다', '그래도 모르니 고객센터에 문의 남겨보세요!', '대단하시네요!', '플로팅 그룹을 쓰는 게 맞는데 어떻게 표현했는지 알려주시면 좋을 듯 합니다~', '최적화는 언제나 고민이고 그 방법이 일관되지 않습니다.', '혹시 제 지인이신가요..?', '정말 감사드립니다..', '커뮤니티 소개까지 해주시고 정말 감동입니다 ㅠ', '수정하셔야될듯.. ^^', '외주를 맡겼는데..', '그러면 애초에 코드로 시작할걸 하는 생각이 들죠.', '#NAME?', '아,, 이 사이트에 광명이 깃들길~~ 고맙습니다.', '자바스크립트를 활용해서 해당 엘레먼트 id의 css 속성(z-index)을 바꿔줄 수는 있을 것 같아요.', '1. 공고를 하나 올리면   2. 공고테이블에 1개 row 생성 + 업무테이블에 1개~11개 ( 요청된 업무수많큼의) row 생성이걸 하나의 워크플로우에서 해결할 수 있는지가 궁금합니다.', '맞습니다ㅠㅠ', '사용성도 좋고 속도도 빠르네요.', 'Container layout을 살펴보세요~', '댓글 남겨 주셔서 감사합니다!', '이런 감정 맞으실까요?', '이 timestamp를 쓰는 다른 부분 즉, 암호화 부분과 정확하게 동기가 되지 않아서 생기는 경우가 많습니다.', '화이팅입니다 !', '답변에 시간 내주셔서 다시한 번 감사합니다', '필터링을 Unique ID로 한 건 , 직접 지정한 파일들이 삭제되었나 혼자서 알기 쉽게  조정 해 놓은 거에요!', '반갑습니다 ^^', 'Polling 구현이시면 퍼포먼스 측면에서도 선택지별 카운트를 넘버로 관리하는게  이전의 구현하고자 하는 방식(리스트를 길게 하는것) 보다 좋은 방법인것 같습니다 .', '이름....', '너무 좋은 말씀입니다.', '찬우님 답변처럼 한글로 하셔도 전혀 문제 없습니다', '그리고 덕분에 문제도 해결했습니다!', '희철님께서 말씀 해 주신대로\" 파일매니저에 저장되어 있는 파일 자체 \" 를 삭제 하고 싶은데 , 제가 올린 워크플로우에서 URL을 가져오는 액션이 선행되야된다면, 어떤 워크플로우로 선행을 하는게 좋을까요 ?', '아래 문건 참고해주시면 이해가 빠르실거예요', '퇴사 후 다시 창업 멋지십니다..', '지금 확린되는 문제는 클럽과 유저의 뎁스를 구분하지 않아서 혼란이 발생한 듯 합니다. .', '혹시  공유해주신 element에 별도의 설정이 적용되어있나요?', '[버블로 인스타그램 만들기] 블로그 & 강의 운영하는 Ryan 이라고 합니다!', '파라미터로 세팅할 경우 go to page로 할때 페이지를 필수로 지정해야하던데요.', '사실 버블도 제가 처음 썼을 때와 다르게 좋아진 부분들이 많거든요.', 'option 기능을 이용해 각 선택지별 점수 값을 부여하면 됩니다', 'FTP로 접속하신다는게 좀 이해가 안되는데요', '대혁님 참여해주셔서 너무 감사드려요.', '답변감사합니다!', '처음으로 후기 글이 올라온 것 같아요.', '지금은 400 Bad Request가 나옵니다!', 'API호출은 잘하신것 같아요.', '와 이게 어떻게 가능하죠?', '400은 보통 요청자 쪽에서 요청을 잘못했을 때 반환 값이 제대로 나오지 않는 경우가 많습니다.', '반응형 페이지 작업이 실개발 보다 번거롭지 않나 생각을 좀 했는데, 말씀하신 내용이 참고가 되겠습니다.', '정확합니다!', '사실 그렇게 하면 간단한건데 그냥 문득 버블 자체 문법으로 가능할지 궁금해져서요!', '이거 외에도 제가 이전에 만든 커뮤니티 기능도 있습니다', '잘 봤습니다~', '버블 강의 찾고 있었는데 감사합니다!', '아...소셜 로그인으로 로그인 해야한다는 뜻이었습니다.', '그 사례를 보여주셔서 많은 분들께 도움될 겁니다.', '감사합니다. ?♀?', '에디터에서만 요소의 테두리가 표시되고 유저에게는 보여지지 않아요.', 'API Initialize는 말씀하신대로 정적인 값(단 Timestamp는 5분 이내)으로 하면 되고, 그 이후에는 Private를 해제한 상태에서 API를 트리거 할 때 동적으로 넣을 수 있네요.', 'yes/no값이 다른 엘리먼트에 영향을 미쳐서 그랬던거였군요.', '(filter의 advanced는 가급적 사용하지 말라고 조언하네요)', '정상적으로 움직여요 !!', '어딘지 모르겠지만, 틈틈이해봐도 계속 작동을 안해서 심플하게유저가 url 인풋 > 구글시트에서 imprtxml 함수로 url의 콘텐츠 긁어오기 > 프론트에서 띄우기이렇게 해결하고 있습니다..ㅋㅋ', '저도 재린님이 겪었던 새로고침 문제를 겪고 있는데요.', '그렇네요.', '혹시 플러그인 element의 스크린샷등을 함께 올려주실 수 있을까요?', '왜냐하면 글라이드야', '너무 감사드려요!', '고맙습니다!!', '덕분에 시야가 트였습니다', '오오 그렇게 느끼실 수 있겠네요', ':)이번 주 뉴스레터로 샤라웃도 나갑니다~!', '추가로 Ungroup 관련해서는 단축키는 없는대신 그룹 선택하고 우클릭 하시면 Ungroup 메뉴는 있으니 한 번 활용해보세요', '제가 말씀드린 외주개발사와의 분쟁 사례를 거의 대부분 겪으신 거 같아요 ㅠㅠ', '살짝 고민이 있던 부분이었는데 역시나 짚어주셨군요!', '밖이라 적용해볼 수는 없지만 우선 지푸라기라도 잡은 느낌이에요', '와 너무 멋지네요.', '지금도 모노데이 모집 공고 하나요?', '乃', '(수정 : 아래 희철님 답변이 달려있는 줄 몰랐네요 ㅎㅎ 아직 UI에 적응하는중입니다.)', '경험하신 내용을 그대로 공유해 주셔서 정말 감사해요.', '아 그렇군요..', '리피팅 그룹을 감싸는 그룹이 없는데도 저 현상이 나타나더라고요ㅎㅎ', '뭔가 공감되는 부분이 많네요.', '너무 상세히 설명해주셔서 바로 이해했습니다.', '질문 주셔서 감사합니다.', '미리 감사드릴게요!', '당장 뭐 부터 시작할지 막막했는데 클론 가이드 따라서 만들어 보면 좋은 학습이 될 것 같습니다.', '이미지가 잘 보이지 않지만, 글을 보면 현재 구조가 repeagting gorup -> cell -> parent group -> button element 순으로 유추되네요.', 'y/n 때문에   위에 \"판매인증...\"도 나오지만,아래쪽에 다른 추가 컨텐츠를 보여주도록 또 다른 엘리먼트가 조건때문에 더 나오고 있었는데...', '저도 똑같이 네이버 클라우드 플랫폼에서 카카오 알림톡 발송하려고 API 연동해보고 있는데..', 'There was an issue setting up your call.Raw response for the API Status code 400missing_text_or_fallback_or_attachments로 나오는데 어떤 부분을 손봐야 할까요?', '이건 저도 해보지 않은거라 궁금합니다', '그래서 노코드, 버블스러운 방식으로 문제를 가능한 해결해보려고 노력하고 있습니다.', '산 넘어 산이에요.', '10. 로더 사용하지유저 입장에서 화면에 잠깐이라도 무엇이 보이지 않으면 느리다고 느낍니다.', '1. 최상단 헤더 아래에 메뉴바 두는법 혹시 최상단 메인 헤더 높이만큼, 세부 메뉴바의 플로팅 그룹에 margin을 주면 안되나요?', '맛집 클릭해서 정보나오면 맨 밑에 광고나오던데 게시가 된거 아닌가요?', 'DB 설계라....', '말씀하신대로 하니까 됐네요.', '버블을 앱으로 출시하는 건 모두 wrapping이라는 방식을 써요.', '3. 이미지는 JPG나 PNG가 아닌 SVG로 준비해야 합니다.', '뒷단에서 수학적인 연산 처리가 필요할 것 같은데 이건 진짜 노하우와 아이디어 발상의 영역인 것 같습니다.', '버블을 얼마 전에 시작해서 저도 아직 한번도 DateTime Picker를 사용해본 적이 없어서 어떻게 해결할 수 있을지 공부해보려고 정리해봤습니다.', '좋은 질문 감사합니다!*', '세상에 너무 정성스러운 글이네요', '메일 보냈습니다.', '리유저블이 버블 에디터 시스템 상 데이터 연계가 아쉬운데 해결 방법을 제시해주셨네요.', '인사이트 공유 감사해요~', '위 화면을 봐선 두 버튼을 Group으로 묶고 layout을 row로 하시면 될 것 같아요.', '궁금한게 있는데요.', '국내 버블 사용자들이 가장 문제라고 생각하는 부분이 결제였는데요.', '영상까지!', '드롭다운 선택의 결과값이 리피팅그룹으로 나오는 게 아니고 30000원 처럼 값으로 나와야 하는 건가요?', '아숩네요 ㅜㅜㅜㅜ', '희철님!', '맞아요', '제가 버블로 만든 웹 서비스가 몇 개 있는데, 하나는 35, 또 다른 하나는 65가 나오네요.', '마지막 답변에서 모든 게 갈음될 것 같습니다. ㅎㅎ', '가입 인사를 쓰고 싶은데 공간이 마땅치 않아 여기에 남깁니다.', '반려기술이라는 표현 좋네요..', '폴리미 자주 놀러오셔서 사이드로 하시는 작업들 피드에 남겨주세요', '전문이 아니다보니.', '조금씩 쌓아나가면 뭐든 만드실 수 있을 거에요.', '지금도 딱히 문제는 없고요.', '이 부분은 실수가 있으면 안되기 때문에 정산 기준을 정해놓고, (예를 들어 결제 후 14영업일 뒤 정산 혹은 매월 1일 전달 금액 정산 등) 수기로 한꺼번에 처리하는 경우가 많습니다.', '세팅에 넣으라고하고 캔버스에도 넣으라고 한는데 잘 모르겠어서요! ㅠ', '같이 고민해 봐요!', '일월화수- 는 리피팅 그룹이 아니라 그냥 텍스트로 만들었구요', '화면 사이즈는 사이트의 성격마다 다르지 않을까 싶어요.', '개발공부가 엄두가 안났는데 버블을 알고부터 이것저것 찾으며 공부중이었는데 너무 반갑습니다.', '시도 해 보시고 또 문제가 발생하면 공유 해 주세요.', '오히려 시간이 좀 들었습니다. ㅎㅎ', '혹시 매주 웨비나 강의 하시나요?', '저도 요즘 멘탈이 많이 흔들려서.. ㅠㅠ', '오호 그렇군요!', '멘토링 받는 분들도 데이터베이스 구조에서 실수를 많이 하셔서 적어도 ERD 관련 공부는 하고 빌드 하는게 좋아요', '예약 및 결제를 진행했을 때, 서비스사에 수수료를 부과하는 것도 구현을 하셨을까요', '말씀하신 기능을 구현하는데 각 페이지를 실제로 페이지로 나누실 것인지 아니면 한 페이지 안에서 그룹으로 하여 single page로 하시느냐에 따라 달라질 듯 합니다.', '혹시 버블 공식 메뉴얼링크나 어떤 플러그인 사용하는지 아시면 알려주실 수 있으신가요? ㅜㅜ', '다만 1초가 안되는 시간이어도 요즘 사용자들은 기다리지 못할 수 있어요^^', '곧 수정할 예정이고요;;', '결국 본인에게 맞는 최적의 시스템은 경험 쌓으면서 만들어나가는 거죠. ㅎㅎ', '브라우저별로 특성이 달라서 각 브라우저별로 나눈것입니다.', '조금씩 정리해볼게요', '도움이 되셨길 바랍니다..', '시리즈 앞으로도 기대할게요 ㅎㅎ', '아직 기획 단계라 완전히 구체적인 형태로 문의드리지 못하는 점 죄송합니다.', '거의 3일을 이거랑 씨름했었는데 덕분에 큰 거 하나 배울 수 있었습니다!', '혹시나 해서 여쭤봅니다', '대신 얼마 전 마친 외주개발건으로 작성했습니다. ^^', '제가 질문을 이해 못한게 아닐까 싶긴해요 ㅠㅜ', '답변 감사합니다', 'ㅎ 백단 프로세스는 제가 초보라 챗지피티와 관계없이 많이 복잡해지긴 했었어요..ㅜㅜ', '와우~ 너무 감사합니다~~', '뭔가 API에 대해서 모르시거나 전통적인 방법으로만 서버 접속이 가능한 것 같습니다?', '별도의 데이터타입이라 함은 번호 필드를 만들어 count 를 해두고 그걸 사용 하라는 의미인가요?', '저도 플러그인들을 좀 만들어볼까 하다가 제 비즈니스 하느라 엄두도 못내고 있는데 대단하십니다!', '어떤 코드 말씀하시는 걸까요?', '시간 내셔서 답변해 주셔서 감사합니다!', '결과값에 do a search for~ 결과값 type 설정한 뒤 condition에서 type의 field값이 dropdown의 value와 같을 때 로 각 dropdown별로 걸어주니까 됬어요!!!', '그렇다면 굳이 do a search로 하시기보다는 옵션 셋이나 컨디셔널에서 initial 값을 지정하는 방식으로 하시는 게 더 나을 수 있습니다.', '다른 질문들도 많이 올려주세요', '혹시 하셨다면 어떻게 하셨는지 알 수 있을까요ㅜㅜㅜ', '버블로 이런 사이트를 구현한다니 대단하십니다.', \"'힘빼지 말자', '완벽주의 버리자' 이런 것들에 모더레이터 삼인방도 엄청나게 공감했습니다 ㅋㅋ\", '생각보다 간단히 해결되는 문제였네요ㅠ', '이 가이드를 참고해서 앱 개발자분이 작업을 해주시면 될겁니다.', '찬우님 부족한 글에 댓글 감사합니다!', '와..또 이런 방법이 있었군요.', '알려주신대로 진행해서 해당 스크롤 이후로 보이는 바가 되었는데 이게 matgin이나 pading을 줘도 가운데로 안오는 경우는 어떤걸까요? ㅠ', '메일로 답변 드리겠습니다', '지훤님 크흡 리스펙입니다.', '각 버튼에 custom state를 만들고 속성은 yes or no로 주었습니다.', '역시 재은님 언뜻 들어도 버블 짬이 느껴집니당 ㅎㅎ', \"그리고 하단의 '다음' 버튼을 누르면 위 버튼들의 state들에 기반해서 list를 만드는 것이 목표입니다,예를 들어 제가 A, B, C, D, E, F의 여섯 버튼을 구성해놓고, 사용자는 A, C, F 버튼을 눌러 선택한 후 (클릭을 통해 해당 버튼들의 state를 yes로 만든 후) '다음' 버튼을 누르면 해당 사용자 DB에 A, C, F 라는 List of Texts 항목이 채워졌으면 합니다.\", '아래 링크로 카카오톡 남겨 놓으시면 상담 도와드리겠습니다!!', '아무래도 ㅎㅎ 그런데 크기를 % 단위로 지정하면 어느 정도는 가능하지 않을까 싶네요. %로 너비를 지정하면 감싸고 있는 그룹의 크기에 비례해 줄거나 늘어나니까요.', '만약에 평일이라도 하루종일 한다면 연가를 내고 참석하겠습니다.', '박재은 님!', '카톡방 반주상 po 님이 답변 주셨습니다.', '해당 사항을 결정할때 어떤 부분을 고려해보는게 좋을까요?', '너무 좋네요.', '힘이납니다 ㅎㅎ', '응원 감사합니다~!!', '제가 이 정도인데 훨씬 앞섰던 주형님께서는 얼마나 설레실까요..ㅎㅎ', '제 경험상 네이버의 unix timestamp의 유효시간이 짧습니다.', '도움이 됐다는 말 들을 때마다 기분이 좋습니다.', '왓 진짜 대박이네요...!!', '그야말로 초심자를 위한 백서나 다름 없네요 ㅎㅎ', '찬우님.', '우선 준호님 진심으로 감사드려요.', 'Air copy to clipboard 플러그인 쓰시나요?', '어떤식으로 나오는지 궁금해서요.', '혹시 연락처나 카톡 아이디 알수있을까요?', '말씀하신 부분 공감합니다.', '저도 동일한 문제에 봉착하여 아래 메세지 공격만 받고 있어서요ㅠ-------------------------------------------', '무엇보다 단순하게 설정해야 속도에서도 더 빠르게 가져갈 수 있습니다.', '감사해요, 소정님-!', '찬교님 말씀대로 버블로 이걸 따라가려면 하나씩 다 만드셔야 합니다.', '조금 더 명확한 설명을 해 주시면 좋을 듯 합니다.', '당연히 해당 설정값들이 있을거라고 예상했는데 Dropzone Multifile Uploader 플러그에는 없군요.', '아 ㅋㅋㅋㅋ 제가 방현님 글 쭉 읽다가 올해의 앱 게시글에 못 헤어 나와서 앱빌더들로 생각했네요', '사실 저희가 모두의노코드를 운영하는 이유가 이런 문제를 해결하고자 하는 건데요.', '하시다가 혹시 삽질의 경험이 필요하시면 언제라도 연락주십시오~', '말씀하신대로 시장이 작기도 하구요.', '6*7 의 리피팅 그룹입니다!', '커뮤니티의 활성화를 위해 민감정보가 아니라면 여기 댓글을 통해 질문 남겨주시면 확인해보겠습니다.', '아직 이런 부분은 코드로 풀어내야 한다는 게 너무 아쉽습니다 ㅠ', '네 daum postcode.js는 페이지내에 있어야 됩니다.', '이 내용도 추가해주어야하는걸까요?', '홍열님 커뮤니티에서 자주 봬서 내적 친근감 생겼는데이렇게 좋은 프로덕트도 런칭하시다니 너무 축하드려요!', '6. 옵션셋 최대한 활용하기 DB나 옵션셋이 비슷한 개념이긴 하지만, 계속 늘어나는 데이터이거나 보안이 필요한 데이터가 아니라면 최대한 옵션셋을 활용하는 게 좋습니다.', '좋은 소식 꾸준히 공유해주세요', '한국에 이런 커뮤니티가 생긴게 너무 설러네요!', '정말 중요한 사업진행에 힘을 써야 맞지요.', '특정 페이지로도 할 수 있고 모든 페이지에 똑같이 하시면 모든 페이지에서 카운트가 잡힙니다.', '몸 건강히 하시는 일 잘 마치고 오시는 게 중요하죠.', '답변 감사합니다.', '응원합니다!!', '저 사이트에서는 아예 별도로 캔버스 기능을 개발해서 구현하는 것 같습니다.', '컨디션 사진 추가했습니다!', '꾸벅(_ _)', '멋지신건 알고 있었는데 더 멋지시고 외모까지 짱이십니다~', '그런데 보통 여기보다는 에디터 내의 플러그인 검색을 이용하기 때문에 굳이 이 부분에 노출될 필요가 있나 싶습니다. ^^;;', 'ㅋㅋㅋ 감사해요', '희철님께서 말씀하신대로 진짜 선물이네요.', '응원합니다 ㅎㅎ', '재은님!', '개발 전문 컨설팅을 하시는 분이 노코드의 세계를... 아무튼 반갑습니다.', '인균님!저희가 도와드릴 수 있을 것 같습니다ㅎ', '우왕  잘봤습니다 ㅎㅎ', '정성어린 답변 정말 감사하고 한국에 꼭 놀러오세요', '지난번에 이어 정말 감사합니다', ':) 갔다 오시면 연락 한 번 드리겠습니다~', '딱 궁금하던 부분이었는데 자세히 설명해주셔서 바로 적용했습니다.', '아쉽게도 기본기능으로는 지원하지 않고 플러그인을 활용해야 한다고 나와있었습니다', '잘 봤어요.', '덕분에 버블에서 카카오 소셜 로그인을 구현할 수 있었습니다.', '버블로 서비스를 많이 만들어 봤는데 경험상 데이터베이스 구조를 잘못 짠 경우에 많이 발생합니다.', '저도 버블에서 한글이 포함된 CSV를 다운로드 받아서 엑셀로 열어보니 한글이 깨져서, 구글시트에서 불러오니 한글이 정상적으로 보였습니다.', '보통 데이트 포맷은 타임존이 유저의 타임존으로 맞춰져서 포맷됩니다.', '최고입니당..', '버블 그룹은 크기를 dynamic 하게 지정할 수 없어서 저는 결국 css 떡칠로 만들고 visible 속성만 버블로 조작하였는데...', '항상 답변주셔서 감사합니다.', ':)글라이드는 깊게 알아보지 않고 우선 버블과 비슷한게 아닐까 싶어서 배제해버렸는데,검토해봐야겠네요', '기대됩니다', 'Map 엘리먼트의 Marker address(single일 경우) 또는 Data source(list일 경우)에 기본값을 넣어주세요.', 'PC로 해놓은 것 전부 다 수정하시지 마시고요!', '희철님 바쁘신데 죄송합니다!!', '좋은 하루 보내세요~~', '저도 개인적으로 만들어 쓰고 있었는데 플러그인으로 만드시니 훨씬 편리하겠네요 ㅎ', '누구나 만들수 있는 정도에요 $%$%', '이를 프롬프트로 명령을 내렸을 때 원하는 만큼의 개발 코드를 짜줄수도 있지만, 100% 완벽하게 대체해주지는 않기 때문이죠.', '아마도 여전히 fixed layout으로 놓고 하신게 아닌가 싶네요.', '크,, 정말 린하고 좋은 프로덕트네요 ㅎㅎ', '반갑습니다!!', '참 잘하셨습니다.', '요근래 버블이 우리 속을 너무 많이 썩였죠 ㅠ', '현재 공개된 강의들이 이전의 Fixed 기준으로 제작된 경우가 일부 있습니다.', '[동일 페이지로 이동시에는, 버블 특성상 페이지 전체를 refresh 하지 않아서 display data 액션을 넣고 go to page를 넣더라도 페이지의 데이터들이 날라가지 않습니다.]이 부분이 문제인 것 같은데 display data 액션이 날아가는 것 같습니다.', ':) 버블 유저의 대응을 성심성의껏 해준 왈라 팀도 정말 감사하네요.', '저도 제 서비스 초기에 비슷한 문제를 해결하려고 했었는데요.', '만약 마지막 입력 위치로 머물게 하고 싶다면 Custom state하나를 만드시고 워크플로우 마지막에 custome state에 앞에서 입력한 list source를 넣으시고 Map 엘리먼트의 Marker address나 Data source에서 이 custome state를 참조하게 하시면 입력값이 없어도 custom state는 유지가 되니 이동은 하지 않을겁니다.', '딱히 고민 안했던 부분인데 진영님 덕분에 좋은 방법 알게 됐네요', '아고 제가 설정하는 걸 깜빡했나 봅니다 ㅠ', '-비용은 제작자에 따라 매우 천차만별이라 확실하게 말씀드릴 수는 없을 것 같고 제작해주시는 업체 찾으실 때 견적을 상세히 달라고 하시고 납득이 가시는 금액일 때 진행하시는 게 좋을 거 같아요 ^^', '뭔가 버블 개발 버전을 본 것 같아 눈이 돌아갑니다 ㅋㅋㅋ', '커스텀 스테이트는 생각 못해봤는데 한번 해봐야겠네요~!', '앞으로 하실 프로젝트도 궁금하고 많이 기대되네요.', '예를들어 margin right을 20px(gap 간격만큼) 주시고, last item만 조건설정으로 margin right = 0px 두시면 됩니다!', '처음 설계하실 때부터, 모바일 고려하셔서 만드셔야 합니다.', '좋은 정보 감사합니다.', ':)팍팍한 현대 사회에 이런 아이템이 많이 나왔으면 좋겠네요 ><', '오~ 너무 좋은데요!!?!', \"단순히 '노코드는 보안이 취약하더라' 라는 주장으로는 정확한 답변을 드릴 수 없지만 버블의 기능 (Data의 Privacy rule, workflow의 only when 등)으로 웬만한 수준의 보안설정을 할 수 있습니다.\", '아쉽게도 Undo, Redo 단축키는 없는 것 같네요 ㅠ', '멋집니다!', '하다보니 후자는 생각보다 뭔가 복잡하길래 공부하기 귀찮아서 그냥 코드 복붙을... ㅋㅋ', '가능하면 스타일을 활용해서 모아주시는 게 좋습니다.', '좋게 봐주셔서 감사해요', '강의 기다리겠습니다~! ^^', '통통 튀는 아이디어 기대하고 있겠습니다!', 'Authorization:\"Bearer xxxxx\"로 접근하니 되더라고요', '3번은 직접 DB엑 기록을 하고요', '항상 응원하는 팬ㅎㅎ', '1번 테이블 성함 주민번호 주소2번 테이블성함 일한날짜이렇게 짜라는 말씀 이시죠?', '디스콰이엇에서 보고 오픈을 쭉 기다려왔는데 오픈되어있었네요 ㅎㅎ', '워크튠 제가 오프라인 식음료장 운영하시는 분들 만날 때 소개하고 있는데 승승장구 하셨으면 좋겠습니다', '찬선님 덕분에 힘이 나네요', 'Fixed가 아닌 Column으로 설정해야 하는게 맞는건가요?', '대박나시길 기원하겠습니다 ㅋㅋ', '굉장히 간편해서요.', '저랑 이름이 비슷하신ㅎㅎㅎ 대표님 강연에서 이력보고 찾아왔습니다!', '이 부분만 효율적인 방안을 찾으면 될 듯 합니다.', '스탬프투어 서비스 개발이 필요하던 차 검색을 통해 알게 되었습니다.', '오 되는군요...!', '이런 의미 같네요?', '(보안문제, 유저가 엑셀 데이터를 업로드용으로 가공해야하는 불편하다는 문제가 있었습니다)', '스터디가 또 열리면 참석하겠습니다', '감사합니다 !!!!!!!!!!!!!!!!!!!', '오...1번이 맞았습니다.', ':) 도메인이 어려워보이지만 생각보다 유연한 시스템이고 또 잘만 해놓으면 굉장히 있어(?) 보입니다 ㅎㅎ', '생각하지 못한 부분이었는데, 덕분에 간단하게 해결했습니다.', '제가 B2B강의 할 때 4050분들이 정말 많던데 모두의노코드에서도 뵙다니 영광입니다^^', '그게 지금 안되서 글을 올렸습니다.', '다른건 대충 끄적여라도 봤지만 DB라는 녀석은 말로만 뱉어봤지 들여다 본적도 없으니 말이죠.', '이런 전체적인건 완성된 이후에 하려고 하면 힘듭니다 ㅠ', '와, 대단하네요.', \"generator가 어떤 데이터 타입인가요? 's width나 height는 말 그대로 요소의 가로폭이나 세로폭 값을 소환하는 거라서 숫자일 가능성이 높은데요.\", '읽으면서 계속 입에서 탄식이 나오네요. ㅠㅠ', '저도 시작할 때는 반신반의했습니다.', '방송 스케줄은 유저와 함께 만들어나가는 것을 목표로 하고 있습니다.', '응원합니다.', '버블 측에 문의해도 알려주진 않는거죠?', '프리뷰 누르면 1초 잠깐 보이고 사라지네요..', '라이브 URL로 심사했는데도 손상된사이트 문제는 해결이 안되네요 ㅠㅠ', '이미지 삽입이 안되네요', '그런 후 구매 버튼 누르면 구매 화면으로 가고요.', '등 SNS 기능 구현에 대해 다루고 있습니다.', '중개 수수료 부여하는 부분은 별도의 정산 시스템을 구축하시는 게 맞습니다.', '만드신 것 잘 봤습니다!', \"말씀주신 'Collapse when hidden' 기능 사용을 위해선 상위 레이아웃이 Fixed로 되어있으면 안된다 하여페이지 부터 리피팅 그룹 및 그룹 텍스트 모두  fixed를 풀고 'Collapse when hidden'기능을 체크하여 확인 했는데 동일합니다 ㅜ.ㅜ\", '입문자 클래스는 시작하기 1주일 전에 공지할 예정이에요.', '다만 왜 Group 안에 Image를 넣는 방식으로 해야 하는지는 의문이 남네요 ㅜㅜ', '뭔가 가능할 것 같은데요.', \":) 한 가지 더 덧붙여드리자면 이렇게 하는 방법도 있고, 스케쥴링이 아니라 데이터베이스의 'bulk' 기능으로 API를 돌리는 방법도 있습니다.\", '너무 감사드려요!!', '노코드 툴은 어디까지나 적정 수준, 적정 자원일 때 효율적인 도구일 뿐입니다.', '연동하셨다면 현재는 기존 프롬프트 값만 가져올 수 있나요?', '혹시 강의 코스는 어디서 확인할 수 있을까요~?', '모바일 페이지를 따로 만들어서 연결하시는 방법도 있어요.', '넷플릭스나 왓차나 개인이 보는 콘텐츠에 따라 후속 콘탠츠를 추천해주는 건데, 이는 각 콘텐츠에 연결된 태그들을 어떻게 설정하느냐에 따른 알고리즘의 이슈입니다.', '준호님 실행력 진짜 미치신것 같습니다,,', '이 내용 해당 글에도 업데이트해서 수정하도록 하겠습니다!', '와 재은님 정말 좋은 답변입니다.', '멋집니당!', '저도 같은 생각입니다.', '성공했습니다!', '무리 없어 보인다는 말에 용기가 생깁니다', '그부분은 복잡한 이야기이긴 합니다만,자체적인 보안팀을 갖고 있는 정도의 회사가 아니라면 일반 개발에서도 보안 이슈는 다루기 까다로운 부분이긴 합니다.', '국룰 인정입니다', 'fixed가 과거의 유물로 남고 있죠 ㅋㅋ', '심사에 필요한 걸 준비하느라요.', '듣기만 했던 AWS에서 데이터정리를 하는 방법도 궁금하고 버블DB에서도 가능하다니 빨리 공부하고픈 마음입니다.', '카카오의 어떤 API를 사용하려 하시는지요?', '리피팅 그룹이 어떻게 구성되는건가요?', '공유할게요', '버블 초보자로서 긴가민가로 관망중입니다.', '너무나도 좋은 글 감사드립니다.', ': 감사합니다', '100정도 들것같네요.', '포럼에서는 리피팅 그룹에서도 잘 작동한다고 하는데, 제가 직접 실험해보진 않아서...', '만약 button element에서 액션 이벤트를 설정하는 거라면, current cell은 나오지 않을겁니다.', 'mrSong0574 카톡아이디인데, 연락주세요~', \"알려주신 방법으로 해보고 있는데요, 그냥 생각하기에는 상세화면으로 페이지 이동할 때 current cell's index나 unique id를 보내주고, 상세화면에서 다시 리피팅그룹 리스트로 돌아갈 때 해당 파라미터를 그대로 보내준다음, 페이지를 불러올 때 리피팅그룹의 이 셀의 위치로 scroll to entry를 걸어주면 될 것 같았습니다만..\", '헉 완전 성공했습니다 ㅠㅠ', '현재 페이지에 리피팅 그룹을 만들고 그안에 상단에 그룹을 만든다음 각 영역별 텍스트를 만들어 데이터를 불러오게 되어 있습니다.', \"왠지 저라면 floating group 말고 group으로 하고, 왼쪽 바디와 오른쪽 '플로팅 될' 부분을 row container로 한번 더 싼다음에, CSS로 오른쪽 메뉴 그룹 친구한테 position:sticky , top : xx% 로 놓을 것 같습니당.\", '와~ 멋지십니다!', '정독했습니다.', '저희 포럼 사이트 하단 푸터에 보면 카카오 아이콘이 있습니다.', 'ㅎㅎ 저도 늘 다른분들께 완벽주의를 버려야 한다고 조언드리지만 막상 저도 놓기가 쉽지는 않더군요.', '웨비나 신청을 했다가 듣지 못했는데 혹시 다시 들을 수 있는 방법이 있을까요? ㅜ', '1번과 2번은 리피팅 그룹과 커스텀 스테이트를 활용하면 구현이 가능할 듯 합니다.', '이거때문에 다른 노코드툴로 넘어가는 분들도 많더라고요', '그리고 입문자 클래스도 매월 진행하고 있습니다.', '네 희철님 말씀주신대로 하니까, 변경되었습니다.', '저도 이번에 버블로 모바일앱을 만들기 위해서 작업을 하다가 시행착오를 좀 겪었습니다.', '혹여 안되더라도 채팅으로라도 보내주신 질문에 대한 답은 받도록 하겠습니다.', '1 page app 으로 만들시에는 게시판별마다 slug를 붙여서 표시하는 방법은 없을까요 ..?', '좋은 생각이에요~!', '관심 가져 주셔서 감사합니다.', '기획과 개발의 일원화가 정말 뛰어나죠.', '데이터 탭에서 privacy 를 들어가고 user 테이블 설정을 체크해보세요', '깔끔하고 좋은 글 감사드립니다!', '죄송하긴요ㅠ!!', \"'노션 이력서 소개팅'이라는 서비스에서 서베이 폼으로 받은 내용을 너무 이쁘게 가공한 것을 보고 저도 욕심을 좀 부렸던 것 같습니다.\", '뵙고 이야기 나누고 싶은데 연락주세요!', '하나만 더 여쭤봐도 될까요?', '지금은 직접 해보기 전에는 알 수가 없어서 아쉽네요.', '읽어주셔서 감사합니다 !', '티켓의 가치도 좋은기능이 많은걸요~ 문형님 같은 실력자가 알아주시니 몸둘바를 모르겠네요.', '윗글에 일시는 7월20일 (화)로 되있어서..ㅎ', '해당 플러그인 출시 완료했습니다!', '저도 유사한 부분에서 걸려 1주일정도 고생했던 기억이 있습니다.', '디버그모드에서는 사용이 안되나요?', '에러메시지 상으로는 뭔가 버그가 있다는 것 같은데 이게 버블 버그인지 api제공처의 버그인지 잘 모르겠네요.', '저도 시간 날 때 들여다보겠습니다!', '기존에 백엔드인 Java Spring를 공부를 하였습니다.', '아마 이미지를 업로드 액션을 할 때, 결과값으로 제공하는 이미지 경로를 사용하면 될 겁니다.', '기업 단위로 처리하기에는 너무 작은 규모라서요.', '모바일뷰 그대로를 데스크탑 뷰에서도 쓰는 경우엔 max 500이 조금 덜 답답할때도 있습니다.', '어서오세요!', '개발 사례: ?', '앱코드에서 수정을 해주셔야 해요.', '카카오가 카톡 상의 구글 소셜 로그인을 막고 있어서 그러한 오류가 일어납니다.', '일단 제가 말씀드린 키워드들을 기억하셨다가 여러 온라인강의나 포럼 등을 참고하셔서 습득하시면 될 듯 합니다.', '덕분에 힘이 납니다!', 'Do a serarch for 후에 filter나 sort, group by 등을 사용하는 것보다 더 낫다고 합니다.', '인스타그램 같은 프로덕트는 라이언님이 가르쳐 주셔야죠', '새로고침은 제가 Natively라는 래핑하는곳에서 워크플로우에서 새로고침', '알고리즘 설계는 좀 겁나지만 모두의노코코드 커뮤니티의 힘을 빌리도록 하겠습니다 ㅎㅎ', '2. 하지만 HTML엘리먼트와 CSS, Javascript를 사용하면 구현은 가능합니다.', '국내 커머스 분야가 국외랑 실정이 매우 다르기 때문에 그동안 이들이 쌓아놓은 레거시와 인프라가 어마어마하기 때문이에요.', '엌..', '찾다보니, 반복되는 작업을 수행할때는 repeating group안에 워크플로우를 세팅하라는 내용이 있네요.', '혹시 어떻게 구성된 건지 보이실까요?', '한번 해 보겠습니다!', '영광입니다!', '박수 보냅니다', '정말 다행이네요!', '나중에 업데이트 될 거라고 믿지만, 현재로서는 소팅되는 기능이 단순한 편입니다.', '저희도 이런 데이터들과 관련하여 대시보드가 필요한데너무 탐나는 서비스 기능입니다', '예약건당 일정비율이라서..', '아뇨.', '진짜 좋은 서비스라고 생각해서 기억에 남습니다', '그런데 여기는 댓글이라서 혹시 이 바로 아래에 답변 작성란에 옮겨주실 수 있을까요?', '다른 방법을 계속 찾아보겠습니다!', '출시하면 잘 쓰겠습니다~!', '코드 안에 width와 height는 원하시는 사이즈에 맞도록 숫자를 수정하시면 되어요.', '참여 적극 권장드립니다 ㅎㅎ', '버블을 쓰면 아무래도 코드를 직접 넣는 것보다는 row가 늘어나긴 하지만 그렇다고 우리 눈에 띄거나 체감할 정도는 아니라고 생각합니다.', '역시 주형님 가장 좋은건 핫픽스 안쓰도록 잘 관리하는건데 현실은... ㅋㅋㅋ', '퀄리티도 뛰어나구요.', '화면 구성을 전체적으로 다시 손봐서 작업해야할것 같습니다.', '여기 누르시면 바로 저희 단톡방으로 오실 수 있어요!', 'The Go to page action does not reload the page if you are going to the same page that you are already viewing.', '저도 보면서 많이 배웠습니다!', '첨부 파일이 표시되지 않네여 ㅠㅜ', '정말 감사합니다', '박재은', '답글 감사합니다.', 'privacy rule 삭제하니 정상적으로 됩니다!!', '버블로 넘어왔지만, 센서에서 실시간으로 서버로 넘기는 데이터까지 옮길 정도의 여유는 아직 없었어요.', '타임아웃 문제였군요 ㅠㅠ', '인터뷰 추진해주신 준호님과 정성담아 답변해준 그레고리 너무 감사합니다.', 'Ctrl-C V 보단 편리했었는데... ㅎㅎ', '보여주신 것만으로는 답변드리기가 조금 어렵습니다.', '감사합니다..', 'Setting - General 가셔서 제일 하단으로 내려가시면, Expose the option to add an ID attribute to HTML elements << 이 항목을 체크해서 활성화시켜주어야 합니다.', '괜히 우리나라 경제성장시기 주역이 아니시더군요 질 높은 강의로 보답하겠습니다', '대부분 리피팅그룹 내 gap 설정을 seperato를 투명으로 두께 조절해서 설정하시는데요,이 방식으로 하면 fixed number 컬럼갯수만큼 10개가 지정되어있어서 그 두께도 그만큼 무조건 자리를 차지하게 됩니다.', '반려기술 와...', '멋집니다!!', \"하지 않아도 'make changes to count'만 해도 '방문자 카운트'가 집계될 수 있는 건가요?\", '\"type\":\"value_error.missing\"현재 error body에서나마 엔코딩된 데이터를DB에 저장했고, decoding만 하면 되는 상태인데 하..', '감사합니다!!!', '이렇게 만들면 제 사이트에서는 (1) 페이지를 이동할 때마다 한 명의 접속자가 여러 번 count되는 문제, (2) 같은 기기로 여러 번 접속하면 여러 번 count되는 문제가 있을 것 같습니다!', '페이지가 로드 될 때를 트리거 이벤트로 설정하교, 스크롤 액션 이벤트를 워크플로우의 액션 이벤트로 지정하면 페이지에 들어가자마자 가장 최하단으로 자동 스크롤이 될 겁니다', '이제 내일 런던에 갑니다.', '특히 한국어 자료는 전무한 상황입니다.', '리유저블에서도 go to page를 적용해서 parameter값을 지정할 수 있습니다.', '단, 이를 무제한으로 사용하려면 sendrybird(맞나…?)를 설정 탭에서 연동해야 합니다.', '템플릿으로 시작하면 리소스를 줄일 수 있어 좋을 줄 알았는데, 추천하지 않는 방식이었군요 ㅠ', '아 예 넘 감사합니다.', 'index 페이지는 왜 preview가 안 되는 걸까요 ㅠㅠ..', '비교 2탄을 준비중입니다^^', '이야 너무 좋네요!', '남겨주신 글 보고 잘 연동했어요', '말랑한 시간에 말랑한 위로 감사합니다', '다만 여러 개의 방명록을 선택해서 delete a list 로 풀어가실 경우(복수 방명록 삭제)에는 재은님이 남겨주신 방법처럼 커스텀스테이트를 방명록 list로 지정하시는 방법밖에 없습니다!', '이렇게 좋은 강의 만들어 주셔서 감사합니다.', '좋은 저녁 시간 되세요', '그나저나 이름이 저랑 비슷하시네요 ㅋㅋ', ':)장단점이 명확히 파악이됩니다.', '그럼 히어오피스 화이팅입니다!', '버블이 내부적으로 어떻게 처리하는지는 확인해보지 않았지만, 웹표준 측면에서도 더 적합하지 않을까 싶습니다.', '한발 늦었네요 ㅋㅋ', '그냥 둘러보기라고 label을 달아 놓으셨으면 말그대로 그냥 둘러볼 수 있도록 해주심이 낫지 싶네요?', '처음에 테스트 푸시 보냈을 때도 앱이 켜져있을 때만 보내졌나요?', '다음부턴 border를 일일히 설정안해도 되겠어요!!에티터 링크입니다!', '말씀하신대로 관심이라고 생각하겠습니다! ㅋㅋ', '와 답변 정말정말 감사합니다!!', '- 오마이앱은 데이터관리를 어드민 대시보드 페이지에서 가능하기에 따로 써드파티 서비스가 필요하지 않은 올인원 툴인거죠?', \"정민님 민교님 답변이 마음에 드셨다면 이 답변 우측 상단의 '채택' 버튼을 눌러주세요!\", '넵 그래서 도메인 새로 구매했고, 도메인 반영되면 다시 심사 시도해보려고 합니다.', '아무리 해봐도. @', \"말씀해주신 대로 1. 생성된 이미지(Generated Image라고 이름붙임)에 이미지 타입의 스테이트를 추가하고, 클릭 시 스테이트가 Current cell's image를 가지도록 설정했습니다.\", '문형님 정말 감동입니다.', ':) 리트머스 응원합니다!', '개인적인 오답노트라고 생각하고 적었는데 다른 분들께도 도움이 되셨으면 좋겠네요 ㅎㅎ', '사실 지금도 하나가 걸리면 해결하기 위해 시간을 쓰곤 하고요.', '대규모 업데이트 직후라 아마 소소한 버그가 많을겁니다', '관련 플러그인이 있었던 것 같은데 기억이 안나네요 ㅠㅠ', '혹시 간략하게 두가지 더 질문드리자면, - K노코드는 현재 오마이앱 뿐인가요?', '잘몰라서 열심히 할뿐입니다', '갑자기 나타났습니다.', '예를 들어 결제, 유저, 상품 테이블을 잘못 연결하고 빌드를 했으면, 아예 리빌딩을 할 수 밖에 없습니다.', '체계적인 교육을 기다렸습니다.', '네네 모두 삭제했습니다..', '버블 중심으로 MVP를 만드신다니 저희 커뮤니티 취지에 부합하는 상황이시네요.', '버블로 앱 만드시는 분들이 혼자서 다 하는 경우가 많은데, 대단하십니다~!!!', '혹시 제가 아는 강인님 맞으신가요?', '이미지로 하니까 잘되네요 ㅎㅎㅎ', '에디터 링크 공유 받아서 봐드릴게요.', '앞으로 더 잘 될겁니다 !', '워크튠은 준비는 마쳤지만 아직 앱으로 마켓에 출시하진 않았어요~', 'url paremeter방식은 브라우저 주소가 복잡해 지지만 브라우저의 뒤로가기 기능을 쓸 수 있습니다.', 'html 엘레멘트를 쪼그맣게 박아놓고 그 안에 아래 코드를 복붙해서 넣으면 스크롤바가 사라집니다.', '토스페이먼츠를 이용해서 결제하는 과정에서, 중개수수료를 어떻게 받는지 워크플로우를 몰라서 질문드립니다.', '아이디어가 너무 좋은데요?', '잘봤습니다!', '생각해보니 과거 커뮤니티 멤버 분 중에서도 이 타임 아웃 때문에 결국 문제를 해결하지 못하셨던 경우가 있었습니다.', '친절한 답변 감사드립니다', '말씀하신대로 pg사를 통한 결제 대금은 우선적으로 나에게 정산되기 때문에, pg사 수수료를 제외하고 정산 받음', '(포스트맨에서는 자체 디코딩까지 시켜줘서 잘 동작합니다..)', '그냥 단순하게 다 텍스트라고 보시면 돼요.', '동기부여 되는 스토리네요!!', '그레고리!', 'PDF 파일 다운 가능하나요?', '버블이 틴더도 가이드를 제공했군요.', '어머 예비 수강생이시군요 ㅎㅎ', '데이터베이스에 방문자수 관련 필드를 만들어두고 when page is loaded 워크플로우로 설정하여서 make thing chage -> 페이지 방문자수 = current page 페이지 방문자수+1 이렇게 하면 일종의 조회수 기능으로 구현되긴 합니다.', '버블이 자체 DB를 제공하니 굳이 airtable을 연결할 필요는 없을 것 같아요.', '너무 잘 정리해주셨네요 !', '카카오맵 연동하고 싶어서 씨름하던 중에 단비처럼 답변 찾아보게 되었는데요, 혹여 실례를 무릎 쓰고 전체 코드 쉐어 부탁 드려도 될까요?', '- value should be 색깔세트 but right now it is a List of 색깔세트이걸 해결하는 방법을 못찾아서 일단 원하는 결과는 나오길래 이렇게 했는데..', '비교과 과정으로 학생들을 전국 각지로 보내려고 하는데 영태님의 서비스가 참고가 될 수 있겠다 싶습니다.', '며칠전 슬그머니 한번 둘러봤었는데 모바일에서는 이리저리 깨져있고 하더니 말끔히 정리가 되어 있네요.', '이 글은 구글 디스플레이 광고 심사에 관한 내용이라 코드에 대한 내용이 따로 없어서 문의드려요.', '위 플러그인 사용했습니다 ! ㅎㅎ', '이렇게 세심하게 영상까지 제공해주시다니 센스!', '많이 배워가겠습니다', '고생 많으셨습니다!', '포기하지 않아주셔서 감사합니다 ㅎㅎ', '헛...', '답이 너무 늦었네요.', \"'노코드'도 하나의 언어로 생각하면서 열심히 배우고 있습니다!\", 'x0008_개인적으로 600시간을 투자해서 자신이 생각하는 아이디어를 현실화 시킬 수 있다는 것은 정말 대단한 툴이며 배울 가치가 충분히 있는거 같습니다.', '찬우님이 너무 설명을 잘해주셔서 더 보탤 게 없네요 ㅋㅋ', '0^', ':-)', '페이지 로딩 시 특정 조건일 때 스테이트를 부여하는 건 트리거로 인식을 안해서 아마 안될 거에요.', '안녕하세요~', '원래 기획 -> 디자인 -> 개발 순으로 핸드오프 하는 워크플로우였다면(기획+개발)x이터레이션 -> 기능 컨펌 -> UI/UX 작업 순으로 작업을 하게 된다는 점이 버블 개발의 유니크한 장점인 것 같아요.', '저도 1080, 1440를 사용하곤 합니다.', '저희 팀은 믹스패널에 이벤트를 쏴서 믹스패널 내에서 보고 있습니다.', '저도 지금은 받기만 했지만 나눌 수 있도록 노력하겠습니다.', '실행력도 대단하지만 세상이 정해놓은 기준을 깨뜨린 선구자라고도 생각됩니다.', '조언주신 바 카운트 필드 넣어서 일단은 해결했습니다.', '혹시 지금 발생하는 오류를 해결할 수 있는 방법 아시는분 계시면 답변 부탁드립니다.', '도움 되시길 바랍니다!', '이 때 SDK 형태로 만드는 것은 버블로 어렵다는 말씀이실까요?', '혹시,, 간곡히 부탁드립니다 ㅜㅜㅜㅜ', '그래서 이런 두 가지 목적으로 버블을 배워보려고 합니다.', '다만 워크플로우를 어떻게 설정해야 할지 헷갈리는 부분이 있습니다.', '혜림님이 하시는 것처럼 페이지소스보기 - bubble 확인하시는 것도 가능합니다.', '히든필드는 무조건 response를 단일문자열로 보내구요.', '다인샵이나 그룹레슨 등등 쭉쭉 확장을 생각하고 있습니다', '생각만해도 머리가 아파오네요 ㅋㅋ;', '잘 다녀오세요.', '그냥 둘러보기 버튼을 클릭해도 로그인을 요구하네요?', '자세하게 설명해주셔서 정말정말 감사드립니다!!!!!!!!', '늘 좋은 글 감사합니다!', '과찬이십니다~ㅎ', '꼭 필요한 플러그인이 아니라면 직접 만드는 것도 나쁘지 않습니다.', '셀프로 답을 찾았습니다~', '최종적으로 API 이니셜라이징 하셨는데도 그런건가요?', '굳이 등록을 하지는 않아도 무방할것 같네요', '이 프로젝트에 관심있습니다', '제가 제대로 이해했는지 모르겠는데 각 버튼 클릭 시 해당 버튼의 클릭 yes or no로 스테이트를 구성하셨다는 말씀이신가요', '강의 다 보고 왔어요~~', '어떤 컨테이너에 어떤 데이터 소스를 지정해야 하는지를 구체적으로 질문해주시면 도움 받으실 수 있을 것 같아요.', \"네 유저를 특정하지 않아도 조건식 자체가 'page is loaded'이기 때문에 어떤 유저가 페이지에 방문해서 페이지가 로드되면 카운트가 올라가는 방식입니다.\", '모든 궁금증이 다 풀렸네요.', '수동으로 넣을 필요가 없습니다.', '일단 버블지원팀에게 문의남겼고, 답변오면 추가 기재해보겠습니다', '답변 대단히 감사합니다.', '조만간 저희도 이 플러그인 사용방법에 대해서 더 많이 알릴 수 있는 기회 만들어 보도록 하겠습니다', '아마 거의 코드 베이스로 짜셔야 할 거라 쉽지 않을 것 같습니다. ㅠ', '헐..이렇게까지 상세하게 해주시다니...', '오류 제보 정말 감사드립니다.', '데이터를 다루면 백엔드가 일이 너무 많은거 같아요', '민교님은 뭐하시는 분인지 궁금하네요 ㅎㅎ', '답을 찾는데 도움 주셔서 감사합니다.', '2004년도에 시작했다면 20년이나 블로그.', '와우 디지털 정보 홍수가 개인화되고 있는 시대에 정말 필요한 서비스네요!', ':)추가 답변 남기겠습니다.', '해치하이커님 플러그인을 사용해도 결과는 마찬가지더라구요 ㅠ.ㅠ', \"답변 중에서는 '결국 문제해결 = 배움' 이라는 공식에 깊게 공감이 되네요.\", '어제 웨비나도 너무 좋았고, 이렇게 답변도 달아주셔서 정말 감사합니다', '네 감사합니다.', '너무 좋은 서비스네요.', 'set fixed number of rows 에 체크 해제해보세요!', '1. 쿼리 파라미터 추가하기(1) 개발자 문서를 읽어봤을 때, API요청 시 Query 부분이 필수라고 되어있는 것 같아요.', '감사합니다~!', '다음주 뉴스레터 등재에 점 찍어 놓겠습니다,,,', '이 간격을 줄일 수 없다면 페이지가 로딩되고 로그인 여부를 확실하게 판단하기 전까지 아이템들을 아예 노출하지 않고 싶은데, 혹시 어떤 조건식을 걸어야하는지 아실까요?', '이렇게 댓글까지 남겨주셔서 감동입니다.', ':)그런데 혹시 하나의 기기로 1회 접속한 사용자라면 방문자 수가 1번 count되도록 설정할 수는 없을까요?', '해결하였습니다.', 'First you would call the API which would response immediately.', '단순히 계산만 해주는 서비스가 아닌가 보네요?', '아이고 그렇군요!', '아무 IT관련 지식이 없고 다른 노코드툴을 다룬 적이 없는 상태라고 한다면 버블을 어느 정도 높은 레벨로 다루는 것까지는 가능하다는 전제에서 그래도 2~3개월은 걸리지 않을까 싶습니다.', '부럽습니다!', '랜딩페이지 제작부터 당근마켓 클론까지 디자인 파일을 가지고 퀄리티 높은 결과물을 만들어보실 수 있습니다.', '오류입니다 ㅋㅋㅋ', '행동파 진짜 존경합니다', '잘만하면 진짜 좋을 것 같은데 그 잘할 수 있는 방법도 코딩보다는 보이는 것 같은데..', '너무 좋은 사례니깐요!', '유저가 엑셀을 업로드 한 다음에, 데이터로 저장한 뒤, 유저의 페이지에서 확인하는 걸로 상정해야 하는 걸까요?', '에러메시지 내용을 봤을 때, Authorization이 제대로 안된 것 같아요.', '\"저는 제 커뮤니티를 더 많은 \\'학습 커뮤니티\\'로 전환할 것입니다. 이렇게 하면 학습자들이 비슷한 목적을 가지고 함께 모일 수 있기 때문입니다.\"', '저도 대표님 회사를 2020년경부터 들어봤었습니다.', '가능하면 Do a search for 내부의 constraint나 sort를 사용하면 좋습니다.', '집에가서 시도해 볼게요', '맞습니다.', '해결했습니다!!!!!!!!!!!!', '현재 시스템 상으로 A에서 이용 중이던 플랜을 B로 이관하는 장치는 없는 걸로 알고 있습니다.', '꼭 버블이라서 성능이 낮다고는 할 수 없을 것 같습니다.', '버블을 파다 보니 결국에 매우 퀄리티 있고 활용도 높은 프로덕트를 만들고 싶으면  html css javascript 엘리먼트를 자주 쓰게 됩니다.', '도움이 되면 좋겠네요…!', '조만간 제대로 써보고 피드백 남길게요!', '노코드 문화 활성화 파이팅~!!', 'AWS대신 버블DB만으로 해결이 된다니 확장가능성을 봤습니다.', '클럽 별로 유저를 분류하는 게 핗료합니다. 1. 관리자가 자신이 관리하능 클럽 리스트를 볼 수 이ㅛ는 페이지 생성2. 해당 페이지를 클릭했을 때, 해당 클럽에서 들어온 승인 요청을 확인할 수 있는 페이지 생성 + 페이지 데이터 타입은 클럽으로 설정히고, 이전 페이지에서 이동할 때 전달할 데이터로 클럽 데이터 전달3. 승인 요청 피이지에서 repeating group으로 user 타입을 설정히고, 현재 페이지가 불러온 클럽에서 승인 요청한 유저 데이터 호출4. Cell 안에 parent group을 생걸하고, 데이터 타입을 user로 설정 + 데이처는 current cell’s user5. Parent group에 버튼을 푸가하고 데이타 변경 액션 이벤트를 생성 + 변경 대상은 현재 페이지의 클럽 데이터로 설정 +  속성으로 parent group의 user를 활용', '저희 쇼케이스에 자랑 해주세요', '감사합니다 !', '해당 스테이를 얘기하는 겁니다.', '그렇군요~!', '궁극적으로 큰 개발 (종국에 코딩 방식으로)으로 가는걸 염두에 둔다면 어쩌면 버블로 하는 작업 전반이 프로토타이핑을 해나가는 _단지 실전에서_ 과정이라고 봐도 좋을 것 같아서 말이죠.', '상품데이터 필드들 중에 [좋아], [싫어] 필드가 List of Users 로 각각 있는데, 이 둘을 별도의 테이블로 만들면 좋겠다는 의견이라 이해되는데 맞는거겠죠?', '이제 Search(Group Element) 액션으로 검색창 띄웠을때, 검색창 사이즈가 그 그룹 사이즈에 맞춰서 나옵니다.', '와 해외 정보 너무 좋은데요?', '다른 부분에 유용하게 잘 사용하도록 하겠습니다.', '상세한 답변 감사합니다!!', '모바일은 PC보다 많이 떨어집니다.', '미리 하시는게 좋아요!', '그만큼 기다려야 하는 시간도 있고요.', ':)', '심리학 전공자들도 있으니 오셔서 조금이라도 위로를 받아가실 수 있으면 좋겠네요', '기존에 불편했던 점들을 개선하면서 SEO까지 고려하기란 쉽지 않은 방향이었나보네요 ㅎㅎ', '기다리는 동안은 재은님이 답변해주신대로 해보세요~!', '1. 먼저 javascript to Bubble 엘리먼트를 페이지에 2개 만드시고,JavascriptBubble getPostcode, JavascriptBubble getAddress bubble_fn<strong><i 항목에 setPostcode, setAddress를 각각 입력합니다.', '노코드 선배님이시지만, 또 인생의 후배님한테 정말 장하시다가 칭찬 한스푼 넣고 갑니다.', '애플 사이트가 38이고요.', '그래서 Group A를 감싸는 상위, 즉 parent를 만들어 주는겁니다.', '감사합니다 ㅋㅋ', '맞으실까요?', '친절한 답변 너무 감사드립니다 ㅜㅜ', '그러면 로그인과 회원가입 구분은 어떻게 처리하시나용 :)', 'initialize를 할때마다 새로 업데이트를 해야 하는 부분이 있습니다.', '질문 글의 이미지를 보니 필터링을 unique ID로 직접 지정을 하셨길래, 이게 유저한테 시키는 액션은 아닌 것처럼 보여서요.', '1. 엘리먼트 수 최적화하기엘리먼트가 많아지면 많아질수록, 그룹이 많아질수록 코드 입장에서 보면 계속 row가 늘어납니다.', '해결책을 찾아서 본문에 수정했습니다.', '카카오 로그인 구현중에 시훤님 올려주신 내용과 동일하게 api connector 설정후 디버그모드로 실행 후 워크플로우 통해서 최초 연결시도 했는데 404에러가 뜨는 문제를 겪고 있습니다', '버블측에도 문의를 남겨봐야겠지요.', 'ㅋ 항상 감사합니다', '대표님 고생 진짜 많이 하셨네요.', '멘탈케어에 일조해주시는 아영님 감사합니당 :)', '앗..은인 재은님..', '예)‘시간’ 선택 시 시간선택 팝업 노출 - 팝업에서 12:30 선택하면 ‘시간’텍스트 부분에 ‘12:30’으로 표시', 'parameter가 있으면 reloading하지 않고 parameter만 추가됩니다.', '말랑한 글들도 좋습니다.', '바로 시도해보겠습니다~!', '이해했습니다.', '계속해서 버블쪽 업데이트 해주셔서 감사합니다', '문형님 저도 당연히 업보트 했습니다~', '수고하셨습니다~!', '저도 경험을 공유하고 도움이 될 수 있어서 다행입니다.', '디콰랑 링코에서 좋은 글 많이 남겨주셔서 좋았는데 여기서 뵈니 반갑습니다!', '열심히 찾으신 귀한 정보 공유해주셔서 정말 감사드립니다!', '베타테스트가 끝난 뒤의 인사이트가 너무 궁금해집니다 ㅎㅎ', '대표 사례로도 손색 없습니다 ㅎㅎ', '말로 노코드 \"앱\" 빌더이고 나름 노코드에서 유명한 플레이어이기 때문에앱 개발이시라면 글라이드 추천 드리겠습니다', '다만, 버튼을 클릭하면 \"카카오에서 해당 서비스로 제3자 정보 제공 동의\"를 묻는 팝업이 출력되지 않고, 바로 유저 데이터가 저장됩니다.', '서울 지역이라면 조만간 매주 버블 학습을 할 수 있는 모임을 열어볼까 하는데 관심 있으시면 연락주세요.', '응원 감사드립니다!', '그래서 연관시켜서 필터하라!', '거기에 유저 이메일 주소 입력하고 워크플로우 걸어주시면 임시 비밀번호가 생성됩니다.', 'URL parameters 버블 문서입니다', '덕분에 인사이트 하나 얻었네요.', '저도 만들면서 알게된 부분들을 최대한 나눌 수 있도록 노력하겠습니다 ㅎㅎ', '데이터베이스 연결에 대해 윤곽이 잡혔어요!', '정말 감사합니다 !!!!!!!!!!!!!!!!!!!!!!!!!!!!!!', '혹시 이미지 첨부해서 올려주실 수 있나요?', '저도 확장성의 한계 때문에 아임웹에서 버블로 갈아탔지만 버블은 하나부터 열까지 직접 다 만들어야 합니다.', '감사해요.', '한 페이지에 엘리먼트가 많아지면 버블 에디터의 버벅임', '무료 플랜으로도 월 2천만 이벤트까지 허용되고, GA와는 다르게 실시간이라 좋아요.', '왼쪽 정렬되어 있는 text가 고정 길이로 설정이 되어있어서모바일 화면 벗어난 걸  살펴볼 때  화면이 작다보니 제가 잘 캐치를 못했었네요', '그 다음에 do a search for 에서 constraint에 이름 = 이름input / 전화번호=전화번호inpu 이렇게 하세요.', '웹뷰로 연동하셨을것 같은데 이때 카드사 앱등을 띄우시려면 3rd party  app 에 대해 허용을 해주셔야 합니다.', '카톡에서 자동으로 크롬이나 사파리 등으로 넘어가도록 코드를 추가했습니다.', 'custom state로 index 페이지에 접속하는 횟수를 측정해서 1회일 때만 방문자 수 +1이 되게 설정하려고 했는데 그러면 문제(2)를 해결할 수 없을 것 같아서 방법을 모르겠네요 ㅠ', '위의 말씀중에 3번해당하는 내용을 진행시 GroupAA안에 들어간 GroupA와 text가 겹친위치가 되면 GroupA안으로 text가 들어가버리는게 골치아픈데..', '혹시 지금 링크로 올리신 프리뷰 url이 아니라 요금제 결제하시고 라이브 url로 심사 넣으신 게 맞으실까요?', '실화..', '없으면 되게한다 정신이 이런건가요', '신청 오픈시 모두의노코드 스퀘어 게시판에 안내글 올리도록 하겠습니다.', '근데 이걸 노코드로 가져와서 사용할 수 있는지는 잘 모르겠네요.', '이미 해결하셨겠지만, 아래 재은님이 남겨주신 방법 말고도 다른 접근법이 있어 남겨봅니다.', '템플릿에 있는 기능들 보면서 빈 페이지에 따라 만들어보며 공부해야겠네요.', '좋은 인사이트네요.', '아직은 가벼운 프로젝트들이기는 하겠지만, 점점 무게감 있는 프로젝트들도 노코드 버블로 하는 세상이 올지도 모릅니다.', '앗 감사합니다', '버블은 response를 무조건 list로 받고, 단일응답의 경우에는 response를 단일문자열로 보내서그 과정에서 생기는 충돌로 파악하고 있어요.', '좋은 서비스 기대됩니다.', 'redirect_uri_mismatch 이런 오류가 뜹니다. ㅠ', '또 하시다가 막히는 부분 언제든 도움 요청하시고요', '좋은 프로덕트 많이많이 만들어 주세요', '화이팅입니다', '1. 근무 테이블을 새로 만들고, 직원 테이블과 이어줘서 관리를 하셔야 합니다', 'Do a search for 작성된 글, created by = {삭제된 유저}', 'Data type에 [좋아] 와 [싫어] 라는 별도의 테이블을 만드는걸 말합니다.', '즉 에디터에서 편집을 쉽게 하기 위한 편의 기능입니다.', '2. 필터로 특정 직원 인스턴스를 불러온 후, 해당 인스턴스의 속성 리스트에 :filtered 오퍼레이트를 추가해 필터링이 중 1번을 더 추천드립니더.', '댓글 달고 바로 폴리미로 넘어갈게요', '따숩네요 ㅎㅎ', '그냥 포기하고 다음 내용 보면서 따라하는 중에 갑자기 쫙 되네요!', '바빠서 바로 답글을 못했었는데..', '와아 팁스에 시리즈a까지 받으셨다니...', '버블은 주로 프론트엔드 계열이라 알고 있는데 혹시 어떤 언어를 공부하면 도움이 되는지도 궁금합니다!!', '제 경우는 이렇게 하고 있는데...', '감사합니다ㅎㅎ', ':)그래도 원하시는 게 없으면 toolbox 설치해서 직접 javascript 로 가져오실 수도 있습니다!', 'Data type은 업무내역, Data source는 아래에서 지정할 Custom state로 하면 되겠죠?', '어떠셨나요', '손쉽게 구현했었습니다.', '참고 잘 했습니다.', '좌측 메뉴쪽에 html이라고 있습니다!', '어떤 PG 를 쓰셔도 이 작업이 필요합니다.', '물론, 위의 방법도 3rd-party의 서비스를 안 쓸 뿐이니 wrapping은 같은 겁니다.', '1) 메세지 내용     Invalid redirect_uri contains reserved response param scope 이 오류에 관해 자세히 알아보기micestaff의 개발자인 경우 오류 세부정보를 참고하세요.', ':D다만 이 방법으로 하면 페이지가 4개 정도 되는 웹사이트에서 특정 페이지에 접속할 때만 count하게 되는 것일까요', '엄청나네요', 'only when 조건문은 아래 방식으로 쓰시면됩니다.', ':) 버블로 개발한 사이트에 GTM을 설치하는 데에 큰 도움이 되었습니다.', '사실 캐글을 듣기만 하고 이용은 안해봐서 이게 맞는지는 모르겠는데, 공개된 데이터를 끌어올 수 있는 곳이라고 한다면 아무래도 공공API 아닐까 싶네요!', '데이터구조 짜시는 것과 데이터소스를 넣어주는 건 직결하는 문제이니 조금이라도 도움이 되셨으리라 믿어봅니당 :)', '궁금해서 여쭙는 것인데 저러한 투표 기능 (클릭했을 때 바로 DB 업데이트하고 그 자리에 결과 보여줌) 을 어떻게 구현하시려나요..?', '본인의 정체성을 굳이 세상에 맞출 필요는 없다고 봐요.', '와우 멋져요!', '고객관리가 가장 중요하죠~~', '제가 약간 더 고생했을 뿐 \"모두\" 함께 으쌰으쌰해서 만든거죠!', '준호님 하고 싶은 질문이 너무 많은데 줄여서 이렇게 정리해봤습니다!', '그리고 귀띔인데 요즘은 chatGPT가 코드를 아주 잘 짜줍니다 ㅎ', '글씨 크기가 커서 잘린거였습니다...', '웨비나 때 소정님이 발표한 내용에 이어지는 얘기 같네요. ㅎㅎ', 'SVG는 정말 좋은 아이디어인 것 같아요.', '단순한 커뮤니티 사이트는 버블에서 충분히 가능합니다.', '한번 알아보겠습니다', '서브 도메인은 버블에선 서브 앱이라고 하는데, team으로 구매할 때만 가능한 서비스입니다.', '필요에 따라 자유롭게 커스텀하시는게 멋있어요!', '지난번 버전도 좋았는데 계속 업데이트 되고 있군요', '지금은 아 이런것도 있구나', '코드로 구현하셨군요 ㅠ', '팝업이 위치 조정이 안되는 불편함이 있는데 덕분에 좀더 예쁜 UI를 만들 수 있게 됐네요!', '정말 고맙습니다.', '지금은 센서에서 raw data만 넘기는 방식이 아니라 아예 센서 내에서 자체적으로 계산(edge 처리)을 해서 전송하는 것을 만들고 테스트중이에요.', '결국 백엔드 워크플로우를 효율화하여 알아서 풀어내라는 거네요. ㅠㅠ', '좋은 프로젝트 소개해주셔서 감사합니다', '디자인이 깔끔하니 예뻐요 ><', '재은님 활발하고 퀼리티 있는 답변들 너무 소듕합니다,,', '네 ㅠ 생각보다 템플릿으로 시작하셔서 힘들어하시는 분들이 많으셨거든요.', '추후 일정이 있으면 참석하겠습니다!', 'ㅋ 두서가 없어요', '더 들려주세요', '앗 오타 수정했습니다.', \"API connector로 연결하지 않고, 해치하이커님이 만드신 '카카오 소셜로그인 플러그인'으로 연동 하였는데 혹시 여기서도 이니셜라이징이 가능할까요~?!\", '그래서 다른 그룹에 만드신 요소의 스테이트만 적용된 거고요. ㅎㅎ', 'head영역에 모바일 width 조건도 여러 가지로 설정되어 있고메뉴 group도 연결연결 되어있어* 정말 하나씩 다 뜯어봐야 해결 될 거 같습니다.', '[착각일 듯 싶기는 합니다]', 'Undo, Redo 말한거였어요! (에디터에서 이전 작업)', '전화 아이콘도 맞지만 실제로 누르게 되면 안드로이드에서 전화를 걸거나 걸수 있는(번호가 나오게되는) 통화 화면을 나오게 하는 방법이 궁금합니다.', '대단히 감사합니다.', '메일드렸습니다!', '지금은 모노데이 안하나요', '그냥 문구를 복붙하다보니 실수했습니다.', '제 블로그도 한번 참고해 보세요!', '버블은 툴이므로 버블 자체가 알고리즘을 짜주진 않습니다.', '디자인 팀에서 기획해준 대로 개발을 해야 해서 기존 기능을 사용하기는 좀 어려워서 저렇게 자체적으로 워크플로우를 만들 수 밖에 없었습니다 ㅎㅎ', '저 또한 지금도 계속 새로운 것을 발견해내고 있으니까요~', '비밀번호를 미리 등록하는 건 없지만 생성된 임시 비밀번호를 유저에게 전달하고 유저가 직접 로그인 및 비번 변경을 수행하도록 하시면 됩니다.', '혹시 참여를 희망하는데 저 날짜에 안되시는분은 댓글로 남겨주세요!', '네 맞아요!!!', '조만간 기초에 대해 콘텐츠로 풀어낼 예정입니다.', '검색의 귀찮음 ㅎ', '제가 답변으로 안 달고 댓글로 달아서 채택은 안되네요^^', '취지를 알아주시고 또 응원만 해주셔도 너무 감사합니다.', '이것 저것 만져보다가 잘 해결되었습니다.', '빌드캠프 대표와의 만남 저까지 기대되네요', '채널톡 사이트에서 버튼 위치 수정하는 기능이 있는걸 이제 찾았네요!', '버블 스터디 1기 수강생분이라니~!', 'PDF 파일 다운은 불가능하고, 해당 링크는 제가 시간 날때마다 번역을 해서 기록한 웹페이지입니다!', '설정에서 API Key 발급해서 전달해주시구여..', '예를들면 Gmail 보낼때 서명이라던지', '위 말뜻을 잘 모르겠어요.', '희철님 말씀에 첨언드리자면 버블 공식문서에도 우리는 웹빌더지 앱빌더가 아니다.라고 언급해서 앱이 주 목적이면 버블은 추천해드리기 조심스럽긴 합니다ㅠ', '재밌는 프로젝트가 될 것 같네요 ㅎㅎ', '아직 방송 스케줄들은 추가되기 전인건가요?', '귀중한 경험 공유해주셔서 감사해요!', 'a페이지에서 버튼 누른 뒤 b페이지로 이동하는 흐름인가요?', '이거 진짜 미친 아이디어네요. 와...', 'visual elements 탭에 있는 search & autocorrect 로 만들고 input forms 에 있는 search bar로 값을 받아 검색하는 구조던데요', 'SIngle Page App으로 구현하셔야 합니다.', '연락드리겠습니다 ㅎㅎ', '도움주셔서 감사합니다.', '정보 감사합니다', '멋진 프로덕트입니다!', '별도로 외부에 백엔드 API를 만들고 이 API를 통해서 알리고 서비스 Restful API를 호출하도록 처리하였습니다.', '많이 궁금했어요.', '정말올려주신 자료 꼼꼼히 읽어 보고 한번 시도해 보겠습니다!', '생각보다 시간이 많이 걸려요.', '네네 클래스101 영상도 보면서 클럽안에 list of user로 해서 해결했습니다.', '헉...', '버블이 기본적으로 웹빌더이고 기본제공되지 않는 기능들에 대해서는 html, css, javascript 코드로 직접 구현하거나, 플러그인을 만들어서 사용할 수 있기 때문에 프론트엔드 개발에 익숙하면 제일 쉽게 적응하고 활용하실 수 있을 듯 합니다.', '클라이언트쪽에서 요구하는 아이디 비밀번호?를 전달 해 드리는건 어려운건가요?', '올려주신 프로젝트는 정말 좋은 서비스가 될 가능성이 보여서 더 기대가 됩니다.', '오!', '문형님 안녕하세요 ^^', \"데이터 탭의 'app data' 탭으로 가셔서 카운트를 체크할 'count' 데이터를 하나만 만들어주세요\", '나중에 저희 쇼케이스에도 꼭 소개해주세요!', '기술이 내 생활에 밀착되니까 정말 좋은 표현이네요', '모두의노코드 스터디에서 기본기 탄탄히 익히시면 똑같은 개념으로 모두의 노코드 페이지의 게시판 기능들 만드실 수 있을 것 같아요 !', '답변주셔서 감사합니다!', '주형님 말씀대로 리피팅 그룹을 감싸는 그룹의 레이아웃 문제일 가능성이 높은데요.', '제 스승님이십니다!!', '그냥 쭉 볼때는 해볼만하게 봤는데 ㅠ 직접 원하는 거 구현하려고 하니까 역시 전문가가 괜히 따로 있는게 아니었단걸 뼈저리게 느끼고 있습니다!', '버블로 스타텁 프로덕트 만들어 가는 전우로써 공감도 많이 됩니다ㅎ', '저는 13인치 노트북 유저 때문에 1080를 많이 사용합니답 :)', '버블로는 하이브리드앱만 가능한 줄 알았는데, 네이티브가 가능하군요..', '즉, 관리자여도 관리자도 볼 수 있도록 설정 안하면 데이터가 나타나지 않습니다.', '좋은 자문자답 감사합니다.', '저도 이 기능을 직접 구현해 본적은 없어서 정답은 아니지만 말씀하신 페이지를 들어가서 보고 떠 오른 점을 말씀드려요.', '도움이 되셨다니 다행입니다.', '방법을 알려주시면 감사하겠습니다', '텍스트로 적을게 많다면 PC로도 괜찮은 컨셉같습니다.', 'xxxxxx는 해당 gtag의 아이디입니다.', '버블의 서버 딜레이 때문에 일처리 시간의 간극이 생기는데 그때 조건식이 적용이 안되어서 보여지게 되는 경우가 많습니다.', '와우 대단하시네요', '히어오피스 응원합니다!', '갈수록 멘탈케어는 더더 중요해지는 것 같아요ㅠ', '키야 용준이형 안경 좋았다', '플러그인 한 번 확인해보시겠어요?', '규리님께서 원하는 바의 경우 뒷단은 이렇게 설정해두고, 앞단 엘리먼트에서 [[ current page 페이지 방문자수 번째 방문자님 환영합니다 ]]', '항상 너무 감사드립니다. ?♀?', '쇼케이스에도 꼭 올려주세요', '현재도 해당 이벤트를 사용하고 있기 한데요 ㅠㅠ', '큰 힘이 될 것 같습니다!', '왜냐면 크롤링은 내부가 아니라 외부 사이트를 돌아다니면서 데이터를 수집하는 것이기 때문이에요.', '구글로그인시 403 승인오류 나는데 찾아보니 코드에 두줄 추가하면 되는거였네요', '처음 제작시 화면크기를 모바일로 하셨나봐요.', '특정 플러그인은 사용해보지 않은 경우가 많을 것 같아서, 답변을 하기 위해서는 직접 설치해서 사용해봐야하는 어려움이 있습니다 ㅠㅠ', '혹시 SPA로만 만들어야 하는 이유를 알 수 있을까요..?', \"(예, Custom state 이름을 '업무내역'이라고 가정하고, 당연히 List로 되어야 겠지요.\", '좋은 주말 보내세요', '이렇게 하시면 노가다 안하셔도 될겁니다.', '많은 지원 부탁드립니다 ㅎㅎ', '위 방식으로 앱을 출시했을 때, 버블에서 수정사항이 생기면 매번 다시 배포를 해야하는지 알 수 있을까요', '전 워낙 워크로드를 크게 먹는 놈이 있어서 사실 이 기능은 자투리 워크로드를 쓰는 수준이라서요^^', '한번 확인해보세요.', '솔직하게 상황을 말씀드리고 도움을 요청하시면 말씀하신대로 K노코드라서 좋은 사례와 함께 윈윈할 수 있지 않을까 싶네요.', '확인해보겠습니다', '아 디스플레이 광고인가요.', '축하드려요!', '희철님 모두의노코드 사이즈 기획부터 완성까지 제작하시는데 기간이 얼마나 걸리셨는지 알수있을까요?', '밑 댓글에서 value값이 비어있는 것은 발견했지만 value값을 채워 넣는 과정에서 헤메고 있는 중입니다 ㅠㅠ', '검색/필터링 위해서 DB 구조 최적화, 쿼리 최적화 작업 -> 검색 속도와 쿼리속도를 개선할 수 있습니다.', '1. 우선 버블 자체로는 이 기능 구현은 어려워 보입니다.', '도움카운트(number) 없이 카운트를 더한 유저의 수를 기준으로 할 수는 없는건가요?', '도전에 응원을 보내드리며, 진심으로 오픈 축하드립니다.', '승인된 URI, redirect URI는 모두 잘 적었는데도 동일한 오류가 계속 발생하는 와중에 확인된 내용이 있는데요..', '하지만 Container layout을 Row나 Column으로 하고 각 엘리먼트에 Collapsed when hidden을 해 두면 앞의 엘리먼트가 안 보이면 뒤 엘리먼트가 앞 엘리먼트 자리로 이동합니다.', '핸드폰?', '(3) 혹은 해당 API 헤더가 공통으로 쓰인다면, (2)에서 작성한 것을 삭제하고, [Add a Shared Header] 부분에 (2) 내용을 넣어볼 것 같아요.--', '와우...', '공부해볼만한 충분한 가치가 있습니다.', '아참!', '답변 해주신 분이 생기시면 두고두고 유용한 질문과 답변 될 것 같네요', '비밀번호를 미리 등록하는 방법도 알 수 있을까요?', '신기하네요.', '오....', '혹시 gpt 연동하실 때는 어떤 레퍼런스 참고하셨는지 여쭤봐도 될까요?', '주말 잘 보내세요 _', '버블을 백엔드로만 쓰시는 사례는 거의 없어서요.', '답글 감사 드립니다', '오.... ㅜㅜㅜㅜ', '레이아웃을 전부 fixed로 하시는 이유가 있을까요', '뭐가 문제인지 모르겠네요.ㅠㅠ', '오 잘봤습니다~!', 'ingredients(new)가 배합성분(lists of 성분s)인가요?', '안녕하세요, 시훤님!', '용준님!', '이럴때는.. ^^ 맘속 채택임당.ㅋㄷ', '벌써 2년전이지만 처음 버블 입문할 때 Bubble A to Z를 읽고 버블로 결정을 했었습니다.', '오픈채팅에서도 응원해주셨는데 여기서도..!', 'ai + 노코드 관련으로 자유롭게 얘기해보시지요~', '기대됩니다.. ㅎㅎ', '거기에서 \"페이지 추가\"를 선택하세요.', '그래서 최대한 제가 스케줄을 입력하지 않고 있는데 아무래도 스케줄이 어느정도 있어야 사람들이 관심을 갖는 게 있어서 추가를 해야 하나 고민입니다...!', '전문가한테 의뢰해야하나 고민이 되네요.', '풀리지 않는 미스테리이지만 페이지를 다시 작성하는 것으로 진행해보려고요!', '모험정신으로 해 보자하고 믿고 덤볐어요.', '과찬이십니다?', '정말 탄식이 나오네요.', '감사해요', '진짜 너무 감사드려요!!!!', '나중에 제가 한턱 크게 쏠게요^^', '드디어 나왔군요!', '버블의 플러그인 중에도 한국인이 만든 플러그인들이 있습니다.', '언제든 질문글 올려주세요!', '글 잘봤습니다', '정말 고맙습니다', '저도 잊어버리거나 헷갈리는 건 은근히 chatGPT의 도움을 받고 있습니다^^', '혹, 그래도 보고 싶은 분은 댓글로 남겨주세요.', '그럼에도 막상 개발을 시작하면 계속 부딪쳤어요.', '그리고 이것을 다시 text요소로 표시하면 bbcode가 변환되면서 이미지도 표시됩니다.', '긴 글이지만 정독해서 읽었습니다', '맛집과 채널이 전세계로 확장되어 좋습니다.', '꼭 완성해서 MVP 공유 드리도록 하겠습니다', '서비스사라 함은 PG사를 얘기하는 걸까요?', ':) 워크튠을 그렇게 만드신건가요?', '다만 해당 탭에 들어가있는 data가 페이지 refesh 될때마다 날아가는듯 해서 이를 해결할 수 있는 방법이 있는지 여쭤봤던 것이었습니다.', '그렇다면 SDK 형태로 만들어 외부 서비스에 심을 수 있게 하는 기능은 React 등의 Framework를 사용하여 만들고, DB에 쌓고 분석하는 것은 버블로 할 수 있게 이 둘을 연결시키는 것은 가능할까요?', '궁금한게 있습니다.', '코드를 모르지만 CTO라고 할 수 있다니 머리를 한 대 띵 맞은 느낌입니다.', '안녕하세요?', '만약에 주말에 모임을 하신다면 참석하겠습니다.', '오 명보님 멋져요!', '픽처 업로드도 이렇게 되면 좋을텐데 아쉬워요 ㅎㅎ', 'count도 괜찮은 방법이네요!!', '그게 아니면 말씀하신대로 html 요소에 다이내믹 데이터 지정이 오류가 있다는 것인데 사실 저는 토스페이먼츠로 했을 때 잘 되긴 했거든요.', '도움되실 만한 자료가 있나 찾아봤는데 딱히 정리된 건 없네요. ㅠ', '답변이 늦었네요..', '다시 열심히 활동하겠습니다 ㅎ', '(4) Private를 체크 해제 한 뒤,(5) Initialize를 시도 해 볼 것 같습니다.', '이미지 요소로 하시면 됩니다.', '해당 상품을 추가로 넣어주면 되네요.', '아직 버블 API커넥터에서 Initialize를 하지 않은 상태라면(Initialize에 실패), 지금 설정하신 인증 관련 Key값이 네이버가 요구하는 것과 달라서 그런 것 같습니다.', '성능은 쉽게 말하면 코드의 row도 영향이 있고 데이터를 불러오는 양, 속도, 그리고 네트워크 등도 다양한 부분이 작용을 합니다.', '무엇보다 관련 자료가 거의 전무한 수준이에요.', '즉, 앱이라는 껍데기에 웹 브라우저를 넣은 것이라 생각하면 됩니다.', '와 지우님이시네요!', '용준님 반가워용 :)', '물론 Make는 아직 안되는게 많습니다.', 'do a search나 필터를 통한 방식은 아무래도 연산 과정이 필요해서 속도가 딜레이될 수 있습니다.', '인프런 11강에서도 보실 수 있구요.', '응원 감사합니다!!', '질문의 모범을 보여주셨군요.', '1-1) 다른 페이지 만들어도 되지만 condition : when page width <768 활용해서 폰트조정이나 모바일용 ui show/hide 로 리스폰시브하게 데스크탑 뷰와 모바일 뷰를 가져가는게 공수가 덜 듭니다~ 2) 저는 min320-max420 쓰고있어요!', \"'결과가 없습니다 어쩌구..' 이런게 뜨는데요.. ㅠㅠ @\", '제가 왕초보라 설명을 너무 못하네요ㅠㅠ', '검색 플러그인이라는게 혹시 어떤건가요?', '아 description 에 링크를 타고갈수가 없는 문제가 있어서요.', '버블박스님도 리트머스인가요', '답변해드리기 애매한 지점이 있는데요.', '간단한 워크풀로우이고 백엔드로 넣어놔서 페이지 로딩속도에는 큰 영향은 없습니다.', '카카오 알림톡, 친구톡 하려면 비지니스 계정이 있어야 하더라구요.', '그나저나 아직은 커뮤니티가 좀 조용하네요 ㅠㅠ', '실제 진영님처럼 한 페이지에서 여러 slug를 사용할 수 없냐는 질문이 버블 공식 매뉴얼에도 있었는데요 ㅎ', '보통 데이터가 제대로 나오지 않는 경우 프라이버시 룰에서 데이터 권한이 없기 때문인 경우가 많습니다.', '이상하게..', '4. radiobutton에 리커드 척도 옵션을 불러와서 사용하면 됩니다', '래핑서비스 결제, 구글이나 애플올려주는거 등등해서...', '엘레먼트들의 배열 순서 변경은 버블에서 여러가지 방법으로 가능합니다.', '아직 state 사용법을 다 익히지 못했는데, 알려주신 내용 보고 좀 더 이해하게 되었습니다.', '시장이 작기 때문에 아직은 출판 업계에서 관심이 없고요.', '그런데 custome state는 페이지가 리로딩되면 사라지니 아예 db를 하나 만드셔서 이 db를 매개체로 이용해도 될 듯 합니다.', '4. Bubble 홈페이지에 가시면 Tutorial 과 차근차근 버튼 눌러가며 배울 수 있는 코스가 있습니다.', '한번 시도해볼게요', '좋은 말씀 감사합니다!!', '항상 좋은 플러그인 만들어 주셔서 감사해요 ><', '버블이 딱 이렇게 하면 된다라는 정답이 있기보다 다양한 방법들이 나오거든요.', '준호님은 버블을 정말 단기간에 빠르게 배우신것 같아요', '꼭 써보고싶어요', '다른 플러그인으로 해보시겠어요?', '다마고치 되고 싶습니다.', '더 잘되서 별도 Instance로 구성되는 날이 오면 좋겠네요!', '개발자가 아니라 정확히는 디자이너입니다', '어디서 설정할수있을까요?', '잘 봤습니다', '아마 라이브로 했어도 이미 한 번 찍혀서 문제가 되는 것 같습니다.', '1:1 매칭하는 알고리즘을 어떻게 설계하는지가 중요할 것 같은데요,나머지 기능은 다 무리 없어 보입니다!', '감사해요!', '늦었지만 제 버블 강의 링크도 참고차 올려드립니다!', '그레고리의 답변에 다시 그레고리에게 하실 말씀이 있으시면 해주세요~', '그럼 똑같이 로그인 버튼 워크플로우 하나 더 만들어서 only when에 Search for users : count is 0으로 하시고 거기에는 알람이나 다른 메세지를 보여주는 창을 넣어주시면 일치가 안된 유저들인 일치가 안되었다는 알람을 볼 수 있을겁니다.', '잘 설명해주셨네요~', '원래 질문이란 게 꼬리를 뭅니다 ㅋㅋ 괜찮아요~', '기본적인건데 잊고있었네요 ㅎㅎ', '히든필드는 단일응답이어서 불러와지지 않았던 건데, 이제 배열 중 first item으로 불러오면 됩니다.', '궁금했는데 감사합니다 ㅎ', ': ) 어제 열린 프라이머 해커톤에서 브랜드캔버스가 입상했습니다!', '영태님의 프로젝트를 제가 모르니 가령 [좋아]라는 테이블(Bubble식으로는 Type)에는 user라는 필드가 필요하겠죠?', '진도프렌들리가 만들어지는 과정을 가까이서 볼 수 있을 것 같아 기대됩니다 ㅎㅎ', '지금 말씀하신 질문모음 db를 말씀하시는건지요?', '사실 도전의 연속인데, 백조처럼 위에서는 우아한데 아래에선 난리를 치고 있네요 ㅎ', '저도 아직 배우는 중이라...', '7. 워크플로우 최소화히기 컨디션으로 할 수 있는 것이 있으면 가능하면 컨디션으로 넣는 것이 좋습니다.', '화이팅입니다!', '워크플로우에서 delete thing 를 사용하면 되는 것 같긴한데..', '화이팅입니다!!', '좋은 말씀 감사해요~', '버블박스에서 해강 플러그인을 모두 제공합니다!', '로그인/로그아웃 유저 따로 세는 경우에도 워크플로우에서when current user -> is logged in / is logged out 활용하면 될 거 같긴 합니다', '말씀하신대로 미세하게 조정하고 싶을 때 꼭 해볼게요!', '가장 큰 group에서 모바일 size를 통제하니 발생하지는 않는 것 같습니다.', '진영님께 도움이 되어 영광입니다', '결국 리피팅 그룹으로 저장된 데이터를 불러온 뒤 처리할 수 있는 내용이긴 합니다.', '뭔가 버블에서 해당 API를 못받아주는게 아닐까 싶은데요..', '감사합니다!', '예전에 버블로 좋은 프로덕트 만들려고 하셨던 게 기억이 납니다. ㅎㅎ', '-제가 카카오 API를 바로 연결한 경험이 없어, 답변 드린 내용이 정답이 아닐 수 있는 점은 양해 부탁드릴게요 ㅜㅜ', '@박재은 오오..', '그레고리에게 우리 피드백을 준 뒤 답변을 아래와 같이 줬습니다.', '그런데 첨부해주신 url은 한 명이 여러번 접속해도 카운팅되는 것 같은데 원하시는 기능이 맞을까요,,', '희철님, 그냥 api connector로 연결이 데이터가 반환되네요!', '이외의 과정은 동일하게 적용할듯합니다.', '왜인지는 모르겠습니다.', '민교님!', '너무너무 감사합니다!', '저희 리트머스 팀에서 유지보수 서비스도 준비하고 있습니다.', '이 설명을 원하시는 게 맞는지는 모르겠으나...', '모바일에서 사용하고자 하는데, 웹앱이 되니깐 팝업은 안 뜨더라구요 ㅠㅠ', '누구게?ㅎㅎㅎ', '댓글 감사드려요!', '그리 어렵지 않은거라..', '다시 한 번 감사드립니다.', '너무 좋은 글이네요.', 'Make가 이뻐요.', '와우 말씀해주신 방법으로 해결됐습니다!', 'url parameter에서 해당 List의 이름을 따와서 data를 넣어주려고 해도 data type이 달라서 적용이 안되더라고요.', '전 50대중반입니다.', 'b페이지로 이동하는 흐름입니다.', '감사합니다!!', '단, 유료 플랜은 6월중으로 새로 업데이트가 되서 저렴한 비용부터 있다고 하니까 미리 참고하고 계세요ㅎ', '즉, a와 b서비스 모두 서브앱을 만드시려면 각각 team이상의 구독플랜을 구매해야 한다는 이야기입니다.', '국내 결제를 정기구독의 형태로 가능합니다.', '플러터플로우는 태생이 플러터를 더 쉽게 쓰기 위해 탄생한 툴이라서 모바일 네이티브 쪽으로 특화되어 있죠.', '아래 사이트를 참고했구요.', '앗 아뇨 ㅠㅠ 제가 아직 실력이 부족해서그런지 이것저것 해보는데 답이안나옵니다 ㅋㅋㅋ', '다른 날이면 참석하겠습니다', '이주형님 본인사례와  다른 팀들 사례도 공유해 주셔서 감사해요.', '불행 중 다행인건 버블은 개발하면서 디비를 추가나 변경할 수 있다는 점인데 아무래도 땜방 형국이 되어 간다는 불안감은 지울 수 없습니다.-', '도움이 되실지 모르겠지만..리피팅그룹 스크롤바를 강제로 모두 없애버리는 방법입니다.', '오 감사합니다.', '본인이 시간을 얼마나 투자할 수 있는지에 따라 학습에 속도가 많이 달라질거 같습니다!', '좋은 플러그인 만들어주셔서 감사합니다.', '주말 잘 보내세요', '바로 수정했습니다.', '댓글 남겨둡니다..!', '1번 이미지 슬라이드를 구현할 때 Wonderful image slider에서 arrow 옵션을 껐을 때 비슷한 기능이 구현되었던 것 같은데 혹시 다른 오류가 있었나요?!', '유데미는 아직 일정이 없네요..!', '공유 감사합니다. ㅎㅎ', '적어도 개발자 구인할때는 약간 알아둬야 할 것 같아서 질문드립니다 !', '답변 감사합니다!!', '와우~~ 감사합니다.', '조금이라도 비범한 일을 하는 사람에게는 어쩔 수 없이 경험하게 되는 숙명이라고 생각합니다.', '저희 매월 셋째주 수요일에 입문자 클래스를 진행합니다', '읽어주세셔서 감사해요', '제목도 똑같습니다 ㅋㅋㅋ', '안녕하세요, 병준님해당 방법으로 우선 진행해야겟네요 ㅎㅎ', '펜데믹이 시작되었을 때 SaaS 시장을 보는 것 같네요.', '혹시 연동 해 보신 다른 분들이 계시다면 더 좋은 답변을 주실 수도 있을 것 같아요!', 'Id attribute 이제 확인 안되나요?', '(다만, 주제별 게시판, 일간 베스트, 주간 베스트, 댓글, 메시지 등 모두 구현하려면, (1) 정책과 (2) DB 설계는 빠삭하게 들어가야 할 거 같아요!', '감동..', '며칠 기다려보면 수정될거에요', '※※ 방금 템플릿을 가져온 상태 그대로 다시 해봤는데 배포 사이트에서 페이지 refresh 하는거랑 편집모드에서 preview 하는거랑 차이가 있네요.', '4. Do a search for에서 조건의 순서는 가능하면 크게 줄이는 것부터 작게 줄이는 것 순으로DB에 유저 2명의 데이터가 각각 100개 있다고 가정하겠습니다.', '(조건을 걸어서 작성된 내용이 더 없을때 알아서 워크플로 종료되도록 세팅하고요)', '구글 디스플레이 광고 셋팅은 마케터 팀원이 진행하셔서 제가 도움드릴 수 있는 범위의 문제라면 좋겠네요', '올해는 본격적으로 노코드의 해가 되겠네요 ㅎ', '혹시 데이터 소스가 아니라 데이터 베이스 말씀이신가요?', '리피팅 그룹이 두 개이고 서로가 다른 db를 쓰고 있지만 공통된 필드가 있다면 condition이나 constrain을 걸어서 연동할 수는 있습니다.', '댓글 확인이 늦었습니다.', '개인 차도 많이 심한 편인 것 같고요', \"지훤님 프로필 이미지 클릭하시면, 지훤님 프로필 페이지로 넘어가서 '활동 내역' 탭에서 지훤님이 쓰신 글만 모아 보실 수 있습니다!\", '해외에 체계적인 강의들이 많고 툴도 점점 더 쓰기 편해지는 듯 해요', '전체적인 작동 원리나 개념보다는 각각의 기능 설명 중심이라 파편적으로 이해하기 쉽고  그것을 내 것으로 만들려고 했을 때 적용이 쉽지 않습니다.', '위 말씀하신대로라면 a와 b서비스 각각 플랜을 구매해야하죠.', \"'힘빼지 말자' 좋은 말이에요.\", 'API Key로 접근하라고 하세요', '해외에는 클론사이트가 몇 개 있습니다.', '노하우 정리해주시고 공유해주셔서 감사해요!!', '저는 제가 만들고자 하는 제품과 비슷한 템플릿을 받아서, 기능 뜯어보면서 공부했어요.', '데이터 공개범위를 잘 결정하시면 됩니다.', '불러오는 속도 차이가 많이 납니다.', '예를 들어, only when current user logged in으로만 하시면 오로지 해당 유저가 로그인했을 때만 해당 유저만 해당 유저의 데이터를 검색하고 볼 수 있습니다.', '1. css를 활용해서 flexbox를 사용하실 수도 있고,2. 엘레먼트에 id를 부여해서 Toolbox 플러그인을 사용해서 HTML DOM을 직접 핸들링 할수도 있습니다.', '이런 기능이 있었군요...', '안타깝게 못 본 것 같습니다^^', '버블박스는 제가 독립적으로 진행하는 사이드 프로젝트입니닷', 'UI/UX 모두 뛰어나네요~', '검색창 인풋 요소를 말씀하시는건지요?', '단말기 설정의 문제도 아닌 것이 일반 앱(ex. 카카오톡)의 푸시는 잠금화면일 때에 정상적으로 수신되고 있습니다.', '모든 분들을 만족시켜드릴 수는 없겠지만 그래도 아직까진 많은 분들이 만족하고 계세요 ㅎㅎ', '유저가 보기에도 깔끔하고요.', '와우!!대시보드가 화려하네요!!', '결국 기획력이 뒷받침되어야 하는데 여기서부터는 경험과 노하우, 개인 역량의 영역이네요.', '고생 하셨습니다.', '확인해보겠습니다 ㅠ', '(정말 기초 쌓는데 많은 도움이 됩니다)', \"''경험에서 나오는 이런 수렴적 사고 정말 좋네요!\", '최근에 구현했던 기억이 있어서 여쭤봅니다!', '아래 이미지 상세히 첨부해서 한번 더 의견 주신다면 감사드리겠습니다.', '앞으로 자주 애용해야겠어요', '저렇게 하니깐 잘되었습니다!', '현재 토스 연동하여 앱 패킹후 스토어에 등록하였는데 앱에서 결제 진행하려하니 오류가 나서 켜지지 않습니다.', '열심히 발전해왔으니 이제는 마음을 돌볼 차례인 것 같아요ㅠㅠ', '작업은 프리랜서나 에이전시 모두 상관은 없으나언뜻 보기에는 난이도가 쉬운 프로젝트가 아니라 구현 가능여부를 잘 여쭤보시고 진행하시면 될 것 같네요', '오..', '라이언님 :)', '많은 도움이 되었습니다!', '간단해보이지만 반응형 완벽히 하려면 간단하지 않을것같네요.. ㅎㅎ', '상세한 답변 감사합니다 !', '이런 부분까지도 챗지피티가 해주나요?', '그래서 솔직히 버블도 강력 추천드리긴 어렵습니다.', '사실 data type이 option sets으로 구성되어 있고, rg group으로 display해준 것들이 여러 개 되는 형태에서 조건 맞출 때 타입 맞추는 과정에서 어려움이 있었던 것 같네요.', '어색한 느낌은 느낌일 뿐입니다 ㅎㅎ', '너무 고맙습니다.', '토스페이먼츠를 이용하면서 다른 방식으로 이미 구현은 했지만, 너무 기다리던 기능이에요', '재은님이 말씀주셨는데 아무래도 DAU 등의 유입 통계를 버블 자체 기능으로 구현하는 건 한계가 있을 듯 합니다.', '아직 토스페이먼츠가 네이티블리로 랩핑할 경우 앱 내 결제가 안되는군요.', '그나저나 이런 방법은 생각도 못했는데, 이메일 중복 체크에서는 아니지만 다른 데서 응용할 수 있을 것 같아요.', '아닙니다', '이게 끝이라니 뭔가 아쉽습니다 ㅎㅎ', '아니면 해당 스테이들을 얘기하시는 걸까요?', '박재은님 추가 답변 등록그리고 db의 타입도 yes or no가 아니라 option set의 yn으로 하셔야 일치됩니다.', '잘 봤습니다.', '싱크트리는 백엔드 노코드 개발 솔루션으로 이미 대기업, 스타트업에서 백엔드 개발 및 API 연결 용도로 많이 활용 중입니다!?', '와!', '이런게 있었내요!', '새로 생성할 things 수가 편차가 심해서요.', '이 때, 데이터가 로딩되는 동안 로더 화면을 보여주면 심리적으로 느리다고는 느끼지 않습니다.', 'Pay it forward라고 거창하게 얘기했지만 사실 한 분이라도 더 노코드 빌딩을 알고 또 스스로 그런 능력을 갖추기만 하셔도 저희는 만족합니다 ㅎㅎ', '오 노코드 툴이 순위에 많네요 ㅎㅎ', ':D모두의노코드를 클론 하신다니 만든 사람으로서 뭔가 기분이 묘하고 좋습니다 ㅋㅋ', '특히 뒤로가기 같은 경우가 자주 배치될때 사용되는 것 일텐데요....', '확인 한 번 부탁드리겠습니다.', '와우 정성스러운 답변 멋있어요!', '말씀 감사합니다~', '아 참고로 접속방법이 FTP( 파일 전송 프로토콜) 같습니다.', 'http://wordcloud.kr 이 사이트를 따라 만들어 보고 싶네요!', '하나하나 조언주셔서 감사합니다', '예시 때문에 그렇지만 확장성도 엄청 좋겠네요 ㅎㅎ', '헬퍼 컬럼이 필수입니다.', '시간이 지나니 갑자기 성공했습니당.', '얼마나 속이 타들어가실지..', '정리한 내용 읽어보며 잘 정리해 주셨다는 생각에 애 쓰셨다는 생각을 했습니다.', '질문자님께서 어떤 목적으로 앱을 개발하려는지를 말씀해주실 수 있을까요?', '후다다닥 디플로이 해도 되는지 점검하랴 난리통이었는데 이제 핫픽스로 간단하게 할 수 있겠네요.', '제가 댓글확인이 늦어 답변이 늦었습니다.', '워크로드를 감안하지 않을수가 없어서 저도 고민스럽네요. ㅎㅎ', '-1개의 댓글은 무슨 의미일까...ㅎㅎ', '우현님!', '아무래도 원데이 클래스이고 입문자분들이 노코드 빌딩이나 버블이 어떤 것인지 제대로 짚어드리고 간접 체험하실 수 있도록 시범을 보여드리는 자리라서 짧게 느껴지실 수는 있습니다. ㅠ', '우선 말씀주신 부분으로도 고민했었는데, 그럴 경우 클럽의 신청인원리스트에 쌓인 정보가 수정이 안되어서 고민이들었습니다.', '꼭 써보겠습니다!', '정말 감사합니다 ㅎㅎ', '시훤님, 버블로 커뮤니티 서비스 구축 중인데 도움이 많이 되었어요.', '소정님께서 말씀해주신 내용으로 찾아봤지만 찾을수가 없었습니다 ㅜㅜ', '답변을 늦게 확인해서 댓글 남깁니다 !', '1. 하나의 공고마다 최대 11개까지의 요청업무테이블의 row가 생성되어야 하는데요, 2. 공고작성 페이지 하단에 [공고올리기]버튼에 워크플로를 작성하고 있습니다.', '아닙니다.', '해결하셨다니 다행이네요~', '어찌됐든 내가 원하는 것을 구현하려면 구체적인 계획이 있어야 하고 이를 구현하기 위한 구성이 필요합니다.', '오 너무 깔끔하게 잘 만드셨네요', '감사합니다, 희철님 :)저도 응원하겠습니다!', '오늘 낮부터 이 플러그인이 정상 작동하지 않는 것 같습니다', '혹은 데이터의 privacy rule 때문일 수도 있습니다.', '하루 8시간에서 헉 했는데 생각해보니 저도 하루 종일 붙잡고 있었던 것 같아요.', '버블이 가지고 있는 약점이 있습니다.', '저희들은 버블을 메인으로 하되 , 버블에서 API 만들거나 붙일 때 개발지식이 필요할 것 같은데, 여기서 필요한 개발언어(?)가 있으면 어떤게 있을지..', '정말 많은 도움이 되었습니다 !', '좋은글이예요~~', '좋은 글 감사합니다!', '스터디는 신청했습니다. ^^', 'SPA방식은 한 페이지에서 모든 메뉴를 처리하는 것이지만 방식은 주상님이 하신 커스텀 스테이트를 이용하는 방법도 있고, 희철님 말씀처럼 url parameter를 이용하는 방법이 있습니다.', '너무 정성스럽고 유용한 글이네요!', '3)리피팅그룹 횡스크롤로 간단히 구현 가능해요 !', '예제의 스포일러는 제거했습니다.. ㅎㅎ..!', '제가 처음에 딱 그랬어서요 ㅎㅎ', '플러그인도 소개 감사합니다.', \"저도 늘 '누구나 가슴 속에 아이디어 하나 쯤은 있다' 라고 생각하는데 그런 면에서 버블 같은 노코드툴이 많은 분들을 돕는 수단이 되어 생태계를 바꾸고 있다는 생각이 듭니다.\", '버블팀으로부터 답변 온 결과타임아웃 150s 초과로 인한 현상이라하네요.', '함께 고민해주셔서 감사드립니다.', 'loop를 client side에서 돌리는 것과  server side에서 돌리는것은 어떤 차이가 있을까요?', '노아노마드 화이팅!', '3. Filter보다 Constraint 사용하기Do a search for를 할 때 조건을 걸어서 데이터를 줄일 수 있습니다.', '뭐 또 새로 배워봐야죠!ㅎ', '와 멋져요', 'simpleloop 플러그인을 활용해서 RG row별로 row create, trigger zap, update table 이 조건에 맞을때까지 돌아가도록 세팅했습니다.', '저도 chatgpt를 유튜브를 보며 소병준님처럼 따라했었어서..', '뭔가 어색한 느낌을 지울 수는 없지만 제가 이해하고 행할 수 있는 조언이라 피가되고 살이 되었습니다.', '자세하게 해결책을 주셔서 감사해요!', '아직까지 안되네요ㅠㅠ..', '1. 답변 감사드립니다.', '와, 너무 유용하게 쓰일 플러그인이네요!', '어느 덧 저도 버블과 함께 한지 2년이네요.', '아직안해봤습니다 ㅎㅎ', '또 본인의 교육에서 수강생의 목표를 어떻게 설정하는지?본인이 생각하는 버블로 만들 수 있는 프로덕트 범위나 스케일은 어디까지?', '네, 맞습니다', '저는 에어테이블 제피어 솔라피로 시스템 구축해서 이 방법도 추천드려요', '네 맞습니다!!!', '이미지와 텍스트 둘다 아우르는 타입이 있는거에요', '오옷!', '이런 경우에는 아래 방식으로 해결이 가능합니다.', 'timestamp쪽이 문제인것 같긴 합니다', '앞으로의 행보를 응원합니다 ^^', '그래서 가능하면 SPA로 만들라고 하는거죠.', '속도 최적화는 어떤식으로 하셨을까요~?', '질문 테이블의 데이터는 반복적으로 사용하니깐요', '하지만 여기서 도움받은 만큼 쇼케이스와 빌드로그는 꼭 쓸 예정이에요!!', '대환영이에요!', '아니면 버튼을 눌러도 a페이지에서만 머무는 건가요?', '와 이런 후기 정말 대환영입니다.', '오 필라테스의 스터디메이트 골프 판인 것 같아요!', '희망을 갖게 되는 글이네요', '해당 사이트인 모두의 노코드도 버블로 만든 서비스고, 펨코라는 사이트 같이 주제별 다양한 게시판도 만들 수 있어요.', '사실 팀 작업 하듯 완벽히 기획하고 들어간게 아니라 부족한 부분이 많은데 좋게 봐 주셔서 감사합니다!', '지금은 좀 추상적인 내용이라 저도 어떻게 도움을 드려야할지 감이 안오네요 ㅠ', '어둠 속 한줄기 서광같은 조언에 감사드립니다.', '지훤님 글만 모아서 보고 싶은데 어렵네요!', '오우 감사합니다! ㅠㅠ', '저도 개발자가 아니라서 막막하고 접어야하는 생각이 많이 들었는데...', '본받아서 더 열심히 해보겠습니다!', '답변받은 원문도 남겨놓습니다.-----------------------------', '좋은 정보감사합니다', '이런 시스템이 있다면 이태원 참사 같은 일을 예방하는 데에도 도움이 되겠습니다.', 'UI나 트리거-액션 지정 가능한 영역, 연결 가능한 앱 정도의 차이가 조금씩 있을 뿐이고요 ㅎㅎ', '앗 답변이 늦었습니다!', '와우, 관련링크에서 발견한 끝없이 펼쳐지는 MVP에 대한 대화의 흐름이 인상적이었습니다.', '버블 이라고 생각합니다.', '테스트를 해보니 이렇게 구현하면 input을 클릭하면 데이터가 날라가는 문제가 생기네요.', '거의 개발 수준이라고 보시면 되어요.', '네 ㅎㅎ 복잡해보이면서도 잘 생각해보면 쉽게 풀어낼 수 있는 게 많습니다.', '그러게요, 반응형 생각을 안하고 모두 Fixed로 만든 대가를 치르고 있습니다.', '5. 스타일을 최대한 활용하기서비스르 만들다보면 같은 스타일의 엘리먼트들이 꽤 많이 나옵니다.', '디지털 마케팅 배우고 싶은 사람들한테 추천하겠습니다 ㅎㅎ', 'Expression 엘리먼트를 보이지 않게 (visible on page load 체크 안함;)하시면 작동하지 않습니다.', '처음 시작하시는 분들은 참고하시면 좋겠습니다.', '저희 어머니께서도 진돗개를 키우면서 카페 가입도 하시고 자주 들어가보시더라구요 ㅎ', '-It appears that this API call is timing out.', 'ㅋ 감사합니다.', '사실 세로폭은 들어가는 요소가 고정되어 있을 경우 반응형으로 안하셔도 됩니다.', '왜 안 나올까요? ㅜㅜ', '그러다보니 refresh를 하면 custom state value가 사라지고 그래서 default로 모든 것들이 다 뜨는 것으로 보이는데요.', '개인 차이가 있어서 그래도 한 달 정도는 걸리지 않을까 싶습니다.', '잉 ><', '버블의 단점을 보완해주는 동료 같은 존재라고 생각하는데요.', '그래서 요소를 일단 숨겨놓고 조건이 맞을 때만 보여지는 식으로 세팅해놓으시면 3초 딜레이 되어도 조건에 맞게 요소가 노출되기 때문에 좀더 나은 UX를 제공할 수 있습니다.', '답변 주셔서 너무 감사합니다!!', \"카카오 담당자 답변 : '구글 소셜로그인은 구글 내부 정책으로 인해,안드로이드 인앱 브라우저를 사용하는 앱 에서의 로그인을 차단하고 있습니다.'\", '말씀하신 방법도 좋네요.', '저도 영태님 서비스 잘 보았습니다!', '너무 감격입니다 ㅎㅎ', '1. repeating group의 status에 count 필드을 추가2. 페이지 실행 시, statue 설정 액션 이벤트를 활용해 count 필드에 현재까지 불러온 메시지 갯수 설정3. 트리거 이벤트를 새로 추가하고, count 필드가 다를 때를 조건으로 설정4. 해당 워크플로우가 동작 시, 스크롤하는 액션 이벤트 추가', '문답도 좋지만 몸 건강 꼭 챙기세요!', '와 정말 이런 분들 볼 때마다 꾸준함이 무엇보다 중요하구나 라는 생각이 듭니다.', '또한, Backend로 워크플로우를 보내는 것이 유저 입장에서 속도 체감을 줄일 수 있습니다.', 'user와 profile 이라는 데이터 ㅌ타입이 두개있는데 유저에서 프로필데이터 가져와지는게 안되는데 ai 한테 물어봐도 해결이 안됩니다.', '행복한 주말 보내시길 바라요', '백엔드를 싱크트리로 개발하신다면 서비스 규모를 확장하고 DB 및 다수의 외부 서비스를 연결하는데는 아무런 문제가 없어서 충분히 가능할 것 같습니다!', '플러그인이 아니라 다른 방식으로 하셨나 보네요.', '아무것도 설정하지 않으면 누구라도 해당 데이터를 검색하거나 볼 수 있어서 보안상 위험하고요.', '말씀해주신 내용으로 잘 고민해봐야겠습니다.', '어떻게 사용하나요...?ㅠ', '<<--- 해결했습니다.', '그레고리의 인터뷰도 굉장히 좋았습니다.', '답변 감사해요', '매니저님!', '열심히 해킹해주세요~ (그런데 사실 모두의노코드는 안정화 이후 오픈소스로 풀긴 할 겁니다 ^^;;)', '필요하시다면 문의 주세요~', '외주개발로 진행하면서 발생할 수 있는 안 좋은 상황들을 종합적으로 겪으셨네요.', '오 사이트 볼 수 있을까요?!', '해결 되었어요', '나무에 잔가지가 많으면 수분과 양분을 쏙쏙 빨아 먹어 나무가 크게 자라지 못 하고 끝이 메마른다고 합니다.', '와..', '결제로 고민하셨던 많은 분들이 혜택을 볼 수 있게 됐네요', '스퀘어 게시판 보시면 지난 달에 진행한 공고 확인하실 수 있습니다.', '그런 동작까지 막아야 했습니다', '나중에 효석님의 로그들이 성지가 되는 날이 꼭 오길 응원합니다!!!', 'MVP답게 심플하게 만드신 거 너무 지혜로우신 거 같고무엇보다 콘텐츠들이 생산성 향상에 도움이 되는 게 많아서개인적으로도 기대됩니다', '버블 포럼을 살펴보니 많은 분들이 이미 경험하신 오류였고,고통받고 계셨던 것 같네요.', '/  유투브에 더백클래스 라고 플러터 플로우 강의가 있는데 무료이지만 유료급으로 세부적인 설명이 잘 되어있으니 저는 도움이 많이 되었습니다.', '론칭날 서버 터트리기는 국룰이죠', '와우 너무 좋은 글입니다.', '예제 영상에서 너무 상세히 잘 설명하고 있어서 차근차근 따라해보시면 좋을 듯 합니다.', '*정작 display 대상이 본문 영역이 아닌head 영역의 문제 였는거 같습니다.', '3번 부분에 대한 질문을 제가 정확히 이해했는지 잘 모르겠습니다.', '소정님!', \"해당 리뷰만을 삭제 하려면 Serch for review's 뒤에 무슨 값을 넣어야 할까요?\", '아마 해외 쪽 포럼 뒤져보셔야 하지 않을까 싶습니다.', 'timestamp는 밀리세컨드 단위로 조정해서 다시 시도해보니 해결이 되었습니다!', \":)API 커넥터로 가서 다른 API 설정 이후에 이니셜라이징 하면 '액세서 토큰'을 어떻게 불러올 수 있나요~?\", '그냥 조건식이 더 쉬운 것 같아요', \"조만간 리뉴얼이 있을 예정인데 그때 'Growth' 요금제로 변경할 예정입니다\", '주변에 미디어 소비를 좋아하는 지인들에게도 공유하겠습니다 ㅎㅎ', '너무 도움되는 글과 댓글입니다!', '요지는 커스텀 스테이트의 데이터 타입을 해당 데이터로  list로 지정하여 버튼을  클릭할 때 해당 버튼의 데이터가 커스텀 스테이트에 쌓이도록 워크플로우를 짜는 겁니다.', '비슷한 다른 플러그인도 있으니 cookie 키워드로 검색 해보세요', '두명 다 합쳐서 최저시급으로 계산하면 누적 300은 들었을거같아요. ㅎㅎ', '이슈 픽스하고 라이브로 다시 심사하겠습니다.', '픽쳐업로더에 이 기능 필요한거 완전 공감 +100 입니다 ㅜㅜㅋㅋㅋ', '진심으로 응원하겠습니다', '모바일 우선으로 염두해두었씁니다!', '나중에 쇼케이스 추가되거든', 'ㅠ..', '주상님이 원하시는 각 페이지를 주소로 접근하려면 두 번째 방법을 쓰셔야 합니다.', '부족한 점이 많은데, 좋게 봐 주셔서 감사합니다!', \"'''첫째, 내가 뭘 개발하려는지에 대한 아주 구체적이고 명확한 개발계획이 수립되어 있다.둘째, 정말 능력있고 신뢰할만하며 의사소통에도 문제가 없는 개발자를 만나야 한다.'\", '아무튼 감사합니다.', '같이 고민해주셔서 감사합니다~', '하지만 위 방법으로 워크튠 앱을 래핑한건 맞습니다.', '요금제 관련해서는 거의 모든 서비스가 고객 센터에 문의하는 게 가장 정확합니다.', \"5-b-ii. 의 search for의 -첫번째 constraint 로  색깔 constraint '선택한 색깔' list :first  -두번째 constraint 로  색깔 constains '선택한 색깔' list :last를 각각 설정하여 선택한 색깔리스트를 필터링 할 것 같습니다.\", '잘 읽었습니다!', '대단하십니다...!', '버블로 앱을 만들 경우 써드파티 앱 제작 서비스를 이용하셔야 하는데, 이게 또 난이도가 높습니다.', '어떤 case인지에 따라서 적합한 방법을 선택하시면 됩니다.', '점점 버블로 상용화 서비스가 많아지니 좋습니다.', ':D 새해 복 많이 받으세요~', '그리고 백엔드 개발자분들 중에서 프론트엔드 개발지식과 경험이 있으신 분들도 마찬가지로 쉽게 적응하실 수 있을 듯 합니다.', '그러면 meta tag는 page header로 밖에 집어넣지 못하는 걸까요~?!', '가급적 PC에서 접근해 주세요.', 'Search for users : count > 0 즉, 이름과 비밀번호가 일치하는 유저가 1명이라도 있느냐는 조건입니다.', '- 이상 버블 초보자가 드렸습니다.', '와우!!', 'url공유 버튼은 어떻게 공유해야하는걸까요,.,?', '이렇게 한 앱을 만들때 비용은 어느정도 들었나요?', '와!!', 'x0008_여러가지로 도움 많이 받았어요.', '공유 너무 감사합니다...!', '재민님!', '오 해결법을 찾으셨는데도 자문자답으로 올려주시다니 소중한 아카이빙 감사합니다 ㅎ', '저는 해보진 않았지만 뭔가 기능 상으로 당연히 yes-no-yes-no 이런 식으로 목록이 구성될 줄 알았습니다.', '신청했습니다~', '마찬가지로 노코드도 결국 수단일뿐, 이를 활용하는 사람의 아이디어나 계획이 더 중요해서요.', '위의 이미지에서 api plugin 쪽 \"타임스탬프 값\" 이라고 기재되어 있는 부분의 value input은 어떻게 작성해야 할지, 워크플로우는 어떻게 설정해야 할지 헤매고 있습니다ㅠㅠㅠ', '늦게 봤는데 답변 감사드립니다!', '<style>/* Hide scrollbar for Chrome, Safari and Opera */::-webkit-scrollbar {    display: none;}/* Hide scrollbar for IE, Edge and Firefox */html {    scrollbar-width: none; /* For Firefox */    -ms-overflow-style: none; /* For Internet Explorer and Edge */}<style>', '중간에 하나의 API를 브릿지로 두는 게 권장할 만한 방법은 아니지만, 어쩔 수 없이 이렇게 처리하였습니다.', '흥열님 글 보고 개발실패기를 쓰게 된 것이었는데하영태님 말씀대로 와이어프레이밍은 큰 의미는 없지 않나 싶습니다.', '수년 간 여러 언어 입문과정만 몇차례 찾아보다 포기하기를 반복하면서, 노코드 끝판왕 버블이 마지막 시도라고 생각하며 들여다보고 있습니다.', '경험은 없어 잘 모르겠지만 회원 약관에 따라 탈퇴 이후 어느 시점까지는 어느정도 보유할 수 있고 (그러나 정보가 Public하게 공개되면 안됨),  계정 자체를 익명화해서 유지하는 게 어떨까 싶네요.', '그건 이미 만드신 그룹(A) 안에 text를 넣으시기 때문에 당연히 쏘옥~ 들어가는거구요.', '대표님 두분이 댓글달아주셔서 영광입니다!♡', '안녕하세요, 노코드 버블을 사용하여 개발하고있는 If dev 입니다.', 'SPA로 여러 페이지를 한 페이지에 넣으면 초기 로딩은 조금 걸리겠지만 페이지 간 이동은 native하게 빠르게 만들 수 있으니까요.', '다음 미팅 잡히시면 한국에도 Subscriber가 있다고 전해주세요!', '덕분에 해결했습니다.', ':) 이제 동분서주하면서 알리셔야죵! ㅎㅎ', '아마 제가 예시를 들었던 그룹A상황도 말씀주셨던옵션이 어떻게하나 나타난상황이라 체크해서 그렇게 된것 같아요', '오 노코드로 빠르게 실행하는 창업팀이군요!!', '리뷰 Data Type 이 아니라 상품 Data Type 에 [사요]와[마요]가 list of users 로 있습니다.', '최대한 native하게 하려는 거죠.', '이는 워크플로우의 go to page 명령을 쓰면 됩니다.', '너무 유익한 정보인 것 같아요..!', '너무 정성스러운 글이네요.', '위 제가 말한 것과 함께 아슬아슬한 실수구간을 어떻게 했더니 되더라를 캡쳐해놓은 글이 있으니 한번 참고하셔도 좋을 듯 합니다.', '저도 버블로 작업하면서 경험한 부분들이라 매우 공감이 가는 내용입니다.', '감사합니다ㅜㅜ', '응원해요', '하루종일 씨름했는데 속이 다 시원하네요', '홍보까지~ 감사합니다!', '동엽님 말씀대로 하시면 됩니다.', '희철님이 찾아주신 블로그 글 참고하여 마크다운으로 완성 시켜 보는 것 부터 차근차근 해보도록 하겠습니다!', '아 제가 질문을 애매하게 드렸네요!', '참고 영상은 여기에 있어요! -----------', '감사합니다!!!!!!!', 'steppay측에서 오류코드(login_requied)에 대해서 문의를 해보니, html embed가 중복되어서 오류가 뜬다합니다.', '감사합니다  _', '참쉽죠', '그리고 에디터에서 요소의 테두리를 쉽게 볼 수 있는 방법이 있습니다.', '감사합니다 ^^', '이미 map 엘리먼트에 지정이 되어있어서 state 활용하면 될것같습니다!', '커뮤니티도 X그램형식이 괜찮네요.', '어메이징한 스토리네요!', '어떤 목적을 위해 db를 하나 더 만드는게 부담일 수 있어요.', '아이디어 주셔서 정말 감사합니다!!', '저도 버블로 광고 게시할 예정인데 아직 안해봐서 궁금합니다^^', '추가적으로 이미지만이 아니라, 이미지 아래의 Title(제목), Description(설명)항목도 지정이 가능합니다', '까먹고 있던 존재를 알려주셔서 감사합니다..', 'gird&border가 빌딩하는데 헷갈려서 껐는데 희철님 말씀처럼 그냥 그 기능을 켜기만 하면 되는거였네요ㅎㅎ', '그래도 무엇보다 내가 얼마나 동기부여가 되어서 열심히 하느냐에 따라 더 잘 배우시는 경우도 있으니 하시다가 막히면 아시죠?', '속도나 워크로드 최적화 면에서요!', '다시 작성해봐도 똑같이 여백이 생기네요.', '너무 궁금해요!', '아..', '참고할 수 있는 무료 템플릿도 있지만 거의 다 외국꺼라 한국 실정과는 잘 안맞는 느낌입니다.', '한 가지 궁금한 부분이 있는데 답변을 해주실 수 있다면, 성장에 더 큰 도움이 될 것 같습니다.', '커스텀 스테이트를 이용하면 브라우저 주소창이 clean url이 되지요.', '우선 제가 알기로는 RG 없이 일반 그룹과 요소만으로는 스크롤 메뉴를 만드는 건 불가능한 걸로 알고 있습니다.', '역시 글 제목에 훅이 있군요 ㅋㅋㅋ', '개인적으로 노코드로 제품 출시 후에 Scale up, Low-code 확장 사례들에 관심이 많습니다~', '이런 건 정말 좋은 아이디어네요.', '폴리미 화이팅입니다!', '슬랙이  내부 알림용 채널로 정말 좋은 것 같습니다.', '개인적으로도 이런 온라인 스탬프 투어가 있으면 좋겠다 싶었는데 아예 솔루션화 시키다니 아이디어도 훌륭하고 기획도 좋네요.', '요즘 제가 정리하고 있는 내용하고 거의 똑같아서 깜짝 놀랐어요!', '저도 버블 강의를 하고있지만 이런 컨텐츠가 많아져서 많은 분들이 버블에 쉽게 입문할 수 있으면 좋겠어요.', '- 판매인증이 있으면 문제가 발생하고    없으면 정상 - 테스트와 수정을 더 해보면 해결될 거 같습니다.*', '대단합니다 ㅎㅎ', '도움받고 갑니다!!', '현재와 동일한 페이지로 이동하도록 설정하면 파라미터 조건에만 해당되는 데이터만 다시 내려 받는것 같던데, 맞을까요?', '채택하기가 안되네요', '저도 어떻게 이게 가능한건지 너무 궁금해요!', '그래서 지금 관련 내용으로 몇 군데 지자체와도 이야기를 나누고 있습니다.', '와 이런거 정말 필요했는데요', '잘 되면 다시 말씀드리겠습니다.', '그러셨군요 ㅠ', '좋은 하루 되세요.', '이렇게 하면 되지않을까 싶긴하네요...', '3. 모노데이는 너무 짧지 않나요?', '브라우저의 스토리지를 활용하면 가능합니다.', '답변 너무 감사합니다!!', '아이디어 팍팍, 센스 진짜 부럽습니다.', '하지만 그쯤되면 그냥 파이썬으로 만드는 게 쉽고 빠릅니다.', '정말 유용한 플러그인이네요!', '감사합니다', '용준님 답변 아카이빙 해주셔서 감사드립니다.', '약간 고독하다는 점만 빼면(?) 완벽합니다! ㅋㅋㅋ', '리피팅 그룹의 특수성에 대해서 깨우치셨네요!', '치킨은 살 안찌듯 이라는 말이 너무 찰떡이네요 ㅋㅋㅋ', 'ingredients(new)는 성분명(text) 입니다!', '혹시 이 문제 해결하셨을까요?', '먼저 답변 너무 감사합니다 .', '컨텐츠 만드는데 큰 힘이됩니다.', '와 이렇게 친절한 댓글이라니..', '메이크가 우승하다니 뭔가 자피어에 대한 저항감이라고 봐야할까요? ㅋㅋㅋ', '감사드립니다!!!!', '제가 구분이 어렵게 해놨네요;;', '근데 스토어에 등록된 앱으로 켜서 결제하려니 결제연동이 되지 않습니다...', '스텝페이는 써보지 않아서 잘 몰랐는데 이런 식으로 html 임베딩을 통해서만 가능한건가 보군요.', '캡처와 예시까지..ㅜㅜ 답변을 기다리다가 급한 마음에...ㅋㅋ포럼이랑 이것저것 뒤져보다가 다음과 같은 방법으로 했었는데요, 맞는 방법인지 모르겠지만ㅜ 같은 과정을 겪는 분들이 있을 수 있으니 공유해봅니다!', '오픈하고 제가 이용했을 때 느꼈던 부분은 아직 프리셋된 기능 외에는 이용하기 어렵다 였습니다.', '(1) Authentication을 None or Self-handled로 변경 하고,(2) 아래 Kakao Search Blog Call 부분에 [Add Header]를 클릭하고, Key에 Authorization, Key Value에 Authorization: KakaoAK ${REST_API_KEY} 를 입력한 뒤 다시 Initialize 해 볼 것 같습니다.', 'ex)url 공유로 다이렉트로 특정페이지, 조건의 상황을 노출해주고 싶을때', '3. 버블의 컨디션, 워크플로우를 통해서도 핸들링 가능합니다.', '템플릿 주소라도 알려 주시면 좋을것 같아요', '캡처까지 너무 깔끔한 답변이네요.', '정상아닐까요!', '수고하셨습니다', '할 수 있다고 생각하시면 언제나 더 나은 방법은 나타나더라고요.', '너무 맙습니다 소정님 역시 멘토이십니다', '버블 관련해 작업물 및 경험글을 사이트에 업로드했습니다!', '이렇게 설정하시면 모든 페이지들에서 사용이 가능하지만, 필요없는 페이지에서도 SDK를 호출하기 때문에 추천드리고 싶은 방식은 아닙니다.', '\"검증은 가입 인원수로도 측정할 수 있지만, 가능하면 가장 이상적인 방법은 결제를 넣는 것입니다. 이렇게 해야 최소한 당신이 누군가를 위해 문제를 해결하고 있음이 증명되기 때문입니다. \\'Money talks\\' \"\"우리는 관심받고 싶어하는 경제에 살고 있고 누군가의 관심을 받는 것은 어렵습니다. 이 과정을 일찍 시작하고 계속해서 거절에 직면하는 법을 배우십시오.\"', '네!수동으로 삭제가능한것은 알고 있습니다!', '질문하신 내용을 보니 오가는 데이터가 기록이 남아야하는 걸로 보이는데 결국 DB에 기록은 해야할 듯 합니다.', '일단 가능한 해상도에서는 보일 수 있게 세밀하게 세팅해보겠습니다.', '얼떨결에 반갑습니다', '일단 질문 관련 처리하고 있는 플러그인 Element Editor와 workflow 스샷을 올렸는데, 참고가 되실지 모르겠습니다.', '움..', '재은님 조만간 웨비나에 꼭 함께 참여해주세요!', '저도 처음 보는 툴들이 정말 많네요.', '응원 감사합니다 !!', '혹시 위 그림을 보시고 아이디어가 있으실까요?', '워크플로우 어카운트 가시면 임시 비밀번호 만드는 게 있어요.', '잘 봤습니다!', '좋은 말씀 다시 한 번 감사드립니다!', '개발이며 뭐며 하다보면 여러명이 일하면서 본질을 잃어버리게 되는경우가 참 많은데 나혼자 집중해서 mvp를 빡! 만들어서 출시할수 있다는게 큰 메리트쥬', '그러면 workflow상에서 When Input field value is changed Input 필드의 값은 Index (element 명이 index라 가정하구요)', '해결법1이너 스크롤2', '래핑 서비스 이것저것 살펴보다 기왕 셀프래핑을 해보자 싶어서 ㅎ', '고맙습니다!', '다만 이후 다른 api 연결할 때 한번 했던 과정이니 쉽게 연결하실 수 있지 않을까 싶습니다!', '네 노코드툴 후보들이라서요', 'Roman님은 Natively Youtube에서 강의 봤는데 괜히 반갑네요!', '와우 잠깐 둘러봤는데 정말 수준 높은 앱이네요.', 'app data에는 잘 저장이 돼있던데 어디에 문제가 있는걸까요?', '혹시 말씀하신 방법으로 진행하면 페이지 로딩 속도나 기타 다른 부분에 영향이 크게 없는지 궁금하네요.', '진짜 질문 하나하나에 엄청 정성스럽게 답 해줬네요.', '핫픽스가 가장 눈에 띕니다 ㅎㅎ', '와우 이렇게 정성스러운 글 너무 좋습니다!', '그럼에도 버블러들의 경험을 종합해 보면 속도나 퍼포먼스 개선을 위해서 몇 가지 팁이 있습니다.', '다혜님! 와...', '노가다로 때워보려고 했는데...', '오마이앱도 현재 레퍼런스를 만들기 위해 대학과 제휴하는 등 활동을 하고 있는 걸로 알고 있거든요.', '유지하려면 지속적으로 매월 $29 결제되어요', '해결되었다니 저도 기쁩니다', '그렇게 하면 이런 에러가 납니다.', '아직 여기까지 고민을 안 해봤는데...', '짐작되는 원인이 있을실지 문의드립니다!', '예약 시스템을 구현하는게 까다로웠을텐데 고생 많으셨습니다!', '그렇기 위해서는 데이터베이스 구조부터 고민해서 짜야 하는데요,예를 들어학교 > 반 > 학생들 의 구조라고 하시면,Data Type (필드들)학교 (학교명)반 (반명, 해당학교)학생 (이름, 해당반) _ (반 만 지정하면, 학교는 반과 묶여있으니 별도로 필드로 넣어줄 필요가 없습니다)', \"민교님 이렇게 좋은 글은 '자유 주제' 게시판 보다는 '빌더 로그' 게시판에 올려주시면 좋을 것 같아요.\", '열리는 창에서 [이름]칸에는 임의로 이름을 지정하세요.', '와 그런방법이 있었내요 ㅎㅎ 마지막으로 궁금한게 있는데 구글 드라이브내에 있는 이미지 같은 것도 버블내로 불러올 수가 있나요?', '우선 이 클래스로 물꼬를 틀고 하나씩 해보시는건 어떨까요?', '이름과 비밀번호 중 하나라도 매칭이 안되면 카운트가 0이 나올거고요', '존경스럽네요!', '하나씩 이해하면서 DB를 연결해서 되었습니다', '진짜 필요하다고 생각합니다', '감사합니다, 용준님 :)리트머스 화이팅입니다-!', '3. 궁금한 점은 Youtube에서 Bubble + 검색어로 질문해 보면 대체로 나옵니다.', '알려주신 방법으로 지금 한 번 더 해보려고요!!', '1)게시판에 찜 버튼을 만들기2)user type에 찜 field를 게시판type list로 생성3)게시판에 찜 버튼 클릭시 workflow로Make changes to thingUser의 찜 field에 찜한 게시판 add로 넣기4)RepeatingGroup에 타입오브 컨텐츠=게시판데이터 소스는 커런트 유저의 찜텍스트로 제목, 작성자, 작성일 정도 출력 하면 기본적으로 찜한 게시글만 보기는 될것 같습니다', '아 SQL쿼리로도 구현이 가능하겠군요!', '찬우님의 경우 실개발 경험이 있으시기 때문에 코드, 노코드 개발 경험이 어우러지면서 최적의 시스템을 찾으시는데 더 유리할 겁니다!', '저는 CSS 적용해서 적절하게 커스텀 디자인 해서 사용하고 있습니다.', '좀더 디테일하게 얘기해주시면 좋을 것 같아요.', '우측에 Group을 하나 생성하고, 그 자식 요소로 이미지를 넣은 후 Group에 클릭된 이미지 url이 들어가게 하고, 이미지는 부모의 url을 갖게 하니 해결되었습니다!', 'DB설계는 마쳤는데 Data source 지정하는 부분에서 이상하게 애를 먹네요.', '개발자 없이 가장 스타트업스럽게 개발할 수 있는 방법이 버블이라고 생각하고 있습니다.', '헉 그렇군요..!', 'do a search for 표현식은 데이터 서치로만 쓰일뿐 데이터 값을 조회하는 용도로는 사용되지 않아서 누군가의 이메일 주소를 알아내거나 하는 방법으로 쓰일 수는 없습니다.', '한 번 검토해보겠습니다 ㅎㅎ', '혹시 아시는 분 계신가요?', '디콰에 올리신 글 봤었는데 여기서도 뵙네요!', '그 때는 직접 코딩을 해서 개발하고 서버도 AWS를 썼고요.', '그런면에서 개발 백그라운드를 가진 분들이 훨씬 유리하다고 봅니다.', '이거 대체 어떻게 만든건지 싶은 정도로 놀랍습니다 ㅋㅋ;', '헉 마감이라니 ㅠㅠ 아쉽습니다', '그나저나 관련 링크가 한글이면 깨지는 현상이 있네요 ㅠ', '문제 해결되면 다시 올려볼게요.', '아임웹에서는 액세스 토큰을 바로 제공하지 않아요.', '그래서 이런 경우에는 차라리 종이책 보다는 ebook 으로 빠르게 내는 게 좋지 않나 싶습니다.', '재밌게 써봤어요 ㅎㅎ', '도움이 되셨다니 기쁩니다ㅎㅎ', '만약 제 이해가 맞다면 이런 방식을 알려드리면 도움이 되시려나요?', '궁금해서 질문드렸습니다.', '덕분에 국내 버블 유저들의 결제 문제가 많이 해결될 것 같습니다!', '한번 해보겠습니다', '디스콰이엇에서도 봤지만 진짜 대단하십니다.', 'Generator는 필드 명으로 임의로 붙인 건데, 이미지를 생성해주는 기능을 가진 버튼입니다!', '좋은 의견 감사드립니다!', '동의하지 않으면 로그인이 진행되지 않으니 아마 명성님의 브라우저가 이미 카카오 로그인 정보와 동의 정보를 갖고 있어 자동으로 진행 되었을 것이라 짐작합니다.', '꼼꼼하게 자세히 뜯어보는데 큰 도움이되었습니다!', '9. 플러그인 최적화무거운 플러그인들이 꽤 있습니다.', '위로 뭐 이런 것은 잘 하는 분야가 아니라서 ..', '이게 왜 되는건지(?), 또 필터가 하나가 아니라 여러 개 걸렸을 때 퍼포먼스 이슈는 없을지 모르겠긴 합니다ㅜ', '카카오 로그인 때문인 것 같은데 해결 방법을 모르겠네요..', '현재 문제는..[텍스트1 -이미지1][텍스트2 -이미지2][텍스트3 -이미지3]이런식으로 저장을 해보았는데, [텍스트1 - 이미지1 - 텍스트2] 까지만 나오고 그 뒤에는 내용에 보이지 않습니다.', ':)생각을 해보지는 않았지만, 버블을 프론트엔드로만 사용하고 백엔드는 외부에서 자체적으로 구현해서 사용하는 방식도 가능한 서비스 방식이겠네요.', '기업교육하면서 에어테이블,Softr 활용하여 해당 서비스 비슷하게 구현한 적이 있는데, 맡겨주시면 충분히 좋은 퀄리티로 구현 가능합니다.', '덕분에 계속 공부를 이어갈 수 있게 되었네요..', '소중한 의견 감사드립니다', '여기 커뮤니티가 도움 많이 되고 있습니다!!', '모두의 노코드 정기 행사 돌아왔습니다ㅏㅏ', '다행이네요!', '곧 누구든 생각한 서비스를 쉽게 설립할 수 있는 기술들이...', '저는 잘 되는 것 같아요.', '바로 수정할게요!', '완성된 mvp 궁금합니다', '안 그러면 아무나 다 무작정 다운이 가능하니깐요', 'DB조건걸어서 조회하거나 update하는 경우가 많아,  운영시작한후에 사용량 많이 나올까봐 걱정되네요.', '권한 및 CORS는 저도 비개발자라 원리를 자세히 몰라서 검색해보면 나올겁니다', '솔라피 연결이 늘 버벅였는데 딱 필요한 플러그인이네요', '현준님 정리가 미흡한 글인데도 어려운 과정을 잘 마치셨군요!', 'scroll to entry 설정창에서element는 리피팅그룹으로 설정했는데entry to scroll to를 어떻게 설정해야할지 잘 모르겠네요 ㅜㅜ', '찜찜하실 필요 없을 것 같아요!', '그래서 워크플로우 앞에 1초 정도 pause를 추가했더니 잘 됩니다', '파이팅', '이메일이 구글 메일이고 구글 소셜로 가입이 되어있으면 중복이 안될겁니다.', '페이지를 실행할 때가 아니라 답글이 달릴 때마다 자동 스크롤을 하고 싶다면, 트리거 이벤트로 repeating group에 불러온 갯수 데이터 변동을 걸어보세요', \"1. repeatign group의 type of content를 user로 설정2. parent group의 type of content를 user로 설정하고, source data를 current cell's user로 설정3. button 액션 이벤트에서 parent group의 user 를 불러와서 활용\", '조언 감사합니다!', '2번 문제는 대부분의 경우에서, 인풋박스 바로 아래에 있는 HTML Editor 를 띄워서 사용하면 해결되는 문제였습니다', '오마이앱은 아래 댓글처럼 아직 레퍼런스가 충분치 않을 염려가 있긴 하네요ㅠ', '국내에서 해당 서비스 이용하시는 분은 못본 것 같습니다 ㅠ', '아유 그게 기본이죠', '이전에 버블 서비스 빌드 기획부터 개발까지의 프로세스를 블로그 글에 정리한 적 있는데 참고해보면 도움이 될 듯 합니다!', \"아마 'count' 데이터를 미리 생성하는 부분을 생략하신 것 같습니다.\", '귀한 꿀팁 공유 감사해요!', '그런 목적이시면 그냥 코드 치는 걸 시작하시는게 나을 것 같아요', '해결하셨기를 바라지만, 혹시 아직도 고민 하고 계신 문제일지도 몰라', \"지메일 연동하려고 했더니 '앱에서 Google 계정의 민감한 정보에 대한 액세스를 요청합니다. '라고 하면서 안됩니다 ㅠ\", 'AWS에서 작업하는 이유는 어떤 것 때문인지  지혜를 얻을 수 있을까요', '노코드 빌딩의 정수를 경험하셨네요 ㅎㅎ', '답변 감사드립니다.', '응원하겠습니다.', '그리고 헤더그룹의 Horizontal Alignment를 centered로 두시면 그룹이 페이지 중앙에 위치하고 설정해두신 사이즈까지만 늘어나면서 여백이 생길 것 같아요!', '저의 마지막댓글에 답변 부탁드려도 괜찮을까요 ㅜㅜ?']\n"
          ]
        }
      ]
    },
    {
      "cell_type": "code",
      "source": [
        "#하나의 리스트로 결합\n",
        "result_list = talk_list + qna_list + all_contents_list + all_comments_list\n",
        "print(result_list[:10])\n",
        "print(len(result_list))\n",
        "df_result = pd.DataFrame(result_list, columns = ['text'])\n",
        "print(df_result)\n",
        "print(len(df_result))"
      ],
      "metadata": {
        "id": "jqlzQ3J7jqCP",
        "colab": {
          "base_uri": "https://localhost:8080/"
        },
        "outputId": "fb62b1c6-8b73-4cf6-d2f2-6591c3a5b8c3"
      },
      "execution_count": 14,
      "outputs": [
        {
          "output_type": "stream",
          "name": "stdout",
          "text": [
            "['저도 나중에 시간되면 자세히 공유하겠습니다.', '새해 복 많이 받으세요', '이전버전으로 가서 디플로이를 하려면 live버전과 sync를 맞추라고 하는 알림이 뜨고 이걸 누르면 merge되면서 현재 에러난 상태와 다를바 없게 되는 것 같습니다..', '아직은 초기 버전이기 때문에 일반적인 이커머스 제품에 커뮤니티 방 기능 밖에 추가되지 않았지만, 게이밍피케이션을 적극 활용할 예정입니다.', '이 방법 시도해보셨을까요?', '같은 스타일을 여기저기 그룹에 지정해줄때 하나 만들어두고 여기저기에 한번에 활용하는거죠!', '다들', '컨디션으로 안돼서 찾아보고 있었는데 감사합니다', 'API connector로 연동하다 생긴 아래 오류 해결점을 아시는분은 도움 주시면 감사하겠습니다!', 'PAD와 같은 RPA도구를 이용하시면  됩니다.']\n",
            "29185\n",
            "                                                    text\n",
            "0                               저도 나중에 시간되면 자세히 공유하겠습니다.\n",
            "1                                           새해 복 많이 받으세요\n",
            "2      이전버전으로 가서 디플로이를 하려면 live버전과 sync를 맞추라고 하는 알림이 ...\n",
            "3      아직은 초기 버전이기 때문에 일반적인 이커머스 제품에 커뮤니티 방 기능 밖에 추가되...\n",
            "4                                         이 방법 시도해보셨을까요?\n",
            "...                                                  ...\n",
            "29180                              노코드 빌딩의 정수를 경험하셨네요 ㅎㅎ\n",
            "29181                                         답변 감사드립니다.\n",
            "29182                                           응원하겠습니다.\n",
            "29183  그리고 헤더그룹의 Horizontal Alignment를 centered로 두시면 ...\n",
            "29184                       저의 마지막댓글에 답변 부탁드려도 괜찮을까요 ㅜㅜ?\n",
            "\n",
            "[29185 rows x 1 columns]\n",
            "29185\n"
          ]
        }
      ]
    },
    {
      "cell_type": "code",
      "source": [
        "#전체 데이터에 대해 soynlp.normalize 적용?\n",
        "#일단 보류"
      ],
      "metadata": {
        "id": "gBufYpDGmn4V"
      },
      "execution_count": 15,
      "outputs": []
    },
    {
      "cell_type": "code",
      "source": [
        "#.csv 파일로 저장(.xlsx로 저장 시 illegalcharactererror 발생)\n",
        "pretrain_data_save_path = '/content/drive/My Drive/KcBERT_pretrain_dataset.csv'\n",
        "\n",
        "df_result.to_csv(pretrain_data_save_path)"
      ],
      "metadata": {
        "id": "kt4_LDAkb4fa"
      },
      "execution_count": 16,
      "outputs": []
    },
    {
      "cell_type": "markdown",
      "source": [
        "#Finetune 데이터셋\n"
      ],
      "metadata": {
        "id": "Lxsu8xXKcMJ4"
      }
    },
    {
      "cell_type": "code",
      "source": [
        "#slug가 있다면 ['내용'] == 질문\n",
        "df_question_answer = df_qna[pd.isna(df_qna['Slug']) == False]\n",
        "df_question_answer = df_question_answer[pd.isna(df_question_answer['답변']) == False]\n",
        "\n",
        "print(df_question_answer)\n",
        "print(len(df_question_answer))\n",
        "\n",
        "print(df_question_answer.iloc[0])\n",
        "print(df_question_answer.iloc[1]['답변'])"
      ],
      "metadata": {
        "colab": {
          "base_uri": "https://localhost:8080/"
        },
        "id": "-cn_1Zvkltdm",
        "outputId": "ceea026f-5c99-4d4c-c81e-a2edf28f214d"
      },
      "execution_count": 24,
      "outputs": [
        {
          "output_type": "stream",
          "name": "stdout",
          "text": [
            "     Unnamed: 0                                                 내용  \\\n",
            "0             0  안녕하세요! 우선 모두의노코드 사이트 런칭을 축하드립니다.이렇게 첫번째 질문 글을 ...   \n",
            "1             1  저도 궁금해져서 열심히 찾아봤는데 콜아웃 같은 블록을 넣는 명령어나 함수는 찾지 못...   \n",
            "2             2  안녕하세요.모두의 노코드 런칭을 축하드립니다. 앞으로 좋은 활동 기대합니다. 현재 ...   \n",
            "3             3  헤더그룹 안에 로고와 CTA를 넣으시고 max width를 지정하시면 될 것 같아요...   \n",
            "4             4  안녕하세요.제주도에서 노션으로 동네 친구 매칭 서비스를 만들고 있습니다.어제 웨비나...   \n",
            "..          ...                                                ...   \n",
            "573         573  정보 구조나 와이어 프레임을 그릴 때 보통 피그마를 쓰시는 분이 많은데 한글로 된 ...   \n",
            "574         574                                                      \n",
            "575         575  안녕하세요! 현재 사업을 진행하면서 앱 서비스를 메인 비즈니스로 잡고 진행하려고 해...   \n",
            "576         576  안녕하세요! 버블로 외주개발하고 있는 리트머스팀입니다.yongjun@cigro.io...   \n",
            "577         577                 안녕하세요~아래 링크로 톡 남겨놓으시면 견적 도와드리겠습니다!   \n",
            "\n",
            "                                                    답변  \\\n",
            "0    저도 궁금해져서 열심히 찾아봤는데 콜아웃 같은 블록을 넣는 명령어나 함수는 찾지 못...   \n",
            "1                                                        \n",
            "2    헤더그룹 안에 로고와 CTA를 넣으시고 max width를 지정하시면 될 것 같아요...   \n",
            "3                                                        \n",
            "4    충분히 버블로 개발가능할 것 같아요! 이미 비슷한 수준의 어플을 개발한 사례가 많아...   \n",
            "..                                                 ...   \n",
            "573                                                      \n",
            "574                                                      \n",
            "575  안녕하세요! 버블로 외주개발하고 있는 리트머스팀입니다.yongjun@cigro.io...   \n",
            "576                                                      \n",
            "577                                                      \n",
            "\n",
            "                                                    댓글 관련 링크  \\\n",
            "0                                   첨부 파일이 표시되지 않네여 ㅠㅜ         \n",
            "1    감사합니다 희철님! 어제 웨비나 때 유의사항으로 말씀해주신 완변주의 성향이 있었던 ...         \n",
            "2    헤더그룹 안에 로고와 CTA를 넣으시고 max width를 지정하시면 될 것 같아요...         \n",
            "3                                                              \n",
            "4    버블은 다 되요. 개인별 능력이 좌우합니다. 치킨은 살 안찌듯. , 1:1 매칭하는...         \n",
            "..                                                 ...   ...   \n",
            "573                                                            \n",
            "574  해당 텍스크 요소를 감싸고 있는 그룹이 allign parent로 되어 있는것 같아...         \n",
            "575  안녕하세요, 노코드 버블을 사용하여 개발하고있는 If dev 입니다.아래 링크로 카...         \n",
            "576                                                            \n",
            "577                                                            \n",
            "\n",
            "                    작성일  작성자                                              제목  \\\n",
            "0   2023-01-11 18:46:00  김정민  노션 데이터베이스 속성 값을 이용하여 새로운 페이지 글 작성 시 노션 기능 넣는 법   \n",
            "1   2023-01-12 00:35:00  하희철                                                   \n",
            "2   2023-01-12 17:06:00  김태연                   페이지 구성시 사이드여백 세팅하는 법이 궁금합니다.    \n",
            "3   2023-01-12 18:31:00  정민교                                                   \n",
            "4   2023-01-12 19:01:00  김정민                            버블로 소개팅 앱 만들 수 있을까요?   \n",
            "..                  ...  ...                                             ...   \n",
            "573 2024-04-11 16:36:00  이진호                             디자인 할 때 어떤 틀을 쓰시나요?   \n",
            "574 2024-04-11 23:59:00  이진호                         이거 번역 글자가 겹치는데 어떻게 하나요?   \n",
            "575 2024-04-17 14:44:00  공다올                            노코드 앱 개발 견적을 알고 싶어요!   \n",
            "576 2024-04-17 14:53:00  정용준                                                   \n",
            "577 2024-04-17 15:28:00  이창호                                                   \n",
            "\n",
            "    첨부 파일                                             Slug 게시글 링크  \n",
            "0          노션-데이터베이스-속성-값을-이용하여-새로운-노션-페이지-글-작성-시-명령어-넣는-법         \n",
            "1                                                                  \n",
            "2                             페이지-구성시-사이드여백-세팅하는-법이-궁금합니다-         \n",
            "3                                                                  \n",
            "4                                      버블로-소개팅-앱-만들-수-있을까요         \n",
            "..    ...                                              ...    ...  \n",
            "573                                     디자인-할-때-어떤-틀을-쓰시나요         \n",
            "574                                 이거-번역-글자가-겹치는데-어떻게-하나요         \n",
            "575                                    노코드-앱-개발-견적을-알고-싶어요         \n",
            "576                                                                \n",
            "577                                                                \n",
            "\n",
            "[578 rows x 11 columns]\n",
            "578\n",
            "Unnamed: 0                                                    0\n",
            "내용            안녕하세요! 우선 모두의노코드 사이트 런칭을 축하드립니다.이렇게 첫번째 질문 글을 ...\n",
            "답변            저도 궁금해져서 열심히 찾아봤는데 콜아웃 같은 블록을 넣는 명령어나 함수는 찾지 못...\n",
            "댓글                                           첨부 파일이 표시되지 않네여 ㅠㅜ\n",
            "관련 링크                                                          \n",
            "작성일                                         2023-01-11 18:46:00\n",
            "작성자                                                         김정민\n",
            "제목               노션 데이터베이스 속성 값을 이용하여 새로운 페이지 글 작성 시 노션 기능 넣는 법\n",
            "첨부 파일                                                          \n",
            "Slug            노션-데이터베이스-속성-값을-이용하여-새로운-노션-페이지-글-작성-시-명령어-넣는-법\n",
            "게시글 링크                                                         \n",
            "Name: 0, dtype: object\n",
            "\n"
          ]
        }
      ]
    },
    {
      "cell_type": "markdown",
      "source": [
        "질문 + 답변에다가 답변에 달린 댓글들까지 입력 데이터로 처리할 경우 퀄리티가 더 좋아질 수 있지만, max_length를 초과하지 않는 방향에 따라 답변 데이터만 이용, 나중에 개선방안 찾아보기"
      ],
      "metadata": {
        "id": "zwVSXoH7tcCC"
      }
    },
    {
      "cell_type": "markdown",
      "source": [
        "community_qna_preprocessed 데이터에서 이미지 파일을 base64 인코딩한 텍스트가 섞여 있는데, 데이터 파일 추출 과정에서 직접 제거하는 게 좋을 것 같음."
      ],
      "metadata": {
        "id": "b_y534xjvGFh"
      }
    },
    {
      "cell_type": "code",
      "source": [
        "#커뮤니티 파일을 가공해서 finetune 데이터셋을 제작\n",
        "finetune_dict = {}\n",
        "\n",
        "#slug가 있다면 ['내용'] == 질문\n",
        "df_question_answer = df_qna[df_qna['Slug'] != '']\n",
        "df_question_answer = df_question_answer[df_question_answer['답변'] != '']\n",
        "\n",
        "print(df_question_answer.iloc[2])\n",
        "\n",
        "#['답변']의 텍스트를 ' , ' 로 구분 후 질문에 하나씩 쌓기\n",
        "sent1_list, sent2_list, label_list, index_list = [], [], [], []\n",
        "for i in range(len(df_question_answer)):\n",
        "  row = df_question_answer.iloc[i]\n",
        "  question_text = row['내용']\n",
        "  answer_text_list = row['답변'].split(' , ')\n",
        "  for j in range(len(answer_text_list)):\n",
        "    if answer_text_list[j] != '':\n",
        "      sent1_list.append(question_text + ''.join(answer_text_list[:j]))\n",
        "      sent2_list.append(answer_text_list[j])\n",
        "      label_list.append(1)\n",
        "      index_list.append(i)\n",
        "\n",
        "finetune_dict = {'sent1' : sent1_list, 'sent2' : sent2_list, 'label' : label_list, 'sent2_index' : index_list}\n",
        "\n",
        "df_community_finetune = pd.DataFrame.from_dict(finetune_dict)\n",
        "print(df_community_finetune)"
      ],
      "metadata": {
        "id": "DJu7dDaXcWyv",
        "colab": {
          "base_uri": "https://localhost:8080/"
        },
        "outputId": "a402723e-c0da-4835-8d02-66958d088279"
      },
      "execution_count": 27,
      "outputs": [
        {
          "output_type": "stream",
          "name": "stdout",
          "text": [
            "Unnamed: 0                                                    4\n",
            "내용            안녕하세요.제주도에서 노션으로 동네 친구 매칭 서비스를 만들고 있습니다.어제 웨비나...\n",
            "답변            충분히 버블로 개발가능할 것 같아요! 이미 비슷한 수준의 어플을 개발한 사례가 많아...\n",
            "댓글            버블은 다 되요. 개인별 능력이 좌우합니다. 치킨은 살 안찌듯. , 1:1 매칭하는...\n",
            "관련 링크                                                          \n",
            "작성일                                         2023-01-12 19:01:00\n",
            "작성자                                                         김정민\n",
            "제목                                         버블로 소개팅 앱 만들 수 있을까요?\n",
            "첨부 파일                                                          \n",
            "Slug                                        버블로-소개팅-앱-만들-수-있을까요\n",
            "게시글 링크                                                         \n",
            "Name: 4, dtype: object\n",
            "                                                 sent1  \\\n",
            "0    안녕하세요! 우선 모두의노코드 사이트 런칭을 축하드립니다.이렇게 첫번째 질문 글을 ...   \n",
            "1    안녕하세요.모두의 노코드 런칭을 축하드립니다. 앞으로 좋은 활동 기대합니다. 현재 ...   \n",
            "2    안녕하세요.모두의 노코드 런칭을 축하드립니다. 앞으로 좋은 활동 기대합니다. 현재 ...   \n",
            "3    안녕하세요.제주도에서 노션으로 동네 친구 매칭 서비스를 만들고 있습니다.어제 웨비나...   \n",
            "4    모두의노코드 만드신 분들께 질문 드리고 싶어요.제가 버블로 만든 서비스 관련해 모바...   \n",
            "..                                                 ...   \n",
            "223  custom state 만들어서 하고 있는데 파란색이지만  오류가 나고 있어요당연히...   \n",
            "224  정렬 기능을 사용중인데아래의 그림과 같이 2가지의 문제가 해결되지 않고 있습니다 ....   \n",
            "225  버블에서 아래 UI처럼 +버튼을 누르면 하위에 계속해서 폴더가 추가되도록 프론트를 ...   \n",
            "226  안녕하세요! 현재 사업을 진행하면서 앱 서비스를 메인 비즈니스로 잡고 진행하려고 해...   \n",
            "227  안녕하세요! 현재 사업을 진행하면서 앱 서비스를 메인 비즈니스로 잡고 진행하려고 해...   \n",
            "\n",
            "                                                 sent2  label  sent2_index  \n",
            "0    저도 궁금해져서 열심히 찾아봤는데 콜아웃 같은 블록을 넣는 명령어나 함수는 찾지 못...      1            0  \n",
            "1    헤더그룹 안에 로고와 CTA를 넣으시고 max width를 지정하시면 될 것 같아요...      1            1  \n",
            "2    모두의노코드를 여쭤보신 것인지 모르겠어서 이게 맞는지는 모르겠습니다.모두의노코드의 ...      1            1  \n",
            "3    충분히 버블로 개발가능할 것 같아요! 이미 비슷한 수준의 어플을 개발한 사례가 많아...      1            2  \n",
            "4    폴리미 가입해야지 가입해야지 하다가 바로 가입했습니다. 정신이 없었네요. 좋은 프로...      1            3  \n",
            "..                                                 ...    ...          ...  \n",
            "223   박재은님께서 알려주신 내용을 답변등록 및 채택합니다타입이 안 맞아서 생기는 오류입니다~      1          193  \n",
            "224  두어서치포 내에서만 했을 때 정렬이 안 되었는데두어서치포 밖에 sorted by 사...      1          194  \n",
            "225  간단하게 개념 위주로만 설명드리겠습니다. 우선 DB에 폴더(가칭) 테이블이 있겠죠....      1          195  \n",
            "226  안녕하세요! 버블로 외주개발하고 있는 리트머스팀입니다.yongjun@cigro.io...      1          196  \n",
            "227                 안녕하세요~아래 링크로 톡 남겨놓으시면 견적 도와드리겠습니다!      1          196  \n",
            "\n",
            "[228 rows x 4 columns]\n"
          ]
        }
      ]
    },
    {
      "cell_type": "code",
      "source": [
        "#파인튜닝 데이터셋에서 n배의 negative sample을 생성하는 코드\n",
        "def create_negative_sample(DataFrame, n):\n",
        "  DataFrame_copy = DataFrame.copy() #원본 데이터셋을 변화시키지 않기 위해 deep copy\n",
        "  length = len(DataFrame_copy)\n",
        "  for i in range(length):\n",
        "    row = DataFrame_copy.iloc[i]\n",
        "    negative_candidate_ids = list(set(DataFrame_copy['sent2_index'].tolist())) #.remove(row['sent2_index']) #해당 행의 sent2를 negative sample 후보군에서 제외\n",
        "    negative_candidate_ids.remove(row['sent2_index'])\n",
        "    negative_sample_ids = list(np.random.choice(negative_candidate_ids, n, replace = False))\n",
        "    for idx in negative_sample_ids:\n",
        "      new_row = pd.Series({'sent1' : row['sent1'], 'sent2' : np.random.choice(DataFrame_copy[DataFrame_copy['sent2_index'] == idx]['sent2'].tolist(), 1)[0], 'label' : 0, 'sent2_index' : idx}) #카톡 데이터는 idx 중복이 없기 때문에 랜덤추출로 1개를 뽑아도 달라지는 건 없고, 커뮤니티 데이터의 경우 idx 중복이 있기 때문에 해당 idx를 가진 sent2 중 하나를 뽑아야 함.\n",
        "      DataFrame_copy = pd.concat([DataFrame_copy, new_row.to_frame().T], ignore_index = True)\n",
        "  return DataFrame_copy"
      ],
      "metadata": {
        "id": "1zADZ7nnwtq2"
      },
      "execution_count": 28,
      "outputs": []
    },
    {
      "cell_type": "code",
      "source": [
        "#커뮤니티 파인튜닝 데이터셋에서 negative sample 생성\n",
        "df_community_finetune_negative_sampled = create_negative_sample(df_community_finetune, 7)\n",
        "# df_community_finetune_negative_sampled = df_community_finetune_negative_sampled.drop('sent2_index', axis = 1)\n",
        "print(len(df_community_finetune_negative_sampled))\n",
        "print(df_community_finetune_negative_sampled)"
      ],
      "metadata": {
        "colab": {
          "base_uri": "https://localhost:8080/"
        },
        "id": "4lHYLPSnl7H1",
        "outputId": "23fdef98-4d7b-4132-9667-e6676f37f05b"
      },
      "execution_count": 29,
      "outputs": [
        {
          "output_type": "stream",
          "name": "stdout",
          "text": [
            "1824\n",
            "                                                  sent1  \\\n",
            "0     안녕하세요! 우선 모두의노코드 사이트 런칭을 축하드립니다.이렇게 첫번째 질문 글을 ...   \n",
            "1     안녕하세요.모두의 노코드 런칭을 축하드립니다. 앞으로 좋은 활동 기대합니다. 현재 ...   \n",
            "2     안녕하세요.모두의 노코드 런칭을 축하드립니다. 앞으로 좋은 활동 기대합니다. 현재 ...   \n",
            "3     안녕하세요.제주도에서 노션으로 동네 친구 매칭 서비스를 만들고 있습니다.어제 웨비나...   \n",
            "4     모두의노코드 만드신 분들께 질문 드리고 싶어요.제가 버블로 만든 서비스 관련해 모바...   \n",
            "...                                                 ...   \n",
            "1819  안녕하세요! 현재 사업을 진행하면서 앱 서비스를 메인 비즈니스로 잡고 진행하려고 해...   \n",
            "1820  안녕하세요! 현재 사업을 진행하면서 앱 서비스를 메인 비즈니스로 잡고 진행하려고 해...   \n",
            "1821  안녕하세요! 현재 사업을 진행하면서 앱 서비스를 메인 비즈니스로 잡고 진행하려고 해...   \n",
            "1822  안녕하세요! 현재 사업을 진행하면서 앱 서비스를 메인 비즈니스로 잡고 진행하려고 해...   \n",
            "1823  안녕하세요! 현재 사업을 진행하면서 앱 서비스를 메인 비즈니스로 잡고 진행하려고 해...   \n",
            "\n",
            "                                                  sent2 label sent2_index  \n",
            "0     저도 궁금해져서 열심히 찾아봤는데 콜아웃 같은 블록을 넣는 명령어나 함수는 찾지 못...     1           0  \n",
            "1     헤더그룹 안에 로고와 CTA를 넣으시고 max width를 지정하시면 될 것 같아요...     1           1  \n",
            "2     모두의노코드를 여쭤보신 것인지 모르겠어서 이게 맞는지는 모르겠습니다.모두의노코드의 ...     1           1  \n",
            "3     충분히 버블로 개발가능할 것 같아요! 이미 비슷한 수준의 어플을 개발한 사례가 많아...     1           2  \n",
            "4     폴리미 가입해야지 가입해야지 하다가 바로 가입했습니다. 정신이 없었네요. 좋은 프로...     1           3  \n",
            "...                                                 ...   ...         ...  \n",
            "1819  안녕하세요!개발 노베이스+관련전공x 로 시작해서 2년간 버블을 메인으로 사용하며 개...     0         181  \n",
            "1820  _x0008_제가 사용했던 페이지네이션의 페이지 숫자 담는 리피팅그룹 세팅(아래 사...     0          65  \n",
            "1821  제 서비스도 정기구독제입니다. ㅎㅎ 저도 토스페이먼츠로 구축했고요. 정기구독은 시스...     0          91  \n",
            "1822  action의 scroll to entry 사용하시면 원하시는 기능 구현하실 수 있...     0          90  \n",
            "1823  네!! 가능합니다 :)버블은 기본적으로 CRUD를 활용한 기능은 모두 만드실 수 있...     0          81  \n",
            "\n",
            "[1824 rows x 4 columns]\n"
          ]
        }
      ]
    },
    {
      "cell_type": "code",
      "source": [
        "print(df_community_finetune_negative_sampled[df_community_finetune_negative_sampled['sent2'] == ''])\n",
        "print(df_community_finetune[df_community_finetune['sent2_index'] == 13])"
      ],
      "metadata": {
        "colab": {
          "base_uri": "https://localhost:8080/"
        },
        "id": "rdree1ycnI0j",
        "outputId": "ec107d64-1438-4d55-c543-b78f0ab7986c"
      },
      "execution_count": 30,
      "outputs": [
        {
          "output_type": "stream",
          "name": "stdout",
          "text": [
            "Empty DataFrame\n",
            "Columns: [sent1, sent2, label, sent2_index]\n",
            "Index: []\n",
            "                                                sent1  \\\n",
            "15  플러스 버튼 (+) 을 클릭하면 리피팅 그룹 내의 로우가 +1 되도록 리피팅 그룹의...   \n",
            "16  플러스 버튼 (+) 을 클릭하면 리피팅 그룹 내의 로우가 +1 되도록 리피팅 그룹의...   \n",
            "\n",
            "                                                sent2  label  sent2_index  \n",
            "15  일단 제가 소영님의 질문을 정확히 이해했는지 잘 모르겠습니다. 질문대로라면 리피팅그...      1           13  \n",
            "16  저는 플러그인 요청하셔서 간단하게 제가 변형해서 쓰는 템플릿 살포시 투척 해놓고 가...      1           13  \n"
          ]
        }
      ]
    },
    {
      "cell_type": "code",
      "source": [
        "print(df_talk_finetune)"
      ],
      "metadata": {
        "colab": {
          "base_uri": "https://localhost:8080/"
        },
        "id": "kqWsvPrvLzQa",
        "outputId": "ba3de831-6bdc-4b11-8d37-da4d8fbb4b53"
      },
      "execution_count": 31,
      "outputs": [
        {
          "output_type": "stream",
          "name": "stdout",
          "text": [
            "                                                 sent1  \\\n",
            "0     deltaPercent의 절대값이 큰 값부터 데이터를 정렬하고 싶은데.deltaP...   \n",
            "1     유저의 input url에 따른 rss 피드 긁어오기를 하고 싶은데 헷갈리는 부분...   \n",
            "2     혹시 버블 워크로드 최적화하는 팁이 있을까요? 아직 레거시 요금제 쓰고 있긴 한데...   \n",
            "3     혹시 버블 워크로드 최적화하는 팁이 있을까요? 아직 레거시 요금제 쓰고 있긴 한데...   \n",
            "4     혹시 어떤 product 이신가요? 와...이러면 버블 못 쓸 거 같은데요 ㅡㅡ;;;;   \n",
            "..                                                 ...   \n",
            "496  각 element에다가 condition을 따로 쓰면 workflow에 안들어가있기...   \n",
            "497  각 element에다가 condition을 따로 쓰면 workflow에 안들어가있기...   \n",
            "498   안녕하세요, 혹시 버블에서 three.js라는 라이브러리 연결을 도와주실 분 계실...   \n",
            "499   안녕하세요 버블 고수님들!버블 데이터 처리 관련 질문 있습니다!기존에 있는 데이터...   \n",
            "500   안녕하세요 버블 고수님들!버블 데이터 처리 관련 질문 있습니다!기존에 있는 데이터...   \n",
            "\n",
            "                                                 sent2  label  sent2_index  \n",
            "0     익스프레션 내에서 조건식을 사용할 수가 없어서 condition을 사용하는 수밖에...      1            1  \n",
            "1     이게 근데 한번 락인되니까 DB 이관한다는 선택지를 고르기가 참 어렵네요.. 또 ...      0           13  \n",
            "2     1. Do a search for 할 때 constraints 걸어서 검색량 줄이...      1           29  \n",
            "3                   Do a search for는 어지간하면 안 쓰는 방향으로..      1           31  \n",
            "4         저희는 히로인스라는 서비스를 운영하고 있는데요. 백엔드만 버블을 쓰고 있습니다.      1           11  \n",
            "..                                                 ...    ...          ...  \n",
            "496   정확히는 모르지만.. 저희가 어드민 페이지를 클라이언트에서 다 계산(이중으로 do...      1         1659  \n",
            "497   보통의 웹 개발이라면 클라이언트에서 처리하는 게 마땅한 부분도 어쩌면 서버에서 처...      1         1661  \n",
            "498   three.js 매뉴얼을 보니, CDN 방식으로 사용하려면 Import Map을 ...      1         1668  \n",
            "499   가급적 datetime 형식으로 보관하시는 게 좋을 것 같긴 한데 .. api w...      1         1689  \n",
            "500   이후에 해당 텍스트 데이터를 날짜처럼 연산해야 될 일이, 영영 없으리라곤 장담할 ...      1         1693  \n",
            "\n",
            "[500 rows x 4 columns]\n"
          ]
        }
      ]
    },
    {
      "cell_type": "code",
      "source": [
        "#카카오톡 파인튜닝 데이터셋에서 negative sample 생성\n",
        "df_talk_finetune_negative_sampled = create_negative_sample(df_talk_finetune, 7)\n",
        "df_talk_finetune_negative_sampled = df_talk_finetune_negative_sampled.drop('sent2_index', axis = 1)\n",
        "print(len(df_talk_finetune_negative_sampled))\n",
        "print(df_talk_finetune_negative_sampled)"
      ],
      "metadata": {
        "colab": {
          "base_uri": "https://localhost:8080/"
        },
        "id": "HgSubqZCmHbF",
        "outputId": "8692637d-b6ec-4efe-9a42-6f96eccde91d"
      },
      "execution_count": 32,
      "outputs": [
        {
          "output_type": "stream",
          "name": "stdout",
          "text": [
            "4000\n",
            "                                                  sent1  \\\n",
            "0      deltaPercent의 절대값이 큰 값부터 데이터를 정렬하고 싶은데.deltaP...   \n",
            "1      유저의 input url에 따른 rss 피드 긁어오기를 하고 싶은데 헷갈리는 부분...   \n",
            "2      혹시 버블 워크로드 최적화하는 팁이 있을까요? 아직 레거시 요금제 쓰고 있긴 한데...   \n",
            "3      혹시 버블 워크로드 최적화하는 팁이 있을까요? 아직 레거시 요금제 쓰고 있긴 한데...   \n",
            "4      혹시 어떤 product 이신가요? 와...이러면 버블 못 쓸 거 같은데요 ㅡㅡ;;;;   \n",
            "...                                                 ...   \n",
            "3995   안녕하세요 버블 고수님들!버블 데이터 처리 관련 질문 있습니다!기존에 있는 데이터...   \n",
            "3996   안녕하세요 버블 고수님들!버블 데이터 처리 관련 질문 있습니다!기존에 있는 데이터...   \n",
            "3997   안녕하세요 버블 고수님들!버블 데이터 처리 관련 질문 있습니다!기존에 있는 데이터...   \n",
            "3998   안녕하세요 버블 고수님들!버블 데이터 처리 관련 질문 있습니다!기존에 있는 데이터...   \n",
            "3999   안녕하세요 버블 고수님들!버블 데이터 처리 관련 질문 있습니다!기존에 있는 데이터...   \n",
            "\n",
            "                                                  sent2 label  \n",
            "0      익스프레션 내에서 조건식을 사용할 수가 없어서 condition을 사용하는 수밖에...     1  \n",
            "1      이게 근데 한번 락인되니까 DB 이관한다는 선택지를 고르기가 참 어렵네요.. 또 ...     0  \n",
            "2      1. Do a search for 할 때 constraints 걸어서 검색량 줄이...     1  \n",
            "3                    Do a search for는 어지간하면 안 쓰는 방향으로..     1  \n",
            "4          저희는 히로인스라는 서비스를 운영하고 있는데요. 백엔드만 버블을 쓰고 있습니다.     1  \n",
            "...                                                 ...   ...  \n",
            "3995                                          웨이브온 좋아요~     0  \n",
            "3996            K는 1천 단위를 의미해요. 250K WU는 25만 워크로드입니다 ㅎㅎ     0  \n",
            "3997   Visibility를 껐다 켰을 때 해당 엘리먼트 내의 스크롤 위치가 보존된다면 ...     0  \n",
            "3998   개념 상의 차이로 생각해주시면 좋을 것 같습니다.인스타의 경우 닉네임 자체만으로 ...     0  \n",
            "3999                         버블 기본 DB가 제일 빠를 거예요 아마..ㅎㅎ     0  \n",
            "\n",
            "[4000 rows x 3 columns]\n"
          ]
        }
      ]
    },
    {
      "cell_type": "code",
      "source": [
        "print(df_talk_finetune_negative_sampled[df_talk_finetune_negative_sampled['sent2'] == ''])"
      ],
      "metadata": {
        "colab": {
          "base_uri": "https://localhost:8080/"
        },
        "id": "M_60G8dnpFbk",
        "outputId": "509591ea-bfd2-48e6-9a0c-e8ce232ee20d"
      },
      "execution_count": 33,
      "outputs": [
        {
          "output_type": "stream",
          "name": "stdout",
          "text": [
            "Empty DataFrame\n",
            "Columns: [sent1, sent2, label]\n",
            "Index: []\n"
          ]
        }
      ]
    },
    {
      "cell_type": "code",
      "source": [
        "#두 파인튜닝 데이터셋을 하나로 합치기\n",
        "df_KcBERT_finetune = pd.concat([df_community_finetune_negative_sampled, df_talk_finetune_negative_sampled], ignore_index = True)\n",
        "print(len(df_KcBERT_finetune))"
      ],
      "metadata": {
        "colab": {
          "base_uri": "https://localhost:8080/"
        },
        "id": "3srQkz3l8LxD",
        "outputId": "4b1ca4f2-2a41-486f-b5b1-975e7a016ae0"
      },
      "execution_count": 34,
      "outputs": [
        {
          "output_type": "stream",
          "name": "stdout",
          "text": [
            "5824\n"
          ]
        }
      ]
    },
    {
      "cell_type": "code",
      "source": [
        "#.xlsx 파일로 저장\n",
        "finetune_data_save_path = '/content/drive/My Drive/KcBERT_finetune_dataset.xlsx'\n",
        "\n",
        "df_KcBERT_finetune.to_excel(finetune_data_save_path)"
      ],
      "metadata": {
        "id": "pjnhY-llcGyl"
      },
      "execution_count": 35,
      "outputs": []
    },
    {
      "cell_type": "code",
      "source": [],
      "metadata": {
        "id": "eOEw77VuS13C"
      },
      "execution_count": 24,
      "outputs": []
    }
  ]
}