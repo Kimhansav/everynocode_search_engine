{
  "nbformat": 4,
  "nbformat_minor": 0,
  "metadata": {
    "colab": {
      "provenance": [],
      "gpuType": "T4",
      "include_colab_link": true
    },
    "kernelspec": {
      "name": "python3",
      "display_name": "Python 3"
    },
    "language_info": {
      "name": "python"
    },
    "widgets": {
      "application/vnd.jupyter.widget-state+json": {
        "b1865ae390c54ff5b591e267cb2152e2": {
          "model_module": "@jupyter-widgets/controls",
          "model_name": "HBoxModel",
          "model_module_version": "1.5.0",
          "state": {
            "_dom_classes": [],
            "_model_module": "@jupyter-widgets/controls",
            "_model_module_version": "1.5.0",
            "_model_name": "HBoxModel",
            "_view_count": null,
            "_view_module": "@jupyter-widgets/controls",
            "_view_module_version": "1.5.0",
            "_view_name": "HBoxView",
            "box_style": "",
            "children": [
              "IPY_MODEL_8ef26a63b1284d8a8d390717b2bea1ec",
              "IPY_MODEL_38558fa30f5f4781984d93d396d7dc28",
              "IPY_MODEL_267db0c6484142628bd0f399c316e5f4"
            ],
            "layout": "IPY_MODEL_8bfd50b981c84ae08c62b7cbc5d7a862"
          }
        },
        "8ef26a63b1284d8a8d390717b2bea1ec": {
          "model_module": "@jupyter-widgets/controls",
          "model_name": "HTMLModel",
          "model_module_version": "1.5.0",
          "state": {
            "_dom_classes": [],
            "_model_module": "@jupyter-widgets/controls",
            "_model_module_version": "1.5.0",
            "_model_name": "HTMLModel",
            "_view_count": null,
            "_view_module": "@jupyter-widgets/controls",
            "_view_module_version": "1.5.0",
            "_view_name": "HTMLView",
            "description": "",
            "description_tooltip": null,
            "layout": "IPY_MODEL_1309556657084bb48efb40632593ab11",
            "placeholder": "​",
            "style": "IPY_MODEL_bc164e08e18e45d2b74f38c9833bbed0",
            "value": "tokenizer_config.json: 100%"
          }
        },
        "38558fa30f5f4781984d93d396d7dc28": {
          "model_module": "@jupyter-widgets/controls",
          "model_name": "FloatProgressModel",
          "model_module_version": "1.5.0",
          "state": {
            "_dom_classes": [],
            "_model_module": "@jupyter-widgets/controls",
            "_model_module_version": "1.5.0",
            "_model_name": "FloatProgressModel",
            "_view_count": null,
            "_view_module": "@jupyter-widgets/controls",
            "_view_module_version": "1.5.0",
            "_view_name": "ProgressView",
            "bar_style": "success",
            "description": "",
            "description_tooltip": null,
            "layout": "IPY_MODEL_e7b790827bf946aa835956763baa36b4",
            "max": 49,
            "min": 0,
            "orientation": "horizontal",
            "style": "IPY_MODEL_848933a2e98b47c2b411a9222c657485",
            "value": 49
          }
        },
        "267db0c6484142628bd0f399c316e5f4": {
          "model_module": "@jupyter-widgets/controls",
          "model_name": "HTMLModel",
          "model_module_version": "1.5.0",
          "state": {
            "_dom_classes": [],
            "_model_module": "@jupyter-widgets/controls",
            "_model_module_version": "1.5.0",
            "_model_name": "HTMLModel",
            "_view_count": null,
            "_view_module": "@jupyter-widgets/controls",
            "_view_module_version": "1.5.0",
            "_view_name": "HTMLView",
            "description": "",
            "description_tooltip": null,
            "layout": "IPY_MODEL_d6a7a8c47b50424eb5976f21dd781e89",
            "placeholder": "​",
            "style": "IPY_MODEL_b519155af27f46bb8d5226394185c523",
            "value": " 49.0/49.0 [00:00&lt;00:00, 2.95kB/s]"
          }
        },
        "8bfd50b981c84ae08c62b7cbc5d7a862": {
          "model_module": "@jupyter-widgets/base",
          "model_name": "LayoutModel",
          "model_module_version": "1.2.0",
          "state": {
            "_model_module": "@jupyter-widgets/base",
            "_model_module_version": "1.2.0",
            "_model_name": "LayoutModel",
            "_view_count": null,
            "_view_module": "@jupyter-widgets/base",
            "_view_module_version": "1.2.0",
            "_view_name": "LayoutView",
            "align_content": null,
            "align_items": null,
            "align_self": null,
            "border": null,
            "bottom": null,
            "display": null,
            "flex": null,
            "flex_flow": null,
            "grid_area": null,
            "grid_auto_columns": null,
            "grid_auto_flow": null,
            "grid_auto_rows": null,
            "grid_column": null,
            "grid_gap": null,
            "grid_row": null,
            "grid_template_areas": null,
            "grid_template_columns": null,
            "grid_template_rows": null,
            "height": null,
            "justify_content": null,
            "justify_items": null,
            "left": null,
            "margin": null,
            "max_height": null,
            "max_width": null,
            "min_height": null,
            "min_width": null,
            "object_fit": null,
            "object_position": null,
            "order": null,
            "overflow": null,
            "overflow_x": null,
            "overflow_y": null,
            "padding": null,
            "right": null,
            "top": null,
            "visibility": null,
            "width": null
          }
        },
        "1309556657084bb48efb40632593ab11": {
          "model_module": "@jupyter-widgets/base",
          "model_name": "LayoutModel",
          "model_module_version": "1.2.0",
          "state": {
            "_model_module": "@jupyter-widgets/base",
            "_model_module_version": "1.2.0",
            "_model_name": "LayoutModel",
            "_view_count": null,
            "_view_module": "@jupyter-widgets/base",
            "_view_module_version": "1.2.0",
            "_view_name": "LayoutView",
            "align_content": null,
            "align_items": null,
            "align_self": null,
            "border": null,
            "bottom": null,
            "display": null,
            "flex": null,
            "flex_flow": null,
            "grid_area": null,
            "grid_auto_columns": null,
            "grid_auto_flow": null,
            "grid_auto_rows": null,
            "grid_column": null,
            "grid_gap": null,
            "grid_row": null,
            "grid_template_areas": null,
            "grid_template_columns": null,
            "grid_template_rows": null,
            "height": null,
            "justify_content": null,
            "justify_items": null,
            "left": null,
            "margin": null,
            "max_height": null,
            "max_width": null,
            "min_height": null,
            "min_width": null,
            "object_fit": null,
            "object_position": null,
            "order": null,
            "overflow": null,
            "overflow_x": null,
            "overflow_y": null,
            "padding": null,
            "right": null,
            "top": null,
            "visibility": null,
            "width": null
          }
        },
        "bc164e08e18e45d2b74f38c9833bbed0": {
          "model_module": "@jupyter-widgets/controls",
          "model_name": "DescriptionStyleModel",
          "model_module_version": "1.5.0",
          "state": {
            "_model_module": "@jupyter-widgets/controls",
            "_model_module_version": "1.5.0",
            "_model_name": "DescriptionStyleModel",
            "_view_count": null,
            "_view_module": "@jupyter-widgets/base",
            "_view_module_version": "1.2.0",
            "_view_name": "StyleView",
            "description_width": ""
          }
        },
        "e7b790827bf946aa835956763baa36b4": {
          "model_module": "@jupyter-widgets/base",
          "model_name": "LayoutModel",
          "model_module_version": "1.2.0",
          "state": {
            "_model_module": "@jupyter-widgets/base",
            "_model_module_version": "1.2.0",
            "_model_name": "LayoutModel",
            "_view_count": null,
            "_view_module": "@jupyter-widgets/base",
            "_view_module_version": "1.2.0",
            "_view_name": "LayoutView",
            "align_content": null,
            "align_items": null,
            "align_self": null,
            "border": null,
            "bottom": null,
            "display": null,
            "flex": null,
            "flex_flow": null,
            "grid_area": null,
            "grid_auto_columns": null,
            "grid_auto_flow": null,
            "grid_auto_rows": null,
            "grid_column": null,
            "grid_gap": null,
            "grid_row": null,
            "grid_template_areas": null,
            "grid_template_columns": null,
            "grid_template_rows": null,
            "height": null,
            "justify_content": null,
            "justify_items": null,
            "left": null,
            "margin": null,
            "max_height": null,
            "max_width": null,
            "min_height": null,
            "min_width": null,
            "object_fit": null,
            "object_position": null,
            "order": null,
            "overflow": null,
            "overflow_x": null,
            "overflow_y": null,
            "padding": null,
            "right": null,
            "top": null,
            "visibility": null,
            "width": null
          }
        },
        "848933a2e98b47c2b411a9222c657485": {
          "model_module": "@jupyter-widgets/controls",
          "model_name": "ProgressStyleModel",
          "model_module_version": "1.5.0",
          "state": {
            "_model_module": "@jupyter-widgets/controls",
            "_model_module_version": "1.5.0",
            "_model_name": "ProgressStyleModel",
            "_view_count": null,
            "_view_module": "@jupyter-widgets/base",
            "_view_module_version": "1.2.0",
            "_view_name": "StyleView",
            "bar_color": null,
            "description_width": ""
          }
        },
        "d6a7a8c47b50424eb5976f21dd781e89": {
          "model_module": "@jupyter-widgets/base",
          "model_name": "LayoutModel",
          "model_module_version": "1.2.0",
          "state": {
            "_model_module": "@jupyter-widgets/base",
            "_model_module_version": "1.2.0",
            "_model_name": "LayoutModel",
            "_view_count": null,
            "_view_module": "@jupyter-widgets/base",
            "_view_module_version": "1.2.0",
            "_view_name": "LayoutView",
            "align_content": null,
            "align_items": null,
            "align_self": null,
            "border": null,
            "bottom": null,
            "display": null,
            "flex": null,
            "flex_flow": null,
            "grid_area": null,
            "grid_auto_columns": null,
            "grid_auto_flow": null,
            "grid_auto_rows": null,
            "grid_column": null,
            "grid_gap": null,
            "grid_row": null,
            "grid_template_areas": null,
            "grid_template_columns": null,
            "grid_template_rows": null,
            "height": null,
            "justify_content": null,
            "justify_items": null,
            "left": null,
            "margin": null,
            "max_height": null,
            "max_width": null,
            "min_height": null,
            "min_width": null,
            "object_fit": null,
            "object_position": null,
            "order": null,
            "overflow": null,
            "overflow_x": null,
            "overflow_y": null,
            "padding": null,
            "right": null,
            "top": null,
            "visibility": null,
            "width": null
          }
        },
        "b519155af27f46bb8d5226394185c523": {
          "model_module": "@jupyter-widgets/controls",
          "model_name": "DescriptionStyleModel",
          "model_module_version": "1.5.0",
          "state": {
            "_model_module": "@jupyter-widgets/controls",
            "_model_module_version": "1.5.0",
            "_model_name": "DescriptionStyleModel",
            "_view_count": null,
            "_view_module": "@jupyter-widgets/base",
            "_view_module_version": "1.2.0",
            "_view_name": "StyleView",
            "description_width": ""
          }
        },
        "f1312967eb3f4d9ca8217621f307f3af": {
          "model_module": "@jupyter-widgets/controls",
          "model_name": "HBoxModel",
          "model_module_version": "1.5.0",
          "state": {
            "_dom_classes": [],
            "_model_module": "@jupyter-widgets/controls",
            "_model_module_version": "1.5.0",
            "_model_name": "HBoxModel",
            "_view_count": null,
            "_view_module": "@jupyter-widgets/controls",
            "_view_module_version": "1.5.0",
            "_view_name": "HBoxView",
            "box_style": "",
            "children": [
              "IPY_MODEL_70dcaf733e5647e9851f205ae3d55204",
              "IPY_MODEL_c0cf0d2006f6479cbc3837ac3119153d",
              "IPY_MODEL_4dcce383c04c4373a2a3d0b91b2a8cee"
            ],
            "layout": "IPY_MODEL_bc40901093b34d3a9a9b9e3de8e935b2"
          }
        },
        "70dcaf733e5647e9851f205ae3d55204": {
          "model_module": "@jupyter-widgets/controls",
          "model_name": "HTMLModel",
          "model_module_version": "1.5.0",
          "state": {
            "_dom_classes": [],
            "_model_module": "@jupyter-widgets/controls",
            "_model_module_version": "1.5.0",
            "_model_name": "HTMLModel",
            "_view_count": null,
            "_view_module": "@jupyter-widgets/controls",
            "_view_module_version": "1.5.0",
            "_view_name": "HTMLView",
            "description": "",
            "description_tooltip": null,
            "layout": "IPY_MODEL_87b5dafffcfd4eb4939fb062ee1a884b",
            "placeholder": "​",
            "style": "IPY_MODEL_80ee5f748e4c4162870a217114fc0240",
            "value": "config.json: 100%"
          }
        },
        "c0cf0d2006f6479cbc3837ac3119153d": {
          "model_module": "@jupyter-widgets/controls",
          "model_name": "FloatProgressModel",
          "model_module_version": "1.5.0",
          "state": {
            "_dom_classes": [],
            "_model_module": "@jupyter-widgets/controls",
            "_model_module_version": "1.5.0",
            "_model_name": "FloatProgressModel",
            "_view_count": null,
            "_view_module": "@jupyter-widgets/controls",
            "_view_module_version": "1.5.0",
            "_view_name": "ProgressView",
            "bar_style": "success",
            "description": "",
            "description_tooltip": null,
            "layout": "IPY_MODEL_41af2d2571c64c66ac4e262d833c3ccf",
            "max": 619,
            "min": 0,
            "orientation": "horizontal",
            "style": "IPY_MODEL_03d585349c1a418589ad38706acca77e",
            "value": 619
          }
        },
        "4dcce383c04c4373a2a3d0b91b2a8cee": {
          "model_module": "@jupyter-widgets/controls",
          "model_name": "HTMLModel",
          "model_module_version": "1.5.0",
          "state": {
            "_dom_classes": [],
            "_model_module": "@jupyter-widgets/controls",
            "_model_module_version": "1.5.0",
            "_model_name": "HTMLModel",
            "_view_count": null,
            "_view_module": "@jupyter-widgets/controls",
            "_view_module_version": "1.5.0",
            "_view_name": "HTMLView",
            "description": "",
            "description_tooltip": null,
            "layout": "IPY_MODEL_1f8f1e8ce6c14178bf9039245be86211",
            "placeholder": "​",
            "style": "IPY_MODEL_453d929ac38246ba9602dc6ccc84e31d",
            "value": " 619/619 [00:00&lt;00:00, 13.7kB/s]"
          }
        },
        "bc40901093b34d3a9a9b9e3de8e935b2": {
          "model_module": "@jupyter-widgets/base",
          "model_name": "LayoutModel",
          "model_module_version": "1.2.0",
          "state": {
            "_model_module": "@jupyter-widgets/base",
            "_model_module_version": "1.2.0",
            "_model_name": "LayoutModel",
            "_view_count": null,
            "_view_module": "@jupyter-widgets/base",
            "_view_module_version": "1.2.0",
            "_view_name": "LayoutView",
            "align_content": null,
            "align_items": null,
            "align_self": null,
            "border": null,
            "bottom": null,
            "display": null,
            "flex": null,
            "flex_flow": null,
            "grid_area": null,
            "grid_auto_columns": null,
            "grid_auto_flow": null,
            "grid_auto_rows": null,
            "grid_column": null,
            "grid_gap": null,
            "grid_row": null,
            "grid_template_areas": null,
            "grid_template_columns": null,
            "grid_template_rows": null,
            "height": null,
            "justify_content": null,
            "justify_items": null,
            "left": null,
            "margin": null,
            "max_height": null,
            "max_width": null,
            "min_height": null,
            "min_width": null,
            "object_fit": null,
            "object_position": null,
            "order": null,
            "overflow": null,
            "overflow_x": null,
            "overflow_y": null,
            "padding": null,
            "right": null,
            "top": null,
            "visibility": null,
            "width": null
          }
        },
        "87b5dafffcfd4eb4939fb062ee1a884b": {
          "model_module": "@jupyter-widgets/base",
          "model_name": "LayoutModel",
          "model_module_version": "1.2.0",
          "state": {
            "_model_module": "@jupyter-widgets/base",
            "_model_module_version": "1.2.0",
            "_model_name": "LayoutModel",
            "_view_count": null,
            "_view_module": "@jupyter-widgets/base",
            "_view_module_version": "1.2.0",
            "_view_name": "LayoutView",
            "align_content": null,
            "align_items": null,
            "align_self": null,
            "border": null,
            "bottom": null,
            "display": null,
            "flex": null,
            "flex_flow": null,
            "grid_area": null,
            "grid_auto_columns": null,
            "grid_auto_flow": null,
            "grid_auto_rows": null,
            "grid_column": null,
            "grid_gap": null,
            "grid_row": null,
            "grid_template_areas": null,
            "grid_template_columns": null,
            "grid_template_rows": null,
            "height": null,
            "justify_content": null,
            "justify_items": null,
            "left": null,
            "margin": null,
            "max_height": null,
            "max_width": null,
            "min_height": null,
            "min_width": null,
            "object_fit": null,
            "object_position": null,
            "order": null,
            "overflow": null,
            "overflow_x": null,
            "overflow_y": null,
            "padding": null,
            "right": null,
            "top": null,
            "visibility": null,
            "width": null
          }
        },
        "80ee5f748e4c4162870a217114fc0240": {
          "model_module": "@jupyter-widgets/controls",
          "model_name": "DescriptionStyleModel",
          "model_module_version": "1.5.0",
          "state": {
            "_model_module": "@jupyter-widgets/controls",
            "_model_module_version": "1.5.0",
            "_model_name": "DescriptionStyleModel",
            "_view_count": null,
            "_view_module": "@jupyter-widgets/base",
            "_view_module_version": "1.2.0",
            "_view_name": "StyleView",
            "description_width": ""
          }
        },
        "41af2d2571c64c66ac4e262d833c3ccf": {
          "model_module": "@jupyter-widgets/base",
          "model_name": "LayoutModel",
          "model_module_version": "1.2.0",
          "state": {
            "_model_module": "@jupyter-widgets/base",
            "_model_module_version": "1.2.0",
            "_model_name": "LayoutModel",
            "_view_count": null,
            "_view_module": "@jupyter-widgets/base",
            "_view_module_version": "1.2.0",
            "_view_name": "LayoutView",
            "align_content": null,
            "align_items": null,
            "align_self": null,
            "border": null,
            "bottom": null,
            "display": null,
            "flex": null,
            "flex_flow": null,
            "grid_area": null,
            "grid_auto_columns": null,
            "grid_auto_flow": null,
            "grid_auto_rows": null,
            "grid_column": null,
            "grid_gap": null,
            "grid_row": null,
            "grid_template_areas": null,
            "grid_template_columns": null,
            "grid_template_rows": null,
            "height": null,
            "justify_content": null,
            "justify_items": null,
            "left": null,
            "margin": null,
            "max_height": null,
            "max_width": null,
            "min_height": null,
            "min_width": null,
            "object_fit": null,
            "object_position": null,
            "order": null,
            "overflow": null,
            "overflow_x": null,
            "overflow_y": null,
            "padding": null,
            "right": null,
            "top": null,
            "visibility": null,
            "width": null
          }
        },
        "03d585349c1a418589ad38706acca77e": {
          "model_module": "@jupyter-widgets/controls",
          "model_name": "ProgressStyleModel",
          "model_module_version": "1.5.0",
          "state": {
            "_model_module": "@jupyter-widgets/controls",
            "_model_module_version": "1.5.0",
            "_model_name": "ProgressStyleModel",
            "_view_count": null,
            "_view_module": "@jupyter-widgets/base",
            "_view_module_version": "1.2.0",
            "_view_name": "StyleView",
            "bar_color": null,
            "description_width": ""
          }
        },
        "1f8f1e8ce6c14178bf9039245be86211": {
          "model_module": "@jupyter-widgets/base",
          "model_name": "LayoutModel",
          "model_module_version": "1.2.0",
          "state": {
            "_model_module": "@jupyter-widgets/base",
            "_model_module_version": "1.2.0",
            "_model_name": "LayoutModel",
            "_view_count": null,
            "_view_module": "@jupyter-widgets/base",
            "_view_module_version": "1.2.0",
            "_view_name": "LayoutView",
            "align_content": null,
            "align_items": null,
            "align_self": null,
            "border": null,
            "bottom": null,
            "display": null,
            "flex": null,
            "flex_flow": null,
            "grid_area": null,
            "grid_auto_columns": null,
            "grid_auto_flow": null,
            "grid_auto_rows": null,
            "grid_column": null,
            "grid_gap": null,
            "grid_row": null,
            "grid_template_areas": null,
            "grid_template_columns": null,
            "grid_template_rows": null,
            "height": null,
            "justify_content": null,
            "justify_items": null,
            "left": null,
            "margin": null,
            "max_height": null,
            "max_width": null,
            "min_height": null,
            "min_width": null,
            "object_fit": null,
            "object_position": null,
            "order": null,
            "overflow": null,
            "overflow_x": null,
            "overflow_y": null,
            "padding": null,
            "right": null,
            "top": null,
            "visibility": null,
            "width": null
          }
        },
        "453d929ac38246ba9602dc6ccc84e31d": {
          "model_module": "@jupyter-widgets/controls",
          "model_name": "DescriptionStyleModel",
          "model_module_version": "1.5.0",
          "state": {
            "_model_module": "@jupyter-widgets/controls",
            "_model_module_version": "1.5.0",
            "_model_name": "DescriptionStyleModel",
            "_view_count": null,
            "_view_module": "@jupyter-widgets/base",
            "_view_module_version": "1.2.0",
            "_view_name": "StyleView",
            "description_width": ""
          }
        },
        "ac7b496485634baabd6a866758db8f1b": {
          "model_module": "@jupyter-widgets/controls",
          "model_name": "HBoxModel",
          "model_module_version": "1.5.0",
          "state": {
            "_dom_classes": [],
            "_model_module": "@jupyter-widgets/controls",
            "_model_module_version": "1.5.0",
            "_model_name": "HBoxModel",
            "_view_count": null,
            "_view_module": "@jupyter-widgets/controls",
            "_view_module_version": "1.5.0",
            "_view_name": "HBoxView",
            "box_style": "",
            "children": [
              "IPY_MODEL_1b648dfe536a4eb88ab873c9c078864f",
              "IPY_MODEL_32a7482913f340f08b2dc063d09e5d48",
              "IPY_MODEL_fd0e29eadc3e4131a62f2f0de570f89a"
            ],
            "layout": "IPY_MODEL_f83669bf32b844d9bb54d0129b5500bc"
          }
        },
        "1b648dfe536a4eb88ab873c9c078864f": {
          "model_module": "@jupyter-widgets/controls",
          "model_name": "HTMLModel",
          "model_module_version": "1.5.0",
          "state": {
            "_dom_classes": [],
            "_model_module": "@jupyter-widgets/controls",
            "_model_module_version": "1.5.0",
            "_model_name": "HTMLModel",
            "_view_count": null,
            "_view_module": "@jupyter-widgets/controls",
            "_view_module_version": "1.5.0",
            "_view_name": "HTMLView",
            "description": "",
            "description_tooltip": null,
            "layout": "IPY_MODEL_48a98db7029e4a46b179c77bc174061f",
            "placeholder": "​",
            "style": "IPY_MODEL_8590b8c48d774f0ca636967ffeb162ba",
            "value": "vocab.txt: 100%"
          }
        },
        "32a7482913f340f08b2dc063d09e5d48": {
          "model_module": "@jupyter-widgets/controls",
          "model_name": "FloatProgressModel",
          "model_module_version": "1.5.0",
          "state": {
            "_dom_classes": [],
            "_model_module": "@jupyter-widgets/controls",
            "_model_module_version": "1.5.0",
            "_model_name": "FloatProgressModel",
            "_view_count": null,
            "_view_module": "@jupyter-widgets/controls",
            "_view_module_version": "1.5.0",
            "_view_name": "ProgressView",
            "bar_style": "success",
            "description": "",
            "description_tooltip": null,
            "layout": "IPY_MODEL_492cea501a94472d8bf8cef374b242db",
            "max": 249928,
            "min": 0,
            "orientation": "horizontal",
            "style": "IPY_MODEL_145f6f2ce0534ae8a7d121eed925f318",
            "value": 249928
          }
        },
        "fd0e29eadc3e4131a62f2f0de570f89a": {
          "model_module": "@jupyter-widgets/controls",
          "model_name": "HTMLModel",
          "model_module_version": "1.5.0",
          "state": {
            "_dom_classes": [],
            "_model_module": "@jupyter-widgets/controls",
            "_model_module_version": "1.5.0",
            "_model_name": "HTMLModel",
            "_view_count": null,
            "_view_module": "@jupyter-widgets/controls",
            "_view_module_version": "1.5.0",
            "_view_name": "HTMLView",
            "description": "",
            "description_tooltip": null,
            "layout": "IPY_MODEL_93008d2268b44176b8daec1709631673",
            "placeholder": "​",
            "style": "IPY_MODEL_f0501ee18bf5481d93225315c565b5f3",
            "value": " 250k/250k [00:00&lt;00:00, 2.85MB/s]"
          }
        },
        "f83669bf32b844d9bb54d0129b5500bc": {
          "model_module": "@jupyter-widgets/base",
          "model_name": "LayoutModel",
          "model_module_version": "1.2.0",
          "state": {
            "_model_module": "@jupyter-widgets/base",
            "_model_module_version": "1.2.0",
            "_model_name": "LayoutModel",
            "_view_count": null,
            "_view_module": "@jupyter-widgets/base",
            "_view_module_version": "1.2.0",
            "_view_name": "LayoutView",
            "align_content": null,
            "align_items": null,
            "align_self": null,
            "border": null,
            "bottom": null,
            "display": null,
            "flex": null,
            "flex_flow": null,
            "grid_area": null,
            "grid_auto_columns": null,
            "grid_auto_flow": null,
            "grid_auto_rows": null,
            "grid_column": null,
            "grid_gap": null,
            "grid_row": null,
            "grid_template_areas": null,
            "grid_template_columns": null,
            "grid_template_rows": null,
            "height": null,
            "justify_content": null,
            "justify_items": null,
            "left": null,
            "margin": null,
            "max_height": null,
            "max_width": null,
            "min_height": null,
            "min_width": null,
            "object_fit": null,
            "object_position": null,
            "order": null,
            "overflow": null,
            "overflow_x": null,
            "overflow_y": null,
            "padding": null,
            "right": null,
            "top": null,
            "visibility": null,
            "width": null
          }
        },
        "48a98db7029e4a46b179c77bc174061f": {
          "model_module": "@jupyter-widgets/base",
          "model_name": "LayoutModel",
          "model_module_version": "1.2.0",
          "state": {
            "_model_module": "@jupyter-widgets/base",
            "_model_module_version": "1.2.0",
            "_model_name": "LayoutModel",
            "_view_count": null,
            "_view_module": "@jupyter-widgets/base",
            "_view_module_version": "1.2.0",
            "_view_name": "LayoutView",
            "align_content": null,
            "align_items": null,
            "align_self": null,
            "border": null,
            "bottom": null,
            "display": null,
            "flex": null,
            "flex_flow": null,
            "grid_area": null,
            "grid_auto_columns": null,
            "grid_auto_flow": null,
            "grid_auto_rows": null,
            "grid_column": null,
            "grid_gap": null,
            "grid_row": null,
            "grid_template_areas": null,
            "grid_template_columns": null,
            "grid_template_rows": null,
            "height": null,
            "justify_content": null,
            "justify_items": null,
            "left": null,
            "margin": null,
            "max_height": null,
            "max_width": null,
            "min_height": null,
            "min_width": null,
            "object_fit": null,
            "object_position": null,
            "order": null,
            "overflow": null,
            "overflow_x": null,
            "overflow_y": null,
            "padding": null,
            "right": null,
            "top": null,
            "visibility": null,
            "width": null
          }
        },
        "8590b8c48d774f0ca636967ffeb162ba": {
          "model_module": "@jupyter-widgets/controls",
          "model_name": "DescriptionStyleModel",
          "model_module_version": "1.5.0",
          "state": {
            "_model_module": "@jupyter-widgets/controls",
            "_model_module_version": "1.5.0",
            "_model_name": "DescriptionStyleModel",
            "_view_count": null,
            "_view_module": "@jupyter-widgets/base",
            "_view_module_version": "1.2.0",
            "_view_name": "StyleView",
            "description_width": ""
          }
        },
        "492cea501a94472d8bf8cef374b242db": {
          "model_module": "@jupyter-widgets/base",
          "model_name": "LayoutModel",
          "model_module_version": "1.2.0",
          "state": {
            "_model_module": "@jupyter-widgets/base",
            "_model_module_version": "1.2.0",
            "_model_name": "LayoutModel",
            "_view_count": null,
            "_view_module": "@jupyter-widgets/base",
            "_view_module_version": "1.2.0",
            "_view_name": "LayoutView",
            "align_content": null,
            "align_items": null,
            "align_self": null,
            "border": null,
            "bottom": null,
            "display": null,
            "flex": null,
            "flex_flow": null,
            "grid_area": null,
            "grid_auto_columns": null,
            "grid_auto_flow": null,
            "grid_auto_rows": null,
            "grid_column": null,
            "grid_gap": null,
            "grid_row": null,
            "grid_template_areas": null,
            "grid_template_columns": null,
            "grid_template_rows": null,
            "height": null,
            "justify_content": null,
            "justify_items": null,
            "left": null,
            "margin": null,
            "max_height": null,
            "max_width": null,
            "min_height": null,
            "min_width": null,
            "object_fit": null,
            "object_position": null,
            "order": null,
            "overflow": null,
            "overflow_x": null,
            "overflow_y": null,
            "padding": null,
            "right": null,
            "top": null,
            "visibility": null,
            "width": null
          }
        },
        "145f6f2ce0534ae8a7d121eed925f318": {
          "model_module": "@jupyter-widgets/controls",
          "model_name": "ProgressStyleModel",
          "model_module_version": "1.5.0",
          "state": {
            "_model_module": "@jupyter-widgets/controls",
            "_model_module_version": "1.5.0",
            "_model_name": "ProgressStyleModel",
            "_view_count": null,
            "_view_module": "@jupyter-widgets/base",
            "_view_module_version": "1.2.0",
            "_view_name": "StyleView",
            "bar_color": null,
            "description_width": ""
          }
        },
        "93008d2268b44176b8daec1709631673": {
          "model_module": "@jupyter-widgets/base",
          "model_name": "LayoutModel",
          "model_module_version": "1.2.0",
          "state": {
            "_model_module": "@jupyter-widgets/base",
            "_model_module_version": "1.2.0",
            "_model_name": "LayoutModel",
            "_view_count": null,
            "_view_module": "@jupyter-widgets/base",
            "_view_module_version": "1.2.0",
            "_view_name": "LayoutView",
            "align_content": null,
            "align_items": null,
            "align_self": null,
            "border": null,
            "bottom": null,
            "display": null,
            "flex": null,
            "flex_flow": null,
            "grid_area": null,
            "grid_auto_columns": null,
            "grid_auto_flow": null,
            "grid_auto_rows": null,
            "grid_column": null,
            "grid_gap": null,
            "grid_row": null,
            "grid_template_areas": null,
            "grid_template_columns": null,
            "grid_template_rows": null,
            "height": null,
            "justify_content": null,
            "justify_items": null,
            "left": null,
            "margin": null,
            "max_height": null,
            "max_width": null,
            "min_height": null,
            "min_width": null,
            "object_fit": null,
            "object_position": null,
            "order": null,
            "overflow": null,
            "overflow_x": null,
            "overflow_y": null,
            "padding": null,
            "right": null,
            "top": null,
            "visibility": null,
            "width": null
          }
        },
        "f0501ee18bf5481d93225315c565b5f3": {
          "model_module": "@jupyter-widgets/controls",
          "model_name": "DescriptionStyleModel",
          "model_module_version": "1.5.0",
          "state": {
            "_model_module": "@jupyter-widgets/controls",
            "_model_module_version": "1.5.0",
            "_model_name": "DescriptionStyleModel",
            "_view_count": null,
            "_view_module": "@jupyter-widgets/base",
            "_view_module_version": "1.2.0",
            "_view_name": "StyleView",
            "description_width": ""
          }
        },
        "908083b8de1a4478bdf181aa68d29f3c": {
          "model_module": "@jupyter-widgets/controls",
          "model_name": "HBoxModel",
          "model_module_version": "1.5.0",
          "state": {
            "_dom_classes": [],
            "_model_module": "@jupyter-widgets/controls",
            "_model_module_version": "1.5.0",
            "_model_name": "HBoxModel",
            "_view_count": null,
            "_view_module": "@jupyter-widgets/controls",
            "_view_module_version": "1.5.0",
            "_view_name": "HBoxView",
            "box_style": "",
            "children": [
              "IPY_MODEL_d71461aa00d749678a7c5eb7b5949cdc",
              "IPY_MODEL_5128a3aba8264774a62024efcb8ac950",
              "IPY_MODEL_47a0f12a29cc4ed3bff269fa500651ab"
            ],
            "layout": "IPY_MODEL_5d50ad84dfda4b0087e4243c4f6ba79d"
          }
        },
        "d71461aa00d749678a7c5eb7b5949cdc": {
          "model_module": "@jupyter-widgets/controls",
          "model_name": "HTMLModel",
          "model_module_version": "1.5.0",
          "state": {
            "_dom_classes": [],
            "_model_module": "@jupyter-widgets/controls",
            "_model_module_version": "1.5.0",
            "_model_name": "HTMLModel",
            "_view_count": null,
            "_view_module": "@jupyter-widgets/controls",
            "_view_module_version": "1.5.0",
            "_view_name": "HTMLView",
            "description": "",
            "description_tooltip": null,
            "layout": "IPY_MODEL_c177b8a7589f47c48b767063f0a51829",
            "placeholder": "​",
            "style": "IPY_MODEL_922ebd2670424166b3f19c0f94996111",
            "value": "model.safetensors: 100%"
          }
        },
        "5128a3aba8264774a62024efcb8ac950": {
          "model_module": "@jupyter-widgets/controls",
          "model_name": "FloatProgressModel",
          "model_module_version": "1.5.0",
          "state": {
            "_dom_classes": [],
            "_model_module": "@jupyter-widgets/controls",
            "_model_module_version": "1.5.0",
            "_model_name": "FloatProgressModel",
            "_view_count": null,
            "_view_module": "@jupyter-widgets/controls",
            "_view_module_version": "1.5.0",
            "_view_name": "ProgressView",
            "bar_style": "success",
            "description": "",
            "description_tooltip": null,
            "layout": "IPY_MODEL_bd184bd8159144e88c113ef3e981a5f7",
            "max": 438192852,
            "min": 0,
            "orientation": "horizontal",
            "style": "IPY_MODEL_156ed7761f734cd383f37bdf417ae933",
            "value": 438192852
          }
        },
        "47a0f12a29cc4ed3bff269fa500651ab": {
          "model_module": "@jupyter-widgets/controls",
          "model_name": "HTMLModel",
          "model_module_version": "1.5.0",
          "state": {
            "_dom_classes": [],
            "_model_module": "@jupyter-widgets/controls",
            "_model_module_version": "1.5.0",
            "_model_name": "HTMLModel",
            "_view_count": null,
            "_view_module": "@jupyter-widgets/controls",
            "_view_module_version": "1.5.0",
            "_view_name": "HTMLView",
            "description": "",
            "description_tooltip": null,
            "layout": "IPY_MODEL_09b13ece9da349eab6097853ec3d6a42",
            "placeholder": "​",
            "style": "IPY_MODEL_3e647c8ab2cc4a02936fdb5834b4ba3b",
            "value": " 438M/438M [00:04&lt;00:00, 109MB/s]"
          }
        },
        "5d50ad84dfda4b0087e4243c4f6ba79d": {
          "model_module": "@jupyter-widgets/base",
          "model_name": "LayoutModel",
          "model_module_version": "1.2.0",
          "state": {
            "_model_module": "@jupyter-widgets/base",
            "_model_module_version": "1.2.0",
            "_model_name": "LayoutModel",
            "_view_count": null,
            "_view_module": "@jupyter-widgets/base",
            "_view_module_version": "1.2.0",
            "_view_name": "LayoutView",
            "align_content": null,
            "align_items": null,
            "align_self": null,
            "border": null,
            "bottom": null,
            "display": null,
            "flex": null,
            "flex_flow": null,
            "grid_area": null,
            "grid_auto_columns": null,
            "grid_auto_flow": null,
            "grid_auto_rows": null,
            "grid_column": null,
            "grid_gap": null,
            "grid_row": null,
            "grid_template_areas": null,
            "grid_template_columns": null,
            "grid_template_rows": null,
            "height": null,
            "justify_content": null,
            "justify_items": null,
            "left": null,
            "margin": null,
            "max_height": null,
            "max_width": null,
            "min_height": null,
            "min_width": null,
            "object_fit": null,
            "object_position": null,
            "order": null,
            "overflow": null,
            "overflow_x": null,
            "overflow_y": null,
            "padding": null,
            "right": null,
            "top": null,
            "visibility": null,
            "width": null
          }
        },
        "c177b8a7589f47c48b767063f0a51829": {
          "model_module": "@jupyter-widgets/base",
          "model_name": "LayoutModel",
          "model_module_version": "1.2.0",
          "state": {
            "_model_module": "@jupyter-widgets/base",
            "_model_module_version": "1.2.0",
            "_model_name": "LayoutModel",
            "_view_count": null,
            "_view_module": "@jupyter-widgets/base",
            "_view_module_version": "1.2.0",
            "_view_name": "LayoutView",
            "align_content": null,
            "align_items": null,
            "align_self": null,
            "border": null,
            "bottom": null,
            "display": null,
            "flex": null,
            "flex_flow": null,
            "grid_area": null,
            "grid_auto_columns": null,
            "grid_auto_flow": null,
            "grid_auto_rows": null,
            "grid_column": null,
            "grid_gap": null,
            "grid_row": null,
            "grid_template_areas": null,
            "grid_template_columns": null,
            "grid_template_rows": null,
            "height": null,
            "justify_content": null,
            "justify_items": null,
            "left": null,
            "margin": null,
            "max_height": null,
            "max_width": null,
            "min_height": null,
            "min_width": null,
            "object_fit": null,
            "object_position": null,
            "order": null,
            "overflow": null,
            "overflow_x": null,
            "overflow_y": null,
            "padding": null,
            "right": null,
            "top": null,
            "visibility": null,
            "width": null
          }
        },
        "922ebd2670424166b3f19c0f94996111": {
          "model_module": "@jupyter-widgets/controls",
          "model_name": "DescriptionStyleModel",
          "model_module_version": "1.5.0",
          "state": {
            "_model_module": "@jupyter-widgets/controls",
            "_model_module_version": "1.5.0",
            "_model_name": "DescriptionStyleModel",
            "_view_count": null,
            "_view_module": "@jupyter-widgets/base",
            "_view_module_version": "1.2.0",
            "_view_name": "StyleView",
            "description_width": ""
          }
        },
        "bd184bd8159144e88c113ef3e981a5f7": {
          "model_module": "@jupyter-widgets/base",
          "model_name": "LayoutModel",
          "model_module_version": "1.2.0",
          "state": {
            "_model_module": "@jupyter-widgets/base",
            "_model_module_version": "1.2.0",
            "_model_name": "LayoutModel",
            "_view_count": null,
            "_view_module": "@jupyter-widgets/base",
            "_view_module_version": "1.2.0",
            "_view_name": "LayoutView",
            "align_content": null,
            "align_items": null,
            "align_self": null,
            "border": null,
            "bottom": null,
            "display": null,
            "flex": null,
            "flex_flow": null,
            "grid_area": null,
            "grid_auto_columns": null,
            "grid_auto_flow": null,
            "grid_auto_rows": null,
            "grid_column": null,
            "grid_gap": null,
            "grid_row": null,
            "grid_template_areas": null,
            "grid_template_columns": null,
            "grid_template_rows": null,
            "height": null,
            "justify_content": null,
            "justify_items": null,
            "left": null,
            "margin": null,
            "max_height": null,
            "max_width": null,
            "min_height": null,
            "min_width": null,
            "object_fit": null,
            "object_position": null,
            "order": null,
            "overflow": null,
            "overflow_x": null,
            "overflow_y": null,
            "padding": null,
            "right": null,
            "top": null,
            "visibility": null,
            "width": null
          }
        },
        "156ed7761f734cd383f37bdf417ae933": {
          "model_module": "@jupyter-widgets/controls",
          "model_name": "ProgressStyleModel",
          "model_module_version": "1.5.0",
          "state": {
            "_model_module": "@jupyter-widgets/controls",
            "_model_module_version": "1.5.0",
            "_model_name": "ProgressStyleModel",
            "_view_count": null,
            "_view_module": "@jupyter-widgets/base",
            "_view_module_version": "1.2.0",
            "_view_name": "StyleView",
            "bar_color": null,
            "description_width": ""
          }
        },
        "09b13ece9da349eab6097853ec3d6a42": {
          "model_module": "@jupyter-widgets/base",
          "model_name": "LayoutModel",
          "model_module_version": "1.2.0",
          "state": {
            "_model_module": "@jupyter-widgets/base",
            "_model_module_version": "1.2.0",
            "_model_name": "LayoutModel",
            "_view_count": null,
            "_view_module": "@jupyter-widgets/base",
            "_view_module_version": "1.2.0",
            "_view_name": "LayoutView",
            "align_content": null,
            "align_items": null,
            "align_self": null,
            "border": null,
            "bottom": null,
            "display": null,
            "flex": null,
            "flex_flow": null,
            "grid_area": null,
            "grid_auto_columns": null,
            "grid_auto_flow": null,
            "grid_auto_rows": null,
            "grid_column": null,
            "grid_gap": null,
            "grid_row": null,
            "grid_template_areas": null,
            "grid_template_columns": null,
            "grid_template_rows": null,
            "height": null,
            "justify_content": null,
            "justify_items": null,
            "left": null,
            "margin": null,
            "max_height": null,
            "max_width": null,
            "min_height": null,
            "min_width": null,
            "object_fit": null,
            "object_position": null,
            "order": null,
            "overflow": null,
            "overflow_x": null,
            "overflow_y": null,
            "padding": null,
            "right": null,
            "top": null,
            "visibility": null,
            "width": null
          }
        },
        "3e647c8ab2cc4a02936fdb5834b4ba3b": {
          "model_module": "@jupyter-widgets/controls",
          "model_name": "DescriptionStyleModel",
          "model_module_version": "1.5.0",
          "state": {
            "_model_module": "@jupyter-widgets/controls",
            "_model_module_version": "1.5.0",
            "_model_name": "DescriptionStyleModel",
            "_view_count": null,
            "_view_module": "@jupyter-widgets/base",
            "_view_module_version": "1.2.0",
            "_view_name": "StyleView",
            "description_width": ""
          }
        },
        "85ae007003b0493e8a808e205614b3e3": {
          "model_module": "@jupyter-widgets/controls",
          "model_name": "HBoxModel",
          "model_module_version": "1.5.0",
          "state": {
            "_dom_classes": [],
            "_model_module": "@jupyter-widgets/controls",
            "_model_module_version": "1.5.0",
            "_model_name": "HBoxModel",
            "_view_count": null,
            "_view_module": "@jupyter-widgets/controls",
            "_view_module_version": "1.5.0",
            "_view_name": "HBoxView",
            "box_style": "",
            "children": [
              "IPY_MODEL_47c74912a6574193b8fc0c1df6a4f8df",
              "IPY_MODEL_4849dae4eccd4857a3476dc4dfc64980",
              "IPY_MODEL_8d9063b6923542b59b169c9a1a32afc6"
            ],
            "layout": "IPY_MODEL_2385347be6244b53b5623eb244e5914c"
          }
        },
        "47c74912a6574193b8fc0c1df6a4f8df": {
          "model_module": "@jupyter-widgets/controls",
          "model_name": "HTMLModel",
          "model_module_version": "1.5.0",
          "state": {
            "_dom_classes": [],
            "_model_module": "@jupyter-widgets/controls",
            "_model_module_version": "1.5.0",
            "_model_name": "HTMLModel",
            "_view_count": null,
            "_view_module": "@jupyter-widgets/controls",
            "_view_module_version": "1.5.0",
            "_view_name": "HTMLView",
            "description": "",
            "description_tooltip": null,
            "layout": "IPY_MODEL_1523aeb2b45e4692bd1dde759479f67f",
            "placeholder": "​",
            "style": "IPY_MODEL_3f9999bdc0c04978a5174a1cce8912b4",
            "value": "Map: 100%"
          }
        },
        "4849dae4eccd4857a3476dc4dfc64980": {
          "model_module": "@jupyter-widgets/controls",
          "model_name": "FloatProgressModel",
          "model_module_version": "1.5.0",
          "state": {
            "_dom_classes": [],
            "_model_module": "@jupyter-widgets/controls",
            "_model_module_version": "1.5.0",
            "_model_name": "FloatProgressModel",
            "_view_count": null,
            "_view_module": "@jupyter-widgets/controls",
            "_view_module_version": "1.5.0",
            "_view_name": "ProgressView",
            "bar_style": "success",
            "description": "",
            "description_tooltip": null,
            "layout": "IPY_MODEL_ac54a9448b68411b8d71de053a6d0349",
            "max": 5824,
            "min": 0,
            "orientation": "horizontal",
            "style": "IPY_MODEL_be413307c7004046af1b3c4f654e0b0b",
            "value": 5824
          }
        },
        "8d9063b6923542b59b169c9a1a32afc6": {
          "model_module": "@jupyter-widgets/controls",
          "model_name": "HTMLModel",
          "model_module_version": "1.5.0",
          "state": {
            "_dom_classes": [],
            "_model_module": "@jupyter-widgets/controls",
            "_model_module_version": "1.5.0",
            "_model_name": "HTMLModel",
            "_view_count": null,
            "_view_module": "@jupyter-widgets/controls",
            "_view_module_version": "1.5.0",
            "_view_name": "HTMLView",
            "description": "",
            "description_tooltip": null,
            "layout": "IPY_MODEL_bb48a2db51594cb197f18ecc7e53a631",
            "placeholder": "​",
            "style": "IPY_MODEL_35661ddfd48941279e1c4d3b28d8962b",
            "value": " 5824/5824 [00:05&lt;00:00, 1332.86 examples/s]"
          }
        },
        "2385347be6244b53b5623eb244e5914c": {
          "model_module": "@jupyter-widgets/base",
          "model_name": "LayoutModel",
          "model_module_version": "1.2.0",
          "state": {
            "_model_module": "@jupyter-widgets/base",
            "_model_module_version": "1.2.0",
            "_model_name": "LayoutModel",
            "_view_count": null,
            "_view_module": "@jupyter-widgets/base",
            "_view_module_version": "1.2.0",
            "_view_name": "LayoutView",
            "align_content": null,
            "align_items": null,
            "align_self": null,
            "border": null,
            "bottom": null,
            "display": null,
            "flex": null,
            "flex_flow": null,
            "grid_area": null,
            "grid_auto_columns": null,
            "grid_auto_flow": null,
            "grid_auto_rows": null,
            "grid_column": null,
            "grid_gap": null,
            "grid_row": null,
            "grid_template_areas": null,
            "grid_template_columns": null,
            "grid_template_rows": null,
            "height": null,
            "justify_content": null,
            "justify_items": null,
            "left": null,
            "margin": null,
            "max_height": null,
            "max_width": null,
            "min_height": null,
            "min_width": null,
            "object_fit": null,
            "object_position": null,
            "order": null,
            "overflow": null,
            "overflow_x": null,
            "overflow_y": null,
            "padding": null,
            "right": null,
            "top": null,
            "visibility": null,
            "width": null
          }
        },
        "1523aeb2b45e4692bd1dde759479f67f": {
          "model_module": "@jupyter-widgets/base",
          "model_name": "LayoutModel",
          "model_module_version": "1.2.0",
          "state": {
            "_model_module": "@jupyter-widgets/base",
            "_model_module_version": "1.2.0",
            "_model_name": "LayoutModel",
            "_view_count": null,
            "_view_module": "@jupyter-widgets/base",
            "_view_module_version": "1.2.0",
            "_view_name": "LayoutView",
            "align_content": null,
            "align_items": null,
            "align_self": null,
            "border": null,
            "bottom": null,
            "display": null,
            "flex": null,
            "flex_flow": null,
            "grid_area": null,
            "grid_auto_columns": null,
            "grid_auto_flow": null,
            "grid_auto_rows": null,
            "grid_column": null,
            "grid_gap": null,
            "grid_row": null,
            "grid_template_areas": null,
            "grid_template_columns": null,
            "grid_template_rows": null,
            "height": null,
            "justify_content": null,
            "justify_items": null,
            "left": null,
            "margin": null,
            "max_height": null,
            "max_width": null,
            "min_height": null,
            "min_width": null,
            "object_fit": null,
            "object_position": null,
            "order": null,
            "overflow": null,
            "overflow_x": null,
            "overflow_y": null,
            "padding": null,
            "right": null,
            "top": null,
            "visibility": null,
            "width": null
          }
        },
        "3f9999bdc0c04978a5174a1cce8912b4": {
          "model_module": "@jupyter-widgets/controls",
          "model_name": "DescriptionStyleModel",
          "model_module_version": "1.5.0",
          "state": {
            "_model_module": "@jupyter-widgets/controls",
            "_model_module_version": "1.5.0",
            "_model_name": "DescriptionStyleModel",
            "_view_count": null,
            "_view_module": "@jupyter-widgets/base",
            "_view_module_version": "1.2.0",
            "_view_name": "StyleView",
            "description_width": ""
          }
        },
        "ac54a9448b68411b8d71de053a6d0349": {
          "model_module": "@jupyter-widgets/base",
          "model_name": "LayoutModel",
          "model_module_version": "1.2.0",
          "state": {
            "_model_module": "@jupyter-widgets/base",
            "_model_module_version": "1.2.0",
            "_model_name": "LayoutModel",
            "_view_count": null,
            "_view_module": "@jupyter-widgets/base",
            "_view_module_version": "1.2.0",
            "_view_name": "LayoutView",
            "align_content": null,
            "align_items": null,
            "align_self": null,
            "border": null,
            "bottom": null,
            "display": null,
            "flex": null,
            "flex_flow": null,
            "grid_area": null,
            "grid_auto_columns": null,
            "grid_auto_flow": null,
            "grid_auto_rows": null,
            "grid_column": null,
            "grid_gap": null,
            "grid_row": null,
            "grid_template_areas": null,
            "grid_template_columns": null,
            "grid_template_rows": null,
            "height": null,
            "justify_content": null,
            "justify_items": null,
            "left": null,
            "margin": null,
            "max_height": null,
            "max_width": null,
            "min_height": null,
            "min_width": null,
            "object_fit": null,
            "object_position": null,
            "order": null,
            "overflow": null,
            "overflow_x": null,
            "overflow_y": null,
            "padding": null,
            "right": null,
            "top": null,
            "visibility": null,
            "width": null
          }
        },
        "be413307c7004046af1b3c4f654e0b0b": {
          "model_module": "@jupyter-widgets/controls",
          "model_name": "ProgressStyleModel",
          "model_module_version": "1.5.0",
          "state": {
            "_model_module": "@jupyter-widgets/controls",
            "_model_module_version": "1.5.0",
            "_model_name": "ProgressStyleModel",
            "_view_count": null,
            "_view_module": "@jupyter-widgets/base",
            "_view_module_version": "1.2.0",
            "_view_name": "StyleView",
            "bar_color": null,
            "description_width": ""
          }
        },
        "bb48a2db51594cb197f18ecc7e53a631": {
          "model_module": "@jupyter-widgets/base",
          "model_name": "LayoutModel",
          "model_module_version": "1.2.0",
          "state": {
            "_model_module": "@jupyter-widgets/base",
            "_model_module_version": "1.2.0",
            "_model_name": "LayoutModel",
            "_view_count": null,
            "_view_module": "@jupyter-widgets/base",
            "_view_module_version": "1.2.0",
            "_view_name": "LayoutView",
            "align_content": null,
            "align_items": null,
            "align_self": null,
            "border": null,
            "bottom": null,
            "display": null,
            "flex": null,
            "flex_flow": null,
            "grid_area": null,
            "grid_auto_columns": null,
            "grid_auto_flow": null,
            "grid_auto_rows": null,
            "grid_column": null,
            "grid_gap": null,
            "grid_row": null,
            "grid_template_areas": null,
            "grid_template_columns": null,
            "grid_template_rows": null,
            "height": null,
            "justify_content": null,
            "justify_items": null,
            "left": null,
            "margin": null,
            "max_height": null,
            "max_width": null,
            "min_height": null,
            "min_width": null,
            "object_fit": null,
            "object_position": null,
            "order": null,
            "overflow": null,
            "overflow_x": null,
            "overflow_y": null,
            "padding": null,
            "right": null,
            "top": null,
            "visibility": null,
            "width": null
          }
        },
        "35661ddfd48941279e1c4d3b28d8962b": {
          "model_module": "@jupyter-widgets/controls",
          "model_name": "DescriptionStyleModel",
          "model_module_version": "1.5.0",
          "state": {
            "_model_module": "@jupyter-widgets/controls",
            "_model_module_version": "1.5.0",
            "_model_name": "DescriptionStyleModel",
            "_view_count": null,
            "_view_module": "@jupyter-widgets/base",
            "_view_module_version": "1.2.0",
            "_view_name": "StyleView",
            "description_width": ""
          }
        },
        "38e55ab71cf64bd38bccda61d36fd2c0": {
          "model_module": "@jupyter-widgets/controls",
          "model_name": "HBoxModel",
          "model_module_version": "1.5.0",
          "state": {
            "_dom_classes": [],
            "_model_module": "@jupyter-widgets/controls",
            "_model_module_version": "1.5.0",
            "_model_name": "HBoxModel",
            "_view_count": null,
            "_view_module": "@jupyter-widgets/controls",
            "_view_module_version": "1.5.0",
            "_view_name": "HBoxView",
            "box_style": "",
            "children": [
              "IPY_MODEL_69326fd1d05c4b489aa751362c6cd363",
              "IPY_MODEL_dd7fa47014004086b3a2a28aeb7632aa",
              "IPY_MODEL_be6ec020d7e44282af867bf45f8d6daf"
            ],
            "layout": "IPY_MODEL_f1ea3dbe89224f5fb8faa9a04b1cbcfa"
          }
        },
        "69326fd1d05c4b489aa751362c6cd363": {
          "model_module": "@jupyter-widgets/controls",
          "model_name": "HTMLModel",
          "model_module_version": "1.5.0",
          "state": {
            "_dom_classes": [],
            "_model_module": "@jupyter-widgets/controls",
            "_model_module_version": "1.5.0",
            "_model_name": "HTMLModel",
            "_view_count": null,
            "_view_module": "@jupyter-widgets/controls",
            "_view_module_version": "1.5.0",
            "_view_name": "HTMLView",
            "description": "",
            "description_tooltip": null,
            "layout": "IPY_MODEL_6b9341dcedbf452890a396129a741ac3",
            "placeholder": "​",
            "style": "IPY_MODEL_742f8de43b1d49cf80a65d4478617b00",
            "value": "Stringifying the column: 100%"
          }
        },
        "dd7fa47014004086b3a2a28aeb7632aa": {
          "model_module": "@jupyter-widgets/controls",
          "model_name": "FloatProgressModel",
          "model_module_version": "1.5.0",
          "state": {
            "_dom_classes": [],
            "_model_module": "@jupyter-widgets/controls",
            "_model_module_version": "1.5.0",
            "_model_name": "FloatProgressModel",
            "_view_count": null,
            "_view_module": "@jupyter-widgets/controls",
            "_view_module_version": "1.5.0",
            "_view_name": "ProgressView",
            "bar_style": "success",
            "description": "",
            "description_tooltip": null,
            "layout": "IPY_MODEL_f952ca64db504ce197be935658598249",
            "max": 5824,
            "min": 0,
            "orientation": "horizontal",
            "style": "IPY_MODEL_fef8a71b2a46438d875c06070559979f",
            "value": 5824
          }
        },
        "be6ec020d7e44282af867bf45f8d6daf": {
          "model_module": "@jupyter-widgets/controls",
          "model_name": "HTMLModel",
          "model_module_version": "1.5.0",
          "state": {
            "_dom_classes": [],
            "_model_module": "@jupyter-widgets/controls",
            "_model_module_version": "1.5.0",
            "_model_name": "HTMLModel",
            "_view_count": null,
            "_view_module": "@jupyter-widgets/controls",
            "_view_module_version": "1.5.0",
            "_view_name": "HTMLView",
            "description": "",
            "description_tooltip": null,
            "layout": "IPY_MODEL_defa9c00b4c449a7813a6578df30fd7f",
            "placeholder": "​",
            "style": "IPY_MODEL_bfbc02db1ded4442a5ef0c5a78adf71d",
            "value": " 5824/5824 [00:00&lt;00:00, 90925.64 examples/s]"
          }
        },
        "f1ea3dbe89224f5fb8faa9a04b1cbcfa": {
          "model_module": "@jupyter-widgets/base",
          "model_name": "LayoutModel",
          "model_module_version": "1.2.0",
          "state": {
            "_model_module": "@jupyter-widgets/base",
            "_model_module_version": "1.2.0",
            "_model_name": "LayoutModel",
            "_view_count": null,
            "_view_module": "@jupyter-widgets/base",
            "_view_module_version": "1.2.0",
            "_view_name": "LayoutView",
            "align_content": null,
            "align_items": null,
            "align_self": null,
            "border": null,
            "bottom": null,
            "display": null,
            "flex": null,
            "flex_flow": null,
            "grid_area": null,
            "grid_auto_columns": null,
            "grid_auto_flow": null,
            "grid_auto_rows": null,
            "grid_column": null,
            "grid_gap": null,
            "grid_row": null,
            "grid_template_areas": null,
            "grid_template_columns": null,
            "grid_template_rows": null,
            "height": null,
            "justify_content": null,
            "justify_items": null,
            "left": null,
            "margin": null,
            "max_height": null,
            "max_width": null,
            "min_height": null,
            "min_width": null,
            "object_fit": null,
            "object_position": null,
            "order": null,
            "overflow": null,
            "overflow_x": null,
            "overflow_y": null,
            "padding": null,
            "right": null,
            "top": null,
            "visibility": null,
            "width": null
          }
        },
        "6b9341dcedbf452890a396129a741ac3": {
          "model_module": "@jupyter-widgets/base",
          "model_name": "LayoutModel",
          "model_module_version": "1.2.0",
          "state": {
            "_model_module": "@jupyter-widgets/base",
            "_model_module_version": "1.2.0",
            "_model_name": "LayoutModel",
            "_view_count": null,
            "_view_module": "@jupyter-widgets/base",
            "_view_module_version": "1.2.0",
            "_view_name": "LayoutView",
            "align_content": null,
            "align_items": null,
            "align_self": null,
            "border": null,
            "bottom": null,
            "display": null,
            "flex": null,
            "flex_flow": null,
            "grid_area": null,
            "grid_auto_columns": null,
            "grid_auto_flow": null,
            "grid_auto_rows": null,
            "grid_column": null,
            "grid_gap": null,
            "grid_row": null,
            "grid_template_areas": null,
            "grid_template_columns": null,
            "grid_template_rows": null,
            "height": null,
            "justify_content": null,
            "justify_items": null,
            "left": null,
            "margin": null,
            "max_height": null,
            "max_width": null,
            "min_height": null,
            "min_width": null,
            "object_fit": null,
            "object_position": null,
            "order": null,
            "overflow": null,
            "overflow_x": null,
            "overflow_y": null,
            "padding": null,
            "right": null,
            "top": null,
            "visibility": null,
            "width": null
          }
        },
        "742f8de43b1d49cf80a65d4478617b00": {
          "model_module": "@jupyter-widgets/controls",
          "model_name": "DescriptionStyleModel",
          "model_module_version": "1.5.0",
          "state": {
            "_model_module": "@jupyter-widgets/controls",
            "_model_module_version": "1.5.0",
            "_model_name": "DescriptionStyleModel",
            "_view_count": null,
            "_view_module": "@jupyter-widgets/base",
            "_view_module_version": "1.2.0",
            "_view_name": "StyleView",
            "description_width": ""
          }
        },
        "f952ca64db504ce197be935658598249": {
          "model_module": "@jupyter-widgets/base",
          "model_name": "LayoutModel",
          "model_module_version": "1.2.0",
          "state": {
            "_model_module": "@jupyter-widgets/base",
            "_model_module_version": "1.2.0",
            "_model_name": "LayoutModel",
            "_view_count": null,
            "_view_module": "@jupyter-widgets/base",
            "_view_module_version": "1.2.0",
            "_view_name": "LayoutView",
            "align_content": null,
            "align_items": null,
            "align_self": null,
            "border": null,
            "bottom": null,
            "display": null,
            "flex": null,
            "flex_flow": null,
            "grid_area": null,
            "grid_auto_columns": null,
            "grid_auto_flow": null,
            "grid_auto_rows": null,
            "grid_column": null,
            "grid_gap": null,
            "grid_row": null,
            "grid_template_areas": null,
            "grid_template_columns": null,
            "grid_template_rows": null,
            "height": null,
            "justify_content": null,
            "justify_items": null,
            "left": null,
            "margin": null,
            "max_height": null,
            "max_width": null,
            "min_height": null,
            "min_width": null,
            "object_fit": null,
            "object_position": null,
            "order": null,
            "overflow": null,
            "overflow_x": null,
            "overflow_y": null,
            "padding": null,
            "right": null,
            "top": null,
            "visibility": null,
            "width": null
          }
        },
        "fef8a71b2a46438d875c06070559979f": {
          "model_module": "@jupyter-widgets/controls",
          "model_name": "ProgressStyleModel",
          "model_module_version": "1.5.0",
          "state": {
            "_model_module": "@jupyter-widgets/controls",
            "_model_module_version": "1.5.0",
            "_model_name": "ProgressStyleModel",
            "_view_count": null,
            "_view_module": "@jupyter-widgets/base",
            "_view_module_version": "1.2.0",
            "_view_name": "StyleView",
            "bar_color": null,
            "description_width": ""
          }
        },
        "defa9c00b4c449a7813a6578df30fd7f": {
          "model_module": "@jupyter-widgets/base",
          "model_name": "LayoutModel",
          "model_module_version": "1.2.0",
          "state": {
            "_model_module": "@jupyter-widgets/base",
            "_model_module_version": "1.2.0",
            "_model_name": "LayoutModel",
            "_view_count": null,
            "_view_module": "@jupyter-widgets/base",
            "_view_module_version": "1.2.0",
            "_view_name": "LayoutView",
            "align_content": null,
            "align_items": null,
            "align_self": null,
            "border": null,
            "bottom": null,
            "display": null,
            "flex": null,
            "flex_flow": null,
            "grid_area": null,
            "grid_auto_columns": null,
            "grid_auto_flow": null,
            "grid_auto_rows": null,
            "grid_column": null,
            "grid_gap": null,
            "grid_row": null,
            "grid_template_areas": null,
            "grid_template_columns": null,
            "grid_template_rows": null,
            "height": null,
            "justify_content": null,
            "justify_items": null,
            "left": null,
            "margin": null,
            "max_height": null,
            "max_width": null,
            "min_height": null,
            "min_width": null,
            "object_fit": null,
            "object_position": null,
            "order": null,
            "overflow": null,
            "overflow_x": null,
            "overflow_y": null,
            "padding": null,
            "right": null,
            "top": null,
            "visibility": null,
            "width": null
          }
        },
        "bfbc02db1ded4442a5ef0c5a78adf71d": {
          "model_module": "@jupyter-widgets/controls",
          "model_name": "DescriptionStyleModel",
          "model_module_version": "1.5.0",
          "state": {
            "_model_module": "@jupyter-widgets/controls",
            "_model_module_version": "1.5.0",
            "_model_name": "DescriptionStyleModel",
            "_view_count": null,
            "_view_module": "@jupyter-widgets/base",
            "_view_module_version": "1.2.0",
            "_view_name": "StyleView",
            "description_width": ""
          }
        },
        "a836a07f0a23451eaaf2ec9cb5e4927b": {
          "model_module": "@jupyter-widgets/controls",
          "model_name": "HBoxModel",
          "model_module_version": "1.5.0",
          "state": {
            "_dom_classes": [],
            "_model_module": "@jupyter-widgets/controls",
            "_model_module_version": "1.5.0",
            "_model_name": "HBoxModel",
            "_view_count": null,
            "_view_module": "@jupyter-widgets/controls",
            "_view_module_version": "1.5.0",
            "_view_name": "HBoxView",
            "box_style": "",
            "children": [
              "IPY_MODEL_e3081579f3994084b07ba23c559357e6",
              "IPY_MODEL_7b0dc85d09614bceaf36ebd84ecc0da1",
              "IPY_MODEL_140393eb6abb4cc9b12fd647dbb4f388"
            ],
            "layout": "IPY_MODEL_1e83cb0b265349719a4d232d139bf4f0"
          }
        },
        "e3081579f3994084b07ba23c559357e6": {
          "model_module": "@jupyter-widgets/controls",
          "model_name": "HTMLModel",
          "model_module_version": "1.5.0",
          "state": {
            "_dom_classes": [],
            "_model_module": "@jupyter-widgets/controls",
            "_model_module_version": "1.5.0",
            "_model_name": "HTMLModel",
            "_view_count": null,
            "_view_module": "@jupyter-widgets/controls",
            "_view_module_version": "1.5.0",
            "_view_name": "HTMLView",
            "description": "",
            "description_tooltip": null,
            "layout": "IPY_MODEL_a9eb19aa34e2416181fafb3268d202e4",
            "placeholder": "​",
            "style": "IPY_MODEL_a571bea3553b486a9a43eabd9e67cce0",
            "value": "Casting to class labels: 100%"
          }
        },
        "7b0dc85d09614bceaf36ebd84ecc0da1": {
          "model_module": "@jupyter-widgets/controls",
          "model_name": "FloatProgressModel",
          "model_module_version": "1.5.0",
          "state": {
            "_dom_classes": [],
            "_model_module": "@jupyter-widgets/controls",
            "_model_module_version": "1.5.0",
            "_model_name": "FloatProgressModel",
            "_view_count": null,
            "_view_module": "@jupyter-widgets/controls",
            "_view_module_version": "1.5.0",
            "_view_name": "ProgressView",
            "bar_style": "success",
            "description": "",
            "description_tooltip": null,
            "layout": "IPY_MODEL_4090ae1c8ba64f809b2a6671c8669f1b",
            "max": 5824,
            "min": 0,
            "orientation": "horizontal",
            "style": "IPY_MODEL_9fcb7f367b6e44aa96f26cc594f672a4",
            "value": 5824
          }
        },
        "140393eb6abb4cc9b12fd647dbb4f388": {
          "model_module": "@jupyter-widgets/controls",
          "model_name": "HTMLModel",
          "model_module_version": "1.5.0",
          "state": {
            "_dom_classes": [],
            "_model_module": "@jupyter-widgets/controls",
            "_model_module_version": "1.5.0",
            "_model_name": "HTMLModel",
            "_view_count": null,
            "_view_module": "@jupyter-widgets/controls",
            "_view_module_version": "1.5.0",
            "_view_name": "HTMLView",
            "description": "",
            "description_tooltip": null,
            "layout": "IPY_MODEL_ef66aa2f6e4e4a3080903b943b9a2e83",
            "placeholder": "​",
            "style": "IPY_MODEL_0681775ed4b242fda9485e03a48be1ee",
            "value": " 5824/5824 [00:00&lt;00:00, 53498.85 examples/s]"
          }
        },
        "1e83cb0b265349719a4d232d139bf4f0": {
          "model_module": "@jupyter-widgets/base",
          "model_name": "LayoutModel",
          "model_module_version": "1.2.0",
          "state": {
            "_model_module": "@jupyter-widgets/base",
            "_model_module_version": "1.2.0",
            "_model_name": "LayoutModel",
            "_view_count": null,
            "_view_module": "@jupyter-widgets/base",
            "_view_module_version": "1.2.0",
            "_view_name": "LayoutView",
            "align_content": null,
            "align_items": null,
            "align_self": null,
            "border": null,
            "bottom": null,
            "display": null,
            "flex": null,
            "flex_flow": null,
            "grid_area": null,
            "grid_auto_columns": null,
            "grid_auto_flow": null,
            "grid_auto_rows": null,
            "grid_column": null,
            "grid_gap": null,
            "grid_row": null,
            "grid_template_areas": null,
            "grid_template_columns": null,
            "grid_template_rows": null,
            "height": null,
            "justify_content": null,
            "justify_items": null,
            "left": null,
            "margin": null,
            "max_height": null,
            "max_width": null,
            "min_height": null,
            "min_width": null,
            "object_fit": null,
            "object_position": null,
            "order": null,
            "overflow": null,
            "overflow_x": null,
            "overflow_y": null,
            "padding": null,
            "right": null,
            "top": null,
            "visibility": null,
            "width": null
          }
        },
        "a9eb19aa34e2416181fafb3268d202e4": {
          "model_module": "@jupyter-widgets/base",
          "model_name": "LayoutModel",
          "model_module_version": "1.2.0",
          "state": {
            "_model_module": "@jupyter-widgets/base",
            "_model_module_version": "1.2.0",
            "_model_name": "LayoutModel",
            "_view_count": null,
            "_view_module": "@jupyter-widgets/base",
            "_view_module_version": "1.2.0",
            "_view_name": "LayoutView",
            "align_content": null,
            "align_items": null,
            "align_self": null,
            "border": null,
            "bottom": null,
            "display": null,
            "flex": null,
            "flex_flow": null,
            "grid_area": null,
            "grid_auto_columns": null,
            "grid_auto_flow": null,
            "grid_auto_rows": null,
            "grid_column": null,
            "grid_gap": null,
            "grid_row": null,
            "grid_template_areas": null,
            "grid_template_columns": null,
            "grid_template_rows": null,
            "height": null,
            "justify_content": null,
            "justify_items": null,
            "left": null,
            "margin": null,
            "max_height": null,
            "max_width": null,
            "min_height": null,
            "min_width": null,
            "object_fit": null,
            "object_position": null,
            "order": null,
            "overflow": null,
            "overflow_x": null,
            "overflow_y": null,
            "padding": null,
            "right": null,
            "top": null,
            "visibility": null,
            "width": null
          }
        },
        "a571bea3553b486a9a43eabd9e67cce0": {
          "model_module": "@jupyter-widgets/controls",
          "model_name": "DescriptionStyleModel",
          "model_module_version": "1.5.0",
          "state": {
            "_model_module": "@jupyter-widgets/controls",
            "_model_module_version": "1.5.0",
            "_model_name": "DescriptionStyleModel",
            "_view_count": null,
            "_view_module": "@jupyter-widgets/base",
            "_view_module_version": "1.2.0",
            "_view_name": "StyleView",
            "description_width": ""
          }
        },
        "4090ae1c8ba64f809b2a6671c8669f1b": {
          "model_module": "@jupyter-widgets/base",
          "model_name": "LayoutModel",
          "model_module_version": "1.2.0",
          "state": {
            "_model_module": "@jupyter-widgets/base",
            "_model_module_version": "1.2.0",
            "_model_name": "LayoutModel",
            "_view_count": null,
            "_view_module": "@jupyter-widgets/base",
            "_view_module_version": "1.2.0",
            "_view_name": "LayoutView",
            "align_content": null,
            "align_items": null,
            "align_self": null,
            "border": null,
            "bottom": null,
            "display": null,
            "flex": null,
            "flex_flow": null,
            "grid_area": null,
            "grid_auto_columns": null,
            "grid_auto_flow": null,
            "grid_auto_rows": null,
            "grid_column": null,
            "grid_gap": null,
            "grid_row": null,
            "grid_template_areas": null,
            "grid_template_columns": null,
            "grid_template_rows": null,
            "height": null,
            "justify_content": null,
            "justify_items": null,
            "left": null,
            "margin": null,
            "max_height": null,
            "max_width": null,
            "min_height": null,
            "min_width": null,
            "object_fit": null,
            "object_position": null,
            "order": null,
            "overflow": null,
            "overflow_x": null,
            "overflow_y": null,
            "padding": null,
            "right": null,
            "top": null,
            "visibility": null,
            "width": null
          }
        },
        "9fcb7f367b6e44aa96f26cc594f672a4": {
          "model_module": "@jupyter-widgets/controls",
          "model_name": "ProgressStyleModel",
          "model_module_version": "1.5.0",
          "state": {
            "_model_module": "@jupyter-widgets/controls",
            "_model_module_version": "1.5.0",
            "_model_name": "ProgressStyleModel",
            "_view_count": null,
            "_view_module": "@jupyter-widgets/base",
            "_view_module_version": "1.2.0",
            "_view_name": "StyleView",
            "bar_color": null,
            "description_width": ""
          }
        },
        "ef66aa2f6e4e4a3080903b943b9a2e83": {
          "model_module": "@jupyter-widgets/base",
          "model_name": "LayoutModel",
          "model_module_version": "1.2.0",
          "state": {
            "_model_module": "@jupyter-widgets/base",
            "_model_module_version": "1.2.0",
            "_model_name": "LayoutModel",
            "_view_count": null,
            "_view_module": "@jupyter-widgets/base",
            "_view_module_version": "1.2.0",
            "_view_name": "LayoutView",
            "align_content": null,
            "align_items": null,
            "align_self": null,
            "border": null,
            "bottom": null,
            "display": null,
            "flex": null,
            "flex_flow": null,
            "grid_area": null,
            "grid_auto_columns": null,
            "grid_auto_flow": null,
            "grid_auto_rows": null,
            "grid_column": null,
            "grid_gap": null,
            "grid_row": null,
            "grid_template_areas": null,
            "grid_template_columns": null,
            "grid_template_rows": null,
            "height": null,
            "justify_content": null,
            "justify_items": null,
            "left": null,
            "margin": null,
            "max_height": null,
            "max_width": null,
            "min_height": null,
            "min_width": null,
            "object_fit": null,
            "object_position": null,
            "order": null,
            "overflow": null,
            "overflow_x": null,
            "overflow_y": null,
            "padding": null,
            "right": null,
            "top": null,
            "visibility": null,
            "width": null
          }
        },
        "0681775ed4b242fda9485e03a48be1ee": {
          "model_module": "@jupyter-widgets/controls",
          "model_name": "DescriptionStyleModel",
          "model_module_version": "1.5.0",
          "state": {
            "_model_module": "@jupyter-widgets/controls",
            "_model_module_version": "1.5.0",
            "_model_name": "DescriptionStyleModel",
            "_view_count": null,
            "_view_module": "@jupyter-widgets/base",
            "_view_module_version": "1.2.0",
            "_view_name": "StyleView",
            "description_width": ""
          }
        }
      }
    },
    "accelerator": "GPU"
  },
  "cells": [
    {
      "cell_type": "markdown",
      "metadata": {
        "id": "view-in-github",
        "colab_type": "text"
      },
      "source": [
        "<a href=\"https://colab.research.google.com/github/Kimhansav/everynocode_search_engine/blob/main/BP_judge_answer_KCBERT_nsp.ipynb\" target=\"_parent\"><img src=\"https://colab.research.google.com/assets/colab-badge.svg\" alt=\"Open In Colab\"/></a>"
      ]
    },
    {
      "cell_type": "code",
      "execution_count": null,
      "metadata": {
        "id": "Wabey716zPNq"
      },
      "outputs": [],
      "source": [
        "#한국 버블 커뮤니티 오픈톡방 대화의 질문에 대한 답변을 선별하는 코드(BERT Next Sentence Prediction)(로컬)"
      ]
    },
    {
      "cell_type": "code",
      "execution_count": null,
      "metadata": {
        "id": "z6eFub4T38V1",
        "colab": {
          "base_uri": "https://localhost:8080/"
        },
        "outputId": "d453b062-a431-437a-b68c-23877244c0ce"
      },
      "outputs": [
        {
          "output_type": "stream",
          "name": "stdout",
          "text": [
            "Requirement already satisfied: soynlp in /usr/local/lib/python3.10/dist-packages (0.0.493)\n",
            "Requirement already satisfied: numpy>=1.12.1 in /usr/local/lib/python3.10/dist-packages (from soynlp) (1.25.2)\n",
            "Requirement already satisfied: psutil>=5.0.1 in /usr/local/lib/python3.10/dist-packages (from soynlp) (5.9.5)\n",
            "Requirement already satisfied: scipy>=1.1.0 in /usr/local/lib/python3.10/dist-packages (from soynlp) (1.11.4)\n",
            "Requirement already satisfied: scikit-learn>=0.20.0 in /usr/local/lib/python3.10/dist-packages (from soynlp) (1.2.2)\n",
            "Requirement already satisfied: joblib>=1.1.1 in /usr/local/lib/python3.10/dist-packages (from scikit-learn>=0.20.0->soynlp) (1.4.0)\n",
            "Requirement already satisfied: threadpoolctl>=2.0.0 in /usr/local/lib/python3.10/dist-packages (from scikit-learn>=0.20.0->soynlp) (3.4.0)\n",
            "Requirement already satisfied: datasets in /usr/local/lib/python3.10/dist-packages (2.19.0)\n",
            "Requirement already satisfied: filelock in /usr/local/lib/python3.10/dist-packages (from datasets) (3.13.4)\n",
            "Requirement already satisfied: numpy>=1.17 in /usr/local/lib/python3.10/dist-packages (from datasets) (1.25.2)\n",
            "Requirement already satisfied: pyarrow>=12.0.0 in /usr/local/lib/python3.10/dist-packages (from datasets) (14.0.2)\n",
            "Requirement already satisfied: pyarrow-hotfix in /usr/local/lib/python3.10/dist-packages (from datasets) (0.6)\n",
            "Requirement already satisfied: dill<0.3.9,>=0.3.0 in /usr/local/lib/python3.10/dist-packages (from datasets) (0.3.8)\n",
            "Requirement already satisfied: pandas in /usr/local/lib/python3.10/dist-packages (from datasets) (2.0.3)\n",
            "Requirement already satisfied: requests>=2.19.0 in /usr/local/lib/python3.10/dist-packages (from datasets) (2.31.0)\n",
            "Requirement already satisfied: tqdm>=4.62.1 in /usr/local/lib/python3.10/dist-packages (from datasets) (4.66.2)\n",
            "Requirement already satisfied: xxhash in /usr/local/lib/python3.10/dist-packages (from datasets) (3.4.1)\n",
            "Requirement already satisfied: multiprocess in /usr/local/lib/python3.10/dist-packages (from datasets) (0.70.16)\n",
            "Requirement already satisfied: fsspec[http]<=2024.3.1,>=2023.1.0 in /usr/local/lib/python3.10/dist-packages (from datasets) (2023.6.0)\n",
            "Requirement already satisfied: aiohttp in /usr/local/lib/python3.10/dist-packages (from datasets) (3.9.5)\n",
            "Requirement already satisfied: huggingface-hub>=0.21.2 in /usr/local/lib/python3.10/dist-packages (from datasets) (0.22.2)\n",
            "Requirement already satisfied: packaging in /usr/local/lib/python3.10/dist-packages (from datasets) (24.0)\n",
            "Requirement already satisfied: pyyaml>=5.1 in /usr/local/lib/python3.10/dist-packages (from datasets) (6.0.1)\n",
            "Requirement already satisfied: aiosignal>=1.1.2 in /usr/local/lib/python3.10/dist-packages (from aiohttp->datasets) (1.3.1)\n",
            "Requirement already satisfied: attrs>=17.3.0 in /usr/local/lib/python3.10/dist-packages (from aiohttp->datasets) (23.2.0)\n",
            "Requirement already satisfied: frozenlist>=1.1.1 in /usr/local/lib/python3.10/dist-packages (from aiohttp->datasets) (1.4.1)\n",
            "Requirement already satisfied: multidict<7.0,>=4.5 in /usr/local/lib/python3.10/dist-packages (from aiohttp->datasets) (6.0.5)\n",
            "Requirement already satisfied: yarl<2.0,>=1.0 in /usr/local/lib/python3.10/dist-packages (from aiohttp->datasets) (1.9.4)\n",
            "Requirement already satisfied: async-timeout<5.0,>=4.0 in /usr/local/lib/python3.10/dist-packages (from aiohttp->datasets) (4.0.3)\n",
            "Requirement already satisfied: typing-extensions>=3.7.4.3 in /usr/local/lib/python3.10/dist-packages (from huggingface-hub>=0.21.2->datasets) (4.11.0)\n",
            "Requirement already satisfied: charset-normalizer<4,>=2 in /usr/local/lib/python3.10/dist-packages (from requests>=2.19.0->datasets) (3.3.2)\n",
            "Requirement already satisfied: idna<4,>=2.5 in /usr/local/lib/python3.10/dist-packages (from requests>=2.19.0->datasets) (3.7)\n",
            "Requirement already satisfied: urllib3<3,>=1.21.1 in /usr/local/lib/python3.10/dist-packages (from requests>=2.19.0->datasets) (2.0.7)\n",
            "Requirement already satisfied: certifi>=2017.4.17 in /usr/local/lib/python3.10/dist-packages (from requests>=2.19.0->datasets) (2024.2.2)\n",
            "Requirement already satisfied: python-dateutil>=2.8.2 in /usr/local/lib/python3.10/dist-packages (from pandas->datasets) (2.8.2)\n",
            "Requirement already satisfied: pytz>=2020.1 in /usr/local/lib/python3.10/dist-packages (from pandas->datasets) (2023.4)\n",
            "Requirement already satisfied: tzdata>=2022.1 in /usr/local/lib/python3.10/dist-packages (from pandas->datasets) (2024.1)\n",
            "Requirement already satisfied: six>=1.5 in /usr/local/lib/python3.10/dist-packages (from python-dateutil>=2.8.2->pandas->datasets) (1.16.0)\n",
            "Collecting accelerate\n",
            "  Using cached accelerate-0.29.3-py3-none-any.whl (297 kB)\n",
            "Requirement already satisfied: numpy>=1.17 in /usr/local/lib/python3.10/dist-packages (from accelerate) (1.25.2)\n",
            "Requirement already satisfied: packaging>=20.0 in /usr/local/lib/python3.10/dist-packages (from accelerate) (24.0)\n",
            "Requirement already satisfied: psutil in /usr/local/lib/python3.10/dist-packages (from accelerate) (5.9.5)\n",
            "Requirement already satisfied: pyyaml in /usr/local/lib/python3.10/dist-packages (from accelerate) (6.0.1)\n",
            "Requirement already satisfied: torch>=1.10.0 in /usr/local/lib/python3.10/dist-packages (from accelerate) (2.2.1+cu121)\n",
            "Requirement already satisfied: huggingface-hub in /usr/local/lib/python3.10/dist-packages (from accelerate) (0.22.2)\n",
            "Requirement already satisfied: safetensors>=0.3.1 in /usr/local/lib/python3.10/dist-packages (from accelerate) (0.4.3)\n",
            "Requirement already satisfied: filelock in /usr/local/lib/python3.10/dist-packages (from torch>=1.10.0->accelerate) (3.13.4)\n",
            "Requirement already satisfied: typing-extensions>=4.8.0 in /usr/local/lib/python3.10/dist-packages (from torch>=1.10.0->accelerate) (4.11.0)\n",
            "Requirement already satisfied: sympy in /usr/local/lib/python3.10/dist-packages (from torch>=1.10.0->accelerate) (1.12)\n",
            "Requirement already satisfied: networkx in /usr/local/lib/python3.10/dist-packages (from torch>=1.10.0->accelerate) (3.3)\n",
            "Requirement already satisfied: jinja2 in /usr/local/lib/python3.10/dist-packages (from torch>=1.10.0->accelerate) (3.1.3)\n",
            "Requirement already satisfied: fsspec in /usr/local/lib/python3.10/dist-packages (from torch>=1.10.0->accelerate) (2023.6.0)\n",
            "Collecting nvidia-cuda-nvrtc-cu12==12.1.105 (from torch>=1.10.0->accelerate)\n",
            "  Using cached nvidia_cuda_nvrtc_cu12-12.1.105-py3-none-manylinux1_x86_64.whl (23.7 MB)\n",
            "Collecting nvidia-cuda-runtime-cu12==12.1.105 (from torch>=1.10.0->accelerate)\n",
            "  Using cached nvidia_cuda_runtime_cu12-12.1.105-py3-none-manylinux1_x86_64.whl (823 kB)\n",
            "Collecting nvidia-cuda-cupti-cu12==12.1.105 (from torch>=1.10.0->accelerate)\n",
            "  Using cached nvidia_cuda_cupti_cu12-12.1.105-py3-none-manylinux1_x86_64.whl (14.1 MB)\n",
            "Collecting nvidia-cudnn-cu12==8.9.2.26 (from torch>=1.10.0->accelerate)\n",
            "  Using cached nvidia_cudnn_cu12-8.9.2.26-py3-none-manylinux1_x86_64.whl (731.7 MB)\n",
            "Collecting nvidia-cublas-cu12==12.1.3.1 (from torch>=1.10.0->accelerate)\n",
            "  Using cached nvidia_cublas_cu12-12.1.3.1-py3-none-manylinux1_x86_64.whl (410.6 MB)\n",
            "Collecting nvidia-cufft-cu12==11.0.2.54 (from torch>=1.10.0->accelerate)\n",
            "  Using cached nvidia_cufft_cu12-11.0.2.54-py3-none-manylinux1_x86_64.whl (121.6 MB)\n",
            "Collecting nvidia-curand-cu12==10.3.2.106 (from torch>=1.10.0->accelerate)\n",
            "  Using cached nvidia_curand_cu12-10.3.2.106-py3-none-manylinux1_x86_64.whl (56.5 MB)\n",
            "Collecting nvidia-cusolver-cu12==11.4.5.107 (from torch>=1.10.0->accelerate)\n",
            "  Using cached nvidia_cusolver_cu12-11.4.5.107-py3-none-manylinux1_x86_64.whl (124.2 MB)\n",
            "Collecting nvidia-cusparse-cu12==12.1.0.106 (from torch>=1.10.0->accelerate)\n",
            "  Using cached nvidia_cusparse_cu12-12.1.0.106-py3-none-manylinux1_x86_64.whl (196.0 MB)\n",
            "Collecting nvidia-nccl-cu12==2.19.3 (from torch>=1.10.0->accelerate)\n",
            "  Using cached nvidia_nccl_cu12-2.19.3-py3-none-manylinux1_x86_64.whl (166.0 MB)\n",
            "Collecting nvidia-nvtx-cu12==12.1.105 (from torch>=1.10.0->accelerate)\n",
            "  Using cached nvidia_nvtx_cu12-12.1.105-py3-none-manylinux1_x86_64.whl (99 kB)\n",
            "Requirement already satisfied: triton==2.2.0 in /usr/local/lib/python3.10/dist-packages (from torch>=1.10.0->accelerate) (2.2.0)\n",
            "Collecting nvidia-nvjitlink-cu12 (from nvidia-cusolver-cu12==11.4.5.107->torch>=1.10.0->accelerate)\n",
            "  Using cached nvidia_nvjitlink_cu12-12.4.127-py3-none-manylinux2014_x86_64.whl (21.1 MB)\n",
            "Requirement already satisfied: requests in /usr/local/lib/python3.10/dist-packages (from huggingface-hub->accelerate) (2.31.0)\n",
            "Requirement already satisfied: tqdm>=4.42.1 in /usr/local/lib/python3.10/dist-packages (from huggingface-hub->accelerate) (4.66.2)\n",
            "Requirement already satisfied: MarkupSafe>=2.0 in /usr/local/lib/python3.10/dist-packages (from jinja2->torch>=1.10.0->accelerate) (2.1.5)\n",
            "Requirement already satisfied: charset-normalizer<4,>=2 in /usr/local/lib/python3.10/dist-packages (from requests->huggingface-hub->accelerate) (3.3.2)\n",
            "Requirement already satisfied: idna<4,>=2.5 in /usr/local/lib/python3.10/dist-packages (from requests->huggingface-hub->accelerate) (3.7)\n",
            "Requirement already satisfied: urllib3<3,>=1.21.1 in /usr/local/lib/python3.10/dist-packages (from requests->huggingface-hub->accelerate) (2.0.7)\n",
            "Requirement already satisfied: certifi>=2017.4.17 in /usr/local/lib/python3.10/dist-packages (from requests->huggingface-hub->accelerate) (2024.2.2)\n",
            "Requirement already satisfied: mpmath>=0.19 in /usr/local/lib/python3.10/dist-packages (from sympy->torch>=1.10.0->accelerate) (1.3.0)\n",
            "Installing collected packages: nvidia-nvtx-cu12, nvidia-nvjitlink-cu12, nvidia-nccl-cu12, nvidia-curand-cu12, nvidia-cufft-cu12, nvidia-cuda-runtime-cu12, nvidia-cuda-nvrtc-cu12, nvidia-cuda-cupti-cu12, nvidia-cublas-cu12, nvidia-cusparse-cu12, nvidia-cudnn-cu12, nvidia-cusolver-cu12, accelerate\n",
            "Successfully installed accelerate-0.29.3 nvidia-cublas-cu12-12.1.3.1 nvidia-cuda-cupti-cu12-12.1.105 nvidia-cuda-nvrtc-cu12-12.1.105 nvidia-cuda-runtime-cu12-12.1.105 nvidia-cudnn-cu12-8.9.2.26 nvidia-cufft-cu12-11.0.2.54 nvidia-curand-cu12-10.3.2.106 nvidia-cusolver-cu12-11.4.5.107 nvidia-cusparse-cu12-12.1.0.106 nvidia-nccl-cu12-2.19.3 nvidia-nvjitlink-cu12-12.4.127 nvidia-nvtx-cu12-12.1.105\n",
            "Mounted at /content/drive\n"
          ]
        }
      ],
      "source": [
        "!pip install soynlp\n",
        "!pip install datasets\n",
        "!pip install accelerate -U\n",
        "import accelerate\n",
        "import random\n",
        "import pandas as pd\n",
        "import numpy as np\n",
        "import re\n",
        "import os\n",
        "import torch\n",
        "import tensorflow as tf\n",
        "import urllib.request\n",
        "from datasets import Dataset, load_dataset, ClassLabel\n",
        "from soynlp.word import WordExtractor\n",
        "from soynlp.tokenizer import LTokenizer, MaxScoreTokenizer\n",
        "from tqdm import tqdm\n",
        "from tensorflow.keras.callbacks import EarlyStopping\n",
        "from tensorflow.keras.preprocessing.sequence import pad_sequences\n",
        "from transformers import AutoTokenizer, shape_list, TFBertModel, RobertaTokenizerFast, RobertaForSequenceClassification, TextClassificationPipeline, pipeline, BertTokenizer, BertForNextSentencePrediction,  TrainingArguments, BertForMaskedLM, Trainer, TrainerCallback\n",
        "from sklearn.model_selection import StratifiedKFold, train_test_split\n",
        "from google.colab import drive\n",
        "drive.mount('/content/drive')"
      ]
    },
    {
      "cell_type": "markdown",
      "source": [
        "#모델 학습"
      ],
      "metadata": {
        "id": "JlIgiYQQgCsp"
      }
    },
    {
      "cell_type": "markdown",
      "source": [
        "MLM으로 비지도 학습"
      ],
      "metadata": {
        "id": "QP1QMVx3NSMy"
      }
    },
    {
      "cell_type": "code",
      "source": [
        "#훈련 데이터 불러오기\n",
        "pretrain_dataset_path = '/content/drive/My Drive/KcBERT_pretrain_dataset.csv'\n",
        "df_pretrain = pd.read_csv(pretrain_dataset_path, index_col = 0)\n",
        "print(df_pretrain)"
      ],
      "metadata": {
        "id": "Yw42MGfKe5A2",
        "colab": {
          "base_uri": "https://localhost:8080/"
        },
        "outputId": "e48bb475-c74f-4491-c4f4-4ec28fd6e24f"
      },
      "execution_count": null,
      "outputs": [
        {
          "output_type": "stream",
          "name": "stdout",
          "text": [
            "                                                    text\n",
            "0                               저도 나중에 시간되면 자세히 공유하겠습니다.\n",
            "1                                           새해 복 많이 받으세요\n",
            "2      이전버전으로 가서 디플로이를 하려면 live버전과 sync를 맞추라고 하는 알림이 ...\n",
            "3      아직은 초기 버전이기 때문에 일반적인 이커머스 제품에 커뮤니티 방 기능 밖에 추가되...\n",
            "4                                         이 방법 시도해보셨을까요?\n",
            "...                                                  ...\n",
            "29180                              노코드 빌딩의 정수를 경험하셨네요 ㅎㅎ\n",
            "29181                                         답변 감사드립니다.\n",
            "29182                                           응원하겠습니다.\n",
            "29183  그리고 헤더그룹의 Horizontal Alignment를 centered로 두시면 ...\n",
            "29184                       저의 마지막댓글에 답변 부탁드려도 괜찮을까요 ㅜㅜ?\n",
            "\n",
            "[29185 rows x 1 columns]\n"
          ]
        }
      ]
    },
    {
      "cell_type": "code",
      "execution_count": null,
      "metadata": {
        "id": "LHdWohm7tup8",
        "colab": {
          "base_uri": "https://localhost:8080/",
          "height": 301,
          "referenced_widgets": [
            "b1865ae390c54ff5b591e267cb2152e2",
            "8ef26a63b1284d8a8d390717b2bea1ec",
            "38558fa30f5f4781984d93d396d7dc28",
            "267db0c6484142628bd0f399c316e5f4",
            "8bfd50b981c84ae08c62b7cbc5d7a862",
            "1309556657084bb48efb40632593ab11",
            "bc164e08e18e45d2b74f38c9833bbed0",
            "e7b790827bf946aa835956763baa36b4",
            "848933a2e98b47c2b411a9222c657485",
            "d6a7a8c47b50424eb5976f21dd781e89",
            "b519155af27f46bb8d5226394185c523",
            "f1312967eb3f4d9ca8217621f307f3af",
            "70dcaf733e5647e9851f205ae3d55204",
            "c0cf0d2006f6479cbc3837ac3119153d",
            "4dcce383c04c4373a2a3d0b91b2a8cee",
            "bc40901093b34d3a9a9b9e3de8e935b2",
            "87b5dafffcfd4eb4939fb062ee1a884b",
            "80ee5f748e4c4162870a217114fc0240",
            "41af2d2571c64c66ac4e262d833c3ccf",
            "03d585349c1a418589ad38706acca77e",
            "1f8f1e8ce6c14178bf9039245be86211",
            "453d929ac38246ba9602dc6ccc84e31d",
            "ac7b496485634baabd6a866758db8f1b",
            "1b648dfe536a4eb88ab873c9c078864f",
            "32a7482913f340f08b2dc063d09e5d48",
            "fd0e29eadc3e4131a62f2f0de570f89a",
            "f83669bf32b844d9bb54d0129b5500bc",
            "48a98db7029e4a46b179c77bc174061f",
            "8590b8c48d774f0ca636967ffeb162ba",
            "492cea501a94472d8bf8cef374b242db",
            "145f6f2ce0534ae8a7d121eed925f318",
            "93008d2268b44176b8daec1709631673",
            "f0501ee18bf5481d93225315c565b5f3",
            "908083b8de1a4478bdf181aa68d29f3c",
            "d71461aa00d749678a7c5eb7b5949cdc",
            "5128a3aba8264774a62024efcb8ac950",
            "47a0f12a29cc4ed3bff269fa500651ab",
            "5d50ad84dfda4b0087e4243c4f6ba79d",
            "c177b8a7589f47c48b767063f0a51829",
            "922ebd2670424166b3f19c0f94996111",
            "bd184bd8159144e88c113ef3e981a5f7",
            "156ed7761f734cd383f37bdf417ae933",
            "09b13ece9da349eab6097853ec3d6a42",
            "3e647c8ab2cc4a02936fdb5834b4ba3b"
          ]
        },
        "outputId": "94bd1ca0-5d1d-4f01-9837-d20b8b935a5e"
      },
      "outputs": [
        {
          "output_type": "stream",
          "name": "stderr",
          "text": [
            "/usr/local/lib/python3.10/dist-packages/huggingface_hub/utils/_token.py:89: UserWarning: \n",
            "The secret `HF_TOKEN` does not exist in your Colab secrets.\n",
            "To authenticate with the Hugging Face Hub, create a token in your settings tab (https://huggingface.co/settings/tokens), set it as secret in your Google Colab and restart your session.\n",
            "You will be able to reuse this secret in all of your notebooks.\n",
            "Please note that authentication is recommended but still optional to access public models or datasets.\n",
            "  warnings.warn(\n"
          ]
        },
        {
          "output_type": "display_data",
          "data": {
            "text/plain": [
              "tokenizer_config.json:   0%|          | 0.00/49.0 [00:00<?, ?B/s]"
            ],
            "application/vnd.jupyter.widget-view+json": {
              "version_major": 2,
              "version_minor": 0,
              "model_id": "b1865ae390c54ff5b591e267cb2152e2"
            }
          },
          "metadata": {}
        },
        {
          "output_type": "display_data",
          "data": {
            "text/plain": [
              "config.json:   0%|          | 0.00/619 [00:00<?, ?B/s]"
            ],
            "application/vnd.jupyter.widget-view+json": {
              "version_major": 2,
              "version_minor": 0,
              "model_id": "f1312967eb3f4d9ca8217621f307f3af"
            }
          },
          "metadata": {}
        },
        {
          "output_type": "display_data",
          "data": {
            "text/plain": [
              "vocab.txt:   0%|          | 0.00/250k [00:00<?, ?B/s]"
            ],
            "application/vnd.jupyter.widget-view+json": {
              "version_major": 2,
              "version_minor": 0,
              "model_id": "ac7b496485634baabd6a866758db8f1b"
            }
          },
          "metadata": {}
        },
        {
          "output_type": "display_data",
          "data": {
            "text/plain": [
              "model.safetensors:   0%|          | 0.00/438M [00:00<?, ?B/s]"
            ],
            "application/vnd.jupyter.widget-view+json": {
              "version_major": 2,
              "version_minor": 0,
              "model_id": "908083b8de1a4478bdf181aa68d29f3c"
            }
          },
          "metadata": {}
        },
        {
          "output_type": "stream",
          "name": "stderr",
          "text": [
            "Some weights of the model checkpoint at beomi/kcbert-base were not used when initializing BertForMaskedLM: ['bert.pooler.dense.bias', 'bert.pooler.dense.weight', 'cls.seq_relationship.bias', 'cls.seq_relationship.weight']\n",
            "- This IS expected if you are initializing BertForMaskedLM from the checkpoint of a model trained on another task or with another architecture (e.g. initializing a BertForSequenceClassification model from a BertForPreTraining model).\n",
            "- This IS NOT expected if you are initializing BertForMaskedLM from the checkpoint of a model that you expect to be exactly identical (initializing a BertForSequenceClassification model from a BertForSequenceClassification model).\n"
          ]
        }
      ],
      "source": [
        "#Huggingface의 원본 모델 로드\n",
        "#BertForMaskedLM 구조에 맞게 모델 불러오기\n",
        "HUGGINGFACE_MODEL_PATH = 'beomi/kcbert-base'\n",
        "\n",
        "tokenizer = AutoTokenizer.from_pretrained(HUGGINGFACE_MODEL_PATH)\n",
        "model = BertForMaskedLM.from_pretrained(HUGGINGFACE_MODEL_PATH)"
      ]
    },
    {
      "cell_type": "code",
      "source": [
        "#Trainer가 알아서 gpu를 감지하고 모델과 데이터를 gpu로 옮겨줌\n",
        "# #GPU 사용 코드\n",
        "# device = torch.device(\"cuda\" if torch.cuda.is_available() else \"cpu\")\n",
        "\n",
        "# #파이프라인을 사용하는 경우 GPU로 모델을 옮겨준 뒤 파이프라인에 모델을 넣어줘야 함\n",
        "# model.to(device)"
      ],
      "metadata": {
        "id": "GiV7YeRg7oVq"
      },
      "execution_count": null,
      "outputs": []
    },
    {
      "cell_type": "code",
      "source": [
        "#soynlp tokenizer를 Pretrain 데이터로 학습\n",
        "pretrain_list = df_pretrain['text'].to_list()\n",
        "\n",
        "word_extractor = WordExtractor(min_frequency = 5)\n",
        "word_extractor.train(pretrain_list)\n",
        "word_score_table = word_extractor.extract()"
      ],
      "metadata": {
        "id": "Qs1LsIZcp-hj",
        "colab": {
          "base_uri": "https://localhost:8080/"
        },
        "outputId": "7ea79b6b-680c-4088-e9d4-c36dd87db899"
      },
      "execution_count": null,
      "outputs": [
        {
          "output_type": "stream",
          "name": "stdout",
          "text": [
            "training was done. used memory 1.603 Gb\n",
            "all cohesion probabilities was computed. # words = 26581\n",
            "all branching entropies was computed # words = 59896\n",
            "all accessor variety was computed # words = 59896\n"
          ]
        }
      ]
    },
    {
      "cell_type": "code",
      "source": [
        "print(word_score_table['picker'])"
      ],
      "metadata": {
        "id": "LnnplUtjbjk0",
        "colab": {
          "base_uri": "https://localhost:8080/"
        },
        "outputId": "9478d42c-205e-4ef7-987a-c6ad80852106"
      },
      "execution_count": null,
      "outputs": [
        {
          "output_type": "stream",
          "name": "stdout",
          "text": [
            "Scores(cohesion_forward=0.4846039848864778, cohesion_backward=0.35785416966332295, left_branching_entropy=0, right_branching_entropy=1.1919038879225412, left_accessor_variety=0, right_accessor_variety=4, leftside_frequency=24, rightside_frequency=5)\n"
          ]
        }
      ]
    },
    {
      "cell_type": "code",
      "source": [
        "# 예제로 몇 가지 단어 점수 확인\n",
        "for word, score in word_score_table.items():\n",
        "    print(f\"{word}: {score.cohesion_forward:.2f}\")"
      ],
      "metadata": {
        "id": "YgSr7iXqePiV"
      },
      "execution_count": null,
      "outputs": []
    },
    {
      "cell_type": "code",
      "source": [
        "cohesion_score = {word:score.cohesion_forward for word, score in word_score_table.items()}"
      ],
      "metadata": {
        "id": "2VMmt8Y1Fai6"
      },
      "execution_count": null,
      "outputs": []
    },
    {
      "cell_type": "code",
      "source": [
        "Ltokenizer = LTokenizer(scores = cohesion_score)\n",
        "Maxtokenizer = MaxScoreTokenizer(scores = cohesion_score)"
      ],
      "metadata": {
        "id": "ZAJu2PSlEp5M"
      },
      "execution_count": null,
      "outputs": []
    },
    {
      "cell_type": "code",
      "source": [
        "sentence = '자바스크립트 개발 경험이 있으신 경우라면 DateTime Picker 엘레먼트에 ID를 부여해서 자바스크립트 코드로 date 함수와 DOM을 핸들링해서 직접 처리해서 쉽게 구현하실 수가 있을 듯 합니다.'\n",
        "\n",
        "print(Ltokenizer.tokenize(sentence))\n",
        "print(Maxtokenizer.tokenize(sentence))"
      ],
      "metadata": {
        "colab": {
          "base_uri": "https://localhost:8080/"
        },
        "id": "V6KFQ9tHFvvJ",
        "outputId": "d71dd695-787d-4dd5-ae71-ebba67e06813"
      },
      "execution_count": null,
      "outputs": [
        {
          "output_type": "stream",
          "name": "stdout",
          "text": [
            "['자바스크립트', '개발', '경험이', '있으신', '경우', '라면', 'Dat', 'eTime', 'Picker', '엘레먼트', '에', 'ID', '를', '부여해서', '자바스크립트', '코드', '로', 'dat', 'e', '함수', '와', 'DOM을', '핸들링', '해서', '직접', '처리', '해서', '쉽게', '구현', '하실', '수가', '있을', '듯', '합니다', '.']\n",
            "['자바스크립트', '개발', '경험이', '있으신', '경우', '라면', 'Dat', 'e', 'Time', 'Pic', 'ke', 'r', '엘레먼트', '에', 'ID', '를', '부여해서', '자바스크립트', '코드', '로', 'dat', 'e', '함수', '와', 'DOM을', '핸들링', '해서', '직접', '처리', '해서', '쉽게', '구현', '하실', '수가', '있을', '듯', '합니다', '.']\n"
          ]
        }
      ]
    },
    {
      "cell_type": "code",
      "source": [
        "sentence = ' 지원하는 기능이 많을수록 느립니다. BDK는 확실히 로딩속도가 느립니다.Natively는 기능이 적은 대신에 로딩속도는 조금 빠른 편이더군요. :)'\n",
        "\n",
        "print(Ltokenizer.tokenize(sentence))\n",
        "print(Maxtokenizer.tokenize(sentence))"
      ],
      "metadata": {
        "colab": {
          "base_uri": "https://localhost:8080/"
        },
        "id": "1szp_3AfJwHV",
        "outputId": "7addc63d-2181-422f-cf6a-eb78755e591b"
      },
      "execution_count": null,
      "outputs": [
        {
          "output_type": "stream",
          "name": "stdout",
          "text": [
            "['지원하는', '기능', '이', '많을수록', '느립니다.', 'BDK', '는', '확실히', '로딩속도가', '느립니다.', 'Natively는', '기능', '이', '적은', '대신에', '로딩속도', '는', '조금', '빠른', '편이', '더군요.', ':)']\n",
            "['지', '원하는', '기능', '이', '많을수록', '느립니다.', 'BDK', '는', '확실히', '로딩', '속도', '가', '느립니다.', 'Natively', '는', '기능', '이', '적은', '대신에', '로딩', '속도', '는', '조금', '빠른', '편이', '더군요.', ':)']\n"
          ]
        }
      ]
    },
    {
      "cell_type": "code",
      "source": [
        "# 높은 cohesion 점수를 가진 단어들을 선택하여 단어사전 구성\n",
        "threshold = 0.1  # 점수 기준 설정\n",
        "new_vocab = [word for word, score in word_score_table.items() if score.cohesion_forward > threshold]\n",
        "\n",
        "# 선택된 단어 출력\n",
        "print(new_vocab)"
      ],
      "metadata": {
        "id": "pzm-dfEzeUJk"
      },
      "execution_count": null,
      "outputs": []
    },
    {
      "cell_type": "code",
      "source": [
        "# 새로운 단어 토크나이저에 추가\n",
        "num_added_toks = tokenizer.add_tokens(new_vocab)\n",
        "print(f\"Added {num_added_toks} tokens\")\n",
        "\n",
        "# 모델의 임베딩 크기 조정\n",
        "model.resize_token_embeddings(len(tokenizer))"
      ],
      "metadata": {
        "id": "0nQBWVrDeVoZ",
        "colab": {
          "base_uri": "https://localhost:8080/"
        },
        "outputId": "2a5519d1-5a9a-41e4-d1f0-59bce9875d95"
      },
      "execution_count": null,
      "outputs": [
        {
          "output_type": "stream",
          "name": "stdout",
          "text": [
            "Added 12400 tokens\n"
          ]
        },
        {
          "output_type": "execute_result",
          "data": {
            "text/plain": [
              "Embedding(40596, 768)"
            ]
          },
          "metadata": {},
          "execution_count": 7
        }
      ]
    },
    {
      "cell_type": "code",
      "source": [
        "#MLM 데이터셋 준비\n",
        "corpus = pretrain_list\n",
        "tokenized_corpus = tokenizer(corpus, add_special_tokens = True, max_length = model.config.max_position_embeddings, truncation = True, padding = 'max_length', return_tensors = 'pt')"
      ],
      "metadata": {
        "id": "OqnrjM0tf9gi"
      },
      "execution_count": null,
      "outputs": []
    },
    {
      "cell_type": "code",
      "source": [
        "print(tokenized_corpus)"
      ],
      "metadata": {
        "colab": {
          "base_uri": "https://localhost:8080/"
        },
        "id": "F-Ao2Bz5NvKu",
        "outputId": "3ab77a2b-ecbc-4fff-86ab-34c7c5a4727d"
      },
      "execution_count": null,
      "outputs": [
        {
          "output_type": "stream",
          "name": "stdout",
          "text": [
            "{'input_ids': tensor([[    2, 10306,  9206,  ...,     0,     0,     0],\n",
            "        [    2, 18702,  1572,  ...,     0,     0,     0],\n",
            "        [    2, 39402,  8606,  ...,     0,     0,     0],\n",
            "        ...,\n",
            "        [    2, 39950,    17,  ...,     0,     0,     0],\n",
            "        [    2,  8108, 35185,  ...,     0,     0,     0],\n",
            "        [    2, 29952, 10220,  ...,     0,     0,     0]]), 'token_type_ids': tensor([[0, 0, 0,  ..., 0, 0, 0],\n",
            "        [0, 0, 0,  ..., 0, 0, 0],\n",
            "        [0, 0, 0,  ..., 0, 0, 0],\n",
            "        ...,\n",
            "        [0, 0, 0,  ..., 0, 0, 0],\n",
            "        [0, 0, 0,  ..., 0, 0, 0],\n",
            "        [0, 0, 0,  ..., 0, 0, 0]]), 'attention_mask': tensor([[1, 1, 1,  ..., 0, 0, 0],\n",
            "        [1, 1, 1,  ..., 0, 0, 0],\n",
            "        [1, 1, 1,  ..., 0, 0, 0],\n",
            "        ...,\n",
            "        [1, 1, 1,  ..., 0, 0, 0],\n",
            "        [1, 1, 1,  ..., 0, 0, 0],\n",
            "        [1, 1, 1,  ..., 0, 0, 0]])}\n"
          ]
        }
      ]
    },
    {
      "cell_type": "code",
      "source": [
        "#MLM을 위한 데이터셋의 일부를 [MASK] 토큰으로 교체하는 함수\n",
        "def mask_input_ids(input_ids, tokenizer, mlm_probability=0.15):\n",
        "    labels = input_ids.clone()\n",
        "\n",
        "    #각 입력에서 특수 토큰은 마스킹하지 않도록 설정\n",
        "    special_tokens_mask = [\n",
        "      torch.tensor(tokenizer.get_special_tokens_mask(val, already_has_special_tokens=True), dtype = torch.bool)\n",
        "      for val in input_ids]\n",
        "    special_tokens_mask = torch.stack(special_tokens_mask)\n",
        "\n",
        "    #마스킹 확률을 적용해 마스크 생성\n",
        "    probability_matrix = torch.full(labels.shape, mlm_probability)\n",
        "    probability_matrix.masked_fill_(special_tokens_mask, value=0.0)\n",
        "    masked_indices = torch.bernoulli(probability_matrix).bool()\n",
        "\n",
        "    # PyTorch에서 사용하는 masked loss 계산을 위해 마스킹 되지 않은 부분은 -100으로 설정\n",
        "    labels[~masked_indices] = -100\n",
        "\n",
        "    # `[MASK]` 토큰으로 대체\n",
        "    input_ids[masked_indices] = tokenizer.convert_tokens_to_ids(tokenizer.mask_token)\n",
        "    return input_ids, labels"
      ],
      "metadata": {
        "id": "QqeXyRL9OPqZ"
      },
      "execution_count": null,
      "outputs": []
    },
    {
      "cell_type": "code",
      "source": [
        "#과적합 방지를 위한 EarlyStopping 클래스\n",
        "class EarlyStoppingCallback(TrainerCallback):\n",
        "    def __init__(self, patience=3):\n",
        "        self.patience = patience\n",
        "        self.counter = 0\n",
        "        self.best_score = None\n",
        "        self.early_stop = False\n",
        "\n",
        "    def on_evaluate(self, args, state, control, **kwargs):\n",
        "        # 현재 검증 손실 가져오기\n",
        "        current_loss = kwargs['metrics']['eval_loss']\n",
        "\n",
        "        # 최고 성능 갱신 또는 카운터 증가\n",
        "        if self.best_score is None:\n",
        "            self.best_score = current_loss\n",
        "        elif current_loss > self.best_score:\n",
        "            self.counter += 1\n",
        "            if self.counter >= self.patience:\n",
        "                self.early_stop = True\n",
        "                control.should_training_stop = True\n",
        "        else:\n",
        "            self.best_score = current_loss\n",
        "            self.counter = 0"
      ],
      "metadata": {
        "id": "xAfsY0WkKMyH"
      },
      "execution_count": null,
      "outputs": []
    },
    {
      "cell_type": "code",
      "source": [
        "#MLM을 위한 masked 데이터셋 생성(MLM에서는 stratify 적용하지 않음.)\n",
        "masked_inputs, labels = mask_input_ids(tokenized_corpus['input_ids'], tokenizer)\n",
        "pretrain_dict = {'input_ids' : masked_inputs, 'attention_mask' : tokenized_corpus['attention_mask'], 'labels' : labels}\n",
        "pretrain_dataset = Dataset.from_dict(pretrain_dict)\n",
        "pretrain_dataset = dataset.train_test_split(test_size = 0.1)"
      ],
      "metadata": {
        "id": "RHXVcwJ2O3eH"
      },
      "execution_count": null,
      "outputs": []
    },
    {
      "cell_type": "code",
      "source": [
        "# 훈련 설정\n",
        "training_args = TrainingArguments(\n",
        "    output_dir = './results',\n",
        "    evaluation_strategy = 'steps',\n",
        "    eval_steps = 500,\n",
        "    save_strategy = \"steps\",\n",
        "    save_steps = 500,\n",
        "    num_train_epochs = 3,\n",
        "    save_total_limit = 2,\n",
        "    per_device_eval_batch_size = 8,\n",
        "    per_device_train_batch_size = 8,\n",
        "    warmup_steps = 300, #고려사항\n",
        "    weight_decay = 0.01, #고려사항\n",
        "    logging_dir = \"./logs\",\n",
        "    load_best_model_at_end = True\n",
        ")\n",
        "\n",
        "# 트레이너 생성\n",
        "trainer = Trainer(\n",
        "    model = model,\n",
        "    args = training_args,\n",
        "    train_dataset = pretrain_dataset['train'],\n",
        "    eval_dataset = pretrain_dataset['test'],\n",
        "    callbacks = [EarlyStoppingCallback(patience = 3)]\n",
        ")\n",
        "\n",
        "# 훈련 시작\n",
        "trainer.train()"
      ],
      "metadata": {
        "colab": {
          "base_uri": "https://localhost:8080/",
          "height": 410
        },
        "id": "1EWb_-k2yFmG",
        "outputId": "fccdc35f-6850-4bd7-d103-5073f46c2bc9"
      },
      "execution_count": null,
      "outputs": [
        {
          "output_type": "display_data",
          "data": {
            "text/plain": [
              "<IPython.core.display.HTML object>"
            ],
            "text/html": [
              "\n",
              "    <div>\n",
              "      \n",
              "      <progress value='4500' max='9852' style='width:300px; height:20px; vertical-align: middle;'></progress>\n",
              "      [4500/9852 56:13 < 1:06:53, 1.33 it/s, Epoch 1/3]\n",
              "    </div>\n",
              "    <table border=\"1\" class=\"dataframe\">\n",
              "  <thead>\n",
              " <tr style=\"text-align: left;\">\n",
              "      <th>Step</th>\n",
              "      <th>Training Loss</th>\n",
              "      <th>Validation Loss</th>\n",
              "    </tr>\n",
              "  </thead>\n",
              "  <tbody>\n",
              "    <tr>\n",
              "      <td>500</td>\n",
              "      <td>7.548800</td>\n",
              "      <td>7.209426</td>\n",
              "    </tr>\n",
              "    <tr>\n",
              "      <td>1000</td>\n",
              "      <td>7.199600</td>\n",
              "      <td>7.069717</td>\n",
              "    </tr>\n",
              "    <tr>\n",
              "      <td>1500</td>\n",
              "      <td>7.081100</td>\n",
              "      <td>6.915367</td>\n",
              "    </tr>\n",
              "    <tr>\n",
              "      <td>2000</td>\n",
              "      <td>6.934800</td>\n",
              "      <td>6.838158</td>\n",
              "    </tr>\n",
              "    <tr>\n",
              "      <td>2500</td>\n",
              "      <td>6.908200</td>\n",
              "      <td>6.733906</td>\n",
              "    </tr>\n",
              "    <tr>\n",
              "      <td>3000</td>\n",
              "      <td>6.756900</td>\n",
              "      <td>6.651452</td>\n",
              "    </tr>\n",
              "    <tr>\n",
              "      <td>3500</td>\n",
              "      <td>5.883700</td>\n",
              "      <td>6.803591</td>\n",
              "    </tr>\n",
              "    <tr>\n",
              "      <td>4000</td>\n",
              "      <td>4.806200</td>\n",
              "      <td>6.711576</td>\n",
              "    </tr>\n",
              "    <tr>\n",
              "      <td>4500</td>\n",
              "      <td>4.815900</td>\n",
              "      <td>6.654977</td>\n",
              "    </tr>\n",
              "  </tbody>\n",
              "</table><p>"
            ]
          },
          "metadata": {}
        },
        {
          "output_type": "stream",
          "name": "stderr",
          "text": [
            "There were missing keys in the checkpoint model loaded: ['cls.predictions.decoder.weight', 'cls.predictions.decoder.bias'].\n"
          ]
        },
        {
          "output_type": "execute_result",
          "data": {
            "text/plain": [
              "TrainOutput(global_step=4500, training_loss=6.4372587890625, metrics={'train_runtime': 3375.2853, 'train_samples_per_second': 23.346, 'train_steps_per_second': 2.919, 'total_flos': 5551703876980800.0, 'train_loss': 6.4372587890625, 'epoch': 1.3702801461632155})"
            ]
          },
          "metadata": {},
          "execution_count": 13
        }
      ]
    },
    {
      "cell_type": "code",
      "source": [
        " #google drive에 학습된 모델을 저장\n",
        "save_path = '/content/drive/My Drive/Pretrained_Model'\n",
        "\n",
        "model.save_pretrained(save_path)\n",
        "tokenizer.save_pretrained(save_path)"
      ],
      "metadata": {
        "id": "JrMF8WdbPBQQ",
        "colab": {
          "base_uri": "https://localhost:8080/"
        },
        "outputId": "87fab08c-6127-45ea-d3ef-a315e4fbec6d"
      },
      "execution_count": null,
      "outputs": [
        {
          "output_type": "execute_result",
          "data": {
            "text/plain": [
              "('/content/drive/My Drive/Pretrained_Model/tokenizer_config.json',\n",
              " '/content/drive/My Drive/Pretrained_Model/special_tokens_map.json',\n",
              " '/content/drive/My Drive/Pretrained_Model/vocab.txt',\n",
              " '/content/drive/My Drive/Pretrained_Model/added_tokens.json',\n",
              " '/content/drive/My Drive/Pretrained_Model/tokenizer.json')"
            ]
          },
          "metadata": {},
          "execution_count": 14
        }
      ]
    },
    {
      "cell_type": "markdown",
      "source": [
        "Labeled NSP 데이터셋으로 파인튜닝"
      ],
      "metadata": {
        "id": "dc2y1i8yNWNu"
      }
    },
    {
      "cell_type": "code",
      "source": [
        "#훈련 데이터 불러오기\n",
        "finetune_dataset_path = '/content/drive/My Drive/KcBERT_finetune_dataset.xlsx'\n",
        "df_finetune = pd.read_excel(finetune_dataset_path, index_col = 0)"
      ],
      "metadata": {
        "id": "agxfClgCTpOC"
      },
      "execution_count": null,
      "outputs": []
    },
    {
      "cell_type": "code",
      "source": [
        "#MLM으로 훈련된 모델 로드\n",
        "#BertForNextSentencePrediction 구조에 맞게 모델 불러오기\n",
        "pretrained_model_load_path = '/content/drive/My Drive/Pretrained_Model'\n",
        "\n",
        "pretrained_tokenizer = AutoTokenizer.from_pretrained(pretrained_model_load_path)\n",
        "pretrained_model = BertForNextSentencePrediction.from_pretrained(pretrained_model_load_path)"
      ],
      "metadata": {
        "id": "XRbEdULoQSFf",
        "colab": {
          "base_uri": "https://localhost:8080/"
        },
        "outputId": "67aa8474-62a3-4ea4-deee-d81b0f30d90d"
      },
      "execution_count": null,
      "outputs": [
        {
          "output_type": "stream",
          "name": "stderr",
          "text": [
            "Special tokens have been added in the vocabulary, make sure the associated word embeddings are fine-tuned or trained.\n",
            "Some weights of BertForNextSentencePrediction were not initialized from the model checkpoint at /content/drive/My Drive/Pretrained_Model and are newly initialized: ['bert.pooler.dense.bias', 'bert.pooler.dense.weight', 'cls.seq_relationship.bias', 'cls.seq_relationship.weight']\n",
            "You should probably TRAIN this model on a down-stream task to be able to use it for predictions and inference.\n"
          ]
        }
      ]
    },
    {
      "cell_type": "code",
      "source": [
        "device = torch.device(\"cuda\" if torch.cuda.is_available() else \"cpu\")"
      ],
      "metadata": {
        "id": "abTuVOQ0OfQj"
      },
      "execution_count": null,
      "outputs": []
    },
    {
      "cell_type": "code",
      "source": [
        "print(df_finetune)\n",
        "dataset = Dataset.from_pandas(df_finetune)\n",
        "print(dataset)\n",
        "print(df_finetune[df_finetune['sent2'].isnull()])"
      ],
      "metadata": {
        "colab": {
          "base_uri": "https://localhost:8080/"
        },
        "id": "VLIeU848YMm9",
        "outputId": "6fdee17c-704f-4497-cf2f-093452ca827b"
      },
      "execution_count": null,
      "outputs": [
        {
          "output_type": "stream",
          "name": "stdout",
          "text": [
            "                                                  sent1  \\\n",
            "0     안녕하세요! 우선 모두의노코드 사이트 런칭을 축하드립니다.이렇게 첫번째 질문 글을 ...   \n",
            "1     안녕하세요.모두의 노코드 런칭을 축하드립니다. 앞으로 좋은 활동 기대합니다. 현재 ...   \n",
            "2     안녕하세요.모두의 노코드 런칭을 축하드립니다. 앞으로 좋은 활동 기대합니다. 현재 ...   \n",
            "3     안녕하세요.제주도에서 노션으로 동네 친구 매칭 서비스를 만들고 있습니다.어제 웨비나...   \n",
            "4     모두의노코드 만드신 분들께 질문 드리고 싶어요.제가 버블로 만든 서비스 관련해 모바...   \n",
            "...                                                 ...   \n",
            "5819   안녕하세요 버블 고수님들!버블 데이터 처리 관련 질문 있습니다!기존에 있는 데이터...   \n",
            "5820   안녕하세요 버블 고수님들!버블 데이터 처리 관련 질문 있습니다!기존에 있는 데이터...   \n",
            "5821   안녕하세요 버블 고수님들!버블 데이터 처리 관련 질문 있습니다!기존에 있는 데이터...   \n",
            "5822   안녕하세요 버블 고수님들!버블 데이터 처리 관련 질문 있습니다!기존에 있는 데이터...   \n",
            "5823   안녕하세요 버블 고수님들!버블 데이터 처리 관련 질문 있습니다!기존에 있는 데이터...   \n",
            "\n",
            "                                                  sent2  label  sent2_index  \n",
            "0     저도 궁금해져서 열심히 찾아봤는데 콜아웃 같은 블록을 넣는 명령어나 함수는 찾지 못...      1          0.0  \n",
            "1     헤더그룹 안에 로고와 CTA를 넣으시고 max width를 지정하시면 될 것 같아요...      1          1.0  \n",
            "2     모두의노코드를 여쭤보신 것인지 모르겠어서 이게 맞는지는 모르겠습니다.모두의노코드의 ...      1          1.0  \n",
            "3     충분히 버블로 개발가능할 것 같아요! 이미 비슷한 수준의 어플을 개발한 사례가 많아...      1          2.0  \n",
            "4     폴리미 가입해야지 가입해야지 하다가 바로 가입했습니다. 정신이 없었네요. 좋은 프로...      1          3.0  \n",
            "...                                                 ...    ...          ...  \n",
            "5819                                          웨이브온 좋아요~      0          NaN  \n",
            "5820            K는 1천 단위를 의미해요. 250K WU는 25만 워크로드입니다 ㅎㅎ      0          NaN  \n",
            "5821   Visibility를 껐다 켰을 때 해당 엘리먼트 내의 스크롤 위치가 보존된다면 ...      0          NaN  \n",
            "5822   개념 상의 차이로 생각해주시면 좋을 것 같습니다.인스타의 경우 닉네임 자체만으로 ...      0          NaN  \n",
            "5823                         버블 기본 DB가 제일 빠를 거예요 아마..ㅎㅎ      0          NaN  \n",
            "\n",
            "[5824 rows x 4 columns]\n",
            "Dataset({\n",
            "    features: ['sent1', 'sent2', 'label', 'sent2_index', '__index_level_0__'],\n",
            "    num_rows: 5824\n",
            "})\n",
            "Empty DataFrame\n",
            "Columns: [sent1, sent2, label, sent2_index]\n",
            "Index: []\n"
          ]
        }
      ]
    },
    {
      "cell_type": "code",
      "source": [
        "# NSP 데이터셋 준비(NSP 태스크에서는 stratify 적용)\n",
        "def tokenize_function(examples):\n",
        "    return pretrained_tokenizer(examples['sent1'], examples['sent2'], truncation = True, padding = \"max_length\", max_length = pretrained_model.config.max_position_embeddings)\n",
        "\n",
        "dataset = Dataset.from_pandas(df_finetune)\n",
        "finetune_dataset = dataset.map(tokenize_function, batched=True)\n",
        "finetune_dataset = finetune_dataset.class_encode_column('label')\n",
        "finetune_dataset = finetune_dataset.train_test_split(test_size = 0.1, stratify_by_column = 'label')"
      ],
      "metadata": {
        "id": "rDPTWa33gT2E",
        "colab": {
          "base_uri": "https://localhost:8080/",
          "height": 113,
          "referenced_widgets": [
            "85ae007003b0493e8a808e205614b3e3",
            "47c74912a6574193b8fc0c1df6a4f8df",
            "4849dae4eccd4857a3476dc4dfc64980",
            "8d9063b6923542b59b169c9a1a32afc6",
            "2385347be6244b53b5623eb244e5914c",
            "1523aeb2b45e4692bd1dde759479f67f",
            "3f9999bdc0c04978a5174a1cce8912b4",
            "ac54a9448b68411b8d71de053a6d0349",
            "be413307c7004046af1b3c4f654e0b0b",
            "bb48a2db51594cb197f18ecc7e53a631",
            "35661ddfd48941279e1c4d3b28d8962b",
            "38e55ab71cf64bd38bccda61d36fd2c0",
            "69326fd1d05c4b489aa751362c6cd363",
            "dd7fa47014004086b3a2a28aeb7632aa",
            "be6ec020d7e44282af867bf45f8d6daf",
            "f1ea3dbe89224f5fb8faa9a04b1cbcfa",
            "6b9341dcedbf452890a396129a741ac3",
            "742f8de43b1d49cf80a65d4478617b00",
            "f952ca64db504ce197be935658598249",
            "fef8a71b2a46438d875c06070559979f",
            "defa9c00b4c449a7813a6578df30fd7f",
            "bfbc02db1ded4442a5ef0c5a78adf71d",
            "a836a07f0a23451eaaf2ec9cb5e4927b",
            "e3081579f3994084b07ba23c559357e6",
            "7b0dc85d09614bceaf36ebd84ecc0da1",
            "140393eb6abb4cc9b12fd647dbb4f388",
            "1e83cb0b265349719a4d232d139bf4f0",
            "a9eb19aa34e2416181fafb3268d202e4",
            "a571bea3553b486a9a43eabd9e67cce0",
            "4090ae1c8ba64f809b2a6671c8669f1b",
            "9fcb7f367b6e44aa96f26cc594f672a4",
            "ef66aa2f6e4e4a3080903b943b9a2e83",
            "0681775ed4b242fda9485e03a48be1ee"
          ]
        },
        "outputId": "c1595d58-15bd-4e0e-d734-f0eb2dcf9a11"
      },
      "execution_count": null,
      "outputs": [
        {
          "output_type": "display_data",
          "data": {
            "text/plain": [
              "Map:   0%|          | 0/5824 [00:00<?, ? examples/s]"
            ],
            "application/vnd.jupyter.widget-view+json": {
              "version_major": 2,
              "version_minor": 0,
              "model_id": "85ae007003b0493e8a808e205614b3e3"
            }
          },
          "metadata": {}
        },
        {
          "output_type": "display_data",
          "data": {
            "text/plain": [
              "Stringifying the column:   0%|          | 0/5824 [00:00<?, ? examples/s]"
            ],
            "application/vnd.jupyter.widget-view+json": {
              "version_major": 2,
              "version_minor": 0,
              "model_id": "38e55ab71cf64bd38bccda61d36fd2c0"
            }
          },
          "metadata": {}
        },
        {
          "output_type": "display_data",
          "data": {
            "text/plain": [
              "Casting to class labels:   0%|          | 0/5824 [00:00<?, ? examples/s]"
            ],
            "application/vnd.jupyter.widget-view+json": {
              "version_major": 2,
              "version_minor": 0,
              "model_id": "a836a07f0a23451eaaf2ec9cb5e4927b"
            }
          },
          "metadata": {}
        }
      ]
    },
    {
      "cell_type": "code",
      "source": [
        "#훈련 설정\n",
        "training_args = TrainingArguments(\n",
        "    output_dir = './results',\n",
        "    evaluation_strategy = 'steps',\n",
        "    eval_steps = 200,\n",
        "    save_strategy = \"steps\",\n",
        "    save_steps = 200,\n",
        "    num_train_epochs = 3,\n",
        "    save_total_limit = 2,\n",
        "    per_device_eval_batch_size = 8,\n",
        "    per_device_train_batch_size = 8,\n",
        "    warmup_steps = 200, #고려사항\n",
        "    weight_decay = 0.01, #고려사항\n",
        "    logging_dir = \"./logs\",\n",
        "    load_best_model_at_end = True\n",
        ")\n",
        "\n",
        "# 트레이너 생성\n",
        "trainer = Trainer(\n",
        "    model = pretrained_model,\n",
        "    args = training_args,\n",
        "    train_dataset = finetune_dataset['train'],\n",
        "    eval_dataset = finetune_dataset['test'],\n",
        "    callbacks = [EarlyStoppingCallback(patience = 3)]\n",
        ")"
      ],
      "metadata": {
        "id": "YiZbIl0uMIx-"
      },
      "execution_count": null,
      "outputs": []
    },
    {
      "cell_type": "code",
      "source": [
        "trainer.train()"
      ],
      "metadata": {
        "id": "7dJK5A4eMM-C",
        "colab": {
          "base_uri": "https://localhost:8080/",
          "height": 298
        },
        "outputId": "f16bc2f0-1da2-4a97-8510-9494ab9d2219"
      },
      "execution_count": null,
      "outputs": [
        {
          "output_type": "display_data",
          "data": {
            "text/plain": [
              "<IPython.core.display.HTML object>"
            ],
            "text/html": [
              "\n",
              "    <div>\n",
              "      \n",
              "      <progress value='1200' max='1968' style='width:300px; height:20px; vertical-align: middle;'></progress>\n",
              "      [1200/1968 10:47 < 06:54, 1.85 it/s, Epoch 1/3]\n",
              "    </div>\n",
              "    <table border=\"1\" class=\"dataframe\">\n",
              "  <thead>\n",
              " <tr style=\"text-align: left;\">\n",
              "      <th>Step</th>\n",
              "      <th>Training Loss</th>\n",
              "      <th>Validation Loss</th>\n",
              "    </tr>\n",
              "  </thead>\n",
              "  <tbody>\n",
              "    <tr>\n",
              "      <td>200</td>\n",
              "      <td>No log</td>\n",
              "      <td>0.381404</td>\n",
              "    </tr>\n",
              "    <tr>\n",
              "      <td>400</td>\n",
              "      <td>No log</td>\n",
              "      <td>0.514776</td>\n",
              "    </tr>\n",
              "    <tr>\n",
              "      <td>600</td>\n",
              "      <td>0.383900</td>\n",
              "      <td>0.344357</td>\n",
              "    </tr>\n",
              "    <tr>\n",
              "      <td>800</td>\n",
              "      <td>0.383900</td>\n",
              "      <td>0.415382</td>\n",
              "    </tr>\n",
              "    <tr>\n",
              "      <td>1000</td>\n",
              "      <td>0.321400</td>\n",
              "      <td>0.428262</td>\n",
              "    </tr>\n",
              "    <tr>\n",
              "      <td>1200</td>\n",
              "      <td>0.321400</td>\n",
              "      <td>0.438409</td>\n",
              "    </tr>\n",
              "  </tbody>\n",
              "</table><p>"
            ]
          },
          "metadata": {}
        },
        {
          "output_type": "execute_result",
          "data": {
            "text/plain": [
              "TrainOutput(global_step=1200, training_loss=0.3405350685119629, metrics={'train_runtime': 647.5672, 'train_samples_per_second': 24.28, 'train_steps_per_second': 3.039, 'total_flos': 1478920519962000.0, 'train_loss': 0.3405350685119629, 'epoch': 1.8292682926829267})"
            ]
          },
          "metadata": {},
          "execution_count": 13
        }
      ]
    },
    {
      "cell_type": "code",
      "source": [
        "#google drive에 학습된 모델을 저장\n",
        "save_path = '/content/drive/My Drive/Finetuned_Model'\n",
        "\n",
        "pretrained_model.save_pretrained(save_path)\n",
        "pretrained_tokenizer.save_pretrained(save_path)"
      ],
      "metadata": {
        "id": "sS61oda_MW4m",
        "colab": {
          "base_uri": "https://localhost:8080/"
        },
        "outputId": "d536169b-2c11-4628-9cfa-3f3fd96c504d"
      },
      "execution_count": null,
      "outputs": [
        {
          "output_type": "execute_result",
          "data": {
            "text/plain": [
              "('/content/drive/My Drive/Finetuned_Model/tokenizer_config.json',\n",
              " '/content/drive/My Drive/Finetuned_Model/special_tokens_map.json',\n",
              " '/content/drive/My Drive/Finetuned_Model/vocab.txt',\n",
              " '/content/drive/My Drive/Finetuned_Model/added_tokens.json',\n",
              " '/content/drive/My Drive/Finetuned_Model/tokenizer.json')"
            ]
          },
          "metadata": {},
          "execution_count": 14
        }
      ]
    },
    {
      "cell_type": "markdown",
      "source": [
        "#모델 사용"
      ],
      "metadata": {
        "id": "yRVOU5bEgGHz"
      }
    },
    {
      "cell_type": "code",
      "source": [
        "#NSP로 훈련된 모델 로드\n",
        "finetuned_model_load_path = '/content/drive/My Drive/Finetuned_Model'\n",
        "\n",
        "finetuned_tokenizer = AutoTokenizer.from_pretrained(finetuned_model_load_path)\n",
        "finetuned_model = BertForNextSentencePrediction.from_pretrained(finetuned_model_load_path)"
      ],
      "metadata": {
        "id": "SI5nUJElRAgE",
        "colab": {
          "base_uri": "https://localhost:8080/"
        },
        "outputId": "5f354712-66d8-44bc-cff2-c3c5b3bc88e9"
      },
      "execution_count": null,
      "outputs": [
        {
          "output_type": "stream",
          "name": "stderr",
          "text": [
            "Special tokens have been added in the vocabulary, make sure the associated word embeddings are fine-tuned or trained.\n"
          ]
        }
      ]
    },
    {
      "cell_type": "code",
      "execution_count": null,
      "metadata": {
        "id": "fcQirWwI0K1l"
      },
      "outputs": [],
      "source": [
        "#카카오톡 데이터 불러오기\n",
        "file_path = '/content/drive/My Drive/judge_question_result_long.csv'"
      ]
    },
    {
      "cell_type": "code",
      "execution_count": null,
      "metadata": {
        "id": "03vWAudThdM2",
        "colab": {
          "base_uri": "https://localhost:8080/"
        },
        "outputId": "fc767375-e4a4-4c22-e302-ca32f30f7b4f"
      },
      "outputs": [
        {
          "output_type": "stream",
          "name": "stdout",
          "text": [
            "       Unnamed: 0.1  Unnamed: 0                 name  \\\n",
            "0                 0           0   하희철 / 기획, 마케팅, 노코드   \n",
            "1                 1           1             (알 수 없음)   \n",
            "2                 2           2   하희철 / 기획, 마케팅, 노코드   \n",
            "10               10          10   하희철 / 기획, 마케팅, 노코드   \n",
            "11               11          11                  한석희   \n",
            "...             ...         ...                  ...   \n",
            "17226         17226       17263                 코딩라멘   \n",
            "17228         17228       17265          유상수/서비스기획취준   \n",
            "17231         17231       17268               박서진/기획   \n",
            "17233         17233       17270                   민호   \n",
            "17234         17234       17271               박서진/기획   \n",
            "\n",
            "                                                    text     label  \n",
            "0                                                 안녕하세요~  question  \n",
            "1                                                 안녕하세요!  question  \n",
            "2              방 만든지 몇분 만에 들어오셔서 놀랐습니다 ㅎㅎ 노코드 방에서 오신건가요?  question  \n",
            "10                                                안녕하세요~  question  \n",
            "11                                         안녕하세요. 버블 전용?  question  \n",
            "...                                                  ...       ...  \n",
            "17226                           버블에서 성인인증을 추가할 방법이 있을까요?  question  \n",
            "17228               │커뮤니티│모두의노코드│모두를 위한 노코드 빌딩 포럼 커뮤니티 -  question  \n",
            "17231   안녕하세요! 버블을 써보려고 하는데요 궁금한 점이 있습니다! 버블로 구축할때 검색...  question  \n",
            "17233   사진 안녕하세요~혹시 스케줄에 예약된 항목에 대한 정보를 버블 front단에서 가...  question  \n",
            "17234   오 답변 감사합니다!혹시 버블 말고도 다른 웹빌더들도 이런 검색 기능이 가능한 곳...  question  \n",
            "\n",
            "[3656 rows x 5 columns]\n",
            "{' 안녕하세요~': 16600, ' 안녕하세요!': 15224, ' 방 만든지 몇분 만에 들어오셔서 놀랐습니다 ㅎㅎ 노코드 방에서 오신건가요?': 2, ' 안녕하세요. 버블 전용?': 11, ' 반갑습니다 반가워요~ 안녕하세요': 22, ' 방장이 방장봇을 활성화했습니다.앞으로 방장봇의 자동응답을 이용하실 수 있습니다. 지금 방장봇 소개를 확인해보세요!': 2893, ' 안녕하세요 !': 44, \" 주말인데 한가지 문의드립니다. 제가 버블을 처음 사용하는데 'create a new app'에서 선택한 내용을 변경하고 싶습니다. 앱 자체를 삭제하면 다시 그 이름을 사용할 수 없다고 하여, 변경을 하고 싶은데 어디에서 변경할 수 있나요? 사진 이 부분에서 선택한 사항 변경하고 싶습니다.\": 49, ' 아예 웹뷰앱에서는 작동을 안하나요?': 56, ' 사진 혹시 이건 왜 작동이 안되는걸까요?': 60, ' 아 무료 이미 다 써보셨다 그랬군요 ㅠ 그렇군요 모바일에서도 정상 작동 하던가요?': 65, ' 버블 editor 속도 관련해서 1. 크롬 사용2. 브라우저 새로고침3. reusable 로 element 개수 줄이기이외에 추가적인 개선방안 알고계시는분 있을까요? 컴퓨터 사양이라던지..': 71, ' 파이어폭스로 혹시 써보셨나요??': 73, ' 네네! 방 공지를 지금봐서\\U0001f979 잘 부탁드립니다🙈': 77, ' 희철님 혹시 맥북 쓰시나요? 방금 회사에서 맥북에어로 버블 보는데 엄청 빠르네요 ㅠㅠ': 84, ' 안녕하세요. 가입 인사 드립니다. 버블 관련하여 공부중인데,, 한글 가이드가 어디 없을까요?': 86, ' 혹시 버블로 플랫폼 만드시는 분들 쌩으로 하시나요 템플릿 구매해서 커스터마이징 하시나요~?🤔': 90, ' 혹시 쌩으로 하실 때 디자인 어떻게 관리하시나요?! 실제 서비스 될 플랫폼을 만들어야 해서 디자인적으로도 어느정도 퀄리티가 있어야 하는데 제플린, 피그마 툴 import도 엄청 깨지더라구요\\U0001f979': 92, ' 혹시 버블 에이전시 사용해보신 분이나 비용 아시는 분 계실까요?': 105, ' 에이전시가 2가지로 분류되는 걸로 알고 있습니다. 제작 관련해서는 알아보지 못해서 모르겠는데, 맞춤 교육 같은 경우는 시간당 한화 10~20만원 정도 했던 것 같고 거의 기본 코스 위주라 해보진 않았어요. 국내 에이전시는 있을런지 모르겠네요. 혹시 어떤 일 때문에 그러시는지 여쭤봐도 될까요?': 106, ' 버블 관련 유튜브강의같은거 추천해주실만한게 있으실까요?': 111, ' 버블이 웹빌더인데 웹사이트제작을 하는 툴로 이해하면될까요? 앱은 웹뷰형식으로 씌워야하나요?': 119, ' 오 어떤 서비스일까요?! 궁금합니다 방장님의 서비스🤩': 135, ' 혹시 프로덕션 플랜 이용해보신 분 계세요?': 138, ' 네트웍문제로 느린 게 아니라면 리전영향을 없을 것 같은데요. 혹시 사이트를 알려주시면 디버깅해서 어느 부분이 느린지 확인해 볼 수 있습니다.': 170, ' 사용량이 많아지면 느려지나요? 아니면 그냥?': 174, ' 제가 지금 반비동기 방식으로로 구현하는데 외부 백엔드를 쓰면 무조건 api커넥터로 데이터를 주고 받아야 하는 구조라서 jason님 말씀이 거의 맞는 것 같아요 백엔드를 api 말고 다른 방식으로 붙일 수 있는지는 모르겠으나 버블DB를 캐시로 쓰는 건 어떤건가요?': 185, ' 안녕하세요': 17221, ' localstorage plugin도 있었군요 ㅎㅎㅎ 희철님 좋은 정보 감사합니다☺️': 201, ' localstorage는 아이폰에서도 잘 되나요? 아이폰 보안 설정 때문에 막혀있는 경우가 종종 있어서요.': 202, ' 인스톨 51회에 리뷰도 없어서 써보기가 엄두가 안나더라고요 ㅎㅎ 혹시 어떤 오류가 발생하는지 알려주실 수 있을까요?': 210, ' 미리 DB로 받아두는건가요? 아하': 240, ' 버블로 앱 만들어서 채널톡 붙여본 분 있나요? 아이폰에서는 키보드가 입력창을 가리네요ㅠ': 257, ' 위치를 바꿔도 그러신가요?': 258, ' 안녕하세요. 버블로 앱 구현시 궁금한게 있어 문의드립니다. 혹시 버블로 만든 앱에도 구글 애널리틱스같은 앱 애널리틱스를 삽입할수 있을까요?? 혹시 불가능 하다면 심을수 있는 유사 트래킹툴이 어떤것이 있는지 궁금합니다.': 261, ' 저도 참여가 가능할까요??': 271, ' 혹시 8~9시 모임이라면 어디서 모이게되나요~?': 277, ' 안녕하세요버블에 대해 궁금한점이 있습니다.현재 버블에는 stripe,paypal이 결제연동이 되어 있다고 하는데 ,이니시스나 카카오페이같은 국내전자결제(PG)연동도 가능 한가요?': 280, ' 정보 공유 감사합니다!부트페이는 처음 들었내요! 혹시 공유 가능하시면 부탁드려도 괜찮을까요?🙏': 282, ' 혹시…버블에 카카오톡 소셜로그인도 가능한걸까요?': 285, ' 희철님, 소개글에 버블은 언급이 안되어있는데 어떤 식으로 활용하셧는지 궁금합니다!': 327, ' 단톡방 프로필명은 어디서 바꾸나요?': 332, ' 된건가요 ^^': 334, ' 희철님 - xano하고 버블하고 api커넥터로 주고받는걸로 이해하고있는데, 이게 이전에 속도 이슈가 있었던 부분인거죠? 캐시방식으로 변경했을때 속도가 이슈될정도는 아닌 수준으로 개선 되었나요?': 341, ' 희철님 현재 오픈하신 서비스가 있으신가요?': 343, ' 오 앱이신가요?': 345, ' 여기 디자인적인 요소까지 직접 하신거에요? 아니면 디자이너랑 협업 하신거에요??': 355, ' 지금은 DB가 Xano 인가용??': 364, ' Xano로 벡앤드 해서 느린건가요?': 368, ' 혹시 이 부분은 어떻게 알게 되시는건지 여쭤도 될까요..?': 374, \" 완전한 해결책은 아닌데요. 사실 저도 통계에서 그런 내용이 필요해서 한 가지 편법으로 하고 있습니다 ㅋㅋㅋ 보통 그런 경우 인풋 값을 변경하는게 트리거가 되잖아요? 그때 얼럿창을 띄웁니다 대충 로딩에 걸리는 시간대로 짜서 사진 사진 요런식으로 해놓으면 완벽하진 않지만 제법 자연스럽게 돌아갑니다 저도 이것저것 트리거 다 해봤는데 'api수신 완료 시' 같은 트리거가 없어서 data source가 변경됐을 때 로딩 애니메이션을 뜨게 할 수가 없었어요. 혹시 다른 방법을 알고 계신 분들 의견 부탁드립니다~\": 385, ' 그냥 시간을 짐작해서 보여주시는거군요 ㅋㅋ alert는 플러그인인가요??': 386, ' 플러그인에는 없나요??': 403, ' 반갑습니다~ 잘오셨어요!': 422, ' 수민씨 안녕하세요': 424, ' 혹시 특정 조건일때 워크플로우를 중단시키는 명령어나 방법이 있을까요?': 427, ' 혹시 튜토리얼 해보셨나요?': 432, ' 안녕하세요! 버블로 어플 출시해보신 분들 혹시 네이티브 플러그인 추천하시는 것 있으신가요?': 444, ' 버블로 모바일 앱 하단바 설정시홈 버튼 누르면 홈 으로 돌아가는 작업을 하고 싶습니다.여기서 혹시 홈 버튼 눌렀을때 현재 보고있는 페이지(그룹)은 어떻게 숨기면 되는지 아시는 분 계신가요?': 450, ' 혹시 input 을 자유롭게 reset시킬 수 있는 플러그인같은게 있을까요': 455, ' 안녕하세요 버블러 여러분들! 혹시 캘린더 쓰시는 분 있나요?주간 캘린더가 필요해서 air calendar 사용해보려고 하는데 약간 시간이 잘리는거랑 위에 날짜가 모바일에서 이쁘지 않아서요 ㅠㅠ혹시 이걸 해결하는 방법이나 추천할만한 캘린더 있을까요? 주간 캘린더가 꼭 필요합니다!! 사진': 459, \" 웹 어플리케이션 만드는 중입니다페이지 속성에서 'full width'선택해서레이아웃을 창 너비에 따라 flexible 하게 만들수 있는데'full height' 속성은 없어서요창 높이에 따라 top middle bottom align 을 적용할 수 있는 방법이 있을까요?\": 460, ' 웹 폰트 업로드 보통 어떤식으로 하세요 -? 직접 otf나 ttf를 올리니 꽤 느려지더라구요': 465, ' 웹폰트 링크 있는데 그걸로 했어요 저도 궁금한게 하나 있는데 그렇게 하니까 폰트 패밀리 전체가 안 불러와지더라구요. 구글 폰트가 아니라서요. 이런 경우 어떻게 폰트 패밀리 내 다른 스타일(굵기가 다른것)을 쓸 수 있을까요?': 466, ' 아 변환을 꼭 해야하나요?': 468, ' 노토산스 윈도우환경에서 잘 보이나요? 맥에서 노토산스로 작업하고 윈도우에서 보면 애매한 기본 serif폰트로 나오던데 ㅜㅜ': 474, ' 네 준비되면 공유해볼 수 있도록 하겠습니다 혹시 여러분 그리고 일시성 팝업 같은거는 어떻게 하고 계시나요? 예를 들어서 새로운 공지사항 (이벤트나 기능 등)을 공지사항을 안 본 사람들한테 띄우는거요!!3일간 다시보지 않기 팝업 같은 걸 생각하고 있는데 user에 그런걸 추적하는visit field를 매번 만들기는 번거로울 것 같아서요!': 480, ' 혹시 인스타그램처럼 사진을 클릭했을시 repeating group으로 이동해서 클릭한 사진에 focusing 할 수 있는 방법은 없을까요? 사진 사진 사진': 489, ' 네 그러니까 정리를 해볼게요. 1) 첫 번째 사진에서 어떤 사진을 클릭한다는 것인지?2) 두번째 rg 그룹이 무엇인지? (사진 상에서 뭐가 두번째 rg그룹인지 모르겠음)3) 첫번째 사진에서 12번째 사진으로 포커싱된다는 게 어떤 것인지?': 492, ' 이걸 이해해 주시다니 감사합니다.혹시 방법이 있을까요..?': 495, ' 유튜브에 인스타 클론 코딩이 있는 걸로 알고 있는데 거기서는 어떻게 했는지 혹시 보셨나요?': 498, ' 근데 생각해보니 쉽게 할 것 같기도 하네요 정렬을 최신자로만 해도 될 것 같은데.. 첫번째 rg는 데이터 소스가 user죠?': 503, ' 사진 api 주소나 이름을 찾고 싶은데 찾을 수 있나요 ㅠㅠ parameter나 response만 나오네요': 514, ' 혹시 지금 보시는 화면 (preview찍혀있는) 좌측에 header 탭 한번 보시면 어떠세요? Headers': 521, ' 거기 request url을 보시면 해당 api가 어디로 호출했는지 나와서 구분하실 수 있으실것 같은데 혹시 원하시는게 이건 아니실까요?': 523, ' 깨달음을 얻으셨군요 ㅎㅎ 좋은 인사이트 감사합니다 loop 플러그인이 있었군요 에러 없이 잘 되나요? 속도도 궁금하네요': 525, ' 여러분 혹시 input에서 한글 입력 못하게 하는 방법 아시는 분 계세요? css로는 적용이 안되네요 흠...': 535, ' 래경님 정규표현식 혹시 하나만 더 여쭤봐도 될까요? 영어+숫자+하이픈 이렇게 3가지로만 넣을 수 있게 하려면 어떻게 하면 좋을까요?': 539, ' 길이 제한도 있으신가요?': 540, ' 안녕하세요~!': 1690, ' 어허.. 혹시 어떤점에서 문제를 겪게 되나요?저는 적은 인원의 생산성을 높이기 위한 툴을 만드는 것이 목적인데 큰 문제는 없겠죠..?': 548, ' 오호 그렇군요~ 그 정도 불편함만 있다면 훌륭한 툴인 것 같아요! 혹시 블로그 포스팅 같은 거 하실까요?': 550, ' 감사합니다 고대하겠습니다 ㅋㅋ 동영상 동영상 반응형 레이아웃을 짜는데width 에 대해서는 쉽게 구현이 되는것 같습니다.그런데 height 에 대해서는 잘 모르겠어서요위 영상 보시면 좌우로는 반응하는데 상하로는 반응을 하지 않습니다.아래 영상 처럼 좌우 상하 다 반응하는 레이아웃을 하려면 어떻게 해야하는지 혹시 방법이 있을까요?': 557, ' \\'버튼A\\'를 눌렀을 때모바일 이용자는 \"모바일 전용 페이지\"PC유저는 \"PC 전용 페이지\"이렇게 설정할 수 있을까요?': 566, ' 앗 구인글인데 홍보글로 분류되나요? 불편하셨다면 죄송합니다.': 570, ' 혹시 국내 결제기능API 연결방법에 대해 참고 할 만한 자료나 사이트 알고계실분 있으실까요 ..?그리고 연동시키는데 사업자등록은 필요한가요? 저번에 주형님께서 말씀해주신 부트페이나 희철님께서 말씀해주신 토스페이먼츠 생각하고 있습니다.': 576, ' 방장님! 이런경우 갠톡 공유 괜찮을까요 ?': 583, \" 안녕하세요!버블로 서비스를 구현하고있는데.. GA 플러그인 연동해서 데이터 구글 애널리틱스로 볼 수 있는 방법이 있을까요?튜토리얼이나 영상에서는 구글 플러그인 설치 후 트래킹ID 지정하는 것 까지만 나와서 이후엔 어떻게 진행하면 좋을지 잘 모르겠습니다.. :'D 트래킹 ID 설정만 완료하면 퍼블리싱 후 자동으로 연결되는걸까요? 혹시 아시는 분 있으신지 궁금해요..!\": 594, ' 괜찮은 방법이네요 qa시트도 있나요?': 613, ' 사진 사진 항상 많은 도움 감사합니다.공공기관 API 로 데이터 받으려고 하는데XML 파일 가장 상단의 저 첫줄 때문에 bubble API connector plugin 에서 자꾸 오류가 납니다혹시 해결 방법이 있는지 여쭙습니다': 616, ' 이건 좀 봐야 알것 같은데 저는 이동중이라 확인이 어렵네요 좀더 자세히 설명 주시면 도움 드릴분들이 많을거에요 어떤 기능, 워크플로우에서 오류가 나는지 말씀해주세요~': 617, ' 버블에서 리턴값을 문자열로 받아 가공한다음에 xml로 변환할 수는 없나요?': 620, ' 그럼 백앤드 도구로 api를 만들면 될 것 같습니다. 그리고 공공기관api중 리턴값을 xml과 json 모두 주는 것도 있는데 어떤 api를 사용하시는 것인지요?': 622, ' @하희철 / 기획, 마케팅, 노코드 강의는 아니고 매주 버블로 그냥 모여서 같이 만드는 모임 개설했는데 혹시 올려도 될까요?': 626, ' 사진 2장 혹시 퍼블리싱 하는 과정에서 live 와 Development 를 merge할 수 있나요? Development에서 작업을 했는데 live에 구매한 다른 템플릿이 뜨는 상황이라..! 이 부분 해결할 수 있는 방법이 있을지 궁금합니다 혹시 아시는 분 계신가요?': 632, ' 버블 내 이슈는 다 해결한 상황인데 저렇게 발생하고있어요! 혹시 버그는 다른 건가요?': 634, ' 맞습니다! 해당 오류를 클릭하면 Live와의 충돌을 해결하라고하는데 혹시 live와 Development를 merge할 수 있는 방법이 있을까요? ㅠ _ㅠ 아무리 찾아도 방법을 모르겠네요 흑...': 637, ' 너무 늦게 봤네요. 혹시 해결하셨나요?': 640, ' 희철님 주형님 늦게봤네요!! 아직 해결 못했습니다🥲 버그도 한번 제출해보고 또 공유해보겠습니다! 저도 이 창을 통해서 라이브와 머지할 수 있다고해서 찾고있는데 이 창 자체가 안보이고있어요😭 혹시 원래는 이 창이 어디에 뜨는건지 알 수 있을까요? (늦은 시간 죄송해요)': 641, ' 저도 궁금합니다..! ㅠㅠ 해결 가능한 방법이 있는지 궁금합니다..!': 644, ' 버블에서 dropdown메뉴 내리면 컬러 바꾸는 스타일 어떻게 바꾸는지 css코드로 바꾸는거 같긴한데 자세하게 어떻게 하는지 알수 있을까요?': 654, ' conditional에서 this dropdown is focused 로 하는거랑 다른 부분일까요?': 655, ' 드롭다운 내려온 부분 선택하는 부분에 대한 스타일링 말씀하신다면..드롭다운 내려온부분의 클래스 이름 확인하시고 css코드 넣으시면 될것같아요. css코드는 페이지 엘레먼트의 헤더부분에 넣는 방법이 있어요 사진': 656, ' 혹시 Group Focus 를 항상 띄워놓는 방법이 있을까요?': 657, ' Group Focus의 용도가 뭘까요? Floating Group으로는 용도가 맞지 않나요?': 658, ' 안녕하세요, 질문이 있습니다!1. List of things 중 선택 삭제 기능 구현 방법-Repeating group의 list 중에서, 체크박스로 선택한 thing 들만 삭제할 수 있는 기능 만들어보신 분 있나요? 어떻게 구현하셨는지 궁금합니다..!저는 custom state로 저장해서 만드는 방법을 생각했는데, 생각보다 복잡하고 시간을 많이 사용하게 되는 것 같습니다.': 659, ' 감사합니다! 새로운 data type에 yes/no 필드를 만들어서 추가하는 건가요?': 661, ' Development version도 가능합니다 onesignal 에서 setting은 하셨나요?': 670, ' 사진 2장 네 우선 이렇게 세팅해뒀는데 추가로 할 것이 있을까요?': 671, ' 혹시 버블에 세팅하시는 거면, 안드로이드가 아니라 웹으로 선택하셔야 하는거 아닐까요?': 673, ' 폰에 알림을 주고 싶어서 이렇게 했는데 웹으로 하는 게 맞는 걸까요? Web notification plugin도 한 번 살펴보겠습니다!감사합니다 :)': 674, ' 폰트 크기를 EM으로 설정할 수 있는 방법이나 플러그인이 있을까요?': 676, ' 사진 \"제품명\"에 Insert Dynamic data에 말씀하신 것처럼 하면 되는 걸까요?': 682, ' 혹시 모바일 뷰포트는 보통 몇px 사용하시나요~? 사이즈가 다양해서 어렵네요😨': 697, ' 그런것 같아요😩만약 최대값 잡고 그 이하로는 모바일로 인식하게끔만 하려면 420으로 하는게 좋을까요?': 704, ' 늦은밤 여문의드립니다~ , 혹시 오디오파일을 재생시키려면 , 플러그인이 필요할까요? , 사운드클라우드를통해 스트리밍을 연결해보려하는데요~ 조언부탁드립니다 ^^;;': 710, ' 클릭했을 때 workflow로 show an element를 하거나 set state로 custom state를 설정하신 뒤에 캘린더의 conditional에 해당 custom state일때 visible 하는 방법이 있습니다 캘린더를 언제 표시하고 언제 가리려고 하시는지 좀더 자세하게 말씀해주시면 더 적절한 방법을 말씀드릴 수 있을 것 같아요': 712, ' 감사합니다.제가 알기쉽게 프리뷰를 올렸는데 확인 부탁드려도 괜찮을까요? ID Attribute를 사용해야하는지 어떻게 해야할지 감이 잘 안 잡힙니다.': 713, ' 버블 기본 달력인가요?': 715, ' 버블 full calendar 기본 플러그인 관련해서 최소 시간과 최대 시간을 설정할 수 있는 방법이 있을까요? 자바스크립트를 추가로 써야할 것 같은데 가능한지 궁금하네요..그리고 캘린더에 grid (시간 사이 줄 같은 것)를 좀더 이쁘게 만들고 싶은데 이것도 css 변경해서 가능할까요?': 717, ' 혹시 버블 원데이 클래스 어디서 들을 수 있나요?': 721, ' 오 네넵 감사합니다🙏🏻🙏🏻': 723, ' 안녕하세요 버블 질문좀 드려도될꺼요? 정규식 패턴같은거 입력할슈있는 방법이 있는지 궁굼해요': 724, ' 안녕하세요 버블에 관해 말씀 여쭙습니다. 버블로 사용자 분석도 가능한가요? 아니면 구글 애널리틱스를 버블에 넣을 수 있나요??': 726, ' 그러면 사용자 분석은 구글 애널리틱스를 통해서 하는 건가요?? 버블 자체로 내장되어있지는 않은거지요?': 728, \" 'Repeated Group' 안의 'Group 거래처'를 클릭하면 거래처를 수정할 수 있는 팝업이 뜨게 하려고 해요.팝업의 Input에 기존의 거래처 정보가 뜨게 하고 싶은데 어떻게 해야할까요? 사진 2장\": 735, '  @하희철 / 기획, 마케팅, 노코드  방장님 ! 혹시 팀원을 모집하는 글을 올려도 될까요?': 738, ' 되게 간단해 보였는데 은근 어려운 거였네요. 최대한 쉽게 설명하고 싶었는데 부족한 점이 많습니다. 보시고 이해 안가는 부분은 말씀주세요': 748, ' 사진 이런식으로 로그인 정보가 없을 경우 로그인 페이지로 리다이렉트 시키는 WF 를 만들어 쓰고 있습니다만,페이지 로딩해보면 0.5 초 정도 내용이 보이다가 리다이렉트가 됩니다.혹시 즉각 반응하게 할 수 있는 요령이 있을까요?': 753, ' 하나 여쭙습니다. 버블 디자인에서 스크롤바 디자인을 바꾸고 싶은데 이건 어떻게 바꾸나요? style 항목에서 잘 못 찾겠습니다': 757, ' Html 박스 두 개 만들어서 하나는 html1- 하나는 css 2-넣으라고 본 것 같은데기존 화면에 있던 엘리먼트 쓰는 거면 1은 필요없나요? 감사합니다!!!!': 764, ' 혹시 기본 설치 말씀이신가요? 아니면 페이지 별로 세팅을 해야하는것인지': 769, ' 아 그렇군요! 감사합니다! 이렇게 설치하고자하는데 이벤트별이 아니라 기본 픽셀을 설치하면되는건가요? (제가 너무 모르고있는 것 같아요 ㅠㅠ) 이모티콘': 773, ' 혹시 버블 group들이 갑자기 다 fixed에 width가 바뀌신 걸 경험해보신 분 있을까요': 776, ' 안녕하세요calendar tool을 이용해서 달력을 만들었을 때, 토요일,일요일만 빨갛게 표시를 하고 싶습니다.혹시 이 기능은 어떻게 설정하면 가능한지 아시는 분 계실까요? 토요일 일요일을 특정 해 내는법을 잘 모르겠습니다.': 780, '  이 플러그인 말씀이신가요?': 782, ' 코드펜에 있는 스크립트랑 적어주신 스크립트랑 약간 차이가 있는데 첫째줄에서 버튼 요소에 ID어트리뷰트 값을 매겨서 지정하신 것 맞으신가요? 화면을 카메라로 찍으신 것만 봐도 얼마나 당황하셨는지 보이네요 ㅎㅎ 이런 경우 가장 자주 발생하는 문제는 프라이버시 룰에서 데이터가 다른 유저한테 안보이도록 설정되어 있는 경우가 많고요 data들어가셔서 Privacy 탭에서 프라이버시룰 중 Everyone else를 살펴보시고 화면에 보이는 email이 체크가 되어있나 확인해보세요.': 786, ' 사진 2장 버린이 또 질문 드립니다. 플로팅 그룹에 아무 설정도 안했는데 이상하게 요 녀석만 프리뷰에 보이질 않습니다 사진 잘 뜨다가 갑자기 사라졌는데 이유가 뭘까요 …': 796, ' 맞아요. 버블 하시는 분들께 늘 말씀드리는건데 버블은 기술적인 것을 얼마나 많이 알고 있느냐보다 얼마나 잘 응용해서 문제를 해결하느냐에 따라 더 많은 것을 만들 수 있습니다 이것만 보고는 잘 모르겠습니다만, 2번째 사진에서 화면에 수평 스크롤이 생긴걸로 봐서 전체 그룹 설정이나 레이아웃이 잘못된 것 같은데 혹시 더 캡쳐해서 보여주실 수 있나요?': 799, ' 어떤 걸 더 보여드려야 할까요?': 800, ' Y값이 938이면 엄청 밑에 있는 것 같은데 혹시 스크롤 내려도 안보이나요?': 803, ' 아.. visible에서 아니오라고 되어 있네요 ㅎㅎ 일단 페이지로드 시 비저블 체크되어있는데 프리뷰에서 아니오로 되어 있다는 건 조건 설정이 되어 있거나 어떤 이유가 있는건데요 혹시 어떤 조건 설정하거나 하신 것 없으세요?': 805, ' 모바일 가로모드 세로모드 체크하는건height 를 얼마 기준으로 하면 좋을까요? 가장 작은 iphone 이 320×480 이었던거 같아서 420 기준으로 가로 세로 나눠서 반응형으로 하려고 합니다이 정도면 적당한가요?': 811, ' repeating group(100개 이상)을 전체 프로세싱해서 특정 data type의 리스트를 생성/삭제하고 싶을 때 가장 빠르게 처리할 수 있는 방법이 뭐가 있을까요? custom state는 너무 느리고, list shifter karma-ware으로는 db추가는 빠른데 db삭제가 너무 느리더라구요 ㅠㅠ': 815, ' 사진 DB 라든지 이것저것 처리가 느린 과정에서, 또는 빠른 프로세스라도 뭔가 신중하고 열심히 하는 것 처럼 보이고 싶을때이런 popup 을 띄웁니다.근데 popup 자체가 아무데나 클릭하면 없어지는 거라서;;혹시 WF 상에서 없애주지 않으면 유저가 popup 을 hide 할 수 없는 방법이 있을까요?없다면 FloatingGroup 으로 해결 가능할것 같은데, 아무래도 popup 이 훨씬 수월할거 같습니다.': 817, ' 팝업 옵션에 ‘esc키로 닫을수없다’라는 비슷한 내용의 체크박스 옵션이 잇어요 체크하시면 댑니다': 818, ' text의 리스트를 post api body에 넣으려고 하니까 \"텍스트1, 텍스트2, ... \" 이런식으로 들어가네요. \"텍스트1\", \"텍스트2\", ... 이렇게 바꾸는 방법이 있을까요?': 829, ' 원래 \"텍스트1, 텍스트2\" 이런식으로 들어가는게 Json 형식이라서 기본적으로 그렇게 들어가는데요. 데이터를 따옴표로 묶어야 된다는 말씀이신가요?': 830, ' 여러분! 혹시 구글, 네이버에 사이트맵을 제출하려면 버블 홈페이지에서 콘텐츠로 사이트맵을 올려야 제출 가능한가요? 구글/네이버에 사이트맵 제출해보신 분 계신가요? 앗..! 버블에서 영상이 있었네요! (자문자답..!)': 841, ' 버블로 게시판 댓글 기능 구현 가능한가요? (웹플로우는 안된다 해서 버블 배워볼까 합니다)': 847, ' 쉽지 않다는게 다른 플러그인 찾아서 붙이는건가요? 아님 버블 안에서 어찌어찌 만들어야 하나요? 게시판과 댓글 기능 구현 가능한 노코드는 없나요.. 플러터플로 같은걸 배워야 하나 고민입니다...': 849, ' 플러그인은 필요 없는데요. 데이터 구조를 짜고 프론트에서 이를 동작하게 하는 페이지를 제작해야 해서요. 약간의 난이도가 있는 작업이라서요. 물론 개인적인 의견이고 처음부터 쉽게 하시는 분들도 많습니다~ 지금 오류 같긴한데 혹시 옵션 셋에서 New option 추가 안되시는분 계세요? 새 옵션 만들어서 new option추가하면 안되고 기존 옵션에서는 되네요. 왜 이럴까요?;; 버그 맞네요... 3시간 전부터 안되고 있었군요..': 850, ' 안녕하세요 사진 이런식으로 반복그룹을 15개씩보여주면서 넘기고싶은데 방법이 있을까요 게시판을 만들고있습니다 선배님들 조언부탁드립니다': 851, ' 혹시 버블로 MVP를 만드는 것 외에 실제 서비스 운영도 가능할까요?': 858, ' 버블로 어떤 앱을 만들수 있나요? 버블버블 버블팝': 861, ' 혹시 앱시트 써보신 분 계실까요?아무래도 구글이나 MS가 큰 회사다 보니 그렇겠지만 노코딩에 대해 소개하는 기사 같은걸 보면 버블은 잘 안 나오더라고요 ㅋ당장은 버블 참 만족하면서 쓰고 있는데 아마 1~2년만 지나도 대세 노코딩 툴이 정해질것 같네요. 혹시 써보신 분 앱시트나 파워앱스 어떤가요?': 864, ' 안녕하세요! 버블로 어플 제작중인데 혹시 BN - native popup 사용해보신 분들 계실까요?원래 안드로이드에서만 작동하고 ios는 다른 방식으로 해야하나요? 아이패드에서 팝업이 뜨지 않습니다 ㅠ': 867, ' 버블에서 \" # \" 을 보여주고싶은데 버블은 # 을 입력하면 api 파라미터든 텍스트로 출력하든 뒤를 #을 쓴 곳을 기준으로 뒷쪽을 다 날려버리더라구요 #을 있는 그대로 보여줄수있는 방법은 없나요?': 868, ' 어디에서 #을 보여주시려는 건가요?': 869, ' 텍스트 요소에서는 #이 정상적으로 나올텐데 이상하네요. 혹시 api로 받아온 데이터를 다시 텍스트 요소로 보여줄 때 안나온다는 말씀이신가요? 혹시 BDK 말씀이신가요? 해당 플러그인은 네이티브 앱에서만 작동하는거라서 설치된 앱으로 확인했을 때만 나오는 걸로 알고 있는데요. 혹시 아이패드도 설치된 앱으로 확인하신건지요?': 871, ' 아 이건 제가 착각한것일수도있어서 고려 안해주셔도 될 것 같고 api 파라미터에 #을 넣어서 보내는 방법은 따로 없을까요?': 872, ' api 주소의 파라미터를 다이내믹으로 넣고 싶으신거죠?': 873, ' 사진 빨간부분이 주소고 아랫 부분이 api에 입력하는 파라미터 값인데 파란 부분 말씀하시는 게 맞는지요? 주소에서 파라미터가 들어가는 경우가 있어서 확인차 여쭙습니다': 876, ' 약간 이해가 안가는게 여기에 #을 포함한 문자열을 보내는데 api쪽에서 인식을 못한다는게... 혹시 데이터 타입이 text로 제대로 되어있는지 확인하셨나요?': 878, ' 일부분만 인코딩해서 넣으면 나머지 문자열 처리는 어떻게 될까요? abcd_#1 을 abcd_%231 로 입력하란 말씀 맞으실까요 ?': 881, ' 버블 플러그인에서 subscribe버튼이 활성화되지 않은 건 어떻게 설치하나요? 한 번에 구입하는 것 말고 한 달 사용만 해보고 싶은데 그 옵션은 어디에서 선택해서 플러그인을 설치할 수 있는지 여쭤봅니다! 사진': 886, ' 버린이 문의 드립니다. 사진에 관련된 질문입니다. editor에서 조정할 때는 안 잘리고 잘보이는데, 프리뷰에서는 사진이 계속 잘립니다. 어떻게 해결해야 할까요?': 894, ' 원본 사진의 사이즈와 에디터에서 설정하신 사진 요소 레이아웃의 사이즈가 다른것 같아요 어떤식으로 하셨는지 설정창도 보여주세요~': 897, ' 외부 링크에 대한 질문입니다.1. 외부 링크를 새 창에서 띄우고 싶습니다.2. 링크가 작동할때 다른 workflow 도 같이 trigger 하고 싶습니다.link element 를 쓰면 2. 가 안 되고, WF 상에서 open external web 을 하면 1. 이 안 되는데..방법이 있을까요? 사진 사진': 900, ' 안녕하세요!현재페이지에서 링크를 클릭하면 다른 페이지에서 custom states의 기본값이 1 이면 2인 상태로 이동하는 방법이 없을까요?': 907, ' 버블로 MVP 만들 수 있을까요? 당근마켓 같은 앱이요': 913, ' 버블로 혹시 모바일앱 만든 경우 아시는 분 있으실까요? :)': 922, ' 버블로 커머스나 상용 웹앱 만든 사례 있을까요?': 925, ' 여기요 혹시 버블로 결제 시스템 구현도 될까요?': 928, ' 에어테이블이요?': 934, ' 회원가입도 가능한가요?': 937, ' 회원가입은 가능해요! 희철님 뭐하나 물어봐도 될까요?': 938, ' 혹시 페이도 될까요?': 940, ' 노코드 백엔드는 무엇인가요?': 944, ' 희철님 감사합니다 ㅎㅎ 애드샐러드 가봤는데 회원가입해 글을 쓰는건 아니네요게시판 글을 읽을순 있고요~ 국내서비스인 아임웹, 큐브, 크리에이터링크에 비해 버블의 강점이 무엇일까요? 좀 더 자유롭게 구현이 가능한게 장점일지. 노코드는 에어테이블 또는 코드는 파이어베이스로 하는거 같네요': 945, ' 혹시 버블로 중고마켓을 구현한다면, 당근마켓처럼 사진찍어서 올리는 것도 가능할까요?': 948, ' 레슨 어디서 들으셨어요?': 952, ' 혹시 버블은 기본적으로 다 반응형인가요?': 953, ' 혹시 추천 해줄 수 있으세요?': 954, ' PR이 뭔지 물어봐도 될까요?': 958, ' Input 변경을 실시간으로 체크해주는 플러그인같은거 있던데 혹시 써보셨나요? Instant 키워드 검색해보시면 몇개 나옵니다': 961, ' 용준님 mvp를 버블로 만들고 있는건가요?': 962, ' 넵 누구신지 여쭤봐도 될까요? ㅎㅎ': 963, ' 어떤 서비스인지 물어봐도 될까요? 실례가 안된다면…ㅎㅎ': 967, ' 혹시 유저가 아이템 생성 시 값이 잘못들어갔다거나 하는 오류 있으셨던 분 계세요? CS가 와서 확인해봤더니 값이 잘못들어가 있는데 워크플로우상으로 절대 들어갈 수 없는 값이 들어가 있어서 좀... 놀랐습니다. 이것도 버그일까요? 혹시 이런 경험 있으신 분 계신가요? 아 아니네요.. 제가 잘못해놓은게 맞군요 ㅠ': 970, ' 질문 있습니다! 혹시 한글 글씨체는 어떤거 쓰시나요? 스타일에서 한글 폰트 지정하려고 하는데 영문 폰트만 있는 것 같아서 새로운 폰트 추가가 가능한지 궁금하네요!': 977, ' 궁금한게 있어서 질문드립니다!Repeating Group에서 \"Type of content\"와 \"Data source\"의 \"Type\"이 일치하여야 오류가 발생하지 않는데요.그렇다면 둘 중에 하나만 있어도 될것 같은데 왜 둘 다 있는 걸까요? 사진': 980, ' 서버에서 버블로 api(request) 쏘면버블에서 그걸 인지하고팝업을 띄운다거나 엘리먼트를 보여주게 한다거나이렇게 할수있나요??': 987, ' 폰트를 바꿀때마다 텍스트가 사라지는 오류가 있는데, 비슷한 경험있었던 분 계신가요?ㅜㅜ': 989, ' 버블이죠? 혹쉬 텍스트엘레먼트의 높이가 너무 작지 않은지 확인해보세요 ㅎㅎ': 990, ' 혹시 버블에서 하단 탭바 구현할 수 있나요?': 992, ' 안녕하세요! 위에서 카카오톡 로그인 기능 구현하신 분들이 계신 것 같아서 질문드려요. API connector에서 하려고 했는데 맨 처음에 동의화면을 보여주는 거라 use as를 data로 하는 게 맞는지 모르겠어요. 지금 상태로 initialize 해보면 api call이 non object라고 오류가 나오더라구요. 혹시 버블로 어떻게 카카오톡 로그인 구현하는지 도움 주실 수 있을까요? 사진': 999, ' 저도 카카오톡 로그인 궁금하네요🙏🏻🙏🏻': 1000, ' 카카오톡 로그인은 oauth인증이러서 콜백 url이 있어야 하는데 버블로 구현이 가능한지 모르겠네요. 구현하신 분이 있을까요?': 1001, ' 어떤 텍스트인가요? 어떤 형식인지 보여주실 수 있을까요': 1004, ' 버블에서 회원정보 다운로드 받기 할 때, 플러그인으로 CSV 다운로드 사용하시는지, Excel 사용하시는지, 어떤것이 더 좋은지 궁금합니다.!': 1008, ' 사용자가 본인의 회원정보를 다운로드하도록 하고싶으신 건가요? 아니면 슬기님께서 사용자들의 회원정보를 다운로드하시려는건가요?': 1009, ' 안녕하세요~~^^버블로 만든 웹사이트에서 유저들이 글을 올릴수 있다는 것 까지는 아는데, 추천/댓글기능까지 구현이 가능한지 알 수 있을까요?, 그리고 사례 플랫폼을 알려주실 분 계신가요~?ㅎㅎ': 1013, ' 혹시 당근마켓 예시도 있을까요?': 1015, ' 희철님께서 사용하신걸로 알고있는데, 가능한가요? @하희철 / 기획, 마케팅, 노코드': 1026, ' 네! 질문 하나만 더해도 될까요? 유로 플랜은 어떤거를 해야할지.. 잘 몰라서요 ㅠㅠ 이 정도 서비스구현이면 유로 요금으로 넘어갈 것 같아서요!': 1029, ' 혹시 회원가입 할 때 카카오톡 연동도 가능할까요?': 1034, ' 안녕하세요검색기능을 만드는 중인데 단어를 포함하는 모든 게시물을 나타내고 싶은데 사과라고 검색을하면 사과라는 게시물 말고는 안나옵니다 방법이 있을까요?': 1057, \" 써치구문에서 [게시글내용] contains '사과'해보셨나요?\": 1058, ' 혹시 버블로 만든 네이티브 앱 picture uploader 안드로이드 사진 촬영 오류 해결하신 분 있으실까요?버블 포럼에도 등장하는 오류인데 해결법이 없어서요 ㅠㅠ': 1060, ' 버블 문제 아닌가요? ㅜㅜ 우선 알겠습니다! 감사합니다 이거 사용해봤는데 찍은 사진이 업로드가 되지 않는데 when photo is captured 다음에 데이터 전송을 어떻게 할까요?': 1062, ' 쓸만한 버블 플러그인이 모아져있는 사이트 같은게 혹시 있나요? 웹플로우의 finsweet나 flowbase처럼요. 저도 이제 버블 좀 살펴보고 있는데 시작하기 막막해서 여쭤봅니다 ㅋㅋ': 1064, ' 안녕하세요~ 혹시 버블에 카카오로그인 연동은 어렵겠죠?': 1070, ' 안녕하세요드롭다운으로 기간을 설정하고싶은데 1일 1주 1개월 6개월 1년 이렇게 설정하고 싶습니다 참고할만한것이 있을까요?': 1094, ' 버블 첫 입문자인데요. 혹시 원데이클래스 진행하시나요 ? :)': 1095, ' 언제한번 정모 가시죠 ㅎㅎ': 1102, ' sheety와 sheet.best에 Pricing을 보면 requests/month라는게 있는데 이게 무슨 의미에요?': 1104, ' 사진 혹시 레이아웃에서 visivle on page load 체크 풀면 보이지 않으세요??': 1106, ' 혹시 container layout 타입을 변경하면 보이지 않을까요??': 1108, ' 여러개의 앱 생성 가능합니다 토큰이 부족하다는건 어디서 표시되는지 설명해주실 수 있을까요?': 1114, ' 질문 있습니다! API Key와 API KEY - dev의 차이점이 무엇인가요? 둘 다 키를 입력해 주어야 하나요? 사진': 1120, ' 백엔드워크플로우 말고 그냥 워크플로우에서 database trigger event를 만들려면 어떻게 해야하나요 있을 것 같은데 못찾겠네요.. do a search for로 필터 걸어서 하는 방법 말고 다른게 있을까요?': 1123, ' 저는 그냥 별도 백엔드가 있어서 거기로 api를 쏴서 트리거 이벤트로 써서 잘 모르겠습니다 ㅠ 제 생각에도 백엔드 워크플로우나 서치 필터 말고는 없을거 같긴하네요 플러그인 문서에 설명 없나요?': 1124, ' 아하 백엔드에서 데이터처리를 해도 프론트에서 데이터 보여주는 방식은 같은 건가요?': 1127, ' 버튼이 안보여요ㅜㅜ좌우상의  앞뒤를 말씀하시는 걸까요?': 1145, ' 안녕하세요 스타트업에서 버블 개발자로 인턴하고 있는 학생인데, 디스코드 웹훅 api를 버블로 연결하는 방법에 대해 아시는 분 계실까요? 또 슬랙, 트위터, 레딧 등의 api 정보를 버블에서 대시보드로 구현하려고 하는데 감이 잘안와서.. 혹시 경험 있으신 분 있으실까요?': 1148, ' api로 외부 데이터를 repeating group에 불러왔는데, 이 상태에서 데이터 중 특정 단어를 가진 정보만 보이도록 하는 방법이 있을까요? 사진 예를 들어 저기 있는 목록 중 south라는 단어를 가진 데이터만 보여주는 식입니다': 1154, \" 질문이있습니다. 사진 이렇게 버튼위에 'icon'이 올라가져 있을떄 버튼의 클릭이벤트를 같이 먹일 수 있는방법있나요? 아이콘에도..\": 1157, ' 아~ 감사합니다~ 혹시 WorkFlow에서 Navigator의 Open an external website 를 새창에서 열 방법이 있을까요?': 1159, ' 어떤 플러그인이에요?': 1161, ' 오랜만에 질문드립니당..! 기본 버블 가로너비가 1080이 기본인데 이대로 쓰시나요? :)': 1168, ' 안녕하세요! 처음으로 질문 남깁니다. 어떤 페이지의 워크플로우를 통해서 다른 페이지의 element의 custom state를 바꿀 수는 없나요??': 1176, ' 혹시 버블에서 timestamp로 된 리스트를 date로 된 리스트로 바꿀 수 있을까요? 플러그인으로 하나씩은 되는데 리스트 전체를 바꾸는 법을 못 찾아서요!': 1185, ' type을 date으로 했을 때 문제가 response는 sec 단위인데 date는 milisec 단위를 받아서 변환해주는 것 같더라구요 날짜가 정확하게 변환이 안 됩니다 ㅠㅠ 1000을 곱해준 후에 date로 변환이 되어야하는데 혹시 api response에 곱하기 연산을 한 후 date로 값을 받는 방법도 있을까요?': 1189, \" 분명히 어떻게 했었는데.. 기록을 안하고 밀어버려서 난감하네요 기억을 좀 더듬어 보겠습니다 ㅠ 플러그인은 'secondToDate' 쓰신건가요?\": 1192, ' 오 넵 리스트 전체 변환이 가능한 플러그인인가요?': 1195, ' 아하 리피팅그룹으로 하신 건가요?': 1197, ' 아 저는 리스트 데이터를 차트의 x축으로 활용하려고 해서 리스트 요소를 한 번에 넣어주는 방식을 생각했어요 저장 후 보여주는 게 좋을까요?': 1199, ' 안녕하세요! 버블+bdk 로 어플을 만들고 있는데 혹시 안드로이드 백 버튼 작동할 수 있는 방법이 있을까요?지금은 백버튼 눌러도 아무 일도 일어나지 않습니다.>!': 1203, ' 안녕하세요! 인턴 과정 중에서 버블을 사용하고 있는데 질문이 생겨 여쭤봅니다. 현재 google calendar 플러그인을 이용해 버블 페이지에서 만든 일정을 구글 캘린더에서도 생성되도록 하고자 합니다. create를 한 result의 state를 보면 400 Bad Request 에러만 뜨고 자세한 내용은 안나오는데 버블에서 google calendar 연동해서 사용해보신 분 계신가요??': 1218, ' 안녕하세요! 어제 bdk로 안드로이드 백버튼 활성화 알려주셔서 만들고 있는데bn - appinfo - is native android app 로 안드로이드 기기에만 띄운 팝업은 잘되는데 bn - Android back button is pressed 는 아무리 백버튼을 눌러도 실행되지 않는데 혹시 사용해보신 분 계실까요? ㅜㅜ': 1219, ' 안녕하세요 ! 네이버 예약과 비슷한 예약 플랫폼을 만드는 과정에 질문이 있습니다.아래 사진처럼 날짜를 선택한 뒤 시간을 선택하게 하여 이것을 input값으로 받고 싶은데, 혹시 어떤 플러그인을 써야할까요? 현재 calendar tool을 이용해서 해보려하는데 네이버처럼 월 선택을 어떻게 해야할지 모르겠습니다. 사진 비슷한 기능을 구현해보신 분들 혹시 어떤 플러그인을 사용하셨을까요?': 1223, ' 혹시 slack api와 버블을 연결해서 slack의 정보를 버블에 나타나도록 해보신 경험이 있거나 방법을 아시는 분 계실까요?': 1226, ' 슬랙으로 해보지는 않았습니다만 get요청을 하면 json 형태로 데이터를 주지 않나요? 그렇게 된다면 말씀하신 내용이 충분히 가능합니다. 버블 플러그인 만드신건가요?': 1227, ' 혹시 버블로 만든 페이지에 구글애드센스와 같은 광고를 달수도 있나요?': 1233, ' 혹시 데이터베이스는 다들 어떤 것 사용하시나요?버블에서 제공되는 파일 스토리지 10GB 가 부족할 것 같아외부 서비스를 연동하려고 하는데구글시트는 업데이트 제한이 있어서 적용하기가 애매하네요': 1237, '   이 플러그인 사용해보신 분 계실까요? amazon s3와 db를 연결시킬 수 있을지 궁금하네요 버블 storage에 비해서 가격이 50배 저렴한데': 1241, ' @하희철 / 기획, 마케팅, 노코드 님, Xano+Bubble로 서비스를 구현하려고 하는데 혹시 참고할 수 있는 템플릿이나 교육자료가 있을까요??Tadabase라는 툴로 서비스를 제작했다가 옮겨올려고 하는데 자유도가 높은 만큼 난이도가 확 뛰네요 (흑흑)': 1245, ' 엇 S3 연결 되나요? ㅎㅎ': 1251, ' 앗 그렇군요 ㅠㅠ 그럼 버블과는 api 로 연결하시는건가요?': 1253, ' 저는 이미지때문에 box사용하고 있습니다. box는 어떠실까요?': 1256, ' Database에 csv 파일을 올리려는데 email을 설정하라고 계속 오류가 나오는데 뭐가 문제인지 혹시 아시는 분 계실까요? 사진 사진': 1259, ' 사진 여기에 원래 이메일이 있는데 이메일을 추가해야 된다는 걸까요?': 1261, ' 안녕하세요~ change thing 기능을 이용해서 유저가 본인의 프로필을 수정하는 기능을 구현했는데요.총 3가지 필드(닉네임, 프사, 자기소개)가 있는데, 개중 한 개만 수정하면 나머지 필드는 다 null 값이 덧입혀지더라구요.Initial content 기능으로 기존 프로필 정보를 불러오는 것까진 했는데, 혹시 null 값을 덧씌우지 않는 방법이 있을까요?': 1264, ' 혹시 버블 유료 플랜과 만들어진 앱을 다른 계정으로 양도시킬 수 있나요?': 1271, ' 잠시 확인해봤는데, box와 버블 db를 연결할 수 있나요? 예를 들어 유저가 프로필 이미지를 저장하고 그 유저의 프로필에 그 이미지가 뜨도록요': 1273, ' 버블과의 연동은 쉬운 편일까요~?': 1278, ' database에 있는 자료 중 특정 키워드가 들어간 자료를 불러오려고 하는데, 링크같이 영어인 경우 예를 들어 http는 입력해도 나오지 않네요 이런 경우 설정을 어떻게 해야 할까요? 사진': 1281, ' 안녕하세요~ 혹시 자동 줄바꿈이 되지 않을 땐 어떻게 해줘야 할까요? 텍스트 영역이 계속 가로로 늘어나는 걸 원치 않아서요': 1282, ' 워크플로우는 어떻게 하셨어요? html요소는 클릭 이벤트가 안되는 걸로 알고 있어서요': 1288, ' 아하.. 그런 거 같네요 감사합니다 희철님!': 1291, ' 버블에서 검색 기능 구현하시는 분들 어떤 방식을 가장 많이들 사용하시나요?': 1295, ' 안녕하세요~ 버블로 만든 페이지에서 가입자들의 접속 데이터만 보고 싶은데, 혹시 이럴 땐 어떤 툴로 보시나요?': 1297, ' 오 혹시 GA보다 좋은가요?': 1302, ' 구글태그매니저 심는 거랑 비슷할까요??': 1308, ' 감사합니다!!ㅎㅎ 아 혹시 믹스패널은 무료인가요??': 1312, ' 안녕하세요~ option sets에 컬러 값을 지정하고, 그 컬러들을 순서대로 보여주고 싶은데 어떤 expression을 써야 할까요..? 사진': 1316, ' 링크 올리면 미리보기 제공하는 거를 버블에 추가하려고 하는데, 이런 html 코드를 버블에 추가하려면 어떻게 해야하나요?': 1317, ' input으로 특정 키워드를 입력했을 때 dropdown에서 선택한 필드 타입에 해당하는 정보만 repeating group에 불러오게 하려면 어떻게 해야 할까요? 사진': 1321, ' 안녕하세요~ multiline input에 들어갈 텍스트를 수직으로 가운데 정렬하려면 어떻게 하면 될까요..? 사진 현재는 위로 정렬이어서요': 1322, ' 특정 키워드 검색시 해당 키워드가 들어간 정보만 불러오도록 구현하였는데, 영어에서 대소문자 구분을 하지 않도록 하는 방법 아시는 분 계실까요? 사진': 1324, ' 플레이스홀더만 수직 가운데로 나와야 하나요? Appearance에서 padding 값을 조절하면 될 것 같습니다. 그리고 텍스트 입력시에는 다시 텍스트가 위로 올라가야 한다면 conditional에서 인풋값이 엠프티가 아닐 경우 padding값을 다시 줄이는 식으로 하면 될 것 같네요': 1327, ' 어제부터 오늘까지 작성된 게시물만 데이터 타입에서 불러오려고 하는데 명령어를 어떤식으로 넣어야할까요? 사진': 1330, ' 안녕하세요 노코드 툴을 이용하여 서비스를 만들어봤는데 홍보 가능할까요?': 1331, ' 버블로 만드신 서비스인가요?': 1332, ' 혹시 버블에서 marquee 구현해보신 분 계실까요? :) 되도록이면 html 안넣고 싶은데 워크플로우를 어떻게 짜야할 지 모르겠네요\\U0001f979': 1338, ' 안녕하세요~ 혹시 플로팅그룹에선 vertical scrolling이 안 되는 걸까요?현재 최상위에 플로팅그룹이 있고, 아래에 하위 그룹들이 있는 구조입니다. 동영상': 1339, ' 안녕하세요~ 프레이머를 통해 퍼블리싱작업 정도 노코드로 알아보다가 프레이머가 react다 보니 vue를 사용하는 내부 상황에 맞지 않아 버블을 알아보고 있습니다. 버블은 개발언어가 어떻게 되나요?노코드로 개발시 한계가 있을것 같은데 그럴때 직접 코드를 사용할 수 있을까요?': 1344, ' 제가 개발자가 아니어서 이해가 어려운데 언어가 없는데 코드를 사용할수있다는게 어떤 말씀인지..': 1346, \" 안녕하세요~ 현재 저희 팀이 페이스북 같은 인피니트 스크롤을 의도하고 페이지를 제작했는데요. Repeating Group 안의 데이터들이 많아질수록 로딩속도가 현저하게 느려지는 듯합니다. 혹시 Repeating Group 내의 하위 요소들을 처음엔 n개만 보여주고, 스크롤 내리면 다시 n'개를 또 보여주는 방식이 적용 가능할까요?\": 1357, ' 이거 cloudflare 쓰면 빨라지나요? 저 쓰고 있는데 빨라지는 건지 잘 모르겠어서 혹시 아시는 분 있으면 알려주세요🙏': 1358, ' 버튼을 클릭했을 때 data type의 상태를 yes/no로 바꾸고, 버튼을 한번 더 클릭 했을 때 원래 상태로 되돌리려면 어떻게 해야할까요? 사진 여기 다음 워크플로우를 모르겠네요 ㅠㅠ': 1363, ' 사진 안녕하세요. 커스텀도메인 설정을 하려고 하는데, 이렇게만 나오고, 설정이 안 되네요.. everyone can edit을 비활성화할 수도 없는데 어떻게 하면 될까요?': 1364, ' 안녕하세요?': 1365, ' 버블이 랙이 좀 걸리는 문제가 있는데, b2c로 할 때 이용자 몇명 정도까지는 랙같은 문제 없이 돌아갈까요? 10만묭 정도까지는 문제 없을까요? (대시보드 제공 플랫폼일 때)': 1368, ' workflow는 어떻게 짜셨나요? 뭔가 페이지 리프레시가 한 번 되는 사이에 안보이실 것 같기도 합니다 🧐 Preview에서 step-by-step으로 실행시켜보시면 없어지는 순간 찾으실 수 있을 것 같은데 해보셨을까요? :)': 1374, ' 좌측 두번째 Constraint에 :random item으로 설정하신 부분이 의심되는데요... :each item 은 없으신가요?': 1376, ' 혹시 버블에서 프론트 만들고, FastAPI나 Flask로 백엔드 붙여서 사용 가능한가요?': 1379, ' 안녕하세요.혹시 버블 로그인에 token 추가해서 구현해보신 분 계신가요?': 1382, ' token 추가라는 말은 암호화폐 지갑 연결을 말하는건가요?': 1383, ' 혹시 entry를 지우는 워크플로우는 무엇을 말하시는 건가요?': 1386, ' 오 너무 잘 만드셨네요 ㅎㅎ 카카오 로그인도 좋네요!! 사진 @조한울 / 운영  혹시 이런 풀스크린은 어떻게 하는건가요?!저희도 풀스크린 팝업 같은 느낌이 필요한데 기기마다 width랑 heigh가 다 다른데 다른 분들도 그렇고 어떻게 하시는지 궁금합니다!': 1394, ' 전에 아임웹? 으로도 만드시지 않으셨나요?': 1395, ' @조한울 / 운영 오오 한울님 너무 멋진 프로덕트에요🤩혹시 사진 업로드해서 DB에 저장될 때 웹 url로 저장되는 걸까요?사진 파일 자체로 저장되는 걸까요?저도 사진 저장 기능을 사용하는데 사진 파일 자체를 저장하니 무거워서 버블db 확인할 때 시간이 많이 걸리더라구요😭혹시 외부 db를 사용하셨는지도 궁금합니다...!🙏🏻🙏🏻': 1396, ' 외부 api로 버블 database에 어떤 정보가 추가 됐을 때 워크 플로우가 실행되도록 하려면 어떻게 해야할까요?': 1397, ' 혹시 repeating group에서 보여줄 row와 column의 수를 픽스하신 건 아닐까요?': 1401, ' 유저가 로그인을 하고 data type을 수정하면, 페이지 전체 정보가 바뀌는 것이 아니라 유저 개인의 정보만 수정되도록 하려면 privacy rule을 전부 적용시켜야 하나요? 사진': 1406, ' 로그아웃 시에 홈으로 보내야겠네요. 제보 감사합니다!! 혹시 크롬에서 버블 에디터가 작동 안 하는 이슈 겪고 계신 분 있나요? 시크릿탭에선 작동하는 걸로 봐선 애드온이랑 충돌하는 건가 싶은데.. 원인을 모르겠네요': 1409, ' 버블 database에서 중복되는 정보를 제외하는 방법 아시나요? 예를 들어 여기서 중복되는 것을 하나로 취급하고 Bubble Test와 Discord 두 개만 나오도록 하려고 합니다! 사진 사진': 1410, ' 안녕하세요! 팝업에서 버튼을 누르면 데이터(review)를 삭제하고, 그 data가 삭제되었다는 기록을 order라는 data tpye에 남기고 싶은데요. 팝업의 type of content가 review일 때, order의 내용을 변경할 수 있나요?(make changes to 에서 do a search for 사용시 원하는 data를 지정하기가 어렵습니다 ㅠㅠ)': 1414, ' make changes to thing이 아니라 create a new thing으로 해야할거 같은데요? data types이 어떻게 됐는지 봐야 좀 더 자세히 알 수 있을 듯 do a search for이 왜 문제인지까지는 파악이 된 상태인데, create a new thing으로 추가하면 안되나요?': 1417, ' 안녕하세요! 어제에 이어 또 질문이 있습니다 ㅎㅎ 1-page app을 만드는데, parameter를 통해서 이동한 page에서 data를 display data를 통해서 보이도록 했습니다. 그런데 새로고침을 하면 data가 모두 사라지는 문제가 있습니다. 새로고침을 해도 data가 계속 남아있도록 하는 방법이 있나요?': 1423, ' 데이터를 워크플로우에서 url parameter말고 url path로 보낸다음에 이동한 페이지에서 get path from url로 받는 방법 시도해보셨을까요?!?': 1424, \" 안녕하세요! 질문이 있습니다.repeationg group 안에 input을 넣고 그 값을 저장하고 싶은데요. 사진 현재는 이렇게 각 셀 별로 저장을 하고 있는데, repeating group 밖의 하나의 버튼으로 한번에 데이터를 저장하는 방법은 없을까요? 한번에 여러 데이터를 수정하려면 make change to list... 기능을 써야한다는 내용을 포럼에서 봐서 계속 해보는 중인데요. repeating group 안에 있는 input 값은 불러올 수가 없네요.. 사진 저 빨간 input이 'input 정가'인데, 보이지가 않습니다 현재\": 1425, ' 혹시 이런 빈공간까지 전부 채우게 하려면 shape에서 설정을 어떻게 해야 할까요? 사진': 1433, ' 이미지 element의 image source(dynamic data)가 비어있을 경우 대체할 이미지 source를 condition에 넣었는데 화면에 잠깐 나타났다가 사라지는 문제가 있습니다ㅜㅜ 혹시 어떻게 해결하는지 아시는 분 있나요?': 1436, ' 어떤 소스인가요?': 1437, ' 업로드 하시고 파일매니저에서 url가져오셔서 넣으신거죠? 그렇게 해도 1회 노출만 되는건가요?': 1439, ' api connector로 연결한 모든 api에서 특정 error code를 잡아서 워크플로우를 실행시킬 수 있나요??   예를 들어서 어떤 api에서든 402에러가 발생하면, 특정 워크플로우가 실행되도록요': 1443, ' 텍스트 클릭시 링크가 열리도록 했는데, 현재 페이지에서 해당 링크로 바뀝니다. 이거를 새로운 페이지에서 링크로 이동하도록 하려면 어떻게 해야할까요? 사진': 1445, ' 안녕하세요~ 서치박스 드롭다운 개수 조절하는 방법 아시는 분 있나요? max entries를 늘려봐도 반영이 안 되어서요. 현재 7개 정도 보여주는데 검색되는 리스트가 너무 많아서 7개로는 원하는 결과를 찾을 수가 없습니다 ㅠㅠ': 1447, ' Max. entries to show 몇 개 이신가요?': 1448, ' 오 감사합니다😊😊': 1451, ' 리피팅 그룹에 있는 체크박스들이 검색을 하거나, 페이지를 바꾸거나, 드롭다운으로 필터를 주게되면 체크 상태가 비상식적으로 작동하고 있는데 혹시 이에대한 해결법이 있을까요': 1452, ' 안녕하세요~ 혹시 bdk native를 통해 앱을 내보신 분이 있을까요?': 1454, ' 안녕하세요~ 혹시 repeating group에 띄워진 데이터들을 search box를 통해 검색하고 버튼을 누르면 repeating group 제일 위에 그 데이터가 오게 할수 있도록 하는 방법이 있을까요??': 1455, ' 혹시 데이터 타입에 있는 정보를 한번에 전부 바꿀 수 있는 방법이 있나요? 예를 들어 여기서 모든 Server Name을 한번에 바꾼다던가 입니다 사진': 1458, ' 이렇게 뜨는데 어떤 설정을 해야하나요? 사진': 1461, ' 안녕하세요! 혹시 녹음기 기능 사용해서 버블DB에 저장해보신 분 계신가요?저는 아래 플러그인 사용해서 녹음기 기능을 사용했는데, DB에 저장이 안돼서요😭요 플러그인이 아니더라도 구현하신 분이 계신가 궁금합니다.': 1466, ' 싱글페이지로 만들면 결국 다 그렇게 되는데, 페이지 그룹들을 reusable로 만들어서 분리하면 훨 낫습니다 제가 해봤는데, db에 저장 안되는게 플러그인 오류가 맞나요? 혹시 워크플로우 문제일수도 있으니 한번 보여주실 수 있을까요 녹음/재생 플러그인들이 기기나 브라우저별로 오류들이 좀 많더라구요 ㅠ': 1467, ' 안녕하세요 현재 웹플로우랑 버블이랑 고민하고 있는데 혹시 웹플로우랑 어떤 차이가 있는지 알수 있을까요?': 1468, ' 희철님이 만든 공유 노션에 곧 저희가 만든 프로덕트들 공유하도록 하겠습니닷! 버블로 만든 프로덕트에 대해서 공유해도 될까요 희철님??': 1489, ' 이미지를 슬라이드로 넘기는 plugin 중 이미지 클릭시 원하는 페이지로 이동하는 플러그인 있을까요? 없다면 slick slideshow같은 플러그인 이용해서 위와같은 기능을 구현할 수 있을까요?': 1499, ' 이거 같은경우에 텍스트를 눌렀을때 이동하지 않나요? 그리고 새로운 페이지가 열리던데 내부에서 이동하도록도 가능한가요?': 1502, ' 혹시 버블 io 특수문자 인코딩 표 갖고계신분 계실까요? 찾았습니다!': 1505, ' 혹시 url 파라미터 값을 go to page 없이 삭제하는 방법 아시는 분 계세요? remove-empty-url-parameters 플러그인은 이제 작동을 아예 안하는 것 같습니다..': 1506, ' 이 친구는 비어있는 파라미터만 지워주는 플러그인인데 모든 파라미터가 다 차 있던 거 아닌가요?? :)': 1507, ' 네 어제 하다가 아 맞다 비어있는 거지 하고 있었어요 새벽이라 톡을 못봤네요 ㅋㅋ 감사해요~ 혹시 안비어있는 파라미터 삭제하는 방법 아시는분 계세요?': 1508, ' 버블로 모바일 캘린더 구현해보신 분 계신가요?? 캘린더 플러그인을 차즌ㄴ데, 모바일에서 사용할만한 편의성을 가진 플로그인이 없네요. 혹시 구글 캘린더라도 사용해 보신 분이 계실까요?': 1511, ' 버블 캘린더가 많이 부족합니다,,ㅠㅠ 혹시 어떤 식으로 디자인 나오는지 볼 수 있을까요? 저는 full calendar suite 플러그인 받아서 쓰고 있습니다': 1513, ' 저는 air date/time picker 쓰고 있습니다 어떤 캘린더 기능이 필요하신가요? 사진': 1515, ' 플러그인을 만드셨다니 놀랍습니다! 정말 능력자시네요!👍👍플러그인은 어떻게 만들 수 있나요? 별도로 코딩을 하시는 건가요?': 1527, ' 소정님 회사 다니시나요?': 1531, ' 사진 안녕하세요~ 혹시 캐러셀 플러그인 어떤 것들 쓰고 계실까요? 게시물의 카테고리를 캐러셀로 보여주고 싶어서요': 1539, ' 그렇게 할 수도 있겠군요! 아이디어 감사합니다~ 안녕하세요~ Repeating Group 안에 있는 셀들의 높이를 dynamic하게 조절하는 법이 있을까요?저희 제품은 소셜미디어 서비스고, Repeating Group 내에 글 작성자의 프로필 / 글 / 사진이 들어가는 구조인데요.사진이 없을 땐 해당 image element가 collapse되게 했음에도, 사진이 있는 셀에 맞춰 모든 셀의 높이가 커지고 있습니다.사진이 없는 셀일 경우엔 높이를 줄이고 싶은데 가능할까요?': 1546, ' 이미지 레이아웃에서 collapse when hidden 체크 하셨는데도 그런가요?': 1547, ' 이미지 말고 다른 group에 collapse조건이 안들어있는 건 아닌지 확인해보셔요!': 1548, ' 사진 요거를 어떻게 해결할 수 있을까요??': 1550, ' 데이터 수집하는 파일들을 외부 스토리지로 보내서 그 파일들 집합이 모인 링크를 생성하려고 합니다. 버블 안에서 그 파일들을 데이터로 처리하면 용량을 너무 많이 잡아먹을 거 같아서요. 어떤 스토리지를 쓰는게 좋을지 어떻게 연동해야할지 혹시 아시는 분 있으시면 조언 좀 구할 수 있을까요?': 1552, ' 혹시 커스텀 도메인 사용하시는 분들 보통 어떤 업체 사용하시나요? 호스팅 KR 사용하려고 하는데 더 괜찮을 곳이 있을까 해서요~!': 1555, ' 안녕하세요. bubble personal플랜으로 구매하려 하는데 최대 몇명까지 사이트에 접속해도 괜찮나요?': 1560, ' 카카오 로그인 같은 기능 버블로 연동해보신 분 계신가요?': 1565, ' 혹시 croppie라는 플러그인 쓰시는 분 계실까요? croppie를 통해 업로드한 이미지로 db를 바꾸고자 하는데, db에 업로드된 줄 알았던 이미지가 페이지 리프레시 후엔 사라져있네요ㅠㅠ': 1577, ' 아하 그렇군요! 답변 감사합니다! 그렇게 해보겠습니다~ 안녕하세요~ 혹시 유저들의 인피니트 스크롤링 페이지의 스크롤 다운 정도를 트래킹할 수 있는 방법이 있을까요? 현재 믹스패널을 쓰고 있는데, 액션 중에 특정 지점까지 스크롤했을 경우에 이벤트를 보내는 액션은 보이지가 않네요..': 1579, ' bdk repeating group 플러그인 혹시 사용해보셨나요? 해당 기능이 있었던걸로 기억해요': 1586, ' 안녕하세요저 버블 어제 처음 시작해보고 있는데처음 시작하셨을 때 보통 어떤걸 보고 배우셨을까요?? 유튜브 자료는 많이 없는 것 같아서요..': 1590, ' 결제시스템 stripe 말고 한국에서 kg이니시스나 PG 시스템 중에 플러그인 어떤 걸로 보통 사용하시나요?': 1596, ' index 페이지의 컨텐츠 타입을 지정해놓으셨으면 해당 경고가 뜹니다 :) 사진 여기 확인해보시겠어요??': 1600, ' 채팅방 목록이 repeating group인 걸까요?': 1606, ' Repeating group에서 do search for 채팅방 하실 때 sorting으로 걸어보셨나요?': 1608, ' 사진 혹시 이런 레이아웃 픽스나 마진외에 더 효율적으로 구현할 수 있는 방법 없을까요? ㅠ.ㅠ': 1618, ' 저도 그냥 패딩으로 처리했는데 패딩으로 하는 건 별로신가요? 사실 가장 간단한 건 그거라서 ㅎㅎ': 1622, ' 혹시 버블에 스트라이프 연동이 잘 되어있는것 같은데, 제가 알기론 한국에 진출 준비중이라 들었습니다.그래서 국내계좌랑 스트라이프랑 연결하는건 어려울 것 같고스트라이프 전용계좌를 외국에 만들어 두고 , 국내사용자가 국내카드로 스트라이프 결제을 하면 원 → 달러로 외국계좌에 입금이 가능할까요? 스트라이프 저도 처음이라 잘 모르는데 혹시 사용하신분들이 있으실까 궁금하내요 🙇\\u200d♂️': 1631, ' 사진 혹시 이런식의 플로우차트 구현은 어떻게 가능할까요?': 1648, ' 제가 질문을 명확히 못드린것 같아 죄송합니다. 혹시 버블에서 구현하는 방식이 가능할까요?': 1650, ' 사진 혹시 특정 키워드 색깔을 진하게해서 강조하려면 어떻게 해야 할까요? 방금 올린 질문 답변 받았습니다!!': 1653, ' 사진 3장 왜 안될까요? ㅠㅠ': 1654, ' 사진 3장 이거에 이어서 현재 time slot을 옵션셋으로 만들었는데 date에서 선택한 셀의 날짜가 아니라 22년 1/1로 들어가네요 혹시 이유를 알 수 있을까요?': 1656, ' 질문하신 내용이 22년 8월 24일 12시를 선택했지만 22년 1월 1일 12시로 표시된다 는 문제를 얘기하신거죠? 이미지에 보면 8월 24일을 선택했다고 나오는데요, 선택한 날짜를 db에 기록하는 부분이 있나요?': 1659, ' time slot 옵션에 date 타입의 date에 옵션값은 셋팅되어 있나요? ? text 타입 display 만 옵션값을 설정하신걸로 보이는데요?': 1660, \" Current cell's time_slot's date 하고 custom state값과 연동되어 있나요?\": 1663, ' 안녕하세요! 혹시 버블을 이용하시는 분들중에 스케치나 엑스디 디자인 프로그램을 사용하시는 분이 있을까요? 있으시다면 스케치나 엑스디를 통해  만든 디자인을 버블 사이트에 옮기는 방법이 있나요? 아니면 보통 디자인을 먼저 하고 그걸 버블에 일일히 구현하는 방식으로 하나요? 옮겨서 일일히 하는거에는 버블에는 한계점이 있을것같아서 ㅠㅠ': 1667, ' 희철님 화면에서는 되시는건가요?': 1671, ' 버블러분들 안녕하세요! 저도 하나 문의드리고자 합니다. 아래 링크와 같이 자석처럼 쓱쓱 넘기는 효과(스크롤 스냅)을 Repeating Group에 적용하고 싶은데요, 링크에서 제시하는 CSS를 Repeating Group에 어떻게 적용할 수 있을까요? 고수님들의 의견 부탁드립니다 ㅠㅠ': 1679, ' 혹시 서울대학교 재학중인 분들 계실까요? 서울대학교 노코드 동아리 DWNC 2기 리크루팅중인데, 혹시 이 방에 관심있는분들이 계실까 해서 여쭤봤습니다!': 1683, ' 다 버블로 구현하신건가요?': 1686, ' 안녕하세요. 혹시 버블사용법에 대해 정리된 url이 있을까요? 처음 사용해봐서 워크플로우에 대해 알고싶은데 구글링해도 잘안나오네요': 1696, ' 혹시 노션을 백엔드로 사용한 사례 있을까요?': 1698, ' 안녕하세요! 버블 persnal 플랜에서 업그레이드 하는 기준을 보통 유저 몇명 정도로 하시나요? 다른 분들은??': 1709, ' 활성화 많이 되신분들은 속도에서 불만은 없으신가요?': 1711, ' 좋은 인사이트죵?? 버블이 느린건 어떻게 할 수 없으니까...': 1716, ' 사진 버블 데이터 베이스에서 조회수가 가장 높은 3개만 정보를 불러오려면 어떻게 해야하나요?': 1721, ' Do search for에서 sort 조회수 descending=yes에 items until 3 하면 되나요?': 1722, ' 혹시 여기서 사진 아이템 until 3는 어디에 입력하나요?': 1723, ' 혹시 버블 캐퍼시티 설문 하신 분 계신가요?': 1728, ' 혹시 이렇게 캐퍼시티만 조정하는 건 별로인가요?': 1735, ' 저도 관련하여 세그먼트로 정리할 수 있도록 기능 구현하려고 기획 중이에요! 추가적인 개인 리소스가 정확히 어떤건지요?': 1741, ' 궁금이한게 있는데 워크플로우라는 노코드플랫폼이 있던데 혹시 사용하신분 계시나요? 이거보다 버블이 더 좋다면 버블메뉴의 워크플로우기능이 이유인가요?!': 1757, ' 혹시 궁금한것이 있어 질문 드립니다.버블로만든 것을 플레이스토어와 앱스토로 배포하려면 어떻게 하여야 하는지요?': 1772, ' Database의 record가 15000개 정도되니까 Repeating group으로 불러오는 데에 시간이 오래 걸리거나 또는 아예 불러오지를 못하는데… 어떻게 해야 할까요?- 플랜을 업그레이드 하면 빨라지나요?- External database를 써야 한다면 어떤걸 써야 할까요? (참고로 bubble, airtable DB로는 아예 불러오지를 못하고, 구글sheet로는 시간이 한참 걸립니다.)': 1784, ' 플랜은 상관 없습니다 페이지네이션 말고 방법이 있을까요?': 1785, ' 프론트에서 만오천개를 한 페이지, 한 그룹에 바로 불러와야 하는건가요??': 1786, ' 그거는 api랑 connection하는 데에서 설정하는건가요? 다시 말해서 버블 내의 플러그인 내의 API Connector에서 설정하는건가요? 그런 설정이 없어 보이는데 방법을 알려 주시면 감사하겠습니다. 그리고 만약에 API에 페이지별로만 로딩을 한다면 filtering 기능을 적용할 수 있나요?': 1789, ' DB단에서 세팅을 해야 한다는 말씀이신거죠?': 1791, ' 안녕하세요~ 버블에서 구글 로그인 연동하신 분 계신가요? 403에러가 뜨는데 구글에서 웹뷰 로그인을 막아놓아서 그런 것 같아요 혹시 해결하신 분 있을까요?': 1799, ' Gcp 설정 해주샸나요?': 1800, ' 그렇군요! 카카오 말고는 괜찮은 걸까요?': 1803, ' 첫 스팸글이 올라와서 화들짝 놀라가지고 바로 가렸는데 누가 올린건지 못봤네요 ㅠ 혹시 누가 올렸는지 보신분 계세요?': 1806, ' 안녕하세요!처음 인사드리면서 첫 질문 드립니다~버블로 신슈 서비스 MVP를 진행 해 보려고하는데요. 기존 운영 중인 메인 서비스 사이트 회원 로그인과 연동하는 것이 가능할까요?기본 제공 되는 기능으로는 안될 것 같은데…혹시 어떤 API를 제공하지 않을까해서 찾아 보는데 잘 나오지를 않네요.': 1814, ' 그렇게 되면 참 좋을 것 같은데, 버블에서 지원을 하나요~?': 1818, ' 혹시 기존 로그인 페이지와 회원 DB는 사용하되, 신규 서비스를 가입한 사용자들에게는 신규 서비스 페이지만 보여주고 싶다는 걸로 이해하면 될까요?': 1823, ' 이미 운영중인 서비스에서 API를 제공하는지 알아보려면 지금 사용중인 서비스를 알려주셔야 도움을 드릴 수 있을 것 같네요 :)': 1825, ' 운영중인 서비스는 자체개발인가요?': 1827, ' 그러게요 ㅎㅎ 놀랍네요!혹시 버블로 만들어서 앱으로 래핑하셨던 분들이 계실까요?': 1849, ' ㅋㅋㅋ 아 ㅋㅋㅋ 이놈들잌ㅋㅋㅋ': 1864, ' 혹시 앱마스터와 버블은 어떤 큰 차이가 있을까요? 비교를 해보신 분 계신가요~?': 1890, ' 버블이 웹앱 빌더라서 앱 관련해서는 대응이 부실했는데 앱마스터가 대안이 될 수 있을까요? 저도 자세히 보고 있는데 나쁘지 않아 보이는데요?': 1898, ' 오 이 오류 고친 줄 알았는데 다시 나오네요🥲 혹시 OS랑 브라우저 뭐 쓰시나용? 네네 갠톡 주세요 :)': 1910, ' 안녕하세요 웹정도만 만지다가 mvp제작 때문에 버블을 처음으로 만지고 있습니다생각보다 너무 문외한이라 서치박스 하나 들어가는데 헤매네요 혹시 제작할때 참고할만한곳을 알고계신분이 있으실까요? 버블이 키워드때문인지 서치가 너무 어렵네요': 1914, ' 혹시 지금 웹 제대로 열리시나요?': 1918, ' 버블 웹이 갑자기 엄청 느려졌는데 다른 분들은 괜찮으신가요..?': 1927, ' 혹시 로그 봐보셨나요?': 1928, ' 저는 토스페이먼츠 쓰고 있고 이 방에 다른 결제 붙이신 분들도 있을 거에요. 그런데 아임포트... 요즘 일정 매출 이상인 곳만 계약해준다고 들었는데 계약 수월한지 모르겠네요. 잘 아시는 분 계신가요? 저 오전에 뭔가 오류 있었는데 아무래도 오늘 좀 불규칙하게 불안정한 것 같습니다 ㅠ': 1930, ' 연동하신 분들 문제는 없었는지 궁금했어요 ㅎㅎ': 1934, ' 결제 관련해서 혹시 버블 외 연동해보신분이 있으실까요?': 1935, ' 버블 외 연동이 정확히 어떤건지요?': 1936, ' 안녕하세요 혹시 버블에서 set-cookie 헤더 사용해보신 분 계실까요?그냥 브라우저에서 api 테스트하면, cookie가 붙는데 / 버블에서 api connector활용해서 하면 cookie가 안붙네요 ㅠ_ㅠ': 1938, ' 혹시 유저에게 보내는 이메일 형식을 뉴스레터 처럼 커스텀해서 보내고 싶을 때 쓸 수 있는 플러그인이 있을까요? 다른분들은 보통 어떻게 하시나요?': 1941, ' 혹시 페이지 권한 처리 하실 때 어떻게 하시나요?예를 들어 로그인 한 사용자들은 로그인 페이지에 접근이 안되게 하고 싶은데요워크플로워에서 페이지 이동 하는 방법과 더불어, 그룹으로 로그인 폼 감싸고  로그인 한 경우 안보이게도 처리해봤거둔요최선인지 궁금합니다 ㅎㅎ': 1945, ' 아 그렇군요! 센드그리드 체크중이긴한데 써보셨을 때 혹시 비용은 괜찮은 수준인가요?': 1946, ' 그런데 로그인하지 않은 사람들이 내부 페이지에 접근을할 때는 페이지를 다 로딩하기 전에 차단을 해주고 싶은데…그런 방법이 있을까요?': 1947, ' 워크플로우에서 유저가 로그인되지 않은 상태에서 해당내부페이지에 들어왔을때 로그인페이지나 다른페이지로 자동으로 넘어가도록 설정하는 방법은 어떨까요???': 1948, ' 해당 요소들을 invisible하게 하고, 로그인 상태일 때만 visible하게 보여주는 방법은 어떨까요?': 1955, ' 혹시 버블에 이미지 복사 붙여넣기 되는 텍스트 에디터 있을까요?ㅠ': 1964, ' 같이 찾아봐주셔서 감사해요\\U0001faf6🏻': 1977, ' 안녕하세요? 오늘도 도움을 부탁 드리고자 합니다. 버블 데이터베이스에서 필드간 연산을 해서 다른 필드를 생성하는 방법이 있을까요?': 1979, \" '다른 필드'를 미리 생성해두시고, 데이터 필드들을 추가할 때 워크플로우를 통해 연산해서 넣으시면 될 것 같습니다 의도하신게 어떤건지는 모르겠는데, 혹시 이미 생성된 데이터베이스를 기반으로 새 필드를 만들고 싶으신 걸까요\": 1980, ' 죄송하지만 2번에 대해서 조금만 자세히 말씀 주실 수 있으세요? WHEN을 어떻게 설정해야 하는지': 1983, ' 기존의 data field A,B를 추가하실 때 어떻게 추가하시나요?': 1984, ' 안녕하세요~혹시 스타일을 일괄로 변경할 수 있는 방법이 있을까요? 폰트를 하나 하나 바꾸려니…참 어렵네요…ㅠ.ㅠ ㅎㅎ': 1986, ' 아 혹시 이방에서 외주하시는분 계실까요?': 2005, ' 버블이 속도가 생각 보다 느리긴 느리군요 ㅠ.ㅠ 상품 카테고리를 데이터 타입으로 만들고 뿔려주는데 이모지+텍스트인로 구성된 11개 정도 로딩하는데 뭔가 느리다는게 느껴지긴 하네요 ㅎㅎㅎ ㅠ.ㅠ 혹시 최적화를 위해서 다른 분들 팁이 있으실까요~?': 2010, ' 11개 정도로 느리다면 뭔가 이상하긴 합니다. 불러오는 데이터 개별 항목의 크기가 지나치게 크거나 별도의 필터 연산 과정이 복잡할 경우 느려질 수 있는데 혹시 이모지가 문제 되는 게 아닐까요?': 2011, ' 곧 영상을 한번 올려 보겠습니다. 혹시….이 정도 속도가 맞는지…확인 부탁드릴게요 ^^;;;': 2014, ' 안녕하세요? 대쉬보드 만들기 위한 차트 플러그인 중에 추천해 주실만한 것이 있을까요? Group by가 가능하고 또 여러개의 DB에서 데이터를 가져와서 하나의 차트에 넣을 수 있어야 하는 등의 기능이 있으면 좋겠어요. 현재는 Chart JS하고 ApexCharts.js를 비교하고 있는 중이에요': 2027, ' 저 질문있습니다! @이소정 / 노코드, 교육 @이주형/해치하이커  @김승진 @이호준/사업개발  버블로 외주 진행하실때 요금제를 에이전시 요금제를 사용해서 진행하시나요? 유지보수도 어떻게 진행되는지 궁금합니다!': 2049, ' 혹시 버블 외주 받고 싶으신 분 있나요?': 2057, ' 엇 에이전시플랜이 있는건 처음봤네요. 이거로 하면 유료플러그인도 혹시 다 써볼 수 있나요?': 2058, ' 외주개발자를 찾으시는건가요?': 2060, ' 그래서 저도 뭐 좀 여쭙고 싶네요. 지금 파일 업로더 제대로 작동하시나요? 갑자기 안되네요': 2067, ' 데이터 추가에는 문제 없으시고, 이미지 업로드에만 문제가 있는 걸까요? 이미지 업로드=파일 업로드': 2072, ' 버블 매직 🎭': 2074, ' 감사합니다. input의 밸류가 변경된다는 건 인풋에 무언가를 입력할 때를 말씀하시는건가요..? 즉 타이핑 할 때..?': 2078, ' 안녕하세요!버튼 엘레멘트 위치를 스크롤에 상관없이 고정시키고 싶은데 조언을 얻을 수 있을까요?': 2082, ' Floating Group 사용해보셨나요? :)': 2083, ' 플로팅 그룹을 만지작 거려봤는데 잘 안되서 조금 더 상세한 방법을 알려주실 수 있을까요?플로팅 그룹 안에 버튼을 집어 넣으면 되는걸까요?': 2086, ' 혹시 지도에서 상점들 마커는 찍어두고 추가적으로 실시간 제 위치만 버튼 누르면 나타낼 방법이 있을까요?': 2096, ' 혹시 어떤식으로 하면 될지 자료도 있을까요?!? 개발은 가능합니다!': 2099, ' 워크플로우에서 조건절로 미리 분기하는 건 안되는가요? 무조건 액션을 넣어야 한다는 게 조금 불편한데.. 1. 드롭다운 두 개가 모두 채워졌을 때 계산과 액션을 수행하려 합니다 Trigger a custom event로 이벤트를 따로 빼는 걸로 하면 될까요': 2101, ' 음 조건절에 대한 테스팅은 어떻게 수행할까요 console.log() 같은 게 있음 좋겠는데.. 혹시 다들 어떻게 테스트하시는지 궁금합니다': 2103, ' 텍스트 내용을 바꾸려면 무조건 dynamic data를 써야 하나요..? 커스텀 이벤트 트리거시에 숫자들을 계산해서 텍스트 엘리먼트에 넣어주려고 하는데요 ..': 2125, ' 오늘 너무 질문러시네요 ㅋㅋ 감사합니다 염치불구하고 질문 한개만 더 해보겠습니다 사진 이런 복잡한 수식을 계산하려면 어찌 해야 하나요? 이리저리 찾아본 결과 1. 자바스크립트 플러그인 사용2. 데이터베이스에 넣고 빼가며 사용 두가지 해결법을 찾았는데 둘다 뭔가 매끄럽지 않아서요 사진 Calculate formula가 당연히 이 부분을 해결해줄 줄 알았는데 수식이 몇개 없더군여': 2129, ' 디자인 탭도 볼 수 있을까요??': 2130, ' 저 문의하다가 너무 느려서 포기했는데 얼마인가요?? ㅎㅎ': 2136, ' 가입을 새로 해야되는건가요?': 2143, ' 상품과 카테고리가 있다면…데이터 타입 구조를 잡을 때 어떻게 하는게 최적일까요?1. 카테고리에 \"상품\" 필드 만들고 리스트로 넣기2. 상품에 \"카테고리\"필드 만들고 단일로 지정하기': 2154, ' ㅍ ㅍ': 2155, '   ㅏ려ㅓ  ㅊ   ㅏ려ㅓ  ㅊㅡ': 2158, ' 파라메터 아이디는 뭘까요? 네임과 다른건가요?': 2160, ' 카테고리의 데이터 타입이 텍스트가 맞는지 확인해보세요~': 2163, ' 사진 텍스트가 아닌 카테고리를 참조하도록 해놨습니다 혹시 경우 작동을 하지 않을까요?': 2164, ' 나중에 카테고리 명이 변경 되는 경우 등을 대비해서 이런 구조를 만들어 본건데요;;; 이 부분도 옵션셋으로 한번 해볼게요 카테고리 페이지로 넘어 가면서 데이터를 물고 넘어 가야 해서 그런데 혹시 url get 사용하지 않고 하는 방법이 있나요?': 2173, ' 페이지 다 읽고 나서 뜨는 로더?는 gif를 첨부하신 걸까요? 딱 게이지가 다 차고 얼마 지나지 않아 페이지가 바뀌는데 어떻게 하셨는지 궁금합니다!': 2189, ' 빌드가 제작 기간을 말씀하시는 걸까요 아님 로딩 시간에 관련된 빌드 시간을 말씀하시는 걸까요? :)': 2211, ' 버블 API커넥터 사용하는 방법을 이해하지 못하겠습니다. 혹시 사용법을 알고계신 분들이 계실까요??': 2223, ' 컨디션이 아니라 아예 에디터 설정창에서 바뀌는 건가요?': 2230, ' 컨테이너 레이아웃이 픽스일 경우, width를 1200px 이상으로 설정하면 preset이 자동으로 full width로 변경되는 것 같습니다 그렇다면 왜 width가 1200로 변경되는지 추적해보면 답이 나올 것 같아요 혹시 페이지가 아니라 자식 그룹을 설정하신 건 아닐까요?': 2237, ' 1080으로 해놓고 어떻게 했을 경우 바뀌나요? 그냥 1080으로 넣고 설정창을 닫으면 다시 바뀌어 있나요?': 2239, ' 설정 됩니다?? 안되시나요?': 2248, ' 이런 형태로 나오는 text엘리먼트를 넣으려면 뭘 선택해야 하나요?': 2249, ' 혹시 스타일이 지정되어 있는 건 아닐까요?': 2252, ' 혹시 유튜브 영상을 유튜브 보더 없이 재생시킬 수 있는 방법이 있을까요?': 2256, ' 유튜브 정책상 컨트롤러 없애는 거 까지밖에 안되는 것 같더라구요ㅠ + 저는 사파리, 모바일에서 재생이 안되는 문제가 있는데 어떻게 해결할까요🥲': 2257, ' 비메오로는 가능한가요?': 2259, ' 안녕하세요 혹시 버블에서 데이터베이스에 있는 내용을 리스트 형태로 불러오는 기능 있을까요?': 2263, ' 아하 이거인것 같습니다!! 근데 잘 안불러와 지네요..ㅜㅜ 사진 리피팅 그룹에 텍스트를 넣으면 같은 내용이 반복되네요ㅜㅜ 저는 한 데이터씩 끊고싶은데 어떻게 해야할까요??': 2266, ' 안녕하세요? 또 질문이 있습니다. 매번 감사합니다. (저도 베풀어야 할텐데…)웹어플리케이션 상에서 엑셀을 업로드하면 필드 맞춰서 데이터베이스에 기록하도록 하는 기능을 버블에서 구현하려면 어떻게 해야 할까요? 아직 제 능력으로는 방법을 모르겠어서 도움을 얻고자 합니다. 감사합니다!': 2276, ' 질문이 있는데요..ㅠㅠ 템플릿을 구매해서 프리뷰로 보면 사진1과 같이 내용물이 잘 보이나. 에디트 모드에서는 사진2와 같이 특정 엘리먼트들이 보이지가 않습니다. 이거 왜 이러는걸까요?? 사진 사진': 2279, ' 1:1 코칭 비용은 어느정도 인가요?': 2286, ' 노코드방에서 한울님이 버블포럼에 가면 인스타그램 클론코딩 하는 아티클이 있다고 하셨는데 어디로 가야 하는 걸까요? ^^;;': 2288, ' 네~! 안녕하세요~ 희철님. 진작에 희철님이 기획하신 것 알았다면 기획에 대해 여쭤보려고 했는데 현재 진행하고 있는 기획 잘 진행이 안되면 연락 한 번 드려도 될까요??': 2293, ' 희철님께 질문이 있습니다! 희철님께서 만드신 애드샐러드 서비스의 대시보드를 멤버스탁과 웹플로우로 작업하신건지, 버블로만 작업하신 건지가 궁금해요!': 2298, ' 아, 제가 좀 더 자세히 질문을 드렸어야 했는데 죄송합니다. 인스타그램 클론코딩 아티클 처럼 브런치와 같은 글쓰기 중심의 서비스도 클론코딩 해볼 수 있는 가이드가 있을까요?': 2300, ' XD팀은 어떤 기분일까요 ㅎㄹ': 2309, ' 외국도 반응이 비슷하네요 신기... 투명도도 같은데 색감이 다르신가요??': 2312, ' 안녕하세요 ㅎㅎ 질문이 또 생겨 왔습니다!.. 혹시 카카오로 로그인 하는 기능을 버블에 붙이는 방법이 있을까요??': 2314, ' 답변 정말 감사합니다!!!! 저근데 원본 글이 안뜨는데 혹시 링크 복사해주실 수 있을까요?!?': 2317, ' 오 오랜만에 새로운 기능이네요 ㅎ 반응형이후 오랜만🙈': 2324, ' 네네 거기까지는 제가 이해를 했습니다.그 이후 로그인 처리를 어떻게 해야 하는지가 잘 이해가 안되더라구요 @@;; 아 버블 api로요 로그인 처리 후 버블로 정보를 쏴주고버블 user에 회원 정보가 없는경우 새로 생성하고 로그인 처리를 하는 방식일까요?': 2333, ' 아하 혹시 기존 서비스의 회원 DB와 버블의 user 데이터를 말씀이신가요?': 2335, ' 안녕하세요.API connector에서 shared headers for all class 쪽에는 동적 헤더 추가 불가능할까요? 사진': 2340, ' API Connector를 이용해서 디스코드 채널의 메시지를 가져오고, 이를 버블 데이터 베이스에 저장하려고 하는데. 자동으로 데이터 베이스에 저장하게 하려면 어떻게 해야 할까요? do every 5 seconds 이용해야하나요?': 2345, ' 저 혹시 버블 관련해서 채용공고 보고 싶은데 머라고 검색해야 잘나올까요... 따로 구인구직하실때 참고하시는 사이트가 존재하실까요?': 2346, ' 메시지가 생기면 -> 디비 저장 맞나요?이경우는 개발이 좀 필요할것같은데 (이벤트 트리거를 디스코드에서 해야해서) 버블 data api 이용해서 직접 넣어줄수있어요 요거는 가능할것같은데 매우매우 비효율적인 구조일거라서 디스코드 플러그인에는 트리거 기능이 없나요': 2347, ' 답변 감사합니다! 위 내용을 토대로 개발자 님과 회의해 보겠습니다! 혹시 여기서 버블 data api를 이용한다는게 이해가 안되는데 조금 더 자세히 설명해 주실 수 있을까요? api connector와는 다른 것인가요?': 2350, ' 안녕하세요! 지난번에 병준님과 함께 SEO 웨비나를 열었던 최상단 팀의 대표 이준석입니다 ㅎㅎ 혹시 버블에서 비즈톡 연결해서 사용하시는 분이 있으실까요? 처음 해봐서 대행사는 어떻게 정해야할지, 법블에 있는 정보는 어떻게 실시간으로 넘기는지 여쭙고 싶습니다! 이모티콘': 2353, ' URL Parameter를 이용한 Go to page 워크 플로우를 생성할때 노트북에서는 작동을 잘하지만 핸드폰에서는 구현이 되질않습니다ㅠㅠ 이유를 알고계신분 있으시다면 조언 좀 구할 수 있을까요?': 2358, ' 정말 이상한 일이네요 어떤 브라우저 쓰시나요?': 2359, ' 크롬 사용중입니다😢': 2360, ' 저도 비슷하면서 약간 다른 짊문인데요.. iOS 사파리에선 외부 링크(앱스토어의 앱 설치 링크)가 잘 열리는데, iOS 크롬에선 워크플로가 아예 작동을 안 하네요. 혹시 비슷한 경험하신 분 계실까요?': 2362, ' 혹시 위에 말씀드린 내용이나 다른 조건 설정 등에서 문제되는 점은 발견못하셨나요? 주어진 정보가 너무 제한적이라 이런 경우에는 다각도로 검토하고 점검해봐야 찾는데 도움이 됩니다 파라미터는 제대로 넣어놓으신것 같은데 다른 부분에서 조건식이 잘못들어갔다던가 점검하는 식으로요 오오 고생 많으셨습니다 혹시 안드로이드는 없으신가요?': 2371, ' 안녕하세요   버블 자세히 배울수 있는 까페 나 블로그  있나요 ?': 2383, ' 아 너무  정말  감사해요   그리고 궁금한게  안드로이드   와  ios  둘다  가능 한가요 ?': 2387, ' 혹시 구인구직 관련 정보는 어디서 찾아보시는지도 알려주실수있을까요...검색해도 잘 안나와서요ㅠ 저가 서치하는 방법을 잘 모르는건지..ㅠ': 2388, ' 버블로 제작하면 무료 인가요 ?  다른툴로 제작 하는거에 비해   제약이 적으편이고 상상하는 대부분의  어플 제작이  가능한가요  ?': 2390, ' 마지막 질문 드려도 될까요 ? 제가 너무 몰라서 이해가 안되는듯 버블은  애플같은 ios 에 적합한건가요 삼성 안드로이드 는  적용 안되나요 ? 아님 둘다 보여지나요 ?': 2393, '  안녕하세요! 버블 관련해서 질문 드리고 싶습니다:) 제가 현재 제작중인 페이지 리피팅 그룹 안에 그룹포커스를 넣었습니다. (그룹포커스 자체를 넣는건 불가능해서 리유저블을 만든 후 리피팅 그룹 안에 넣었습니다!) 그리고 해당 그룹포커스를 클릭했을 때 정보 수정 팝업을 띄우고 싶은데요, 혹시 current cell의 정보를 팝업에 쏘는 방법을 알고계시는 분 있으신가요??': 2397, ' 사진 이런 구조입니다! 그룹포커스, 수정 팝업은 리유저블에 있고 리피팅그룹은 다른 페이지에 있는데도 스테이트 활용이 가능한가요??!': 2399, ' 리유저블로 만드실 때 데이터 소스 설정을 하진 않으셨나요? 그리고 제가 제대로 이해한건지 모르겠으나 리피팅그룹 안에 설정 버튼을 그룹포커스로 넣으시려고 리유저블로 만든 다음, 리피팅그룹 안에 넣으신거죠?': 2400, ' 사진 지금 유진님이 공유 해 주셨던 카카오 로그인 api설정 참고하면서 따라하고 있는데“code에는 redirect uri 파라미터로 온 코드를 입력한다” 라고 적혀있습니다.여기서 어떠한 방법으로 redirect uri 코드를 얻을 수 있을까요..?찾아보니 ,  만든 페이지에서 로그인을 요청하고 로그인 성공시 돌아갈 페이지 주소가 redirect uri 라는건 이해가 가는데, 카카오 로그인 api를 만드는 단계에서 어떻게 로그인을 요청하는지 모르겠습니다. ㅜㅜ혹시 아시는 분 계실까요?': 2412, '   혹시 카카오에 등록한 redirect URI에 접속하면 파라미터값이 상단에 온다는 뜻인가요 ?': 2417, ' 버블 왕초보인데 결제관련해서 여쭤봐도 될까요? 버블에서 4만원정도 나갔는데 혹시 어떻게 결제해제 가능한지요..': 2431, ' 웹뷰앱 으로   래핑 하는 과정도 유튜브강의에   있나요?': 2440, ' 래핑하는 과정도 알려주시면 좋겠습니다.': 2441, ' 안녕하세요 이번에 버블이란걸 처음 알게되서 프리티어 신청하고 며칠 만져보려고 하는데 혹시 도움이 될만한 사이트(되도록 한글..ㅠㅠ) 템플릿같은걸 personal app에 끌어올수 잇는법이 있을까요??': 2448, ' 앗 그렇군요 ㅎㅎㅎ 감사합니다 무료템플릿 사용법은 create app에서 템플릿적용해서 앱 하나 만든다음 퍼스널 앱쪽으로 복붙형식으로 끌어오나요?? 사진 사진 사진 gggggsdf의 템플릿의 일부분을 personal로 가져오고 싶은데 방법을 어떻게 하는지 아시는분 계실까요오 그냥 copy and paste는 안되네욤;;': 2453, ' 혹시 버블에서 카카오톡 공유하기 구현해보신 분 계실까요?': 2464, ' 우와.. 혹시 해당 workflow를 어떻게 짜신 건지 좀 더 자세히 알려주실 수 있을까요? 개발자가 아니다 보니 어려움이 많네요..': 2470, ' 사진 혹시 이렇게 JSON 형식으로 넘어오는 값을 그래프로 그릴수 있는 기능이 있을까요??!!': 2480, ' App Text 써보셨을까요? 다국어 페이지에 활용하기에 좋은 기능인 것 같아서요 :) 사진': 2484, ' 안녕하세요 질문이 있어서 올립니다.알림 구현하려고 이메일전송기능을 구현중에 있는데요 게시물에 댓글이 달리면 게시물등록자에게 이메일을 보내지게 하려하는데 게시글 작성자랑 댓글작성자가 같은계정이면 동작이 잘 되는데 게시글 작성자랑 댓글작성자 이메일이 다르면 전송이 안되네요 ㅠㅠ 해결방법 아시는 분 계신가요?': 2486, ' step1에 only when 부분은 어떤 조건인가요~?': 2489, ' 그럼 여기 read-popup’s board’s Creator’s email이 게시물 등록자인지 프리뷰에서 확인해보셔야할 것 같습니다!': 2491, ' 사진 run 시켯을때 페이지 네임창 바꾸고 싶은데 이건 변경 불가능한건가요??': 2497, ' 사진 모르고 도메인 설정하다가 런햇는데 페이지가 안뜨는데 이거 어떻게 해결 안되나요...? 어찌저찌 도메인 지웟습니다 글은 삭제하겟습니당': 2499, ' @박유진 님, 안녕하세요! (대뜸 태그해서 죄송합니다)유진님께서 작성해주신 카카오 로그인 구현 문서를 보고 따라하고 있는데, 인가 코드를 요청해서 받아오는 부분에서 막혀있는데요. 버블로 만든 페이지에서 로그인을 요청하고 redirect uri 코드를 받을 수가 있는 걸까요..?': 2501, ' 이제 노코드로 만들어보려고하는 어린이입니다.. 혹시 현존하는 노코드툴중에서 버블로 시작하는게 가장 효과적일까요~?': 2504, ' 안녕하세요! 한국 커뮤니티 있어서 좋네요 반갑습니다저는 데이팅 앱 만들어보고 싶은데 버블로 하면 앱 작동 스피드가 괜찮을까요  틴더 클론 템플릿 테스트해보면 너무 느리더라고요': 2512, ' 안녕하세요 버블 대용량 파일 첨부가능한가요': 2516, ' 감사합니다 혹시 외부 서버스토리지 구현 nas서버 같은걸로 쓰시는분 있나요': 2518, ' 나스는 보통 내부 용도로 많이 써서 사례 찾기가 어려울거에요 혹시 내부 인프라 구축 용도신가요?': 2520, ' 안녕하세요.혹시 버블 sms인증 방법과 관련된 영상이나 튜토리얼이 있을까요?ㅠㅠ': 2531, ' 안녕하세요:) 버블에 구글맵 API 연동하려 하는데 이용자가 핀설정 직접 맵에하는 기능도 가능할까요? 혹시 튜토리얼 있으면 추천 부탁드립니다 ㅠㅠ': 2532, ' 감사합니다! client_secret 사용하지 않으니 해결되었습니다. 토큰 받는 api, 사용자 요청 api 모두 initialize 하였습니다. 이후 버튼을 누를 경우 KOE006으로 관리자 설정 이슈가 뜨는데 해결방안을 알 수 있을까요? redirect_uri쪽은 제가 설정한 uri 주소뒤에/oauth가 붙도록 설정되어 있습니다.': 2537, ' 많은 도움이 되었습니다. 감사합니다 :) @하희철 / 기획, 마케팅, 노코드 우선 밤늦게 정말 죄송합니다.한가지 더 여쭤볼게 있어서 여쭙니다..버블로 페이지 넘기고 하는 등의 기능은 유튜브를 통해 익히는중인데 혹시 날짜별로 데이터를 입력하게끔 하는 기능이 어떤건지 알수 있을까요?예를 들어, 날짜를 선택할 수 있는 버튼은 아는데, 이걸 통해 해당 날짜를 누르면 해당 날짜에 해당하는 자료를 입력하고 시간이 지나서 이전날짜에 들어가도 수정이 가능하게끔 하려고 합니다. 다시힌번 늦은시간 죄송합니다..': 2543, ' 안녕하세요 한가지 질문이 있어 이렇게 남겨 봅니다.제가 리피팅 그룹에 출력되는 텍스트를 선택했을 때에 인풋창으로 선택한 텍스트 값이 입력되도록 구현을 하려고 하는데 잘 되지않네요. 혹시 깔끔하게 구현할 방법이 없을까요?': 2545, ' 스테이트로 구현해보셨나요?': 2546, ' 혹시 모르니 데이터 프라이버시룰이 퍼블리시티, 전체 공개로 되어있는지도 확인해보시고요!': 2549, ' 안녕하세요. db에 입력된 값을 db끼리 서로 계산하게 하는 방법은 없나요? 엑셀처럼요.': 2553, \" 붉은색은 보통 두 데이터 간의 type이 안맞아서 그러는데요, 설정하신 연락처와 current user's 연락처의 data type이 같나요? (number 라든지, text라든지, 또는 하나는 list인데 다른건 list가 아니라던지요)\": 2557, ' 안녕하세요~ 혹시 백엔드/db는 버블 걸 쓰고, 프론트엔드는 직접 개발해서 쓰시는 분도 계실까요?': 2564, ' 백엔드만 바꿀 수 있나요??': 2567, ' 오 혹시 보신 템플릿?의 링크가 있을까요?': 2570, ' 혹시 구글로그인은 정상적으로 적용되려면 승인 받는데 기다려야 하거나 그런것이 있을까요?': 2604, ' 아직 부끄러운 수준입니다만 댓글 남겼습니다 희철님!': 2608, ' 답변감사드립니다! export 시 csv파일로 export가 되는 것 같은데, 음성파일이나 영상인 경우에는 어떤 식으로 추출할 수 있을까요!?': 2611, ' 안녕하세요. 버블에 혹시 네이버 로그인 SSO 같은 것은 없나요?': 2633, ' 혹시 파비콘 옆에 사이트 이름 수정 어떻게 하시는지 아시는 분 계실까요? 사진': 2634, ' 감사합니다. 근데 전에도 물어봤었는데요. 혹시 DB상에서 DB들끼리 계산하게 하는 것은 어떻게 하나요?': 2638, ' 헉 죄송한데 요소트리가 무엇을 의미하시는 걸까요?': 2640, ' 사진 사진 저도 질문이 있습니다~ 위 이미지가 기획화면이고 아래 이미지가 저희 버블 에디터 화면인데요 높은 에너지 텍스트를 기획화면처럼 중앙에 두려면 어떻게 하면 될까요?처음에는 Group 감정 사분면(레이아웃은 fixed) 하위에 두고, 좌표값을 수정하려고 했는데, 그러면 기기 해상도에 따라 위치가 달라지더라고요..': 2643, ' 해당 데이터값을 count한다는게 어떻게 하는 걸까요..? ^^;;ㅎㅎ': 2645, ' 감정 사분면 구조가 어떻게 되어있나요?': 2647, ' 아래 사진처럼 하면 되겠나요? 사진 이 모임에는 처음인데 버블러들이 많이 계셔서 반갑네요. 생각보다 많아 보입니다. 반갑습니다. 간단한데 혹시 아직 방법을 찾고 계신중이라면 알려드리구요. 희철님. 대화명 설정하는 방법을 모루겠어요. 제가 외국에 있다보니 카톡을 많이 안쓰는 편이라. 이 방에서만 대화명을 설정하는 방법이 있나요?': 2657, ' 오 회의 중이어서 확인이 늦었습니다..! 알려주실 수 있을까요?': 2662, ' 혹시 버블 db를 외부로 백업할 수 있는 솔루션이 있을까요? 혹시나 불안해서요': 2670, ' 분명 프리티어만 하고 카드정보 삭제했는데 요금 청구가 되네요 혹시 환불가능한가요 이런경우는': 2672, ' 유료 플랜 선택 하신적 없는데 결제가 됐다는 건가요???': 2675, ' 안녕하세요 :) 네이버 맵 api 가져오는것 관련해서 시도해보다 막혀서ㅜㅜ궁금한 점 질문드립니다 ..!</>HTML 로 네이버맵 api 가져오면 될까요 ..?아니면 Bubble API Connector 을 통해 플러그인으로 가져와야 하나요 ..?': 2677, ' 배포환경 구성되는거 보여주기 때문에 14일 무료로 personal플랜 클릭한다음 업그레이드 안되도록 카드정보를 삭제해습니다 환불 해보신분 계신가요??': 2679, ' 안녕하세요 혹시 버블에 해당 트래킹 코드를 달고 싶은데, 어떻게 하는 지 아시는 분 계실까요!? 사진': 2682, ' 안녕하세요, 모두 연휴는 잘 보내셨는지요? 다름이 아니라 이번에는 버블db 외부자동 백업 문의드리려고 하는데요.. 처음 사이트를 만들때 버블DB를 사용하는게 속도가 빠르다고 해서 버블DB로 만들었는데.. 생각해보니 여기 쌓이는 음식DB를 다른 사람이 활용을 해야하는데.. personal 플랜에서는 수정할수 있는 아이디가 한개뿐이라서요.. 제가 매일 아침마다 export를 할수도 없구요..이전에 어떤 분이 버블db 백업관련 문의주시고, 외부db를 api로 연결해서 데이터를 실시간으로 백업이 가능하다고 했던것 같은데 방법을 알 수 있을까요? 가장 좋은건 시놀로지에 백업하는거지만 이건 복잡할것 같아 우선은 구글 스프레드시트로 하려고 합니다..!': 2685, ' POC가 어떤 약자일까요..? ㅎㅎ': 2687, ' Proof of Concept 개념증명?': 2688, ' 외부 인원이 내부 DB내용을 봐야하는 걸까요~? 사진 버블 DB를 조회만 하면 된다면Settings > API > Enable Data API를 체크한 후브라우저 창에 원하는 url을 넣으시면전체 테이블 값이 JSON형태로 불러와집니다^^ 사진 이런 식으로요!': 2694, ' 조회를 하는 사람도 비개발자여서 엑셀 형태로 보여져야 합니다ㅜ 말씀주신 방법으로 엑셀 형식으로는 볼 수 없을까요?': 2695, ' 안녕하세요!제가 지금 만들고자 하는 mvp가 범블비프로젝트에서 제작한 핀투톡(  유사하여 제작자님께 여러 조언을 얻어 하나하나 기능을 익혀가며 만들고 있는데요.1. 하트를 누르면 숫자가 올라가게 하는 기능2. 작성한 글에 댓글을 다는 기능두 가지에 대해 조언을 얻을 수 있을까요?1번은 아이콘을 클릭했을 때 워크플로를 만들어 작성된 글과 연결된 하트 카운트 레코드가 업데이트 되게 하면 될 것 같은데 조건을 못 걸겠네요 ㅠ 하트 색깔 바꾸는건 성공했습니다저는 이것 참고했어요<📚당신의 독서 속도를 테스트하고 내 속도에 맞는 책 추천을 받아보세요📚>payge.kr/speed안녕하세요, 버블 커뮤니티 톡방 여러분! 저는 출판 스타트업 페이지payge에서 기획과 개발을 맡고 있는 김지훈이라고 합니다.저희는 현재 정식 런칭에 앞서 가설 검증과 MVP 테스트 벽타기하며 유용한 채팅들만 모아봤습니다!! 히로인스는 웹 살펴봤는데 커뮤니티를 위해 초기 유저는 어떻게 모으셨는지 궁금합니다~ 신기하네요. 1000명이라도 커뮤니티 구축이 정말 어려운데 네이버카페나 운동커뮤니티들이 충분히 많은데 왜 히로인스로 오게 되었을까요?': 2701, ' 근데 히로인스 웹에 가입된 회원수도 볼수있나요? 그것도 있음 더 좋을것 같은데': 2737, ' 응원 감사해요! 올아이님도 하시는 일 잘되길 응원할게요! 다이어트 유전자 검사는 뭘까요..?': 2742, ' 안녕하세요 :) ..! 버블 구글맵관련하여 질문이 있어서 문의드리려고 합니다. data 에 있는 정보를 맵에 LIST로 끌어와서 맵에서 핀들이 여러개 보이게 설정해둔 상태 인데요... 여기서 같은 맵에서 + 추가로 원하는 장소를 서칭했을때 서칭한 장소에도 Single로 설정했을때 처럼 핀이 하나 딱 보일 수 있게 기능을 더 할 수 있는 방법이 있을까요 ?': 2753, ' \"set state of an element\" 기능 관련해 질문이 있습니다.여러 데이터를 저장하고 싶어서 특정 그룹의 state를 list로 지정하고 싶은데요.[\"사과\",\"배\",\"오렌지\"] 사진 state에 value를 계속 추가해나가는 방식은 안 되는 걸까요..?': 2754, ' Bubble API Connector로 네이버 로그인 기능도 구현 가능한가요?': 2755, ' 혹시 그럼 set state 액션의 value를 뭘로 해야 할까요..?': 2758, ' reset input에서 전역 reset 말고 일부분만 리셋하려면 커뮤니티에서는 state를 사용해서 reset=yes 하라는데 저걸 어디에 적으란 말인가요?': 2759, ' 질문 드립니다!외부 API를 연동하고 해당 API를 URL Parameter를 통해 필터링할 수 있을까요?? Go to page 에서 Key값은 설정을 완료한 상태 입니다!': 2767, ' 특정 페이지는 특정 계정으로 로그인한 유저만 볼 수 있게 하려면 어떡해야 하나요?? ㅠㅠ': 2772, ' 안녕하세요~ 특정 아이템의 순서를 반환하려면 어떻게 해야 할까요?예를 들어 A라는 유저가 [\"사과\",\"오렌지\",\"배\",\"바나나\"]를 입력했다고 하면,사과 - 1오렌지 - 2배 - 3바나나 - 4이렇게 각 아이템의 순서를 출력하고 싶습니다': 2783, ' 아 이게 일종의 뉴스피드라서, 리피팅그룹을 사용하고 있거든요ㅠㅠ 리피팅그룹 아래에 있는 text element의 custom state를 세팅해도, 각 text element별로 custom state가 다르게 세팅될까요..?': 2785, ' 안녕하세요 혹시 윅스 써보신 분 계신가여?': 2786, ' 제가 잘 못 찾았는데 혹시 어디서 보셨는지 기억하실까요..?': 2789, ' 오오 그 생각을 못했네요! 얼른 해봐야겠습니다. 늘 감사합니다 희철님! 아, 희철님. 다만 저 한 가지 궁금한 게 있는데요. 그럼 유저가 3번째 data를 삭제하면,1번째, 2번째, 4번째…이렇게 숫자가 하나 비게 되는데 이건 혹시 어떻게 하면 좋을지 아이디어 있으실까요..?': 2797, ' 사진 이게 저희가 기획한 시안인데요. 말씀 주신 방향으로 하면 133번째의 삭제 value가 no라고 하면, 132, 134 이렇게 나와서 순서가 어색할 거 같아서요! 유저가 중간 걸 하나 삭제하면, 다음 것들의 순서도 하나씩 내리는 workflow를 하나 넣는 게 좋을까요..?': 2799, ' 아하.. 그럼 index를 역순으로 카운트하는 법은 없을까요ㅠㅠ': 2805, ' 넹 아 감사합니다. 그럼 운영자 아이디는 따로 설정해야 하나요?': 2809, ' 아 cms만들면 좀 뭔가 보안에서 안 좋나요?': 2811, ' 테이블에 USER 필드를 USER 데이터로 추가하는게 뭘 의미하나요?': 2820, ' 카카오도 자체 클라우드가 있기는 합니다. 카카오 엔터프라이즈에서 하는... 이번에 해당 서비스들의 영향도는 어땠는지 궁금하긴 하네요. 카카오(본체)가 카카오 엔터프라이즈 쪽의 서버를 쓰지는 않는 거 같기도 하고.': 2835, ' 반갑습니다 😁 다들 카카오 사태 잘 해결하고 계신가요? 로그인 구현하신 분들이 많으실텐데요 ㅠ': 2840, ' 안녕하세요~ 혹시 버블 배포 시간을 예약할 수가 있나요? 유저들이 사용하고 있는데 배포하면, 리프레시를 강제해서요ㅠㅠ': 2841, ' 사진 이메일 인풋창에 특정 이메일을 강제시킬 방법이 있을까요? 예를 들면 gmail로만 가입을 받게 하고 싶습니다.제가 생각한건 두번째처럼 인풋창을 나눠서 앞부분만 받고 나머지는 워크플로우로 어떻게 처리해보는건데 다른 방법이 없을까 하고 한번 여쭙습니다': 2842, ' 안녕하세요! 혹시 버블에서 이제 하드 코딩 홈페이지로 넘어가려고 하는데, 버블 사이트에서 사용자 액션 없이 유입시 바로 저희 타 사이트로 리다이랙션 시키는 방법에 대해 알고 계신 분이 있을까요?': 2850, ' 야동 사이트들....': 2853, ' 질문 드립니다!API로 불러온 텍스트데이터를 버블의 Seach Box로 검색할 수 있는 기능은 어떻게 구현해야 하는지 궁금하여 질문 드려봅니다!': 2856, \" 답변 감사합니다! 제가 아직 지식이 부족해 완전히 이해하지 못하였는데 'API의 해당 값'에 대해 설명 부탁 드려도 괜찮을까요??ㅠㅠ\": 2858, ' 리피팅 테이블로 게시판 리스트 만들고 클릭하면 팝업창 띄워서 게시물 보이게는 했는데요. 각각 클릭하면 해당 위치에 맞는 게시물 보이게 하려면 어떡해야 하나요? 저는 first item으로 하면 뭘 눌러도 first만 뜨고. item#으로 하면 게시물 번호 역순이라서 게시물 갯수에 +1 count해놔도 item#이랑 숫자가 안 맞아서 안되고. 게시판 구현하려면 그냥 다른 간단한 방법이 있나요?': 2859, ' 혹시 Data type이 좀 많아지거나 참조의 참조를 한다는 등으로 복잡해진다고 버블 구동 속도가 느려지진 않죠? 이미지나 프론트가 영향의 대부분이죠?': 2862, ' 버블에서 아이템에 해시태그식의데이터를 기입하고, 이후 태그의 OR 또는 AND 연산을 사용한 검색식을 통해 아이템을 찾는 인터페이스를 만들 수 있을까요?': 2865, ' 저도 시도해보진 않았지만 로띠파일즈 같은 곳에서 스피닝 로더를 HTML로 가져와서 그룹으로 만든 버튼 안에 넣으시고 조건식으로 로딩할 때만 보여주는 방식은 어떠세요?': 2871, ' 혹시 버블&믹스패널 둘 다 활용하시는 분 계실까요? 사진 이런 에러가 뜨는데 원인을 모르겠습니다. 혹시 아시는 분 계시면 말씀 주시면 감사하겠습니다..!': 2872, ' 안녕하세요, 이번에 버블 알게되서 조금씩 공부하고 있습니다.버블로 웹페이지를 만드는건가요 앱을 만드는건가요?': 2873, ' 안녕하세요 :) 버블로 웹앱서비스 진행하려고 하는 중에 궁금한 점이 있어서 문의드립니다. 앱스토어 등록없이 웹에서 서비스 신청이 완료되었을때 알람서비스를 진행하고 싶은데 웹푸쉬도 버블에서 가능한가요.. ?': 2876, ' 추가적으로 한 팝업내에서 버튼이 있고 해당 버튼을 누르면 post api를 쏘고 get api 를 쏘게 되어있습니다.post 쏘면 get api 에 반영이 되어야하는데 되지 않고 있습니다. 원래 get api 의 파라미터를 추가하여 파라미터를 바꾸는 식으로 계속 진행을 해왔는데 무슨 이유에서인지 이번엔 테스트를 거듭하다보니 작동을 하지 않아서요  원인 파악해본바로는 같은 api를 쏘고 있어서 아마 캐싱된 걸로 그대로 쏴서 post 쏜게 반영되지 않는 것 같은데 이런 경우 어떻게 해결하고 계신지 알수있을까요?': 2880, ' 질문 있습니다! 버블에 있는 데이터베이스를 Mysql 처럼 사용할 수 있나요? 가령 mysql 워크밴치에 연결을 한다던지 등등..': 2884, ' 제가 알기로 POST 이후에 응답이 올텐데 다시 GET을 하시는 이유가 따로 있으신가요?': 2890, \" 혹시 버블 데이터명도 국문으로 사용하시나요? 예를 들면 'user' 가 아니라 '유저' 라고 쓰시는지. 오류가 날 가능성이 좀 있겠죠?\": 2894, ' 환영합니다! 이곳은 노코드 웹빌더툴인 버블 관련 정보와 노하우를 나누는 한국 버블 사용자 커뮤니티입니다.공지를 확인해주세요! 환영합니다! 이곳은 노코드 웹빌더툴인 버블 관련 정보와 노하우를 나누는 한국 버블 사용자 커뮤니티입니다.공지를 확인해주세요!': 3283, ' 사진 그 도메인은 meta-dashboard.com으로 설정했는데 사진 실제 뜨는 사이트에는 version-test가 들어가서 좀 거슬립니다 혹시 뭐가 문제인지 아시는 분 계실까요? 플랜을 업그레이드 해야하나요?': 2899, ' live version으로 deploy하셨을까요?': 2900, ' 환영합니다! 이곳은 노코드 웹빌더툴인 버블 관련 정보와 노하우를 나누는 한국 버블 사용자 커뮤니티입니다.공지를 확인해주세요!': 3285, ' 사진 혹시 go to page에서 저 빨간 동그라미 안에 내용이 의미하는 건 뭔가요?': 2911, ' 안녕하세요~ 특정 데이터를 카운트해서 일의자리만 가져오고 싶은데 계산식을 어떻게 하면 좋을까요?1, 11, 21, 131을 모두 1로 치환하고 싶습니다': 2914, ' 넘버리스트를 통한 페이지네이션을 어제 구현했는데 어제는 작동이 잘 되었으나 오늘 작동이 안됩니다ㅠㅠ 리피팅 그룹, 워크플로우 아무것도 건드린게 없는데 말이죠 원인을 알고계신분 혹시 있으실까요??': 2915, ' 리피팅그룹의 칼럼 수를 데이터의 수와 dynamic하게 일치시키는 방법이 없을까요? 사진 칼럼 개수를 다이나믹하게 넣는 게 안 되는 거 같아서요': 2922, ' 컬럼수 fix를 체크해제하시면 개수에 맞게 설정되는데요 혹시 다른 방법을 찾으시나요?': 2923, ' 사진 해당 셀의 모든 값을 더하고 Number로 표현할 수 있는 방법이 있을까요??': 2947, ' 안녕하세요. 질문좀 드릴게요.db에서 특정 조건 맞는 값 모두 더해서 리피팅 그룹에서 순위 순서로 띄우려면 어떡해야 하나요? ㅜㅜ': 2955, ' sort가 어디에 있나요?': 2957, ' 예를 들어서 고객 포인트 사용 순위 만들라면': 2961, ' db에서 고객들이 사용한 포인트 값을 고객 이름별로 합산해서 랭킹으로 보여줄라면': 2963, ' 합산은 총합 칼럼 만들면 되나요?': 2965, ' 버블에선 서브폴더식으로 페이지 구성이 안되나요?': 2971, ' 그럼 Parameter로 컨트롤 하시나요? go to page 보낼때 arbitrary text로 서브페이지명 보내고 받을땐 get data from page URL :item#2 is 서브페이지명 으로 받으면 도메인/페이지명/서브페이지명 으로 url을 구축할 수 있긴하네요': 2973, ' A-a A-b A-C B-a B-b C-c ...': 2979, ' bubble을 이용해 ( 웹페이지 + 앱마켓 빌더 웹앱 ) 진행을 해보려 하는데요. 버블 이용하는 순서를 설명해주는 유튜브 영상이 있을까요?': 2990, ' 안녕하세요. 관계형 DB 사고방식으로 생각하는 게 익숙해 여전히 버블 DB와 관련해 어려움이 많은데요.‘유저’라는 data type과 ‘게시글’이라는 data type이 있고, 게시글을 n개 이상 가진 유저만 게시판이라는 group에 보여주고 싶을 땐 게시판의 data source를 어떻게 구성해야 할까요?': 2993, ' 사진 유저 데이터에서 blocked = yes 된 유저는 못클릭하게 하는건 알겠는데 뒤에 :first item은 왜 붙는걸까요': 3002, ' 안녕하세요!도메인을 구매한 도메인으로 변경했더니 프리뷰도 되지 않는데, 혹시 이런 상황 겪으신 분 계신가요?예전에 도메인 변경했다가 작동하지 않는다는 질문글을 봤던 것 같아서 남깁니다😱': 3012, ' 적용하신지 시간이 지났는데도 그런가요?': 3013, ' 아 적용되는데 시간이 좀 걸리나요?': 3014, ' 안녕하세요, 구경하다가 궁금한 게 있습니다. 오픈 카톡방에서는 주고받으시는 질문 답변이나 정보들이 휘발되거나 아카이빙해 검색해 찾아보기 어려울 것 같은데 오픈카톡방 형태로 운영되는 이유가 있나요?': 3015, ' 안녕하세요. 뭐 좀 여쭤볼라고 하는데요.제가 25달러 짜리 월과금 플랜인데 이 정도면 월 트래픽을 어느 정도까지 버틸까요? 이미지 없이 db 내용 조회하는 식으로 1000명 정도 회원이 매일 2시간 정도 접속해서 사용해도 괜찮을까요?': 3021, ' 안녕하세요~ 뒤에서 2번째 아이템을 가져오려면 어떤 구문을 쓰는 게 좋을까요?': 3026, ' 혹시 서로 다른 날짜에 작성된 데이터만 카운트하는 구문을 아는 분 있으실까요..?- 10월24일: 3개- 10월25일: 2개- 10월26일: 1개이렇게 게시글이 있을 때 3개(24/25/26일 각각 1개만)로 카운팅하게 하는 방법이 궁금합니다': 3030, ' 기간 내 데이터가 있는지 카운팅한다는 말씀이신가요?': 3031, ' Group을 어떻게 활용할 수 있을까요~?': 3034, ' 새 post의 created date:formatted as 10/26 직전 post의 created date:formatted as 10/26과 같지 않으면 개수가 하나 올라가게 하면 되는 걸까요..?ㅎㅎ': 3037, ' 지훤님 방식도 가능하니까 어떤게 편한지 검토해보셔요~': 3040, ' 사진 해당 숫자를 Repeating Group으로 카운트 하는 방법이 있을까요??그룹 하나당 1,2,3 이런식으로 만들고자합니다': 3042, ' field 포멧이 number일까요?': 3043, ' RG로 카운트 한다는 말이 어떤뜻인지 좀 더 설명 주세요 :)': 3047, ' 안녕하세요~ 혹시 국내외를 가리지 않고, 버블로 만든 서비스 중에 트래픽(MAU 100만대..?)이 큰 서비스를 아실까요? 버블로 어디까지 갈 수 있을지가 궁금해서요.': 3053, ' 오.. 똑\\x1d똑 앱도 버블로 개발한 걸 래핑한 걸까요?': 3061, ' 채팅 치면 자동으로 닉네임 입력하는 기능이 있나요?': 3065, ' 뭘까요..;': 3079, ' 한울님 팀도 그 대단한 팀 중 하나잖아요~ 전 여기 계신 분들이 다 대단한 분들이라고 생각합니다. ㅎㅎ 자기 아이디어를 실현하든, 업무에 활용하든 버블이라는 툴로 자기가 직접 뭔가 해보려고 모인 분들이니까! 수정이라는 행위의 정의를 알려주시면 좋을 것 같습니다. 단순히 데이터를 한 번 더 수정한건지 아니면 데이터를 등록한 자체를 말씀하시는건지': 3105, ' 혹시 커스텀 폰트를 적용하면서도 로딩 속도를 저하시키지 않거나/아주 조금만 낮출 수 있는 팁이 있을까요..?지난번에 커스텀폰트를 적용했더니 로딩 속도가 아주 느려진 경험을 해서요': 3112, ' 헉 어떤 방법일까요?': 3114, ' 저번에 혹시 ttf 파일 올리는 방식이었나요 ?': 3115, ' 그래프 요소의 경우 지정된 데이터 값 형식 외에는 제대로 입력되지 않을 거에요. 그래서 어떤 식으로 수정하신다는 건지 보여주시면 좋을 것 같습니다.': 3127, ' 안녕하세요. 네이버 로그인 sso를 구현하려고 하는데 강좌 같은 것은 없을까요? 좀 복잡하네요 ㅠㅠ': 3138, ' gif의 크기가 너무 크면 읽어오는데 문제가 생기는 경우가 있었던 것 같아요. 혹시 이미지요소에 파일로 업로드하신건가요? 어떻게 올리셨어요?': 3145, ' 네 파일을 직접 올리신거죠? 예전에 했을 때는 됐던 거 같은데.. 한 번 테스트 해볼게요': 3147, ' 사진 static image에 업로드하면 자동으로 dynamic image에 아마존 클라우드 서버 url형태로 올라오던데 그렇게 나오시나요? 사진': 3152, ' 안녕하세요. 유튜브에서 버블에 대한 강의를 보고 더 깊은 정보를 찾다가 오게됐습니다. 회사에서 인사/급여 업무를 하고있는데 버블로 급여가 자동계산되고, 급여명세서를 이메일로 자동발송하는 ERP 시스템 개발이 가능한지 궁금합니다.': 3158, ' 넵 안녕하세요': 3160, ' 충분히 가능은 하지만 어느정도의 기능을 구현하느냐에서 난이도가 갈릴것 같아요 백엔드 스케쥴링 워크플로우 활용해야 할것 같은데 입문자한테는 사실 난이도가 높아보입니다 개인의견으로 솔직하게 말씀드리자면 이미 flex같은 hr툴이 잘나와있기 때문에 버블로 구현하는게 효율적일까 싶습니다 혹시 버블로 직접 만드시려는 이유가 있으신가요?': 3161, ' 사진 Run javascript로 토스를 구현하는 상황입니다. 그런데 이런 식으로 디버그 코드가 나왔을 때 어떤 문장이 문제인 지 확인할 수 있는 방법이 있을까요? :2:33 맨 뒤에 있는 이 수치가 의미하는 것이 2번째 줄에 몇번째 단어에서 문제다 이런걸까요!?': 3168, ' 관련된 자료를 찾기 어렵네요. 메시지에는 토큰이 잘못됐다고 하는데 토스페이먼츠는 유저가 토큰을 활용하지 않고 클라이언트, 시크릿키로만 세팅하고 토큰은 자기네 서버 쪽에서만 활용하는 방식인 걸로 알고 있어서 토큰을 잘못 지정하셨다거나 하는 문제는 아닌 것 같고... 또 메시지 상에서 3:51 이라고 나오는 것도 line인지 page인지 정보 없이 숫자로만 나와서 추측 밖에 할 수 없는데요. 추측 상으로는 3페이지 51번째줄 혹은 3열 51번째줄, 3번째줄 51열 등으로 다양하게 해석이 될 것 같습니다. 혹시 토스문제인가 하여 제 서비스에서 결제 테스트 해봤는데 저는 문제 없이 잘 돌아갑니다. 혹시 어떤식으로 구현하셨는지 알 수 있을까요?': 3169, ' 혹시 개발버전 미리보기에서는 잘 돌아가는데,라이브에서 오류가 나고 멈추는 현상 겪으신 분 계신가요?': 3172, ' 안녕하세요 주말에 아주 초보적인 질문 죄송하지만 여쭤보겠습니다.데이터 탭에서 location은 어떻게 수정할 수 있을까요?': 3176, ' 제가 템플릿을 받아서 작업하고 있는데 appdata의 기존 계정은 계속 유지 되는데   제가 프리뷰를 통해 신규 가입시킨 계정은 조금 지나면 삭제되는 이유가 있을까요?위에서 말씀드린 주소 미저장 문제도희한하게 신규 계정에서만 발생합니다. 템플릿에 처음부터 있었던 기존 계정은 주소가 잘 저장되네요': 3180, ' 혹시 플랜이 어떻게 되시나요? 요금제요': 3181, ' App data는 dev 로 보고 계신가요, live로 보고 계신가요? dev버전과 live버전 app data는 분리됩니다': 3183, ' 안녕하세요. 제가 지금 25불 월 요금제를 사용중인데요. 이게 만약에 카드가 결제가 안된 상태로 날짜 지나면 바로 데이터 다 날아가나요? 사이트 접속도 안되고요?': 3187, ' 가입한 회원들 암호 필드가 가려져 있는 것 같은데 어떻게 호출 가능할까요?': 3193, ' 혹시.. 헤더 하위메뉴 만드는 버튼이 어디있는지 알수있을까요..?너무어렵네요 ㅜㅜ': 3194, ' 좋은 정보 감사합니다 소정님 ㅎㅎ 버블에 결제단 붙이기에는 아직 토스가 가장 적당한 것 같아요~ 회원의 암호는 접근하실 수 없습니다. 혹시 어떤 문제 때문에 그러시나요? 일반적으로 group focus를 가장 많이 사용합니다~': 3195, ' 방장님.. 혹시 이거 도움 좀 요청드려도 될까요??': 3209, ' 그럼요 도움을 주고 받기 위한 커뮤니티인걸요. 그런데 구체적으로 어떤 도움이 필요하신가요?': 3211, ' 제가 템플릿을 받아서 작업하고 있는데 appdata의 기존 계정은 계속 유지 되는데   제가 프리뷰를 통해 신규 가입시킨 계정은 조금 지나면 삭제되는 이유가 있을까요?위에서 말씀드린 주소 미저장 문제도희한하게 신규 계정에서만 발생합니다. 템플릿에 처음부터 있었던 기존 계정은 주소가 잘 저장되네요 사진 3장 위 사진은 프리뷰로 만든 신규 계정에서 location 수정 후 지워지는 문제를 보여주는 겁니다': 3212, ' location 데이터 필드가 혹시 geographic address로 되어 있나요? 그리고 프리뷰로 신규 가입한 직후에는 계정이 있는데 시간 지나면 삭제된다는 말씀이신지요?': 3213, ' 버블 협업은 유료결제 이후에 가능할까요??': 3215, ' 안녕하세요 늦은 시간에 죄송합니다제가 이번에 버블 외주를 처음 받게 되어 요금제와 관련한 질문 사항이 있습니다.요금제 같은 경우는 보통 에이전시 플랜을 이용하는 것으로 알고 있습니다. 그런데 저는 학생이며 외주를 많이 받을 것 같지는 않아 에이전시 플랜이 아닌, 고객 측에서 버블 계정을 만들면 그 계정에서 작업을 하는 형식으로 진행하려 하는데 문제 될 게 없을까요?': 3223, ' 고객 계정의 비밀번호를 공유하는 방식이라 원래는 추천하지 않지만 외주 종료 후 비밀번호를 변경하거나 하는 방식으로 보안을 주의한다면 상관 없을것 같아요 혹시 주소 수정하실 때 어떤식으로 하셨어요? 텍스트로만 입력하셨나요 검색 결과를 선택하셨나요?': 3228, ' 혹시 버블에서 스탠다드와 디벨롭퍼 라이선스 차이가 어떤건지 아시는분 있으신가요? 제가 못찾는건지 템플릿 사용 라이센스 안내 페이지에도 애매하게 나와있어서 사진': 3232, \" 안녕하세요! 혹시 이미지를 클릭했을 때 외부 Url을 어떻게 열 수 있나요 ? 구체적으로 말씀드리면, '프로필' 홈페이지에서 페이스북 로고 이미지를 클릭했을 때 저의 페이스북 프로필이 오픈되도록 하고 싶습니다!\": 3236, ' 보통 SNS 로그인을 구현 하려면 URL이나 앱 패키지 주소가 필요한데, 노코드툴은 어떤 형식으로 SNS 로그인 API를 연동하나요?,?': 3240, ' 혹시 Last item으로 한 번 바꿔보면 잘 될까요?': 3244, ' 그러면 작성자의 unique id 값이 저 숫자인 유저가 아예없다는건데서치 구문 혹 보여주실수있나여': 3247, ' 말씀해주신 부분의 추가적으로 정보 데이터셋 캡쳐해서 공유해주시면 더 파악하기 좋을 것 같습니다데이터셋에서 엔트리로 입력을 하던 화면에서 인풋을 주던 데이터가 들어가는 과정을 진행하셨나요?': 3249, ' 저 빨간색누르면 user 타입의 unique id 로 받아왔나요? 일단 빨간색 뜨면 무조건 우리가 뭔가 잘못한겁니다 ㅋㅋ': 3254, ' 오 혹시작성자 데이터필드가 User가 아닌가요?': 3258, ' 안녕하세요, 혹시 group focuse할때 토글방식말고 마우스 호버로 하는 방법있나요? 워크플로우에 호버는 안나오더라구요..': 3289, ' 사진 hovered라는 이벤트를 커스텀해야하나요? 전 클릭이벤트만 나와서,,': 3291, ' 버블 개척자님들 블로그 + 영상 보면서 많이 배우고 있습니다...질문 하나 드리면,전화번호 인증 기능을 버블에서 어떻게 구현할 수 있나요??': 3300, ' 사진 와우 정확히 이거 말하는거였습니다 ㅠㅠ 이 플러그인 다운받아서 활용해보면 될까요..?': 3307, ' 안녕하세요~ 리피팅그룹 아래에 있는 텍스트 엘리먼트를 height를 기준으로 자르고 뒤에 다른 텍스트(더보기)를 붙일 방법이 있을까요?해당 텍스트 엘리먼트 height의 최댓값을 지정해봤더니, 자동으로 말줄임표가 붙긴 하는데 색깔 및 텍스트 내용 등을 커스텀할 수가 없어서요. 사진 현재 이런 상황입니다': 3311, ' 제가 아는 게 적어 그런데, 그런 정규식은 어떻게 짜야 하는 걸까요~?': 3318, ' 안녕하세요!혹시 이런 식으로 클릭할 때마다 Element가 나타나게 되는 형태의 콘텐츠는 워크플로우를 어떻게 설계해야 할까요?아직 버블이 익숙하지 않아 감이 잘 오지 않네요ㅜㅠ': 3336, ' 혹시 클래스101 버블 강의 지금도 수강할 수 있나요? 검색해도 안나오단데 ㅠㅠ': 3354, ' 아 그렇군요 ㅠㅠ,, 그럼 혹시 버블 강의를 들을 수 있는곳이 있을까요? 유료여도 상관없습니다!!': 3356, ' 해치하이커 유캔두 클론 코딩 2강 배우는 중인데, 리피팅그룹 Layout style 설정이 영상과 다르게 제 화면에서는 안보이네요 ㅠㅠ Horizontal scrolling 선택을 어디서 하죠? 아 찾았네요. Set fixed number of columns 체크해제하고 Min width of column을 33%로 설정했더니 되네요. 18년 전에 PHP 잠깐 해보고 웹에 대해서 손을 놨는데 php보다 버블이 더 어렵게 느껴지네요 옛날 사람이라': 3368, \" 안녕하세요. 혹시 버블에서, 아이폰의 '건강' OS 객체(기본앱)를 호출할 수 있는 방법이 있을까요?\": 3370, ' 또 하나 질문드립니다. 플로팅 그룹이 가운데 있지 않고 오른쪽으로 붙어버리는데 이를 고정할 수 있는 방법이 있을까요?': 3371, ' 어떤 강의인가요?': 3377, ' 네 감사합니다.^^너무 궁금한게 있어서.. 실례를 무릅쓰고 여쭤봅니다;버블에서 작업후에 > html 로 export 하는 기능이 있을까요?': 3378, ' 안녕하세요! 혹시 버블 사이트에 카카오 연동 로그인을 붙이는 것 관련해서 참고할 자료가 있을까요? 😭': 3398, ' 혹시 버블에서 그래프와 차트를 그리는데 추천할만한 플러그인이 있으실까요~?': 3399, ' 혹시 floating group은 원하는 위치에 지정할 수 없고 위의 왼,오른/ 하단의 왼,오른/ 가운데의 왼,오른의 위치설정 밖에 없을까요?': 3402, ' 네에~~ 감사합니다. 어쩌다 이런 단톡을 찾았네요. 잘 부탁합니다 아 한가지...현재 버블로 카톡 API의 연동이 가능한가요?': 3409, ' 그룹 뒤에 있는 엘레멘트를 선택할 수 있는 팁 없을까요!? 매번 그룹을 움직이면서 엘레멘트를 건들다보니 번거롭네요ㅠㅠ 사진 선택완료를 지정하고 싶을 때 그 위에 있는 그룹때문에 그룹을 올리고 선택해야하는 상황입니다.': 3414, ' 혹시 mvp로 앱을 만들려고 하면 어떤 버블 요금제가 나을까요?ㅠ 커뮤니티 앱입니당!': 3421, ' 다들 답변 감사드립니다😊👍 만약 버블로 네이버 블로그 같은 앱을 만든다고 했을 경우, 게시글 작성시에 이미지를 여러개 올려지게 하고, 그 이미지 사이에 글이 올라가게 순서를 설정할 수 있을까요? 인풋버튼과 pictureuploder 를 번갈아 해두고 출력 페이지에서 지정을 하나하나 해두면 될까요?': 3427, ' 플러그인이 있었군요!!! 리피팅그룹도 머릿속에 확 그려지네요!! 감사합니다!!ㅎㅎㅎ 이모티콘 혹시 그럼 버블쓰시면서 좋았던 플러그인 추천 해주실 수 있을까요?': 3429, ' 버블 데이터베이스에 날짜를 제외하고 시간만 입력할 수 있나요? 필드타입에 time은 없고 date만 있어서 질문드립니다.': 3434, ' 혹시 버블은 유지보수가 어려운 편일까요ㅠㅠ? + 추후 api를 합치는 것도 가능할지요ㅠㅠ': 3439, ' 답변 감사드립니다😊': 3442, ' 버블로 앱 개발시 로컬 db를 사용할 수 있나요?': 3452, ' 안녕하세요 안드로이드와 ios 둘다 지원가능한 어플을 만들고 싶은데, 결제 서비스와 위치기반, 푸시알림, sns 연동 로그인, 충분한 동시접속자 수가 최소 200~300명 이상 되는 프로그램이 있을까요?': 3455, ' 델파이 개발자인데 버블은 처음이거든요. 초보적인 질문을 드려서 죄송하지만, 버블은 네이티브 앱을 개발할 수 없는 건가요? 웹 뷰 어플리케이션만 사용할 수 있는 건가요?': 3459, ' 그렇군요. 감사합니다. 한 가지 더 질문드리겠습니다. 버블로 앱을 개발하면 앱, 파일, DB가 저장되는 서버를 개발자나 일반 호스틩 서버 같은 사용자가 원하는 곳으로 설정할 수 있나요, 아니면 버블에서 지정한 서버만 쓸 수 있는 건가요?': 3462, ' 흑.. 재피어 비싸서 어떻게 해볼 수 없을까 했는데 역시 돈을 써야겠군요ㅋㅋㅋㅋㅋ 감사합니다 혹시 버블에 연동하기 편리하면서도 재피어보다 조금 싼 대체재가 있을까요..?': 3477, ' 오.. 어떻게 하셨는지 여쭤봐도 될까요? 제 개발 지식이 미천해서요..': 3479, ' 늦은시간에 죄송합니다! 알려주신 방법으로 reset_pw 페이지까지 연결시켰습니다만 위의 페이지에는 워크플로우가 없는 상황이라 혹시 알아서 재설정이 가능해지는지 혹은 비밀번호 재설정 워크플로우를 해야하는 건지 궁금합니다!': 3490, ' 1번을 스테이트로 하셨겠죠? 어떤 스테이트로 어떻게 워크플로우를 짜셨나요?': 3495, ' 그룹 캐러셀이라는 엘리먼트는 추가로 설치해야하나요?': 3503, ' create a new data를 통해서 인풋데이터를 입력하려고 하는데요, 만약에 인풋에 아무것도 입력이 안 되어있을 때, 이전에 입력된 데이터를 불러와서 입력이 될 수 있도록 하는 방법이 있을까요?': 3511, ' 사진 안녕하세요! 버블로 구현한 서비스에 카카오 로그인 달고 있는데일단 웹이라 client_id 쪽에 javascript 꺼 토큰 들어갈꺼같은데 맞는지랑 저 redirect_uri 직접 찔러서 토큰가져오는건가 싶은데 저거 방법 혹시 자세히 적혀있는게 없었을까요?': 3512, ' 흠흠 초보적인 질문이라 죄송합니다만.. 혹시 리피팅 그룹의 갭은 어찌 설정하나요..?': 3513, ' 리유저블 엘리먼트에서, 이 엘리먼트가 포함된 페이지의 커스텀 이벤트를 트리거 할 수 없나요..?': 3519, ' 안녕하세요! 혹시 redirect_uri 토큰 가져오는 법 아시는분 계실까요 ㅜㅜ?': 3528, ' 안녕하세요~! 오랜만에 질문 드립니다~버튼 클릭에 따른 워크플로우를 짜고 있는데요.이동할 페이지 경로를 다이나믹으로는 안되는데…혹시 데이터를 불러 와서 경로를 지정할 수 있는 방법이 있을까요?상품마다 주문하는 페이지가 달라서 고민 중입니다…': 3539, ' 사진 선택만 할 수 있던데 혹시 다른 방법이 있을까요!': 3541, ' 외부가 혹시 아예 다른 사이트를 말씀하시는걸까요? 아니면 그 기능으로 만들 수 있다는 말씀이실까요??': 3543, ' 안녕하세요. 버블로 설문지 형식을 만들고있는데요. 관련해서 몇 가지 질문이 있습니다. 도움주시면 정말 감사드리겠습니다. 1. 설문 시에 쌓이는 app data를 구글 스프레드 시트에 자동을 쌓을 수 있는 방법이 있을까요?2. 설문 완료 시에 설문이 완료되었다고 slack에 noti를 주고 싶은데 방법이 있을까요?': 3546, ' Reusable elements를 사용했을 때, 장점에 대해 아시는 분 계실까요? 개인적으로는 잘 사용하지 않는데, 템플릿들 보면 많이 사용하는 것 같아서요.': 3565, ' 안녕하세요~ 버블의 텍스트를 하단에 정렬하는 방법이 혹시 있을까요? center the text vertically 외엔 옵션이 없는 거 같아서요': 3570, ' vertical-align: bottom 이런 태그로 안 되나요 <a style=\"vertical-align: bottom;\"> text </a> 이렇게 해보세요': 3571, ' 신청서 작성 폼을 만들고 있는데요~파일 업로드는 폼 전송 이전에 완료가 되더라구요?;; 혹시 폼 전송을 할 때 파일 업로드가 되도록 하려면 어떻게 해야할까요?': 3578, ' 전송된 파일이 스토리지에 저장되고 url을 기록하게 하면 될텐데 혹시 폼 전송때 파일업로드가 되어야 하는 이유가 있으신가요?': 3579, ' 보통은 파일은 선택만 해두고 최종 전송 버튼을 눌러서 폼을 전송할 때 백엔드 단에서 파일 검증하고 하잖아요?그런데 버블은 일단 파일 선택하면 바로 업도르가 되더라구요. 그러면 궁금한게 만약에 파일을 업도르 하고 마음이 바뀌어서 사용자가 그냥 나가는 경우. 스토리지에 파일만 혼자 남아 있는건데. 이런 파일들은 어떻게 지워주나요?': 3582, ' 질문 하나 있습니다!버블에서 원하는거 만들고 실행하는 버튼이 preview인데진짜 파일을 업로드하고 남들한테 보여주려는 자신만의 웹사이트를 만들려면 유료 계정을 사용해야 하나요?': 3601, ' 버블에서 폰트 추가하는 기능은 따로 없을까요!? 아에 url에 적용하는 방식만 구글링되는 것 같아서 혹시나 다른 방법 아시는 분 계실까요!?': 3608, ' 감사합니다!!! 혹시, 버튼 클릭 시 외부링크로 넘어갈 때 그 링크의 url을 다이내믹변수로 넣어서 로그인된 상태로 링크를 넘기는 방법이 있을까요!?': 3610, \" 링크의 url에 다이나믹 변수를 넣는건 가능하고, 이후에 '로그인된 상태로 링크를 넘기는 방법' 이 어떤 의미이실까요?\": 3611, ' Firebase 디비 연결해보신 분 있나요?': 3615, ' 혹시 리피팅 그룹 안에 팝업 레이어가 들어 가 있어야 되지 않나요?': 3619, \" 제가 정확히 구조를 몰라서 그러는데, 혹시 구체적인 스크린샷을 보여주실 수 있을까요? 상황 이해가 필요할것 같습니다. 리피팅 그룹 안에 팝업 레이어가 들어갈수있나요? 어떤말씀이실까요 사진 이런식으로 하시면 돼요 data to display 안에 current cell's data를 넣으실 수 있을거에요\": 3620, ' 혹시 버블로 앱 래핑 및 배포 해보신 분들이 계실까요??': 3625, ' 혹시 버블 외부DB 연결해서 쓰시는분 계신가요/?': 3626, ' 현재 버블에서 사용 가능한 래핑 방법이 있는지 알고 싶습니다! 플러그인을 구매하여 사용하나요??': 3631, ' 버블 DB 읽기 쓰기가 너무 느려서 외부 DB고려하고있는데  혹시 속도 개선 면에서 추천할만 하신가요?': 3634, ' 버블에 있는 커스텀 플랜을 보면, aws리전을 원하는 위치에 있는 걸로 선택 가능하고 별도로 인스턴스를 할당하준다던데.. 그래도 느릴까요?': 3637, ' 삭제 버튼 같은 것 클릭했을 때 confirm alert 같은건 보통 어떻게 처리하세요?': 3638, ' 따로 외부 db 연결하시려는 이유가 있을까요 저도 궁금합니다.': 3639, ' 혹시 팝업을 리유저블로 만들어 두고 공용으로 돌려 쓰는게 가능할까요?': 3642, ' 1. 개발자랑 협업을 하고 있고 2. 대규모 데이터/트래픽도 대비하기 위해서입니다. 그렇군요 흠 플러그인은 없나요': 3645, ' 오 있네요 Api 커넥터 쓰는 것보다 $5 더 비싼데 더 빠르겠죠? 😂 써보신 분 있나요?': 3649, ' 혹시 에이전시 플랜 사용해보신 분 계실까요? 몇가지만 여쭙겠습니다': 3651, ' 요게 어디에요??': 3657, ' 혹시 ms 스타트업 파운더스 허브 인증 받고 버블 크레딧 받아보신 분 계신가요?': 3658, ' 아 어떤 솔루션인지? 궁금해서요': 3663, ' 아아 네네 버블인지 궁금했어요 ㅎㅎ 아 그러면 씨그로가 버블로 만든거에요?? 오오': 3667, ' 혹시 말씀하시는 약간의 실개발이 어떤 범위까지 커버 가능하신가요?': 3673, ' 혹시 정용준님이 씨그로 만드신거에요??': 3678, ' 혹시 어떤분이신지 여쭤봐도 될까요? 빈센트님': 3681, ' 혹시 노코드로 여러명이 사용하게 되면 서버통신문제로 로드가 길어질 가능성이 클까요!? 무리없이 1명일 때와 속도가 비슷하려면 몇명정도까지가 러프하게 가능한 지 알 수 있을까요? ( 예를 들면 10명대 100명 1000명대라던지..!)': 3702, ' 사용한다는 게 에디터 말씀일까요? 아니면 유저 말씀일까요?': 3703, ' 노코드 사이트 운영 비용은 어떻게 되나요?? 일 방문자 5백명정도 기준일때요.': 3704, ' 네 맞습니다\\U0001f979': 3705, ' 질문있어 글 올립니다.element 중 필수작성 기능을 사용하기 위해 버블에서 제공하는 기본Date/time picker를 사용중입니다. 현재 제작중인 프로덕트가 연령대가 어느정도 있는 분들이 사용하는데 기본 Date/time Picker는 국문이 아닌 영문으로만 사용이 가능한데 혹 국문으로 바꿀 수 있는 방법을 알고계신분이 있으실까요?': 3706, ' Google translate 플러그 인은 어때요?': 3707, ' 시작하시는 분들 많으신가요??': 3708, ' 감사합니다! 웹빌더와 노코드 차이가 있는건가요?? 기능이 노코드가 더 많은건가요??': 3710, ' 좋은 경험 공유 감사합니다 저도 그렇게 까지는 안돌려봤는데 대단하시네요 어떻게 테스트하신건지 여쭤봐도 될까요? 기법이 궁금합니다': 3718, ' 노코드 툴 궁금한게 혹시 애드몹이든지 애드센스도 가능한건가요?': 3724, ' 안녕하세요 카카오 API 연동 과정에서 질문 드립니다. 사진과 같이 Initialize call을 누르면 \"There was an issue setting up your call.Raw error for the API connect ECONNREFUSED 203.133.166.32:80\" 라는 오류가 뜨는데, 어떻게 해결하면 좋을까요?? ㅠㅠ 사진 3장': 3726, ' 안녕하세요 이 방에 처음이고 또한 버블 입문한지 얼마 안된 초보입니다. 질문이 있어 휴일임에도 너무 궁금해서 질문드립니다. API connector를 쓰는데요 어떤 엔드포인트는 json으로 get이 잘 됩니다. 같은 엔드포인트인데도 다른 api는 버블애거 non-object라고 하여 에러가 납니다. 터입을 text로 바꾸면 들어옵니다. 그런데 postman에서 테스트하면 json으로 반환이 됩니다. 또 다른 api테스트앱이서는 json syntax error라고 뜨는데 raw로 보면 문법에 이상이 없습니다. 다만 잘 들어오는 api는 json의 value에 숫자임에도 \"\"가 있어 문자열로 들어오는데 json이락ㅎ 인지하지 못하는 api의 반환 밸류는 \"\"가 없습니다. 숫자인데도 그렇습니다. 버블포럼을 봐가며 header에 content-type이나 user-agency 등을 넣어봤지만 소용이 없어서 문의드립니다. 혹시 비슷한 이슈를 겪으신 분들이 있을까요?': 3727, ' 경험상 api가 다른 곳에서는 정상적으로 나온다면 버블에서 설정이 잘못된 경우가 많았습니다 구체적인 상황을 알기 어렵지만 다이내믹으로 url을 설정한다면 아무래도 다른곳에서 설정하는 방식과는 다를수 있어요 괜찮으시면 민감 정보는 가리시고 캡쳐하셔서 공유해주시면 도움 드릴 분들이 많을것 같습니다 혹시 박유진님이 공유하신 자료 참고 하셨을까요? 이 문서 참고 부탁드립니다 혹시 이대로 하셨는데도 에러가 나신다면 말씀해주세요~': 3728, ' 버블 에디터의 권한을 풀어서 링크를 공유하면 함께 사용할 수 있도록 하는 방법을 알 수 있을까요!?': 3732, ' 사진 #질문부모그룹은 Row 컨테이너고하위 2개 그룹중에 반응형으로 줄어들 때, 첫번째 그룹이 먼저 줄어들게 할 수 있나요?': 3736, ' 혹시 사용자간 챗팅(당근마켓처럼) 가능하게 하는 솔루션 같은건없을까요..?': 3741, ' 안녕하세요 😊질문하나 드립니다. 하기 사진과 같이 프리뷰를 하면Debugger 창때문에아이콘과 글자가 가려집니다. 다른 분들을 보면 만들어놓은자료 하단에 디버거 창이 생기는 거 같은데 어떤 설정을 따로 해야되는 걸까요? 사진': 3743, ' 오 말씀하신 대로 하니까 디버거창이 없어지네요! 아침인데도 이렇게 답변 주셔서 감사합니다😊 그런데 혹시 디버거창이 유지는 되는데 제가 만든 자료 하단에 위치하게 하는 방법은 없을까요 ?_?': 3745, ' 아 이렇게 하는 방법도 있겠네요..! 답변주셔서 감사드립니다! 답변감사드립니다! 그런데 아래방향 여백은 어떻게 넣는지 여쭤봐도 될까요?': 3748, ' 어떤 툴들을 다루게 되나요?': 3754, ' 안녕하세요? 혹시 네이버지도를 bubble로 만든 웹페이지 안에 삽입하는 것이 가능한가요? 가능하다면 어떤 방식으로 해야 하는지 조언 좀 부탁 드립니다. 구글 지도를 넣는 방법은 아는데… 네이버지도를 넣으려면 어떻게 하는지가 궁금해서요': 3759, ' ㅎㅎ대화도중에 질문하나드립니다^^... 페이지설정을 모바일로 하고 작업하고 있는데 프리뷰를 하면 하기 사진과 같이 플로팅바가 왼쪽으로 치우쳐져서 나옵니다! 혹시 방법 아시는 분 계실까요? 사진': 3761, ' 혹시 버블을 AWS등 클라우드서버와 연동하면 10000명이상 유저도 수용하는데 문제가 없을까요?': 3776, ' 안녕하세요! 저녁식사 시간에 질문하나드립니당 혹시 Repeatinggroup에서 scrolling type어디서 설정하시는 지 아시나요? 해치하이커 유튜버님꺼를 보며 공부중인데 제 설정창이랑 선생님 설정창이 다른데 찾지를 못해서 여쭤봅니다! 사진 이건 제꺼이고 사진 요건 강사님 세팅화면입니다': 3781, ' set fix해제해 보셨나요? set fixed row~': 3782, ' 혹시 버블에서 sms인증 시스템을 구현하신 분이 계실까요?': 3785, ' 혹시 카카오 인앱브라우저안에서만 버블 앱이 안열리는 경험이 있으신분 있나여?': 3787, ' 오 혹시 한국 번호로도 수신이 가능한가요?': 3789, ' 오 어떤 스텝으로 하셨는지 여쭤봐도 될까요 주형님?': 3791, ' 혹시 버블에 있는 플러그인들을 쓰기보단 솔라피로 자체 개발하신 건 어떤 점 때문일까요~?': 3793, ' 안녕하세요! 혹시 버블 내 스크롤 바를 없애는 방법이 있을까요? 그룹 내의 스크롤바는 없앴는데 전체 스크롤 바 없애는 방법을 모르겠네요 😭': 3802, ' 혹시 bdk로 앱 래핑하신 분이 계실까요? 안드로이드 백 버튼을 연속으로 눌렀을 때 앱을 종료시키고 싶은데, 적당한 액션이 없네요..': 3803, ' 필드내에서 가장 작은 숫자를 가져올 수도 있나요?': 3805, ' 버블에서 로그인할 때 기본적으로 패스워드가 틀리면 나타나는 에러메세지창이 있지 않나요? 그런게 안뜨는데 따로 커스텀이벤트 설정해줘야 하나요?': 3808, ' 로그인하시려는 사용자아이디가 development 버전 data쪽 user에 등록되어있나요???': 3813, ' 혹시 bubble에서 환율 또는 특정 거래소 코인 가격 가져올 때 어떻게 하는지 아시는 분 계실까요? 플러그인 추천해주셔도 됩니다!': 3815, ' 버블로 만든 앱을 플레이 스토어에 등록 후 수정을 버블내에서 진행할 수 있나요?': 3817, ' 답변 감사합니다! 주형님께서는 직접 플레이스토어에 등록한 경험이 있으신데 혹시 실례가 안된다면 몇가지 더 여쭤봐도 괜찮을까요~?': 3819, ' 개인톡으로 연락을 드리고자하는데 해치하이커 프로필에 연락드리면될까요?': 3821, ' 사진 안녕하세요버블에서 데이터를 CSV로 Export했는데 한글은 다음과 같이 다 깨지는 거 같습니다. 혹시 버블 데이터를 보기 편하게 정돈할 다른 방법이 있을까요..?': 3822, ' 카카오 로그인을 구현함에 있어 사진 하단의 네가지 키에 대한 파라미터는 어떻게 받을 수 있는 걸까요!?ㅠㅠ': 3832, ' 지금도 버블로 만들걸 사용하고 계실지..아니면 새로 빌드하셨는지 궁금하네요.': 3835, ' OpenBuild라는 플러그인 써보신 분 계신가요? Beautiful Bubble Apps 라고 해서 혹해서 들어갔는데 저는 잘 안 먹히더라구요ㅠ': 3862, ' 안녕하세요 혹시 따로 버블강의는 안하시나요': 3868, ' 입문자 강의 기대되요 언제쯤 출시 예정인가요': 3871, ' 안녕하세요.웹사이트를 구축하고 있습니다.repeating group 결과를 견적서 pdf 파일로 출력해 보려고하는데요.몇 몇 플러그인을 사용해 보았지만,pdf 파일로 변환 시 한글이 출력되지 않는 이슈가 있습니다.혹시 추천하시는 프러그인 또는 방법이 있을까요?': 3877, ' 사진 api로 가격 정보를 불러왔는데, 하나는 달러 하나는 원화로 불러오고 둘을 계산했더니 완전 이상한 값이 나오네요 ㅠㅠ 숫자로 저장되기는 했는데, 계산할 때만 이상하게 값이 나옵니다. 이런 경우에 어떻게 해야할까요?': 3882, ' 식을 아마 잘못 썼을 것 같은데 식을 보여주실 수 있나요': 3885, ' 아 지금 오류 수정하려고 식 전부 지워버려서, 해결해보고 안되면 처음 식부터 다시 올려볼께요! 다시 확인해 봤는데 식은 맞게 작성했고, Data type을 number->text 수정 후 workflow에서 converted to number를 추가해주니 작동하네요 말로 하니까 좀 복잡한데 혹시 나중에 같은 오류 있으신 분들 말해주세요! 사진 사진 이거 계산하면 값이 숫자가 아니라 식 그대로 나오는데, 숫자로 나오게 하려면 어떻게 해야할까요?': 3886, ' 음 근데 percent(Bot)의 type이 number 맞나요': 3889, ' 넘버로 하시고 정수로 지정하셨나요?': 3894, ' 어떤 조건들을 사용하시는걸까요 보통?': 3911, ' 음 데이터가 단수가 아니어서 안받아진다는게 어떤걸까요.. 날짜와 숫자 라면 하나의 데이터로 받아올 수 있을 것 같은데 일단 각 필드를 서로 다른 list로 받아오고 있다는 말씀이시죠?': 3913, ' 회원기반의 서비스를 제작중인데,, 대시보드에서 관리자가 특정 회원마다 프로필을 넣으려 합니다. 이때 [프로필작성]을 눌러 팝업으로 뜰때 해당 회원의 프로필로 들어갈 수 있으려면 어떻게 해야 할까요? 질문이 너무 모호한가요 ㅠㅜ': 3917, \" 샘플사이트의 예를 들어보면 '5678@naver.com'의 [프로필작성]을 눌러 뜨는 창에서 '이름'을 넣고 [완료]를 누르면 '5678@naver.com' 의 프로필에 넣으려 하거든요. [프로필작성] 워크플로우에 display data 를 추가하라는 얘기신지요?\": 3919, ' 리피팅그룹 데이터소스가 유저로 되어있나요?': 3920, \" 네 특정 회원의 [프로필작성]을 눌러 뜨는 팝업에서 '선택한 회원의 이메일' 이 각 회원의 이메일로 나오려면 어떻게 해야 하는지요?\": 3921, ' 사진 밸류는 비워둬도 되나요?': 3925, ' 안녕하세요, 버블에서도 코딩없이 국내에서 결제 수단을 붙일 수 있나요? 버블을 사용해보려 하는데, 추후에 국내 PG나 간편결제를 붙이는 것이 어려울 것 같아 여쭙습니다': 3929, ' 안녕하세요! 혹시 버블에서 div박스의 width나 height를 입력하려면 어떻게 처리해야 할까요?': 3932, ' 사진 저는 요창만.. 뜹니다… ㅠㅠ 혹시 UI만들때 참고할만한 쉬운 메뉴얼이 있을까요? 버블 공식 메뉴얼도 이 부분은 조금 친절하지 않아서요! ㅎㅎㅎㅎ': 3934, ' fit width height 풀고 조절해도 안 되나요?': 3935, ' 사진 풀었는데도 안나타나네요 ㅠㅠ 혹시 버블에서 코드에디터도 제공하나요?': 3936, ' 13인치 노트북을 기준으로 레이아웃을 구성하려면 어떻게 해야 하나요?1440x1024라 생각해서 해보고 프리뷰를 해봤는데, 실제로 1440x1024보다 훨씬 더 크게 보이는 것 같아요!뭔가 페이지에서 1440x1024의 확대된 부분이 프리뷰로 나오는 것 같습니다ㅜㅜ': 3939, ' 혹시 날짜를 유저의 시간대로 설정했는데 완전 다른 시간이 찍히는데 이유가 있을까요?오늘 기록해서 11월 27일 기록되어야 하는데 10월 30일로 기록되네요ㅠㅠ 사진': 3941, ' Current date로 기록하셨는데 다르게 나오는건가요?': 3942, \" 질문있습니다! 'A'라는 Data type을 만들고 해당 타입에 매일 자정에 자동으로 Data Cell을 추가하는 방법이 있을까요??\": 3945, ' 자세하게 써주셔서 상황은 충분히 이해됩니다!스케줄링 어떤분에서 막히셨을까요? 백엔드워크플로우 체크하셨으면, 좌측상단의 페이지 목록을 보는 곳 클릭하면 하단에 backend worflow 가 생기셨을거에요 거기서 recurring event 만드시면 될것 같아요 자세한건 저도 노트북을 봐야 설명드릴수있을 것 같은데 저도 외부라..ㅋㅋ': 3952, ' 네 안녕하세요!ㅎㅎ': 3955, ' 안녕하세요.버블 퍼스널을 결제하면,몇개의 앱을 만들 수 있나요?': 3956, ' 만약에 하나 만들고 지우면 다시 하나를 시작할 수 있을까요?': 3958, ' 그럼 1번 앱 퍼스널 플랜을 삭제하면 비용은 남은기간(월결제 시)동안 1개의 다른앱에서 사용이 가능한 것일까요? 앱의 삭제를 누르면 어떻게 되는지 궁금합니다. 1달 플랜으로 결제를 하였는데, 앱을 삭제하면 다른 앱(Free)을 만들수 있는지 궁금합니다.': 3960, ' 프리플랜앱은 여러개 만들 수 있나요?': 3965, ' 안녕하세요! 혹시 유저의 웹페이지(크롬창,인터넷창 등등) 자체를 더 이상 줄 일 수 없게 강제하는 방법이 있을까요!?': 3969, ' 안녕하세요! 고수님들, 버블을 이용해서 설문지를 만들고자하는데요. 기존에 작성한 설문지를 수정할 때, 변경되는 data가 있을 경우에만 슬랙으로 noti를 보내고 싶은데요, 자피어를 통해서 구현이 가능한가요??': 3970, \" RG의 필터링은 Go to page 'Send more Parameter'로 밖에 안되는 걸까요? 한 페이지 내에서 다른 그룹으로 RG의 파라미터 값을 입력받아 RG의 각 Cell을 필터링하여 보여주고싶습니다.\": 3976, ' 이소정님! 지난 주말 양재허브 노코드 매토로 참가한 소정샘이십니까? 저는 1팀 정홍기라고 키 큰 참가잡니다.': 3978, ' 안녕하세요! 질문있습니다!  카카오톡 처럼 코멘트가 등록되면 코멘트 리피팅 그룹에서 새로운 메시지가 자동 스크롤로  보이게 하고 싶은데요. (리피팅 그룹의 리스트가 추가되면-> 스크롤을 맨밑으로) 어떤 방법이 있을 수 있을까요': 3980, ' 사진 안녕하세요! 혹시 버블에서 폰트 굵기 세부 설정하는 방법이 있을까요? 피그마에서는 bold, semi bold 등 설정을 할 수 있는데 버블에는 드롭박스가 안보여서 여쭤봅니다!': 3984, ' 안녕하세요, 보통 grid 할 때 버블에선 design의 Repeating Group을 사용하는게 맞나요?': 4000, ' 혹시 페이지의 속성이 fixed가 아닌 row나 columm으로 되어있진 않은지요? 그러면 마우스로 안되고 Layout에서 조정해야 합니다': 4002, ' 새로고침되어도 input값이 고정되려면 어떡해야할까요??': 4005, ' 답변 감사합니다. 현재 버블 공부중이라 헷갈리는 부분이었어요! 하나 더 여쭤보고싶은게 있는데 repeating group은 grid랑 flex와 같은 개념인가요?그리고 table만들 때도 repeating group을 사용하여 생성하는게 맞나요?!제가 웹디라서 워크플로우나 데이터 탭쪽은 좀어렵네요': 4006, ' 혹시 디자이너신데 버블 시작하신 이유가 있으실까요? 개인적으로 궁금해서요\\U0001fae3': 4010, ' 팝업 최하단에 이미지처럼 버튼을 넣으려고 하는데 아주아주 미세한 틈이 계속 조정이 안되고 있습니다 ㅠㅠ 버튼의 width 나 height , 팝업 안의 엘리먼트들로 마진을 조정해봐도 조금만 넘치면 스크롤이 생기고 꽉채우면 저렇게 틈이 벌어지는데 해결방법 알고 계신분 있을까요..?? 사진': 4013, ' 버튼 요소의 마진값에서 Top에 1이나 2를 주면 어떤가요?': 4014, ' 사진 2장 고수님들께 질문드려 봅니다.해당 Input값(폐사량)은 Current User가 선택한 날짜의 last item을 가져오는 형식으로 Input값의 초기 value를 설정하였습니다. Input값 옆의 버튼을 이용해 Input값을 +1, -1할 수 있는 방법이 있을까요?': 4035, ' 타입이 텍스트라 계산식은 어려울 것 같은데요. 폐사량이 텍스트 타입인가요?': 4036, ' 안녕하세요! 버블, bdk 로 만든 앱이 아이폰에서 화면 확대가 되는데 혹시 안되게 하는 방법이 있을까요?': 4039, ' 현재 프로필은 어떤 식으로 가져오려고 하셨을까요? :)': 4042, ' 그럼 워크플로우에서 set state 작성자 정보 가져오는 부분 보여주시겠어요??!': 4048, ' 사진 밸류값을 뭘로 해야할지 모르겠어요.': 4049, ' 퍼스트아이템을 왜 서치포뒤에 넣어야 하는건지.. ?? ^^': 4061, ' 한 페이지에 너무 많은 엘리먼트와 워크플로를 넣어서 그런지 워크플로를 추가하는 작업이 어느 순간 전혀 작동을 안 하는데요. 혹시 비슷한 일 겪으신 분 계실까요?': 4067, ' 혹시 워크플로우가 몇개정도 있으신가요??😮': 4068, ' 맞아요.. 그리고 페이지를 나눠봤는데, 앱을 래핑해서 서비스하려다 보니 싱글페이지가 유저 입장에선 훨씬 더 빠르더라구요.. 그래서 기술부채를 안고 진행하다 보니 이렇게 된 거 같네요.. 혹시 다른 분들도 에디터 안 되시나요?': 4079, ' 혹시 버블 정상화되었을까요..??': 4096, ' 안녕하세요 늦은 시간 죄송합니다,,ㅜㅜ 혹시 버블로 사용자의 current geographic position을 영어가 아닌 한국어로 받아올 수 있는 방법이 있을까요?': 4105, ' 가입은 개발모드에서 하고 모바일에서 라이브버전으로 로그인하신 건] 아닌거죠?': 4108, ' 가입 워크플로우랑 로그인 워크플로우 어떻게 하셨는지 알려주세요. 하나씩 체크하면 좋을 것 같네요': 4110, ' 혹시 유저가 버블의 설문 폼에 응답을 제출하면, 해당 응답을 구글스프레드시트에 넘기는 방법이 있을까요?': 4122, ' 흠흠 선생님들 버블에 기본 장착된 한글지원 폰트를 미리보기 할 수 있는 곳이 있을까요..? 일단 구글 웹폰트는 지원하는 것 같아서 구글 웹폰트는 볼 수 있을 것 같은데요': 4127, ' 혹시 주민번호 인증 솔루션을 버블에 연동해보신 분 계실까요?': 4130, ' 요즘 민번 인증하는 데가 없을텐데 왜 그러시나요..?.?': 4131, ' 안녕하세요~?': 4136, ' 네 안녕하세요~': 4137, ' @Ryan / 사이드프로젝트 혹시 블로그 게시글을 그대로 따라해보고 있습니다만 좋아요 누르고 취소하는 기능이 프리뷰에서 처음 1번만 작동되고 반복 작동이 안되는데 이경우는 요금제의 차이일까요ㅠㅠ?': 4145, ' 네! 확인 후 다시 시도해보겠습니다😊': 4147, ' 같은 페이지에서 권한에 따라 요소가 달라지는 경우 어떻게 처리하실까요..?1. 같은 페이지에서 보여주거나 안 보여준다2. 별도의 페이지로 구성하여 페이지를 나눈다': 4148, ' 사진 line bar chart 플러그인 써보신 분 있나요? 다른 것들은 정상적으로 작동되는데 얘만 깨져서 나오네요 무료 그래프 플러그인 추천도 부탁드립니다,,': 4154, ' 차트가 지금 보내주신 이미지처럼 깨지는건가요??': 4155, ' 레이아웃이 잘못되었다면 어떤 걸 고쳐야 할까요..??': 4158, ' 에어테이블의 프론트앤드로 활용해보신 툴이 버블 외에도 있으실까요? 써보니 어떠셨는지 궁금합니다 ㅎㅎ 전 여기서 언급되는 툴 중에 Softr, Stacker, miniExtension 사용해보았거든요!': 4165, ' 버블 db라인이 1만줄 넘어가고 그러면 엄청 느려지나요??': 4175, ' 안녕하세요! 초보 질문입니다 버블과 아임웹 비교하면 장단점이 어떻게 다를까요?': 4178, ' 감사합니다! 버블이 백엔드를 제공해서 갖는 차별점이 있을까요?? Db관리나 api 접목 등이 용이할까요??': 4182, ' 버블을 소개하는 곳들을 보면(국내외 막론) 주로 버블을 MVP용도로 쓰면 좋다라고 많이 이야기하는데, 유저가 많은 정식 서비스에 버블 사용해도 괜찮지 않을까요? 국내는 아직 사례가 많지 않은 것 같지만 해외는 사례가 꽤 보이기도 하고요. 저도 공식 서비스(B2B SaaS)를 버블로 쓰고 있기도 한데요. 다른 분들은 어떠신지?': 4185, ' 저는 마이그레이션이 좀 걱정되긴 하는데다른 해외에서 큰 서비스를 버블로 쓰는 사례가 어떤 곳이 있나요?': 4186, ' 다른 페이지로 넘길 때는 copy with workflow가 안 먹나요?': 4189, ' 오 되셨나요?': 4196, ' 스타트업만 지원가능한거죠??': 4198, ' 안녕하세요 저번에 버블 에이전시 요금제 사용하신분이 있으셨는데 저도 지금 에이전시 요금제 고려중이어서 사용후기 공유해주실수 있으신가요 ㅎㅎ?': 4208, ' 안녕하세요? 전에 페이플 연동 관련한 포스트를 봤던 것 같은데 혹시 어디서 다시 찾아볼 수 있을까요?': 4209, ' 안녕하세요 버블 고수님들.... 제가 이 방에 들어온지는 꽤 됐는데, 이제서야 버블을 시작하려고 합니다... 잘 부탁드립니다!Q. 혹시 초심자에게 추천할 만한 유/무료 강의가 있을까요?혹은 버블에 대한 좋은 자료는 어디에 있을까요? ㅠㅠㅠㅠ': 4210, ' 버블 디자인시, 참고하는 사이트/플러그인이 있을까요?': 4216, ' 저 노션처럼 되어있는건 가이드라인페이지 말고도 텍스트 에디터도 노션처럼 구현할 수 있나요?': 4235, ' 오… 노션 임베딩이면 노션의 본문을 긁어다 버블 엘리먼트로 만들어주는 건가요 아니면 말 그대로 노션의 웹 공유 페이지를 임베드하는 건가요': 4237, ' 우와~ 너무 멋지네요 홍보영상은 에프터이펙트로 만드신 건가요?': 4239, ' 안녕하셔요': 4242, ' 버블 외주도 있을까여...? ㅋㅋㅋㅋ큐ㅠ': 4247, ' 외주 비용은 어느정도 인지 알 수 있을까요?ㅠㅠ': 4250, ' 감사합니다  근데 모두의  노코드는  언제  시작되는지요': 4252, ' 종범님 안녕하세요! 지난번에 질문주신 것은 해결 되셨는지요?': 4253, ' Ryan 님께서는 어떤 일을 하고 계신가요?': 4254, ' 코딩 유튜브 보다가 갑자기 생각난건데 버블로 인스타그램 클론 빌딩 라이브로 하면 많이들 보실까요?': 4273, ' 안녕하세요. 질문이 있어 찾아뵙습니다. 버블->구글드라이브 자피어를 통해 연동하여 data를 적재하려고하는데요. data type이 추가될 때 추가되는 data type이 구글드라이브 헤더에 자동으로 추가될 수 있게 연결이 가능한가요??': 4277, ' 구글드라이브 헤더가 어떤 걸까요? 구글 시트 등에 버블 데이터를 추가하는 건 가능합니다': 4278, ' 버블 app data에 쌓이는 그대로 구글시트에 옮기고 싶습니다. data type이 추가되면 이미지처럼 app data 상단에 열도 추가되는데, 추가되는 열도 자동으로 구글시트에 하나의 열로 추가되게 할 수 있나요? 사진': 4279, ' 좋은 목요일이네요 :)혹시api 호출로 받은 body text 를json으로 변환해서 원하는 값 표시하는 방법을 사용하시는 분 계실까요?': 4283, ' 버블을 이용해 만든 프로덕트를 모바일로 실행하기 위해서는 링크를 통해 접속해야하는데 이는 많은 불편함이 있습니다. 이러한 이유로 질문을 드릴 내용은 버튼을 클릭 시 홈 스크린에 아이콘을 생성하여 링크를 통한 접속이 아닌 생성된 홈 화면의 아이콘을 눌러 바로 링크에 접속하도록 유도하고자 합니다. 혹시 홈스크린에 아이콘을 추가하는 방법을 알고계신분이 있을까요?': 4284, ' 사진 2장 @Ryan / 사이드프로젝트 작동은 하는데 왜 한번만 작동될까여... 연달아 작동이 안되네요..ㅠㅜ': 4285, ' 없으면 안보이게 한다라는 조건을 입력 후에 -> collapse 적용시키기 로 이해하는게 맞을까요?': 4296, ' 현재 데이터 구조는 이렇게 되어있습니다. 이 경우에 리피팅그룹이 더 나을까요? 사진': 4300, ' 텍스트로만 보면 감이 안오는데 외부 api에서 data로 text를 받아오신 다음에 이걸 json으로 변환하는건가요?': 4304, ' 지금 현재 구조에서 텍스트 값을 rich text 플러그인으로 해뒀는데 그럼 사진도 입력할 수 있는 건가요?? 따로 설정을 안해도 되는거였군요ㅠㅠㅠ': 4309, ' john님 혹시 이 서비스 이용해보셨나요? 후기가 궁금합니다!': 4313, ' 버블이나 모든 노코드가 마찬가지지만 이제 시작하는 단계이기 대문에 별 것 아닌 정보는 없습니다. 눈팅하시는 모든 분들 다 부담 갖지 마시고 참여해주세요~ john님 좋은 정보 정말 감사드립니다! 3번이나 이용하셨다고 하니 나중에 기회되면 어떤 서비스 만드셨는지도 알려주세요!': 4329, ' 안녕하세요 질문이 있어서 올려봅니다!혹시 버블에 채널톡을 붙이는 것도 가능할까요?': 4330, ' 튠 서비스도 전부 버블로 만든건가요? 사이트만 버블로 하신건가요?': 4340, ' 안녕하세요~눈팅해보니 질문과답변수준이.. 높으신것같아요 ㅡㅠ저는 이제 갓!!입성한 초보자인데다들 처음 시작은 어떻게 공부하셨나요?영어듣기 실력도 부족하다보니 튜툐리얼듣는것도 어렵더라구요.혹시 다른분들은 어떻게 익히셨는지 궁금합니다~': 4343, ' 카카오 로그인 구현 중 Redirect URI가 무엇을 뜻하는지 이해가 잘 가지않습니다. ㅠㅠ 해당 코드를 어떻게 받아와야 할까요?': 4353, ' 이건 인지하고 있습니다만 댓글창에서 작성자들의 이름이 아니오라고 나와서 여쭤봣습니다! 한번 확인해보겠습니다! 감사합니다 ㅎㅎㅎ 사진 User 데이터 기준 privacy입니다만 여기서 변경될 것이 있을까요? 다만 댓글은 작성자라는 데이터를 만들지 않고 디폴트 데이터인 creator를 사용했습니다': 4358, ' creator 이름이 뭘로 되어있나요? 아니오라고 해놓으신 건 아닌거죠?': 4362, ' Creator는 버블 디폴트 값으로 되어있는데 그게 작성자의 이름이랑 연결되는지는 모르겠네요ㅠㅠㅠ 만약 그렇다면 댓글에 작성자라는 데이터를 만들어야할까요?': 4363, ' 안녕하세요 buildcamp라는 강의 사이트 결제하려고하는데 계정 공유 같이 하실 분 있으실까요? 두 분만 더 모집해볼게여!': 4369, ' 근데  한달동안  소화가  되나요': 4373, ' 관심있어요 어떻게 연락드리면 될까요': 4375, ' 네 어떻게 연락드리죠?': 4377, ' 안녕하세요! 질문을 드리고자 합니다 ^^  유저가 스크롤을 내려서, 버튼이 안보이는 경우에 해당 버튼을 플로팅 버튼으로 바꾸려 하는데요. 아래의 조건으로 걸면, 유저가 버튼 위치에 도달하면(즉 버튼이 아직 화면에 있어도) 플로팅 버튼이 노출이 되어서요. 유저의 화면에서 스크롤이 내려가서 버튼이 안보이는 경우를 어떻게 조건으로 넣을수 있을까요? 사진': 4380, ' 안녕하세요. 궁금한것이 있습니다.preset page width를 mobile로 했구요.floating group을 하나는 위에 하나는 아래에 넣었는데 preview를 해보면 위쪽에 floating group은 화면 왼쪽에 보이구요.아래쪽 floating group은 debugger라는 언더라인에 가려져서 아예 안보입니다.그리고 텍스트 넣어놓은건 또 화면 가운데에 있구요.어떻게 해야 floating group을 다 가운데 맞출수 있고, 화면 하단에 debugger라인에 가려지지 않을까요? 사진': 4381, ' 안녕하새요 버블 입뭌자입니다 혹시 버블에서 구현되어잇는 템플릿을 사고파는 마켓이 따로 있나요?': 4382, ' 넵 감사합니다^^ 혹시 만들던 app을 삭제하면 같은 이름으로 다시 못만드나요? 사진': 4384, ' 영어일까요?': 4395, ' 오 몇 명이서 쉐어하는 건가요? 궁금하네요': 4398, \" All 좋아요 손: random item's image 도 괜찮을 것 같네요 ㅎ 순서가 맞아야 한다면 혹시 손 옵션이 몇 개 있을까요??\": 4427, ' 늦은 시각에 감사합니다! 한번 해보겠습니다 혹시 요 방법 설명 좀만 더 부탁드려도 될까요?': 4431, ' 이 이슈는 마이너한 이슈라서 말씀 주신 방법 시도해볼 만할 거 같습니다! 제가 pc 앞이 아니라서 아직 해보진 못하고 생각만 해보규 있는데요. 소정님 아이디어와는 달리 리피팅그룹의 데이터소스를 option으로 한다는 말씀이시지요? 그러면 해당 글의 좋아요 수를 기준으로 노출될 옵션 이미지의 개수를 정하는 건 어떤 로직으로 구현될까요?': 4433, ' 안녕하세요. 버블->슬랙 연동하면서 개발/라이브 버전 트리거를 따로 걸어서 구분할 수 있을까요??': 4434, ' 안녕하세요! 버블에 페이플 적용한 경험 있는 분 있을까요!': 4437, ' 저도 참여했습니다  근데  마지막에  메일전송속도가  조금  늦네요  이것도  버블로  만드신가죠': 4442, \" 감사합니다. 설문조사는 '왈라'라는 툴을 사용했습니다. 메일 전송은 혹시 '응답보내기' 말씀이신가요? 메일을 따로 받고 있진 않습니다~\": 4443, ' 어떻게 연락드리면 될까요?': 4456, ' 어떻게 연락드리면 되나요??': 4457, ' 얼마전에 비슷한게 올라왔는데.. 새로운건가요?': 4460, ' 저도 가능할까요?^^': 4465, ' 혹시 강의 난이도가 버블 왕초보입문자도 따라갈 수 있을 정도일까요?': 4467, ' 갑자기 리피팅그룹에 넣은 그 어떤 엘리먼트들도 보이지 않는데 어떤 이유일까요? 리피팅그룹의 틀만 보이고,, 이런 경우 뭘 의심해봐야 할까요?': 4477, \" 리피팅 그룹 안에 있는 요소들도 visible 체크 여부에 따라 안보일 수 있습니다. 아니면 요소트리에서 '숨김'처리 하시지는 않으셨는지요?\": 4480, ' 사진 하얀색 그룹에 대한 값인데.. 사진': 4481, ' 유저 데이터의 프라이버시룰은 어떻게 되어 있나요?': 4482, ' 안녕하세요~ 혹시 프론트엔드 워크플로에서 백엔드 워크플로를 트리거하고 싶은데요.+ 프론트엔드 워크플로에서 백엔드 워크플로로 데이터를 보내려면 어떻게 하면 될까요?': 4491, ' api 이용은 버블 유료를 써야 가능한거죠?': 4496, ' 😂 그렇군요.. 버블 이녀석 화이팅.. 사진 여기서 노란색 칠한 부분을 viewport height 기준으로 꽉 채워 고정하고 붉은 색 부분만 세로로 스크롤 하고 싶은데 어떻게 레이아웃을 짜야할까요..? 오른쪽은 Fixed 그룹에 이미지를 담은 것입니다': 4506, ' 답변 감사합니다 추후 시도해보겠습니다 제가 아직 밖이라 시도는 못해봤는데, 붉은 부분보다는 왼쪽 이미지를 디바이스 화면 크기에 따라 꽉 채우면서 스크롤에 영향받지 않게 고정하는 것이 이슈라고 생각했어요혹시 이 부분에 대해서도 조언 주실 수 있을까요 여러분 🥲': 4508, ' 플로팅으로 beneath 를주는건어떨까요?': 4509, ' z-index 를 beneath로 주는 게 이 경우 어떤 의미가 있을까요..? 일단 a bove로 하면 비슷하게 동작하는 것 같습니다 다만 세로 사이즈가 작아지면 스크롤바가 생기네요 ㅋㅋ 그러나 모바일에서는 스크롤바가 있어도 흉하게 보이진 않으니 이거면 될 것 같습니다 ㅋㅋ 두 분 감사합니다': 4511, ' 혹시 버블 처음이라 그런데 버블 명확한 단점이 뭔가요?': 4512, ' 틱톡 같은 동영상은 정확히 뭔가요? 나머지는 다 됩니다': 4522, ' 한국분들중에서 많이 능숙하게 가능하신 분들이 많나요?': 4530, ' 다음페이지의 type이 뭔가요? 저경우에서는 type이 안맞을경우에 이슈가 뜰것 같아요': 4542, ' 저거 뒤에 그냥 추가되어있는거 아닐까요 그럼? 백스페이스 눌러서 안없어지나요': 4544, ' 해당 페이지에 그냥 type설정해도 안되나요?': 4546, ' completed 페이지의 데이터 타입이 ticket인지 확인해보시면 좋을 것 같아요': 4547, ' 앱을 만든다고 결제가 되진 않는걸로 아는데, 혹시 테스트 결제 아니실까요? 과금플랜은 앱마다 별도로 적용되는것이 맞습니다': 4549, ' 혹시 크롬에서 버블 사용할때 디자인탭에서 우클릭 비활성화(기존 크롬 우클릭처럼 나오는)에 대해 해결방법 아시는 분 계실까요?': 4550, ' 전 체크카드를 등록해놨는데 지난번 앱(모르고 삭제함) 만들때도 1달러가 결제가 되서 실제 통장에서 출금이 되었고 지금 다시 만들려고 create app 누르니까 또 1달러가 결제되면서 통장에서 출금이 되길래 여쭤봤어요^^답변 감사합니다. 그런데 과금플랜이 앱마다 별도로 적용된다면 ㅈ난번 삭제한 앱에 monthly로 과금플랜을 걸어놨었는데 그건 취소해야 할까요?': 4551, ' 1. 앞선 페이지에서 입력폼을 통해 thing을 생성하고 Data to send를 통해 다음페이지에서 생성한 thing을 받아와 추가적으로 무언가를 더 입력하는 구조인데요2. 앞 페이지에서 data to send 를 통해 create a thing의 결과물 (result of last action?인가요)을 보내려고 하면 thing 자체를 보낼 수는 없고, thing의 각 필드값 중 하나를 보낼 수 있습니다3. 2에서 thing’s unique id를 선택하면 다음 페이지의 url 끝에 unique id가 첨부돼서 열리는데, 이를 get path from Page Url로 받아올 수 있더군요. do a search는 생각을 못했습니다. 여기서 type을 해당 thing의 타입으로 지정하면 앞 페이지에서 생성한 아이템을 가져와 그 필드값을 사용하거나 추가할 수 있더라고요 현재 페이지에서 입력받은 값을 db에 저장하고 바로 다음 페이지로 넘어가면서 직전에 입력한 아이템을 다음 페이지에 전달하려는데data to send 에 해당 아이템을 선택하려면 어찌해야 할까요. 요건 곧 집에 가서 스크린샷을 첨부해 다시 여쭤보겠습니다 ^_ㅜ 아하 문제가 해결되었어요 다음페이지의 contents type이 thing으로 지정되지 않아서 thing 자체를 보낼 수 없는 것이었네요 ㅋㅋ;;': 4559, ' 혹시 버블 플러그인 중에 typeform, tally 같은 \\x1c폼을 빠르게 디자인해주는 플러그인이 있을까요? 기성 폼(typeform 등)을 쓰자니 히든필드로 정보를 넘겨주는 작업을 하기가 귀찮고, 버블로 직접 만들자니 디자인을 새로 하는 게 귀찮네요;;': 4560, ' 사진 리유저블 엘리먼트의 그림자가 짤리는데 이거 어떡해야 할까요오오옷 리피팅 그룹입니다 리피팅 그룹의 overflow\\t설정을 건드릴 수 있을까요..?': 4567, ' 감사합니다ㅠ 버블 커뮤니티 따숩네요': 4568, ' 버블로 만든 페이지에서 버튼이 한 번 눌렀을 땐 작동하지 않고, 두 번째 눌러야 작동하는 경우가 잦은 거 같은데요. 혹시 다른 분들도 비슷한 증상 겪어본 적 있으신가요?': 4581, ' 리피팅 그룹 아이템에 클릭 이벤트는 어떻게 넣을 수 있나요...?': 4583, ' 버블 외에도 그런 현상이 있으신가요?': 4591, ' 안녕하세요. 혹시 데이터 csv 파일로 업로드가 안되는데 지금 버블 오류일까요?? 사진': 4596, ' 빈칸을 다 메워도 업로드가 안되면 혹시 어떻게 해야할까요..?': 4598, ' 업로드 오류날 때 상세 에러내용을 메일로 쏴주기도 하던데 혹 메일 온 게 있을까요? 메일로 받아본 내용에 저는 몇 번째 줄에 에러가 났는지도 알려주더라고요': 4599, ' 안녕하세요! 늦은 시간에 죄송합니다ㅠ 한 가지 궁금한게 있어서요!! 다들 버블 개발하실 때 어느 순서로 개발하시나요!!': 4601, ' 안녕하세요~ 혹시 한 개의 리피팅그룹에 두 개의 데이터타입을 보여줄 방법이 있을까요?merge with/intersect with 표현문을 아직 못 써봤는데, 혹시 해당 표현문으로 이게 가능할지, 아니면 다른 방법이라도 가능할지 궁금합니다!': 4608, ' 하나는 리피팅그룹 데이터소스에서 가져오고, 한 항목 안에 있는 다른 데이터는 do a search로 가져오라는 말씀 같은데요?': 4611, ' 와 잠깐 full outer join 찾아봤는데 눈 돌아갑니다... 이게 정확히 어떤건가요?': 4613, ' 사례 공유 감사합니다 :) 페이지네이션을 하지 않고 인피니트스크롤로 하려다 보니 고려할 지점이 많네요 ㅎㅎ 사진 질문이 많아 죄송합니다만..ㅎㅎ서비스의 오너십을 타 계정으로 트랜스퍼하고 싶은데요. 그러려면 기존에 결제하고 있던 계정에서 타 계정으로 소유권을 이전하려면, 기존 결제를 한번 끊고 가야 한다는데요.. 혹시 서비스가 끊김 없이 이어지면서 소유권 이전을 할 수 있는 방법이 있을까요….?': 4622, ' 버블놈들 어떻게 하는건지 방법에 대한 자료는 하나도 없고 그냥 기사만 몇개 있네요. 문의해도 답이 없나요?': 4634, ' 안녕하세요. 이제 막 버블을 시작하는 뉴비입니다.처음으로 버블로 서비스를 만들어 보려고 하는데 궁금한 점이 있습니다~1. 문자메시지 발송 기능을 구현할 때 어떤 방법을 주로 사용하시는지 궁금합니다.- 플러그인(ClickSend, Twilio, etc)을 활용하시는지?- API Connector를 사용해서 외부 SMS API를 연동하시는지?- 추천하시는 플러그인은 어떤게 있을까요?2. 서비스를 만든 후에 Native App으로 패킹해서 스토어에 등록하려고 합니다.- 네이티브앱으로만 접속이 가능하고, 웹브라우저를 통해서 접속하면 접속하지 못하게 하거나 다른 페이지로 리다이렉트 처리가 가능할까요?경험해보신 분들이 있으시면 조언 부탁드립니다~ :)': 4637, ' PWA는 어떻게 패키징 하나요..?.? 경험 있으신분.. 웹브라우저를 통해 접속하는 건 주소를 노출하지 않으면 자동으로 막을 수 있을 것 같은데용 ㅋㅋ; 웹 엔드포인트만 앱에서 참조하고 .. URL을 노출하지 않으면 앱으로만 접속할 수 있게 되겠죵': 4640, ' 안녕하세요~  전체공개 피드(모든 유저의 글이 최신순으로 올라오는 피드)에서 특정 게시글이 그 유저의 몇 번째 게시글인지 표시해주고 싶은데요. 이 경우 구문을 어떻게 짜면 좋을까요..? 사진 요런 식으로 먼저 시도해봤는데 이렇게는 안 되는 거 같아서요': 4647, ' 네이티브 기능 이런 저런거 쓸 거 아니면 플러터플로우로 가볍게 트라이해봐도 될 것 같습니다 날짜표기를 한국어식으로 바꿀 수 있을까요...?.?': 4661, ' 한국어식이 어떤 의미일까요?': 4662, ' 년/월/일 말씀이신가요??': 4663, ' 안녕하세요혹시 버블로 만든 서비스들 모아놓은곳이 있을까요?': 4665, ' 오오.. ㅋㅋ; 그림자는 어렵겠죠..? 아니면 CSS로 SVG를 생성하고 버블에서 사용하는 방법이 있을까요': 4674, ' 안녕하세요! 질문 하나 드려요. :) 늘 감사합니다.홈페이지 메인 배너를 만들려면 버블에서 어떤 엘리먼트를 사용하면 될까요? 이미지 여러 개를 등록하고 2~3초에 하나씩 스와이프되는 식으로 통상적인 메인배너/히어로섹션을 만들려면 말이죠! 아 리피팅그룹으로 하면 되려나요 🤔': 4677, ' api로 json데이터를 불러온 후, 이를 한 번에 다량의 데이터로 저장 가능하냐는 말씀이신가요?': 4683, ' airbnb와 유사한 그러나 업종은 바꿔서 서비스를 만들어보려고 하는데요. 버블 템플릿 중 어떤 것이 유사한지 아시는 분 계신가요?^^; 템플릿은 여기에만 있나요?': 4687, ' 제가 볼 땐 이 템플릿이 가장 현재 airbnb와 근접해보이는데요. 그런데 좀 걱정이 막상 하다보면 로그인 기능이 없거나 등등 써보면 쓸 수 없는 경우도 있어서요.^^; ㅎ 이 템플릿 써 보신 분 계신가요? 또는 다른 템플릿 추천 가능하신 분 계신가요?^^;': 4689, ' 네 비슷한데 잘 안됩니다 ㅠ 기능들이': 4690, ' 근데 이런건 lms기능도 들어가있나요? 아님 디자인만인가요?': 4691, ' 여기서 웹사이트 주소 쳐보시고 적용이제대로 되었는지 확인해보셔요. 길게는 하루도 넘게 걸리더라고요': 4696, ' 버블에 관심있어서 어제 들어왔는데, 버블은 Wix처럼 디자인 템플릿만 제공을 하나요? 아니면 LMS기능도 같이 제공을 하나요?(기본이라도)  회원관리, 고객관리 혹은 물건관리등등': 4701, ' 기능상 라디오 버튼과 동일한데, 이미지를 사용한다거나 UI를 자유롭게 디자인 할 수 있어서여러개 중 하나를 선택할 수 있는 UI엘리먼트는 어떻게 만들 수 있을까요? 사진 요런 느낌의 UI요 선택 / 비선택 상태 두개를 만들고 하나를 선택할 때 나머지를 비선택 상태로 만드는 (?) 뭐 그런 방법을 써볼 수 있을 것 같은데 혹시 누군가 만들어놓은 플러그인 같은 것이 없을까요': 4702, ' 혹시 지금 버블 에디터 잘 작동되나요? 아 사파리에선 안 됐던 게 크롬에선 되네요;': 4705, ' 사진 안녕하세요~ 한 가지 궁금한 부분이 있어서 문의드립니다.Search for .. 에서 :last item을 선택하려 할 때,last item의 기준이 무엇일까요? 가장 마지막에 생성된 item이 last라고 생각했는데 혹시 제가 잘못이해한걸까요?': 4710, ' border 말씀하시는건가요': 4718, ' [노코드 교육 일정 공지] 2023년 1월 정기 교육 일정 및 토요 특강 안내(매주 토요일 특강 : 누구나 한 달 5백이상 버는 방법)': 4723, '  새해복 많이  받으세요 버블로 교회출석기능까지 가능한 교회종합앱을 만들려고 하는데... 이거 어떻게 버블로 구현할수 있을지 아직 잘 모르겠습니다. 온라인으로 예배출석하는 분들을 확인하고 관리할 수 있는 앱 만들어서 각 교회들에게 판매하고 싶어서요 출석기능같은 경우 어떻게 버블로 구현할 수 있나요???': 4736, ' 안녕하세요! 늦은 시간에 죄송합니다ㅠㅠ 유저가 url을 인풋하면  프로필에 해당 사이트의 심볼을 이미지로 생성할 수 있도록 하려고 하는데 두 가지 어려움이 있습니다.1. 인풋 포멧이 URL을 지원하지 않음2. URL 입력 시 validation 할 수 있는 함수가 있을까요?!해결하신 분이 계실 것 같아 여쭤봅니다..!!': 4746, ' 버블 db 말고 에어테이블등 외부 db 연동해서 쓰시는 분 계실까요? 속도이슈나 다른 이슈가 있는지 궁금해서요': 4760, ' 버블외주 관련하여 홈페이지가 있었던것 같은데 혹시 기억나시는분 계실까요?': 4762, ' 안녕하세요! 버블로 앱 운영중이고 담당자들이 고객 관리할 때 사용할 수 있는 백단 프로그램을 만들고 싶은데새로운 어플리케이션 만들어서 사용하고 있는 메인 어플리케이션이랑 DB를 실시간으로 연결하는 게 가능한가요?아니면 혹시 이 기능이 버블에서 제공하는 sub app 기능일까요?혹시 아시는분 있으시면 답변 부탁드리겠습니다..! 감사합니다': 4765, ' 요게 혹시 Setting-API 탭에서 연결해서 할 수 있는 방법일까요?': 4769, ' 안녕하세요~ 먼저 모두들 새해 복 많이 받으시길 바라겠습니다 :)혹시 신청서 같은 폼 전송 시 구글 시트에 추가 하려면 zapier 를 보통 사용하시나요?': 4776, ' 혹시 지정된 시간에 데이터를 최신화 한다 . 이건 어떻게 지정하면 되는지 아시는 분 계실까요?예를들면 23:00가 되면, 좋아요를 누른 숫자를 최신화 한다.': 4778, ' @조한울 / 운영 히로인스 보면서 버블로 이런 것들도 가능하구나! 배우고 있습니다 저희도 bdk로 앱 감싸서 개발 중인데 사진 업로드가 너무 느리더라고요! 안드로이드는 사진 업로드가 잘 안되는 문제도 있고요 히로인스는 사진 업로드가 빠르던데 혹시 팁같은 것이 있을까요? 그 외에 혹시 사진 업로드를 빠르게 하는 방법이나 팁 있으신 분이 있다면 알려주시면 넘 감사하겠습니다🙏🏼': 4779, ' 그러면 picture uploader로 사진을 올린 후에 croppie로 압축해서 버블에 올리는 건가요?! 꿀팁 넘 감사합니다👍': 4781, ' 한울님 혹시 궁금한게 있는데 현재 커뮤니티에서 수익화는 어떻게 내시나요?': 4785, ' 사진 여기 밑에 줄이 너무 작아서 잡히지가 않는데 혹시 잡는법이 따로 있나요…지우고 싶어서요..잡히지가 않아요..ㅜㅜ': 4791, ' 혹시 프리텐다드 추가할 때 아래와 같은 오류가 뜨는 이유가 뭘까요..? 커뮤니티에서 프리텐다드 추가하는 방법 보고 따라했는데 에러가 납니다ㅠ 사진': 4798, ' 파일 경로가 정확한지 폰트 이름은 띄어쓰기까지 맞게 입력했는지 확인해보시면 어떨까요..?': 4799, ' 저희방 프로필 실명 아니었나요?': 4801, ' 안녕하세요 질문이있습니다워크플로우 when 안에서 Do a search for 를 사용해 게시글을 가져오고 게시글에서 좋아요 한 사람의 숫자가 일정 이상만 가져오고 싶습니다. 그런데 현재 DB구조에서는 좋아요한 사람은 List<User>로 되어있습니다.다른 곳에서는 :count가 되는데Do a search for 에서는 안보여서 어떻게 하면 구현할 수 있을까요? 사진': 4803, ' 혹시 UI를 동적으로 생성하는 것은 어떻게 해야 할까요..? 예를 들어 태그를 입력하는 드롭다운이 있을 때 드롭다운 1개의 값을 채우면 다음 드롭다운이 생성되는 형태의 UI를 만들려고 하는데요 정해진 갯수를 미리 만들어놓고 숨겨놓는 것 외에 깔끔하게 동적으로 생성할 수 있는 방법이 있을까요?': 4807, ' 혹시 예전에 만들어뒀던 세이브포인트로 복구하고 나면, 엘리먼트들의 순서가 뒤죽박죽되는 경험해보신 분 계신가요?': 4814, ' 저는 드롭다운 밸류가 바뀌면 리스트를 추가하는 액션을 생각해봤네요 currents cell 의 드롭다운으로 안나오나요?': 4815, ' 최초의 드롭다운은 일단 표시되고 그값이 변경되면 리스트가 나오게하면': 4819, ' 리피팅 그룹 외에 UI를 동적으로 생성할 수 있는 방법이 있나요?': 4824, ' 노션에서 태그 생성이랑 선택할수 있게하는 그런 UI 말씀이신거죠?': 4829, ' 저도 영어로만 사용하고 있지만 확실히 언어가 확장되면': 4845, ' 혹시 버블 백엔드로 supabase 쓰시는 분 계신가요??': 4855, ' 사진 이나 파일 업로드 시 버블에서 기본적으로 제공하는 스토리지를 사용하지 않고, 외부의 AWS S3로 파일을 업로드 처리할 수 있는 플러그인이 혹시 있을까요? 사용해보신 분이 있으시면 조언 부탁드립니다. :)플러그인을 사용하지 않고 업로드 처리하는 백엔드API를 별도로 구축하고 Bubble에서 해당 API를 호출하는 방식으로 처리는 가능하겠지만, 버블 플러그인 만으로 처리가 가능한지 궁금합니다~': 4856, ' 버블 저장소에 담은 데이터를 별도 개발한 python혹은 javascript 스크립트로 처리가 가능할까요?!': 4857, ' 버블 스토리지 비용 볼 수 있는 링크가 있을까요? 확인을 안해봐서 궁금하네요!': 4861, ' 혹시 특정 폰트를 사용 중인 엘리먼트를 한번에 볼 수 있는 방법이 있을까요? 안 쓰는 구글폰트가 계속 로드되고 있어서요': 4868, ' 앱을 export하는 게 어떤 걸까요..?': 4870, ' 혹시 신청이 되었을까요~? 오류라고 뜹니다.': 4874, ' PG사는 어떤 방식으로 연결하시는지 궁금합니다!': 4878, ' 질문하신 내용이 쿠팡API를 이용하여 고객이 상품 주소를 입력하면 자동으로 해당 상품의 정보가 저장될 수 있게 하는 방법에 관한 건가요?': 4892, ' 파일: float_.gif float 그룹에 대한 질문입니다! 똑같은 float group인데 하나는 고정되어있고 하나는 scroll에 따라서 움직이는데 혹시 왜그런지 아시는 분 계실까요?': 4895, ' 어떤게 고정되어 있는 거고 어떤게 스크롤되는건가요? 강아지는 배경인거죠?': 4896, ' 강제로 스크롤이 생기는 경우는 부모 그룹의 레이아웃보다 자식 요소의 높이가 더 큰 경우, 그리고 allow overflow~ scroll이 체크되어 있을 경우 입니다. 혹시 레이아웃 설정창 어떻게 되어 있나요?': 4898, ' 노코드 코리아 참여 코드가 어떻게 되는지 여쭤봐도 될지요?': 4900, ' 이게 회색 그룹인거죠? 혹시 핑크는 height가 어떻게 설정되어 있을까요?': 4903, ' GIF를 다시 보니 스크롤은 배경 때문에 생기는 것 같습니다. 배경은 어떻게 되어 있나요?': 4910, \" 사진 안녕하세요! 현재 학교 정보 api를 연동해서 학교 이름을 검색하는 팝업창을 만들고 있는데요, 인풋's value 를 포함한 데이터만 리피팅 그룹에 불러올 수 있게 하려면 어떻게 해야할까요?? 혹시.. 도로명 주소 api 써보신 분 계신가요?\": 4915, ' RG 데이터소스에서 바로 API로 받아오시는 건가요? API GET 요청 보낼 때 스키마 지정 가능한가요?': 4918, ' 버블 강의 듣는 곳없나용? 유료도 좋아요. 한국어용': 4922, '   참여하려면 어떻게 하면 되나요?': 4924, ' 아 그렇군요! 혹시 클래스 101같은 동영상 커리큘럼은 따로 없을까요?블로그 같은거라도… 어떻게 공부해야할지..ㅎㅎ': 4927, ' 사진 에디터에서 팝업 메뉴가 사라지질 않는데.. 혹시 비슷한 이슈 있는 분 있으신가요..?': 4930, ' 혹시 예전에 버블 관련 블로그 있었던거 같은데..링크 있나요?버블로 00 만들기 이런거였습니다': 4938, ' 상단 고정 메뉴에 로그인 팝업창을 연결했는데, 본문에 있는 버튼에서도 로그인 팝업창을 띄우려면 어떻게 해야 할까요?': 4945, ' 안녕하세요, 방장님. 혹시 노코드 관련 설문 하나 진행해도 될까요? 응답하신 분께는 네이버페이 500원 지급해드릴 예정입니다.': 4952, ' 안녕하세요, 처음 인사드립니다. :)원준님의 초대 받아 참여하게 된 백소연 입니다.위에 말씀드린 노코드 툴이 포함된 소프트웨어 사용자 만족도 조사 설문을 담당중인데요, 지금 해당 링크를 업로드 해도 될지 여쭙습니다!': 4955, ' 사용해본 노코드툴이 여러개인 경우 어떻게 해야하나요? 하나 밖에 선택이 안되네요 ㅠ': 4958, ' 버블로 구축한 페이지에서 개인정보를 받고 있는 경우 보안은 어떻게 관리하시나요? 회사에서 버블로 정보 수취 페이지를 구축할 예정인데, 개인정보가 있어서 암호화나 보안 관점에서 버블에 개발할 수 있는 부분이 있는지 궁금해요.': 4962, ' 혹시 단톡방에 사이드 프로젝트 진행하실 분 계실까요?': 4963, ' 혹시 네이버 검색 등록 하신 분 계신가요?HTML 태그를 head에 붙여넣으라고 하는데 어디에 붙여넣는지 아실까요?': 4972, ' 안녕하세요. \"특정 이벤트가 일어난 지 1분 후에 백엔드 워크플로를 실행해라\"라고 only when 구문을 쓰려면 어떻게 짜야 할까요? 사진 아 schedul api workflow를 쓰면 되겠군요.. 혹시 랜덤한 시간이 지나간 후에 트리거되게 하는 방법이 있을까요?': 4976, ' 사진 singup or login 이런식으로 넣고 싶은데 혹시 or 다음에 텍스트 입력하는 방법이 있을까요?': 4984, ' 리피팅 그룹을 아이템의 월별, 연도별로 그루핑하는 방법이 있을까요..?.?': 4987, ' 데이터에 저장된 내용을 가입한 사용자에게만 보여지도록 불러오려면 어떻게 해야할까요? 가령 article이라는 데이터에 subject와 내용을 담아뒀는데 일단 불러오는 방법자체부터 모르겠네요.': 4992, ' 버블 질문있습니다!  버블 데이터 타입에 JSON을  리스트로 저장해본 분 계실까요? 관계형이 너무 느려서 목록형으로 DB를 구성해볼까하는데 json list를 구현할수 있는지 궁금해서요': 4999, ' 의견 감사합니다~! 혹 어떤 부분이 가장 불필요하게 느껴지셨을까요?': 5000, ' 회원가입시점에 휴대폰 본인인증을 연동하고 싶은데요.1. 개발자는 아닙니다. 글라이드는 자유롭게 쓸수있고 버블은 이제 막 학습을 시작한 정도의 지식을 가진상태에서, 본인인증 연동을 할 수 있을까요?2. 만약 가능하다면 어떤 솔루을 활용하는게 가장 적합할까요? 비용측면도 감안했을때요.만약 너무 고된 작업이라고 의견주시면 과감하게 접고 진행하려고 합니다. 버블 문턱이 가볍진 않네요... ㅎ': 5010, ' 안녕하세요 질문이있습니다제가 지금 버블을 백엔드로 사용하면서 서비스를 개발하고 있습니다.제가 사용하면서 이해한 바로는 버블측에서 image를 업로드 하면 자체 s3에 저장되고 해당 url이 저장되는걸로 알고 있습니다. 그렇게 쌓여있는 기존 데이터베이스를 사용하고 있습니다.그런데 제가 Backend workflow를 통해서 API를 만들어서 image를 보내고 저장하려고 하니 s3에 저장한 후 해당 url을 가져오는 부분에서 막혀서 질문드립니다.API측에 Form 형식으로 img 파일을 업로드해서 보내니Name, type, contents type, content(list) 이렇게 데이터가 받아지고해당 데이터를 s3에 저장하고 해당 url을 image 필드에 저장하고 싶은데 방법을 모르겠습니다 혹시 위와 같은 방식으로 backend API를 만들어서 image를 보내서 저장해보신 분 계실까요? 사진 사진 사진': 5021, ' contents가 request상 list는 맞는것 같은데 list로 인식하면 안되는거죠?': 5024, ' 안녕하세요 버블 고수님들 질문 있습니다. 버블 한 계정으로 동시에 같은 작업물을 두 PC에서 작업할 수 있나요?예를 들어, 저와 친구가 같은 계정으로 같은 앱을 작업하는 것, 이 가능할까요?결제는 한 계정으로만 하고 둘이 같이 작업하고 싶어서요 ㅠㅠ': 5026, ' 안녕하세요~~ 질문있습니다! 카톡 친구의 이름을 제가 수정한 이름으로 바꿀수 있듯이 유저와 관계된 유저들의 별명을 어떻게 저장하고 보여줄수있을까요??': 5030, \" 버블 서버 로그를 좀 더 상세히 볼 수 있는 방법이 없을까요? 사진 사진 백엔드워크플로에서 do a search for 구문으로 대상을 지정했는데, 로그에는 그냥 조건식(pus_playerID isn't empty)만 나오고, 실제 거기에 해당되는 유저가 누구인지가 안 나오네요.해서 에러가 났을 때 어디서 에러가 났는지가 잘 안 나와서 디버깅이 어렵네요..\": 5032, ' 안녕하세요!!! 버블로 웹 프로젝트를 하나 진행 중인데요...! 아직 사업자 등록 전인데 이런 경우엔 개인정보처리방침이랑 이용약관 같은건 어떻게 준비하나요...? 그냥 회사라고 가정하고 작성하면 될까요???': 5080, ' 안녕하세요! 질문 좀 드려도 될까요?? 웹페이지를 제가 원하는대로 구축은 했는데 라이브로 배포하려고 하니까 \"31개 개선점이 남았다\"는 박스가 나와서 \"got it\" 눌렀는데 화면 이 뿌옇게 되면서 페이지가 구동이 되지 않습니다.제가 personal 요금제라 그런건지요?? Professional로 변경하면 해결 되는 문제일까요??': 5135, \" 혹시 우측 상단에 빨간색으로 '31 issues'라고 뜨지 않나요? issues가 남아있는경우 모두 해결하셔야 배포가 가능합니다\": 5136, ' 혹시 버블로만 카톡알림기능 구현한 케이스 있으시면 질문좀 드릴 수 있을까요?': 5143, ' 말씀하신 카톡알림 기능 카카오 메시지 말고 채널톡 말씀하시는 걸까요?': 5144, ' 혹시 발송도 자동으로 구현하셨나요 예를 들면 사용자가 구매완료시 특정 템플릿이 간다던가': 5147, ' 안녕하세요:) 혹시 링크는 언제 받을수 있나요?': 5157, ' 좋은 아침입니다!구글 애드센스 코드를 복사해서 Settings-SEO/metatags-Script/meta tags in header에 붙여넣기 했는데 오류가 나는데 유튜브나 노코드코리아에서 하는 방법을 찾을 수가 없어서 여기서 여쭤봅니다! 혹시 제가 한 방법이 틀린건지 답변해주실 수 있으실까요??': 5164, ' 어떤 오류가 나시나요?': 5165, ' 사진 일부 내용을 수정해야한다고 떴습니다! 지금 해결하기를 눌러보면 애드센스 코드 페이지가 나옵니다제가 한 방법이 틀리지는 않았는지 여부도 알고싶습니다!': 5166, ' 코드 페이지에서 코드를 어디에 삽입하라고 나오나요? header에 삽입하는게 맞을까요? 그리고 코드 삽입 후 라이브 배포는 하셨을까요?': 5167, ' 찾아보니 좀 기다려야한다고 하네요 배포하신지 얼마나 되셨나요? 사진': 5169, ' 혹시 어제 웨비나 영상 커뮤니티에 놀라오나요?ㅜ': 5172, ' 버블 관련 질문이 있습니다.1.버블로 개발시 소스코드 확보가 가능한가요?2.버블로 서비스 구현 후 일반 개발 프로덕트로 옮길 때 회원DB(비번포함)를 그대로 마이그레이션하는 것이 가능한가요?': 5175, ' 버블로 모바일 앱 구현해 보신 분 있으신가요? 아이쿠 이름 먼저 변경하겠습니다 좀 더 구체적으로) Bubble 을 통해 iOS/Android Application build 를 해보신 분 계시나요?': 5195, ' 안녕하세요. 어떤 점이 궁금하실까요?': 5198, ' @조한울 / 운영 감사합니다! 궁금한 점들입니다. 천천히 답해주셔도 괜찮습니다.1. Application Build 시 웹을 구현 후 앱 껍데기를 씌우는 방식으로 구현하셨을까요?2. 1번이 맞다면, 어떤 서비스를 이용하셨는지 궁금합니다.3. iOS 인앱 결제를 붙이는 방법에 대해서 아시는 부분이 있으실까요? 레퍼런스가 부족해 찾기 어려워 여쭤봅니다.': 5199, ' 감사합니다!히로인스에서는 어느정도 비용을 소비하고 계시나요?최초 빌딩 시에는 $365 이고, Rebuild fee 는 $39 로 보이는데,스타트업 특성 상 리빌딩이 잦게 발생하는 것을 고려하면 많은 비용이 발생할 것 같아서 부담이 될 것 같다는 생각이 들어서 궁금합니다 ㅎㅎ.. bdk 라는 업체 알려주셔서 감사합니다 :D 찾아보니 있네요 ㅎㅎ 감사해요': 5201, ' 네이티브앱이 목표가 맞습니다.슥 보니, 개발자 입장에선 코드 추출하는 것도 맘에 드네요. ㅎㅎ주로 어떤 한계를 느끼셨나요?': 5207, ' 오 사용해 보신 분이 계셨군요 ㅋㅋ어플리케이션 출시까지 하셨었나요?': 5211, ' 구현이 안 된다는 뜻은 아닌 것으로 인지했는데 과연..': 5218, ' 혹시 궁금한 점이 있는데요 현재 버블 responsive engine이 옛날 old engine인데 현재 추진하는 새로운 반응형 엔진으로 바꾸면 기존 만들어둔거 다 흐트러지나요,,?': 5224, ' 오 폴리미를 새로 만드셨군요! 대단하십니다 사진 사소한 질문인데요.. 이렇게 글을 줄이고, 그 뒤에 바로 더보기를 붙이는 건 어떤 로직으로 하셨나요? 본문 영역의 height를 고정해버리면 말줄임표만 생기고 끝나더라구요': 5230, ' 안녕하세요 반갑습니다 공지도 확인 부탁드립니다 :D': 5238, ' 프로필 변경완료하고 공지와 노코드사이트도 보는중이에요~ 입문자를 위한 강의는 따로없는거같는데 맞나요': 5239, ' 혹시 다시보기는 유튜브나 다른 매체에 올리실 계획은 없으실까요': 5241, ' 원데이 클래스같은건가요? 가격은 어떻게되나요': 5242, ' 버블 프로젝트 / 앱을 다른 계정으로 이전할 수 있나요..? 있다면 어떻게.. ?.?': 5246, ' 종강파티 제외하고는 전부 온라인인거죠?': 5266, ' 스터디장은 어떤 거 하는 건가요?': 5268, ' 혹시 지방살아서 종강파티 참여가 어려울수도 있는데 참여해도 되나요?': 5271, ' 저도 방금 신청했는데 계좌 언제 오나요?! 그리고 아직 선착순 안에 들었는지 궁금해요!': 5280, ' 저도 신청했는데 계좌 좀 알려주세요!': 5281, ' 입금순으로 참여여부가 확정된다고 하는데 혹시 스터디장으로 지원한 경우는 어떻게 되는지 알수 있을까요?': 5286, ' 사진 어떤 글 보고 따라하고 있는데 roundness가 어디있는지 못찾겠어요 ㅠㅠ 사진 아무리 봐도 안보이는데 뭔가 업데이트 되서 기능이 바뀐건가요?': 5298, ' 안녕하세요 즐거운 주말입니다 ㅎㅎ방에 들어온지는 좀 되었지만 올해부터 좀 제대로 버블을 시작해보겠다고 다짐해서 MVP를 만들어보려고 하고 있습니다.기존 템플릿을 이용해서 만들어보려고 했는데 초반부터 새로고침시 데이터 반영이 안되는 부분때문에 애를 먹고 있는데요..모두의노코드 쪽에 질문 올려놓았는데 혹시 해결방법을 아시는 분 있으시면 조언 부탁드립니다!': 5303, ' 혹시 모두의노코드 웹도 전부 버블로 만들어 졌나요?': 5305, ' 혹시 버블에서 PG사나 아임포트같은 결제 모듈 붙여보신분 계실까요!?': 5309, ' 와우 확정됐군요! 세상에 너무 감사하네요. 이거 질문 신중하게 해야겠는데요. 막상 기회가 생기니 어떤걸 물어보면 좋을지 모르겠습니다 ㅋㅋ 준호님은 혹시 어떤 걸 여쭤보실 계획이신가요?': 5322, ' 메일이 왔는데 계좌가 안보이면 신청불가인가요?ㅠ': 5333, ' 메일이 자동으로 오는걸까요?': 5337, ' 네 맞습니다. 혹시 메일이 오지 않으셨나요?': 5338, ' 입금되더라도 정원 초과시 취소, 환불되는거같은데 ㅑ언제 확정되는 걸까요??': 5346, ' 아... c로 시작하는 메일이시죠? 네 정말 죄송하게도 앞에서 마감되었습니다 ㅠ': 5351, ' 네네 아 ㅜㅜ 네네 ㅜ 아쉽네요 ㅜ 혹시 인원수 늘리시면 알려주세요': 5352, ' 혹시 스터디장으로 신청한경우 어떻게 안내를 받을수있나요? 스터디 장으로 신청했고 따로 안내메일이없어서 입금안했는데 어떻게 되는지 알수있을까요?': 5355, ' 사진 sql connector 이용해서 api로 데이터를 받아오니까, 랙이 많이 걸리는데 이거를 버블 db에 저장하는 방법이 있을까요? 그니까 받아온 데이터를 버블 db에 저장하려고 합니다!': 5362, ' api 로 받아온 데이터가 너무 많아서 (수천개 이상)로딩이 너무 길어져서 그걸 해결하고싶은거죠? api 자체에서 페이지네이션등을 이용해 데이터를 쪼개서 가져올 수는 없나요?': 5363, ' 갑자기 궁금해졌는데, 버블로 게임 구현한 사례도 있나요? ㅎㅎ': 5366, ' 아 그러시군요 혹시 유저가 로그인된 상태에서 게시글을 작성했나요?': 5376, ' 사진 혹시 디버그 모드의 이 설정은... 어떻게 사용하는건가요..? 눌러도 달라지는 게 없는 것 같은데 ..': 5379, ' Hide, Show Responsive Boxes 요거 말씀하시는 것 맞나요..? 제가 검색해보니 레거시 기능인 걸로 전 파악을 했는데 ..': 5385, ' 대단하시네요. 맞아요 시행착오는 안할 수 없습니다. 그래서 그냥 해보는 게 가장 좋은 방법입니다. 직접 부딪히면서요 JP님 멋저요! 저 사이트가 어디를 말씀하시는건가요?': 5401, ' 안녕하세요~ 혹시 에이전시 플랜 써보신 분 계실까요?프로페셔널 플랜을 쓰다가 에이전시 플랜으로 변경하는 게 가능한지 궁금합니다.': 5406, ' 데이터 마이그레이션 시 유저가 버블에 있는 사용자가 아닌 경우에는 unique id를 새로운 필드를 만들고 랜덤으로 생성하는 게 좋을까요!?': 5408, ' 안녕하세요 ..! 버블로 제작된 페이지에서 활용할 수 있는 툴들이 궁금하여 여쭤보고자 합니다.버블로 제작된 페이지에서 GA를 심을 수 있다는 것은 검색을 통해 알게 되었는데.. 이와 유사하게 심거나 활용하는 재피어, 믹스패널 등도 활용이 가능할까요 ..?!': 5413, ' 믹스패널 잘 쓰셨던 분 있나요? 연동이 잘 안되었던 기억이 있어서 결국 관련된걸 못 썼던 기억이 있습니다': 5418, ' 스터디는 마감됐나보네요!! 넘 아쉽군요ㅜㅜ 혹시 입문강의? 추천해주실분 있으신가요검색해서 찾은 해치하이커님 유튜브 외에도 괜찮은 옵션이 있나 싶어서요 :)': 5424, ' 늦은시간에 질문한번 드려봅니다,,,!혹시 버블로 만든 사이트 도메인으로 통신판매업 신고를 해보신분이 계실까요?통신판매업 신고 도메인에 버블로 만들고 배포한 도메인을 사용하려고하는데요, 호스트 서버 소재지를 어디로 설정해야하는지 궁금합니다!': 5430, ' 한 가지 궁금한게 있는데, 혹시 노코드도 컨트리뷰터가 있나요?': 5436, ' 사진 안녕하세요! 이런 글을 봤는데 혹시 버블로 어플을 만들 때 월 비용이 발생하나요?': 5441, ' 안녕하세요 버블에 pdf를 업로드하고, 그걸 파이썬에서 pdf text 전처리를 하고,그 결과를 버블에 다시 받아오고 싶은데..파이썬-버블 연동하는 방법이 있을까요? 흠..': 5444, ' 회원정보 데이터 마이그레이션 시 유저가 버블에 있는 사용자가 아닌 경우에는 unique id를 새로운 필드를 만들고 랜덤으로 생성하는 게 좋을까요!?': 5446, ' 안녕하세요. 개발을 잘 몰라서 그러는데,, 혹시 챗봇도 만들 수 있는 노코드툴이 있나요?': 5456, ' 한국어도 지원 할까요?': 5458, ' 좋은 아침입니다혹시 인풋의 값을 바꾸는 건 어찌 해야할까요? 당연히 할 수 있을 줄 알았는데 Element Actions 엔 없군요지금으로선 State를 사용하는 방법밖엔 안 떠오르는데 혹시 다른 방법이 있을까요..? State를 사용해도 정작 input의 value를 조작할 수 없으니 방법이 없군요 허허..': 5463, ' input이 엘리먼트를 뜻하나요?': 5464, ' 헛 혹시 여쭤봐도 될까요?': 5468, ' 혹시.. 리피팅 그룹 안에 그룹을 넣어서 클릭이벤트를 줬는데 전혀 작동안하는 이유가 뭘까요..? 마우스 커서도 반응없고 그냥 클릭 이벤트가 없는 것처럼 보입니다 -.-': 5488, ' flutterflow 써보신 분 계신가요팀원과 프로젝트를 진행하는데, 동시 작업이 안 되더라구요.결제를 해야할 것 같은데, 꼭 팀플랜으로 해야 공동작업을 할 수 있을지.. Pro plan 은 안 되는지가 궁금합니다.': 5489, ' 아이콘만 하나 있는 그룹을 만든 후 그룹에 팝업을 띄우는 기능을 두었는데, 아이콘을 누르면 작동하지 않고, 그룹영역을 눌러야만 작동하네요. 이런 경우 어떻게 해야할까요?': 5496, ' 안녕하세요!버블 이용해서에어테이블과 드롭박스 함꼐 사용 가능할까요?예를들어 상단에는 에어테이블 데이터 입력하고하단에는 첨부파일을 드롭박스에 넣는 방식이으로 가능할까요?': 5505, ' 안녕하세요 개발자 선배님들:) 맛저하고 계신가요..! 처음 질문 드리게 된 이미루 입니다! 지가 현재 토스 페이먼츠를 버블에 붙이는 작업을 하는 중인데요. 해당 링크를 보며 작업 중입니다. 4번 결제 승인 API까지는 작업을 마무리했는데, 버블에서 실제 해당 API를 호출하고 마무리하는 작업에서 어려움을 겪고 있습니다. 참고하고 있는 문서대로 하고 있는데, 이상하게 전 API 호출하는 과정에서 사진과 같은 오류가 뜹니다 ㅜㅜ 혹시 답을 알고 계시는 선배님이 계실까요? 사진': 5508, ' 제가 지금 버블로 드롭박스 플러그인 시도하는중인데요.. 정보가 많이 없어서요.. 혹시 추천할만한 매뉴얼이나 영상 있을까요?!': 5512, ' 소정님 바쁘실텐데 죄송합니다 한가지만 더 여쭤봐도 될까요? 덕분에 토스 페이먼츠를 정상 연결했습니다. 근데 예상대로 Natively 같은 wrapper을 써서 하이브리드 앱으로 만드니까 결제가 호출이 안되더라고요. 아무래도 웹뷰 상태에서 scheme 등록이 안되어 있는것 같습니다..! 혹시 해결 방법을 알고 계신가요?': 5515, ' 이런식으로 추가하라고는 하는데... 혹시 아는신 부분이 있으실까요?': 5517, ' 오 잘 나와있네요~! :) 어떤 래퍼 서비스 쓰셨나요?': 5518, ' natively 는 것을 사용 중이었습니다 아니면 혹시 가장 추천할만한 래퍼 서비스가 있을까요? 저 토스 페이먼츠의 scheme만 추가할 수 있다면 너무 좋을 것 같습니다 ㅜㅜ': 5519, ' 혹시 그룹의 height를 width에 비례하게끔 반응형으로 만드는 방법이 있을까요...? 가로 크기가 줄어들 때 그에 맞게 줄어들도록 하고 싶습니다': 5525, ' 사진 입문자입니다.드롭다운이 좌우로 배치가 안되고 상하로만 배치만 되는데... 혹시 어떻게 해야되나요?': 5535, ' 혹시 Nativley로 하이브리드앱 만들고 원시그널로 알림을 보내려고 하는데요, 안드로이드에서 알림은 오는데 팝업은 뜨지않고 status bar에 단순 아이콘만 뜹니다 혹시 해결할 방법이 있을까요 그리고 혹시 스몰 아이콘는 업로드가 아니라 이름을 적으라는대 이부분을 어떻게 처리해야하는지 아시는분 계실까요': 5538, ' 뮤지컬 같은 오히려 단가가 비싼 케이스들이 많이 추가되면': 5544, ' 평가 데이터랑 금액 산정은 어떻게 하셨는지 궁금': 5550, ' 혹시 어떤 문제를 푸신건지 여쭤봐도 될까요?': 5552, ' 그런 생각도 해보기는 했어요. 사람들이 가성비를 유독 민감하게 챙기는 분야가 어디일까..?': 5571, ' 근데 다른 분들은 차트 어떻게 넣으세요..? 아무리 해도 다들 못생겨서 저는 charts.js 를 html 엘리먼트에 때려넣는다고 고생했는데 ..': 5575, ' 버블 링크를 공유하면 index페이지가 가장 먼저 나오는데 제가 원하는 페이지 링크를 어떻게 알 수 있을까요?': 5586, ' 데이터베이스 테이블에 보면,, 유니크 아이디 노출이 되는 걸 보기쉬운 다른 항목으로 변경할 수 있는 [돋보기]가 있어야 하는데,, 안보이는 이유는 뭘까요?': 5595, ' 저도 예전에는 돋보기였는데 어디로 숨었지 한참 찾아서 바로 동질감이..ㅎ': 5598, \" '투어' 데이터타입> 장소목록 list of spaces 에, '장소' 데이터타입> 장소등록시 Make changes to.. 로 넣으려는 의도인데, Make changes to a list 로 해야 하는지 확인차 문의 드립니다.\": 5601, ' 맨 윗줄 투어 A의 화면(?)에서 장소 B 추가를 시행했고 그에 따라 A의 list of 장소에 B가 추가되어야 하는것이죠?': 5604, \" 그야 first item이 맨 앞의 하나이니까 당연하지요. 저는 company라는 type을 만들지 않았으니 임시변통으로 first item을 사용해서 특정 tour를 지정한 것 뿐입니다 영태님의 처음 스샷에서 company's tour 가 혹시 리스트인가요?\": 5608, ' 버블에서 모바일 최적화를 어떻게 해야할까요? Preset page width를 full width로 하고 제작하면 모바일에서 모든 화면이 다 안나와 어떻게 해야할지 고민이네요': 5617, ' 밤 늦게 죄송합니다 type show의 필드중 list of yes/no 항목이 있는데요 특정 show의 list of yes/no 항목에서 yes인 항목의 개수를 세려면 어떻게 해야 할까요? 사진 filtered 에서 constraints 를 \"yes\"로 주었는데 그냥 count와 결과가 같습니다': 5622, ' 단편적인 것만 보고 판단하기가 어려운데 do a search for 로 하셔도 결과가 같으신가요?': 5623, ' 버블 학원도 있을까요?유투브 강의봐도 어렵네요ㅠㅠ': 5627, ' 아직 학원까지는... 좀 어렵지 않을까 싶네요 수요가 그렇게 많은것 같지는 않아서 ㅠ 현재 버블 스터디 1기 진행 중에 있는데 많은 분들이 참여해주셔서 2기도 진행 할것 같습니다 학원까지는 아니지만 스터디는 어떠신가요?': 5628, ' 혹시 결제 시스템 넣는 방법 아시는 분 있나요… 어떤 api 사용하나요? stripe(?)는 알고 있는데, 한국에서도 지원되나요?': 5642, ' 그러고보니, state의 list는 어떻게 조작해야 하나요..? make change to a thing은 list 관련 연산자가 나오는데 set state는 그냥 set만 있는 듯하여 문의드립니다 merge, intersect 이런 키워드로 다뤄야 하는 물건인가요': 5645, ' 스테이트는 기본적으로 추가, 제외, 요렇게만 가능한데 어떤 연산이 필요하신가요?': 5646, ' 제가 개발은 잘 몰라서 그러는데 백엔드만 버블을 쓴다는건 워크플로우?를 말씀하시는건가요?': 5654, ' 리엑트로 바뀐건 어떻게 아셨나요??': 5656, ' 카카오톡/ 네이버 로그인 sso를 넣으면, 받게될 고객 정보는 저희가 정할수 있는지 아세요 혹시?? 고객 기존정보와 연동을 해야하거든요 ㅠ': 5661, \" 데이터필드에 있는 특정 이미지를 다운로드 받을 수 있도록 버튼을 제공하려 하는데, 어떻게 하는건지 조언 부탁드려요~~ 플러그인중 'Download a file!'를 설치하니 손쉽게 됐습니다. 별거 아니지만 저와 같은 분들을 위해 공유해 봅니다. ^^\": 5664, ' 환영 감사합니다 ^^ Bubble 은 데이터베이스와 연동하려면 보통 어떤 DB를 사용하세요?;;': 5668, ' 그러면 외부에서 사용중이던 MariaDB 나 MysqlDB, OracleDB는 사용할수 없는걸까요?': 5670, ' 1:1미팅이요? 좋습니다! 같은 주제로 웹플로우는 놔두고 버블로 새로 만드시는거죠? 프로필 열려있어서 개인톡 가능합니다': 5676, ' 제 오래된 그램으로는 잘 체감이 되지 않습니다 ㅋㅋㅋ 약간 빨라진 것 같기도 하고... 다른 분들은 어떠세요?': 5682, ' 혹시 레이아웃은 모바일이고 FloatingGroup을 만들 때  데스크톱 환경에서 왼쪽으로 치우쳐서 나타나는데 어떻게 가운데에 나타나게 할 수 있을까요?': 5690, \" 혹시 list states의 각 값을 db에 각 레코드로 넣어서 저장할 수 없을까요? 예를 들어서, 어떤 state에 plus item으로 'a', 'b', 'c'를 넣었을 때,  이 state에 값들을 db에 저장하고 싶은데요. 한개의 필드(리스트)에 넣는게 아니고, 다른 레코드의 각 필드에  'a', 'b', 'c'를 각각 넣고 싶거든요.\": 5693, ' 늦은 시각 죄송합니다. 혹시 버블로 하이브리드 앱을 만들 수 있나요?': 5696, ' 헉.. 늦은시각 감사합니다!! 한가지 더 추가로 여쭙고 싶은게, 그러면 구글 플레이스토어나 앱스토어 같은곳에 앱 업로드가 가능한가요?': 5698, ' 답변 감사합니다! 버블로 구글로그인 구현이 가능한가요?': 5700, ' 안녕하세요, 버블 클립보드에 복사하기 기능이모바일에서는 적용이 안되던데 혹시 다른 방법이 있을까요?': 5708, ' Xano를 백엔드나 DB로 쓰시는 분이 계신가요? 버블 DB와 비교했을 때 어떤지 궁금해서요. 제가 지금 하고 있는 서비스가 대량 데이터를 다루는 일인데 예전에 누가 버블+Xano로 쓰고 있다는 글을 본 것 같아서요. 저는 버블 professionla 버전에 capacity를 부스터업을 해서 쓰고 있어서 초기 로딩시 시간이 걸리는 것 말고는 큰 이슈가 없는데요. 데이터가 늘어갈수록 어떨지 궁금해서요. 그래서 혹시 경험이 있으신 분이 있다면 비교한 것이 어떨지 궁금해서요. 얼마 전 air table을 검토 차 API연결하려고 시도하니 버블에서 air table쓰는 것보다 버블 DB쓰는 게 더 뻐르다..뭐 이런 안내가 떴어요^^:': 5712, ' JP님께서 운영하고 계신 서비스를 혹시 알 수 있을까요?': 5721, ' 멋지네요. 센서관련 R&D는 상당한 수준일 것이고 웹개발같은 부분은 버블로 속도를 내시려는 전략인가보네요! 그런데 raw데이터가 쌓이고 데이터 처리더 갈수록 심화되는데 이 문제는 어떻게 해결하세요? 데이터 전처리는 AWS에서 이루어지고 후처리된 데이터만 API로 쏘시는 것일까요?': 5728, ' 저 쓰고 있습니다. 어떤 부분이 궁금하신가요?': 5748, ' 네 다름이 아니고 사진 5장 위의 사진들과 같이 dns setting을 하려고 하는데 호스트 이름에 .을 하나 밖에 쓸 수 없다며 진행이 되지 않슺니다. Sendgrid의 값들을 가비아에 어떠한 방식으로 입력시켜야 할까요?': 5749, ' 데스크탑 브라우저에서는 이미지파일 다운로드 정상인데 모바일에서만 정상동작 안하는 경우 겪어보신 분 계신가요?': 5758, ' 사진 안녕하세요~ 혹시 특정 날짜에 작성된 글만 search하려면 constraint를 어떻게 걸어야 할까요..?': 5769, ' Natively-onesignal로 ios 푸쉬를 보내려고 하는데 권한 설정부터 막힙니다. 현재 원시그널 연결은 해뒀고 페이지 로드시 request push permission을 해뒀는데 아무것도 안뜨네요. 디버그하려고 특정버튼을 누를때  request push permission하라고 했는데 다음과 같은 에러가 뜹니다 어떻게해야할까요? 사진': 5772, ' 네이티블리가 문서가 너무 없어요 진짜 ㅠ 이것도 플러그인 에러인 것 같은데 추측이지만 푸쉬 전달하는 기능에서 제대로 대응이 안된 게 아닐까 싶네요. 네이티블리쪽에 문의 남겨보셨나요?': 5773, ' ㅋㅋㅋ 이름짓기 다들 영어로 하시나요 한글로 하시나요?': 5778, ' 한울님 이거 혹시 결국 해결 안되셨나요?? pwa로 만들어보려고 하는데 혹시 이슈가 있을까 해서 문의드립니다': 5789, ' 그래도 전환 엄청 빠르게 하신 것 같아요!! 프론트엔드 바꾸는데 얼마나 걸리셨나요?': 5796, ' 혹시 버블로 한국 PG사 결제 연동도 가능할까요?': 5801, ' 그렇군요~!! 혹시 결제 구현한 서비스나 관련 포스팅을 알고계신것이 있으세요??': 5804, ' 결제 연동 개발 관련해서 토스페이먼츠나 이런거 봤는데 좀 어렵더라고요.. curl 어쩌구 저쩌구 나오고. 결제 관련 api 설명문에서 server side 호출해야한다고 하면 backend wf에서 돌려야하는게 맞을까요?': 5805, ' 메일 외에 폰번호로 가입시키는 방법은 어떻게 사용해야 하나요..? 히로인스에서 보았던 것처럼 .. 아..? 갑자기 알 것 같은 어차피 이메일 확인을 안할테니 대강 도메인 아무거나 붙여서 가입시키면 되는군요..! 사진': 5811, ' 모두의 노코드에 구글 로그인이 적용되지 않은 이유를 혹시 알 수있을까요?': 5814, ' 앗 그렇군요! 구글로그인을 설정하는게 생각보다 할 일이 많나 봅니다 ! 저도 참고해야겠네요 감사합니다~! 질문 하나만 드려도 될까요?UI builder 와 Preview 가 다르게 보이는 이유는 무엇일까요??Group 을 복사해서 붙여넣기를 하고 나서부터 서로가 다르게 보이네요!': 5820, ' 혹시..책쇼핑몰 앱을 노코드로 만들시 사용할만한가요? Mvp가아닌 실제 사용에서요': 5824, ' 채팅이 어렵군요 후기는요? 숨고처럼 재능 구매 후 후기남기는거ㆍ 아임웹으로 하는게 좋을지..': 5840, ' 기존솔루션이라함 샌드박스말고 저렴한게 있을까요? 그런데 장바구니..마이페이지 기능 pg사 이런것은 버블에 문제는없는거죠?': 5852, ' 네 감사합니다 혹시 버블 공부하기좋은 사이트알수있을까요?': 5856, ' 안녕하세요버블로 만든 결과물을 프론트를 다른언어로 바꿀수 있다고 들었는데 , 백엔드도 다른걸로 바꿀수 있나요?': 5859, ' 안녕하세요. 기발하다고 생각한 좋은 프로덕트가 나와서 소개해드려요!여기 웹사이트도 버블로 만들 수 있나요 ??': 5872, ' 뒷단에서 api로 끌어오는 거면 충분히 가능하죠 그런데 테스트 삼아 해봤는데 이거 맞나요? 사진 맞는지 아닌지 알수가 없네요 ㅋㅋㅋ;;': 5874, ' 혹시 text editor 중에서 image 첨부도 가능한 rich text editor는 어떻게 구현하셨을까요?': 5891, ' bubble.io 에서 유료서비스를 신청하려고 하는데할인 받을 수 있는 방법 있을까요?': 5894, ' personal 플랜으로 동시접속 50명정도 처리 될까요? 워크플로우는 그냥 설문 작성 페이지 정도의 워크플로우입니다': 5899, ' 이미 화면에 배치해놓은 요소에 링크를 걸어주려면 어떻게 하면 될까요? 링크박스를 만들어서 넣어줘야 할까요??': 5904, ' 안녕하세요.': 12749, ' 안녕하세요! 버블의 가능성에 대해서 질문드립니다.여러 사이트의 예약 정보를 인식하고 관리하는 앱도 버블로 만들 수 있나요? Zapier와 연동이 안된 앱들은 어렵다고 생각이드는데... 어떻게 구현할 수 있을까요?': 5930, ' 헉...대박이네요!! 두가지 질문이있습니다 ㅎ1. 자피어에서 연동안되는 사이트의 예약도 인식이 가능한가요? 예를들어 네이버 스마트 스토어2.예약정보 API를 제공하지 않는 사이트는 안되는 건가요? (바로 답변해주시고 커뮤니티가 넘 좋네요... 저도 자주 기여하겠습니다)': 5932, ' 혹시, 버블에 GTM(구글태그매니저)달아서 사용하시는 분 계신가요?': 5934, ' 안녕하세요! 기초 질문이 하나 있습니다혹시 unique id와 slug의 용도가 어떻게 다를까요?': 5935, ' slug로 seo를 활용하기도 하나요?': 5938, ' 안녕하세요 버블에서 시간이 오전 시간이면 오전이라는 것을 붙이고 싶은데 if 문을 워크플로우단에서 새로운 필드를 만들기보다는 dynamicdata내에서 if문을 활용할 수 있는 방법이 있을까요?': 5941, '  conditional로 container layout을 바꾸는 방법이 있을까요..? 가로폭에 맞춰 row / column을 전환하고 싶은데..': 5946, ' 저도 그렇게 움직이는 걸 본 것 같은데 내부 엘리먼트가 fixed 여야 가능한가봐요 min width를 설정해야 되려나요': 5957, ' 답변감사해요! 그럼 혹시 프론트에서 처리하면 에러 메세지는 어떻게 확인하시나요?비밀번호를 틀렸는지 가입되지 않은 사용자인지 구별이 가능한가요?!': 5963, ' 지금 버블 앱 아예 안되는 사람 있나요?? ㅠㅠㅠ 갑자기 일부 기기만 접속되고 나머지는 접속이 안되서 문제네요,,': 5965, ' ㅠㅠ professional plan 쓰고 현재 구글 애널리틱스 기준으로 160명 정도 들어와있는데, 혹시 유저수 때문에 이런걸까요? 혹시 전에 버블 이슈 있었던 분 있을까요?': 5967, ' 버블 앱이 일부 먹통이네요 만드신 앱들 접속 되시나요?': 5970, ' 버블의 문제인가요? 저희 서비스는 이상 없는데...': 5980, ' 안녕하세요 혹시 ipiphy 플러그인 쓰시는 분 있나요? 특정 ip로만 접속할 수 있게 구현하고 있는데 ipiphy를 추가하면 자꾸 에러가 나네요ㅠㅠ': 5989, ' 써보진 않았지만 ipiphy를 삭제하면 정상작동 하시나요?? 😳': 5990, ' 로그인을 뭘로 하시나요? 로그인 과정에 구글 같은 외부 서비스를 쓸 때클라이언트가 받아들일 수 없는 IP가 접근하면 차단하는 듯한데요 클라이언트가->서버가': 5993, ' 고수님들께 하나 여쭤보겠습니다. 혹시 리피팅 그룹 쓰는거랑 그냥 그룹써서 여러개 넣는거랑 혹시 뭐가 다른가요? 사진': 5996, ' 혹시 대댓글 만들 땐 어떤식으로 DB를 구성해야할까요..? post, comment를 별도 테이블로 구성하고 comment에 다시 comment를 link할까요..?': 6000, ' 혹시 이 방에 팝업 서비스 하시는 분 있으신가요? :) 저번에 팝업 다는 서비스 만드시는 분 있었던 것 같은데 연락처가 없어서요😂': 6005, ' 처음 보는 사례인데요? 혹시 임시 비번 로그인 시 관리자페이지로 바로가게 워크플로우가 설정되어 있는 건 아니죠?': 6013, ' 임시 비번은 어떤 프로세스로 발급하세요?': 6015, \" logined 페이지에 'page is loaded'같은 이벤트는 없는거죠?\": 6017, ' 자동으로 비번 정해지는 게 뭐죠?;;;': 6021, ' 아아 임시암호 할당이군요. 저도 이건 안써봤는데 이상하긴 하네요 포럼 뒤져봐도 관련된 내용은 없으나 오류가 좀 있어서 이용자들이 곤란을 겪는 것 같습니다. 임시 비밀번호 할당 말고 비밀번호 재설정은 어떠세요?': 6023, ' 근데 이게 유저가 비번을 잃어버리면 어떤 프로세스로 해야 되나요': 6028, ' 혹시 아예 이메일을 안쓰시나요? 이거는 링크만 생성도 가능해요': 6039, ' 뭘 넣어야 하나요? 넵': 6044, ' 그럼 뭘 넣어야 하나요? 그냥 제가 원하는 유저가 못보개 하려고 페이지 이동시키는거라서요': 6046, ' 그러면 제가 관리자 페이지에 접속한 사람이 특정 유저가 아닐때 index페이지로 보낸다면 data to send에 뭘 넣어야 하나요': 6048, ' 아무것도 넣을 필요 없죠 인덱스도 데이터 타입이 지정되어 있나요?': 6049, ' 글쎄요... 지금 관리자 페이지를 따로 만드신거죠?': 6059, ' 사진 요 부분이죠?': 6067, ' 찾기가 어려우셨을 텐데 어떻게 찾게 되었나요?': 6069, ' 할 수는 있는데 꽤 복잡하고 코드가 좀 필요한 것으로 알고 있습니다 근데 위의 질문 읽다가 문득 사진 이 컨디션은 실제로 아무 기능이 없지 않나요..? Q. 리피팅 그룹 안의 리유저블, 의 state에 값을 넣는 방법이 있을까요? 없는 듯하네요': 6076, ' 혹시 관계형 DB는 버블로 어떻게 표현되나요?Users, Posts 테이블이 있는데 Users 테이블에 Posts field (List of Posts)를 추가하였습니다.문제는 글을 쓸 때 즉, Create post를 할 때 어떻게 Users 의 Posts 를 업데이트 할 지 모르겠네요 ㅜㅜ': 6078, ' 와우!! 감사합니다! 바로 실행해보겠습니다 특정 조건이면 container를 안보이게 하는 조건식을 구현했습니다! 근데 보이지 않을 뿐, 그 공간은 그대로 차지하네요… 혹시 어떤 property to change 를 선택해야 할까요..?': 6080, ' 여기서 엄지척 아이콘을 쓰고 동시에 저 동그라미를 빼고 싶은데 가능할까요?': 6085, ' 혹시 버블에 회사 이메일만 인증가능한 플러그인이나 기능이 있나요?': 6093, ' 혹시 버블에서 챗 GPT를 활용한 사례는 없을까요?': 6095, ' 혹시 iOS에서 masonry grid 사용해보신 분 계세요? *리피팅 그룹의 Masonry Grid는 추가된지 얼마 안된 기능이었군요 관련해서 검색해보다가 버블 포럼 보니 사진 버블 개발 경진대회(?)를 한다고 하네요 프로젝트 관리 앱 만들기': 6100, ' 안녕하세요 버블에 관심많아져서 가입했습니다..~ 아직 버블에 대해 잘 몰라서 그러는데요.. 버블로 앱을 만들고 그 소스를 안드로이드나 ios소스코드로 볼 수 있을까요? iot제품하고 연동하는 앱으로도 버블에서 구현이 가능한지 궁금합니다.. ㅎ': 6109, ' [질문]안녕하세요!혹시 날짜를 월주차로 변경하는 함수 아실까요?!': 6116, ' 네 감사합니다! 혹시 함수를 사용하셨을까요?!': 6119, ' 버블의 다이내믹 익스프레션입니다. 함수라 하심은 혹시 코딩 기반 함수를 여쭤보신건가요?': 6120, ' 에어테이블 질문이셨군요 덕영님 ㅋㅋㅋ': 6122, ' 넵 반갑습니다 ^^!! 오자마자 질문부터 남기게되었는데 ㅜ 링크 공유해도 괜찮을까요?': 6129, ' 늦은 밤 죄송합니다. 히로인스는 어떻게 버블을 앱으로 출시한건가요??': 6147, ' LMS 클론 코딩을 해보려고 하는데 아무리 검색해봐도 찾을 수가 없네요ㅠㅠ 혹시 추천해주실만한 사이트나 강의 아시는 분 계실까요?': 6148, ' 특정 컴퓨터에서 폰트가 적용되지 않게 보이는 케이스는 어떨 때인지 아시는 분 계실까요?': 6149, ' 오 자료는 종종 올려주셔서 좋긴한데 인스타그램 처럼 만들려면 시간이 얼마나 소요 될까요?': 6185, ' 혹시 아는 분 계실까요?ㅠㅠ': 6208, ' 버블은 유료결제 하지 않으면 배포가 불가능하다고 들었는데 결제전 프리뷰에서 보는 화면과 결제 후 보는 화면에 유저가 어떤 차이가 있는걸까요?': 6213, ' 감사합니다!제가 제대로 이해가 되지않아서 그런데 배포(결제)전 프리뷰를 통해 보는 화면(링크 주소)을 통해서도 유저에게 전달할 수 있는데 결제(배포)를 하는 이유가 궁금합니다.': 6215, ' 혹시 버블네서 호스팅까지 지원해주나요?': 6217, ' 아 그렇군요!! 그러면 저번에 가비아 호스팅 서버 다운때 영향을 받으신 이유가 무엇일까요?? 모두의노코드는 호스팅 서버를 분리해서 사용하시나요~?': 6219, ' 카톡 인앱 브라우저에서는 특정버튼을 누르면 현재 url이 클립보드에 복사되는 기능이 안되는데, 혹시 관련해서 해결하신 분 계실까요??': 6224, ' 오.. 예약일은 어떻게 가져오셨나요? 손으로 입력...?': 6227, ' 근성 ..': 6229, ' sort수식으로도 안되셨나요?': 6234, ' 안녕 하세요 버블 입문하고자, 이렇게 들어왔습니다. 물건을 구입하고, 구입 금액에 몇%롤 블럭체인 코인으로 리워드 주는 앱을 만들어 보려고하는데요. 리워드 시스템 구현이 어떻게 가능할까요 ?': 6236, ' 안녕하세요 혹시 결제서비스(카드 등)는 어떻게 연동하고 계시나요?': 6243, ' 혹시 괜찮으시면 연동하신 사이트 알려주실 수 있나요..? 구경 한번 해보고 싶어서요!': 6245, ' 혹시 data 쪽에 privacy setting은 확인해보셨나요? 구글에서 필요로하는 유저 정보가 비공개로 되어있을 가능성 한번 보시면 좋을거같아요': 6248, ' Do a search for의 사용을 줄이기 위해 관계형을 쌍방향으로 등록하는 것에 대해 어떻게 생각하시나요': 6251, ' 궁금해서 그러는데 , Do a search for 사용을 줄이면 속도같은점에서 좋은게 있나요?': 6252, ' do a search for을 줄이면 어떤식으로 바꾸면 괜찮나요..?': 6257, ' @이주형/해치하이커 님 혹시 지난번 시제품 만들어 주신다는 말씀주셨던게 기억나는데혹시 개인상담 가능할까요?': 6264, ' 버블을 이용해서 일정 쉽게 조율 할 수 있는 웹사이트 만들어 봤습니다!https:/woorimanna.com@하희철 / 기획, 마케팅, 노코드 이 사이트도 모두의 노코드에 올려도 될까요?': 6266, ' 안녕하세요 혹시 한글로된 노코드 툴이 어떤게 있는지 여쭤봐도될까요?': 6280, ' 아임웹..? 일까요 👀?': 6281, ' 아웃코드 잘쓰시는 분 혹시 계실까요? 전자책 플랫폼 만들고 있는데.. 도움이 필요합니다 🥲': 6284, ' 감사합니다 보통 노코드 해서 웹이나 앱 만드시는 분들은 영어로된 플랫폼 쓰시는게 일반적이신가요? 제일 유명한 플랫폼들이 버블이나 웹플로우로 알고있는데 맞을까요??': 6285, ' 사진 홈페이지나 쇼핑몰을 런칭하려면,어떤 레벨을 선택해야 할까요?': 6292, ' 구글(도메인 구매나 이메일 서비스를 받고)과 샌드그리드 하고는 별개인가요? 즉,, 구글에서 이메일 서비스를 받지 않아도, 샌드그리드를 통해 나의 도메인을 사용하며 메일을 보낼 수 있다는 얘기로 이해해도 될까요? 일일 100개이내라 가정하에.': 6296, ' thing의 하위 항목에 조건을 걸어 thing을 찾는 방법이 있을까요..? thing1에 연결된 다른 하위 thing2의 특성 속성이 어떤 조건을 만족하면 thing1의 리스트를 반환하는 방법이...?.?': 6300, ' filtered 써보셨나요?': 6301, ' filtered도 do a search for 랑 constratins 설정이 같던데 혹시 어떻게 해야 할까요..?': 6302, ' 혹시 make(integromat)에 bubble 연결해서 사용하시는 분 계신가요? 어제부터 시도중인데 계속 에러가 나오네요. Invalid API token. See our online Help to read how to get the API token. The details are: [401, ] 혹시 해결방법 아시는분 계실까요?': 6307, ' 사용해보지는 않았지만, Invalid API token / 401 오류가 나오는거로 봐서는 토큰이 만료되었거나,  토큰 정보(Authorization Bearer {token})가 설정되어 있는지 확인이 필요하실 듯 합니다.': 6310, ' 아 자피어 같은 자동화 툴인가요?': 6313, ' 유저의 개수인가요 유저의 특정 필드 값인가요?': 6319, ' 인공지능 또는 알고리즘이 준비되어 있으신가요..?': 6324, ' 아 넵! 알겠습니다 혹시 개인 카톡 가능하실까요?': 6331, ' 사진 도메인을 연결했고 whatsmydns.net 에서도 모두 잘 연결된 걸로 나오는데,, 버블에서 이렇게 나오는 이유는 뭘까요?': 6335, ' 아.. 저기서 체크가 된다 하더라도 버블에 반영되기에는 좀 걸린다는 얘기시군요. 좀 기다려 보겠습니다. 감사합니다. 와우.. 몇 분 간격인데.. 반영됐습니다. ^^ 샌드그리드를 세팅했는데,, 테스트버전에 있던 워크플로우의 버블 이메일 설정을 샌드리드로 모두 변경해야 하나요?': 6337, ' 검색과 직접 입력, 취사선택이 가능한 드롭다운이 필요할 때는 어떻게들 하시는지요.. ?.? 사진 딱 요거 같은데 이거 어떻게 만드신건가요...? @하희철 / 기획, 마케팅, 노코드 인풋의 텍스트 is not empty 일때 리피팅 그룹을 띄우는 건가요': 6343, ' 네 원리는 간단합니다. 리스트형 스테이트 생성하시고 태그 검색창에 태그 입력 시 DB에 존재하는 태그만 표시되고, 선택하면 스테이트에 해당 태그가 추가됩니다. 선택된 태그는 위에 말씀하신대로 스테이트 is not empty일 경우 표시되도록 하고요 써놓고 보니 생각보다 간단하네요? ㅋㅋㅋ 하시면서 막히시는 부분은 말씀해주세요': 6347, ' 저도 그렇게 처리했네요 사진 여기 리스트에 사용하신 건 그룹포커스인가요..?': 6354, ' inf로 처리 한다는 말씀이 ?': 6355, ' recurring event 사용해보신 분 계세요? 잘 되시는지?': 6357, ' 무료 버전은 리스폰시브 스크린이 안되나요 ?': 6373, ' 버블에서 날짜선택해서 몇주인지 확인하는 방법이 있나요?? 1주 2주 3주 4주 5주 이런식으로 나오면 좋을텐데... 1주~52주 이런식으로 나오더라구요': 6375, ' 앱 개발하실때 폰트를 어떤걸로 사용하세요 ?': 6376, ' 사진 하나의 상품에 2개 이상의 옵션이 있습니다. 이때 상품 목록의 리피팅그룹에 나타나야할 조건으로 2개 이상의 옵션을 필터로 거는 것 같은데,, 한개 이상 잡아주면 아예 보이지가 않아요. 어디가 잘못된 것일까요?': 6385, ' 설정에서 일괄 적용되는게 아닌가요?': 6394, ' 옹 저도 신청하려고 하는데 버블로 crud 구성하는건 어떻게 진행하시나요?? 조금 부연설명 가능할까요..?': 6427, ' 혹시 크롬에서는 기능이 되는데 사파리에서는 안 되는 경우도 있는 걸까요!?': 6437, ' 툴박스 플러그인으로 자바스크립트를 실행할 수 있는 건 알곘는데.. 워크플로우로 실행해야 하는 것 같더라고요(? 제가 잘못 이해한 건지)혹시 다른 엘리먼트 기반 플러그인들처럼 버블앱 실행중 상시 실행되는 방법은 없을까요?': 6440, ' Html 요소 넣으시거나 페이지 헤드나 바디에 넣으시는걸로는 안되시나요?': 6441, ' 코드의 출력값의 의미가 버블에서 처리한 결과값을 자바스크립트의 변수값으로 사용하시고 싶다는 말씀이신가요?': 6443, ' element 이름을 한글로 적어도, 속도에 영향이 있을까요?': 6457, ' 혹시 와이어프레임 툴 어떤걸 많이 사용하시나요? 바로 버블로 하시나요?': 6464, ' 질문 있습니다.!!  토스페이먼트 카드 결제창을 연동했을 때 결제 후에 결제된 내용을 커스텀 스테이트로 변경된 화면에 보여주고 싶은데요. 자꾸 페이지가 리프레쉬되네요. 혹시 해결책을 알고 계신분이 있으실까요?': 6467, ' 엘레먼트에서, 워크플로 입력돼있는데,  그룹하면,  워크플로우가 사라지나요 ? 사진 그룹핑하다가, 갑자기,,, 하얗게 안보여졌는데,, 혹시 이유 아시나요 ? opacity, 0으로,,,  ㅡㅡ;': 6471, ' 사진 크롬 상태표시줄에 나오는 문구는 어떻게 바꿀 수 있나요?': 6472, ' 어떻게 들어가나요..?': 6478, ' ?? 사이트요? 아니면 어떤?': 6479, ' 링크를 눌러도 안 들어가지고 직접 입력해도 안 들어가지는데.. qryour.in 이거에요?': 6480, ' 복잡한 건 결국 안쓰게 될 것 같아서 최대한 단순한 형태로 적었는데. 어떤 단점이 있으셨나요..?': 6494, ' 버블 외 노코드 질문도 가능한가요': 6499, ' 버블로 앱을 만들고 싶은데요!- 기록용 앱이라 주 기능은 데이터 입력 & 시각화일 것 같고- 멤버십 기능을 접목시켜 각 플랜별 서로 다른 금액이 결제되도록 결제 기능을 넣고 싶습니다.ios/안드로이드 둘 다 배포하길 희망하는데 혹시 버블로 만들어 유사한 앱을 배포하신 경험 있으신 분 계실까요?': 6521, ' 페이플의 링크페이같은 경우에는 보험료 내지 않아도 괜찮나요?': 6533, ' 사진 2장 이런식으로 카드결제 하는건 카드번호만 입력함 바로 결제처리 되더라고요.이런건 페이플 링크결제 이용한 다음 자피어로 자동화 하는 방법일까요?': 6537, ' 앱으로 감싸 만들었다는 게 웹뷰앱으로 래핑했다는 말씀이신가요?': 6540, ' 그리고 혹시 수정이 어떻게 안되시나요? 지금 해보니까 잘 되는 것 같아서요 ㅠ': 6544, ' 안녕하세요! 혹시 bubble plans 중 [recurring workflows] 가 이해 안되는데 무슨말인지 아시는분🙌🏻': 6550, ' 매일 또는 매월 등 일정간격으로 특정 워크플로우를 자동으로 살행시키는 걸 말해요': 6551, ' 기본 작업 환경을 디스플레 320으로 할수있을까요? 저는 앱으로 만들계획이어서요. 흠, 왜 저는 그룹핑하면 색깔이 연해질까요 ?': 6554, ' @하희철 / 기획, 마케팅, 노코드 안녕하세요 희철님 :) 모노데이 신청했는데, 혹시 줌 링크가 따로 전달되나요?': 6557, ' 당근페이..?': 6563, ' 혹시 버블에 채널톡 다는것도 가능한가요?': 6566, ' 스마트 라이트같은 기기를 켰다 껐다 하는 기능을 넣은다면, 어떻게 할수있을까요 ?': 6574, ' 안녕하세요! 카카오로그인을 구현중인데요. 세팅모두다한뒤 디버그 모드에서 워크플로우를 통해 첫연결 시도시 404에러가 뜨는데 원인이 짐작이 안 가서요..! 혹시 같은 오류 해결해보셨거나 짐작가는 원인이 있는분 계실까요? 앱은 비즈앱으로 등록했습니다모두의 노코드 서지훤님글을 참고했습니다!': 6586, ' 프리뷰로 디버그 모드에서 로그인 해보셨을까요? 카카오 소셜로그인플러그인 지금알았네요;;': 6591, ' 동영상 안녕하세요~~~버블에서 이런 기능도 구현이 가능한가요? 아니면 플러그인아시는거 있으신분 있으실까요?': 6595, ' 바텀시트요?': 6597, ' 아무래도 유료플로그인을 사용해야할거 같네요~~~! 추가 질문이 있는데  여기 있는 글처럼 사진을 여러개 업로드 하고 싶은데 UI 문제 때문에 수동실행을 자바스크립트를 통해 실행하는데 id값 설정하는 곳이 안보이면 어떻게 해야하나요?  만약 유료플랜만 사용가능하다면 어떤 플랜을 사용해야하는지도 알고 싶습니다~!': 6609, ' 구글 맵이 갑자기 \"Oops! Something went wrong.This page didn\\'t load Google Maps correctly. See the JavaScript console for technical details.\" 안나오는데요, 아시는분 계시나요 ?': 6612, ' 그런데, 로그는 어디서 볼수있나요 ?': 6619, ' chrome 브라우저 기준으로윈도우 : F12Mac : command + Option + i': 6620, ' 혹시 버블 이거 오류인가요?라이브 데이터 조회 시 로그아웃이 되어도, 해당 링크로 들어가면 데이터가 그대로 보입니다ㅠㅜ버블 보안이 문제가 큰 것 같은데 해당 이슈 발견해서 버블측에 문의하신 분 계실까요?': 6627, ' 라이브 데이터 어느 화면을 말씀하시는걸까요? privay rule은 적용하셨는지요? privacy rule': 6628, ' 버블 편집 화면에서 개발 버전 아니고 라이브 버전으로 봤을 때 화면이에요! 확인해볼게요! 사진 사진 요렇게 상단 오른쪽 보면 로그아웃 상태인데 아래 데이터가 모두 조회가 되더라구요ㅠㅠ 혹시 제가 privacy rule을 잘못 설정해서 이런 걸까요?': 6629, ' 혹시 제 general에서는 application rights가 안뜹니다!개발버전 라이브 버전에서 모두 안떠서 혹시 다른 설정을 추가로 해야 할까요? 알려주셔서 감사합니다! 사진 해당 페이지에서 rights로 검색되는게 저 네개뿐이어서요🥲': 6631, ' 채널톡엘레멘트는 플러그인없이 어떻게 복붙만해도 되는 지 궁금합니다': 6636, ' 파일 매니저에 있는 json 파일 바로 수정 하는 방법 있을까요 ?': 6639, ' 예전에 이 방 어느 분께서 버블 서버 유닛마다 한번에 몇 개 워크플로까지 돌릴 수 있는지 테스트해주신 걸 봤는데요. 혹시 몇 개까지 되는지 기억나시는 분 계실까요?': 6640, ' 아무래도 병렬적으로 돌아가는 만큼 서버 용량도 차지는 할것 같은데요? 스케쥴링 워크플로우를 최대한 유저가 이용하지 않는 시간대에 하시는것은 어떨까요 그런가요?? 무료 계정이라고 차이가 있을것 같지는 않은데 혹시 어떻게 표시되는지 알수 있을까요?': 6644, ' 버블 업데이트 내역은 어디에 올라오나요..? blog에서도 forum에서도 찾기가 어렵네요': 6649, '  요쪽에서 보실 수 있습니다 흥미로운 케이스네요. 어떤 플러그인 사용하셨나요? 제 생각엔 플러그인이나 구글 쪽에서 제한을 두는 게 아닌가 싶습니다 사진 오늘 새벽에 업데이트 되었나봐요 ㅎㅎ': 6650, ' 혹시 회원에 대한 관리는 어떻게 해야 될까요..? 마지막 로그인이라든가.. 로그인 횟수라든가': 6653, ' 혹시 앱으로 배포해서 운영하시는 분들중에서네트워크 에러로 애플 심사 거절당하신 경우 있으신가요? 로그를 보니깐 버블 data api 랑 workflow 에서 오류가 발생했다고 하는데… 실제로 지금 유저들은 잘 쓰고 있는데 이상하게 애플 심사를 넣으니깐 그곳에서는 에러가 발생하네요 (아일랜드, 미국)다른 나라에서 접근하는걸 차단하는 옵션같은게 있나요?': 6654, ' 동영상 문형님 지난번 도움 감사합니다~! 추가 질문이 있는데 영상처럼 작동하는 건 it에서는 어떤 용어를 사용하는지 아시는 분 있으신가요? 혹은 버블에서 어떻게 구현해야하는지 아시는분 계실까요?': 6656, ' 확인해보시고 저도 알려주세요 궁금 ..': 6664, ' 맵에서, 제위치를 찾아서 줌인 해주는 플러그인이 어떤게 있을까요 ?': 6676, ' 혹시 리피팅 그룹도 슬라이더 처럼 보여줄 수 있나요?인스타그램처럼 이미지를 슬라이드 하는건 플러그인 통해 가능할거 같은데 리프틸 그룹 자체를 슬라이드 형태도 하나씩 넘기면서 보여주고 싶은데 이런것도 가능할지 갑자기 궁금해졌습니다~ 문형님 이런 글씨체는 직접 구매해서 사용하시는 건가요?': 6684, ' 눈누… 넵': 6688, ' 여러개의 카드가 있고, 랜덤으로 카드를 24시간 동안만 보여주려는 의도로 카드의 데이터 타입을 date로 만들고, 오늘 날짜에 맞는 녀석을 찾아 보여주면 되겠다 싶어..그리 했는데 잘 안되네요 ㅠㅜ. 뭐를 잘못한걸까요? 다른 방법이 있을까요?': 6690, ' thing에 순서대로 index필드를 넣었는데요. 생성 순서대로 1,2,3,4 들어가는 .. 중간에 하나 삭제했을 때 이 필드를 어떻게 갱신해야 할까요..?': 6692, ' 정말 처음 보는 상황입니다. 혹시 어떻게 보이나요? 그룹이나 다른 요소로 가려져 있는 건 아닐까요?': 6694, ' 삭제를 그냥 아예 삭제처리하시나요?': 6696, ' 하나의 컨텐츠에 추가(add)한 참여자목록을 정렬함에 있어 최근 순으로 하려면 어떻게 해야 할까요?': 6720, ' 감사합니다 혹시 그럼 디테일 페이지에서 저 Pk 값은 어떻게 참조하지요?? 사진': 6732, ' 좋은 아침입니다 alert 엘리먼트가 팝업이나 포커스 그룹처럼 화면 위에 뜨는 게 아니라 자리를 차지해서 고민인데요 그렇다고 팝업이나 포커스그룹에 담자니 일일이 열고 닫아줘야 해서 alert을 쓰는 의미가 없는 듯하고 .. 이 부분 고민해보신 분 계신가요..?': 6740, ' attendance 타입에 friend 의 형식을 datetime 하라는 얘기죠?': 6756, ' 혹시 HTML태그 사용하는 방향 말고 사용자 지정 폰트로 변경하는 방법이 있을까요..? 이제 막 입문 단계라 초보적인 질문드려요..ㅠㅡㅠ': 6771, ' 안녕하세요. 저희 기업에서 노코드 툴을 구독을 해 놓고 앱이나 홈페이지 개발을 준비하려 합니다. 추천 플랫폼 조언 들을 수 있을까요?': 6778, ' 질문 드립니다. 앱내에서 로그인 계정에 따라 데이터 리스팅을 다르게 할 수 있을까요?예를 들어 품목 데이터가 100가지가 있는데A 유저 에게는 1번부터 5번까지 리스팅B 유저 에게는 20번부터 30번까지 리스팅이런 식으로요...데이터별로 식별표지를 만들어 주면 될것 같은데 로그인 계정과 매칭하는 방식을 잘 모르겠습니다.': 6782, ' 되돌아가는 페이지의 스테이츠 중 특정 하나로 가게 하는 방법이 있을까요?': 6788, ' 사진 버블로 카카오 로그인 구현하고 작동도 하는데 initialize call을 요청하면 저리뜨네요 ㅜㅜ 왜 그럴까요': 6789, ' 저도 초보자라 잘 모르지만 Endpoint 설정이 잘 못 된 것 같은데 확인해보시겠어요?': 6790, ' 혹시 결제 붙여 보신 분 보증보험 가입하셨나요? 페이앱 통해서 결제링크 써보고 있는데 최소 300만원이라고 해서 고민되네요': 6793, ' 설마,, 저건 아시는 사항인데 300에 대한 보험료가 부담된다는 얘기신지.. 어찌됐든 이렇습니다. A 페이지에 3개의 보이고 안보이는 state 가 있는데, 특정 state 에서 보다 다른 페이지로 이동했다, 다시 돌아왔을 때 해당 state 로 들어오는 방법이 있을까요?': 6796, ' B페이지로 이동할 때 state 값을 URL 파라메타로 넣어 가긴 했는데,, 되돌아올 때 이값을 어떻게 사용하는지 모르겠어요. 이방법이 아닌 다른 방업이 있을까요?': 6799, ' 혹시 소정님은 그럼 보증보험 얼마 가입 하라고 요청 오셨나요? 담당자가 서비스일 경우 보증보험 300만원이 최소라고 하네요 ㅠ': 6800, ' get data from url 를 A 페이지의 어디에 넣어야 하는건가요? B페이지의 백버튼 워크플로워에 보면 Go to previous page 에는 해당 값을 넣는 란이 없어요.': 6801, ' B페이지가 여러개인가요 지정된 하나인가요': 6802, ' 오늘도 초보적인 질문드려요..! 버블로 웹앱 조금씩 만들어보고있는데 기획하실때 다들 어떤식으로 시작하시나요..? 저는 피그마로 대략적인 UI/UX 가이드만 잡고 하고있는데 다른 분들은 어떻게 시작하시는지 궁금해요..!': 6806, ' 아 그러면 300만원을 입금하고 시작하는게 아니라 해당 되는 보험비만 내는 것일까요?': 6808, ' 버블 플러그인 중 Selectize 혹시 직접 구현해보신 분 계실까요?dropdown을 구현하고 싶은데 이미 있는 리스트 중에서 선택할 수도 있고 사용자가 직접 추가할 수도 있게 하고싶어서 알아보던 와중에 Selectize를 발견했는데 유료라서 혹시 직접 구현할 수 있는 방법이 있을까 하구요..!': 6820, ' 훌륭하십니다. 혹시 개발한 것들을 구경할 수 있는 홈페이지 같은 것들이 있으신가요?': 6834, ' 안녕하세요!혹시 버블 공부 스터디도 있나요?': 6836, ' 혹시 강의 링크 부탁드려도 될까요?ㅜㅜ': 6838, ' 안녕하세요 버블 입문자인데 따로 배울수있는곳이 있나요?': 6851, \" 허걱,, 특정 사용자의 '회원활동정보'에 자기를 좋아하는 회원들의 목록도 있는데, 이 목록 중 특정 회원을 누르면 동일 페이지의 '회원활동정보'가 변경됩니다. 즉, A -> A 로 이동시키는거라,,작동은 되는데 go to page로 되어 있는 워크플로우에서는 빨간색 에러라 나타납니다. 어떻게 해결해야할지 조언 부탁드립니다. 참고로, 이 페이지에 들어 올 때 사용자 유니크 아이디를 주소에 붙여서 가져오고 있습니다. 결과적으로 보면 주소에 회원의 유니크 아이디만 바뀌는 것인데,, 에러없이 뭘로 할 수 있을까요?\": 6859, ' 어떤 방식으로 하면 이 상황을 피할 수 있을까요?': 6863, ' 혹시 버블을 이용한 서비스에서 가입한 회원의 권한에 차등을 두는게 가능할까요? 일반 계정과 어드민 계정을 나누는 것처럼요.': 6872, ' 버블 서버 터진 것 같네요 혹시 되시는 분 계세요?': 6875, ' 복구가 된건가요..?': 6887, ' 어디서 들을 수 있을까요?': 6890, ' 나중에 신청 드려도 괜찮을까요?': 6895, ' 버블에서 녹음을 하려면 어떻게 해야하나요?': 6897, ' 혹시 버블 처음시작하는 사람이 보기좋은 사이트나 vod가 있을까요?': 6903, ' 오타 확인해보셨나요?Login dialog redirect : \"(변경) Login dialog redirect : \"authorize가 맞습니다. :)': 6913, ' 아무런 창도 뜨지를 않아요 ㅠㅠㅠㅠㅠㅠㅠㅠㅠㅠㅠ 그래서 다시 로그인 버튼을 누르면 카카오 200 오류페이지가 뜹니다 ㅠㅠㅠ 캐시삭제하고 다시 해봐도 계속 똑같네요 ㅠㅠ 로그인 백번한거같아요 ㅠㅠㅠㅠㅠㅠㅠㅠㅠㅠㅠㅠㅠㅠ 사진 3장 로그인데 혹시 뭐가 문제인지 아실 수 있을까요 ? ㅠㅠ': 6916, ' 로그만으로는 확인이 어렵네요. API Connector에서 설정이나, 카카오 개발자센터에서 설정하는 부분은 체크해보셨나요?': 6917, ' 특정 그룹을 스크롤시 상단에 고정하고 싶다면 어떤 방법을 써야 할까요? 플로팅그룹을 쓰는 방법밖에 없는지요?': 6922, ' 플로팅그룹이 가장 적절할것 같은데 혹시 플로팅 그룹이 아닌 다른방법을 써야하는 상황이실까요?': 6923, ' 그럼 플로팅그룹에서 마진을 주고 투명도를 100으로 주면 해결될 것 같은데 시도해보셨나요?': 6925, ' 혹시 Softr와 Bubble 둘다 써보신 경험 있는분 있을까요? 써보신 입장에서 장단점을 설명해주실 수 있는 분 있으면 감사하겠습ㄴ디ㅏ.': 6934, ' 안녕하세요! 카카오로그인 구현중인데 어제는 되는가 싶더니.. 오늘은 또 로그인 버튼 누르고 동의창에서 동의하고 나면 로그인이나 회원가입이 되지 않고 그냥 다시 로그아웃상태로 되돌아옵니다 ㅠㅠ 무슨 문제가 있을까요.. 그리고 또 카카오 로그인 구현 과정에서 뭘 건드린건지 자꾸 url 뒤에 #login 이 붙는데 이건 왜일까요? ㅠㅠ': 6946, ' 버블에서도 카톡 로그인이 가능한가요?!': 6947, ' 에러 메시지 뭐라고 나오나요?': 6953, ' 보통 스테이트 에러는 스테이트의 타입과 지정하려는 밸류의 타입이 일치하지 않아서 생깁니다 설정하신 타입을 한 번 확인해보세요': 6955, ' 사용자 필드에 있는 값(text)페이지 로드시 setstate 값으로 쓰려 하는데,, 왜 안되는걸까요? 사진': 6961, ' view라는 custom state의 데이터 타입과 value의 타입이 모두 text가 맞나요?': 6962, ' 새 앱인데 텍스트 입력에서 버벅이니 뭐…': 6968, ' ram은 그대로인데요...??!!!!': 6970, ' 카카오 간편동의 이후 로그인이 안되는 이유가 뭘까용ㅠ 그냥 로그인이랑 간편가입이랑 설정이 달라야하는 부분이 있나요?ㅠㅠ url 뒤에 계속 #login이 붙어있는 이유는 뭘까요 ㅠㅠ': 6976, ' api 커넥터로 직접 연결하신 건가요★?! 또륵...ꃼ.̫ ꃼ': 6977, ' 앗 디벨로퍼에서는 뭘 지워야할까욥? 그리고 카톡로그인 들어가면 앱으로 로그인 말고 계정입력해서 로그인만 가능한가요?': 6980, ' 아아 그거는 카톡앱에서 연결된서비스 끊어주는거죵?': 6982, ' ㅎㅎ 카카오 메시지 보내려면 다시 인가코드 받고 토큰 갱신하고 동의받고 불러와서 보내야하나요..ㅎㅎㅎㅎ 막막하네요': 6987, ' 템플릿을 페이지 단위로 적용할 수 있나요? 몇몇 페이지는 제가 직접 만들고 랜딩페이지나 커뮤니티 기능 등은 템플릿을 가져와서 만드는게 가능할까요? 템플릿으로 시작한 앱이 아닌 경우에요!': 6988, ' 어떻게 구현하셨나요': 6996, ' 영태님 대단하시네요. 축하드립니다 ㅎㅎ 뿌듯하시죠?': 6998, ' 페이지를 나누니까 페이지 넘어가는데 너무 오래걸리던데 이것도 좀 빨라지게할 방법이 있나요?': 7001, ' 멀티 설렉션 중에 선택된 항목만 검색하게 하는 방법이 있을까요?': 7015, ' 버블 repeat 그룹안에 있는 체크박스를 구글 시트에 연동되게 어떤식으로 가능할까요?': 7038, \" 혹시 matt neary의 'think it, built it' 강의 들어보신 분 계신가요?\": 7039, ' 안녕하세요, 혹시 API 만들고 \"initialize call\" 할 때, 보내는 json 파라미터를 string이 아닌 숫자나 리스트로 보내려면 어떻게 해야하나요? 😭': 7040, ' 브라우저 어떤거 쓰세요?': 7044, ' 휴일에도 답변고맙습니다. 혹시 조금 더 여쭤보자면, 사진 상에서 형식 지정하는 곳은 어디에 있나요? 사진': 7047, ' 혹시 버블로 만든 웹서비스를 앱으로 출판해낼수도 있나요?': 7063, ' 회원가입시 초대코드를 5개 생성해 주려 하는데,, 5개를 어떻게 설정해줘야 하는지요? 사진 is 5 일까요???': 7070, ' 백엔드워크플로우는 어떤 요금제를 써야 하는건가요?': 7104, ' Personal 이상이면 되더라고용 잘 안되나요 피그마 임포트...?..': 7106, ' 저도 이건 좀 궁금하네요, 피그마 자체에서 constraint와 auto layout빡세게 걸어놓고 임포트하면 그대로 쓸 수 있는지..!! 혹시 한번 하시게 되면 알려주실 수 있을까요??': 7109, ' 저도 오늘도 질문있습니다..! input element focus out될 때 특정 그룹이 보이지 않게 설정할 수 있는 방법이있을까요..?': 7116, ' 혹시 searchable dropdown 만드시는건가요?': 7117, ' 답변 남겼습니다~ 댓글 남겼는데요 혹시 프라이버시룰 체크해보셨나요?': 7131, ' 앗 감사해요. Collapse when hidden은 그룹생성시 Layout탭에 바로 표시되지는 않는것 같은데 옵션을 표시할수 있는 다른 방법이 있나요?': 7132, ' 비슷한 문제를 겪으셨던 분이 있으신지 궁금합니다!사용자가 비밀번호에 $ 를 사용했는데(사용기기는 갤럭시입니다)로그인을 할때 비밀번호가 틀려서 로그인이 되지않는다고하네요,,,갤럭시 $를 비밀번호에 사용할때 생기는 오류나, 비밀번호에 사용하는 특수문자 관련해서 이슈가 있으셨던 사례가 있을까요?': 7136, ' 데이터를 어디서 어떻게 어떤 조건으로 가져오는지 여전히 좀 힘든데 이건 그냥 많이 하면서 익숙해지는 건가요?대충 이렇지 않을까? 직감 + 수 많은 trial and error로 맞춰나가는데 다들 비슷한가요..?? 혹시 이 부분과 관련된 자료나 수 많은 예시들을 볼 수 있는 그런게 있을까요?강좌영상을 봐도 저걸 혼자한다면 어떻게 생각해… 싶은게 많아서 😢': 7140, ' 이렇게 구매하려면 유료 플랜이 필요한가요? 구매->구현 😅😅😅': 7155, ' ios 버전업하면 pwa 푸시 지원된다는 말이 있었는데 혹시 반영됬는지 아시나요? 저는 안드로이드라.. ㅎ': 7158, ' iOS 전용의 푸쉬 스펙이 있지 않을까 생각이 드는데.. 어디서 테스트 해봐야 하려나요': 7159, ' 안녕하세요 입문한지 얼마 안됐는데요 무료버전은 모바일 사이즈로 변경할수없나요??': 7161, ' html+css+js 파일을 버블로 가져오는 (적용) 방법은 없을까요?': 7167, ' Ios 용 앱을 제작중에 있습니다. ‘백그라운드 앱 새로고침 권한’을 xcode를 사용하지 않고 버블 안에서 구현할 수 있는 플러그인이나 방법이 있을까요?': 7169, \" 워크플로우에 '리플레시 페이지' 있간한데,, 이걸 사용하면 되지 않을까요?\": 7171, ' reusable element 간 데이터 전달하고싶을땐 어떻게 구현하면 좋을까요..? state에 저장해도 다른 element에서는 못잡는 것 같아서요!': 7172, ' reusable elment보다 더 상위그룹이라면 예를 들어 어떤걸까요..?': 7174, ' 저번주에 Option set 써보라고 어떤 분이 추천해주셨었어용 저는 아직 확인은 안해봤는데 한번 보세용': 7177, ' 앱패킹하는 서비스에 해당 기능이 있는지 확인이 필요합니다.저는 보지 못한 듯 합니다.': 7183, ' ios 앱 심사에서 출시까지 오래 걸리죠?..': 7185, ' 별 기능 없는 웹뷰앱은 튕길 가능성이 높을까요?': 7196, ' 안녕하세요~ 유용한 정보 계속 잘 확인하다가 이제 진짜 버블 쓸 일이 생겨서 질문 드립니다~!🥲🥲간단한 로직 구현이 당장은 필요없는 상황에서, 확장성 생각했을 때 bubble툴을 차용하는 게 맞을까요? 원래는 직관성+사용편의성 때문에 softr를 고려했습니다….! 버블 사용이 까다롭다고 해서 고민이 되네요….조언 주시면 감사하겠습니다🙏': 7209, ' 반드시 링크 path 값으로 해야 하나요? 파라미터로 하셔도 좋을 것 같은데요': 7215, ' 안녕하세요! 많이들 분주하고 바쁘시지요? 혹시 버블 백엔드에 살짝 만들어본 파이썬 AI모델을 붙이려면 어떻게 하면 좋을지 아이디어 있으시분 경험 있으신분 계신가요?': 7218, \" 파라미터 설정 관련해서 다시 질문 드립니다ㅠㅠ지금 대략적으로 이런 주요 flow를 가진 프로덕트를 구상 중인데요 '(회원가입 단계 x) 웹사이트(homepage)에 들어온 사람이 팀을 만들고 > 팀 초대링크(internal page)를 다른 사람에게 공유' 이 과정에서 1. 팀을 생성한 유저별로 url이 다른 초대링크를 생성해, 초대 받은 사람의 개별 데이터를 파악하고자 합니다. (예를 들어, 유저별 링크의 클릭율은 어느 정도고, 실제로 이 루트로 초대에 응한 사람이 몇명인지 등) 2-1. 아까 톡방에서 이 초대링크에 파라미터를 심으면 Link path값 없이도 개별링크 생성이 가능하단 의미로 파악했는데, 문제는 이 파라미터를 버블에서 어떻게 심는 것인지를 모르겠습니다ㅠㅠ 2-2. 그리고 이 파라미터에 정확히 어떤 걸 넣으면 유저 개별 link생성이 가능할까요? utm은 유저 개별 생성이 안되는 것 같은데 유저 고유id값을 말씀하신 걸까요? (일단 지금 버블 웹사이트\": 7220, ' 감사합니다!! 제가 잘 이해한 것인지 모르겠는데, 그럼 유저가 여러명일 경우에는 유저마다 파라미터를 다 다르게 설정해야 하나요? 이를 자동화시키는 방안도 있나요?': 7222, ' 혹시 버블 하시는분 중에 출장세차 예약 홈페이지 만들어보실분 계실까요?': 7239, ' 데이터 필드의 타입을 바꾸고 싶은데 ex) number -> text데이터 필드를 삭제하고 새로만들지 않고 가능한 방법이 있을까요?삭제하면 워크플로우 다 다시 손봐야하는게 엄두가 안나네요': 7246, ' 안녕하세요 급여와 근무시간 관련해서 계산 할 수 있는 기능을 만들고 싶은데요 버블에서 구현이 가능할까요?예를 들어시급 1만원인 사람이 32,000원을 벌어야한다 -> 3시간 12분을 근무하면 된다는 결과값을 계산해서 보여주는 기능을 구현할 수 있을까요??': 7249, ' 선생님들 혹시 버블 만드실 때 workflow가 한 화면에 엄청 많기도 하고 그런가요? 몇십개 이상..?': 7255, ' 워크플로 그룹이 있던데 이건 무슨 기능 인가요?': 7266, ' 그룹이 아니고 폴더?였던거 같은데..': 7270, ' 아 그 폴더가 그 폴더군요?': 7271, ' ?? 폴더 안쓰고 계셨나요 다들;;; 당연히 다 알고 계신줄 ㅋㅋ 재밌네요 이런 기능들 좀 정리해봐야겠어요': 7285, ' 로컬 스토리지 플러그인 있습니다. 그걸로 예전에 비로그인 사용자 팝업 띄우기 기능 알려드렸었어요! 또 뭐가 있을까요 음...': 7294, ' 모든 페이지에 사용되는 재사용 그룹에 상태값 넣어주고 다른 페이지로 넘어가면 상태값도 리셋되나요?': 7295, ' 열몇개 보내려면 열몇개 해야하는건가요': 7301, ' 정규표현식이라 하심은 자바인가요?': 7313, ' 얼럿이 뭐죠........': 7323, ' 혹시 입력하면 대시(-) 입력되는거 말씀하시는건가요': 7334, ' 지금은 RG 인풋 포메터 플러그인으로 010 폰양식은 되는데 자리수가 달라지면.. ㅎㅎ방법이 있으려나요..ㅎㅎ': 7337, ' 버블은 mvp에 좋은!': 7344, ' floating group을 center에 두려면 정말 이런 방법 말고는 없을까요..?': 7350, ' 혹시 버블에서 재피어를 거치지 않고 바로 솔라피 연결하신 분 계신가요? 재피어 비용이 은근 부담되네요;': 7353, ' make.com은 솔라피 지원을 안하나요..? 엊그제 첨 써봤는데 저렴하고 좋던데용': 7357, ' 버블db를 쓰지않고, 에어테이블로 db 바로 연결해보려하고합니다해보신분 있나요?': 7358, ' 에어테이블도 DB CONNECTION 이 있나요? 아니면 api 로 연결하시려는건지': 7360, ' 에어테이블DB 사용시 속도 외에 유의사항이 있으려나요..': 7363, ' 버블db를 대신해서 airtable 을 사용하면 장점이 뭘까요?': 7366, ' 혹시 어느 문서 확인하셨나요? 저도 Create가 맞는 거 같은데 흠..': 7375, ' 안녕하세요. 질문이 있습니다.성인인증을 해야하는 부분은 어떻게 구현하면 될까요?PASS 등과 같은 통신사 기반 인증 API를 쓰는것이 가장 좋을까요?가장 가볍고 통상적인 성인인증 기능 구현은 보통 버블에서 어떻게 구현되고 있는지 여쭤봅니다!': 7384, ' 실례지만 누구한테 답장해주신 건지 표시 부탁드려도 될까요? 초보라 어디에 대답해주신지 잘 모르겠네요..': 7388, ' delete a thing 인가요? Delete an Uploaded File 인가요? 아니면 다른 뭔가요?': 7394, ' 사진 뭔가 착각하고 있는걸까요? 사진 이것도 안되고.. ㅠㅜ 뭘까요?': 7397, ' 에어테이블에 대한 질문들을 많이 하시는데, 버블 자체DB 대신에 에어테이블을 사용하시는 이유가 갑자기 궁금합니다. 어떤 장점들이 있을까요? :)버블 자체DB를 사용하는 경우에는 데이터가 갱신되면 화면이 자동으로 변경되는 반응성 처리가 되는데 외부 DB를 사용하는 경우에는 동일한지 궁금합니다~': 7398, \" Delete thing 으로 '커런트유저>프사'를 하면 빨간색으로 나오네요. 왜 그럴까요. 파일 메니저에서 삭제하면 연결된 사용자의 프사도 자동으로 삭제되는거 아닌가요? Delete an uploaded file 포 파일매니저에서 해당 프사는 삭제했는데, 디비필드에는 여전히 있어요.\": 7400, ' 프사 = ? 뭐로 해야 할까요?': 7404, ' 혹시 버블에서 애니메이션 어떻게 적용하는지 문서나 자료 있으신분 계신가요? 스클롤하면 요소 생기고 이런 적응형 애니메이션이요!': 7409, ' 오 대단하세요 👍 어떻게 하셨어요?': 7412, ' 되면 된겁니다 지저분하고 그런거 없어요!': 7417, ' 질문있습니다!버블 workflow에서 show & hide로 보이는 그룹을 바꿔주는 방식과 각 그룹의 constraint로 visibility를 제어해서 보이는 그룹을 바꿔주는 방식 중에 퍼포먼스 측면에서 유리한 방식이 있을까요?뇌피셜로는 후자가 유리할 것 같은데 확신은 안서네요': 7420, ' 아니 이거 저도 찾아봤는데 앞자리가  02, 010 이거 구분하기가 어려울 것 같았는데요 아 그냥 HTML로 인풋을 넣으셨다.. 근데 그 값을 도로 버블로 가져와서 DB에 입력하실 수 있나요..?': 7424, ' 넵 됩니당 ㅎㅎ db에 입력이 됬어용': 7425, ' ㅋㅋㅋㅋㅋㅋㅋㅋ위아래 다른 인풋이랑 맞춰서 강제지정이죻ㅎㅎㅎㅎㅎㅎㅎㅎㅎㅎㅎㅎ': 7437, ' 안녕하세요!버블 속도 관련하여 질문드립니다.요금제를 올리면 속도 향상에 도움이 되는지 아니면 요금제와 별개로 속도는 고정되는 것인지 여쭙니다.또한 모두의 노코드는 현재 어떤 요금제를 사용하고 있나요?? @하희철 / 기획, 마케팅, 노코드': 7450, ' 디테일 페이지의 워크플로우에서 페이지 로드시 get data from url 해서 유니크 아아디를 받아오려고 하는데 그걸 못찾겠습니다.. get date from url은 어디에 숨어있는걸까요?': 7453, ' 리뷰를 만들었는데,, 다른 매장들의 리뷰가 다같이 뜨는데,,, 어디를 고쳐야 할까여?  도저히 안찾아 지네요.': 7461, ' 안녕하세요 노코드 툴로 만든 앱을 플래이스토어에 입점가능한가요?동영상 강의 서비스를 구현시키기에 노코드 툴로만 앱 제작이 가능한지 궁금합니다..': 7464, ' 모바일 반응형 웹이 카카오 링크 반응형하고 모바일 크롬이나 사파리로 볼 때 각각 사이즈가 다르게 나오는데 이유 아시는 분 계실까요? 제 설정 문제였습니다.해결했습니다!': 7465, ' 확인이 너무 늦었네요 ㅠ 혹시나 해서 이제라도 답변 드리자면 모두의노코드는 현재 프로페셔널 플랜을 이용하고 있습니다! 그리고 코린이 님이 말씀하신대로 속도는 요금제보다는 최적화에 달려 있습니다. 써드파티 서비스로 래핑하거나 PWA 등의 하이브리드앱으로 만든 다음 스토어에 올리시는 게 가능합니다. 동영상 강의 서비스는 아무래도 영상 기술이 들어가야 하기 때문에 노코드만으로 앱을 만드는 건 쉽지 않을 거고요. 보통 티처블 같은 LMS빌더를 이용하셔서 웹으로 우선 서비스를 합니다 예전에도 비슷한 오류 있으셨던 것 같은데 ㅎㅎ 저도 이런 버그는 없었는데요. 혹시 뭔가 단축키가 설정되어 있는 건 아닐까요?': 7466, ' 리스트 db에 카테고리에 해당하는 db가 연결되어 있을까요?': 7470, ' 버블에서 국내 간편결제는 보통 어떻게 구현하나요?혹시 유료 서비스 하시는 분들중에서 간편결제 구현 해보신 분 계신가요?': 7481, ' 플러그인으로 사용하셨나요? 아니면 API connector로 사용하셨나요?': 7483, ' 안녕하세요! AWS db 연결할때 65000s를 넘겨서 Time-Out Error가 발생하는데, 해결하신 분 어떻게 해결하셨는지 여쭤볼 수 있을까요?': 7486, ' 버블 Design 에서 Containers 를- Group  - Group Focus 로 각각 만들고Elements tree에서 아래와 같이- Group  - Group Focus로 Group아래에 Group Focus를 이동시켜서 계층으로 보고 싶은데,- Group Focus 가 맨 앞으로만 만들어지고이동이 안되네요.GroupFocus컨테이너를 이동시키려면 어찌해야 할까요?^^;': 7487, ' 버전 컨트롤 같은 경우 기존에 버전 구별해서 쓰고 있었는데 이게 브랜치로 바뀌면서 꼬여가지고 엄청 애 먹었습니다. 브랜치 시스템으로 바뀐 건 좋은데... 기존에 버전 구별해서 쓰던 사람들은 다시 브랜치로 구분해서 통합하는 작업을 해야했네요. 근데 문서나 영상이 너무 불친절해서... 통합하면 어떻게 되는건지 나오질 않아서 기존 작업 날아갈까봐 긴장하면서 확인 버튼 눌렀네요. 요근래 가장 식은땀이 났던 작업이었습니다. 후... 다른 분들은 괜찮으셨나요?': 7496, ' 버블에서 플러그인 등록할때 public 오픈하려면 opensource 로 밖에 등록이 불가한가요?': 7497, ' 헛 노코드 플랫폼인데 버전관리를 git flow 브랜치 전략처럼 쓰나 보네요. 버전끼리 충돌나면 머징 작업을 버블에서 어떻게 하게끔 해놨을까요': 7499, ' 아니면 구글 연동로그인 크롬에서만 되고 네이버앱등에서 안되는 경험 해보신분 계신가요..?': 7502, ' - Reusable elements 로   > Header를 만들고,      >> Workflow까지 만들어 놓고,모든 페이지 Header 부분에 Reusable로 붙이면,  >> Workflow까지 가져오는게 아닌가요?': 7505, ' 혹시 버블에서 메일 발송하는 워크플로우 작동 잘 하시나요? 갑자기 안되네요..': 7509, ' 안녕하세요 버블로 페이지 만들다가 혹시 어떤식으로 구현하나 궁금한 부분이 있어서요, 인가된 사용자들만 메뉴에 접근하게 하고 싶어서 user 정보에 isValid 필드를 추가해서 Y/N 값에 따라 (혹은 그외 인증/비인증 상태로) 페이지 접근을 가능하게 하고 아직 인가가 안됐으면 다른 페이지로 reload 시키고 싶은데요 혹시 이런 부분 어떻게들 만드시나요?': 7517, ' 아 제가 방법은 그렇게 생각하곤 있는데 버블 페이지에서 혹시 그런 부분을 어디에다가 넣어야되는지를 몰라요.. 흑흑 그렇게 메인으로 리로드 시킨다거나, 아님 인증된 사람만 페이지를 보여주거나에 대한 내용을 어디에 넣을수 있나요??': 7519, ' 혹시 파이어베이스 다이나믹링크 사용하시는분 계신가요? ㅠㅠ 디버그모드로 보면 잘 걸려있고 PC에서도 잘 되는데 모바일 브라우저에서는 설치여부와 관계없이 브라우저에서 플레이스토어로 연결되고 카톡에서는 로딩팝업이 잠깐 떴다가 아무런 액션없이 닫혀버립니다 ㅠㅠ': 7522, ' 아 산넘어 산이네요. ㅋㅋ 흠.. user 정보에서 email 필드가 Built-in field 로 되어있는데요. 이건 외부에서 api 파라메터로 쓸 수 있는 필드가 아니라고 버블 포럼에서 그러네요. 대신 그럼 email 대신 쓸수 있는 email_copy 같은 필드를 만들어서 그걸로 조회할 수 있게끔 가능하거든요 요기서 그럼 email 값이 그대로 email_copy 라는 필드로 들어올수 있게 할 방법이 있을까요? 지금 생각드는건 user 정보 profile 수정할때 워크플로우에서 값을 그대로 넣는건데 혹시 더 좋은 방법이 있나 해서요.': 7523, ' 음 필드는 하나인데 인풋을 양쪽에 넣을수 있나요?': 7527, ' 리스트 필드라면 인풋이 여러개도 가능할것같긴한데 필드 하나에 인풋 여러개가 필요하신가요?': 7528, ' 사진 혹시 저만 안보이나요ㅜ': 7534, ' 안녕하세요. 버블 데이터 export 관련해서 질문이 있습니다!데이터베이\\x1c스 뷰에서 export를 누르면 해당 테이블의 모든 데이터를 추출하는데요. 혹시 특정 조건(created date, creator 등)으로 한정해서 뽑는 방법이 있을까요?매번 뽑을 때마다 수만건을 추출하느라 시간도 오래 걸리고 엑셀 열기도 번거롭네요;;': 7543, ' 혹시 개발 프리뷰에서 디버거를 숨길 수 있나요?Navigation Bar가 디버거에 가려서 잘 안보이네요😭': 7548, ' 앗 고맙습니다!! 사진 이 배너는 유료 플랜을 구매해야 없어지나요?': 7550, ' 화면이 제가 지정 한것보다, 널게 나오는 이유는 뭘까요?': 7553, ' 안녕하세요 배우려고 들어왔다가 기본, 기초가 안되있어 천천히 C언어부터 gpt 까지 매일매일 강의 들으면서 새로운 세상을 배우고 있습니다.  ^^혹시 동영상 시청이 이루어지는 강좌-교육 플랫폼을 만든다고 했을때, 버블을 통해서 웹사이트 제작이 적합할까요? 눈팅하면서 트래픽, 버퍼링 이슈를 몇번 보아서요~': 7554, ' 답변 감사합니다 ^^!  많은 기능이 필요한건 아니지만, 막연한 욕심엔 AI 챗봇을 통해 단계별 레벨별 카테고리별 솔루션 기능이 있으면 좋겠다고 생각하고 있었는데. 말씀해주신 티처블 툴에도 차후에 기능을 입힐 수 있을까요?': 7561, ' 답변 감사합니다! 버블은 자유도를 갖춘 툴이군요! 천천히 제대로 공부해보겠습니다. 버블관련 강의나 강좌는 따로 없을까요?': 7566, ' 버블을 사용하여 채팅 기능을 구현한 참고사례들이 있을까요..? 당근마켓 서비스와 같이 회원간의 채팅 기능을 구현하고 싶은데  어떤식으로 기능구현 하면 좋을지 싶어서요.': 7568, ' api를 통해 로그인 기능 구현 해보신 분 있나요?': 7571, ' 네이버 지도 api 를 받으셨나요?': 7592, ' 헛.. 그럼 기존 앱들은 18개월 동안은 기존 요금제를 쓸 수 있는 건가요?': 7606, ' 이거는 유예 기간 동안 유지하는 조건이 아니고 다른 요금제로 전환(예를 들어 퍼스널에서 프로로 전환하는) 기존의 연간 요긎메 할인을 적용 받으려면 5월 1일까지 연간요금제를 구매하라는 말 같습니다 네 맞습니다. 24년 10월 1일자로 완전 새 요금제로 전환된다네요 근데 이게 미국 날짜니까... 저희는 2일까지일까요?': 7607, ' 다만 궁금한 건 정해진 월 워크로드를 초과했을 때 제한을 할 것인지 아니면 그 플랜에서 추가 요금을 받을 것인지 등 어떤 추가 플랜이 있는지는 궁금하네요.': 7612, ' 혹시 버블에서는 개인정보 보안부분에 대해서는 어떤 식으로 방지할 수 있을까요? 가령 고객의 정보들이 외부로 노출되지 않도록 하는 방법이 있을까요?': 7624, ' 워크로드는 로그에서 확인하나요?': 7627, ' 유튜브에 돌아다니는 간단한 연습용 투두리스트를 만들어봤는데, 워크로드 이슈가 있으신듯해서 한번 로그를 보니. 테스트로 몇개 할일 만들고 지워본게 전부인데, 117정도 썼다고 나와요~ 만약 1만명의  사용자가 하루동안 비슷한 체크를 했다고 하면, 117*10,000 을 쓴게되어 117만 워크로드를 하루에 소모한게 되나요? Pricing의 워크로드는 월간 총사용량을 말하는건지, 일간 사용량을 말하는건지도 궁금합니다. 제가 목표하는 어플리케이션이 동접 3000~1만정도상담사가 하루에도 5-15회 고객상담하면서 요금계산기같은 역할을 하도록 하고 싶었는데.. 그렇다면 버블이 적합하지 않은 툴인건지 해서요 ㅠ ㅠ': 7635, ' 대안이 있나요 ㅋㅋ 대안 없는 사람은 웁니다': 7648, ' 카카오맵을 사용하려고 하는데, 에디터에서는 잘 나오는데, preview나, live버전에서는 \"ReferenceError: kakao is not defined\"라는 오류가 나오고 화면에 아무것도 안나오는데 혹시 해결하실 수 있는 분 계신가요? 사진 [해결]아래코드를 삽입하니 됩니다.<head><meta http-equiv=\"Content-Security-Policy\" content=\"upgrade-insecure-requests\"></head>': 7649, ' 플러터플로우에서 버블로 넘어왔는대 다시 가야하나.....': 7650, ' 넘어오신 이유 여쭤봐도 될까요?': 7651, ' 워크플로우에서 3000글자이상의 text데이터 중에 뒤에 있는 1000글자만 뽑아내려면 어떻게 해야하나요?': 7665, ' 상품 옵션을 어떻게 만들수있을까요.   상품 1에서 a,b,c 옵션을 바꾸면, 가격이 바뀌도록 하려고 합니다.': 7668, ' 숫자 10자리에서는  옵션 가격이 바뀌었는데, 100자리로 가니까, 안바뀌는데,, 혹시 이런 경험 해보신분 계신가요  ?': 7674, ' 버블에서 블로깅 기능을 구현하고 있는데요, 혹시 글 올리실 때 에디터 중에 linesapcing기능이 문단별로 제공되는 에디터 활용하고 계신분 계실까요?': 7675, ' 안녕하세요 혹시 버블 관련된 가이드북이나 도서가 있을까요? 유튜브보면서 배우는중인데, 하드카피 가이드도 있으면 좋을거같아서요': 7677, ' 음 혹시 지금 버블 test 환경에서 제공되는 api 정상적으로 되나요?? 외부에서 버블api 호출해야하는 api가 있는데 잘 연결됐었는데 오늘 볼라니까 안 나오네요; 사진 public API endpoints 도 변경된거 없이 잘 되어있는데 당황스럽네요.': 7678, ' 혹시 어떤 식으로 안되세요? 응답 메시지가 어떻게 떴는지요?': 7679, ' 혹시 url 넣으실 때 obj는 삭제하셨나요? version-test/api/1.1/obj/test 이런식으로 넣으신 게 맞으신가요?': 7682, ' 헛?? 그런가요': 7685, ' 옵션 가격이 특정 수 (50) 넘어가면,  옵견 가격이 변경이 안되는데, 왜 그럴까요?': 7692, ' 저만 느끼는건가요?앱의 로딩속도나 반응속도가 갑자기 빨라졌는데 혹시 다른분들은 어떠세요?': 7694, ' 느려지셨다는건가요?ㅋㅋㅋ': 7697, ' 빨간색부분을 어떻게 구현하셨나요?': 7704, ' repeating group 으로 보여지는 내용중에 필드 1 곳에 데이터가 있을때는 어떤 그림을 보여지게 하고, null 값이나 N 값이면 안보이게끔 할 수 있는 장치가 있을까요??': 7706, \" conditional로 current cell's data is empty 조건 으로 해결이 안되는 부분이실까요? 음 debug mode에서 inspect로 계산이 안되는 값을 선택하고 어떻게 나오는지 봐보시겠어요?\": 7708, ' 오 연동이 쉬워지겠네요. 혹시 결제취소 관련된 부분도 가이드가 따로 있나요?': 7725, ' 안녕하세요 혹시 그누보드도 붙일수잇나요?': 7736, ' 해치하이커님이 올려주신 우편번호 검색 플러그인 그룹 요소로 사용하는건 어떤 방식으로 사용해야될까요? 빈그룹을 만들고 워크플로에서 빈그룹 id를 넣어줬더니 아무런 반응이 일어나지 않습니다 ㅠㅠ': 7741, ' 사진 사진 지금 이렇게 해놨는데 어디를 손을 봐야하는걸까요 ㅠㅠ': 7745, ' 안녕하세요. mvp 로 빨리 오픈하려고 가져가다보니 디자인요소를 신경 안쓰고 진행하다보니 PO가 이제 좀 디자인이 신경쓰이나봐요 ㅠ 좀 더 이쁘게 보일 수 있도록 디자이너랑 협업을 해야할거 같은데요, 버블로 만든 페이지가 이미 나온 상황에서 어떤식으로 디자이너분과 작업하면 좋을까요??': 7755, ' 그럼 지금 버블페이지를 가지고 디자인 툴로 옮기는게 가능한가요?': 7759, ' 혹시 버블로 csv를 통해 이전하는 방식으로 유저데이터를 만들게 되면 비밀번호가 어떻게 설정되는 지 아시는 분 계실까요?': 7782, ' 마이그레이션 할 때 그러면 비밀번호가 없는 상태로 들어오게 되는 것인데 초기 비밀번호가 있다거나 로그인을 하면서 새롭게 만들어질 수 있는 방식이 있을 것 같은데 이에 대해 궁금합니다': 7784, ' 넵! 감사합니다!! 혹시 초기 비밀번호를 개별로 부여한다는 건 어떻게 할 수 있는 걸까요? csv파일을 업로드하는 것만으론 안 되고 워크플로우로 비밀번호를 부여해야한다는 말씀이신거죠?': 7787, ' 진짜 좋네요. 저희 회사 넣어봤는데 로고나 추천컬러 얼추 비슷하게 나와서 신뢰가 가네요 ㅎㅎ. 친구들에게 추천해도 될까요?': 7796, ' 모든 생성형ai가 그렇듯 맹목적으로 따라갈순없지만 영감을 얻어가는데는 아주 훌륭하네요 ㅎㅎ @워케이션 / 기획 / 패션 혹시 학생이나 예비창업자 대상 노코드 특강 같은 곳에 노코드의 실제 유스케이스로 소개하기도 하고, 동시에 수강생들에게 사용하게 해도 괜찮을까요?': 7800, ' 혹시 모바일웹에서 이미지를 사진 앱에 바로 저장하게 하는 방법이 있을까요? 좀 찾아도 잘 안나오네요; ios에서요!': 7805, ' 혹시 버블 백엔드에서 날짜를 표시하고 있는 일반 텍스트를 date 로 변경/혹은 추출하는 방법이 있을까요?': 7816, ' 텍스트 날짜 형식이 어떻게 되나요? Current date : Change month to, day to 등을 써서 일일히 날짜를 바꿔주는 건 어떨까요 이것도 텍스트를 숫자로 바꿔야 가능할거구요': 7817, ' 버블에서 데이터에 넣을 때 []형식의 태그는 먹히는데<>형식의 태그는 먹히지 않는 이유가 뭘까요?': 7818, ' 안녕하세요, 버블로 지도기반 서비스 프로토타이핑도 원활하게 가능할까요?지도 줌인아웃 등이 피그마에서는 원활하게 되질 않아서요.': 7822, \" 숫자를 data로 보내려고 하는데,  잘안되는데, 어떻게 할 수 있나요? 이름, 주소 시간은 되는데,,, 가격은 어떻게 할 수 있을까요 ? input 박스로하고, input'value 로  price = number 로 보내려고 하고 있는데, 안되서, decimal도하고 integral로 했는데, 안되네요.\": 7824, ' data to send로 숫자를 보내시는 거죠?': 7825, ' 프론트엔드 개발자가 PWA 알아야 하는 이유 | 요즘IT': 7831, ' 안녕하세요 혹시 버블 internal db 에 insert로 저장된 img url 을 필드 정보로 확인할 수 있는 방법이 있나요?': 7832, ' 안녕하세요,만약에 통화앱을 만들려고 한다면, bubble.io로 만들수 있나요?': 7834, ' 안녕하세요. 혹시 데이터의 양과 pricing 간에 상관이 있을까요? (DB에 데이터가 많이 쌓여 있으면 돈을 더 많이 내야 하나요?)': 7836, ' 근데 또 인풋박스에 검색할 내용을 넣으면 다이나믹하게 repeating group 에서 그 내용을 필터링 해서 보여주는데 이게 어떻게 가능한걸까요?': 7839, ' 질문이 하나있습니다. 혹시 버블에서 다른 페이지의 workflow를 하게 할 수 있나요?': 7847, ' 리피이 그룹 작업 중인데,,,  화면에 텍스트, 이미지 아무 것도 안나오는데, 화면에 클릭해서 링크는 이동이 가능 합니다. 무슨 문제 일까요 ? 리피팅 그룹,': 7853, ' 프라이버시룰 확인해보셨나요?': 7854, ' 버블도 여러명이 공동작업 가능한가요?': 7858, ' 안녕하세요~! 질문이 있습니다. 버블 가로모드 화면으로 제작 가능할까요?': 7861, ' 가로모드와 세로모드의 화면 구성이 다른 경우 일까요? 모바일에서요 Landscape mode detection - Need help / Mobile - Bubble Forum -': 7862, ' 오 네이티브로 래핑했을 때 카톡 로그인이 안된단 얘길 들은 거 같은데 어떻게 해결하셨을까요': 7875, ' 오 진짜 네이티브스럽네요 >_< 어떤 서비스로 래핑하셨나용~?!🤩': 7880, ' 안녕하세요~ 사진 repeatgroup 안에 반복할 group 을 fixed 로 넣었는데요 이미지위에 tag 가 이런식으로 달렸음 좋겠는데 그룹에선 보이는데 리피트 내용에선 저런식으로 보일거 같아서요 사진 혹시 저 위로 올리려면 어떻게 해야할까요?? 백그라운드로 넣으면 사진이 전체가 아니라 이쁘지 않을거 같구요': 7887, ' 그렇게 백그라운드로 넣으려고 했었는데요 그럼 사진이 딱 100% 노출이 안되고 밑에 부분은 가릴까봐서요.. 음 이건 어떤 방식일까요??': 7890, ' 아 버블 페이지 수정하는 작업자가 2명일때요, 한쪽에서 뭔가 작업을 바꾸면 다른 페이지를 수정하고 있어도 계속 updated 됐다고 리프래시하라고 자꾸 나오니까 수정이나 테스트가 어려운데요. 혹시 이럴때 방법이 없을까요? ㅡ ㅜ 테스트하려고 유저정보 생성도 막히네요.': 7897, ' 1번~18번까지 만드는데 시간 얼만큼 소요될까요?': 7901, ' 좋은 정보 감사합니다 승진님 :)': 7904, ' 이미지가 fill 하게 띄워져 이미지가 깨지는 문제를 겪고 있습니다.혹시 이미지를 비율에 맞게(fit) 띄울 수 있는 방법이 있을까요?': 7907, ' 버블에서 게시글목록 페이지 로드시 시간이 약 15초나 걸리는데, 제 생각엔 게시글 하나하나가 10MB가 넘어가서 그런거 같습니다. 혹시 로딩속도를 해결할 수 있는 방법이 있을까요? 다운사이즈해서 저장시킬 수 있는 방법이라거나..': 7911, ' 알리고라는 카카오 알림톡 서비스를 이용하려면 고정 ip가 필요한데 버블에서는 동적 ip를 할당하던데 어떻게 해결하면 좋을까요?': 7917, ' 사진 혹시 토스페이먼츠 연동 공식 플러그인 개발 중이라고 들은 것 같은데 요게 공식인가요?': 7918, ' 아하.. 스케줄링 워크플로 이상의 api 가 있는지 궁금해서요..!': 7925, ' 확인 감사합니다. 남기신 댓글 문제 없어보이는데 아무래도 스티비 측과 얘기해서 알아봐야겠습니다 ㅎㅎ 오늘 앱 속도가 느린 것 같은데 혹시 제 기분 탓일까요? 다른 분들은 어떠세요?': 7933, ' 어제 못다한 질문이 있어 다시 돌아왔습니다..!ㅎㅎ유저가 원하는 선생님을 선택해 수업시간을 예약하는 방식의 서비스를 구축하려고 하는데요!선생님은 본인의 스케줄에 맞기 예약가능한 시간을 열어줘야하고, 유저는 선생님의 가능시간에 맞춰 예약하는 형태의 서비스를 생각중입니다.비슷한 레퍼런스로 \"되는시간\"( 같은 형태를 생각하실수 있을것 같은데요!이러한 서비스를 버블로 구현할때 좋은 아이디어(API나 에어테이블을 연동하는법)이 있으시면 조언해주실수 있을까요?': 7934, ' 공격당하고 있나..': 7937, ' 만약에 bubble에 문제가 있으면, 모든 앱들이 문제가 생기는 구조인가요? 각자 구축한 서버에서 구동하는 건 불가능한가요?': 7938, ' 혹시 버블도 에디터쪽 지금 좀 느리지 않나요? 그리고 개발환경에서만 서비스를 preview 형태로 보고 있었는데요, 라이브계로 옮기면 퍼포먼스가 좀 더 좋아지나요??': 7944, ' 버블을 사용하지 않고, 버블에서 발송 데이터를 CSV로 다운로드 받아서… OneSignal 대시보드에서 Segment를 생성해서 CSV를 import 할 수 있는데 email, player_id, external_user_id 필드를 등록할 수 있습니다.import한 CSV 데이터를 사용해서 발송할 때 메시지 개인화 하는 방법을 한번 확인해보시면 어떨까 합니다. Message Personalization': 7961, ' 안녕하세요. 버블 io 를 처음 사용하면서 이것저것 만져보고있습니다. 버블 io 에 채널톡을 연동 하고 싶은데, 어디서 설정해야 하는지 도저히 못찾겠네요 ㅠㅠ혹시 어디에서 설정을 하면 되는지 알 수 있을까요?': 7967, ' 안녕하세요 혹시 현재 버블로 서비스 하고 계시는 분들이요, 개발계에서 프리뷰로 볼때 페이지 로드되는 속도랑 라이브 서비스로 오픈했을때 페이지 로드되는 속도 차이가 어느정도로 느끼세요??': 7971, ' 5.1부터 바뀌는 요금제는 버블 스토리지가 100기가던 1테라던 요금 변동사항이 없다는 걸까요?': 7982, ' 안녕하세요, 요금제 관해서 질문 드립니다. 현재 퍼스널 요금제를 이용하고 있는데, 새로운 요금제 체계에서 18개월 동안 기존의 요금제를 유지할 수 있다고 알고 있습니다. 혹시 5월 1일 이후에 퍼스널에서 프로페셔널(기존 요금제)로 바꾸는 것도 상관 없을까요? 혹은 퍼스널 요금제로만 18개월이 유지되는 것일까요?': 7983, \" 감사합니다! 앗 하나만 더 여쭙겠습니다,,,! 혹시 그러면 5월 1일 이전에 프로로 바꿔두는 것을 '연간결제'로 해두는 것까지 필요할까요? 혹은 월별로 결제해도 괜찮을까요?\": 7986, ' 새로운 요금제 장점이 있을것 같은데 혹시 잘 정리된 컨텐츠 아시는분 계실까요?': 7998, ' 혹시 글라이드 단톡방도 있을까요?': 8005, ' Webflow로 만드셨나요?': 8012, ' 안녕하세요 질문이 있는데요 반복그룹 내에 텍스트 상자는 자체적인 스크롤기능을 지원하지 않나요? Html 이나 플러그인을 사용해야 하나요?': 8029, ' 버블  체계적이게 꼼꼼하게 배울수 있는 국내 강의  없나요  유료 강의라도요': 8043, ' 안녕하세요 질문드려도 될까요? 컴포넌트 라이브러리에 템플릿 다운 받고 사용할 수 있을까요>? 보통 피그마 등을 보면 사용하기 편하게 옆에서 계속 그냥 붙이면 되는데 버블은 그런 버튼을 찾기 힘드네요 ㅠ docs에도 없는 것 같구요.': 8045, ' 다른 앱-> 버블 이 아니라 버블-> 다른 앱 말씀하시는 거죠?': 8049, ' yes/no custom state를 하나 만들어서, 버튼을 눌린 것과 아닌 상태를 저장해서 해당 상태에 따라 이미지를 달리 보여지게 하는 방법은 어떨까요?': 8053, ' 챗지피티 플러그인 인데 사용해보신 분 있으실까요?': 8057, ' 현재 퍼스널 플랜으로 연간결제했다가 ,  프로페셔널 플랜으로 업그레이드도 가능한가요?': 8059, ' 안녕하세요 혹시 그누보드라는 커뮤니티에 결제플래그인도 붙일 수 있을까요?': 8061, ' 버블이  웹사이트  아닌 앱제작  어플제작 솔루션 맞지요 ?    안드로이드  와 IOS  둘다 가능 한가요  ?': 8063, ' 저도 요즘 플러터 공부하는중 .. 코드 하나로 앱/웹/데스크탑 모두 가능한 게 좋더라고요 사진 혹시 데스크탑에서는 사이드 패널이었다가 모바일에선 펼쳐지는 햄버거메뉴 가 되는 레이아웃을 짤 수 있을까요 ..': 8077, ' conditions 으로 특정 width 일때 row 였다가 column 으로 변경하면 되지 않을까여 아니면 2개패널을 만들고 케이스마다 visible/invisible  처리하거나,,': 8078, ' 혹시 지금 플러그인 검색 되세요..?': 8083, ' 이번주 중에는 속도가 좀 개선될 여지가 있을까요,,,? 요금제 전환도 되고 했으니...': 8086, ' 혹시웹플로우+wized+xano 로 작업중이신 분들 좀 있을까요~?': 8089, ' 혹시 버블 si하는 업체 알수있을까요?저번에 누가 추천해준거 같아서요': 8091, ' 질문있습니다.! 에어테이블 플러그인 연동할 때 schema 값으로 이미지의 경우 값을 뭐라고 설정하면 좋을까요? 이게 혼자 공부하니까 원하는 부분만 어디서 따로 공부하기 힘드네요.. ㅠ': 8097, ' 한국어 강의가 좀 나와주면 괜찮으려나요': 8100, ' 기다리고 있습니다 ㅎㅎ 언제 나오나요': 8104, ' 혹시 xano나 bubble에서 binary data 보내는 법 아시는 분 계실까요?': 8117, ' binary data가 뭔가요? 예시 부탁드릴게요': 8118, ' 네  글 고맙습니다  제가 잘 몰랐네요 다시 정리하면 국내 프로그램  아임웹 같은경우는 단순한  웹사이트 노코드 제작할때 사용가능 하고 버블 이나 글라이드 경우 한단계  높은 수준의 응용가능한  웹사이트 제작 솔루션 인거죠 ?      앱제작 용은 사실상 아니지만 필요하다면 래핑 거지면  앱스토어 에서도 다운가능하게 가능 하고요     맞나요 ? 사실상 노코드로  활용도 높은 앱제작 전문  가능한 솔루션은 없다는 거네요': 8119, ' 안녕하세요~🙌🏻🙌🏻': 8127, ' 혹시 관련 문서 좀 볼 수 있을까요? 사진 이런 필터들이 있긴 한데... 보안 필터라서 이게 맞는지는 모르것습니다.': 8128, ' 언제인지 알 수 있을까요??': 8132, ' 혹시.. Page content / Data to send로 하지 않고 오로지 parameter만 사용해서 서비스 구축하신 분 계신가요..?': 8136, ' 무슨 문제가 있으셨나요..? ㅋㅋ': 8138, ' thing 당 recurring 이 줄어든다는게 어떤 의미인지 모르는데 어떤걸까요?? @_@': 8141, ' 처음에 이렇게 하셨던 이유도 궁금한데요 ㅋㅋ;': 8142, ' 버블 Workload Unit 산정기준이 4월 14일 이후로 바껴서 예상(?)보다는 낮게 산정되는 듯 한데, 다른 분들은 어떻게 체감하시나요~?': 8145, ' sql database connector를 활용해서는 한번에 불러올 수 있는 최대 데이터 개수가 200개로 정해져 있는데, 200개 이상의 데이터를 불러오는 방법 또는 api connector를 활용하여 mysql db와 연결하는 방법 아시는 분 계시나요?': 8146, ' @조용찬 / 백엔드 개발자 궁금해서 찾아봤는데… 이렇다고 하네요…방법이 있나봅니다. 사진 4장': 8149, ' 버블을 처음 써보는 중이라 초보적인 질문인데.. 워크플로우에서 navigate to page 하면서 send data로 어떤 데이터를 보낸 경우에요, 받은 쪽에서 해당 데이터를 호출하려면 어떻게 해야되나요? 호출이 아니라 암튼 따다가 써야되는데 inset dynamic data 옵션에서 뭐가 안나와서요.. group에 먼저 올려두고 해야되는건가요?': 8159, ' 안녕하세요, 혹시 GroupFocus element를 사용하는데,모바일 뷰에서 계속 Reference element가 아닌, 페이지 좌측 상단에 붙어버리는 문제가 있습니다 ㅠ 해결책 아는 분 계실까요? 사진 사진': 8163, ' 버블 사용해서 구글 플레이스토어에 앱 등록하신분 있으신가요? 혹시 도메인 등록 확인증이 꼭 필요한가요?': 8166, ' 오 그럼 “WebView 및 제휴사 스팸 정책”으로 앱 등록 거부 당했는데 혹시 해결할 수 있는 방법 있을까요?': 8171, ' 현 위치에대한 권한 같은 것은 구글 맵이 알아서 처리하나요..?': 8176, ' 혹시 인스타그램 태그 기능처럼 이미지를 클릭하면 그 위치에 버튼을 만드는 것도 버블에서 가능할까요...?': 8177, ' 사진 사진 위 질문에 대해 위 이미지까지 구현했습니다 ,,, 다만 사용자 현재 위치 정보를 기반한 인근 주소를 끌어오는거에서 막혔어요 방법 아시는 분 계실까요': 8178, ' 사진 리피팅 그룹내에 그룹이 IOS모바일 뷰에서는 내부에 있어야할 그룹이 위로 붕뜨면서 위로 올라가서 겹치게 되는 현상이 생기고 있습니다.좌과 웹뷰 우가 모바일( IOS) 뷰인데요, 안드로이드 모바일 뷰에서는 웹과같이 정상적으로 나오는데 IOS모바일 뷰에서만 위와같은 문제가 발생하는 이유를 알 수 있을까요? 모바일에서는 디버그모드가 안 되서 문제를 찾기가 어렵네요ㅠㅠ': 8179, ' 써드파티 툴로 앱을 만드시는건가요? 어떤 서드파티 이용하시나요? 자체 기능으로는 어렵고 개발로 구현하셔야 해요 만약 관련 플러그인이 있다면 쉽게 구현 가능할듯 합니다': 8180, ' 스트라입으로 페이먼트 설정을 하고있는데요.총액을  할부로 내게 하는 방법이 있을까요 ? 서브스크립션은 제품을 만들어서, 고정된 금액을 청구하는건데,,, 다른 방법 있을까요?': 8184, ' 버블로 창고 관리프로그램 개발 가능할까요?': 8187, ' 안녕하세요 버블 고수님들! 혹시 버블로 개발한 앱과 SQL로 처리하는 데이터베이스와 연결할 수 있나요? 버블로 개발을 하려는데 이전에 Softr로 화면을 만들고 Airtable을 DB로 쓸 때 부족한 점을 많이 느껴서요...! 그리고 버블 DB가 Airtable과 비교해서 강점이 있는지 궁금합니다!': 8188, ' 쌍방향으로 복잡한 DB 구조를 짜다보니 좀 헷갈리고 놓치는 경우가 많은데 혹 ER 다이어그램 같은걸 그려보신 분 계신가요...?': 8190, ' 어흠.. 혹시 어떻게 그리시는지 보여주셔도 괜찮을가요 ..': 8192, ' 버블 공부 어떻게 시작하면 좋을까요': 8201, \" 필터를 여러개 설정하려고 하는데, 원래는 필터가 적용되지 않다가 기간 필터, 숫자 범위 필터, 검색어 필터 등의 값을 변경할 때마다 불러오는 데이터가 달라지게 하려면 어떻게 해야하나요?(참고로 get data from external API를 활용하여 데이터를 불러오려고 합니다) 사진 예를 들어 기간을 값을 변경했을 때, '기간 필터'만 적용된 모든 데이터가 불러와지다가 여기에 숫자 범위를 변경하면 '숫자 범위+기간 필터'가 적용되는 식으로 값이 변경된 필터만 적용하려고 합니다!\": 8209, ' Do a search for 을 사용한다는 거는 bubble 자체 db에 데이터를 저장해야 한다는 말씀이신가요?': 8211, ' 헉 감사합니다!! 혹시 api connector를 활용하여 mysql db 데이터를 불러오는 방법 아시는 분 계실까요?': 8215, \" 감사합니다!! 혹시 외부 api로 불러온 데이터 bubble 자체 db에 저장해보신 분 있으실까요? endpoint를 뭐라고 해야하는지 모르겠네요.. const endpoint = 'gpt는 위처럼 하라는데 계속 오류가 발생해서\": 8217, ' 혹시 그러면 외부에서 사이트에서 api로 불러온 데이터를 bubble.io 자체 db에 저장하려고 할 때 어떻게 진행하는지 아시나요?': 8219, ' 채용 공고를 올려도 괜찮나용': 8223, ' 안녕하세요~! 질문이 있습니다 버블에서 멀티 파일 셀렉으로 파일을 업로드 하는 좋은 방법이 있을까요?': 8226, ' dropzone 하고 비교해봤을 때 더 나은가요?': 8228, ' 이미 말씀 나누셨는지 모르겠는데.. 버블 Apps 화면(?) UI 바뀐것 어떻게 생각하시나요? ㅋㅋ': 8231, ' 오늘 제가 회식이 있게될 줄 몰랐는데웨비나는 종료 후 공개되나요…?': 8240, ' 어제 리마인드 메일 드렸는데 혹시 못받으셨나요?? 오늘 오후에 참여 링크 안내 메일 드릴겁니다 네 녹화본 유튜브에 올릴 계획입니다 :)': 8241, ' 화면 안의 list of thing을 유저가 추가하고 수정한 내용을 한꺼번에 db에 저장하려면 어떻게 하는 게 좋을까요 group에 state로 임시? list를 생성하고 해당 state로 UI 뿌리고 수정하게 한다음에 그걸 바로 db에 넣으면 될까요': 8245, ' 사진 api를 활용해 bubble db에 데이터를 저장하고 있는데, 한번에 1,000개 이상의 데이터를 저장하니 오류가 뜹니다! 이런 경우에 데이터를 나눠서 저장하는게 나을까요? 그리고 한 테이블에 데이터 최대 몇 개까지 저장하는게 랙이 없을까요?5000개 이상 저장해보신 분 있으시면 조언 부탁드립니다!': 8267, ' 토스..!': 8274, ' 버블에서 한 50만건 정도의 데이터를 import 하려고하는데, 이때 시간이 얼마나 소요되는지 아시는 분 계실까요?': 8278, ' 안녕하세요 그동안 읽기만 하다 질문드립니다!버블에서 폰트 사이즈에 반응형 요소를 줄 수 있는 방법이 있을까요?웹플로우에서는 vw단위를 사용했는데 버블에서는 px밖에 활용이 안되는 것 같아서요..!': 8289, ' 감사합니다 ㅎㅎ 추가로, Repeating Group에서 스크롤바 어떻게 없애는지 아시는 분 계실까요?': 8291, ' 그런데 모두의 노코드에서 버블의 장단점을 보다보니 버블 내부데이터를 외부 프랜스퍼가 안된다고 본거 같은데, 그럼 버블로 구축한 웹앱을 추후 네이티브 앱으로 변경한다거나 할때 데이터 이전이 안되는건가요?': 8293, ' 혹시이메일을 클릭했을 때 이메일 전송하는 UX로 바로 넘어가게 할 수 있는 방법이 있을까요?': 8301, ' 이메일 전송하는 UX라는 게 이메일 전송하는 페이지를 만드시겠다는 건가요? 아니면 기기 자체에 설정된 이메일 클라이언트를 여시겠다는 건가요..? 후자라면 링크를 mailto:이메일 주소 하시면 됩니다 CSV 업로드로 다른 테이블과 연결된 데이터를 업로드하려면 CSV에 해당 컬럼이 해당 테이블 아이템의 unique_id로 채워져있어야 하나요..?': 8302, ' 이모티콘 요론느낌이죵 ㅎㅎ 이모티콘': 8307, ' 사진 사진 버블로 앱만드려고 하는 입문자입니다.혼자 열심히 파헤치다가 어려워서 질문합니다 ㅠ리피팅 그룹에 버튼을 두고 그 버튼에 Custom state를 설정해서 버튼을 클릭하면 버튼색이 변경되도록 했습니다.그 후에 색이 변경된 버튼에 들어가 있는 정보를 Data type\"User\"에 있는 관심 직무 라는 field에 넣으려고 합니다.지금은 버튼을 클릭했을 때, 정보가 들어가고 버튼을 한번더 클릭했을 때, 정보가 다시 사라지게끔 만들었는데,버튼을 여러개 다 선택하고 최종적으로 수정하기 버튼을 눌렀을 때 값이 한번에 저장되도록 하고 싶습니다.방법이 있을까요??': 8310, ' 수정하기 버튼을 클릭했을 때의 워크플로를 추가할때,리피팅 그룹안에 있는 선택된 버튼들의 값을 저장하게 하려면Make changes to a list of things의 list to change에서 어떤 것을 써야할지 모르겠어요 ㅠㅠ': 8312, ' db를 구체적으로 어떻게 구성하셨나요???': 8314, ' 버블이 정말 어려웠던 것 같은데짧은 시간에 어느정도나 커버할 수 있는지 궁금합니다..!': 8325, ' 버블에서 말씀이신가요?? 어떻게 받으시는 지 알려주시면 좋을 것 같습니다 :)': 8330, ' 모두의노코드는 방에서 운영하는 커뮤니티인가요?': 8335, ' 안녕하세요 좋은 아침입니다! 혹시 버블로 솔라피(문자 발송 API) 사용 하신 분 있을까요? API 커넥터로 연결 하려고 하는데 authorization 이 까다롭네요😅 참고로 문자 발송 API 연동 하시는 분들은 twilio 라는 해외 서비스가 있는데 이게 발송자번호 변경이 어렵고 해외 번호로 발송이 되어서 수신자 입장에서 스팸 처리되거나 “이 문자는 해외에서 발송 되었습니다” 라는 말이 자동으로 따라 붙는 경우가 많아서 고객 경험을 저하 시키더라구요': 8340, ' 오 엄청 간편하게 사용가능하네요 혹시 요즘정책은 어디서 확인 가능할까요?!?!?! ㅎㅎㅎ': 8349, ' 혹시 자바스크립트 라이브러리를 가져와서 사용해보신 분 계신가요..?': 8358, ' 오 셋째주화요일 입문자 클래스..가 그건가요?': 8360, ' 버블에서도 인터렉션 랜딩페이지 만들수 있나요..?': 8373, ' 어느정도의 인터렉션을 요구하는지는 모르겠지만 가능하죠': 8374, ' 컨테이너들이 밀리려서 아래로 가거나 겹쳐지는 현상을 어떻게 해결 할 수 있을까요..': 8383, ' 넵 화이팅입니다~ 질문있습니다! 버블 서치박스 이용해서 한국어 자동완성 구현해보신분 계실까요?': 8386, ' 어떤 데이터 자동완성 생각하시나요!?': 8388, ' 호옹..': 8399, ' contains요?': 8407, ' 이상하네요 서치 인풋은 contains가 딱히 필요 없는데 혹시 어떤 영상인지 알 수 있을까요?': 8409, ' 잠깐 설렜습니다 ㅋㅋㅋ': 8413, ' 혹시 국내외 버블로 잘 만든 웹이나 앱이 모가 있나요?버블로 어느정도의 퀄리티 제품까지 만들수 있나 갑자기 궁금해서요!': 8416, ' 오늘하는 모노데이 신청하러 들어 갔는데 01시에 마감이네요.혹시, 추가 신청 가능 할까요 ?': 8419, ' 사진 질문이 있습니다~!버블 체크박스 값은 따로 가져올 수 있는 방법이 없나요? 위 사진처럼 나오네요…': 8422, \" 체크박스 값을 어디로 가져온다는 건가요? 위 이미지에서 is checked나 isn's checked로 yes/no 값을 반환할 수 있습니다.\": 8423, ' 안녕하세요, 혹시 다음처럼 글이 끝으로 가면서 점점 흐려지는 효과를 버블에서 어떻게 구현할 수 있을까요? 사진 이런게 명칭이 따로 있을까요?': 8429, ' 호옥시 인스타그램 스토리에서처럼 이미지나 텍스트 손으로 가져다가 사이즈변경 되면서 위치 변경까지 되는, 그리고 이렇게 변경한 형태가 저장이되는? 플러그인이나 방법이 있을까요?모두의노코드 링크 :': 8433, ' 질문이 또 있습니다 버블에서 오디오 레코더 써서 녹음해보신분 있을까요?녹음해서 들어보니 소리가 너무 작아서요..소리를 크게 하는 방법이 따로 있을까요??': 8439, ' 혹쉬 드래그&드롭으로 파일 올리는 방법 있을까요..? 기본 파일 업로더랑 bubble-made 플러그인 둘다 드래그 앤 드롭을 지원을 하는군요 ;;': 8441, ' @정용준 / Litmers 혹시 어떤 플러그인 쓰셨나요? 여러개 써보았지만 잘 안되네요..현재 갤럭시 탭7로 진행중입니다': 8446, ' 사진 간단한 질문이 있습니다!버블에서 불러온 시각이 text 타입인지 number 타입인지 어떻게 알 수 있을까요?그리고 text 타입을 number 타입으로, 혹은 그 반대로 바꾸려면 어떻게 해아하나요?': 8450, ' 아하 감사합니다 그렇다면 text를 number로 바꾸는 방법이 혹시 있을까요? DB전체를 바꾸려는건 아니고 불려와진것만 살짜쿵 바꿔보고자 합니다.': 8452, ' 모두의노코드 사이트도 버블로 개발된거죵? 엇 대표님이시죠? made 하의철이라고 되어 있는거 봤어요 저 기존에 개발 준비하고 있던 사이트를 버블에서 구현하려고 하는데요. 사이트가 느릴까봐 걱정이에요 ㅠ 모두의노코드 사이트도 페이지 당 로드가 2초 정도 걸리는 것 같더라고요...ㅠ 이거 개선할 방법이 있는지 궁금해요': 8468, ' 페이지를 여러개 구분해서 개발하면 페이지 이동할 때 로드가 걸리는 것 같아서요 이거 원페이지로 개발하려고니까 유지보수도 어렵고 복잡해질 것 같은데 좋은 방법이 있을까요? 모두의노코드 사이트도 특정 페이지들은 가벼운 것 같은데 로드가 좀 걸리네요': 8470, ' 혹시 어떤 페이지가 느리세요?': 8474, ' 혹시 한글도메인이 있는데 이경우에는 구글에 등록한다고한다면 퓨어코드?퓨리코드 상태로 구글주소 등록해야하는걸까요?': 8476, ' 콘텐츠 리스트가 많은 페이지가 좀 걸리는 것 같아용 이용약관 같은 페이지는 또 빨른 것 같아요 요거 요금제에 따라 속도가 좀 차이가 있나요?': 8478, ' 혹시 사용환경이 어떻게 되세요? 사실.. 제쪽에서는 느린 걸 느끼기 어렵습니다.': 8481, ' 윈도우신거죠?': 8483, ' 혹시 괜찮으시면 컴퓨터 사양도 여쭤봐도 될까요?': 8485, ' 모든 칸을 다 채워넣어야 하나요?': 8497, ' 칸 안에는 text input이 들어가나요?': 8499, ' 그리고 저장버튼같은걸 눌러서 모두 한번에 저장하나요?': 8501, ' 네네 저장하는데 시간이 오래걸릴것으로 예상되지만 시간은 크게 중요하지 않습니다 어드민 페이지라서! 수 많은 데이터 타입X -> 데이터 필드제가 생각하는 데이터 필드 예시ex) 월 - 11:00 ~~~~데이터 타입은 시간별 현황 하나만 있으면 되겠죵..! 😄': 8502, ' 사파리에서 폰트 깨지는 문제 어떻게 해결하는 지 아시는 분 계신가요!?': 8504, ' 안녕하세요 궁금한게 있는데요 사용자 개인의 데이터 리스트를 저장하는 데이터를 만들면 이게 어떻게 돌아가는건지 궁금하네요“데이터1”에 수많은 데이터 리스트가 있는데 로그인한 유저가 리스트들중에 자신이 원하는 데이터를 “데이터2”에 저장하게 만들면 다른 사용자들 데이터도 같이 합쳐지잖아요 그러면 계정값을 포함하여 “데이터2”에 저장해서 유저와 일치하는 데이터만 뽑아서 사용자에게 보여주는 식으로 작동하게 만드는건가요? 그러면 사용자가 많아지면 데이터가 엄청나게 커질텐데 어떻게 하는건가요?': 8505, ' 버블도 혹시 cdn같은거 물릴수가있나요??': 8506, ' 음 혹시 버블에 토스 플러그인 말구 pg사 직접 붙이신분들 계실까요?? 혹시 어디 pg 붙여보셨나요??': 8514, ' 오 버블에 페이앱 빌링 플러그인도 있나요? 찾아봐야겠네요': 8519, ' 사진 갤럭시 폴드 접은화면은 오른쪽이 짤려서 나와요 ㅠ 그리고 초반에 지도가 뉴욕에서 시작해서 사용이 어렵네용 현재 위치에서 시작은 안되나요?': 8525, ' 화면을 줄였을때 컨테이너가 않보이게 하려면 workflow에서 crrent page width를 사용하는게 맞을까요?': 8536, ' 버블에 카카오싱크 붙여보신 분 계실까요!?': 8539, ' 혹시 버블 에디터에 텍스트받는 필드에요, 특수문자는 입력 못하게 강제할 방법이 있을까요?? 아니면 저장이나 버튼 눌럿을때 특수문자가 포함 됐는지 확인할 방법이 있는지요': 8544, ' 사진 사진 음 텍스트내에 특수문자를 정규식으로 변경한 캐릭터 길이랑 입력한 텍스트 길이랑 비교해서 길이가 다르면 입력한 캐릭터에서 특수문자가 빠졌으니 허용되지 않는 값이라고 판단해서요 canClick 이라는 스테이트를 Y 로 해주고 그걸로 버튼을 visible 하게 만들려고 했는데요 사진 사진 허용되는 텍스트가 맞는지 여부를 보여주는건 잘 보이는데 conditional 에서 state 를 바꾸는건 뭔가 적용이 안되는듯 하네요 이거처럼 id attribute 에서 다른 객체에 state 를 바꿔줄수 있는거 맞지요? @_@': 8549, ' 혹시 여쭤보고 싶은게있는데 개인적으로 연락할수 있을까요': 8555, ' 새로고침해도 계속 뜬다는 말씀이신가요?': 8559, ' 리피팅 그룹에 대한 반복이 필요한데 이 부분은 어떻게 해결하시나요...?': 8574, ' 페이지에 네이티브 앱으로 설정하는게 추가된 것 같은데 해보신분 계실까여??': 8575, ' 오 아직 못봤습니다 예고했던게 나왔나보네요 혹시 아직도 같은 현상 생기나요? 저는 괜찮은것 같습니다': 8576, ' 토스 담당자님 여기 혹시 계시나요? 이번에 토스 버블 플러그인에 감명받고 토스로 PG를 변경하고싶은데 안내 받고싶습니다!': 8583, ' group background를 video로 지정했을 때 생기시나요~??': 8601, ' 혹시 버블에서 블루투스로 기기연결을 구현할 수 있을까요?': 8603, ' 리피팅그룹 데이터를 복사해서 엑셀이나 구글시트에 붙여넣으려고 하는데 데이터 항목이 가로가 아니라 세로로 붙여넣어지는데 해결 방법 있을까요?ㅠㅠ 핸섬테이블은 필드 순서가 제멋대로고.. 시트가 여러개라 데이터 양식을 완벽하게 구현하기 어려울것같은데 클립보드 양식도 지정해서 복붙할수 있을까요?ㅠㅠ구글시트에 연동하거나 엑셀에 붙여놓기 좋게 복사하는 방법아시는분?': 8606, ' 네이티브 파트에서 만들면 되겠지만 블루투스 연결을 구현하시려는 게 독자적인 HW가 있지 않는 한은 필요하지 않아보이는데 그런 사례인가요..?': 8609, ' 혹시 버블로 만든 사이트 중 엄청 잘만든 사이트 있을까요? 레퍼런스들을 보고 싶어서요': 8615, ' 프로덕트들을 줌이 안되게 고정시킬수 있는 방법이 있나요??': 8632, ' 리피팅 그룹에서 group by로 친구추천 리스트를 만드려고 하는데요,Group by 필드 추가에 프로필 이미지 필드가 나타나지 않는데, 프로필 이미지를 추가하는 방법이 있을까요??': 8635, ' group by 가 같은 값들로 묶는 거라서 (text 필드면 text 필드가 같은 것들끼리 묶음) 이미지가 없는것 같네요. 의도하시는 group by가 이미지가 같은 것들을 묶는 건가요?': 8638, ' 안녕하세요 방장님혹시 제안드리고 싶은 내용이 있는데, 혹시 1:1채팅 가능하신가요~?': 8646, ' 사진 혹시 위처럼 같은 데이터 테이블에서 두 값을 뺀 다음에, 이를 보여주려면 어떻게 해야 하나요? 아 해결 방법 찾았습니다!': 8648, ' 그러면 원페이지로 개발하고, 최초 페이지 로딩을 좀 늘리는 방향으로 진행하시나요?': 8653, ' 전체적인 틀은 리유저블로 짜시나요? 지금 고민중인게 원페이지 앱을 구성할 때 그 안에 들어갈 페이지들을 리유저블로 다 개발하고 index에 리유저블을 불러와서 사용할까 고민중이거든요': 8655, ' 워크플로우가 너무 많아지고 유지보수가 어려울 것 같아서 리유저블을 여러개로 나누는 방법을 생각했는데 별로일까요? 여러개의 리유저블을 원페이지에 불러오도록 하려고 했었거든요 joshua님 개발하신 사이트 구경해보고 싶네용현재 서비스중이신가요??\\\\': 8659, ' 희철님은 다른 방법으로 개발하셨나용?': 8661, ' 모두의 노코드 사이트가': 8667, ' 아~ 각페이지를 리유저블로 구현한다음 원앱으로 만드셨나용 ?': 8676, ' 근데 워크툰 사이트 충분히 빠른데요?? 용준님 사이트도 구경해볼 수 있을까용?': 8681, ' 와 잘만드셨네용 개발하는데 얼마나 걸리셨어요?': 8688, ' chart js는 어떻게 넣으신거에요..? AWS만으로도 이 정도의 백엔드 구현이 가능하군여 .. 호잉..': 8690, ' 안녕하세요~!!  혹시 사진/동영상을 업로드할때 편집해서 올릴 수 있게 해주는 플러그인이나 기타의 방법을 시도해보셨거나 알고계신 분이 계실까요?': 8692, ' 노코드는 MVP를 개발하기 위한 툴인가요? 아니면 실제 서비스에도 활용할 수 있나용? 다들 서비스 유저가 어느정도 늘어나면 자체 개발로 바꾸실건가요?': 8694, ' 혹시 버블 수정 후 테스트버전에서도 반영이 안되는 문제 겪으신분..? ㅜㅜ': 8699, ' 혹시 버블app에서 다른 app으로 데이터 및 디비를 한번에 쉽게 이동하는 법 있나요? 아니면 현재앱의 요금제를 다른 앱으로 요금제를 이전시킬 수 있나요?': 8700, ' chatgpt말고 바드도 붙여서 챗봇으로 쓸 수 있나요?': 8705, ' 혹시 and / or 계산 순서는 어떻게 될까요 ..? 괄호가 없으니': 8708, ' 수식이요? 아니면 조건식에서요?': 8709, ' 안녕하세요 질문 좀 드릴께요플로팅그룹은 브라우저를 확대 축소하면 위치가 변하던데 이건 어쩔 수 없는 건가요?': 8715, ' 플로팅 그룹은 위치가 안 변하는데 이상하네요….혹시 화면을 캡쳐해서 보여주실 수 있는지…?': 8716, ' 정말 감사합니다^^ 혹시 따옴표 말고 오류를 유발하는 기호들에 어떤것들이 있어요?? 웬만한 것들은 확인 했을 때 오류가 나지 않더라구요.': 8727, ' 저도 궁금하네요 ㅋㅋ 이게 어떻게 가능한가요?': 8736, ' 맞는 이야기인가요, ?': 8750, ' 사용자가 많을수록 느려지는게 맞나요?': 8752, ' 사용자가 많을수록은 아니고.. 기능이 복잡해질수록..?이라고 해야할까요': 8755, ' 그친구들 어느나라 사람이에요? 미국인가요? 팀원들이 다 뉴욕인 것 같은데': 8758, ' 이 단톡방은 운영 안하시나요?': 8760, ' 모두의노코드에서 어떤분이 버블이랑 백엔드 싱크트리 이용해서 만드신다고 봤는데 혹시 싱크트리 사용해보신분 계신가요?': 8763, ' 레퍼런스 있을까요?': 8765, ' 챗봇 개발에 활용할 수도 있나요?': 8767, ' 정말 감사합니다 ㅎㅎ 근데 이게 생각보다 비싼거 같아서 mvp 용으로 어떤가 궁금하네요 mvp용으로 적합한지': 8769, ' 그냥 api가 아니라 싱크트리를 활용했을 때 어떤 이점이 있는 건가요? 오히려 한 번 더 과정이 거쳐져서 더 느려지는 건 아닌가 궁금합니다': 8771, ' 프리셋말고 마이너한 api를 사용하고 싶은 경우에도 원활히 가능한건가요?': 8774, ' 백엔드 기능을 노코드로 했다는 것은 admin 페이지 개발부터 db관리, api관리가 모두 가능하다는거죵?프론트는 버블로 백엔드는 싱크트리로요 요렇게 썼을 때 버블 db를 쓰는것보다 속도 향상이 있나요?': 8776, ' 확실한 속도 개선이 있나용?': 8779, ' 네! 혹시 현재 속도에 문제가 있거나 관련해서 민감한 서비스를 준비 중이신가요?ㅎ': 8780, ' Api생성 시 Swagger도 연동되어 만들어지나용? 아 api생성하면 문서를 자체적으로 만들어주는군용': 8783, ' api에서 키만 가져와서 사실 버블단에서 어려움이 있다기보다는 다큐멘테이션에서의 어떤 것을 가져와야하는 건지를 파악하는 게 어려운데 개발 솔루션의 쉽고 빠른 게 어느 지점인지, 환경설정이 필요없다는 건 무슨 말인지 궁금합니다': 8784, ' 버블과 싱크트리의 시너지가 나는 지점은 어떤 것들이 있을까요?': 8791, ' 싱크트리 디버깅 기능은 어떤가요?': 8792, ' 루니님 RFC애드온이라는 기능 아시나용? 파이썬으로 개발한 코드를 API로 개발하고 싶은데, 가능한지 궁금해서 찾아보고 있었거든요': 8796, ' 혹시 미국 공공데이트를 API커넥터로 연결하신 분 있을까요?': 8798, ' 매일 자정에 일부 데이터 필드를 백업하는 워크플로를 만들고 싶은데... 어떻게 해야할까유 ㅠㅠ 사진 이런식으로 넣었는데 동작을 안하네요 ㅠㅠㅠ': 8806, ' 백엔드에서 데이터베이스 트리거 이벤트만 해봐서 이런식으로 매 시간에 동작하도록 하려면 어떻게 짜야할지 모르겠어요 ㅠㅠ': 8808, ' 사진 혹시 repeating group에서 데이터 값이 특정 값(예를 들어 2) 이상인 경우에 text의 색깔이 빨간색으로 변하도록 하려면 어떻게 해야 하나요? 또는 데이터가 2 이상인 경우에, 그 데이터 값이 저장되도록 설정하는 방법이 있을까요? (backend 등등)': 8815, ' 다른 문재가 없다면 privacy rule의 문제로 보여요. 혹시 privacy rule을 설정하셨나요? 하셨다면 조건을 다시 보셔야하고 안하셨다면 다른 이슈일 것 같아요~': 8822, ' 혹시 버블로 핸드폰 인증이나 주소 api 적용해보신분 계신가요?': 8829, ' 어떻게 하는건가요? 다른 API를 쓰는건가요? 플러그인이 있나요? 그리고 휴대폰 인증은 SMS으로 보내져서 보내는 비용도 있죠?': 8831, ' 그걸 버블에서 자동으로 할수 있나요?': 8833, ' 자동이라면 어디까지 자동인 걸 말씀하시나요..?': 8834, ' 일반적인 휴대폰 인증 했을때': 8835, ' 일단 그럼 그 메세지 보내는건 어떤 플러그인을 써서 하나요?': 8837, ' 안녕하세요! 저희 랜딩페이지에서 특정 버튼을 누르면다른 페이지의 특정 Element 로 스크롤 다운 되도록 workflow 를 설정하려고 하는데요. Go to page 까지는 설정하였는데Scroll to 세팅을 하려니 다른 페이지의 element 값은 선택할 수가 없네요ㅠ ㅠworkflow 에서 다른페이지 이동후 스크롤다운 되도록 설정하는 방법이 있을까요?': 8840, ' 그냥 버블 DB를 다이렉트로 쓰는 것과 싱크트리를 쓰는 것이 속도차이가 좀 있다고 하던데 맞나용?': 8845, ' 싱크트리가 db를 제공하나요..?': 8846, ' 아임웹만해보다 버블배우는중인데 역경매사이트라 샵인샵이필요합니다. 버블에서 구현이가능할까요?': 8849, ' 샵인샵이 사이트 안에 사이트 개설하는 기능 넣느건가요?': 8850, ' 혹시 repeating group에서 text가 특정 값(예를 들어 2)를 넘었을 때 이 값을 저장하는 방법 아시는 분 있으실까요?': 8856, ' 혹시 이 부분을 조금 더 자세히 설명해주실 수 있으실까요?': 8858, ' api로 데이터를 불러오는 과정에서는 워크플로우를 트리거할 수 없나요...? 제가 요건 안해봐갖고 ㅋㅋ': 8867, ' 오..! 본 것 같네요 화면 내 상호작용을 설계하는 게 너무 추상적이고 머릿속에서 조립하는 게 어려운데 설계도 같은 걸 그리시는 분 계신가요..? 조건이나 화면 내 인터랙션을 표현할 수 있는 ..': 8873, ' 혹시 백엔드에서 Return data from API의 리턴 값 사용하는 방법 아시는 분 계실까요?': 8882, ' 다음 step에서 Result of step 1 이 안뜨나요?': 8885, ' return이 아니고 다른걸로 해야하는거 아닐까요 혹시': 8891, ' 갯수가 정해지지 않은 리스트 필드를 포함한 데이터 생성시 해당 필드의 데이터 갯수만큼 반복된 하위 데이터를 자동으로 만들 수 있을까요? ㅠㅠ': 8895, ' 트리거도 보여주실래요?': 8896, ' return data from api는 왜 넣으신거에요?': 8898, ' 오호 바로 구독갑니다 ㅎㅎ 어 혹시 구독하기 버튼을 제가 못찾는걸까요 ㅠㅠ 구독 어떻게 하나요!?': 8908, ' 안녕하세요! 혹시 버블 api connector로 자체 구축한 aws lambda api들 호출해보신 분 있나요? 성능이슈 문의드입니다.제가 간단히 chatgpt api 연결해서 req 보내고 res받는 시간이 종종 3초도 넘어가서요. 버블 api커넥터를 실시간으로 쓰는건 무리인가요? 다른경우도요 쓰시는분들은 Batch 작업으로만 쓰실까요?': 8909, ' 기존엔 싱크트리로 구현하셨나요?': 8914, ' 지금은 버블db로 다시 고치신거에요?': 8917, ' xano의 장점은 뭔가요?': 8923, ' Xano나 싱크트리를 비개발자도 활용가능한가요?': 8927, ' 싱크트리는 버블에 플러그인 개발할 계획 없나용?': 8932, ' 버블에서 좋아요 버튼을 만들려고 하는데요 데이터에 add와 remove를 넣었는데 작동 되다가 한번 하니까 그다음에는 작동이 안되네요. 혹시 아시는 분 계신가요? workflow step 1에서 make changes to a thing에는 add, step2에는 remove를 넣었습니다. 근데 한사이클 하고 그다음에도 누르면 안되더라고요': 8934, ' 안녕하세요! 제 블로그 글도 참고해보세요😊': 8936, ' 안녕하세요. 버블아이오로 랜딩 페이지 만들어서 운영중인데 이번에 개편한 랜딩페이지에 포함된 gif 의 로딩 속도가 너무 느려서 골치아픈 상태입니다. 혹시 속도 개편할 수 있는 방법이 있을까요?': 8942, ' 혹시 arcade 같은 서비스 말씀이신가요?': 8946, ' 안녕하세요. 혹시 이곳에 버블 개발자 채용 관련해서 글 올려도 되나요?': 8948, ' 감사합니다. 대표님.': 8951, ' 버블로 나이키런처럼 경로가 찍히게 할 수도 있나요?': 8966, ' 해치하이커 님 만드신 카카오톡 로그인 플러그인을 쓰려는데요, 보시는 것처럼 다 입력을 했고 기능도 작동하는데 저렇게 issue가 떠요. 그래서 deploy가 안되는....제가 놓친거라도... 사진 그래서 저 Enter your API key를 누르면 플러그인 화면으로 가는데 거기엔 키 값은 live나 dev 둘 다 입력을 해 두었어요..왜 그럴까요?': 8969, ' 혹시 인스타 릴스 처럼 만들어 보신분 계신가요? videojs 플러그인으로도 구현 가능한가요?': 8976, ' 예 가능합니다. 호종님 관심분야가 저랑 많이 겹치시네요😁': 8978, ' 오오 그러시군요 ㅎㅎ 어떤거 만드시는지 궁금하네요 ㅎㅎ 근데 어떻게 하죠? 제가 그냥 아무 영상 하나 넣어봤는데 플레이도 잘 안되더라고요': 8979, ' 아 안그래도 보내주신 블로그 보고 플러그인 햇는데요 그 스크롤스냅 x mandatory는 repeating group 에서만 되는건가요? group에서는 적용이 안되나요? group에서 horizontal scroll을 하려고 하는데 잘 안되네요': 8981, ' 사진 db에 데이터가 1만개가 넘는데 모든 데이터를 한번에 삭제하는 방법이 있을까요?': 8989, ' 혹시 입력 인풋필드에 들어올 텍스트를 영문 숫자는 제외하고 한글만 받도록 강제할 수 있나요?': 8992, ' 근데 videojs는 플레이 될때 인스타 릴스처럼 플레이 되는게 아니라 플레이어처럼 풀사이즈로 되지않나요? 그거 방지하는 방법이 있나요?': 8999, ' 풀사이즈가 어떤의미신지 모르겠네요. 전체화면을 말씀이실까요?': 9005, ' 음..전체화면이 안되는데...다른 플러그인을 쓰시는지..😅': 9007, ' 뭔가 설정이 있는 게 아닐까요': 9008, ' 너무하네요;; 혹시 답장 오던가요?': 9031, ' 혹시 api workflow on a list로 db의 데이터 삭제하는 예제 있으신 분 있으실까요?': 9033, ' ㅋㅋ안왔습니다 제가 못본걸수도 있구요 다시만들었죠 뭐 save point로 저장 하고 작업하는데, 그때는 왜인지 백업으로 되돌려도 그 페이지가 살아나지 않더라구요 ㅋㅋ 어떤 것이 궁금하십니까': 9034, ' 혹시 버블 로그인 내장 기능에서 제공하는 안내 메시지요 한글로 변경할 수 있는 방법이 있을까요?? 로그인정보에서 틀렷을때 We didn’t find an account with those login credentials 라고 나오는데 영문을 못읽는 분들 유저 대상으로 이슈가 좀 있다고 보네요 @_@': 9037, ' input들 데이터 적용하고 리셋을 어떻게 하나요? 예를들어 정보를 추가 하고 다른 정보 추가 하려는데 그 전 정보가 계속 input에 남아있네요': 9040, ' 다들 월요일 잘 보내고 계신가요 :)이번 주 뉴스레터도 올려드립니다 💌': 9041, ' input 다 넣고 추가하면 다른 페이지로 가는데 그 전에 넣고 해야되나요?': 9044, ' 감사합니다 혹시 생년월일 데이터는 option set으로 다 넣어두신건가요?': 9046, ' 옵션셋은 도대체언제 어떻게 만드는 게 좋을까요? 강의 볼 때만 이해가 돼요': 9050, ' 옵션셋은 enum 처럼 쓰는 건데 음 뭐라고 해야할까요': 9052, ' 이건 좀 다른 얘기긴 한데 생년월일 쓰면 바로 만 나이 계산해서 데이터에 저장되는거 해보신 분 계신가요?': 9060, ' 감사합니다. 혹시 실례가 안된다면 어떤 서비스를 만드셨는지 공유 가능하신가요? 실제 사례가 궁금해서요.': 9063, ' 프로덕트 올리신지 얼마 안된 것 같은데 다른 서비스를 또 오픈하세요? ㄷㄷ 대단하십니다! 언제 오픈하시나요?': 9065, ' 안녕하세요// 혹시 리피팅 그룹으로 링크를 표기한 다음에 각 링크마다 다른 곳으로 이동하게 하려면 어떻게 해야하는지 아시는분 계실까요??': 9070, ' 헉 ㅠㅠㅠ 너무 늦게봤네요 운전중이어서 ㅠ 혹시 버블로 만든 홈페이지에 특정 엘리먼트를 무한루프애니메이션처럼 동작하게 하려면 어떻게 해야하는지 아시는분 계실까요 / 계속 돌아간다던가 계속 커졌다작아졌다 한다던가요 /': 9085, ' 스피닝 로더를 로티 코드 가져와서 적용했는데 뭔가 이매하게 적용되더라고요 뭐랄까 그냥 켜지다가 바로 사라지는 느낌 뭔가 이걸 자연스럽게 적용 시킬 방법이 있을까요?': 9089, ' 양식이 있고 시트가 여러개인 엑셀 파일을 자동으로 생성할 수 있는 방법 있을까요.. ㅠㅠ 플러그인들이 시트가 되면 양식이 안되고.. 양식이 되면 시트가 안되고.. 어렵네요 ㅠㅠ': 9092, ' 제가 작업중 뭘 잘못 건드렸는데 원인을 못찾겠는데 혹시 특정 시간대로 되돌리지는 못하나요? 뒤로 되돌리기를 끝까지 해도 원하는 시점이 아니네요 ㅠㅠ': 9093, ' 혹시 외부에서 api로 버블에 데이터를 넣어주고 있는데, 버블은 서버가 어떻게 구성되어 있나요? 예를 들어서 제가 컴퓨터를 종료해도 버블 db에 계속해서 데이터가 들어가나요? 아니면 제가 별도 서버에 버블도 띄어야하나요?': 9096, ' 혹시 유저 화면에서 작동하는게 무엇인지 조금 더 설명해주실 수 있나요? 버블 live 버전이 존재하던데, live 버전으로 작동해야 하나요?': 9099, ' 어떤 걸 생각하시는지 구체적인 레퍼런스를 보여주시면 좋을 것 같습니다!': 9104, ' 사진 사진 혹시 버블에서 숫자 데이터들 K,M,B 단위로 바꾸는 방법 아시거나, 플러그인 아시는 분 있으신가요? 1000 ->K로 1,000,000 -> M로 1,000,000,000 -> B로': 9106, ' 혹시 Option Set 설정은 어디서 하나요?': 9109, ' 동영상 혹시 이런 기능을 말씀하시는건가여?': 9113, ' 사진 deltaPercent의 절대값이 큰 값부터 데이터를 정렬하고 싶은데.deltaPercent가 양수, 음수 모두 존재할 때 절대값으로 바꾸는 방법 아시는 분 있으실까요? 예를 들어 deltaPercent 값이 -1, -3, 2, 5 이렇게 존재할 때, 이를 모두 절대값으로 바꾼 후 5, 3, 2, 1 순서로 정렬하려고 합니다!': 9117, ' 혹시 버블 워크로드 최적화하는 \\x1c팁이 있을까요? 아직 레거시 요금제 쓰고 있긴 한데, 곧 요금제를 업그레이드 안 하면 감당이 안 될 거 같은데요.계산해보니 예상 요금이 월 400만원이 나오게 생겼네요..ㅠㅠ': 9121, ' Bubble supportor에 문의 해 보셨어요??': 9124, ' 아이고.. 워크로드가 과중될것으로 예상되는 부분이 있으신가요?': 9136, ' 10번 할거 1번으로 어떻게 끝내나요?': 9152, ' 혹시 버블이랑 게더타운api 연동이 가능할까요~?': 9154, ' 가능할 것 같은데용?': 9155, ' 사진 요런 알람은 어디에서 수정할 수 있나요?': 9156, ' 카페24 api 와 연동해 보신분계신가요??': 9158, ' 어떤 게 궁금하신가요?': 9159, ' 지난 번에 제가 소개했던 tiptap editor 쓰시는 분 계신가요..? 오늘 갑자기 고장났네요 ㅋㅋ': 9160, ' API통신을 위해 임시 토큰 만료 전 재발급을 주기적으로 해야하는데, 이걸 버블 에서 어떻게 자동화 할 수 있을까요?': 9163, ' 안녕하세요~ 프로모션 적용하려면 플랜 업그레이드를 별도로 진행해야하는걸까요 아니면 자동 적용되는걸까요?': 9170, ' 사진 do a search for로 BUBBLE DB에서 데이터를 불러오고 있는데, 데이터 개수가 16만개라 랙이 좀 많이 걸립니다. 이런 경우에 어떻게 해야 할까요? 페이지네이션이라던가 혹시 방법 아시는 분 있으실까요?': 9175, ' @(알 수 없음) API통신을 위해 임시 토큰 만료 전 재발급을 주기적으로 해야하는데, 이걸 버블 에서 어떻게 자동화 할 수 있을까요?': 9185, ' 저희는 서버를 따로 빼서 썼었어서요 ㅠㅠ 버블 말고 다른 툴을 알아보셔야할 것 같아요! 주기적으로 refresh token API call을 쏘고, 그 값을 버블 DB에 저장할 수 있는 방식으로 구현해야할 것 같습니다. 이와 같이 배치잡을 위한 노코드 툴 추천하시는 것들 있으신가요?': 9202, ' API schedulling으로는 안될까요?': 9203, ' 버블에 그런 기능이 있나요 ? 제가 버블 손 놓은지 1년 반이 넘어서 현 상황을 잘 모르네요 ㅎㅎ ㅜㅜ': 9204, ' 응답을 받지 않는 형태가 어떤 의미인가요?': 9218, ' 혹시 워드프레스도 노코드 툴 중 하나인가요? 버블 softr 웹플로우 아임웹 글라이드는 언급되는데 워드프레스는 노코드에 언급이 없어서 버블과 워드프레스는 자유도에 차이가 있을뿐인가요?': 9222, ' 버블 어렵대서 카페24로 예약기능 가능한 홈피 만드려하니 워프로 하더라고요. 워프나 버블 러닝커브가 비슷하다면 버블을 배우는게 좋을것 같아서요 버블vs워프 러닝커브는 어디가 높은가요?': 9227, ' 웨이브온과 아임웹은 자유도가 비슷한 툴이죠?': 9235, ' 네 봐볼께요ㅎㅎ 링크까지 감사합니다 아 모바일에는 좀.. 디자인이나 최적화가 덜되어 있던거 같은데 반응형 모바일 디자인도 괜찮을까요?': 9241, ' 사용자 행동 로깅을 위한 괜찮은 백엔드 노코드 툴이 있을까요?': 9245, ' 사진 4장 카닥 앱 엔진오일 교환 신청 순서인데요. 이런식으로 지역별 업체를 선택할수 있는 기능을 구현하는건 버블로 해야할까요? 웨이브온은 살펴보니 너무 예쁘고 심리테스트나 재밌는 기능이 있는데 내 상품 한두개 랜딩페이지 기능 외에는 어려워 보이는거 같아서요 아임웹, 크리에이터링크, 큐브, 카페24쇼핑몰도 이런식으로 구현은 어렵던데.. 혹시 또 추천해주실만한 툴이 있을까요?': 9247, ' 혹시 싱크트리라는 백엔드 노코드툴 사용해보신분계신가요?': 9258, ' 모든 툴들의 종착지는 버블이군요 Softr는 어느 수준까지 서비스했었고 어디에 한계를 느껴 버블로 옮기셨는지 여쭙고 싶습니다': 9259, ' 안녕하세요? 싱크트리의 어떤점이 궁금하신가요?': 9260, ' 서비스를 만든다는 건 어떤 의미일까요?': 9269, ' 개발 공부했거나 개발자이신가요?': 9274, ' 유저의 활동내역을 보관할 수 있느냐 없느냐': 9282, ' 뭘 할 수 있는지 알고... 버블로 이걸 할 수 있으면 이것도 할 수 있겠네? 라는 식으로 또 만들어보고': 9292, ' 이미지 사이즈 관련 질문입니다! 이미지 사이즈 조절을 img 엘리먼트에서 하는 방법이 없을까요? Width를 100%로 두고 height를 이미지 사이즈에 맞게 나오게 하고 싶은데 원래 이미지 비율대로 안나오네요 ㅠ': 9307, ' 감사합니다!! 근데 그러면 원하는 이미지마다 매번 설정을 해줘야하나요?': 9309, ' 안녕하세요 버블로 간단한 플랫폼 개발중인 비개발자입니다. 안그래도 이미지를 구글포토에 넣고 링크 땡겨오려고 했는데 작동을 안해서 고민이었는데 ㅜㅜ 혹시 OptionSet으로 수행하게 될 경우에 버블에서 부하되는 부분은 없을까요?': 9315, ' 홈 화면에서 go to page으로 페이지를 이동하는 부분이 있고 custom state으로 페이지를 숨겼다 보여줬다 하는 것을 선택적으로 적용하고 있습니다.그중에 게시글 리스트를 보여주는 페이지가 있는데Custom state으로 구현할경우처음에 홈화면을 로드할 때, 게시글이 많다면 로드하는 시간이 오래걸리지 않을까 걱정이됩니다.이때 게시글 리피팅 그룹에서 show all item immediately를 체크하지 않으면 로드가 안걸리고 스크롤해서 게시글을 내릴때마다 조금씩 로드가 걸리는게 맞을까요??': 9339, ' 좋은데요? 토론은 어떻게 하면 될까요? 그냥 메모로?': 9354, ' 저는 뭐 좋습니다 언제든요 ㅎㅎ': 9357, ' 사진 혹시 datetime picker 잘 작동하시나요..? 시간은 잘 찍히는데 갑자기 날짜 선택이 안되네요 뭐지': 9367, ' 사진 구글로그인을 붙이려는데 oAuth API를 쓰기 위한 인증 절차인데 완료하고 이메일에 응답하라는 것 같은데 이메일이 안왔네요 ㅋㅋ; 이런 경우 있으신가요..?': 9371, ' 혹시 파일 업로더에서 한글 이름이 깨지는거 어떻게 해야 하는지 아시는 분 계시나요? 사진 파일 이름이 한글이면 저렇게 깨져서 나오네요;;; 여기 저기 찾아봐도 방법이 안보여서;;': 9375, ' 아 그래요? 그럼 파일 이름이 나오게하려면 어떻게 해야 할까요??': 9377, ' 요거 진짜 공감되네요 근데 이게 개발자분 - 비개발자 사이에도 그대로 적용됩니다. ㅋㅋ minimum date 어떻게 설정하셨어요??': 9388, ' 사진 기본 date/time picker에 있던데요..?': 9389, ' 저도 방금 그거때문에 글 올렸다 삭제했는데요 일반적으로 사용하는 메일 말고… 혹시 이벤터스 가입을 카톡으로 하지 않으셨어요? 그럼 카톡 메일로 날아와 있을 거 같아요': 9395, ' 모집 종료후 메일 일괄 발송했는데 혹시 스팸함 확인해보시겠어요?': 9397, ' 안녕하세요 혹시 입력창에 있는텍스트를 Any field contains 를 통해 검색버튼을 눌러서 ReapatingGroup 에 리스트로 출력되게 하고 있는데 이게 모든 단어가 다 완벽하게 맞아야만 검색(리스트 노출)이 되는데 단어 일부분만 작성해도 해당 단어가 들어간 값들이 다 노출할수 있는 방법은 없을까요?^^;;': 9400, ' API 요청 시 헤더 값을 dynamic data를 불러와서 입력하려면 어떻게 해야하나요? workflow에서 처리해야하나요?': 9404, ' 타입폼으로 셀프 평가 질문지를 만들었고이걸 리포트로 구성해서 주는 서비스를 만들었는데 리포트를 칸바로 만들었거든요.근데.. 휴휴 원래 진짜 소수정예만 해주려고 했던건데 어쩌다 스케일업이 필요한 상황이 되어 이걸 노가다로 칸바로 만들려고 하니 앞날이 암담한데요.혹시 이렇게 어떤 값에 대해특정 비주얼 (그래프나 이미지) 가 나오게 할 수 있는 노코드 툴이 있을까요?단 그래프나 이미지를 원하는 시안? 으로 넣을 수 있었으면 하구요..버블같은거는 당장 배우기가 시간상 압박이라..혹시 츄라이 해볼만한 툴 있으시면 조언을 좀 부탁드려도 될까요..': 9407, ' 저 혹시 여기에 노코드 관련 질문은 아닌데 개발중인 서비스 관련 설문조사도 올려도 괜찮나요? 안된다면 죄송합니다': 9432, ' 사진 혹시 버블 db에서 중복되는 같은 데이터들 지우는 방법 아시는 분 계실까요? 중복 여부 구분은 위에 체크 표시된 4가지로 하려고합니다!': 9435, ' 사진 사진 제가 잘 이해하지 못했습니다! ㅠㅠ 이 부분을 조금더 자세히 설명해주실 수 있나요?': 9437, ' 혹시 이거는 어떻게 들어가나요? new api workflow를 눌러도 저 화면이 안 뜹니다!': 9446, ' 감사합니다!! 혹시 이게 무슨 말인지 조금 더 설명해주실 수 있을까요? 이거는 type에 지정하라는 말씀 맞으시죠? 사진': 9448, ' 혹시 결제 관련해서 질문을 드리고 싶습니다! 토스페이먼츠 등 국내에 있는 결제 관련 서비스로 결제 받으려면 무조건 사업자가 있어야 하는건가요?': 9463, ' 오..혹시 인프런 같은 곳에도 강의등록될 예정이 있을까요 ㅎㅎ': 9468, \" doesn't contain 기능 사용해보셨을까요?\": 9484, ' 전체 리스트 한꺼번에 불러오기 체크된건 아닌지 확인해보세요 기본적으로 몇개 불러올건지 설정을 하지 않으면 모든 아이템을 불러오는데 화면에 보이는 영역만큼씩만 불러오게 됩니다만 위에 말씀드린 전체 아이템 한꺼번에 불러오기를 체크하면 한꺼번에 불러와져서 느려지게 됩니다': 9495, ' 헛 그런가요? 확인해볼게요 ㅋㅋ 태그 허용으로 되어 있는데 왜 그럴까요 🤔': 9507, ' 혹시 페이지 이동을 custom state와 go to page를 섞어서 사용하시는 경우에Custom state으로 뎁스를 이동 한다음 go to page으로 페이지를 이동하면뒤로가기 버튼에 go to page나 go to previous page를 사용하면  custom state가 초기화되서 바로 이전 페이지로는 이동이 안되는데이럴때 바로 이전페이지로 이동하는 방법이 있을까여??Go to page이동 후 custom state를 자동으로 변경되게끔 하면 될 것 같은데, 어떻게 해야할지 모르겠네요ㅠㅠ': 9515, ' 사진 요 링크는 bbcode 사용하신 건가요': 9523, ' 안녕하세요, 아직 법인 설립하지 않은 예비창업자도 참여할 수 있나요??': 9527, ' 전체리스트를 불러오는걸 체크하지 않았는데도 600개정도의 디비가 있을때만해도 금방 불러왔는데 디비가 1000개가 넘은 다음부터는 loader를 뒀는데도 깜빡깜빡이는 이상한 효과와 함께 급 느려지더라고요..저만 그런건지..이럴때는 최적화 작업을 어떤식으로 해야하는지 혹시 팁이 있을까요?': 9530, ' 하나의 thing의 용량이 큰 건 아니신가요!?!!': 9531, ' 혹시 버블로 개발하실때 디자인은 어떻게 하시나요?디자이너한테 맡기시나요? 아니면 직접 하나요?': 9540, ' 간단한 랜딩페이지에 상담폼정도 만들려면 무슨 툴이 괜찮을까요? 버블이 익숙해서 좋긴한데 좀 더 저렴한게 있을까 해서요 ㅠㅠ': 9542, ' 혹시 서비스에 채팅 기능을 넣으신분 계신가요? 이게 데이터베이스 많이 차지 할거 같아서 48시간 후에 없어지게 하고 싶은데 이럴 때 버블 과금 줄이는데 효과가 있나요?': 9550, ' 아 그런가요?': 9552, ' 감사합니다 그부분 좀 찾아봐야겠네요 그리고 혹시 데이터 직접 업로드 하실때 어떤 방식으로 하시나요? csv? 아니면 admin 페이지 만들어서 하시나요? 혹시 csv로 올리면 workload가 적용 안되고 admin 페이지를 만들어서 거기서 올리면 workload가 적용되나요?': 9562, ' 안녕하세요버블 지도 플러그인 중에서 우리나라에서 사용 가능한게 있을까요?구글맵은 한계가 있다는것 같아서요': 9563, ' 혹시 버블로 빌드한 앱 쪽에서 status bar 투명하게 만드는 방법 없을까요?': 9564, ' 스테이터스 바라는 게 사진 이거 말씀하시는 건가요': 9569, ' 버블에서 ipify 구현하려고 하는데요, Unable to connect to Ipify: Error connecting to Ipify (0)위와 같은 에러를 확인하고, 해당 이슈가 DNSCrypt와 연관이 있다는 것은 알았지만 솔루션은 찾지 못 한 상황입니다.혹시 버블에서 ipify를 통해서 방문자의 ip를 확인하는 것이 국내에서는 막혀있는 방법인건가요?': 9570, ' 혹시 버블에서 workload units에 대해 잘아시는 분 있나요? 사진 현재 이게 얼마나 초과된 상태인지 모르겠습니다': 9578, ' 혹시 버블에서 만든앱을 bdk으로 래핑해서 app store 올릴 때,SPA가 아닌 multi page app으로 심사받으신 분이 계실까요??': 9587, ' 사진 안녕하세요, 서버 맥시멈 캐퍼서티를 쳤을 때 어떻게 되는지 아시는 분 있나요? 저희 팀 디바이스에서 봤을 때는 좀 느려지긴 해도 작동 자체가 안 되는 거 같진 않은데요. 혹시 아예 다운되기도 할까요?': 9588, ' 저희쪽도 다운은 안되는거같아요! 아아 혹시 bdk로 안드로이드 앱 만드는 경우에 ios대비 초기 로딩 속도 차이가 많이 나는 현상 경험하신 분 있으실까요?': 9594, ' 와 수강 하겠습니다🤗': 9597, ' 다 퍼드릴게요\\U0001faf6🏻': 9598, ' 혹시 zeroqode로 네이티브 배포해보신 분 있으실까요~?': 9602, ' 사진 혹시 버블 db 데이터 최대 저장 개수는 제한이 없나요? 혹시 있다면 현재 잔여 저장공간 얼마나 남았는지 확인하는 방법 아시는 분 있으실까요?': 9605, ' 안녕하세요!플러그인 여러개 뒤져보다가 도움 요청드립니다.  CSV로 다운로드할때 한글 안깨지게 할 수 있는 방법 없을까요?1. editable excel 플러그인 구매해서 사용하고 있는데, 어느날부터 갑자기 오류가 나기 시작하는데, 포럼에 들어갔더니 다른 분들도 비슷한 오류가 발생하더라구요. 그런데 개발자분이 전혀 대응을 안하고 있어서.....2. 다른 플러그인으로 CSV 다운로드 하려고 하니 다들 한글이 깨지네요.': 9606, ' 안녕하세요 뉴비인데요, 혹시 버블 관련 강의가 있을까요?': 9607, ' 안녕하세요. 질문이 있습니다!Multiline Input은 어떻게 수정하나요? make change to a thing으로 기존 text 데이터를 multiline input값으로 수정하려고 하니, 해당 multiline input을 선택할 수 없게 되있더라구요 흠... 해당 multiline input을 지우고 새로운 multiline input을 만드니 되네요... 왜 이럴까요... 아무튼 해결은 됐습니다. 이유는 모르겠지만요': 9614, ' 안녕하세요 :)혹시 버블에 휴대폰 인증서비스 추가해보신분 계실까요?어떤 서비스를 쓰시는지 궁금합니다! ㅎㅎ': 9624, ' toolbox에서 javascript를 이용해 버블 DB에 접근하려면 어떤 표현식을 써야 하나요?버블 DB에 있는 정보를 좀 가공해서 보여줘야 하는데, 버블 자체 기능으로 가공이 너무 어려워서 코드로 짜려고 합니다.': 9626, ' 앱 속도를 장기적으로 높이고 싶으면 custom status보다 파라메타로 하는게 앱 속도가 빨라질까요?': 9627, ' 오 무료 문자전송이 되는건가요??': 9628, ' 무료는 어떤 플러그인 이였나요? 저는 처음가입해서 주는 포인트를 통해 사용했지만 추후 유료로 가능한 플러그인 이였습니다!': 9631, ' 플러그인 이름좀 알수 있을까요?': 9632, ' 혹시 BDK native app 으로 테스트 할 때, go to previous page 했을 때 무한 로딩 걸리는 이유 아시는분 계실까요~??': 9633, ' DBK 테스트에만 발생하시나요? BDK': 9635, ' 와디즈 노코드스쿨 강의 수강하려면 어떻게 해야하나요? 7월 5일부터 들을 수 있는건가요?': 9637, ' 버블 웹페이지 작업내용실 스마트폰에서 확인 가능 할까요?기능 적용 되나 해보고 싶은데 어떤 방법이 있을까요': 9643, ' Version-test 가 붙은 url을 핸드폰 브라우저로 열어보세요~ 기능마다 달라서 어떤게 정답이다 답 내리기는 좀 어렵습니다 혹시 어떤 기능인가요??': 9645, ' 사진 위치권한을 요청하는 걸 보면': 9658, ' 하드웨어 gps 트레킹 됐다고 치고제가 밖에 나가서 실행해볼 방법은 뭐가 있을까요': 9663, ' 버블 페이지에 접속하면 될까요??;;': 9665, ' 깔끔하게 잘 만드셨네요 ㅎㅎ 카카오에서 링크 타고 들어가고 구글 로그인 눌럿을 때, 외부 브라우저로 이동하도록 안내 팝업이 나오는데, 카카오 인앱에서 실행했다는 조건을 어떻게 셋팅하고 안내 팝업을 보여주신건지 알 수 있을까여??': 9676, ' 안녕하세요! 리피팅그룹의 인덱스를 내림차순으로 정렬할 수 있는 방법이 있나요?': 9684, ' 데이터의 sorting 기준을 말씀해주시겠습니까? 그걸 알면 좀 더 해결책을 찾는데 도움이 될 것 같습니다.': 9690, ' 버블 내에서 백엔드 워크플로우로 루프 구현하면 될텐데요? 재피어보다 낫습니다 오히려.. 혹시 어떤 부분인가요?': 9693, ' ㅜㅜ 이해를 못햇습니다. creation date에 따라 sorting된 값을 유저에 따라 새롭게 필터링 한다는 것 같은데, 필터링 규칙은 어떻게 되나요?': 9708, ' repeating group의 데이터 소스를 먹일때 sort를 creation date 로 하고 constraint에 current user의 유저그륩을 걸어주면 안되나요?': 9710, ' 인덱스를 내림차순으로 표시하고싶으시다는게 어떤말인지 정확히 이해가 안갑니다 좀더 설명해주실 수 있으세요?': 9714, ' 잘 되시나요? ㅎㅎ': 9720, ' 버블 외주개발 잘하는곳 추천해주실 수 있나요?': 9723, ' 사진 인덱스 내림차순 어제 알려주신대로 하니 잘 되네용 이모티콘': 9725, ' 이 버블 요금제 리밋이 있나요?아님 사용하는 워클로드에 따라 무한대로 늘어나나요?얼핏 본 바로는 제일 비싼게 400불 아래 금액대 요금제가 있던데 이거 결제 하면 맘놓고 사용해도 되는건가요?': 9731, ' 버블 스터디에 적합한 강의 추천 받을 수 있을까요~~': 9736, ' 네넵 감사합니다~혹 추가적으로 참고할만한 강의는 있을까요?': 9740, ' 오..?': 9743, ' 이제 뭐하시나요 문형님? ㅎㅎ': 9745, ' 오 문형님 퇴사 축하드립니다 ㅎㅎ스킬이 좋으시니 나와서도 잘 되실겁니다🎉': 9755, ' 혹시 버블에서 카카오톡으로 메시지들을 보내는 방법 아시나요? 예를 들어 데이터 베이스에 정보가 들어올 때 마다, 그 내용을 카카오톡 메시지로 보내는 형태입니다!': 9765, ' 그 자피어같은 경우에 횟수당 요금 부과라 너무 금액 부담이 커서, 혹시 이거를 api나 코딩으로 해결하신 분도 있으실까요?': 9769, ' 혹시 nhn 은 유동ip여도 문자발송이 가능한가요?': 9773, ' 버블에서 외부DB 연동 해보신분 계신가요?': 9781, ' 혹시 고정ip 로 전환해주는 api 필요하신분들 많이 있으실까요?': 9790, ' 지금 솔라피 연동해보고 있어서, 유동 아이피 관련해서 여쭤봤는데, 아이피는 상관 없다고 하는 것 같네요! 사진 혹시 다른 부분 이야기면 알려주시면 감사하겠습니당 혹시 이전에 이방에서 솔라피 자피어 안쓰고 api 연동하셨다고 하시는 분 계셨던것 같은데, 혹시 계실까요?': 9794, ' 모두의노코드에는 작성자에게 개별메신저기능이 없어서  혹시 여기 톡방에서 박재은 워크튠(인터브리드)대표님 계시는지 여쭤봐도 될까요?': 9796, ' ㅎㅎㅎ안녕하세요 대표님 혹시 괜찮으시면 1:1톡으로 궁금한거 여쭤볼 수 있을까요?': 9798, ' 퇴근 준비들 하시느랴 바쁘실텐데 질문좀 하겠습니다 db구성할때요유저를 세부 데이터 입력 상황에 따라 4가지 정도 타입으로 나눠야 하는데요유저타입에 공통 사항+세부사항 필드를 다 때려넣는게효과적일까요공통사항은 그거대로 하고세부사항 타입을 따로 만들어서 관리 하는게 효과적일까요': 9800, ' 옵션셋 힌트좀 주세요검색키워드가 어떻게 될까요': 9809, ' 코린이님 무슨 분야이신가요 워킹맘인데 사이드잡으로 개발까지 배우시는 열정이': 9821, ' 혹시 버블 기반 블록체인 플랫폼이 잇나요?': 9822, ' 와 감사합니다! ryan님도 웹3쪽 서비스 만들고 계시나요?': 9826, ' blog.naver.com/no-code 입니다😊': 9829, ' 안녕하세요 버블 고수님들 질문이 있습니다!1. 데이터를 요약하는 그래프 기능을 넣고 싶은데요, 여러 개의 값이 동시에 그려지는 표현되는 그래프 플러그인이 있을까요?ㅠㅠ 2. 플러그인이 참 많은데 좋은 플러그인을 고르는 기준 같은 게 있을까요? ㅠㅠ': 9831, ' 지금 다들 버블 괜찮으신가요? 저만 데이터테이블이 나타났다 사라졌다 난리인가요 ㅜㅜ': 9839, ' 입점몰 형태의 사이트를 구축하고자 하는데 카페24가 쇼핑몰 운영에는 최적화 되어있더라구요 혹시 프론트는 버블을 활용해서 개발하고 그 외 어드민, 결제 등은 카페24 기능을 사용할 수 있는 방법도 있나요..?': 9845, ' 사진 #질문 혹시 이렇게 터치로 슬라이딩 되는 요소 구현하는 좋은 방법이 있을까요?': 9856, ' 이러닝 사이트 제작 관련해서 괜찮은 서비스 있을까요? 카페24에는 없네요 템플릿이': 9859, ' 안녕하세요기존 요금제에서 새로운 요금제로 변경하면 좋은점이 있을까요?': 9860, ' 공유 감사합니다 ! 속도가 조금이라도 체감이 있으시다니 , 저도 어차피 바꿀것 빠르게 바꿀까 고민되네요.. 혹시 기존 요금제에서 신규 요금제로 바꾸신 이유를 여쭈어봐도 괜찮을까요?': 9870, ' 안녕하세요! cloud에서 (ec2) 바로 workflow 안쓰고 버블 DB로 정보 저장이 가능할까요...?': 9875, ' 어디로 연락드리면 될까요?': 9878, ' 사진 토스 페이먼츠 테스트 api 연결해서 결제 테스트하는데, 이렇게 에러메세지가 나오는데 무슨문제이신지 혹시 아시는분 ㅜㅜ': 9880, ' paymentWidget 이라는 객체가 없는거로 봐선 결제모듈을 아예 못불러오고 있는거 같네요ㅠ 토스에서 넣으라고 한 script들 잘 넣으셨을까요??!': 9881, ' 엘레먼트들 구룹(1)로 묶고그 묶은 구룹 눈모양 눌러서 끄고끈 자리에 다른 구룹(2)엘레먼트를 넣으려고 하는데요얘들이 자꾸 구룹(1)에 포함되는데 이거 어떻게 해야 할까요구룹으로 묶은애들까지만 받고 더이상 구룹에 포함 못시키게 잠그는 버튼같은거 없나요?': 9882, ' 좌측 상단 element tree에서 드래그앤드롭으로 조절하면 그룹에 포함되게 하거나 순서변경에 용이한데 시도해보셨울까용??☺︎': 9883, ' 안녕하세요:) 문의드립니다. 리피팅그룹에서 내용을 불러올때 열과 행 수를 고정해놓으면 내용이 많아서 다 안나오는데 노출되지 않는 추가 내용을 보기 위해 하단에 [1] [2] [3] 이런식으로 페이지를 만드는 방법이 있는지 궁금합니다^^;; 아니면 다른방식으로 라도 추가내용을 확인하는 방법이 있을까요?;; 로딩버튼을 눌러서 계속 나오는 방식도 좋을것 같긴한데 어떻게 해야할지 잘 모르겠네요^^;;': 9885, ' 안녕하세요!혹시 버블로 라이브커머스 기능을 구현 할 수 있나요?': 9891, ' 오 주형님 응원합니다💌': 9902, ' 마지막 결과는 어떤 방식으로 내시는 거예요?': 9909, ' 그냥 텍스트를 저장해서 chatGPT로 보내든 아님 data로 저장하거나 둘중하나라도 하고싶은데 지금 엄청 헤매고있습니다. 리피팅그룹을 사용해서 db 저장하는것은 원래 db 저장과 다를까요?': 9912, ' 체크박스에 체크시 관련 키워드를 reaptinggroup에 search for 조건을 통해 동일한 키워드를 노출시키는건 되는데 여러 체크박스를 체크시 체크된 모든 키워드가 나오게 하는방법은 어떻게 구현해야할까요?^^;; and검색같은건데 계속 찾아봐도 쉽지 않네요;;; 마지막 체크된 부분만 검색이 됩니다;': 9918, ' 보통 모바일 작업등 하실때 width 몇 주고 하시나요?320? 380?': 9925, ' 감사합니다위 사이즈가 한 페이지 꽉 차는 사이즈가 맞나요? 모바일로 확인시스크롤 없이 꽉 차는~': 9931, \" rich text editor 플러그인 사용하면서 실시간으로 글자수 카운팅 해주는 기능 구현해보신 분 계신가요..? instant text 플러그인도 적용 안 되는 것 같고 richtextinput's value:number of characters 로 하면 몇 초 정도 딜레이가 생기네요ㅜㅜ\": 9934, ' 구글 로그인 중에 google이 있고 google oauth2.0이 있는데 차이점이 있나요...?': 9942, ' 작업중인노트북에서는 프리뷰로 결과물이나오는데핸폰으로 버블 접속해서 프리뷰 눌러 보면 결과물이 나오는 애들이 있고  아닌애들이 있는데 이거 왜 이러는 걸까요라고 질문 했었는데요어제까지 윈도우에서 작업했고 결과물 확인은 아이폰 아이패드 윈도우 노트북에서 다 됐었는데오늘 동일한 환경에서 아이폰이랑 맥북에서 똑같이 프리뷰 누른후 결과물 확인이 안되네요혹시 동일 증상 겪으신분 계세요?': 9943, ' 우측 하단에 Inspect 누르시면 리피팅 그룹 내 데이터 볼 수 있는데 확인 해보셨을까용?!': 9947, ' 스탑 옆에 드롭박스에 Repeating Group이 아예 안뜨는 상태인건가요??': 9949, ' 혹시 버블 말고 웹플로우 플랫폼도 프리랜싱 뛰시는분도 계실까요~?': 9950, ' 좋은 아침 입니다~혹시 데이터 필드를 통째로 다른 타입에 옮길수 있을까요?': 9958, ' A타입 a필드의 데이터들을 B타입 a필드로 옮기고 싶으신건가요?': 9959, ' 혹시 폰트 다른 폰트로 제가 지정해서 사용할 수도 있을까요': 9965, ' 혹시 버블 라이브 배포하면 생기는 username과 password는 제거(?)를 어떻게 하나요? 오 setting에서 제거했습니다!': 9974, ' 워크플로우에서 셀(체크박스)에 선택된 키워드를 custom state 에 해당 데이터 add하는방법은 어떻게  하는걸까요?^^;  add는 안되고 계속마지막 체크된셀만 들어가져서요^^;': 9976, ' 사진 Layout 관련한 질문인데 1. 브랜드로고(텍스트)의 패런트 박스를 floating 그룹으로 설정했는데 프리뷰해보면 페이지 외부로 나가버리는데 이건 어떻게 페이지 안으로 넣을수 있을까요?': 9981, ' 왜 플로팅 그룹으로 설정하셨나요?': 9982, ' 결국 선택하는 것은 하나의브랜드의 특정 모델의 특정 세부모델?이 맞나요? 그럼 브랜드/모델에서는 브랜드를 두 개 선택해서 전체 데이터를 필터하거나 할 필요는 없는 게 맞고요…?.?': 9991, ' 같은 위치에 같은 크기로 구룹 만들어서 눈모양 눌러서 레이어 끄고 작업을 하려는데1번 만들고 끄고2번 만들면 1번 구룹으로 2번이 들어갑니다임시로 엘레먼트 트리에서 빼놓긴 했는데요엘레먼트 트리에 있는 눈 표시 말고 근본적으로 레이어 껐다 켰다 하는 옵션이 있을까요? 사진 사진 이거 어떻게 못하나요? 여러엘레먼트 잡고 옮길때 꼭 하나가 빠집니다ㅠ 한번 더 움직이면 되긴 하는데 여간거슬려서 질문 드려요': 9995, ' 화면전환이 custom state하고 페이지 파라메터를 사용하는 방식이 있을 것 같은데, 보통 개발자들이 코드로 앱을 만들경우는 custome states하고 파라메터 중  어느쪽으로 개발을 하나요?': 10002, ' @최민서 / 공무원 님 현재 사이드로 버블 공부중이신가요? @코린이 님은 어떤 경로로 버블 학습중이신가요?': 10003, ' 혹시 BDK 로 네이티브 앱 만드신분들 중에 앱 접근 권한 요청 어떻게 구현하셨는지 알 수 있을까요??': 10005, ' 안녕하세요~눈뜨기 싫은 월요일 아침이네요 회원가입시 A,B,C그룹 선택각 그룹에 맞는 페이지 제작로그인시 각 그룹에 맞는 페이지 로딩이거 어떻게 구현해야 할까요?': 10010, ' 20일은 목요일인데 20일(화)가 아니고 20일(목)인 거죠?': 10015, ' 할인된 가격 수식을 쓰고 싶은데 어떻게 하는게 좋을까요? 정가 input 하나랑 할인율 input 하나에서 값을 받아오고 있는데 괄호 지원을 안하니 수식 쓰기가 쉽지 않네요ㅜ': 10027, ' 버블에서 수학 공식에 따라 수식 정식 지원된다는 글이 본적이 있는데 아직은 아닌가요?': 10029, ' 안녕하세요 하나 여쭙습니다버블로 만든 것을 웹뷰 앱으로 만들 때, 특정 서비스를 이용 해야 하는 것 같던데요.검색을 했을 때는 스윙투앱 이라는 서비스를 추천받았습니다여기 계신 분들은 어떤 서비스를 통해서 웹뷰앱을 만드시는지 궁금합니다': 10036, ' @이창호 / 에어빌드 님은 bdk 앱으로 앱 첫로딩 속도 괜찮으신가요??': 10041, ' 저는 조금 걸리는 것 같아요 다른 래핑 서비스 쓰면 좀더 빠른 거 있나요?': 10042, ' SPA로 했을때 로딩속도가 더 걸리는 문제가 또 있어서.. 이부분은 보통 다들 어떻게 해결하시나요? 첫 페이지만 로그인페이지로 두시나요?': 10049, ' 저는 이제 bdk로 래핑하면서 테스트 진행중인데 약간 느리긴하지만 괜찮은 것 같아요, 혹시 서비스 런칭하고 사용자가 유입되면 더 느려질까요??': 10052, ' Spa로 만든는데 비벌번호 변경 페이지랑 404페이지는 어떻게하시나요?': 10055, ' dropbox api랑 버블 api connector 연동 해보신분 있나용': 10058, ' 버블 사이트 포워딩 불가능한가요???': 10059, ' 아뇨 유저의 데이터 접근 권한 설정입니다. 퍼블릭일 경우 누구나 접근 권한이 있고 프라이버시 룰이 설정되어 있을 경우 해당 룰에 의한 유저만 권한을 갖습니다. 어떤 포워딩 말씀이신가요?': 10061, ' 버블 DB에서 테이블 자동생성 기능 있을까요? 웹사이트에서 사용자가 회원가입을 할 때마다 해당 사용자에 대한 전용 데이터베이스 테이블을 자동으로 생성하고자 합니다.범용적으로 사용할 수 있는 데이터 타입을 미리 만들어 놓고, 사용자가 회원가입을 하면 해당 데이터 타입에 기반한 새로운 테이블이 생성되어야 합니다.이렇게 사용자마다 테이블을 자동으로 생성하는 것이 가능할까요? 요거 작업해보신분 계신가용??': 10069, ' 버블에서 Data 기능으로 가능할까용?? RDS에서는 sql문으로 작업이 가능한데 버블 DB에서는 어떻게 해야될지 모르겠어서요...': 10071, ' 워크플로우에 data types가 복사되어야 하는데 맞을까용?': 10075, ' 혹시 버블에서 결제시스템 뭐 쓰시나요? 토스페이먼츠 말고는 답이 없나요?': 10079, ' 문제라기 보다는 어떤걸 쓰는게 가격도 저렴하고 편한지 궁금해서요 다른분들은 어떤 결제 시스템을 쓰시는지 궁금합니다 혹시 페이플 써보신분 계신가요?': 10081, ' 페이플 어떤가요? 비용적인 부분이나 버블에 적용시키기 편한가요?': 10084, ' 페이플은 처음에 내는 이용료가 있나요? 그리고 토스랑 수수료가 똑같나요?': 10089, ' 안녕하세요. 질문이 있습니다.예1) a 서비스 : www.test1.com (도메인 별도)       b 서비스 : www.test2.com (도메인 별도)예2) a 서비스 : a.test1.com (서브 도메인)        b 서비스 : b.test1.com (서브 도메인)위와 같이 서비스를 구축하려고 할 때 버블 구독권은 \"growth\" 로 구독해도 가능한가요? 아니면 team으로 구독을 해야 하나요?': 10090, ' 요거는 직접 확인을 해보시는게...ㅠㅠ 서로 다른 서비스를 버블로 만들고싶다는 말씀이신가요? 앱을 따로 만드셔서, 각 앱에서 플랜 결제를 하시면 됩니다 아니면 하나의 앱에서 여러 도메인을 쓰고싶다는 말씀이신가요?': 10091, ' 해당 기능이 있는 플러그인을 사용해야할것 같은데, 어떤 플러그인 사용하셨나요?': 10093, ' input이 작동하는 로직도 궁금합니다. input값으로 필터링하는 로직이 어떻게 되나요? 아하 스프레드시트는 어떻게 연동하셨나요?': 10095, \" input에서 전체 글인 '노란색 가방'을 일치하는 구조가, API에서 파라미터로 그 인풋을 받는건가요? 특정 정해진 컬럼에서 검색을 하시는건가요?\": 10102, \" 1. API initialize한 결과값(필드별 결과값이 나열된)을 볼 수 있나요 검색하시는 컬럼이 B열이라고 한다면, Repeating group의 data source를 API:filtered 한 다음 필터에 B contains input's value 이렇게 넣으면 될 것 같은데..\": 10104, ' Item 옆에 =이 들어있어서 그러는데, 이 =을 contains로 바꾸진 못하나요?': 10108, ' 안녕하세요? 궁금한게 있어서요ㅎ 혹시 1:1 채팅 가능할까요?': 10120, ' 버블에서 \"send email\" 액션을 써서 이메일을 보내려고 하는데, 지금 버블 도메인이 아니면 메일이 발송이 안되네요 ㅠㅠ 혹시 비슷한 이슈를 겪어보신 분이 계신가요?': 10124, ' 안녕하세요repeating group에서 중복된 text가 나오지 않게 하고 싶은데 , 혹시 아시는 분 계실까요?': 10128, ' 안녕하세요, 혹시 아래와 같이 input을 만들려면 어떻게 해야 하나요 ㅠㅠ?고수님들 알려주세요~~ 사진 하나는 지역정보이고또 하나는 이메일 인증과 전화번호 인증을 통해서 본인인증 이후 데이터를 저장하려고 합니다!': 10131, ' 뜬금없지만 마우스 뭐들 쓰세요?전 아이리버 버티컬마우스 쓰는데 클릭할때 살짝씩 밀려서 드레그 되거나 클릭이 안먹는데이거 상당히 거슬리네요;;': 10134, ' 저도 버티컬마우스인데, 필터에서 조건식 설정할때 자꾸 삐끗합니다 ㅋㅋㅋ 마우스가 관련있나요': 10135, ' 이너스크롤이란 말을 처음 들어 봤습니다특정 기능인가요?': 10142, ' 이렇게 해보았는데, 스크롤 두개가 있는게 불편하기도 하고 잘 안됩니다ㅜㅜ 이건 어떻게 로직을 짜야할까요?': 10147, ' 이걸 리피팅 그룹에 하신걸까여?!': 10156, ' 리피팅그룹의 상단으로 가나보네요😢': 10161, ' 동영상 이런 걸 말씀하신 거죠?': 10166, ' 네 맞습니다! 이건 뭘까요?!': 10167, ' 제가 건드려도 되나요..? 아니면 눈으로만 볼까요?': 10169, ' 사진 혹시 repeating group에데이터 공란 있으면 그거 건너뛰는 옵션이 있을까요?': 10178, ' 매번 감사합니다!! 두번째 옵션은 어디에서 주는건지 알수 있을까요?;; 컨디션 설정은 아닌것 같아서요 혹시 조건식으로 걸라는 말씀이신가요?': 10180, ' 혹시 group을 이미지 element 처럼 비율이 고정되게 할 수 있는 방법이 있을까요?': 10185, ' 버블 사용하실때 어떤 브라우저 선호하시나요?창 여러개 띄워 작업할때 불편한 점이 조금씩 생기네요.': 10189, ' 버블에서 수정이력 볼 수 있는 메뉴가 있나요? 언제 어디 수정했는지 이력을 확인하고 싶어서용': 10190, ' 워크로드 사용량을 보는건가요?': 10192, ' 안녕하세요! 혹시 버블로 네이버 블로그 같은 편집기 툴 같은거 만들어 보신 분 계실까요~?': 10193, ' 카톡에서 접속하면 외부 브라우저에서 새롭게 열리네요! 어떻게 구현하신건지 질문드려도 될까요?🙏': 10194, ' 혹시 여기계신분들은 페이지 넘기면서 데이터 보낼때 data to send를 많이 쓰시나요 parameter key를 많이쓰시나요? 둘다 해보니깐 속도는 별차이없는거같은데....취향차이인건지': 10207, ' 안녕하세요 Current date/time관련하여 조언 구합니다!A : 현재 시간에서 일의 자릿수의 분(minute)만 추출하여 정수로 변환이 가능한지 궁금합니다.B : 만약 A가 가능하다면 해당 값을 이용하여DataBase에 있는 한 Type에서 해당 값과 일치하는 데이터만 추출하여 이미지를 띄울 수 있는 지 궁금합니다!': 10218, ' 안녕하세요~ 좌우로 스크롤링 가능한 리피팅그룹을 n초에 한 번씩 오토 스크롤되게 하는 게 가능할까요?': 10234, ' 안녕하세요 고수님들... 또 질문이 있습니다... Airtable에 저장되어 있는 이미지 혹은 첨부파일 필드값을 버블로 한 번에 옮겨오는 방법이 있을까요? 이전에 병준님이 whalesync라는 툴을 추천해주셨는데 계속 사용하기엔 가격이 좀 부담스러워서요 ㅠㅠ': 10239, ' 혹시 질문이 있습니다! 노코드 사용은 베타 버전을 위해 사용하시는 분들이 많나요? 아니면 앱 출시를 목표로 사용하시는 분들이 많나요?': 10245, ' 사진 사진 지금 chart js라는 플러그인을 사용하고 있는데, 그래프의 개별 점 하나의 색깔을 변경시키는 방법이 있을까요?': 10247, ' 혹시 버블로 사진(이미지)에 낙서나 스티커(다른 이미지)를 붙이는거 구현 가능한가요?': 10254, ' 혹시 요거일까요?': 10260, ' 오오 가능하군요... 그럼 aws 서버를 연동해서 유저 정보를 관리하면 유저의 비밀번호도 컨트롤 할 수 있게 되는 건가요?': 10268, ' 아 몰랐던 부분이네요... 감사합니다! 근데 지금 찾아보니 free, starter, growth, team 이렇게 있는데 커스텀 플랜은 무엇인가요~?': 10270, ' 아하 그렇군요! 근데 K 와 wu 각각 무얼 의미하나요? 그리고 워크로드라는 것은 로직 하나 만든 것을 의미하는 건가요…? ㅜ': 10272, ' 혹시 워크로드가 트래픽일까요?': 10274, ' 그럼 기본 플랜에서 더 추가할때 커스텀 플랜을 사용하는건가요?': 10277, ' DAU 1000명 정도의 서비스에 WU한달 소비량이 어느정도일까요? 서비스의 종류에 따라 다르지만..': 10279, ' 버블에서 제일 비싼 Plan 써보신분 있나요?': 10280, ' 안녕하세요.. 노코드 하다가 막히는 부분이 있는데 질문할 곳이 없어서 왔습니다 간단한 것인 데 floating group을 메인 틀 안에 넣었을 때 움직이지도 않고 사이즈 조정도 안되는 현상이 발생하는데 어떻게 해결하는지 아시는 분 있나요ㅠㅠ': 10281, ' 그동안 본 채팅창에서 눈팅만 해왔는데, 혹시 버블 통해 플랫폼/앱 제작하시는 전문업체가 어디가 있을까요? 소개 좀 부탁드려봐요. 현재 프리랜서 개발자분들께서 도와주고 계시는데, 어느 정도 최소한의 기능은 갖춰지고 곧 개발 완료될 예정인데, 현 플랫폼에 대해 컨설팅도 받아 보고 싶고, 추후에 추가 기능개선이라든지, 플랫폼/앱 비즈니스 운영 측면에서 전문적으로 면밀히 팔로업해주실 업체와 계약을 맺는 것을 고려해보고 있어서요. 스타트업 보다 어느 정도 시스템이 잡혀 있는 업체면 좋을 것 같아요. 추천 부탁 드립니다. 상기 플랫폼 URL 참고 부탁드려요.': 10282, ' 제가 듣기로 단순 래핑만 하는 iOS 앱은 스토어 등록 시 거절될 확률이 높다고 들었는데 어떠할지요...': 10286, ' 저 뭐 좀 여쭤볼게 있는데요 데이터 privacy rule에 This user는 언제 쓰는건가요?': 10305, ' 일반 검색창처럼 본문에 해당하는 단어가 있을 때, 검색 결과 있도록 하는 건 어떻게 하는 걸까요?! 모두의 노코드의 아카이빙 해 두겠습니다': 10311, ' 감사합니다 ㅎㅎ 그 버블의 custom 플랜은 어떻게 신청하는건가요?': 10319, ' tier 가격이요 아 tier 가격은 버블의 기본 플랜에서 더 추가할때만 가능한건가요?': 10321, ' 안녕하세요, 버블 배우고 있는중입니다.this user / current user개념을 아무리 구글링해도 속시원한 답변을 못찾아 질문드립니다.current user 같은 경우웹앱에 접근한 유저가 (로그인X) session 만들어 지면서current user 라는 instance가 생성 된다라고 이해하고 있습니다.이 current user가 회원가입하고 로그인O 하게되면 로그인된 유저도 current user 이고요.this user의 개념은 어떤것인가요?OOP의 Object , Instance 식으로 접근을 하면 안되는건가요?': 10326, ' 혹시 nalfe tempalte 써보신적 잇으세요? 디자인 템플릿이요': 10331, \" 안녕하세요 '게시글 작성'관련하여 조언 구합니다.게시물 작성 페이지를 SPA로 구현하려고 합니다.게시물 작성 화면을 URL Parameter를 이용해 띄우는게 나을지 CustomState로 띄우는게 나을지 고민을 하고 있던 찰나에,로그인되지 않은 작성자가 게시물 작성화면에 들어온다면 로그인 페이지로 디렉션 되는 방법이 궁금해졌습니다.이 부분은 어떻게 구현하는게 좋을까요 ㅠ?고수님들의 조언 부탁드립니다...ㅎ\": 10332, \" 아하! 버튼에 워크플로우는 그렇게 해결하면 되겠네요!한가지 더 궁금한것이, SPA로 URL Parameter가 'Post'일때 게시글 작성 화면을 나타나게 한다고 가정했을때,버튼을 누르는 방식이 아닌 인터넷 검색창에 해당 파라미터값이 포함된 주소로 접근을 한다면 어떻게 로그인 화면으로 디렉션 시킬까요 ㅠㅠ?\": 10334, ' logged out이 로그아웃 했을 때 한 번만 트리거되는 게 아니라 로그아웃 상태일 때 항상 실행되나요..? 저는 page is loaded 일때1. user email is empty이면 다른 페이지로 보내버리는 방식 사용했어요': 10336, ' 사진 혹시 이거 이용해서띄워놓은 주소로티맵으로 길안내네이버지도에서 위치확인 구현이 가능 할까요 전화거는건 간단하던데…api를 사용해야 할까요?': 10343, ' URL Scheme 사용하시면 됩니다 모바일에서 설치된 앱을 띄우고 싶으신 거죠?': 10344, ' tmap://?rGoName=장소명&rGoY=37.57651&rGoX=126.98454nmap://place?lat=37.57651&lng=126.98454&name=장소명&appname=com.example.myappkakaomap://look?p=37.57651,126.98454': 10346, ' 웹주소로 보내는건 또 다른가요? url만으로 앱이 켜지니 신기하네요;;': 10349, ' 주소에 장소명은 각 사이트에 등록된 정확한 장소명이여야하나요?': 10353, ' body script를 페이지별로 설정할 수 있을까요? 버블 문서에서 html 요소로 넣으라는 것 같은데 혹시 다른 방법이 있을까요?': 10364, ' 마지막  모노데이는 유튜브에 올리신다고 했던거 맞지용? @하희철 / 기획, 마케팅, 노코드': 10369, ' 버블에서 특정 키워드 사업장들을 나타내고 검색할 수 있게 만들고 싶은데 어떻게 하면 좋을까요? 위에서 말하신 URL scheme가 좀 해답이 될련지요': 10372, ' 버블에서 주소를  lat/long 좌표로 바꾸는게 가능 할까요?': 10379, ' 아까 알려주신후로 지금까지 계속 찾아보고 있는데요 위도 경도만 구해지면 되는데구글맵 실행해서 주소를 찍거나 마커 찍어서 구하는 방법이 있긴한데 사용자가 저장한 주소를 그대로 사용자들이 쓰게 해야 해서요 아까 써주신 url 위도 경도 좌표는 직접 구하신거 맞나요?': 10384, ' 감사합니다 사용자의 위치를 받고 그 위치에 해당하는 날씨데이터는 어떻게 연결할수 있을까요?': 10387, ' 문자를 보내는 것도 버블 내장기능으로 있나요..? 솔라피와 같은 서비스를 연동하는건가요?': 10397, \" 안녕하세요 버블 고수님들 질문있습니다.외부 링크에서 버블로 개발한 웹으로 들어갈 때, 외부 링크에 있는 정보를 버블에서 캐치할 수 있는지 궁금합니다.예를 들어, 외부링크가 다음과 같이 있을 때링크/현재시간  혹은 링크/사용자id버블에 들어왔을 때 '현재시간' 혹은 '사용자id' 데이터를 변수로 받아서 쓸 수 있는지 궁금합니다!\": 10404, ' 갑자기 궁금한건데 모두의 노코드 사이트도 혹시 모두 버블로 만든걸까요~? ㅎㅎ': 10405, ' 오... 가능하군요 감사합니다. 혹시 구체적인 방법이 어떻게 될까요..? 버블 초보라 잘 안 되네요 ㅠㅠ': 10409, \" 음... 따라해봤는데 잘 안 되네요.. 혹시 이건 버블로 개발한 페이지 내의 url 정보를 가져오는 거 아닌가요?제 경우엔  버블로 개발하지 않은 웹사이트 'A/id=abcd' 에서버블로 개발한 페이지 B 로 이동했을 때 'id=abcd' 데이터를 받아오고 싶습니다 ㅠㅠ\": 10411, ' 답하고 있는 와중에 깨달으셨군요 다행입니다 ㅎㅎ 스테이트 value 설정하실 때 값을 어떻게 설정하셨나요? 기존 목록에 :plus item으로 하셨나요?': 10430, ' 버블로 알림톡 연동하신 분 계신가요~? 네이버도 있고 기타 여러 중소기업같은 곳들도 있는데 처음 연동을 하다보니 다들 어떻게 어디 회사와 연동해서 사용하고 계신지 궁금합니다!': 10431, ' 혹시 \"1234567890\" 이란 A라는 그룹이 있을때 , 여기서 \"456789\" 이 6자리만 중복되면 A라는 그룹을 나오게 하고 싶습니다.혹시 이런건 어떻게 처리하시는지 아시는 분 계실까요?': 10432, ' 솔라피와 재피어 연동하는 경우도 많고,NHN은 버블에 플러그인이 있어서 간편하게 연동가능해서 그거 쓰시는 분도 많은 것 같습니다! 요거는 상황을 좀더 자세히 알아야할 것 같은데요, \"1234567890\"이 text인가요 number인가요?': 10434, ' 헉 버블에 NHN 알림톡 플러그인이 있나요? 재피어 통해서 솔라피 연동하느라 애꿎은 돈 재피어에 내고 있었는데..': 10437, ' 혹시 플러그인 이름이 뭘까요?': 10439, ' 안녕하세요, schedule API Worklflow on a list 관련해서 궁금한 게 하나 있습니다.특정 유저의 리스트를 뽑아서, 그 유저들을 순회하면서 알림톡을 뿌려주게끔 schedule API Worklflow on a list를 쓸 건데요.이걸 24시간 후에 다시 리스트 뽑아서 알림톡 보내게끔 스케줄링을 하고 싶습니다.제가 원래 생각했던 구조는 아래와 같은데요.1. 유저 리스트 뽑고, 알림톡 보내는 API 트리거하는 Custom Event 트리거2. 알림톡 보내는 API가 실행을 완료하면, Custom Event를 24시간 후로 스케줄링Trigger a Custom Event에는 시간차를 두는 옵션이 없더라구요.커스텀이벤트를 호출하는 API를 또 따로 만들어서 걔를 스케줄링하는 방법은 떠오르는데.. 이렇게 하면 뭔가 비효율적이고, 중간에 뻑날 확률도 높을 거 같구요..이 상황에선 어떻게 하는 게 좋을까요..?': 10448, ' 너무 기대되는 중\\U0001fae3': 10455, ' 버블 에디터 업데이트를 조금은 빨리?? 자주하면다들 메모리 충분하지 않다고 나오는가요?컴퓨터 메모리 문제는 아닌거 같은데무엇을 주의해야하는 것이 있는지요? 사진': 10457, ' 어제 참여를 못했는데, 혹시 영상 올려주시나요..? ㅎㅎ': 10460, ' 혹시 기존에 했던거 플랜 업그레이드 하고 그 플랜을 다른 프로젝트로 바꿀수 있나요?': 10465, ' 네 온라인 강의는 완강률이 낮은데 어떻게 끌어올릴 수 있을까도 고민 중이에요👀': 10482, ' 레거시 요금제에서 신규 요금제로 바꾸신 건가요?': 10520, ' 와 도대체 어떤 서비스이길래... 너무 궁금하네요 축하드립니다': 10529, ' 무슨 일이야?': 10537, ' 안녕하세요, 궁금한 게 있습니다.한 페이지에 RepeatingGroup A와 RepeatingGroup B가 있습니다.A는 ?page=A일 때만 노출되고, B는 ?page=B일 때만 노출되게 컨디션을 설정해놓았는데요.혹시 ?page=A로 접속해도 리피팅그룹B(노출되진 않지만)가 데이터를 로드하나요? 아니면 아예 작동을 안 하나요?': 10547, ' 버블에서 토스페이먼츠 위젯 테스트 연동중인데요위젯과 버튼을 만든 후 버튼을 클릭하면 set  value와 request payment를 넣었음에도 불구하고 버튼 클릭 시 결제창이 안열리네요. 어떻게 해야될까요?': 10553, ' Atype Afield에 List of texts로 저장된 user의 이름과 같은 user의 data를 RepeatingGroup A에 뿌려주고 싶은데조건식을 어떻게 걸어줘야 할까요': 10554, ' a 필드에 유저가 아니라 유저의 이름을 저장하신 이유가 있나요? 이름만 같으면 상관없는 건가요': 10557, ' list of Users 로 유저를 저장하시는 게 좋은 듯하고 RG A에는 그러면 필드A에 [\"개똥이\", \"소똥이\", \"말똥이\"] 가 있으면 이 셋의 정보가 모두 하나의 리스트로 보여지는 건가요': 10559, ' 중복되는 유저가 없으면 가능한가요? 혹시 갠톡 드려도 될까요;;': 10562, ' 닉네임 작성할 때마다 do a search for를 돌리는 상황이 어떤 건가요..?': 10570, ' 기존 다른유저들과 닉네임이 중복인지 아닌지를 체크해야하니 돌린다는 말같습니다 근데 필터링으로 해서 first item만 찾을것 같긴한데 이것도 워크로드가 소모될까요?': 10572, ' 히로인스 트래픽이 어느정도되나요?! 사진 약 이정도 되는군요!': 10574, ' 테이블 기능이 생겼군요 언제부턴가 있었나했더니..': 10575, ' 혹시 블로그 형식의 텍스트와 글자 사진등이 섞인 것들은 DB에서 어떤형식으로 저장이 될까요?!': 10581, ' 안녕하세요.혹시 버블에서도 금융결제원api를 사용해서 계좌인증을 구현할 수 있을까요??': 10583, ' rich text editor를 사용한다고 가정한다면 데이터 필드는 타입은 Text로 생성하면 되는걸까요??': 10585, ' 데이터 관련해서 질문이 있습니다 live에서 dev로 카피 하려고 하는데 됬다고는 하는데 정작 적용이 안되네요 같은 문제 있으셨던 분들 계신가요?': 10597, ' refresh data 눌러보시거나 새로고침 눌러보셨을까요??': 10598, ' 특정페이지를 유저가 확인한것을 데이터에서 카운트 1씩 체크하는거말고 또 간단한 방법이 있을까요?': 10599, ' 페이지에 Current page 데이터가 있을까요? 예를들어 게시글이면,게시글 data type에 List of Users 필드 하나 만들어서해당 페이지 로드했으면 Current User를 본 사람(위에서 만든 필드)에 add해서 관리할 것 같습니다 :)': 10600, ' 안녕하세요! 드롭다운을 데이터 옵션(카테고리)으로 걸어두고 사용을 하려고 하는데요, 혹시 이 드롭다운을 ㄱㄴㄷ순 정렬(오름차순)설정하는 방법을 알고계신분이 있을까요?': 10608, ' 피그마로 constraint 다 완벽하게 걸었는데도 그랬나요??': 10618, ' 안녕하세요 버블 고수님들! 혹시 text type으로 생성된 field를 number type으로 바꿀 수는 없나요?': 10620, ' 버블db에서 mysql로 db로 뽑을수 있나용~?': 10625, ' 사진 쟤가 붙박이로 화면에 고정됐는데해제하는 방법 있나요;; 안꺼집니다': 10628, ' 브라우저를 새로고침해보셨나요': 10629, ' 앗 ㅋㅋㅋㅋㅋㅋㅋ 사진 그거 여깄습니다': 10640, ' 안녕하세요! bubble로 웹사이트 만들면서 효과를 주고 싶습니다. Popup으로 1~2초 잠시 보였다가 사라지는 애니메이션을 넣으려고 해요. 팝업 뜨게 하는건 괜찮은데 다시 사라지게 하는게 어렵네요… animate로 show, hide 둘 다 들어가면 duration과 상관없이 그냥 슉 사라지는거 같습니다ㅠ 혹시 어떻게 해결하나요…!!': 10641, ' 그러면 더 좋은걸요 ㅋㅋㅋㅋ 어떻게 하신거에요… 알려주세요🥲': 10653, ' 버블.  개발버전 접근을 막을 수 있는 기능이 있나요?? 라이브전 지인에게 테스트차 클로즈로 공유한적이 있는데혹시나 컨트롤할 수 있는지 해서요': 10656, ' 웹으로 제작시 혹시 클릭하면 스마트폰에서 바로 바탕화면에 저장되는 플러그인 같은게 있을까요? 플러그인이 없다면 스마트폰에서 웹페이지에 특정 버튼 클릭시 바탕화면에 아이콘이랑 바로가기가바로 저장되었으면 하는데 구현 가능한지 문의드립니다^^;': 10660, ' Jul 18,2023 12:00 am으로 저장된 날짜에 24시간 동안 O(동그라미)아이콘이 visible on 되게 하려면 어떻게 해야 할까요': 10664, ' 만약에 저런 엑셀러레이팅 프로그램에 참여하면 지분 투자를 저쪽에서 하는 건가요? 지분 비율은 어떤식으로 진행되는걸까요 지원해보고 싶은데 왠지모를 두려움이 있네요': 10667, ' 혹시 dev버전에서 비번 변경 요청 메일을 보내셨는지요? 저 경우는 비번 초기화 이메일이 db에 저장된 유저의 이메일이 없거나 틀린 경우 나타납니다. 보통 dev버전에서 비번 변경 요청 후 메일에서 링크를 클릭하면 live버전으로 연결됩니다. 이런 경우 저 메시지가 나타나요.': 10673, ' 안녕하세요, 다름 아니라 three.js 등의 라이브러리를 활용해서 버블 앱에서1. PLY 파일을 열어서 볼 수 있고,2. color-scale이 표시되는기능을 구현하고자 합니다.혹시 버블에서 이런 자바스크립트 라이브러리를 활용하기 위한 참고 자료가 있을까요…? 사진 한마디로 3D 뷰어를 버블에 심고 싶은데,자바스크립트 라이브러리는 처음이라 어떻게 시작해야할지 감이 안오네요 ㅠ': 10674, ' 안녕하세요 버블 고수님들! 버블 DB에 정규화된 형태로 저장된 데이터를 피벗해서 쉽게 보여주는 플러그인이 있을까요?': 10678, ' 메시지만 보면 도메인 서버 문제인것 같은데 어디서 구매하셨어요?': 10688, ' 그런 거창한건 아닌데요;;돌다리도 두둘기는 성격이라 잘 모르는 부분이 대부분이라 질문한거에요ㅎㅎ 혹시 인천에 변리사 추천좀 해 주실분 계세요~?': 10700, ' mvp모델 만드는중인데 로그인 및 회원가입까지 이어지는 사용자들이 너무 적어서 비회원 로그인을 만들어서 체크해보고싶은데요.어떤 방식으로 구현할 수 있을까요?': 10702, ' 그 중 실제 서비스 이용한 사람?(예약자)은 어떻게 되는걸까요?': 10712, ' 어떻게 하신 건가요! ㅠㅠㅠ': 10719, ' 도메인 관련별개의 질문인데요 사진 이건 어떤걸까요?도메인을 한 번 세팅 후 설정 화면이 안 나타나요': 10729, ' public application이라고 되어있는걸 보니.. 앱 권한이 everyone can edit인가요?': 10731, ' 여러분들은 리피팅 그룹 데이터 로딩하거나, 새로운 데이터 항목을 생성할 때 조금 더 빠르게 할 수 있는 노하우 같은 것들이 있나요?': 10732, ' 물론 여러가지 케이스가 있겠지만 그거 대신에 어떤걸 보통 쓰시나요?': 10734, ' 그러시군요 한번 적용해봐야겠네요 그리고 혹시 로그인이 필수인 페이지에서 current user가 로그인 했는지 확인을 워크로드에서 하시나요?': 10738, ' 워크플로우에서 사진 삭제 안하고 대 > 중 > 소  위치 바꾸는 방법이 있을까요??': 10753, ' 이런 형식으로 다음 페이지에 보낼려고 하는데 다음 페이지에서 type of contents를 어떻게 설정해야하나요?? 사진 데이터화 시켜야지 받을수 있는건가요??': 10756, ' type of content에서 text가 안뜨면 설정 문제인가요??': 10759, ' 버블에서 http stream response 방식으로 API 쏴보신분 계신가요? 그게 가능한지 궁금해서요': 10763, ' 버블로 만든 경우 호스트서버 소재지가 어떻게 되나요?': 10767, ' 안녕하세요 bubble로 개발한 웹페이지에 Google Adsense 붙이고 싶은데 혹시 적용해보신 분 계신가요??': 10768, ' 하나 더 질문 드립니다 각 element에다가 condition을 따로 쓰면 workflow에 안들어가있기 때문에 과금이 덜 나오나요??': 10775, ' 이건 좀 궁금하네요 클라이언트에서 처리하는 것이 (어디까지인지도 궁금하고) 워크로드에 포함되는지': 10776, ' 안녕하세요 ~': 17018, ' 혹시 지금 에디터, 버블로 구현된 서비스 동작들 하시나요?': 10788, ' 오전에 일이 있어서 이제야 확인했는데 무슨 일이래요;; 요즘 버블이 오류가 잦군요... ㅠ': 10801, ' 버블이랑 가비아 DNS 연동 해보신 분 있나요?': 10803, ' DNS연결할 때 가비아보단 고대디가 좋나요?': 10806, ' 모두의 노코드 사이트에 가장 만들기 쉬윈 하이브리드앱 개발 툴 expo 에 대해 조코딩님 영상 첨부 글 봤는데요. 혹시 expo 접해보신분 계신가요? 플러터보다 쉬운 개발 툴': 10813, ' 화면 첨부까지 감사합니다~^^러닝커브는 적은데 플랫폼마다 구현이 매끄럽지 않은 단점이 있군요 플러터플로우 같은건가': 10816, ' 해결하셨나요?': 10835, ' 32불짜리 구독한 상태인데요한달에 몇번씩 결제 되는게 맞는건가요? 이모티콘': 10836, ' 지금 user type을 쪼개서 db를 다시 설정 하려고 하는데요조건식 걸어놓은걸 다 복구 못할까봐 쫄리는 상황입니다;;혹시 지금까지 작업해 놓은거 백업해 놓을수 있나요?': 10851, ' 어떻게 하는건가요;;': 10853, ' 앱을 여러개 가지고 계신가요?': 10858, ' 32달러는 이용료인거같은데 25달러는.. 상세내역 확인해보셨나요?': 10862, ' ㅎㅎ 플러그인이였나요 ㅎㅎ': 10866, ' number가 5에서 10사이일때 조건식이 발생하도록  condition을 조정하고 싶은데 혹시 어떤식으로 하면 좋은지 아시는 분 계신가요?': 10876, ' 데이터 필드 삭제한거 없애려면 어떻게 해야 하나요(휴지통 비우기?)필드는 사라졌는데 필드에 저장된 데이터는 살아있어서 조건식 오류 메세지가 안뜨는데요;; 사진': 10879, ' 혹시 갠톡좀 드려도 될까요': 10881, ' (질문)DB 엑셀 업로드1,100개행80KB 올리는데 오래 걸리나요?1개는 잘 올라가는데1100개 올리니까버튼도 안눌러지고 업로드도 조차도 어렵네요 ㅎㅎ 해결했습니다   - 499개 1번  - 699개 1번나눠서 하니까 되네요 1,000개쯤 어디에 제한이 걸려있나봐요': 10884, ' 흠.... repeating group 내에 택스트가 표현되지 않는 건 어떤 경우일까요... 이유를 모르겠네요 ㅠㅠ': 10895, ' 혹시 웹빌더로 앱 만드신 다음에... 수익화 차원에서 admob 이나 liftoff 같은 광고플랫폼까지 연결하는 것도 가능한가요?': 10903, ' 혹시 db로 에어테이블 사용하시는분들중에 db데이터 변경 시, automation트리거 이용하여 버블(웹훅)로 데이터 보내지도록 구현해보신분 계실까요?': 10906, ' 응원에 힘입어무식한 방법이지만... 현재 수준에서 최종결과물입니다 ^^ 사진 코린님 고맙습니다~ __________________혹시... 버블 에디터툴에서 딱 한 페이지 read only로 공유하는 방법이 있을까요?뭔가 공유해서 조언을 구하고 싶은데 가능한지 몰라서요': 10907, ' 사진 안녕하세요 고수님들께 질문 드리고자합니다 😢쇼핑몰에서 상품을 등록하는 과정에서 옵션을 입력하고자 하는데요위의 사진에서 옵션 생성을 하면 리피팅의 한 row씩 보이게 하고 싶은데 어떻게 하면 될까요?예전에 toobox 플러그인의 list of numbers를 활용하면 된다고 들었던거 같은데 정확히 어떻게 해야할지 전혀 모르겠습니다..!': 10915, ' 외부 db를 사용해서 버블로 사이트를 구현하고 싶은데요 속도 개선할 수 잇는 방법이 있을까용??': 10919, ' db커넥터 사용하는거요 보안상 문제는 없을까요? 외부 DB사용하고, 버블로 백엔드를 구현해서 API를 외부에 제공해줄 수 있나요?버블 내장 DB 는 API가 자동으로 만들어지는데, 외부 DB도 가능한지 궁금해서요 특정 데이터들을 외부로 보내줘야 해서요': 10921, ' 혹시 api connector 등을 활용해 버블에서 다른 웹사이트나 다른 서버로 트리거 보내는 방법 아시는 분 계실까요? 예를 들어 버블에서 특정 동작이 나타날 때, js express 서버로 트리거를 보내고 거기고 코드 작동하는 방식입니다': 10927, ' node.js 서버가 있는데 혹시 방법을 조금만 더 자세히 알려주실 수 있으실까요?': 10929, ' 문의하시는 게 API 커넥터의 사용방법인가요 아니면 node.js에서 웹서버 구축인가요..?': 10930, ' authentication을 none or self-handled 방식인가요?': 10933, ' 안녕하세요. 혹시 bubble.io에서 프리뷰가 아닌.. 웹사이트를 배포하려면 유료 플랜을 구독해야만 가능한가요..?': 10942, ' 버블로 하위 도메인을 어떻게 만드는 지 아시는 분 계신가요!?': 10947, ' /xxx가 아닌xxx. 방식의 하위도메인도 만들어질 수 있는 지 궁금합니다!': 10949, ' 안녕하세요! togglecampus.com 이라는 버블을 front으로 사용한 프러덕트를 만드는 스타트업 팀 입니다.지금 학부생들중에 저희가 인턴을 모집중인데 (학기중에도 인턴 가능합니다!) 관심 있으시면 아래에 링크에서 자세한 사항들 더 확인해주세요!': 10953, ' 테이블은뭐죵? 새로 나왔나보네용 Group이 html로 치면 div이고, 테이블은 html  table  개념인가용?': 10956, ' 카카오 소셜 로그인 만지고 있는데 401에러가 떠요클라이언트 인증이 안되서 그런거 같은데 해결방법 아시나요?비즈앱은 연결해놨습니다.테스트앱으로는 되는데 본 앱으로 안되는 이유를 잘 모르겠어요 카카오에서 인증이나 검증을 받아야되는건가요?': 10958, ' 안녕하세요 혹시 go to previous page가 비정상적으로 작동하는 분 있나요? go to previous page가 작동시 여러번 작동되는거 같습니다': 10963, ' 상관관계 히트맵 만드시려하나요?': 10965, ' 행과 열에 들어갈 값들이 고정되어있나요? 그러면 열에 들어갈 db테이블에 필드를 하나 파서 어떤 행에 속하는지를 체크해둘 거 같습니다.그 다음엔 1. 유저에게 1단계 값(행)을 선택하게 하고,2. 유저가 값을 선택하면 리피팅그룹의 스테이트를 변경하고3. 리피팅그룹의 데이터소스를 그 값에 종속된 열로 변경하게끔 조건문을 짜면 되지 않을까싶습니다': 10967, ' 버블에서 구글 CASA Tier 2인증 해보신분 있나요?': 10970, ' 혹시 301리디렉션 사용해보신분 계실까요?': 10971, ' 사진 안녕하세요! 버블에서 font를 설정할 수 있는 옵션인데요~line spacing의 이 부분은 단위가 어떤걸까요~?!': 10979, ' 앗 감사합니다 혹시 그렇다면글자가 60px 이고 line height 이 만약 72px 이면 line space는 1.2 가 맞을까요~?': 10982, ' 아 버블은 그렇게 표현되는군요... 감사합니다! 대표님은 혹시 버블은.그렇게 표현되는지 어떻게 아셨을까요~? 개발자 센터에서도 보기가.힘들더라고요!': 10986, ' 조언 구합니다다들 Spa방식의 버블 앱은 어떤 트래킹 툴을 이용하시나요?처음이라 잘 모르지만 Ga는 spa 특화는 아닌 것 같아서요조언 구합니다!': 10994, ' 사진 저기서 어떤 값을 선택해 이어가야 할까요?': 10998, ' 제가 설명을 너무 대충했네요. 데이터소스에서 search for products 뒤에 필터 붙이실 필요 없이, search for 안에서 제한식을 걸면 됩니다. 카테고리가 현재 옵션으로 되어 있나요?': 10999, ' 사진 사진 서치포 안에서 조건식으로 해도 URL 다음에 어떤 것을 선택해줘야할지 모르겠어요.': 11002, ' 사진 2장 이런식으로 탭전환이 이루어지게 하고 싶은데 편하게 디자인할수 있는 플러그인 같은게 있을까요?': 11004, ' 도와주세요;number field에 숫자 넣는 방법 문의 드립니다1.field type을 number로 생성2.input - content format를 text(numbers only)로 선택3.버튼하나 만들어서 workflow로create a new thing으로 1번에 생성한 field선택해서 2번 input의 ‘s value로 설정했는데 조건식을 더 넣으라고 빨간색에서 안변하는데요뭘 더 어떻게 해야 할까요': 11010, ' field type이 number면 input - integertext면 text 와 text(numbers only) 둘 맞나요??': 11015, ' 1번 field를 text type로 만들고 input을 interger로 하면 된다는 말씀이신가요': 11017, ' 리피팅그룹 무한대로 두고오늘 기준으로 8월이면 8월에 입력된 값만 나오게 구현 가능 할까요?': 11023, ' 로그인 하지 않은 유저에게 , 팝업으로 \" 일주일동안 보지 않게 하기 \" 를 만들고 싶은데 , 좋은 방법이 있을까요? current user면 데이터를 넣어서 일주일동안 못 보게 할 수 있을 것 같은데 , 회원가입 하지 않은 유저 핸드폰에서 어떻게 못 보게 할지 궁금하내요 .. 😢': 11031, ' 안녕하세요! 혹시 버블 DB에서는A 가 B에게 팔로우 신청 (DB에 추가 작업 설정)B 팔로워에 A에 수동으로 추가를 해야할까요? 혹은 자동으로 할 수 있는 방법이 있을까요?': 11034, ' 팔로우 신청 시Step1. A 유저의 팔로우 add BStep2. B 유저의 팔로워 add A하면 될 것같은데, Step2를 안할 수 있는지 물어보시는건가여??': 11035, ' 10개의 체크박스중 3개가 체크되면 나머지7개를 더 이상 체크할 수 없도록 비활성화 시키는 방법은 뭘까요?(체크박스는 리피팅 그룹으로 만들어져 있습니다.) 체크한 수를 카운트해서 3이 넘으면 비활성화면 되는 것 같긴한데.. ㅠㅜ': 11043, ' 사진 안녕하세요! 혹시 html에서 자바스크립트로 받은 정보를 버블에 저장하려면 어떻게 해야하나요?위 스크립트에서 받은 receivedData를 바로 저장하고 싶은데 저렇게 코드를 짜니 작동을 안하네요!': 11049, \" Javatobubble's value에 empty로 들어가 있으시단 말씀이시죵??\": 11052, \" Current cell's index는 어떤 경우에 사용하게 될까요??\": 11058, ' 혹시 근데 저게 javatobubble이 아니라, HTML에서 <script>로 변수를 불러온 상황인데 이럴 경우에는 버블 DB에 저장이 안될까요.?': 11060, ' 문제는 이벤트가 posy message listener라서요 ㅜㅜ 이럼 어떻게 처리해야할까요 이게 자바스크립트에서만 감지가 돼서요': 11062, ' 사진 안녕하세요! 1. 특정 모임을 정의하고 (일명 이벤트) 2. 그 안에 큐레이션 할 모임들을 넣어놓았는데요! 사진 여기 특정 모임 안에 있는 큐레이션 모임들을 차례대로 나열하고 싶은데 방법이 있을까요~?지금까지 한 바로는 each item 이라고 해서 그냥 한번에 풀어놓는 방식밖에는 안되더라고요! ㅜ 앗 해결하였습니다! ㅎㅎ 사진 type of content를 그 배열에 맞게 주면 되는군요!': 11063, ' 안녕하세요! 버블 툴 공부하다가 궁금한게 생겨서 여쭤봅니다~Bdk 라고 Bubble로 네이티브 앱을 만드는 sdk 비슷한게 있던데 이것은 기존에 웹 bubble을 네이티브 앱으로 바꿔주는건가요?': 11071, ' 안녕하세요, 질문이 하나 있습니다.회원 탈퇴 기능을 넣고 싶은데, Data(Things) > Delete thing > Current user를 하면 되는 걸까요? Account에서는 Log the user out 밖에 없어서요': 11076, ' 유저를 삭제하는 것도 되겠지만, 탈퇴라고 하더라도 db에서 바로 삭제하는 것보다는 보통은 비활성화 기간을 두기도 합니다. 이럴 경우는 삭제가 아니라 User 필드에 비활성화 on/off를 넣어서 비활성화 on인 경우 로그인이 안되도록 하는방법은 어떨까요?': 11077, ' 안녕하세요. 혹시 버블에서 아코디언 메뉴는 어떻게 만드시나요? (대분류를 클릭하면 중분류가 나오고 중분류를 클릭하면 소분류가 나오는 메뉴 )별도 플러그인도 있는지 문의드립니다. 검색해도 안나오네요^^;;': 11081, ' 안녕하세요! 혹시 버블 버튼안에 글자체는 따로 설정할 수 없나용~? 찾아보니 잘 못찾겠네욤..ㅜ 아 질문이 잘못되었네요! 글자체는 바꿀 수 있는데 스타일대로 설정한 component로 바로 설정이 안되어서요! 사진 텍스트 박스는 이렇게 잘 나오는데 사진 버튼안에서는 안나오네요 수동으로 설정해야하는게 최선인지 궁금합니다! 혹시 다른 분들은 이런 경우 없으셨을까요~? ㅎ 지금 알아본바로는 글자체도 설정하듯이 저 버튼 자체도(안에 들어가는 글자체 포함) Element Style에서 자체적으로 설정을 해야하는 것 같습니다 :)': 11088, ' 아하그렇군요ㅎ 사진 @하희철 / 기획, 마케팅, 노코드 희철님 혹시 이 마우스 커서 모양은 플러그인을 사용해서 변경하신걸까요~?': 11090, ' 혹시 어떨 때 오류가 발생하나요?': 11095, ' 특정 컨텐츠의 열람수를 보여주려 하는데요. 클릭시마다 +1을 해주는 편이 좋을까요? 열람한 사용자를 추가해 카운터로 세는게 낳을까요? 조언 부탁드립니다.': 11099, ' 열람수를 열람수를 보여주려는 의도가 혹시 무엇일까요~?': 11100, ' 사진 안녕하세요! Button 컴포넌트를 만들었는데요 이 안에 글자를 실제 컴포넌트 사용때 그 화면 종류에 따라 제가 다르게 설정하고 싶은데 혹시 아시는 분 계실까요!?': 11106, ' 같은 화면에 같은 버튼들이 다양하게 들어가서요! 혹시 다른 방법도 있을까요! ㅎㅎ': 11108, \" 안녕하세요 :)회원 등급에 따라서 버튼을 보이기도 하고 안보이기도하게 만들고 싶습니다.이것을 구현하기 이전 단계도 질문드립니다.회원등급 분류를 어떤식으로 분류하면 좋을까요?옵션센으로 할까 하다가, Bubble Docs에 보니 옵션셋은 '암호화되지 않았고, 중요한 정보를 포함하면 안된다', '개인 정보 보호 규칙에 의해 보호되지 않는다'라고 되어있어서요 ㅠㅠ\": 11109, ' 버블로 만들고 앱 패키징해서 어플 올려보신분 계신가요?? 혹시 하셨다면 어떻게 하셨나요??': 11115, ' 무료로도 가능한가요??': 11118, ' 개발버전으로 덮어 씌우기 하는건가요?': 11126, ' 혹시 워크플로우 있는 엘리먼트 클릭 후  에디터 워크플로우 클릭하면... 마지막 워크플로우가 계속 나타나는데해결방법 아시는 분 계신가요??': 11129, ' 마지막 워크플로우가 계속 나타난다는 뜻이 좀 어려운데 혹시 캡쳐할 수 있으세요?': 11130, \" 사진 구매한 상품인 경우 특정 섹션의 노출여부를 설정해줘야 하는데 컨디셔널 설정을 어떻게 해야 하는지 도움 요청드려요. When 에 어떤 의미로 작성해야 하는지요?  '사용자가 이 페이지(상품)를 구매한 내역이 있다면 보여줘라' 라고 하면 될 것 같은데 작성 부분에서 막혀 있습니다.\": 11134, ' 안녕하세요! 버블에서 서비스를 관리할 수 있는 관리자 계정을 만드려고 합니다!그런데 버블 DB 자체가 회원가입하는 로직이 정해진 User 필드 한군데만 가입이 가능한 것 같더라고요! password 암호화라든지 이런 것들이요!혹시 할 수 있는 방법이 있을까요~?': 11139, ' 아! Yes/No 로 만들었는데 이걸 말씀하시는걸까요~? ㅎ그리고 하나만 여쭙자면 회원가입이 정상적으로 완료되면(DB에 정상적으로 추가)추가 로직을 만들고 싶은데(일명 얼러트 방식의 안내방식)일일히 디비를 체크하는 로직으로 진행해야할까요 아니면 다른 방법이 있을까요~?ㅎ': 11143, ' 옵션셋 필드는 혹시 어떤것일까요~? 현재는 그냥 텍스트로 만들어서 인식하고 있거든요!': 11145, ' 워크플로우를 줄이기 위해 최적화 작업을 한다고 한다면옵션셋을 활용하는게 DB로 구축해놓은걸 Do a Search for 하는것 보다 경제적일까요??': 11152, ' @배문형 / 프리랜스 님 혹시 회원가입이나 기타 디비가 성공적으로 추가 변경 등이 되었을때 true 값을 어떤식으로 알아내시나요~? true, false 값에 따라 사용자에게 기타 안내나 로직을 추가적으로 구현할 예정이라서요! 일일히 다시 do search 를 해야할까 의문입니다!': 11154, ' 뭔가 잘 안돼서 조금 찾아보니 더 자세한 내용이 여기 담겨있으니 참고하실 분들 한번 보셔요! ㅎㅎ 사진 버블 공식 홈페이지에서는 여기 얼러트 메시지 설정하는 기능이 있는데 안보이더라고요 혹시 어디있는지 아시는 분 계실까요~!': 11161, ' 인스타그램피드같은 페이지를 만들었는데User DB에 text list 필드로 차량번호를 하나하나 저장시키는데Repeating Group 안에 Group 한 장, Group 여러 장, Group 동영상을 만들어서 그룹별로 인풋박스에서 차량번호를 입력시켜서 해당 번호를 포함하고있는 유저만 관리자 한명이 올리는 게시물이 보이도록 하고싶은데 알고리즘을 어떻게짜야할까요..': 11166, ' 사진 리피팅그룹에 사진처럼 사용자 그룹별로 볼수있고 없고를 지정할수 있을까요? 조건식으로 안될것 같아서 질문 드립니다 리피팅그룹을 몇개 겹치면 의도한게 아닌게 되는지라;;': 11167, ' 혹시 사진처럼 가능 할까요? 사진 사진': 11169, ' 안녕하세요 혹시 dev 데이터에 들어가던 워크플로우를 live 데이터에 들어가도록 강제로 변경시킬 수 있을까요?': 11170, ' live버전에 접속할때 index page말고다른 page로 접속하게 설정 가능 할까요?이걸 모르고 main page를 따로 만들었는데요;;': 11196, ' 공지사항처럼Popup 페이지 접속하면 항상 뜨게하려면조건을 설정방법이 있나요?  - 프로퍼티 변경에 보여지게 하는 항목이 안 보여서요': 11199, ' 페이지 로딩시?로 안될까요?? 사진': 11200, ' 논리상은 될거같은데 어떻게 안될까요? A에 업데이트 여부 조건은 뒤에 따로 있으시겠죠? 저같은 경우는팝업 하나에 버튼 4종류에 따라 메일이 나가는데여기에 회원 비회원 따로 있어도앞에 결과스텝별로 메일을 잘 보내고 있습니다 숨어있는 조건이나 스테터스 값이 있진 않으신지요? 저도 복잡하게 짜니까 놓치더라구요': 11206, ' 네이티브 앱 기능으로 카메라 켜는 워크플로우 실행하셔야할거에요 네이티브 앱 어디거 쓰고계신가요? 아 네이티브가 아니고 저 external website로 전화걸기랑 앱설치가 된다는 말씀이시군요': 11238, ' 사진 촬영한걸 바로 올리는건 불가능 한거죠? 아님 플러그인이 있으려나요? 찾아봐야겠네요': 11245, ' 사진 버블에 로그인하면 이런 게 뜨는데 어떻게 하면 안 뜨게 할 수 있을까요!?': 11251, ' 안녕들하십니까?지금 live에서는 리피팅그룹안에 데이터가 안뜨는 현상을 겪고 있는데요dev에서는 프리뷰로 확인 했을때 잘 되고요데이터 다 빼고 테스트로 텍스트만 넣었는데도 아예 먹통이네요혹시 비슷한일 겪으신분 계실까요?': 11254, \" 홍길동이가 올린 N개의 상품에 각각 달린 리뷰들을 최근 순으로 한번에 나열함에 있어, 리피팅그룹의 타입을 '상품'으로 해야 하나요? '리뷰'로 해야 하나요? 뭔가 놓치고 있는 것 같긴한데.. ㅠㅜ\": 11260, \" 조언 주신 바 해결하였습니다. ^^ 상품 is in Do a search for 에서 'is in' 을 '=' 로 줄곧 해서 안되었네요. 이 둘은 어떤 경우에 달리 쓰는 걸까요?\": 11266, ' 아 제가 이게 업무폰이라 주말에 확인을 못했습니다 ㅠㅠ 다른날짜면 가능하신가요?': 11276, ' 다음 action이 어떤걸 말씀하는걸까요?.?': 11278, ' 배워도 배워도 끝이 없네요감사합니다 혹시 디비에출력되는 date도 커스텀이 되나요?yy/mm/dd/hh/mm/ss로 아님 모든 시간을 다 ㅡㅡ': 11291, ' 문형님 질문하나 드려도 될까요? 날짜 포맷 나온김에^^ 입력시에도 포맷 조정이 되나요?yyyy/mm/dd하고 싶은데 아직 미숙해서인지안 되는건지 가부라도 알려주시면 감사하겠습니다~': 11293, ' 음... 어직 이해를 못하고 있어요 ㅋㅋ datetime picker라는 엘리먼트를 이용하면 된다는 뜻이죠?': 11299, ' 그니깐 인풋 아웃풋의 포멧은 커스텀이 가능하나디비에 저장되는건': 11300, ' 날짜 입력을 어떤 엘리먼트로 하세요..? date/time picker로 하시지 않나요': 11301, ' pc에서 보기 편한(보편적인) 페이지 크기가 어떻게 될까요버블 기본페이지가 1080 767로 나와있어서 그냥 거기에 작업하다 문득!': 11328, ' 감사합니다 잘 볼게요 워크플로우 한줄로 생성된 데이터들은created date가 같은건가요?필터넣을때created date=current cell’s0000’s creation date로 써도 될까요?': 11351, ' 아… 입력은 쉬운데 삭제가 어렵네요엔트리 한줄 지울때 delete thing로 지우는건 맞나요?': 11353, ' 622에 설정하고 Preview 해보셔도 그런가요??': 11365, ' 아 제가 놓쳤던 border가 있었네요… 찾아서 수정하니 작동이 잘 됩니다 감사합니다 희철님! 사진 휴 질문이 많네요..ㄷㄷ리피팅 그룹에서 A에서의 배열이나 조정은 가능한데B를 조정하기 위한 방법들이 있을까요~?': 11369, ' 노코드 교육 자료를 찾고있는데 보통 어디 참고해서 스터디하시나요? 아 버블이요! 유데미에 강의있던데 그런거보시는지 궁금합니다': 11374, ' 사진 혹시 현재 DB가 저만 이런 문제가 있을까요~? 업데이트가 안되네요?': 11391, ' 오잉 그룹이 된건가요?': 11397, ' 맞나요ㅡ ??': 11400, ' 토스 페이먼츠 플러그인으로 구현하면 안되나요?': 11413, ' 맞습니다 ㅎㅎ 구현이 될까요..?': 11422, ' DB 한번에 초기화 하는 기능이 있을까요??': 11423, ' 디비 삭제말씀하시는걸까요?': 11424, ' 네50개씩 삭제하고 있는데한방에 되는 기능이 있나해서요': 11425, ' 와우…잘됩니다..휴 감사합니다.. 다들 버블 테스트 버전의 사이트는 아무나 못들어오게 어떻게 설정하시나요~?': 11435, ' 혹시 애플 소셜 로그인 구현해보신분 계신가요?패키징해서 앱스토어에 올리려면 애플 소셜로그인이 필요하다고해서요': 11438, ' 문형님 원피스 보시나여': 11444, ' 안녕하세요 혹시 버블이랑 카카오톡 채널 메세지 연동이 가능한가요?': 11451, ' 아 혹시 어떤거 쓰시나요? 연동이 쉽고 빠른게 어떤게 있나요?': 11453, ' 그럼 알림톡 서비스를 이용하면 더 드는건가요?': 11457, ' DB초기화 같은 API 워크플로우 반복도프론트가 반드시 끼어야 하나요?': 11466, ' 어흠...알아볼 수 있게 적어주셔야.. API 워크플로우를 활성화시키셨나요?': 11475, ' 1시간이 3600초니까': 11489, ' 버블 고수님들 질문있습니다. 혹시 Index 페이지의 페이지 이름(?)을 어떻게 설정하나요...? ㅠㅠ 다른 페이지는 바꼈는데, Index 페이지만 bubble No-code apps 라고 그대로 나오네요 ㅠㅠ 사진': 11494, ' 안녕하세요~column그룹안에 A/B를 넣고 컨디션설정으로 두개의 위치를 바꿔볼까 해봤더니 안되는것 같은데요혹시 사진의 A,B그룹의 위치교환을 할수있는 방법이 있을까요? 사진': 11500, ' custom state 데이터 들어간거 지우려고 set state velue 입력 안하는게 먹히기는 하는데 안좋은 방법일까요?': 11512, ' 버블에 자피어 플러그인 설치하시고 API탭에서 데이터 접근 권한 열어 두셨나요?': 11514, ' 네 맞습니다 . 혹시 플러그인 연결 부분에서 활성화가 되지 않았는데 이부분 부터 해결해야 하는 걸까요 ? 또한 말씀 해주신 백엔드 API 오픈 << 이부분이 궁금합니다 . 답변 너무 감사드립니다 .': 11517, ' 혹시 프라이버시 룰에서? 0으로 나오면 잡히는게 없다는 뜻인데 자피어 세팅은 혹시 어떻게 하셨나요?': 11520, ' ㅠㅠ 너무 감사합니다 . 새 잽을 만들라는 말씀이 제피어 사이트에서의 잽 추가를 말씀 하시는 걸까요 ???': 11523, ' 아... 혹시 버블에서 잽으로 받아오는 데이터가 어떤 필드로 구성되어 있나요? 갑자기 생각난건데 잽이 버블의 데이터 타입을 제대로 인식 못하는 경우가 있습니다. 가령 드롭다운, 멀티 인풋으로 입력한 값이라던가 무료 버전에서는 아마 1개인가 2개까지만 연결 될겁니다.': 11526, ' 혹시 field 가 한글로 되어있나요 한글이면 안불러와지더라구요 data type명이나 field 명 체크해보세요!': 11532, ' 사진 사진 이동하고자 하는 페이지에 type of content 를 chat(list of user) 으로 해둔 상태로 go to page 를 할 때, data to send 에 들어가는 값이 반드시 있어야 하나요? 빈값(chat 목록중 어느 하나도 선택하지 않은)으로 가려면 어떻게 해야 할까요?': 11539, ' 버블의 Type으로 등로갛면 안되나요..? *등록하면': 11559, ' 아 제가 잘 이해를 못하였는데 어떤말씀이실까요~? option이라는 기능 말고 type이라는 것도 있을까요?': 11560, ' 혹시 플러그인 설치하신거 있으신가요??': 11570, ' 오 어떻게 해결하셨나요? 문제가 뭐였는지 궁금합니다': 11575, ' 안녕하세요 버블완전 초짜인 사람입니다. 갑자기 모든 엘리멘트들이 이동되지 않는 현상이 있는데 왜 그러는건지 아시는 분 있으실까요?': 11584, ' 혹시 해결되셨나요~? 안녕하세요~ 혹시 버블 border를 outline 으로 할 수 있는 방법이 있을까요~? 디자이너 분이 결과물을 주시는데 figma에서는 outline이 되어서 px이 딱 맞는데 버블에서 맞출때는 inline으로 하다보니 간격이 다소 안맞는 부분이 발생하더라고요!': 11587, ' 혹시 버블페이지에서 메일발송 성공하신건가요? 사진에 보이길래요': 11589, ' 나중에 질문좀 하겠습니다!안운하세요 안녕하세요~드롭다운(옵션셋)으로 사진의 이름을 정해서 사진을 저장하고 있는데요사진의 이름을 이미 사용중이면 팝업을 띄워서 사용 못하게 하려고 합니다 이럴때 어디에 필터를 걸어줘야 할까요지금 한시간째 이거 붙잡고 있는데 다른데에 필터를 걸어줘야 할까요? 사진': 11595, ' 각 콘텐츠마다 환불정책에 스크롤의 pixel 위치가 매번 다른데 어떻게 인식해서 그 높이일때 스테이션을 변경해줘야 할까요~? 스테이션 x 스테이트o 😅': 11602, ' 혹시 sand email로 파일 list로 전송 안될까요? 하나씩은 보내지는데 두장 이상되면 전송이 안되네요 용량은 1mb미만입니다': 11606, ' 안녕하세요 . 화면에 보여주는 DATA를 Repeating Grop 을 통해서 DB 에서의 정보를 가져와서 보여주고 있습니다 .   보여주는 데이터 리스트에 대한 정보를 정렬해서 보여주고 싶은데 데이터의 타입이 오브젝트? 인 경우 에는 정렬 컬럼으로 사용할수 없을까요 ???': 11610, ' 데이터 타입이 정확히 뭔가요?': 11611, ' 안녕하세요 혹시 모바일에서 들어가게되면 왜 설정해놓은 모바일 사이즈가 아닌 데탑의 큰 사이즈로 보이는걸까요~?': 11614, ' 사진 안녕하세요 버블 왕초보입니다.소개팅앱 간단하게 클론해보고 있는데 질문사항 있어서 올려봅니다…ㅠㅠㅠ리피팅 그룹안에 있는 text에 “자기소개”의 데이터를 삽입하고 싶습니다.사진은 제가 만든 App data입니다.1. 자기소개의 데이터를 삽입하려면리피팅 그룹 속성의 Type of content와 Data source는어떻게 설정해야할까요?2. 자기소개의 데이터를 삽입하려면 Text의 dynamic data는 어떻게 설정해야할까요? 사진': 11615, ' 버블에서 PASS인증 적용해보신 분 계신가요?PASS 사용할려면 고정IP가 필요한 것 같은데... 커스텀 요금제 써서 유료로 부여 받으셨나요?': 11617, ' 고수님들! 간단한 질문 하나 드립니다..! 혹시 현재 열린 탭을 종료하는 workflow가 있을까요????? popup이 아니라 페이지 종료요': 11619, ' ios로 패키징하여 앱스토어에 심사통과하신분들 계신가요': 11620, ' 혹시... 요거 아시는분 ㅠㅠ': 11623, ' 사진 2장 데이터 저장후 인풋 리셋 시키는건 되는데요사진처럼 인풋 내용을 직접 지우는건 어떻게 해야 하나요;;': 11625, ' 사진 2장 안녕하세요~ 진행중인 모임을 이렇게 나열해서 보여주고 있는데요~아직 진행 전인건 검은 막을 opacity 흐리게 줘서 준비중이라고 표현하고 싶은데 z-index 같이 이런 기능을 줄 수 있는 게 찾아봐도 없더라고요 검은 막을 쒸워도 이미가 저렇게 나오고요! 혹시 해결할 수 있는 방안이 있을까요~?': 11641, ' 안녕하세요, 질문 있습니다!혹시 싱크트리는 버블과 연동해서 쓰면 좋은 점들이 무엇이 있나요? 싱크트리조차 무엇인지 잘 몰라서요 퓨': 11642, ' gathering box의 container layout은 column으로 되어 있나요?': 11647, ' 안녕하세요 혹시 버블에서는 구글맵 말고 다른건 사용 못하나요?': 11658, ' 클릭 시 value 값을 임의로 설정하는 것은 가능합니다만.. 어떤게 안되시는걸까요': 11661, ' 오잉 뭐지..': 11668, ' 안녕하세요 혹시 버블로 실시간 시간대별 예약기능 구현해보신분계실까요?': 11674, ' 버블이 끊기는건지 인터넷이 비와서 끊기는건지를 모르겠네요 다들 버블 잘 되시나요?': 11681, ' ddd, m/dd/yy, mmmm (mmm) dS, yyyy, h:MM tt, HH:MM:ss.L혹시 버블에서 요런 타임 형식으로 나타내려면 어떻게 해야하나요…ㅜ9/9 (토) 10:00 AM': 11686, ' 안녕하세요!에디터에 그룹을 만들었는데 그룹의 컨테이너 레이아웃을 설정할 수 없다고 나옵니다왜이러는지 아시는 분 있나요? 사진': 11692, ' 혹시 리스트 타입도 존재하는지 존재하지 않는지 확인 하는 방법이 있을까요 ?': 11702, ' 페이지나 엘리먼트에 적용된 워크플로우나 컨디션 데이터 같은걸 다시 읽게 하는 방법이 있을까요?데이터 저장/삭제가 온라인 상으로 되다보니 딜레이가 생기면 약간 랙?같은게 생겨서 지워져서 있지도 않은 데이터 있다고 나오고 그러네요refresh the page는 페이지 이동 경로상 쓸수가 없는 상황이에요': 11703, ' 안녕하세요 버블 고수님들! 버블 데이터베이스 export기능은 한글 깨짐 현상이 발생하는데요...혹시 데이터를 한글 깨짐 없이 다운로드 하는 방법이 있을까요!?!?!': 11705, ' [질문]유저의 데이터 field의 특정 값을 매달 0으로 초기화 해줘야 하는데요,이때마다 backend workflow를 이용해서 loop으로 한명한명 이터레이션 돌려가며 0으로 바꿔줍니다. 이런 방식 말고 아예 일괄적으로 모든 유저의 특정 값을 0으로 만드는 좋은 방식이 있을까요?': 11709, '  안녕하세요 . 데이터를 2023.06.31 ~ 2023.07.31 이런식으로 date range 타입을 이용하여 저장해보고 싶은데 어떤식으로 값을 넘겨야할까요 ?': 11722, ' 사진 2장 안녕하세요! 모바일 화면에서 구현중인데요!클릭하면 해당 페이지로 이동할 수 있도록 했는데 왜 안먹힐까요..ㄷㄷ': 11724, ' pc에서는 잘되는데 어떤 문제인지.. 모르겠습니다': 11728, ' 이동자체가 안되는 거세요?': 11729, ' 사진 그 혹시 지금 페이지를 복사해서 쓰신거면 기본적으로 mobile version인가 여기에 지금 페이지로 되어있을 수도 있는데 이 문제는 아닌가여': 11731, ' 도달한 페이지의 정보 보여주실수있나여': 11733, ' Go to page로 이동할 페이지 정보요': 11735, ' 사진 여기서 어떤 정보를 보여드려야할까요 사진': 11741, ' 클릭이 안되신다면 해당 클릭이 되야하는 그룹의 부모그룹에 다른 클릭 워크플로우가 설정된건 아닌지 확인해보세요~': 11743, ' 맨 아래를 클릭해야할까요? 부모라면 저번에 설명해주셨었는데1. 2  3 3번이 최상위인가요?': 11744, ' 하하 감사합니다 :) 사진 혹시 요렇게 넘어가는 창을 전체 스크롤이 아닌 해당 부분만 스크롤로 대처할 수 잇는 방법이 있을까요~? 좌우 스크롤이요!': 11752, ' 안녕하세요 . 혹시 카카오 비지니스 챗봇 연결해보신분 있으실까요 ?': 11754, ' 사진 안녕하세요, 혹시 버블에서 기본으로 제공되는 도메인은 원래 없을까요?': 11756, ' 안녕하세요~ 버블에서 픽셀 그리드 보기가 있나요? 디자인하기가 너무 어려워서요 ㅠㅠ': 11761, ' 안녕하세요. 왕초보자입니다. 리피팅 그룹을 따라 만들어보고 있는데 저는 스크롤에 대한 설정이 나오지 않아서 당황하는 중입니다. 리피팅 그룹에 스크롤 관련된 설정들이 어디 있는걸까요...? 사진': 11763, ' 지금은 1*4로. 리피팅 그룹이 고정된 상태시네요 가로 스크롤을 구현하려고 하시는건가요?': 11766, ' 안녕하세요live로 로그인시 중복으로 로그인 가능한게 맞나요?': 11771, ' 안녕하세요 . 이미 User DB에 가입한 이메일이 있는경우에 같은 이메일로 가입하는 상황을 방지하는 기능을 구현하고자 합니다 . 조건식에 Search for 를 통해서 User 테이블에 저장되어 있는 이메일 목록들 texts 타입을 가져왔을때 text 타입과 비교하는 방법이 있을까요 ?': 11772, ' 감사합니다 . email 로 타입을 지정할시에 말씀하시는 걸까요? 중복 아이디에 경우에는 처리 방법이 있을까요 ?': 11774, ' 감사합니다~! 이메일은 타입만 바꾸면 저절로 막히는 부분이군요 혹시 버블에 반복문 처럼 list의 필드를 하나씩 비교할수는 없을까요 ? last ,first item 을 제외하고 ??': 11776, ' list의 필드를 하나의 값과 피교하고 싶으신 걸까요? 비교': 11779, ' 요즘 버블 ownership transfer 은 growth plan으로 업그레이드 해야지만 가능한건가요 ?': 11786, ' 버블도 버전이 있나요? 최신버전 자동업데이트 되나요?': 11805, ' 감사합니다. 안녕하세요.  로그인을 구현하던 도중에 이메일의 경우 중복된 이메일 사용을 방지하기 위해서 버블에서 자동으로 설정을 해주는것 같은데 알럿창? 에 표시된 이후로 동작을 안하는 문제를 겪고 있습니다. 알럿창에 대한 수정과 알럿창 이후에 회원가입 동작을 수행할수있는 방법이 있을까요?': 11816, ' 확인.누르면 얼러트 하이드 기능이 잏을텐데요?!': 11819, ' 해결되셨나요?': 14188, ' 윈도우이신가요~? 맥이신가요~?': 11828, ' 상단의 화살표 누르면 된다는 말씀이신가요? 사진 이 빨간 버튼이요': 11831, ' 모집이 종료됐다는데, 관심있습니다. 혹시 어떻게 신청할수있을까요?': 11845, ' 사진 안녕하세요! 버블에서 엔터 먹을려면 어떻게 해야할까요! bbcode 적용되도록 해놓았는데 안먹혀서요! ㅜ': 11852, ' 사진 is 를 바로 쓸수가 없네요 여기서 contains 를 써야할까요 ?': 11865, ' 혹시 버블로 개발된 웹과,코드로 제작된 웹의 회원데이터 연동이 가능할까요?예를 들어,코드로 작성된 disquiet.io를 운영하다가실험적인 기능들을 런칭하기 위해 버블을 이용해 웹페이지 A를 제작했다면1. 두 페이지 모두 동일한 계정으로 로그인이 가능할까요?2. disquiet.io에서 링크를 통해 웹페이지 A로 넘어갈 때 별도 로그인 없이 하나의 사이트처럼 연결이 가능할까요?': 11869, ' 안녕하세요 . 혹시 오전 12시를 버블에서 어떻게 표현할수 있을지 질문 드립니다 . 사진 시도한 표시법은 위와 같은데 다른 방법이 있을까요 ?': 11872, \" 제가 실수를.. 그룹안에 캘린더를 넣었고, 일마다 당일 건 수의 합을 넣어 표현하고자 합니다. 사진 캘린더를 쓰고 있는데요. 저것을 갯수로 나오게 하려면 어떻게 해야할가요? 29일에는 '1건', 2일에는 '9건'으로 표시하고 싶습니다. 어떻게 해야 할지 조언 부탁드립니다. 사진 저 다음에 어떻게 해야할까요?\": 11878, ' 캘린더는 플러그인을 쓰시는건가요?': 11879, ' count를 써보셨나요/?': 11881, ' 안녕하세요 . 혹시 데이터 베이스에 number 타입으로 저장되어 있는 데이터를 밤 12시 기준으로 0으로 리셋하는 기능을 어떤식으로 만들어야 할까요 ?': 11887, ' 외주제작사 많습니다 여기도 계세요': 11898, ' 사진 안녕하세요! 혹시 버블에서 1. repeat 그룹의 2. sort를 3. DB에 쌓은 시간 데이터 date range 를 통해 4. 시작이나 종료 순으로 나열할 수 있는 방법이 있을까요~? sort 메뉴를 보면 시간에 대한 정렬 메뉴가 애초에 없는 것 같아서요!': 11900, ' 혹시 트리거 하나로 when설정해서 각기 다른 결과를 낼수 있을까요?오전부터 해보는데 안되네요하나의 list field에 데이터를 상황에 맞게 넣으려고 합니다아님 좋은 방법 있을까요?ㅎㅎ 사진 사진': 11903, ' 디버그모드로 확인해보셨을까요?': 11908, ' @정용준 / Litmers 님 안녕하세요! 뭐 하나만 여쭤봐도 될까요~ ㅎㅎ': 11911, ' 저 아는 분이 버블 1년치 플랜을 실수로 결제했는데, 이런 경우에 버블 환불 받아보신 분 있으실까요..?': 11916, ' 안녕하세요. 혹시 버블의 조건에 (조건1 +조건 2) or (조건 3+조건 4) 이런식으로 표현이 가능할까요?': 11918, ' 사진 안녕하세요 고수님들께 질문드립니다.현재 제가 GPT를 버블 API플러그인으로 연결해서 챗봇을 만들고 있는데요,GPT가 답변해준 내용을 Customstate에 저장하고 텍스트에 다이나믹데이터로 넣고 있습니다.근데 여기서 문제는GPT에서 \\\\n\\\\n(줄바꿈) 두개를 포함해서 답변을 뱉고 있는데\\\\n\\\\n줄바꿈을 버블 내에서 없앨 수 있는 방법이 있을까요??': 11923, ' 안녕하세요. 혹시 유튜브에서 윗아웃코드로 버블 공부하시는 분이 계신가요? 이 분 홈페이지 접속하려고 하면 계속 위험하다고 뜨고 접속이 안 되는데 어떻게 해야 하는지 아시는 분 계신가요': 11924, ' 1 부터 10까지 구분은 어떻게 하나요? 리피팅 그룹으로 인풋만들고 각각의 데이터를 받을 수 는 있을거 같습니다.': 11930, ' 이 방법이 있을까 해서요;;텍스트를 쪼개고 그 쪼갠걸 어떤식으로 나눠서 저장하는;;;': 11931, ' 조금만 더 풀어서 설명해 주실수 있으신가요? regex도 처음 보는 단어라서요gpt가Regex는 \"정규 표현식\"의 줄임말로, 문자열 패턴을 검색, 추출 또는 대체하는 데 사용되는 강력한 도구입니다. 정규 표현식은 특정 문자열 패턴을 정의하는데 사용되며, 텍스트 데이터를 처리하고 조작하는데 유용합니다. 예를 들어, 이메일 주소, 전화번호, 날짜, URL 등과 같은 특정 형식을 가진 문자열을 찾거나 변경할 때 정규 표현식을 사용할 수 있습니다. 이것은 많은 프로그래밍 언어와 텍스트 편집기에서 지원됩니다.라고 하네요 어느단에 정규식을 써야 할까요': 11933, ' 혹시 버블로 개발된 웹과,이미 코드로 제작된 웹의 연동이 가능할까요?예를 들어,코드로 작성된 disquiet.io를 운영하다가실험적인 기능들을 빠르게 런칭하기 위해 버블을 이용해 웹페이지 A를 제작했다면1. 두 페이지 모두 동일한 계정으로 로그인이 가능할까요?2. disquiet.io에서 링크를 통해 웹페이지 A로 넘어갈 때 별도 로그인 없이 하나의 사이트처럼 연결이 가능할까요?': 11935, ' 예약 취소에 첫 워크플로우의 주문의 id를 넣어도 그럴까요?': 11942, ' 페이먼트키가 제대로 안들어가서 그런거 같네요 ㅎㅎㅎ 혹시 어떤 영상이나 블로그 보고 하셨나요?': 11946, ' 결제 할때 페이먼트키를 어떻게 넣어주시나요? 그걸 취소할때 페이먼트키로 넣어주셔야할거 같다는 생각인데 영상 보시면 확인가능할거 같습니다! 화이팅하세용!': 11950, ' 저도 질문이 또 있는데.. A에서 B페이지로 데이터를 보내려면 어떻게 해야할까요?목록->상세보기처럼 매우 간단한 기능이긴한데.. 저는 B페이지로 이동하지 않으면서 데이터만 보내고 싶은데 그건 어떻게 해야할지 잘 모르겠습니다 😢 url parameter를 쓰려고 해도 이동하게 되어버려서요 ㅠ': 11953, \" 안녕하세요 버블 고수님들 혹시 'CSV UTF-8' 이라는 플러그인 써보신 분 계신가요??이 플러그인 활용해서 데이터를 CSV 다운로드 하려고 할 때 null 값이 있으면 다운로드가 안 되나요? ㅠㅠ\": 11957, ' 데이터중에 null값이 있다는 말씀이신가요?': 11958, ' 버블에서 데이터 빈값을 null이라는 값이 들어가게 처리하거나 띄어쓰기를 통해 비어있지만 값이 있게 처리하는 방법으로 해결하면 되지않을까요? 데이터만 보내려는 이유가 무엇인가요?': 11960, ' 임시 DB를 만들어서 저장하고 widget success 페이지로드시 저장 DB사용 후 삭제하면 안되나요?widget success 페이지로 보내고 싶은 특정 데이터가 무엇일까요? 다양한 방법으로 가능할거 같아서 구체적으로 문제상황을 알아야할거 같습니다. 쉽게 생각했을때 데이터를 보내는 방법이 있지만 다른 방법으로도 해결이 가능할거 같아서요.': 11964, ' 가게 디테일에서 결제버튼 누르면 결제 페이지로 이동되며 거기서 주문 DB에 주문받은 가게를 채우려고 하시는거 맞을까요?': 11968, ' 주문받은 가게는 어디서 list형식으로 저장되나요?': 11970, ' 싱크트리 어디서 공부해야할까요': 11977, ' 감사합니다 혹시 디스코드봇 같이 상시 대기하는 형태의 백엔드도 구축이 가능할까요?': 11979, ' 자유입니다ㅎ 제가 개발자가 아니라 자세한 답변은 힘듭니다만 상시 대기하는 형태의 백엔드는 어떤 내용인지요?ㅎ': 11981, ' 안녕하세요. 저도 질문이 있습니다. 버블 처음 공부하는 사람이라...버블로 웹 뿐 만 아니라 앱도 만들려고 하는데그러면 하이브리드앱인가요 웹앱인가요?': 11992, ' 답변감사합니다 어떻게 진행해야할까요?ㅠ': 11994, \" 안녕하세요 버블 고수님들! 회원관리 질문 있습니다.기존에 Airtable에 관리되고 있던 회원정보를 Bubble에서 'User'로 관리할 수 있나요?구체적으로 보면Softr로 만든 웹사이트의 회원 정보가 Airtable에 저장된 상태구요Bubble로 UI를 만들고 위 Airtable 데이터베이스를 연동했을 때,Bubble로 만든 웹에서 메일 인증만 해서 Airtable에 저장된 계정 정보를 'Current User' 값으로 불러올 수 있는지 궁금합니다!\": 11997, ' 안녕하세요 비밀번호 변경 페이지 만드는데 막혀서요workflow를 뭘 더 추가해야 할까요? 사진 사진': 12001, ' 안녕하세요? 버블 완전 초짜입니다. 용감하게 피그마를 버블에 연동해서 데이터를 쭉 받았는데요…페이지 이름만 몇백개가 연동되고 모두 빈 페이지로 나오고 있어요. 모바일인데 화면 설정도 PC로 흰 화면으로 나오네요. ㅠㅠ 이거 하나하나 다 지워야 할까요? 아니면 뭔가 리셋하고 다시 시작하는 것이 나은지, 조언 부탁드립니다.': 12018, ' 뭔가 버블 임포트를 위한 피그마디자인 규칙이 있을 법도 한데.. 어디 문서 없을까요': 12022, \" '홍길동'이가 로그인해야만 보는 페이지를, 사전에 허락된 '싱첨이'도 볼 수 있게 하려면 어떤 개념으로 구현할 수 있을까요?\": 12023, ' 감사합니다. 홍길동이가 사용한 내역들을 보는거니,, 데이터를 말한거라 할 수 있네요. 현재는 회원을 이어주는 데이터 필드를 만들면 되지 않을가 싶어 하고는 있는데,, 그룹은 생각지 못했네요. ^^ , 혹시 예시로 볼만한 동영상이 있을까요?': 12025, ' N명이 등록한 것들을 리피팅그룹에 날짜별로 표현하려면, A 머지 B 머지.. 이런 식으로 해야 하나요?': 12027, ' 리피팅그룹에 무엇을 날짜별로 띄우실 건가요?': 12028, ' 안녕하세요! 버블로 만든 앱이 구글 플레이 정책 \"앱이 Android 13(API 수준 33) 이상을 타겟팅해야 함\"에 위반되어 내려갔다가 현재 기한 연장을 해놓은 상태입니다.혹시 같은 문제 겪어보신 분 계실까요? api수준을 33으로 업데이트해야 한다는데 버블이나 bdk에서 뭔갈 바꿔야 하는 걸까요?': 12029, ' 제이쿼리가 임포트되나요..?': 12036, ' 안녕하세요. 제가 파이썬으로 만든 모델을 플러그인으로 만들어서 연동을 하려고 합니다. 혹시 플러그인을 제작할때 참고할만한 문서나 유튜브같은게 있을까요?': 12039, ' 안녕하세요, 유저들이 휴대폰 홈화면에 바로가기를 쉽게 추가할 수 있도록 특정조건(예를 들어 5분이상 사용시)에서 홈화면 바로가기 팝업창&버튼을 띄우고 싶은데 적절한 플러그인을 추천해주실 수 있을까요?유사한 플러그인이 많고 대부분 유료라서 오히려 무엇을 써야할지 모르겠네요..': 12040, ' 버블 앱 속도가 갑자기 느려진것 같은데 다른 분들 앱도 그런가요? 라이브 버전 로딩이 평소보다 1-2초 늦네요': 12041, ' 이게 무슨뜻인지 정확히 모르겠네요.ㅠ 조금 더 풀어서 만들고 싶은 기능에 대해 설명 가능할까요?': 12042, '  버블이 새로운 피쳐를 내놨는데 다들보셨나요? expression composer beta라고 하고 다이내믹 익스프레션을 쉽게 입력할수 있게 만들었습니다. 1.  and 로 연결된  두익스프레션 각각을 수정가능하게만듬2. 타이핑중에 다이나믹익스프레션 쓸수있도록 단축키 \"/\" 제공': 12043, ' 본사 서버를 따로 쓰시나요?': 12053, ' 어시스트 앱은 어떨까요?': 12058, ' 비전공자라서 기초적인 질문인데요, 플러그인과 api 차이점은 뭔가요?': 12066, ' 혹시 Rich text editor으로 게시글 업로드하는 기능 구현해보신분 있나요??Rich text editor으로 상품 소개글을 작성하고 text으로 저장해서 보여주려고 합니다. 근데, RTE에 포함된 텍스트는 조건을 걸어서 반응형으로 조작이 되는데 이미지는 크기 변경이 안되네요ㅠㅠ 혹시 방법 알고 계신분 있으실까요??': 12075, ' 안녕하세요Count로 \" 5개에서 10개 사이일 때 \"를 버블 수식으로 표현하고 싶은데 어떻게 하면 좋을까요?': 12079, ' 감사합니다 ㅜㅜ 사진 혹시 range라는? 이것도 사용해서 수식표현이 가능한건가요??': 12081, ' 근태관리시스템 (웹/앱) 혹시 버블로 만들어진 사이트 없을까요ㅜ?': 12088, ' custom font를 적용시켜서 데스크탑에서는 잘 되는데 모바일에서는 적용이 잘 안되는것 같습니다.. 버블 포럼을 찾아봐도 저랑 비슷한 문제를 겪는 분이 많이 있고 다들 해결하지 못한것 같은데 이 문제를 해결해보신문 계실까요..?': 12096, ' APP data 에 USER 항목에 이메일 안 넣으면 오류가 뜨는데 이거 혹시 입력안하고 데이터 넣을수 있게 할수는 없나요 ?': 12097, ' 피그마로 화면설계와 디자인이 정리되어 있습니다. 카톡을 어떻게 드리면 될까요? 1대1톡이요': 12102, ' 제톡 걸기가 혹시 안돼실까요~?': 12105, ' 혹시 DATA-modify가 정상적으로 수정 되시나요??저는 필드가 여러개인데 현재 1개만 뜨고 그마저도 modify버튼은 없고 close 버튼만 있어서요!한 번 봐주시면 감사하겠습니다 : ) 사진': 12108, ' 고수님들 안녕하세요!질문드리고싶은게 있습니다커스텀 폰트를 이용해서 원하는 폰트를 사용하고 있습니다.그런데, 삼성폰에서는 커스텀 폰트가 적용이 되지만애플에서는 이상한 폰트가 적용되는데 왜 그런지 알 수 있을까요 ㅠㅠ? 사진 2장 좌 : 아이폰우 : 삼성폰': 12110, ' custom font에 어떤 방식으로 하셨나요? css파일을 올리고 그 css는 웹에 연결되어 있으면 pc든 모바일이든 상관없이 적용됩니다. 가끔 특정 브라우저에서 강제로 폰트를 정한 경우는 안되지만요': 12112, ' 사진 안녕하세요! 이렇게 페이지네이션을 하는 게 워크로드를 줄이는 데 도움이 될까요?그리고 플러그인 사용 외에, 페이지네이션을 구현할 수 있는 방법이 있을지 궁금합니다!': 12116, ' 혹시 버블에도 환경변수 같은 기능이 있나요?': 12122, ' 저 참여하고 싶은데 ㅜ, 혹시 모임 참석 방법이 어떻게 될까요 ? !!': 12123, ' 환경변수라고 말씀하신다면, path 설정 같은 것을 의미하시나요? 버블은 Paas,( 플랫폼 as a 서비스)라서 플랫폼 위에서 실행되고 처리된다고 알고 있습니다.': 12125, ' 안녕하세요!여기계신 버블러분들은 서비스의 첫 페이지(index)를 어떤식으로 구성하시는지 궁금합니다.저같은 경우는 index에 로그인 페이지를 구현했는데, 어떤 분들은 홈 화면을 index로 두더라고요.서비스 구현하는데 아무 지장 없는거 같은데…일반적으로 어떤 페이지를 index에 두시는지 궁금하네요!': 12133, ' 혹시 버블 온라인 유료강의 FULL version 유명한곳 알고 계시는분 계신가요  ? 회사 업무에 사용할꺼라 돈 상관없이 빠르게 배우고 싶어서요..': 12134, ' 중개서비스 준비중인 대표님두 계신가요': 12138, ' 안녕하세요! 버블에서는 condition을 줄때 예를 들어 이럴 때 보인다 라는 형태의 경우이미 버블은 ui가 보여지기 때문에 어떨때 안보인다라는 반대적으로 해야 정상작동이 하더라고요!이게 너무 헷갈려서 혹시 어떨때만 보인다라는 방식으로 할 수 있는 방법이 있을까요~? 코딩같은 경우 if( 경우의수) { 보이는 코드 } else{나머지 경우의 수}이런 방식이 훨씬 편한 것 같은데 버블은 반대의 경우로 해야해서 너무 헷갈리네요..ㄷㄷ': 12147, ' 어라 어떻게 하나요?': 12149, ' 사진 설마 이건가요': 12151, ' 흑 감사합니다 🌟 사진 안녕하세요! 다음과 같이 링크도 제대로 넣고 했는데 어떤 이유에서인지 blank link 가 나오는데 이유를 알 수 있을까요~? db를 혹시 한 번 더 타고 들어가면 예를들어모임 -> 모임을 연 모임장 이렇게 두번을 탔는데 이게 문제가 될까요?': 12157, \" 안녕하세요~리피팅그룹에 데이터 뿌려줄때 current user's로 하면 sort조건은 못걸어 주는게 맞나요?혹시 다른 방법이 있나 해서 질문 드립니다\": 12162, ' 완전 생초짜, 질문 있습니다.인덱스에서 처음 작업할 때 최대 크기가 1080 이잖아요?1080으로 두고 작업 시작하는 게 맞나요?어떤 분은 화면 조정할 때 최대를 1024로 해야 한다는 분도 계셔서, 시작할 때 1024로 먼저 두고 작업 시작해야 하는지, 1080 그대로 해도 되는지 싶어서요': 12165, ' 혹시 wonderfulslider 플러그인 사용하시는분 있나요? 안드로이드에서는 손으로 확대축소가 되는데 아이폰은 안되서 방법이 있나 문의드립니다ㅠ': 12166, ' 안녕하세요15,453에서 반올림을 해 15,450으로 하고 싶은데 어떤 방법이 있을까요?': 12167, ' 이건 해보지 않았는데 리피팅그룹이 일자로 안나오신다는.건 어떤 질문이실까요~!?': 12174, ' 오 달력을 직접 만드는 작업이라니 ㅎㅎㅎ 디버그모드로 실제 숫자 값이 들어와있는지 확인해보시면 좋을거 같네요!': 12177, ' 감사합니다! 선배님들, 버블도 UV, PV,DU 등 데이터 분석이 가능할까요?': 12185, ' 당근마켓도 버블로 구현이 가능할까요?': 12190, ' 감사합니다!!! 버블 백엔드 작동법을 잘 몰라서요! 혹시 사이트 추천해줄 수 있을까요?': 12192, ' 혹시 피그마에서 버블로 ui 불러오면 계속 깨지거나 Ui pages를 다 못불러옵니다.왜인지 알 수 있을까요?': 12194, ' 안녕하세요시간이 늦어 실례지만,혹시 버블로 PWA로 전환을 진행할 때아이폰과 갤럭시 둘 다 원클릭으로 설치를 진행 할 수 있게끔 하는 방법이 있나요?': 12198, ' 선배님들, 혹시 버블 백엔드 구조가 잘 이해가안가는데 추천 강의가 있을까요?': 12201, ' 백엔드 구조라고 하시면 어떤걸 의미하는 걸까요? 백엔드 워크플로우를 사용하고 싶으신건지? 버블에서 백엔드 처리(워크플로우)에 대한 이해를 위한 것인지? 어떤 구조를 알고 싶으신건지 조금 더 명확하게 설명해주시면 감사하겠습니다~!': 12204, ' 고수님들 혹시 inpout 검색창을 사용시에 안드로이드는 괜찮은데 아이폰에서 검색창을 클릭하면 전체적인 화면이 커지고 줄어들지를 않던데 해결방법이 있을까요?^^;;': 12211, \" 이모티콘 버블 고수님들! expression 질문있습니다.혹시 'grouped by'로 엮은 다음 각 Group의 first item만 불러오도록 설정할 수 있을까요...?!?!?!? 혹은 Field 값 중 중복된 데이터를 제거하여 불러오는 방법이 있을까요? ㅠ!\": 12221, ' 버블로 성지플랫폼을 개발할까하는데요. 구글맵 API를 사용할려면 업그레이드를 해야할까요?': 12222, ' 스탭바이스텝으로 따라해서, 리피팅 그룹 카드에 원하는 리스트를 출력하는데까진 성공했습니다. 그런데 다이내믹 텍스트 설정한게 보이지 않아요. 이미지는 잘 보입니다. 그리구 전부 파란색이라서 설정도 맞게 한 것 같거든요? 이럴 때 어떤 요소를 체크해보면 될까요?': 12223, ' 혹시 privacy rule 문제는 아닌지 체크하시구요텍스트 크기나 폰트가 큰 경우에 간혹 안보이는 경우도 있습니다. 크기를 좀 줄여보실래요? 텍스트가 parent group보다 큰 경우에 안보이는 경우가 있습니다 unique item 같은거로 안되실까요?': 12224, ' 혹시 이게 중복되는 리스트가 있으면 하나만 표현해 주는건가요?': 12226, ' 감사합니다. 체크는 해봤는데 디비에 프라이버시 안 걸려있구, 텍스트 크기를 줄였는데도 안되네요 ㅠㅠ 혹시 리피팅 그룹 > 그룹 > 텍스트 로 작성하면 안보이는 케이스가 있나요?': 12227, \" 텍스트에 parent group's ~ 로 설정했는데, 그룹에 data source가 parent group으로 설정 잘 되어있나요? 그룹에 data source가 비어있을수도 있습니다 정확한건 디버그 모드에서 inspector로 해당 text element의 값이 잘 나오고 있나 살펴보시는게 정확합니다 네네 그럴거에요 써본지 오래돼서 정확히 기억이 안나네요\": 12228, ' Containers -> Group Focus를 이용하시면 됩니다! 사진  버블과 재피어를 연결하고자 하는데 워크플로우에 재피어 트리거를 잘 설정했음에도 불구하고 위와 같은 에러가 뜹니다. 혹시 유사한 문제를 겪어보신분 계실까요?': 12233, ' plugin에서 zaiper쪽에 trigger 추가 하셨나요!?': 12235, ' 왼쪽 메뉴바에서 플러그인을 선택하시고,  추가하셨나요? 사진': 12236, ' 혹시 계정을 다른것으로 입력하신건 아닐까요? 저도 초기에 실수했던 부분인데.': 12238, ' 지금 바로 확인해봤지만 그런 오류는 없습니다..! 혹시 다른 가능성은 어떤게 있을까요?': 12239, ' trigger쪽 스샷 있을까요?': 12240, ' 이거 말씀하시는 걸까요?': 12241, ' 네이티브앱으로 출시할 때, 웹뷰형태의 앱은 반려될 가능성이 높다는데, 스토어에 올려보신분 계신가요?': 12245, ' 혹시 버블에서 한글로 입력하신 것 있나요? 필드값같은거 한글로 입력해두면 못찾더라구요 그리고 api 오픈 해두셨나요?': 12247, ' api 오픈이 이거 말씀하시는거 맞을까요~?? 필드값 한글로 되어있습니다.. 영어로 바꾸고 한번 해보겠습니다! 사진 전화번호 -> phonenumber로 바꾸고 해도 같은 에러가 뜨네요..ㅎㅎ 에효🥲': 12248, ' 변경하신 후에 재피어 새로고침해서 다시 들어가서 하셨나요?': 12249, ' 넵 새로고침 했습니다 :) 안녕하세요사용자가 주문 or 주문취소할 때 solapi 서비스를 통해 카카오톡 알림톡을 보내고자 합니다.이 과정에서 이런저런 어려움을 겪고 있는데, 이 문제를 해결해주시는 분께 5만~10만원의 사례금을 드리고자 합니다. (난이도 및 시간에 따라)혹시 줌이나 대면으로 기꺼이 이 문제 해결에 도움을 주실 수 있는 분이 계실까요?': 12250, ' 혹시 input 텍스트 창에서 한글이 아닌 영어만 입력이 가능하고 띄어쓰기 안되게 하는등 제한을 둘수 있는 기능이 있나요? 문자수 제한은 있는데 다른건 보이지 않아서요^^:;': 12254, ' 종수님, 안녕하세요 해치하이커팀 정다은입니다. 30분 전쯤에 전화 응대드렸었는데 ㅎㅎ 리트머스팀과 연락되셔서 진행하시기로 하셨나요?': 12255, ' 사진 Page HTML Header 요것도 버블 유료 플랜 기능인가요? 리피팅 그룹에 overflow: visiable 설정하는데 적용이 안되는군요': 12259, ' 제계정으로버블구축하다가 나중에 다른사람 초대해서 admin 넘길수 있나요??': 12260, ' 네이티브앱으로 출시할 때, 웹뷰형태의 앱은 반려될 가능성이 높다는데, 스토어에 올려보신분 계신가요? PWA와 네이티브앱 중 고민이라서요.': 12262, ' 혹시 특정 field로 필터 걸어 놓은 expression 검색같은 기능이 있을까요?field type변경할 경우 일일이 찾아서 고치는게 너무 힘든데 쉽게 하는 방법같은거라도 좀 있을까요': 12269, ' 사진 안녕하세요! 혹시 버블에서 Database에서 배열로 저장된 정보가 아닌 그냥 위와 같은 방식으로 3개에서 4개의 정보를 표현해주고 싶으네 방법이 있을까요~?': 12270, ' 안녕하세요버블 고수님들께 질문드립니다혹시 회원가입 이메일인증 구현해보신분 계실까요??이메일에 온 링크를 클릭하면 특별한 URL 파라미터 없이 설정해놓은 Email Confirm Page로 이동하는것 같은데어떤 악성 유저가 이메일 인증 안하고 URL만 입력하고 접근해서 인증할 수도 있는것 아닐까요?이점이 궁금합니다 ㅠㅠ': 12274, ' 안녕하세요, 기능 구현중에 리스트에 저장했던 정보들로 하나씩 엔트리를 생성하고 싶은데 혹시 이런 반복적인 작업을 해주는 방안이 있을까요?? 엔트리가 30개가 넘어가서 하나씩 빼와서 30개를 생성하는게 비효율 적인거 같아서요!': 12275, ' 혹시 버블내 파일매니저에 업로드된 파일을 워크플로우를 통해서 불러올수 있는 방법이 있나요? 예를들어 1.jpg 파일 이미지를 버블 파일매니저에 업로드 후 기존 DB 한섹션에 1.jpg(텍스트)가 있을경우. 해당 텍스트와 파일매니저의 파일명이 일치하면 해당 이미지를 그 DB 이미지 넣는 값에 넣고싶은데 가능한건지 문의드립니다^^;;': 12285, ' 혹시 그 파일 이미지라는 것이 어떤 이미지일까요? 예를 들어 유저의 프로필인지 그런 사항들이 궁금합니다! 그냥 random 의 사진은 아닐 듯 해서요! 어떤 사진인지 궁금합니다 (사진의 종류가 아니고요!)': 12290, '  에 보고 우편번호나 주소는 인풋창으로 잘 가져오는데, 이 값을 워크플로우를 통해 저장하면 빈값으로 되는데 어떤 이유일까요?': 12294, ' 저장하시려는 field의 data type이 안맞아서 그런것 같은데요 혹시 무슨타입으로 설정하셨나요': 12295, \" text 요 사진 해당 글의 댓글 중.. javascript to Bubble 을 이용하는 방법도 해보고 있는데.. 엘리먼트 추가 후 'bubble_fn<strong><i '에 넣으라 하는데... 제 것은 이렇게 나와요. bubble_fn_suffix 로 표시되요. 우편번호나 주소를 text 로 하면 안되는건가요?\": 12296, ' 안녕하세요~  202309 이라고 text타입으로 받은값을 date 로 컨버팅 하는 방법이 있을까요??': 12301, '  이 사이트도 버블로 만들수 있을까요?': 12302, ' 오 감사합니다! 플러그인 이름이 데이터 컨버터일까요??': 12304, ' 혹시 더블클릭시 액션을 워크플로우로 만들수 있을까요? 관련 플러그인이 doubleclickdetector 하나 있긴한데 원하는대로 작동하질 않아서요. 아이폰만되고 안드로이드는 안되는 문제도 있고....ㅠㅠ 혹시 더블클릭 액션에 대해 아시는 고수님들 답변 부탁드립니다 ㅠㅠ': 12309, ' 사진 선배님들, 많이 바쁘시겠지만 뭐하나 물어보겠습니다 ㅠㅠFloating Group으로 네비에기션 바를 만들고 이미지하고 text를 사용해서 네비게이션바를 완성하려고 하는데...preview에서 구성한 화면이 보이지 않습니다!이유가 무엇인지 알려줄 수 있을까요?': 12311, ' 조언 감사합니다. 말씀주신내용으로 시도했는데 속도떄문이지 더블클릭보단 세번정도 해야 작동이 되는것 같습니다. 그래도 말씀주신 방법을 응용해서 잘 사용해보도록 하겠습니다 감사합니다 ^^ 혹시 더블클릭관련 다른정보 알고 계신분 계시면 조언 부탁드립니다~:)': 12312, ' 더블클릭이 필요하신 맥락을 좀 들을 수 있을까요~? 일반적으로 모바일 웹상에서 더블클릭 사용하는 경우가 많지 않은 것 같아서요! 다른방향으로 풀어낼 수 있을까 해서요': 12313, ' 사진 preview 화면이 이렇게 나오는데 원인을 알려줄 수 있을까요?': 12314, ' 버블 고수님들 질문 있습니다!혹시 Rich Text Input으로 이미지를 입력했던것을 Text 엘리먼트의 사이즈에 맞게 디스플레이 하는 방법이 있을까요??예를들어Rich Text Input에 1000x1000px 이미지를 넣고 글을 쓰고난 후Text 엘리먼트에서는 Width가 500px로 제한하여 구성했을경우이미지도 500px을 넘지 않게 하는 방법이 있을까요??': 12321, ' text element에서 text가 긴경우에 영어는 띄어쓰기 있는 경우 자동으로 줄바꿈이 되는데 한글의 경우는 줄바꿈이 안되고 자기맘대로 단어의 글자를 찢어놓는군요ㅠㅠ 혹시 영어처럼 띄어쓰기에 줄바꿈 되게하는 범 아시는 분 있나요?': 12326, ' 혹시 버블에서 - 기존 SNS 및 소셜 주소록- 휴대폰(or구글or애플) 주소록API 연결해서 친구 추가 (연결or 추천)해보신분 계실까요??': 12333, ' 버블에서 data field type을 아래처럼 시간을 지정할 수는 없죠~?09:16 (9분 16초)': 12334, ' 버블에서 유저가 이미지를 횡적으로 스와이핑 할 수 있게끔 하려면 어떻게 구현해야 하는지 아시는 분 계실까요?': 12335, ' 옵션 항목들로 리피팅그룹을 필터링을 할 수 있는 학습 동영상 아시는 분 있을까요?': 12340, ' 스테이트에 목록으로 만들어 옵션명을 여러개 넣고, 불어올때 :퍼스트아이템 또는 :라스트아이템 말고 전체 목록을 불러오려면 어떤 오퍼레터를 선택해야하는 걸까요? 사진': 12346, ' price 그로스 $119의브랜치 10개는어떤 기능인가요?ㅡ 서브도메인? 같은건가요? 작업 영역을 나누는건가요?': 12349, ' 혹시 버블 강좌 추천해주실 만한것 있나요?': 12350, ' 안녕하세요, 버블 고수님들반응형에 대해 궁금해서 물어봅니다.앱을 휴대폰전용 안드로이드 ios로만 런칭하고 싶은데 반응형 말고는 다른 방법이 있을까요?': 12354, ' 개수 자체는 괜찮습니다만 어떤 워크플로우가 들어있냐에 따라 다르죠 ㅎㅎ 데이터를 만들고 수정하고 api 쏘고 이런게 많이들어있으면 꽤 느릴겁니다 ㅠㅠ 반응형이 어떤 문제이신걸까요??': 12355, ' 몇초마다 워크플로우를 실행시키는 방법이 있는 것 같던데 그걸로 체크가 가능할까요 이게 실행됐다가 더 이상 실행되지 않게되면 backend workflow를 실행시키는 형태로..?': 12368, ' 문제점만 일단 파악해 놓고 넘어 가는걸로 마무리 해야겠네요 감사합니다 신경써 주셔서 감사해요~ 명절 잘들 보내고 계신가요혹시 버블에서 요금에 따라 제공해 주는 file storage용량이Data탭에 File manager에 올라가는 file용량이랑도 상관이 있는걸까요?  1.file storage용량= 내 DB에 저장된 file용량2.file storage용량= File manager에 올라가는 file용량3.file storage용량= 내 DB에 저장된 file용량 +File manager에 올라가는 file용량 사진 사진 어떤게 정답일까요? 올려둔 file을 정기적으로 삭제할때 둘 다 삭제를 해야 하는지 둘중 하나만 삭제해도 되는지 판단을 못하겠어서 질문 드립니다': 12375, ' 안녕하세요 URL의 parameter를 변경하고 싶을 때 go to page 말고 유저ID만 변경하는것이 가능할까요? 사진 예를들면 no=172349에서 no=332211로 변경하고 싶은데 , workflow에서 변경하려면 go_to_page말고 다른 방법이 있을까 싶어 질문드립니다 !': 12376, ' 워크플로우하고 컨디션의 차이점은 디테일의 차이인가요?': 12379, ' 버블 고수님들,버블로 당근마켓 클론코딩한 영상 보신적 있을까요??': 12385, ' 버블 고수님들,버블로 당근마켓 클론코딩한 영상 또는 강의 보신적 있을까요??': 12389, ' 혹시 지금 신청가능할까요??': 12391, ' 안녕하세요. 혹시 버블로 당근마켓 클론을 하는 유투브나 온라인 웹 사이트, 혹은 강의가 있을까요?': 12393, ' 혹시 버블에서 항목들 넣고 액션시 구글 폼을 만들 수 있는 방법이 있을까요~?': 12397, ' 이거 저도 봤는데 오늘 하는 건가요?': 12400, ' 아 감사합니다 오 웹사이트 주소 한번만 알려주세요!': 12411, ' 고객에게 버블로 만든 웹앱 제공하려면버블 요금제는 뭘로 써야하나요??': 12416, ' 그 무료다음으로싼거요 starter였나...': 12417, ' 아~ 혹시 경험이 있으신가요?': 12418, ' 와우... 스토어 입점비용이랑 유지보수 이슈는 어떻게 해결하셨나요??': 12420, ' 👏👏👏 대단하십니다 처음에 뭐 보고 시작하셨나요??': 12422, ' 샤라웃 감사드려요😊': 12425, ' 안녕하세요. 좋은 아침입니다. 스크롤을 일정 이하 밑으로 내려가면 로그인 팝업창을 띄울려면 어떻게 하면 될까요? 컨텐츠를 위에만 보여주고 아래 더 많은 컨텐츠를 보기위해서는 회원가입 또는 로그인을 하라는 팝업창을 보여주고 싶습니다/': 12426, ' 스마트폰 사용시 ux 측면에서  새로고침과 뒤로가기버튼 막을방법이 없을까요? 웹버전으로 테스트할떈 문제없었는데 앱으로 해서 사용하다보니 지도를 내리다가 새로고침되고 불편하네요 ㅋㅋHTML 코드써야하나...': 12430, \" 안녕하세요 혹시 텍스트 대소문자 구분을 없앨 수 있을까요? 검색기능을 만들었을 때, 예를들어 'apple'을 검색하면 APPLE, Apple, APple 이런 데이터를 모두 불러올 수 있는 방법이 있을까요?\": 12435, ' 안녕하세요! 혹시 버블 플랜을 다운그레이드 했다가 나중에 다시 올릴 경우, 이전에 구현했던 기능들이 살아나는지 아시는 분 계실까요? 유료 결제로 돌아오면 다시 기능 복구되나보네요 ㅎㅎ': 12436, ' 혹시 위 글이 광고 글인가요??': 12451, ' 안녕하세요 질문이 있습니다!✅문제상황토스페이먼츠를 설치하면 결제 이후 자동으로 widget success페이지가 로드되게 되는데요..!이 페이지가 로드될 때 카카오 알림톡을 보내게 workflow를 짜놨습니다. 하지만 이 페이지에서 사용자가 확인(홈으로가는)버튼을 누르지 않고 종종 새로고침을 하여서 다시 페이지가 로드되어 알림톡이 두번씩 가는 현상이 발생되더라구요✅구현하고 싶은 기능혹시 특정 페이지에서만 새로고침이 안되도록 막게끔 하는 방법이 있을까요?': 12462, ' 안녕하세요! 혹시 do search for 에서 제약조건을 거는것과  필터기능을 사용하는것이 차이가 있을까요??': 12465, ' 사진 폴더 부분이 어느새부터 안보이는데 혹시 이런 현상 해결하신 분 계실까요!?': 12468, ' 음 새로고침, 쿠키 삭제나 크롬 완전종료(맥북기준 cmd+q) 후 재접 해 보셨나요...?': 12469, ' 안녕하세요 버블 고수님들,질문이 하나 있습니다!혹시 긴 텍스트에서n번째 자리부터 m개의 텍스트를 추출하는 함수가 따로 있을까요??truncated to 나 truncated from end tosms 처음부터 이거나 끝부터인것 같은데원하는 자리수 부터 긁어오는건 못찾았습니다 ㅠㅠ': 12470, ' 혹시 어떤서비스 만들고 계신가요~?': 12478, ' 버블 고수님들, 질문이 하나 있습니다이번주에 핫 게시글을 1개를 선정해서 메인에 노출하고싶은데기준은 Like를 가장 많이 받은 게시글으로 선정하려고 합니다.근데 현재 Like 데이터타입이 User of List입니다.그래서 Do a search for을 이용해서 constraint를 하든 Sort by 하기 어려운 상황입니다어떻게 하면 좋을까요.....?': 12483, ' number 타입의 데이터 필드를 하나 더 만드는 방법을 말씀하시는거죠~?': 12487, ' 꺽쇠를 기점으로 수식을 빼게 되면 인식이 안되는데 그 뒤에 내용을 어떤식으로 넣어야 할까요..ㅜ 사진 미싱이 떠버려서요!': 12494, ' 그럼 제가 원하는 수식이 다시 순서가 바뀌어서요! 사진 결국 나누기를 어디다 넣어도 missing 이 들어가는데 이 방식이 맞을까요~?': 12498, ' 안녕하세요data에서 box 라는 text(list)안에 가/나/다/라/마 이렇게 순서대로 있으면 \"다\"는 3번째 있고 마는 5번쨰에 위치해 있습니다. 라고 하는건 가능할까요?list안에 있는 데이터를 다룰 수 있는지 궁금합니다': 12505, ' 버블에서 쪽지 발송 기능을 만들려면 어떻게 해야 할까요?': 12511, ' 정말 감사합니다 용준님! 👍🏼': 12524, ' 궁금한점이 있습니다.버블로 런칭해서 나중에 네이티브앱으로 커버가 가능할까요? 이용자가 두번 설치를 방지할 수 있을까요?': 12525, ' 오... 민호님 혹시 어떤 앱인지 알려주실 수 있나요? 저도 모임앱 비슷하게 만들어보고 싶어서요!': 12526, ' 데이터 필드가 하나 더 생겼고, 이전에 생성되었던 데이터는 null이기 때문에 싹다 1이라는 데이터를 채워넣고 싶습니다.하나씩 수정하는건 가능하긴 한데.. 한번에 app data를 수정하는 방법이 있을까요?': 12531, ' ㅋㅋㅋ 그러네요.. 이 간단한 생각을 못하고 app data에서만 끙끙댔을까.. 감사합니다 여기에 웹을 app으로 만들어서 서비스를 운영하시는 분이 꽤 계신것 같은데.. 저희도 앱스토어에 앱을 등록하고 합니다!제가 보기에 natively와 BDK서비스가 많이 사용되고 있는것 같은데, 사용해보신 분들께서는 어떤 것을 더 추천하나요? 지금 사용하고 있는 방식의 단점이나 장점도 궁금합니다!': 12533, ' 혹시 아임웹 입력폼에 글 남기면 알람 뜨는거 어캐하는지 아시는분 있을까요? 알람 안 울려서 혼낫네요 ㅠ': 12540, ' 음 어떤 작업이 궁금하신걸까요?': 12541, ' 어떤 기능을 만들고싶은지를 말씀해주시면 도움드리기 수월할 것 같습니다': 12547, ' :last item이 아니라 뒤에서 n번째 아이템을 선택하고 싶은데.. 툴박스 안쓰고 간단하게 할 수 있는 방법이 있을까요..?': 12550, ' 리스트를 넣어주는 값은 어떤방식으로 들어가는걸까요?': 12552, ' 고수님들께 여쭈어봅니다.회원 탈퇴 기능은 어떻게 구현하나요?워크플로우에서 아무리 뒤져봐도 안 보이길래요...': 12559, ' 그럼... 그 db 삭제는 제가 해줘야 하는건가요?': 12561, \" 안녕하세요 고수님들! 페이지 설정 질문있습니다.'This page is native app' 이라는 체크박스가 있어요. 모바일 환경에 최적화된 앱을 개발하려면 이걸 클릭하는 게 맞나요? 웹을 구성하는 것과 작동 방식이 달라지는 건 없나요? ㅠㅠ추가로 푸시 알람 등 기능을 일반 웹앱이나 native app에서 구현 가능한지 궁금합니다!\": 12571, ' 버블로 만든 앱에서 통화기능 되나요??숨고, 로톡같은 플랫폼 구축을 해보려고 해서요.': 12575, \" 고수님들께 문의드립니다.current page's ~~~ 와 current ~~~ 차이가 뭔가요예를 들어, current page's user와 current user의 차이를 인스타그램으로 예를 들어 설명한 어떤 글에서는current user는 해당 게시글에 접속한 사람, current page's user는 해당 게시글의 주인 정도로 설명하는데이 정도로는 이해도 잘 안 되고...current page's user 외에 current page's ~~~ 이런 것도 있잖아요...대체 차이가 뭔가요...??\": 12580, ' 안녕하세요! 네이버와 구글 seo 작업중에 궁금증이 있어 질문을 올려봅니다!버블에서 오픈그래프 설정시 (seo 검색시 나오는 사이트명, 설명, fabicon 등등) 1. 버블 메인 설정에 head 태그 넣는 부분에 넣어야 할까요~?2. head 태그를 index 페이지에 넣어야 할까요~? 사진 2장': 12587, ' 의연님안녕하세요! 관련해서 여쭙고 싶은것이 있는데요, 1:1 오픈채팅 가능하실까요??': 12595, ' 안녕하세요, 애플 로그인 없으면 앱스토어 심사통과 안될까요?': 12596, ' 어떤 기능을 구현하려고 하시는지 말씀주시면 다른툴로 대체가능한지 판단이 가능할것 같습니다': 12601, ' 감사합니다 ㅠㅠ 고수님들, 1. 당근마켓처럼 동네기반으로 게시물을 올리는 구현하는 방법을 알고 싶습니다.2. 유저가 게시물을 올렸을 때 나의 위치에서 거리상 계산에서 버블에서 보여줄 수 있을까요? *버블에서 km 떨어져 있는지 데이터로 보여줄 수 있을까요?': 12604, ' 버블로 전부 프론트 백엔드까지 개발한 후 , 실개발로 바꿀시에 단계별로 전환하는게 가능할까요? 예를들면1차 - 버블개발(프론트,백엔드)2차 - 버블개발 (프론트) 실개발 ( 백엔드 ) 3차 - 실개발 (프론트 ) 실개발 ( 백엔드 )': 12615, ' 혹시 기간은 어느정도 걸리셨는지 여쭈어봐도 괜찮을까요?인원에 따라 다르긴할텐데 , 버블로 MVP가 있는 상태로 만들면 어느정도 속도가 나오셨는지 궁금합니다 !': 12617, ' 왜 단계별로 개발을 하려고 하시나요? MVP 운영하면서 그냥 새로 프론트/백엔드 짜고 DB만 이쁘게 잘 옮기는 게 오히려 일이 줄어드는 방향일텐데요 아니면 애초부터 버블 프론트 + 개발 백엔드를 붙여서 개발하시는 게 일이 줄어드는 방법으로 보여져요': 12621, ' 해치하이커가 짱인데 ㅋㅋ 혹시 어느 정도 수준의 클론 코딩을 원하시는건가요?': 12630, ' 버블로 서비스 개발중이고 추후 플러그인으로 앱 패킹해서 출시할 계획이 있는데요.서비스를 page단위로 구현하는 방법과 native app으로 원페이지 구현이 서로 동작하는데는 성능이라던지 앱기능 등에서 어떤 차이점이 있을까요? 제가 아직 버블이 익숙지 않아서 page별로 기획하고 개발하는게 좀 더 직관적이고 편한것 같아서 이렇게 개발중인데 나중에 제한적인 사항이 있다면 미리 고려해보려합니다': 12642, ' 안녕하세요.버블에서 꼭 실개발로 전환해야 하나요? 동접 만명정도는 무리없이 되는 거 같은데요. scaleup 고도화 기준이 어느정도 수준까지는 버블에 감당할 수 있는지 궁금합니다.': 12643, ' 안녕하세요go to page 페이지 지정해주고 data to send로 데이터 넘겨주면받는 페이지의 URL끝에 unique id값이 써지는데요그 받는 페이지의 URL을 공유할때 복붙을 하면 URL이 길어지기도 하고 길어지면 보기도 안좋아서 바꿔보고 싶은데 가능할까요?unique id가 들어 있는 entry의 다른 field값을 내 임의로 unique id 대신 URL에 넣는게 가능 할까요?': 12647, ' 후에 요금을 계산하려 하는데, 금액 입력 창의 포맷을 integer 로 하고, 디비 필드는 number 로 잡아주는 것이 맞을런지요?': 12651, ' 버블에서 이미지를 업로드 하는 기능을 구현할때,- 검색 클릭-> 구글링 화면 노출-> 이미지 선택-> 서비스에 업로드이런 식의 기능을 구현하려 하는데 혹시 이용할 수 있는 플러그인이 있을까요? ㅠㅠㅠ': 12654, ' 위에서 말씀주신것처럼 single-page-app (SPA)와 multi-page-app(MPA)의 가장 큰 차이는 속도입니다. 페이지를 이동하면 어쩔수 없이 딜레이가 생기는데 이것을 SPA로 구현하면 딜레이 없이 페이지이동을 구현할수 있습니다. 앱패키징을 고려하고 계시다면 처음에 조금 배우는데 시간이 걸리더라도 SPA방식으로 개발하는걸 추천드립니다 여러분 의견을 여쭤보고싶은것이 있는데요 ㅎㅎ제가 강의를 준비중인데, 클론코딩을 어떤 것을 해드리는게 반응이 좋을까요?일단 후보지는 인스타그램(SNS)과 당근마켓(위치기반 중고거래 플랫폼)이 있는데, 인스타그램은 아무래도 자료들이 좀 있다보니.. 고민이 되네요 ㅎㅎ': 12655, ' 아 그럼 중복체크를 할 방법이 없을까요?': 12669, ' 혹시 버블에서도 굳이 Action을 하기 전에 실시간으로 검색이 가능한 방법이 있을까요~? 예를 들어 검색어를 입력중에 최근 검색어가 실시간으로 바뀌듯이요! 사진 2장': 12675, ' 혹시단어검색: 검색‘검색’이 앞에 나와있는건 자동으로 뜨는데요검색하다검색중에등등‘검색’이 뒷쪽이나 중간에 있으면 따로 안뜨는것 같은데 해결방법이 있을까요?영화검색드라마검색매우검색하여라등등': 12683, ' contain 보다 성능이 더 좋을까요 ?': 12691, ' 질문이 있습니다.아래 그림처럼 만들려고 하는데에 파라미터를 사용하면 된다고 하더라구요,,근데 문제는... 파라미터까지 사용할 역량이 되지 않아서...어떤 식으로, 어떤 버튼을 눌러야 하는 지 등을 아무리 구글링해도 찾을 수가 없는데...혹시 방법 알려주실 분 계실까요.....? 사진': 12695, ' 안녕하세요.사용자가 올린 게시물을 각 주소마다 페이지를 다르게 가려고합니다.혹시 버블에 사용자위치기반 주소 넣어본 분 있을까요? 주소 위치기반으로 한 게시물을 보여주려고 하는데 어떻게해야할지 막막하네요 ㅠㅠ': 12698, ' 예를 들어 1*2+3*4 를 하려할 때, 자꾸만 1*2를 한 후 3을 더한 값에 4를 곱해버리네요. (1*2)+(3*4) 이렇게 값을 뽑으려면 어떻게 해야 하는지 조언 부탁드립니다.': 12699, \" 안녕하세요 고수님들 'sorting' 질문 있습니다.Repeating Group에서 Data source는 Table A입니다.Table A와 Table B는 관계형으로 이어졌습니다.-> Table B 값의 필드를 기준으로 Repeating Group의 sorting(정렬)이 가능할까요? ㅠㅠ\": 12701, ' 요금제를 starter 에서 growth or team 으로 옮기면 속도가 많이 개선될까요? 아니면 속도를 비약적으로 개선할수 있는 방법이 어떤게 있을까요?^^;; 속도떄문에 요금제를 올려볼까 하는데 아무런 상관관계가 없으면 ;;;;;': 12706, ' 버블로 구현하신 서비스의 속도를 말씀하시는거라면 플랜과는 관련이 없습니다 어디서 속도가 느리신지를 말씀해주시면 (페이지 로드가 느리다, 특정 버튼 클릭했을때 로딩이 오래걸린다, 리스트가 늦게 뜬다 등등) 도움드릴 수 있을 것 같습니다': 12708, ' 버블에서 토스페이먼츠 플러그인 사용하고 계신분들께 질문이 있습니다!결제 페이지에서 결제 인증이 되고나면 자동으로 결제 승인 페이지로 이동하는데, 이때, 결제 페이지에 있던 데이터를 가져올 수 있는 방법이 없을까요??지금 토스 플러그인에서는 주문 이름, 금액, 사용자 이름 정도만 가져올 수 있어서 그 외의 데이터를 가져올 방법이 필요한데,좋은 방법이 있을까요??': 12714, \" 버블 고수님들! 혹시 style도 동적으로 컨트롤 할 수 있나요?예를 들면,- '어두운 컨셉'의 앱을 원하는 사람에겐 검정색 배경의 스타일을 제공- 글씨 크기,폰트 조정 등\": 12724, ' 리피팅 그룹에 states 를 clicked yes/no로 만들어서 설문 옵션을 만들었습니다. 그런데 단답형의 경우 이 옵션 중에 하나만 클릭하고, 다른 것을 선택하면 나머지 옵션이 클릭이 안됐으면 하는데요. 리피팅 말고 개별 2개 그룹으로 만들었을땐 각각 로직을 설정했는데 리피팅 그룹 내에서는 어떻게 하나만 선택하도록 workflow를 짤 수 있을까요?': 12731, ' 버블 live로 배포할때 live에 실행중이던 백앤드task들이 어떻게 되시는지 아시나요?배포하는시점에 동작하고 있는 API가 영향이 있는건지 궁금하네요.': 12732, ' 가로 리피팅 그룹에서 추출 갯수를 정하고 싶은데 search for로 가져올때 갯수를 정하는건가요 아니면 RG에서 설정을 해줘야 하는걸까요?^^;; 세로는 칼럼으로 갯수를 설정할수 있는것 같은데 가로는 갯수제한을 어떻게 주는 궁금합니다~': 12743, ' 사진 2장 안녕하세요 다음곽 같이 버블 폴더 명들이 안보여서 문의를 넣었는데 html을 이용해서 폴더 명 색을 바꿨냐는 답변을 받았는데요 혹시 폴더 명 색을 바꾸는 설정란도 있나요~?': 12751, ' 이 db는 어디에 저장되는걸까요? 그리고 db구성이 어떻게 되나요?': 12761, ' 사진 안녕하세요! 혹시 step 2가 그냥 완료가 아니라 제대로 성공해야 step 3로 갈 수 있는 방법으로 로직을 설계할 수 있을까요~?': 12765, ' 정렬을 할 수 있는 action이 혹시 어떤게 있나요? 결국 리스트를 정렬해야하는데 다른 리스트를 참고해서 정렬하는거라 이부분에서 막힙니다ㅠㅠ': 12774, ' 비밀번호 변경 하는 리셋 링크를 보냈는데 그 이후에 변경을 어떻게 해야할까요~?1. user를 찾으려고 해도 리셋링크라서 어떤정보로 해당 유저를 do searchfor 로 찾아야할지 모르겠습니다. 아…스크롤을 내리니 reset password 가 있군여..휴': 12781, ' 사진 안녕하세요! 비밀번호 변경 링크를 보내는데 혹시 요 발신자 메일은 어디서 바꾸는지 알 수 있을까요~?': 12785, ' 안녕하세요~ 좋은 아침입니다^^ 고수님들 혹시 리피팅 그룹에서 [A라는 조건]을 만들기 위해 [A조건이 아직 아닌 리스트] 를 불러온후 작업을 통해 [A라는 조건을 만들면] 바로 리스트에서 사라져서 수정을 할수가 없는데 A라는 조건이 된후에도 새로고침하기 또는 다른창으로 넘어가기 전까진 초기 작업 리스트에 일정부분 남아있게 할수 있는 방법은 없을까요?^^;; 예를들면 인스타그램으로 치면 팔로워 팝업창에서 팔로워 리스트가 쭈욱 나오면 언팔로우를 해도 창을 닫기 전까진 해당 목록이 남아 있는데 ..... 현재상황은 누르면 바로 사라져서 ;;': 12787, ' 안녕하세요 고수님들! native app 으로 설정을 하고 앱을 개발 중입니다! 상단에 링크 안 보이게 설정하는 방법이 있을까요?': 12806, ' 매년 반복되는 동일 할인기간을 적용하는 방법이 뭘까요? 예를 들면 2023.8.1~31까지 성수기로 잡았는데, date는 필드에 년도까지 들어가서 그런지, 2024.8.1 은 성수기로 인식하지 않는 현상이 나타나서요.': 12807, ' 필드 상에는 있되, 적용하는 과정에서 하라는 얘기시죠?': 12809, ' 혹시 앱 패킹을 어떻게 하는지 여쭤봐도 될까요.. ㅠㅠ 제가 버린이라서요 ㅠㅠㅠㅠㅠㅠㅠㅠㅠㅠ': 12810, '  를 사용하고 있는데 natively로 변경하는게 좋을까요? 혹시 차이점이 있을까요?^^;': 12813, \" date 필드에 '년'을 제외하고 월일만 넣을 수 있다는 얘기신가요?\": 12818, ' 조건식이요;;날짜 입력하고 db에 저장할때제가 드린 조건식에 포함되면 이벤트 적용일로포함이 안되면 일반일로  분류되게 처리하시면 될것같은데요 엊그젠가부터 궁금했는데요그 사진 내용이 뭐에요?누가 교육용으로 만든 문제집(?)같은건가요?': 12823, ' 혹시 가로 리핑팅그룹시 아래에 스크롤이 나오는데 없앨수 있는 방법이 있을까요?^^;;': 12827, ' 사진 @정찬우 / PM, 기획 님 안녕하세요! 아까 알려주신대로 하고 있는데 여기에 센드그리드 api를 넣어도 인증이 안되더라고요! 혹시 여기에서 설정하는게 맞을까요? 혹시 센드그리드에서 주어지는 cname 을 가비아에 입력해보신분 계실까요샌드그리드에서 주어진 대로 입력을 그대로 하면 가비드에서는 인식을 못하더라고요~ 사진 2장 혹시 어떤 부분을 수정해야 보낸 사람의 메일 정보를 수정할 수 있을까요~?': 12831, ' 혹시 sendgrid cname 부분과 가비아 cname 입력하는 부분이 다른데 입력해보셨을까요~?': 12835, ' 사진이 잘려서 혹시 괜찮으시면 전체 스크린샷을 주실 수 있을까요?': 12840, ' 뒤에 .nsny.kr 뺴시구요!': 12849, \" 안녕하세요. 오랜만에 질문드립니다 :) 혹시 input field 상에서 '한글'을 입력하지 못하도록 하는 방법이 있을까요?아이디 입력란에서 한글로도 아이디 생성이 되어서 이 부분을 영문 입력으로만 강제하고 싶은데 방법을 모르겠네요.\": 12856, ' 혹시 비밀번호 리셋하고나면 자동으로 로그인 인증이 되버리는데  안하게 할 수 있는 방법이 있을까요~?': 12857, ' 편안한 일요일 보내고 계신가요~ 반응형 페이지 작업하실때 width 최소 몇 주고 작업들 하시나요기존에는 380으로 했었는데 더 적절한 수치가 있을까 해서요': 12861, ' 답글 감사합니다320이면 좀 답답할것 같은데 문형님은 몇으로 보통 하시나요ㅎㅎㅎ 그리고 등장하신김에저 버블에서 A앱하고 B앱 둘 다 deploy해서 서비스 하는 상황이라고 가정하고 A앱 DB랑 B앱 DB를 서로 연결할수 있나요??메인으로 작업하던 앱 테스트를 못하고 있어서서브 프로젝트 하나 더 할까 하는데 궁굼해서요': 12863, ' 답변 감사합니다! 말씀 들으니까 무료 탬플릿들을 교육자료로 필요한 기능들 클론하는 방식으로 직접 만들어보는 게 더 나을 것 같다는 생각이 드네요! 저희 서비스의 핵심 기능이 유저에게 (설문폼 형식으로) 받은 데이터를 가중치 기반 알고리즘에 따라 금액으로 산출하고 이를 유저 대시보드에 리포트 형식으로 보여지게 하는 건데요. 혹시 이정도 작업도 버블에서 가능할지 아시는 분 있으시면 고견 들을 수 있을까요~?': 12874, ' 답변 감사합니다! 안녕하세요~ 혹시 버블에 피그마 파일 임포트하면 디자인 그대로 옮기는 기능도 있을까요~?': 12878, ' 안녕하세요~ 버블로 만든 어플로 블루투스 연결해서 컨트롤 가능한 플러그인 같은게 있나요?': 12880, ' 질문이 하나 있습니다.사람인이나 원티드 같이 채용공고를 올려주는 사이트의 경우,임직원 수와 평균 연봉 등이 보여지는데 이런 건 어떻게 구현한 걸 까요?해당 구인기업의 인사담당자가 입력한 값을 그대로 보여주지는 않고 외부(국민연금 등)에서 가져온 데이터일텐데...구인기업이 회원 가입을 하고 채용공고를 올리면 그 값이 자동으로 입력되게 하는 방법이 있을까요? 사진 이건 원티드 화면인데 이런 식으로요': 12882, ' 안녕하세요! 혹시 bubble.io에 있는 교육자료 하고 있는데..facebook login 기능 똑같이 다 만들어놨는데 fb 정책때문에 로그인이 안된다고 하는데..혹시 저만 그런걸까요 ㅎㅎ': 12883, ' 인풋박스에 생성된 값을 스테이트에 넣으려면, 인풋박스에 워크플로를 걸면 되나요?': 12885, ' 특정그룹에 6개의 인풋이 있는데, 이중 하나만 값이 들어갑니다. 이 특정 그룹은 리피팅그룹에 속해져 있어, 왼편 이미지와 같이 2개의 값이 나온다 가정했을 때, 각 값을 스테이트에 넣어 후에 더하면 되는거겠죠? 디버그에서 스테이트에 값이 들어갔는지 확인하는 방법이 있나요?': 12889, \" 선택한 기간내 하루 기준으로 평일/주말여부 및 준/성수기를 비교하고 해당 값을 불러온 것이 맨 오른편에 있는 해당일 요금예예요. <- 이것이 말씀주신 바 '리피팅그룹에서 수식으로 계산한 데이터'라 봐야 하는건지요?\": 12895, ' xano 개발하시는 분 계신가용?': 12898, ' 방장님 xano 교육은 따로 안하시나용?ㅠ': 12900, \" 확인이 늦었습니다. xano의 경우 죄송하지만 저도 아직은 누굴 가르칠 정도는 아니라고 생각이 들어서요. 현재로서는 계획이 없습니다. 국산 노코드 백엔드 툴인 '싱크트리'도 충분히 xano를 대체할 툴이라고 생각 드는데 어떠신가요?\": 12901, ' 혹시 핵클로 노코드툴로 만든 홈페이지 a/b테스트 해보신 분 계신가요...!?!': 12905, ' 저도 이질문이 궁금한데 고수님들 알려주실수 있을까요?': 12906, \" 안녕하세요 고수님들. 구글 로그인 질문있습니다.기존 email 계정으로 회원가입이 된 상태로, 구글 로그인을 하고 싶은데 '이미 가입된 계정이다'면서 안 되는군요... ㅠㅠ Q. 이미 회원가입된 계정과 동일한 구글 계정으로 '구글 로그인'을 할 수 있는 방법이 있을까요???\": 12907, ' 인덱스와 동적 지정을 했는데, 프로그래머가 아니다 보니.. 해당 자바스크립트에 도움 받을 수 있는 방법이 있을까요?': 12908, ' 안녕하세요 혹시 bdk로 랩핑 진행하신분 있으실까요? bdk 개발자가 직접 변경해줘야 하는 부분이 있어 채팅으로 소통중인데 지난주부터 연락이 안되어서요 ㅜㅜ;; 혹시 다른 컨택 방법 아시는분 계실까요?': 12910, '  안녕하세요..혹시 한글 폰트들을 바꾸는 방법들은 없을까요?ㅠㅠ 폰트들을 바꿔도 영어로는 반영되고, 한글은 약간 그대로인것같네요..ㅎㅎ;;': 12916, ' 먼저 한글이 지원되는 폰트인지 확인해보세요.폰트 변경하는 방법은 아래의 게시글을 참고해보세요.': 12917, ' 혹시 json으로 받은 파일을 heatmap에 적용하는데 javascript로 파싱해서 넣는 방법 말고 더 간단한 방법을 없을까요?': 12919, ' 팝업창 가운데 정렬 찾아보다가 이글이 나왔는데 팝업창에 ID_Attribute 이 부분이 버블에서 사라진거같아요.. 그럼 어떻게 구현해야할까요?': 12920, ' 안녕하세요~리피팅그룹의 첫 페이지를 사진처럼 오늘을 기준으로 설정할 방법이 있을까요? 사진': 12935, \" 사진 안녕하세요..!! 혹시 only when에 있는 'current workflow'는 어디서 찾을 수 있을까요?ㅜ 리피팅그룹 드래그앤드롭 따라하는 중인데 'current workflow'라는 익스프레션이 템플릿에는 있는데 제 에디터에선 찾을 수가 없어서요ㅠ.ㅠ 오 찾았습니다 workflow 자체에 데이터 타입을 넣을 수 있군요ㅜㅜ 혼자 북치고 장구쳤지만 해결해서 행복합니다..!\": 12938, ' Reusable element는 생성갯수가 제한이 있나요?': 12940, ' 삭제된 데이터 복구할 방법 있나요? ㅠㅠ': 12941, ' @정용준 / Litmers 이때 말씀하신 카카오톡 알림톡 관련 플러그인이 어떤건지 알 수 있을까요 ?!😅': 12942, ' 정말 기대되네요! 좋은 소식 공유 감사드려요😊': 12948, ' json을 파일을 루프 돌려서 테이블 Row 한줄씩 저장하는제 속도가 너무 느린대, 혹시 이 속도 문제를 해결하는 방안을 가지고 계신분 있으신가요 ㅜㅜ. ?': 12956, ' 사진 사진 사진 옵션셋을 number로 사용하려면 어떻게 해야할까요?': 12958, ' 다시 해볼게요 감사합니다 사진 사진 넘버로 해놓으니까 값이 안나오는데요;;;뭘 또 빼놓은 걸까요? 디스플레이로 해 놓으면 텍스트의 다이나믹 데이터에 수식 적용을 못하고요;': 12962, ' 혹시 옵션셋의 number라는 attribute에 값을 넣어주셨나요..?': 12963, '  박윤수 po님 사이트 인상 깊게 봤습니다! 다름이 아니라 저는 스타트업에 관심이 많은 대학생인데 mvp 모델을 만들어서 출시해보고 싶다는 생각이 있는데 bubble과 관련된 공부 소스가 너무 부족한데 어떤식으로 공부하셨는지 공유해주실 수 있나요?! 사이트 너무 이쁩니다!': 12969, ' 안녕하세요! 네이버, 구글과 같은 검색창을 구현하려하는데, 관련 정보 접근이 쉽지 않아 여러분들께 여쭙니다혹은 어떻게 검색해야 정보를 좀 얻을 수 있을지 조언 부탁드리겠습니다!': 12976, ' 안녕하세요. 혹시 페이지 뒤로가기를 막을 수 있는 방법이 있나요? 아니면 조건을 걸어 특정 페이지로 유도할 수 있다든지요.': 12982, ' 버블 홈페이지에 올리신다는 말씀이신가요?': 12985, ' 영어인가요...?': 12987, ' Block back button 플러그인썻습니다전': 12993, \" 안녕하세요, 혹시 버블과 인공지능 보이스 <leleven labs> 'API' 연결해보신 분 있으실까요? 값이 일레븐 랩스에는 꽃히는데, 버블로 response를 이렇게 받으면서 mp3연결표현이 안되고 있습니다 ㅜㅜ 사진\": 12995, ' 어려운 작업중이시군요,,,,,,어떤 기능때문에 api를 연결하시려는지 모르겠지만 버블 플러그인이 제공되는 다른 서비스를 이용해보시는건 어떤가요?': 12996, ' api connector로 연결중이신가요? 설정이 어떻게되실까요?': 12997, ' 데이터는 잘 수신되고 있는데 받아온 데이터의 인코딩 문제인 것 같아요 혹시 어떤 식으로 body쪽 데이터가 인코딩 되는지 모르시나요?': 13001, ' 안녕하세요, 선배님들버블에 토스페이먼츠 연결해서 사용해보신분 있을까요?정산일자궁금해서요!': 13002, ' 만약 그만큼의 현금을 보유하고 있지 않을경우, 고객과 <-> 사장님 이렇게만 거래 할 수 있게 할 수 있는 방법이 있을까요?': 13007, ' 두개의 기간이 있는데 중복된 날의 수를 찾으려면 어떻게 해야 할까요? 예를들어 첫번째 기간이 11.1~11.30까지, 두번째 기간이 11.29~12.2 라고 가정하면 중복된 날짜의 수는 2가 나와야 합니다.': 13017, ' 첫번째 끝날 - 두번째 시작날Day를 count하면 되지 않을까요?': 13018, ' 안녕하세요!! 반갑습니다. 버블에 관심 있어서 들어왔습니다 ㅎㅎ혹시 질문 드려도 되나요?': 13026, ' 버블 고수님들 안녕하세요궁금한게 있습니다 ㅎㅎ알파벳 Option Set에 A,B,C 옵션이 있는 환경에서Custom state를 이용하여 A를 디폴트로 해놓고버튼을 누르면 B,C 즉 다음 옵션으로 넘어가게끔 동적으로 구현할 수 가 있을까요??': 13027, ' 안녕하세요 혹시 그로잉피플 버블 강의 들으셨던 분 있으실까요? 커리큘럼이나 강의 퀄리티가 실제로 어느정도인지 궁금해서 여쭤봅니다': 13031, ' 오 네 답변 감사합니다!!혹시, 구현에 참고해볼만한 키워드가 있을까요?아직 버블 시작한지 일주일이 채 안되서, 조그만 팁도 큰 도움이 될 것 같습니다!! 오프라인 이라면, 예상 장소는 어디쯤인가요?': 13033, ' 안녕하세요~로우나 칼럼으로 타이트하게 만들어 놓은 그룹 클릭하는 노하우 있을까요??혹은 Elements Tree에서 두개 이상 선택하는 키가 따로 있을까요??그룹+그룹으로 다른 그룹을 만들어야 하는데 그룹만 딱 찝기가 너무 빡쎄서요;; 기다리다 급한데로 생성할 그룹 먼저 만들고 Elements Tree에서 하나씩 찍어서 넣는걸로 하고 있는데 더 좋은 방법 있으면 알려주세요ㅠㅡㅠ': 13036, ' dropdown,, 두 개를 만들어서 하나 선택하면 그 옆의 드롭다운에서 다른 걸 선택하는 방법이 있나요?예를 들어, 아래 이미지처럼 서울>강남구 이렇게 선택할 수 있게요 사진': 13037, ' 혹시 이 기능 구현을 위해선 어떤 쪽으로 알아봐야할까요': 13043, ' 버블서버 지금 이상한가요?': 13051, ' 아침부터 질문이 있습니다.입대일: mm/dd/yy , 전역일: mm/dd/yy 입력하면 자동으로 날짜 계산이 되고, \"OO년 OO개월 이상\" 이렇게 보여주는 로직은 어떻게 짜야 하나요?': 13056, ' 안녕하세요.기존템플릿없이 쿠팡, 올웨이즈 같은 쇼핑몰을 구축하고싶은데 버블로 구현이 가능할까요??': 13065, ' 고수님들 질문있습니다! 혹시 HTML 요소에 iframe으로 심은 유튜브 영상을 제어할수 있는 방법이 있을까요? 가령 state 값이 stop일때 영상을 일시정지 하도록 말이죠.': 13066, \" 리피팅 그룹에 데이터를 유저의 강의 리스트로 주고 리피팅 그룹 내에 텍스트에서 crrent cell's 강의 이런식으로 뽑으신건가요?\": 13068, ' 혹시 버블에서 채널톡 API 연동해보신적 있으신 분 있나요~?': 13073, ' 혹시 vimeo 영상 띄워보신분 있으신가요? video 엘레먼트에서 video ID에 뭐가 들어가야 할까요??': 13078, ' 저장은 버튼으로 하셨나요? 인풋박스랑 스테이트에 저장되는 데이터 타입 맞는지 체크해보셔야할것같아요': 13080, \" 안녕하세요!질문이 있어서 올려봅니다 :)혹시 파란색 워크플로우가 '꼭' play된 이후에, 2번재 워크플로우가 play이 하게끔 하려면 어떻게 해야 하는지 아시나요? 사진\": 13082, ' @정용준 / Litmers  감사합니다!!앗 그렇개 해보도록 하겠습니다 :)혹시 버블 질의응답 대면으로 하는 session은 다로 없나요??저번에 이벤트어스에서 진행했던 것 같어서요~': 13084, ' 네이티블리 + 카카오 로그인 사용하시는분 계신가요? 아이디 비번 입력 안하고 버튼으로 바로 로그인 하는게 웹에선 되는데 앱에서는 안되네요ㅠㅠ 네이티블리의 설정 문제인가 싶은데 어디를 손대봐야할지 모르겠네요ㅠㅠ': 13088, ' 버블 웹 사이트 강의도 있을까요?': 13089, ' 안녕하세요.코딩 공부하려는 코린이입니다.IT업계에서 실제로 제일 많이 쓰이는게 JAVA, C, 파이썬이라고하는데 혹시 버블로 개발을 시작할 때 다른 언어에 비해 한계점이나 단점이 있나요?': 13091, '  안녈하세용 안녕하세용 혹시 바로 질문 가능한가요??': 13093, ' RepeatingGroup 의 Type of content, Data source에 설정을 하셨나요? 사진': 13097, ' 사진 넵 ㅠ': 13099, ' 아아 ㅠㅠ 방법이 없을까요 ㅠㅠ 네이티블리에서 페북, 구글 로그인의 경우 소셜 연동같은 기능을 넣어놨더라구요 ㅠㅠ': 13103, ' 혹시 버블 오프라인 강연 이번달에는 없나요?': 13105, ' 혹시 repeating group 안에 있는 element에다가 focus group 설정이 안되나요~?': 13106, ' 혹시 리유저블 컴포넌트로 어떻게 설정하나요?!': 13118, ' 혹시 그로잉피플 버블 강좌 들어보신분 있으실까요?': 13125, ' 상품 선택시1. 옵션들 선택(스테이트에 저장)2. 상품 확인 및 결제(토스 페이먼츠)3. 결제종료 안내 및 주문내역 확인위 3개의 변화가 있는데,, 페이지별로 작업해야 할까요? 아니면 원페이지로 만들어 스탭별로 보이도록 해야 할까요? 또는 1,2번은 한페이지로 하고 3번은 별도 페이지로 해야 할까요?고수님들의 조언 부탁드립니다.^^ 찾아보니..3번은 성공 페이지가 별도로 있어야 하네요 ^^ 1,2번은 하나로 하는게 좋겠죠. ㅎㅎ 앗... 그런데 1,2번을 하나로 만들면, 폰에서 뒤로가기를 눌렀을 때 상품목록으로 아예 이동할 것 같은데 이를 어떻게 막나요? 흠흠.. You can use URL parameters even in a single page app to save the state. Your can also use a custom state to hold the last referring state. <- 이런 방법이 ^^ 혼자 자문자답하는 상황였습니다.': 13126, ' 질문이 있습니다~!회원가입할 때 우편번호로 검색하는 거,,, 어떻게 하는건가요?? 사진': 13128, ' 들어야 할 교육 프로그램이 있는데 각 프로그램 안에 페이지가 있고 다음다음 누르면서 넘기는 구조로 만들고 싶습니다. 예) 프로그램 1번- 페이지 1-페이지 2-페이지 3-페이지 4-페이지 5(여기까지 오면 state로 교육 완료)그런데 저렇게 페이지가 많다보니 프로그램 리스트랑 실제 컨텐츠 데이터베이스를 분리하고, 목차명을 공통 필드로 지정했는데요, 목차명을 프로그램리스트 리피팅 그룹에서 선택하면 상세 페이지를 컨텐츠 데이터베이스에서 불러오고 싶은데, 데이터 전송이 프로그램 리스트니까 자꾸 페이지 타입 그룹 타입 전체가 컨텐츠가 아닌 프로그램 리스트 데이터로 지정이 되어 깨집니다. 이렇게 디비가 다를 때는 search for 구문을 쓰면 된다고 생각했는데 안되더라구요. 혹시 이런 케이스 겪어보신 분 계실까요?': 13131, ' ??': 15869, ' 신고 어떻게 해요?': 13136, ' 플필 누르면 차단신고뜹니다!': 13137, ' 아 위 링크 클릭했는데 뭐였나요?': 13141, ' 사진 토스위젯을 연결중인데,, 이중 어디에 상품정보를 저장하는 플로우를 넣어야 하나요?': 13152, \" '사이트주소/A/slug?...'로 되어 있는 페이지에서 토스페이먼츠 위젯을 넣고, 결제 후 자동으로 이동할 'widget-success'페이지도 만들었어요.'사이트주소/widget-success..'로 이동할 줄 알았는데 '사이트주소/A/widget-success..'로 이동하게 되면서 엉뚱한 화면이 나오고 있습니다.어떤 이유일까요? 조언 부탁드립니다.\": 13154, ' 여러분, 안녕하세요': 13156, ' 안녕하세요~ 버블 과외 받고 싶은데 가능한곳 있나요? ^^': 13157, ' 혹시 버블로 웹사이트 만드는거랑 앱 만드는건 많이 다른가요~?': 13159, ' 어떤 방법으로 하면 되는지요??': 13160, \" 질문 있습니다~!!텍스트 엘리먼트랑 date/timepicker 사용해서시작일 - 종료일: date/timepicker 종료일'value - date/timepicker 시작일'value:formatted as days로 날짜가 텍스트 엘리먼트에 자동 계산되게끔은 만들었는데요...이걸 그냥 날짜가 아니라 OO년 이상 이런 식으로 보여지게끔 하고 싶은데... 이건 혹시 어떻게 하는 걸까요...?\": 13166, ' 자동계산된 데이터를 텍스트 엘리먼트에 어떻게 넣어서 보여주시나요?': 13169, ' 컨디션 설정에서 기간 별로 따로 구분하면 된다는 말씀이신가요?': 13172, ' 일요일 잘들 보내셨는지요~다름이 아니라 한 workflow에 create a new thing을 한번에 많게는 80여번을 해야 하는데 별 무리 없을까요? 아 정정하겠습니다create a new thing 2번make changes to thing 1번이 한세트로최대 80여회 반복되는데요3*80=240별 무리 없을까요?': 13175, ' playstore에 앱을 등록하고자 하는데, 혹시 앱으로 전환하신 분들 중에서 playstore에 등록할 때 다들 테스터 등록 관련 절차를 모두 하고 앱등록이 진행된건가요..?여기 두개를 참조하였을 때는 테스터 없이 바로 프러덕션이 되는것 같은데 저는 한번 검토에서 실패됐고, 구글로부터 나머지 절차(테스터 관련)을 모두 완료하라는 메세지를 받았어서요..! 다른 분들은 어떻게 진행되었는지 궁금합니다!': 13178, ' 혹시 관리자에서 비밀번호를 임의로 변경하거나 할 순 없나요?': 13180, ' debug_mode=true 는 왜 라이브에서도 되도록 설정되어있을까요? 모두의 노코드도 따로 막아두시디는 않으셨네용': 13185, ' 사진 데이터 왜 두줄씩 생기는지 알 수 있을까요': 13186, ' 안녕하세요. 커뮤니티 사이트를 만들려고 하는데요. 데이터베이스 설계에서 좀 애를 먹고 있습니다.. 글이랑 사진, 짤 같은 게 같이 들어가야 하는 게시글은 data field type이 어떻게 되어야 될까요..? 이게 배치되는 순서가 중요해서 이미지랑 텍스트를 따로 저장하는 방식은 안 될 것 같아서요..': 13193, ' 제가 지금 이 형국에 처했습니다. 어찌 극복하셨는지 조언 부탁드립니다.': 13197, ' 안녕하세요 현재 버블로 반응형 디자인으로 여러 웹 페이지 작업중인데, 나중에 앱 패키징할 때, 참고할만한 팁이 있을까요?': 13198, ' 토스페이먼츠 구현중인데,, 임시 디비를 만들어 상품정보들을 넣고, 성공시 오더아이디를 추가했습니다. 이 결과값들을(?) 원래 디비로 옮기고 임시 디비는 비우려고 하는데 워크플로우에서 어떤 방법으로 해야 하는지요?': 13199, ' 질문이 있습니다.버블과 씽크트리를 같이 한다는 분도 계시고, 또 어떤 분은 별로 안 좋게 생각하시는 분도 계신 것 같던데........프론트를 버블로 하고 백엔드를 씽크트리로 하는 것과전부 버블로 하는 방식의 차이가 무엇인가요?그리고 초심자 입장에선 뭐가 더 용이할까요?': 13202, ' 혹시 내일 컴업 행사 오시는 분 계신가요?': 13208, ' 요거 그때 토스팀에서 석세스페이지에 type of content 넣는 기능 나왔다고 하셔서 해결된줄알았는데, 아니었나요!?': 13219, ' 안녕하세요 노코드 솔루션에 대해서 궁금한 것이 있어서 질문드리려합니다.노코드 솔루션의 단점 및 한계가 솔루션에 종속되기 때문에 제약이 많고 대규모 시스템이나 복잡한 비즈니스 프로세스는 구현하기 어렵다고 하는데 그 예시를 알 수 있을까요? 복잡한 시스템이든 무엇이든간에 솔루션의 한계로 개발을 하지못한다면 치명적인 단점이라 생각하는데 기업에서 도입하는 이유도 궁금합니다': 13225, ' 대규모 시스템이나 비즈니스 프로세스를 구현하는데 제약이 생기는 이유가 구체적인 예시가 있을까요?': 13227, ' 감사합니다 특정한 복잡한 비즈니스프로세스를 구현하지 못하는데는 이유가 있을까요?': 13229, ' 질문의 의도를 말씀해주시면 좀 더 목적에 맞는 답변을 얻으실 수 있을 듯합니다': 13231, ' ui 엘리먼트인데 기능적 타협해야할 이유가 있나요?? 디자인측면에서는 당연히 어느정도 문제가 있겠지만 로직 개발할 때는 어떤게 있을까여?..': 13238, ' 웹플로우 추천하시는 무료강의 있을까요? 노코드캠프 유료강의도 생각중입니다': 13242, ' 앱패킹을 하면 이미지를 풀화면(구글포토에서 특정 이미지를 전체화면으로 보는)으로 보는게 가능 할까요?': 13244, ' open in a new tab 메뉴를 쓰고 싶은데, 앱으로 릴리즈할때 해당 기능을 쓰면 기능 동작이 안할 가능성도 있나요? 플러그인을 쓰는게 낫다면 뭘 쓰는게 좋을까요?': 13248, ' 컴업 행사 오신 분들 인사 나눠요! 저는 아레나2 쪽에 있습니다 :) 혹시 오셨나요?': 13252, ' 선생님들 질문이 있습니다..bubble로 주소입력부분을 daum주소검색을 사용했는데요.기본주소 부분을 ID Attribute로 값을 불러오게 했는데, 저장할때는 DB에 쌓이지 않아서요..검색해도 나오지를 않아서 혹시 문제를 해결하는 방법이 있을까요?': 13253, ' DB에 저장하는 워크플로우도 만드셨나요?': 13254, ' 안녕하세요 버블 입문하려하는데 입문안내서로 쓸만한 강의나 사이트 혹시 추천해주실 수 있으실까요? 어디서부터 시작해야할지 감이 안와서요': 13261, ' 동영상(?) 따라 구글에서 도메인을 구매하고, 샌드그리드로 메일 연결을 성공했었는데.. 꼭 구글이나 샌드그리드에서 안해도 되나요? 다른 곳으로 해도 된다면 버블과의 궁합(?)이 잘맞는 서비스들을 추천해 주셨으면 해서 조언 부탁드립니다.': 13265, ' 혹시 도메인 연결을 했는데 이렇게 나오는데, 왜 그러는지 아시는 분 있으실까요~?DNS도 변경했는데요 ㅠㅠ 사진 사진': 13266, ' 연결 잘 되신거아닌가요~? 사진': 13267, ' 앗 해결 됬습니다 :) 감사합니다 :) 혹시 꼭 index 페이지만 home으로 설정이 가능한가요?': 13268, ' workflowy는 약간 아카이브용 서비스인가요?': 13273, ' 이번 주의 첫날을 date 타입으로 반환하려면 어떡해야 할까요? Current date/time +days: Current date/time:extract day Current date/time +days: - Current date/time:extract day 오늘 날짜에서 날(day)에 현재 날짜의 day 컴포넌트만 extract해서 빼면 될 것 같은데 어처구니없게도 버블 익스프레션 편집기에서는 저걸 음수로 바꿀 방법이 없군요': 13275, ' 혹시 COMEUP 가보신분 어떠셨나요? 부스 같은것도 있는지 아니면 강연이나 발표 듣는 홀만 있는지 궁금합니다.. 처음가봐서': 13285, \" 버블 고수님들 질문있습니다!혹시 엑셀의 '피벗 테이블' 기능을 버블에서도 구현할 수 있을까요?정규화된 데이터 -> 행열을 입맛대로 바꿔서 보이려구요group by를 써서는 기능이 좀 많이 부족한 것 같아서요 ㅠㅠ 좋은 플러그인을 알고 계신분 있으실까요? ㅠㅠㅠㅠㅠ\": 13294, ' 고수님들 질문 있습니다,해치하이커님 영상보고 버블로 채팅 기능을 만들긴 했는데 알람 설정하는 방법이 있을까요?예를 들어, A가 B에게 대화 신청하면 B에게 알람이 갈 수 있게요': 13296, \" 알람이라 하면, 앱푸시 알람을 특정하고 말씀하시는건지요?혹은 서비스 내에서 알람을 받거나(알림종모양), 문자나 이메일, 카톡으로 알람을 받는 것도 생각하시는 기능인지요? 후자의 경우, '알림'이라는 data type 만드셔서하위 필드로 보낸유저, 받는유저, seen(y/n), 알림내용 등을 두고, 특정 트리거에서 create a new '알림' 설정해주시면 됩니다 seen(y/n)을 두는 이유는 읽음/안읽음 표시하기 위함이고요!\": 13301, ' 저 질문하나만 드릴게요. 리피팅 그룹 안에 질문 + 옵션셋을 만들고 질문은 디비에서, 옵션셋은 옵션에서 불러왔습니다. 1. 한 페이지당 질문이 5개 있고 이게 여러페이지면, 데이터 저장은 다음 버튼 눌렀을때 하면 될까요? 근데 change thing으로 지정할때 보이지 않는 element때문에 state 값 저장이 어려운 경우엔 어떡하면 좋을까요?2. 사진과 같이 하나만 선택해야하는데 여러개가 선택이 되는 이슈가 있습니다. Selected option스테이트 만들구 밸류를 current cell’s index로 지정하고 current cell’s index is group’s selected  option 이라고 했는데도 저렇게 나오는데 제가 잘못한걸까요? 사진': 13306, ' 안녕하세요. 버블 퍼포먼스 관련해 질문이 있습니다. 리스트로 된 이미지 데이터에서 하나의 사진만 가져오려고 하는데, 이런 경우 리스트의 내용을 전부 불러오고 나서 하나의 사진을 고르게 되나요? 이렇게 되면 좀 실행이 느려지나요?': 13310, ' 이방에 혹시 NHN클라우드 관계자 계신가요?': 13313, ' 저 테두리 쳐주는 conditional이 뭔지 확인해보시면 될 것 같은데용': 13314, ' 안녕하세요~ 노코드, 버블쪽으로 밋업을 계획해볼까 하는데요 혹시 스토리를 듣고 싶은 연사분이 있으신가요?': 13320, ' 버블 개발 문의 드립니다.어느 정도 페이지는 만들었고, 워크플로우 등도 나름대로 좀 넣고는 있는데...기능적인 부분만 \"보완 및 완료\" 요청드린다면 보통 견적이 얼마나 나올까요??': 13329, ' 사진 워크플로우를 일시적으로 비활성할 수 있는 기능이 언제 생겼을까요..? 원래 있었나요 제가 버블을 시작한 올해 초만 해도 없었어서 어처구니없어했던 것 같은 기억이 있는데..': 13335, ' 로그에서 모니터링 해보셨나요? 어디에서 워크로드가 소진되는지 확인해보세요': 13341, ' 안녕하세요!질문 하나 드려 봅니다!버블에서 별도의 DB 없이구글 스프레드시트를 DB 로 사용 하는 방법이 있을까요~?예를 들어, 회원리스트 업데이트를 구글 스프레드시트에 하면버블 관리자페이지에 자동으로 업데이트 되게요!!ㅎㅎ조심스레 질문 드려봅니다!': 13344, ' 반가워요. 질문이 있는데요.. 여러 no code mobile app 빌더가 있는데 특별히 버블이 아달로보다 나은 이유가 있을까요..?': 13353, ' 혹시 찬우님 생각에 나중에 native app 기능을 제공하면 지금 미리 만들어놓은걸 바탕으로 그대로 옮기면 개발되려나요..아님 또 따로..만들어야하려나요..ㅎㅎ': 13358, ' 버블로 프론트구현, 싱크트리로 백엔드 구현 하는거 구상중인데.. 이 조합으로 하시는부들 계신가요? 강의라도 있으면 좋을텐데..': 13367, ' 안녕하세요 플러터플로우 많이 쓰시나요? scalability 생각하면 이게 좋은거같긴한데.. 모바일 앱을 만들고 싶어서요. db는 많거든요.': 13373, ' 오 그런가요?': 13375, ' 버블에서 여러 객체를 한꺼번에 마우스로 드래그 한다음에 그룹해서 옮기고 싶은데 해당 단축키 아시는분 계실까요?': 13385, ' 안녕하세요~게시판 글 조회수 표시 할때1)한사람당 조회수 한번으로 제한2)그냥 누를때 마다 올라가게어떤게 더 나은 방법일까요?': 13386, ' 혹시 버블에 있는 백엔드를 사용하지 않고, 다른 데이터베이스를 쓰는 경우도 있나요?있다면 왜 쓰는건가요~?': 13388, ' 이미지 나열해주는 플러그인이 있나요?': 13390, ' 혹시 오디오 플레이어 버블에 넣어보신분들, 플러그인 추천 해주실 수 있을까요?': 13396, ' 고수님들께 질문 있습니다선택지를 주고, 다중선택 할 수 있게끔 하려는데요체크박스나 dropdown, radio buttons는 하나만 선택이 가능하잖아요multidropdown은 다중선택은 가능한데 좀 안 이쁘고.......다중선택할 수 있는 엘리멘트 중에 좀 이쁜 게 있나요?': 13397, ' 커스텀 스테이트가 무엇일까요.....?': 13399, ' 안녕하세요~! 혹시 벡앤드 개발자분을 따로 구했는데 버블과 연결할 구 있나요?? 할 수 있나요?? 로그인과 로그아웃기능 정도 구현했다고 합니다!!': 13403, ' 백엔드는 어디서 구현하세요?': 13405, ' 궁금한점이 있는데요! 옵션셋에 따로 설정하는거와 차이가 있을까요~?': 13409, ' 아~그건 EC2에 올려서 외부 API로 하는게 좋을듯요 ㅎ 그럼 fastapi랑 버블이랑 붙는건가요': 13414, ' 맞춤이 혹시 무슨말인가요?': 13416, ' 버블에서 db 프라이머리키 역할 하는게 다이나믹으로 하는게 맞나요?': 13433, ' 고수님들께 질문이 또 있습니다채팅 기능에 대화가 오가는 건 repeating group으로 하는거잖아요?대화 말고, 파일을 보낼 수 있는 방법이 있나요?카톡처럼 파일 업로드하기 버튼이 있는 게 아니라 대화창에 이미지나 pdf 끌어다 놓으면 파일이 자동 업로드 되는데 그와 같은 기능이요': 13440, ' 네이버, 카카오 로그인에서 로딩 후에 한번에 로그인되지 않고 한 번 로딩 후에 끊겼다가 다시 로딩되면서 로그인이 되는데한번에 로그인되도록 해결하는 방법 아시는분 계실까요?? 동영상': 13441, ' redirect url 설정값을 원하시는 페이지 값으로 하셨나요 ?': 13443, ' Redirect url 설정값은 api connector에서 USE A GENERIC REDIRECT URL에 체크표시했어요! 이거 말씀하시는게 맞을까요?? 사진': 13444, ' 사진 @하영태/ 기획, 디자인, 개발 도전중 이 플러그인 말씀하시는 걸까요?': 13449, ' 야심한 밤입니다.. 혹시 버블 앱에 네이버지도나 카카오지도 불러와서 사용중이신분 있으실까요? html 리소스 불러와서 appearance 에 관련 html 스크립트 작성했는데 프리뷰에서 보면 맵이 안불러와지고 kakao is not defined 라는 디버그 메세지만 나옵니다 ㅠㅠ 어디서 잘못된걸까요?': 13473, ' 페이지 헤더에 코드 넣어주셨나요?': 13474, ' 선생님들 안녕하세요 매일 질문하게 되네요..!메뉴가 나오는 플로팅 버튼 기능 구현하고 있는데, 다른 화면을 클릭했을 때, 플로팅 버튼이 hide되게 하려면 어떤 방식이 가장 간단할까요?다른 화면을 선택한다는 것을 표현하기가 어렵네요..': 13479, ' 다른 화면이 같은 페이지 내 리소스를 이야기 하시는건지요?': 13480, ' 이미지를 리스트로 업로드 할때 사진첩에서 이미지 여러장 선택하는건 네이티브 기능인가요??픽처 업로더 여러개써서 하려니 좀 지저분해 보이는데요 이거 팁좀 알수 있을까욯ㅎ': 13483, ' 혹시 커스텀 스테이트를 배열 처럼 사용할 수 있는 방법이 있을까요…??': 13485, ' 커스텀 스테이트 값 자체를 list로 만드시는 방법 이외에 특정 엘리먼트의 모든 커스텀 스테이트를 리스트처럼 활용하고 싶으신 건가요': 13486, ' 버블에서 자체적으로 네이티브 가능하게 한다고 하는데 언제 출시되는 지 아시나요?': 13489, ' 선생님들 점심식사 맛있게 하셨나요?워크플로 통해서 sms 보내려고 하는데, 내용에 서비스 내 특정 페이지 url 을 물고들어가게 하려면 어떤걸 사용해야할까요..?찾아보니 home url과 this page url 만 있는 것 같아서요.편법을 쓰면 될 것 같긴한데, 조금 더 단순하게 하는 방법이 있는지 궁금합니다..!': 13490, ' 안녕하세요~ 코딩이나 버블을 전혀 몰라서 문의드립니다. 혹시 버블로 헤이딜러를 따라만들기로 만들 수 있을까요??': 13496, ' 혹시 태그 매니저 세팅하는 예제가 있을까요? 오랜만에 하려니 GA4로 다 바뀌었네요 충분히 가능할거에요': 13497, ' 안녕하세요!혹시 버블에서 버튼을 누르면 지정해둔 n개의 페이지 중 랜덤한 페이지로 넘어가게 하는 기능이 구현가능할까요?': 13499, ' 랜덤한 데이터A의 다른 값을 한 페이지 내에서 공유할 수 있는 방법도 궁금합니다!ex) 데이터1 속성1 속성2일때 한 페이지에 있는 text1은 속성1을 표시버튼1은 속성2를 표시': 13501, ' 안녕하세요! 버블초보인데요🥺 게시글 찜 기능을 간단하게 구현할 수 있는 플러그인이 있을까요?? 혹시 없다면 어떻게 구현해야할지 컨셉만이라도 조언 부탁드립니다!': 13503, \" 사진 선생님들 좋은 아침입니다!위와같이 Current pages's DataField를 불러와서 다이나믹 텍스트를 보여주는 페이지입니다.간혹 링크타고 로그인해서 보면 다이나믹 데이터 못불러와서 비어있는 경우가 자주있더라구요..혹시 제가 체크해봐야 할 사항이 있을까요..?\": 13513, ' 희철님! 혹시 참가비는 금액은 개인이 자유롭게 정하는 건가요?': 13514, ' 참가비 없고 뒷풀이 때 3만원이요^^ (뒷풀이는 자율참석) 비어있었을 때 다시 보이는 건 어떨때 보였었나요?': 13516, ' 텍스트 크기,길이 확인 한번 해보세요~': 13518, \" 혹시 이 상황을 전반적으로 알려주는 스터디 자료 같은 게 있을까요?제가 버블만 익숙하고 아직 AWS는 사용 안 해봤는데, 데이터베이스 공부 외에 AWS 이용하려면 스터디해야 할 분야도 추천해주실 수 있을까요? 'SQL은 공부해야겠지...?'라고 막연하게 생각하고 있는데 이외에 어떤 점을 고려해야 할지 궁금합니다 ㅠㅠ\": 13523, ' 혹시 도중참가 가능한가요?당일 일정이 있어서 14시부터는 어려울수도 있을텐데 , 도중참가는 가능한지 궁금합니다.': 13529, ' 안녕하세요..! natively를 통해 pwa 앱을 앱스토어에 등록했고업데이트를 위한 절차를 밟는 중입니다. 그러던 중 앱스토어에서 빌드 선택 과정중에 막혀있는데, 혹시 이 부분 해결하셨던 경험이 있으신 분이 계실까요?': 13530, ' 사진 선생님들 드롭다운 항목을 user of list에서 불러오고 있는데, list면 위와같이 항목마다 모든 필드데이터가 포함되는게 맞는지요?': 13531, ' 혹시 workelist의 타입이 list of users 인가요?': 13535, ' Choice Source = current page’s Place’s WorkerlistOption caption = username': 13538, ' 유저들이 사용할 게시판을 만들면 게시판 리피팅그룹에 Data sourse를 Do a search for 게시판으로 뿌리는 방법밖에 없는거 맞나요? 게시판 데이터 생성될때마다 각 User 한테 넣어줄까도 했는데 이때도 Do a search for User를 써야되는것 같네요 가급적 Do a search for를 안쓰고 싶어서 고민중입니다 혹시 팁 있을까요?': 13539, ' 데이터 짜기 너무 어려워요 엉엉 도움될 만한 강의 같은 게 혹시 있을까요...': 13554, ' 주소 검색은 주로 어떤걸 쓰나요₩?': 13570, ' 고수님들, 데이터 관련 문의 드립니다.서비스를 이용하는 집단을 A, B, C로 나눈다고 가정하고user에서 A/ B/ C를 연결해주는 것과A/ B/ C 각각 데이터에서 user를 연결하는 방식에 큰 차이가 있나요?': 13572, ' 안녕하세요 질문 드립니다! ✅ Input field 입력시 iOS 모바일 화면이 자동으로 줌이 되는 현상 ✅제가 검색해봤을때는 아래 두가지방법으로 해결할 수 있다고 하는데, 폰트 사이즈는 작게 유지하고 싶어서요, 혹시 다른 방법이 있을까요? 1. font size : 최소 16px 2. Setting > General > Prevent the user from zooming': 13573, ' 혹시 여기 API 관련해서 답변이 가능하신 분 있을까요 ㅠㅠ?naver ocr api 연동하려고 하는데, 잘 안되네요..': 13578, ' 뒷풀이 참가 비용 3만원 맞죠?': 13580, \" 안녕하세요. 예약사이트 제작중인데요. 오늘 기준으로 예약기간이 경과된 건들에 한하여 '예약완료'에서 '이용완료'로 변경하고 싶은데.. 이럴 때 백엔드워크플로우를 쓰면 되는건가요?\": 13585, ' 네이버 ocr이 두가지 방식이 있는데 어떤걸 사용하시나요?': 13590, ' 혹시 노션 문서도 업데이트됐을까요??': 13594, ' 아 네 ㅠㅠ제가 naver ocr api를 연동하려고 하는데요~위 api 문서 URL을 보고 아래 캡쳐화면과 같이 넣었는데 캡쳐 사진과 같이 이슈가 뜹니다 ㅠㅠ혹시 뭐가 잘 못 되었을까요~? 사진 initialize call을 누르면 아래와 같이 뜹니다..! 사진': 13596, ' 사진 사진 선생님들 좋은 아침입니다.매번 도움주신 덕분에 기능들 조금씩 완성해보고 있는데, 아직 막히는 부분이 있어서요..캘린더에서 특정날짜를 선택하면 그 날짜에 해당하는 work의 title을 보여주고 싶은데, 구현할수 있는 방법이나 힌트가 있을까요..?': 13597, ' 아 이해했습니다. 말씀해주신게 훨씬 로드가 줄겠네요.spa 방식 선호하신다해서 또 궁금한게 생겼는데, 어드민/유저 권한에 따라 보여지는 페이지가 다른 경우, 어드민/유저의 모든 구성요소를 한 페이지에 넣고 권한에 따라 노출하는 방식도 사용하시나요?아니면 이런 경우는 페이지를 아예 분리하시는지도 궁금해요': 13604, ' 안녕하세요 간만에 질문이 있는데..원래 PWA를 활용하였을 때는 사진 2장 주소찾기 팝업이 잘 떴는데.. 앱스토어에 등록하고 난 뒤에는 사진 이렇게 뜨네요.. 사파리,크롬등 브라우저 단에서 팝업차단 허용설정을 해도 해결되지가 않더라구요..!아마 애플 차제에서 앱내에서 외부 창이 열리는걸 막아놓는것 같은데 혹시 이와 유사한 문제를 해결하신분이 계실까요?': 13607, ' 혹시 캘린더는 어떤거 쓰셨나요?!': 13610, ' 네 예제 사용법 및 코드가 있긴한데, 저는 초심자라 적용하는건 아직 실패했어요..혹시 성공하신다면 방법 공유해주시면 너무 감사드릴 것 같아요. 처음에 제가 질문 올렸던 캘린더 말씀하시는게 맞을까요?맞다면 BEP 캘린더 사용했습니다.': 13611, ' 사진 혹시 달력 이런식으로 쓸만한 플러그인 있을까요? 날짜 + 간단한 메모': 13613, ' 혹시 한국 노코드 커뮤니티 오픈채팅방(장범준님 개설) 비번 아시는 분 있나요?예전에 참가했었는데 활동을 안해서 내보내기 되었었네요 ㅠ': 13616, ' 들어오신것 같은데요??': 13617, ' 혹시 일정 사례비를 드리고, 조금 더 가이드를 받을 수 있을까요ㅠㅠ?!': 13620, ' 안녕하세요, 간단한 to do list 웹을 만들고있습니다그런데 체크박스에 체크를 하거나 / 풀어도그게 데이터베이스에서 실시간으로 반영되지도 않고, 간헐적으로 yes/no 값이 바뀌네요…혹시 뭐가 잘못된 걸까요 \\x1eㅠ 사진 사진': 13623, \" 네이버를 이용한 sms 위젯을 구현중인중입니다. sms는 잘 되는데 lms 나 mms 는 실패가 나오는데, 별도로 설정하는 곳이 있는지요? 혹시 'sms 전송'플러그인은 sms 만 되는거 아닌가 싶은데.. 혹, 아시는 분께 조언 요청드립니다. lms 나 mms 는 이 위젯으로 안되는건가요? sms위젯을 만든 장본인이죠 ^^ 혹시 이 플러그인 sms 단문만 가능한가요? lms는 직접 api 로 구현해야 하는지요?\": 13628, ' 오오 알림톡 연동되면 저도 도움 받을 수 있을까요? Sms는 플러그인으로 쉽게 되서 잘 사용하고 있는데 알림톡도 연동하려구요🙇\\u200d♀️': 13634, ' 호스 버블에서 토스 결제붙이면 카드 등록같은 것도 되나요?!': 13635, ' 사진 NHN Cloud SMS 를 이용하고 있는데,, API connector 설정을 이렇게 했는데,, 전송이 안되요.. 어디가 잘못됐는지 알 수 있는 방법에 대한 조언 부탁드립니다.': 13642, ' 아직 사용은 못해봤지만 네이티브로 만들어주는 natively 플러그인도 있던데 해당 플러그인 사용해보신분들 괜찮나요?': 13646, ' 현재 시점에 백엔드워크플로우를 동작시키 위해서 Scheduled date 를 current date/time 으로 하면 되는것 아닌가요?': 13658, ' 버블 고수님들 질문 있습니다.... SPA로 구성한 웹에 Google Analytics를 연결했는데... 아무래도 페이지가 하나라서 그룹별로 사용자가 상호작용 하는 걸 바로 파악할 수가 없네요 ㅠㅠSPA 웹은 고객 데이터를 어떻게 추적하나요? ㅠㅠ': 13659, ' 흠.. 혹시 SEO 세팅해보신 분 계실까요?사이트 업데이트와 SEO 부분 업데이트를 쳤는데계속 과거 사이트 정보를 구글이 크롤링해가는 이유가 뭐 있을까요..? 혹시 아시는 분 계시나요 ㅜ': 13663, ' 안녕하세요. 예약 사이트 개발 막바지인데요. 체크인 또는 체크아웃일시에 맞춰 사용자에게 문자를 보내려면.. 백엔드워크플로우를 써야겠죠? 어떻게 개념을 잡아서 만들어야 할까요? 조언 부탁드립니다. 사진 스케쥴데이터 값에 어떻게 하면 오전 9시라 정의할 수 있을까요?': 13671, ' 혹시 신청 기한이 23년 11월 21일 까지면 다들 어떻게 설정하시나요?23년 11월 21일 59초 까지 설정을 하시는지23년 12월 22일 오전 12시 로 맞추시는지…후자일 경우 날짜가 고객이 보면 22일로 헷갈릴 것 같아서 전자로 하고 싶은데 59초까지 설정이 잘 안되어서 여쭤봅니다!': 13684, ' 사진 ID만 다를뿐 똑같은 것들이 왜 이리 많이 생기는 걸까요? 어떤 부분을 봐야 할까요?': 13686, \" 'on a list로 스케줄'을 한다는 말이 어떤 걸까요?\": 13688, ' Api 워크플로우로 하니.. 하나만 생성되고, 예약한 시간에 잘 동작합니다. 고맙습니다 🙏': 13694, ' 선생님들 안녕하세요! 데이터쪽에서 궁금한게 생겼습니다..일 별 출석을 표현하고 싶은데, 필드를 date로 설정하니 time까지 나와서요..yy.mm.dd 이 정보만 인풋시키고 싶으면 필드로 text로 설정해야할까요?': 13696, ' 특정 주소를 입력했을 때, 오픈그래프(og:title, og:description, og:image)메타 데이터를 버블에 저장할 수 있을까요?': 13698, ' 안녕하세요..! 혹시 왈라폼 버블에 웹훅 연동시켜보신 분 계실까요? 이곳에서 웹훅 연동은 했는데, 인증에러가 나서 막혀있는 상황입니다….! 이전에 tally로 웹훅 연동해서 썼었는데,, 왈라로 넘어가고 싶어서요 ㅎㅎ 사진': 13699, ' 안녕하세요 , 이미지 파일을 업로드하고 저장하는 부분에서 가끔식 이미지가 거꾸로 저장될때가 있는데 이를 방지하거나 커스텀 해서 정방향으로 저장할수 있는 플러그인이 있을까요 ?': 13700, ' 선생님들 궁금한게 생겼는데, 워크플로에서 changes to thing 했을때, 기존에 필드가 없다면 새로 생성하나요? 아니면 아예 작동을 안하나요?': 13701, ' 사파리에서는 커스텀폰트가 안 먹히는 현상이 있는데.. 왜일까요?': 13703, ' 희철님 하나 궁금한게 있는데 자피어로 연동하셨을 때도 request data를 통으로 받은 다음에 버블에서 필요한 데이터부분 dynamic expression으로 설정하시나요?': 13712, ' 무료 (뒷풀이 참가 비용은 별도)-참가 신청 마감 :': 13718, ' 사진 안녕하세요! 혹시 seo에서 메타태그로 1번은 title 부분인 건 알겠는데 2번부터 5번까지는 어떤 형식의 무엇을 채워넣어야 저렇게 나오는건지 알 수 있을까요!?': 13720, ' text로 출력되는 number type 숫자가 1,000,000 단위가 넘어가면 text 크기를 줄이고 싶은데 걸어줄 필터가 있을까요? 아… >으로 해결했습니다;;': 13726, ' 4자리 숫자 1513을 (text 아니고 number입니다..!)15와 13으로 앞에 2개 뒤에 2개 분리하기 위해서는 어떤 조건식을 사용해야할까요..?': 13727, ' 정말 감사합니다 😊 사진 저희가 natively를 활용하여 appstore에 배포를 했는데.. 저런 카톡채널과 같이 외부링크가 열려야하는건 애플에서 막아놔서인지 전부 먹통이 되더라구요..혹시 외부링크가 아이폰 앱에서 열리게끔 하려면 어떠한 절차를 더 해줘야하는지 알 수 있을까요..?': 13729, ' 정말 감사합니다. 혹시 코린이님은 앱도 등록하셨고 토스페이먼츠도 하고 계실까요?저는 토스페이먼츠를 이용하고 있는데, 앱에서 볼때는 카카오페이가 안되더라구요.. (이것도 외부링크 열림과 관련이 있는것 같은데) 혹시 이 문제를 해결하신 경험이 있으실까요?': 13733, ' 사진 2장 왼쪽이 정상화면, 오른쪽은 필리핀 유저가 캡쳐해서 보낸 화면인데요 ㅠㅠ 폰 기종이 문제인지 간격도 줄고 전화번호 인풋 플러그인도 없어지는거같은데 뭐가 문제인지 아시는분 계실까요..? 해결방안이 있을까요?': 13736, ' 왼쪽화면에서 english 눌렀을때는 정상적인가요?': 13737, ' 폰트 문제죠 간격은 뭘로 설정하셨을까요? 마진을 주신 건지 갭을 주신건지 아 버블 스타터 플랜했다가 결제됐는데 환불 되겠죠...?': 13741, ' 아마 갭을 줬을거예요! 대부분 갭으로 설정해두었거든요 이것도 원인이 될까요?': 13747, ' 플러그인이 브라우저에 따라 작동이 안될 수도 있을까요?': 13749, ' 버블에서 폰트는 그냥 기본 폰트 건들이지 않았어용 삼성폰 아닌 안드로이드폰에는 무슨 브라우저가 깔려있을까요...?': 13755, ' 구글 애널리틱스 말씀이시죠? 오늘 플러그인 설치해서...설정해보는중이라ㅠㅠ 생각보다 pc나 모바일 기기를 잘 못다루는 분들이 굉장히 많네요...ㅠㅠ': 13759, ' 버블 입문할까? 고민중입니다. 혹시 한국에서 버블로 개발하여 실제 운영 중인  서비스/사이트 등을 모아놓은 곳이 있나요?': 13766, ' 혹시 retool 써보신 분 계실까요? 내부 데이터와 연결해서 검색창을 만드는데 활용해볼까하는데 관련 경험 있으신 분이 계실까하여 질문드립니다': 13770, ' 있으면 무엇을 하시려고요?': 13774, ' preview누르면 계속 로딩 걸리는데 저만 그런가요?': 13795, ' 라이브에서 안된다는게 파일저장이 안되는건가요? 아니면 업로드자체가??': 13807, ' db에 저장이 안된다는 말씀인가요?': 13810, ' 혹시 다들 file upload 플러그인응 뭐 사용하시나요~?': 13813, ' 한 가지 더 여쭙겠습니다...ㅜㅠfile downloader 이거 말씀하신거죠??이거 설치는 했는데 보이지가 왼쪽에 보여지지가 않는데........ 어떻게 사용해야 할까요...?': 13829, ' 오오오오~!!!! 감사합니다ㅜㅠ 추가 질문 입니다,,혹시 링크 여는 플러그인 써보신 분 계실까요? open url in new tab이라는 플러그인을 다운 받았는데 워크플로우를 어떻게 짜야 할 지 모르겠어요ㅜㅠ': 13832, ' full calendar 쓸 때 같은 날짜는 하나만 저장되도록 하는 방법이 있을까요?날짜를 제외한 다른 값만 업데이트 하도록이요': 13840, ' 질문이있습니다내가 만든 Jsp파일을 버블편집창에 불러올수 있나요?': 13842, ' 안녕하세요, 버블 고수님들질문이 있습니다.채널톡 스크립트를 header에 삽입하는 중에, 회원정보 연동을 위해서 아래 이미지와 같이 버블 사이트내 고객 데이터 값을 가져와야만 하는데 가능한가요~? 사진 혹시 답변 가능하신 분 있으실까요 ㅠㅠ~?': 13847, ' 안녕하세요! NHN클라우드에서 알림톡 연결하고싶은데, API연동이 어렵네요 ㅠㅠ.. 우선 치환발송이랑 전문발송 차이가 뭘까요..?': 13850, ' 사진 전문발송, 치환발송 가이드에 있는대로 넣어봤는데 같은데 Reunutualize call 누르면 -3002가 계속 뜨는데 이유가 뭘까요 ㅠㅠ..': 13852, ' 보내주신 사진이 치환발송에 해당하는건가요 전문발송에 해당하는건가요?': 13857, ' 치환발송이랑 전문발송은 url이 서로 다를거라서 확인해보셔야될 것 같구요, 치환발송의 경우에 nhn에 템플릿 등록 되어있나요?': 13859, ' nhncloud 이용하시나요?': 13867, ' 안그래도 이사진 보고 한다고 했는데 어렵네요 ㅠㅠ 사진 제가 하려고하는게 전문발송인거같아서 전문발송으로 다시 바꿨습니다 ㅠㅠ 앗 전문발송으로 이렇게 하니 뭔가 되고있습니당! 근데 전문발송에 등록된 템플릿에 내용이 있는데, 내용을 추가 작성하면 템플릿이랑 별도로 발송되나요?': 13872, ' 잠시만요 살펴보고 알려드릴게요! 동민님 혹시 줌이나 통화가능하신가요?>': 13878, ' 안녕하세요!혹시 Zapier로 연동중에, 왜 Dev만 뜨고 실서버는 안뜨는지 아시는 분 계실까요~? 사진': 13881, ' 혹시 클릭 후 드래그하면 안되나요?': 13887, ' +(minutes) 에서 30분 후로 하려면 30을 넣어야 하나요? 아니면 초로 계산해서 1800 을 넣어야 하나요?': 13890, ' 스타터버전인 경우 Recurring workflows 를 1개만 쓸 수 있나요?': 13895, ' 오픈챗 어떻게 드리면 될까요?': 13901, ' 채팅이랑 지도 서비스까지 구현 가능한 노코드 툴로는 뭐가 적합할까요?': 13902, ' 현준님 이 웨비나에서 어떤 플러그인 사용하실 예정이신가요?': 13905, ' 네 기문님 혹시 요청사항같은 거 있으실까요!?': 13908, ' 🙋\\u200d♂️ 혹시 work-flow에서 html 코드를 작동하게끔 하는 방법이 있을까요~?!': 13910, ' 질문.있습니다회원가입 동의체크와 같이선택항목 체크하면 저장 되도록 하는건 어떻게 하나요?디비는  y/n으로 했는데디자인에서 체크박스 후워크 플루우에서 저장할때 보이는\\' is checked\"가 아닌가 보네??요?': 13912, ' 디폴트를 no로 두고, 체크박스 is checked 일때 -> 워크플로우에서 no를 yes로 바뀌게 하면 될거같습니다 혹시 이렇게 했는데 안된다는 말씀이실까요?': 13913, \" 안녕하세요ㅜ 하나 여쭐 것이 있습니다노션api 버블에 연동하는 데 성공했는데 (나중에 글 올릴게요!)노션api 뿐 아니라 버블에 api 연동한 수 해당 api response 불러올 때 'raw body text'는 왜 항상 empty 값일까요?응답 전체 json 을 텍스트로 받아오고 싶은데요ㅜㅜ 사진 *연동한 수 -> 연동한 후 전체 받아와서 요리조리 조리하고 싶었는데........................ 아!!!!!!!!!! data type을 json 고정해놨더니 text로 안불러와지는거군요text로 바꿔서 해결했습니다근데 그렇게 되면… json 형태로 요리조리 조리를 못하는데..api call 을 각각 text 형태로, json 형태로 두 번 호출하는 수밖에 없을란가요..?\": 13917, ' json타입에서 raw body text 값을 받아온 적이 있으세요?': 13921, ' 안녕하세요! 오늘도 질문이 있습니당 ㅠㅠ 날짜 예약 시스템인데 국내에서는 데이터에 저장될때 12시로 저장이 되어서 잘 반영이 되는데 필리핀 현지에서 만든 예약 데이터는 새벽1시로 저장이 되네요 ㅠㅠ .. 전에 무슨 시간대 설정하는거에 대해 본거같은데 시간대를 한가지로 고정하면 해결될까요?': 13924, ' 아~ 천재십니다 해봐야겠어요 헉ㅋㅋㅋ 감사합니다!! 와 이거 바로되네요 전 너무 바보인것같습니다 ㅜㅜ 혹시 하나만 더 여쭤보면..이게 제가 치는 메시지는 말씀하신대로 set focus로 해서 아래로 잘 가지는데..혹시 상대방이 친 메시지따라서(저는 채팅은 안눌렀더라도) 스크롤이 아래로 내려가는것도 가능하려나요?ㅠ': 13927, ' 와... 뭔가 조만간 나오지 않을까요': 13932, ' 근데.. 상대방이 메시지 보냈을 때 (새로운 채팅데이터가 생겼을 때) 리피팅그룹에서 자동으로 아래로 새 데이터가 쌓이면서 스크롤이 되지 않나요? 제가 채팅 구현했을 때는 딱히 부자연스러운걸 감지하지 못했어서.. 기억이 가물..Reverse rg 플러그인 쓰셨죠?': 13935, ' 헉 혹시... 개발 단계에서 트라이얼을 쓰신건가요??': 13944, ' 그래서 정답은요?': 13961, ' ㅋㅋㅋ F중에 T !': 13973, ' T중의 T ㅋㅋㅋ': 13974, ' 안녕하세요, 혹시 버블에서 네이버 sens 알림톡 api 이용하고 계신분 있을까요?': 13982, ' 2라운드 B그룹 동엽님 맞으신가요?': 13983, ' 네엡 이모티콘 잘 들어 가셨죠?ㅎㅎ': 13984, ' 안녕하세요 저 혹시 노코드로 만들 수 있는 간단한 페이지같은거 참고 할 곳이 있을까요?': 13993, ' 안녕하세요 굿모닝입니다!혹시 natively IOS & Android app builder 플러그인 사용하시는 분 계신지요?': 13995, ' 브랜드 페이가 혹시 마켓컬리의 자체 페이처럼 똑같은 개념인가요~?': 14006, ' 혹시 질문 하나만 드려도 괜찮을까요.?? 저희가 Sens 연결하는 데 어려움을 겪고 있습니다ㅠ': 14011, ' 혹시 버블에서 소셜로그인을 구현할 수 있나요~? 예를 들어 카카오싱크 연동이요!': 14015, ' 앗 그러면 혹시 따라해볼 수 있는 아티클이나 영상이 있을까요 ㅠㅠ?!': 14018, ' 혹시 버블로 프론트 만드시고, supabase로 백엔드 구현하신분 있으실까요? 참고할만한 아티클이 있을까 궁금해서요 ㅎㅎ': 14019, ' 혹시 순수 버블로만 만든 참고해볼만한 사이트가 있을까요?': 14021, ' 아님 앱?': 14023, ' 어떤 종류의 앱을 보고싶으신가요?': 14024, ' 커뮤니티류요 있다면': 14025, ' 헐 이거다...;; 혹시 모두의 노코드 이 사이트가 노코드로 만든건가요?': 14027, ' 아구 뭔가 좋은 컨텐츠였나요? 운동맘 커뮤니티 앱이 스토어에 출시되어있나요?그게 올 노코드 결과물이구요?': 14036, ' 안녕하세요. 혹시 버블에서 사용할수 있는 세금 계산기 Api가 있을까요??': 14046, ' 안녕하세요! 혹시 List of ~~ 인 데이터를 리피팅 그룹 한 칸에 하나씩 뜨게 하는 법은 없을까요 ㅠㅠ?지금 칸은 데이터 수에 맞게 생성되는데 한 칸에 모든 내용이 다 들어가 있습니다... 사진': 14053, ' 리피팅그룹의 Data soure를 어떻게 하셨나요': 14054, ' 이모티콘 혹시 페이스북 메신저 연동해보신 분 계실까요..?': 14058, ' 혹시 사스 플랫폼도 버블로 개발 할 수 있나요??': 14065, ' 혹시 독학으로 만들 수 있을까요?': 14068, ' 오 첨보는 분이니ㅔ요': 14077, ' 여러분혹시 도메인 구입하실때 어디 주로 이용하시나요?SendGrid연결 하기 용이하려면 해외 업체 사용하는게 가장 Best일것 같긴 한데원하는 도메인.com이 이미 누가 파킹해놓은 상태라서국내 도메인 업체를 찾고 있는데가비아가 나을까요 호스팅케이알이 나을까요...?경험 있으신분들 공유 부탁드립니다 ㅠㅠ': 14079, ' 도메인 프라이버시 이용하는데 추가 지출이 필요하나요??': 14083, ' 혹시 버블로 웹앱 만들면서 인스타그램 처럼 채팅하게 만들 수 있나요?': 14085, ' 안녕하세요~~모바일화면이랑 PC화면이랑 마진값이 한 20정도 차이나게 보이는데요 이거 어떻게 고쳐야 할까요 사진 사진': 14114, ' 아 .. ㅎㅎ 가로스크롤바가 생기면 아래로 길어지나요?': 14118, ' 음... 복잡한 문제가 생겼어요적용할 리피팅그룹에 ID Attribute를 스크롤 스냅 으로 넣어놔서 스크롤바 커스텀ID Attribute적을곳이 없는데 이럴땐 어떻게 해야할까요;;': 14125, ' 같은 아이디로 적용이 안되나요 ???': 14126, ' BDK 랑 네이티블리 둘 다 써보신분? 성능이나 기능에 큰 차이가 있을까요 ?': 14132, ' 사진 안녕하세요! Input + fuzzy search + group focus 통해서 Input에 글자를 입력하면 group focus에 데이터 값들이 불러와지게끔 했는데(리피팅 그룹)리피팅 그룹 중 한 값을 클릭하면 Input 의 value를 해당 데이터로 자동 완성할 수 있는 방법은 없을까요? ㅠㅠ 이모티콘': 14136, ' 안녕하세요!!현재 네이티블리에 애플로그인 기능을 넣고 있는데 플러그인은 안되는것 같고 코드로 했을땐 redirect시 notfound가 나오는 경우 해결해보신분 계신가요!?아니면 네이티블리로 애플로그인 구현되는지 아시는분 계실까요?': 14137, ' 그럼 내일 자정 12시 떙하면한 5시간뒤 오픈하나요': 14149, ' 어떤건지 혹시 내용을 좀 더 자세히 알 수 있을까요~?': 14161, ' 폰트를 스타일로 지정하는게 좋다고 하는데 어느정도 차이가 있을까요?다른분들은 스타일 사용하고 계신가요?': 14168, ' 안녕하세요, 혹시 csvbox 쓰는 분 있을까요?Created by 가 계속 App admin으로 떠서 고민이 많네요ㅠ': 14175, ' 사진 카드가 여러개인데, 첫번째나 마지막 것이 아닌 모든 카드를 대상으로 하려면 어떤 값으로 해야 하는지요?': 14183, ' 오늘 세미나 참여신청을 했는데요!혹시 오늘 세미나에서 제가 결제 위젯구현중에 여기서 막혀서, 혹시 해결이 가능할까요…? :)': 14185, ' 파라미터나 별도의 데이터를 불러온 것은 아니고요? 속도가 많이 차이 나나요?': 14192, ' 웨비나 기다리고있는데 아직 시작안한거죠?': 14195, ' 콘솔 업데이트가 시간이 꽤 걸리긴해요~! 일단 robot에서 데이터 제대로 가져오게 돼 있는지 먼저 확인해보시면 어떨까 싶습니다.': 14210, ' 안녕하세요, 혹시 버블에서 email 기능 구현해보신 분 중에 email이 수신자들에게 클릭됐는지 클릭수를 확인하는 법을 아시는 분 있을까요?': 14213, ' 신규 컨텐츠가 올라왔을 때 목록 타이틀에 [new]라는 라벨이 노출되고, 일정시간이 경과되면 사라지게 하려고 하는데,, 어떤 방법을 써야할지 조언 부탁드립니다.': 14217, ' 사진 조녀석(스마일 아이콘)인데.. 기본이 없다가, 저럴 때 나타나긴 하는데,, 다시 사라지게 하려는게 안되네요. 사라지게 하는건 어떻게 값을 넣어야 할까요?': 14219, ' 오늘 토스 결제 관련 구글링을 하다가 알게되었는데요?!토스 디스코드에 질문을 올렸던 내용들이 사이트에 연동되서 아카이빙되더라고요?오? 하고 너무 좋은데? 생각이 들었는데 제가 이해한 내용들이 맞나요? ㅋㅋ': 14224, ' 답변 감사드립니다..!! ㅠㅠ 혹시 처음부터 리유저블 엘레멘트들로 다 작업했으면 편했을까요?? 지금은 기존 페이지가 30장밖에 안되서 가능한데, 나중에 페이지들이 더 늘어나면 힘들 거 같아서요…!!': 14242, ' 안녕하세요. 버블 처음 사용을 해보려고 하는데요. 기본 메뉴 사용이나 기능 사용에 대해 오프라인으로 교육이 있는 곳이 있을까요? 2~3시간 정도 교육하는 곳이 있으면 좋겠는데요 ㅜㅜ': 14245, ' 버블 고수님들 안녕하세요! 혹시 텍스트 appearance에서 쓴 글을 주석처리할 수 있을까요??': 14250, ' 혹시 버블 로드 속도를 개선하려고 하면 어떻게 해야 하나요~?': 14251, ' 안녕하세요custom state type을 yes/no로 정했을때 값이 비어있으면 no로 인식하나요?': 14256, ' Delete 버튼에 set state 를 초기화하는 워크플로우를 넣으셨나요?': 14259, ' 컨디션 하나 넣을때 전부 and로 두가지 조건을 넣어줘야 할까요?': 14262, \" 혹시 카카오 소셜로그인에서 phone_number가 안 나오는 이유 아시는 분 있으실까요~?!개인정보 항목에서 전화번호 '필수동의'로 체크했는데 API에서 따로 안 보이네요 ㅠ 사진\": 14280, ' 혹시 workflow랑 only when 조건을 어떻게 했을때 그렇게 작동하는지 알수 있을까요?state값이 비어 있을때 들어가는건 당연한건데state값이 들어있을때에는 한번 지웠다가 다시 집어넣어서지우고 끝내는 방법을 못찾겠어요;;': 14286, ' 안녕하세요. 질문이 하나 있어서 글 남깁니다.혹시 버블로 만들어진 앱 중에 가장 고도화된 앱이 어떤게 있을까요? 기능, ui 등등..': 14289, ' 씨그로 챗봇은 어디 업체일까요?': 14292, ' 그렇군요 챗봇 추천해줄만한 업체 있을까요?': 14294, ' 국내에선 채널톡 많이 쓰시는것 같습니다 채널톡 좋아요': 14295, ' 제가 오랜만에 질문을 올리네요^^이메일 서비스는 어떤 걸 쓰세요? 제가 그간 버블 기본인 Sendgrid를 써 왔는데 바꾸어보려 합니다. 추천 부탁드립니다.': 14309, ' 바꾸시려는 이유가 있으실까요? 전에 sendgrid가 안돼서 postmark 사용해본적은 있습니다만': 14310, ' 아 요거 바꾸실 수 있습니다! Settings의 domain탭에서 수정 안되시나요?': 14312, ' 사진 안녕하세요! 혹시 요기 시간부분을  59분 59초까지 설정할 수 있는 방법이 있을까요~?': 14315, ' 혹시 카카오 회원가입 연동하는데 api에서 휴대폰 번호가 안 넘어오는 이유를 아시는 분 계실까요-? ㅠㅠ': 14319, ' 아 그러시군요! 혹시 버블에서 kakao social login 워크플로우 뒤에 data call로 전화번호를 유저 데이터에 넣어주셨나요?': 14326, ' 혹시 소셜가입시 해당 번호를 저장했다면 이후 혹시나 번호변경이 될 경우는 어떻게 인지하고 체크해야하나요~?': 14327, \" 혹시 data call이 아래와 같이 get data from an external API에서 'kakao - Account Info'로 가져오는 걸 말씀주시는 것 맞나요~?! 사진\": 14328, ' 늦은 시간에 죄송합니다. 혹시 지금 버블 에러난 분 계신가요?': 14332, ' 안녕하세요, 고수님들께 질문드립니다.리피팅 그룹에 출력된 값을 make changes to~를 사용해서 삭제하려고 하는데 remove가 안 뜨는건 왜 일까요...??delete thing이라는 게 있던데... 이걸 사용하면 되나요?': 14335, ' 안녕하세요! 메인 앱(고객용) 말고 어드민 페이지 앱을 새로 생성하였는데 로그인 시 기존 메인 앱에서 api로 가져오는 유저들이나 유저들이 만든 게시글 등을 볼 수가 없습니다 ㅠㅠ (어드민 앱에 유저가 0일때는 데이터를 볼 수 있음)기존 메인 앱에 privacy rule을 모두 삭제했는데도 볼 수가 없어서 혹시 데이터를 다 볼 수 있는 어드민 유저 설정은 어떻게 할 수 있을까요?': 14338, ' 혹시 버블에서 아임웹 연동하신 분들 계신가요? 최신 데이터를 불러오는 것 같지 않네요..': 14342, ' 사진 데이터 검색 되는 기준은 무엇인가요?': 14343, ' 한국어는 정확히 그 단어여야 해요 sorting 기준 말씀하시는 건가요?': 14344, ' 추가 질문드립니다..... 1번 페이지에서 입력한 값을 2번 리피팅 그룹에 보여주게 설정, 리피팅 그룹 안에서만 해당 내용 지우고 싶은데..delete thing을 쓰니 1번 페이지에 입력한 값도 지워져버리네요혹시 리피팅 그룹에서만 지워지게 할 수 있는 방법이 있을까요?': 14346, ' 외부 api 를 연동하실 때 일부 데이터만 GET된 경험을 하신 분이 계실까요? 저희 팀에서 아임웹 api를 연동하고 있는데 36개 데이터 중 25개만 불러와지네요. (최근 데이터가 불러와지지 않습니다)': 14355, ' 호옥시 api에 page 파라미터같은게 있진 않나요?': 14356, ' 답변 주셔서 감사합니다 ㅎㅎPage 파라미터라 함은 [page] 이런 변수를 말씀하시는 것일까요? 우선 지금 연동한 api는 아래와 같습니다. 사진': 14357, ' 혹, 샌드그리드 가입시 안된 경험이 있으신 분 계실까요? 몇개의 이메일로 해봐도 2단계에서 계속 거부당하고 있어요. 어떤 경우에 이럴까요?': 14365, ' 이미지 처리는 다들 어떻게 하시나요? 이미지 업로드에 용량으로 리밋을 거시나요? 유저들이 폰에서 후기를 등록하니 사진 용량이 커서 로딩이 좀 지연되는 것 같아서요~': 14368, ' 이거 안그래도 설치했는데 올라온이미지들 해상도는 괜찮나요?': 14370, ' 사진 넹 zerocode인가 그거꺼죠? 쓸만해요 폰으로 봐서 그런가': 14371, ' 안녕하세요 , 파일을 ftp 서버로 전송하는 방법이 있을까요 ? 커넥터로는 잘 안되는거 같아 질문 드립니다!': 14373, ' 혹시 네이버에서 통합검색할때 설명 부분 어디에서 관리하는지 아실까요? 사진 SEO 세팅하는 부분에는 이렇게 입력이 되어있습니다. 사진': 14376, ' 페이지를 자동으로 새로고침을 하려면 어떻게 해야할까요? 페이지로드시 말고요.': 14377, ' 사진 네이버에 SEO 해놔도 서비스 이름 자체가 이렇게 뜨네요..ㅜㅜ 혹시 이와 같은 문제를 해결하신 분 계신가요..?': 14381, ' 혹시 Google analytics에 있는 데이터를 버블로 가져오는 방법이 있을까요?': 14389, ' 안녕하세요. 처음으로 질문 하나 드리겠는데. 외부에서 이미지 url을 가져와서 버블 앱에다가 붙이려고 하는데 해상도랑 aspact ratio가 맞지 않는데. 이거를 해상도 비율을 자동으로 설정할 수 있는 방법이 있을까요?': 14390, ' 혹시 버블에서 회원가입 하지 않은 유저 정보를 DB에 저장할 수 있는 방법이 있을까요~?': 14392, ' 어떤 정보를 저장하고 싶으신 건가요?': 14393, ' 노코드 버블로  마켓플레이  같은곳에  올릴수 있는 어플 제작 가능한가요 ? 누군가는 불가능 하다하고 어떤분은  패키징   해주는 회사에 부탁하면  가능하다 하던데요  패키징 거지면 가능 한건가요': 14406, ' 기능을 리스트화 해서 넣는데기능명을 유니크한 값으로 만들려면 어떻게 해야하나요??1. 저장 워크플로우상 기능리스트를 검색한 후  동일한 기능명이 있다면 저장안되게 막는다?2. DB에서 설정에 방법이 따로 있다? 아니면... .다른 방법이 있을까요?': 14411, ' 1의 방법뿐인걸로 알고있습니다. 혹시 다른방법 아시는분 있을까요?': 14412, ' 혹시 지도 기능 중 카카오나 네이버 MAp APi활용해본 신 분 계신가요?': 14418, ' 안녕하세요, 고수님들 혹시 제가 만든 서비스 자체를 복사할 수 있는 방법이 있나요?': 14420, ' 버블 고수님들 안녕하세요! 현재 대분류 > 소분류를 기획하고 개발하고자 하는 상황입니다. 드롭다운 대분류의 선택 값(A,B)에 따라 소분류의 값이(a1,a2,a3 or b1,b3,b3)으로 바뀌게 하고 싶은데, 어떻게 개발하면 좋을까요?? 고견 여쭙습니다!!': 14423, ' 혹시 활용해서 버블에 연동해보신 적 있나요?': 14427, ' 사진 사진 this page is a native app 체크박스가 어떤 역할을 하는지 읽어봐도 잘 모르겠네요… 이거 아니어도 앱스토어에 잘 등록한 상태인데 이걸 하면 더 좋아지는게 있나요..?': 14429, ' 안녕하세요 , 버블에서 페이지로딩 될때 state  를 이용해서 데이터를 보여주고 있습니다 . ( 현재 ) 랜더링 될때 약간 시간의 텀이 있다가 화면에서 값들이 보이기 시작하는데 어떤방법으로 이를 최적화 할 수 있을까요 ?': 14432, ' 회원목록을 나열하는 테이블을 만들었는데,, 인덱스의 번호를 역순으로 할 수는 없나요? 예를 들어 100명이 회원이 있다면 맨 위가 100이고 맨 아래가 1번으로 나오도록요.': 14434, \" 해당 리피팅 그룹의 Data Source 에 넣은 표현식에 :count - current cell's index + 1하면 되지 않을까요 d앗\": 14438, ' 작은 문제일거라 생각하고 몇시간째 씨름중인데모바일 화면 문제 확인해 주실 수 있으실까요? ㅠㅠ': 14443, ' 안녕하세요. 지금 버블로 만든 앱 배포를 앞두고 있는데요. 앱 등록할 때 앱 스토어랑 구글 플레이에 핸드폰 스크린샷이랑 태블릿 스크린샷을 올려야 하더라고요. 혹시 태블릿 스크릿샷도 꼭 올려야 하나요? 안 올리면 등록 거부되나요?': 14451, ' 혹시 버블로 만든 앱이나 웹 도메인을 커스텀하려면 금앱이 얼마나 드나요?': 14459, ' 고수님들께 데이터 관련 여쭤볼 게 있습니다!!유저에게 특정 조건을 통해 a, b라는 자격을 부여한다고 할 때(유저가 a가 되거나 b가 되거나혹은 a, b 모두 되거나 아무것도 안되거나)a, b와 관련된 것들을 유저 안에 몽땅 넣고 yes/no를 활용하는 것과a, b와 관련된 데이터 타입을 따로 만들어서 이어주는 것 중에 어떤 걸 추천하실까요?': 14462, ' 아침부터 고수님들께 또 질문이 있습니다,모바일에서 보여지는 화면이랑 탭에서 보여지는 화면에 따라서도 다르게 보여줘야 할 텐데...화면 사이즈를 어떻게 기준 잡아서 하시나요?': 14470, ' 버블 고수님들 안녕하세요! 제가 버블 공식문서도 보고, 동영상도 봤는데 DB에서 list가 정확히 이해가 안가서 질문드립니다..! 복수의 값을 리스트로 저장할 때 \"list\"로 체크하라고 나와있었는데요, 그러면 제가 만약에 multiline input을 사용하면, 이것도 텍스트 인풋을 DB에서 text-list로 받는 게 좋을까요 아니면 그냥 텍스트로만 받아도 될까요?ㅠㅠ': 14476, ' ❓ 질문)안녕하세요! 사이트를 처음에 들어갈때마다 느린 이유는 혹시 어떤 이유일까요…?🧐 추측)이전에 netlify 호스팅 서버를 사용했을 경우에는 요금제가 저렴한 조건으로 일정 시간동안 트래픽이 없을 경우 잠자기 모드가 들어간다는 경우도 있었는데 혹시 버블도 이와같은 사항인지 궁금합니다!': 14482, ' 아하 그렇군여! 혹 wf란 무엇일까요~?': 14484, ' 앱인가요 웹인가요?': 14487, \" 안녕하세요, 여쭤볼 게 있습니다.dropdown으로 값을 저장하려면 dropdown OOO' value를 입력하는 것 아닌가요.....?value에서 끝나질 않고 빨간 글씨가 뜨네요..... 또 다른 경우의 수가 있을까요?\": 14488, ' 헉 내부에 생겼나요?ㅠ natively말고': 14510, ' 혹시 이곳에 프롬프트 엔지니어링 관련 서비스를 준비하고 계시는 분이 있나요?': 14514, ' 퀴즈 선물게임을 시작합니다!기회는 단 10분간, 정답자 1명에게! 퀴즈 선물게임이 곧 종료됩니다. 아직 늦지 않았어요! 퀴즈 선물게임이 종료되었습니다. 누가 누가 정답을 맞혔을까요?Q. \"버블의 스펠링은?\"': 14519, ' 저도 그 쪽으로 서비스를 고민하고 있는데요 개인 대화 가능하신가요?': 14522, ' 안녕하세요. 아래처럼 버블에서 자체적으로 설정된 팝업의 내용을 바꿀 수 있는 방법이 있을까요? 한국어로 바꿨으면 해서요. 사진 2장': 14527, ' 무엇을 하시려는지 설명해주시면 좀 더 나은 방법을 생각해볼 수 있을 것 같네요': 14538, ' 백엔드 워크플로우까지 갈 것은 없고.. 그냥 워크플로우를 사용해서 every 30 seconds 같은 이벤트를 사용해서 current user is logged in 같은 조건을 걸고 current user의 late active 필드를 수정하면 되지 않으려나요': 14542, ' 안녕하세요, 고수님들께 여쭈어봅니다.url 주소의 구조에 대해 공부를 해야 할 것 같은데요...관련 자료 혹시 공유해주실 게 있으실까요??': 14546, ' 안영하세요 궁금한 게 있는데 버블로 로그인과 회원가입 기능을 구현할 수 있나요? 가능하다면 어떤 구조로 가능한지 궁금합니다': 14551, ' 감사합니다 ㅠㅠ Mysql 테이블도 연결이 가능한거 맞죠..?': 14556, ' 사진 안녕하세요~입력한 옵션셋값과 필터링할 옵션셋값이 달라서 필터링이 되어서 건너 뛰어야 하는 상황인데 맞다고 워크플로우를 실행하는데 뭐가 잘못된 걸까요? 사진': 14566, ' 이 방법 시도해보셨을까요?': 14580, ' 사진 플로팅 그룹만 왼쪽으로 가있고, 나머지 텍스트같은건 중앙에 가는데 이건 어떻게 고칠수있을까요? 레이아웃에서 preset page width를 모바일로 했고, 380width에 767height고, container layout은 fixed입니다': 14581, ' 감사합니다 사진 그런데 위랑 밑에 플로팅그룹들 중간에는 오게했는데 색깔도 중간에만 칠해지게 하는방법이 있을까요? 아.. 플로팅 그룹엔 색칠 안하고 다른 새로운걸 만들어서 색칠하면 되겠군여..': 14583, ' 갑자기 궁금해져서요.버블로 개발한 플랫폼으로 저작권 등록이 가능할까요? GS인증은 가능할까요?': 14589, ' 버블이 제공하는 Video 엘리먼트에는 Video ID만 넣게 돼있는데 주소를 넣으실 일이 있나요..?': 14594, ' 고수님들께 질문 있습니다.특정 정보를 수정할 수 있게끔 하려는데내가 입력한 정보(연락처 등)가수정하는 페이지의 input 엘리먼트에 자동으로 불러와지고이 정보를 수정했든 안 했든 수정 완료 버튼을 누르면 현재의 값이 저장되게끔 하는 게 가능한가요?': 14600, ' 그리고 혹시 채팅을 할 때, 대화창에 엔터만 눌러도 입력한 텍스트가 전달되게 할 수 있는 방법이 있을까요??': 14602, ' 초기값이라는 게.... input에서 어떤 부분을 말씀하시는걸까요...?placeholder를 말씀하시는걸까요?': 14604, ' 하도 자잘한 업데이트를 자주 하니까 그러려니 합니다 ㅋㅋㅋ 근데 저는 안보이네요? 아... 혹시 버블 라이브러리 크롬 익스텐션 설치하신 것 있으세요?': 14617, ' 안녕하세요 고수님들께 또 여쭈어봅니다...이것과 관련된 질문인데요... multidropdown 도 이런 기능이 가능할까요?': 14622, ' 앱 개발자가 된 트럭기사 타이틀이 매우 흥미롭네요. 차계부 어플은 뭔가요?? 차량 가계부?? 차량 관리 어플일까요? ㅎㅎ': 14626, ' Natively 플러그인에 있는 워크플로우 말씀하시는 건가요??': 14630, \" A 페이지에서 B페이지로 이동하는데 N개의 스테이트 뷰(예: B-1, B-2, B-3..)가 B에는 있거든요. 일반적으로는 B-1 로 가지만, 경우에 따라 B-2 화면으로 나오게 하려면, A에서 '고투페이지' 할 때 파라메터를 이용해야 하나요? 아니면 다른 방법이 있나요?\": 14641, ' A에서 이동시 파라미터를 보내고, B페이지에서 페이지로드시 When.. 으로 거르는 방법 밖에 없는건지요?': 14644, ' B1 B2로 가는 고투페이지 액션 각각에 only when을 걸면 되지 않나요?': 14645, ' 안녕하세요!특정 버튼을 누르면 1000명의 유저에게 모두 카카오 알림톡을 보내는 워크플로우를 짜려고 합니다.다만 카카오 알림톡 워크플로우에서는 전화번호 field가 list는 안되는것 같습니다… 이런경우 ~~ item#(n)으로 한뒤 recurring workflow를 하는게 가장 현명한 방법일까요?아니면 더 좋고 간단한 방법이 있을까요~??': 14649, ' 혹시 이정도 서비스는 어떤 가격제로 운영가능한가요..?': 14657, ' 이제 투자유치 받아 단계적으로 사이즈업 일만 남았네요 저 PM님 근데 브랜드 이름 뜻이 궁금합니다 Lean car 이던데 ! 사진 어떻게 작명된걸까요 !': 14664, ' 어떤 웨비나 인지 알 수 있을까요?': 14673, ' 안녕하세요. 버블에서 워크로드를 초과했다는 알림으로 인하여 결제를 하려고 하는데 이전 워크로드에 대한 비용은 따로 청구가 되는지? 아시는분 있으실까요?': 14676, \" 클린 url이 파라미터가 아닌 '/'로 페이지 구조화하고 구분하는 방법 맞나요? 저도 이렇게 하고 있는데 너무 번거롭네요 ㅠㅠ혹시 페이지 전환은 어떻게 구현하시는지 여쭤봐도 될까요? ㅠㅠ전 go to page 워크플로우로 url 바꾸고, 화면 전환은 custom state로 하고 있어요. 이렇게 하니까 사용자가 핸드폰 기본 '뒤로가기'를 눌렀을 때 작동이 안 하더라구요 ㅠㅠ\": 14684, ' 포럼에서 태완님이 질문한 내용인데요. 답변 하려고 보니 저도... 가늠이 안되어서 ㅋㅋ 여러분은 어떻게 생각하세요?  버블이나 노코드가 감당할 수 있는 사용자 규모는 어떻게 될까요? 진리의 케바케라는 건 알고 있지만 그래도 보편적인 수치는 정할 수 있지 않을까 싶기도 하네요.': 14687, ' 혹시 버블로 만든 사이트 중에 결제기능이 들어간 예시가 있나요?? 랜딩페이지나 컨텐츠 나열한 페이지만 나오네요ㅠ': 14698, ' 제가 필요로 하는기능이숙박예약처럼 한 상품에 대해 날짜별로, 종류별로 가격이 다른데 구현이 될까요?? 캘린더 클릭시 -> 가격변동': 14700, ' 혹시 마지막으로 캘린더 커스텀 디자인도 될까요???': 14703, ' 오 감사합니다!제가 구현하려는게 중개사이트라서판매자가 상품을 등록해야하는데 구현이 될까요 ㅠㅠ': 14708, \" 고수님들! 혹시 '/index'라는 url을 아예 빼는 방법이 있을까요? spa로 작업 중인데 url 앞에 '/index'가 굉장히 거슬리네요 ㅠㅠㅠ\": 14710, ' 안녕하세요.폼 작성후 링크를 저장 못했는데, 어떻게 접속해야 할까요?': 14716, ' 어제 보여주신 버블로 만든사이트 렉이 많이 걸리는데 이건 버블 자체의 문제일까요??': 14733, ' 제가 Strter free trial 을 시작하고 앱을 만들 때마다 1달러가 나갔는데요. 이 1달러는 무엇인가요? 사진 템플릿을 결제하면 bubble tem 이라고 결제에 보이고 앱을 만들면  bubble car 라고 보입니다. Free 플랜에서 앱을 만들면 1달러 결제가 안되는데 왜 Starter free trial 을 하면 1달러가 결제되는지 궁금해서 질문합니다.': 14734, ' 혹시 리트머스 오픈아워는 추후에 또 계획된게 있으실까요? 도움을 요청드리고 싶어서요..! 😅': 14749, ' 혹시 export CSV 파일의 한글 엑셀에서 깨지는 현상 어떻게 해결하시나요?구글 시트 사용해서 조금씩 해결하고 있긴한데 아무래도 엑셀이 편해서…': 14754, ' 버블을 사용해보고 싶은 유저중 하나입니다. 혹시 초기에 버블에 대해서 공부할 떄 좋은 리소스나 추천해주실 만한 강의 있을까요?': 14755, ' 버블 처음 접하시는 분들 대상으로 웨비나를 해보려 하는데 혹시 관심 있으실까요?': 14759, ' 혹시 서울에서 버블 오프라인으로 특강 해주시는 분이나 하는 곳이 있을까요?': 14764, ' 안녕하세요! 혹시 버블에서 두가지 앱이 서로 연동되게 할 수 있는 기능은 없나요? 청소연구소-청소연구소 파트너처럼 서비스를 유저에 따라 나눠서 사용하고 싶어서요!': 14772, ' 안녕하세요,혹시 버블로 네이버맵과 공공데이터 API 기반의 지도 서비스를 원활히 구현할 수 있을까요?호갱노노를 예로 생각해주시면 될 것 같아요!': 14780, ' 버블 자체래핑 서비스가 올때까지 natively나 bdk로 래핑해볼까 하는데 , 버블 래핑 서비스 출시 후 옮기는게 가능할까요?': 14781, ' 버블 벌써 자치래핑 서비스 가능한가요?': 14784, ' 혹시 무료버전은 데이터가 리셋되나요..? 어제 연습용으루 넣어둔 데이터가 다 사라졌네용': 14785, ' 차단되면 아티스트들에게 제글이 블락되어 안보이는걸로 압니다 그래서 1이 안없어 지는건요 건가요': 14790, ' 아 좌송 ㅎㅎ 뭔 버블이가요': 14793, ' Bubble은 Bubble Group에서 개발한 시각적 프로그래밍 언어, 코드 없는 개발 플랫폼 및 서비스형 애플리케이션 플랫폼으로, 기술 지식이 없는 사람도 코드를 입력할 필요 없이 웹 애플리케이션을 구축할 수 있습니다 . 크롬에서 버블 이용중인데우클릭 시 크롬 우클릭이 적용되어버블 우클릭이 안나옵니다 ㅠ_ㅠ 어떻게 해야하나용...': 14794, ' 혹시 Apple sign up 플러그인 사용하고, BDK나 Zeroqode 앱 래핑 맡겨보신 분 계실까요? 페이스아이디 로그인까지 문제 없이 작동하는지 궁금하네요!포럼 보니까 애플 소셜로그인이 문제 많은 것 같던데 앱스토어 정책때문에 안할수도 없고... BDK 보다는 Zeroqode 솔루션을 쓰면 그나마 나을 까요? 혹시 해보신 분 계시면 조언 부탁드립니다!': 14795, ' 헉,,그런 방법이 추후에 블락되거나 그런 경우는 없나요?': 14801, ' 혹시 가로 스크롤은 어떻게 만드나요? 클론코딩 영상 보면서 따라하고 있는데 버블버전이 달라서 어렵네요': 14809, ' 안녕하세요, 버블러님들!현재 API Connector를 통해서 카카오 로그인을 구현하였는데요.혹시 카카오 로그인을 하고 다시 홈페이지로 리디렉션될 때, index 페이지가 아닌 다른 페이지로 이동시키는 방법을 아시는 분 계실까요~?!': 14827, ' 감사합니다!흠.. 한 번 확인해보돌 하겠습니다..! 혹시 현재 이렇게 background Color 설정하는 화면이 깨지는데 저만 그런건가요? 사진': 14830, '  안녕하세요~~혹시 리피팅그룹의 한 셀에 적용된 컨디션을 초기화 시킬 방법이 있을까요?전에는 go to page로 페이지 이탈하면 페이지가 리플레쉬 되면서 이런거 신경쓸 필요가 없었는데 원페이지앱으로 하다보니 리피팅그룹 컨트롤이 힘드네요 컨디션이 아니라 만들어 놓은 버튼그룹을 워크플로우로 show/hide 설정하는걸 초기화 할 방법으로 질문 정정할게요 사진': 14831, ' 해당 부분을 show/hide 워크플로우로 처리하셨나요?': 14832, ' 혹시 버블 플러그인 출시해본 사람들 중에, 플러그인 submit 자체가 계속 안되는 버그 겪은 분 있나요? 지금 3주째 이러고 있는데 1.00을 검사를 위해 submit 하고 나면 3일 후쯤에 submit 한 기록이 없고, 심사 이메일도 없고, 그냥 submit 한 적이 없었던 것처럼 보여지네요 버블 서포트팀에 계속 연락하고 있는데 여기도 마땅히 해결되는게 없어서 고민이네요 사진 이미 submit해도 3일 후쯤에 이렇게 바뀌니깐 답답하긴 하네요 ㅠ': 14839, ' 사진 혹시 커스텀 폰트 업로드가 안 되는데 이유 아시는 분 있을까요? 사진 설명에 보면 링크가 aws이런식으로 나오는 거 같은데 그얼게 나오지도 않더라고요': 14840, ' 폰트파일 자체가 아니라 폰트 파일경로를 담고있는 css(텍스트파일을 css확장자로 저장)을 올려야 하는데 그렇게 하셨나요? font-family 이름이랑 업로드하실때 넣는 Font name이랑 매치해야되는 것도 잘 알려주지 않는 함정입니다': 14841, ' 네네 좋습니다 !! 어떻게 연락드리면 될까요!?': 14848, ' 연락 가능하도록 오픈채팅 프로필 설정을 바꿨는데 혹시 이쪽으로는 연락 가능하신가요?': 14849, ' 안녕하세요, 혹시 버블 플러그인 중에 SQL database connector를 써보신 분이 있을까요?DB는 연결했는데, Data 탭에는 연결된 DB가 업데이트가 안되는데, 이를 쿼리문으로 호출해서 불러오는 것인지 연결이후 추가로 해야할 부분이 있는지 궁금합니다': 14856, ' 안녕하세요. 혹시 email confirmation 기능 써보신 분 계신가요? sign in 하기 전에 이메일 확인을 하고 싶은데, current user의 이메일 주소가 필요한 것 같아서 로그인을 한 상태여야 하는 거 같네요? 혹시 회원 가입에서 이메일 확인 어떻게 해야 하나요??': 14860, ' 기존에 가입된 이메일인지 확인하시려는건가요? 아니면 이메일을 보내서 링크를 클릭하는 컨펌을 말씀하시는건가요??': 14861, ' 후자입니다. 회원 가입할 때 입력한 이메일이 사용자의 이메일이 맞는지 확인하려고 합니다!': 14870, ' 그런데 프레이머를 버블에 적용할 수 있는 건가요?': 14873, ' 프라이머가 UI만드는 툴 맞나요?버블에서 작업 가능한 범위에서의 UI보다 월등히 수려하게 작업이 가능할까요?': 14881, ' 유튜브에 1인 웹에이전서 부트캠프(강의) 홍보하시는 분은 프레이머는 기능 구현에 한계가 있다고 하면서 웹플로우를 배워야 한다고 하는데 웹 에이전시 툴로 프레이머보다 웹플로우가 더 적합한 건가요?': 14890, ' @민경대 혹시 워드프레스 강의도 하시고 목소리 허스키한 그 분 맞으신가요? +.+': 14891, ' 안녕하세요. 노코드툴로 웹/앱 사이트를 만들어보려 공부하려하는데요.간편로그인/결제 기능 등을 포함한 사이트를 만든다고 했을때웹플로우/버블 중에서 어떤게 더 좋을까요?처음부터 한가지 툴을 잡고 가는게 좋을 것 같아 의견 여쭤봅니다!': 14905, ' 답변 감사합니다! 혹시 클래스 101에 버블 강의 있던데 들어보신 분 계실까요?아니면 그 외 버블 강의 괜찮은게 있으시면 추천 부탁드려요!': 14910, ' 요즘 해외 노코드 커뮤니티나 유튜브들 눈팅하다보면,최근 버블의 가격정책 변동을 계기로, 또 코드 export 안되는 점 등으로 인해점차 탈버블 움직임도 일부 보이는 것 같았습니다혹시 커뮤니티 분들은 flutterflow, weweb, draftbit 등 대안들에 대해 고려해보셨는지 어떤 의견이신지 궁금합니다…!': 14911, ' 버블의 data 자체를 url에 담을 수 있는 방법이 혹시 있을까요? 현재는 어떤 유저에 대한 정보를 확인하려고 하면, url parameter을 사용해서 unique id를 보내고 do a search로 모든 user의 unique id를 비교하면서 찾고 있습니다. 이런 방법을 쓰면 워크로드를 낭비하게 되는 것 같고 성능 저하도 발생할 것 같아서 혹시 방법이 있을까요? 아니면 혹시 unique id 자체를 사용할 수 있는 방법이 있을까요? 늦은 시간에 죄송합니다..ㅜ': 14919, ' 따로 제가 번역해놓은 글이 있습니다! 그리고 cent라 함은 100분의 1단위 말씀이신가요?': 14925, ' 어떤 중개수수료인가요?': 14928, ' 안녕하세요 버블로 교육 플랫폼을 만들고 있는 김호종이라고 합니다. 다름이 아니라 저희 회사에서 이번에 팝업 행사를 진행하는데 실례인걸 알지만 홍보를 꼭 하고 싶어서 한번 여쭤봅니다. 포스터를 올려도 괜찮을까요?': 14931, ' 혹시 한개 리피팅 그룹을 조건에 따라 다른 리스트를 표시하도록 설정하면, 셀 갯수가 알아서 조정되지 않나요?': 14937, ' 혹시 버블 강의를 듣고싶은데 추천해주실 사이트 있을까요!?!~': 14940, ' 안녕하세요,웹플로우, 소프터 등을 공부하고 버블에 입문하는 게 나을까요 아니면 바로 버블을 공부해도 괜찮을까요?노베이스 초심자입니다.': 14943, ' 안녕하세요! BDK native로 스토어 등록해보신분 있을까요? 혹시 BDK native에서 바로 서비스 구매하고 진행하면되는지 아니면, Native apps (bdk)플로그인을 구매하고 구매해야하는지 궁금합니다.': 14953, ' 안녕하세요. 혹시 리피팅 그룹에서 버튼을 누르면 좌우로 하나씩 넘어가게 만드는 애니메이션을 사용하려면 어떻게 해야하나요?': 14961, ' 이창호님 피봇 하셨나요? 저희도 서비스 개발 2가지 진행예정입니다.한 번 상의드릴게요1명은 버블개발자 채용1건은 외부로 할 계획입니다': 14964, ' 헉 그런가요.. 🤔 아직도 1강에 멈춰있는 입문단계라 어려워만 보이는군용 . . . 말씀 감사합니다🙏': 14972, ' 워드프레스 게시판 플러그인 하나 더...': 14976, ' 혹시 버블에 DRM기술을 적용시키는 방법이 있을까요? 우선 플러그인에서는 발견하지 못했어요ㅠ': 14980, ' 버블 유저 데이터베이스도 supabase 사용하실까요?': 14983, ' @김기태  답변 주셔서 감사합니다.supabase 사용 시 bubble 내에서 current user 조건은 사용 못하는게 맞을까요?': 14985, ' @김기태  혹시 해당 플러그인 사용 중이실까요?': 14987, ' 궁금한점이 있습니다.백엔드를 버블이 아닌 다른툴을 사용하는 이점이 있을까요?': 14989, ' 혹시 어플리케이션의 옵션셋을 좀 많이 만들면 (약 200개) 최초 로딩이 체감될 정도로 많이 느려지나요?': 14996, ' 상관 없다고 알고 있는데 앱이 버벅거리나요?': 14997, ' 저희 커뮤니티에 계신 박재은님의 경우 데이터가 몇십만개가 넘는데도 문제가 없다고 합니다. 옵션셋의 경우 상수로 저장된 데이터이기 때문에 오히려 안정적으로 활용할 수 있을 것 같은데요? 공유할 때 파비콘이 나오나요?? 혹시 오픈그래프 썸네일 말씀이실까요? 요쪽에 링뜨인에서 권장하는 이미지 사이즈나 크기가 있네요': 15001, ' 도착하셨나요? 제가 옆자리 비워뒀는데': 15009, ' 아 네네 저 와있는데 여기 오신분 더 있으실텐데ㅜ 혹시 어디실까요?': 15010, ' 저희팀도 와있습니다😊': 15014, ' 혹시 SUFF 오신 대표님들 점심시간쯤 커피챗 잠깐 어떠세요? 😄': 15015, ' Natively로 만든 어플은 달마다 현재 비용이 얼마정도 드나요??': 15019, ' 저는 다음 세션은 패스하려고 하는데 혹시 잠깐 보실 분들은 지금 시간 어떠세요?': 15020, ' 어디계세요??': 15021, ' 혹시 옆자리 있으신분 계실까요? 부스다녀올때마다 자리가 다 바뀌네요': 15025, ' 혹시 지금 듣고있는분 계실까요??': 15027, ' 조비님 몇시에 가실 예정이세요??': 15029, ' 저 다음세션 마지막으로 하려합니다!! 투자자들의 솔직 토크만까지 들으려구요 어디쪽에 계세요?': 15030, ' 안녕하세요 토스 위젯에서 결제 요청하는 페이지를 /payment로 하다보니 success_url 이 /payment/widget-success 로 떨어져서 /widget-success 페이지를 만들어도 해당 페이지로 랜딩이 안되네요 ㅠㅠ 혹시 어떻게 해결하면 될지 조언 구할 수 있을까요?': 15036, ' 좋은 아침입니다. 혹시 리피팅 그룹의 밖에서 리피팅 그룹 안의 요소를 표현식으로 접근할 수 있는 방법은 없겠쬬..?.? 예를 들어 리피팅 그룹 안의 체크박스들의 체크 여부를 List of yes / no 로 사용한다든지요': 15038, ' 아,db에 있는 값을 체크박스에 뿌려주는 형식인가요?': 15041, ' 안녕하세요~ 혹시 단톡방에서는 질문을 자제해야 할까요? 모두의 노코드에 질문을 올려뒀습니다!': 15053, ' 혹시 틴더처럼 매칭 기능을 구현하고 싶은데..버블로는 핵심기능인 매칭기능을 어떤 프로세스로 구현할 수 있을까요?🙇\\u200d♂️': 15055, ' 안녕하세요,버블로 서비스를 만들고 앱으로 론칭할 때 드는 금액이 궁금합니다도메인 구매는 카페24에서 한다고 치고(21,000원)starter/ 플러그인은 무료로 했을 때 금액이 어느 정도 들까요?네이티블리 같은 걸로 할 때 돈이 더 든다고 하길래요,아직 버블을 잘 몰라서........ 또 어떤 부분에서 금액이 발생할 지 모르겠네요..\"대략적으로, 최대 금액\"만 알려주셨으면 합니다!': 15062, ' 애플 구글 개발자로 등록하려면 돈이 또 드나요??': 15066, ' 버블은 한글 플로그인이 있나요??': 15069, \" 안녕하세요.혹시 버블 모바일화면에서 '왼쪽, 오른쪽 양옆으로 밀리지 않으려면' 어떻게 조정해야 하는지 아시는 분 있으실까요~?\": 15072, ' 안녕하세요.모바일용으로 만들어보고 있는데,Floating Group이 Preview시 제 위치를 벗어나다른 곳에 위치합니다.해결할 수 있는 방법이 있을까요..?': 15074, ' 그러면 페이지 안에 있는 특정 element 또는 group의 가로 사이즈가 page width 보다 넓어서 그런건가요~?': 15075, ' 어디에 위치 시켰는지 top인지, bottom인지  left나 right인지 확인해보세요~': 15076, ' 자세한건 editor 봐야할 것 같은데 저 지도가 floating group 안에 들어가보이는 것 같습니다. element tree에서 element끼리 구조가 어떻게 되었는지 확인해보세요!': 15081, ' 노코드 툴로 그룹별 채팅기능도 제공이 되나요 이거 비전공자가 하기에 개발 개짜도 모르는 썡초보는 어렵죠?': 15084, ' 아 ~ 혹시 저번에 그 노코드툴 강의 만드셨다는 분이시지요? 어디가면 볼 수 있나요 ?': 15090, ' 음 혹시 꼭 웹사이트로 구축하셔야 하나요?': 15093, ' 디스코드요 거기서도 사람들끼리 하나의 채널에서 또 따로파서 채팅방이 구성이 되던가요 카톡처럼?': 15096, ' 버블로 만든 마켓플레이스 사이트 예시들이 있을까요??': 15100, '  MVP 구현까지 진짜 비관련 일반인이 하려고하면': 15101, ' Natively로 알림기능 이용하려면 원 시그널 ID 이것도 필요한 것 같은데 재린님은 어떻게 하셨나요?? 원시그널도 결제하면서 하시나요?': 15107, ' 안녕하세요 창업패키지 신청서 작성중 궁금한 사항이 있어 여쭤봅니다. 버블이나, 웹플로우 같은 노코드 홈페이지 구독비용을 개발비에 포함하면 되는 걸까요?': 15109, ' 혹시 버블 돌아가나요? 제PC에 인터넷이 문제인가보네요;;갑자기 왜 버블사이트하고 서비스페이지만 안들어가지는지;; 폰에서는 접속 잘 되네요 ㅠㅠ': 15112, ' url파라메타로 컨텐츠를 필터링하고 있는데,, 파라메타 순으로 적용이 되는건가요? 예를 들면  이라 했을 때 a에 속한 b, b에 속한 c 가 나오는건가요? 아니면 상관 없는건가요? 저는 잘 되고 있습니다.': 15115, ' PC는 SK..ㅠㅠ 폰은 KT인데 잘 되네요 ㅠㅠ 어제까지 잘 되다가 갑자기 그럴 수 있나요ㅠㅠ?': 15117, ' 네이티블리 ios 빌드는 네이티블리 홈페이지에서 ios 빌드로 하는건가요? 아니면 애플 개발자 계정에 가서 앱 등록을 먼저해야하나요?': 15121, ' 제가 해봤는데.. 어떤 케이스인가요?': 15124, ' 아.. 그래서 자꾸 텍스트라 에러가 뜬거군요. 변환방법은 어떻게 되는걸까요?': 15127, ' Get Data from Page URL 표현식 사용하셔서 데이터타입으로 변환하시면 되는데 이게 Thing인 경우에는 unique id가 파라미터로 전달돼야 할 겁니다 아니면 text 그대로 받으셔서 do a search for를 사용하셔야 되죠': 15128, \"  '/;\": 15131, ' 화면 전환은 리액트만 되는거예요?': 15136, ' 다 됍니다': 15137, ' 아... 대략 감이 오네요. 확인해 볼께요. 정렬옵션셋에서 어트리뷰트를 추가 한 후 해당필드명들을 각각 넣은 후.. 위의 방식으로 가져오니... 성공': 15150, ' 안녕하세요. 사용자들이 제 사이트에 들어와서 무엇을 눌렀는지 추적하는 것도 버블에서 가능할까요?': 15156, ' 안녕하세요. 두 개의 데이터 타입을 연결하는 방법에 대한 질문입니다. 유저별로 좋아하는 식당을 1위부터 순차적으로 나열할 수 있습니다. 식당이라는 데이터 타입을 각각의 유저가 리스트로 가지고 있는 형식일 것 같은데, 이런 경우에는 유저별로 리스트의 순서가 달라지는데 어떻게 구현할 수 있나요?': 15159, ' 리스트 목록 뿐만 아니라 순서도 같이 저장되어 있어야 하는데 순서가 유저별로 달라서 그 부분은 어떻게 해야할까요?': 15163, ' 순서는 어떤 형식으로 저장돼있나요?': 15164, ' 그걸 고민 중이었습니다! 어떤 식으로 데이터 구조를 짜야 리스트의 순서도 저장할 수 있는지 궁금합니다': 15165, ' 각 페이지 뒤로가기 버튼을 reusable element로 만들고 싶습니다.이 경우 각 페이지마다 다르게 workflow를 활용해야하는데 , resuable elemnt의 경우 한개의 workflow 밖에 사용이 안 되더라구요. 그렇다고 여기에 여러가지 condition을 넣으면 workflow도 복잡하게 될 것 같아서 결국 안 하는것과 같을 것 같은데 좋은방법 없을까요?': 15168, ' 만약에 페이지가 10개면 , 10개의 뒤로가기 버튼을 추가하면 좋을 것 같다는 뜻일까요?': 15170, ' 뒤로가기 액션을 페이지를 지정하시나요? 사진 요거 쓰시라는 얘기였는데..': 15171, '  안녕하세요.버블로 지도에 gps기능을 넣을 수 있을까요?현위치와 지도내의 pin과의 상호작용이 구현이 되는지 궁금합니다.': 15181, ' 혹시 여기 있는 분들께서 버블로 만든 사이트 모음?이 있을까요?': 15183, ' 혹시 버블에서 태그 기능을 지원할까요? 해쉬태그 처럼 데이터에 태그를 달아야 할텐데 혹시 이 기능을 제공하고 있는지 궁금합니다!': 15186, \" '태그'라는 데이터 항목을 만들어서 사용하시면 될 것 같습니다! 혹시 다른 의미의 태그인가요?\": 15187, ' 그 api를 통해서 데이터를 받고 그걸 보여줄 생각인데 그 api에 관련된 항목들을 자바로 관리해서 사업이면 사업, 게임이면 게임 이런식으로 태그를 선택을 하게 된다면 그 태그를 입력하면 바로 보여줄 수 있게 해주고 싶은데 api를 뜯어보니 <해시태그>게임, 사업, 연예인 </해시태그>이런식으로 다 있는데 혹시 이 해시태그에 적혀있는 정보들을 버블에서 지원을 하여, 따로 프론트적으로 코드의 입력이 없이 바로 가져올 수 있나요?': 15188, ' 상품목록에서 특정상품의 상세페이지로 갔다 되돌아 왔을 때 캐시된 데이터 느낌이 아니고, 목록을 새로 로딩하는 듯한 느낌을 지울 수가 없네요. 좋은 방법이 있을까요?': 15190, ' 안녕하세요. 나중에 버블에 저장되어 있는 데이터를 외부로 추출하게 될 것 같은데 이런 경우에는 어떻게 해야 하나요? 이를 감안해서 에어테이블 같은 외부 DB API를 사용하는 것에 대해서는 어떻게 생각하시나요?': 15192, ' date picker를 사용하면서 값을 변경하고 싶은데 며칠동안 답을 찾지 못했습니다... 혹시 아시는 분 계신가요?': 15200, ' date picker의 state를 만들고 화살표 클릭 시라는 워크플로우에 date picker의 state 값에 days +-1을 하면 되는 거로 이해를 했는데 맞을까요?': 15207, ' 안녕하세요 노코드부터 시작해서 1인 개발자 홈페이지 제작을 하고싶어서 왔습니다 작은규모의 홈페이지 외주부터 차근차근시작하고싶은데 버블 웹플로우 엘리멘토 디자인은 피그마도 배우면 좋을까요?': 15226, ' 여기 계신분들은 1인 개발자로 프리랜서 일 하고 계신건가요?': 15231, ' RG 목록의 맨 처음(또는 맨뒤, 또는 중간 어디 쯤)에 다른 아이템을 넣는 방법이 있을까요?': 15246, ' 혹시 웹플로우로 웹서비스 만들고 버블로 서비스 연동할 수 있나요??': 15252, ' 버블로 만든 사이트 중에 커머스나 마켓플레이스(예약사이트) 아시는거 있으실까요??': 15257, ' 배포할 때 도메인을 변경하려고 하는데 어려움이 있네요 혹시 도메인 변경해보신 분 계신가요? 제가 잘 모르고 무작정 배포하니 제 구글 계정으로 도메인이 설정돼서요 ㅠㅠ': 15261, ' 버블에서 쿠키정보이 가능한가요?': 15262, ' 안녕하세요 버블 제작하면서 preview때 페이지 속도가 너무 느린데 이게 preview 라서 그런걸까요? index에 뭐 별게 없는데도 로딩하는데 느리네요 또 하나 질문 있는데 전화번호 넣을때 숫자로 하면 앞에 0을 지워지는데 이거 고치는 방법 있을까요? text로 저장해야되나요?': 15263, ' 아하 그렇군요 너무 느려서 ㅎㅎ 아 혹시 다른 대표님들께서는 생년월일은 어떻게 하셨나요? option set으로 각자 다 넣으셨나요?': 15267, ' 혹시 natively 사용하신분들중에 open external 사용하시는 분 계실까요? 외부링크를 열려고 하면 앱이 팅겨져서 꺼져버리는 현상이 있네요^^; natively 사용하시는 분들중 외부링크 기능은 어떻게 하시는지 궁금합니다 ㅠㅠ 버블 자체 external은 안열려서 natively-open external을 사용하는데 위와 같은 현상이 일어나네요;': 15276, ' 서비스에 채팅이 들어가면 앱으로 개발 하는데 좋을까 싶은데 어떨까요?푸쉬가 있는게 서비스적으로 좋을까 고민이네요': 15281, ' 사진 버블에서 7:4 비율로 정렬시킬수 있나요?? 반응형으로 만들 때 비율로는 못하나요??': 15283, ' 사진 플로팅그룹 사용하는데 아래 이슈가 계속 나오는데 어떻게 하면 되는지 아시는분 계실까요?': 15288, ' 혹시 디스콰이엇 커뮤니티 아시나요 노코드로 했다는데 ..': 15291, ' 디스콰이엇 정도의 서비스는 버블로도 끝까지 갈수 있을까요? 실개발 전환이 필요할까요?': 15293, ' 선배님들 안녕하세요! 드롭다운을 다이나믹 초이스로 설정하고, choices source를 search for을 사용하여 데이터를 가져오고 있습니다. 이 때 search for로 가져오는 데이터를 전부를 가져오는 게 아니라,일부만 가져오고 싶은데 가능할까요??': 15296, ' 버블 사용은 컴퓨터언어 사용하는건가요?': 15300, ' 혹시 결국 코드를 쓴다면 어떤 언어를 쓰나요': 15305, ' 코드를 안써도 일단 프로그램 사용법 익히는것만도 시간이 많이 걸릴거같네요,,,,, 제가 이미 다른직장에서 일을 하면서 짬내서 하기에는 무리가 있을거같아요.,, 사용법 익히는데 얼마나 걸리나요': 15310, ' 혹시 기회가 된다면 툴사용법에 대해 간단하게 설명 가능할까요': 15314, ' 안녕하세요, 버블로 구글 로그인 구현 했는데, 카카오 브라우저? 카카오 링크를 통해 사이트 열고 구글 로그인 클릭 시 액세스 차단됨 : 구글 정책을 준수하지 않음 // 403 오류 disallowed_useragent 라고 나오는데 관련해서 해결하신 분들의 문서 등이 있을까요?카카오 사용시에만 해당 이슈 발생하고, 크롬에 링크 직접 입력 후 사용 시에는 해당 이슈가 없습니다.': 15320, ' 버블에서 네이버지도 사용하는법 아는분 있을까요??(예약사이트입니다!)': 15326, ' 사진 네이버에서는 무료라고 나와있긴한데 다른것인가요??': 15328, ' 안녕하세요 , 혹시 리프팅 그룹 데이터를 갖고 pdf 파일로 변환하는 작업을 진행해 보신분 있으실까요??': 15330, ' 사진 안녕하세요! 토스 페이먼츠를 버블에 붙일 예정인데요!간편결제와 브랜드페이 차이가 무엇인지 알 수 있을까요 ㅎㅎ 토스페이 네이버페이가 간편결제인지 브랜드 페이인지 헷갈려서요..ㅜ': 15331, ' 토스페이 네이버페이는 그냥 간편결제구요.브랜드페이는 무신사페이, 쿠페이, 컬리페이 같이 자기 브랜드명 쓰는 화이트레이블링 페이를 말해요': 15332, ' 해당메시지는 토스페이먼츠에서 띄우는게 아닐겁니다 만드신 페이지에 사이트 이동 관련해서 수정하신 내용이 있는지 확인해보세요': 15336, ' 비디온이 머에여?': 15348, ' 안녕하세요 :)버블을 공부해보고 싶어서 들어왔는데요 혹시 어떻게 시작해보는것이 좋은지 조언좀 부탁드려요': 15352, ' 모두의 노코드 가보셨을까요~': 15353, ' CTA만드시는건가요?ㅎㅎ': 15369, ' 읽음처리 된다는 게 체크박스에 체크가 된다는 거죠?': 15371, ' 아 맞습니다 방능형 버튼입니다! 사진 혹시 이 테두리는 없앨 수 없을까요..?': 15373, ' 저 테두리는 preview로 했을 때 보이나요?': 15376, ' 혹시 크롬 모바일에서 하단에 White Space 생기는걸 제거하려면 어떤 방법이 있을까요? 사파리나 다른 브라우저는 괜찮은데 크롬에서만 유독 문제네요': 15378, ' 이쁜 캘린더 만들고 싶은데 방법있을까요???(예약사이트) 직접 숫자넣어서 만들어야할까요..?': 15379, ' 혹시 실개발쪽에서 버블을 사용하여 프로젝트를 한다고 가정하에 개발 순서가 어떻게 되는지 알 수 있을까요?? 그 세로선을 긋고 싶은데 HTML로 만들어야 하나요?': 15381, ' 그럼 혹시 bubble.io 아이콘 체크박스 동적으로 만들는 방법이 있나요?? 진짜 아무리 검색하고 gpt에게 물어봐도 이상하게만 말하네요 어렵군요 자바보다': 15383, ' 뭔가 도움을 드릴 수 있을것 같은데.. 모두의 노코드 답변드린거 한번 확인해주시겠어요?': 15388, ' 버블 조건식 표현할 때 [A 리스트에 a라는 엘리먼트가 하나라도 존재하면] 을 보통 어떻게 표현하시나요? 제가 뭔가 쉬운 길을 두고 어렵게 표현하고 있는 듯 해서 질문해봅니다,,': 15393, ' 장바구니에 있는 상품 3개를 한번에 구매했을 때, 구매내역 디비에는 각각 하나씩 저장하려면 어떻게 해야 할까요? 공교롭게 장바구니에 담은 상품이 A, B, C 각기 다른 업체들거라 했을 때, 결제는 한번에 하지만, 내부적으로는 각각 저장해야 할 것 같아서요. 사진 이렇게 하면 하나의 필드에.. 리스트 형태로 저장되긴하는데,, 이렇게 말고 상품 하나씩 저장하는 방법이 없을까요?': 15399, ' 참고할만한 예제가 있을까요?': 15402, ' repeating group의 data 로딩 용량에 따라 , 따로따로 표시되는걸 한번에 표시되게 하는 방법 없을까요?예를들면 A repeating group이 loading is no 일때 visible이라는 조건을 걸어도 , 그 안에 있는 element 의 image나 text는 따로따로 뜨더라구요이 경우는 어떻게 해야 이쁘게 전부 한번에 뜰 수 있게 할까요?': 15411, ' 안녕하세요 버블 이제 배우려고 하는데 질문이 있습니다1 태블릿으로 버블 사용 가능한가요??2 버블로 처음 계발할때 추천 학습 가이드나 예제를 보고 따라할수 있는 글이나 영상 알려주세요??3 버블로 계발 할때 막혔을때 도움이 되는 것 알려주세요???': 15413, ' 안녕하세요! 리피팅그룹으로 전체 게시글(유료 콘텐츠/무료 콘텐츠포함) 그룹을 가져오고 있는데요. 유료 회원은 유료 콘텐츠/무료 콘텐츠는 둘 다 볼 수 있고, 무료 회원은 무료 콘텐츠만 볼 수 있습니다. 여기서 “무료” 게시글일 때는 일반 회원들도 볼 수 있게 하려고 하는데, 이 부분이 셋팅이 어렵습니다🥲 어떻게 하는 게 좋을까요? (현재는 일반 회원이 무료 콘텐츠도 못 보는 상황입니다!)': 15416, ' 리피팅그룸 정보를 알고 싶은데요??': 15418, ' 말씀해주신 부분이랑은 좀 다른 사소한 질문인데 혹시 개발하실 때 회원 성별처럼 간단한 부분도 전부 text보다는 옵션셋으로 만드는 걸 추천하시나요?지금 그렇게 개발하고있기는 한데 점점 프로덕트가 커지니까 옵션셋이 너무 많아지더라고요 !! 상관없겠죠 ?': 15421, ' 카카오톡으로 소셜 로그인을 구현했는데, 이게 바로 로그인이 안 되고 2~3초 정도 걸린 다음 로그인이 되더라구요..! 혹시 이 문제 해결하신 분 계실까요??': 15423, ' 혹시 여기 대표님들중에 미국에서 서비스하셔서 stripe나 다른 결제 서비스 이요해보신적 있으신가요?': 15426, ' 미국 회사를 만드셨나요??': 15428, ' 혹시 국내에 노코드개발자를 채용하는곳이 있나요?': 15430, ' 보통 현업 하는 사람들 중에서 목마른 사람들이 우물 팔 때 노코드를 써서 누구를 고용해야 한다면 그냥 개발자를 고용하는거랑 차이가 없을거 같은데요': 15435, ' 노코드로시작해서코딩을배우는건어떻게생각하시나요?': 15440, ' 코딩은 어느정도 하고 노코드는 어느정도 할줄알아야 경쟁력이 있을까요? 길게보고 커리어를이어가고싶습니다': 15444, ' Uxui말씀하시는건가여? 아': 15451, ' 혹시 어느 플랫폼에 올라왔던 공고인가요~?': 15465, ' 모두의 노코드 쇼케이스에 있는 웹, 앱 모두 사용해 봤는데 로딩 속도가 많이 느린데 버블의 한계인가요?': 15469, ' 반도체 성능이 계속 좋아지면 로우코드가 각광받으려나요?': 15471, ' 리트머스 채용에 관한 JD를 볼 수 있는 곳도 있을까요?? 채용공고를 찾아볼 수가 없네요 ㅠ': 15489, ' 버블 요금별 견적서 발급 가능할까요?정부지원사업으로 버블 금액의 견적서를 제출해야하는데 , 버블 사이트 찾아봐도 견적서를 찾을 수 없내요.': 15495, ' 상단 네비가 리저블로 만들어졌고, 메뉴중 하나가 팝업을 띄우는 구조로 되어 있어요. 페이지에 이 리저블을 넣은 상태에서 본문의 특정 버튼을 클릭했을 때 저 팝업을 띄우려면 어떻게 해야 하는걸까요?': 15497, ' 안녕하세요. 백엔드 워크플로우에서 recurring 워크플로우 사용하려고 하는데요. 백엔드 워크플로우에서 recurring 워크플로우를 스케줄할 수 없고, 따로 페이지를 만들어서 프론트에서 백엔드 워크플로우를 스케줄해야되는 것 같은데 맞나요? 그럼 보통 백엔드 워크플로우 실행을 위한 관리자 페이지 같은 걸 따로 만드나요?': 15500, ' 페이지에 있는 특정 인풋값을 리저블로 보내는 방법이 뭘까요?': 15507, ' 역으로 데이터를 꺼내올 수도 있는 플러그인인가요': 15513, ' 팝업내 리저블을 넣었어요. 연관해서.. 리저블내 특정버튼을 눌러 팝업을 닫는 방법은 어떻게 해야 할까요?': 15515, ' 카카오 로그인을 사용해서 유저 프로필 사진을 저장하고 싶으면 어떻게 해야하나요??': 15520, ' (추가로 생년월일 정보도 받아오는데 이걸 어떻게 저장 시키나요..?)': 15522, ' 사진 체크박스입니다. 안에 있는 박스의 크기를 키우고 싶은데 어떻게 하면 되나요? 30분동안 잡고 있는데 머리아프네요': 15523, ' CSS를 사용하려면 어느 창으로 가야 하는지 알 수 있을까요?': 15525, ' 혹시 SPA에서 custom state에 따라 group들 visible 여부가 달라지는 방식으로 구현했을 때,custom state 값 변화에 따라 (앱의 다른 창에 다녀오는 행위) group들을 페이지처럼 새로고침시킬 방법이 있을까요?각 group에는 input들이 여러개 있어서, 다른 창 다녀왔는데 이전에 입력한 값들이 초기화가 안되는 상황입니다페이지를 구분하는게 더 나은 방식인지 고민이네요…': 15531, ' 사진 아무리 해도 요기서 변경 될 가망이 안보이는데  css조금 하실 줄 아는분 계시나요..': 15532, ' 사진 conditional에 ON/OFF는 무엇인가요?? 이 조건 끄기 / 켜기 인가요??그런것 치고는 off가 기본값인데 ㅠㅠ': 15533, ' 아 이해했습니다! 로그인 상태에 따라 상단이 다른데1. 다 보여주고특정 상태면 -> 숨긴다2. 다 안보여주고특정 상태면 -> 보여준다 보통 어떤식으로 하게 되나요??': 15536, ' BDK Native로 푸시알림 제공하는 서비스 출시해보신분있으실까요? 현재 플레이스토어 준비중인데, 알림권한 요청을 받는 셋팅을 어디서 어떻게 해야하는지 궁금합니다.': 15538, ' 버블로 만든 사이트들 보면 로딩 속도가 너무 느린데 해결방법이 있나요??': 15544, ' 안녕하세요! 들어오자 마자 질문드려서 죄송합니다ㅠ사용자가 생년월일을 입력하고 버튼을 누르면, 생년월일을 기반으로 지금까지 살아온 날이 몇일인지 보여주는 웹 사이트를 만들고 있는데요 .. 사진 이렇게요! 그런데 여기에서 저기 input 박스에 있는 날짜 데이터를 가져와서 계산하여야 하는데, 그 가공 처리하는 로직을 어떻게 추가할 수 있을까요 ...?': 15548, ' 카카오로그인을 구현했는데DB에서 제 user를 삭제해도 왜 바로 로그인이 될까요??': 15556, ' ㅠㅠ제가 버블을 처음 만져보는거라서 그룹 지정이랑 이런걸 어떻게 정하고 해야 하는지... 어디서 뭘 눌러야 저걸 선택하면 정보가 오고 가고 하는 설정을 하는지 몰랐습니다..ㅠ 지금은 MySQL에 연동시켜 뒀습니다 혹시 이런건 알려주신 토대로 검색해서 공부해보면 돠는걸까요?': 15565, ' 혹시 추천해주시는 강의가 있을까요? ㅠㅠ': 15567, ' 아하 알겠습니다! 혹시 @병준/헬스케어  병준님이 만드신 저 위에 버블 사이트 읽음표시 누르면 모두 체크 되는거는 어떻게 만드는지 알 수 있을까요??': 15585, ' 강의를 봤는데 제가 스탠다드 버전이라 Slae type 옵션을 제공하지 않습니다. 하지만 강의에서는 Sale type 으로 contact 선택하여 진행중인데 어떻게 하면 좋을까요>': 15590, ' 제가 도움드리려고 하는데 오카방 링크 보내드릴까요?': 15591, ' 넵 도와주시면 너무 감사하죠ㅠㅠ 근데 오카방이 명칭이 뭔지 알 수 있을까요?': 15592, ' 데이터가 생성될때마다 가장 높은 id + 1 이 생성되도록 하고 싶은데 어떻게 구현할수 있을까요??': 15594, ' 데이터 생성될때마다 번호를 올리고 싶다는 건가요?': 15597, ' 로직을 어디에 적나요??': 15600, ' 버블 고수님들 안녕하세요…! 제가 메인 브랜치에서 original이라는 세이브포인트를 만들고, 라이브로 배포를 진행했습니다. 라이브를 보던 중, 잘못된 것을 발견하여 다시 라이브 버전도 original 세이브포인트로 돌아가고 싶은데요. 메인에서 original 세이브 포인트로 돌아가니까 your branch is out of sync with live라고 뜨면서, 배포가 안 되네요 ㅠㅠ 혹시 어떻게 해야하시는 지 아시는 분 계실까요??': 15601, ' 안녕하세요. 궁금한게 있습니다.체크박스를 \"전체선택\" 버튼을 누르게 되면 해당 페이지에 있는 모든 체크박스를 true로 즉 체크가 되게끔 만들고 싶습니다. (이메일 형식이라 보시면 편합니다)하지만, 강의들을 보니 리피팅 그룹으로 묶어서 통체로 하고 있었습니다. 근데 제가 리피팅 그룹으로 MySQL로 글의 제목들을 뿌려주고 있는 상황이라 리피팅 그룹으로 묶게 되면 해당 제목의 데이터를 뿌려주지 못하고 에러가 뜨고 있는 상황입니다.자바 스프링으로 코드를 짠 뒤에 API를 받아오면 해당 글의 카테고리, 제목 등등을 가져와서 데이터를 뿌려주고 있고, DB는 MySQL을 사용중인 사람은 리피팅 그룹으로 제크박스를 묶어서 할 수 없는것 같은데ㅠㅠ 리피팅 그룹이 아닌 다른 방식으로 체크박스를 모두 선택, 모두 해제 기능을 넣는 방법은 없을까요?': 15612, ' 리피팅 그룹의 Data source에 어떤 타입의 list가 들어가나요?': 15613, ' 제가 이해를 잘 못하는중입니다. 혹시 사진 이런식의 답변을 원하신걸까요? 아니면 사진 이런건가요..?': 15614, ' 쿼리의 결과는 JSON인가요?': 15617, ' JSON을 그대로 리피팅 그룹에 넣는다고 리피팅 그룹이 작동할 것 같진 않은데.. 글의 제목은 제대로 표시가 되고 있으신가요?': 15619, ' 안녕하세요, 토스페이먼츠 관련해서 문의남깁니다!토스페이먼츠는 혹시 결제 위젯을 띄울때, 메인페이지에서만 띄울수 있나요~?!결제위젯을 팝업창으로 띄워서 결제완료 이후에 widget_success 페이지로 리디렉션이 되어야 하는데, 앞전 page path 뒤에 widget_success가 붙게 되어서요! L 혹시 답변가능하신 분 계실까요 ㅠㅠ?!': 15629, ' 헉! 감사합니다….!이렇게 쉽게 되는거였다니 허무하네여…ㅎㅎㅎ 혹시 저 typeofcontent의 역할이 뭔가용~?': 15631, ' 혹시 커스텀 캘린더 쓰시는분 있을까요?? 기본 캘린더 너무 안이뻐요..ㅠ 날짜 하루만 받아오면 되는건데 ㅠㅠ(기간 X, 1일)': 15634, ' 이제 막 예약 구현하려는 버린이인데 간단하게 가능할까요?': 15636, ' 분리한 이유를 알 수 있을까요? 궁금해서요': 15641, ' 이건 버블 페이지에서 토스페이먼츠 사이트로 이동하려고 할때 만드신페이지에서 띄우는 걸겁니다 구현하신내용이나 사용하시는 플러그인 등에서 괸련 기능이 있는지 확인해보세요': 15653, ' 안녕하세요!제가 맡겨봤고 너무 만족하여서한 분 소개시켜드리려 하는데 괜찮으실까요?': 15657, ' 버블에서 뒤로가기 구현하려면 Toolbox 설치하라는데 이 방법이 제일 나은가요??': 15662, ' 안녕하세요 혹시 버블에서 크롤링을 통한 데이터 수집 작업을 해본신분이 있으실까요?': 15666, ' 혹시 토스페이먼츠에서느 receipt:url 정보값은 따로 API 연동을 별도로 해야 하는건가요~?위젯 플러그인을 통해서는 못 가지고 오는거죠~? 사진': 15667, ' 안녕하세요? 버블에서 만든 작업의 코드를 뽑을 수 있는 방법이 있나요? 아무라 찾아도 내보내기 없어서요 ..': 15669, ' 업로드한 파일목록이보기화면에서 나오게 하려면 어떻게 설정해야하는지요.': 15671, ' 다른 사람한테 링크를 전달하고싶은데요 빌드해서 보여드릴수 있는 어떤 방법이 없는건가요?': 15672, ' 혹시 버블로 만든 SaaS에 구독 기능을 달고싶으면, 토스페이먼츠 플러그인에서 제공할까요? 더 좋은 방법이 있을까요?': 15688, ' 사진 bubble에서 api connector을 사용하는 중인데요. 저기에 데이터 저장된 \"birthdate\"라는 필드의 값을 가져오고 싶은데 뭐라고 입력해야 하는건가요 ? \"birthdate\\'s value\" 라고 입력했는데 안되어서 질문드립니다..': 15690, ' Api 기능명세서 파일이 있나요?': 15691, ' 각각의 element를 만들고 표시해야하나요? 아니면 no일때 height를 고정시켰다가yes일때 fit height로 하면 될까요?': 15702, ' 혹시 번외로 reapeating 그룹 안에 reusable element를 넣어놨는데reusable의 roundness가 12인데이미지가 그걸 무시하고 뚫는데 해결이 될까요..??': 15704, ' 그렇게 되면 테두리의 round랑 이미지의 round가 살짝 달라지는데버블은 overflowe hidden이 적용안되나요 ??': 15706, ' 안녕하세요. 이미지 로딩 속도를 줄이려고 하는데요. 우선 데이터베이스에는 300*300픽셀 사이즈의 이미지가 저장되어 있습니다. 어떤 페이지에서 30*30 픽셀의 크기로 이미지를 띄워야 하고, 어떤 페이지에서는 300*300 픽셀로 띄워야 하는 상황입니다. 30*30 픽셀로 여러 개를 띄울 때는 퀄리티를 좀 낮추고 속도를 향상시키는 방법이 있을까요?': 15707, ' 채널톡을 특정페이지에만 달 수 있나요?': 15708, ' 사진 높이가 다른 텍스트 2개를 row로 그룹한 다음에 그룹한 크기에서 작은 텍스트 높이가 자동으로 세로를 기준으로 가운데 정렬 하기 쉬운방법이 있을까요? 안에 작은 텍스트를 그룹높이만큼 높이면 되긴하는데, 다른방법이 있을 것 같기도 해서 문의드립니다. ㅠ 사진': 15709, ' 혹시 버블과 에어테이블을 연동해서 사용하는데 있어 장점이나 단점이 뭐가 있을까요? 나중에 make나 재피어까지도 연동할 수 있을 것 같아서 고민중입니다. 오른쪽 텍스트 레이아웃에서 버티컬을 가운데 정렬하면 되지않나요?': 15710, ' ChatGPT4 지금 저만 무한로딩 걸려요?': 15715, ' 혹시 커스텀 캘린더 좀 도와주실 분 계실까요..ㅠㅠ Calendar & Timeslots custom BEP 플러그인 해보고 있는데 < , > 버튼이 안먹어요 ㅠ 사진 2장 누른 날짜를 가져오고 싶은데, 왜 아래꺼는 동작을 안할까요??': 15717, ' 와 기획자 분들이 버블을 쓰시는군요 기획자 분들은 어떤 이유로 버블을 쓰시나요 ㅎ버블을 쓰는 회사가 있나요? ㅎ': 15719, ' 므찌다.. 무슨 서비스를 버블로 만드시나요 ㅎ 써보고싶어요 ㅎ': 15721, ' 그 그룹의 데이터 소스 설정을 확인해보세요....': 15727, ' 달력에서 날짜 누르면 워크플로에서 어떤 동작을 하게 되어있나 확인해보셔야할 듯 해요, 제가 사용하는 플러그인이랑은 다르지만, 제 경우 달력에서 날짜를 누르면 워크플로에서 set state로 특정 그룹에 값을 지정해주고 다른 엘리먼트에서 해당 값을 받아오려면 해당하는 설정이 필요할거예요~': 15729, ' 혹시 어떤 플러그인 사용하시나요?': 15730, ' 버블에서 배포 하려면 유료 결제 무조건 해야하는 건가요 ..? 무료 버전으로 개발 완료는 했는데 배포하는건 유료인거 같아서요': 15732, ' 버블 내부 db를 json형태로 바꿔서 hwp 파일형태로 저장하는 방법이 있을까요?': 15740, ' 에디터모드에서는 보이는 리피팅그룹이 라이브모드에서 안보이는건 왜일까요?': 15764, ' 라이브모드에 DB 데이터가 존재하는지 확인해보세요.': 15766, ' 가격이 저렴하면서 할만한것은 뭐가 좋을까요? 버블과 소프터 가격이 아 이용하기가 매달가격이 좀 부담스럽네요 ㅠ': 15774, ' 노코드툴중에서 버블 난이도는 어떠한 편에 속할까요?': 15775, ' 데이터가 변경되거나 생성될때마다 슬랙으로 알림을 받고 싶은데어떠한 방법이 있을까요??': 15783, ' 버블 - 슬랙 연동을 한다는게, workflow가 실행되면 -> 알림 인거같은데특정 DB가 생성/변경 되면 -> 알림 도 가능한가요??': 15788, ' 어디서 할 수 있는 것인가요??workflow에서 하는것인가요??': 15790, ' 맨 하단이 어느 페이지 인가요?? 현재 클릭 하니까 Workflow api root url이 생겼습니다': 15792, ' 스팸 메일함 보셨는데도 이메일이 안왔다면 value값(Email to reset)이 제대로 들어갔나 확인해보셔야 될 것 같아요!! 버블디비에 등록된 이메일과 동일한 이메일인지도 확인해보시면 좋을 것 같아요': 15796, ' 사진 혹시 비밀번호가 변경되었단걸 팝업창을 만들지말고 이 시스템창은 변경이 안되나요?': 15799, ' 궁금한점인데 인테리어 중개플랫폼들 수수료가 3퍼정도로 들었는데 그럼 공사료는 어떻게 결제할까요 pg사를 통해서하면 수수료가 너무부담일텐데': 15800, ' 아하 한번 찾아보겠습니다! 그리고 혹시 궁금한게 생겼습니다pw 변경 페이지를 만들고 있는데 혹시 버튼을 누르면 변경이 되고 팝업창이 뜨게 하고 싶은데 사진 이렇게 하면은 손으로 직접만든 팝업창이 안나오더군용.. 혹시 이유가 있을까요..?': 15802, ' 플러그인 설정쪽에 클라이언트키도 변경하셨는지 확인해 보세요': 15807, ' 혹시 privacy에 대해 참고할 만한게 있을까요?? 머에 대한걸 설정하는건지 모르겠어요 ㅠ': 15811, ' 프라이버시 룰 없이도 에어비앤비 같은 구매자<-> 판매자의 서비스를 제작할 수 있나요? 우선 만들고 나중에 설정해도 되는지 아니면 데이터가 이동을 못하는지 궁금해요': 15813, ' 사진 사진 혹시 요기 Yes처럼 버튼을 누르면 해달 셀이 안보이게 하고 싶은ㄷ Wait랑 No는 왜 아래 This element is visible가 없을까요?': 15817, ' 아하 감사합니다 해결됐습니다! 사진 드롭바를 클릭하면 3가지의 선택사항이 나오는데 그걸 클릭을 해도 새로고침 하면 아무것도 눈에 안보여서요. 이걸 클릭하게 되면 새로고침을 해도 클릭한걸 그대로 보여주고 싶은데 어떻게 하면 좋을까요?': 15819, ' 저장을 하게 되면은 드롭바에 사람이 뭘 선택했는지 새로고침을 해도 보이나요??': 15821, ' 넵 해봤는데 요기서 문제가 생겼네용.. 사진 해당 권한 수정 문제는 어떻게 해결해야 하는지 여쭤봐도 될까요? ㅜㅜ 찾아보니까 Privacy에서 뭘 설정하던데 사진 요기서 When에 어떤식으로 문구를 써야 하나요?': 15825, \" input's value is changed 이벤트에 액션으로 걸어버리는 걸로는 안되나요?\": 15826, ' 혹시 커스텀 드롭다운 사용하시는분 있으신가용': 15834, ' 그 최근에 나온 거랑, 곧 기간이 끝나는 글을 드롭바를 통해서 바로 가능한가요??': 15838, ' 버블 노코드 에 관심이 많은 비개발자 직장인입니다 ~파이썬으로 기초 공부하고버블은 클론코딩으로 숙련도 올리려고하는데 커리큐럼 괜찮을까요': 15839, ' when dropdown a\\'s value is \"최신순\" 일때 data source 프로퍼티를 변경하시면 되죠': 15847, ' 사진 ㄷㄷ... 리피팅 그룹에서 Sort by에 마감시간 적고 Descending 에 yes적은 뒤 컨디션에서 작업하는게 맞을까요?': 15848, ' 사진 드롭다운이 이렇게 설정되어 있는게 맞나요? 사진 그럼 리피팅 그룹에서 이렇게 될텐데요..? 사진': 15870, ' 그럼 마감순으로도 띄우기 위해선 동적으로 바꿔야 하나요?': 15875, ' 버블로 만든 홈페이지를 네이버웹마스터도구에서 사이트 소유확인 절차중인데*HTML 파일업로드*HTML 태그 어떻게 하나요? 헤더에 붙여넣었는데 맞는건지 사진': 15881, ' 반갑습니다 어서오세요 :) missing text라고 나오는데 내용이 빠진 건 아닐까요? 바디 부분에 json 양식이 제대로 작성되어 있는지 확인해보세요~': 15886, ' 혹시 버블로 제작하고 네이티블리로 래핑한 앱을 앱스토어에 배포해보신 분들중 \"sign in with apple\" 을 어떻게 진행하셨는지 사례를 여쭤봐도 될까요? 일단 로그인 기능은 네이티블리에서 제공하는 가이드대로 설치를 완료했는데, 애플에서 revoke token까지 해야된다고 심사반려가 되어서.. 현재 그걸 어떻게 처리해야하나 알아보고 있습니다. 프로그래밍에 대한 기초지식없이 어찌어찌 작업을 해왔는데 이건 좀 어찌해야 할지 정보를 찾기가 어렵네요..': 15891, ' 버블에서 말풍선 INPUT은 없을까요?': 15894, ' 말풍선 input이 뭘까요? 말풍선 안에 뭔가를 입력하는걸 구현하시려는걸까요': 15895, ' 혹시 group이 특정 요소 아래를 지나가면 안보이게 할 수 있나요??': 15896, ' 사진 이런느낌의 말풍선의 INPUT 엘리먼트를 만들고 싶은데 어떻게 하면 좋을지 모르겠습니다 ㅜㅜ': 15897, ' 중개 서비스 준비하시는분 계신가요': 15906, ' 중개할 서비스품목이 가격이 좀 많이 나가는데 결제서비스를 어떻게 해야할지 모르겠어요 ㅠ': 15909, ' 토스 페이먼츠로 달면 안되나요??': 15910, ' 지금은 그냥 소개소개로 하고있는데 서비스로 만들려니 어렵네요 수수료가 5퍼정도밖에 안되는데 토스는 수수료가없나요?': 15911, ' 뒤로가기 하면 사이트를 재로딩하느라 시간이 좀 걸리는데, 뒤로가기 했을때 빠르게 로딩할수 있을까요??': 15924, ' 오 그러면 혹시 뒤로가기가 아닌 다른페이지로 넘어갈때도 빠른 전환이 가능할까요???': 15926, ' 그러면 첫 로딩때 모든 페이지를 다 로딩하는건가요..?': 15932, ' index페이지만 캐싱 최적화해서 빠르게 할 수는 없을까요??': 15934, ' 초보들에게는 파라미터가 좀 어려운 부분이네요 보여지고 안보여지고를 파라미터로 어떻게 구분하는 것인지~': 15940, ' 리피팅그룹 스크롤바 없애는거 예전 영상이나 플로그인이 작동을 안하는데 혹시 최근에 참고하신 영상이나 플로그인 아시는분 계실까요??': 15943, ' 늦은 시간에 추가 질문드려 죄송합니다다음 질문인데요기존 db타입의  y/n을새로 옵션셋의  yn으로 바꾸려면기존 db타입에서 필드를  지워우고 새로운 필드로 만들어야 하나요?보통 이럴땐 csv다운받고 기존 db필드값 업로드해서 밀어넣나요? 아니면 다른 방법이 있을까요?현재 제가 아는 방법은 삭제하고 새로 만드는 방법외에는 몰라서 여쭈어 보았습니다': 15951, ' 질문 드립니다.- 제가 개발한 앱을 다른 계정에 복사하는 기능이 있을까요?': 15955, ' 버블 고수님들 안녕하세요! 모두의노코드 가입페이지처럼, \"선택 포함, 필수 약관 전체 동의\" 체크 시에 해당하는 약관들을 다 checked로 처리하고 싶은데, 이럴 때는 어떻게 하면 좋을까요?? 늘 도와주셔서 너무 감사합니다~~': 15961, ' 새로운 index 페이지로 지정할 페이지에서 여신거 맞을까요~?': 15965, ' 사진 버블창 하나 메모리 얼마 나오시나요? 요즘 뭔가 메모리 차지량이 더 많아져서자주 멈추네요;;': 15972, ' 전체 빌딩 말고 중간에 몇페이지 추가하는 것도 외주가 가능할까요??': 15984, ' (Light - 주 10시간 근무 50만원)이면10시간에 50만원이라는 것인가요??': 15987, ' repeating group 내부의 group에 각각 custom state를 부여할 수 있나요? type은 text 형태일 것 같습니다. 나중에 이 text들을 join하는 것도 가능할까요?': 15990, ' 버블은 앱말고도 웹사이트도 가능하죠?': 15993, ' 혹시 버블 입문용 추천도서가 있을까요?': 15995, ' 사진 이런식으로 드롭다운을 이용하여 해당 지역을 클릭하고, 검색하기 버튼을 누르면 해당 지역에 관련된 글이 나오게 하고 싶은데 어떤 방법이 있을까요?ㅠㅠ': 15996, ' Repeating group의 data source에서 constraint나 filter 기능을 여쭤보신게 아닐까요?': 15999, ' 오호 그럼 리피팅그룹의 데이터소스는 뭘로 설정되어있나요?': 16002, ' 어떻게 연결되어있으신가요?': 16004, ' 안녕하세요, 혹시 API connector에서 POST로 API를 요청할 때 최대 사용할 수 있는 body paramater 갯수는 10개인가요~? 사진 10개 이상으로는 추가가 안되는 것 같아서요..!혹시 아시는 분 있으실까요~?': 16005, \" 반복그룹에 아이템이 있습니다. 아이템 옵션셋에 5개의 옵션이 있는데, 이중 하나를 제외하고 모두 나타나게 하려합니다. Search for 아이템's 에 필터를 붙여 제외해야 하나요? 서치내 항목으로 해야 하나요? 뭘 착각하고 있는건지,, 하나의 옵션 값을 제외하는 방법에서 헤매고 있습니다. 조언 부탁드립니다. 사진 2장 저기서 삭제 값을 가진 아이템만을 반복그룹에서 제외하려 하거든요.\": 16016, ' 와아... ㅠㅜ  감사합니다. 저 연산자는 무슨 뜻을까요 ^^ 뒤에 오는 값을 제외한다는 의미인가 보네요. 오늘 처음 알았습니다.': 16018, ' 앱 래핑에 대해서 고민하고 있는데 , Natively하고 BDK의 차이점은 있을까요?': 16028, ' 저 혹시 네이버 서치어드바이저 계정을 바꿀 때, 소유인증한 키값을 바꾸면 데이터를 보는데 문제는 없으나, 바꾼 계정으로는 과거 데이터가 누락 되는 건가요? 아시는 분 ㅠ': 16030, ' 음... 이게 delete a thing에서 작업을 했는데 first item으로 하게 되면은 첫번째 줄이 아닌 다른줄에서 작업을 하여 제거 버튼을 클릭하면 클릭한 친구가 사라지는지, 아니면 그 위에 1번 친구가 사라지는지가 궁금합니다': 16036, ' 그럼 첫번째가 아닌 제가 클릭한거가 지워지기 위해선 어떻게 해야 하나요?': 16038, ' 안녕하세요B2B 서비스와 관련하여기업에 권한관리를 어떻게 만들 수 있나요?예를 들면우리회사 프로필정보 수정은우리회사에 권한 있는 사람만 등록하도록 하고싶어요(기업정보DB에 user리스트 필드를 넣는 방법은  사용하지 않으려고 합니다)늘 조언주시고 도움주셔서 감사합니다': 16042, ' 혹시 다들 보통 모바일 작업하실 때 브레이크포인트 몇몇으로 하시나여~?': 16043, ' 고수님들 안녕하세요~~!! 버블로 개발된 서비스 중에 카카오톡 간편 로그인/싱크로 구현된 서비스가 어떤 게 있을까용?? 늘 도와주셔서 감사합니다 ㅎㅎ': 16044, ' 궁금한게 잇는데플로터플로우도 버블처럼 db를바로 만들어서 앱에 반영할수 있나요?': 16048, ' 감사합니다 ㅎ 파이어베이스에 설정한 db를 플로터플로우에서 쉽게 보여주고 활용할수 있나요? 버블은 이 부분이 쉽게 잘 되어잇는데': 16050, ' 보통 이미지 올릴때 화질이 안 떨어져보이게 하고 , 로딩에는 좀 가볍게 하고 싶은데 2mb전후면 약간 무거운 편일까요?2mb전후로 이미지 올리고 , 이미지 품질 떨어트릴바에는 차라리 1mb전후로 해도 나쁘지 않다고 생각하는데 어떻게 생각하시나요? 1mb도 많은편일까요?': 16059, ' 큰거였군요 ! 그러면 이미지 용량 2MB를 압축율 50% 하면 이미지 1MB인 것이랑 비슷하게 생각하면 될까요?': 16061, ' 브라우저별 webp 지원을 참고하세요.': 16065, ' 정말 광범위한 질문이긴 합니다... 혹시 버블이 일반 사이트에서 못 만드는 기능이 있을까요? 일반 사이트에서는 볼 수 있지만 버블을 못만드는 그런게 있을까요?': 16066, ' 정부기관, 공기관 사이트': 16067, ' 버블로 워드프레스같은 웹빌더의 플러그인을 만들 수 있나요??': 16073, ' 12,320원에서 12,300으로 하고 싶은데 rounded to 를 사용하는게 맞을까요? 사용해도 잘 안되는데 혹시 아시는 분 계시까요?': 16074, ' 아니면 나머지를 빼도 되죠': 16080, \" 워크플로우에서 액션 단계를 구성할때, '이전 액션이 성공 하면'이라는 조건을 달 수 있는 방법이 있을까요?\": 16087, ' 성공이 어떤걸까요? 그냥 액션이 발동되는거라면 뒤에 붙이면 될거같은데': 16089, ' 답변 매우 감사드립니다!커스텀 이벤트의 return값을 받는 방법은 어떻게 되는지 혹시 알려주실 수 있으실까요?': 16095, ' 페이지 로딩 줄이려면 원페이지로 구현하는 방법 밖에 없나요? 다른 페이지로 넘어가는데 로딩이 넘 기네요 ㅠ': 16103, ' 혹시 모바일에서 INPUT에 텍스트를 입력할 때 focus 안되게 설정할 수 있나요~?채팅화면을 구현하는데 모바일 화면에서 input focus 되면서 확대되어서 UX적으로 불편해서요 ㅠ 사진': 16107, ' 데이터 베이스 구성 관련해서 어떻게 하면 좋을지 질문드립니다.': 16110, ' 안녕하세요 혹시 버블로 만든 후에 랩핑 하고 스토어 등록하면, 거래 시 결제 수수료를 받나요..?': 16111, ' 혹시 버블에서 자간 조절이 가능한가요??': 16114, ' 저희 슬랙도 있나요 ? ㅎㅎ': 16119, ' 슬랙은 돈이... 무료가 90일 지나면 안보이는거였죠?': 16122, ' 디코는 왜 거부감이 드시나요?': 16128, ' 버블에서 회원가입할때 같은 이메일 주소가 있으면, 이를 안내하는 브라우저 팝업이 뜨는데, 이떄 브라우저 팝업이 아닌 제가 만든 커스텀 팝업을 띄울수있을까요?': 16133, ' 회원을 검색할때 user ID로는 검색을 못하나요? 버블 전용 이메일 ID SearchBox 에는 아예 email은 선택할 수 없도록 되어있네요다른 방법이 있을지요?': 16152, ' 안녕하세요! 숨고 같은 매칠 서비스를 버블로 제작하려 하는데, 참고할만한 템플릿이 있을까요? DB 구축을 어떻게 해야 할지 감이 안잡힙니다ㅠ': 16153, ' Bubble과 Flutter Flow 두개중에 고민하고 있는데요. 유튜브보면 각기 장단점이 있더라구요. 간편결제(네이버페이, 카카오페이, 토스페이 등)는 두개 중에 어떤것이 더 쉽게 가능할까요?': 16156, ' 안녕하세요! MVP 관련해서 뭐좀 여쭤보고 싶습니다.저희 서비스가 아직 정식으로 오픈하기에는 서비스 검증이 안된 부분이 많지만 MVP 개발을 마치고 서비스를 테스트해보려고 합니다. B2B 서비스인데 일단 무료로라도 검증을 해보려고 하는데 이런거 진행하실때 최소한의 계약서는 다들 쓰고 진행하시나요?': 16157, ' 버블로 웹앱 만들어서 받은 데이터들을 이후에 다른 db로 데이터베이스를 옮길 수 있나요?': 16165, ' 아이템이 있고, 이를 장바구니에 담은 버튼이 있습니다. 이 경우 다음과 같은 경우를 구현해야 하는데..1. 로그인전 회원 (로그인 안내글)2. 해당 아이템을 장바구니에 담은 경우(이미 담았어요 안내글)3. 해당 아이템을 이미 구매한 경우(이미 구매했어요 안내글)4. 해당 아이템을 등록한 회원(자기상품은 못담아요 안내글)5. 위 4가지 경우를 모두 통과한 경우 장바구니에 해당 아이템을 저장이에 워크플로우를 하긴했는데,, 버튼을 누를 때 검색을 하게되니 딜레이되는 시간이 눈에 띄어요.어떻게 하면 효율적인 워크플로우를 만들 수 있을까요? 조언 부탁드립니다.': 16172, ' 안녕하세요 유료플러그인 잘못 눌러서 결제 됐는데 환불 방법은 없을까요...?? ㅠㅠ': 16176, ' 안녕하세요. 현재 제가 개발중인 웹사이트의 pc버전은 거의 완성이 되었고, 모바일 화면 최적화를 하려고 하는데요. 보통 한페이지에서 반응형으로 만드나요? 아니면 모바일 페이지를 따로 만드나요? 이게 SEO측면에서도 차이가 있을까요? 그리고 한 페이지에 만든다면 똑같은 기능을 수행하지만 모바일 버전, 피씨버전으로 ui만 다른 두개의 reusable element를 만들어서 페이지에서 visible을 껐다켰다 하는 식으로 하나요? 아니면 한 element에서 custom state로 값만 조금 조정해서 사용하나요?': 16177, ' 헐... 일단 삭제 했었는데.. Re-install <- 이거 눌러도 결제 되는건가요.....': 16184, ' 엑셀 슬러그가 정확히 어떤 기능인걸까요..!?': 16187, ' 혹시 지금 버블 제대로 되시나요?': 16190, ' 여쭤보기 조심스러운데... 왜죠?': 16200, ' 버블로 앱스토어/구글플레이에 앱 등록할수 있나요?': 16204, ' 픽처업로드기능 사용시 백그라운드에 이미지 넣는것처럼 사진을 확대하는 방법이 혹시 있을까요?': 16208, ' 약간 이해가 안됐습니다. 픽처업로드로 이미지 업로드 -> 미리 보기 화면에 사진 확대하여 표시. 요건 가요?': 16209, ' 혹시요 크롬말고 다른 브라우저로 해보셨나요? 저는 기어가는 수준이 아니라... 멈추는 수준이었는데지금 잠시 네이버 웨일로 피신왔어요지금도 쾌적하고 빠릅니다': 16214, ' 특정페이지를 구글검색엔진에서 차단하려면 어떻게 해야 할까요?': 16231, ' 사진 플로팅 그룹을 만들어서 해보는데 혹시 플로팅 그룹에 괜찮은 영상이 있을까요? 아직 잘 이해가 안되는군요 ㅠ': 16238, ' 왜 beneath the page로 하셨나요?': 16239, ' 혹시, 리피팅그룹에서보여지는 건 한 번에 10개 이렇게 보여주고, 다음 장으로 넘기기 이런 기능을 구현하려면 어떻게 해야 할까요? 사진 이런 식으로요': 16243, ' 버블 속도 업데이트가 있었나용?': 16247, ' 사진 안녕하세요. 지금 group a의 boolean custom state를 바꾸려고 하는데요. 버튼을 누를 때 a의 state가 yes면 no로, no면 yes로 바꾸려고 저렇게 workflow를 만들었습니다. 첫번째 step은 yes면 no로, 두번째는 no면 yes로 바꿉니다. 그런데 yes일 때 a를 클릭하면 step1을 실행하고 step 2를 실행하면서 no로 잠깐 바뀌었다가 다시 yes로 바뀌더라고요. 어떻게 해결할까요? 원래도 이런 구문을 좀 썼었던 것 같은데, 지금 문제를 발견한 것도 좀 이상한 것 같아요. 혹시 업데이트하면서 바뀐 걸까요?': 16263, ' 혹시 이런식으로 태그를 클릭하면은 해당 태크가 있는 글들만 보고 싶은데 그렇게 되면 태그가 여러개 일 경우엔 에러가 날거 같아서 모든 경위수를 다 넣어줘야 하는 노가다를 할 판인데... 혹시 이런 기능 플러그인이나 좀 쉽게하는 방법이 있나요?': 16267, ' 비교하는 항목이 늘어나는거긴해요 흠 일단 알겠습니다 하는 방법은 아니까 해봐야겠네요 혹시 이런 기능을 다루는 영상이 있을까요?': 16271, ' 버블 테이블 사용하시는분 계신가요? .. ㅎㅎ 높이를 페이지에 맞춰 채우면, 데이터가 적은 경우 테이블 아래 빈 흰 영역이 생겨서 테두리가 늘어나 지저분해보이고, 컨텐츠에 맞추자니 첫행 고정이 안되네요 ㅠㅠ 빈칸도 만들지 않고 첫행 고정도 쓸 수 있는 방법이 있을까요 ?': 16279, ' input A 에서 퍼지검색을 이용해 검색을 하고검색된 리피팅그룹의 값을 선택하면 (선택을 링크로? 버튼으로? 다른 무언가?)그 값이 input A로 오게 하기 위해서는어떻게 해야하나요? 초보자 모드로 설명해주실분 ㅡㅜ..': 16281, ' 글쎄요 ^^ 코린님만 이상하게 하는 나쁜 버블은 아닐거에요 ^^ 사진 @코린이  Row1  행수 고정하신건 아닌지?': 16307, ' 사진 ㅎㅎ...': 16308, ' 감싸고 있는 그룹의 레이아웃은 어떻게 되어 있나요?': 16310, ' 버블에서 자피어 트리거를 만든 후,, 자피어에서 트리거로 넣어둔 필드(예: 상품 상세)외 다른 필드(회원정보)들을 가져 오려면 어떻게 해야하는건지 혹 아시는 분 계실까요?': 16311, ' 이 그룹을 감싸고 있는 그룹이 혹시 또 있나요?': 16314, ' 버블에서 세로중앙 정렬이 생각보다 잘 안되는데 원래 안되나요? ㅠ': 16320, ' 혹시 괜찮으시면 오픈톡으로 에디터 보여주실래요? 왜 안되는건지 너무 궁금합니다 ㅋㅋ': 16322, ' ㅋㅋ이거 어떻게 보여드려야하죠?': 16323, ' 세로 중앙 정렬은 잘 될텐데요???': 16324, ' 말씀하신대로하니 따로 플로팅그룹 설정하는 것보단 낫네요. 근데 팝업 자체에 탑 마진이 20픽셀 들어가있는건 어떻게 못하나요? 팝업 안의 그룹을 하단정렬 시키려는데 20픽셀 밀려서 따로 스크롤을 내려야합니다.': 16340, ' 버블 저만 안되나요 20분째 계속 로딩중이네요 ..': 16341, ' 리유서블 엘리먼트 내에 버튼을 눌렀을때 팝업을 띄우고 싶은데 이 경우 팝업을 리유서블 엘리먼트 안에 만들어야하나요?': 16343, ' 질문에 답은 아니어서 죄송합니다! ㅎ혹시 그림에 나온게 앱인가요 모바일 웹인가요~?': 16346, ' 혹시 플러팅 그룹에 관련된 영상 괜찮은게 있을까요??': 16349, ' 서로 플러팅을 하는 그룹인가요': 16350, ' 이모카세보다 주형카세 \\xa0       \\xa0🍣': 16365, ' 여기도 올려주세여 ㅎ 버블에서 플로팅하더라도모바일 키패드 뒤에 깔리는데,모바일 키패드가 뜨더라도 보이게 할 수 있는 방법이 있나요?': 16373, ' 혹시 플로팅바와 비슷한 플러그인이 있나요? 플로팅바 사용하는게 많이 어렵네용.. 플로팅바를 안써도 플로팅바의 기능을 해주게 하는 플러그인이 존재하나요? 그 위치를 고정시켜서 스크롤 내리면 같이 내려가게 하고 싶습니다': 16374, ' 정렬 표현식을 어떻게 구성하셨는지도 보여주셔야 할 것 같습니다': 16377, ' 서비스 초기 사용자 수십명 모을 때 어떻게들 하세요? 그러니까 직접 누군가를 설득할 때 어떤 수를 쓰는지와 비슷한 질문이네요!': 16378, ' 버블에서 태그 기능은 많이 어려운 편인가요?': 16381, ' 안녕하세요. 혹시 csv파일 임포트해보신 분 계신가요? 데이터 타입끼리 연결을 시키려고 하는데요. unique id가 버블에 임포트할 때 생성이 돼서 어떻게 해야 될지가 고민입니다. 그리고 혹시 데이터를 임포트나 익스포트할때 workload를 사용하나요?': 16817, \" 대시보드를 만드는 중인데,, 오늘 날짜 기준 필드를 자동으로 생성해 필요한 값들을 저장하려는데, 백엔드워크플로우에서 'New recurrinf event' 로 오늘날짜 기준으로 만들게 하면 되는건가요? 조언 부탁드립니다. 사진 이렇게 작성하긴 했는데.. 아무 반응이 없어요.\": 16385, ' 마진 같은거는 확인해보셨나요?': 16389, ' 제가 잘 몰라서 그러는데 방법을 알려줄 수 있을까요?': 16394, ' 혹시 회원가입 버튼을 플로팅그룹으로 만드셨나요?': 16400, ' (전구)': 16403, ' 네. 텍스로 했어요 날짜로 하니..안되서 텍스트로 변경해서 저렇게 저장했거든요 사진': 16406, ' 여기로 보내지는 대시보드 데이터가 어떻게 되있는지 한번 더 체크해보셔야할 것 같네용': 16409, ' 헉,, 트리거 없이 하는 방법은 없는건가요?': 16422, ' 트리거를 만들어 스케줄에 등록시키는 과정이 임시로 필요하군요. 잘 작동합니다. 고맙습니다. 사진 카운트를 세고자 하는데,, 옵션중 몇개에 해당하는 것만 세어야 합니다. 이렇게 해도 되나요? 더 간단한 방법이 있을 것 같기도 해서.. 조언 부탁드립니다. 사진 오픈전과 등록보류인 것만 카운트를 하고 싶어요. 이렇게 동일한 상품상태 값을 넣어도 동작하는건가요?': 16426, ' 사진 선배님들 혹시 이런 게시판을 대시보드라고 하는건가요?': 16429, ' 현재 어떤 고객이 예약 신청을 했을 때 버블 앱 데이터에 입력되는 것처럼 게시판을 만드려고 하는데요! 그럴 땐 상영님께서 알려주신 대시보드를 사용해서 만들면 되는건가요!?': 16431, \" 안녕하세요 질문 하나 드리려고 합니다!예를 들어 '회사'라는 data type에 '직원'이라는 field(list of 직원's)가 있습니다. 각 회사별로 몇 명의 직원이 있는지를 리스트 형태로 추출할 수 있는 방법이 있을까요? 최종적으로 얻고 싶은 결과물은 list of numbers 입니다 (직원에 필터를 걸어서 각 기업별로 특정 조건을 만족하는 직원의 수를 알고 싶은데 잘 되지 않네요ㅜㅜ)\": 16434, ' toolbox 플러그인의 list of numbers로도 안되실까요??': 16437, ' 표현식 컴포져가 무슨뜻이에요?': 16441, ' 사진 2장 1번째 사진은 제가 강의들으면서 작업중인거고, 두번째 사진은 완성본입니다. floating group에서 horizontal alignment 설정방법을 알려줄 수 있을까요?': 16453, ' 답변 감사합니다! 그 하위요소하는 방법을 잘 몰라서요 알려줄 수 있을까요?': 16455, ' 플로팅 그룹에 그룹을 또 추가해야하는건가요?': 16461, ' 왼쪽의 엘리멘트 트리에서 그룹 엘리먼트를 플로팅그룹 엘리먼트 위로 드롭다운 시켜도 안되실까요??': 16464, ' 감사합니다!! 지금 바로 해보겠습니다! 선생님 혹시 플로팅그룹은 Container layout을 align to parent 로 설정한 기준인가요?': 16467, ' 사진 혹시 퀸잇이나 지그재그처럼 웹애서도 앱처럼 구현하고 싶습니다.상단에 있는 로고나 검색창을 floating group으로 구현 했는데 큰화면에서는 가운데 정렬이 안되더라고요.혹시 구현할 수 있는 또 다른 방법이 있을까요?': 16470, ' 제가 어떻게 드리면 될까요?': 16475, ' 선생님들 이거 쉬프트 누르고 엘리먼트들을 선택하고 키보드로는 함께 움직이는데 마우스로는 어떤 버튼을 누르고 움직여야 다 같이 움직이는 건가용?': 16478, ' 재은님 개인톡 드려도 될까요?': 16486, ' 버블 마우스 드레그 해서 복사하는 단축키가 뭔가요???': 16491, ' 토스페이먼츠에서 개인간거래 서비스라 승인거부가 나왔는데,, 이런 경우 어떤 PG사(버블 연동 가능)를 컨텍해야 하는걸까요? 경험 있으신 분의 조언 부탁드립니다.': 16492, ' payapp 이나 payple 을 검토중인데,, 활용해보신 버블러 계실까요?': 16495, ' 지금 픽쳐업로더/파일업로더/리치텍스트 에디터 내에서 파일 첨부 전부 안되는데 혹시같은문제 갖고계신분 있을까요 다른 컴퓨터에서도 안되네요': 16497, ' 선배님들 좋은 아침입니다. 사진 제가 네이비게이션 바를 만들고 있는데...아이콘 클릭시 색을 변하게 하고 싶어서 조건을 입력하는데 계속 에러가 나는 이유를 알려줄 수 있을까요? 네비게이션 바는 보통 플로팅 그룹으로 하시나요 ?': 16501, ' 선배님들 인풋 엘리먼트에 숫자썻을 때(ex. 500000) 자동으로 500,000 바뀌는 방법이 있을까요?': 16509, ' 사진 규격이라는 단일 필드만 가지고있는 데이터가 있습니다. 이 데이터를 드롭다운에서 정렬을 하려고 하는데 서치포에서 이렇게 해도, 며칠전에 밖에 sorted를 한번 더 추가해도 드롭다운에서 정렬이 안되네요 ㅠㅠ 퍼지서치 통해서 한번 필터링된 데이터는 정렬이 또 잘 됩니다 ㅠㅠ.. 뭐가 문제일까요?...': 16516, ' type이 뭔가요?': 16517, ' 지금 한글이 정렬 안되는거죠?': 16519, ' 코드 생태계에서 socket 많이 쓰던데 bubble에선 어떻게들 하려나요?': 16523, ' 퍼지서치 라는게 플러그인인가요..?': 16527, ' 사진 넵 이거용': 16528, ' 규격 필드 외에 정렬용 필드를 하나 추가로 만드셔서 정렬하면 제대로 출력되는지 테스트해보셨나요?': 16532, ' 해치하이커님 유튜브에 채팅기능 영상있던데요?!': 16533, ' 저는 정렬 문제때문에 실 사용자가 데이터를 추가하고 삭제하는 워크플로우에 추가적으로 인덱스 작업을 백엔드 과정에 넣어주는 식으로 해결했는데, 혹시 그렇게 해결할 수 있을지 한번 검토해보세요': 16536, ' 너무 간단했네요... 감사합니다..ㅎ 선생님 혹시 눌렀을 떄 저 폰트가 다른 색으로 바뀌거나 볼드처리 되고 다른 메뉴 눌렀을 때 다른 메뉴가 동일한 작동을 하는 방법은 어려울까요?': 16543, ' state 값을 이렇게 만드는게 맞나요!? 사진': 16545, ' 버블로 만든사이트에 애드센스 광고 넣는 방법 아시는분 있나요?ㅜ': 16555, ' 스태틱 이미지가 색이 변한 이미지인가요?': 16563, ' page name은 custom states 인가요? page name을 별도로 캔버스에 텍스트 엘리먼트로 출력해서 home인지page name is home 표현식을 그대로 캔버스에 출력해서 yes인지도 확인해보세요': 16564, ' 버블 화상 · 오프라인 강의 있을까요?? 초보 개발자 입니다 가끔 글을 보는데 갈아 업으고 다시 작업하는 글들이 나오는데 ....저 또한 시행착오를 격겠지만 큰 무리 버블로 시작하려고 합니다 1. 어떤 부분에서 문제가 있어 갈아 업나요????2. 초보자 안갈아 업고 정상적으로 진행할수 있는. 방법???': 16568, ' 모두의노코드말고도 혹시 말씀하신 기록되지 않는 서비스를 알 수 있을까요?': 16571, ' 오잉;; 다 복구가 된게 아니네요;;배포하기전 수정한것 중에도 반영 안되는 것들이 좀 있네요;;; 버블수동 저장은 없죠???': 16586, ' 안녕하세요! 모바일 반응형 웹을 개발하고 있는데요!사이즈가 가장 작은건 320px 인데 저희는 375로 기준으로 하다가 320도 대처해야하나 고민중에 있어서요~ 혹시 320 기준으로 만드신 분도 계신가요~?': 16597, ' date/time picker의 intial date를 현재 날짜/시간으로 표시하려고 합니다. 처음 주문서를 작성할 때는 이게 잘 작동하는데 두번쨰부터는 시간이 업데이트가 안되네요 ㅠㅠ.. air date/time picker도 써봤는데 날짜는 오늘날짜로 재설정이 되는데 시간은 현재시간으로 재설정이 아무리 해봐도 잘 안되네요.. 현재 시간으로 재설정하는 방법이 있을까요? 워크플로에서 Display data로 current date/time 지정해주고 기본 date/time picker를 사용하니 제대로 작동하는 것 같아요. ㅎㅎ;': 16598, ' seo 최적화 한 다음 기간 얼마나 지나야 구글에서 제대로 노출되나요?': 16601, ' 안녕하세요 초보개발자 입니다. 혹시 mvp라는 말이 많이들려서 그러는데 mvp가 뭔지 알려주실수 있으실까요??': 16606, ' 아하 본제품 만들기전의 단계라고 보면되겠네요. mvp로 사람들의 반응도 체크하고요 알려주셔서 감사합니다! 모두의 노코드같은 커뮤니티앱은 다루는 데이터 양이 많을텐데 전부 버블에서 관리하나요??': 16612, ' 여러분들 혹시 버블 좀 버벅거리거나, 느리진 않나요?': 16614, ' 안녕하세요 파일을 일괄 업로드하고 파일명에따라 특정 스토리지에 분배해 업로드를 할 수 있는 기능을 구현하고싶습니다. A라는 파일명은 A저장소에, B라는 파일명은 B저장소에 자동 분류해 저장하는 기능이 버블에서 구현 가능할까요?': 16615, ' 뭔일이 있었나요??': 16628, ' 스토리지는 버블을 쓰나요? 아님 다른 벡엔드 서비스인가요? 광고가 올라왔다가 사라졌어요 ㅎ': 16629, ' 사진 저희가 정렬을 유저가 원하는 3가지 방법(저렴한 가격순, 최신순, ~~순)으로 할 수 있도록 하고자 합니다.다만 descending을 no로 하면 2개의 정렬은 잘 되는데 나머지 하나의 정렬은 반대로 되더라구요(예를들면 저렴한순인데 비싼순으로 정렬이 되는….)그렇다고 yes를 하면 2개가 반대로 1개가 제대로 정렬이 되고 있는데 어떻게하면 이 문제를 해결할 수 있을까요..?': 16642, ' 사진 이렇게 했는데 아예 리스트 자체가 안뜨네요dynamic field name에는 조건식이 아니라 그냥 field name만 들어가야 하는가 싶기도 하네요 혹시 문형님이 말씀하신 방법이 이게 아닐까요..?': 16647, \" 가게 DB의 pickup_start(이번)과 - 좌측 흰색 텍스트특정 가게 필터링을 위한 시간데이터 인풋value, group filter's pick_start - 우측 파란색 텍스트둘다 시간만 저장하는 data field를 새로 만들어서 한다는 말씀으로 이해하면 될까요?\": 16652, ' 이모티콘 현재 이용자가 어느 정도 되나요?? 저도 좋은 서비스 만들어서 많은 사람이 쓰게 하고 싶네요 ㅎㅎ': 16657, ' 결제모듈도 탑재한 거죠?': 16662, ' 디자인도 개인적으로 하신건가요?': 16667, ' 얼마나 걸리셨어요?? 풀스택 개발자 못지않군요..': 16672, ' 사진 선생님들 혹시 버블 테이블 기능, 무한으로 스크롤이 아닌 이런식의 페이지 설정도 가능한가요?': 16676, ' 혹시 버블로 알뜰폰 사이트를 만들수가있나요?': 16702, ' 헐 미쳣당': 16705, ' 오 어떻게 트래킹하세요?': 16721, ' 혁신의 숲은 어떻게 트래픽을 제공해주는건가요?': 16727, ' 선생님들.. 제가 다음 페이지 같은 기능을 지금 유튜브 보고 만들고 있는데요, 사진 page number는 제가 임의로 만든 states 인데..ㅠㅠ 유튜브 보면 안만들고 자동으로 저게 있더라구요 states 에서 넘버로 설정하고 만든 뒤 했을 때 페이지 번호가 보이지가 않네요.. 사진 혹시 page number는 어디서 설정하는 지 알 수 있을까요? 사진 저 아저씨는 states가 왜이렇게 많이 뜨는거죠..?': 16729, ' 현재 버블로는 네이티브 앱은 개발 불가능한 것으로 알고있는데, 프로그레시브나 하이브리드는 웹상에서 정보가 검색되지 않나요..? 모바일앱으로 폐쇄몰을 구축하고 싶은데, 버블로 가능한지 궁금합니다.': 16730, ' 혹시 버블로 RG 가나다순 정렬 구현해보신 분 계실까요?': 16741, ' 안녕하세요! 혹시 버블로 50mb 넘는 용량의 비디오 첨부해보신 분 계신가요? 여기저기서 방법은 나오는데 실제로 작동을 하지 않네요ㅠㅠ': 16742, ' 위에도 비슷한 내용있는데 한글이 잘….안됩니다… 제가 지금 하고 잇는데요, 플레이어는 어떤 걸 쓰시나요?': 16744, ' 혹시 리스트에서 최신순 정렬 하는 방법 뭐라고 쳐야 유튜브에 나올까요?': 16749, ' 무슨 최신순일까요?': 16750, ' 혹시 지금 버블 오류 있는 분 계시나용..? 저희 서버만 오류인건지..': 16752, ' 예약일 기준 최신순이라는 거죠?': 16755, ' 좋은 의견 감사합니다 ㅎㅎ 운영진 회의 때 해당 정책관련 논의해보겠습니다🥰': 16762, ' 와~ 대단하십니다(굿)혹시 이렇게 링크 공유시에 썸네일이 뜨는 건 어디서 세팅을 하는걸까요?버블 자체에서 하는 것인지... 도메인 호스팅 하는 곳에서 설정하는 것인지 궁금합니다~': 16765, ' 사진 혹시 위 사이트처럼우측 플로팅이 잠시 내려갔다가 멈추게 할수 있나요?': 16768, ' gtm설치시 혹시 클릭 트리거 설치하셨을까요~?': 16772, ' 안녕하세요, 좋은 아침입니다! Toss로 빌링 자동결제 기능을 만들고 있는데요, 리트머스 영상보고 똑같이 따라했는데 정기결제 버튼을 누르면 나면 log scheduler에 아무것도 안뜨는데, 왜 안뜨는걸까요…? 사진 3장': 16776, ' billing-success 페이지 workflow에 말하는 only when 조건 말씀하시는거죠? 걸어놓은게 result of step 1 returned and error is no 밖에 없는데요. 이게 정기결제 버튼을 눌렀을떄 payment by billkey 랑 database에 create a new billingpaymentresult workflow까지는 잘 되는데, 이 2개 workflow 다음에 뭐 안넣어도 되나요?': 16780, ' 토스페이먼츠 연동하신 분들 중에 오늘 오류나신 분 계신가요? 저희 팀은 오류 나서 고민이네요ㅠㅠ': 16782, ' 안녕하세요 . 버블로 웹사이트를 호스팅 하면 한달에 계속 25달러를 내야한다고 알 고 있습니다. 25달러 까지는 감당 가능할거 같은데, 만약에 트래픽이 증거하거나 해서 요금 폭탄을 맞을 수 있다고도 들었는데 진짜일까요..  ?': 16783, ' 선규님은 어떤 서비스인지 한 번 여쭤봐도될까요 ?': 16787, ' 혹시 레거시 요금제 쓰시나요?': 16799, ' 모두싸인은 api연동비 안 받나요? 모두싸랑 이랑  ga gtm어떻게 하셨는지 무지 궁금하네요 너무 잘 만드셨어요': 16811, ' 혹시 네이버 지도 api 연동에 성공하신 분들 있나요?초기 설정 자체를 어떻게 해야할지 모르겠네요.관련 정보나 글이 있다면, 도움을 요청드립니다.': 16814, ' 혹시 노코드 관련 정보 사이트나 커뮤니티 사이트 더 아시는분 있을까요?': 16816, ' 넵 그럼 메뉴를 먼저 버블에 등록해서 unique id가 만들어지면 다시 내려받고, 식당 csv 파일에 unique id를 매핑해줘야 되는거죠? 아 아니면 자체 id를 만들어서 업로드하고 버블에서 unique id로 다시 매핑해줘도 될 것 같네요 감사합니다': 16823, ' 혹시 구글 로그인을 통해 고객의 인증된 핸드폰 번호를 가지고 올 수 있을까요~?': 16825, ' 저 repeating groupdml type of content가 User인건가요?': 16829, ' 버블로도 줌같은 화상미팅도 가능한가요?': 16839, ' 언제부터였는지... Delete app이 보이질 않는데... 어떻게 된건지 아실까요? ^^;;': 16840, ' 혹시 버블에서는 루트경로에 파일을 업로드 하는 방법은 없나여~?': 16841, ' 안녕하세요! 버블에서 토스 모바일 인증 서비스도 이용하시는 분 계신가요~?! 버블에서 토스결제는 많이 본 것 같은데 모바일 인증은 보지 못한 것 같아서요!': 16843, ' 사진 선생님들 혹시 버블도 이렇게 선택 시 간단하게 날짜 선택할 수 있는 기능이 있나요?': 16848, ' 안녕하세요! 혹시 여기 계신 선배님들은 휴대폰 본인인증 서비스는 어디 이용하고 계실까요~?nice 평가 정보를 오늘 알아봤는데 단가가 너무나도 높네욤..ㄷㄷ': 16851, ' 아이핀 해야하는 이유가 있나요?': 16854, ' 버블에서 금지어 사전 같은거 적용할수 있나여? 예컨대 유저가 입력한 내용중에 욕이 있으면 등록 못하게 하려면 어떻게 해야하는지?': 16872, ' 혹시 지금 버블 되시나요…?! 사진': 16874, ' 지금 버블 안되죠??': 16875, ' 이번 업데이트로 플로팅 그룹이 다른 그룹 내부에 있지 못하고 페이지 바로 아래에 있도록 바뀐 것 같습니다. 혹시 이 부분은 어떻게 다시 구현해야 할까요..?': 16879, ' 사진 도메인 등록 중인데, 한시간이 넘었는데 계속 이러네요.혹시 정상적인 부분일까요?그리고 위 value와 아래 value가 달라 추가해야할까요?': 16888, ' 버블 세팅에 있을까요?': 16892, ' 위에서 인증 관련 비용 말씀해주셨는데, 혹 다른 빌더 써도 그런 비용은 동일한가요 ?': 16895, ' 백인재님, 혹시파이어베이스 세팅은 어디서 확인 할 수 있을까요?': 16896, ' 사진 여기 맞을까요?': 16898, ' 혹시 버블 웹플로우랑도 연동이 되나요??': 16905, ' 안녕하세요. 좋은 아침입니다.혹시 sendgrid 외에 추천해주실만한 메일 마케팅 솔루션이 있을까요? 버블 앱 데이터와 연동하여 사용 계획입니다 ±': 16910, ' 안녕하세요 앱스토어에서 앱을 업데이트 하려고 하는데 언제부터인가 판매준비됨이 아니라 배포준비됨으로만 뜨더라구요..혹시 저와 비슷한 경험을 하셨던 분 계실까요? 사진': 16913, ' 안녕하세요. 선배님들!궁금한점이 있습니다.버블로 프론트엔드하고 백엔드를 코드로 할 수 있을까요? *할 수 있는 방법이 있을까요?': 16914, ' 선배님들 감사합니다! 백엔드개발가 있어서요! 혹시 더 빠른 방법으로 구현할 수 있을까해서요 ㅠㅠ': 16917, ' 혹시 그 작업물이 많아서 좀 버벅이는 느낌도 있는데 이건 어떻게 해결 할 수 있나요?': 16925, ' 안녕하세요. 여쭤볼 게 있습니다.혹시, 버블로 만든 홈페이지,, 출력 기능 넣을 수 있나요?': 16927, ' 안녕하세요, 혹시 버블/노코드로 정기결제를 구현할 때 가장 가성비 좋은 방법이 어떤걸까요?토스페이먼츠는 가입비가 22만원 들어가더라구요 ㅠ': 16932, ' 안녕하세요, 혹시 버블에서 데이터 타입안에 특정필드가 다른타입을 리스트로 가져올때, 이때 해당 필드(다른 타입의 리스트로 되어있는)를 make changes to thing으로 해당 리스트의 내역을 add하거나 remove 가능한걸까요?': 16944, ' 포트원은 어떤가요?': 16946, ' 페이앱 플러그인은 공개 되어 있진 않은거죠?': 16947, ' 혹시 버블 외주개발하시는분 계실까요?': 16962, ' 카톡 어떻게 드리면 될까요?': 16964, ' 광고인가요': 16976, ' 오 근데 저도 완전 필요한 기능들이었는데.. 공유 감사해욬ㅋㅋ': 16981, ' 이거 근데 어떻게 구매하는건가요? 메일 보내면 되는거예요?ㅎ': 16984, ' 선생님들 회원가입 후 앱 데이터에서 확인하려고 하는데 왜 아무것도 안뜨는 걸까요? Privacy에서 모든 규칙은 삭제했는데 ㅠ.ㅠ 똑같은 이메일로 다시 가입하니 이미 가입된 이메일이라고 뜨는 거 보니 데이터는 잘 저장된 거 같거든요..': 17002, ' 보고 계신 디비가 데브인지 라이브인지 확인 해 보시길??': 17003, ' 데브가 뭔가요...?': 17004, ' 명성님 노션박스만드신분인가요?': 17006, ' 네 안녕하세요 어떻게 지냈어요': 17019, ' 대단하시네요혹시 IP도 받을 수 있나요?user agent에 설명에는 있는거 같은데 궁금합니다 @이명성 / 버블박스': 17024, ' 안녕하세요. 제작 중이던 서비스 이름이 변경되면서 앱 이름을 바꾸려고 하는데 아무리 찾아봐도 어디서 바꿀 수 있는 건지 안 보여서 혹시 아시는 분 계신가요?': 17033, ' 지금 버블 문제있는거 같은데 동일 증상이신분 있으신가요?': 17044, ' 혹시 버블 증상이 로딩이 오래 걸리는거 말씀하시나용 저도 지금 버블이 안켜져용ㅋㅋ': 17045, ' 뻗은거 같은데... 거의 30분 되어가네요. 레거시 요금제 쓰시나요?': 17046, ' 혹시 포스기 소리를 제작 혹은 외주를 맡겨보신 경험이 있는 분 이곳에 계실까요?  배달의 민족 주문과 같은 소리를 제작하고 싶은데 어디서 해야 할지 모르겠네요,,,': 17051, ' 안녕하세요 혹시 버블 공부하시는분 계신가요?': 17054, ' Workflow error - List at maximum length (10000)겪겨나 해결해보신 분 계신가요?': 17058, ' \\'You have exceeded the email rate limit of 20 email destinations per day.  To continue sending, please install a custom SendGrid key\"회원 가입시 임시번호를 발송하여 인증번호를 넣고 있는데 이런메세지가 뜨고잊어버린 비번 재설정 변경시에도 위와 같은 메세지가 뜨는데버블은 하루에 20개만 메일발송이 되는건가요?': 17073, ' 안녕하세요 :)연휴 잘 보내고 계신가요~? 타 커뮤니티에서 1인 창업과 노코드(버블)와 관련된 인터뷰를 하여서 여기도 공유드려봅니다!': 17074, ' 기존의 팝업창은 위치조절이 안되는데, 혹시 위아래 조절도 가능한 팝업창이 있는 플러그인을 아시는분 계시나요?ㅠㅠ': 17078, ' no로 체크가 되어 있게 했고, 그렇게 되면 튜토리얼 화면으로 넘어가게 만들었는데 그 화면에서는 그룹 포커스를 어떤걸 클릭하면 3개가 동시에 띄우게 하고 싶은데 show element에서 찾아보면 되나요?': 17100, ' ·모노데이 언제하나요????': 17102, ' 어디서 신청하면 되나요?': 17110, ' 비용은 얼마일까요? 괜찮으면 저도 들어보고싶네요 ㅎㅅ': 17113, ' 버블은 따로 강의같은 게 없나요? 찾아도 잘 안나오긴 하던데 ㅠ': 17114, ' 혹시강의시간대는 어떻게 될까요': 17119, ' 사진 ncloud 로 알림톡 설정중에 있는데요! 혹시 요 2개 차이점 아시는 선배님 계실까요~? 해당 부분은 강조 유형에 > 아이템 리스트 형 입니다!': 17120, ' 정보 구조나 와이어 프레임을 그릴 때 보통 피그마를 쓰시는 분이 많은데 한글로 된 프로그램이 있을까요????': 17123, ' 항상 좋은 플러그인 배포해주셔서 감사합니다!혹시 네이버검색 플러그인은 무엇인지 알 수 있을까요? ㅎㅎ뭔가 기대되서요~!': 17127, ' 사진 이거 번역 글자가 겹치는데 어떻게 하나요???': 17129, ' 안녕하세요! 혹시 카카오 알림톡을 통해 자사 홈페이지로 유입될 경우 (로그인필요정보일경우) 로그인이 다들 유지가 되실까요~?': 17131, '  아하 혹시 종료하고 일수가 지나셔도 유지가 되셨을까요? 대략 하루? 이틀 정도가 지나도 유지가 되셨는지 궁금합니다ㅎ': 17133, ' 홈페이지 정책마다 다를수 있지만어지간하면 될 거 같은데요혹시나나만 안 된다 생각되시면 브라우저 인터넷 옵션에페이지 나갈때 쿠키 정보 등 지우기로 설정한거 아닌지 보셔요': 17134, ' 혹시 버블 공식 모바일 서비스 대략적으로 언제쯤 베타테스트 시작될지 대략적으로라도 알고 계신 분 계실까요? 공식 서비스 출시 예정때문에 네이티블리 1년 연장을 할지, 월간 결제로 변경할지 고민이 되네요': 17137, ' 아 그렇군요! 혹시 버블에서 토큰 유지할 수 있는 설정이 있나요? (이게 인앱브라우저 로그인 유지 시간이랑 직접적인 관련이 또한 있는지 궁금합니당 ㅎㅎ)': 17138, ' 지금 워크로드 급증 경고 떴는데 이거 무시해도 되나요?ㅎ': 17147, ' 이게 날짜가 언제인건지가 정확하지 않은데 혹시 언제 하는건가요?': 17153, ' 온라인이죠?': 17155, ' 그게 아니라 POST 가 endpoint가 들어가는 이유가 있을까요?': 17168, ' 제가 일단 잘못 전달드린 것 같아요 아까 말씀주신 부분에서 힌트를 얻어서 혹시나 놓친게 있나해서 로직을 copy and paste 해서 현재 부분은 잘 작동이 되거든요! 요건 어떤 말씀이신지 설명을 보태주실 수 있으실까요! (제가 이쪽 배경 지식이 약해서요 ㅎㅎ)': 17169, ' Natively로 push notification 해 보신분 계신가요? 사진 user signle로 특정 인원(1명)에게 보내고 싶은데 , 왜 데이터 소스에서는 Player IDs(복수)로 되어서 어떻게 특정인원을 특정하는게 좋은지 궁금합니다.아시는 분 알려주시면 감사하겠습니다 ㅜㅜ': 17174, ' 이렇게 하면 누구한테 보내지는건가요?': 17176, ' current user 가 아닌 , A라는 유저에게 보낼때는 어떻게 하면 좋을까요? single user에게 보내는 기능인데 , LIST로만 보내질 수 있도록 설정이 되어 있어서 어떻게 single user에게 설정을 해야하는지 모르겠습니다 ㅜㅜ': 17178, ' Hi ☺️': 17184, ' 혹시 버블 외주하시는분도 계시나요?': 17185, ' 이거 화면을 1440으로 무조건 유저들도 고정시켜서 튜토리얼을 보게 하고 싶은데 어떻게 해야 화면을 1440으로 고정시킬 수 있나요?': 17194, ' 혹시 버블로 Web, IOS, Android 모든 플랫폼에서 작동하는 어플리케이션을 제작하려면1. Web App 형태로 반응형 디자인을 한 bubble app 제작2. ios, andrid 앱으로 배포 가능한 서드파티 사용하여 배포이 두 단계를 거치면 웹으로도 접근 가능하고, 앱으로 설치도 가능한 형태가 되는게 맞을까요?': 17209, ' 사진 하단에 이거 없애는 방법이 있나요? 카피라이트 제작하려는데 아래에서 자꾸 걸리네용 ㅠㅠ': 17215, \" 혹시 월에서 주차수를 number로 데이터를 뽑을 수 있을까요~?예를 들어서 오늘 날짜가 4월 17일이라서 4월 3주차니까 '3'이라는 데이터로요!혹시 아시는 분 계실까요~?\": 17220, ' 버블에서 성인인증을 추가할 방법이 있을까요?': 17226, ' │커뮤니티│모두의노코드│모두를 위한 노코드 빌딩 포럼 커뮤니티 -': 17228, ' 안녕하세요! 버블을 써보려고 하는데요 궁금한 점이 있습니다! 버블로 구축할때 검색조건을 다양하게 해서 검색하는게 가능한지요?텍스트 키워드 + 날짜 조합 + 기타 선택형 옵션해서 검색하는게 가능할까용?': 17231, ' 사진 안녕하세요~혹시 스케줄에 예약된 항목에 대한 정보를 버블 front단에서 가지고 올 수 있는 방법이 있을까요~?': 17233, ' 오 답변 감사합니다!혹시 버블 말고도 다른 웹빌더들도 이런 검색 기능이 가능한 곳이 있을까요? 버블로 만들어진 사이트들이 체감상 좀 느린 것 같아서요 ㅠ.ㅠ': 17234}\n"
          ]
        }
      ],
      "source": [
        "#카카오톡 대화내용을 데이터프레임으로 받기\n",
        "df = pd.read_csv(file_path)\n",
        "\n",
        "#질문 딕셔너리, 답변 목록 리스트(이중 리스트) 생성\n",
        "questions, answer_lists = {}, []\n",
        "\n",
        "#질문으로 판별된 텍스트를 새 데이터프레임으로 생성\n",
        "df_question = df[df['label'] == 'question']\n",
        "\n",
        "print(df_question)\n",
        "#새 데이터프레임의 index, text를 question 딕셔너리에 저장\n",
        "questions = {text : index for (index, text) in zip(df_question.index, df_question['text'])}\n",
        "print(questions)"
      ]
    },
    {
      "cell_type": "code",
      "source": [
        "# Ensure using GPU\n",
        "device = torch.device(\"cuda\" if torch.cuda.is_available() else \"cpu\")\n",
        "print(device)\n",
        "model = finetuned_model.to(device)\n",
        "tokenizer = finetuned_tokenizer"
      ],
      "metadata": {
        "id": "yyaMglos92s_",
        "colab": {
          "base_uri": "https://localhost:8080/"
        },
        "outputId": "3243febe-3d49-4700-91fa-7414ffe26687"
      },
      "execution_count": null,
      "outputs": [
        {
          "output_type": "stream",
          "name": "stdout",
          "text": [
            "cuda\n"
          ]
        }
      ]
    },
    {
      "cell_type": "code",
      "execution_count": null,
      "metadata": {
        "id": "IfFU5ST9Nyau",
        "colab": {
          "base_uri": "https://localhost:8080/"
        },
        "outputId": "d58c4bd4-d830-441d-f77b-dc1ad36bd02a"
      },
      "outputs": [
        {
          "output_type": "stream",
          "name": "stderr",
          "text": [
            "Processing Answer to Question: 100%|██████████| 17242/17242 [09:33<00:00, 30.07it/s]\n"
          ]
        }
      ],
      "source": [
        "#중복 질문 제거를 동시에 수행하기 위한 새로운 알고리즘\n",
        "\n",
        "#실험을 위한 하이퍼파라미터 설정\n",
        "#후보군으로 삼을 텍스트 개수 범위\n",
        "text_range = 20\n",
        "#답변 목록에 추가할지 기준이 되는 레이블값\n",
        "standard = 0.5\n",
        "\n",
        "#질문-답변 쌍 딕셔너리 생성\n",
        "qa_pair_dictionary = {index : {'질문' : question, '답변' : []} for index, question in zip(df_question.index, df_question['text'])}\n",
        "\n",
        "#질문 속 질문인지 판별할 때 사용할 불리언\n",
        "in_question_texts = False\n",
        "\n",
        "all_texts = {index : item for index, item in zip(df.index, df['text'])}\n",
        "\n",
        "for index, item in tqdm(all_texts.items(), desc = 'Processing Answer to Question'):\n",
        "\n",
        "  candidate_qa_list = [] #현재 텍스트의 소속을 판정할 (질문-답변 딕셔너리) 리스트\n",
        "  candidate_qa_index_list = []\n",
        "  in_question_texts = True if df.iloc[index]['label'] == 'question' else False #판별할 텍스트가 질문인지 검사\n",
        "\n",
        "  start = 0 if index < 20 else index - text_range - 1 #인덱스가 20 미만일 경우 검사 범위 조정\n",
        "  for i in range(start, index): #현재 텍스트가 소속될 질문의 범위\n",
        "    candidate = qa_pair_dictionary.get(i, None) #qa_pair_dictionary에서 i 인덱스에 해당하는 질답 딕셔너리 가져오기\n",
        "    if candidate != None:\n",
        "      candidate_qa_list.append(candidate) #결과 리스트에서 최대 확률인 질문을 인덱싱하기 위해 인덱스를 포함한 딕셔너리를 append\n",
        "      candidate_qa_index_list.append(i)\n",
        "\n",
        "  if len(candidate_qa_list) == 0:\n",
        "    continue\n",
        "\n",
        "  #데이터를 튜플로 묶은 뒤 배치처리\n",
        "  batched_data = [(qa_dict['질문'] + ' '.join(qa_dict['답변']), item) for qa_dict in candidate_qa_list]\n",
        "  inputs = tokenizer(batched_data, padding = True, truncation = True, return_tensors = 'pt')\n",
        "  inputs = {k: v.to(device) for k, v in inputs.items()}\n",
        "\n",
        "  with torch.no_grad():\n",
        "    outputs = model(**inputs)\n",
        "    logits = outputs.logits\n",
        "    probabilities = torch.softmax(logits, dim=-1)\n",
        "\n",
        "  outputs = [{'scores' : value, 'index' : index} for value, index in zip(probabilities.tolist(), candidate_qa_index_list)]\n",
        "\n",
        "  # 'scores'의 두 번째 값(연속적인 문장일 확률)에 따라 내림차순으로 정렬\n",
        "  sorted_output = sorted(outputs, key = lambda x : x['scores'][1], reverse=True)\n",
        "\n",
        "  output = sorted_output[0] #텍스트가 소속될 질문\n",
        "\n",
        "  if output['scores'][1] > standard:\n",
        "    #모순이 발생하지 않기 위해서 질문 속 질문으로 판별된 경우 즉시 qa_pair_dictionary에서 해당 질문을 삭제해야 함.\n",
        "    if in_question_texts == True:\n",
        "        del qa_pair_dictionary[index]\n",
        "\n",
        "    qa_pair_dictionary[output['index']]['답변'].append(item)\n",
        "\n",
        "\n",
        "  # print('\\n',qa_pair_dictionary)\n",
        "  # print('\\n',used_question_index)\n"
      ]
    },
    {
      "cell_type": "code",
      "source": [
        "print(qa_pair_dictionary)"
      ],
      "metadata": {
        "id": "LpnLBnCy3qkb"
      },
      "execution_count": null,
      "outputs": []
    },
    {
      "cell_type": "code",
      "source": [
        "data_result= [item for item in qa_pair_dictionary.values()]\n",
        "\n",
        "#결과 데이터를 데이터프레임으로 변환\n",
        "df_result = pd.DataFrame(data = data_result, columns = ['질문', '답변'])"
      ],
      "metadata": {
        "id": "wTt7Iw8W36_V"
      },
      "execution_count": null,
      "outputs": []
    },
    {
      "cell_type": "code",
      "source": [
        "df_result = df_result.rename(columns = {'질문' : 'question', '답변' : 'answer'})"
      ],
      "metadata": {
        "id": "_fO1sF6T39i_"
      },
      "execution_count": null,
      "outputs": []
    },
    {
      "cell_type": "code",
      "source": [
        "print(df_result)"
      ],
      "metadata": {
        "colab": {
          "base_uri": "https://localhost:8080/"
        },
        "id": "GCw57SD91ZTz",
        "outputId": "dcd6d740-e775-4c6f-aadf-d11be435a492"
      },
      "execution_count": null,
      "outputs": [
        {
          "output_type": "stream",
          "name": "stdout",
          "text": [
            "                                               question  \\\n",
            "0                                                안녕하세요~   \n",
            "1                                                안녕하세요!   \n",
            "2             방 만든지 몇분 만에 들어오셔서 놀랐습니다 ㅎㅎ 노코드 방에서 오신건가요?   \n",
            "3                                                안녕하세요~   \n",
            "4                                         안녕하세요. 버블 전용?   \n",
            "...                                                 ...   \n",
            "3182                                              안녕하세요   \n",
            "3183                           버블에서 성인인증을 추가할 방법이 있을까요?   \n",
            "3184               │커뮤니티│모두의노코드│모두를 위한 노코드 빌딩 포럼 커뮤니티 -   \n",
            "3185   안녕하세요! 버블을 써보려고 하는데요 궁금한 점이 있습니다! 버블로 구축할때 검색...   \n",
            "3186   사진 안녕하세요~혹시 스케줄에 예약된 항목에 대한 정보를 버블 front단에서 가...   \n",
            "\n",
            "                                                 answer  \n",
            "0                                                    []  \n",
            "1                                                    []  \n",
            "2     [ 아 안녕하세요 아니요 검색해서 들어왔습니다,  저는 노코드 관련 활동을 조금 하...  \n",
            "3                                                    []  \n",
            "4                                                    []  \n",
            "...                                                 ...  \n",
            "3182                                                 []  \n",
            "3183                                                 []  \n",
            "3184                                                 []  \n",
            "3185  [ 오 답변 감사합니다!혹시 버블 말고도 다른 웹빌더들도 이런 검색 기능이 가능한 ...  \n",
            "3186  [ 저도 궁금한데 어차피 schedule도 action에서 넣어서 실행되는 거니깐,...  \n",
            "\n",
            "[3187 rows x 2 columns]\n"
          ]
        }
      ]
    },
    {
      "cell_type": "code",
      "execution_count": null,
      "metadata": {
        "id": "nXT7YkGs1Ede"
      },
      "outputs": [],
      "source": [
        "#.xlsx 파일로 google drive에 저장\n",
        "#long 파일의 경우 illegalcharactererror로 인해서 .csv 파일로 저장하기, short 파일은 오류 발생 X.\n",
        "save_path = '/content/drive/My Drive/judge_answer_result_KcBERT_long.csv'\n",
        "\n",
        "df_result.to_csv(save_path)"
      ]
    }
  ]
}